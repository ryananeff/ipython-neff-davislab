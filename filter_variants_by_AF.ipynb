{
 "metadata": {
  "name": ""
 },
 "nbformat": 3,
 "nbformat_minor": 0,
 "worksheets": [
  {
   "cells": [
    {
     "cell_type": "code",
     "collapsed": false,
     "input": [
      "# sets up the environment - use everytime\n",
      "%matplotlib inline\n",
      "%run ipy_setup.py"
     ],
     "language": "python",
     "metadata": {},
     "outputs": [],
     "prompt_number": 2
    },
    {
     "cell_type": "code",
     "collapsed": false,
     "input": [
      "names = [\"chr1\",\n",
      "        \"chr2\",\n",
      "        \"chr3\",\n",
      "        \"chr4\",\n",
      "        \"chr5\",\n",
      "        \"chr6\",\n",
      "        \"chr7\",\n",
      "        \"chr8\",\n",
      "        \"chr9\",\n",
      "        \"chr10\",\n",
      "        \"chr11\",\n",
      "        \"chr12\",\n",
      "        \"chr13\",\n",
      "        \"chr14\",\n",
      "        \"chr15\",\n",
      "        \"chr16\",\n",
      "        \"chr17\",\n",
      "        \"chr18\",\n",
      "        \"chr19\",\n",
      "        \"chr20\",\n",
      "        \"chr21\",\n",
      "        \"chr22\",\n",
      "        \"chrX\",\n",
      "        \"chrY\", \n",
      "        \"chrM\", \n",
      "        \"chrEBV\"]"
     ],
     "language": "python",
     "metadata": {},
     "outputs": [],
     "prompt_number": 3
    },
    {
     "cell_type": "code",
     "collapsed": false,
     "input": [
      "hapmart = pd.read_csv('/data/projects_gibbons/home/neffra/hapmap/hapmart_rel27_ASW_snps.txt', sep='\\t')"
     ],
     "language": "python",
     "metadata": {},
     "outputs": [],
     "prompt_number": 4
    },
    {
     "cell_type": "code",
     "collapsed": false,
     "input": [
      "majhapmart = hapmart[hapmart['other allele frequency'] > 0.5]\n",
      "majhapmart['chromosome_n']=[i[3:] for i in majhapmart['chromosome']]"
     ],
     "language": "python",
     "metadata": {},
     "outputs": [],
     "prompt_number": 5
    },
    {
     "cell_type": "code",
     "collapsed": false,
     "input": [
      "majhapmart = majhapmart.sort(columns=['chromosome_n','position'])"
     ],
     "language": "python",
     "metadata": {},
     "outputs": [],
     "prompt_number": 6
    },
    {
     "cell_type": "code",
     "collapsed": false,
     "input": [
      "hapmart_maj_out=open('/data/projects_gibbons/home/neffra/hapmap/hapmap_r27_majority_SNPs.vcf','w')\n",
      "for a,i in majhapmart.iterrows():\n",
      "    line=[i[4],i[5],'.',i[0],i[1],'.','PASS','AF=' + str(i[3])]\n",
      "    line = [str(z) for z in line]\n",
      "    hapmart_maj_out.write('\\t'.join(line) + '\\n')\n",
      "hapmart_maj_out.close()"
     ],
     "language": "python",
     "metadata": {},
     "outputs": [],
     "prompt_number": 7
    },
    {
     "cell_type": "code",
     "collapsed": false,
     "input": [
      "# sets up the parallel environment - use everytime\n",
      "%run ipy_parallel.py"
     ],
     "language": "python",
     "metadata": {},
     "outputs": [
      {
       "output_type": "stream",
       "stream": "stdout",
       "text": [
        "importing defaultdict from collections on engine(s)\n",
        "importing json on engine(s)\n",
        "importing sys on engine(s)\n",
        "importing numpy on engine(s)\n",
        "importing scipy on engine(s)\n",
        "importing matplotlib.pyplot on engine(s)\n",
        "importing pandas on engine(s)"
       ]
      },
      {
       "output_type": "stream",
       "stream": "stdout",
       "text": [
        "\n",
        "importing rcParams from matplotlib on engine(s)\n",
        "importing matplotlib.cm on engine(s)\n",
        "importing matplotlib on engine(s)\n",
        "importing Bio on engine(s)\n",
        "importing HTSeq on engine(s)\n"
       ]
      }
     ],
     "prompt_number": 68
    },
    {
     "cell_type": "code",
     "collapsed": false,
     "input": [
      "#num = subprocess.check_output('cat /data/projects_gibbons/home/neffra/completed_h38_vcfs_071514/63samples_combinedgenotyping.vcf.only_snps.VQSRed.vcf | grep \"#\" | wc -l', shell=True)\n",
      "filewithoutAF = pd.read_csv('/data/projects_gibbons/home/neffra/completed_h38_vcfs_071514/63samp_snps_correctfiltered.vcf', header=None, sep='\\t', skiprows=68)"
     ],
     "language": "python",
     "metadata": {},
     "outputs": [],
     "prompt_number": 4
    },
    {
     "cell_type": "code",
     "collapsed": false,
     "input": [
      "''' \n",
      "works - filters the VCF file based on allele frequency\n",
      "\n",
      "'''\n",
      "\n",
      "filteredvcf = []\n",
      "pbar = ProgressBar(len(filewithoutAF))\n",
      "t = time.time()\n",
      "for a,i in filewithoutAF[range(9,72)].iterrows():\n",
      "    pbar.animate()\n",
      "    hom_ref = sum([1 for s in list(i) if '0/0' in s])\n",
      "    hom_alt = sum([1 for s in list(i) if '1/1' in s])\n",
      "    hets = sum([1 for s in list(i) if '0/1' in s])\n",
      "    if (hom_ref + hom_alt + hets != 0):\n",
      "        if float(hom_alt*2+hets)/float((hom_ref+hom_alt+hets)*2) >= 0.5: # allele frequency greater than this amount is kept\n",
      "            #if (hwe_test(obs_hets, obs_hom1, obs_hom2) > 0.05): # for HWE-based filtering\n",
      "            filteredvcf.append(filewithoutAF.ix[a])"
     ],
     "language": "python",
     "metadata": {},
     "outputs": [
      {
       "output_type": "stream",
       "stream": "stdout",
       "text": [
        " \r",
        "[                  0%                  ]"
       ]
      },
      {
       "output_type": "stream",
       "stream": "stdout",
       "text": [
        " \r",
        "[                  0%                  ]  1 of 3176590 complete Elapsed: 0.1 minutes\t Remaining: 248476.0 minutes"
       ]
      },
      {
       "output_type": "stream",
       "stream": "stdout",
       "text": [
        " \r",
        "[                  0%                  ]  2899 of 3176590 complete Elapsed: 0.1 minutes\t Remaining: 113.0 minutes"
       ]
      },
      {
       "output_type": "stream",
       "stream": "stdout",
       "text": [
        " \r",
        "[                  0%                  ]  5873 of 3176590 complete Elapsed: 0.1 minutes\t Remaining: 69.2 minutes"
       ]
      },
      {
       "output_type": "stream",
       "stream": "stdout",
       "text": [
        " \r",
        "[                  0%                  ]  8839 of 3176590 complete Elapsed: 0.2 minutes\t Remaining: 54.9 minutes"
       ]
      },
      {
       "output_type": "stream",
       "stream": "stdout",
       "text": [
        " \r",
        "[                  0%                  ]  11568 of 3176590 complete Elapsed: 0.2 minutes\t Remaining: 48.8 minutes"
       ]
      },
      {
       "output_type": "stream",
       "stream": "stdout",
       "text": [
        " \r",
        "[                  0%                  ]  14778 of 3176590 complete Elapsed: 0.2 minutes\t Remaining: 43.5 minutes"
       ]
      },
      {
       "output_type": "stream",
       "stream": "stdout",
       "text": [
        " \r",
        "[                  1%                  ]  17702 of 3176590 complete Elapsed: 0.2 minutes\t Remaining: 40.7 minutes"
       ]
      },
      {
       "output_type": "stream",
       "stream": "stdout",
       "text": [
        " \r",
        "[                  1%                  ]  21270 of 3176590 complete Elapsed: 0.3 minutes\t Remaining: 37.6 minutes"
       ]
      },
      {
       "output_type": "stream",
       "stream": "stdout",
       "text": [
        " \r",
        "[                  1%                  ]  24145 of 3176590 complete Elapsed: 0.3 minutes\t Remaining: 36.3 minutes"
       ]
      },
      {
       "output_type": "stream",
       "stream": "stdout",
       "text": [
        " \r",
        "[                  1%                  ]  26873 of 3176590 complete Elapsed: 0.3 minutes\t Remaining: 35.6 minutes"
       ]
      },
      {
       "output_type": "stream",
       "stream": "stdout",
       "text": [
        " \r",
        "[                  1%                  ]  29569 of 3176590 complete Elapsed: 0.3 minutes\t Remaining: 34.9 minutes"
       ]
      },
      {
       "output_type": "stream",
       "stream": "stdout",
       "text": [
        " \r",
        "[                  1%                  ]  32514 of 3176590 complete Elapsed: 0.4 minutes\t Remaining: 34.2 minutes"
       ]
      },
      {
       "output_type": "stream",
       "stream": "stdout",
       "text": [
        " \r",
        "[                  1%                  ]  35253 of 3176590 complete Elapsed: 0.4 minutes\t Remaining: 33.7 minutes"
       ]
      },
      {
       "output_type": "stream",
       "stream": "stdout",
       "text": [
        " \r",
        "[                  1%                  ]  37963 of 3176590 complete Elapsed: 0.4 minutes\t Remaining: 33.4 minutes"
       ]
      },
      {
       "output_type": "stream",
       "stream": "stdout",
       "text": [
        " \r",
        "[                  1%                  ]  40925 of 3176590 complete Elapsed: 0.4 minutes\t Remaining: 32.8 minutes"
       ]
      },
      {
       "output_type": "stream",
       "stream": "stdout",
       "text": [
        " \r",
        "[                  1%                  ]  43783 of 3176590 complete Elapsed: 0.5 minutes\t Remaining: 32.4 minutes"
       ]
      },
      {
       "output_type": "stream",
       "stream": "stdout",
       "text": [
        " \r",
        "[                  1%                  ]  46811 of 3176590 complete Elapsed: 0.5 minutes\t Remaining: 32.0 minutes"
       ]
      },
      {
       "output_type": "stream",
       "stream": "stdout",
       "text": [
        " \r",
        "[*                 2%                  ]  49794 of 3176590 complete Elapsed: 0.5 minutes\t Remaining: 31.6 minutes"
       ]
      },
      {
       "output_type": "stream",
       "stream": "stdout",
       "text": [
        " \r",
        "[*                 2%                  ]  52669 of 3176590 complete Elapsed: 0.5 minutes\t Remaining: 31.3 minutes"
       ]
      },
      {
       "output_type": "stream",
       "stream": "stdout",
       "text": [
        " \r",
        "[*                 2%                  ]  55644 of 3176590 complete Elapsed: 0.6 minutes\t Remaining: 31.0 minutes"
       ]
      },
      {
       "output_type": "stream",
       "stream": "stdout",
       "text": [
        " \r",
        "[*                 2%                  ]  58122 of 3176590 complete Elapsed: 0.6 minutes\t Remaining: 31.0 minutes"
       ]
      },
      {
       "output_type": "stream",
       "stream": "stdout",
       "text": [
        " \r",
        "[*                 2%                  ]  60994 of 3176590 complete Elapsed: 0.6 minutes\t Remaining: 30.8 minutes"
       ]
      },
      {
       "output_type": "stream",
       "stream": "stdout",
       "text": [
        " \r",
        "[*                 2%                  ]  63935 of 3176590 complete Elapsed: 0.6 minutes\t Remaining: 30.6 minutes"
       ]
      },
      {
       "output_type": "stream",
       "stream": "stdout",
       "text": [
        " \r",
        "[*                 2%                  ]  66888 of 3176590 complete Elapsed: 0.7 minutes\t Remaining: 30.4 minutes"
       ]
      },
      {
       "output_type": "stream",
       "stream": "stdout",
       "text": [
        " \r",
        "[*                 2%                  ]  69680 of 3176590 complete Elapsed: 0.7 minutes\t Remaining: 30.3 minutes"
       ]
      },
      {
       "output_type": "stream",
       "stream": "stdout",
       "text": [
        " \r",
        "[*                 2%                  ]  72456 of 3176590 complete Elapsed: 0.7 minutes\t Remaining: 30.1 minutes"
       ]
      },
      {
       "output_type": "stream",
       "stream": "stdout",
       "text": [
        " \r",
        "[*                 2%                  ]  75311 of 3176590 complete Elapsed: 0.7 minutes\t Remaining: 30.0 minutes"
       ]
      },
      {
       "output_type": "stream",
       "stream": "stdout",
       "text": [
        " \r",
        "[*                 2%                  ]  78150 of 3176590 complete Elapsed: 0.8 minutes\t Remaining: 29.9 minutes"
       ]
      },
      {
       "output_type": "stream",
       "stream": "stdout",
       "text": [
        " \r",
        "[*                 3%                  ]  80455 of 3176590 complete Elapsed: 0.8 minutes\t Remaining: 30.0 minutes"
       ]
      },
      {
       "output_type": "stream",
       "stream": "stdout",
       "text": [
        " \r",
        "[*                 3%                  ]  83358 of 3176590 complete Elapsed: 0.8 minutes\t Remaining: 29.8 minutes"
       ]
      },
      {
       "output_type": "stream",
       "stream": "stdout",
       "text": [
        " \r",
        "[*                 3%                  ]  86199 of 3176590 complete Elapsed: 0.8 minutes\t Remaining: 29.7 minutes"
       ]
      },
      {
       "output_type": "stream",
       "stream": "stdout",
       "text": [
        " \r",
        "[*                 3%                  ]  89028 of 3176590 complete Elapsed: 0.9 minutes\t Remaining: 29.6 minutes"
       ]
      },
      {
       "output_type": "stream",
       "stream": "stdout",
       "text": [
        " \r",
        "[*                 3%                  ]  91901 of 3176590 complete Elapsed: 0.9 minutes\t Remaining: 29.5 minutes"
       ]
      },
      {
       "output_type": "stream",
       "stream": "stdout",
       "text": [
        " \r",
        "[*                 3%                  ]  94590 of 3176590 complete Elapsed: 0.9 minutes\t Remaining: 29.4 minutes"
       ]
      },
      {
       "output_type": "stream",
       "stream": "stdout",
       "text": [
        " \r",
        "[*                 3%                  ]  97384 of 3176590 complete Elapsed: 0.9 minutes\t Remaining: 29.4 minutes"
       ]
      },
      {
       "output_type": "stream",
       "stream": "stdout",
       "text": [
        " \r",
        "[*                 3%                  ]  100078 of 3176590 complete Elapsed: 1.0 minutes\t Remaining: 29.3 minutes"
       ]
      },
      {
       "output_type": "stream",
       "stream": "stdout",
       "text": [
        " \r",
        "[*                 3%                  ]  103204 of 3176590 complete Elapsed: 1.0 minutes\t Remaining: 29.1 minutes"
       ]
      },
      {
       "output_type": "stream",
       "stream": "stdout",
       "text": [
        " \r",
        "[*                 3%                  ]  105294 of 3176590 complete Elapsed: 1.0 minutes\t Remaining: 29.3 minutes"
       ]
      },
      {
       "output_type": "stream",
       "stream": "stdout",
       "text": [
        " \r",
        "[*                 3%                  ]  108175 of 3176590 complete Elapsed: 1.0 minutes\t Remaining: 29.2 minutes"
       ]
      },
      {
       "output_type": "stream",
       "stream": "stdout",
       "text": [
        " \r",
        "[*                 3%                  ]  110869 of 3176590 complete Elapsed: 1.1 minutes\t Remaining: 29.1 minutes"
       ]
      },
      {
       "output_type": "stream",
       "stream": "stdout",
       "text": [
        " \r",
        "[**                4%                  ]  113858 of 3176590 complete Elapsed: 1.1 minutes\t Remaining: 29.0 minutes"
       ]
      },
      {
       "output_type": "stream",
       "stream": "stdout",
       "text": [
        " \r",
        "[**                4%                  ]  116840 of 3176590 complete Elapsed: 1.1 minutes\t Remaining: 28.9 minutes"
       ]
      },
      {
       "output_type": "stream",
       "stream": "stdout",
       "text": [
        " \r",
        "[**                4%                  ]  119588 of 3176590 complete Elapsed: 1.1 minutes\t Remaining: 28.9 minutes"
       ]
      },
      {
       "output_type": "stream",
       "stream": "stdout",
       "text": [
        " \r",
        "[**                4%                  ]  122319 of 3176590 complete Elapsed: 1.2 minutes\t Remaining: 28.8 minutes"
       ]
      },
      {
       "output_type": "stream",
       "stream": "stdout",
       "text": [
        " \r",
        "[**                4%                  ]  125030 of 3176590 complete Elapsed: 1.2 minutes\t Remaining: 28.8 minutes"
       ]
      },
      {
       "output_type": "stream",
       "stream": "stdout",
       "text": [
        " \r",
        "[**                4%                  ]  127741 of 3176590 complete Elapsed: 1.2 minutes\t Remaining: 28.7 minutes"
       ]
      },
      {
       "output_type": "stream",
       "stream": "stdout",
       "text": [
        " \r",
        "[**                4%                  ]  130892 of 3176590 complete Elapsed: 1.2 minutes\t Remaining: 28.6 minutes"
       ]
      },
      {
       "output_type": "stream",
       "stream": "stdout",
       "text": [
        " \r",
        "[**                4%                  ]  133622 of 3176590 complete Elapsed: 1.3 minutes\t Remaining: 28.7 minutes"
       ]
      },
      {
       "output_type": "stream",
       "stream": "stdout",
       "text": [
        " \r",
        "[**                4%                  ]  136429 of 3176590 complete Elapsed: 1.3 minutes\t Remaining: 28.6 minutes"
       ]
      },
      {
       "output_type": "stream",
       "stream": "stdout",
       "text": [
        " \r",
        "[**                4%                  ]  139287 of 3176590 complete Elapsed: 1.3 minutes\t Remaining: 28.5 minutes"
       ]
      },
      {
       "output_type": "stream",
       "stream": "stdout",
       "text": [
        " \r",
        "[**                4%                  ]  142341 of 3176590 complete Elapsed: 1.3 minutes\t Remaining: 28.4 minutes"
       ]
      },
      {
       "output_type": "stream",
       "stream": "stdout",
       "text": [
        " \r",
        "[**                5%                  ]  145197 of 3176590 complete Elapsed: 1.4 minutes\t Remaining: 28.4 minutes"
       ]
      },
      {
       "output_type": "stream",
       "stream": "stdout",
       "text": [
        " \r",
        "[**                5%                  ]  148067 of 3176590 complete Elapsed: 1.4 minutes\t Remaining: 28.3 minutes"
       ]
      },
      {
       "output_type": "stream",
       "stream": "stdout",
       "text": [
        " \r",
        "[**                5%                  ]  150933 of 3176590 complete Elapsed: 1.4 minutes\t Remaining: 28.2 minutes"
       ]
      },
      {
       "output_type": "stream",
       "stream": "stdout",
       "text": [
        " \r",
        "[**                5%                  ]  153954 of 3176590 complete Elapsed: 1.4 minutes\t Remaining: 28.1 minutes"
       ]
      },
      {
       "output_type": "stream",
       "stream": "stdout",
       "text": [
        " \r",
        "[**                5%                  ]  156954 of 3176590 complete Elapsed: 1.5 minutes\t Remaining: 28.1 minutes"
       ]
      },
      {
       "output_type": "stream",
       "stream": "stdout",
       "text": [
        " \r",
        "[**                5%                  ]  159639 of 3176590 complete Elapsed: 1.5 minutes\t Remaining: 28.0 minutes"
       ]
      },
      {
       "output_type": "stream",
       "stream": "stdout",
       "text": [
        " \r",
        "[**                5%                  ]  162570 of 3176590 complete Elapsed: 1.5 minutes\t Remaining: 28.0 minutes"
       ]
      },
      {
       "output_type": "stream",
       "stream": "stdout",
       "text": [
        " \r",
        "[**                5%                  ]  165357 of 3176590 complete Elapsed: 1.5 minutes\t Remaining: 27.9 minutes"
       ]
      },
      {
       "output_type": "stream",
       "stream": "stdout",
       "text": [
        " \r",
        "[**                5%                  ]  168591 of 3176590 complete Elapsed: 1.6 minutes\t Remaining: 27.8 minutes"
       ]
      },
      {
       "output_type": "stream",
       "stream": "stdout",
       "text": [
        " \r",
        "[**                5%                  ]  171381 of 3176590 complete Elapsed: 1.6 minutes\t Remaining: 27.8 minutes"
       ]
      },
      {
       "output_type": "stream",
       "stream": "stdout",
       "text": [
        " \r",
        "[**                5%                  ]  173237 of 3176590 complete Elapsed: 1.6 minutes\t Remaining: 27.9 minutes"
       ]
      },
      {
       "output_type": "stream",
       "stream": "stdout",
       "text": [
        " \r",
        "[**                6%                  ]  176127 of 3176590 complete Elapsed: 1.6 minutes\t Remaining: 27.8 minutes"
       ]
      },
      {
       "output_type": "stream",
       "stream": "stdout",
       "text": [
        " \r",
        "[**                6%                  ]  179180 of 3176590 complete Elapsed: 1.7 minutes\t Remaining: 27.8 minutes"
       ]
      },
      {
       "output_type": "stream",
       "stream": "stdout",
       "text": [
        " \r",
        "[**                6%                  ]  181952 of 3176590 complete Elapsed: 1.7 minutes\t Remaining: 27.7 minutes"
       ]
      },
      {
       "output_type": "stream",
       "stream": "stdout",
       "text": [
        " \r",
        "[**                6%                  ]  184845 of 3176590 complete Elapsed: 1.7 minutes\t Remaining: 27.7 minutes"
       ]
      },
      {
       "output_type": "stream",
       "stream": "stdout",
       "text": [
        " \r",
        "[**                6%                  ]  187658 of 3176590 complete Elapsed: 1.7 minutes\t Remaining: 27.6 minutes"
       ]
      },
      {
       "output_type": "stream",
       "stream": "stdout",
       "text": [
        " \r",
        "[**                6%                  ]  190595 of 3176590 complete Elapsed: 1.8 minutes\t Remaining: 27.6 minutes"
       ]
      },
      {
       "output_type": "stream",
       "stream": "stdout",
       "text": [
        " \r",
        "[**                6%                  ]  193643 of 3176590 complete Elapsed: 1.8 minutes\t Remaining: 27.5 minutes"
       ]
      },
      {
       "output_type": "stream",
       "stream": "stdout",
       "text": [
        " \r",
        "[**                6%                  ]  196438 of 3176590 complete Elapsed: 1.8 minutes\t Remaining: 27.5 minutes"
       ]
      },
      {
       "output_type": "stream",
       "stream": "stdout",
       "text": [
        " \r",
        "[**                6%                  ]  199360 of 3176590 complete Elapsed: 1.8 minutes\t Remaining: 27.4 minutes"
       ]
      },
      {
       "output_type": "stream",
       "stream": "stdout",
       "text": [
        " \r",
        "[**                6%                  ]  202232 of 3176590 complete Elapsed: 1.9 minutes\t Remaining: 27.3 minutes"
       ]
      },
      {
       "output_type": "stream",
       "stream": "stdout",
       "text": [
        " \r",
        "[**                6%                  ]  205166 of 3176590 complete Elapsed: 1.9 minutes\t Remaining: 27.3 minutes"
       ]
      },
      {
       "output_type": "stream",
       "stream": "stdout",
       "text": [
        " \r",
        "[***               7%                  ]  208039 of 3176590 complete Elapsed: 1.9 minutes\t Remaining: 27.2 minutes"
       ]
      },
      {
       "output_type": "stream",
       "stream": "stdout",
       "text": [
        " \r",
        "[***               7%                  ]  210996 of 3176590 complete Elapsed: 1.9 minutes\t Remaining: 27.2 minutes"
       ]
      },
      {
       "output_type": "stream",
       "stream": "stdout",
       "text": [
        " \r",
        "[***               7%                  ]  213879 of 3176590 complete Elapsed: 2.0 minutes\t Remaining: 27.1 minutes"
       ]
      },
      {
       "output_type": "stream",
       "stream": "stdout",
       "text": [
        " \r",
        "[***               7%                  ]  216965 of 3176590 complete Elapsed: 2.0 minutes\t Remaining: 27.1 minutes"
       ]
      },
      {
       "output_type": "stream",
       "stream": "stdout",
       "text": [
        " \r",
        "[***               7%                  ]  219950 of 3176590 complete Elapsed: 2.0 minutes\t Remaining: 27.0 minutes"
       ]
      },
      {
       "output_type": "stream",
       "stream": "stdout",
       "text": [
        " \r",
        "[***               7%                  ]  222195 of 3176590 complete Elapsed: 2.0 minutes\t Remaining: 27.1 minutes"
       ]
      },
      {
       "output_type": "stream",
       "stream": "stdout",
       "text": [
        " \r",
        "[***               7%                  ]  225083 of 3176590 complete Elapsed: 2.1 minutes\t Remaining: 27.1 minutes"
       ]
      },
      {
       "output_type": "stream",
       "stream": "stdout",
       "text": [
        " \r",
        "[***               7%                  ]  228078 of 3176590 complete Elapsed: 2.1 minutes\t Remaining: 27.0 minutes"
       ]
      },
      {
       "output_type": "stream",
       "stream": "stdout",
       "text": [
        " \r",
        "[***               7%                  ]  230816 of 3176590 complete Elapsed: 2.1 minutes\t Remaining: 27.0 minutes"
       ]
      },
      {
       "output_type": "stream",
       "stream": "stdout",
       "text": [
        " \r",
        "[***               7%                  ]  233770 of 3176590 complete Elapsed: 2.1 minutes\t Remaining: 26.9 minutes"
       ]
      },
      {
       "output_type": "stream",
       "stream": "stdout",
       "text": [
        " \r",
        "[***               7%                  ]  236800 of 3176590 complete Elapsed: 2.2 minutes\t Remaining: 26.9 minutes"
       ]
      },
      {
       "output_type": "stream",
       "stream": "stdout",
       "text": [
        " \r",
        "[***               8%                  ]  239712 of 3176590 complete Elapsed: 2.2 minutes\t Remaining: 26.8 minutes"
       ]
      },
      {
       "output_type": "stream",
       "stream": "stdout",
       "text": [
        " \r",
        "[***               8%                  ]  242637 of 3176590 complete Elapsed: 2.2 minutes\t Remaining: 26.8 minutes"
       ]
      },
      {
       "output_type": "stream",
       "stream": "stdout",
       "text": [
        " \r",
        "[***               8%                  ]  245442 of 3176590 complete Elapsed: 2.2 minutes\t Remaining: 26.7 minutes"
       ]
      },
      {
       "output_type": "stream",
       "stream": "stdout",
       "text": [
        " \r",
        "[***               8%                  ]  248363 of 3176590 complete Elapsed: 2.3 minutes\t Remaining: 26.7 minutes"
       ]
      },
      {
       "output_type": "stream",
       "stream": "stdout",
       "text": [
        " \r",
        "[***               8%                  ]  251266 of 3176590 complete Elapsed: 2.3 minutes\t Remaining: 26.7 minutes"
       ]
      },
      {
       "output_type": "stream",
       "stream": "stdout",
       "text": [
        " \r",
        "[***               8%                  ]  254011 of 3176590 complete Elapsed: 2.3 minutes\t Remaining: 26.6 minutes"
       ]
      },
      {
       "output_type": "stream",
       "stream": "stdout",
       "text": [
        " \r",
        "[***               8%                  ]  256998 of 3176590 complete Elapsed: 2.3 minutes\t Remaining: 26.6 minutes"
       ]
      },
      {
       "output_type": "stream",
       "stream": "stdout",
       "text": [
        " \r",
        "[***               8%                  ]  259913 of 3176590 complete Elapsed: 2.4 minutes\t Remaining: 26.5 minutes"
       ]
      },
      {
       "output_type": "stream",
       "stream": "stdout",
       "text": [
        " \r",
        "[***               8%                  ]  262994 of 3176590 complete Elapsed: 2.4 minutes\t Remaining: 26.5 minutes"
       ]
      },
      {
       "output_type": "stream",
       "stream": "stdout",
       "text": [
        " \r",
        "[***               8%                  ]  265853 of 3176590 complete Elapsed: 2.4 minutes\t Remaining: 26.4 minutes"
       ]
      },
      {
       "output_type": "stream",
       "stream": "stdout",
       "text": [
        " \r",
        "[***               8%                  ]  268569 of 3176590 complete Elapsed: 2.4 minutes\t Remaining: 26.4 minutes"
       ]
      },
      {
       "output_type": "stream",
       "stream": "stdout",
       "text": [
        " \r",
        "[***               9%                  ]  271418 of 3176590 complete Elapsed: 2.5 minutes\t Remaining: 26.4 minutes"
       ]
      },
      {
       "output_type": "stream",
       "stream": "stdout",
       "text": [
        " \r",
        "[***               9%                  ]  274260 of 3176590 complete Elapsed: 2.5 minutes\t Remaining: 26.3 minutes"
       ]
      },
      {
       "output_type": "stream",
       "stream": "stdout",
       "text": [
        " \r",
        "[***               9%                  ]  277032 of 3176590 complete Elapsed: 2.5 minutes\t Remaining: 26.3 minutes"
       ]
      },
      {
       "output_type": "stream",
       "stream": "stdout",
       "text": [
        " \r",
        "[***               9%                  ]  279941 of 3176590 complete Elapsed: 2.5 minutes\t Remaining: 26.3 minutes"
       ]
      },
      {
       "output_type": "stream",
       "stream": "stdout",
       "text": [
        " \r",
        "[***               9%                  ]  282333 of 3176590 complete Elapsed: 2.6 minutes\t Remaining: 26.4 minutes"
       ]
      },
      {
       "output_type": "stream",
       "stream": "stdout",
       "text": [
        " \r",
        "[***               9%                  ]  285266 of 3176590 complete Elapsed: 2.6 minutes\t Remaining: 26.3 minutes"
       ]
      },
      {
       "output_type": "stream",
       "stream": "stdout",
       "text": [
        " \r",
        "[***               9%                  ]  288327 of 3176590 complete Elapsed: 2.6 minutes\t Remaining: 26.3 minutes"
       ]
      },
      {
       "output_type": "stream",
       "stream": "stdout",
       "text": [
        " \r",
        "[***               9%                  ]  291126 of 3176590 complete Elapsed: 2.6 minutes\t Remaining: 26.2 minutes"
       ]
      },
      {
       "output_type": "stream",
       "stream": "stdout",
       "text": [
        " \r",
        "[***               9%                  ]  293965 of 3176590 complete Elapsed: 2.7 minutes\t Remaining: 26.2 minutes"
       ]
      },
      {
       "output_type": "stream",
       "stream": "stdout",
       "text": [
        " \r",
        "[***               9%                  ]  297030 of 3176590 complete Elapsed: 2.7 minutes\t Remaining: 26.1 minutes"
       ]
      },
      {
       "output_type": "stream",
       "stream": "stdout",
       "text": [
        " \r",
        "[***               9%                  ]  300051 of 3176590 complete Elapsed: 2.7 minutes\t Remaining: 26.1 minutes"
       ]
      },
      {
       "output_type": "stream",
       "stream": "stdout",
       "text": [
        " \r",
        "[****             10%                  ]  302807 of 3176590 complete Elapsed: 2.7 minutes\t Remaining: 26.1 minutes"
       ]
      },
      {
       "output_type": "stream",
       "stream": "stdout",
       "text": [
        " \r",
        "[****             10%                  ]  305442 of 3176590 complete Elapsed: 2.8 minutes\t Remaining: 26.1 minutes"
       ]
      },
      {
       "output_type": "stream",
       "stream": "stdout",
       "text": [
        " \r",
        "[****             10%                  ]  308374 of 3176590 complete Elapsed: 2.8 minutes\t Remaining: 26.0 minutes"
       ]
      },
      {
       "output_type": "stream",
       "stream": "stdout",
       "text": [
        " \r",
        "[****             10%                  ]  310894 of 3176590 complete Elapsed: 2.8 minutes\t Remaining: 26.0 minutes"
       ]
      },
      {
       "output_type": "stream",
       "stream": "stdout",
       "text": [
        " \r",
        "[****             10%                  ]  313861 of 3176590 complete Elapsed: 2.8 minutes\t Remaining: 26.0 minutes"
       ]
      },
      {
       "output_type": "stream",
       "stream": "stdout",
       "text": [
        " \r",
        "[****             10%                  ]  316920 of 3176590 complete Elapsed: 2.9 minutes\t Remaining: 25.9 minutes"
       ]
      },
      {
       "output_type": "stream",
       "stream": "stdout",
       "text": [
        " \r",
        "[****             10%                  ]  319779 of 3176590 complete Elapsed: 2.9 minutes\t Remaining: 25.9 minutes"
       ]
      },
      {
       "output_type": "stream",
       "stream": "stdout",
       "text": [
        " \r",
        "[****             10%                  ]  322622 of 3176590 complete Elapsed: 2.9 minutes\t Remaining: 25.9 minutes"
       ]
      },
      {
       "output_type": "stream",
       "stream": "stdout",
       "text": [
        " \r",
        "[****             10%                  ]  325669 of 3176590 complete Elapsed: 2.9 minutes\t Remaining: 25.8 minutes"
       ]
      },
      {
       "output_type": "stream",
       "stream": "stdout",
       "text": [
        " \r",
        "[****             10%                  ]  328504 of 3176590 complete Elapsed: 3.0 minutes\t Remaining: 25.8 minutes"
       ]
      },
      {
       "output_type": "stream",
       "stream": "stdout",
       "text": [
        " \r",
        "[****             10%                  ]  331686 of 3176590 complete Elapsed: 3.0 minutes\t Remaining: 25.7 minutes"
       ]
      },
      {
       "output_type": "stream",
       "stream": "stdout",
       "text": [
        " \r",
        "[****             11%                  ]  335222 of 3176590 complete Elapsed: 3.0 minutes\t Remaining: 25.6 minutes"
       ]
      },
      {
       "output_type": "stream",
       "stream": "stdout",
       "text": [
        " \r",
        "[****             11%                  ]  338213 of 3176590 complete Elapsed: 3.0 minutes\t Remaining: 25.6 minutes"
       ]
      },
      {
       "output_type": "stream",
       "stream": "stdout",
       "text": [
        " \r",
        "[****             11%                  ]  340640 of 3176590 complete Elapsed: 3.1 minutes\t Remaining: 25.6 minutes"
       ]
      },
      {
       "output_type": "stream",
       "stream": "stdout",
       "text": [
        " \r",
        "[****             11%                  ]  344027 of 3176590 complete Elapsed: 3.1 minutes\t Remaining: 25.5 minutes"
       ]
      },
      {
       "output_type": "stream",
       "stream": "stdout",
       "text": [
        " \r",
        "[****             11%                  ]  346938 of 3176590 complete Elapsed: 3.1 minutes\t Remaining: 25.5 minutes"
       ]
      },
      {
       "output_type": "stream",
       "stream": "stdout",
       "text": [
        " \r",
        "[****             11%                  ]  349715 of 3176590 complete Elapsed: 3.1 minutes\t Remaining: 25.4 minutes"
       ]
      },
      {
       "output_type": "stream",
       "stream": "stdout",
       "text": [
        " \r",
        "[****             11%                  ]  352431 of 3176590 complete Elapsed: 3.2 minutes\t Remaining: 25.4 minutes"
       ]
      },
      {
       "output_type": "stream",
       "stream": "stdout",
       "text": [
        " \r",
        "[****             11%                  ]  355356 of 3176590 complete Elapsed: 3.2 minutes\t Remaining: 25.4 minutes"
       ]
      },
      {
       "output_type": "stream",
       "stream": "stdout",
       "text": [
        " \r",
        "[****             11%                  ]  357488 of 3176590 complete Elapsed: 3.2 minutes\t Remaining: 25.5 minutes"
       ]
      },
      {
       "output_type": "stream",
       "stream": "stdout",
       "text": [
        " \r",
        "[****             11%                  ]  360394 of 3176590 complete Elapsed: 3.3 minutes\t Remaining: 25.5 minutes"
       ]
      },
      {
       "output_type": "stream",
       "stream": "stdout",
       "text": [
        " \r",
        "[****             11%                  ]  363129 of 3176590 complete Elapsed: 3.3 minutes\t Remaining: 25.4 minutes"
       ]
      },
      {
       "output_type": "stream",
       "stream": "stdout",
       "text": [
        " \r",
        "[*****            12%                  ]  366015 of 3176590 complete Elapsed: 3.3 minutes\t Remaining: 25.4 minutes"
       ]
      },
      {
       "output_type": "stream",
       "stream": "stdout",
       "text": [
        " \r",
        "[*****            12%                  ]  369027 of 3176590 complete Elapsed: 3.3 minutes\t Remaining: 25.4 minutes"
       ]
      },
      {
       "output_type": "stream",
       "stream": "stdout",
       "text": [
        " \r",
        "[*****            12%                  ]  371988 of 3176590 complete Elapsed: 3.4 minutes\t Remaining: 25.3 minutes"
       ]
      },
      {
       "output_type": "stream",
       "stream": "stdout",
       "text": [
        " \r",
        "[*****            12%                  ]  374858 of 3176590 complete Elapsed: 3.4 minutes\t Remaining: 25.3 minutes"
       ]
      },
      {
       "output_type": "stream",
       "stream": "stdout",
       "text": [
        " \r",
        "[*****            12%                  ]  378037 of 3176590 complete Elapsed: 3.4 minutes\t Remaining: 25.2 minutes"
       ]
      },
      {
       "output_type": "stream",
       "stream": "stdout",
       "text": [
        " \r",
        "[*****            12%                  ]  380974 of 3176590 complete Elapsed: 3.4 minutes\t Remaining: 25.2 minutes"
       ]
      },
      {
       "output_type": "stream",
       "stream": "stdout",
       "text": [
        " \r",
        "[*****            12%                  ]  383587 of 3176590 complete Elapsed: 3.5 minutes\t Remaining: 25.2 minutes"
       ]
      },
      {
       "output_type": "stream",
       "stream": "stdout",
       "text": [
        " \r",
        "[*****            12%                  ]  386391 of 3176590 complete Elapsed: 3.5 minutes\t Remaining: 25.2 minutes"
       ]
      },
      {
       "output_type": "stream",
       "stream": "stdout",
       "text": [
        " \r",
        "[*****            12%                  ]  389253 of 3176590 complete Elapsed: 3.5 minutes\t Remaining: 25.1 minutes"
       ]
      },
      {
       "output_type": "stream",
       "stream": "stdout",
       "text": [
        " \r",
        "[*****            12%                  ]  392192 of 3176590 complete Elapsed: 3.5 minutes\t Remaining: 25.1 minutes"
       ]
      },
      {
       "output_type": "stream",
       "stream": "stdout",
       "text": [
        " \r",
        "[*****            12%                  ]  394917 of 3176590 complete Elapsed: 3.6 minutes\t Remaining: 25.1 minutes"
       ]
      },
      {
       "output_type": "stream",
       "stream": "stdout",
       "text": [
        " \r",
        "[*****            13%                  ]  397806 of 3176590 complete Elapsed: 3.6 minutes\t Remaining: 25.0 minutes"
       ]
      },
      {
       "output_type": "stream",
       "stream": "stdout",
       "text": [
        " \r",
        "[*****            13%                  ]  400610 of 3176590 complete Elapsed: 3.6 minutes\t Remaining: 25.0 minutes"
       ]
      },
      {
       "output_type": "stream",
       "stream": "stdout",
       "text": [
        " \r",
        "[*****            13%                  ]  403329 of 3176590 complete Elapsed: 3.6 minutes\t Remaining: 25.0 minutes"
       ]
      },
      {
       "output_type": "stream",
       "stream": "stdout",
       "text": [
        " \r",
        "[*****            13%                  ]  406239 of 3176590 complete Elapsed: 3.7 minutes\t Remaining: 25.0 minutes"
       ]
      },
      {
       "output_type": "stream",
       "stream": "stdout",
       "text": [
        " \r",
        "[*****            13%                  ]  409145 of 3176590 complete Elapsed: 3.7 minutes\t Remaining: 24.9 minutes"
       ]
      },
      {
       "output_type": "stream",
       "stream": "stdout",
       "text": [
        " \r",
        "[*****            13%                  ]  411984 of 3176590 complete Elapsed: 3.7 minutes\t Remaining: 24.9 minutes"
       ]
      },
      {
       "output_type": "stream",
       "stream": "stdout",
       "text": [
        " \r",
        "[*****            13%                  ]  414954 of 3176590 complete Elapsed: 3.7 minutes\t Remaining: 24.9 minutes"
       ]
      },
      {
       "output_type": "stream",
       "stream": "stdout",
       "text": [
        " \r",
        "[*****            13%                  ]  417651 of 3176590 complete Elapsed: 3.8 minutes\t Remaining: 24.8 minutes"
       ]
      },
      {
       "output_type": "stream",
       "stream": "stdout",
       "text": [
        " \r",
        "[*****            13%                  ]  420445 of 3176590 complete Elapsed: 3.8 minutes\t Remaining: 24.8 minutes"
       ]
      },
      {
       "output_type": "stream",
       "stream": "stdout",
       "text": [
        " \r",
        "[*****            13%                  ]  423340 of 3176590 complete Elapsed: 3.8 minutes\t Remaining: 24.8 minutes"
       ]
      },
      {
       "output_type": "stream",
       "stream": "stdout",
       "text": [
        " \r",
        "[*****            13%                  ]  426278 of 3176590 complete Elapsed: 3.8 minutes\t Remaining: 24.7 minutes"
       ]
      },
      {
       "output_type": "stream",
       "stream": "stdout",
       "text": [
        " \r",
        "[*****            14%                  ]  428979 of 3176590 complete Elapsed: 3.9 minutes\t Remaining: 24.7 minutes"
       ]
      },
      {
       "output_type": "stream",
       "stream": "stdout",
       "text": [
        " \r",
        "[*****            14%                  ]  431659 of 3176590 complete Elapsed: 3.9 minutes\t Remaining: 24.7 minutes"
       ]
      },
      {
       "output_type": "stream",
       "stream": "stdout",
       "text": [
        " \r",
        "[*****            14%                  ]  434111 of 3176590 complete Elapsed: 3.9 minutes\t Remaining: 24.7 minutes"
       ]
      },
      {
       "output_type": "stream",
       "stream": "stdout",
       "text": [
        " \r",
        "[*****            14%                  ]  436726 of 3176590 complete Elapsed: 3.9 minutes\t Remaining: 24.7 minutes"
       ]
      },
      {
       "output_type": "stream",
       "stream": "stdout",
       "text": [
        " \r",
        "[*****            14%                  ]  439592 of 3176590 complete Elapsed: 4.0 minutes\t Remaining: 24.7 minutes"
       ]
      },
      {
       "output_type": "stream",
       "stream": "stdout",
       "text": [
        " \r",
        "[*****            14%                  ]  442430 of 3176590 complete Elapsed: 4.0 minutes\t Remaining: 24.6 minutes"
       ]
      },
      {
       "output_type": "stream",
       "stream": "stdout",
       "text": [
        " \r",
        "[*****            14%                  ]  445455 of 3176590 complete Elapsed: 4.0 minutes\t Remaining: 24.6 minutes"
       ]
      },
      {
       "output_type": "stream",
       "stream": "stdout",
       "text": [
        " \r",
        "[*****            14%                  ]  447609 of 3176590 complete Elapsed: 4.0 minutes\t Remaining: 24.7 minutes"
       ]
      },
      {
       "output_type": "stream",
       "stream": "stdout",
       "text": [
        " \r",
        "[*****            14%                  ]  450564 of 3176590 complete Elapsed: 4.1 minutes\t Remaining: 24.7 minutes"
       ]
      },
      {
       "output_type": "stream",
       "stream": "stdout",
       "text": [
        " \r",
        "[*****            14%                  ]  453387 of 3176590 complete Elapsed: 4.1 minutes\t Remaining: 24.6 minutes"
       ]
      },
      {
       "output_type": "stream",
       "stream": "stdout",
       "text": [
        " \r",
        "[*****            14%                  ]  456210 of 3176590 complete Elapsed: 4.1 minutes\t Remaining: 24.6 minutes"
       ]
      },
      {
       "output_type": "stream",
       "stream": "stdout",
       "text": [
        " \r",
        "[*****            14%                  ]  459116 of 3176590 complete Elapsed: 4.1 minutes\t Remaining: 24.6 minutes"
       ]
      },
      {
       "output_type": "stream",
       "stream": "stdout",
       "text": [
        " \r",
        "[******           15%                  ]  461821 of 3176590 complete Elapsed: 4.2 minutes\t Remaining: 24.5 minutes"
       ]
      },
      {
       "output_type": "stream",
       "stream": "stdout",
       "text": [
        " \r",
        "[******           15%                  ]  464776 of 3176590 complete Elapsed: 4.2 minutes\t Remaining: 24.5 minutes"
       ]
      },
      {
       "output_type": "stream",
       "stream": "stdout",
       "text": [
        " \r",
        "[******           15%                  ]  467756 of 3176590 complete Elapsed: 4.2 minutes\t Remaining: 24.5 minutes"
       ]
      },
      {
       "output_type": "stream",
       "stream": "stdout",
       "text": [
        " \r",
        "[******           15%                  ]  470685 of 3176590 complete Elapsed: 4.2 minutes\t Remaining: 24.4 minutes"
       ]
      },
      {
       "output_type": "stream",
       "stream": "stdout",
       "text": [
        " \r",
        "[******           15%                  ]  473693 of 3176590 complete Elapsed: 4.3 minutes\t Remaining: 24.4 minutes"
       ]
      },
      {
       "output_type": "stream",
       "stream": "stdout",
       "text": [
        " \r",
        "[******           15%                  ]  476810 of 3176590 complete Elapsed: 4.3 minutes\t Remaining: 24.3 minutes"
       ]
      },
      {
       "output_type": "stream",
       "stream": "stdout",
       "text": [
        " \r",
        "[******           15%                  ]  479657 of 3176590 complete Elapsed: 4.3 minutes\t Remaining: 24.3 minutes"
       ]
      },
      {
       "output_type": "stream",
       "stream": "stdout",
       "text": [
        " \r",
        "[******           15%                  ]  482617 of 3176590 complete Elapsed: 4.3 minutes\t Remaining: 24.3 minutes"
       ]
      },
      {
       "output_type": "stream",
       "stream": "stdout",
       "text": [
        " \r",
        "[******           15%                  ]  485660 of 3176590 complete Elapsed: 4.4 minutes\t Remaining: 24.2 minutes"
       ]
      },
      {
       "output_type": "stream",
       "stream": "stdout",
       "text": [
        " \r",
        "[******           15%                  ]  488600 of 3176590 complete Elapsed: 4.4 minutes\t Remaining: 24.2 minutes"
       ]
      },
      {
       "output_type": "stream",
       "stream": "stdout",
       "text": [
        " \r",
        "[******           15%                  ]  491477 of 3176590 complete Elapsed: 4.4 minutes\t Remaining: 24.2 minutes"
       ]
      },
      {
       "output_type": "stream",
       "stream": "stdout",
       "text": [
        " \r",
        "[******           16%                  ]  494435 of 3176590 complete Elapsed: 4.4 minutes\t Remaining: 24.1 minutes"
       ]
      },
      {
       "output_type": "stream",
       "stream": "stdout",
       "text": [
        " \r",
        "[******           16%                  ]  497536 of 3176590 complete Elapsed: 4.5 minutes\t Remaining: 24.1 minutes"
       ]
      },
      {
       "output_type": "stream",
       "stream": "stdout",
       "text": [
        " \r",
        "[******           16%                  ]  500364 of 3176590 complete Elapsed: 4.5 minutes\t Remaining: 24.1 minutes"
       ]
      },
      {
       "output_type": "stream",
       "stream": "stdout",
       "text": [
        " \r",
        "[******           16%                  ]  503021 of 3176590 complete Elapsed: 4.5 minutes\t Remaining: 24.0 minutes"
       ]
      },
      {
       "output_type": "stream",
       "stream": "stdout",
       "text": [
        " \r",
        "[******           16%                  ]  506053 of 3176590 complete Elapsed: 4.5 minutes\t Remaining: 24.0 minutes"
       ]
      },
      {
       "output_type": "stream",
       "stream": "stdout",
       "text": [
        " \r",
        "[******           16%                  ]  508905 of 3176590 complete Elapsed: 4.6 minutes\t Remaining: 24.0 minutes"
       ]
      },
      {
       "output_type": "stream",
       "stream": "stdout",
       "text": [
        " \r",
        "[******           16%                  ]  511730 of 3176590 complete Elapsed: 4.6 minutes\t Remaining: 24.0 minutes"
       ]
      },
      {
       "output_type": "stream",
       "stream": "stdout",
       "text": [
        " \r",
        "[******           16%                  ]  514525 of 3176590 complete Elapsed: 4.6 minutes\t Remaining: 23.9 minutes"
       ]
      },
      {
       "output_type": "stream",
       "stream": "stdout",
       "text": [
        " \r",
        "[******           16%                  ]  517459 of 3176590 complete Elapsed: 4.6 minutes\t Remaining: 23.9 minutes"
       ]
      },
      {
       "output_type": "stream",
       "stream": "stdout",
       "text": [
        " \r",
        "[******           16%                  ]  520433 of 3176590 complete Elapsed: 4.7 minutes\t Remaining: 23.9 minutes"
       ]
      },
      {
       "output_type": "stream",
       "stream": "stdout",
       "text": [
        " \r",
        "[******           16%                  ]  523423 of 3176590 complete Elapsed: 4.7 minutes\t Remaining: 23.8 minutes"
       ]
      },
      {
       "output_type": "stream",
       "stream": "stdout",
       "text": [
        " \r",
        "[******           17%                  ]  526338 of 3176590 complete Elapsed: 4.7 minutes\t Remaining: 23.8 minutes"
       ]
      },
      {
       "output_type": "stream",
       "stream": "stdout",
       "text": [
        " \r",
        "[******           17%                  ]  529062 of 3176590 complete Elapsed: 4.7 minutes\t Remaining: 23.8 minutes"
       ]
      },
      {
       "output_type": "stream",
       "stream": "stdout",
       "text": [
        " \r",
        "[******           17%                  ]  532197 of 3176590 complete Elapsed: 4.8 minutes\t Remaining: 23.7 minutes"
       ]
      },
      {
       "output_type": "stream",
       "stream": "stdout",
       "text": [
        " \r",
        "[******           17%                  ]  535019 of 3176590 complete Elapsed: 4.8 minutes\t Remaining: 23.7 minutes"
       ]
      },
      {
       "output_type": "stream",
       "stream": "stdout",
       "text": [
        " \r",
        "[******           17%                  ]  537585 of 3176590 complete Elapsed: 4.8 minutes\t Remaining: 23.7 minutes"
       ]
      },
      {
       "output_type": "stream",
       "stream": "stdout",
       "text": [
        " \r",
        "[******           17%                  ]  540544 of 3176590 complete Elapsed: 4.8 minutes\t Remaining: 23.7 minutes"
       ]
      },
      {
       "output_type": "stream",
       "stream": "stdout",
       "text": [
        " \r",
        "[******           17%                  ]  543475 of 3176590 complete Elapsed: 4.9 minutes\t Remaining: 23.6 minutes"
       ]
      },
      {
       "output_type": "stream",
       "stream": "stdout",
       "text": [
        " \r",
        "[******           17%                  ]  546465 of 3176590 complete Elapsed: 4.9 minutes\t Remaining: 23.6 minutes"
       ]
      },
      {
       "output_type": "stream",
       "stream": "stdout",
       "text": [
        " \r",
        "[******           17%                  ]  549350 of 3176590 complete Elapsed: 4.9 minutes\t Remaining: 23.6 minutes"
       ]
      },
      {
       "output_type": "stream",
       "stream": "stdout",
       "text": [
        " \r",
        "[******           17%                  ]  552304 of 3176590 complete Elapsed: 4.9 minutes\t Remaining: 23.5 minutes"
       ]
      },
      {
       "output_type": "stream",
       "stream": "stdout",
       "text": [
        " \r",
        "[******           17%                  ]  555040 of 3176590 complete Elapsed: 5.0 minutes\t Remaining: 23.5 minutes"
       ]
      },
      {
       "output_type": "stream",
       "stream": "stdout",
       "text": [
        " \r",
        "[*******          18%                  ]  558050 of 3176590 complete Elapsed: 5.0 minutes\t Remaining: 23.5 minutes"
       ]
      },
      {
       "output_type": "stream",
       "stream": "stdout",
       "text": [
        " \r",
        "[*******          18%                  ]  561037 of 3176590 complete Elapsed: 5.0 minutes\t Remaining: 23.4 minutes"
       ]
      },
      {
       "output_type": "stream",
       "stream": "stdout",
       "text": [
        " \r",
        "[*******          18%                  ]  565536 of 3176590 complete Elapsed: 5.1 minutes\t Remaining: 23.3 minutes"
       ]
      },
      {
       "output_type": "stream",
       "stream": "stdout",
       "text": [
        " \r",
        "[*******          18%                  ]  567816 of 3176590 complete Elapsed: 5.1 minutes\t Remaining: 23.4 minutes"
       ]
      },
      {
       "output_type": "stream",
       "stream": "stdout",
       "text": [
        " \r",
        "[*******          18%                  ]  570440 of 3176590 complete Elapsed: 5.1 minutes\t Remaining: 23.4 minutes"
       ]
      },
      {
       "output_type": "stream",
       "stream": "stdout",
       "text": [
        " \r",
        "[*******          18%                  ]  573231 of 3176590 complete Elapsed: 5.1 minutes\t Remaining: 23.4 minutes"
       ]
      },
      {
       "output_type": "stream",
       "stream": "stdout",
       "text": [
        " \r",
        "[*******          18%                  ]  576143 of 3176590 complete Elapsed: 5.2 minutes\t Remaining: 23.3 minutes"
       ]
      },
      {
       "output_type": "stream",
       "stream": "stdout",
       "text": [
        " \r",
        "[*******          18%                  ]  578989 of 3176590 complete Elapsed: 5.2 minutes\t Remaining: 23.3 minutes"
       ]
      },
      {
       "output_type": "stream",
       "stream": "stdout",
       "text": [
        " \r",
        "[*******          18%                  ]  581608 of 3176590 complete Elapsed: 5.2 minutes\t Remaining: 23.3 minutes"
       ]
      },
      {
       "output_type": "stream",
       "stream": "stdout",
       "text": [
        " \r",
        "[*******          18%                  ]  584492 of 3176590 complete Elapsed: 5.2 minutes\t Remaining: 23.3 minutes"
       ]
      },
      {
       "output_type": "stream",
       "stream": "stdout",
       "text": [
        " \r",
        "[*******          18%                  ]  587125 of 3176590 complete Elapsed: 5.3 minutes\t Remaining: 23.2 minutes"
       ]
      },
      {
       "output_type": "stream",
       "stream": "stdout",
       "text": [
        " \r",
        "[*******          19%                  ]  589846 of 3176590 complete Elapsed: 5.3 minutes\t Remaining: 23.2 minutes"
       ]
      },
      {
       "output_type": "stream",
       "stream": "stdout",
       "text": [
        " \r",
        "[*******          19%                  ]  592888 of 3176590 complete Elapsed: 5.3 minutes\t Remaining: 23.2 minutes"
       ]
      },
      {
       "output_type": "stream",
       "stream": "stdout",
       "text": [
        " \r",
        "[*******          19%                  ]  596066 of 3176590 complete Elapsed: 5.3 minutes\t Remaining: 23.1 minutes"
       ]
      },
      {
       "output_type": "stream",
       "stream": "stdout",
       "text": [
        " \r",
        "[*******          19%                  ]  598834 of 3176590 complete Elapsed: 5.4 minutes\t Remaining: 23.1 minutes"
       ]
      },
      {
       "output_type": "stream",
       "stream": "stdout",
       "text": [
        " \r",
        "[*******          19%                  ]  601647 of 3176590 complete Elapsed: 5.4 minutes\t Remaining: 23.1 minutes"
       ]
      },
      {
       "output_type": "stream",
       "stream": "stdout",
       "text": [
        " \r",
        "[*******          19%                  ]  604536 of 3176590 complete Elapsed: 5.4 minutes\t Remaining: 23.1 minutes"
       ]
      },
      {
       "output_type": "stream",
       "stream": "stdout",
       "text": [
        " \r",
        "[*******          19%                  ]  607431 of 3176590 complete Elapsed: 5.4 minutes\t Remaining: 23.0 minutes"
       ]
      },
      {
       "output_type": "stream",
       "stream": "stdout",
       "text": [
        " \r",
        "[*******          19%                  ]  610327 of 3176590 complete Elapsed: 5.5 minutes\t Remaining: 23.0 minutes"
       ]
      },
      {
       "output_type": "stream",
       "stream": "stdout",
       "text": [
        " \r",
        "[*******          19%                  ]  613213 of 3176590 complete Elapsed: 5.5 minutes\t Remaining: 23.0 minutes"
       ]
      },
      {
       "output_type": "stream",
       "stream": "stdout",
       "text": [
        " \r",
        "[*******          19%                  ]  616100 of 3176590 complete Elapsed: 5.5 minutes\t Remaining: 22.9 minutes"
       ]
      },
      {
       "output_type": "stream",
       "stream": "stdout",
       "text": [
        " \r",
        "[*******          19%                  ]  618841 of 3176590 complete Elapsed: 5.5 minutes\t Remaining: 22.9 minutes"
       ]
      },
      {
       "output_type": "stream",
       "stream": "stdout",
       "text": [
        " \r",
        "[********         20%                  ]  621747 of 3176590 complete Elapsed: 5.6 minutes\t Remaining: 22.9 minutes"
       ]
      },
      {
       "output_type": "stream",
       "stream": "stdout",
       "text": [
        " \r",
        "[********         20%                  ]  624628 of 3176590 complete Elapsed: 5.6 minutes\t Remaining: 22.9 minutes"
       ]
      },
      {
       "output_type": "stream",
       "stream": "stdout",
       "text": [
        " \r",
        "[********         20%                  ]  627456 of 3176590 complete Elapsed: 5.6 minutes\t Remaining: 22.8 minutes"
       ]
      },
      {
       "output_type": "stream",
       "stream": "stdout",
       "text": [
        " \r",
        "[********         20%                  ]  630305 of 3176590 complete Elapsed: 5.6 minutes\t Remaining: 22.8 minutes"
       ]
      },
      {
       "output_type": "stream",
       "stream": "stdout",
       "text": [
        " \r",
        "[********         20%                  ]  633027 of 3176590 complete Elapsed: 5.7 minutes\t Remaining: 22.8 minutes"
       ]
      },
      {
       "output_type": "stream",
       "stream": "stdout",
       "text": [
        " \r",
        "[********         20%                  ]  635687 of 3176590 complete Elapsed: 5.7 minutes\t Remaining: 22.8 minutes"
       ]
      },
      {
       "output_type": "stream",
       "stream": "stdout",
       "text": [
        " \r",
        "[********         20%                  ]  638694 of 3176590 complete Elapsed: 5.7 minutes\t Remaining: 22.7 minutes"
       ]
      },
      {
       "output_type": "stream",
       "stream": "stdout",
       "text": [
        " \r",
        "[********         20%                  ]  641589 of 3176590 complete Elapsed: 5.7 minutes\t Remaining: 22.7 minutes"
       ]
      },
      {
       "output_type": "stream",
       "stream": "stdout",
       "text": [
        " \r",
        "[********         20%                  ]  644436 of 3176590 complete Elapsed: 5.8 minutes\t Remaining: 22.7 minutes"
       ]
      },
      {
       "output_type": "stream",
       "stream": "stdout",
       "text": [
        " \r",
        "[********         20%                  ]  647448 of 3176590 complete Elapsed: 5.8 minutes\t Remaining: 22.6 minutes"
       ]
      },
      {
       "output_type": "stream",
       "stream": "stdout",
       "text": [
        " \r",
        "[********         20%                  ]  650329 of 3176590 complete Elapsed: 5.8 minutes\t Remaining: 22.6 minutes"
       ]
      },
      {
       "output_type": "stream",
       "stream": "stdout",
       "text": [
        " \r",
        "[********         21%                  ]  652955 of 3176590 complete Elapsed: 5.8 minutes\t Remaining: 22.6 minutes"
       ]
      },
      {
       "output_type": "stream",
       "stream": "stdout",
       "text": [
        " \r",
        "[********         21%                  ]  655652 of 3176590 complete Elapsed: 5.9 minutes\t Remaining: 22.6 minutes"
       ]
      },
      {
       "output_type": "stream",
       "stream": "stdout",
       "text": [
        " \r",
        "[********         21%                  ]  658427 of 3176590 complete Elapsed: 5.9 minutes\t Remaining: 22.6 minutes"
       ]
      },
      {
       "output_type": "stream",
       "stream": "stdout",
       "text": [
        " \r",
        "[********         21%                  ]  661447 of 3176590 complete Elapsed: 5.9 minutes\t Remaining: 22.5 minutes"
       ]
      },
      {
       "output_type": "stream",
       "stream": "stdout",
       "text": [
        " \r",
        "[********         21%                  ]  664441 of 3176590 complete Elapsed: 5.9 minutes\t Remaining: 22.5 minutes"
       ]
      },
      {
       "output_type": "stream",
       "stream": "stdout",
       "text": [
        " \r",
        "[********         21%                  ]  667544 of 3176590 complete Elapsed: 6.0 minutes\t Remaining: 22.4 minutes"
       ]
      },
      {
       "output_type": "stream",
       "stream": "stdout",
       "text": [
        " \r",
        "[********         21%                  ]  670327 of 3176590 complete Elapsed: 6.0 minutes\t Remaining: 22.4 minutes"
       ]
      },
      {
       "output_type": "stream",
       "stream": "stdout",
       "text": [
        " \r",
        "[********         21%                  ]  673384 of 3176590 complete Elapsed: 6.0 minutes\t Remaining: 22.4 minutes"
       ]
      },
      {
       "output_type": "stream",
       "stream": "stdout",
       "text": [
        " \r",
        "[********         21%                  ]  676473 of 3176590 complete Elapsed: 6.0 minutes\t Remaining: 22.3 minutes"
       ]
      },
      {
       "output_type": "stream",
       "stream": "stdout",
       "text": [
        " \r",
        "[********         21%                  ]  679304 of 3176590 complete Elapsed: 6.1 minutes\t Remaining: 22.3 minutes"
       ]
      },
      {
       "output_type": "stream",
       "stream": "stdout",
       "text": [
        " \r",
        "[********         21%                  ]  682204 of 3176590 complete Elapsed: 6.1 minutes\t Remaining: 22.3 minutes"
       ]
      },
      {
       "output_type": "stream",
       "stream": "stdout",
       "text": [
        " \r",
        "[********         22%                  ]  684970 of 3176590 complete Elapsed: 6.1 minutes\t Remaining: 22.3 minutes"
       ]
      },
      {
       "output_type": "stream",
       "stream": "stdout",
       "text": [
        " \r",
        "[********         22%                  ]  688219 of 3176590 complete Elapsed: 6.1 minutes\t Remaining: 22.2 minutes"
       ]
      },
      {
       "output_type": "stream",
       "stream": "stdout",
       "text": [
        " \r",
        "[********         22%                  ]  691497 of 3176590 complete Elapsed: 6.2 minutes\t Remaining: 22.2 minutes"
       ]
      },
      {
       "output_type": "stream",
       "stream": "stdout",
       "text": [
        " \r",
        "[********         22%                  ]  694468 of 3176590 complete Elapsed: 6.2 minutes\t Remaining: 22.1 minutes"
       ]
      },
      {
       "output_type": "stream",
       "stream": "stdout",
       "text": [
        " \r",
        "[********         22%                  ]  697409 of 3176590 complete Elapsed: 6.2 minutes\t Remaining: 22.1 minutes"
       ]
      },
      {
       "output_type": "stream",
       "stream": "stdout",
       "text": [
        " \r",
        "[********         22%                  ]  700314 of 3176590 complete Elapsed: 6.2 minutes\t Remaining: 22.1 minutes"
       ]
      },
      {
       "output_type": "stream",
       "stream": "stdout",
       "text": [
        " \r",
        "[********         22%                  ]  703144 of 3176590 complete Elapsed: 6.3 minutes\t Remaining: 22.1 minutes"
       ]
      },
      {
       "output_type": "stream",
       "stream": "stdout",
       "text": [
        " \r",
        "[********         22%                  ]  705933 of 3176590 complete Elapsed: 6.3 minutes\t Remaining: 22.0 minutes"
       ]
      },
      {
       "output_type": "stream",
       "stream": "stdout",
       "text": [
        " \r",
        "[********         22%                  ]  708734 of 3176590 complete Elapsed: 6.3 minutes\t Remaining: 22.0 minutes"
       ]
      },
      {
       "output_type": "stream",
       "stream": "stdout",
       "text": [
        " \r",
        "[********         22%                  ]  711569 of 3176590 complete Elapsed: 6.3 minutes\t Remaining: 22.0 minutes"
       ]
      },
      {
       "output_type": "stream",
       "stream": "stdout",
       "text": [
        " \r",
        "[********         22%                  ]  712872 of 3176590 complete Elapsed: 6.4 minutes\t Remaining: 22.1 minutes"
       ]
      },
      {
       "output_type": "stream",
       "stream": "stdout",
       "text": [
        " \r",
        "[*********        23%                  ]  715820 of 3176590 complete Elapsed: 6.4 minutes\t Remaining: 22.1 minutes"
       ]
      },
      {
       "output_type": "stream",
       "stream": "stdout",
       "text": [
        " \r",
        "[*********        23%                  ]  718687 of 3176590 complete Elapsed: 6.4 minutes\t Remaining: 22.0 minutes"
       ]
      },
      {
       "output_type": "stream",
       "stream": "stdout",
       "text": [
        " \r",
        "[*********        23%                  ]  721695 of 3176590 complete Elapsed: 6.5 minutes\t Remaining: 22.0 minutes"
       ]
      },
      {
       "output_type": "stream",
       "stream": "stdout",
       "text": [
        " \r",
        "[*********        23%                  ]  724567 of 3176590 complete Elapsed: 6.5 minutes\t Remaining: 22.0 minutes"
       ]
      },
      {
       "output_type": "stream",
       "stream": "stdout",
       "text": [
        " \r",
        "[*********        23%                  ]  727284 of 3176590 complete Elapsed: 6.5 minutes\t Remaining: 22.0 minutes"
       ]
      },
      {
       "output_type": "stream",
       "stream": "stdout",
       "text": [
        " \r",
        "[*********        23%                  ]  730114 of 3176590 complete Elapsed: 6.5 minutes\t Remaining: 21.9 minutes"
       ]
      },
      {
       "output_type": "stream",
       "stream": "stdout",
       "text": [
        " \r",
        "[*********        23%                  ]  733129 of 3176590 complete Elapsed: 6.6 minutes\t Remaining: 21.9 minutes"
       ]
      },
      {
       "output_type": "stream",
       "stream": "stdout",
       "text": [
        " \r",
        "[*********        23%                  ]  736006 of 3176590 complete Elapsed: 6.6 minutes\t Remaining: 21.9 minutes"
       ]
      },
      {
       "output_type": "stream",
       "stream": "stdout",
       "text": [
        " \r",
        "[*********        23%                  ]  738830 of 3176590 complete Elapsed: 6.6 minutes\t Remaining: 21.8 minutes"
       ]
      },
      {
       "output_type": "stream",
       "stream": "stdout",
       "text": [
        " \r",
        "[*********        23%                  ]  741804 of 3176590 complete Elapsed: 6.6 minutes\t Remaining: 21.8 minutes"
       ]
      },
      {
       "output_type": "stream",
       "stream": "stdout",
       "text": [
        " \r",
        "[*********        23%                  ]  744400 of 3176590 complete Elapsed: 6.7 minutes\t Remaining: 21.8 minutes"
       ]
      },
      {
       "output_type": "stream",
       "stream": "stdout",
       "text": [
        " \r",
        "[*********        24%                  ]  747029 of 3176590 complete Elapsed: 6.7 minutes\t Remaining: 21.8 minutes"
       ]
      },
      {
       "output_type": "stream",
       "stream": "stdout",
       "text": [
        " \r",
        "[*********        24%                  ]  750443 of 3176590 complete Elapsed: 6.7 minutes\t Remaining: 21.7 minutes"
       ]
      },
      {
       "output_type": "stream",
       "stream": "stdout",
       "text": [
        " \r",
        "[*********        24%                  ]  753354 of 3176590 complete Elapsed: 6.7 minutes\t Remaining: 21.7 minutes"
       ]
      },
      {
       "output_type": "stream",
       "stream": "stdout",
       "text": [
        " \r",
        "[*********        24%                  ]  756335 of 3176590 complete Elapsed: 6.8 minutes\t Remaining: 21.7 minutes"
       ]
      },
      {
       "output_type": "stream",
       "stream": "stdout",
       "text": [
        " \r",
        "[*********        24%                  ]  759079 of 3176590 complete Elapsed: 6.8 minutes\t Remaining: 21.6 minutes"
       ]
      },
      {
       "output_type": "stream",
       "stream": "stdout",
       "text": [
        " \r",
        "[*********        24%                  ]  762099 of 3176590 complete Elapsed: 6.8 minutes\t Remaining: 21.6 minutes"
       ]
      },
      {
       "output_type": "stream",
       "stream": "stdout",
       "text": [
        " \r",
        "[*********        24%                  ]  764920 of 3176590 complete Elapsed: 6.8 minutes\t Remaining: 21.6 minutes"
       ]
      },
      {
       "output_type": "stream",
       "stream": "stdout",
       "text": [
        " \r",
        "[*********        24%                  ]  767686 of 3176590 complete Elapsed: 6.9 minutes\t Remaining: 21.6 minutes"
       ]
      },
      {
       "output_type": "stream",
       "stream": "stdout",
       "text": [
        " \r",
        "[*********        24%                  ]  770680 of 3176590 complete Elapsed: 6.9 minutes\t Remaining: 21.5 minutes"
       ]
      },
      {
       "output_type": "stream",
       "stream": "stdout",
       "text": [
        " \r",
        "[*********        24%                  ]  773636 of 3176590 complete Elapsed: 6.9 minutes\t Remaining: 21.5 minutes"
       ]
      },
      {
       "output_type": "stream",
       "stream": "stdout",
       "text": [
        " \r",
        "[*********        24%                  ]  776588 of 3176590 complete Elapsed: 6.9 minutes\t Remaining: 21.5 minutes"
       ]
      },
      {
       "output_type": "stream",
       "stream": "stdout",
       "text": [
        " \r",
        "[**********       25%                  ]  779190 of 3176590 complete Elapsed: 7.0 minutes\t Remaining: 21.4 minutes"
       ]
      },
      {
       "output_type": "stream",
       "stream": "stdout",
       "text": [
        " \r",
        "[**********       25%                  ]  782071 of 3176590 complete Elapsed: 7.0 minutes\t Remaining: 21.4 minutes"
       ]
      },
      {
       "output_type": "stream",
       "stream": "stdout",
       "text": [
        " \r",
        "[**********       25%                  ]  784852 of 3176590 complete Elapsed: 7.0 minutes\t Remaining: 21.4 minutes"
       ]
      },
      {
       "output_type": "stream",
       "stream": "stdout",
       "text": [
        " \r",
        "[**********       25%                  ]  787890 of 3176590 complete Elapsed: 7.0 minutes\t Remaining: 21.4 minutes"
       ]
      },
      {
       "output_type": "stream",
       "stream": "stdout",
       "text": [
        " \r",
        "[**********       25%                  ]  790622 of 3176590 complete Elapsed: 7.1 minutes\t Remaining: 21.3 minutes"
       ]
      },
      {
       "output_type": "stream",
       "stream": "stdout",
       "text": [
        " \r",
        "[**********       25%                  ]  793534 of 3176590 complete Elapsed: 7.1 minutes\t Remaining: 21.3 minutes"
       ]
      },
      {
       "output_type": "stream",
       "stream": "stdout",
       "text": [
        " \r",
        "[**********       25%                  ]  796524 of 3176590 complete Elapsed: 7.1 minutes\t Remaining: 21.3 minutes"
       ]
      },
      {
       "output_type": "stream",
       "stream": "stdout",
       "text": [
        " \r",
        "[**********       25%                  ]  799297 of 3176590 complete Elapsed: 7.1 minutes\t Remaining: 21.2 minutes"
       ]
      },
      {
       "output_type": "stream",
       "stream": "stdout",
       "text": [
        " \r",
        "[**********       25%                  ]  802306 of 3176590 complete Elapsed: 7.2 minutes\t Remaining: 21.2 minutes"
       ]
      },
      {
       "output_type": "stream",
       "stream": "stdout",
       "text": [
        " \r",
        "[**********       25%                  ]  805181 of 3176590 complete Elapsed: 7.2 minutes\t Remaining: 21.2 minutes"
       ]
      },
      {
       "output_type": "stream",
       "stream": "stdout",
       "text": [
        " \r",
        "[**********       25%                  ]  808477 of 3176590 complete Elapsed: 7.2 minutes\t Remaining: 21.1 minutes"
       ]
      },
      {
       "output_type": "stream",
       "stream": "stdout",
       "text": [
        " \r",
        "[**********       26%                  ]  811313 of 3176590 complete Elapsed: 7.2 minutes\t Remaining: 21.1 minutes"
       ]
      },
      {
       "output_type": "stream",
       "stream": "stdout",
       "text": [
        " \r",
        "[**********       26%                  ]  813989 of 3176590 complete Elapsed: 7.3 minutes\t Remaining: 21.1 minutes"
       ]
      },
      {
       "output_type": "stream",
       "stream": "stdout",
       "text": [
        " \r",
        "[**********       26%                  ]  816573 of 3176590 complete Elapsed: 7.3 minutes\t Remaining: 21.1 minutes"
       ]
      },
      {
       "output_type": "stream",
       "stream": "stdout",
       "text": [
        " \r",
        "[**********       26%                  ]  819342 of 3176590 complete Elapsed: 7.3 minutes\t Remaining: 21.1 minutes"
       ]
      },
      {
       "output_type": "stream",
       "stream": "stdout",
       "text": [
        " \r",
        "[**********       26%                  ]  822165 of 3176590 complete Elapsed: 7.3 minutes\t Remaining: 21.0 minutes"
       ]
      },
      {
       "output_type": "stream",
       "stream": "stdout",
       "text": [
        " \r",
        "[**********       26%                  ]  825064 of 3176590 complete Elapsed: 7.4 minutes\t Remaining: 21.0 minutes"
       ]
      },
      {
       "output_type": "stream",
       "stream": "stdout",
       "text": [
        " \r",
        "[**********       26%                  ]  827912 of 3176590 complete Elapsed: 7.4 minutes\t Remaining: 21.0 minutes"
       ]
      },
      {
       "output_type": "stream",
       "stream": "stdout",
       "text": [
        " \r",
        "[**********       26%                  ]  830931 of 3176590 complete Elapsed: 7.4 minutes\t Remaining: 20.9 minutes"
       ]
      },
      {
       "output_type": "stream",
       "stream": "stdout",
       "text": [
        " \r",
        "[**********       26%                  ]  833791 of 3176590 complete Elapsed: 7.4 minutes\t Remaining: 20.9 minutes"
       ]
      },
      {
       "output_type": "stream",
       "stream": "stdout",
       "text": [
        " \r",
        "[**********       26%                  ]  836611 of 3176590 complete Elapsed: 7.5 minutes\t Remaining: 20.9 minutes"
       ]
      },
      {
       "output_type": "stream",
       "stream": "stdout",
       "text": [
        " \r",
        "[**********       26%                  ]  839443 of 3176590 complete Elapsed: 7.5 minutes\t Remaining: 20.9 minutes"
       ]
      },
      {
       "output_type": "stream",
       "stream": "stdout",
       "text": [
        " \r",
        "[**********       27%                  ]  842331 of 3176590 complete Elapsed: 7.5 minutes\t Remaining: 20.8 minutes"
       ]
      },
      {
       "output_type": "stream",
       "stream": "stdout",
       "text": [
        " \r",
        "[**********       27%                  ]  845203 of 3176590 complete Elapsed: 7.5 minutes\t Remaining: 20.8 minutes"
       ]
      },
      {
       "output_type": "stream",
       "stream": "stdout",
       "text": [
        " \r",
        "[**********       27%                  ]  847929 of 3176590 complete Elapsed: 7.6 minutes\t Remaining: 20.8 minutes"
       ]
      },
      {
       "output_type": "stream",
       "stream": "stdout",
       "text": [
        " \r",
        "[**********       27%                  ]  850703 of 3176590 complete Elapsed: 7.6 minutes\t Remaining: 20.8 minutes"
       ]
      },
      {
       "output_type": "stream",
       "stream": "stdout",
       "text": [
        " \r",
        "[**********       27%                  ]  853643 of 3176590 complete Elapsed: 7.6 minutes\t Remaining: 20.7 minutes"
       ]
      },
      {
       "output_type": "stream",
       "stream": "stdout",
       "text": [
        " \r",
        "[**********       27%                  ]  856589 of 3176590 complete Elapsed: 7.6 minutes\t Remaining: 20.7 minutes"
       ]
      },
      {
       "output_type": "stream",
       "stream": "stdout",
       "text": [
        " \r",
        "[**********       27%                  ]  859304 of 3176590 complete Elapsed: 7.7 minutes\t Remaining: 20.7 minutes"
       ]
      },
      {
       "output_type": "stream",
       "stream": "stdout",
       "text": [
        " \r",
        "[**********       27%                  ]  862167 of 3176590 complete Elapsed: 7.7 minutes\t Remaining: 20.7 minutes"
       ]
      },
      {
       "output_type": "stream",
       "stream": "stdout",
       "text": [
        " \r",
        "[**********       27%                  ]  864975 of 3176590 complete Elapsed: 7.7 minutes\t Remaining: 20.6 minutes"
       ]
      },
      {
       "output_type": "stream",
       "stream": "stdout",
       "text": [
        " \r",
        "[**********       27%                  ]  867714 of 3176590 complete Elapsed: 7.7 minutes\t Remaining: 20.6 minutes"
       ]
      },
      {
       "output_type": "stream",
       "stream": "stdout",
       "text": [
        " \r",
        "[**********       27%                  ]  870361 of 3176590 complete Elapsed: 7.8 minutes\t Remaining: 20.6 minutes"
       ]
      },
      {
       "output_type": "stream",
       "stream": "stdout",
       "text": [
        " \r",
        "[**********       27%                  ]  873093 of 3176590 complete Elapsed: 7.8 minutes\t Remaining: 20.6 minutes"
       ]
      },
      {
       "output_type": "stream",
       "stream": "stdout",
       "text": [
        " \r",
        "[***********      28%                  ]  875950 of 3176590 complete Elapsed: 7.8 minutes\t Remaining: 20.5 minutes"
       ]
      },
      {
       "output_type": "stream",
       "stream": "stdout",
       "text": [
        " \r",
        "[***********      28%                  ]  878844 of 3176590 complete Elapsed: 7.8 minutes\t Remaining: 20.5 minutes"
       ]
      },
      {
       "output_type": "stream",
       "stream": "stdout",
       "text": [
        " \r",
        "[***********      28%                  ]  881802 of 3176590 complete Elapsed: 7.9 minutes\t Remaining: 20.5 minutes"
       ]
      },
      {
       "output_type": "stream",
       "stream": "stdout",
       "text": [
        " \r",
        "[***********      28%                  ]  884350 of 3176590 complete Elapsed: 7.9 minutes\t Remaining: 20.5 minutes"
       ]
      },
      {
       "output_type": "stream",
       "stream": "stdout",
       "text": [
        " \r",
        "[***********      28%                  ]  887050 of 3176590 complete Elapsed: 7.9 minutes\t Remaining: 20.4 minutes"
       ]
      },
      {
       "output_type": "stream",
       "stream": "stdout",
       "text": [
        " \r",
        "[***********      28%                  ]  889849 of 3176590 complete Elapsed: 7.9 minutes\t Remaining: 20.4 minutes"
       ]
      },
      {
       "output_type": "stream",
       "stream": "stdout",
       "text": [
        " \r",
        "[***********      28%                  ]  891990 of 3176590 complete Elapsed: 8.0 minutes\t Remaining: 20.5 minutes"
       ]
      },
      {
       "output_type": "stream",
       "stream": "stdout",
       "text": [
        " \r",
        "[***********      28%                  ]  894865 of 3176590 complete Elapsed: 8.0 minutes\t Remaining: 20.5 minutes"
       ]
      },
      {
       "output_type": "stream",
       "stream": "stdout",
       "text": [
        " \r",
        "[***********      28%                  ]  897527 of 3176590 complete Elapsed: 8.1 minutes\t Remaining: 20.5 minutes"
       ]
      },
      {
       "output_type": "stream",
       "stream": "stdout",
       "text": [
        " \r",
        "[***********      28%                  ]  900392 of 3176590 complete Elapsed: 8.1 minutes\t Remaining: 20.4 minutes"
       ]
      },
      {
       "output_type": "stream",
       "stream": "stdout",
       "text": [
        " \r",
        "[***********      28%                  ]  903201 of 3176590 complete Elapsed: 8.1 minutes\t Remaining: 20.4 minutes"
       ]
      },
      {
       "output_type": "stream",
       "stream": "stdout",
       "text": [
        " \r",
        "[***********      29%                  ]  906143 of 3176590 complete Elapsed: 8.1 minutes\t Remaining: 20.4 minutes"
       ]
      },
      {
       "output_type": "stream",
       "stream": "stdout",
       "text": [
        " \r",
        "[***********      29%                  ]  909308 of 3176590 complete Elapsed: 8.2 minutes\t Remaining: 20.3 minutes"
       ]
      },
      {
       "output_type": "stream",
       "stream": "stdout",
       "text": [
        " \r",
        "[***********      29%                  ]  912500 of 3176590 complete Elapsed: 8.2 minutes\t Remaining: 20.3 minutes"
       ]
      },
      {
       "output_type": "stream",
       "stream": "stdout",
       "text": [
        " \r",
        "[***********      29%                  ]  915439 of 3176590 complete Elapsed: 8.2 minutes\t Remaining: 20.3 minutes"
       ]
      },
      {
       "output_type": "stream",
       "stream": "stdout",
       "text": [
        " \r",
        "[***********      29%                  ]  918202 of 3176590 complete Elapsed: 8.2 minutes\t Remaining: 20.2 minutes"
       ]
      },
      {
       "output_type": "stream",
       "stream": "stdout",
       "text": [
        " \r",
        "[***********      29%                  ]  921140 of 3176590 complete Elapsed: 8.3 minutes\t Remaining: 20.2 minutes"
       ]
      },
      {
       "output_type": "stream",
       "stream": "stdout",
       "text": [
        " \r",
        "[***********      29%                  ]  924187 of 3176590 complete Elapsed: 8.3 minutes\t Remaining: 20.2 minutes"
       ]
      },
      {
       "output_type": "stream",
       "stream": "stdout",
       "text": [
        " \r",
        "[***********      29%                  ]  927090 of 3176590 complete Elapsed: 8.3 minutes\t Remaining: 20.2 minutes"
       ]
      },
      {
       "output_type": "stream",
       "stream": "stdout",
       "text": [
        " \r",
        "[***********      29%                  ]  929964 of 3176590 complete Elapsed: 8.3 minutes\t Remaining: 20.1 minutes"
       ]
      },
      {
       "output_type": "stream",
       "stream": "stdout",
       "text": [
        " \r",
        "[***********      29%                  ]  932836 of 3176590 complete Elapsed: 8.4 minutes\t Remaining: 20.1 minutes"
       ]
      },
      {
       "output_type": "stream",
       "stream": "stdout",
       "text": [
        " \r",
        "[***********      29%                  ]  935696 of 3176590 complete Elapsed: 8.4 minutes\t Remaining: 20.1 minutes"
       ]
      },
      {
       "output_type": "stream",
       "stream": "stdout",
       "text": [
        " \r",
        "[***********      30%                  ]  938665 of 3176590 complete Elapsed: 8.4 minutes\t Remaining: 20.0 minutes"
       ]
      },
      {
       "output_type": "stream",
       "stream": "stdout",
       "text": [
        " \r",
        "[***********      30%                  ]  941483 of 3176590 complete Elapsed: 8.4 minutes\t Remaining: 20.0 minutes"
       ]
      },
      {
       "output_type": "stream",
       "stream": "stdout",
       "text": [
        " \r",
        "[***********      30%                  ]  944510 of 3176590 complete Elapsed: 8.5 minutes\t Remaining: 20.0 minutes"
       ]
      },
      {
       "output_type": "stream",
       "stream": "stdout",
       "text": [
        " \r",
        "[***********      30%                  ]  947266 of 3176590 complete Elapsed: 8.5 minutes\t Remaining: 20.0 minutes"
       ]
      },
      {
       "output_type": "stream",
       "stream": "stdout",
       "text": [
        " \r",
        "[***********      30%                  ]  950207 of 3176590 complete Elapsed: 8.5 minutes\t Remaining: 19.9 minutes"
       ]
      },
      {
       "output_type": "stream",
       "stream": "stdout",
       "text": [
        " \r",
        "[***********      30%                  ]  953098 of 3176590 complete Elapsed: 8.5 minutes\t Remaining: 19.9 minutes"
       ]
      },
      {
       "output_type": "stream",
       "stream": "stdout",
       "text": [
        " \r",
        "[***********      30%                  ]  956102 of 3176590 complete Elapsed: 8.6 minutes\t Remaining: 19.9 minutes"
       ]
      },
      {
       "output_type": "stream",
       "stream": "stdout",
       "text": [
        " \r",
        "[***********      30%                  ]  958804 of 3176590 complete Elapsed: 8.6 minutes\t Remaining: 19.8 minutes"
       ]
      },
      {
       "output_type": "stream",
       "stream": "stdout",
       "text": [
        " \r",
        "[***********      30%                  ]  961609 of 3176590 complete Elapsed: 8.6 minutes\t Remaining: 19.8 minutes"
       ]
      },
      {
       "output_type": "stream",
       "stream": "stdout",
       "text": [
        " \r",
        "[***********      30%                  ]  964157 of 3176590 complete Elapsed: 8.6 minutes\t Remaining: 19.8 minutes"
       ]
      },
      {
       "output_type": "stream",
       "stream": "stdout",
       "text": [
        " \r",
        "[***********      30%                  ]  966717 of 3176590 complete Elapsed: 8.7 minutes\t Remaining: 19.8 minutes"
       ]
      },
      {
       "output_type": "stream",
       "stream": "stdout",
       "text": [
        " \r",
        "[************     31%                  ]  969702 of 3176590 complete Elapsed: 8.7 minutes\t Remaining: 19.8 minutes"
       ]
      },
      {
       "output_type": "stream",
       "stream": "stdout",
       "text": [
        " \r",
        "[************     31%                  ]  972659 of 3176590 complete Elapsed: 8.7 minutes\t Remaining: 19.7 minutes"
       ]
      },
      {
       "output_type": "stream",
       "stream": "stdout",
       "text": [
        " \r",
        "[************     31%                  ]  975508 of 3176590 complete Elapsed: 8.7 minutes\t Remaining: 19.7 minutes"
       ]
      },
      {
       "output_type": "stream",
       "stream": "stdout",
       "text": [
        " \r",
        "[************     31%                  ]  978333 of 3176590 complete Elapsed: 8.8 minutes\t Remaining: 19.7 minutes"
       ]
      },
      {
       "output_type": "stream",
       "stream": "stdout",
       "text": [
        " \r",
        "[************     31%                  ]  981274 of 3176590 complete Elapsed: 8.8 minutes\t Remaining: 19.6 minutes"
       ]
      },
      {
       "output_type": "stream",
       "stream": "stdout",
       "text": [
        " \r",
        "[************     31%                  ]  984173 of 3176590 complete Elapsed: 8.8 minutes\t Remaining: 19.6 minutes"
       ]
      },
      {
       "output_type": "stream",
       "stream": "stdout",
       "text": [
        " \r",
        "[************     31%                  ]  987127 of 3176590 complete Elapsed: 8.8 minutes\t Remaining: 19.6 minutes"
       ]
      },
      {
       "output_type": "stream",
       "stream": "stdout",
       "text": [
        " \r",
        "[************     31%                  ]  990140 of 3176590 complete Elapsed: 8.9 minutes\t Remaining: 19.6 minutes"
       ]
      },
      {
       "output_type": "stream",
       "stream": "stdout",
       "text": [
        " \r",
        "[************     31%                  ]  992984 of 3176590 complete Elapsed: 8.9 minutes\t Remaining: 19.5 minutes"
       ]
      },
      {
       "output_type": "stream",
       "stream": "stdout",
       "text": [
        " \r",
        "[************     31%                  ]  995939 of 3176590 complete Elapsed: 8.9 minutes\t Remaining: 19.5 minutes"
       ]
      },
      {
       "output_type": "stream",
       "stream": "stdout",
       "text": [
        " \r",
        "[************     31%                  ]  998903 of 3176590 complete Elapsed: 8.9 minutes\t Remaining: 19.5 minutes"
       ]
      },
      {
       "output_type": "stream",
       "stream": "stdout",
       "text": [
        " \r",
        "[************     32%                  ]  1001781 of 3176590 complete Elapsed: 9.0 minutes\t Remaining: 19.4 minutes"
       ]
      },
      {
       "output_type": "stream",
       "stream": "stdout",
       "text": [
        " \r",
        "[************     32%                  ]  1004394 of 3176590 complete Elapsed: 9.0 minutes\t Remaining: 19.4 minutes"
       ]
      },
      {
       "output_type": "stream",
       "stream": "stdout",
       "text": [
        " \r",
        "[************     32%                  ]  1007203 of 3176590 complete Elapsed: 9.0 minutes\t Remaining: 19.4 minutes"
       ]
      },
      {
       "output_type": "stream",
       "stream": "stdout",
       "text": [
        " \r",
        "[************     32%                  ]  1010035 of 3176590 complete Elapsed: 9.0 minutes\t Remaining: 19.4 minutes"
       ]
      },
      {
       "output_type": "stream",
       "stream": "stdout",
       "text": [
        " \r",
        "[************     32%                  ]  1013160 of 3176590 complete Elapsed: 9.1 minutes\t Remaining: 19.3 minutes"
       ]
      },
      {
       "output_type": "stream",
       "stream": "stdout",
       "text": [
        " \r",
        "[************     32%                  ]  1015969 of 3176590 complete Elapsed: 9.1 minutes\t Remaining: 19.3 minutes"
       ]
      },
      {
       "output_type": "stream",
       "stream": "stdout",
       "text": [
        " \r",
        "[************     32%                  ]  1018981 of 3176590 complete Elapsed: 9.1 minutes\t Remaining: 19.3 minutes"
       ]
      },
      {
       "output_type": "stream",
       "stream": "stdout",
       "text": [
        " \r",
        "[************     32%                  ]  1021809 of 3176590 complete Elapsed: 9.1 minutes\t Remaining: 19.3 minutes"
       ]
      },
      {
       "output_type": "stream",
       "stream": "stdout",
       "text": [
        " \r",
        "[************     32%                  ]  1024664 of 3176590 complete Elapsed: 9.2 minutes\t Remaining: 19.2 minutes"
       ]
      },
      {
       "output_type": "stream",
       "stream": "stdout",
       "text": [
        " \r",
        "[************     32%                  ]  1027403 of 3176590 complete Elapsed: 9.2 minutes\t Remaining: 19.2 minutes"
       ]
      },
      {
       "output_type": "stream",
       "stream": "stdout",
       "text": [
        " \r",
        "[************     32%                  ]  1029940 of 3176590 complete Elapsed: 9.2 minutes\t Remaining: 19.2 minutes"
       ]
      },
      {
       "output_type": "stream",
       "stream": "stdout",
       "text": [
        " \r",
        "[*************    33%                  ]  1032628 of 3176590 complete Elapsed: 9.2 minutes\t Remaining: 19.2 minutes"
       ]
      },
      {
       "output_type": "stream",
       "stream": "stdout",
       "text": [
        " \r",
        "[*************    33%                  ]  1035642 of 3176590 complete Elapsed: 9.3 minutes\t Remaining: 19.1 minutes"
       ]
      },
      {
       "output_type": "stream",
       "stream": "stdout",
       "text": [
        " \r",
        "[*************    33%                  ]  1038718 of 3176590 complete Elapsed: 9.3 minutes\t Remaining: 19.1 minutes"
       ]
      },
      {
       "output_type": "stream",
       "stream": "stdout",
       "text": [
        " \r",
        "[*************    33%                  ]  1041482 of 3176590 complete Elapsed: 9.3 minutes\t Remaining: 19.1 minutes"
       ]
      },
      {
       "output_type": "stream",
       "stream": "stdout",
       "text": [
        " \r",
        "[*************    33%                  ]  1044281 of 3176590 complete Elapsed: 9.3 minutes\t Remaining: 19.1 minutes"
       ]
      },
      {
       "output_type": "stream",
       "stream": "stdout",
       "text": [
        " \r",
        "[*************    33%                  ]  1047225 of 3176590 complete Elapsed: 9.4 minutes\t Remaining: 19.0 minutes"
       ]
      },
      {
       "output_type": "stream",
       "stream": "stdout",
       "text": [
        " \r",
        "[*************    33%                  ]  1050122 of 3176590 complete Elapsed: 9.4 minutes\t Remaining: 19.0 minutes"
       ]
      },
      {
       "output_type": "stream",
       "stream": "stdout",
       "text": [
        " \r",
        "[*************    33%                  ]  1053150 of 3176590 complete Elapsed: 9.4 minutes\t Remaining: 19.0 minutes"
       ]
      },
      {
       "output_type": "stream",
       "stream": "stdout",
       "text": [
        " \r",
        "[*************    33%                  ]  1056080 of 3176590 complete Elapsed: 9.4 minutes\t Remaining: 18.9 minutes"
       ]
      },
      {
       "output_type": "stream",
       "stream": "stdout",
       "text": [
        " \r",
        "[*************    33%                  ]  1058930 of 3176590 complete Elapsed: 9.5 minutes\t Remaining: 18.9 minutes"
       ]
      },
      {
       "output_type": "stream",
       "stream": "stdout",
       "text": [
        " \r",
        "[*************    33%                  ]  1061983 of 3176590 complete Elapsed: 9.5 minutes\t Remaining: 18.9 minutes"
       ]
      },
      {
       "output_type": "stream",
       "stream": "stdout",
       "text": [
        " \r",
        "[*************    34%                  ]  1065096 of 3176590 complete Elapsed: 9.5 minutes\t Remaining: 18.8 minutes"
       ]
      },
      {
       "output_type": "stream",
       "stream": "stdout",
       "text": [
        " \r",
        "[*************    34%                  ]  1068126 of 3176590 complete Elapsed: 9.5 minutes\t Remaining: 18.8 minutes"
       ]
      },
      {
       "output_type": "stream",
       "stream": "stdout",
       "text": [
        " \r",
        "[*************    34%                  ]  1071038 of 3176590 complete Elapsed: 9.6 minutes\t Remaining: 18.8 minutes"
       ]
      },
      {
       "output_type": "stream",
       "stream": "stdout",
       "text": [
        " \r",
        "[*************    34%                  ]  1073988 of 3176590 complete Elapsed: 9.6 minutes\t Remaining: 18.8 minutes"
       ]
      },
      {
       "output_type": "stream",
       "stream": "stdout",
       "text": [
        " \r",
        "[*************    34%                  ]  1076709 of 3176590 complete Elapsed: 9.6 minutes\t Remaining: 18.7 minutes"
       ]
      },
      {
       "output_type": "stream",
       "stream": "stdout",
       "text": [
        " \r",
        "[*************    34%                  ]  1079492 of 3176590 complete Elapsed: 9.6 minutes\t Remaining: 18.7 minutes"
       ]
      },
      {
       "output_type": "stream",
       "stream": "stdout",
       "text": [
        " \r",
        "[*************    34%                  ]  1082393 of 3176590 complete Elapsed: 9.7 minutes\t Remaining: 18.7 minutes"
       ]
      },
      {
       "output_type": "stream",
       "stream": "stdout",
       "text": [
        " \r",
        "[*************    34%                  ]  1085324 of 3176590 complete Elapsed: 9.7 minutes\t Remaining: 18.7 minutes"
       ]
      },
      {
       "output_type": "stream",
       "stream": "stdout",
       "text": [
        " \r",
        "[*************    34%                  ]  1088499 of 3176590 complete Elapsed: 9.7 minutes\t Remaining: 18.6 minutes"
       ]
      },
      {
       "output_type": "stream",
       "stream": "stdout",
       "text": [
        " \r",
        "[*************    34%                  ]  1091497 of 3176590 complete Elapsed: 9.7 minutes\t Remaining: 18.6 minutes"
       ]
      },
      {
       "output_type": "stream",
       "stream": "stdout",
       "text": [
        " \r",
        "[*************    34%                  ]  1094411 of 3176590 complete Elapsed: 9.8 minutes\t Remaining: 18.6 minutes"
       ]
      },
      {
       "output_type": "stream",
       "stream": "stdout",
       "text": [
        " \r",
        "[*************    35%                  ]  1097447 of 3176590 complete Elapsed: 9.8 minutes\t Remaining: 18.5 minutes"
       ]
      },
      {
       "output_type": "stream",
       "stream": "stdout",
       "text": [
        " \r",
        "[*************    35%                  ]  1100386 of 3176590 complete Elapsed: 9.8 minutes\t Remaining: 18.5 minutes"
       ]
      },
      {
       "output_type": "stream",
       "stream": "stdout",
       "text": [
        " \r",
        "[*************    35%                  ]  1103543 of 3176590 complete Elapsed: 9.8 minutes\t Remaining: 18.5 minutes"
       ]
      },
      {
       "output_type": "stream",
       "stream": "stdout",
       "text": [
        " \r",
        "[*************    35%                  ]  1106420 of 3176590 complete Elapsed: 9.9 minutes\t Remaining: 18.4 minutes"
       ]
      },
      {
       "output_type": "stream",
       "stream": "stdout",
       "text": [
        " \r",
        "[*************    35%                  ]  1109697 of 3176590 complete Elapsed: 9.9 minutes\t Remaining: 18.4 minutes"
       ]
      },
      {
       "output_type": "stream",
       "stream": "stdout",
       "text": [
        " \r",
        "[*************    35%                  ]  1112581 of 3176590 complete Elapsed: 9.9 minutes\t Remaining: 18.4 minutes"
       ]
      },
      {
       "output_type": "stream",
       "stream": "stdout",
       "text": [
        " \r",
        "[*************    35%                  ]  1115576 of 3176590 complete Elapsed: 9.9 minutes\t Remaining: 18.3 minutes"
       ]
      },
      {
       "output_type": "stream",
       "stream": "stdout",
       "text": [
        " \r",
        "[*************    35%                  ]  1118432 of 3176590 complete Elapsed: 10.0 minutes\t Remaining: 18.3 minutes"
       ]
      },
      {
       "output_type": "stream",
       "stream": "stdout",
       "text": [
        " \r",
        "[*************    35%                  ]  1121364 of 3176590 complete Elapsed: 10.0 minutes\t Remaining: 18.3 minutes"
       ]
      },
      {
       "output_type": "stream",
       "stream": "stdout",
       "text": [
        " \r",
        "[*************    35%                  ]  1122451 of 3176590 complete Elapsed: 10.0 minutes\t Remaining: 18.4 minutes"
       ]
      },
      {
       "output_type": "stream",
       "stream": "stdout",
       "text": [
        " \r",
        "[*************    35%                  ]  1125207 of 3176590 complete Elapsed: 10.1 minutes\t Remaining: 18.4 minutes"
       ]
      },
      {
       "output_type": "stream",
       "stream": "stdout",
       "text": [
        " \r",
        "[**************   36%                  ]  1128146 of 3176590 complete Elapsed: 10.1 minutes\t Remaining: 18.3 minutes"
       ]
      },
      {
       "output_type": "stream",
       "stream": "stdout",
       "text": [
        " \r",
        "[**************   36%                  ]  1131219 of 3176590 complete Elapsed: 10.1 minutes\t Remaining: 18.3 minutes"
       ]
      },
      {
       "output_type": "stream",
       "stream": "stdout",
       "text": [
        " \r",
        "[**************   36%                  ]  1133835 of 3176590 complete Elapsed: 10.1 minutes\t Remaining: 18.3 minutes"
       ]
      },
      {
       "output_type": "stream",
       "stream": "stdout",
       "text": [
        " \r",
        "[**************   36%                  ]  1136814 of 3176590 complete Elapsed: 10.2 minutes\t Remaining: 18.2 minutes"
       ]
      },
      {
       "output_type": "stream",
       "stream": "stdout",
       "text": [
        " \r",
        "[**************   36%                  ]  1139757 of 3176590 complete Elapsed: 10.2 minutes\t Remaining: 18.2 minutes"
       ]
      },
      {
       "output_type": "stream",
       "stream": "stdout",
       "text": [
        " \r",
        "[**************   36%                  ]  1143180 of 3176590 complete Elapsed: 10.2 minutes\t Remaining: 18.2 minutes"
       ]
      },
      {
       "output_type": "stream",
       "stream": "stdout",
       "text": [
        " \r",
        "[**************   36%                  ]  1146603 of 3176590 complete Elapsed: 10.2 minutes\t Remaining: 18.1 minutes"
       ]
      },
      {
       "output_type": "stream",
       "stream": "stdout",
       "text": [
        " \r",
        "[**************   36%                  ]  1149790 of 3176590 complete Elapsed: 10.3 minutes\t Remaining: 18.1 minutes"
       ]
      },
      {
       "output_type": "stream",
       "stream": "stdout",
       "text": [
        " \r",
        "[**************   36%                  ]  1152657 of 3176590 complete Elapsed: 10.3 minutes\t Remaining: 18.1 minutes"
       ]
      },
      {
       "output_type": "stream",
       "stream": "stdout",
       "text": [
        " \r",
        "[**************   36%                  ]  1155625 of 3176590 complete Elapsed: 10.3 minutes\t Remaining: 18.0 minutes"
       ]
      },
      {
       "output_type": "stream",
       "stream": "stdout",
       "text": [
        " \r",
        "[**************   36%                  ]  1158368 of 3176590 complete Elapsed: 10.3 minutes\t Remaining: 18.0 minutes"
       ]
      },
      {
       "output_type": "stream",
       "stream": "stdout",
       "text": [
        " \r",
        "[**************   37%                  ]  1161132 of 3176590 complete Elapsed: 10.4 minutes\t Remaining: 18.0 minutes"
       ]
      },
      {
       "output_type": "stream",
       "stream": "stdout",
       "text": [
        " \r",
        "[**************   37%                  ]  1164313 of 3176590 complete Elapsed: 10.4 minutes\t Remaining: 18.0 minutes"
       ]
      },
      {
       "output_type": "stream",
       "stream": "stdout",
       "text": [
        " \r",
        "[**************   37%                  ]  1167164 of 3176590 complete Elapsed: 10.4 minutes\t Remaining: 17.9 minutes"
       ]
      },
      {
       "output_type": "stream",
       "stream": "stdout",
       "text": [
        " \r",
        "[**************   37%                  ]  1170019 of 3176590 complete Elapsed: 10.4 minutes\t Remaining: 17.9 minutes"
       ]
      },
      {
       "output_type": "stream",
       "stream": "stdout",
       "text": [
        " \r",
        "[**************   37%                  ]  1172906 of 3176590 complete Elapsed: 10.5 minutes\t Remaining: 17.9 minutes"
       ]
      },
      {
       "output_type": "stream",
       "stream": "stdout",
       "text": [
        " \r",
        "[**************   37%                  ]  1175878 of 3176590 complete Elapsed: 10.5 minutes\t Remaining: 17.9 minutes"
       ]
      },
      {
       "output_type": "stream",
       "stream": "stdout",
       "text": [
        " \r",
        "[**************   37%                  ]  1178608 of 3176590 complete Elapsed: 10.5 minutes\t Remaining: 17.8 minutes"
       ]
      },
      {
       "output_type": "stream",
       "stream": "stdout",
       "text": [
        " \r",
        "[**************   37%                  ]  1181327 of 3176590 complete Elapsed: 10.5 minutes\t Remaining: 17.8 minutes"
       ]
      },
      {
       "output_type": "stream",
       "stream": "stdout",
       "text": [
        " \r",
        "[**************   37%                  ]  1184065 of 3176590 complete Elapsed: 10.6 minutes\t Remaining: 17.8 minutes"
       ]
      },
      {
       "output_type": "stream",
       "stream": "stdout",
       "text": [
        " \r",
        "[**************   37%                  ]  1186764 of 3176590 complete Elapsed: 10.6 minutes\t Remaining: 17.8 minutes"
       ]
      },
      {
       "output_type": "stream",
       "stream": "stdout",
       "text": [
        " \r",
        "[**************   37%                  ]  1189917 of 3176590 complete Elapsed: 10.6 minutes\t Remaining: 17.7 minutes"
       ]
      },
      {
       "output_type": "stream",
       "stream": "stdout",
       "text": [
        " \r",
        "[**************   38%                  ]  1192780 of 3176590 complete Elapsed: 10.6 minutes\t Remaining: 17.7 minutes"
       ]
      },
      {
       "output_type": "stream",
       "stream": "stdout",
       "text": [
        " \r",
        "[**************   38%                  ]  1195628 of 3176590 complete Elapsed: 10.7 minutes\t Remaining: 17.7 minutes"
       ]
      },
      {
       "output_type": "stream",
       "stream": "stdout",
       "text": [
        " \r",
        "[**************   38%                  ]  1198657 of 3176590 complete Elapsed: 10.7 minutes\t Remaining: 17.6 minutes"
       ]
      },
      {
       "output_type": "stream",
       "stream": "stdout",
       "text": [
        " \r",
        "[**************   38%                  ]  1201672 of 3176590 complete Elapsed: 10.7 minutes\t Remaining: 17.6 minutes"
       ]
      },
      {
       "output_type": "stream",
       "stream": "stdout",
       "text": [
        " \r",
        "[**************   38%                  ]  1204472 of 3176590 complete Elapsed: 10.7 minutes\t Remaining: 17.6 minutes"
       ]
      },
      {
       "output_type": "stream",
       "stream": "stdout",
       "text": [
        " \r",
        "[**************   38%                  ]  1207266 of 3176590 complete Elapsed: 10.8 minutes\t Remaining: 17.6 minutes"
       ]
      },
      {
       "output_type": "stream",
       "stream": "stdout",
       "text": [
        " \r",
        "[**************   38%                  ]  1210271 of 3176590 complete Elapsed: 10.8 minutes\t Remaining: 17.5 minutes"
       ]
      },
      {
       "output_type": "stream",
       "stream": "stdout",
       "text": [
        " \r",
        "[**************   38%                  ]  1213191 of 3176590 complete Elapsed: 10.8 minutes\t Remaining: 17.5 minutes"
       ]
      },
      {
       "output_type": "stream",
       "stream": "stdout",
       "text": [
        " \r",
        "[**************   38%                  ]  1215873 of 3176590 complete Elapsed: 10.8 minutes\t Remaining: 17.5 minutes"
       ]
      },
      {
       "output_type": "stream",
       "stream": "stdout",
       "text": [
        " \r",
        "[**************   38%                  ]  1218737 of 3176590 complete Elapsed: 10.9 minutes\t Remaining: 17.5 minutes"
       ]
      },
      {
       "output_type": "stream",
       "stream": "stdout",
       "text": [
        " \r",
        "[**************   38%                  ]  1221712 of 3176590 complete Elapsed: 10.9 minutes\t Remaining: 17.4 minutes"
       ]
      },
      {
       "output_type": "stream",
       "stream": "stdout",
       "text": [
        " \r",
        "[***************  39%                  ]  1224628 of 3176590 complete Elapsed: 10.9 minutes\t Remaining: 17.4 minutes"
       ]
      },
      {
       "output_type": "stream",
       "stream": "stdout",
       "text": [
        " \r",
        "[***************  39%                  ]  1227470 of 3176590 complete Elapsed: 10.9 minutes\t Remaining: 17.4 minutes"
       ]
      },
      {
       "output_type": "stream",
       "stream": "stdout",
       "text": [
        " \r",
        "[***************  39%                  ]  1230474 of 3176590 complete Elapsed: 11.0 minutes\t Remaining: 17.3 minutes"
       ]
      },
      {
       "output_type": "stream",
       "stream": "stdout",
       "text": [
        " \r",
        "[***************  39%                  ]  1233380 of 3176590 complete Elapsed: 11.0 minutes\t Remaining: 17.3 minutes"
       ]
      },
      {
       "output_type": "stream",
       "stream": "stdout",
       "text": [
        " \r",
        "[***************  39%                  ]  1236170 of 3176590 complete Elapsed: 11.0 minutes\t Remaining: 17.3 minutes"
       ]
      },
      {
       "output_type": "stream",
       "stream": "stdout",
       "text": [
        " \r",
        "[***************  39%                  ]  1239182 of 3176590 complete Elapsed: 11.0 minutes\t Remaining: 17.3 minutes"
       ]
      },
      {
       "output_type": "stream",
       "stream": "stdout",
       "text": [
        " \r",
        "[***************  39%                  ]  1242087 of 3176590 complete Elapsed: 11.1 minutes\t Remaining: 17.2 minutes"
       ]
      },
      {
       "output_type": "stream",
       "stream": "stdout",
       "text": [
        " \r",
        "[***************  39%                  ]  1245154 of 3176590 complete Elapsed: 11.1 minutes\t Remaining: 17.2 minutes"
       ]
      },
      {
       "output_type": "stream",
       "stream": "stdout",
       "text": [
        " \r",
        "[***************  39%                  ]  1248090 of 3176590 complete Elapsed: 11.1 minutes\t Remaining: 17.2 minutes"
       ]
      },
      {
       "output_type": "stream",
       "stream": "stdout",
       "text": [
        " \r",
        "[***************  39%                  ]  1251023 of 3176590 complete Elapsed: 11.1 minutes\t Remaining: 17.2 minutes"
       ]
      },
      {
       "output_type": "stream",
       "stream": "stdout",
       "text": [
        " \r",
        "[***************  39%                  ]  1254053 of 3176590 complete Elapsed: 11.2 minutes\t Remaining: 17.1 minutes"
       ]
      },
      {
       "output_type": "stream",
       "stream": "stdout",
       "text": [
        " \r",
        "[***************  40%                  ]  1256846 of 3176590 complete Elapsed: 11.2 minutes\t Remaining: 17.1 minutes"
       ]
      },
      {
       "output_type": "stream",
       "stream": "stdout",
       "text": [
        " \r",
        "[***************  40%                  ]  1259769 of 3176590 complete Elapsed: 11.2 minutes\t Remaining: 17.1 minutes"
       ]
      },
      {
       "output_type": "stream",
       "stream": "stdout",
       "text": [
        " \r",
        "[***************  40%                  ]  1262810 of 3176590 complete Elapsed: 11.2 minutes\t Remaining: 17.0 minutes"
       ]
      },
      {
       "output_type": "stream",
       "stream": "stdout",
       "text": [
        " \r",
        "[***************  40%                  ]  1265696 of 3176590 complete Elapsed: 11.3 minutes\t Remaining: 17.0 minutes"
       ]
      },
      {
       "output_type": "stream",
       "stream": "stdout",
       "text": [
        " \r",
        "[***************  40%                  ]  1268607 of 3176590 complete Elapsed: 11.3 minutes\t Remaining: 17.0 minutes"
       ]
      },
      {
       "output_type": "stream",
       "stream": "stdout",
       "text": [
        " \r",
        "[***************  40%                  ]  1271627 of 3176590 complete Elapsed: 11.3 minutes\t Remaining: 17.0 minutes"
       ]
      },
      {
       "output_type": "stream",
       "stream": "stdout",
       "text": [
        " \r",
        "[***************  40%                  ]  1274642 of 3176590 complete Elapsed: 11.3 minutes\t Remaining: 16.9 minutes"
       ]
      },
      {
       "output_type": "stream",
       "stream": "stdout",
       "text": [
        " \r",
        "[***************  40%                  ]  1277775 of 3176590 complete Elapsed: 11.4 minutes\t Remaining: 16.9 minutes"
       ]
      },
      {
       "output_type": "stream",
       "stream": "stdout",
       "text": [
        " \r",
        "[***************  40%                  ]  1280672 of 3176590 complete Elapsed: 11.4 minutes\t Remaining: 16.9 minutes"
       ]
      },
      {
       "output_type": "stream",
       "stream": "stdout",
       "text": [
        " \r",
        "[***************  40%                  ]  1283534 of 3176590 complete Elapsed: 11.4 minutes\t Remaining: 16.8 minutes"
       ]
      },
      {
       "output_type": "stream",
       "stream": "stdout",
       "text": [
        " \r",
        "[**************** 41%                  ]  1286596 of 3176590 complete Elapsed: 11.4 minutes\t Remaining: 16.8 minutes"
       ]
      },
      {
       "output_type": "stream",
       "stream": "stdout",
       "text": [
        " \r",
        "[**************** 41%                  ]  1289356 of 3176590 complete Elapsed: 11.5 minutes\t Remaining: 16.8 minutes"
       ]
      },
      {
       "output_type": "stream",
       "stream": "stdout",
       "text": [
        " \r",
        "[**************** 41%                  ]  1292297 of 3176590 complete Elapsed: 11.5 minutes\t Remaining: 16.8 minutes"
       ]
      },
      {
       "output_type": "stream",
       "stream": "stdout",
       "text": [
        " \r",
        "[**************** 41%                  ]  1295174 of 3176590 complete Elapsed: 11.5 minutes\t Remaining: 16.7 minutes"
       ]
      },
      {
       "output_type": "stream",
       "stream": "stdout",
       "text": [
        " \r",
        "[**************** 41%                  ]  1298328 of 3176590 complete Elapsed: 11.5 minutes\t Remaining: 16.7 minutes"
       ]
      },
      {
       "output_type": "stream",
       "stream": "stdout",
       "text": [
        " \r",
        "[**************** 41%                  ]  1301275 of 3176590 complete Elapsed: 11.6 minutes\t Remaining: 16.7 minutes"
       ]
      },
      {
       "output_type": "stream",
       "stream": "stdout",
       "text": [
        " \r",
        "[**************** 41%                  ]  1304055 of 3176590 complete Elapsed: 11.6 minutes\t Remaining: 16.6 minutes"
       ]
      },
      {
       "output_type": "stream",
       "stream": "stdout",
       "text": [
        " \r",
        "[**************** 41%                  ]  1306965 of 3176590 complete Elapsed: 11.6 minutes\t Remaining: 16.6 minutes"
       ]
      },
      {
       "output_type": "stream",
       "stream": "stdout",
       "text": [
        " \r",
        "[**************** 41%                  ]  1309950 of 3176590 complete Elapsed: 11.6 minutes\t Remaining: 16.6 minutes"
       ]
      },
      {
       "output_type": "stream",
       "stream": "stdout",
       "text": [
        " \r",
        "[**************** 41%                  ]  1312803 of 3176590 complete Elapsed: 11.7 minutes\t Remaining: 16.6 minutes"
       ]
      },
      {
       "output_type": "stream",
       "stream": "stdout",
       "text": [
        " \r",
        "[**************** 41%                  ]  1315641 of 3176590 complete Elapsed: 11.7 minutes\t Remaining: 16.5 minutes"
       ]
      },
      {
       "output_type": "stream",
       "stream": "stdout",
       "text": [
        " \r",
        "[**************** 42%                  ]  1318643 of 3176590 complete Elapsed: 11.7 minutes\t Remaining: 16.5 minutes"
       ]
      },
      {
       "output_type": "stream",
       "stream": "stdout",
       "text": [
        " \r",
        "[**************** 42%                  ]  1321585 of 3176590 complete Elapsed: 11.7 minutes\t Remaining: 16.5 minutes"
       ]
      },
      {
       "output_type": "stream",
       "stream": "stdout",
       "text": [
        " \r",
        "[**************** 42%                  ]  1324467 of 3176590 complete Elapsed: 11.8 minutes\t Remaining: 16.5 minutes"
       ]
      },
      {
       "output_type": "stream",
       "stream": "stdout",
       "text": [
        " \r",
        "[**************** 42%                  ]  1327560 of 3176590 complete Elapsed: 11.8 minutes\t Remaining: 16.4 minutes"
       ]
      },
      {
       "output_type": "stream",
       "stream": "stdout",
       "text": [
        " \r",
        "[**************** 42%                  ]  1330302 of 3176590 complete Elapsed: 11.8 minutes\t Remaining: 16.4 minutes"
       ]
      },
      {
       "output_type": "stream",
       "stream": "stdout",
       "text": [
        " \r",
        "[**************** 42%                  ]  1333299 of 3176590 complete Elapsed: 11.8 minutes\t Remaining: 16.4 minutes"
       ]
      },
      {
       "output_type": "stream",
       "stream": "stdout",
       "text": [
        " \r",
        "[**************** 42%                  ]  1336038 of 3176590 complete Elapsed: 11.9 minutes\t Remaining: 16.4 minutes"
       ]
      },
      {
       "output_type": "stream",
       "stream": "stdout",
       "text": [
        " \r",
        "[**************** 42%                  ]  1339157 of 3176590 complete Elapsed: 11.9 minutes\t Remaining: 16.3 minutes"
       ]
      },
      {
       "output_type": "stream",
       "stream": "stdout",
       "text": [
        " \r",
        "[**************** 42%                  ]  1342145 of 3176590 complete Elapsed: 11.9 minutes\t Remaining: 16.3 minutes"
       ]
      },
      {
       "output_type": "stream",
       "stream": "stdout",
       "text": [
        " \r",
        "[**************** 42%                  ]  1345178 of 3176590 complete Elapsed: 11.9 minutes\t Remaining: 16.3 minutes"
       ]
      },
      {
       "output_type": "stream",
       "stream": "stdout",
       "text": [
        " \r",
        "[**************** 42%                  ]  1348348 of 3176590 complete Elapsed: 12.0 minutes\t Remaining: 16.2 minutes"
       ]
      },
      {
       "output_type": "stream",
       "stream": "stdout",
       "text": [
        " \r",
        "[**************** 43%                  ]  1351316 of 3176590 complete Elapsed: 12.0 minutes\t Remaining: 16.2 minutes"
       ]
      },
      {
       "output_type": "stream",
       "stream": "stdout",
       "text": [
        " \r",
        "[**************** 43%                  ]  1354093 of 3176590 complete Elapsed: 12.0 minutes\t Remaining: 16.2 minutes"
       ]
      },
      {
       "output_type": "stream",
       "stream": "stdout",
       "text": [
        " \r",
        "[**************** 43%                  ]  1356870 of 3176590 complete Elapsed: 12.0 minutes\t Remaining: 16.2 minutes"
       ]
      },
      {
       "output_type": "stream",
       "stream": "stdout",
       "text": [
        " \r",
        "[**************** 43%                  ]  1359920 of 3176590 complete Elapsed: 12.1 minutes\t Remaining: 16.1 minutes"
       ]
      },
      {
       "output_type": "stream",
       "stream": "stdout",
       "text": [
        " \r",
        "[**************** 43%                  ]  1363284 of 3176590 complete Elapsed: 12.1 minutes\t Remaining: 16.1 minutes"
       ]
      },
      {
       "output_type": "stream",
       "stream": "stdout",
       "text": [
        " \r",
        "[**************** 43%                  ]  1366735 of 3176590 complete Elapsed: 12.1 minutes\t Remaining: 16.0 minutes"
       ]
      },
      {
       "output_type": "stream",
       "stream": "stdout",
       "text": [
        " \r",
        "[**************** 43%                  ]  1370161 of 3176590 complete Elapsed: 12.1 minutes\t Remaining: 16.0 minutes"
       ]
      },
      {
       "output_type": "stream",
       "stream": "stdout",
       "text": [
        " \r",
        "[**************** 43%                  ]  1373253 of 3176590 complete Elapsed: 12.2 minutes\t Remaining: 16.0 minutes"
       ]
      },
      {
       "output_type": "stream",
       "stream": "stdout",
       "text": [
        " \r",
        "[**************** 43%                  ]  1376561 of 3176590 complete Elapsed: 12.2 minutes\t Remaining: 15.9 minutes"
       ]
      },
      {
       "output_type": "stream",
       "stream": "stdout",
       "text": [
        " \r",
        "[**************** 43%                  ]  1379414 of 3176590 complete Elapsed: 12.2 minutes\t Remaining: 15.9 minutes"
       ]
      },
      {
       "output_type": "stream",
       "stream": "stdout",
       "text": [
        " \r",
        "[*****************44%                  ]  1382487 of 3176590 complete Elapsed: 12.2 minutes\t Remaining: 15.9 minutes"
       ]
      },
      {
       "output_type": "stream",
       "stream": "stdout",
       "text": [
        " \r",
        "[*****************44%                  ]  1385384 of 3176590 complete Elapsed: 12.3 minutes\t Remaining: 15.9 minutes"
       ]
      },
      {
       "output_type": "stream",
       "stream": "stdout",
       "text": [
        " \r",
        "[*****************44%                  ]  1388330 of 3176590 complete Elapsed: 12.3 minutes\t Remaining: 15.8 minutes"
       ]
      },
      {
       "output_type": "stream",
       "stream": "stdout",
       "text": [
        " \r",
        "[*****************44%                  ]  1391103 of 3176590 complete Elapsed: 12.3 minutes\t Remaining: 15.8 minutes"
       ]
      },
      {
       "output_type": "stream",
       "stream": "stdout",
       "text": [
        " \r",
        "[*****************44%                  ]  1393951 of 3176590 complete Elapsed: 12.3 minutes\t Remaining: 15.8 minutes"
       ]
      },
      {
       "output_type": "stream",
       "stream": "stdout",
       "text": [
        " \r",
        "[*****************44%                  ]  1396970 of 3176590 complete Elapsed: 12.4 minutes\t Remaining: 15.8 minutes"
       ]
      },
      {
       "output_type": "stream",
       "stream": "stdout",
       "text": [
        " \r",
        "[*****************44%                  ]  1399842 of 3176590 complete Elapsed: 12.4 minutes\t Remaining: 15.7 minutes"
       ]
      },
      {
       "output_type": "stream",
       "stream": "stdout",
       "text": [
        " \r",
        "[*****************44%                  ]  1402716 of 3176590 complete Elapsed: 12.4 minutes\t Remaining: 15.7 minutes"
       ]
      },
      {
       "output_type": "stream",
       "stream": "stdout",
       "text": [
        " \r",
        "[*****************44%                  ]  1405581 of 3176590 complete Elapsed: 12.4 minutes\t Remaining: 15.7 minutes"
       ]
      },
      {
       "output_type": "stream",
       "stream": "stdout",
       "text": [
        " \r",
        "[*****************44%                  ]  1408984 of 3176590 complete Elapsed: 12.5 minutes\t Remaining: 15.6 minutes"
       ]
      },
      {
       "output_type": "stream",
       "stream": "stdout",
       "text": [
        " \r",
        "[*****************44%                  ]  1411700 of 3176590 complete Elapsed: 12.6 minutes\t Remaining: 15.7 minutes"
       ]
      },
      {
       "output_type": "stream",
       "stream": "stdout",
       "text": [
        " \r",
        "[*****************45%                  ]  1414546 of 3176590 complete Elapsed: 12.6 minutes\t Remaining: 15.7 minutes"
       ]
      },
      {
       "output_type": "stream",
       "stream": "stdout",
       "text": [
        " \r",
        "[*****************45%                  ]  1417442 of 3176590 complete Elapsed: 12.6 minutes\t Remaining: 15.6 minutes"
       ]
      },
      {
       "output_type": "stream",
       "stream": "stdout",
       "text": [
        " \r",
        "[*****************45%                  ]  1420361 of 3176590 complete Elapsed: 12.6 minutes\t Remaining: 15.6 minutes"
       ]
      },
      {
       "output_type": "stream",
       "stream": "stdout",
       "text": [
        " \r",
        "[*****************45%                  ]  1423152 of 3176590 complete Elapsed: 12.7 minutes\t Remaining: 15.6 minutes"
       ]
      },
      {
       "output_type": "stream",
       "stream": "stdout",
       "text": [
        " \r",
        "[*****************45%                  ]  1426259 of 3176590 complete Elapsed: 12.7 minutes\t Remaining: 15.6 minutes"
       ]
      },
      {
       "output_type": "stream",
       "stream": "stdout",
       "text": [
        " \r",
        "[*****************45%                  ]  1429406 of 3176590 complete Elapsed: 12.7 minutes\t Remaining: 15.5 minutes"
       ]
      },
      {
       "output_type": "stream",
       "stream": "stdout",
       "text": [
        " \r",
        "[*****************45%                  ]  1432157 of 3176590 complete Elapsed: 12.7 minutes\t Remaining: 15.5 minutes"
       ]
      },
      {
       "output_type": "stream",
       "stream": "stdout",
       "text": [
        " \r",
        "[*****************45%                  ]  1435043 of 3176590 complete Elapsed: 12.8 minutes\t Remaining: 15.5 minutes"
       ]
      },
      {
       "output_type": "stream",
       "stream": "stdout",
       "text": [
        " \r",
        "[*****************45%                  ]  1437839 of 3176590 complete Elapsed: 12.8 minutes\t Remaining: 15.5 minutes"
       ]
      },
      {
       "output_type": "stream",
       "stream": "stdout",
       "text": [
        " \r",
        "[*****************45%                  ]  1440894 of 3176590 complete Elapsed: 12.8 minutes\t Remaining: 15.4 minutes"
       ]
      },
      {
       "output_type": "stream",
       "stream": "stdout",
       "text": [
        " \r",
        "[*****************45%                  ]  1443901 of 3176590 complete Elapsed: 12.8 minutes\t Remaining: 15.4 minutes"
       ]
      },
      {
       "output_type": "stream",
       "stream": "stdout",
       "text": [
        " \r",
        "[*****************46%                  ]  1446916 of 3176590 complete Elapsed: 12.9 minutes\t Remaining: 15.4 minutes"
       ]
      },
      {
       "output_type": "stream",
       "stream": "stdout",
       "text": [
        " \r",
        "[*****************46%                  ]  1450517 of 3176590 complete Elapsed: 12.9 minutes\t Remaining: 15.3 minutes"
       ]
      },
      {
       "output_type": "stream",
       "stream": "stdout",
       "text": [
        " \r",
        "[*****************46%                  ]  1453497 of 3176590 complete Elapsed: 12.9 minutes\t Remaining: 15.3 minutes"
       ]
      },
      {
       "output_type": "stream",
       "stream": "stdout",
       "text": [
        " \r",
        "[*****************46%                  ]  1456434 of 3176590 complete Elapsed: 12.9 minutes\t Remaining: 15.3 minutes"
       ]
      },
      {
       "output_type": "stream",
       "stream": "stdout",
       "text": [
        " \r",
        "[*****************46%                  ]  1459606 of 3176590 complete Elapsed: 13.0 minutes\t Remaining: 15.2 minutes"
       ]
      },
      {
       "output_type": "stream",
       "stream": "stdout",
       "text": [
        " \r",
        "[*****************46%                  ]  1462516 of 3176590 complete Elapsed: 13.0 minutes\t Remaining: 15.2 minutes"
       ]
      },
      {
       "output_type": "stream",
       "stream": "stdout",
       "text": [
        " \r",
        "[*****************46%                  ]  1465403 of 3176590 complete Elapsed: 13.0 minutes\t Remaining: 15.2 minutes"
       ]
      },
      {
       "output_type": "stream",
       "stream": "stdout",
       "text": [
        " \r",
        "[*****************46%                  ]  1468383 of 3176590 complete Elapsed: 13.0 minutes\t Remaining: 15.2 minutes"
       ]
      },
      {
       "output_type": "stream",
       "stream": "stdout",
       "text": [
        " \r",
        "[*****************46%                  ]  1471240 of 3176590 complete Elapsed: 13.1 minutes\t Remaining: 15.1 minutes"
       ]
      },
      {
       "output_type": "stream",
       "stream": "stdout",
       "text": [
        " \r",
        "[*****************46%                  ]  1474223 of 3176590 complete Elapsed: 13.1 minutes\t Remaining: 15.1 minutes"
       ]
      },
      {
       "output_type": "stream",
       "stream": "stdout",
       "text": [
        " \r",
        "[*****************47%                  ]  1477270 of 3176590 complete Elapsed: 13.1 minutes\t Remaining: 15.1 minutes"
       ]
      },
      {
       "output_type": "stream",
       "stream": "stdout",
       "text": [
        " \r",
        "[*****************47%                  ]  1480038 of 3176590 complete Elapsed: 13.1 minutes\t Remaining: 15.0 minutes"
       ]
      },
      {
       "output_type": "stream",
       "stream": "stdout",
       "text": [
        " \r",
        "[*****************47%                  ]  1482809 of 3176590 complete Elapsed: 13.2 minutes\t Remaining: 15.0 minutes"
       ]
      },
      {
       "output_type": "stream",
       "stream": "stdout",
       "text": [
        " \r",
        "[*****************47%                  ]  1485896 of 3176590 complete Elapsed: 13.2 minutes\t Remaining: 15.0 minutes"
       ]
      },
      {
       "output_type": "stream",
       "stream": "stdout",
       "text": [
        " \r",
        "[*****************47%                  ]  1489007 of 3176590 complete Elapsed: 13.2 minutes\t Remaining: 15.0 minutes"
       ]
      },
      {
       "output_type": "stream",
       "stream": "stdout",
       "text": [
        " \r",
        "[*****************47%                  ]  1491573 of 3176590 complete Elapsed: 13.2 minutes\t Remaining: 14.9 minutes"
       ]
      },
      {
       "output_type": "stream",
       "stream": "stdout",
       "text": [
        " \r",
        "[*****************47%                  ]  1494479 of 3176590 complete Elapsed: 13.3 minutes\t Remaining: 14.9 minutes"
       ]
      },
      {
       "output_type": "stream",
       "stream": "stdout",
       "text": [
        " \r",
        "[*****************47%                  ]  1497376 of 3176590 complete Elapsed: 13.3 minutes\t Remaining: 14.9 minutes"
       ]
      },
      {
       "output_type": "stream",
       "stream": "stdout",
       "text": [
        " \r",
        "[*****************47%                  ]  1500155 of 3176590 complete Elapsed: 13.3 minutes\t Remaining: 14.9 minutes"
       ]
      },
      {
       "output_type": "stream",
       "stream": "stdout",
       "text": [
        " \r",
        "[*****************47%                  ]  1503061 of 3176590 complete Elapsed: 13.3 minutes\t Remaining: 14.8 minutes"
       ]
      },
      {
       "output_type": "stream",
       "stream": "stdout",
       "text": [
        " \r",
        "[*****************47%                  ]  1505963 of 3176590 complete Elapsed: 13.4 minutes\t Remaining: 14.8 minutes"
       ]
      },
      {
       "output_type": "stream",
       "stream": "stdout",
       "text": [
        " \r",
        "[*****************48%                  ]  1508932 of 3176590 complete Elapsed: 13.4 minutes\t Remaining: 14.8 minutes"
       ]
      },
      {
       "output_type": "stream",
       "stream": "stdout",
       "text": [
        " \r",
        "[*****************48%                  ]  1511977 of 3176590 complete Elapsed: 13.4 minutes\t Remaining: 14.8 minutes"
       ]
      },
      {
       "output_type": "stream",
       "stream": "stdout",
       "text": [
        " \r",
        "[*****************48%                  ]  1515085 of 3176590 complete Elapsed: 13.4 minutes\t Remaining: 14.7 minutes"
       ]
      },
      {
       "output_type": "stream",
       "stream": "stdout",
       "text": [
        " \r",
        "[*****************48%                  ]  1518032 of 3176590 complete Elapsed: 13.5 minutes\t Remaining: 14.7 minutes"
       ]
      },
      {
       "output_type": "stream",
       "stream": "stdout",
       "text": [
        " \r",
        "[*****************48%                  ]  1521064 of 3176590 complete Elapsed: 13.5 minutes\t Remaining: 14.7 minutes"
       ]
      },
      {
       "output_type": "stream",
       "stream": "stdout",
       "text": [
        " \r",
        "[*****************48%                  ]  1523826 of 3176590 complete Elapsed: 13.5 minutes\t Remaining: 14.6 minutes"
       ]
      },
      {
       "output_type": "stream",
       "stream": "stdout",
       "text": [
        " \r",
        "[*****************48%                  ]  1526690 of 3176590 complete Elapsed: 13.5 minutes\t Remaining: 14.6 minutes"
       ]
      },
      {
       "output_type": "stream",
       "stream": "stdout",
       "text": [
        " \r",
        "[*****************48%                  ]  1529665 of 3176590 complete Elapsed: 13.6 minutes\t Remaining: 14.6 minutes"
       ]
      },
      {
       "output_type": "stream",
       "stream": "stdout",
       "text": [
        " \r",
        "[*****************48%                  ]  1532423 of 3176590 complete Elapsed: 13.6 minutes\t Remaining: 14.6 minutes"
       ]
      },
      {
       "output_type": "stream",
       "stream": "stdout",
       "text": [
        " \r",
        "[*****************48%                  ]  1535305 of 3176590 complete Elapsed: 13.6 minutes\t Remaining: 14.5 minutes"
       ]
      },
      {
       "output_type": "stream",
       "stream": "stdout",
       "text": [
        " \r",
        "[*****************48%                  ]  1538153 of 3176590 complete Elapsed: 13.6 minutes\t Remaining: 14.5 minutes"
       ]
      },
      {
       "output_type": "stream",
       "stream": "stdout",
       "text": [
        " \r",
        "[*****************49%                  ]  1541032 of 3176590 complete Elapsed: 13.7 minutes\t Remaining: 14.5 minutes"
       ]
      },
      {
       "output_type": "stream",
       "stream": "stdout",
       "text": [
        " \r",
        "[*****************49%                  ]  1544313 of 3176590 complete Elapsed: 13.7 minutes\t Remaining: 14.5 minutes"
       ]
      },
      {
       "output_type": "stream",
       "stream": "stdout",
       "text": [
        " \r",
        "[*****************49%                  ]  1547164 of 3176590 complete Elapsed: 13.7 minutes\t Remaining: 14.4 minutes"
       ]
      },
      {
       "output_type": "stream",
       "stream": "stdout",
       "text": [
        " \r",
        "[*****************49%                  ]  1550024 of 3176590 complete Elapsed: 13.7 minutes\t Remaining: 14.4 minutes"
       ]
      },
      {
       "output_type": "stream",
       "stream": "stdout",
       "text": [
        " \r",
        "[*****************49%                  ]  1552942 of 3176590 complete Elapsed: 13.8 minutes\t Remaining: 14.4 minutes"
       ]
      },
      {
       "output_type": "stream",
       "stream": "stdout",
       "text": [
        " \r",
        "[*****************49%                  ]  1555931 of 3176590 complete Elapsed: 13.8 minutes\t Remaining: 14.4 minutes"
       ]
      },
      {
       "output_type": "stream",
       "stream": "stdout",
       "text": [
        " \r",
        "[*****************49%                  ]  1558857 of 3176590 complete Elapsed: 13.8 minutes\t Remaining: 14.3 minutes"
       ]
      },
      {
       "output_type": "stream",
       "stream": "stdout",
       "text": [
        " \r",
        "[*****************49%                  ]  1561576 of 3176590 complete Elapsed: 13.8 minutes\t Remaining: 14.3 minutes"
       ]
      },
      {
       "output_type": "stream",
       "stream": "stdout",
       "text": [
        " \r",
        "[*****************49%                  ]  1564634 of 3176590 complete Elapsed: 13.9 minutes\t Remaining: 14.3 minutes"
       ]
      },
      {
       "output_type": "stream",
       "stream": "stdout",
       "text": [
        " \r",
        "[*****************49%                  ]  1567684 of 3176590 complete Elapsed: 13.9 minutes\t Remaining: 14.2 minutes"
       ]
      },
      {
       "output_type": "stream",
       "stream": "stdout",
       "text": [
        " \r",
        "[*****************49%                  ]  1570548 of 3176590 complete Elapsed: 13.9 minutes\t Remaining: 14.2 minutes"
       ]
      },
      {
       "output_type": "stream",
       "stream": "stdout",
       "text": [
        " \r",
        "[*****************50%                  ]  1573321 of 3176590 complete Elapsed: 13.9 minutes\t Remaining: 14.2 minutes"
       ]
      },
      {
       "output_type": "stream",
       "stream": "stdout",
       "text": [
        " \r",
        "[*****************50%                  ]  1576185 of 3176590 complete Elapsed: 14.0 minutes\t Remaining: 14.2 minutes"
       ]
      },
      {
       "output_type": "stream",
       "stream": "stdout",
       "text": [
        " \r",
        "[*****************50%                  ]  1579188 of 3176590 complete Elapsed: 14.0 minutes\t Remaining: 14.1 minutes"
       ]
      },
      {
       "output_type": "stream",
       "stream": "stdout",
       "text": [
        " \r",
        "[*****************50%                  ]  1582172 of 3176590 complete Elapsed: 14.0 minutes\t Remaining: 14.1 minutes"
       ]
      },
      {
       "output_type": "stream",
       "stream": "stdout",
       "text": [
        " \r",
        "[*****************50%                  ]  1585252 of 3176590 complete Elapsed: 14.0 minutes\t Remaining: 14.1 minutes"
       ]
      },
      {
       "output_type": "stream",
       "stream": "stdout",
       "text": [
        " \r",
        "[*****************50%                  ]  1588199 of 3176590 complete Elapsed: 14.1 minutes\t Remaining: 14.1 minutes"
       ]
      },
      {
       "output_type": "stream",
       "stream": "stdout",
       "text": [
        " \r",
        "[*****************50%                  ]  1591128 of 3176590 complete Elapsed: 14.1 minutes\t Remaining: 14.0 minutes"
       ]
      },
      {
       "output_type": "stream",
       "stream": "stdout",
       "text": [
        " \r",
        "[*****************50%                  ]  1593710 of 3176590 complete Elapsed: 14.1 minutes\t Remaining: 14.0 minutes"
       ]
      },
      {
       "output_type": "stream",
       "stream": "stdout",
       "text": [
        " \r",
        "[*****************50%                  ]  1596362 of 3176590 complete Elapsed: 14.1 minutes\t Remaining: 14.0 minutes"
       ]
      },
      {
       "output_type": "stream",
       "stream": "stdout",
       "text": [
        " \r",
        "[*****************50%                  ]  1599269 of 3176590 complete Elapsed: 14.2 minutes\t Remaining: 14.0 minutes"
       ]
      },
      {
       "output_type": "stream",
       "stream": "stdout",
       "text": [
        " \r",
        "[*****************50%                  ]  1602171 of 3176590 complete Elapsed: 14.2 minutes\t Remaining: 13.9 minutes"
       ]
      },
      {
       "output_type": "stream",
       "stream": "stdout",
       "text": [
        " \r",
        "[*****************51%                  ]  1605140 of 3176590 complete Elapsed: 14.2 minutes\t Remaining: 13.9 minutes"
       ]
      },
      {
       "output_type": "stream",
       "stream": "stdout",
       "text": [
        " \r",
        "[*****************51%                  ]  1608201 of 3176590 complete Elapsed: 14.2 minutes\t Remaining: 13.9 minutes"
       ]
      },
      {
       "output_type": "stream",
       "stream": "stdout",
       "text": [
        " \r",
        "[*****************51%                  ]  1611084 of 3176590 complete Elapsed: 14.3 minutes\t Remaining: 13.9 minutes"
       ]
      },
      {
       "output_type": "stream",
       "stream": "stdout",
       "text": [
        " \r",
        "[*****************51%                  ]  1613886 of 3176590 complete Elapsed: 14.3 minutes\t Remaining: 13.8 minutes"
       ]
      },
      {
       "output_type": "stream",
       "stream": "stdout",
       "text": [
        " \r",
        "[*****************51%                  ]  1616776 of 3176590 complete Elapsed: 14.3 minutes\t Remaining: 13.8 minutes"
       ]
      },
      {
       "output_type": "stream",
       "stream": "stdout",
       "text": [
        " \r",
        "[*****************51%                  ]  1619798 of 3176590 complete Elapsed: 14.3 minutes\t Remaining: 13.8 minutes"
       ]
      },
      {
       "output_type": "stream",
       "stream": "stdout",
       "text": [
        " \r",
        "[*****************51%                  ]  1622736 of 3176590 complete Elapsed: 14.4 minutes\t Remaining: 13.7 minutes"
       ]
      },
      {
       "output_type": "stream",
       "stream": "stdout",
       "text": [
        " \r",
        "[*****************51%                  ]  1625589 of 3176590 complete Elapsed: 14.4 minutes\t Remaining: 13.7 minutes"
       ]
      },
      {
       "output_type": "stream",
       "stream": "stdout",
       "text": [
        " \r",
        "[*****************51%                  ]  1628727 of 3176590 complete Elapsed: 14.4 minutes\t Remaining: 13.7 minutes"
       ]
      },
      {
       "output_type": "stream",
       "stream": "stdout",
       "text": [
        " \r",
        "[*****************51%                  ]  1631625 of 3176590 complete Elapsed: 14.4 minutes\t Remaining: 13.7 minutes"
       ]
      },
      {
       "output_type": "stream",
       "stream": "stdout",
       "text": [
        " \r",
        "[*****************51%                  ]  1634699 of 3176590 complete Elapsed: 14.5 minutes\t Remaining: 13.6 minutes"
       ]
      },
      {
       "output_type": "stream",
       "stream": "stdout",
       "text": [
        " \r",
        "[*****************52%                  ]  1637707 of 3176590 complete Elapsed: 14.5 minutes\t Remaining: 13.6 minutes"
       ]
      },
      {
       "output_type": "stream",
       "stream": "stdout",
       "text": [
        " \r",
        "[*****************52%                  ]  1640599 of 3176590 complete Elapsed: 14.5 minutes\t Remaining: 13.6 minutes"
       ]
      },
      {
       "output_type": "stream",
       "stream": "stdout",
       "text": [
        " \r",
        "[*****************52%                  ]  1643578 of 3176590 complete Elapsed: 14.5 minutes\t Remaining: 13.6 minutes"
       ]
      },
      {
       "output_type": "stream",
       "stream": "stdout",
       "text": [
        " \r",
        "[*****************52%                  ]  1646414 of 3176590 complete Elapsed: 14.6 minutes\t Remaining: 13.5 minutes"
       ]
      },
      {
       "output_type": "stream",
       "stream": "stdout",
       "text": [
        " \r",
        "[*****************52%                  ]  1649398 of 3176590 complete Elapsed: 14.6 minutes\t Remaining: 13.5 minutes"
       ]
      },
      {
       "output_type": "stream",
       "stream": "stdout",
       "text": [
        " \r",
        "[*****************52%                  ]  1652231 of 3176590 complete Elapsed: 14.6 minutes\t Remaining: 13.5 minutes"
       ]
      },
      {
       "output_type": "stream",
       "stream": "stdout",
       "text": [
        " \r",
        "[*****************52%                  ]  1655124 of 3176590 complete Elapsed: 14.6 minutes\t Remaining: 13.4 minutes"
       ]
      },
      {
       "output_type": "stream",
       "stream": "stdout",
       "text": [
        " \r",
        "[*****************52%                  ]  1658099 of 3176590 complete Elapsed: 14.7 minutes\t Remaining: 13.4 minutes"
       ]
      },
      {
       "output_type": "stream",
       "stream": "stdout",
       "text": [
        " \r",
        "[*****************52%                  ]  1660980 of 3176590 complete Elapsed: 14.7 minutes\t Remaining: 13.4 minutes"
       ]
      },
      {
       "output_type": "stream",
       "stream": "stdout",
       "text": [
        " \r",
        "[*****************52%                  ]  1663985 of 3176590 complete Elapsed: 14.7 minutes\t Remaining: 13.4 minutes"
       ]
      },
      {
       "output_type": "stream",
       "stream": "stdout",
       "text": [
        " \r",
        "[*****************52%                  ]  1666848 of 3176590 complete Elapsed: 14.7 minutes\t Remaining: 13.3 minutes"
       ]
      },
      {
       "output_type": "stream",
       "stream": "stdout",
       "text": [
        " \r",
        "[*****************53%                  ]  1669973 of 3176590 complete Elapsed: 14.8 minutes\t Remaining: 13.3 minutes"
       ]
      },
      {
       "output_type": "stream",
       "stream": "stdout",
       "text": [
        " \r",
        "[*****************53%                  ]  1672808 of 3176590 complete Elapsed: 14.8 minutes\t Remaining: 13.3 minutes"
       ]
      },
      {
       "output_type": "stream",
       "stream": "stdout",
       "text": [
        " \r",
        "[*****************53%                  ]  1675942 of 3176590 complete Elapsed: 14.8 minutes\t Remaining: 13.3 minutes"
       ]
      },
      {
       "output_type": "stream",
       "stream": "stdout",
       "text": [
        " \r",
        "[*****************53%                  ]  1679388 of 3176590 complete Elapsed: 14.8 minutes\t Remaining: 13.2 minutes"
       ]
      },
      {
       "output_type": "stream",
       "stream": "stdout",
       "text": [
        " \r",
        "[*****************53%                  ]  1683542 of 3176590 complete Elapsed: 14.9 minutes\t Remaining: 13.2 minutes"
       ]
      },
      {
       "output_type": "stream",
       "stream": "stdout",
       "text": [
        " \r",
        "[*****************53%                  ]  1686368 of 3176590 complete Elapsed: 14.9 minutes\t Remaining: 13.1 minutes"
       ]
      },
      {
       "output_type": "stream",
       "stream": "stdout",
       "text": [
        " \r",
        "[*****************53%                  ]  1690575 of 3176590 complete Elapsed: 14.9 minutes\t Remaining: 13.1 minutes"
       ]
      },
      {
       "output_type": "stream",
       "stream": "stdout",
       "text": [
        " \r",
        "[*****************53%                  ]  1693797 of 3176590 complete Elapsed: 14.9 minutes\t Remaining: 13.1 minutes"
       ]
      },
      {
       "output_type": "stream",
       "stream": "stdout",
       "text": [
        " \r",
        "[*****************53%                  ]  1696543 of 3176590 complete Elapsed: 15.0 minutes\t Remaining: 13.0 minutes"
       ]
      },
      {
       "output_type": "stream",
       "stream": "stdout",
       "text": [
        " \r",
        "[*****************53%                  ]  1699260 of 3176590 complete Elapsed: 15.0 minutes\t Remaining: 13.0 minutes"
       ]
      },
      {
       "output_type": "stream",
       "stream": "stdout",
       "text": [
        " \r",
        "[*****************54%*                 ]  1702398 of 3176590 complete Elapsed: 15.0 minutes\t Remaining: 13.0 minutes"
       ]
      },
      {
       "output_type": "stream",
       "stream": "stdout",
       "text": [
        " \r",
        "[*****************54%*                 ]  1705102 of 3176590 complete Elapsed: 15.0 minutes\t Remaining: 13.0 minutes"
       ]
      },
      {
       "output_type": "stream",
       "stream": "stdout",
       "text": [
        " \r",
        "[*****************54%*                 ]  1708154 of 3176590 complete Elapsed: 15.1 minutes\t Remaining: 12.9 minutes"
       ]
      },
      {
       "output_type": "stream",
       "stream": "stdout",
       "text": [
        " \r",
        "[*****************54%*                 ]  1711210 of 3176590 complete Elapsed: 15.1 minutes\t Remaining: 12.9 minutes"
       ]
      },
      {
       "output_type": "stream",
       "stream": "stdout",
       "text": [
        " \r",
        "[*****************54%*                 ]  1714253 of 3176590 complete Elapsed: 15.1 minutes\t Remaining: 12.9 minutes"
       ]
      },
      {
       "output_type": "stream",
       "stream": "stdout",
       "text": [
        " \r",
        "[*****************54%*                 ]  1717063 of 3176590 complete Elapsed: 15.1 minutes\t Remaining: 12.9 minutes"
       ]
      },
      {
       "output_type": "stream",
       "stream": "stdout",
       "text": [
        " \r",
        "[*****************54%*                 ]  1720048 of 3176590 complete Elapsed: 15.2 minutes\t Remaining: 12.8 minutes"
       ]
      },
      {
       "output_type": "stream",
       "stream": "stdout",
       "text": [
        " \r",
        "[*****************54%*                 ]  1722964 of 3176590 complete Elapsed: 15.2 minutes\t Remaining: 12.8 minutes"
       ]
      },
      {
       "output_type": "stream",
       "stream": "stdout",
       "text": [
        " \r",
        "[*****************54%*                 ]  1726133 of 3176590 complete Elapsed: 15.2 minutes\t Remaining: 12.8 minutes"
       ]
      },
      {
       "output_type": "stream",
       "stream": "stdout",
       "text": [
        " \r",
        "[*****************54%*                 ]  1728936 of 3176590 complete Elapsed: 15.2 minutes\t Remaining: 12.8 minutes"
       ]
      },
      {
       "output_type": "stream",
       "stream": "stdout",
       "text": [
        " \r",
        "[*****************55%*                 ]  1732003 of 3176590 complete Elapsed: 15.3 minutes\t Remaining: 12.7 minutes"
       ]
      },
      {
       "output_type": "stream",
       "stream": "stdout",
       "text": [
        " \r",
        "[*****************55%*                 ]  1734842 of 3176590 complete Elapsed: 15.3 minutes\t Remaining: 12.7 minutes"
       ]
      },
      {
       "output_type": "stream",
       "stream": "stdout",
       "text": [
        " \r",
        "[*****************55%*                 ]  1737440 of 3176590 complete Elapsed: 15.3 minutes\t Remaining: 12.7 minutes"
       ]
      },
      {
       "output_type": "stream",
       "stream": "stdout",
       "text": [
        " \r",
        "[*****************55%*                 ]  1740438 of 3176590 complete Elapsed: 15.3 minutes\t Remaining: 12.7 minutes"
       ]
      },
      {
       "output_type": "stream",
       "stream": "stdout",
       "text": [
        " \r",
        "[*****************55%*                 ]  1743283 of 3176590 complete Elapsed: 15.4 minutes\t Remaining: 12.6 minutes"
       ]
      },
      {
       "output_type": "stream",
       "stream": "stdout",
       "text": [
        " \r",
        "[*****************55%*                 ]  1746083 of 3176590 complete Elapsed: 15.4 minutes\t Remaining: 12.6 minutes"
       ]
      },
      {
       "output_type": "stream",
       "stream": "stdout",
       "text": [
        " \r",
        "[*****************55%*                 ]  1749098 of 3176590 complete Elapsed: 15.4 minutes\t Remaining: 12.6 minutes"
       ]
      },
      {
       "output_type": "stream",
       "stream": "stdout",
       "text": [
        " \r",
        "[*****************55%*                 ]  1752051 of 3176590 complete Elapsed: 15.4 minutes\t Remaining: 12.5 minutes"
       ]
      },
      {
       "output_type": "stream",
       "stream": "stdout",
       "text": [
        " \r",
        "[*****************55%*                 ]  1755267 of 3176590 complete Elapsed: 15.5 minutes\t Remaining: 12.5 minutes"
       ]
      },
      {
       "output_type": "stream",
       "stream": "stdout",
       "text": [
        " \r",
        "[*****************55%*                 ]  1758155 of 3176590 complete Elapsed: 15.5 minutes\t Remaining: 12.5 minutes"
       ]
      },
      {
       "output_type": "stream",
       "stream": "stdout",
       "text": [
        " \r",
        "[*****************55%*                 ]  1761262 of 3176590 complete Elapsed: 15.5 minutes\t Remaining: 12.5 minutes"
       ]
      },
      {
       "output_type": "stream",
       "stream": "stdout",
       "text": [
        " \r",
        "[*****************56%*                 ]  1764048 of 3176590 complete Elapsed: 15.5 minutes\t Remaining: 12.4 minutes"
       ]
      },
      {
       "output_type": "stream",
       "stream": "stdout",
       "text": [
        " \r",
        "[*****************56%*                 ]  1767076 of 3176590 complete Elapsed: 15.6 minutes\t Remaining: 12.4 minutes"
       ]
      },
      {
       "output_type": "stream",
       "stream": "stdout",
       "text": [
        " \r",
        "[*****************56%*                 ]  1769795 of 3176590 complete Elapsed: 15.6 minutes\t Remaining: 12.4 minutes"
       ]
      },
      {
       "output_type": "stream",
       "stream": "stdout",
       "text": [
        " \r",
        "[*****************56%*                 ]  1772794 of 3176590 complete Elapsed: 15.6 minutes\t Remaining: 12.4 minutes"
       ]
      },
      {
       "output_type": "stream",
       "stream": "stdout",
       "text": [
        " \r",
        "[*****************56%*                 ]  1774257 of 3176590 complete Elapsed: 15.7 minutes\t Remaining: 12.4 minutes"
       ]
      },
      {
       "output_type": "stream",
       "stream": "stdout",
       "text": [
        " \r",
        "[*****************56%*                 ]  1777141 of 3176590 complete Elapsed: 15.7 minutes\t Remaining: 12.4 minutes"
       ]
      },
      {
       "output_type": "stream",
       "stream": "stdout",
       "text": [
        " \r",
        "[*****************56%*                 ]  1779928 of 3176590 complete Elapsed: 15.7 minutes\t Remaining: 12.4 minutes"
       ]
      },
      {
       "output_type": "stream",
       "stream": "stdout",
       "text": [
        " \r",
        "[*****************56%*                 ]  1782772 of 3176590 complete Elapsed: 15.8 minutes\t Remaining: 12.3 minutes"
       ]
      },
      {
       "output_type": "stream",
       "stream": "stdout",
       "text": [
        " \r",
        "[*****************56%*                 ]  1785775 of 3176590 complete Elapsed: 15.8 minutes\t Remaining: 12.3 minutes"
       ]
      },
      {
       "output_type": "stream",
       "stream": "stdout",
       "text": [
        " \r",
        "[*****************56%*                 ]  1788833 of 3176590 complete Elapsed: 15.8 minutes\t Remaining: 12.3 minutes"
       ]
      },
      {
       "output_type": "stream",
       "stream": "stdout",
       "text": [
        " \r",
        "[*****************56%*                 ]  1791553 of 3176590 complete Elapsed: 15.8 minutes\t Remaining: 12.3 minutes"
       ]
      },
      {
       "output_type": "stream",
       "stream": "stdout",
       "text": [
        " \r",
        "[*****************56%*                 ]  1794545 of 3176590 complete Elapsed: 15.9 minutes\t Remaining: 12.2 minutes"
       ]
      },
      {
       "output_type": "stream",
       "stream": "stdout",
       "text": [
        " \r",
        "[*****************57%**                ]  1797831 of 3176590 complete Elapsed: 15.9 minutes\t Remaining: 12.2 minutes"
       ]
      },
      {
       "output_type": "stream",
       "stream": "stdout",
       "text": [
        " \r",
        "[*****************57%**                ]  1800793 of 3176590 complete Elapsed: 15.9 minutes\t Remaining: 12.2 minutes"
       ]
      },
      {
       "output_type": "stream",
       "stream": "stdout",
       "text": [
        " \r",
        "[*****************57%**                ]  1803752 of 3176590 complete Elapsed: 15.9 minutes\t Remaining: 12.1 minutes"
       ]
      },
      {
       "output_type": "stream",
       "stream": "stdout",
       "text": [
        " \r",
        "[*****************57%**                ]  1806626 of 3176590 complete Elapsed: 16.0 minutes\t Remaining: 12.1 minutes"
       ]
      },
      {
       "output_type": "stream",
       "stream": "stdout",
       "text": [
        " \r",
        "[*****************57%**                ]  1809628 of 3176590 complete Elapsed: 16.0 minutes\t Remaining: 12.1 minutes"
       ]
      },
      {
       "output_type": "stream",
       "stream": "stdout",
       "text": [
        " \r",
        "[*****************57%**                ]  1813700 of 3176590 complete Elapsed: 16.0 minutes\t Remaining: 12.0 minutes"
       ]
      },
      {
       "output_type": "stream",
       "stream": "stdout",
       "text": [
        " \r",
        "[*****************57%**                ]  1816077 of 3176590 complete Elapsed: 16.0 minutes\t Remaining: 12.0 minutes"
       ]
      },
      {
       "output_type": "stream",
       "stream": "stdout",
       "text": [
        " \r",
        "[*****************57%**                ]  1819434 of 3176590 complete Elapsed: 16.1 minutes\t Remaining: 12.0 minutes"
       ]
      },
      {
       "output_type": "stream",
       "stream": "stdout",
       "text": [
        " \r",
        "[*****************57%**                ]  1822617 of 3176590 complete Elapsed: 16.1 minutes\t Remaining: 12.0 minutes"
       ]
      },
      {
       "output_type": "stream",
       "stream": "stdout",
       "text": [
        " \r",
        "[*****************57%**                ]  1825777 of 3176590 complete Elapsed: 16.1 minutes\t Remaining: 11.9 minutes"
       ]
      },
      {
       "output_type": "stream",
       "stream": "stdout",
       "text": [
        " \r",
        "[*****************58%**                ]  1828656 of 3176590 complete Elapsed: 16.1 minutes\t Remaining: 11.9 minutes"
       ]
      },
      {
       "output_type": "stream",
       "stream": "stdout",
       "text": [
        " \r",
        "[*****************58%**                ]  1831466 of 3176590 complete Elapsed: 16.2 minutes\t Remaining: 11.9 minutes"
       ]
      },
      {
       "output_type": "stream",
       "stream": "stdout",
       "text": [
        " \r",
        "[*****************58%**                ]  1834350 of 3176590 complete Elapsed: 16.2 minutes\t Remaining: 11.9 minutes"
       ]
      },
      {
       "output_type": "stream",
       "stream": "stdout",
       "text": [
        " \r",
        "[*****************58%**                ]  1837116 of 3176590 complete Elapsed: 16.2 minutes\t Remaining: 11.8 minutes"
       ]
      },
      {
       "output_type": "stream",
       "stream": "stdout",
       "text": [
        " \r",
        "[*****************58%**                ]  1839923 of 3176590 complete Elapsed: 16.2 minutes\t Remaining: 11.8 minutes"
       ]
      },
      {
       "output_type": "stream",
       "stream": "stdout",
       "text": [
        " \r",
        "[*****************58%**                ]  1843045 of 3176590 complete Elapsed: 16.3 minutes\t Remaining: 11.8 minutes"
       ]
      },
      {
       "output_type": "stream",
       "stream": "stdout",
       "text": [
        " \r",
        "[*****************58%**                ]  1845905 of 3176590 complete Elapsed: 16.3 minutes\t Remaining: 11.7 minutes"
       ]
      },
      {
       "output_type": "stream",
       "stream": "stdout",
       "text": [
        " \r",
        "[*****************58%**                ]  1848694 of 3176590 complete Elapsed: 16.3 minutes\t Remaining: 11.7 minutes"
       ]
      },
      {
       "output_type": "stream",
       "stream": "stdout",
       "text": [
        " \r",
        "[*****************58%**                ]  1851659 of 3176590 complete Elapsed: 16.3 minutes\t Remaining: 11.7 minutes"
       ]
      },
      {
       "output_type": "stream",
       "stream": "stdout",
       "text": [
        " \r",
        "[*****************58%**                ]  1854912 of 3176590 complete Elapsed: 16.4 minutes\t Remaining: 11.7 minutes"
       ]
      },
      {
       "output_type": "stream",
       "stream": "stdout",
       "text": [
        " \r",
        "[*****************58%**                ]  1857730 of 3176590 complete Elapsed: 16.4 minutes\t Remaining: 11.6 minutes"
       ]
      },
      {
       "output_type": "stream",
       "stream": "stdout",
       "text": [
        " \r",
        "[*****************59%**                ]  1860648 of 3176590 complete Elapsed: 16.4 minutes\t Remaining: 11.6 minutes"
       ]
      },
      {
       "output_type": "stream",
       "stream": "stdout",
       "text": [
        " \r",
        "[*****************59%**                ]  1863479 of 3176590 complete Elapsed: 16.4 minutes\t Remaining: 11.6 minutes"
       ]
      },
      {
       "output_type": "stream",
       "stream": "stdout",
       "text": [
        " \r",
        "[*****************59%**                ]  1866404 of 3176590 complete Elapsed: 16.5 minutes\t Remaining: 11.6 minutes"
       ]
      },
      {
       "output_type": "stream",
       "stream": "stdout",
       "text": [
        " \r",
        "[*****************59%**                ]  1869097 of 3176590 complete Elapsed: 16.5 minutes\t Remaining: 11.5 minutes"
       ]
      },
      {
       "output_type": "stream",
       "stream": "stdout",
       "text": [
        " \r",
        "[*****************59%**                ]  1872201 of 3176590 complete Elapsed: 16.5 minutes\t Remaining: 11.5 minutes"
       ]
      },
      {
       "output_type": "stream",
       "stream": "stdout",
       "text": [
        " \r",
        "[*****************59%**                ]  1875207 of 3176590 complete Elapsed: 16.5 minutes\t Remaining: 11.5 minutes"
       ]
      },
      {
       "output_type": "stream",
       "stream": "stdout",
       "text": [
        " \r",
        "[*****************59%**                ]  1878142 of 3176590 complete Elapsed: 16.6 minutes\t Remaining: 11.5 minutes"
       ]
      },
      {
       "output_type": "stream",
       "stream": "stdout",
       "text": [
        " \r",
        "[*****************59%**                ]  1880908 of 3176590 complete Elapsed: 16.6 minutes\t Remaining: 11.4 minutes"
       ]
      },
      {
       "output_type": "stream",
       "stream": "stdout",
       "text": [
        " \r",
        "[*****************59%**                ]  1883812 of 3176590 complete Elapsed: 16.6 minutes\t Remaining: 11.4 minutes"
       ]
      },
      {
       "output_type": "stream",
       "stream": "stdout",
       "text": [
        " \r",
        "[*****************59%**                ]  1886602 of 3176590 complete Elapsed: 16.6 minutes\t Remaining: 11.4 minutes"
       ]
      },
      {
       "output_type": "stream",
       "stream": "stdout",
       "text": [
        " \r",
        "[*****************59%**                ]  1889687 of 3176590 complete Elapsed: 16.7 minutes\t Remaining: 11.4 minutes"
       ]
      },
      {
       "output_type": "stream",
       "stream": "stdout",
       "text": [
        " \r",
        "[*****************60%***               ]  1892672 of 3176590 complete Elapsed: 16.7 minutes\t Remaining: 11.3 minutes"
       ]
      },
      {
       "output_type": "stream",
       "stream": "stdout",
       "text": [
        " \r",
        "[*****************60%***               ]  1895392 of 3176590 complete Elapsed: 16.7 minutes\t Remaining: 11.3 minutes"
       ]
      },
      {
       "output_type": "stream",
       "stream": "stdout",
       "text": [
        " \r",
        "[*****************60%***               ]  1898271 of 3176590 complete Elapsed: 16.7 minutes\t Remaining: 11.3 minutes"
       ]
      },
      {
       "output_type": "stream",
       "stream": "stdout",
       "text": [
        " \r",
        "[*****************60%***               ]  1901054 of 3176590 complete Elapsed: 16.8 minutes\t Remaining: 11.3 minutes"
       ]
      },
      {
       "output_type": "stream",
       "stream": "stdout",
       "text": [
        " \r",
        "[*****************60%***               ]  1903835 of 3176590 complete Elapsed: 16.8 minutes\t Remaining: 11.2 minutes"
       ]
      },
      {
       "output_type": "stream",
       "stream": "stdout",
       "text": [
        " \r",
        "[*****************60%***               ]  1907146 of 3176590 complete Elapsed: 16.8 minutes\t Remaining: 11.2 minutes"
       ]
      },
      {
       "output_type": "stream",
       "stream": "stdout",
       "text": [
        " \r",
        "[*****************60%***               ]  1909957 of 3176590 complete Elapsed: 16.8 minutes\t Remaining: 11.2 minutes"
       ]
      },
      {
       "output_type": "stream",
       "stream": "stdout",
       "text": [
        " \r",
        "[*****************60%***               ]  1913056 of 3176590 complete Elapsed: 16.9 minutes\t Remaining: 11.1 minutes"
       ]
      },
      {
       "output_type": "stream",
       "stream": "stdout",
       "text": [
        " \r",
        "[*****************60%***               ]  1916056 of 3176590 complete Elapsed: 16.9 minutes\t Remaining: 11.1 minutes"
       ]
      },
      {
       "output_type": "stream",
       "stream": "stdout",
       "text": [
        " \r",
        "[*****************60%***               ]  1919200 of 3176590 complete Elapsed: 16.9 minutes\t Remaining: 11.1 minutes"
       ]
      },
      {
       "output_type": "stream",
       "stream": "stdout",
       "text": [
        " \r",
        "[*****************61%***               ]  1922017 of 3176590 complete Elapsed: 16.9 minutes\t Remaining: 11.1 minutes"
       ]
      },
      {
       "output_type": "stream",
       "stream": "stdout",
       "text": [
        " \r",
        "[*****************61%***               ]  1925085 of 3176590 complete Elapsed: 17.0 minutes\t Remaining: 11.0 minutes"
       ]
      },
      {
       "output_type": "stream",
       "stream": "stdout",
       "text": [
        " \r",
        "[*****************61%***               ]  1927979 of 3176590 complete Elapsed: 17.0 minutes\t Remaining: 11.0 minutes"
       ]
      },
      {
       "output_type": "stream",
       "stream": "stdout",
       "text": [
        " \r",
        "[*****************61%***               ]  1930922 of 3176590 complete Elapsed: 17.0 minutes\t Remaining: 11.0 minutes"
       ]
      },
      {
       "output_type": "stream",
       "stream": "stdout",
       "text": [
        " \r",
        "[*****************61%***               ]  1933825 of 3176590 complete Elapsed: 17.0 minutes\t Remaining: 11.0 minutes"
       ]
      },
      {
       "output_type": "stream",
       "stream": "stdout",
       "text": [
        " \r",
        "[*****************61%***               ]  1936838 of 3176590 complete Elapsed: 17.1 minutes\t Remaining: 10.9 minutes"
       ]
      },
      {
       "output_type": "stream",
       "stream": "stdout",
       "text": [
        " \r",
        "[*****************61%***               ]  1939751 of 3176590 complete Elapsed: 17.1 minutes\t Remaining: 10.9 minutes"
       ]
      },
      {
       "output_type": "stream",
       "stream": "stdout",
       "text": [
        " \r",
        "[*****************61%***               ]  1942616 of 3176590 complete Elapsed: 17.1 minutes\t Remaining: 10.9 minutes"
       ]
      },
      {
       "output_type": "stream",
       "stream": "stdout",
       "text": [
        " \r",
        "[*****************61%***               ]  1945627 of 3176590 complete Elapsed: 17.1 minutes\t Remaining: 10.8 minutes"
       ]
      },
      {
       "output_type": "stream",
       "stream": "stdout",
       "text": [
        " \r",
        "[*****************61%***               ]  1948454 of 3176590 complete Elapsed: 17.2 minutes\t Remaining: 10.8 minutes"
       ]
      },
      {
       "output_type": "stream",
       "stream": "stdout",
       "text": [
        " \r",
        "[*****************61%***               ]  1951238 of 3176590 complete Elapsed: 17.2 minutes\t Remaining: 10.8 minutes"
       ]
      },
      {
       "output_type": "stream",
       "stream": "stdout",
       "text": [
        " \r",
        "[*****************62%****              ]  1954007 of 3176590 complete Elapsed: 17.2 minutes\t Remaining: 10.8 minutes"
       ]
      },
      {
       "output_type": "stream",
       "stream": "stdout",
       "text": [
        " \r",
        "[*****************62%****              ]  1956907 of 3176590 complete Elapsed: 17.2 minutes\t Remaining: 10.7 minutes"
       ]
      },
      {
       "output_type": "stream",
       "stream": "stdout",
       "text": [
        " \r",
        "[*****************62%****              ]  1959871 of 3176590 complete Elapsed: 17.3 minutes\t Remaining: 10.7 minutes"
       ]
      },
      {
       "output_type": "stream",
       "stream": "stdout",
       "text": [
        " \r",
        "[*****************62%****              ]  1962917 of 3176590 complete Elapsed: 17.3 minutes\t Remaining: 10.7 minutes"
       ]
      },
      {
       "output_type": "stream",
       "stream": "stdout",
       "text": [
        " \r",
        "[*****************62%****              ]  1965880 of 3176590 complete Elapsed: 17.3 minutes\t Remaining: 10.7 minutes"
       ]
      },
      {
       "output_type": "stream",
       "stream": "stdout",
       "text": [
        " \r",
        "[*****************62%****              ]  1968948 of 3176590 complete Elapsed: 17.3 minutes\t Remaining: 10.6 minutes"
       ]
      },
      {
       "output_type": "stream",
       "stream": "stdout",
       "text": [
        " \r",
        "[*****************62%****              ]  1971752 of 3176590 complete Elapsed: 17.4 minutes\t Remaining: 10.6 minutes"
       ]
      },
      {
       "output_type": "stream",
       "stream": "stdout",
       "text": [
        " \r",
        "[*****************62%****              ]  1974470 of 3176590 complete Elapsed: 17.4 minutes\t Remaining: 10.6 minutes"
       ]
      },
      {
       "output_type": "stream",
       "stream": "stdout",
       "text": [
        " \r",
        "[*****************62%****              ]  1977037 of 3176590 complete Elapsed: 17.4 minutes\t Remaining: 10.6 minutes"
       ]
      },
      {
       "output_type": "stream",
       "stream": "stdout",
       "text": [
        " \r",
        "[*****************62%****              ]  1980151 of 3176590 complete Elapsed: 17.4 minutes\t Remaining: 10.5 minutes"
       ]
      },
      {
       "output_type": "stream",
       "stream": "stdout",
       "text": [
        " \r",
        "[*****************62%****              ]  1982568 of 3176590 complete Elapsed: 17.5 minutes\t Remaining: 10.5 minutes"
       ]
      },
      {
       "output_type": "stream",
       "stream": "stdout",
       "text": [
        " \r",
        "[*****************63%****              ]  1985433 of 3176590 complete Elapsed: 17.5 minutes\t Remaining: 10.5 minutes"
       ]
      },
      {
       "output_type": "stream",
       "stream": "stdout",
       "text": [
        " \r",
        "[*****************63%****              ]  1988699 of 3176590 complete Elapsed: 17.5 minutes\t Remaining: 10.5 minutes"
       ]
      },
      {
       "output_type": "stream",
       "stream": "stdout",
       "text": [
        " \r",
        "[*****************63%****              ]  1991687 of 3176590 complete Elapsed: 17.5 minutes\t Remaining: 10.4 minutes"
       ]
      },
      {
       "output_type": "stream",
       "stream": "stdout",
       "text": [
        " \r",
        "[*****************63%****              ]  1994465 of 3176590 complete Elapsed: 17.6 minutes\t Remaining: 10.4 minutes"
       ]
      },
      {
       "output_type": "stream",
       "stream": "stdout",
       "text": [
        " \r",
        "[*****************63%****              ]  1997266 of 3176590 complete Elapsed: 17.6 minutes\t Remaining: 10.4 minutes"
       ]
      },
      {
       "output_type": "stream",
       "stream": "stdout",
       "text": [
        " \r",
        "[*****************63%****              ]  2000426 of 3176590 complete Elapsed: 17.6 minutes\t Remaining: 10.4 minutes"
       ]
      },
      {
       "output_type": "stream",
       "stream": "stdout",
       "text": [
        " \r",
        "[*****************63%****              ]  2003198 of 3176590 complete Elapsed: 17.6 minutes\t Remaining: 10.3 minutes"
       ]
      },
      {
       "output_type": "stream",
       "stream": "stdout",
       "text": [
        " \r",
        "[*****************63%****              ]  2006343 of 3176590 complete Elapsed: 17.7 minutes\t Remaining: 10.3 minutes"
       ]
      },
      {
       "output_type": "stream",
       "stream": "stdout",
       "text": [
        " \r",
        "[*****************63%****              ]  2009291 of 3176590 complete Elapsed: 17.7 minutes\t Remaining: 10.3 minutes"
       ]
      },
      {
       "output_type": "stream",
       "stream": "stdout",
       "text": [
        " \r",
        "[*****************63%****              ]  2012080 of 3176590 complete Elapsed: 17.7 minutes\t Remaining: 10.3 minutes"
       ]
      },
      {
       "output_type": "stream",
       "stream": "stdout",
       "text": [
        " \r",
        "[*****************63%****              ]  2014834 of 3176590 complete Elapsed: 17.7 minutes\t Remaining: 10.2 minutes"
       ]
      },
      {
       "output_type": "stream",
       "stream": "stdout",
       "text": [
        " \r",
        "[*****************64%****              ]  2017681 of 3176590 complete Elapsed: 17.8 minutes\t Remaining: 10.2 minutes"
       ]
      },
      {
       "output_type": "stream",
       "stream": "stdout",
       "text": [
        " \r",
        "[*****************64%****              ]  2020508 of 3176590 complete Elapsed: 17.8 minutes\t Remaining: 10.2 minutes"
       ]
      },
      {
       "output_type": "stream",
       "stream": "stdout",
       "text": [
        " \r",
        "[*****************64%****              ]  2023433 of 3176590 complete Elapsed: 17.8 minutes\t Remaining: 10.2 minutes"
       ]
      },
      {
       "output_type": "stream",
       "stream": "stdout",
       "text": [
        " \r",
        "[*****************64%****              ]  2026269 of 3176590 complete Elapsed: 17.8 minutes\t Remaining: 10.1 minutes"
       ]
      },
      {
       "output_type": "stream",
       "stream": "stdout",
       "text": [
        " \r",
        "[*****************64%****              ]  2029055 of 3176590 complete Elapsed: 17.9 minutes\t Remaining: 10.1 minutes"
       ]
      },
      {
       "output_type": "stream",
       "stream": "stdout",
       "text": [
        " \r",
        "[*****************64%****              ]  2031867 of 3176590 complete Elapsed: 17.9 minutes\t Remaining: 10.1 minutes"
       ]
      },
      {
       "output_type": "stream",
       "stream": "stdout",
       "text": [
        " \r",
        "[*****************64%****              ]  2034729 of 3176590 complete Elapsed: 17.9 minutes\t Remaining: 10.1 minutes"
       ]
      },
      {
       "output_type": "stream",
       "stream": "stdout",
       "text": [
        " \r",
        "[*****************64%****              ]  2037385 of 3176590 complete Elapsed: 17.9 minutes\t Remaining: 10.0 minutes"
       ]
      },
      {
       "output_type": "stream",
       "stream": "stdout",
       "text": [
        " \r",
        "[*****************64%****              ]  2040130 of 3176590 complete Elapsed: 18.0 minutes\t Remaining: 10.0 minutes"
       ]
      },
      {
       "output_type": "stream",
       "stream": "stdout",
       "text": [
        " \r",
        "[*****************64%****              ]  2043117 of 3176590 complete Elapsed: 18.0 minutes\t Remaining: 10.0 minutes"
       ]
      },
      {
       "output_type": "stream",
       "stream": "stdout",
       "text": [
        " \r",
        "[*****************64%****              ]  2046055 of 3176590 complete Elapsed: 18.0 minutes\t Remaining: 10.0 minutes"
       ]
      },
      {
       "output_type": "stream",
       "stream": "stdout",
       "text": [
        " \r",
        "[*****************64%****              ]  2048890 of 3176590 complete Elapsed: 18.0 minutes\t Remaining: 9.9 minutes"
       ]
      },
      {
       "output_type": "stream",
       "stream": "stdout",
       "text": [
        " \r",
        "[*****************65%*****             ]  2051763 of 3176590 complete Elapsed: 18.1 minutes\t Remaining: 9.9 minutes"
       ]
      },
      {
       "output_type": "stream",
       "stream": "stdout",
       "text": [
        " \r",
        "[*****************65%*****             ]  2054720 of 3176590 complete Elapsed: 18.1 minutes\t Remaining: 9.9 minutes"
       ]
      },
      {
       "output_type": "stream",
       "stream": "stdout",
       "text": [
        " \r",
        "[*****************65%*****             ]  2057586 of 3176590 complete Elapsed: 18.1 minutes\t Remaining: 9.9 minutes"
       ]
      },
      {
       "output_type": "stream",
       "stream": "stdout",
       "text": [
        " \r",
        "[*****************65%*****             ]  2060346 of 3176590 complete Elapsed: 18.1 minutes\t Remaining: 9.8 minutes"
       ]
      },
      {
       "output_type": "stream",
       "stream": "stdout",
       "text": [
        " \r",
        "[*****************65%*****             ]  2063405 of 3176590 complete Elapsed: 18.2 minutes\t Remaining: 9.8 minutes"
       ]
      },
      {
       "output_type": "stream",
       "stream": "stdout",
       "text": [
        " \r",
        "[*****************65%*****             ]  2066387 of 3176590 complete Elapsed: 18.2 minutes\t Remaining: 9.8 minutes"
       ]
      },
      {
       "output_type": "stream",
       "stream": "stdout",
       "text": [
        " \r",
        "[*****************65%*****             ]  2069554 of 3176590 complete Elapsed: 18.2 minutes\t Remaining: 9.7 minutes"
       ]
      },
      {
       "output_type": "stream",
       "stream": "stdout",
       "text": [
        " \r",
        "[*****************65%*****             ]  2072497 of 3176590 complete Elapsed: 18.2 minutes\t Remaining: 9.7 minutes"
       ]
      },
      {
       "output_type": "stream",
       "stream": "stdout",
       "text": [
        " \r",
        "[*****************65%*****             ]  2075675 of 3176590 complete Elapsed: 18.3 minutes\t Remaining: 9.7 minutes"
       ]
      },
      {
       "output_type": "stream",
       "stream": "stdout",
       "text": [
        " \r",
        "[*****************65%*****             ]  2078578 of 3176590 complete Elapsed: 18.3 minutes\t Remaining: 9.7 minutes"
       ]
      },
      {
       "output_type": "stream",
       "stream": "stdout",
       "text": [
        " \r",
        "[*****************66%*****             ]  2081586 of 3176590 complete Elapsed: 18.3 minutes\t Remaining: 9.6 minutes"
       ]
      },
      {
       "output_type": "stream",
       "stream": "stdout",
       "text": [
        " \r",
        "[*****************66%*****             ]  2085118 of 3176590 complete Elapsed: 18.3 minutes\t Remaining: 9.6 minutes"
       ]
      },
      {
       "output_type": "stream",
       "stream": "stdout",
       "text": [
        " \r",
        "[*****************66%*****             ]  2088022 of 3176590 complete Elapsed: 18.4 minutes\t Remaining: 9.6 minutes"
       ]
      },
      {
       "output_type": "stream",
       "stream": "stdout",
       "text": [
        " \r",
        "[*****************66%*****             ]  2091163 of 3176590 complete Elapsed: 18.4 minutes\t Remaining: 9.5 minutes"
       ]
      },
      {
       "output_type": "stream",
       "stream": "stdout",
       "text": [
        " \r",
        "[*****************66%*****             ]  2094351 of 3176590 complete Elapsed: 18.4 minutes\t Remaining: 9.5 minutes"
       ]
      },
      {
       "output_type": "stream",
       "stream": "stdout",
       "text": [
        " \r",
        "[*****************66%*****             ]  2097088 of 3176590 complete Elapsed: 18.4 minutes\t Remaining: 9.5 minutes"
       ]
      },
      {
       "output_type": "stream",
       "stream": "stdout",
       "text": [
        " \r",
        "[*****************66%*****             ]  2099919 of 3176590 complete Elapsed: 18.5 minutes\t Remaining: 9.5 minutes"
       ]
      },
      {
       "output_type": "stream",
       "stream": "stdout",
       "text": [
        " \r",
        "[*****************66%*****             ]  2102751 of 3176590 complete Elapsed: 18.5 minutes\t Remaining: 9.4 minutes"
       ]
      },
      {
       "output_type": "stream",
       "stream": "stdout",
       "text": [
        " \r",
        "[*****************66%*****             ]  2105531 of 3176590 complete Elapsed: 18.5 minutes\t Remaining: 9.4 minutes"
       ]
      },
      {
       "output_type": "stream",
       "stream": "stdout",
       "text": [
        " \r",
        "[*****************66%*****             ]  2108354 of 3176590 complete Elapsed: 18.5 minutes\t Remaining: 9.4 minutes"
       ]
      },
      {
       "output_type": "stream",
       "stream": "stdout",
       "text": [
        " \r",
        "[*****************66%*****             ]  2110971 of 3176590 complete Elapsed: 18.6 minutes\t Remaining: 9.4 minutes"
       ]
      },
      {
       "output_type": "stream",
       "stream": "stdout",
       "text": [
        " \r",
        "[*****************67%*****             ]  2113492 of 3176590 complete Elapsed: 18.6 minutes\t Remaining: 9.4 minutes"
       ]
      },
      {
       "output_type": "stream",
       "stream": "stdout",
       "text": [
        " \r",
        "[*****************67%*****             ]  2116186 of 3176590 complete Elapsed: 18.6 minutes\t Remaining: 9.3 minutes"
       ]
      },
      {
       "output_type": "stream",
       "stream": "stdout",
       "text": [
        " \r",
        "[*****************67%*****             ]  2119287 of 3176590 complete Elapsed: 18.6 minutes\t Remaining: 9.3 minutes"
       ]
      },
      {
       "output_type": "stream",
       "stream": "stdout",
       "text": [
        " \r",
        "[*****************67%*****             ]  2122509 of 3176590 complete Elapsed: 18.7 minutes\t Remaining: 9.3 minutes"
       ]
      },
      {
       "output_type": "stream",
       "stream": "stdout",
       "text": [
        " \r",
        "[*****************67%*****             ]  2125424 of 3176590 complete Elapsed: 18.7 minutes\t Remaining: 9.2 minutes"
       ]
      },
      {
       "output_type": "stream",
       "stream": "stdout",
       "text": [
        " \r",
        "[*****************67%*****             ]  2128411 of 3176590 complete Elapsed: 18.7 minutes\t Remaining: 9.2 minutes"
       ]
      },
      {
       "output_type": "stream",
       "stream": "stdout",
       "text": [
        " \r",
        "[*****************67%*****             ]  2131370 of 3176590 complete Elapsed: 18.7 minutes\t Remaining: 9.2 minutes"
       ]
      },
      {
       "output_type": "stream",
       "stream": "stdout",
       "text": [
        " \r",
        "[*****************67%*****             ]  2134527 of 3176590 complete Elapsed: 18.8 minutes\t Remaining: 9.2 minutes"
       ]
      },
      {
       "output_type": "stream",
       "stream": "stdout",
       "text": [
        " \r",
        "[*****************67%*****             ]  2137345 of 3176590 complete Elapsed: 18.8 minutes\t Remaining: 9.1 minutes"
       ]
      },
      {
       "output_type": "stream",
       "stream": "stdout",
       "text": [
        " \r",
        "[*****************67%*****             ]  2140321 of 3176590 complete Elapsed: 18.8 minutes\t Remaining: 9.1 minutes"
       ]
      },
      {
       "output_type": "stream",
       "stream": "stdout",
       "text": [
        " \r",
        "[*****************67%*****             ]  2143303 of 3176590 complete Elapsed: 18.8 minutes\t Remaining: 9.1 minutes"
       ]
      },
      {
       "output_type": "stream",
       "stream": "stdout",
       "text": [
        " \r",
        "[*****************68%******            ]  2146118 of 3176590 complete Elapsed: 18.9 minutes\t Remaining: 9.1 minutes"
       ]
      },
      {
       "output_type": "stream",
       "stream": "stdout",
       "text": [
        " \r",
        "[*****************68%******            ]  2148966 of 3176590 complete Elapsed: 18.9 minutes\t Remaining: 9.0 minutes"
       ]
      },
      {
       "output_type": "stream",
       "stream": "stdout",
       "text": [
        " \r",
        "[*****************68%******            ]  2151850 of 3176590 complete Elapsed: 18.9 minutes\t Remaining: 9.0 minutes"
       ]
      },
      {
       "output_type": "stream",
       "stream": "stdout",
       "text": [
        " \r",
        "[*****************68%******            ]  2154730 of 3176590 complete Elapsed: 18.9 minutes\t Remaining: 9.0 minutes"
       ]
      },
      {
       "output_type": "stream",
       "stream": "stdout",
       "text": [
        " \r",
        "[*****************68%******            ]  2157685 of 3176590 complete Elapsed: 19.0 minutes\t Remaining: 9.0 minutes"
       ]
      },
      {
       "output_type": "stream",
       "stream": "stdout",
       "text": [
        " \r",
        "[*****************68%******            ]  2160544 of 3176590 complete Elapsed: 19.0 minutes\t Remaining: 8.9 minutes"
       ]
      },
      {
       "output_type": "stream",
       "stream": "stdout",
       "text": [
        " \r",
        "[*****************68%******            ]  2163299 of 3176590 complete Elapsed: 19.0 minutes\t Remaining: 8.9 minutes"
       ]
      },
      {
       "output_type": "stream",
       "stream": "stdout",
       "text": [
        " \r",
        "[*****************68%******            ]  2166123 of 3176590 complete Elapsed: 19.0 minutes\t Remaining: 8.9 minutes"
       ]
      },
      {
       "output_type": "stream",
       "stream": "stdout",
       "text": [
        " \r",
        "[*****************68%******            ]  2168903 of 3176590 complete Elapsed: 19.1 minutes\t Remaining: 8.9 minutes"
       ]
      },
      {
       "output_type": "stream",
       "stream": "stdout",
       "text": [
        " \r",
        "[*****************68%******            ]  2171753 of 3176590 complete Elapsed: 19.1 minutes\t Remaining: 8.8 minutes"
       ]
      },
      {
       "output_type": "stream",
       "stream": "stdout",
       "text": [
        " \r",
        "[*****************68%******            ]  2174626 of 3176590 complete Elapsed: 19.1 minutes\t Remaining: 8.8 minutes"
       ]
      },
      {
       "output_type": "stream",
       "stream": "stdout",
       "text": [
        " \r",
        "[*****************69%******            ]  2177511 of 3176590 complete Elapsed: 19.1 minutes\t Remaining: 8.8 minutes"
       ]
      },
      {
       "output_type": "stream",
       "stream": "stdout",
       "text": [
        " \r",
        "[*****************69%******            ]  2180466 of 3176590 complete Elapsed: 19.2 minutes\t Remaining: 8.8 minutes"
       ]
      },
      {
       "output_type": "stream",
       "stream": "stdout",
       "text": [
        " \r",
        "[*****************69%******            ]  2183550 of 3176590 complete Elapsed: 19.2 minutes\t Remaining: 8.7 minutes"
       ]
      },
      {
       "output_type": "stream",
       "stream": "stdout",
       "text": [
        " \r",
        "[*****************69%******            ]  2186445 of 3176590 complete Elapsed: 19.2 minutes\t Remaining: 8.7 minutes"
       ]
      },
      {
       "output_type": "stream",
       "stream": "stdout",
       "text": [
        " \r",
        "[*****************69%******            ]  2189292 of 3176590 complete Elapsed: 19.2 minutes\t Remaining: 8.7 minutes"
       ]
      },
      {
       "output_type": "stream",
       "stream": "stdout",
       "text": [
        " \r",
        "[*****************69%******            ]  2192158 of 3176590 complete Elapsed: 19.3 minutes\t Remaining: 8.7 minutes"
       ]
      },
      {
       "output_type": "stream",
       "stream": "stdout",
       "text": [
        " \r",
        "[*****************69%******            ]  2195059 of 3176590 complete Elapsed: 19.3 minutes\t Remaining: 8.6 minutes"
       ]
      },
      {
       "output_type": "stream",
       "stream": "stdout",
       "text": [
        " \r",
        "[*****************69%******            ]  2197995 of 3176590 complete Elapsed: 19.3 minutes\t Remaining: 8.6 minutes"
       ]
      },
      {
       "output_type": "stream",
       "stream": "stdout",
       "text": [
        " \r",
        "[*****************69%******            ]  2200998 of 3176590 complete Elapsed: 19.3 minutes\t Remaining: 8.6 minutes"
       ]
      },
      {
       "output_type": "stream",
       "stream": "stdout",
       "text": [
        " \r",
        "[*****************69%******            ]  2203744 of 3176590 complete Elapsed: 19.4 minutes\t Remaining: 8.6 minutes"
       ]
      },
      {
       "output_type": "stream",
       "stream": "stdout",
       "text": [
        " \r",
        "[*****************69%******            ]  2206656 of 3176590 complete Elapsed: 19.4 minutes\t Remaining: 8.5 minutes"
       ]
      },
      {
       "output_type": "stream",
       "stream": "stdout",
       "text": [
        " \r",
        "[*****************70%*******           ]  2209467 of 3176590 complete Elapsed: 19.4 minutes\t Remaining: 8.5 minutes"
       ]
      },
      {
       "output_type": "stream",
       "stream": "stdout",
       "text": [
        " \r",
        "[*****************70%*******           ]  2212094 of 3176590 complete Elapsed: 19.4 minutes\t Remaining: 8.5 minutes"
       ]
      },
      {
       "output_type": "stream",
       "stream": "stdout",
       "text": [
        " \r",
        "[*****************70%*******           ]  2214796 of 3176590 complete Elapsed: 19.5 minutes\t Remaining: 8.5 minutes"
       ]
      },
      {
       "output_type": "stream",
       "stream": "stdout",
       "text": [
        " \r",
        "[*****************70%*******           ]  2217613 of 3176590 complete Elapsed: 19.5 minutes\t Remaining: 8.4 minutes"
       ]
      },
      {
       "output_type": "stream",
       "stream": "stdout",
       "text": [
        " \r",
        "[*****************70%*******           ]  2219268 of 3176590 complete Elapsed: 19.6 minutes\t Remaining: 8.5 minutes"
       ]
      },
      {
       "output_type": "stream",
       "stream": "stdout",
       "text": [
        " \r",
        "[*****************70%*******           ]  2222090 of 3176590 complete Elapsed: 19.6 minutes\t Remaining: 8.4 minutes"
       ]
      },
      {
       "output_type": "stream",
       "stream": "stdout",
       "text": [
        " \r",
        "[*****************70%*******           ]  2224974 of 3176590 complete Elapsed: 19.7 minutes\t Remaining: 8.4 minutes"
       ]
      },
      {
       "output_type": "stream",
       "stream": "stdout",
       "text": [
        " \r",
        "[*****************70%*******           ]  2227982 of 3176590 complete Elapsed: 19.7 minutes\t Remaining: 8.4 minutes"
       ]
      },
      {
       "output_type": "stream",
       "stream": "stdout",
       "text": [
        " \r",
        "[*****************70%*******           ]  2230819 of 3176590 complete Elapsed: 19.7 minutes\t Remaining: 8.4 minutes"
       ]
      },
      {
       "output_type": "stream",
       "stream": "stdout",
       "text": [
        " \r",
        "[*****************70%*******           ]  2233640 of 3176590 complete Elapsed: 19.7 minutes\t Remaining: 8.3 minutes"
       ]
      },
      {
       "output_type": "stream",
       "stream": "stdout",
       "text": [
        " \r",
        "[*****************70%*******           ]  2236673 of 3176590 complete Elapsed: 19.8 minutes\t Remaining: 8.3 minutes"
       ]
      },
      {
       "output_type": "stream",
       "stream": "stdout",
       "text": [
        " \r",
        "[*****************71%*******           ]  2239510 of 3176590 complete Elapsed: 19.8 minutes\t Remaining: 8.3 minutes"
       ]
      },
      {
       "output_type": "stream",
       "stream": "stdout",
       "text": [
        " \r",
        "[*****************71%*******           ]  2242398 of 3176590 complete Elapsed: 19.8 minutes\t Remaining: 8.3 minutes"
       ]
      },
      {
       "output_type": "stream",
       "stream": "stdout",
       "text": [
        " \r",
        "[*****************71%*******           ]  2245210 of 3176590 complete Elapsed: 19.8 minutes\t Remaining: 8.2 minutes"
       ]
      },
      {
       "output_type": "stream",
       "stream": "stdout",
       "text": [
        " \r",
        "[*****************71%*******           ]  2247984 of 3176590 complete Elapsed: 19.9 minutes\t Remaining: 8.2 minutes"
       ]
      },
      {
       "output_type": "stream",
       "stream": "stdout",
       "text": [
        " \r",
        "[*****************71%*******           ]  2250773 of 3176590 complete Elapsed: 19.9 minutes\t Remaining: 8.2 minutes"
       ]
      },
      {
       "output_type": "stream",
       "stream": "stdout",
       "text": [
        " \r",
        "[*****************71%*******           ]  2253686 of 3176590 complete Elapsed: 19.9 minutes\t Remaining: 8.2 minutes"
       ]
      },
      {
       "output_type": "stream",
       "stream": "stdout",
       "text": [
        " \r",
        "[*****************71%*******           ]  2256447 of 3176590 complete Elapsed: 19.9 minutes\t Remaining: 8.1 minutes"
       ]
      },
      {
       "output_type": "stream",
       "stream": "stdout",
       "text": [
        " \r",
        "[*****************71%*******           ]  2259495 of 3176590 complete Elapsed: 20.0 minutes\t Remaining: 8.1 minutes"
       ]
      },
      {
       "output_type": "stream",
       "stream": "stdout",
       "text": [
        " \r",
        "[*****************71%*******           ]  2262156 of 3176590 complete Elapsed: 20.0 minutes\t Remaining: 8.1 minutes"
       ]
      },
      {
       "output_type": "stream",
       "stream": "stdout",
       "text": [
        " \r",
        "[*****************71%*******           ]  2265161 of 3176590 complete Elapsed: 20.0 minutes\t Remaining: 8.0 minutes"
       ]
      },
      {
       "output_type": "stream",
       "stream": "stdout",
       "text": [
        " \r",
        "[*****************71%*******           ]  2268314 of 3176590 complete Elapsed: 20.0 minutes\t Remaining: 8.0 minutes"
       ]
      },
      {
       "output_type": "stream",
       "stream": "stdout",
       "text": [
        " \r",
        "[*****************71%*******           ]  2271202 of 3176590 complete Elapsed: 20.1 minutes\t Remaining: 8.0 minutes"
       ]
      },
      {
       "output_type": "stream",
       "stream": "stdout",
       "text": [
        " \r",
        "[*****************72%*******           ]  2274281 of 3176590 complete Elapsed: 20.1 minutes\t Remaining: 8.0 minutes"
       ]
      },
      {
       "output_type": "stream",
       "stream": "stdout",
       "text": [
        " \r",
        "[*****************72%*******           ]  2277002 of 3176590 complete Elapsed: 20.1 minutes\t Remaining: 7.9 minutes"
       ]
      },
      {
       "output_type": "stream",
       "stream": "stdout",
       "text": [
        " \r",
        "[*****************72%*******           ]  2279900 of 3176590 complete Elapsed: 20.1 minutes\t Remaining: 7.9 minutes"
       ]
      },
      {
       "output_type": "stream",
       "stream": "stdout",
       "text": [
        " \r",
        "[*****************72%*******           ]  2282770 of 3176590 complete Elapsed: 20.2 minutes\t Remaining: 7.9 minutes"
       ]
      },
      {
       "output_type": "stream",
       "stream": "stdout",
       "text": [
        " \r",
        "[*****************72%*******           ]  2285647 of 3176590 complete Elapsed: 20.2 minutes\t Remaining: 7.9 minutes"
       ]
      },
      {
       "output_type": "stream",
       "stream": "stdout",
       "text": [
        " \r",
        "[*****************72%*******           ]  2288274 of 3176590 complete Elapsed: 20.2 minutes\t Remaining: 7.8 minutes"
       ]
      },
      {
       "output_type": "stream",
       "stream": "stdout",
       "text": [
        " \r",
        "[*****************72%*******           ]  2291271 of 3176590 complete Elapsed: 20.2 minutes\t Remaining: 7.8 minutes"
       ]
      },
      {
       "output_type": "stream",
       "stream": "stdout",
       "text": [
        " \r",
        "[*****************72%*******           ]  2294095 of 3176590 complete Elapsed: 20.3 minutes\t Remaining: 7.8 minutes"
       ]
      },
      {
       "output_type": "stream",
       "stream": "stdout",
       "text": [
        " \r",
        "[*****************72%*******           ]  2296896 of 3176590 complete Elapsed: 20.3 minutes\t Remaining: 7.8 minutes"
       ]
      },
      {
       "output_type": "stream",
       "stream": "stdout",
       "text": [
        " \r",
        "[*****************72%*******           ]  2299797 of 3176590 complete Elapsed: 20.3 minutes\t Remaining: 7.7 minutes"
       ]
      },
      {
       "output_type": "stream",
       "stream": "stdout",
       "text": [
        " \r",
        "[*****************72%*******           ]  2302449 of 3176590 complete Elapsed: 20.3 minutes\t Remaining: 7.7 minutes"
       ]
      },
      {
       "output_type": "stream",
       "stream": "stdout",
       "text": [
        " \r",
        "[*****************73%********          ]  2305557 of 3176590 complete Elapsed: 20.4 minutes\t Remaining: 7.7 minutes"
       ]
      },
      {
       "output_type": "stream",
       "stream": "stdout",
       "text": [
        " \r",
        "[*****************73%********          ]  2308360 of 3176590 complete Elapsed: 20.4 minutes\t Remaining: 7.7 minutes"
       ]
      },
      {
       "output_type": "stream",
       "stream": "stdout",
       "text": [
        " \r",
        "[*****************73%********          ]  2311112 of 3176590 complete Elapsed: 20.4 minutes\t Remaining: 7.6 minutes"
       ]
      },
      {
       "output_type": "stream",
       "stream": "stdout",
       "text": [
        " \r",
        "[*****************73%********          ]  2313912 of 3176590 complete Elapsed: 20.4 minutes\t Remaining: 7.6 minutes"
       ]
      },
      {
       "output_type": "stream",
       "stream": "stdout",
       "text": [
        " \r",
        "[*****************73%********          ]  2316833 of 3176590 complete Elapsed: 20.5 minutes\t Remaining: 7.6 minutes"
       ]
      },
      {
       "output_type": "stream",
       "stream": "stdout",
       "text": [
        " \r",
        "[*****************73%********          ]  2319770 of 3176590 complete Elapsed: 20.5 minutes\t Remaining: 7.6 minutes"
       ]
      },
      {
       "output_type": "stream",
       "stream": "stdout",
       "text": [
        " \r",
        "[*****************73%********          ]  2322685 of 3176590 complete Elapsed: 20.5 minutes\t Remaining: 7.5 minutes"
       ]
      },
      {
       "output_type": "stream",
       "stream": "stdout",
       "text": [
        " \r",
        "[*****************73%********          ]  2326106 of 3176590 complete Elapsed: 20.5 minutes\t Remaining: 7.5 minutes"
       ]
      },
      {
       "output_type": "stream",
       "stream": "stdout",
       "text": [
        " \r",
        "[*****************73%********          ]  2329201 of 3176590 complete Elapsed: 20.6 minutes\t Remaining: 7.5 minutes"
       ]
      },
      {
       "output_type": "stream",
       "stream": "stdout",
       "text": [
        " \r",
        "[*****************73%********          ]  2332104 of 3176590 complete Elapsed: 20.6 minutes\t Remaining: 7.5 minutes"
       ]
      },
      {
       "output_type": "stream",
       "stream": "stdout",
       "text": [
        " \r",
        "[*****************74%********          ]  2335058 of 3176590 complete Elapsed: 20.6 minutes\t Remaining: 7.4 minutes"
       ]
      },
      {
       "output_type": "stream",
       "stream": "stdout",
       "text": [
        " \r",
        "[*****************74%********          ]  2337964 of 3176590 complete Elapsed: 20.6 minutes\t Remaining: 7.4 minutes"
       ]
      },
      {
       "output_type": "stream",
       "stream": "stdout",
       "text": [
        " \r",
        "[*****************74%********          ]  2340649 of 3176590 complete Elapsed: 20.7 minutes\t Remaining: 7.4 minutes"
       ]
      },
      {
       "output_type": "stream",
       "stream": "stdout",
       "text": [
        " \r",
        "[*****************74%********          ]  2343675 of 3176590 complete Elapsed: 20.7 minutes\t Remaining: 7.4 minutes"
       ]
      },
      {
       "output_type": "stream",
       "stream": "stdout",
       "text": [
        " \r",
        "[*****************74%********          ]  2346490 of 3176590 complete Elapsed: 20.7 minutes\t Remaining: 7.3 minutes"
       ]
      },
      {
       "output_type": "stream",
       "stream": "stdout",
       "text": [
        " \r",
        "[*****************74%********          ]  2349383 of 3176590 complete Elapsed: 20.7 minutes\t Remaining: 7.3 minutes"
       ]
      },
      {
       "output_type": "stream",
       "stream": "stdout",
       "text": [
        " \r",
        "[*****************74%********          ]  2352071 of 3176590 complete Elapsed: 20.8 minutes\t Remaining: 7.3 minutes"
       ]
      },
      {
       "output_type": "stream",
       "stream": "stdout",
       "text": [
        " \r",
        "[*****************74%********          ]  2355213 of 3176590 complete Elapsed: 20.8 minutes\t Remaining: 7.2 minutes"
       ]
      },
      {
       "output_type": "stream",
       "stream": "stdout",
       "text": [
        " \r",
        "[*****************74%********          ]  2358136 of 3176590 complete Elapsed: 20.8 minutes\t Remaining: 7.2 minutes"
       ]
      },
      {
       "output_type": "stream",
       "stream": "stdout",
       "text": [
        " \r",
        "[*****************74%********          ]  2360914 of 3176590 complete Elapsed: 20.8 minutes\t Remaining: 7.2 minutes"
       ]
      },
      {
       "output_type": "stream",
       "stream": "stdout",
       "text": [
        " \r",
        "[*****************74%********          ]  2363950 of 3176590 complete Elapsed: 20.9 minutes\t Remaining: 7.2 minutes"
       ]
      },
      {
       "output_type": "stream",
       "stream": "stdout",
       "text": [
        " \r",
        "[*****************75%*********         ]  2366713 of 3176590 complete Elapsed: 20.9 minutes\t Remaining: 7.1 minutes"
       ]
      },
      {
       "output_type": "stream",
       "stream": "stdout",
       "text": [
        " \r",
        "[*****************75%*********         ]  2369674 of 3176590 complete Elapsed: 20.9 minutes\t Remaining: 7.1 minutes"
       ]
      },
      {
       "output_type": "stream",
       "stream": "stdout",
       "text": [
        " \r",
        "[*****************75%*********         ]  2372347 of 3176590 complete Elapsed: 20.9 minutes\t Remaining: 7.1 minutes"
       ]
      },
      {
       "output_type": "stream",
       "stream": "stdout",
       "text": [
        " \r",
        "[*****************75%*********         ]  2375279 of 3176590 complete Elapsed: 21.0 minutes\t Remaining: 7.1 minutes"
       ]
      },
      {
       "output_type": "stream",
       "stream": "stdout",
       "text": [
        " \r",
        "[*****************75%*********         ]  2378131 of 3176590 complete Elapsed: 21.0 minutes\t Remaining: 7.0 minutes"
       ]
      },
      {
       "output_type": "stream",
       "stream": "stdout",
       "text": [
        " \r",
        "[*****************75%*********         ]  2380826 of 3176590 complete Elapsed: 21.0 minutes\t Remaining: 7.0 minutes"
       ]
      },
      {
       "output_type": "stream",
       "stream": "stdout",
       "text": [
        " \r",
        "[*****************75%*********         ]  2383695 of 3176590 complete Elapsed: 21.0 minutes\t Remaining: 7.0 minutes"
       ]
      },
      {
       "output_type": "stream",
       "stream": "stdout",
       "text": [
        " \r",
        "[*****************75%*********         ]  2386396 of 3176590 complete Elapsed: 21.1 minutes\t Remaining: 7.0 minutes"
       ]
      },
      {
       "output_type": "stream",
       "stream": "stdout",
       "text": [
        " \r",
        "[*****************75%*********         ]  2389286 of 3176590 complete Elapsed: 21.1 minutes\t Remaining: 6.9 minutes"
       ]
      },
      {
       "output_type": "stream",
       "stream": "stdout",
       "text": [
        " \r",
        "[*****************75%*********         ]  2391844 of 3176590 complete Elapsed: 21.1 minutes\t Remaining: 6.9 minutes"
       ]
      },
      {
       "output_type": "stream",
       "stream": "stdout",
       "text": [
        " \r",
        "[*****************75%*********         ]  2394587 of 3176590 complete Elapsed: 21.1 minutes\t Remaining: 6.9 minutes"
       ]
      },
      {
       "output_type": "stream",
       "stream": "stdout",
       "text": [
        " \r",
        "[*****************75%*********         ]  2397511 of 3176590 complete Elapsed: 21.2 minutes\t Remaining: 6.9 minutes"
       ]
      },
      {
       "output_type": "stream",
       "stream": "stdout",
       "text": [
        " \r",
        "[*****************76%*********         ]  2400527 of 3176590 complete Elapsed: 21.2 minutes\t Remaining: 6.8 minutes"
       ]
      },
      {
       "output_type": "stream",
       "stream": "stdout",
       "text": [
        " \r",
        "[*****************76%*********         ]  2403328 of 3176590 complete Elapsed: 21.2 minutes\t Remaining: 6.8 minutes"
       ]
      },
      {
       "output_type": "stream",
       "stream": "stdout",
       "text": [
        " \r",
        "[*****************76%*********         ]  2406327 of 3176590 complete Elapsed: 21.2 minutes\t Remaining: 6.8 minutes"
       ]
      },
      {
       "output_type": "stream",
       "stream": "stdout",
       "text": [
        " \r",
        "[*****************76%*********         ]  2409449 of 3176590 complete Elapsed: 21.3 minutes\t Remaining: 6.8 minutes"
       ]
      },
      {
       "output_type": "stream",
       "stream": "stdout",
       "text": [
        " \r",
        "[*****************76%*********         ]  2412294 of 3176590 complete Elapsed: 21.3 minutes\t Remaining: 6.7 minutes"
       ]
      },
      {
       "output_type": "stream",
       "stream": "stdout",
       "text": [
        " \r",
        "[*****************76%*********         ]  2415113 of 3176590 complete Elapsed: 21.3 minutes\t Remaining: 6.7 minutes"
       ]
      },
      {
       "output_type": "stream",
       "stream": "stdout",
       "text": [
        " \r",
        "[*****************76%*********         ]  2418343 of 3176590 complete Elapsed: 21.3 minutes\t Remaining: 6.7 minutes"
       ]
      },
      {
       "output_type": "stream",
       "stream": "stdout",
       "text": [
        " \r",
        "[*****************76%*********         ]  2421498 of 3176590 complete Elapsed: 21.4 minutes\t Remaining: 6.7 minutes"
       ]
      },
      {
       "output_type": "stream",
       "stream": "stdout",
       "text": [
        " \r",
        "[*****************76%*********         ]  2424949 of 3176590 complete Elapsed: 21.4 minutes\t Remaining: 6.6 minutes"
       ]
      },
      {
       "output_type": "stream",
       "stream": "stdout",
       "text": [
        " \r",
        "[*****************76%*********         ]  2428048 of 3176590 complete Elapsed: 21.4 minutes\t Remaining: 6.6 minutes"
       ]
      },
      {
       "output_type": "stream",
       "stream": "stdout",
       "text": [
        " \r",
        "[*****************77%*********         ]  2430975 of 3176590 complete Elapsed: 21.4 minutes\t Remaining: 6.6 minutes"
       ]
      },
      {
       "output_type": "stream",
       "stream": "stdout",
       "text": [
        " \r",
        "[*****************77%*********         ]  2434056 of 3176590 complete Elapsed: 21.5 minutes\t Remaining: 6.5 minutes"
       ]
      },
      {
       "output_type": "stream",
       "stream": "stdout",
       "text": [
        " \r",
        "[*****************77%*********         ]  2437016 of 3176590 complete Elapsed: 21.5 minutes\t Remaining: 6.5 minutes"
       ]
      },
      {
       "output_type": "stream",
       "stream": "stdout",
       "text": [
        " \r",
        "[*****************77%*********         ]  2440242 of 3176590 complete Elapsed: 21.5 minutes\t Remaining: 6.5 minutes"
       ]
      },
      {
       "output_type": "stream",
       "stream": "stdout",
       "text": [
        " \r",
        "[*****************77%*********         ]  2442952 of 3176590 complete Elapsed: 21.5 minutes\t Remaining: 6.5 minutes"
       ]
      },
      {
       "output_type": "stream",
       "stream": "stdout",
       "text": [
        " \r",
        "[*****************77%*********         ]  2445811 of 3176590 complete Elapsed: 21.6 minutes\t Remaining: 6.4 minutes"
       ]
      },
      {
       "output_type": "stream",
       "stream": "stdout",
       "text": [
        " \r",
        "[*****************77%*********         ]  2448689 of 3176590 complete Elapsed: 21.6 minutes\t Remaining: 6.4 minutes"
       ]
      },
      {
       "output_type": "stream",
       "stream": "stdout",
       "text": [
        " \r",
        "[*****************77%*********         ]  2451726 of 3176590 complete Elapsed: 21.6 minutes\t Remaining: 6.4 minutes"
       ]
      },
      {
       "output_type": "stream",
       "stream": "stdout",
       "text": [
        " \r",
        "[*****************77%*********         ]  2454869 of 3176590 complete Elapsed: 21.6 minutes\t Remaining: 6.4 minutes"
       ]
      },
      {
       "output_type": "stream",
       "stream": "stdout",
       "text": [
        " \r",
        "[*****************77%*********         ]  2457791 of 3176590 complete Elapsed: 21.7 minutes\t Remaining: 6.3 minutes"
       ]
      },
      {
       "output_type": "stream",
       "stream": "stdout",
       "text": [
        " \r",
        "[*****************77%*********         ]  2460753 of 3176590 complete Elapsed: 21.7 minutes\t Remaining: 6.3 minutes"
       ]
      },
      {
       "output_type": "stream",
       "stream": "stdout",
       "text": [
        " \r",
        "[*****************78%**********        ]  2463535 of 3176590 complete Elapsed: 21.7 minutes\t Remaining: 6.3 minutes"
       ]
      },
      {
       "output_type": "stream",
       "stream": "stdout",
       "text": [
        " \r",
        "[*****************78%**********        ]  2466471 of 3176590 complete Elapsed: 21.7 minutes\t Remaining: 6.3 minutes"
       ]
      },
      {
       "output_type": "stream",
       "stream": "stdout",
       "text": [
        " \r",
        "[*****************78%**********        ]  2469315 of 3176590 complete Elapsed: 21.8 minutes\t Remaining: 6.2 minutes"
       ]
      },
      {
       "output_type": "stream",
       "stream": "stdout",
       "text": [
        " \r",
        "[*****************78%**********        ]  2471988 of 3176590 complete Elapsed: 21.8 minutes\t Remaining: 6.2 minutes"
       ]
      },
      {
       "output_type": "stream",
       "stream": "stdout",
       "text": [
        " \r",
        "[*****************78%**********        ]  2474803 of 3176590 complete Elapsed: 21.8 minutes\t Remaining: 6.2 minutes"
       ]
      },
      {
       "output_type": "stream",
       "stream": "stdout",
       "text": [
        " \r",
        "[*****************78%**********        ]  2477746 of 3176590 complete Elapsed: 21.8 minutes\t Remaining: 6.2 minutes"
       ]
      },
      {
       "output_type": "stream",
       "stream": "stdout",
       "text": [
        " \r",
        "[*****************78%**********        ]  2480757 of 3176590 complete Elapsed: 21.9 minutes\t Remaining: 6.1 minutes"
       ]
      },
      {
       "output_type": "stream",
       "stream": "stdout",
       "text": [
        " \r",
        "[*****************78%**********        ]  2483755 of 3176590 complete Elapsed: 21.9 minutes\t Remaining: 6.1 minutes"
       ]
      },
      {
       "output_type": "stream",
       "stream": "stdout",
       "text": [
        " \r",
        "[*****************78%**********        ]  2486771 of 3176590 complete Elapsed: 21.9 minutes\t Remaining: 6.1 minutes"
       ]
      },
      {
       "output_type": "stream",
       "stream": "stdout",
       "text": [
        " \r",
        "[*****************78%**********        ]  2489584 of 3176590 complete Elapsed: 21.9 minutes\t Remaining: 6.1 minutes"
       ]
      },
      {
       "output_type": "stream",
       "stream": "stdout",
       "text": [
        " \r",
        "[*****************78%**********        ]  2492539 of 3176590 complete Elapsed: 22.0 minutes\t Remaining: 6.0 minutes"
       ]
      },
      {
       "output_type": "stream",
       "stream": "stdout",
       "text": [
        " \r",
        "[*****************79%**********        ]  2495620 of 3176590 complete Elapsed: 22.0 minutes\t Remaining: 6.0 minutes"
       ]
      },
      {
       "output_type": "stream",
       "stream": "stdout",
       "text": [
        " \r",
        "[*****************79%**********        ]  2498573 of 3176590 complete Elapsed: 22.0 minutes\t Remaining: 6.0 minutes"
       ]
      },
      {
       "output_type": "stream",
       "stream": "stdout",
       "text": [
        " \r",
        "[*****************79%**********        ]  2501476 of 3176590 complete Elapsed: 22.0 minutes\t Remaining: 5.9 minutes"
       ]
      },
      {
       "output_type": "stream",
       "stream": "stdout",
       "text": [
        " \r",
        "[*****************79%**********        ]  2504291 of 3176590 complete Elapsed: 22.1 minutes\t Remaining: 5.9 minutes"
       ]
      },
      {
       "output_type": "stream",
       "stream": "stdout",
       "text": [
        " \r",
        "[*****************79%**********        ]  2507270 of 3176590 complete Elapsed: 22.1 minutes\t Remaining: 5.9 minutes"
       ]
      },
      {
       "output_type": "stream",
       "stream": "stdout",
       "text": [
        " \r",
        "[*****************79%**********        ]  2510201 of 3176590 complete Elapsed: 22.1 minutes\t Remaining: 5.9 minutes"
       ]
      },
      {
       "output_type": "stream",
       "stream": "stdout",
       "text": [
        " \r",
        "[*****************79%**********        ]  2512858 of 3176590 complete Elapsed: 22.1 minutes\t Remaining: 5.8 minutes"
       ]
      },
      {
       "output_type": "stream",
       "stream": "stdout",
       "text": [
        " \r",
        "[*****************79%**********        ]  2515775 of 3176590 complete Elapsed: 22.2 minutes\t Remaining: 5.8 minutes"
       ]
      },
      {
       "output_type": "stream",
       "stream": "stdout",
       "text": [
        " \r",
        "[*****************79%**********        ]  2518703 of 3176590 complete Elapsed: 22.2 minutes\t Remaining: 5.8 minutes"
       ]
      },
      {
       "output_type": "stream",
       "stream": "stdout",
       "text": [
        " \r",
        "[*****************79%**********        ]  2521590 of 3176590 complete Elapsed: 22.2 minutes\t Remaining: 5.8 minutes"
       ]
      },
      {
       "output_type": "stream",
       "stream": "stdout",
       "text": [
        " \r",
        "[*****************79%**********        ]  2524345 of 3176590 complete Elapsed: 22.2 minutes\t Remaining: 5.7 minutes"
       ]
      },
      {
       "output_type": "stream",
       "stream": "stdout",
       "text": [
        " \r",
        "[*****************80%**********        ]  2527353 of 3176590 complete Elapsed: 22.3 minutes\t Remaining: 5.7 minutes"
       ]
      },
      {
       "output_type": "stream",
       "stream": "stdout",
       "text": [
        " \r",
        "[*****************80%**********        ]  2530269 of 3176590 complete Elapsed: 22.3 minutes\t Remaining: 5.7 minutes"
       ]
      },
      {
       "output_type": "stream",
       "stream": "stdout",
       "text": [
        " \r",
        "[*****************80%**********        ]  2533327 of 3176590 complete Elapsed: 22.3 minutes\t Remaining: 5.7 minutes"
       ]
      },
      {
       "output_type": "stream",
       "stream": "stdout",
       "text": [
        " \r",
        "[*****************80%**********        ]  2536248 of 3176590 complete Elapsed: 22.3 minutes\t Remaining: 5.6 minutes"
       ]
      },
      {
       "output_type": "stream",
       "stream": "stdout",
       "text": [
        " \r",
        "[*****************80%**********        ]  2539254 of 3176590 complete Elapsed: 22.4 minutes\t Remaining: 5.6 minutes"
       ]
      },
      {
       "output_type": "stream",
       "stream": "stdout",
       "text": [
        " \r",
        "[*****************80%**********        ]  2542113 of 3176590 complete Elapsed: 22.4 minutes\t Remaining: 5.6 minutes"
       ]
      },
      {
       "output_type": "stream",
       "stream": "stdout",
       "text": [
        " \r",
        "[*****************80%**********        ]  2545052 of 3176590 complete Elapsed: 22.4 minutes\t Remaining: 5.6 minutes"
       ]
      },
      {
       "output_type": "stream",
       "stream": "stdout",
       "text": [
        " \r",
        "[*****************80%**********        ]  2549035 of 3176590 complete Elapsed: 22.4 minutes\t Remaining: 5.5 minutes"
       ]
      },
      {
       "output_type": "stream",
       "stream": "stdout",
       "text": [
        " \r",
        "[*****************80%**********        ]  2553319 of 3176590 complete Elapsed: 22.5 minutes\t Remaining: 5.5 minutes"
       ]
      },
      {
       "output_type": "stream",
       "stream": "stdout",
       "text": [
        " \r",
        "[*****************80%**********        ]  2556210 of 3176590 complete Elapsed: 22.5 minutes\t Remaining: 5.5 minutes"
       ]
      },
      {
       "output_type": "stream",
       "stream": "stdout",
       "text": [
        " \r",
        "[*****************81%***********       ]  2559097 of 3176590 complete Elapsed: 22.5 minutes\t Remaining: 5.4 minutes"
       ]
      },
      {
       "output_type": "stream",
       "stream": "stdout",
       "text": [
        " \r",
        "[*****************81%***********       ]  2562084 of 3176590 complete Elapsed: 22.5 minutes\t Remaining: 5.4 minutes"
       ]
      },
      {
       "output_type": "stream",
       "stream": "stdout",
       "text": [
        " \r",
        "[*****************81%***********       ]  2565037 of 3176590 complete Elapsed: 22.6 minutes\t Remaining: 5.4 minutes"
       ]
      },
      {
       "output_type": "stream",
       "stream": "stdout",
       "text": [
        " \r",
        "[*****************81%***********       ]  2567638 of 3176590 complete Elapsed: 22.6 minutes\t Remaining: 5.4 minutes"
       ]
      },
      {
       "output_type": "stream",
       "stream": "stdout",
       "text": [
        " \r",
        "[*****************81%***********       ]  2570471 of 3176590 complete Elapsed: 22.6 minutes\t Remaining: 5.3 minutes"
       ]
      },
      {
       "output_type": "stream",
       "stream": "stdout",
       "text": [
        " \r",
        "[*****************81%***********       ]  2573389 of 3176590 complete Elapsed: 22.6 minutes\t Remaining: 5.3 minutes"
       ]
      },
      {
       "output_type": "stream",
       "stream": "stdout",
       "text": [
        " \r",
        "[*****************81%***********       ]  2576282 of 3176590 complete Elapsed: 22.7 minutes\t Remaining: 5.3 minutes"
       ]
      },
      {
       "output_type": "stream",
       "stream": "stdout",
       "text": [
        " \r",
        "[*****************81%***********       ]  2579082 of 3176590 complete Elapsed: 22.7 minutes\t Remaining: 5.3 minutes"
       ]
      },
      {
       "output_type": "stream",
       "stream": "stdout",
       "text": [
        " \r",
        "[*****************81%***********       ]  2581986 of 3176590 complete Elapsed: 22.7 minutes\t Remaining: 5.2 minutes"
       ]
      },
      {
       "output_type": "stream",
       "stream": "stdout",
       "text": [
        " \r",
        "[*****************81%***********       ]  2585007 of 3176590 complete Elapsed: 22.7 minutes\t Remaining: 5.2 minutes"
       ]
      },
      {
       "output_type": "stream",
       "stream": "stdout",
       "text": [
        " \r",
        "[*****************81%***********       ]  2588023 of 3176590 complete Elapsed: 22.8 minutes\t Remaining: 5.2 minutes"
       ]
      },
      {
       "output_type": "stream",
       "stream": "stdout",
       "text": [
        " \r",
        "[*****************82%***********       ]  2590996 of 3176590 complete Elapsed: 22.8 minutes\t Remaining: 5.1 minutes"
       ]
      },
      {
       "output_type": "stream",
       "stream": "stdout",
       "text": [
        " \r",
        "[*****************82%***********       ]  2593908 of 3176590 complete Elapsed: 22.8 minutes\t Remaining: 5.1 minutes"
       ]
      },
      {
       "output_type": "stream",
       "stream": "stdout",
       "text": [
        " \r",
        "[*****************82%***********       ]  2596848 of 3176590 complete Elapsed: 22.8 minutes\t Remaining: 5.1 minutes"
       ]
      },
      {
       "output_type": "stream",
       "stream": "stdout",
       "text": [
        " \r",
        "[*****************82%***********       ]  2599860 of 3176590 complete Elapsed: 22.9 minutes\t Remaining: 5.1 minutes"
       ]
      },
      {
       "output_type": "stream",
       "stream": "stdout",
       "text": [
        " \r",
        "[*****************82%***********       ]  2602779 of 3176590 complete Elapsed: 22.9 minutes\t Remaining: 5.0 minutes"
       ]
      },
      {
       "output_type": "stream",
       "stream": "stdout",
       "text": [
        " \r",
        "[*****************82%***********       ]  2605563 of 3176590 complete Elapsed: 22.9 minutes\t Remaining: 5.0 minutes"
       ]
      },
      {
       "output_type": "stream",
       "stream": "stdout",
       "text": [
        " \r",
        "[*****************82%***********       ]  2608598 of 3176590 complete Elapsed: 22.9 minutes\t Remaining: 5.0 minutes"
       ]
      },
      {
       "output_type": "stream",
       "stream": "stdout",
       "text": [
        " \r",
        "[*****************82%***********       ]  2611570 of 3176590 complete Elapsed: 23.0 minutes\t Remaining: 5.0 minutes"
       ]
      },
      {
       "output_type": "stream",
       "stream": "stdout",
       "text": [
        " \r",
        "[*****************82%***********       ]  2614489 of 3176590 complete Elapsed: 23.0 minutes\t Remaining: 4.9 minutes"
       ]
      },
      {
       "output_type": "stream",
       "stream": "stdout",
       "text": [
        " \r",
        "[*****************82%***********       ]  2617331 of 3176590 complete Elapsed: 23.0 minutes\t Remaining: 4.9 minutes"
       ]
      },
      {
       "output_type": "stream",
       "stream": "stdout",
       "text": [
        " \r",
        "[*****************82%***********       ]  2620236 of 3176590 complete Elapsed: 23.0 minutes\t Remaining: 4.9 minutes"
       ]
      },
      {
       "output_type": "stream",
       "stream": "stdout",
       "text": [
        " \r",
        "[*****************83%************      ]  2623115 of 3176590 complete Elapsed: 23.1 minutes\t Remaining: 4.9 minutes"
       ]
      },
      {
       "output_type": "stream",
       "stream": "stdout",
       "text": [
        " \r",
        "[*****************83%************      ]  2626280 of 3176590 complete Elapsed: 23.1 minutes\t Remaining: 4.8 minutes"
       ]
      },
      {
       "output_type": "stream",
       "stream": "stdout",
       "text": [
        " \r",
        "[*****************83%************      ]  2629243 of 3176590 complete Elapsed: 23.1 minutes\t Remaining: 4.8 minutes"
       ]
      },
      {
       "output_type": "stream",
       "stream": "stdout",
       "text": [
        " \r",
        "[*****************83%************      ]  2633759 of 3176590 complete Elapsed: 23.1 minutes\t Remaining: 4.8 minutes"
       ]
      },
      {
       "output_type": "stream",
       "stream": "stdout",
       "text": [
        " \r",
        "[*****************83%************      ]  2636185 of 3176590 complete Elapsed: 23.2 minutes\t Remaining: 4.7 minutes"
       ]
      },
      {
       "output_type": "stream",
       "stream": "stdout",
       "text": [
        " \r",
        "[*****************83%************      ]  2639710 of 3176590 complete Elapsed: 23.2 minutes\t Remaining: 4.7 minutes"
       ]
      },
      {
       "output_type": "stream",
       "stream": "stdout",
       "text": [
        " \r",
        "[*****************83%************      ]  2642533 of 3176590 complete Elapsed: 23.2 minutes\t Remaining: 4.7 minutes"
       ]
      },
      {
       "output_type": "stream",
       "stream": "stdout",
       "text": [
        " \r",
        "[*****************83%************      ]  2645408 of 3176590 complete Elapsed: 23.2 minutes\t Remaining: 4.7 minutes"
       ]
      },
      {
       "output_type": "stream",
       "stream": "stdout",
       "text": [
        " \r",
        "[*****************83%************      ]  2648329 of 3176590 complete Elapsed: 23.3 minutes\t Remaining: 4.6 minutes"
       ]
      },
      {
       "output_type": "stream",
       "stream": "stdout",
       "text": [
        " \r",
        "[*****************83%************      ]  2651221 of 3176590 complete Elapsed: 23.3 minutes\t Remaining: 4.6 minutes"
       ]
      },
      {
       "output_type": "stream",
       "stream": "stdout",
       "text": [
        " \r",
        "[*****************84%************      ]  2653892 of 3176590 complete Elapsed: 23.3 minutes\t Remaining: 4.6 minutes"
       ]
      },
      {
       "output_type": "stream",
       "stream": "stdout",
       "text": [
        " \r",
        "[*****************84%************      ]  2656830 of 3176590 complete Elapsed: 23.3 minutes\t Remaining: 4.6 minutes"
       ]
      },
      {
       "output_type": "stream",
       "stream": "stdout",
       "text": [
        " \r",
        "[*****************84%************      ]  2659550 of 3176590 complete Elapsed: 23.4 minutes\t Remaining: 4.5 minutes"
       ]
      },
      {
       "output_type": "stream",
       "stream": "stdout",
       "text": [
        " \r",
        "[*****************84%************      ]  2662519 of 3176590 complete Elapsed: 23.4 minutes\t Remaining: 4.5 minutes"
       ]
      },
      {
       "output_type": "stream",
       "stream": "stdout",
       "text": [
        " \r",
        "[*****************84%************      ]  2665408 of 3176590 complete Elapsed: 23.4 minutes\t Remaining: 4.5 minutes"
       ]
      },
      {
       "output_type": "stream",
       "stream": "stdout",
       "text": [
        " \r",
        "[*****************84%************      ]  2668162 of 3176590 complete Elapsed: 23.4 minutes\t Remaining: 4.5 minutes"
       ]
      },
      {
       "output_type": "stream",
       "stream": "stdout",
       "text": [
        " \r",
        "[*****************84%************      ]  2670895 of 3176590 complete Elapsed: 23.5 minutes\t Remaining: 4.4 minutes"
       ]
      },
      {
       "output_type": "stream",
       "stream": "stdout",
       "text": [
        " \r",
        "[*****************84%************      ]  2673662 of 3176590 complete Elapsed: 23.5 minutes\t Remaining: 4.4 minutes"
       ]
      },
      {
       "output_type": "stream",
       "stream": "stdout",
       "text": [
        " \r",
        "[*****************84%************      ]  2676488 of 3176590 complete Elapsed: 23.5 minutes\t Remaining: 4.4 minutes"
       ]
      },
      {
       "output_type": "stream",
       "stream": "stdout",
       "text": [
        " \r",
        "[*****************84%************      ]  2679403 of 3176590 complete Elapsed: 23.5 minutes\t Remaining: 4.4 minutes"
       ]
      },
      {
       "output_type": "stream",
       "stream": "stdout",
       "text": [
        " \r",
        "[*****************84%************      ]  2682255 of 3176590 complete Elapsed: 23.6 minutes\t Remaining: 4.3 minutes"
       ]
      },
      {
       "output_type": "stream",
       "stream": "stdout",
       "text": [
        " \r",
        "[*****************85%************      ]  2685303 of 3176590 complete Elapsed: 23.6 minutes\t Remaining: 4.3 minutes"
       ]
      },
      {
       "output_type": "stream",
       "stream": "stdout",
       "text": [
        " \r",
        "[*****************85%************      ]  2688181 of 3176590 complete Elapsed: 23.6 minutes\t Remaining: 4.3 minutes"
       ]
      },
      {
       "output_type": "stream",
       "stream": "stdout",
       "text": [
        " \r",
        "[*****************85%************      ]  2691280 of 3176590 complete Elapsed: 23.6 minutes\t Remaining: 4.3 minutes"
       ]
      },
      {
       "output_type": "stream",
       "stream": "stdout",
       "text": [
        " \r",
        "[*****************85%************      ]  2694368 of 3176590 complete Elapsed: 23.7 minutes\t Remaining: 4.2 minutes"
       ]
      },
      {
       "output_type": "stream",
       "stream": "stdout",
       "text": [
        " \r",
        "[*****************85%************      ]  2697187 of 3176590 complete Elapsed: 23.7 minutes\t Remaining: 4.2 minutes"
       ]
      },
      {
       "output_type": "stream",
       "stream": "stdout",
       "text": [
        " \r",
        "[*****************85%************      ]  2700117 of 3176590 complete Elapsed: 23.7 minutes\t Remaining: 4.2 minutes"
       ]
      },
      {
       "output_type": "stream",
       "stream": "stdout",
       "text": [
        " \r",
        "[*****************85%************      ]  2703113 of 3176590 complete Elapsed: 23.7 minutes\t Remaining: 4.2 minutes"
       ]
      },
      {
       "output_type": "stream",
       "stream": "stdout",
       "text": [
        " \r",
        "[*****************85%************      ]  2706070 of 3176590 complete Elapsed: 23.8 minutes\t Remaining: 4.1 minutes"
       ]
      },
      {
       "output_type": "stream",
       "stream": "stdout",
       "text": [
        " \r",
        "[*****************85%************      ]  2708959 of 3176590 complete Elapsed: 23.8 minutes\t Remaining: 4.1 minutes"
       ]
      },
      {
       "output_type": "stream",
       "stream": "stdout",
       "text": [
        " \r",
        "[*****************85%************      ]  2711907 of 3176590 complete Elapsed: 23.8 minutes\t Remaining: 4.1 minutes"
       ]
      },
      {
       "output_type": "stream",
       "stream": "stdout",
       "text": [
        " \r",
        "[*****************85%************      ]  2714520 of 3176590 complete Elapsed: 23.8 minutes\t Remaining: 4.1 minutes"
       ]
      },
      {
       "output_type": "stream",
       "stream": "stdout",
       "text": [
        " \r",
        "[*****************86%*************     ]  2717019 of 3176590 complete Elapsed: 23.9 minutes\t Remaining: 4.0 minutes"
       ]
      },
      {
       "output_type": "stream",
       "stream": "stdout",
       "text": [
        " \r",
        "[*****************86%*************     ]  2719804 of 3176590 complete Elapsed: 23.9 minutes\t Remaining: 4.0 minutes"
       ]
      },
      {
       "output_type": "stream",
       "stream": "stdout",
       "text": [
        " \r",
        "[*****************86%*************     ]  2722614 of 3176590 complete Elapsed: 23.9 minutes\t Remaining: 4.0 minutes"
       ]
      },
      {
       "output_type": "stream",
       "stream": "stdout",
       "text": [
        " \r",
        "[*****************86%*************     ]  2725501 of 3176590 complete Elapsed: 23.9 minutes\t Remaining: 4.0 minutes"
       ]
      },
      {
       "output_type": "stream",
       "stream": "stdout",
       "text": [
        " \r",
        "[*****************86%*************     ]  2728429 of 3176590 complete Elapsed: 24.0 minutes\t Remaining: 3.9 minutes"
       ]
      },
      {
       "output_type": "stream",
       "stream": "stdout",
       "text": [
        " \r",
        "[*****************86%*************     ]  2731325 of 3176590 complete Elapsed: 24.0 minutes\t Remaining: 3.9 minutes"
       ]
      },
      {
       "output_type": "stream",
       "stream": "stdout",
       "text": [
        " \r",
        "[*****************86%*************     ]  2734067 of 3176590 complete Elapsed: 24.0 minutes\t Remaining: 3.9 minutes"
       ]
      },
      {
       "output_type": "stream",
       "stream": "stdout",
       "text": [
        " \r",
        "[*****************86%*************     ]  2736832 of 3176590 complete Elapsed: 24.0 minutes\t Remaining: 3.9 minutes"
       ]
      },
      {
       "output_type": "stream",
       "stream": "stdout",
       "text": [
        " \r",
        "[*****************86%*************     ]  2739869 of 3176590 complete Elapsed: 24.1 minutes\t Remaining: 3.8 minutes"
       ]
      },
      {
       "output_type": "stream",
       "stream": "stdout",
       "text": [
        " \r",
        "[*****************86%*************     ]  2742762 of 3176590 complete Elapsed: 24.1 minutes\t Remaining: 3.8 minutes"
       ]
      },
      {
       "output_type": "stream",
       "stream": "stdout",
       "text": [
        " \r",
        "[*****************86%*************     ]  2745596 of 3176590 complete Elapsed: 24.1 minutes\t Remaining: 3.8 minutes"
       ]
      },
      {
       "output_type": "stream",
       "stream": "stdout",
       "text": [
        " \r",
        "[*****************87%*************     ]  2748324 of 3176590 complete Elapsed: 24.1 minutes\t Remaining: 3.8 minutes"
       ]
      },
      {
       "output_type": "stream",
       "stream": "stdout",
       "text": [
        " \r",
        "[*****************87%*************     ]  2751288 of 3176590 complete Elapsed: 24.2 minutes\t Remaining: 3.7 minutes"
       ]
      },
      {
       "output_type": "stream",
       "stream": "stdout",
       "text": [
        " \r",
        "[*****************87%*************     ]  2754203 of 3176590 complete Elapsed: 24.2 minutes\t Remaining: 3.7 minutes"
       ]
      },
      {
       "output_type": "stream",
       "stream": "stdout",
       "text": [
        " \r",
        "[*****************87%*************     ]  2757148 of 3176590 complete Elapsed: 24.2 minutes\t Remaining: 3.7 minutes"
       ]
      },
      {
       "output_type": "stream",
       "stream": "stdout",
       "text": [
        " \r",
        "[*****************87%*************     ]  2760072 of 3176590 complete Elapsed: 24.2 minutes\t Remaining: 3.7 minutes"
       ]
      },
      {
       "output_type": "stream",
       "stream": "stdout",
       "text": [
        " \r",
        "[*****************87%*************     ]  2762751 of 3176590 complete Elapsed: 24.3 minutes\t Remaining: 3.6 minutes"
       ]
      },
      {
       "output_type": "stream",
       "stream": "stdout",
       "text": [
        " \r",
        "[*****************87%*************     ]  2765689 of 3176590 complete Elapsed: 24.3 minutes\t Remaining: 3.6 minutes"
       ]
      },
      {
       "output_type": "stream",
       "stream": "stdout",
       "text": [
        " \r",
        "[*****************87%*************     ]  2768615 of 3176590 complete Elapsed: 24.3 minutes\t Remaining: 3.6 minutes"
       ]
      },
      {
       "output_type": "stream",
       "stream": "stdout",
       "text": [
        " \r",
        "[*****************87%*************     ]  2771486 of 3176590 complete Elapsed: 24.3 minutes\t Remaining: 3.6 minutes"
       ]
      },
      {
       "output_type": "stream",
       "stream": "stdout",
       "text": [
        " \r",
        "[*****************87%*************     ]  2774426 of 3176590 complete Elapsed: 24.4 minutes\t Remaining: 3.5 minutes"
       ]
      },
      {
       "output_type": "stream",
       "stream": "stdout",
       "text": [
        " \r",
        "[*****************87%*************     ]  2777365 of 3176590 complete Elapsed: 24.4 minutes\t Remaining: 3.5 minutes"
       ]
      },
      {
       "output_type": "stream",
       "stream": "stdout",
       "text": [
        " \r",
        "[*****************87%*************     ]  2778693 of 3176590 complete Elapsed: 24.5 minutes\t Remaining: 3.5 minutes"
       ]
      },
      {
       "output_type": "stream",
       "stream": "stdout",
       "text": [
        " \r",
        "[*****************88%*************     ]  2781670 of 3176590 complete Elapsed: 24.5 minutes\t Remaining: 3.5 minutes"
       ]
      },
      {
       "output_type": "stream",
       "stream": "stdout",
       "text": [
        " \r",
        "[*****************88%*************     ]  2784680 of 3176590 complete Elapsed: 24.6 minutes\t Remaining: 3.5 minutes"
       ]
      },
      {
       "output_type": "stream",
       "stream": "stdout",
       "text": [
        " \r",
        "[*****************88%*************     ]  2787644 of 3176590 complete Elapsed: 24.6 minutes\t Remaining: 3.4 minutes"
       ]
      },
      {
       "output_type": "stream",
       "stream": "stdout",
       "text": [
        " \r",
        "[*****************88%*************     ]  2790564 of 3176590 complete Elapsed: 24.6 minutes\t Remaining: 3.4 minutes"
       ]
      },
      {
       "output_type": "stream",
       "stream": "stdout",
       "text": [
        " \r",
        "[*****************88%*************     ]  2793803 of 3176590 complete Elapsed: 24.6 minutes\t Remaining: 3.4 minutes"
       ]
      },
      {
       "output_type": "stream",
       "stream": "stdout",
       "text": [
        " \r",
        "[*****************88%*************     ]  2796875 of 3176590 complete Elapsed: 24.7 minutes\t Remaining: 3.3 minutes"
       ]
      },
      {
       "output_type": "stream",
       "stream": "stdout",
       "text": [
        " \r",
        "[*****************88%*************     ]  2799759 of 3176590 complete Elapsed: 24.7 minutes\t Remaining: 3.3 minutes"
       ]
      },
      {
       "output_type": "stream",
       "stream": "stdout",
       "text": [
        " \r",
        "[*****************88%*************     ]  2802653 of 3176590 complete Elapsed: 24.7 minutes\t Remaining: 3.3 minutes"
       ]
      },
      {
       "output_type": "stream",
       "stream": "stdout",
       "text": [
        " \r",
        "[*****************88%*************     ]  2805572 of 3176590 complete Elapsed: 24.7 minutes\t Remaining: 3.3 minutes"
       ]
      },
      {
       "output_type": "stream",
       "stream": "stdout",
       "text": [
        " \r",
        "[*****************88%*************     ]  2808532 of 3176590 complete Elapsed: 24.8 minutes\t Remaining: 3.2 minutes"
       ]
      },
      {
       "output_type": "stream",
       "stream": "stdout",
       "text": [
        " \r",
        "[*****************89%**************    ]  2811423 of 3176590 complete Elapsed: 24.8 minutes\t Remaining: 3.2 minutes"
       ]
      },
      {
       "output_type": "stream",
       "stream": "stdout",
       "text": [
        " \r",
        "[*****************89%**************    ]  2814372 of 3176590 complete Elapsed: 24.8 minutes\t Remaining: 3.2 minutes"
       ]
      },
      {
       "output_type": "stream",
       "stream": "stdout",
       "text": [
        " \r",
        "[*****************89%**************    ]  2817423 of 3176590 complete Elapsed: 24.8 minutes\t Remaining: 3.2 minutes"
       ]
      },
      {
       "output_type": "stream",
       "stream": "stdout",
       "text": [
        " \r",
        "[*****************89%**************    ]  2820284 of 3176590 complete Elapsed: 24.9 minutes\t Remaining: 3.1 minutes"
       ]
      },
      {
       "output_type": "stream",
       "stream": "stdout",
       "text": [
        " \r",
        "[*****************89%**************    ]  2823328 of 3176590 complete Elapsed: 24.9 minutes\t Remaining: 3.1 minutes"
       ]
      },
      {
       "output_type": "stream",
       "stream": "stdout",
       "text": [
        " \r",
        "[*****************89%**************    ]  2826254 of 3176590 complete Elapsed: 24.9 minutes\t Remaining: 3.1 minutes"
       ]
      },
      {
       "output_type": "stream",
       "stream": "stdout",
       "text": [
        " \r",
        "[*****************89%**************    ]  2829173 of 3176590 complete Elapsed: 24.9 minutes\t Remaining: 3.1 minutes"
       ]
      },
      {
       "output_type": "stream",
       "stream": "stdout",
       "text": [
        " \r",
        "[*****************89%**************    ]  2831959 of 3176590 complete Elapsed: 25.0 minutes\t Remaining: 3.0 minutes"
       ]
      },
      {
       "output_type": "stream",
       "stream": "stdout",
       "text": [
        " \r",
        "[*****************89%**************    ]  2835050 of 3176590 complete Elapsed: 25.0 minutes\t Remaining: 3.0 minutes"
       ]
      },
      {
       "output_type": "stream",
       "stream": "stdout",
       "text": [
        " \r",
        "[*****************89%**************    ]  2838029 of 3176590 complete Elapsed: 25.0 minutes\t Remaining: 3.0 minutes"
       ]
      },
      {
       "output_type": "stream",
       "stream": "stdout",
       "text": [
        " \r",
        "[*****************89%**************    ]  2841077 of 3176590 complete Elapsed: 25.0 minutes\t Remaining: 3.0 minutes"
       ]
      },
      {
       "output_type": "stream",
       "stream": "stdout",
       "text": [
        " \r",
        "[*****************90%**************    ]  2844089 of 3176590 complete Elapsed: 25.1 minutes\t Remaining: 2.9 minutes"
       ]
      },
      {
       "output_type": "stream",
       "stream": "stdout",
       "text": [
        " \r",
        "[*****************90%**************    ]  2847159 of 3176590 complete Elapsed: 25.1 minutes\t Remaining: 2.9 minutes"
       ]
      },
      {
       "output_type": "stream",
       "stream": "stdout",
       "text": [
        " \r",
        "[*****************90%**************    ]  2850143 of 3176590 complete Elapsed: 25.1 minutes\t Remaining: 2.9 minutes"
       ]
      },
      {
       "output_type": "stream",
       "stream": "stdout",
       "text": [
        " \r",
        "[*****************90%**************    ]  2853216 of 3176590 complete Elapsed: 25.1 minutes\t Remaining: 2.8 minutes"
       ]
      },
      {
       "output_type": "stream",
       "stream": "stdout",
       "text": [
        " \r",
        "[*****************90%**************    ]  2856240 of 3176590 complete Elapsed: 25.2 minutes\t Remaining: 2.8 minutes"
       ]
      },
      {
       "output_type": "stream",
       "stream": "stdout",
       "text": [
        " \r",
        "[*****************90%**************    ]  2859296 of 3176590 complete Elapsed: 25.2 minutes\t Remaining: 2.8 minutes"
       ]
      },
      {
       "output_type": "stream",
       "stream": "stdout",
       "text": [
        " \r",
        "[*****************90%**************    ]  2862427 of 3176590 complete Elapsed: 25.2 minutes\t Remaining: 2.8 minutes"
       ]
      },
      {
       "output_type": "stream",
       "stream": "stdout",
       "text": [
        " \r",
        "[*****************90%**************    ]  2865273 of 3176590 complete Elapsed: 25.2 minutes\t Remaining: 2.7 minutes"
       ]
      },
      {
       "output_type": "stream",
       "stream": "stdout",
       "text": [
        " \r",
        "[*****************90%**************    ]  2868242 of 3176590 complete Elapsed: 25.3 minutes\t Remaining: 2.7 minutes"
       ]
      },
      {
       "output_type": "stream",
       "stream": "stdout",
       "text": [
        " \r",
        "[*****************90%**************    ]  2871204 of 3176590 complete Elapsed: 25.3 minutes\t Remaining: 2.7 minutes"
       ]
      },
      {
       "output_type": "stream",
       "stream": "stdout",
       "text": [
        " \r",
        "[*****************90%**************    ]  2874164 of 3176590 complete Elapsed: 25.3 minutes\t Remaining: 2.7 minutes"
       ]
      },
      {
       "output_type": "stream",
       "stream": "stdout",
       "text": [
        " \r",
        "[*****************91%***************   ]  2877306 of 3176590 complete Elapsed: 25.3 minutes\t Remaining: 2.6 minutes"
       ]
      },
      {
       "output_type": "stream",
       "stream": "stdout",
       "text": [
        " \r",
        "[*****************91%***************   ]  2880576 of 3176590 complete Elapsed: 25.4 minutes\t Remaining: 2.6 minutes"
       ]
      },
      {
       "output_type": "stream",
       "stream": "stdout",
       "text": [
        " \r",
        "[*****************91%***************   ]  2884687 of 3176590 complete Elapsed: 25.4 minutes\t Remaining: 2.6 minutes"
       ]
      },
      {
       "output_type": "stream",
       "stream": "stdout",
       "text": [
        " \r",
        "[*****************91%***************   ]  2889031 of 3176590 complete Elapsed: 25.4 minutes\t Remaining: 2.5 minutes"
       ]
      },
      {
       "output_type": "stream",
       "stream": "stdout",
       "text": [
        " \r",
        "[*****************91%***************   ]  2894182 of 3176590 complete Elapsed: 25.4 minutes\t Remaining: 2.5 minutes"
       ]
      },
      {
       "output_type": "stream",
       "stream": "stdout",
       "text": [
        " \r",
        "[*****************91%***************   ]  2897935 of 3176590 complete Elapsed: 25.5 minutes\t Remaining: 2.4 minutes"
       ]
      },
      {
       "output_type": "stream",
       "stream": "stdout",
       "text": [
        " \r",
        "[*****************91%***************   ]  2901639 of 3176590 complete Elapsed: 25.5 minutes\t Remaining: 2.4 minutes"
       ]
      },
      {
       "output_type": "stream",
       "stream": "stdout",
       "text": [
        " \r",
        "[*****************91%***************   ]  2904609 of 3176590 complete Elapsed: 25.5 minutes\t Remaining: 2.4 minutes"
       ]
      },
      {
       "output_type": "stream",
       "stream": "stdout",
       "text": [
        " \r",
        "[*****************92%***************   ]  2907596 of 3176590 complete Elapsed: 25.5 minutes\t Remaining: 2.4 minutes"
       ]
      },
      {
       "output_type": "stream",
       "stream": "stdout",
       "text": [
        " \r",
        "[*****************92%***************   ]  2910560 of 3176590 complete Elapsed: 25.6 minutes\t Remaining: 2.3 minutes"
       ]
      },
      {
       "output_type": "stream",
       "stream": "stdout",
       "text": [
        " \r",
        "[*****************92%***************   ]  2913666 of 3176590 complete Elapsed: 25.6 minutes\t Remaining: 2.3 minutes"
       ]
      },
      {
       "output_type": "stream",
       "stream": "stdout",
       "text": [
        " \r",
        "[*****************92%***************   ]  2916775 of 3176590 complete Elapsed: 25.6 minutes\t Remaining: 2.3 minutes"
       ]
      },
      {
       "output_type": "stream",
       "stream": "stdout",
       "text": [
        " \r",
        "[*****************92%***************   ]  2919787 of 3176590 complete Elapsed: 25.6 minutes\t Remaining: 2.3 minutes"
       ]
      },
      {
       "output_type": "stream",
       "stream": "stdout",
       "text": [
        " \r",
        "[*****************92%***************   ]  2922965 of 3176590 complete Elapsed: 25.7 minutes\t Remaining: 2.2 minutes"
       ]
      },
      {
       "output_type": "stream",
       "stream": "stdout",
       "text": [
        " \r",
        "[*****************92%***************   ]  2925850 of 3176590 complete Elapsed: 25.7 minutes\t Remaining: 2.2 minutes"
       ]
      },
      {
       "output_type": "stream",
       "stream": "stdout",
       "text": [
        " \r",
        "[*****************92%***************   ]  2928882 of 3176590 complete Elapsed: 25.7 minutes\t Remaining: 2.2 minutes"
       ]
      },
      {
       "output_type": "stream",
       "stream": "stdout",
       "text": [
        " \r",
        "[*****************92%***************   ]  2931821 of 3176590 complete Elapsed: 25.7 minutes\t Remaining: 2.1 minutes"
       ]
      },
      {
       "output_type": "stream",
       "stream": "stdout",
       "text": [
        " \r",
        "[*****************92%***************   ]  2935294 of 3176590 complete Elapsed: 25.8 minutes\t Remaining: 2.1 minutes"
       ]
      },
      {
       "output_type": "stream",
       "stream": "stdout",
       "text": [
        " \r",
        "[*****************93%***************   ]  2940283 of 3176590 complete Elapsed: 25.8 minutes\t Remaining: 2.1 minutes"
       ]
      },
      {
       "output_type": "stream",
       "stream": "stdout",
       "text": [
        " \r",
        "[*****************93%***************   ]  2944787 of 3176590 complete Elapsed: 25.8 minutes\t Remaining: 2.0 minutes"
       ]
      },
      {
       "output_type": "stream",
       "stream": "stdout",
       "text": [
        " \r",
        "[*****************93%***************   ]  2948838 of 3176590 complete Elapsed: 25.8 minutes\t Remaining: 2.0 minutes"
       ]
      },
      {
       "output_type": "stream",
       "stream": "stdout",
       "text": [
        " \r",
        "[*****************93%***************   ]  2953144 of 3176590 complete Elapsed: 25.9 minutes\t Remaining: 2.0 minutes"
       ]
      },
      {
       "output_type": "stream",
       "stream": "stdout",
       "text": [
        " \r",
        "[*****************93%***************   ]  2956391 of 3176590 complete Elapsed: 25.9 minutes\t Remaining: 1.9 minutes"
       ]
      },
      {
       "output_type": "stream",
       "stream": "stdout",
       "text": [
        " \r",
        "[*****************93%***************   ]  2959387 of 3176590 complete Elapsed: 25.9 minutes\t Remaining: 1.9 minutes"
       ]
      },
      {
       "output_type": "stream",
       "stream": "stdout",
       "text": [
        " \r",
        "[*****************93%***************   ]  2962220 of 3176590 complete Elapsed: 25.9 minutes\t Remaining: 1.9 minutes"
       ]
      },
      {
       "output_type": "stream",
       "stream": "stdout",
       "text": [
        " \r",
        "[*****************93%***************   ]  2964961 of 3176590 complete Elapsed: 26.0 minutes\t Remaining: 1.9 minutes"
       ]
      },
      {
       "output_type": "stream",
       "stream": "stdout",
       "text": [
        " \r",
        "[*****************93%***************   ]  2967964 of 3176590 complete Elapsed: 26.0 minutes\t Remaining: 1.8 minutes"
       ]
      },
      {
       "output_type": "stream",
       "stream": "stdout",
       "text": [
        " \r",
        "[*****************94%****************  ]  2970969 of 3176590 complete Elapsed: 26.0 minutes\t Remaining: 1.8 minutes"
       ]
      },
      {
       "output_type": "stream",
       "stream": "stdout",
       "text": [
        " \r",
        "[*****************94%****************  ]  2973810 of 3176590 complete Elapsed: 26.0 minutes\t Remaining: 1.8 minutes"
       ]
      },
      {
       "output_type": "stream",
       "stream": "stdout",
       "text": [
        " \r",
        "[*****************94%****************  ]  2976772 of 3176590 complete Elapsed: 26.1 minutes\t Remaining: 1.7 minutes"
       ]
      },
      {
       "output_type": "stream",
       "stream": "stdout",
       "text": [
        " \r",
        "[*****************94%****************  ]  2979594 of 3176590 complete Elapsed: 26.1 minutes\t Remaining: 1.7 minutes"
       ]
      },
      {
       "output_type": "stream",
       "stream": "stdout",
       "text": [
        " \r",
        "[*****************94%****************  ]  2982648 of 3176590 complete Elapsed: 26.1 minutes\t Remaining: 1.7 minutes"
       ]
      },
      {
       "output_type": "stream",
       "stream": "stdout",
       "text": [
        " \r",
        "[*****************94%****************  ]  2985536 of 3176590 complete Elapsed: 26.1 minutes\t Remaining: 1.7 minutes"
       ]
      },
      {
       "output_type": "stream",
       "stream": "stdout",
       "text": [
        " \r",
        "[*****************94%****************  ]  2988455 of 3176590 complete Elapsed: 26.2 minutes\t Remaining: 1.6 minutes"
       ]
      },
      {
       "output_type": "stream",
       "stream": "stdout",
       "text": [
        " \r",
        "[*****************94%****************  ]  2991364 of 3176590 complete Elapsed: 26.2 minutes\t Remaining: 1.6 minutes"
       ]
      },
      {
       "output_type": "stream",
       "stream": "stdout",
       "text": [
        " \r",
        "[*****************94%****************  ]  2994270 of 3176590 complete Elapsed: 26.2 minutes\t Remaining: 1.6 minutes"
       ]
      },
      {
       "output_type": "stream",
       "stream": "stdout",
       "text": [
        " \r",
        "[*****************94%****************  ]  2998524 of 3176590 complete Elapsed: 26.2 minutes\t Remaining: 1.6 minutes"
       ]
      },
      {
       "output_type": "stream",
       "stream": "stdout",
       "text": [
        " \r",
        "[*****************95%****************  ]  3003941 of 3176590 complete Elapsed: 26.3 minutes\t Remaining: 1.5 minutes"
       ]
      },
      {
       "output_type": "stream",
       "stream": "stdout",
       "text": [
        " \r",
        "[*****************95%****************  ]  3008886 of 3176590 complete Elapsed: 26.3 minutes\t Remaining: 1.5 minutes"
       ]
      },
      {
       "output_type": "stream",
       "stream": "stdout",
       "text": [
        " \r",
        "[*****************95%****************  ]  3012785 of 3176590 complete Elapsed: 26.3 minutes\t Remaining: 1.4 minutes"
       ]
      },
      {
       "output_type": "stream",
       "stream": "stdout",
       "text": [
        " \r",
        "[*****************95%****************  ]  3015853 of 3176590 complete Elapsed: 26.3 minutes\t Remaining: 1.4 minutes"
       ]
      },
      {
       "output_type": "stream",
       "stream": "stdout",
       "text": [
        " \r",
        "[*****************95%****************  ]  3018875 of 3176590 complete Elapsed: 26.4 minutes\t Remaining: 1.4 minutes"
       ]
      },
      {
       "output_type": "stream",
       "stream": "stdout",
       "text": [
        " \r",
        "[*****************95%****************  ]  3022188 of 3176590 complete Elapsed: 26.4 minutes\t Remaining: 1.3 minutes"
       ]
      },
      {
       "output_type": "stream",
       "stream": "stdout",
       "text": [
        " \r",
        "[*****************95%****************  ]  3025284 of 3176590 complete Elapsed: 26.4 minutes\t Remaining: 1.3 minutes"
       ]
      },
      {
       "output_type": "stream",
       "stream": "stdout",
       "text": [
        " \r",
        "[*****************95%****************  ]  3028084 of 3176590 complete Elapsed: 26.4 minutes\t Remaining: 1.3 minutes"
       ]
      },
      {
       "output_type": "stream",
       "stream": "stdout",
       "text": [
        " \r",
        "[*****************95%****************  ]  3031100 of 3176590 complete Elapsed: 26.5 minutes\t Remaining: 1.3 minutes"
       ]
      },
      {
       "output_type": "stream",
       "stream": "stdout",
       "text": [
        " \r",
        "[*****************96%****************  ]  3034095 of 3176590 complete Elapsed: 26.5 minutes\t Remaining: 1.2 minutes"
       ]
      },
      {
       "output_type": "stream",
       "stream": "stdout",
       "text": [
        " \r",
        "[*****************96%****************  ]  3037058 of 3176590 complete Elapsed: 26.5 minutes\t Remaining: 1.2 minutes"
       ]
      },
      {
       "output_type": "stream",
       "stream": "stdout",
       "text": [
        " \r",
        "[*****************96%****************  ]  3039851 of 3176590 complete Elapsed: 26.5 minutes\t Remaining: 1.2 minutes"
       ]
      },
      {
       "output_type": "stream",
       "stream": "stdout",
       "text": [
        " \r",
        "[*****************96%****************  ]  3042894 of 3176590 complete Elapsed: 26.6 minutes\t Remaining: 1.2 minutes"
       ]
      },
      {
       "output_type": "stream",
       "stream": "stdout",
       "text": [
        " \r",
        "[*****************96%****************  ]  3045772 of 3176590 complete Elapsed: 26.6 minutes\t Remaining: 1.1 minutes"
       ]
      },
      {
       "output_type": "stream",
       "stream": "stdout",
       "text": [
        " \r",
        "[*****************96%****************  ]  3048837 of 3176590 complete Elapsed: 26.6 minutes\t Remaining: 1.1 minutes"
       ]
      },
      {
       "output_type": "stream",
       "stream": "stdout",
       "text": [
        " \r",
        "[*****************96%****************  ]  3051827 of 3176590 complete Elapsed: 26.6 minutes\t Remaining: 1.1 minutes"
       ]
      },
      {
       "output_type": "stream",
       "stream": "stdout",
       "text": [
        " \r",
        "[*****************96%****************  ]  3055287 of 3176590 complete Elapsed: 26.7 minutes\t Remaining: 1.1 minutes"
       ]
      },
      {
       "output_type": "stream",
       "stream": "stdout",
       "text": [
        " \r",
        "[*****************96%****************  ]  3058321 of 3176590 complete Elapsed: 26.7 minutes\t Remaining: 1.0 minutes"
       ]
      },
      {
       "output_type": "stream",
       "stream": "stdout",
       "text": [
        " \r",
        "[*****************96%****************  ]  3061386 of 3176590 complete Elapsed: 26.7 minutes\t Remaining: 1.0 minutes"
       ]
      },
      {
       "output_type": "stream",
       "stream": "stdout",
       "text": [
        " \r",
        "[*****************96%****************  ]  3064412 of 3176590 complete Elapsed: 26.7 minutes\t Remaining: 1.0 minutes"
       ]
      },
      {
       "output_type": "stream",
       "stream": "stdout",
       "text": [
        " \r",
        "[*****************97%***************** ]  3067448 of 3176590 complete Elapsed: 26.8 minutes\t Remaining: 1.0 minutes"
       ]
      },
      {
       "output_type": "stream",
       "stream": "stdout",
       "text": [
        " \r",
        "[*****************97%***************** ]  3070282 of 3176590 complete Elapsed: 26.8 minutes\t Remaining: 0.9 minutes"
       ]
      },
      {
       "output_type": "stream",
       "stream": "stdout",
       "text": [
        " \r",
        "[*****************97%***************** ]  3073055 of 3176590 complete Elapsed: 26.8 minutes\t Remaining: 0.9 minutes"
       ]
      },
      {
       "output_type": "stream",
       "stream": "stdout",
       "text": [
        " \r",
        "[*****************97%***************** ]  3075809 of 3176590 complete Elapsed: 26.8 minutes\t Remaining: 0.9 minutes"
       ]
      },
      {
       "output_type": "stream",
       "stream": "stdout",
       "text": [
        " \r",
        "[*****************97%***************** ]  3078893 of 3176590 complete Elapsed: 26.9 minutes\t Remaining: 0.9 minutes"
       ]
      },
      {
       "output_type": "stream",
       "stream": "stdout",
       "text": [
        " \r",
        "[*****************97%***************** ]  3081893 of 3176590 complete Elapsed: 26.9 minutes\t Remaining: 0.8 minutes"
       ]
      },
      {
       "output_type": "stream",
       "stream": "stdout",
       "text": [
        " \r",
        "[*****************97%***************** ]  3084635 of 3176590 complete Elapsed: 26.9 minutes\t Remaining: 0.8 minutes"
       ]
      },
      {
       "output_type": "stream",
       "stream": "stdout",
       "text": [
        " \r",
        "[*****************97%***************** ]  3087580 of 3176590 complete Elapsed: 26.9 minutes\t Remaining: 0.8 minutes"
       ]
      },
      {
       "output_type": "stream",
       "stream": "stdout",
       "text": [
        " \r",
        "[*****************97%***************** ]  3090575 of 3176590 complete Elapsed: 27.0 minutes\t Remaining: 0.8 minutes"
       ]
      },
      {
       "output_type": "stream",
       "stream": "stdout",
       "text": [
        " \r",
        "[*****************97%***************** ]  3093366 of 3176590 complete Elapsed: 27.0 minutes\t Remaining: 0.7 minutes"
       ]
      },
      {
       "output_type": "stream",
       "stream": "stdout",
       "text": [
        " \r",
        "[*****************97%***************** ]  3096132 of 3176590 complete Elapsed: 27.0 minutes\t Remaining: 0.7 minutes"
       ]
      },
      {
       "output_type": "stream",
       "stream": "stdout",
       "text": [
        " \r",
        "[*****************98%***************** ]  3098965 of 3176590 complete Elapsed: 27.0 minutes\t Remaining: 0.7 minutes"
       ]
      },
      {
       "output_type": "stream",
       "stream": "stdout",
       "text": [
        " \r",
        "[*****************98%***************** ]  3101679 of 3176590 complete Elapsed: 27.1 minutes\t Remaining: 0.7 minutes"
       ]
      },
      {
       "output_type": "stream",
       "stream": "stdout",
       "text": [
        " \r",
        "[*****************98%***************** ]  3104227 of 3176590 complete Elapsed: 27.1 minutes\t Remaining: 0.6 minutes"
       ]
      },
      {
       "output_type": "stream",
       "stream": "stdout",
       "text": [
        " \r",
        "[*****************98%***************** ]  3107065 of 3176590 complete Elapsed: 27.1 minutes\t Remaining: 0.6 minutes"
       ]
      },
      {
       "output_type": "stream",
       "stream": "stdout",
       "text": [
        " \r",
        "[*****************98%***************** ]  3110076 of 3176590 complete Elapsed: 27.1 minutes\t Remaining: 0.6 minutes"
       ]
      },
      {
       "output_type": "stream",
       "stream": "stdout",
       "text": [
        " \r",
        "[*****************98%***************** ]  3112782 of 3176590 complete Elapsed: 27.2 minutes\t Remaining: 0.6 minutes"
       ]
      },
      {
       "output_type": "stream",
       "stream": "stdout",
       "text": [
        " \r",
        "[*****************98%***************** ]  3115953 of 3176590 complete Elapsed: 27.2 minutes\t Remaining: 0.5 minutes"
       ]
      },
      {
       "output_type": "stream",
       "stream": "stdout",
       "text": [
        " \r",
        "[*****************98%***************** ]  3118889 of 3176590 complete Elapsed: 27.2 minutes\t Remaining: 0.5 minutes"
       ]
      },
      {
       "output_type": "stream",
       "stream": "stdout",
       "text": [
        " \r",
        "[*****************98%***************** ]  3121766 of 3176590 complete Elapsed: 27.2 minutes\t Remaining: 0.5 minutes"
       ]
      },
      {
       "output_type": "stream",
       "stream": "stdout",
       "text": [
        " \r",
        "[*****************98%***************** ]  3124632 of 3176590 complete Elapsed: 27.3 minutes\t Remaining: 0.5 minutes"
       ]
      },
      {
       "output_type": "stream",
       "stream": "stdout",
       "text": [
        " \r",
        "[*****************98%***************** ]  3127684 of 3176590 complete Elapsed: 27.3 minutes\t Remaining: 0.4 minutes"
       ]
      },
      {
       "output_type": "stream",
       "stream": "stdout",
       "text": [
        " \r",
        "[*****************99%******************]  3130565 of 3176590 complete Elapsed: 27.3 minutes\t Remaining: 0.4 minutes"
       ]
      },
      {
       "output_type": "stream",
       "stream": "stdout",
       "text": [
        " \r",
        "[*****************99%******************]  3133472 of 3176590 complete Elapsed: 27.3 minutes\t Remaining: 0.4 minutes"
       ]
      },
      {
       "output_type": "stream",
       "stream": "stdout",
       "text": [
        " \r",
        "[*****************99%******************]  3136364 of 3176590 complete Elapsed: 27.4 minutes\t Remaining: 0.4 minutes"
       ]
      },
      {
       "output_type": "stream",
       "stream": "stdout",
       "text": [
        " \r",
        "[*****************99%******************]  3139277 of 3176590 complete Elapsed: 27.4 minutes\t Remaining: 0.3 minutes"
       ]
      },
      {
       "output_type": "stream",
       "stream": "stdout",
       "text": [
        " \r",
        "[*****************99%******************]  3142224 of 3176590 complete Elapsed: 27.4 minutes\t Remaining: 0.3 minutes"
       ]
      },
      {
       "output_type": "stream",
       "stream": "stdout",
       "text": [
        " \r",
        "[*****************99%******************]  3144968 of 3176590 complete Elapsed: 27.4 minutes\t Remaining: 0.3 minutes"
       ]
      },
      {
       "output_type": "stream",
       "stream": "stdout",
       "text": [
        " \r",
        "[*****************99%******************]  3147752 of 3176590 complete Elapsed: 27.5 minutes\t Remaining: 0.3 minutes"
       ]
      },
      {
       "output_type": "stream",
       "stream": "stdout",
       "text": [
        " \r",
        "[*****************99%******************]  3150810 of 3176590 complete Elapsed: 27.5 minutes\t Remaining: 0.2 minutes"
       ]
      },
      {
       "output_type": "stream",
       "stream": "stdout",
       "text": [
        " \r",
        "[*****************99%******************]  3153778 of 3176590 complete Elapsed: 27.5 minutes\t Remaining: 0.2 minutes"
       ]
      },
      {
       "output_type": "stream",
       "stream": "stdout",
       "text": [
        " \r",
        "[*****************99%******************]  3156816 of 3176590 complete Elapsed: 27.5 minutes\t Remaining: 0.2 minutes"
       ]
      },
      {
       "output_type": "stream",
       "stream": "stdout",
       "text": [
        " \r",
        "[*****************99%******************]  3159651 of 3176590 complete Elapsed: 27.6 minutes\t Remaining: 0.1 minutes"
       ]
      },
      {
       "output_type": "stream",
       "stream": "stdout",
       "text": [
        " \r",
        "[****************100%******************]  3162643 of 3176590 complete Elapsed: 27.6 minutes\t Remaining: 0.1 minutes"
       ]
      },
      {
       "output_type": "stream",
       "stream": "stdout",
       "text": [
        " \r",
        "[****************100%******************]  3166232 of 3176590 complete Elapsed: 27.6 minutes\t Remaining: 0.1 minutes"
       ]
      },
      {
       "output_type": "stream",
       "stream": "stdout",
       "text": [
        " \r",
        "[****************100%******************]  3169663 of 3176590 complete Elapsed: 27.6 minutes\t Remaining: 0.1 minutes"
       ]
      },
      {
       "output_type": "stream",
       "stream": "stdout",
       "text": [
        " \r",
        "[****************100%******************]  3172726 of 3176590 complete Elapsed: 27.7 minutes\t Remaining: 0.0 minutes"
       ]
      },
      {
       "output_type": "stream",
       "stream": "stdout",
       "text": [
        "\n"
       ]
      }
     ],
     "prompt_number": 7
    },
    {
     "cell_type": "code",
     "collapsed": false,
     "input": [
      "''' \n",
      "\n",
      "filter_variants_by_MLE_AF()\n",
      "\n",
      "filters a VCF file by the maximum likelihood estimator of allele frequency. \n",
      "this is helpful when there are missing genotypes in a variant call file, but it has\n",
      "limitations when compared to an imputation method.\n",
      "\n",
      "steps:\n",
      "1. read in a file with htseq\n",
      "2. get the mle AF for every line\n",
      "3. done\n",
      "\n",
      "'''\n",
      "#num_lines = int(subprocess.check_output('cat ' + file_name + ' | wc -l', shell=True))\n",
      "#pbar = ProgressBar(num_lines)\n",
      "#pbar.animate()\n",
      "\n",
      "def filter_variants_by_MLE_AF(file_name, chr_name):\n",
      "    import subprocess\n",
      "    import os.path\n",
      "    if os.path.isfile(file_name + \"_\" + chr_name + \".vcf.recode.vcf\"):\n",
      "        # do nothing\n",
      "        pass\n",
      "    else:\n",
      "        subprocess.check_output(['/data/projects_gibbons/home/neffra/tools/vcftools/bin/vcftools', '--chr', \n",
      "                                 chr_name, '--vcf', file_name, \n",
      "                                 '--recode', '--recode-INFO-all', '--out', file_name + \"_\" + chr_name + \".vcf\" ])\n",
      "    import HTSeq as ht\n",
      "    vcfr = ht.VCF_Reader(file_name + \"_\" + chr_name + \".vcf.recode.vcf\")\n",
      "    vcfr.parse_meta()\n",
      "    vcfr.make_info_dict()\n",
      "    newvcf = open(file_name + \"_majority_mleaf.\" + chr_name + \".vcf\", 'w')\n",
      "    for v in vcfr:\n",
      "        v.unpack_info(vcfr.infodict)\n",
      "        mleaf = v.info['MLEAF']\n",
      "        if type(mleaf) == type([0,1]): # this means we have a multi-allelic site, go slowly\n",
      "            max_af=0 # this is because it should always be sorted by AF\n",
      "            mleaf = v.info['MLEAF'][max_af]\n",
      "            v.alt = [v.alt[max_af]]\n",
      "            v.info['AC'] = v.info['AC'][max_af]\n",
      "            v.info['AF'] = v.info['AF'][max_af]\n",
      "            v.info['MLEAC'] = v.info['MLEAC'][max_af]\n",
      "            v.info['MLEAF'] = v.info['MLEAF'][max_af]\n",
      "        if mleaf >= 0.500:\n",
      "            # variant is kept\n",
      "            v.format = ''\n",
      "            v.samples = ''\n",
      "            newvcf.write(v.to_line())\n",
      "    newvcf.close()\n",
      "    return 'Completed.'"
     ],
     "language": "python",
     "metadata": {},
     "outputs": [],
     "prompt_number": 98
    },
    {
     "cell_type": "code",
     "collapsed": false,
     "input": [
      "# parallel run\n",
      "file_name = '/data/projects_gibbons/home/neffra/ASW_hg38_BAMs/hg38_variants_ASW_082914.final.VQSR_cleaned.vcf'\n",
      "balanced.block=False\n",
      "pid_array = []\n",
      "for chr_name in names:\n",
      "    pid_array.append(balanced.apply_async(filter_variants_by_MLE_AF, file_name, chr_name))\n",
      "    print file_name + \" sent to balanced procs.\""
     ],
     "language": "python",
     "metadata": {},
     "outputs": [
      {
       "output_type": "stream",
       "stream": "stdout",
       "text": [
        "/data/projects_gibbons/home/neffra/ASW_hg38_BAMs/hg38_variants_ASW_082914.final.VQSR_cleaned.vcf sent to balanced procs.\n",
        "/data/projects_gibbons/home/neffra/ASW_hg38_BAMs/hg38_variants_ASW_082914.final.VQSR_cleaned.vcf sent to balanced procs.\n",
        "/data/projects_gibbons/home/neffra/ASW_hg38_BAMs/hg38_variants_ASW_082914.final.VQSR_cleaned.vcf sent to balanced procs.\n",
        "/data/projects_gibbons/home/neffra/ASW_hg38_BAMs/hg38_variants_ASW_082914.final.VQSR_cleaned.vcf sent to balanced procs.\n",
        "/data/projects_gibbons/home/neffra/ASW_hg38_BAMs/hg38_variants_ASW_082914.final.VQSR_cleaned.vcf sent to balanced procs.\n",
        "/data/projects_gibbons/home/neffra/ASW_hg38_BAMs/hg38_variants_ASW_082914.final.VQSR_cleaned.vcf sent to balanced procs.\n",
        "/data/projects_gibbons/home/neffra/ASW_hg38_BAMs/hg38_variants_ASW_082914.final.VQSR_cleaned.vcf sent to balanced procs.\n",
        "/data/projects_gibbons/home/neffra/ASW_hg38_BAMs/hg38_variants_ASW_082914.final.VQSR_cleaned.vcf sent to balanced procs.\n",
        "/data/projects_gibbons/home/neffra/ASW_hg38_BAMs/hg38_variants_ASW_082914.final.VQSR_cleaned.vcf sent to balanced procs.\n",
        "/data/projects_gibbons/home/neffra/ASW_hg38_BAMs/hg38_variants_ASW_082914.final.VQSR_cleaned.vcf sent to balanced procs.\n",
        "/data/projects_gibbons/home/neffra/ASW_hg38_BAMs/hg38_variants_ASW_082914.final.VQSR_cleaned.vcf sent to balanced procs.\n",
        "/data/projects_gibbons/home/neffra/ASW_hg38_BAMs/hg38_variants_ASW_082914.final.VQSR_cleaned.vcf sent to balanced procs.\n",
        "/data/projects_gibbons/home/neffra/ASW_hg38_BAMs/hg38_variants_ASW_082914.final.VQSR_cleaned.vcf sent to balanced procs.\n",
        "/data/projects_gibbons/home/neffra/ASW_hg38_BAMs/hg38_variants_ASW_082914.final.VQSR_cleaned.vcf sent to balanced procs.\n",
        "/data/projects_gibbons/home/neffra/ASW_hg38_BAMs/hg38_variants_ASW_082914.final.VQSR_cleaned.vcf sent to balanced procs.\n",
        "/data/projects_gibbons/home/neffra/ASW_hg38_BAMs/hg38_variants_ASW_082914.final.VQSR_cleaned.vcf sent to balanced procs.\n",
        "/data/projects_gibbons/home/neffra/ASW_hg38_BAMs/hg38_variants_ASW_082914.final.VQSR_cleaned.vcf sent to balanced procs.\n",
        "/data/projects_gibbons/home/neffra/ASW_hg38_BAMs/hg38_variants_ASW_082914.final.VQSR_cleaned.vcf sent to balanced procs.\n",
        "/data/projects_gibbons/home/neffra/ASW_hg38_BAMs/hg38_variants_ASW_082914.final.VQSR_cleaned.vcf sent to balanced procs.\n",
        "/data/projects_gibbons/home/neffra/ASW_hg38_BAMs/hg38_variants_ASW_082914.final.VQSR_cleaned.vcf sent to balanced procs.\n",
        "/data/projects_gibbons/home/neffra/ASW_hg38_BAMs/hg38_variants_ASW_082914.final.VQSR_cleaned.vcf sent to balanced procs.\n",
        "/data/projects_gibbons/home/neffra/ASW_hg38_BAMs/hg38_variants_ASW_082914.final.VQSR_cleaned.vcf sent to balanced procs.\n",
        "/data/projects_gibbons/home/neffra/ASW_hg38_BAMs/hg38_variants_ASW_082914.final.VQSR_cleaned.vcf sent to balanced procs.\n",
        "/data/projects_gibbons/home/neffra/ASW_hg38_BAMs/hg38_variants_ASW_082914.final.VQSR_cleaned.vcf sent to balanced procs.\n",
        "/data/projects_gibbons/home/neffra/ASW_hg38_BAMs/hg38_variants_ASW_082914.final.VQSR_cleaned.vcf sent to balanced procs.\n",
        "/data/projects_gibbons/home/neffra/ASW_hg38_BAMs/hg38_variants_ASW_082914.final.VQSR_cleaned.vcf sent to balanced procs.\n"
       ]
      }
     ],
     "prompt_number": 99
    },
    {
     "cell_type": "code",
     "collapsed": false,
     "input": [
      "''' \n",
      "\n",
      "filter_variants_by_MLE_AF()\n",
      "\n",
      "filters a VCF file by the maximum likelihood estimator of allele frequency. \n",
      "this is helpful when there are missing genotypes in a variant call file, but it has\n",
      "limitations when compared to an imputation method.\n",
      "\n",
      "steps:\n",
      "1. read in a file with htseq\n",
      "2. get the mle AF for every line\n",
      "3. done\n",
      "\n",
      "'''\n",
      "#num_lines = int(subprocess.check_output('cat ' + file_name + ' | wc -l', shell=True))\n",
      "#pbar = ProgressBar(num_lines)\n",
      "#pbar.animate()\n",
      "\n",
      "def get_NCC_values(file_name, chr_name):\n",
      "    import subprocess\n",
      "    import os.path\n",
      "    if os.path.isfile(file_name + \"_\" + chr_name + \".vcf.recode.vcf\"):\n",
      "        # do nothing\n",
      "        pass\n",
      "    else:\n",
      "        subprocess.check_output(['/data/projects_gibbons/home/neffra/tools/vcftools/bin/vcftools', '--chr', \n",
      "                                 chr_name, '--vcf', file_name, \n",
      "                                 '--recode', '--recode-INFO-all', '--out', file_name + \"_\" + chr_name + \".vcf\" ])\n",
      "    import HTSeq as ht\n",
      "    vcfr = ht.VCF_Reader(file_name + \"_\" + chr_name + \".vcf.recode.vcf\")\n",
      "    vcfr.parse_meta()\n",
      "    vcfr.make_info_dict()\n",
      "    ncc_array = []\n",
      "    fn = file_name + \"_\" + chr_name + \".vcf.recode.vcf\"\n",
      "    num_lines = int(subprocess.check_output('cat ' + fn + ' | wc -l', shell=True))\n",
      "    pbar = ProgressBar(num_lines)\n",
      "    for v in vcfr:\n",
      "        pbar.animate()\n",
      "        v.unpack_info(vcfr.infodict)\n",
      "        mleaf = v.info['MLEAF']\n",
      "        ncc = float(v.info['NCC'])\n",
      "        if type(mleaf) == type([0,1]): # this means we have a multi-allelic site, go slowly\n",
      "            max_af=0 \n",
      "            for i in range(0,len(mleaf)-1): # for whatever reason its not sorted automatically\n",
      "                if v.info['MLEAF'][i] > v.info['MLEAF'][max_af]:\n",
      "                    max_af = i\n",
      "            mleaf = v.info['MLEAF'][max_af]\n",
      "            v.alt = [v.alt[max_af]]\n",
      "            v.info['AC'] = v.info['AC'][max_af]\n",
      "            v.info['AF'] = v.info['AF'][max_af]\n",
      "            v.info['MLEAC'] = v.info['MLEAC'][max_af]\n",
      "            v.info['MLEAF'] = v.info['MLEAF'][max_af]\n",
      "        if mleaf >= 0.500:\n",
      "            # variant is kept\n",
      "            ncc_array.append(ncc)\n",
      "    return ncc_array"
     ],
     "language": "python",
     "metadata": {},
     "outputs": [],
     "prompt_number": 205
    },
    {
     "cell_type": "code",
     "collapsed": false,
     "input": [
      "ncc_array_pass = get_NCC_values(file_name + \"_PASS\", \"chr20\")"
     ],
     "language": "python",
     "metadata": {},
     "outputs": [
      {
       "output_type": "stream",
       "stream": "stdout",
       "text": [
        "\r",
        "[                  0%                  ]"
       ]
      },
      {
       "output_type": "stream",
       "stream": "stdout",
       "text": [
        " \r",
        "[                  1%                  ]  3584 of 360843 complete Elapsed: 0.0 minutes\t Remaining: 2.5 minutes"
       ]
      },
      {
       "output_type": "stream",
       "stream": "stdout",
       "text": [
        " \r",
        "[*                 2%                  ]  7181 of 360843 complete Elapsed: 0.1 minutes\t Remaining: 2.5 minutes"
       ]
      },
      {
       "output_type": "stream",
       "stream": "stdout",
       "text": [
        " \r",
        "[*                 3%                  ]  10779 of 360843 complete Elapsed: 0.1 minutes\t Remaining: 2.4 minutes"
       ]
      },
      {
       "output_type": "stream",
       "stream": "stdout",
       "text": [
        " \r",
        "[**                4%                  ]  14375 of 360843 complete Elapsed: 0.1 minutes\t Remaining: 2.4 minutes"
       ]
      },
      {
       "output_type": "stream",
       "stream": "stdout",
       "text": [
        " \r",
        "[**                5%                  ]  17967 of 360843 complete Elapsed: 0.1 minutes\t Remaining: 2.4 minutes"
       ]
      },
      {
       "output_type": "stream",
       "stream": "stdout",
       "text": [
        " \r",
        "[**                6%                  ]  21582 of 360843 complete Elapsed: 0.2 minutes\t Remaining: 2.4 minutes"
       ]
      },
      {
       "output_type": "stream",
       "stream": "stdout",
       "text": [
        " \r",
        "[***               7%                  ]  25186 of 360843 complete Elapsed: 0.2 minutes\t Remaining: 2.3 minutes"
       ]
      },
      {
       "output_type": "stream",
       "stream": "stdout",
       "text": [
        " \r",
        "[***               8%                  ]  28779 of 360843 complete Elapsed: 0.2 minutes\t Remaining: 2.3 minutes"
       ]
      },
      {
       "output_type": "stream",
       "stream": "stdout",
       "text": [
        " \r",
        "[***               9%                  ]  32373 of 360843 complete Elapsed: 0.2 minutes\t Remaining: 2.3 minutes"
       ]
      },
      {
       "output_type": "stream",
       "stream": "stdout",
       "text": [
        " \r",
        "[****             10%                  ]  35989 of 360843 complete Elapsed: 0.3 minutes\t Remaining: 2.3 minutes"
       ]
      },
      {
       "output_type": "stream",
       "stream": "stdout",
       "text": [
        " \r",
        "[****             11%                  ]  39605 of 360843 complete Elapsed: 0.3 minutes\t Remaining: 2.2 minutes"
       ]
      },
      {
       "output_type": "stream",
       "stream": "stdout",
       "text": [
        " \r",
        "[*****            12%                  ]  43203 of 360843 complete Elapsed: 0.3 minutes\t Remaining: 2.2 minutes"
       ]
      },
      {
       "output_type": "stream",
       "stream": "stdout",
       "text": [
        " \r",
        "[*****            13%                  ]  46815 of 360843 complete Elapsed: 0.3 minutes\t Remaining: 2.2 minutes"
       ]
      },
      {
       "output_type": "stream",
       "stream": "stdout",
       "text": [
        " \r",
        "[*****            14%                  ]  50427 of 360843 complete Elapsed: 0.4 minutes\t Remaining: 2.2 minutes"
       ]
      },
      {
       "output_type": "stream",
       "stream": "stdout",
       "text": [
        " \r",
        "[******           15%                  ]  54049 of 360843 complete Elapsed: 0.4 minutes\t Remaining: 2.1 minutes"
       ]
      },
      {
       "output_type": "stream",
       "stream": "stdout",
       "text": [
        " \r",
        "[******           16%                  ]  57670 of 360843 complete Elapsed: 0.4 minutes\t Remaining: 2.1 minutes"
       ]
      },
      {
       "output_type": "stream",
       "stream": "stdout",
       "text": [
        " \r",
        "[******           17%                  ]  61313 of 360843 complete Elapsed: 0.4 minutes\t Remaining: 2.1 minutes"
       ]
      },
      {
       "output_type": "stream",
       "stream": "stdout",
       "text": [
        " \r",
        "[*******          18%                  ]  64933 of 360843 complete Elapsed: 0.5 minutes\t Remaining: 2.1 minutes"
       ]
      },
      {
       "output_type": "stream",
       "stream": "stdout",
       "text": [
        " \r",
        "[*******          19%                  ]  68564 of 360843 complete Elapsed: 0.5 minutes\t Remaining: 2.0 minutes"
       ]
      },
      {
       "output_type": "stream",
       "stream": "stdout",
       "text": [
        " \r",
        "[********         20%                  ]  72190 of 360843 complete Elapsed: 0.5 minutes\t Remaining: 2.0 minutes"
       ]
      },
      {
       "output_type": "stream",
       "stream": "stdout",
       "text": [
        " \r",
        "[********         21%                  ]  75838 of 360843 complete Elapsed: 0.5 minutes\t Remaining: 2.0 minutes"
       ]
      },
      {
       "output_type": "stream",
       "stream": "stdout",
       "text": [
        " \r",
        "[********         22%                  ]  79475 of 360843 complete Elapsed: 0.6 minutes\t Remaining: 1.9 minutes"
       ]
      },
      {
       "output_type": "stream",
       "stream": "stdout",
       "text": [
        " \r",
        "[*********        23%                  ]  83121 of 360843 complete Elapsed: 0.6 minutes\t Remaining: 1.9 minutes"
       ]
      },
      {
       "output_type": "stream",
       "stream": "stdout",
       "text": [
        " \r",
        "[*********        24%                  ]  86772 of 360843 complete Elapsed: 0.6 minutes\t Remaining: 1.9 minutes"
       ]
      },
      {
       "output_type": "stream",
       "stream": "stdout",
       "text": [
        " \r",
        "[**********       25%                  ]  90412 of 360843 complete Elapsed: 0.6 minutes\t Remaining: 1.9 minutes"
       ]
      },
      {
       "output_type": "stream",
       "stream": "stdout",
       "text": [
        " \r",
        "[**********       26%                  ]  94010 of 360843 complete Elapsed: 0.7 minutes\t Remaining: 1.8 minutes"
       ]
      },
      {
       "output_type": "stream",
       "stream": "stdout",
       "text": [
        " \r",
        "[**********       27%                  ]  97613 of 360843 complete Elapsed: 0.7 minutes\t Remaining: 1.8 minutes"
       ]
      },
      {
       "output_type": "stream",
       "stream": "stdout",
       "text": [
        " \r",
        "[***********      28%                  ]  101230 of 360843 complete Elapsed: 0.7 minutes\t Remaining: 1.8 minutes"
       ]
      },
      {
       "output_type": "stream",
       "stream": "stdout",
       "text": [
        " \r",
        "[***********      29%                  ]  104832 of 360843 complete Elapsed: 0.7 minutes\t Remaining: 1.8 minutes"
       ]
      },
      {
       "output_type": "stream",
       "stream": "stdout",
       "text": [
        " \r",
        "[***********      30%                  ]  108423 of 360843 complete Elapsed: 0.8 minutes\t Remaining: 1.7 minutes"
       ]
      },
      {
       "output_type": "stream",
       "stream": "stdout",
       "text": [
        " \r",
        "[************     31%                  ]  112030 of 360843 complete Elapsed: 0.8 minutes\t Remaining: 1.7 minutes"
       ]
      },
      {
       "output_type": "stream",
       "stream": "stdout",
       "text": [
        " \r",
        "[************     32%                  ]  115619 of 360843 complete Elapsed: 0.8 minutes\t Remaining: 1.7 minutes"
       ]
      },
      {
       "output_type": "stream",
       "stream": "stdout",
       "text": [
        " \r",
        "[*************    33%                  ]  119221 of 360843 complete Elapsed: 0.8 minutes\t Remaining: 1.7 minutes"
       ]
      },
      {
       "output_type": "stream",
       "stream": "stdout",
       "text": [
        " \r",
        "[*************    34%                  ]  122819 of 360843 complete Elapsed: 0.9 minutes\t Remaining: 1.6 minutes"
       ]
      },
      {
       "output_type": "stream",
       "stream": "stdout",
       "text": [
        " \r",
        "[*************    35%                  ]  126426 of 360843 complete Elapsed: 0.9 minutes\t Remaining: 1.6 minutes"
       ]
      },
      {
       "output_type": "stream",
       "stream": "stdout",
       "text": [
        " \r",
        "[**************   36%                  ]  130026 of 360843 complete Elapsed: 0.9 minutes\t Remaining: 1.6 minutes"
       ]
      },
      {
       "output_type": "stream",
       "stream": "stdout",
       "text": [
        " \r",
        "[**************   37%                  ]  133631 of 360843 complete Elapsed: 0.9 minutes\t Remaining: 1.6 minutes"
       ]
      },
      {
       "output_type": "stream",
       "stream": "stdout",
       "text": [
        " \r",
        "[**************   38%                  ]  137229 of 360843 complete Elapsed: 1.0 minutes\t Remaining: 1.5 minutes"
       ]
      },
      {
       "output_type": "stream",
       "stream": "stdout",
       "text": [
        " \r",
        "[***************  39%                  ]  140829 of 360843 complete Elapsed: 1.0 minutes\t Remaining: 1.5 minutes"
       ]
      },
      {
       "output_type": "stream",
       "stream": "stdout",
       "text": [
        " \r",
        "[***************  40%                  ]  144445 of 360843 complete Elapsed: 1.0 minutes\t Remaining: 1.5 minutes"
       ]
      },
      {
       "output_type": "stream",
       "stream": "stdout",
       "text": [
        " \r",
        "[**************** 41%                  ]  148063 of 360843 complete Elapsed: 1.0 minutes\t Remaining: 1.5 minutes"
       ]
      },
      {
       "output_type": "stream",
       "stream": "stdout",
       "text": [
        " \r",
        "[**************** 42%                  ]  151688 of 360843 complete Elapsed: 1.1 minutes\t Remaining: 1.4 minutes"
       ]
      },
      {
       "output_type": "stream",
       "stream": "stdout",
       "text": [
        " \r",
        "[**************** 43%                  ]  155324 of 360843 complete Elapsed: 1.1 minutes\t Remaining: 1.4 minutes"
       ]
      },
      {
       "output_type": "stream",
       "stream": "stdout",
       "text": [
        " \r",
        "[*****************44%                  ]  159095 of 360843 complete Elapsed: 1.1 minutes\t Remaining: 1.4 minutes"
       ]
      },
      {
       "output_type": "stream",
       "stream": "stdout",
       "text": [
        " \r",
        "[*****************45%                  ]  162707 of 360843 complete Elapsed: 1.1 minutes\t Remaining: 1.4 minutes"
       ]
      },
      {
       "output_type": "stream",
       "stream": "stdout",
       "text": [
        " \r",
        "[*****************46%                  ]  166347 of 360843 complete Elapsed: 1.2 minutes\t Remaining: 1.3 minutes"
       ]
      },
      {
       "output_type": "stream",
       "stream": "stdout",
       "text": [
        " \r",
        "[*****************47%                  ]  169956 of 360843 complete Elapsed: 1.2 minutes\t Remaining: 1.3 minutes"
       ]
      },
      {
       "output_type": "stream",
       "stream": "stdout",
       "text": [
        " \r",
        "[*****************48%                  ]  173621 of 360843 complete Elapsed: 1.2 minutes\t Remaining: 1.3 minutes"
       ]
      },
      {
       "output_type": "stream",
       "stream": "stdout",
       "text": [
        " \r",
        "[*****************49%                  ]  177251 of 360843 complete Elapsed: 1.2 minutes\t Remaining: 1.3 minutes"
       ]
      },
      {
       "output_type": "stream",
       "stream": "stdout",
       "text": [
        " \r",
        "[*****************50%                  ]  180876 of 360843 complete Elapsed: 1.3 minutes\t Remaining: 1.2 minutes"
       ]
      },
      {
       "output_type": "stream",
       "stream": "stdout",
       "text": [
        " \r",
        "[*****************51%                  ]  184515 of 360843 complete Elapsed: 1.3 minutes\t Remaining: 1.2 minutes"
       ]
      },
      {
       "output_type": "stream",
       "stream": "stdout",
       "text": [
        " \r",
        "[*****************52%                  ]  188132 of 360843 complete Elapsed: 1.3 minutes\t Remaining: 1.2 minutes"
       ]
      },
      {
       "output_type": "stream",
       "stream": "stdout",
       "text": [
        " \r",
        "[*****************53%                  ]  191777 of 360843 complete Elapsed: 1.3 minutes\t Remaining: 1.2 minutes"
       ]
      },
      {
       "output_type": "stream",
       "stream": "stdout",
       "text": [
        " \r",
        "[*****************54%*                 ]  195412 of 360843 complete Elapsed: 1.4 minutes\t Remaining: 1.1 minutes"
       ]
      },
      {
       "output_type": "stream",
       "stream": "stdout",
       "text": [
        " \r",
        "[*****************55%*                 ]  199043 of 360843 complete Elapsed: 1.4 minutes\t Remaining: 1.1 minutes"
       ]
      },
      {
       "output_type": "stream",
       "stream": "stdout",
       "text": [
        " \r",
        "[*****************56%*                 ]  202660 of 360843 complete Elapsed: 1.4 minutes\t Remaining: 1.1 minutes"
       ]
      },
      {
       "output_type": "stream",
       "stream": "stdout",
       "text": [
        " \r",
        "[*****************57%**                ]  206284 of 360843 complete Elapsed: 1.4 minutes\t Remaining: 1.1 minutes"
       ]
      },
      {
       "output_type": "stream",
       "stream": "stdout",
       "text": [
        " \r",
        "[*****************58%**                ]  209917 of 360843 complete Elapsed: 1.5 minutes\t Remaining: 1.0 minutes"
       ]
      },
      {
       "output_type": "stream",
       "stream": "stdout",
       "text": [
        " \r",
        "[*****************59%**                ]  213548 of 360843 complete Elapsed: 1.5 minutes\t Remaining: 1.0 minutes"
       ]
      },
      {
       "output_type": "stream",
       "stream": "stdout",
       "text": [
        " \r",
        "[*****************60%***               ]  217166 of 360843 complete Elapsed: 1.5 minutes\t Remaining: 1.0 minutes"
       ]
      },
      {
       "output_type": "stream",
       "stream": "stdout",
       "text": [
        " \r",
        "[*****************61%***               ]  220794 of 360843 complete Elapsed: 1.5 minutes\t Remaining: 1.0 minutes"
       ]
      },
      {
       "output_type": "stream",
       "stream": "stdout",
       "text": [
        " \r",
        "[*****************62%****              ]  224427 of 360843 complete Elapsed: 1.6 minutes\t Remaining: 0.9 minutes"
       ]
      },
      {
       "output_type": "stream",
       "stream": "stdout",
       "text": [
        " \r",
        "[*****************63%****              ]  228048 of 360843 complete Elapsed: 1.6 minutes\t Remaining: 0.9 minutes"
       ]
      },
      {
       "output_type": "stream",
       "stream": "stdout",
       "text": [
        " \r",
        "[*****************64%****              ]  231682 of 360843 complete Elapsed: 1.6 minutes\t Remaining: 0.9 minutes"
       ]
      },
      {
       "output_type": "stream",
       "stream": "stdout",
       "text": [
        " \r",
        "[*****************65%*****             ]  235294 of 360843 complete Elapsed: 1.6 minutes\t Remaining: 0.9 minutes"
       ]
      },
      {
       "output_type": "stream",
       "stream": "stdout",
       "text": [
        " \r",
        "[*****************66%*****             ]  238917 of 360843 complete Elapsed: 1.7 minutes\t Remaining: 0.8 minutes"
       ]
      },
      {
       "output_type": "stream",
       "stream": "stdout",
       "text": [
        " \r",
        "[*****************67%*****             ]  242538 of 360843 complete Elapsed: 1.7 minutes\t Remaining: 0.8 minutes"
       ]
      },
      {
       "output_type": "stream",
       "stream": "stdout",
       "text": [
        " \r",
        "[*****************68%******            ]  246161 of 360843 complete Elapsed: 1.7 minutes\t Remaining: 0.8 minutes"
       ]
      },
      {
       "output_type": "stream",
       "stream": "stdout",
       "text": [
        " \r",
        "[*****************69%******            ]  249783 of 360843 complete Elapsed: 1.7 minutes\t Remaining: 0.8 minutes"
       ]
      },
      {
       "output_type": "stream",
       "stream": "stdout",
       "text": [
        " \r",
        "[*****************70%*******           ]  253390 of 360843 complete Elapsed: 1.8 minutes\t Remaining: 0.7 minutes"
       ]
      },
      {
       "output_type": "stream",
       "stream": "stdout",
       "text": [
        " \r",
        "[*****************71%*******           ]  257011 of 360843 complete Elapsed: 1.8 minutes\t Remaining: 0.7 minutes"
       ]
      },
      {
       "output_type": "stream",
       "stream": "stdout",
       "text": [
        " \r",
        "[*****************72%*******           ]  260632 of 360843 complete Elapsed: 1.8 minutes\t Remaining: 0.7 minutes"
       ]
      },
      {
       "output_type": "stream",
       "stream": "stdout",
       "text": [
        " \r",
        "[*****************73%********          ]  264256 of 360843 complete Elapsed: 1.8 minutes\t Remaining: 0.7 minutes"
       ]
      },
      {
       "output_type": "stream",
       "stream": "stdout",
       "text": [
        " \r",
        "[*****************74%********          ]  267876 of 360843 complete Elapsed: 1.9 minutes\t Remaining: 0.6 minutes"
       ]
      },
      {
       "output_type": "stream",
       "stream": "stdout",
       "text": [
        " \r",
        "[*****************75%*********         ]  271505 of 360843 complete Elapsed: 1.9 minutes\t Remaining: 0.6 minutes"
       ]
      },
      {
       "output_type": "stream",
       "stream": "stdout",
       "text": [
        " \r",
        "[*****************76%*********         ]  275129 of 360843 complete Elapsed: 1.9 minutes\t Remaining: 0.6 minutes"
       ]
      },
      {
       "output_type": "stream",
       "stream": "stdout",
       "text": [
        " \r",
        "[*****************77%*********         ]  278766 of 360843 complete Elapsed: 1.9 minutes\t Remaining: 0.6 minutes"
       ]
      },
      {
       "output_type": "stream",
       "stream": "stdout",
       "text": [
        " \r",
        "[*****************78%**********        ]  282364 of 360843 complete Elapsed: 2.0 minutes\t Remaining: 0.5 minutes"
       ]
      },
      {
       "output_type": "stream",
       "stream": "stdout",
       "text": [
        " \r",
        "[*****************79%**********        ]  285982 of 360843 complete Elapsed: 2.0 minutes\t Remaining: 0.5 minutes"
       ]
      },
      {
       "output_type": "stream",
       "stream": "stdout",
       "text": [
        " \r",
        "[*****************80%**********        ]  289592 of 360843 complete Elapsed: 2.0 minutes\t Remaining: 0.5 minutes"
       ]
      },
      {
       "output_type": "stream",
       "stream": "stdout",
       "text": [
        " \r",
        "[*****************81%***********       ]  293206 of 360843 complete Elapsed: 2.0 minutes\t Remaining: 0.5 minutes"
       ]
      },
      {
       "output_type": "stream",
       "stream": "stdout",
       "text": [
        " \r",
        "[*****************82%***********       ]  296826 of 360843 complete Elapsed: 2.1 minutes\t Remaining: 0.4 minutes"
       ]
      },
      {
       "output_type": "stream",
       "stream": "stdout",
       "text": [
        " \r",
        "[*****************83%************      ]  300441 of 360843 complete Elapsed: 2.1 minutes\t Remaining: 0.4 minutes"
       ]
      },
      {
       "output_type": "stream",
       "stream": "stdout",
       "text": [
        " \r",
        "[*****************84%************      ]  304055 of 360843 complete Elapsed: 2.1 minutes\t Remaining: 0.4 minutes"
       ]
      },
      {
       "output_type": "stream",
       "stream": "stdout",
       "text": [
        " \r",
        "[*****************85%************      ]  307674 of 360843 complete Elapsed: 2.1 minutes\t Remaining: 0.4 minutes"
       ]
      },
      {
       "output_type": "stream",
       "stream": "stdout",
       "text": [
        " \r",
        "[*****************86%*************     ]  311295 of 360843 complete Elapsed: 2.2 minutes\t Remaining: 0.3 minutes"
       ]
      },
      {
       "output_type": "stream",
       "stream": "stdout",
       "text": [
        " \r",
        "[*****************87%*************     ]  314908 of 360843 complete Elapsed: 2.2 minutes\t Remaining: 0.3 minutes"
       ]
      },
      {
       "output_type": "stream",
       "stream": "stdout",
       "text": [
        " \r",
        "[*****************88%*************     ]  318519 of 360843 complete Elapsed: 2.2 minutes\t Remaining: 0.3 minutes"
       ]
      },
      {
       "output_type": "stream",
       "stream": "stdout",
       "text": [
        " \r",
        "[*****************89%**************    ]  322130 of 360843 complete Elapsed: 2.2 minutes\t Remaining: 0.3 minutes"
       ]
      },
      {
       "output_type": "stream",
       "stream": "stdout",
       "text": [
        " \r",
        "[*****************90%**************    ]  325750 of 360843 complete Elapsed: 2.3 minutes\t Remaining: 0.2 minutes"
       ]
      },
      {
       "output_type": "stream",
       "stream": "stdout",
       "text": [
        " \r",
        "[*****************91%***************   ]  329366 of 360843 complete Elapsed: 2.3 minutes\t Remaining: 0.2 minutes"
       ]
      },
      {
       "output_type": "stream",
       "stream": "stdout",
       "text": [
        " \r",
        "[*****************92%***************   ]  332993 of 360843 complete Elapsed: 2.3 minutes\t Remaining: 0.2 minutes"
       ]
      },
      {
       "output_type": "stream",
       "stream": "stdout",
       "text": [
        " \r",
        "[*****************93%***************   ]  336606 of 360843 complete Elapsed: 2.3 minutes\t Remaining: 0.2 minutes"
       ]
      },
      {
       "output_type": "stream",
       "stream": "stdout",
       "text": [
        " \r",
        "[*****************94%****************  ]  340223 of 360843 complete Elapsed: 2.4 minutes\t Remaining: 0.1 minutes"
       ]
      },
      {
       "output_type": "stream",
       "stream": "stdout",
       "text": [
        " \r",
        "[*****************95%****************  ]  343852 of 360843 complete Elapsed: 2.4 minutes\t Remaining: 0.1 minutes"
       ]
      },
      {
       "output_type": "stream",
       "stream": "stdout",
       "text": [
        " \r",
        "[*****************96%****************  ]  347470 of 360843 complete Elapsed: 2.4 minutes\t Remaining: 0.1 minutes"
       ]
      },
      {
       "output_type": "stream",
       "stream": "stdout",
       "text": [
        " \r",
        "[*****************97%***************** ]  351106 of 360843 complete Elapsed: 2.4 minutes\t Remaining: 0.1 minutes"
       ]
      },
      {
       "output_type": "stream",
       "stream": "stdout",
       "text": [
        " \r",
        "[*****************98%***************** ]  354734 of 360843 complete Elapsed: 2.5 minutes\t Remaining: 0.0 minutes"
       ]
      },
      {
       "output_type": "stream",
       "stream": "stdout",
       "text": [
        "\n"
       ]
      }
     ],
     "prompt_number": 188
    },
    {
     "cell_type": "code",
     "collapsed": false,
     "input": [
      "ncc_array = get_NCC_values(file_name , \"chr20\")"
     ],
     "language": "python",
     "metadata": {},
     "outputs": [
      {
       "output_type": "stream",
       "stream": "stdout",
       "text": [
        "\r",
        "[                  0%                  ]"
       ]
      },
      {
       "output_type": "stream",
       "stream": "stdout",
       "text": [
        " \r",
        "[                  1%                  ]  3604 of 515527 complete Elapsed: 0.0 minutes\t Remaining: 3.6 minutes"
       ]
      },
      {
       "output_type": "stream",
       "stream": "stdout",
       "text": [
        " \r",
        "[                  1%                  ]  7223 of 515527 complete Elapsed: 0.1 minutes\t Remaining: 3.5 minutes"
       ]
      },
      {
       "output_type": "stream",
       "stream": "stdout",
       "text": [
        " \r",
        "[*                 2%                  ]  10837 of 515527 complete Elapsed: 0.1 minutes\t Remaining: 3.5 minutes"
       ]
      },
      {
       "output_type": "stream",
       "stream": "stdout",
       "text": [
        " \r",
        "[*                 3%                  ]  14450 of 515527 complete Elapsed: 0.1 minutes\t Remaining: 3.5 minutes"
       ]
      },
      {
       "output_type": "stream",
       "stream": "stdout",
       "text": [
        " \r",
        "[**                4%                  ]  18071 of 515527 complete Elapsed: 0.1 minutes\t Remaining: 3.4 minutes"
       ]
      },
      {
       "output_type": "stream",
       "stream": "stdout",
       "text": [
        " \r",
        "[**                4%                  ]  21681 of 515527 complete Elapsed: 0.2 minutes\t Remaining: 3.4 minutes"
       ]
      },
      {
       "output_type": "stream",
       "stream": "stdout",
       "text": [
        " \r",
        "[**                5%                  ]  25298 of 515527 complete Elapsed: 0.2 minutes\t Remaining: 3.4 minutes"
       ]
      },
      {
       "output_type": "stream",
       "stream": "stdout",
       "text": [
        " \r",
        "[**                6%                  ]  28915 of 515527 complete Elapsed: 0.2 minutes\t Remaining: 3.4 minutes"
       ]
      },
      {
       "output_type": "stream",
       "stream": "stdout",
       "text": [
        " \r",
        "[**                6%                  ]  32548 of 515527 complete Elapsed: 0.2 minutes\t Remaining: 3.3 minutes"
       ]
      },
      {
       "output_type": "stream",
       "stream": "stdout",
       "text": [
        " \r",
        "[***               7%                  ]  36180 of 515527 complete Elapsed: 0.3 minutes\t Remaining: 3.3 minutes"
       ]
      },
      {
       "output_type": "stream",
       "stream": "stdout",
       "text": [
        " \r",
        "[***               8%                  ]  39820 of 515527 complete Elapsed: 0.3 minutes\t Remaining: 3.3 minutes"
       ]
      },
      {
       "output_type": "stream",
       "stream": "stdout",
       "text": [
        " \r",
        "[***               8%                  ]  43450 of 515527 complete Elapsed: 0.3 minutes\t Remaining: 3.3 minutes"
       ]
      },
      {
       "output_type": "stream",
       "stream": "stdout",
       "text": [
        " \r",
        "[***               9%                  ]  47079 of 515527 complete Elapsed: 0.3 minutes\t Remaining: 3.2 minutes"
       ]
      },
      {
       "output_type": "stream",
       "stream": "stdout",
       "text": [
        " \r",
        "[****             10%                  ]  50689 of 515527 complete Elapsed: 0.4 minutes\t Remaining: 3.2 minutes"
       ]
      },
      {
       "output_type": "stream",
       "stream": "stdout",
       "text": [
        " \r",
        "[****             11%                  ]  54316 of 515527 complete Elapsed: 0.4 minutes\t Remaining: 3.2 minutes"
       ]
      },
      {
       "output_type": "stream",
       "stream": "stdout",
       "text": [
        " \r",
        "[****             11%                  ]  57953 of 515527 complete Elapsed: 0.4 minutes\t Remaining: 3.2 minutes"
       ]
      },
      {
       "output_type": "stream",
       "stream": "stdout",
       "text": [
        " \r",
        "[*****            12%                  ]  61589 of 515527 complete Elapsed: 0.4 minutes\t Remaining: 3.1 minutes"
       ]
      },
      {
       "output_type": "stream",
       "stream": "stdout",
       "text": [
        " \r",
        "[*****            13%                  ]  65206 of 515527 complete Elapsed: 0.5 minutes\t Remaining: 3.1 minutes"
       ]
      },
      {
       "output_type": "stream",
       "stream": "stdout",
       "text": [
        " \r",
        "[*****            13%                  ]  68841 of 515527 complete Elapsed: 0.5 minutes\t Remaining: 3.1 minutes"
       ]
      },
      {
       "output_type": "stream",
       "stream": "stdout",
       "text": [
        " \r",
        "[*****            14%                  ]  72442 of 515527 complete Elapsed: 0.5 minutes\t Remaining: 3.1 minutes"
       ]
      },
      {
       "output_type": "stream",
       "stream": "stdout",
       "text": [
        " \r",
        "[******           15%                  ]  76080 of 515527 complete Elapsed: 0.5 minutes\t Remaining: 3.0 minutes"
       ]
      },
      {
       "output_type": "stream",
       "stream": "stdout",
       "text": [
        " \r",
        "[******           15%                  ]  79690 of 515527 complete Elapsed: 0.6 minutes\t Remaining: 3.0 minutes"
       ]
      },
      {
       "output_type": "stream",
       "stream": "stdout",
       "text": [
        " \r",
        "[******           16%                  ]  83322 of 515527 complete Elapsed: 0.6 minutes\t Remaining: 3.0 minutes"
       ]
      },
      {
       "output_type": "stream",
       "stream": "stdout",
       "text": [
        " \r",
        "[******           17%                  ]  86936 of 515527 complete Elapsed: 0.6 minutes\t Remaining: 3.0 minutes"
       ]
      },
      {
       "output_type": "stream",
       "stream": "stdout",
       "text": [
        " \r",
        "[*******          18%                  ]  90575 of 515527 complete Elapsed: 0.6 minutes\t Remaining: 2.9 minutes"
       ]
      },
      {
       "output_type": "stream",
       "stream": "stdout",
       "text": [
        " \r",
        "[*******          18%                  ]  94191 of 515527 complete Elapsed: 0.7 minutes\t Remaining: 2.9 minutes"
       ]
      },
      {
       "output_type": "stream",
       "stream": "stdout",
       "text": [
        " \r",
        "[*******          19%                  ]  97822 of 515527 complete Elapsed: 0.7 minutes\t Remaining: 2.9 minutes"
       ]
      },
      {
       "output_type": "stream",
       "stream": "stdout",
       "text": [
        " \r",
        "[********         20%                  ]  101444 of 515527 complete Elapsed: 0.7 minutes\t Remaining: 2.9 minutes"
       ]
      },
      {
       "output_type": "stream",
       "stream": "stdout",
       "text": [
        " \r",
        "[********         20%                  ]  105077 of 515527 complete Elapsed: 0.7 minutes\t Remaining: 2.8 minutes"
       ]
      },
      {
       "output_type": "stream",
       "stream": "stdout",
       "text": [
        " \r",
        "[********         21%                  ]  108714 of 515527 complete Elapsed: 0.8 minutes\t Remaining: 2.8 minutes"
       ]
      },
      {
       "output_type": "stream",
       "stream": "stdout",
       "text": [
        " \r",
        "[********         22%                  ]  112333 of 515527 complete Elapsed: 0.8 minutes\t Remaining: 2.8 minutes"
       ]
      },
      {
       "output_type": "stream",
       "stream": "stdout",
       "text": [
        " \r",
        "[********         22%                  ]  115950 of 515527 complete Elapsed: 0.8 minutes\t Remaining: 2.8 minutes"
       ]
      },
      {
       "output_type": "stream",
       "stream": "stdout",
       "text": [
        " \r",
        "[*********        23%                  ]  119595 of 515527 complete Elapsed: 0.8 minutes\t Remaining: 2.7 minutes"
       ]
      },
      {
       "output_type": "stream",
       "stream": "stdout",
       "text": [
        " \r",
        "[*********        24%                  ]  123212 of 515527 complete Elapsed: 0.9 minutes\t Remaining: 2.7 minutes"
       ]
      },
      {
       "output_type": "stream",
       "stream": "stdout",
       "text": [
        " \r",
        "[**********       25%                  ]  126844 of 515527 complete Elapsed: 0.9 minutes\t Remaining: 2.7 minutes"
       ]
      },
      {
       "output_type": "stream",
       "stream": "stdout",
       "text": [
        " \r",
        "[**********       25%                  ]  130457 of 515527 complete Elapsed: 0.9 minutes\t Remaining: 2.7 minutes"
       ]
      },
      {
       "output_type": "stream",
       "stream": "stdout",
       "text": [
        " \r",
        "[**********       26%                  ]  134075 of 515527 complete Elapsed: 0.9 minutes\t Remaining: 2.6 minutes"
       ]
      },
      {
       "output_type": "stream",
       "stream": "stdout",
       "text": [
        " \r",
        "[**********       27%                  ]  137702 of 515527 complete Elapsed: 1.0 minutes\t Remaining: 2.6 minutes"
       ]
      },
      {
       "output_type": "stream",
       "stream": "stdout",
       "text": [
        " \r",
        "[**********       27%                  ]  141334 of 515527 complete Elapsed: 1.0 minutes\t Remaining: 2.6 minutes"
       ]
      },
      {
       "output_type": "stream",
       "stream": "stdout",
       "text": [
        " \r",
        "[***********      28%                  ]  144946 of 515527 complete Elapsed: 1.0 minutes\t Remaining: 2.6 minutes"
       ]
      },
      {
       "output_type": "stream",
       "stream": "stdout",
       "text": [
        " \r",
        "[***********      29%                  ]  148587 of 515527 complete Elapsed: 1.0 minutes\t Remaining: 2.5 minutes"
       ]
      },
      {
       "output_type": "stream",
       "stream": "stdout",
       "text": [
        " \r",
        "[***********      30%                  ]  152231 of 515527 complete Elapsed: 1.1 minutes\t Remaining: 2.5 minutes"
       ]
      },
      {
       "output_type": "stream",
       "stream": "stdout",
       "text": [
        " \r",
        "[***********      30%                  ]  155875 of 515527 complete Elapsed: 1.1 minutes\t Remaining: 2.5 minutes"
       ]
      },
      {
       "output_type": "stream",
       "stream": "stdout",
       "text": [
        " \r",
        "[************     31%                  ]  159510 of 515527 complete Elapsed: 1.1 minutes\t Remaining: 2.5 minutes"
       ]
      },
      {
       "output_type": "stream",
       "stream": "stdout",
       "text": [
        " \r",
        "[************     32%                  ]  163142 of 515527 complete Elapsed: 1.1 minutes\t Remaining: 2.4 minutes"
       ]
      },
      {
       "output_type": "stream",
       "stream": "stdout",
       "text": [
        " \r",
        "[************     32%                  ]  166714 of 515527 complete Elapsed: 1.2 minutes\t Remaining: 2.4 minutes"
       ]
      },
      {
       "output_type": "stream",
       "stream": "stdout",
       "text": [
        " \r",
        "[*************    33%                  ]  170232 of 515527 complete Elapsed: 1.2 minutes\t Remaining: 2.4 minutes"
       ]
      },
      {
       "output_type": "stream",
       "stream": "stdout",
       "text": [
        " \r",
        "[*************    34%                  ]  173782 of 515527 complete Elapsed: 1.2 minutes\t Remaining: 2.4 minutes"
       ]
      },
      {
       "output_type": "stream",
       "stream": "stdout",
       "text": [
        " \r",
        "[*************    34%                  ]  177328 of 515527 complete Elapsed: 1.2 minutes\t Remaining: 2.3 minutes"
       ]
      },
      {
       "output_type": "stream",
       "stream": "stdout",
       "text": [
        " \r",
        "[*************    35%                  ]  180909 of 515527 complete Elapsed: 1.3 minutes\t Remaining: 2.3 minutes"
       ]
      },
      {
       "output_type": "stream",
       "stream": "stdout",
       "text": [
        " \r",
        "[**************   36%                  ]  184513 of 515527 complete Elapsed: 1.3 minutes\t Remaining: 2.3 minutes"
       ]
      },
      {
       "output_type": "stream",
       "stream": "stdout",
       "text": [
        " \r",
        "[**************   36%                  ]  188025 of 515527 complete Elapsed: 1.3 minutes\t Remaining: 2.3 minutes"
       ]
      },
      {
       "output_type": "stream",
       "stream": "stdout",
       "text": [
        " \r",
        "[**************   37%                  ]  191578 of 515527 complete Elapsed: 1.3 minutes\t Remaining: 2.2 minutes"
       ]
      },
      {
       "output_type": "stream",
       "stream": "stdout",
       "text": [
        " \r",
        "[**************   38%                  ]  195203 of 515527 complete Elapsed: 1.4 minutes\t Remaining: 2.2 minutes"
       ]
      },
      {
       "output_type": "stream",
       "stream": "stdout",
       "text": [
        " \r",
        "[***************  39%                  ]  198766 of 515527 complete Elapsed: 1.4 minutes\t Remaining: 2.2 minutes"
       ]
      },
      {
       "output_type": "stream",
       "stream": "stdout",
       "text": [
        " \r",
        "[***************  39%                  ]  202294 of 515527 complete Elapsed: 1.4 minutes\t Remaining: 2.2 minutes"
       ]
      },
      {
       "output_type": "stream",
       "stream": "stdout",
       "text": [
        " \r",
        "[***************  40%                  ]  205848 of 515527 complete Elapsed: 1.4 minutes\t Remaining: 2.1 minutes"
       ]
      },
      {
       "output_type": "stream",
       "stream": "stdout",
       "text": [
        " \r",
        "[**************** 41%                  ]  209423 of 515527 complete Elapsed: 1.5 minutes\t Remaining: 2.1 minutes"
       ]
      },
      {
       "output_type": "stream",
       "stream": "stdout",
       "text": [
        " \r",
        "[**************** 41%                  ]  212992 of 515527 complete Elapsed: 1.5 minutes\t Remaining: 2.1 minutes"
       ]
      },
      {
       "output_type": "stream",
       "stream": "stdout",
       "text": [
        " \r",
        "[**************** 42%                  ]  216561 of 515527 complete Elapsed: 1.5 minutes\t Remaining: 2.1 minutes"
       ]
      },
      {
       "output_type": "stream",
       "stream": "stdout",
       "text": [
        " \r",
        "[**************** 43%                  ]  220143 of 515527 complete Elapsed: 1.5 minutes\t Remaining: 2.0 minutes"
       ]
      },
      {
       "output_type": "stream",
       "stream": "stdout",
       "text": [
        " \r",
        "[**************** 43%                  ]  223734 of 515527 complete Elapsed: 1.6 minutes\t Remaining: 2.0 minutes"
       ]
      },
      {
       "output_type": "stream",
       "stream": "stdout",
       "text": [
        " \r",
        "[*****************44%                  ]  227296 of 515527 complete Elapsed: 1.6 minutes\t Remaining: 2.0 minutes"
       ]
      },
      {
       "output_type": "stream",
       "stream": "stdout",
       "text": [
        " \r",
        "[*****************45%                  ]  230870 of 515527 complete Elapsed: 1.6 minutes\t Remaining: 2.0 minutes"
       ]
      },
      {
       "output_type": "stream",
       "stream": "stdout",
       "text": [
        " \r",
        "[*****************45%                  ]  234475 of 515527 complete Elapsed: 1.6 minutes\t Remaining: 1.9 minutes"
       ]
      },
      {
       "output_type": "stream",
       "stream": "stdout",
       "text": [
        " \r",
        "[*****************46%                  ]  238067 of 515527 complete Elapsed: 1.7 minutes\t Remaining: 1.9 minutes"
       ]
      },
      {
       "output_type": "stream",
       "stream": "stdout",
       "text": [
        " \r",
        "[*****************47%                  ]  241645 of 515527 complete Elapsed: 1.7 minutes\t Remaining: 1.9 minutes"
       ]
      },
      {
       "output_type": "stream",
       "stream": "stdout",
       "text": [
        " \r",
        "[*****************48%                  ]  245255 of 515527 complete Elapsed: 1.7 minutes\t Remaining: 1.9 minutes"
       ]
      },
      {
       "output_type": "stream",
       "stream": "stdout",
       "text": [
        " \r",
        "[*****************48%                  ]  248854 of 515527 complete Elapsed: 1.7 minutes\t Remaining: 1.8 minutes"
       ]
      },
      {
       "output_type": "stream",
       "stream": "stdout",
       "text": [
        " \r",
        "[*****************49%                  ]  252423 of 515527 complete Elapsed: 1.8 minutes\t Remaining: 1.8 minutes"
       ]
      },
      {
       "output_type": "stream",
       "stream": "stdout",
       "text": [
        " \r",
        "[*****************50%                  ]  256014 of 515527 complete Elapsed: 1.8 minutes\t Remaining: 1.8 minutes"
       ]
      },
      {
       "output_type": "stream",
       "stream": "stdout",
       "text": [
        " \r",
        "[*****************50%                  ]  259577 of 515527 complete Elapsed: 1.8 minutes\t Remaining: 1.8 minutes"
       ]
      },
      {
       "output_type": "stream",
       "stream": "stdout",
       "text": [
        " \r",
        "[*****************51%                  ]  263255 of 515527 complete Elapsed: 1.8 minutes\t Remaining: 1.7 minutes"
       ]
      },
      {
       "output_type": "stream",
       "stream": "stdout",
       "text": [
        " \r",
        "[*****************52%                  ]  266865 of 515527 complete Elapsed: 1.9 minutes\t Remaining: 1.7 minutes"
       ]
      },
      {
       "output_type": "stream",
       "stream": "stdout",
       "text": [
        " \r",
        "[*****************52%                  ]  270445 of 515527 complete Elapsed: 1.9 minutes\t Remaining: 1.7 minutes"
       ]
      },
      {
       "output_type": "stream",
       "stream": "stdout",
       "text": [
        " \r",
        "[*****************53%                  ]  274041 of 515527 complete Elapsed: 1.9 minutes\t Remaining: 1.7 minutes"
       ]
      },
      {
       "output_type": "stream",
       "stream": "stdout",
       "text": [
        " \r",
        "[*****************54%*                 ]  277620 of 515527 complete Elapsed: 1.9 minutes\t Remaining: 1.7 minutes"
       ]
      },
      {
       "output_type": "stream",
       "stream": "stdout",
       "text": [
        " \r",
        "[*****************55%*                 ]  281177 of 515527 complete Elapsed: 2.0 minutes\t Remaining: 1.6 minutes"
       ]
      },
      {
       "output_type": "stream",
       "stream": "stdout",
       "text": [
        " \r",
        "[*****************55%*                 ]  284771 of 515527 complete Elapsed: 2.0 minutes\t Remaining: 1.6 minutes"
       ]
      },
      {
       "output_type": "stream",
       "stream": "stdout",
       "text": [
        " \r",
        "[*****************56%*                 ]  288343 of 515527 complete Elapsed: 2.0 minutes\t Remaining: 1.6 minutes"
       ]
      },
      {
       "output_type": "stream",
       "stream": "stdout",
       "text": [
        " \r",
        "[*****************57%**                ]  291920 of 515527 complete Elapsed: 2.0 minutes\t Remaining: 1.6 minutes"
       ]
      },
      {
       "output_type": "stream",
       "stream": "stdout",
       "text": [
        " \r",
        "[*****************57%**                ]  295549 of 515527 complete Elapsed: 2.1 minutes\t Remaining: 1.5 minutes"
       ]
      },
      {
       "output_type": "stream",
       "stream": "stdout",
       "text": [
        " \r",
        "[*****************58%**                ]  299185 of 515527 complete Elapsed: 2.1 minutes\t Remaining: 1.5 minutes"
       ]
      },
      {
       "output_type": "stream",
       "stream": "stdout",
       "text": [
        " \r",
        "[*****************59%**                ]  302782 of 515527 complete Elapsed: 2.1 minutes\t Remaining: 1.5 minutes"
       ]
      },
      {
       "output_type": "stream",
       "stream": "stdout",
       "text": [
        " \r",
        "[*****************59%**                ]  306395 of 515527 complete Elapsed: 2.1 minutes\t Remaining: 1.5 minutes"
       ]
      },
      {
       "output_type": "stream",
       "stream": "stdout",
       "text": [
        " \r",
        "[*****************60%***               ]  310008 of 515527 complete Elapsed: 2.2 minutes\t Remaining: 1.4 minutes"
       ]
      },
      {
       "output_type": "stream",
       "stream": "stdout",
       "text": [
        " \r",
        "[*****************61%***               ]  313628 of 515527 complete Elapsed: 2.2 minutes\t Remaining: 1.4 minutes"
       ]
      },
      {
       "output_type": "stream",
       "stream": "stdout",
       "text": [
        " \r",
        "[*****************62%****              ]  317269 of 515527 complete Elapsed: 2.2 minutes\t Remaining: 1.4 minutes"
       ]
      },
      {
       "output_type": "stream",
       "stream": "stdout",
       "text": [
        " \r",
        "[*****************62%****              ]  320891 of 515527 complete Elapsed: 2.2 minutes\t Remaining: 1.4 minutes"
       ]
      },
      {
       "output_type": "stream",
       "stream": "stdout",
       "text": [
        " \r",
        "[*****************63%****              ]  324505 of 515527 complete Elapsed: 2.3 minutes\t Remaining: 1.3 minutes"
       ]
      },
      {
       "output_type": "stream",
       "stream": "stdout",
       "text": [
        " \r",
        "[*****************64%****              ]  328146 of 515527 complete Elapsed: 2.3 minutes\t Remaining: 1.3 minutes"
       ]
      },
      {
       "output_type": "stream",
       "stream": "stdout",
       "text": [
        " \r",
        "[*****************64%****              ]  331767 of 515527 complete Elapsed: 2.3 minutes\t Remaining: 1.3 minutes"
       ]
      },
      {
       "output_type": "stream",
       "stream": "stdout",
       "text": [
        " \r",
        "[*****************65%*****             ]  335377 of 515527 complete Elapsed: 2.3 minutes\t Remaining: 1.2 minutes"
       ]
      },
      {
       "output_type": "stream",
       "stream": "stdout",
       "text": [
        " \r",
        "[*****************66%*****             ]  338986 of 515527 complete Elapsed: 2.4 minutes\t Remaining: 1.2 minutes"
       ]
      },
      {
       "output_type": "stream",
       "stream": "stdout",
       "text": [
        " \r",
        "[*****************66%*****             ]  342618 of 515527 complete Elapsed: 2.4 minutes\t Remaining: 1.2 minutes"
       ]
      },
      {
       "output_type": "stream",
       "stream": "stdout",
       "text": [
        " \r",
        "[*****************67%*****             ]  346222 of 515527 complete Elapsed: 2.4 minutes\t Remaining: 1.2 minutes"
       ]
      },
      {
       "output_type": "stream",
       "stream": "stdout",
       "text": [
        " \r",
        "[*****************68%******            ]  349862 of 515527 complete Elapsed: 2.4 minutes\t Remaining: 1.1 minutes"
       ]
      },
      {
       "output_type": "stream",
       "stream": "stdout",
       "text": [
        " \r",
        "[*****************69%******            ]  353481 of 515527 complete Elapsed: 2.5 minutes\t Remaining: 1.1 minutes"
       ]
      },
      {
       "output_type": "stream",
       "stream": "stdout",
       "text": [
        " \r",
        "[*****************69%******            ]  357090 of 515527 complete Elapsed: 2.5 minutes\t Remaining: 1.1 minutes"
       ]
      },
      {
       "output_type": "stream",
       "stream": "stdout",
       "text": [
        " \r",
        "[*****************70%*******           ]  360721 of 515527 complete Elapsed: 2.5 minutes\t Remaining: 1.1 minutes"
       ]
      },
      {
       "output_type": "stream",
       "stream": "stdout",
       "text": [
        " \r",
        "[*****************71%*******           ]  364336 of 515527 complete Elapsed: 2.5 minutes\t Remaining: 1.0 minutes"
       ]
      },
      {
       "output_type": "stream",
       "stream": "stdout",
       "text": [
        " \r",
        "[*****************71%*******           ]  367955 of 515527 complete Elapsed: 2.6 minutes\t Remaining: 1.0 minutes"
       ]
      },
      {
       "output_type": "stream",
       "stream": "stdout",
       "text": [
        " \r",
        "[*****************72%*******           ]  371577 of 515527 complete Elapsed: 2.6 minutes\t Remaining: 1.0 minutes"
       ]
      },
      {
       "output_type": "stream",
       "stream": "stdout",
       "text": [
        " \r",
        "[*****************73%********          ]  375177 of 515527 complete Elapsed: 2.6 minutes\t Remaining: 1.0 minutes"
       ]
      },
      {
       "output_type": "stream",
       "stream": "stdout",
       "text": [
        " \r",
        "[*****************73%********          ]  378807 of 515527 complete Elapsed: 2.6 minutes\t Remaining: 0.9 minutes"
       ]
      },
      {
       "output_type": "stream",
       "stream": "stdout",
       "text": [
        " \r",
        "[*****************74%********          ]  382421 of 515527 complete Elapsed: 2.7 minutes\t Remaining: 0.9 minutes"
       ]
      },
      {
       "output_type": "stream",
       "stream": "stdout",
       "text": [
        " \r",
        "[*****************75%*********         ]  386026 of 515527 complete Elapsed: 2.7 minutes\t Remaining: 0.9 minutes"
       ]
      },
      {
       "output_type": "stream",
       "stream": "stdout",
       "text": [
        " \r",
        "[*****************76%*********         ]  389626 of 515527 complete Elapsed: 2.7 minutes\t Remaining: 0.9 minutes"
       ]
      },
      {
       "output_type": "stream",
       "stream": "stdout",
       "text": [
        " \r",
        "[*****************76%*********         ]  393262 of 515527 complete Elapsed: 2.7 minutes\t Remaining: 0.8 minutes"
       ]
      },
      {
       "output_type": "stream",
       "stream": "stdout",
       "text": [
        " \r",
        "[*****************77%*********         ]  396866 of 515527 complete Elapsed: 2.8 minutes\t Remaining: 0.8 minutes"
       ]
      },
      {
       "output_type": "stream",
       "stream": "stdout",
       "text": [
        " \r",
        "[*****************78%**********        ]  400476 of 515527 complete Elapsed: 2.8 minutes\t Remaining: 0.8 minutes"
       ]
      },
      {
       "output_type": "stream",
       "stream": "stdout",
       "text": [
        " \r",
        "[*****************78%**********        ]  404092 of 515527 complete Elapsed: 2.8 minutes\t Remaining: 0.8 minutes"
       ]
      },
      {
       "output_type": "stream",
       "stream": "stdout",
       "text": [
        " \r",
        "[*****************79%**********        ]  407718 of 515527 complete Elapsed: 2.8 minutes\t Remaining: 0.7 minutes"
       ]
      },
      {
       "output_type": "stream",
       "stream": "stdout",
       "text": [
        " \r",
        "[*****************80%**********        ]  411335 of 515527 complete Elapsed: 2.9 minutes\t Remaining: 0.7 minutes"
       ]
      },
      {
       "output_type": "stream",
       "stream": "stdout",
       "text": [
        " \r",
        "[*****************80%**********        ]  414984 of 515527 complete Elapsed: 2.9 minutes\t Remaining: 0.7 minutes"
       ]
      },
      {
       "output_type": "stream",
       "stream": "stdout",
       "text": [
        " \r",
        "[*****************81%***********       ]  418614 of 515527 complete Elapsed: 2.9 minutes\t Remaining: 0.7 minutes"
       ]
      },
      {
       "output_type": "stream",
       "stream": "stdout",
       "text": [
        " \r",
        "[*****************82%***********       ]  422244 of 515527 complete Elapsed: 2.9 minutes\t Remaining: 0.6 minutes"
       ]
      },
      {
       "output_type": "stream",
       "stream": "stdout",
       "text": [
        " \r",
        "[*****************83%************      ]  425878 of 515527 complete Elapsed: 3.0 minutes\t Remaining: 0.6 minutes"
       ]
      },
      {
       "output_type": "stream",
       "stream": "stdout",
       "text": [
        " \r",
        "[*****************83%************      ]  429473 of 515527 complete Elapsed: 3.0 minutes\t Remaining: 0.6 minutes"
       ]
      },
      {
       "output_type": "stream",
       "stream": "stdout",
       "text": [
        " \r",
        "[*****************84%************      ]  433076 of 515527 complete Elapsed: 3.0 minutes\t Remaining: 0.6 minutes"
       ]
      },
      {
       "output_type": "stream",
       "stream": "stdout",
       "text": [
        " \r",
        "[*****************85%************      ]  436703 of 515527 complete Elapsed: 3.0 minutes\t Remaining: 0.5 minutes"
       ]
      },
      {
       "output_type": "stream",
       "stream": "stdout",
       "text": [
        " \r",
        "[*****************85%************      ]  440324 of 515527 complete Elapsed: 3.1 minutes\t Remaining: 0.5 minutes"
       ]
      },
      {
       "output_type": "stream",
       "stream": "stdout",
       "text": [
        " \r",
        "[*****************86%*************     ]  443925 of 515527 complete Elapsed: 3.1 minutes\t Remaining: 0.5 minutes"
       ]
      },
      {
       "output_type": "stream",
       "stream": "stdout",
       "text": [
        " \r",
        "[*****************87%*************     ]  447558 of 515527 complete Elapsed: 3.1 minutes\t Remaining: 0.5 minutes"
       ]
      },
      {
       "output_type": "stream",
       "stream": "stdout",
       "text": [
        " \r",
        "[*****************88%*************     ]  451159 of 515527 complete Elapsed: 3.1 minutes\t Remaining: 0.4 minutes"
       ]
      },
      {
       "output_type": "stream",
       "stream": "stdout",
       "text": [
        " \r",
        "[*****************88%*************     ]  454790 of 515527 complete Elapsed: 3.2 minutes\t Remaining: 0.4 minutes"
       ]
      },
      {
       "output_type": "stream",
       "stream": "stdout",
       "text": [
        " \r",
        "[*****************89%**************    ]  458407 of 515527 complete Elapsed: 3.2 minutes\t Remaining: 0.4 minutes"
       ]
      },
      {
       "output_type": "stream",
       "stream": "stdout",
       "text": [
        " \r",
        "[*****************90%**************    ]  462030 of 515527 complete Elapsed: 3.2 minutes\t Remaining: 0.4 minutes"
       ]
      },
      {
       "output_type": "stream",
       "stream": "stdout",
       "text": [
        " \r",
        "[*****************90%**************    ]  465658 of 515527 complete Elapsed: 3.2 minutes\t Remaining: 0.3 minutes"
       ]
      },
      {
       "output_type": "stream",
       "stream": "stdout",
       "text": [
        " \r",
        "[*****************91%***************   ]  469268 of 515527 complete Elapsed: 3.3 minutes\t Remaining: 0.3 minutes"
       ]
      },
      {
       "output_type": "stream",
       "stream": "stdout",
       "text": [
        " \r",
        "[*****************92%***************   ]  472880 of 515527 complete Elapsed: 3.3 minutes\t Remaining: 0.3 minutes"
       ]
      },
      {
       "output_type": "stream",
       "stream": "stdout",
       "text": [
        " \r",
        "[*****************92%***************   ]  476505 of 515527 complete Elapsed: 3.3 minutes\t Remaining: 0.3 minutes"
       ]
      },
      {
       "output_type": "stream",
       "stream": "stdout",
       "text": [
        " \r",
        "[*****************93%***************   ]  480100 of 515527 complete Elapsed: 3.3 minutes\t Remaining: 0.2 minutes"
       ]
      },
      {
       "output_type": "stream",
       "stream": "stdout",
       "text": [
        " \r",
        "[*****************94%****************  ]  483721 of 515527 complete Elapsed: 3.4 minutes\t Remaining: 0.2 minutes"
       ]
      },
      {
       "output_type": "stream",
       "stream": "stdout",
       "text": [
        " \r",
        "[*****************95%****************  ]  487332 of 515527 complete Elapsed: 3.4 minutes\t Remaining: 0.2 minutes"
       ]
      },
      {
       "output_type": "stream",
       "stream": "stdout",
       "text": [
        " \r",
        "[*****************95%****************  ]  490946 of 515527 complete Elapsed: 3.4 minutes\t Remaining: 0.2 minutes"
       ]
      },
      {
       "output_type": "stream",
       "stream": "stdout",
       "text": [
        " \r",
        "[*****************96%****************  ]  494576 of 515527 complete Elapsed: 3.4 minutes\t Remaining: 0.1 minutes"
       ]
      },
      {
       "output_type": "stream",
       "stream": "stdout",
       "text": [
        " \r",
        "[*****************97%***************** ]  498181 of 515527 complete Elapsed: 3.5 minutes\t Remaining: 0.1 minutes"
       ]
      },
      {
       "output_type": "stream",
       "stream": "stdout",
       "text": [
        " \r",
        "[*****************97%***************** ]  501800 of 515527 complete Elapsed: 3.5 minutes\t Remaining: 0.1 minutes"
       ]
      },
      {
       "output_type": "stream",
       "stream": "stdout",
       "text": [
        " \r",
        "[*****************98%***************** ]  505428 of 515527 complete Elapsed: 3.5 minutes\t Remaining: 0.1 minutes"
       ]
      },
      {
       "output_type": "stream",
       "stream": "stdout",
       "text": [
        " \r",
        "[*****************99%******************]  509051 of 515527 complete Elapsed: 3.5 minutes\t Remaining: 0.0 minutes"
       ]
      },
      {
       "output_type": "stream",
       "stream": "stdout",
       "text": [
        "\n"
       ]
      }
     ],
     "prompt_number": 184
    },
    {
     "cell_type": "code",
     "collapsed": false,
     "input": [
      "len(ncc_array_pass)"
     ],
     "language": "python",
     "metadata": {},
     "outputs": [
      {
       "metadata": {},
       "output_type": "pyout",
       "prompt_number": 132,
       "text": [
        "30173"
       ]
      }
     ],
     "prompt_number": 132
    },
    {
     "cell_type": "code",
     "collapsed": false,
     "input": [
      "fig,ax1 = plt.subplots(1,1)\n",
      "ax2 = ax1.twinx()\n",
      "a = ax1.hist(ncc_array, bins=62)\n",
      "b = ax1.hist(ncc_array_pass, bins=62)\n",
      "c = np.cumsum(b[0])/len(ncc_array_pass)\n",
      "d = np.cumsum(a[0])/len(ncc_array)\n",
      "ax2.plot(a[1][1:],d)\n",
      "ax2.plot(b[1][1:],c)\n",
      "ax2.plot(b[1][1:],np.ones(len(b[1][1:]))*0.85, '--')\n",
      "ax2.plot(b[1][1:],np.ones(len(b[1][1:]))*0.90, '--')\n",
      "ax2.plot(b[1][1:],np.ones(len(b[1][1:]))*0.95, '--')\n",
      "plt.show()\n",
      "\n",
      "# so we're going to filter at NCC < 31 - this is roughly at the 90% sensitivity point \n",
      "# (if you consider all of the variants to really be true) and I think from this graph it looks sane..."
     ],
     "language": "python",
     "metadata": {},
     "outputs": [
      {
       "metadata": {},
       "output_type": "display_data",
       "png": "[encoded data removed]",
       "text": [
        "<matplotlib.figure.Figure at 0x5f32850>"
       ]
      }
     ],
     "prompt_number": 203
    },
    {
     "cell_type": "code",
     "collapsed": false,
     "input": [
      "np.ones(30)*0.95"
     ],
     "language": "python",
     "metadata": {},
     "outputs": [
      {
       "metadata": {},
       "output_type": "pyout",
       "prompt_number": 177,
       "text": [
        "array([ 0.95,  0.95,  0.95,  0.95,  0.95,  0.95,  0.95,  0.95,  0.95,\n",
        "        0.95,  0.95,  0.95,  0.95,  0.95,  0.95,  0.95,  0.95,  0.95,\n",
        "        0.95,  0.95,  0.95,  0.95,  0.95,  0.95,  0.95,  0.95,  0.95,\n",
        "        0.95,  0.95,  0.95])"
       ]
      }
     ],
     "prompt_number": 177
    },
    {
     "cell_type": "code",
     "collapsed": false,
     "input": [
      "np.cumsum(b[0])/30173"
     ],
     "language": "python",
     "metadata": {},
     "outputs": [
      {
       "metadata": {},
       "output_type": "pyout",
       "prompt_number": 151,
       "text": [
        "array([ 0.00599874,  0.01511285,  0.04673052,  0.12908892,  0.2596361 ,\n",
        "        0.39906539,  0.5301097 ,  0.63182315,  0.71315414,  0.77227985,\n",
        "        0.81844696,  0.85105889,  0.87528585,  0.89305008,  0.91210685,\n",
        "        0.92102211,  0.92755112,  0.93378186,  0.93812349,  0.94229941,\n",
        "        0.94697246,  0.95028668,  0.95495973,  0.95916879,  0.96268187,\n",
        "        0.96632751,  0.97017201,  0.97580618,  0.98306433,  1.        ])"
       ]
      }
     ],
     "prompt_number": 151
    },
    {
     "cell_type": "code",
     "collapsed": false,
     "input": [
      "for x,y in zip(b[0],b[1][1:]):\n",
      "    print y,x"
     ],
     "language": "python",
     "metadata": {},
     "outputs": [
      {
       "output_type": "stream",
       "stream": "stdout",
       "text": [
        "1.0 13.0\n",
        "2.0 13.0\n",
        "3.0 27.0\n",
        "4.0 96.0\n",
        "5.0 270.0\n",
        "6.0 593.0\n",
        "7.0 1077.0\n",
        "8.0 1710.0\n",
        "9.0 2401.0\n",
        "10.0 2935.0\n",
        "11.0 3157.0\n",
        "12.0 3262.0\n",
        "13.0 3108.0\n",
        "14.0 2956.0\n",
        "15.0 2675.0\n",
        "16.0 2293.0\n",
        "17.0 2016.0\n",
        "18.0 1770.0\n",
        "19.0 1431.0\n",
        "20.0 1251.0\n",
        "21.0 1084.0\n",
        "22.0 926.0\n",
        "23.0 779.0\n",
        "24.0 693.0\n",
        "25.0 550.0\n",
        "26.0 487.0\n",
        "27.0 437.0\n",
        "28.0 341.0\n",
        "29.0 300.0\n",
        "30.0 286.0\n",
        "31.0 264.0\n",
        "32.0 210.0\n",
        "33.0 194.0\n",
        "34.0 160.0\n",
        "35.0 157.0\n",
        "36.0 142.0\n",
        "37.0 127.0\n",
        "38.0 109.0\n",
        "39.0 104.0\n",
        "40.0 86.0\n",
        "41.0 65.0\n",
        "42.0 79.0\n",
        "43.0 76.0\n",
        "44.0 96.0\n",
        "45.0 64.0\n",
        "46.0 85.0\n",
        "47.0 72.0\n",
        "48.0 76.0\n",
        "49.0 73.0\n",
        "50.0 74.0\n",
        "51.0 81.0\n",
        "52.0 74.0\n",
        "53.0 69.0\n",
        "54.0 67.0\n",
        "55.0 104.0\n",
        "56.0 109.0\n",
        "57.0 134.0\n",
        "58.0 178.0\n",
        "59.0 144.0\n",
        "60.0 228.0\n",
        "61.0 290.0\n",
        "62.0 1227.0\n"
       ]
      }
     ],
     "prompt_number": 204
    },
    {
     "cell_type": "code",
     "collapsed": false,
     "input": [
      "len(np.cumsum(b[0])/30173)"
     ],
     "language": "python",
     "metadata": {},
     "outputs": [
      {
       "metadata": {},
       "output_type": "pyout",
       "prompt_number": 155,
       "text": [
        "30"
       ]
      }
     ],
     "prompt_number": 155
    },
    {
     "cell_type": "code",
     "collapsed": false,
     "input": [
      "len(ncc_array)"
     ],
     "language": "python",
     "metadata": {},
     "outputs": [
      {
       "metadata": {},
       "output_type": "pyout",
       "prompt_number": 133,
       "text": [
        "37730"
       ]
      }
     ],
     "prompt_number": 133
    },
    {
     "cell_type": "code",
     "collapsed": false,
     "input": [
      "plt.hist(ncc_array, bins=30)"
     ],
     "language": "python",
     "metadata": {},
     "outputs": [
      {
       "metadata": {},
       "output_type": "pyout",
       "prompt_number": 128,
       "text": [
        "(array([ 1781.,  1016.,  1525.,  2938.,  4370.,  4620.,  4345.,  3461.,\n",
        "        2755.,  2053.,  1674.,  1191.,   921.,   709.,   802.,   392.,\n",
        "         296.,   289.,   202.,   193.,   206.,   164.,   221.,   184.,\n",
        "         143.,   139.,   152.,   198.,   240.,   550.]),\n",
        " array([  0.        ,   2.06666667,   4.13333333,   6.2       ,\n",
        "         8.26666667,  10.33333333,  12.4       ,  14.46666667,\n",
        "        16.53333333,  18.6       ,  20.66666667,  22.73333333,\n",
        "        24.8       ,  26.86666667,  28.93333333,  31.        ,\n",
        "        33.06666667,  35.13333333,  37.2       ,  39.26666667,\n",
        "        41.33333333,  43.4       ,  45.46666667,  47.53333333,\n",
        "        49.6       ,  51.66666667,  53.73333333,  55.8       ,\n",
        "        57.86666667,  59.93333333,  62.        ]),\n",
        " <a list of 30 Patch objects>)"
       ]
      },
      {
       "metadata": {},
       "output_type": "display_data",
       "png": "[encoded data removed]",
       "text": [
        "<matplotlib.figure.Figure at 0x552a9d0>"
       ]
      }
     ],
     "prompt_number": 128
    },
    {
     "cell_type": "code",
     "collapsed": false,
     "input": [
      "for pid in pid_array:\n",
      "    if pid.ready():\n",
      "        print pid.result"
     ],
     "language": "python",
     "metadata": {},
     "outputs": [
      {
       "output_type": "stream",
       "stream": "stdout",
       "text": [
        "Completed.\n",
        "Completed.\n",
        "Completed.\n",
        "Completed.\n",
        "Completed.\n",
        "Completed.\n",
        "Completed.\n",
        "Completed.\n",
        "Completed.\n",
        "Completed.\n",
        "Completed.\n",
        "Completed.\n",
        "Completed.\n",
        "Completed.\n",
        "Completed.\n",
        "Completed.\n",
        "Completed.\n"
       ]
      }
     ],
     "prompt_number": 105
    },
    {
     "cell_type": "code",
     "collapsed": false,
     "input": [
      "print type(1.00)"
     ],
     "language": "python",
     "metadata": {},
     "outputs": [
      {
       "output_type": "stream",
       "stream": "stdout",
       "text": [
        "<type 'float'>\n"
       ]
      }
     ],
     "prompt_number": 16
    },
    {
     "cell_type": "code",
     "collapsed": false,
     "input": [
      "pd.DataFrame(filteredvcf).to_csv('/home/neffra/63samples_bwamem_081214.majority.vcf', index=None, header=None, sep='\\t')"
     ],
     "language": "python",
     "metadata": {},
     "outputs": []
    }
   ],
   "metadata": {}
  }
 ]
}