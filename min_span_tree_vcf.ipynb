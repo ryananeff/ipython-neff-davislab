{
 "metadata": {
  "name": ""
 },
 "nbformat": 3,
 "nbformat_minor": 0,
 "worksheets": [
  {
   "cells": [
    {
     "cell_type": "code",
     "collapsed": false,
     "input": [
      "%run ipy_setup.py\n",
      "%matplotlib inline"
     ],
     "language": "python",
     "metadata": {},
     "outputs": [],
     "prompt_number": 3
    },
    {
     "cell_type": "code",
     "collapsed": false,
     "input": [
      "import networkx as nx\n",
      "import json\n",
      "import math\n",
      "import re\n",
      "import pytz\n",
      "from scipy.sparse import coo_matrix, vstack, hstack\n",
      "from sklearn.feature_extraction.text import CountVectorizer\n",
      "from sklearn.cross_validation import train_test_split\n",
      "from sklearn.pipeline import Pipeline\n",
      "from sklearn.feature_selection import SelectPercentile, chi2, f_classif\n",
      "from sklearn.cross_validation import StratifiedKFold\n",
      "from sklearn.grid_search import GridSearchCV\n",
      "from sklearn.svm import SVC\n",
      "from sklearn import tree\n",
      "from sklearn import neighbors\n",
      "import warnings\n",
      "warnings.filterwarnings('ignore')"
     ],
     "language": "python",
     "metadata": {},
     "outputs": [],
     "prompt_number": 4
    },
    {
     "cell_type": "code",
     "collapsed": false,
     "input": [
      "vcf_all = '/data/test/home/neffra/1000g_phase3/1kg_phase3_integrated_v5.genotypes.vcf' #743 GB!!"
     ],
     "language": "python",
     "metadata": {},
     "outputs": [
      {
       "output_type": "stream",
       "stream": "stdout",
       "text": [
        "\n"
       ]
      }
     ],
     "prompt_number": 177
    },
    {
     "cell_type": "code",
     "collapsed": false,
     "input": [
      "sample_anc = pd.read_excel('/data/projects_gibbons/home/neffra/1000g_phase3/20130606_sample_info.xlsx', 'Sample Info')"
     ],
     "language": "python",
     "metadata": {},
     "outputs": [],
     "prompt_number": 11
    },
    {
     "cell_type": "code",
     "collapsed": false,
     "input": [
      "sample_anc.set_index('Sample', inplace=True)"
     ],
     "language": "python",
     "metadata": {},
     "outputs": [],
     "prompt_number": 17
    },
    {
     "cell_type": "code",
     "collapsed": false,
     "input": [
      "#sample_anc.sort('Population', inplace=True)\n",
      "colors = ['b', 'g', 'r', 'c', 'y', 'm', 'k']\n",
      "from itertools import groupby, cycle\n",
      "colors = cycle(colors)\n",
      "last_a = ''\n",
      "color = colors.next()\n",
      "colorarr = []\n",
      "for a,i in sample_anc.iterrows():\n",
      "    if i['Population'] != last_a:\n",
      "        color = colors.next()\n",
      "        last_a = i['Population']\n",
      "        print last_a\n",
      "    colorarr.append(color)\n",
      "sample_anc['color'] = colorarr"
     ],
     "language": "python",
     "metadata": {},
     "outputs": [
      {
       "output_type": "stream",
       "stream": "stdout",
       "text": [
        "ACB\n",
        "ASW\n",
        "BEB\n",
        "CDX\n",
        "CEU"
       ]
      },
      {
       "output_type": "stream",
       "stream": "stdout",
       "text": [
        "\n",
        "CHB\n",
        "CHS\n",
        "CLM"
       ]
      },
      {
       "output_type": "stream",
       "stream": "stdout",
       "text": [
        "\n",
        "ESN\n",
        "FIN\n",
        "GBR\n",
        "GIH"
       ]
      },
      {
       "output_type": "stream",
       "stream": "stdout",
       "text": [
        "\n",
        "GWD\n",
        "IBS\n",
        "ITU"
       ]
      },
      {
       "output_type": "stream",
       "stream": "stdout",
       "text": [
        "\n",
        "JPT\n",
        "KHV\n",
        "LWK\n",
        "MSL"
       ]
      },
      {
       "output_type": "stream",
       "stream": "stdout",
       "text": [
        "\n",
        "MXL\n",
        "PEL\n",
        "PJL\n",
        "PUR"
       ]
      },
      {
       "output_type": "stream",
       "stream": "stdout",
       "text": [
        "\n",
        "STU\n",
        "TSI\n",
        "YRI\n"
       ]
      }
     ],
     "prompt_number": 119
    },
    {
     "cell_type": "code",
     "collapsed": false,
     "input": [
      "#let's just do a PCA then\n",
      "\n",
      "import HTSeq as ht\n",
      "vcfa = ht.VCF_Reader(vcf_all)\n",
      "vcfa.parse_meta()\n",
      "vcfa.make_info_dict()\n",
      "\n",
      "samples = vcfa.sampleids\n",
      "samplen = len(samples)\n",
      "count = 0\n",
      "\n",
      "        \n",
      "keyconv = {'0|0':0, '1|0':1, '0|1':1, '1|1':2, '.|.':None, './.':None}\n",
      "count = 0\n",
      "print \"starting...\"\n",
      "pbar = ProgressBar(77000000)\n",
      "outarr = []\n",
      "for v in vcfa:\n",
      "    pbar.animate()\n",
      "    #print [i.split(\"=\") for i in v.info.split(\";\")]\n",
      "    v.unpack_info(vcfa.infodict)\n",
      "    if (v.info['AF'] == type(list)) | (v.info['AF'] <= 0.01):\n",
      "        continue\n",
      "    #print v.info\n",
      "    varcalls = dict()\n",
      "    for a,b in v.samples.iteritems():\n",
      "        try:\n",
      "            varcalls[a] = keyconv[b['GT']]\n",
      "        except:\n",
      "            varcalls[a] = 0\n",
      "    outarr.append(varcalls)"
     ],
     "language": "python",
     "metadata": {},
     "outputs": [
      {
       "output_type": "stream",
       "stream": "stdout",
       "text": [
        "starting...\n",
        "\r"
       ]
      },
      {
       "output_type": "stream",
       "stream": "stdout",
       "text": [
        "[                  0%                  ]"
       ]
      }
     ],
     "prompt_number": "*"
    },
    {
     "cell_type": "code",
     "collapsed": false,
     "input": [
      "from sklearn import decomposition as dc\n",
      "pca_model = dc.PCA(n_components=2)\n",
      "pca_model.fit(outarr2)\n",
      "print(pca_model.explained_variance_ratio_)\n",
      "print(pca_model.components_)\n",
      "\n",
      "results_new = pca_model.transform(outarr2)"
     ],
     "language": "python",
     "metadata": {},
     "outputs": [
      {
       "output_type": "stream",
       "stream": "stdout",
       "text": [
        "[ 0.72077701  0.11918606]\n",
        "[[ 0.02415419  0.00561355  0.02094508 ...,  0.0081808   0.01282667\n",
        "   0.02025583]\n",
        " [ 0.03569154 -0.00873674 -0.01989265 ..., -0.00533635 -0.01765588\n",
        "  -0.02522328]]\n"
       ]
      }
     ],
     "prompt_number": 170
    },
    {
     "cell_type": "code",
     "collapsed": false,
     "input": [
      "len(outarr2)"
     ],
     "language": "python",
     "metadata": {},
     "outputs": [
      {
       "metadata": {},
       "output_type": "pyout",
       "prompt_number": 175,
       "text": [
        "2182"
       ]
      }
     ],
     "prompt_number": 175
    },
    {
     "cell_type": "code",
     "collapsed": false,
     "input": [
      "rcParams['figure.figsize'] = (10, 10)\n",
      "rcParams['patch.edgecolor'] = 'blue'\n",
      "rcParams['figure.dpi'] = 200\n",
      "rcParams['font.size'] = 20\n",
      "plt.scatter(pca_model.components_[0,:], pca_model.components_[1,:])\n",
      "plt.xlabel('PC1')\n",
      "plt.ylabel('PC2')\n",
      "plt.plot([0,0],[-1,1], color='k', lw=0.25)\n",
      "plt.plot([-1,1],[0,0], color='k', lw=0.25)\n",
      "plt.xlim(-.1,.1)\n",
      "plt.ylim(-.1,.1)\n",
      "plt.show()"
     ],
     "language": "python",
     "metadata": {},
     "outputs": [
      {
       "metadata": {},
       "output_type": "display_data",
       "png": "[encoded data removed]",
       "text": [
        "<matplotlib.figure.Figure at 0x592a7d0>"
       ]
      }
     ],
     "prompt_number": 174
    },
    {
     "cell_type": "code",
     "collapsed": false,
     "input": [
      "outarr2 = pd.DataFrame(outarr)"
     ],
     "language": "python",
     "metadata": {},
     "outputs": [],
     "prompt_number": 169
    },
    {
     "cell_type": "code",
     "collapsed": false,
     "input": [
      "# we should either use htseq or do some sort of filtering or parallelize this\n",
      "import HTSeq as ht\n",
      "vcfa = ht.VCF_Reader(vcf_all)\n",
      "vcfa.parse_meta()\n",
      "vcfa.make_info_dict()\n",
      "graph_obj = nx.Graph() #non-directed graph since there is no way to tell direction of change from VCF cleanly\n",
      "samples = vcfa.sampleids\n",
      "np.random.shuffle(samples)\n",
      "samples = samples[0:200]\n",
      "samplen = len(samples)\n",
      "\n",
      "# first thing's first: make the nodes\n",
      "count = 0\n",
      "for sid in samples:\n",
      "    graph_obj.add_node(sid, ancestry_pop=sample_anc.loc[sid]['Population'], \n",
      "                       family_id=sample_anc.loc[sid]['Family ID'], \n",
      "                       gender=sample_anc.loc[sid]['Gender'], \n",
      "                       relationship=sample_anc.loc[sid]['Relationship'], \n",
      "                       pop_desc=sample_anc.loc[sid]['Population Description'], \n",
      "                       color=sample_anc.loc[sid]['color'])\n",
      "    for ssid in samples:\n",
      "        if sid == ssid:\n",
      "            continue\n",
      "        graph_obj.add_edge(sid, ssid, weight=0)\n",
      "        \n",
      "keyconv = {'0|0':0, '1|0':1, '0|1':1, '1|1':2, '.|.':None, './.':None}\n",
      "count = 0\n",
      "print \"starting...\"\n",
      "pbar = ProgressBar(100000)\n",
      "for v in vcfa:\n",
      "    pbar.animate()\n",
      "    #print [i.split(\"=\") for i in v.info.split(\";\")]\n",
      "    v.unpack_info(vcfa.infodict)\n",
      "    if (v.info['AF'] <= 0.05) | (v.info['AF'] == type(list)):\n",
      "        continue\n",
      "    #print v.info\n",
      "    varcalls = dict()\n",
      "    for a,b in v.samples.iteritems():\n",
      "        try:\n",
      "            varcalls[a] = keyconv[b['GT']]\n",
      "        except:\n",
      "            varcalls[a] = None\n",
      "    for sid in samples:\n",
      "        for ssid in samples:\n",
      "            if sid == ssid: continue\n",
      "            else:\n",
      "                if (varcalls[sid] != None) & (varcalls[ssid] != None):\n",
      "                    edge_weight = abs(varcalls[sid]-varcalls[ssid])\n",
      "                    if edge_weight != 0:\n",
      "                        edge_weight += graph_obj[sid][ssid]['weight']\n",
      "                        graph_obj.add_edge(sid, ssid, weight=edge_weight) #update\n",
      "    count += 1\n",
      "    if count >= 100000:\n",
      "        break"
     ],
     "language": "python",
     "metadata": {},
     "outputs": [
      {
       "output_type": "stream",
       "stream": "stdout",
       "text": [
        "starting...\n",
        "\r"
       ]
      },
      {
       "output_type": "stream",
       "stream": "stdout",
       "text": [
        "[                  0%                  ]"
       ]
      },
      {
       "output_type": "stream",
       "stream": "stdout",
       "text": [
        " \r",
        "[                  0%                  ]  84 of 100000 complete Elapsed: 0.0 minutes\t Remaining: 31.0 minutes"
       ]
      },
      {
       "output_type": "stream",
       "stream": "stdout",
       "text": [
        " \r",
        "[                  0%                  ]  198 of 100000 complete Elapsed: 0.1 minutes\t Remaining: 25.8 minutes"
       ]
      },
      {
       "output_type": "stream",
       "stream": "stdout",
       "text": [
        " \r",
        "[                  0%                  ]  295 of 100000 complete Elapsed: 0.1 minutes\t Remaining: 26.1 minutes"
       ]
      },
      {
       "output_type": "stream",
       "stream": "stdout",
       "text": [
        " \r",
        "[                  0%                  ]  388 of 100000 complete Elapsed: 0.1 minutes\t Remaining: 26.3 minutes"
       ]
      },
      {
       "output_type": "stream",
       "stream": "stdout",
       "text": [
        " \r",
        "[                  1%                  ]  501 of 100000 complete Elapsed: 0.1 minutes\t Remaining: 25.4 minutes"
       ]
      },
      {
       "output_type": "stream",
       "stream": "stdout",
       "text": [
        " \r",
        "[                  1%                  ]  607 of 100000 complete Elapsed: 0.2 minutes\t Remaining: 25.1 minutes"
       ]
      },
      {
       "output_type": "stream",
       "stream": "stdout",
       "text": [
        " \r",
        "[                  1%                  ]  661 of 100000 complete Elapsed: 0.2 minutes\t Remaining: 26.8 minutes"
       ]
      },
      {
       "output_type": "stream",
       "stream": "stdout",
       "text": [
        " \r",
        "[                  1%                  ]  720 of 100000 complete Elapsed: 0.2 minutes\t Remaining: 28.1 minutes"
       ]
      },
      {
       "output_type": "stream",
       "stream": "stdout",
       "text": [
        " \r",
        "[                  1%                  ]  780 of 100000 complete Elapsed: 0.2 minutes\t Remaining: 29.1 minutes"
       ]
      },
      {
       "output_type": "stream",
       "stream": "stdout",
       "text": [
        " \r",
        "[                  1%                  ]  840 of 100000 complete Elapsed: 0.3 minutes\t Remaining: 30.0 minutes"
       ]
      },
      {
       "output_type": "stream",
       "stream": "stdout",
       "text": [
        " \r",
        "[                  1%                  ]  884 of 100000 complete Elapsed: 0.3 minutes\t Remaining: 31.3 minutes"
       ]
      },
      {
       "output_type": "stream",
       "stream": "stdout",
       "text": [
        " \r",
        "[                  1%                  ]  949 of 100000 complete Elapsed: 0.3 minutes\t Remaining: 31.8 minutes"
       ]
      },
      {
       "output_type": "stream",
       "stream": "stdout",
       "text": [
        " \r",
        "[                  1%                  ]  1053 of 100000 complete Elapsed: 0.3 minutes\t Remaining: 31.0 minutes"
       ]
      },
      {
       "output_type": "stream",
       "stream": "stdout",
       "text": [
        " \r",
        "[                  1%                  ]  1156 of 100000 complete Elapsed: 0.4 minutes\t Remaining: 30.4 minutes"
       ]
      },
      {
       "output_type": "stream",
       "stream": "stdout",
       "text": [
        " \r",
        "[                  1%                  ]  1238 of 100000 complete Elapsed: 0.4 minutes\t Remaining: 30.4 minutes"
       ]
      },
      {
       "output_type": "stream",
       "stream": "stdout",
       "text": [
        " \r",
        "[                  1%                  ]  1333 of 100000 complete Elapsed: 0.4 minutes\t Remaining: 30.1 minutes"
       ]
      },
      {
       "output_type": "stream",
       "stream": "stdout",
       "text": [
        " \r",
        "[                  1%                  ]  1432 of 100000 complete Elapsed: 0.4 minutes\t Remaining: 29.7 minutes"
       ]
      },
      {
       "output_type": "stream",
       "stream": "stdout",
       "text": [
        " \r",
        "[*                 2%                  ]  1505 of 100000 complete Elapsed: 0.5 minutes\t Remaining: 29.9 minutes"
       ]
      },
      {
       "output_type": "stream",
       "stream": "stdout",
       "text": [
        " \r",
        "[*                 2%                  ]  1586 of 100000 complete Elapsed: 0.5 minutes\t Remaining: 29.9 minutes"
       ]
      },
      {
       "output_type": "stream",
       "stream": "stdout",
       "text": [
        " \r",
        "[*                 2%                  ]  1651 of 100000 complete Elapsed: 0.5 minutes\t Remaining: 30.2 minutes"
       ]
      },
      {
       "output_type": "stream",
       "stream": "stdout",
       "text": [
        " \r",
        "[*                 2%                  ]  1785 of 100000 complete Elapsed: 0.5 minutes\t Remaining: 29.4 minutes"
       ]
      },
      {
       "output_type": "stream",
       "stream": "stdout",
       "text": [
        " \r",
        "[*                 2%                  ]  1887 of 100000 complete Elapsed: 0.6 minutes\t Remaining: 29.1 minutes"
       ]
      },
      {
       "output_type": "stream",
       "stream": "stdout",
       "text": [
        " \r",
        "[*                 2%                  ]  2019 of 100000 complete Elapsed: 0.6 minutes\t Remaining: 28.4 minutes"
       ]
      },
      {
       "output_type": "stream",
       "stream": "stdout",
       "text": [
        " \r",
        "[*                 2%                  ]  2137 of 100000 complete Elapsed: 0.6 minutes\t Remaining: 27.9 minutes"
       ]
      },
      {
       "output_type": "stream",
       "stream": "stdout",
       "text": [
        " \r",
        "[*                 2%                  ]  2229 of 100000 complete Elapsed: 0.6 minutes\t Remaining: 27.9 minutes"
       ]
      },
      {
       "output_type": "stream",
       "stream": "stdout",
       "text": [
        " \r",
        "[*                 2%                  ]  2324 of 100000 complete Elapsed: 0.7 minutes\t Remaining: 27.7 minutes"
       ]
      },
      {
       "output_type": "stream",
       "stream": "stdout",
       "text": [
        " \r",
        "[*                 2%                  ]  2424 of 100000 complete Elapsed: 0.7 minutes\t Remaining: 27.6 minutes"
       ]
      },
      {
       "output_type": "stream",
       "stream": "stdout",
       "text": [
        " \r",
        "[*                 3%                  ]  2521 of 100000 complete Elapsed: 0.7 minutes\t Remaining: 27.5 minutes"
       ]
      },
      {
       "output_type": "stream",
       "stream": "stdout",
       "text": [
        " \r",
        "[*                 3%                  ]  2647 of 100000 complete Elapsed: 0.7 minutes\t Remaining: 27.0 minutes"
       ]
      },
      {
       "output_type": "stream",
       "stream": "stdout",
       "text": [
        " \r",
        "[*                 3%                  ]  2774 of 100000 complete Elapsed: 0.8 minutes\t Remaining: 26.6 minutes"
       ]
      },
      {
       "output_type": "stream",
       "stream": "stdout",
       "text": [
        " \r",
        "[*                 3%                  ]  2867 of 100000 complete Elapsed: 0.8 minutes\t Remaining: 26.6 minutes"
       ]
      },
      {
       "output_type": "stream",
       "stream": "stdout",
       "text": [
        " \r",
        "[*                 3%                  ]  2998 of 100000 complete Elapsed: 0.8 minutes\t Remaining: 26.3 minutes"
       ]
      },
      {
       "output_type": "stream",
       "stream": "stdout",
       "text": [
        " \r",
        "[*                 3%                  ]  3156 of 100000 complete Elapsed: 0.8 minutes\t Remaining: 25.7 minutes"
       ]
      },
      {
       "output_type": "stream",
       "stream": "stdout",
       "text": [
        " \r",
        "[*                 3%                  ]  3269 of 100000 complete Elapsed: 0.9 minutes\t Remaining: 25.5 minutes"
       ]
      },
      {
       "output_type": "stream",
       "stream": "stdout",
       "text": [
        " \r",
        "[*                 3%                  ]  3346 of 100000 complete Elapsed: 0.9 minutes\t Remaining: 25.7 minutes"
       ]
      },
      {
       "output_type": "stream",
       "stream": "stdout",
       "text": [
        " \r",
        "[*                 3%                  ]  3472 of 100000 complete Elapsed: 0.9 minutes\t Remaining: 25.4 minutes"
       ]
      },
      {
       "output_type": "stream",
       "stream": "stdout",
       "text": [
        " \r",
        "[**                4%                  ]  3536 of 100000 complete Elapsed: 0.9 minutes\t Remaining: 25.7 minutes"
       ]
      },
      {
       "output_type": "stream",
       "stream": "stdout",
       "text": [
        " \r",
        "[**                4%                  ]  3625 of 100000 complete Elapsed: 1.0 minutes\t Remaining: 25.7 minutes"
       ]
      },
      {
       "output_type": "stream",
       "stream": "stdout",
       "text": [
        " \r",
        "[**                4%                  ]  3733 of 100000 complete Elapsed: 1.0 minutes\t Remaining: 25.6 minutes"
       ]
      },
      {
       "output_type": "stream",
       "stream": "stdout",
       "text": [
        " \r",
        "[**                4%                  ]  3834 of 100000 complete Elapsed: 1.0 minutes\t Remaining: 25.5 minutes"
       ]
      },
      {
       "output_type": "stream",
       "stream": "stdout",
       "text": [
        " \r",
        "[**                4%                  ]  3930 of 100000 complete Elapsed: 1.0 minutes\t Remaining: 25.5 minutes"
       ]
      },
      {
       "output_type": "stream",
       "stream": "stdout",
       "text": [
        " \r",
        "[**                4%                  ]  4072 of 100000 complete Elapsed: 1.1 minutes\t Remaining: 25.2 minutes"
       ]
      },
      {
       "output_type": "stream",
       "stream": "stdout",
       "text": [
        " \r",
        "[**                4%                  ]  4149 of 100000 complete Elapsed: 1.1 minutes\t Remaining: 25.2 minutes"
       ]
      },
      {
       "output_type": "stream",
       "stream": "stdout",
       "text": [
        " \r",
        "[**                4%                  ]  4250 of 100000 complete Elapsed: 1.1 minutes\t Remaining: 25.2 minutes"
       ]
      },
      {
       "output_type": "stream",
       "stream": "stdout",
       "text": [
        " \r",
        "[**                4%                  ]  4343 of 100000 complete Elapsed: 1.1 minutes\t Remaining: 25.2 minutes"
       ]
      },
      {
       "output_type": "stream",
       "stream": "stdout",
       "text": [
        " \r",
        "[**                4%                  ]  4433 of 100000 complete Elapsed: 1.2 minutes\t Remaining: 25.2 minutes"
       ]
      },
      {
       "output_type": "stream",
       "stream": "stdout",
       "text": [
        " \r",
        "[**                5%                  ]  4561 of 100000 complete Elapsed: 1.2 minutes\t Remaining: 25.0 minutes"
       ]
      },
      {
       "output_type": "stream",
       "stream": "stdout",
       "text": [
        " \r",
        "[**                5%                  ]  4622 of 100000 complete Elapsed: 1.2 minutes\t Remaining: 25.2 minutes"
       ]
      },
      {
       "output_type": "stream",
       "stream": "stdout",
       "text": [
        " \r",
        "[**                5%                  ]  4692 of 100000 complete Elapsed: 1.2 minutes\t Remaining: 25.3 minutes"
       ]
      },
      {
       "output_type": "stream",
       "stream": "stdout",
       "text": [
        " \r",
        "[**                5%                  ]  4780 of 100000 complete Elapsed: 1.3 minutes\t Remaining: 25.4 minutes"
       ]
      },
      {
       "output_type": "stream",
       "stream": "stdout",
       "text": [
        " \r",
        "[**                5%                  ]  4888 of 100000 complete Elapsed: 1.3 minutes\t Remaining: 25.3 minutes"
       ]
      },
      {
       "output_type": "stream",
       "stream": "stdout",
       "text": [
        " \r",
        "[**                5%                  ]  5016 of 100000 complete Elapsed: 1.3 minutes\t Remaining: 25.1 minutes"
       ]
      },
      {
       "output_type": "stream",
       "stream": "stdout",
       "text": [
        " \r",
        "[**                5%                  ]  5109 of 100000 complete Elapsed: 1.3 minutes\t Remaining: 25.1 minutes"
       ]
      },
      {
       "output_type": "stream",
       "stream": "stdout",
       "text": [
        " \r",
        "[**                5%                  ]  5264 of 100000 complete Elapsed: 1.4 minutes\t Remaining: 24.8 minutes"
       ]
      },
      {
       "output_type": "stream",
       "stream": "stdout",
       "text": [
        " \r",
        "[**                5%                  ]  5377 of 100000 complete Elapsed: 1.4 minutes\t Remaining: 24.6 minutes"
       ]
      },
      {
       "output_type": "stream",
       "stream": "stdout",
       "text": [
        " \r",
        "[**                6%                  ]  5525 of 100000 complete Elapsed: 1.4 minutes\t Remaining: 24.4 minutes"
       ]
      },
      {
       "output_type": "stream",
       "stream": "stdout",
       "text": [
        " \r",
        "[**                6%                  ]  5630 of 100000 complete Elapsed: 1.5 minutes\t Remaining: 24.3 minutes"
       ]
      },
      {
       "output_type": "stream",
       "stream": "stdout",
       "text": [
        " \r",
        "[**                6%                  ]  5723 of 100000 complete Elapsed: 1.5 minutes\t Remaining: 24.3 minutes"
       ]
      },
      {
       "output_type": "stream",
       "stream": "stdout",
       "text": [
        " \r",
        "[**                6%                  ]  5804 of 100000 complete Elapsed: 1.5 minutes\t Remaining: 24.4 minutes"
       ]
      },
      {
       "output_type": "stream",
       "stream": "stdout",
       "text": [
        " \r",
        "[**                6%                  ]  5929 of 100000 complete Elapsed: 1.5 minutes\t Remaining: 24.2 minutes"
       ]
      },
      {
       "output_type": "stream",
       "stream": "stdout",
       "text": [
        " \r",
        "[**                6%                  ]  6100 of 100000 complete Elapsed: 1.6 minutes\t Remaining: 23.9 minutes"
       ]
      },
      {
       "output_type": "stream",
       "stream": "stdout",
       "text": [
        " \r",
        "[**                6%                  ]  6243 of 100000 complete Elapsed: 1.6 minutes\t Remaining: 23.7 minutes"
       ]
      },
      {
       "output_type": "stream",
       "stream": "stdout",
       "text": [
        " \r",
        "[**                6%                  ]  6338 of 100000 complete Elapsed: 1.6 minutes\t Remaining: 23.7 minutes"
       ]
      },
      {
       "output_type": "stream",
       "stream": "stdout",
       "text": [
        " \r",
        "[**                6%                  ]  6434 of 100000 complete Elapsed: 1.6 minutes\t Remaining: 23.7 minutes"
       ]
      },
      {
       "output_type": "stream",
       "stream": "stdout",
       "text": [
        " \r",
        "[***               7%                  ]  6536 of 100000 complete Elapsed: 1.7 minutes\t Remaining: 23.6 minutes"
       ]
      },
      {
       "output_type": "stream",
       "stream": "stdout",
       "text": [
        " \r",
        "[***               7%                  ]  6664 of 100000 complete Elapsed: 1.7 minutes\t Remaining: 23.5 minutes"
       ]
      },
      {
       "output_type": "stream",
       "stream": "stdout",
       "text": [
        " \r",
        "[***               7%                  ]  6799 of 100000 complete Elapsed: 1.7 minutes\t Remaining: 23.4 minutes"
       ]
      },
      {
       "output_type": "stream",
       "stream": "stdout",
       "text": [
        " \r",
        "[***               7%                  ]  6916 of 100000 complete Elapsed: 1.7 minutes\t Remaining: 23.3 minutes"
       ]
      },
      {
       "output_type": "stream",
       "stream": "stdout",
       "text": [
        " \r",
        "[***               7%                  ]  7046 of 100000 complete Elapsed: 1.8 minutes\t Remaining: 23.2 minutes"
       ]
      },
      {
       "output_type": "stream",
       "stream": "stdout",
       "text": [
        " \r",
        "[***               7%                  ]  7179 of 100000 complete Elapsed: 1.8 minutes\t Remaining: 23.0 minutes"
       ]
      },
      {
       "output_type": "stream",
       "stream": "stdout",
       "text": [
        " \r",
        "[***               7%                  ]  7309 of 100000 complete Elapsed: 1.8 minutes\t Remaining: 22.9 minutes"
       ]
      },
      {
       "output_type": "stream",
       "stream": "stdout",
       "text": [
        " \r",
        "[***               7%                  ]  7409 of 100000 complete Elapsed: 1.8 minutes\t Remaining: 22.9 minutes"
       ]
      },
      {
       "output_type": "stream",
       "stream": "stdout",
       "text": [
        " \r",
        "[***               7%                  ]  7496 of 100000 complete Elapsed: 1.9 minutes\t Remaining: 22.9 minutes"
       ]
      },
      {
       "output_type": "stream",
       "stream": "stdout",
       "text": [
        " \r",
        "[***               8%                  ]  7558 of 100000 complete Elapsed: 1.9 minutes\t Remaining: 23.0 minutes"
       ]
      },
      {
       "output_type": "stream",
       "stream": "stdout",
       "text": [
        " \r",
        "[***               8%                  ]  7633 of 100000 complete Elapsed: 1.9 minutes\t Remaining: 23.1 minutes"
       ]
      },
      {
       "output_type": "stream",
       "stream": "stdout",
       "text": [
        " \r",
        "[***               8%                  ]  7733 of 100000 complete Elapsed: 1.9 minutes\t Remaining: 23.1 minutes"
       ]
      },
      {
       "output_type": "stream",
       "stream": "stdout",
       "text": [
        " \r",
        "[***               8%                  ]  7819 of 100000 complete Elapsed: 2.0 minutes\t Remaining: 23.1 minutes"
       ]
      },
      {
       "output_type": "stream",
       "stream": "stdout",
       "text": [
        " \r",
        "[***               8%                  ]  7866 of 100000 complete Elapsed: 2.0 minutes\t Remaining: 23.2 minutes"
       ]
      },
      {
       "output_type": "stream",
       "stream": "stdout",
       "text": [
        " \r",
        "[***               8%                  ]  7906 of 100000 complete Elapsed: 2.0 minutes\t Remaining: 23.4 minutes"
       ]
      },
      {
       "output_type": "stream",
       "stream": "stdout",
       "text": [
        " \r",
        "[***               8%                  ]  8028 of 100000 complete Elapsed: 2.0 minutes\t Remaining: 23.3 minutes"
       ]
      },
      {
       "output_type": "stream",
       "stream": "stdout",
       "text": [
        " \r",
        "[***               8%                  ]  8101 of 100000 complete Elapsed: 2.1 minutes\t Remaining: 23.4 minutes"
       ]
      },
      {
       "output_type": "stream",
       "stream": "stdout",
       "text": [
        " \r",
        "[***               8%                  ]  8195 of 100000 complete Elapsed: 2.1 minutes\t Remaining: 23.3 minutes"
       ]
      },
      {
       "output_type": "stream",
       "stream": "stdout",
       "text": [
        " \r",
        "[***               8%                  ]  8272 of 100000 complete Elapsed: 2.1 minutes\t Remaining: 23.4 minutes"
       ]
      },
      {
       "output_type": "stream",
       "stream": "stdout",
       "text": [
        " \r",
        "[***               8%                  ]  8326 of 100000 complete Elapsed: 2.1 minutes\t Remaining: 23.5 minutes"
       ]
      },
      {
       "output_type": "stream",
       "stream": "stdout",
       "text": [
        " \r",
        "[***               8%                  ]  8373 of 100000 complete Elapsed: 2.2 minutes\t Remaining: 23.7 minutes"
       ]
      },
      {
       "output_type": "stream",
       "stream": "stdout",
       "text": [
        " \r",
        "[***               8%                  ]  8465 of 100000 complete Elapsed: 2.2 minutes\t Remaining: 23.7 minutes"
       ]
      },
      {
       "output_type": "stream",
       "stream": "stdout",
       "text": [
        " \r",
        "[***               9%                  ]  8548 of 100000 complete Elapsed: 2.2 minutes\t Remaining: 23.7 minutes"
       ]
      },
      {
       "output_type": "stream",
       "stream": "stdout",
       "text": [
        " \r",
        "[***               9%                  ]  8596 of 100000 complete Elapsed: 2.2 minutes\t Remaining: 23.8 minutes"
       ]
      },
      {
       "output_type": "stream",
       "stream": "stdout",
       "text": [
        " \r",
        "[***               9%                  ]  8655 of 100000 complete Elapsed: 2.3 minutes\t Remaining: 23.9 minutes"
       ]
      },
      {
       "output_type": "stream",
       "stream": "stdout",
       "text": [
        " \r",
        "[***               9%                  ]  8716 of 100000 complete Elapsed: 2.3 minutes\t Remaining: 24.0 minutes"
       ]
      },
      {
       "output_type": "stream",
       "stream": "stdout",
       "text": [
        " \r",
        "[***               9%                  ]  8799 of 100000 complete Elapsed: 2.3 minutes\t Remaining: 24.0 minutes"
       ]
      },
      {
       "output_type": "stream",
       "stream": "stdout",
       "text": [
        " \r",
        "[***               9%                  ]  8921 of 100000 complete Elapsed: 2.3 minutes\t Remaining: 23.9 minutes"
       ]
      },
      {
       "output_type": "stream",
       "stream": "stdout",
       "text": [
        " \r",
        "[***               9%                  ]  9049 of 100000 complete Elapsed: 2.4 minutes\t Remaining: 23.8 minutes"
       ]
      },
      {
       "output_type": "stream",
       "stream": "stdout",
       "text": [
        " \r",
        "[***               9%                  ]  9168 of 100000 complete Elapsed: 2.4 minutes\t Remaining: 23.7 minutes"
       ]
      },
      {
       "output_type": "stream",
       "stream": "stdout",
       "text": [
        " \r",
        "[***               9%                  ]  9285 of 100000 complete Elapsed: 2.4 minutes\t Remaining: 23.6 minutes"
       ]
      },
      {
       "output_type": "stream",
       "stream": "stdout",
       "text": [
        " \r",
        "[***               9%                  ]  9396 of 100000 complete Elapsed: 2.4 minutes\t Remaining: 23.6 minutes"
       ]
      },
      {
       "output_type": "stream",
       "stream": "stdout",
       "text": [
        " \r",
        "[****             10%                  ]  9515 of 100000 complete Elapsed: 2.5 minutes\t Remaining: 23.5 minutes"
       ]
      },
      {
       "output_type": "stream",
       "stream": "stdout",
       "text": [
        " \r",
        "[****             10%                  ]  9627 of 100000 complete Elapsed: 2.5 minutes\t Remaining: 23.4 minutes"
       ]
      },
      {
       "output_type": "stream",
       "stream": "stdout",
       "text": [
        " \r",
        "[****             10%                  ]  9724 of 100000 complete Elapsed: 2.5 minutes\t Remaining: 23.4 minutes"
       ]
      },
      {
       "output_type": "stream",
       "stream": "stdout",
       "text": [
        " \r",
        "[****             10%                  ]  9794 of 100000 complete Elapsed: 2.5 minutes\t Remaining: 23.4 minutes"
       ]
      },
      {
       "output_type": "stream",
       "stream": "stdout",
       "text": [
        " \r",
        "[****             10%                  ]  9915 of 100000 complete Elapsed: 2.6 minutes\t Remaining: 23.3 minutes"
       ]
      },
      {
       "output_type": "stream",
       "stream": "stdout",
       "text": [
        " \r",
        "[****             10%                  ]  10007 of 100000 complete Elapsed: 2.6 minutes\t Remaining: 23.3 minutes"
       ]
      },
      {
       "output_type": "stream",
       "stream": "stdout",
       "text": [
        " \r",
        "[****             10%                  ]  10115 of 100000 complete Elapsed: 2.6 minutes\t Remaining: 23.3 minutes"
       ]
      },
      {
       "output_type": "stream",
       "stream": "stdout",
       "text": [
        " \r",
        "[****             10%                  ]  10190 of 100000 complete Elapsed: 2.6 minutes\t Remaining: 23.3 minutes"
       ]
      },
      {
       "output_type": "stream",
       "stream": "stdout",
       "text": [
        " \r",
        "[****             10%                  ]  10278 of 100000 complete Elapsed: 2.7 minutes\t Remaining: 23.3 minutes"
       ]
      },
      {
       "output_type": "stream",
       "stream": "stdout",
       "text": [
        " \r",
        "[****             10%                  ]  10392 of 100000 complete Elapsed: 2.7 minutes\t Remaining: 23.3 minutes"
       ]
      },
      {
       "output_type": "stream",
       "stream": "stdout",
       "text": [
        " \r",
        "[****             10%                  ]  10474 of 100000 complete Elapsed: 2.7 minutes\t Remaining: 23.3 minutes"
       ]
      },
      {
       "output_type": "stream",
       "stream": "stdout",
       "text": [
        " \r",
        "[****             11%                  ]  10567 of 100000 complete Elapsed: 2.7 minutes\t Remaining: 23.3 minutes"
       ]
      },
      {
       "output_type": "stream",
       "stream": "stdout",
       "text": [
        " \r",
        "[****             11%                  ]  10686 of 100000 complete Elapsed: 2.8 minutes\t Remaining: 23.2 minutes"
       ]
      },
      {
       "output_type": "stream",
       "stream": "stdout",
       "text": [
        " \r",
        "[****             11%                  ]  10779 of 100000 complete Elapsed: 2.8 minutes\t Remaining: 23.2 minutes"
       ]
      },
      {
       "output_type": "stream",
       "stream": "stdout",
       "text": [
        " \r",
        "[****             11%                  ]  10869 of 100000 complete Elapsed: 2.8 minutes\t Remaining: 23.2 minutes"
       ]
      },
      {
       "output_type": "stream",
       "stream": "stdout",
       "text": [
        " \r",
        "[****             11%                  ]  10944 of 100000 complete Elapsed: 2.9 minutes\t Remaining: 23.2 minutes"
       ]
      },
      {
       "output_type": "stream",
       "stream": "stdout",
       "text": [
        " \r",
        "[****             11%                  ]  11015 of 100000 complete Elapsed: 2.9 minutes\t Remaining: 23.2 minutes"
       ]
      },
      {
       "output_type": "stream",
       "stream": "stdout",
       "text": [
        " \r",
        "[****             11%                  ]  11065 of 100000 complete Elapsed: 2.9 minutes\t Remaining: 23.3 minutes"
       ]
      },
      {
       "output_type": "stream",
       "stream": "stdout",
       "text": [
        " \r",
        "[****             11%                  ]  11136 of 100000 complete Elapsed: 2.9 minutes\t Remaining: 23.4 minutes"
       ]
      },
      {
       "output_type": "stream",
       "stream": "stdout",
       "text": [
        " \r",
        "[****             11%                  ]  11248 of 100000 complete Elapsed: 3.0 minutes\t Remaining: 23.3 minutes"
       ]
      },
      {
       "output_type": "stream",
       "stream": "stdout",
       "text": [
        " \r",
        "[****             11%                  ]  11313 of 100000 complete Elapsed: 3.0 minutes\t Remaining: 23.4 minutes"
       ]
      },
      {
       "output_type": "stream",
       "stream": "stdout",
       "text": [
        " \r",
        "[****             11%                  ]  11386 of 100000 complete Elapsed: 3.0 minutes\t Remaining: 23.4 minutes"
       ]
      },
      {
       "output_type": "stream",
       "stream": "stdout",
       "text": [
        " \r",
        "[****             11%                  ]  11482 of 100000 complete Elapsed: 3.0 minutes\t Remaining: 23.4 minutes"
       ]
      },
      {
       "output_type": "stream",
       "stream": "stdout",
       "text": [
        " \r",
        "[*****            12%                  ]  11584 of 100000 complete Elapsed: 3.1 minutes\t Remaining: 23.3 minutes"
       ]
      },
      {
       "output_type": "stream",
       "stream": "stdout",
       "text": [
        " \r",
        "[*****            12%                  ]  11646 of 100000 complete Elapsed: 3.1 minutes\t Remaining: 23.4 minutes"
       ]
      },
      {
       "output_type": "stream",
       "stream": "stdout",
       "text": [
        " \r",
        "[*****            12%                  ]  11718 of 100000 complete Elapsed: 3.1 minutes\t Remaining: 23.4 minutes"
       ]
      },
      {
       "output_type": "stream",
       "stream": "stdout",
       "text": [
        " \r",
        "[*****            12%                  ]  11787 of 100000 complete Elapsed: 3.1 minutes\t Remaining: 23.4 minutes"
       ]
      },
      {
       "output_type": "stream",
       "stream": "stdout",
       "text": [
        " \r",
        "[*****            12%                  ]  11853 of 100000 complete Elapsed: 3.2 minutes\t Remaining: 23.5 minutes"
       ]
      },
      {
       "output_type": "stream",
       "stream": "stdout",
       "text": [
        " \r",
        "[*****            12%                  ]  11948 of 100000 complete Elapsed: 3.2 minutes\t Remaining: 23.5 minutes"
       ]
      },
      {
       "output_type": "stream",
       "stream": "stdout",
       "text": [
        " \r",
        "[*****            12%                  ]  11999 of 100000 complete Elapsed: 3.2 minutes\t Remaining: 23.5 minutes"
       ]
      },
      {
       "output_type": "stream",
       "stream": "stdout",
       "text": [
        " \r",
        "[*****            12%                  ]  12052 of 100000 complete Elapsed: 3.2 minutes\t Remaining: 23.6 minutes"
       ]
      },
      {
       "output_type": "stream",
       "stream": "stdout",
       "text": [
        " \r",
        "[*****            12%                  ]  12169 of 100000 complete Elapsed: 3.3 minutes\t Remaining: 23.5 minutes"
       ]
      },
      {
       "output_type": "stream",
       "stream": "stdout",
       "text": [
        " \r",
        "[*****            12%                  ]  12243 of 100000 complete Elapsed: 3.3 minutes\t Remaining: 23.5 minutes"
       ]
      },
      {
       "output_type": "stream",
       "stream": "stdout",
       "text": [
        " \r",
        "[*****            12%                  ]  12356 of 100000 complete Elapsed: 3.3 minutes\t Remaining: 23.5 minutes"
       ]
      },
      {
       "output_type": "stream",
       "stream": "stdout",
       "text": [
        " \r",
        "[*****            12%                  ]  12427 of 100000 complete Elapsed: 3.3 minutes\t Remaining: 23.5 minutes"
       ]
      },
      {
       "output_type": "stream",
       "stream": "stdout",
       "text": [
        " \r",
        "[*****            12%                  ]  12493 of 100000 complete Elapsed: 3.4 minutes\t Remaining: 23.6 minutes"
       ]
      },
      {
       "output_type": "stream",
       "stream": "stdout",
       "text": [
        " \r",
        "[*****            13%                  ]  12536 of 100000 complete Elapsed: 3.4 minutes\t Remaining: 23.6 minutes"
       ]
      },
      {
       "output_type": "stream",
       "stream": "stdout",
       "text": [
        " \r",
        "[*****            13%                  ]  12614 of 100000 complete Elapsed: 3.4 minutes\t Remaining: 23.6 minutes"
       ]
      },
      {
       "output_type": "stream",
       "stream": "stdout",
       "text": [
        " \r",
        "[*****            13%                  ]  12658 of 100000 complete Elapsed: 3.4 minutes\t Remaining: 23.7 minutes"
       ]
      },
      {
       "output_type": "stream",
       "stream": "stdout",
       "text": [
        " \r",
        "[*****            13%                  ]  12698 of 100000 complete Elapsed: 3.5 minutes\t Remaining: 23.8 minutes"
       ]
      },
      {
       "output_type": "stream",
       "stream": "stdout",
       "text": [
        " \r",
        "[*****            13%                  ]  12758 of 100000 complete Elapsed: 3.5 minutes\t Remaining: 23.9 minutes"
       ]
      },
      {
       "output_type": "stream",
       "stream": "stdout",
       "text": [
        " \r",
        "[*****            13%                  ]  12828 of 100000 complete Elapsed: 3.5 minutes\t Remaining: 23.9 minutes"
       ]
      },
      {
       "output_type": "stream",
       "stream": "stdout",
       "text": [
        " \r",
        "[*****            13%                  ]  12925 of 100000 complete Elapsed: 3.5 minutes\t Remaining: 23.9 minutes"
       ]
      },
      {
       "output_type": "stream",
       "stream": "stdout",
       "text": [
        " \r",
        "[*****            13%                  ]  13011 of 100000 complete Elapsed: 3.6 minutes\t Remaining: 23.8 minutes"
       ]
      },
      {
       "output_type": "stream",
       "stream": "stdout",
       "text": [
        " \r",
        "[*****            13%                  ]  13090 of 100000 complete Elapsed: 3.6 minutes\t Remaining: 23.8 minutes"
       ]
      },
      {
       "output_type": "stream",
       "stream": "stdout",
       "text": [
        " \r",
        "[*****            13%                  ]  13201 of 100000 complete Elapsed: 3.6 minutes\t Remaining: 23.8 minutes"
       ]
      },
      {
       "output_type": "stream",
       "stream": "stdout",
       "text": [
        " \r",
        "[*****            13%                  ]  13341 of 100000 complete Elapsed: 3.6 minutes\t Remaining: 23.7 minutes"
       ]
      },
      {
       "output_type": "stream",
       "stream": "stdout",
       "text": [
        " \r",
        "[*****            13%                  ]  13436 of 100000 complete Elapsed: 3.7 minutes\t Remaining: 23.6 minutes"
       ]
      },
      {
       "output_type": "stream",
       "stream": "stdout",
       "text": [
        " \r",
        "[*****            14%                  ]  13535 of 100000 complete Elapsed: 3.7 minutes\t Remaining: 23.6 minutes"
       ]
      },
      {
       "output_type": "stream",
       "stream": "stdout",
       "text": [
        " \r",
        "[*****            14%                  ]  13614 of 100000 complete Elapsed: 3.7 minutes\t Remaining: 23.6 minutes"
       ]
      },
      {
       "output_type": "stream",
       "stream": "stdout",
       "text": [
        " \r",
        "[*****            14%                  ]  13692 of 100000 complete Elapsed: 3.7 minutes\t Remaining: 23.6 minutes"
       ]
      },
      {
       "output_type": "stream",
       "stream": "stdout",
       "text": [
        " \r",
        "[*****            14%                  ]  13795 of 100000 complete Elapsed: 3.8 minutes\t Remaining: 23.6 minutes"
       ]
      },
      {
       "output_type": "stream",
       "stream": "stdout",
       "text": [
        " \r",
        "[*****            14%                  ]  13850 of 100000 complete Elapsed: 3.8 minutes\t Remaining: 23.6 minutes"
       ]
      },
      {
       "output_type": "stream",
       "stream": "stdout",
       "text": [
        " \r",
        "[*****            14%                  ]  13940 of 100000 complete Elapsed: 3.8 minutes\t Remaining: 23.6 minutes"
       ]
      },
      {
       "output_type": "stream",
       "stream": "stdout",
       "text": [
        " \r",
        "[*****            14%                  ]  13987 of 100000 complete Elapsed: 3.8 minutes\t Remaining: 23.6 minutes"
       ]
      },
      {
       "output_type": "stream",
       "stream": "stdout",
       "text": [
        " \r",
        "[*****            14%                  ]  14043 of 100000 complete Elapsed: 3.9 minutes\t Remaining: 23.7 minutes"
       ]
      },
      {
       "output_type": "stream",
       "stream": "stdout",
       "text": [
        " \r",
        "[*****            14%                  ]  14122 of 100000 complete Elapsed: 3.9 minutes\t Remaining: 23.7 minutes"
       ]
      },
      {
       "output_type": "stream",
       "stream": "stdout",
       "text": [
        " \r",
        "[*****            14%                  ]  14190 of 100000 complete Elapsed: 3.9 minutes\t Remaining: 23.7 minutes"
       ]
      },
      {
       "output_type": "stream",
       "stream": "stdout",
       "text": [
        " \r",
        "[*****            14%                  ]  14276 of 100000 complete Elapsed: 3.9 minutes\t Remaining: 23.7 minutes"
       ]
      },
      {
       "output_type": "stream",
       "stream": "stdout",
       "text": [
        " \r",
        "[*****            14%                  ]  14358 of 100000 complete Elapsed: 4.0 minutes\t Remaining: 23.7 minutes"
       ]
      },
      {
       "output_type": "stream",
       "stream": "stdout",
       "text": [
        " \r",
        "[*****            14%                  ]  14447 of 100000 complete Elapsed: 4.0 minutes\t Remaining: 23.7 minutes"
       ]
      },
      {
       "output_type": "stream",
       "stream": "stdout",
       "text": [
        " \r",
        "[******           15%                  ]  14530 of 100000 complete Elapsed: 4.0 minutes\t Remaining: 23.7 minutes"
       ]
      },
      {
       "output_type": "stream",
       "stream": "stdout",
       "text": [
        " \r",
        "[******           15%                  ]  14579 of 100000 complete Elapsed: 4.1 minutes\t Remaining: 23.7 minutes"
       ]
      },
      {
       "output_type": "stream",
       "stream": "stdout",
       "text": [
        " \r",
        "[******           15%                  ]  14631 of 100000 complete Elapsed: 4.1 minutes\t Remaining: 23.8 minutes"
       ]
      },
      {
       "output_type": "stream",
       "stream": "stdout",
       "text": [
        " \r",
        "[******           15%                  ]  14734 of 100000 complete Elapsed: 4.1 minutes\t Remaining: 23.7 minutes"
       ]
      },
      {
       "output_type": "stream",
       "stream": "stdout",
       "text": [
        " \r",
        "[******           15%                  ]  14810 of 100000 complete Elapsed: 4.1 minutes\t Remaining: 23.7 minutes"
       ]
      },
      {
       "output_type": "stream",
       "stream": "stdout",
       "text": [
        " \r",
        "[******           15%                  ]  14914 of 100000 complete Elapsed: 4.2 minutes\t Remaining: 23.7 minutes"
       ]
      },
      {
       "output_type": "stream",
       "stream": "stdout",
       "text": [
        " \r",
        "[******           15%                  ]  15020 of 100000 complete Elapsed: 4.2 minutes\t Remaining: 23.6 minutes"
       ]
      },
      {
       "output_type": "stream",
       "stream": "stdout",
       "text": [
        " \r",
        "[******           15%                  ]  15091 of 100000 complete Elapsed: 4.2 minutes\t Remaining: 23.7 minutes"
       ]
      },
      {
       "output_type": "stream",
       "stream": "stdout",
       "text": [
        " \r",
        "[******           15%                  ]  15138 of 100000 complete Elapsed: 4.2 minutes\t Remaining: 23.7 minutes"
       ]
      },
      {
       "output_type": "stream",
       "stream": "stdout",
       "text": [
        " \r",
        "[******           15%                  ]  15203 of 100000 complete Elapsed: 4.3 minutes\t Remaining: 23.8 minutes"
       ]
      },
      {
       "output_type": "stream",
       "stream": "stdout",
       "text": [
        " \r",
        "[******           15%                  ]  15318 of 100000 complete Elapsed: 4.3 minutes\t Remaining: 23.7 minutes"
       ]
      },
      {
       "output_type": "stream",
       "stream": "stdout",
       "text": [
        " \r",
        "[******           15%                  ]  15410 of 100000 complete Elapsed: 4.3 minutes\t Remaining: 23.7 minutes"
       ]
      },
      {
       "output_type": "stream",
       "stream": "stdout",
       "text": [
        " \r",
        "[******           15%                  ]  15480 of 100000 complete Elapsed: 4.3 minutes\t Remaining: 23.7 minutes"
       ]
      },
      {
       "output_type": "stream",
       "stream": "stdout",
       "text": [
        " \r",
        "[******           16%                  ]  15522 of 100000 complete Elapsed: 4.4 minutes\t Remaining: 23.7 minutes"
       ]
      },
      {
       "output_type": "stream",
       "stream": "stdout",
       "text": [
        " \r",
        "[******           16%                  ]  15585 of 100000 complete Elapsed: 4.4 minutes\t Remaining: 23.8 minutes"
       ]
      },
      {
       "output_type": "stream",
       "stream": "stdout",
       "text": [
        " \r",
        "[******           16%                  ]  15642 of 100000 complete Elapsed: 4.4 minutes\t Remaining: 23.8 minutes"
       ]
      },
      {
       "output_type": "stream",
       "stream": "stdout",
       "text": [
        " \r",
        "[******           16%                  ]  15678 of 100000 complete Elapsed: 4.4 minutes\t Remaining: 23.9 minutes"
       ]
      },
      {
       "output_type": "stream",
       "stream": "stdout",
       "text": [
        " \r",
        "[******           16%                  ]  15725 of 100000 complete Elapsed: 4.5 minutes\t Remaining: 23.9 minutes"
       ]
      },
      {
       "output_type": "stream",
       "stream": "stdout",
       "text": [
        " \r",
        "[******           16%                  ]  15799 of 100000 complete Elapsed: 4.5 minutes\t Remaining: 23.9 minutes"
       ]
      },
      {
       "output_type": "stream",
       "stream": "stdout",
       "text": [
        " \r",
        "[******           16%                  ]  15852 of 100000 complete Elapsed: 4.5 minutes\t Remaining: 24.0 minutes"
       ]
      },
      {
       "output_type": "stream",
       "stream": "stdout",
       "text": [
        " \r",
        "[******           16%                  ]  15890 of 100000 complete Elapsed: 4.5 minutes\t Remaining: 24.0 minutes"
       ]
      },
      {
       "output_type": "stream",
       "stream": "stdout",
       "text": [
        " \r",
        "[******           16%                  ]  15944 of 100000 complete Elapsed: 4.6 minutes\t Remaining: 24.1 minutes"
       ]
      },
      {
       "output_type": "stream",
       "stream": "stdout",
       "text": [
        " \r",
        "[******           16%                  ]  15994 of 100000 complete Elapsed: 4.6 minutes\t Remaining: 24.1 minutes"
       ]
      },
      {
       "output_type": "stream",
       "stream": "stdout",
       "text": [
        " \r",
        "[******           16%                  ]  16030 of 100000 complete Elapsed: 4.6 minutes\t Remaining: 24.2 minutes"
       ]
      },
      {
       "output_type": "stream",
       "stream": "stdout",
       "text": [
        " \r",
        "[******           16%                  ]  16074 of 100000 complete Elapsed: 4.6 minutes\t Remaining: 24.2 minutes"
       ]
      },
      {
       "output_type": "stream",
       "stream": "stdout",
       "text": [
        " \r",
        "[******           16%                  ]  16121 of 100000 complete Elapsed: 4.7 minutes\t Remaining: 24.3 minutes"
       ]
      },
      {
       "output_type": "stream",
       "stream": "stdout",
       "text": [
        " \r",
        "[******           16%                  ]  16179 of 100000 complete Elapsed: 4.7 minutes\t Remaining: 24.3 minutes"
       ]
      },
      {
       "output_type": "stream",
       "stream": "stdout",
       "text": [
        " \r",
        "[******           16%                  ]  16224 of 100000 complete Elapsed: 4.7 minutes\t Remaining: 24.4 minutes"
       ]
      },
      {
       "output_type": "stream",
       "stream": "stdout",
       "text": [
        " \r",
        "[******           16%                  ]  16306 of 100000 complete Elapsed: 4.7 minutes\t Remaining: 24.3 minutes"
       ]
      },
      {
       "output_type": "stream",
       "stream": "stdout",
       "text": [
        " \r",
        "[******           16%                  ]  16375 of 100000 complete Elapsed: 4.8 minutes\t Remaining: 24.3 minutes"
       ]
      },
      {
       "output_type": "stream",
       "stream": "stdout",
       "text": [
        " \r",
        "[******           16%                  ]  16432 of 100000 complete Elapsed: 4.8 minutes\t Remaining: 24.4 minutes"
       ]
      },
      {
       "output_type": "stream",
       "stream": "stdout",
       "text": [
        " \r",
        "[******           16%                  ]  16479 of 100000 complete Elapsed: 4.8 minutes\t Remaining: 24.4 minutes"
       ]
      },
      {
       "output_type": "stream",
       "stream": "stdout",
       "text": [
        " \r",
        "[******           17%                  ]  16567 of 100000 complete Elapsed: 4.8 minutes\t Remaining: 24.4 minutes"
       ]
      },
      {
       "output_type": "stream",
       "stream": "stdout",
       "text": [
        " \r",
        "[******           17%                  ]  16612 of 100000 complete Elapsed: 4.9 minutes\t Remaining: 24.4 minutes"
       ]
      },
      {
       "output_type": "stream",
       "stream": "stdout",
       "text": [
        " \r",
        "[******           17%                  ]  16634 of 100000 complete Elapsed: 4.9 minutes\t Remaining: 24.5 minutes"
       ]
      },
      {
       "output_type": "stream",
       "stream": "stdout",
       "text": [
        " \r",
        "[******           17%                  ]  16685 of 100000 complete Elapsed: 4.9 minutes\t Remaining: 24.6 minutes"
       ]
      },
      {
       "output_type": "stream",
       "stream": "stdout",
       "text": [
        " \r",
        "[******           17%                  ]  16769 of 100000 complete Elapsed: 4.9 minutes\t Remaining: 24.5 minutes"
       ]
      },
      {
       "output_type": "stream",
       "stream": "stdout",
       "text": [
        " \r",
        "[******           17%                  ]  16840 of 100000 complete Elapsed: 5.0 minutes\t Remaining: 24.5 minutes"
       ]
      },
      {
       "output_type": "stream",
       "stream": "stdout",
       "text": [
        " \r",
        "[******           17%                  ]  16904 of 100000 complete Elapsed: 5.0 minutes\t Remaining: 24.6 minutes"
       ]
      },
      {
       "output_type": "stream",
       "stream": "stdout",
       "text": [
        " \r",
        "[******           17%                  ]  16969 of 100000 complete Elapsed: 5.0 minutes\t Remaining: 24.6 minutes"
       ]
      },
      {
       "output_type": "stream",
       "stream": "stdout",
       "text": [
        " \r",
        "[******           17%                  ]  17024 of 100000 complete Elapsed: 5.0 minutes\t Remaining: 24.6 minutes"
       ]
      },
      {
       "output_type": "stream",
       "stream": "stdout",
       "text": [
        " \r",
        "[******           17%                  ]  17073 of 100000 complete Elapsed: 5.1 minutes\t Remaining: 24.7 minutes"
       ]
      },
      {
       "output_type": "stream",
       "stream": "stdout",
       "text": [
        " \r",
        "[******           17%                  ]  17152 of 100000 complete Elapsed: 5.1 minutes\t Remaining: 24.6 minutes"
       ]
      },
      {
       "output_type": "stream",
       "stream": "stdout",
       "text": [
        " \r",
        "[******           17%                  ]  17215 of 100000 complete Elapsed: 5.1 minutes\t Remaining: 24.6 minutes"
       ]
      },
      {
       "output_type": "stream",
       "stream": "stdout",
       "text": [
        " \r",
        "[******           17%                  ]  17301 of 100000 complete Elapsed: 5.2 minutes\t Remaining: 24.6 minutes"
       ]
      },
      {
       "output_type": "stream",
       "stream": "stdout",
       "text": [
        " \r",
        "[******           17%                  ]  17395 of 100000 complete Elapsed: 5.2 minutes\t Remaining: 24.6 minutes"
       ]
      },
      {
       "output_type": "stream",
       "stream": "stdout",
       "text": [
        " \r",
        "[******           17%                  ]  17485 of 100000 complete Elapsed: 5.2 minutes\t Remaining: 24.5 minutes"
       ]
      },
      {
       "output_type": "stream",
       "stream": "stdout",
       "text": [
        " \r",
        "[*******          18%                  ]  17566 of 100000 complete Elapsed: 5.2 minutes\t Remaining: 24.5 minutes"
       ]
      },
      {
       "output_type": "stream",
       "stream": "stdout",
       "text": [
        " \r",
        "[*******          18%                  ]  17648 of 100000 complete Elapsed: 5.3 minutes\t Remaining: 24.5 minutes"
       ]
      },
      {
       "output_type": "stream",
       "stream": "stdout",
       "text": [
        " \r",
        "[*******          18%                  ]  17744 of 100000 complete Elapsed: 5.3 minutes\t Remaining: 24.5 minutes"
       ]
      },
      {
       "output_type": "stream",
       "stream": "stdout",
       "text": [
        " \r",
        "[*******          18%                  ]  17850 of 100000 complete Elapsed: 5.3 minutes\t Remaining: 24.4 minutes"
       ]
      },
      {
       "output_type": "stream",
       "stream": "stdout",
       "text": [
        " \r",
        "[*******          18%                  ]  17921 of 100000 complete Elapsed: 5.3 minutes\t Remaining: 24.4 minutes"
       ]
      },
      {
       "output_type": "stream",
       "stream": "stdout",
       "text": [
        " \r",
        "[*******          18%                  ]  18015 of 100000 complete Elapsed: 5.4 minutes\t Remaining: 24.4 minutes"
       ]
      },
      {
       "output_type": "stream",
       "stream": "stdout",
       "text": [
        " \r",
        "[*******          18%                  ]  18081 of 100000 complete Elapsed: 5.4 minutes\t Remaining: 24.4 minutes"
       ]
      },
      {
       "output_type": "stream",
       "stream": "stdout",
       "text": [
        " \r",
        "[*******          18%                  ]  18164 of 100000 complete Elapsed: 5.4 minutes\t Remaining: 24.4 minutes"
       ]
      },
      {
       "output_type": "stream",
       "stream": "stdout",
       "text": [
        " \r",
        "[*******          18%                  ]  18231 of 100000 complete Elapsed: 5.4 minutes\t Remaining: 24.4 minutes"
       ]
      },
      {
       "output_type": "stream",
       "stream": "stdout",
       "text": [
        " \r",
        "[*******          18%                  ]  18320 of 100000 complete Elapsed: 5.5 minutes\t Remaining: 24.3 minutes"
       ]
      },
      {
       "output_type": "stream",
       "stream": "stdout",
       "text": [
        " \r",
        "[*******          18%                  ]  18413 of 100000 complete Elapsed: 5.5 minutes\t Remaining: 24.3 minutes"
       ]
      },
      {
       "output_type": "stream",
       "stream": "stdout",
       "text": [
        " \r",
        "[*******          19%                  ]  18514 of 100000 complete Elapsed: 5.5 minutes\t Remaining: 24.3 minutes"
       ]
      },
      {
       "output_type": "stream",
       "stream": "stdout",
       "text": [
        " \r",
        "[*******          19%                  ]  18590 of 100000 complete Elapsed: 5.5 minutes\t Remaining: 24.2 minutes"
       ]
      },
      {
       "output_type": "stream",
       "stream": "stdout",
       "text": [
        " \r",
        "[*******          19%                  ]  18661 of 100000 complete Elapsed: 5.6 minutes\t Remaining: 24.2 minutes"
       ]
      },
      {
       "output_type": "stream",
       "stream": "stdout",
       "text": [
        " \r",
        "[*******          19%                  ]  18746 of 100000 complete Elapsed: 5.6 minutes\t Remaining: 24.2 minutes"
       ]
      },
      {
       "output_type": "stream",
       "stream": "stdout",
       "text": [
        " \r",
        "[*******          19%                  ]  18823 of 100000 complete Elapsed: 5.6 minutes\t Remaining: 24.2 minutes"
       ]
      },
      {
       "output_type": "stream",
       "stream": "stdout",
       "text": [
        " \r",
        "[*******          19%                  ]  18898 of 100000 complete Elapsed: 5.6 minutes\t Remaining: 24.2 minutes"
       ]
      },
      {
       "output_type": "stream",
       "stream": "stdout",
       "text": [
        " \r",
        "[*******          19%                  ]  18991 of 100000 complete Elapsed: 5.7 minutes\t Remaining: 24.1 minutes"
       ]
      },
      {
       "output_type": "stream",
       "stream": "stdout",
       "text": [
        " \r",
        "[*******          19%                  ]  19063 of 100000 complete Elapsed: 5.7 minutes\t Remaining: 24.1 minutes"
       ]
      },
      {
       "output_type": "stream",
       "stream": "stdout",
       "text": [
        " \r",
        "[*******          19%                  ]  19188 of 100000 complete Elapsed: 5.7 minutes\t Remaining: 24.1 minutes"
       ]
      },
      {
       "output_type": "stream",
       "stream": "stdout",
       "text": [
        " \r",
        "[*******          19%                  ]  19301 of 100000 complete Elapsed: 5.7 minutes\t Remaining: 24.0 minutes"
       ]
      },
      {
       "output_type": "stream",
       "stream": "stdout",
       "text": [
        " \r",
        "[*******          19%                  ]  19406 of 100000 complete Elapsed: 5.8 minutes\t Remaining: 23.9 minutes"
       ]
      },
      {
       "output_type": "stream",
       "stream": "stdout",
       "text": [
        " \r",
        "[********         20%                  ]  19550 of 100000 complete Elapsed: 5.8 minutes\t Remaining: 23.8 minutes"
       ]
      },
      {
       "output_type": "stream",
       "stream": "stdout",
       "text": [
        " \r",
        "[********         20%                  ]  19676 of 100000 complete Elapsed: 5.8 minutes\t Remaining: 23.7 minutes"
       ]
      },
      {
       "output_type": "stream",
       "stream": "stdout",
       "text": [
        " \r",
        "[********         20%                  ]  19783 of 100000 complete Elapsed: 5.8 minutes\t Remaining: 23.7 minutes"
       ]
      },
      {
       "output_type": "stream",
       "stream": "stdout",
       "text": [
        " \r",
        "[********         20%                  ]  19858 of 100000 complete Elapsed: 5.9 minutes\t Remaining: 23.7 minutes"
       ]
      },
      {
       "output_type": "stream",
       "stream": "stdout",
       "text": [
        " \r",
        "[********         20%                  ]  19906 of 100000 complete Elapsed: 5.9 minutes\t Remaining: 23.7 minutes"
       ]
      },
      {
       "output_type": "stream",
       "stream": "stdout",
       "text": [
        " \r",
        "[********         20%                  ]  19969 of 100000 complete Elapsed: 5.9 minutes\t Remaining: 23.7 minutes"
       ]
      },
      {
       "output_type": "stream",
       "stream": "stdout",
       "text": [
        " \r",
        "[********         20%                  ]  20042 of 100000 complete Elapsed: 5.9 minutes\t Remaining: 23.7 minutes"
       ]
      },
      {
       "output_type": "stream",
       "stream": "stdout",
       "text": [
        " \r",
        "[********         20%                  ]  20114 of 100000 complete Elapsed: 6.0 minutes\t Remaining: 23.7 minutes"
       ]
      },
      {
       "output_type": "stream",
       "stream": "stdout",
       "text": [
        " \r",
        "[********         20%                  ]  20220 of 100000 complete Elapsed: 6.0 minutes\t Remaining: 23.6 minutes"
       ]
      },
      {
       "output_type": "stream",
       "stream": "stdout",
       "text": [
        " \r",
        "[********         20%                  ]  20301 of 100000 complete Elapsed: 6.0 minutes\t Remaining: 23.6 minutes"
       ]
      },
      {
       "output_type": "stream",
       "stream": "stdout",
       "text": [
        " \r",
        "[********         20%                  ]  20382 of 100000 complete Elapsed: 6.0 minutes\t Remaining: 23.6 minutes"
       ]
      },
      {
       "output_type": "stream",
       "stream": "stdout",
       "text": [
        " \r",
        "[********         20%                  ]  20462 of 100000 complete Elapsed: 6.1 minutes\t Remaining: 23.6 minutes"
       ]
      },
      {
       "output_type": "stream",
       "stream": "stdout",
       "text": [
        " \r",
        "[********         21%                  ]  20547 of 100000 complete Elapsed: 6.1 minutes\t Remaining: 23.6 minutes"
       ]
      },
      {
       "output_type": "stream",
       "stream": "stdout",
       "text": [
        " \r",
        "[********         21%                  ]  20642 of 100000 complete Elapsed: 6.1 minutes\t Remaining: 23.5 minutes"
       ]
      },
      {
       "output_type": "stream",
       "stream": "stdout",
       "text": [
        " \r",
        "[********         21%                  ]  20727 of 100000 complete Elapsed: 6.1 minutes\t Remaining: 23.5 minutes"
       ]
      },
      {
       "output_type": "stream",
       "stream": "stdout",
       "text": [
        " \r",
        "[********         21%                  ]  20836 of 100000 complete Elapsed: 6.2 minutes\t Remaining: 23.4 minutes"
       ]
      },
      {
       "output_type": "stream",
       "stream": "stdout",
       "text": [
        " \r",
        "[********         21%                  ]  20922 of 100000 complete Elapsed: 6.2 minutes\t Remaining: 23.4 minutes"
       ]
      },
      {
       "output_type": "stream",
       "stream": "stdout",
       "text": [
        " \r",
        "[********         21%                  ]  20996 of 100000 complete Elapsed: 6.2 minutes\t Remaining: 23.4 minutes"
       ]
      },
      {
       "output_type": "stream",
       "stream": "stdout",
       "text": [
        " \r",
        "[********         21%                  ]  21086 of 100000 complete Elapsed: 6.2 minutes\t Remaining: 23.4 minutes"
       ]
      },
      {
       "output_type": "stream",
       "stream": "stdout",
       "text": [
        " \r",
        "[********         21%                  ]  21155 of 100000 complete Elapsed: 6.3 minutes\t Remaining: 23.4 minutes"
       ]
      },
      {
       "output_type": "stream",
       "stream": "stdout",
       "text": [
        " \r",
        "[********         21%                  ]  21239 of 100000 complete Elapsed: 6.3 minutes\t Remaining: 23.4 minutes"
       ]
      },
      {
       "output_type": "stream",
       "stream": "stdout",
       "text": [
        " \r",
        "[********         21%                  ]  21316 of 100000 complete Elapsed: 6.3 minutes\t Remaining: 23.3 minutes"
       ]
      },
      {
       "output_type": "stream",
       "stream": "stdout",
       "text": [
        " \r",
        "[********         21%                  ]  21386 of 100000 complete Elapsed: 6.3 minutes\t Remaining: 23.3 minutes"
       ]
      },
      {
       "output_type": "stream",
       "stream": "stdout",
       "text": [
        " \r",
        "[********         22%                  ]  21517 of 100000 complete Elapsed: 6.4 minutes\t Remaining: 23.3 minutes"
       ]
      },
      {
       "output_type": "stream",
       "stream": "stdout",
       "text": [
        " \r",
        "[********         22%                  ]  21606 of 100000 complete Elapsed: 6.4 minutes\t Remaining: 23.2 minutes"
       ]
      },
      {
       "output_type": "stream",
       "stream": "stdout",
       "text": [
        " \r",
        "[********         22%                  ]  21714 of 100000 complete Elapsed: 6.4 minutes\t Remaining: 23.2 minutes"
       ]
      },
      {
       "output_type": "stream",
       "stream": "stdout",
       "text": [
        " \r",
        "[********         22%                  ]  21828 of 100000 complete Elapsed: 6.5 minutes\t Remaining: 23.1 minutes"
       ]
      },
      {
       "output_type": "stream",
       "stream": "stdout",
       "text": [
        " \r",
        "[********         22%                  ]  21891 of 100000 complete Elapsed: 6.5 minutes\t Remaining: 23.1 minutes"
       ]
      },
      {
       "output_type": "stream",
       "stream": "stdout",
       "text": [
        " \r",
        "[********         22%                  ]  21969 of 100000 complete Elapsed: 6.5 minutes\t Remaining: 23.1 minutes"
       ]
      },
      {
       "output_type": "stream",
       "stream": "stdout",
       "text": [
        " \r",
        "[********         22%                  ]  22047 of 100000 complete Elapsed: 6.5 minutes\t Remaining: 23.1 minutes"
       ]
      },
      {
       "output_type": "stream",
       "stream": "stdout",
       "text": [
        " \r",
        "[********         22%                  ]  22111 of 100000 complete Elapsed: 6.6 minutes\t Remaining: 23.1 minutes"
       ]
      },
      {
       "output_type": "stream",
       "stream": "stdout",
       "text": [
        " \r",
        "[********         22%                  ]  22206 of 100000 complete Elapsed: 6.6 minutes\t Remaining: 23.0 minutes"
       ]
      },
      {
       "output_type": "stream",
       "stream": "stdout",
       "text": [
        " \r",
        "[********         22%                  ]  22293 of 100000 complete Elapsed: 6.6 minutes\t Remaining: 23.0 minutes"
       ]
      },
      {
       "output_type": "stream",
       "stream": "stdout",
       "text": [
        " \r",
        "[********         22%                  ]  22353 of 100000 complete Elapsed: 6.6 minutes\t Remaining: 23.0 minutes"
       ]
      },
      {
       "output_type": "stream",
       "stream": "stdout",
       "text": [
        " \r",
        "[********         22%                  ]  22422 of 100000 complete Elapsed: 6.7 minutes\t Remaining: 23.0 minutes"
       ]
      },
      {
       "output_type": "stream",
       "stream": "stdout",
       "text": [
        " \r",
        "[*********        23%                  ]  22507 of 100000 complete Elapsed: 6.7 minutes\t Remaining: 23.0 minutes"
       ]
      },
      {
       "output_type": "stream",
       "stream": "stdout",
       "text": [
        " \r",
        "[*********        23%                  ]  22593 of 100000 complete Elapsed: 6.7 minutes\t Remaining: 23.0 minutes"
       ]
      },
      {
       "output_type": "stream",
       "stream": "stdout",
       "text": [
        " \r",
        "[*********        23%                  ]  22710 of 100000 complete Elapsed: 6.7 minutes\t Remaining: 22.9 minutes"
       ]
      },
      {
       "output_type": "stream",
       "stream": "stdout",
       "text": [
        " \r",
        "[*********        23%                  ]  22793 of 100000 complete Elapsed: 6.8 minutes\t Remaining: 22.9 minutes"
       ]
      },
      {
       "output_type": "stream",
       "stream": "stdout",
       "text": [
        " \r",
        "[*********        23%                  ]  22854 of 100000 complete Elapsed: 6.8 minutes\t Remaining: 22.9 minutes"
       ]
      },
      {
       "output_type": "stream",
       "stream": "stdout",
       "text": [
        " \r",
        "[*********        23%                  ]  22938 of 100000 complete Elapsed: 6.8 minutes\t Remaining: 22.9 minutes"
       ]
      },
      {
       "output_type": "stream",
       "stream": "stdout",
       "text": [
        " \r",
        "[*********        23%                  ]  23009 of 100000 complete Elapsed: 6.8 minutes\t Remaining: 22.9 minutes"
       ]
      },
      {
       "ename": "KeyboardInterrupt",
       "evalue": "",
       "output_type": "pyerr",
       "traceback": [
        "\u001b[1;31m---------------------------------------------------------------------------\u001b[0m\n\u001b[1;31mKeyboardInterrupt\u001b[0m                         Traceback (most recent call last)",
        "\u001b[1;32m<ipython-input-163-3175bcbbeaa7>\u001b[0m in \u001b[0;36m<module>\u001b[1;34m()\u001b[0m\n\u001b[0;32m     49\u001b[0m                     \u001b[1;32mif\u001b[0m \u001b[0medge_weight\u001b[0m \u001b[1;33m!=\u001b[0m \u001b[1;36m0\u001b[0m\u001b[1;33m:\u001b[0m\u001b[1;33m\u001b[0m\u001b[0m\n\u001b[0;32m     50\u001b[0m                         \u001b[0medge_weight\u001b[0m \u001b[1;33m+=\u001b[0m \u001b[0mgraph_obj\u001b[0m\u001b[1;33m[\u001b[0m\u001b[0msid\u001b[0m\u001b[1;33m]\u001b[0m\u001b[1;33m[\u001b[0m\u001b[0mssid\u001b[0m\u001b[1;33m]\u001b[0m\u001b[1;33m[\u001b[0m\u001b[1;34m'weight'\u001b[0m\u001b[1;33m]\u001b[0m\u001b[1;33m\u001b[0m\u001b[0m\n\u001b[1;32m---> 51\u001b[1;33m                         \u001b[0mgraph_obj\u001b[0m\u001b[1;33m.\u001b[0m\u001b[0madd_edge\u001b[0m\u001b[1;33m(\u001b[0m\u001b[0msid\u001b[0m\u001b[1;33m,\u001b[0m \u001b[0mssid\u001b[0m\u001b[1;33m,\u001b[0m \u001b[0mweight\u001b[0m\u001b[1;33m=\u001b[0m\u001b[0medge_weight\u001b[0m\u001b[1;33m)\u001b[0m \u001b[1;31m#update\u001b[0m\u001b[1;33m\u001b[0m\u001b[0m\n\u001b[0m\u001b[0;32m     52\u001b[0m     \u001b[0mcount\u001b[0m \u001b[1;33m+=\u001b[0m \u001b[1;36m1\u001b[0m\u001b[1;33m\u001b[0m\u001b[0m\n\u001b[0;32m     53\u001b[0m     \u001b[1;32mif\u001b[0m \u001b[0mcount\u001b[0m \u001b[1;33m>=\u001b[0m \u001b[1;36m100000\u001b[0m\u001b[1;33m:\u001b[0m\u001b[1;33m\u001b[0m\u001b[0m\n",
        "\u001b[1;31mKeyboardInterrupt\u001b[0m: "
       ]
      }
     ],
     "prompt_number": 163
    },
    {
     "cell_type": "code",
     "collapsed": false,
     "input": [
      "plt.figure(figsize=(25, 20))\n",
      "np.random.seed(5)\n",
      "mst = nx.minimum_spanning_tree(graph_obj, weight='weight')\n",
      "pos = nx.spring_layout(mst, iterations=500, k=0.02, weight='weight')\n",
      "\n",
      "mst_edges = list(nx.minimum_spanning_edges(graph_obj, weight='weight'))\n",
      "\n",
      "nl = graph_obj.nodes()\n",
      "c = [graph_obj.node[n]['color'] for n in nl]\n",
      "nx.draw_networkx_edges(graph_obj, pos, edgelist=mst_edges, alpha=.2)\n",
      "nx.draw_networkx_nodes(graph_obj, pos, nodelist = nl, node_color = c, node_size=60)\n",
      "\n",
      "for p in pos.values():\n",
      "    p[1] += .02\n",
      "    \n",
      "nx.draw_networkx_labels(graph_obj, pos, font_color='k', font_size=9)\n",
      "\n",
      "plt.title(\"MST of SNP Disagreement\", fontsize=18)\n",
      "plt.xticks([])\n",
      "plt.yticks([])\n",
      "remove_border(left=False, bottom=False)"
     ],
     "language": "python",
     "metadata": {},
     "outputs": [
      {
       "metadata": {},
       "output_type": "display_data",
       "png": "[encoded data removed]",
       "text": [
        "<matplotlib.figure.Figure at 0x5fca710>"
       ]
      }
     ],
     "prompt_number": 166
    }
   ],
   "metadata": {}
  }
 ]
}