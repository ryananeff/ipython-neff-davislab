{
 "metadata": {
  "name": ""
 },
 "nbformat": 3,
 "nbformat_minor": 0,
 "worksheets": [
  {
   "cells": [
    {
     "cell_type": "code",
     "collapsed": false,
     "input": [
      "# Imports / style (run this first always)\n",
      "\n",
      "%matplotlib inline\n",
      "from collections import defaultdict\n",
      "import json\n",
      "import sys\n",
      "import time\n",
      "\n",
      "import numpy as np\n",
      "import scipy as sp\n",
      "import matplotlib.pyplot as plt\n",
      "import pandas as pd\n",
      "\n",
      "from matplotlib import rcParams\n",
      "import matplotlib.cm as cm\n",
      "import matplotlib as mpl\n",
      "\n",
      "class AwesomeError(Exception):\n",
      "     def __init__(self, value):\n",
      "         self.value = value\n",
      "         pass\n",
      "     def __str__(self):\n",
      "         return repr(self.value)\n",
      "         pass\n",
      "\n",
      "#colorbrewer2 Dark2 qualitative color table\n",
      "dark2_colors = [(0.10588235294117647, 0.6196078431372549, 0.4666666666666667),\n",
      "                (0.8509803921568627, 0.37254901960784315, 0.00784313725490196),\n",
      "                (0.4588235294117647, 0.4392156862745098, 0.7019607843137254),\n",
      "                (0.9058823529411765, 0.1607843137254902, 0.5411764705882353),\n",
      "                (0.4, 0.6509803921568628, 0.11764705882352941),\n",
      "                (0.9019607843137255, 0.6705882352941176, 0.00784313725490196),\n",
      "                (0.6509803921568628, 0.4627450980392157, 0.11372549019607843)]\n",
      "\n",
      "rcParams['figure.figsize'] = (10, 6)\n",
      "rcParams['figure.dpi'] = 150\n",
      "rcParams['axes.color_cycle'] = dark2_colors\n",
      "rcParams['lines.linewidth'] = 2\n",
      "rcParams['axes.facecolor'] = 'white'\n",
      "rcParams['font.size'] = 14\n",
      "rcParams['patch.edgecolor'] = 'white'\n",
      "rcParams['patch.facecolor'] = dark2_colors[0]\n",
      "rcParams['font.family'] = 'StixGeneral'\n",
      "\n",
      "\n",
      "def remove_border(axes=None, top=False, right=False, left=True, bottom=True):\n",
      "    \"\"\"\n",
      "    Minimize chartjunk by stripping out unnecesasry plot borders and axis ticks\n",
      "    \n",
      "    The top/right/left/bottom keywords toggle whether the corresponding plot border is drawn\n",
      "    \"\"\"\n",
      "    ax = axes or plt.gca()\n",
      "    ax.spines['top'].set_visible(top)\n",
      "    ax.spines['right'].set_visible(right)\n",
      "    ax.spines['left'].set_visible(left)\n",
      "    ax.spines['bottom'].set_visible(bottom)\n",
      "    \n",
      "    #turn off all ticks\n",
      "    ax.yaxis.set_ticks_position('none')\n",
      "    ax.xaxis.set_ticks_position('none')\n",
      "    \n",
      "    #now re-enable visibles\n",
      "    if top:\n",
      "        ax.xaxis.tick_top()\n",
      "    if bottom:\n",
      "        ax.xaxis.tick_bottom()\n",
      "    if left:\n",
      "        ax.yaxis.tick_left()\n",
      "    if right:\n",
      "        ax.yaxis.tick_right()\n",
      "        \n",
      "pd.set_option('display.width', 500)\n",
      "pd.set_option('display.max_columns', 100)\n",
      "\n",
      "import Bio as bp\n",
      "from Bio.Sequencing.Applications import BwaAlignCommandline as bwa_aln\n",
      "from Bio.Sequencing.Applications import BwaSamseCommandline as bwa_samse\n",
      "from Bio.Sequencing.Applications import BwaSampeCommandline as bwa_sampe\n",
      "from Bio.Sequencing.Applications import BwaIndexCommandline as bwa_index\n",
      "from Bio.Sequencing.Applications import BwaBwaswCommandline as bwa_bwasw\n",
      "import HTSeq as ht\n",
      "import subprocess"
     ],
     "language": "python",
     "metadata": {},
     "outputs": [],
     "prompt_number": 42
    },
    {
     "cell_type": "code",
     "collapsed": false,
     "input": [
      "profile=\"default\" # \"wakari\" will use ssh to remote nodes - change to \"default\" if necessary\n",
      "\n",
      "from IPython.parallel import *\n",
      "\n",
      "client = Client(profile=profile)\n",
      "\n",
      "balanced       = client.load_balanced_view()\n",
      "direct         = client[:]\n",
      "\n",
      "balanced.block = False\n",
      "direct.block   = True\n",
      "\n",
      "with direct.sync_imports():\n",
      "    from collections import defaultdict\n",
      "    import json\n",
      "    import sys\n",
      "    \n",
      "    import numpy as np\n",
      "    import scipy as sp\n",
      "    import matplotlib.pyplot as plt\n",
      "    import pandas as pd\n",
      "    \n",
      "    from matplotlib import rcParams\n",
      "    import matplotlib.cm as cm\n",
      "    import matplotlib as mpl\n",
      "    import Bio as bp\n",
      "    import HTSeq as ht"
     ],
     "language": "python",
     "metadata": {},
     "outputs": [
      {
       "output_type": "stream",
       "stream": "stdout",
       "text": [
        "importing defaultdict from collections on engine(s)\n",
        "importing json on engine(s)\n",
        "importing sys on engine(s)\n",
        "importing numpy on engine(s)\n",
        "importing scipy on engine(s)"
       ]
      },
      {
       "output_type": "stream",
       "stream": "stdout",
       "text": [
        "\n",
        "importing matplotlib.pyplot on engine(s)\n",
        "importing pandas on engine(s)\n",
        "importing rcParams from matplotlib on engine(s)\n",
        "importing matplotlib.cm on engine(s)"
       ]
      },
      {
       "output_type": "stream",
       "stream": "stdout",
       "text": [
        "\n",
        "importing matplotlib on engine(s)\n",
        "importing Bio on engine(s)\n",
        "importing HTSeq on engine(s)\n"
       ]
      }
     ],
     "prompt_number": 43
    },
    {
     "cell_type": "code",
     "collapsed": false,
     "input": [
      "#vcf_f = '/home/neffra/1000g/SRR701464_hg19_snps.raw.vcf_no_header.vcf'\n",
      "#vcf_csv = pd.read_csv(vcf_f, header=None, sep='\\t')\n",
      "generateChaosVCF(vcf_f)"
     ],
     "language": "python",
     "metadata": {},
     "outputs": [
      {
       "ename": "KeyboardInterrupt",
       "evalue": "",
       "output_type": "pyerr",
       "traceback": [
        "\u001b[1;31m---------------------------------------------------------------------------\u001b[0m\n\u001b[1;31mKeyboardInterrupt\u001b[0m                         Traceback (most recent call last)",
        "\u001b[1;32m<ipython-input-37-573d33417591>\u001b[0m in \u001b[0;36m<module>\u001b[1;34m()\u001b[0m\n\u001b[0;32m      1\u001b[0m \u001b[1;31m#vcf_f = '/home/neffra/1000g/SRR701464_hg19_snps.raw.vcf_no_header.vcf'\u001b[0m\u001b[1;33m\u001b[0m\u001b[1;33m\u001b[0m\u001b[0m\n\u001b[0;32m      2\u001b[0m \u001b[1;31m#vcf_csv = pd.read_csv(vcf_f, header=None, sep='\\t')\u001b[0m\u001b[1;33m\u001b[0m\u001b[1;33m\u001b[0m\u001b[0m\n\u001b[1;32m----> 3\u001b[1;33m \u001b[0mgenerateChaosVCF\u001b[0m\u001b[1;33m(\u001b[0m\u001b[0mvcf_f\u001b[0m\u001b[1;33m)\u001b[0m\u001b[1;33m\u001b[0m\u001b[0m\n\u001b[0m",
        "\u001b[1;32m<ipython-input-36-c067bfcc2996>\u001b[0m in \u001b[0;36mgenerateChaosVCF\u001b[1;34m(vcf_f)\u001b[0m\n\u001b[0;32m      7\u001b[0m     \u001b[0mfp\u001b[0m \u001b[1;33m=\u001b[0m \u001b[0mopen\u001b[0m\u001b[1;33m(\u001b[0m\u001b[0mout_f\u001b[0m\u001b[1;33m,\u001b[0m \u001b[1;34m'w'\u001b[0m\u001b[1;33m)\u001b[0m\u001b[1;33m\u001b[0m\u001b[0m\n\u001b[0;32m      8\u001b[0m     \u001b[1;32mfor\u001b[0m \u001b[0mline\u001b[0m \u001b[1;32min\u001b[0m \u001b[0mvcf_csv\u001b[0m\u001b[1;33m.\u001b[0m\u001b[0miterrows\u001b[0m\u001b[1;33m(\u001b[0m\u001b[1;33m)\u001b[0m\u001b[1;33m:\u001b[0m\u001b[1;33m\u001b[0m\u001b[0m\n\u001b[1;32m----> 9\u001b[1;33m         \u001b[0mline\u001b[0m \u001b[1;33m=\u001b[0m \u001b[1;33m[\u001b[0m\u001b[0mstr\u001b[0m\u001b[1;33m(\u001b[0m\u001b[0mi\u001b[0m\u001b[1;33m)\u001b[0m \u001b[1;32mfor\u001b[0m \u001b[0mi\u001b[0m \u001b[1;32min\u001b[0m \u001b[0mlist\u001b[0m\u001b[1;33m(\u001b[0m\u001b[0mline\u001b[0m\u001b[1;33m[\u001b[0m\u001b[1;36m1\u001b[0m\u001b[1;33m]\u001b[0m\u001b[1;33m)\u001b[0m\u001b[1;33m]\u001b[0m\u001b[1;33m\u001b[0m\u001b[0m\n\u001b[0m\u001b[0;32m     10\u001b[0m         \u001b[0mrandnum\u001b[0m \u001b[1;33m=\u001b[0m \u001b[0mrandom\u001b[0m\u001b[1;33m.\u001b[0m\u001b[0mrandom\u001b[0m\u001b[1;33m(\u001b[0m\u001b[1;33m)\u001b[0m\u001b[1;33m*\u001b[0m\u001b[1;36m100000\u001b[0m\u001b[1;33m\u001b[0m\u001b[0m\n\u001b[0;32m     11\u001b[0m         \u001b[1;32mif\u001b[0m \u001b[0mrandnum\u001b[0m \u001b[1;33m<=\u001b[0m \u001b[1;36m1\u001b[0m\u001b[1;33m:\u001b[0m\u001b[1;33m\u001b[0m\u001b[0m\n",
        "\u001b[1;31mKeyboardInterrupt\u001b[0m: "
       ]
      }
     ],
     "prompt_number": 37
    },
    {
     "cell_type": "code",
     "collapsed": false,
     "input": [
      "for line in vcf_csv.iterrows():\n",
      "    print '\\t'.join([str(i) for i in list(line[1])])\n",
      "    break"
     ],
     "language": "python",
     "metadata": {},
     "outputs": [
      {
       "output_type": "stream",
       "stream": "stdout",
       "text": [
        "chr1\t10109\t.\tA\tT\t141.77\t.\tAC=1;AF=0.500;AN=2;BaseQRankSum=-0.281;DP=155;Dels=0.01;FS=3.982;HaplotypeScore=16.7294;MLEAC=1;MLEAF=0.500;MQ=19.97;MQ0=35;MQRankSum=-2.018;QD=0.91;ReadPosRankSum=0.404\tGT:AD:DP:GQ:PL\t0/1:125,24:154:99:170,0,349\n"
       ]
      }
     ],
     "prompt_number": 10
    },
    {
     "cell_type": "code",
     "collapsed": false,
     "input": [
      "import random\n",
      "random.random()"
     ],
     "language": "python",
     "metadata": {},
     "outputs": [
      {
       "metadata": {},
       "output_type": "pyout",
       "prompt_number": 33,
       "text": [
        "0.48450187763719677"
       ]
      }
     ],
     "prompt_number": 33
    },
    {
     "cell_type": "code",
     "collapsed": false,
     "input": [
      "def generateChaosVCF(vcf_f):\n",
      "    import pandas as pd\n",
      "    import numpy as np\n",
      "    import random\n",
      "    df = pd.read_csv(vcf_f, header=None, sep='\\t')\n",
      "    df2 = df.reindex(np.random.permutation(df.index))\n",
      "    out_f = vcf_f + \"_test.vcf\"\n",
      "    fp = open(out_f, 'w')\n",
      "    for line in df2.iterrows():\n",
      "        line = [str(i) for i in list(line[1])]\n",
      "        randnum = random.random()*100000\n",
      "        if randnum <= 1:\n",
      "            colmn = int(random.random()*9)\n",
      "            line[colmn] = str(line[colmn]).encode('utf8') + u'\u0394'\n",
      "        if randnum <= 11:\n",
      "            line[3] = '<DEL>'\n",
      "            str_out = '\\t'.join(line)\n",
      "        elif randnum <= 19:\n",
      "            str_out = '\\t'.join(line)\n",
      "        elif randnum <= 37:\n",
      "            line[4] = '<DEL>'\n",
      "            str_out = '\\t'.join(line)\n",
      "        else:\n",
      "            str_out = '\\t'.join(line)\n",
      "        fp.write(str_out.encode('utf8') + '\\n')\n",
      "    fp.close()"
     ],
     "language": "python",
     "metadata": {},
     "outputs": [],
     "prompt_number": 44
    },
    {
     "cell_type": "code",
     "collapsed": false,
     "input": [
      "final_files = subprocess.check_output(\"ls ~/1000g/*hg19*r.vcf\", shell=True).split('\\n')[0:-1]\n",
      "balanced.block=False\n",
      "pid_array = []\n",
      "for file_v in final_files:\n",
      "    pid_array.append(balanced.apply_async(generateChaosVCF, file_v))\n",
      "    print file_v + \" sent to balanced procs.\""
     ],
     "language": "python",
     "metadata": {},
     "outputs": [
      {
       "output_type": "stream",
       "stream": "stdout",
       "text": [
        "/home/neffra/1000g/ERR229818_hg19_snps.raw.vcf_no_header.vcf sent to balanced procs.\n",
        "/home/neffra/1000g/ERR229819_hg19_snps.raw.vcf_no_header.vcf sent to balanced procs.\n",
        "/home/neffra/1000g/ERR251651_hg19_snps.raw.vcf_no_header.vcf sent to balanced procs.\n",
        "/home/neffra/1000g/ERR251653_hg19_snps.raw.vcf_no_header.vcf sent to balanced procs.\n",
        "/home/neffra/1000g/ERR251654_hg19_snps.raw.vcf_no_header.vcf sent to balanced procs.\n",
        "/home/neffra/1000g/ERR251655_hg19_snps.raw.vcf_no_header.vcf sent to balanced procs.\n",
        "/home/neffra/1000g/ERR251656_hg19_snps.raw.vcf_no_header.vcf sent to balanced procs.\n",
        "/home/neffra/1000g/ERR251657_hg19_snps.raw.vcf_no_header.vcf sent to balanced procs.\n",
        "/home/neffra/1000g/ERR251658_hg19_snps.raw.vcf_no_header.vcf sent to balanced procs.\n",
        "/home/neffra/1000g/ERR251659_hg19_snps.raw.vcf_no_header.vcf sent to balanced procs.\n",
        "/home/neffra/1000g/ERR251660_hg19_snps.raw.vcf_no_header.vcf sent to balanced procs.\n",
        "/home/neffra/1000g/ERR251661_hg19_snps.raw.vcf_no_header.vcf sent to balanced procs.\n",
        "/home/neffra/1000g/ERR251662_hg19_snps.raw.vcf_no_header.vcf sent to balanced procs.\n",
        "/home/neffra/1000g/ERR257982_hg19_snps.raw.vcf_no_header.vcf sent to balanced procs.\n",
        "/home/neffra/1000g/SRR701464_hg19_snps.raw.vcf_no_header.vcf sent to balanced procs.\n",
        "/home/neffra/1000g/SRR701465_hg19_snps.raw.vcf_no_header.vcf sent to balanced procs.\n",
        "/home/neffra/1000g/SRR707180_hg19_snps.raw.vcf_no_header.vcf sent to balanced procs.\n",
        "/home/neffra/1000g/SRR707181_hg19_snps.raw.vcf_no_header.vcf sent to balanced procs.\n",
        "/home/neffra/1000g/SRR768139_hg19_snps.raw.vcf_no_header.vcf sent to balanced procs.\n",
        "/home/neffra/1000g/SRR768140_hg19_snps.raw.vcf_no_header.vcf sent to balanced procs.\n",
        "/home/neffra/1000g/SRR768141_hg19_snps.raw.vcf_no_header.vcf sent to balanced procs.\n",
        "/home/neffra/1000g/SRR768142_hg19_snps.raw.vcf_no_header.vcf sent to balanced procs.\n",
        "/home/neffra/1000g/SRR768208_hg19_snps.raw.vcf_no_header.vcf sent to balanced procs.\n",
        "/home/neffra/1000g/SRR768209_hg19_snps.raw.vcf_no_header.vcf sent to balanced procs.\n",
        "/home/neffra/1000g/SRR768210_hg19_snps.raw.vcf_no_header.vcf sent to balanced procs.\n",
        "/home/neffra/1000g/SRR768211_hg19_snps.raw.vcf_no_header.vcf sent to balanced procs.\n",
        "/home/neffra/1000g/SRR768212_hg19_snps.raw.vcf_no_header.vcf sent to balanced procs.\n"
       ]
      }
     ],
     "prompt_number": 45
    },
    {
     "cell_type": "code",
     "collapsed": false,
     "input": [
      "pid_array[0].result"
     ],
     "language": "python",
     "metadata": {},
     "outputs": [
      {
       "ename": "RemoteError",
       "evalue": "TypeError('module' object is not callable)",
       "output_type": "pyerr",
       "traceback": [
        "\u001b[1;31m---------------------------------------------------------------------------\u001b[0m",
        "\u001b[1;31mTypeError\u001b[0m                                 Traceback (most recent call last)\u001b[1;32m<string>\u001b[0m in \u001b[0;36m<module>\u001b[1;34m()\u001b[0m",
        "\u001b[1;32m<ipython-input-15-e3324ebbeb5f>\u001b[0m in \u001b[0;36mgenerateChaosVCF\u001b[1;34m(vcf_f)\u001b[0m",
        "\u001b[1;31mTypeError\u001b[0m: 'module' object is not callable"
       ]
      }
     ],
     "prompt_number": 18
    },
    {
     "cell_type": "code",
     "collapsed": false,
     "input": [
      "testpd = pd.read_csv('/home/neffra/1000g/SRR768212_hg19_snps.raw.vcf_no_header.vcf_test.vcf', header=None, sep='\\t')"
     ],
     "language": "python",
     "metadata": {},
     "outputs": [
      {
       "output_type": "stream",
       "stream": "stderr",
       "text": [
        "/home/neffra/anaconda/lib/python2.7/site-packages/pandas/io/parsers.py:1070: DtypeWarning: Columns (1,5) have mixed types. Specify dtype option on import or set low_memory=False.\n",
        "  data = self._reader.read(nrows)\n"
       ]
      }
     ],
     "prompt_number": 46
    },
    {
     "cell_type": "code",
     "collapsed": false,
     "input": [
      "# flip bases\n",
      "for line in p:\n",
      "    tmp = testpd.iloc[line][3]\n",
      "    testpd.iloc[line][3] = testpd.iloc[line][4]\n",
      "    testpd.iloc[line][4] = tmp"
     ],
     "language": "python",
     "metadata": {},
     "outputs": [],
     "prompt_number": 58
    },
    {
     "cell_type": "code",
     "collapsed": false,
     "input": [
      "# set both bases equal\n",
      "for line in p:\n",
      "    testpd.iloc[line][3] = testpd.iloc[line][4]"
     ],
     "language": "python",
     "metadata": {},
     "outputs": [],
     "prompt_number": 57
    },
    {
     "cell_type": "code",
     "collapsed": false,
     "input": [
      "p = [int(random.random()*len(testpd)) for i in range(1,31247)]"
     ],
     "language": "python",
     "metadata": {},
     "outputs": [],
     "prompt_number": 50
    },
    {
     "cell_type": "code",
     "collapsed": false,
     "input": [
      "testpd.to_csv('testvcf_chaos.vcf', encoding='utf-8', sep='\\t', header=None)"
     ],
     "language": "python",
     "metadata": {},
     "outputs": [],
     "prompt_number": 59
    },
    {
     "cell_type": "code",
     "collapsed": false,
     "input": [
      "def moreChaos(test_f):\n",
      "    import pandas as pd\n",
      "    import numpy as np\n",
      "    import random\n",
      "    testpd = pd.read_csv(test_f, header=None, sep='\\t')\n",
      "    p = [int(random.random()*len(testpd)) for i in range(1,int(random.random()*5000))]\n",
      "    # set both bases equal\n",
      "    for line in p:\n",
      "        testpd.iloc[line][3] = testpd.iloc[line][4]\n",
      "    p = [int(random.random()*len(testpd)) for i in range(1,int(random.random()*50000))]\n",
      "    # flip bases\n",
      "    for line in p:\n",
      "        tmp = testpd.iloc[line][3]\n",
      "        testpd.iloc[line][3] = testpd.iloc[line][4]\n",
      "        testpd.iloc[line][4] = tmp\n",
      "    testpd.to_csv(test_f + '_more.vcf', encoding='utf-8', sep='\\t', header=None)"
     ],
     "language": "python",
     "metadata": {},
     "outputs": [],
     "prompt_number": 61
    },
    {
     "cell_type": "code",
     "collapsed": false,
     "input": [
      "final_files = subprocess.check_output(\"ls ~/1000g/*_test.vcf\", shell=True).split('\\n')[0:-1]\n",
      "balanced.block=False\n",
      "pid_array = []\n",
      "for file_v in final_files:\n",
      "    pid_array.append(balanced.apply_async(moreChaos, file_v))\n",
      "    print file_v + \" sent to balanced procs.\""
     ],
     "language": "python",
     "metadata": {},
     "outputs": [
      {
       "output_type": "stream",
       "stream": "stdout",
       "text": [
        "/home/neffra/1000g/ERR229818_hg19_snps.raw.vcf_no_header.vcf_test.vcf sent to balanced procs.\n",
        "/home/neffra/1000g/ERR229819_hg19_snps.raw.vcf_no_header.vcf_test.vcf sent to balanced procs.\n",
        "/home/neffra/1000g/ERR251651_hg19_snps.raw.vcf_no_header.vcf_test.vcf sent to balanced procs.\n",
        "/home/neffra/1000g/ERR251653_hg19_snps.raw.vcf_no_header.vcf_test.vcf sent to balanced procs.\n",
        "/home/neffra/1000g/ERR251654_hg19_snps.raw.vcf_no_header.vcf_test.vcf sent to balanced procs.\n",
        "/home/neffra/1000g/ERR251655_hg19_snps.raw.vcf_no_header.vcf_test.vcf sent to balanced procs.\n",
        "/home/neffra/1000g/ERR251656_hg19_snps.raw.vcf_no_header.vcf_test.vcf sent to balanced procs.\n",
        "/home/neffra/1000g/ERR251657_hg19_snps.raw.vcf_no_header.vcf_test.vcf sent to balanced procs.\n",
        "/home/neffra/1000g/ERR251658_hg19_snps.raw.vcf_no_header.vcf_test.vcf sent to balanced procs.\n",
        "/home/neffra/1000g/ERR251659_hg19_snps.raw.vcf_no_header.vcf_test.vcf sent to balanced procs.\n",
        "/home/neffra/1000g/ERR251660_hg19_snps.raw.vcf_no_header.vcf_test.vcf sent to balanced procs.\n",
        "/home/neffra/1000g/ERR251661_hg19_snps.raw.vcf_no_header.vcf_test.vcf sent to balanced procs.\n",
        "/home/neffra/1000g/ERR251662_hg19_snps.raw.vcf_no_header.vcf_test.vcf sent to balanced procs.\n",
        "/home/neffra/1000g/ERR257982_hg19_snps.raw.vcf_no_header.vcf_test.vcf sent to balanced procs.\n",
        "/home/neffra/1000g/SRR701464_hg19_snps.raw.vcf_no_header.vcf_test.vcf sent to balanced procs.\n",
        "/home/neffra/1000g/SRR701465_hg19_snps.raw.vcf_no_header.vcf_test.vcf sent to balanced procs.\n",
        "/home/neffra/1000g/SRR707180_hg19_snps.raw.vcf_no_header.vcf_test.vcf sent to balanced procs.\n",
        "/home/neffra/1000g/SRR707181_hg19_snps.raw.vcf_no_header.vcf_test.vcf sent to balanced procs.\n",
        "/home/neffra/1000g/SRR768139_hg19_snps.raw.vcf_no_header.vcf_test.vcf sent to balanced procs.\n",
        "/home/neffra/1000g/SRR768140_hg19_snps.raw.vcf_no_header.vcf_test.vcf sent to balanced procs.\n",
        "/home/neffra/1000g/SRR768141_hg19_snps.raw.vcf_no_header.vcf_test.vcf sent to balanced procs.\n",
        "/home/neffra/1000g/SRR768142_hg19_snps.raw.vcf_no_header.vcf_test.vcf sent to balanced procs.\n",
        "/home/neffra/1000g/SRR768208_hg19_snps.raw.vcf_no_header.vcf_test.vcf sent to balanced procs.\n",
        "/home/neffra/1000g/SRR768209_hg19_snps.raw.vcf_no_header.vcf_test.vcf sent to balanced procs.\n",
        "/home/neffra/1000g/SRR768210_hg19_snps.raw.vcf_no_header.vcf_test.vcf sent to balanced procs.\n",
        "/home/neffra/1000g/SRR768211_hg19_snps.raw.vcf_no_header.vcf_test.vcf sent to balanced procs.\n",
        "/home/neffra/1000g/SRR768212_hg19_snps.raw.vcf_no_header.vcf_test.vcf sent to balanced procs.\n"
       ]
      }
     ],
     "prompt_number": 62
    }
   ],
   "metadata": {}
  }
 ]
}