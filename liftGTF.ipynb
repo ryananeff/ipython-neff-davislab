{
 "metadata": {
  "name": ""
 },
 "nbformat": 3,
 "nbformat_minor": 0,
 "worksheets": [
  {
   "cells": [
    {
     "cell_type": "code",
     "collapsed": false,
     "input": [
      "# sets up the environment - use everytime\n",
      "%matplotlib inline\n",
      "%run ipy_setup.py\n",
      "rcParams['figure.figsize'] = (30, 10)\n",
      "rcParams['patch.edgecolor'] = 'blue'\n",
      "rcParams['figure.dpi'] = 300\n",
      "rcParams['font.size'] = 14\n",
      "rcParams['font.family'] = 'sans-serif'"
     ],
     "language": "python",
     "metadata": {},
     "outputs": [],
     "prompt_number": 1
    },
    {
     "cell_type": "code",
     "collapsed": false,
     "input": [
      "def liftoverVCF(ref_vcf, liftover_file, out_file, reverse=False): # this goes from hg## --> AFRG1 direction\n",
      "    outarr = []\n",
      "    num = subprocess.check_output('head -n 1000 ' + ref_vcf + ' | grep \"#\" | wc -l', shell=True)\n",
      "    vcffile = pd.read_csv(ref_vcf, header=None, sep='\\t', skiprows=int(num))\n",
      "    \n",
      "    colnames=['chain','score','ref_chr','ref_len','ref_misc','ref_start','ref_end',\n",
      "              'alt_chr','alt_len','alt_misc','alt_start','alt_end']\n",
      "    \n",
      "    chr_names=[\"chr1\",\"chr2\",\"chr3\",\"chr4\",\"chr5\",\"chr6\",\"chr7\",\"chr8\",\"chr9\",\"chr10\",\"chr11\",\"chr12\",\"chr13\",\n",
      "               \"chr14\",\"chr15\",\"chr16\",\"chr17\",\"chr18\",\"chr19\",\"chr20\",\"chr21\",\"chr22\",\"chrX\",\"chrY\"]\n",
      "    \n",
      "    liftover = pd.read_csv(liftover_file,sep='\\t',header=None, \n",
      "                       names=colnames)\n",
      "    liftover.set_index(['ref_chr', 'ref_start', 'ref_end'], inplace=True)\n",
      "    \n",
      "    # now that we're init'd, let's start\n",
      "    pbar = ProgressBar(len(vcffile))\n",
      "    for chrom in chr_names:\n",
      "        last_pos = 0\n",
      "        tmp = vcffile[vcffile[0]==chrom]\n",
      "        for a,line in tmp.iterrows():\n",
      "            pbar.animate()\n",
      "            outline = line\n",
      "            pos = lift_master(line[1], liftover, chrom, reverse)\n",
      "            if pos != None:\n",
      "                if last_pos < pos:\n",
      "                    last_pos = pos\n",
      "                    outline[1] = pos\n",
      "                    outarr.append(outline)\n",
      "                else:\n",
      "                    sys.stderr.write('WARN: pos ' + str(pos) + ' is less than or equal to last_pos ' + str(last_pos) + '\\n')\n",
      "                    sys.stderr.flush()\n",
      "    outarr = pd.DataFrame(outarr)\n",
      "    outarr.to_csv(out_file, header=None, sep='\\t', index=None) # and we're done!        "
     ],
     "language": "python",
     "metadata": {},
     "outputs": [],
     "prompt_number": 2
    },
    {
     "cell_type": "code",
     "collapsed": false,
     "input": [
      "lifttable = ''\n",
      "last_chr = ''\n",
      "lift_til = 0\n",
      "delta = 0\n",
      "    \n",
      "# this is the code to make liftovers work going in the hg## --> AFRG1 direction\n",
      "def lift_master(ref_pos, liftover, chrom, reverse):\n",
      "    global lifttable\n",
      "    global start_idx\n",
      "    global end_idx\n",
      "    global last_chr\n",
      "    global lift_til\n",
      "    global delta\n",
      "    if reverse==False:\n",
      "        if last_chr != chrom:\n",
      "            # this is where we subset the liftover array\n",
      "            lifttable = liftover.loc[chrom]\n",
      "            start_idx = lifttable.index.get_level_values('ref_start')\n",
      "            end_idx = lifttable.index.get_level_values('ref_end')\n",
      "            last_chr = chrom\n",
      "            delta = 0\n",
      "        if ref_pos > lift_til: # check if cached?\n",
      "            try:\n",
      "                delta, lift_til = liftdelta(ref_pos, lifttable, start_idx, end_idx, reverse) # converts position into alt ref pos\n",
      "            except:\n",
      "                return None\n",
      "    elif reverse==True:\n",
      "        if last_chr != chrom:\n",
      "            # this is where we subset the liftover array\n",
      "            lifttable = liftover.loc[chrom]\n",
      "            start_idx = lifttable.index.get_level_values('alt_start')\n",
      "            end_idx = lifttable.index.get_level_values('alt_end')\n",
      "            last_chr = chrom\n",
      "        if ref_pos > lift_til: # check if cached?\n",
      "            try:\n",
      "                delta, lift_til = liftdelta(ref_pos, lifttable, reverse) # converts position into alt ref pos\n",
      "            except:\n",
      "                return None\n",
      "    else:\n",
      "        assert False, \"unhandled command\"\n",
      "    return ref_pos + delta\n",
      "    \n",
      "\n",
      "def liftdelta(pos, liftover, start_idx, end_idx, reverse):\n",
      "    match = liftover.loc[(start_idx <= pos) & (end_idx > pos)].reset_index().irow(0)\n",
      "    if reverse==False:\n",
      "        return match['alt_start'] - match['ref_start'], match['ref_end']\n",
      "    if reverse==True:\n",
      "        return match['ref_start'] - match['alt_start'], match['alt_end']"
     ],
     "language": "python",
     "metadata": {},
     "outputs": [],
     "prompt_number": 3
    },
    {
     "cell_type": "code",
     "collapsed": false,
     "input": [
      "gtffile = pd.read_csv('/data/projects_gibbons/home/neffra/references/hg19_genes.gtf', sep='\\t', header=None)"
     ],
     "language": "python",
     "metadata": {},
     "outputs": [],
     "prompt_number": 5
    },
    {
     "cell_type": "code",
     "collapsed": false,
     "input": [
      "gtffile"
     ],
     "language": "python",
     "metadata": {},
     "outputs": [
      {
       "html": [
        "<div style=\"max-height:1000px;max-width:1500px;overflow:auto;\">\n",
        "<table border=\"1\" class=\"dataframe\">\n",
        "  <thead>\n",
        "    <tr style=\"text-align: right;\">\n",
        "      <th></th>\n",
        "      <th>0</th>\n",
        "      <th>1</th>\n",
        "      <th>2</th>\n",
        "      <th>3</th>\n",
        "      <th>4</th>\n",
        "      <th>5</th>\n",
        "      <th>6</th>\n",
        "      <th>7</th>\n",
        "      <th>8</th>\n",
        "    </tr>\n",
        "  </thead>\n",
        "  <tbody>\n",
        "    <tr>\n",
        "      <th>0 </th>\n",
        "      <td> chr1</td>\n",
        "      <td> unknown</td>\n",
        "      <td>        exon</td>\n",
        "      <td>  11874</td>\n",
        "      <td>  12227</td>\n",
        "      <td> .</td>\n",
        "      <td> +</td>\n",
        "      <td> .</td>\n",
        "      <td> gene_id \"DDX11L1\"; transcript_id \"NR_046018_1\"...</td>\n",
        "    </tr>\n",
        "    <tr>\n",
        "      <th>1 </th>\n",
        "      <td> chr1</td>\n",
        "      <td> unknown</td>\n",
        "      <td>        exon</td>\n",
        "      <td>  12613</td>\n",
        "      <td>  12721</td>\n",
        "      <td> .</td>\n",
        "      <td> +</td>\n",
        "      <td> .</td>\n",
        "      <td> gene_id \"DDX11L1\"; transcript_id \"NR_046018_1\"...</td>\n",
        "    </tr>\n",
        "    <tr>\n",
        "      <th>2 </th>\n",
        "      <td> chr1</td>\n",
        "      <td> unknown</td>\n",
        "      <td>        exon</td>\n",
        "      <td>  13221</td>\n",
        "      <td>  14408</td>\n",
        "      <td> .</td>\n",
        "      <td> +</td>\n",
        "      <td> .</td>\n",
        "      <td> gene_id \"DDX11L1\"; transcript_id \"NR_046018_1\"...</td>\n",
        "    </tr>\n",
        "    <tr>\n",
        "      <th>3 </th>\n",
        "      <td> chr1</td>\n",
        "      <td> unknown</td>\n",
        "      <td>        exon</td>\n",
        "      <td>  14362</td>\n",
        "      <td>  14829</td>\n",
        "      <td> .</td>\n",
        "      <td> -</td>\n",
        "      <td> .</td>\n",
        "      <td> gene_id \"WASH7P\"; transcript_id \"NR_024540\"; g...</td>\n",
        "    </tr>\n",
        "    <tr>\n",
        "      <th>4 </th>\n",
        "      <td> chr1</td>\n",
        "      <td> unknown</td>\n",
        "      <td>        exon</td>\n",
        "      <td>  14970</td>\n",
        "      <td>  15038</td>\n",
        "      <td> .</td>\n",
        "      <td> -</td>\n",
        "      <td> .</td>\n",
        "      <td> gene_id \"WASH7P\"; transcript_id \"NR_024540\"; g...</td>\n",
        "    </tr>\n",
        "    <tr>\n",
        "      <th>5 </th>\n",
        "      <td> chr1</td>\n",
        "      <td> unknown</td>\n",
        "      <td>        exon</td>\n",
        "      <td>  15796</td>\n",
        "      <td>  15947</td>\n",
        "      <td> .</td>\n",
        "      <td> -</td>\n",
        "      <td> .</td>\n",
        "      <td> gene_id \"WASH7P\"; transcript_id \"NR_024540\"; g...</td>\n",
        "    </tr>\n",
        "    <tr>\n",
        "      <th>6 </th>\n",
        "      <td> chr1</td>\n",
        "      <td> unknown</td>\n",
        "      <td>        exon</td>\n",
        "      <td>  16607</td>\n",
        "      <td>  16765</td>\n",
        "      <td> .</td>\n",
        "      <td> -</td>\n",
        "      <td> .</td>\n",
        "      <td> gene_id \"WASH7P\"; transcript_id \"NR_024540\"; g...</td>\n",
        "    </tr>\n",
        "    <tr>\n",
        "      <th>7 </th>\n",
        "      <td> chr1</td>\n",
        "      <td> unknown</td>\n",
        "      <td>        exon</td>\n",
        "      <td>  16858</td>\n",
        "      <td>  17055</td>\n",
        "      <td> .</td>\n",
        "      <td> -</td>\n",
        "      <td> .</td>\n",
        "      <td> gene_id \"WASH7P\"; transcript_id \"NR_024540\"; g...</td>\n",
        "    </tr>\n",
        "    <tr>\n",
        "      <th>8 </th>\n",
        "      <td> chr1</td>\n",
        "      <td> unknown</td>\n",
        "      <td>        exon</td>\n",
        "      <td>  17233</td>\n",
        "      <td>  17368</td>\n",
        "      <td> .</td>\n",
        "      <td> -</td>\n",
        "      <td> .</td>\n",
        "      <td> gene_id \"WASH7P\"; transcript_id \"NR_024540\"; g...</td>\n",
        "    </tr>\n",
        "    <tr>\n",
        "      <th>9 </th>\n",
        "      <td> chr1</td>\n",
        "      <td> unknown</td>\n",
        "      <td>        exon</td>\n",
        "      <td>  17606</td>\n",
        "      <td>  17742</td>\n",
        "      <td> .</td>\n",
        "      <td> -</td>\n",
        "      <td> .</td>\n",
        "      <td> gene_id \"WASH7P\"; transcript_id \"NR_024540\"; g...</td>\n",
        "    </tr>\n",
        "    <tr>\n",
        "      <th>10</th>\n",
        "      <td> chr1</td>\n",
        "      <td> unknown</td>\n",
        "      <td>        exon</td>\n",
        "      <td>  17915</td>\n",
        "      <td>  18061</td>\n",
        "      <td> .</td>\n",
        "      <td> -</td>\n",
        "      <td> .</td>\n",
        "      <td> gene_id \"WASH7P\"; transcript_id \"NR_024540\"; g...</td>\n",
        "    </tr>\n",
        "    <tr>\n",
        "      <th>11</th>\n",
        "      <td> chr1</td>\n",
        "      <td> unknown</td>\n",
        "      <td>        exon</td>\n",
        "      <td>  18268</td>\n",
        "      <td>  18366</td>\n",
        "      <td> .</td>\n",
        "      <td> -</td>\n",
        "      <td> .</td>\n",
        "      <td> gene_id \"WASH7P\"; transcript_id \"NR_024540\"; g...</td>\n",
        "    </tr>\n",
        "    <tr>\n",
        "      <th>12</th>\n",
        "      <td> chr1</td>\n",
        "      <td> unknown</td>\n",
        "      <td>        exon</td>\n",
        "      <td>  24738</td>\n",
        "      <td>  24891</td>\n",
        "      <td> .</td>\n",
        "      <td> -</td>\n",
        "      <td> .</td>\n",
        "      <td> gene_id \"WASH7P\"; transcript_id \"NR_024540\"; g...</td>\n",
        "    </tr>\n",
        "    <tr>\n",
        "      <th>13</th>\n",
        "      <td> chr1</td>\n",
        "      <td> unknown</td>\n",
        "      <td>        exon</td>\n",
        "      <td>  29321</td>\n",
        "      <td>  29370</td>\n",
        "      <td> .</td>\n",
        "      <td> -</td>\n",
        "      <td> .</td>\n",
        "      <td> gene_id \"WASH7P\"; transcript_id \"NR_024540\"; g...</td>\n",
        "    </tr>\n",
        "    <tr>\n",
        "      <th>14</th>\n",
        "      <td> chr1</td>\n",
        "      <td> unknown</td>\n",
        "      <td>        exon</td>\n",
        "      <td>  34611</td>\n",
        "      <td>  35174</td>\n",
        "      <td> .</td>\n",
        "      <td> -</td>\n",
        "      <td> .</td>\n",
        "      <td> gene_id \"FAM138F\"; transcript_id \"NR_026820\"; ...</td>\n",
        "    </tr>\n",
        "    <tr>\n",
        "      <th>15</th>\n",
        "      <td> chr1</td>\n",
        "      <td> unknown</td>\n",
        "      <td>        exon</td>\n",
        "      <td>  34611</td>\n",
        "      <td>  35174</td>\n",
        "      <td> .</td>\n",
        "      <td> -</td>\n",
        "      <td> .</td>\n",
        "      <td> gene_id \"FAM138A\"; transcript_id \"NR_026818\"; ...</td>\n",
        "    </tr>\n",
        "    <tr>\n",
        "      <th>16</th>\n",
        "      <td> chr1</td>\n",
        "      <td> unknown</td>\n",
        "      <td>        exon</td>\n",
        "      <td>  35277</td>\n",
        "      <td>  35481</td>\n",
        "      <td> .</td>\n",
        "      <td> -</td>\n",
        "      <td> .</td>\n",
        "      <td> gene_id \"FAM138F\"; transcript_id \"NR_026820\"; ...</td>\n",
        "    </tr>\n",
        "    <tr>\n",
        "      <th>17</th>\n",
        "      <td> chr1</td>\n",
        "      <td> unknown</td>\n",
        "      <td>        exon</td>\n",
        "      <td>  35277</td>\n",
        "      <td>  35481</td>\n",
        "      <td> .</td>\n",
        "      <td> -</td>\n",
        "      <td> .</td>\n",
        "      <td> gene_id \"FAM138A\"; transcript_id \"NR_026818\"; ...</td>\n",
        "    </tr>\n",
        "    <tr>\n",
        "      <th>18</th>\n",
        "      <td> chr1</td>\n",
        "      <td> unknown</td>\n",
        "      <td>        exon</td>\n",
        "      <td>  35721</td>\n",
        "      <td>  36081</td>\n",
        "      <td> .</td>\n",
        "      <td> -</td>\n",
        "      <td> .</td>\n",
        "      <td> gene_id \"FAM138F\"; transcript_id \"NR_026820\"; ...</td>\n",
        "    </tr>\n",
        "    <tr>\n",
        "      <th>19</th>\n",
        "      <td> chr1</td>\n",
        "      <td> unknown</td>\n",
        "      <td>        exon</td>\n",
        "      <td>  35721</td>\n",
        "      <td>  36081</td>\n",
        "      <td> .</td>\n",
        "      <td> -</td>\n",
        "      <td> .</td>\n",
        "      <td> gene_id \"FAM138A\"; transcript_id \"NR_026818\"; ...</td>\n",
        "    </tr>\n",
        "    <tr>\n",
        "      <th>20</th>\n",
        "      <td> chr1</td>\n",
        "      <td> unknown</td>\n",
        "      <td>         CDS</td>\n",
        "      <td>  69091</td>\n",
        "      <td>  70005</td>\n",
        "      <td> .</td>\n",
        "      <td> +</td>\n",
        "      <td> 0</td>\n",
        "      <td> gene_id \"OR4F5\"; transcript_id \"NM_001005484\";...</td>\n",
        "    </tr>\n",
        "    <tr>\n",
        "      <th>21</th>\n",
        "      <td> chr1</td>\n",
        "      <td> unknown</td>\n",
        "      <td>        exon</td>\n",
        "      <td>  69091</td>\n",
        "      <td>  70008</td>\n",
        "      <td> .</td>\n",
        "      <td> +</td>\n",
        "      <td> .</td>\n",
        "      <td> gene_id \"OR4F5\"; transcript_id \"NM_001005484\";...</td>\n",
        "    </tr>\n",
        "    <tr>\n",
        "      <th>22</th>\n",
        "      <td> chr1</td>\n",
        "      <td> unknown</td>\n",
        "      <td> start_codon</td>\n",
        "      <td>  69091</td>\n",
        "      <td>  69093</td>\n",
        "      <td> .</td>\n",
        "      <td> +</td>\n",
        "      <td> .</td>\n",
        "      <td> gene_id \"OR4F5\"; transcript_id \"NM_001005484\";...</td>\n",
        "    </tr>\n",
        "    <tr>\n",
        "      <th>23</th>\n",
        "      <td> chr1</td>\n",
        "      <td> unknown</td>\n",
        "      <td>  stop_codon</td>\n",
        "      <td>  70006</td>\n",
        "      <td>  70008</td>\n",
        "      <td> .</td>\n",
        "      <td> +</td>\n",
        "      <td> .</td>\n",
        "      <td> gene_id \"OR4F5\"; transcript_id \"NM_001005484\";...</td>\n",
        "    </tr>\n",
        "    <tr>\n",
        "      <th>24</th>\n",
        "      <td> chr1</td>\n",
        "      <td> unknown</td>\n",
        "      <td>        exon</td>\n",
        "      <td> 134773</td>\n",
        "      <td> 139696</td>\n",
        "      <td> .</td>\n",
        "      <td> -</td>\n",
        "      <td> .</td>\n",
        "      <td> gene_id \"LOC729737\"; transcript_id \"NR_039983\"...</td>\n",
        "    </tr>\n",
        "    <tr>\n",
        "      <th>25</th>\n",
        "      <td> chr1</td>\n",
        "      <td> unknown</td>\n",
        "      <td>        exon</td>\n",
        "      <td> 139790</td>\n",
        "      <td> 139847</td>\n",
        "      <td> .</td>\n",
        "      <td> -</td>\n",
        "      <td> .</td>\n",
        "      <td> gene_id \"LOC729737\"; transcript_id \"NR_039983\"...</td>\n",
        "    </tr>\n",
        "    <tr>\n",
        "      <th>26</th>\n",
        "      <td> chr1</td>\n",
        "      <td> unknown</td>\n",
        "      <td>        exon</td>\n",
        "      <td> 140075</td>\n",
        "      <td> 140566</td>\n",
        "      <td> .</td>\n",
        "      <td> -</td>\n",
        "      <td> .</td>\n",
        "      <td> gene_id \"LOC729737\"; transcript_id \"NR_039983\"...</td>\n",
        "    </tr>\n",
        "    <tr>\n",
        "      <th>27</th>\n",
        "      <td> chr1</td>\n",
        "      <td> unknown</td>\n",
        "      <td>        exon</td>\n",
        "      <td> 323892</td>\n",
        "      <td> 324060</td>\n",
        "      <td> .</td>\n",
        "      <td> +</td>\n",
        "      <td> .</td>\n",
        "      <td> gene_id \"LOC100132287\"; transcript_id \"NR_0283...</td>\n",
        "    </tr>\n",
        "    <tr>\n",
        "      <th>28</th>\n",
        "      <td> chr1</td>\n",
        "      <td> unknown</td>\n",
        "      <td>        exon</td>\n",
        "      <td> 323892</td>\n",
        "      <td> 324060</td>\n",
        "      <td> .</td>\n",
        "      <td> +</td>\n",
        "      <td> .</td>\n",
        "      <td> gene_id \"LOC100132062\"; transcript_id \"NR_0283...</td>\n",
        "    </tr>\n",
        "    <tr>\n",
        "      <th>29</th>\n",
        "      <td> chr1</td>\n",
        "      <td> unknown</td>\n",
        "      <td>        exon</td>\n",
        "      <td> 323892</td>\n",
        "      <td> 324060</td>\n",
        "      <td> .</td>\n",
        "      <td> +</td>\n",
        "      <td> .</td>\n",
        "      <td> gene_id \"LOC100133331\"; transcript_id \"NR_0283...</td>\n",
        "    </tr>\n",
        "    <tr>\n",
        "      <th>30</th>\n",
        "      <td> chr1</td>\n",
        "      <td> unknown</td>\n",
        "      <td>        exon</td>\n",
        "      <td> 324288</td>\n",
        "      <td> 324345</td>\n",
        "      <td> .</td>\n",
        "      <td> +</td>\n",
        "      <td> .</td>\n",
        "      <td> gene_id \"LOC100132287\"; transcript_id \"NR_0283...</td>\n",
        "    </tr>\n",
        "    <tr>\n",
        "      <th>31</th>\n",
        "      <td> chr1</td>\n",
        "      <td> unknown</td>\n",
        "      <td>        exon</td>\n",
        "      <td> 324288</td>\n",
        "      <td> 324345</td>\n",
        "      <td> .</td>\n",
        "      <td> +</td>\n",
        "      <td> .</td>\n",
        "      <td> gene_id \"LOC100132062\"; transcript_id \"NR_0283...</td>\n",
        "    </tr>\n",
        "    <tr>\n",
        "      <th>32</th>\n",
        "      <td> chr1</td>\n",
        "      <td> unknown</td>\n",
        "      <td>        exon</td>\n",
        "      <td> 324288</td>\n",
        "      <td> 324345</td>\n",
        "      <td> .</td>\n",
        "      <td> +</td>\n",
        "      <td> .</td>\n",
        "      <td> gene_id \"LOC100133331\"; transcript_id \"NR_0283...</td>\n",
        "    </tr>\n",
        "    <tr>\n",
        "      <th>33</th>\n",
        "      <td> chr1</td>\n",
        "      <td> unknown</td>\n",
        "      <td>        exon</td>\n",
        "      <td> 324439</td>\n",
        "      <td> 326938</td>\n",
        "      <td> .</td>\n",
        "      <td> +</td>\n",
        "      <td> .</td>\n",
        "      <td> gene_id \"LOC100133331\"; transcript_id \"NR_0283...</td>\n",
        "    </tr>\n",
        "    <tr>\n",
        "      <th>34</th>\n",
        "      <td> chr1</td>\n",
        "      <td> unknown</td>\n",
        "      <td>        exon</td>\n",
        "      <td> 324439</td>\n",
        "      <td> 328581</td>\n",
        "      <td> .</td>\n",
        "      <td> +</td>\n",
        "      <td> .</td>\n",
        "      <td> gene_id \"LOC100132287\"; transcript_id \"NR_0283...</td>\n",
        "    </tr>\n",
        "    <tr>\n",
        "      <th>35</th>\n",
        "      <td> chr1</td>\n",
        "      <td> unknown</td>\n",
        "      <td>        exon</td>\n",
        "      <td> 324439</td>\n",
        "      <td> 328581</td>\n",
        "      <td> .</td>\n",
        "      <td> +</td>\n",
        "      <td> .</td>\n",
        "      <td> gene_id \"LOC100132062\"; transcript_id \"NR_0283...</td>\n",
        "    </tr>\n",
        "    <tr>\n",
        "      <th>36</th>\n",
        "      <td> chr1</td>\n",
        "      <td> unknown</td>\n",
        "      <td>        exon</td>\n",
        "      <td> 327036</td>\n",
        "      <td> 328581</td>\n",
        "      <td> .</td>\n",
        "      <td> +</td>\n",
        "      <td> .</td>\n",
        "      <td> gene_id \"LOC100133331\"; transcript_id \"NR_0283...</td>\n",
        "    </tr>\n",
        "    <tr>\n",
        "      <th>37</th>\n",
        "      <td> chr1</td>\n",
        "      <td> unknown</td>\n",
        "      <td>         CDS</td>\n",
        "      <td> 367659</td>\n",
        "      <td> 368594</td>\n",
        "      <td> .</td>\n",
        "      <td> +</td>\n",
        "      <td> 0</td>\n",
        "      <td> gene_id \"OR4F16\"; transcript_id \"NM_001005277\"...</td>\n",
        "    </tr>\n",
        "    <tr>\n",
        "      <th>38</th>\n",
        "      <td> chr1</td>\n",
        "      <td> unknown</td>\n",
        "      <td>         CDS</td>\n",
        "      <td> 367659</td>\n",
        "      <td> 368594</td>\n",
        "      <td> .</td>\n",
        "      <td> +</td>\n",
        "      <td> 0</td>\n",
        "      <td> gene_id \"OR4F29\"; transcript_id \"NM_001005221\"...</td>\n",
        "    </tr>\n",
        "    <tr>\n",
        "      <th>39</th>\n",
        "      <td> chr1</td>\n",
        "      <td> unknown</td>\n",
        "      <td>         CDS</td>\n",
        "      <td> 367659</td>\n",
        "      <td> 368594</td>\n",
        "      <td> .</td>\n",
        "      <td> +</td>\n",
        "      <td> 0</td>\n",
        "      <td> gene_id \"OR4F3\"; transcript_id \"NM_001005224\";...</td>\n",
        "    </tr>\n",
        "    <tr>\n",
        "      <th>40</th>\n",
        "      <td> chr1</td>\n",
        "      <td> unknown</td>\n",
        "      <td>        exon</td>\n",
        "      <td> 367659</td>\n",
        "      <td> 368597</td>\n",
        "      <td> .</td>\n",
        "      <td> +</td>\n",
        "      <td> .</td>\n",
        "      <td> gene_id \"OR4F16\"; transcript_id \"NM_001005277\"...</td>\n",
        "    </tr>\n",
        "    <tr>\n",
        "      <th>41</th>\n",
        "      <td> chr1</td>\n",
        "      <td> unknown</td>\n",
        "      <td>        exon</td>\n",
        "      <td> 367659</td>\n",
        "      <td> 368597</td>\n",
        "      <td> .</td>\n",
        "      <td> +</td>\n",
        "      <td> .</td>\n",
        "      <td> gene_id \"OR4F29\"; transcript_id \"NM_001005221\"...</td>\n",
        "    </tr>\n",
        "    <tr>\n",
        "      <th>42</th>\n",
        "      <td> chr1</td>\n",
        "      <td> unknown</td>\n",
        "      <td>        exon</td>\n",
        "      <td> 367659</td>\n",
        "      <td> 368597</td>\n",
        "      <td> .</td>\n",
        "      <td> +</td>\n",
        "      <td> .</td>\n",
        "      <td> gene_id \"OR4F3\"; transcript_id \"NM_001005224\";...</td>\n",
        "    </tr>\n",
        "    <tr>\n",
        "      <th>43</th>\n",
        "      <td> chr1</td>\n",
        "      <td> unknown</td>\n",
        "      <td> start_codon</td>\n",
        "      <td> 367659</td>\n",
        "      <td> 367661</td>\n",
        "      <td> .</td>\n",
        "      <td> +</td>\n",
        "      <td> .</td>\n",
        "      <td> gene_id \"OR4F16\"; transcript_id \"NM_001005277\"...</td>\n",
        "    </tr>\n",
        "    <tr>\n",
        "      <th>44</th>\n",
        "      <td> chr1</td>\n",
        "      <td> unknown</td>\n",
        "      <td> start_codon</td>\n",
        "      <td> 367659</td>\n",
        "      <td> 367661</td>\n",
        "      <td> .</td>\n",
        "      <td> +</td>\n",
        "      <td> .</td>\n",
        "      <td> gene_id \"OR4F29\"; transcript_id \"NM_001005221\"...</td>\n",
        "    </tr>\n",
        "    <tr>\n",
        "      <th>45</th>\n",
        "      <td> chr1</td>\n",
        "      <td> unknown</td>\n",
        "      <td> start_codon</td>\n",
        "      <td> 367659</td>\n",
        "      <td> 367661</td>\n",
        "      <td> .</td>\n",
        "      <td> +</td>\n",
        "      <td> .</td>\n",
        "      <td> gene_id \"OR4F3\"; transcript_id \"NM_001005224\";...</td>\n",
        "    </tr>\n",
        "    <tr>\n",
        "      <th>46</th>\n",
        "      <td> chr1</td>\n",
        "      <td> unknown</td>\n",
        "      <td>  stop_codon</td>\n",
        "      <td> 368595</td>\n",
        "      <td> 368597</td>\n",
        "      <td> .</td>\n",
        "      <td> +</td>\n",
        "      <td> .</td>\n",
        "      <td> gene_id \"OR4F16\"; transcript_id \"NM_001005277\"...</td>\n",
        "    </tr>\n",
        "    <tr>\n",
        "      <th>47</th>\n",
        "      <td> chr1</td>\n",
        "      <td> unknown</td>\n",
        "      <td>  stop_codon</td>\n",
        "      <td> 368595</td>\n",
        "      <td> 368597</td>\n",
        "      <td> .</td>\n",
        "      <td> +</td>\n",
        "      <td> .</td>\n",
        "      <td> gene_id \"OR4F29\"; transcript_id \"NM_001005221\"...</td>\n",
        "    </tr>\n",
        "    <tr>\n",
        "      <th>48</th>\n",
        "      <td> chr1</td>\n",
        "      <td> unknown</td>\n",
        "      <td>  stop_codon</td>\n",
        "      <td> 368595</td>\n",
        "      <td> 368597</td>\n",
        "      <td> .</td>\n",
        "      <td> +</td>\n",
        "      <td> .</td>\n",
        "      <td> gene_id \"OR4F3\"; transcript_id \"NM_001005224\";...</td>\n",
        "    </tr>\n",
        "    <tr>\n",
        "      <th>49</th>\n",
        "      <td> chr1</td>\n",
        "      <td> unknown</td>\n",
        "      <td>        exon</td>\n",
        "      <td> 621096</td>\n",
        "      <td> 622034</td>\n",
        "      <td> .</td>\n",
        "      <td> -</td>\n",
        "      <td> .</td>\n",
        "      <td> gene_id \"OR4F29\"; transcript_id \"NM_001005221_...</td>\n",
        "    </tr>\n",
        "    <tr>\n",
        "      <th>50</th>\n",
        "      <td> chr1</td>\n",
        "      <td> unknown</td>\n",
        "      <td>        exon</td>\n",
        "      <td> 621096</td>\n",
        "      <td> 622034</td>\n",
        "      <td> .</td>\n",
        "      <td> -</td>\n",
        "      <td> .</td>\n",
        "      <td> gene_id \"OR4F3\"; transcript_id \"NM_001005224_1...</td>\n",
        "    </tr>\n",
        "    <tr>\n",
        "      <th>51</th>\n",
        "      <td> chr1</td>\n",
        "      <td> unknown</td>\n",
        "      <td>        exon</td>\n",
        "      <td> 621096</td>\n",
        "      <td> 622034</td>\n",
        "      <td> .</td>\n",
        "      <td> -</td>\n",
        "      <td> .</td>\n",
        "      <td> gene_id \"OR4F16\"; transcript_id \"NM_001005277_...</td>\n",
        "    </tr>\n",
        "    <tr>\n",
        "      <th>52</th>\n",
        "      <td> chr1</td>\n",
        "      <td> unknown</td>\n",
        "      <td>  stop_codon</td>\n",
        "      <td> 621096</td>\n",
        "      <td> 621098</td>\n",
        "      <td> .</td>\n",
        "      <td> -</td>\n",
        "      <td> .</td>\n",
        "      <td> gene_id \"OR4F29\"; transcript_id \"NM_001005221_...</td>\n",
        "    </tr>\n",
        "    <tr>\n",
        "      <th>53</th>\n",
        "      <td> chr1</td>\n",
        "      <td> unknown</td>\n",
        "      <td>  stop_codon</td>\n",
        "      <td> 621096</td>\n",
        "      <td> 621098</td>\n",
        "      <td> .</td>\n",
        "      <td> -</td>\n",
        "      <td> .</td>\n",
        "      <td> gene_id \"OR4F3\"; transcript_id \"NM_001005224_1...</td>\n",
        "    </tr>\n",
        "    <tr>\n",
        "      <th>54</th>\n",
        "      <td> chr1</td>\n",
        "      <td> unknown</td>\n",
        "      <td>  stop_codon</td>\n",
        "      <td> 621096</td>\n",
        "      <td> 621098</td>\n",
        "      <td> .</td>\n",
        "      <td> -</td>\n",
        "      <td> .</td>\n",
        "      <td> gene_id \"OR4F16\"; transcript_id \"NM_001005277_...</td>\n",
        "    </tr>\n",
        "    <tr>\n",
        "      <th>55</th>\n",
        "      <td> chr1</td>\n",
        "      <td> unknown</td>\n",
        "      <td>         CDS</td>\n",
        "      <td> 621099</td>\n",
        "      <td> 622034</td>\n",
        "      <td> .</td>\n",
        "      <td> -</td>\n",
        "      <td> 0</td>\n",
        "      <td> gene_id \"OR4F29\"; transcript_id \"NM_001005221_...</td>\n",
        "    </tr>\n",
        "    <tr>\n",
        "      <th>56</th>\n",
        "      <td> chr1</td>\n",
        "      <td> unknown</td>\n",
        "      <td>         CDS</td>\n",
        "      <td> 621099</td>\n",
        "      <td> 622034</td>\n",
        "      <td> .</td>\n",
        "      <td> -</td>\n",
        "      <td> 0</td>\n",
        "      <td> gene_id \"OR4F3\"; transcript_id \"NM_001005224_1...</td>\n",
        "    </tr>\n",
        "    <tr>\n",
        "      <th>57</th>\n",
        "      <td> chr1</td>\n",
        "      <td> unknown</td>\n",
        "      <td>         CDS</td>\n",
        "      <td> 621099</td>\n",
        "      <td> 622034</td>\n",
        "      <td> .</td>\n",
        "      <td> -</td>\n",
        "      <td> 0</td>\n",
        "      <td> gene_id \"OR4F16\"; transcript_id \"NM_001005277_...</td>\n",
        "    </tr>\n",
        "    <tr>\n",
        "      <th>58</th>\n",
        "      <td> chr1</td>\n",
        "      <td> unknown</td>\n",
        "      <td> start_codon</td>\n",
        "      <td> 622032</td>\n",
        "      <td> 622034</td>\n",
        "      <td> .</td>\n",
        "      <td> -</td>\n",
        "      <td> .</td>\n",
        "      <td> gene_id \"OR4F29\"; transcript_id \"NM_001005221_...</td>\n",
        "    </tr>\n",
        "    <tr>\n",
        "      <th>59</th>\n",
        "      <td> chr1</td>\n",
        "      <td> unknown</td>\n",
        "      <td> start_codon</td>\n",
        "      <td> 622032</td>\n",
        "      <td> 622034</td>\n",
        "      <td> .</td>\n",
        "      <td> -</td>\n",
        "      <td> .</td>\n",
        "      <td> gene_id \"OR4F3\"; transcript_id \"NM_001005224_1...</td>\n",
        "    </tr>\n",
        "    <tr>\n",
        "      <th></th>\n",
        "      <td>...</td>\n",
        "      <td>...</td>\n",
        "      <td>...</td>\n",
        "      <td>...</td>\n",
        "      <td>...</td>\n",
        "      <td>...</td>\n",
        "      <td>...</td>\n",
        "      <td>...</td>\n",
        "      <td>...</td>\n",
        "    </tr>\n",
        "  </tbody>\n",
        "</table>\n",
        "<p>829455 rows \u00d7 9 columns</p>\n",
        "</div>"
       ],
       "metadata": {},
       "output_type": "pyout",
       "prompt_number": 6,
       "text": [
        "       0        1            2       3       4  5  6  7                                                  8\n",
        "0   chr1  unknown         exon   11874   12227  .  +  .  gene_id \"DDX11L1\"; transcript_id \"NR_046018_1\"...\n",
        "1   chr1  unknown         exon   12613   12721  .  +  .  gene_id \"DDX11L1\"; transcript_id \"NR_046018_1\"...\n",
        "2   chr1  unknown         exon   13221   14408  .  +  .  gene_id \"DDX11L1\"; transcript_id \"NR_046018_1\"...\n",
        "3   chr1  unknown         exon   14362   14829  .  -  .  gene_id \"WASH7P\"; transcript_id \"NR_024540\"; g...\n",
        "4   chr1  unknown         exon   14970   15038  .  -  .  gene_id \"WASH7P\"; transcript_id \"NR_024540\"; g...\n",
        "5   chr1  unknown         exon   15796   15947  .  -  .  gene_id \"WASH7P\"; transcript_id \"NR_024540\"; g...\n",
        "6   chr1  unknown         exon   16607   16765  .  -  .  gene_id \"WASH7P\"; transcript_id \"NR_024540\"; g...\n",
        "7   chr1  unknown         exon   16858   17055  .  -  .  gene_id \"WASH7P\"; transcript_id \"NR_024540\"; g...\n",
        "8   chr1  unknown         exon   17233   17368  .  -  .  gene_id \"WASH7P\"; transcript_id \"NR_024540\"; g...\n",
        "9   chr1  unknown         exon   17606   17742  .  -  .  gene_id \"WASH7P\"; transcript_id \"NR_024540\"; g...\n",
        "10  chr1  unknown         exon   17915   18061  .  -  .  gene_id \"WASH7P\"; transcript_id \"NR_024540\"; g...\n",
        "11  chr1  unknown         exon   18268   18366  .  -  .  gene_id \"WASH7P\"; transcript_id \"NR_024540\"; g...\n",
        "12  chr1  unknown         exon   24738   24891  .  -  .  gene_id \"WASH7P\"; transcript_id \"NR_024540\"; g...\n",
        "13  chr1  unknown         exon   29321   29370  .  -  .  gene_id \"WASH7P\"; transcript_id \"NR_024540\"; g...\n",
        "14  chr1  unknown         exon   34611   35174  .  -  .  gene_id \"FAM138F\"; transcript_id \"NR_026820\"; ...\n",
        "15  chr1  unknown         exon   34611   35174  .  -  .  gene_id \"FAM138A\"; transcript_id \"NR_026818\"; ...\n",
        "16  chr1  unknown         exon   35277   35481  .  -  .  gene_id \"FAM138F\"; transcript_id \"NR_026820\"; ...\n",
        "17  chr1  unknown         exon   35277   35481  .  -  .  gene_id \"FAM138A\"; transcript_id \"NR_026818\"; ...\n",
        "18  chr1  unknown         exon   35721   36081  .  -  .  gene_id \"FAM138F\"; transcript_id \"NR_026820\"; ...\n",
        "19  chr1  unknown         exon   35721   36081  .  -  .  gene_id \"FAM138A\"; transcript_id \"NR_026818\"; ...\n",
        "20  chr1  unknown          CDS   69091   70005  .  +  0  gene_id \"OR4F5\"; transcript_id \"NM_001005484\";...\n",
        "21  chr1  unknown         exon   69091   70008  .  +  .  gene_id \"OR4F5\"; transcript_id \"NM_001005484\";...\n",
        "22  chr1  unknown  start_codon   69091   69093  .  +  .  gene_id \"OR4F5\"; transcript_id \"NM_001005484\";...\n",
        "23  chr1  unknown   stop_codon   70006   70008  .  +  .  gene_id \"OR4F5\"; transcript_id \"NM_001005484\";...\n",
        "24  chr1  unknown         exon  134773  139696  .  -  .  gene_id \"LOC729737\"; transcript_id \"NR_039983\"...\n",
        "25  chr1  unknown         exon  139790  139847  .  -  .  gene_id \"LOC729737\"; transcript_id \"NR_039983\"...\n",
        "26  chr1  unknown         exon  140075  140566  .  -  .  gene_id \"LOC729737\"; transcript_id \"NR_039983\"...\n",
        "27  chr1  unknown         exon  323892  324060  .  +  .  gene_id \"LOC100132287\"; transcript_id \"NR_0283...\n",
        "28  chr1  unknown         exon  323892  324060  .  +  .  gene_id \"LOC100132062\"; transcript_id \"NR_0283...\n",
        "29  chr1  unknown         exon  323892  324060  .  +  .  gene_id \"LOC100133331\"; transcript_id \"NR_0283...\n",
        "30  chr1  unknown         exon  324288  324345  .  +  .  gene_id \"LOC100132287\"; transcript_id \"NR_0283...\n",
        "31  chr1  unknown         exon  324288  324345  .  +  .  gene_id \"LOC100132062\"; transcript_id \"NR_0283...\n",
        "32  chr1  unknown         exon  324288  324345  .  +  .  gene_id \"LOC100133331\"; transcript_id \"NR_0283...\n",
        "33  chr1  unknown         exon  324439  326938  .  +  .  gene_id \"LOC100133331\"; transcript_id \"NR_0283...\n",
        "34  chr1  unknown         exon  324439  328581  .  +  .  gene_id \"LOC100132287\"; transcript_id \"NR_0283...\n",
        "35  chr1  unknown         exon  324439  328581  .  +  .  gene_id \"LOC100132062\"; transcript_id \"NR_0283...\n",
        "36  chr1  unknown         exon  327036  328581  .  +  .  gene_id \"LOC100133331\"; transcript_id \"NR_0283...\n",
        "37  chr1  unknown          CDS  367659  368594  .  +  0  gene_id \"OR4F16\"; transcript_id \"NM_001005277\"...\n",
        "38  chr1  unknown          CDS  367659  368594  .  +  0  gene_id \"OR4F29\"; transcript_id \"NM_001005221\"...\n",
        "39  chr1  unknown          CDS  367659  368594  .  +  0  gene_id \"OR4F3\"; transcript_id \"NM_001005224\";...\n",
        "40  chr1  unknown         exon  367659  368597  .  +  .  gene_id \"OR4F16\"; transcript_id \"NM_001005277\"...\n",
        "41  chr1  unknown         exon  367659  368597  .  +  .  gene_id \"OR4F29\"; transcript_id \"NM_001005221\"...\n",
        "42  chr1  unknown         exon  367659  368597  .  +  .  gene_id \"OR4F3\"; transcript_id \"NM_001005224\";...\n",
        "43  chr1  unknown  start_codon  367659  367661  .  +  .  gene_id \"OR4F16\"; transcript_id \"NM_001005277\"...\n",
        "44  chr1  unknown  start_codon  367659  367661  .  +  .  gene_id \"OR4F29\"; transcript_id \"NM_001005221\"...\n",
        "45  chr1  unknown  start_codon  367659  367661  .  +  .  gene_id \"OR4F3\"; transcript_id \"NM_001005224\";...\n",
        "46  chr1  unknown   stop_codon  368595  368597  .  +  .  gene_id \"OR4F16\"; transcript_id \"NM_001005277\"...\n",
        "47  chr1  unknown   stop_codon  368595  368597  .  +  .  gene_id \"OR4F29\"; transcript_id \"NM_001005221\"...\n",
        "48  chr1  unknown   stop_codon  368595  368597  .  +  .  gene_id \"OR4F3\"; transcript_id \"NM_001005224\";...\n",
        "49  chr1  unknown         exon  621096  622034  .  -  .  gene_id \"OR4F29\"; transcript_id \"NM_001005221_...\n",
        "50  chr1  unknown         exon  621096  622034  .  -  .  gene_id \"OR4F3\"; transcript_id \"NM_001005224_1...\n",
        "51  chr1  unknown         exon  621096  622034  .  -  .  gene_id \"OR4F16\"; transcript_id \"NM_001005277_...\n",
        "52  chr1  unknown   stop_codon  621096  621098  .  -  .  gene_id \"OR4F29\"; transcript_id \"NM_001005221_...\n",
        "53  chr1  unknown   stop_codon  621096  621098  .  -  .  gene_id \"OR4F3\"; transcript_id \"NM_001005224_1...\n",
        "54  chr1  unknown   stop_codon  621096  621098  .  -  .  gene_id \"OR4F16\"; transcript_id \"NM_001005277_...\n",
        "55  chr1  unknown          CDS  621099  622034  .  -  0  gene_id \"OR4F29\"; transcript_id \"NM_001005221_...\n",
        "56  chr1  unknown          CDS  621099  622034  .  -  0  gene_id \"OR4F3\"; transcript_id \"NM_001005224_1...\n",
        "57  chr1  unknown          CDS  621099  622034  .  -  0  gene_id \"OR4F16\"; transcript_id \"NM_001005277_...\n",
        "58  chr1  unknown  start_codon  622032  622034  .  -  .  gene_id \"OR4F29\"; transcript_id \"NM_001005221_...\n",
        "59  chr1  unknown  start_codon  622032  622034  .  -  .  gene_id \"OR4F3\"; transcript_id \"NM_001005224_1...\n",
        "     ...      ...          ...     ...     ... .. .. ..                                                ...\n",
        "\n",
        "[829455 rows x 9 columns]"
       ]
      }
     ],
     "prompt_number": 6
    },
    {
     "cell_type": "code",
     "collapsed": false,
     "input": [
      "def liftoverGTF(ref_gtf, liftover_file, out_file, reverse=False): # this goes from hg## --> AFRG1 direction\n",
      "    outarr = []\n",
      "    vcffile = pd.read_csv(ref_gtf, header=None, sep='\\t')\n",
      "    \n",
      "    colnames=['chain','score','ref_chr','ref_len','ref_misc','ref_start','ref_end',\n",
      "              'alt_chr','alt_len','alt_misc','alt_start','alt_end']\n",
      "    \n",
      "    chr_names=[\"chr1\",\"chr2\",\"chr3\",\"chr4\",\"chr5\",\"chr6\",\"chr7\",\"chr8\",\"chr9\",\"chr10\",\"chr11\",\"chr12\",\"chr13\",\n",
      "               \"chr14\",\"chr15\",\"chr16\",\"chr17\",\"chr18\",\"chr19\",\"chr20\",\"chr21\",\"chr22\",\"chrX\",\"chrY\"]\n",
      "    \n",
      "    liftover = pd.read_csv(liftover_file,sep='\\t',header=None, \n",
      "                       names=colnames)\n",
      "    liftover.set_index(['ref_chr', 'ref_start', 'ref_end'], inplace=True)\n",
      "    \n",
      "    # now that we're init'd, let's start\n",
      "    pbar = ProgressBar(len(vcffile))\n",
      "    error_count = 0\n",
      "    for chrom in chr_names:\n",
      "        tmp = vcffile[vcffile[0]==chrom]\n",
      "        for a,line in tmp.iterrows():\n",
      "            pbar.animate()\n",
      "            outline = line\n",
      "            startpos = lift_master(line[3], liftover, chrom, reverse)\n",
      "            endpos = lift_master(line[4], liftover, chrom, reverse)\n",
      "            try:\n",
      "                if (startpos != None) & (endpos != None):\n",
      "                    if startpos <= endpos:\n",
      "                        outline[3] = startpos\n",
      "                        outline[4] = endpos\n",
      "                        outarr.append(outline)\n",
      "                    elif endpos < startpos:\n",
      "                        sys.stderr.write('WARN: ' + chrom + ': endpos ' + str(endpos) + ' is less than startpos ' + str(startpos) + '\\n')\n",
      "                        sys.stderr.flush()\n",
      "                        error_count += 1\n",
      "                else:\n",
      "                    sys.stderr.write('WARN: ' + chrom + ': could not lift over at start position ' + str(startpos) + '\\n')\n",
      "                    sys.stderr.flush()\n",
      "                    error_count += 1\n",
      "            except:\n",
      "                sys.stderr.write('WARN: ' + chrom + ': unknown error at position starting at ' + str(startpos) + '\\n')\n",
      "                sys.stderr.flush()\n",
      "                error_count += 1\n",
      "            if error_count >= 10000:\n",
      "                raise AwesomeError('nope.')\n",
      "    outarr = pd.DataFrame(outarr)\n",
      "    outarr.to_csv(out_file, header=None, sep='\\t', index=None) # and we're done!        "
     ],
     "language": "python",
     "metadata": {},
     "outputs": [
      {
       "output_type": "stream",
       "stream": "stdout",
       "text": [
        "\n"
       ]
      }
     ],
     "prompt_number": 14
    },
    {
     "cell_type": "code",
     "collapsed": false,
     "input": [
      "ref_gtf = '/data/projects_gibbons/home/neffra/references/hg19_genes.gtf'\n",
      "liftover_file = '/data/projects_gibbons/home/neffra/old_analysis/new_ref_seq/liftover-022714_131159-cleaned.chain'\n",
      "out_file = '/data/projects_gibbons/home/neffra/old_analysis/new_ref_seq/alt_sequence2.gtf'\n",
      "reverse=False\n",
      "\n",
      "liftoverGTF(ref_gtf, liftover_file, out_file, reverse)"
     ],
     "language": "python",
     "metadata": {},
     "outputs": [
      {
       "output_type": "stream",
       "stream": "stdout",
       "text": [
        "\r",
        "[                  0%                  ]"
       ]
      },
      {
       "output_type": "stream",
       "stream": "stdout",
       "text": [
        " \r",
        "[                  1%                  ]  8609 of 829455 complete Elapsed: 0.0 minutes\t Remaining: 2.4 minutes"
       ]
      },
      {
       "output_type": "stream",
       "stream": "stdout",
       "text": [
        " \r",
        "[*                 2%                  ]  15239 of 829455 complete Elapsed: 0.1 minutes\t Remaining: 3.1 minutes"
       ]
      },
      {
       "output_type": "stream",
       "stream": "stdout",
       "text": [
        " \r",
        "[*                 3%                  ]  24839 of 829455 complete Elapsed: 0.1 minutes\t Remaining: 2.7 minutes"
       ]
      },
      {
       "output_type": "stream",
       "stream": "stdout",
       "text": [
        " \r",
        "[**                4%                  ]  34457 of 829455 complete Elapsed: 0.1 minutes\t Remaining: 2.5 minutes"
       ]
      },
      {
       "output_type": "stream",
       "stream": "stdout",
       "text": [
        " \r",
        "[**                5%                  ]  44070 of 829455 complete Elapsed: 0.1 minutes\t Remaining: 2.4 minutes"
       ]
      },
      {
       "output_type": "stream",
       "stream": "stdout",
       "text": [
        " \r",
        "[**                6%                  ]  53717 of 829455 complete Elapsed: 0.2 minutes\t Remaining: 2.3 minutes"
       ]
      },
      {
       "output_type": "stream",
       "stream": "stdout",
       "text": [
        " \r",
        "[***               7%                  ]  58535 of 829455 complete Elapsed: 0.2 minutes\t Remaining: 2.5 minutes"
       ]
      },
      {
       "output_type": "stream",
       "stream": "stdout",
       "text": [
        " \r",
        "[***               8%                  ]  68091 of 829455 complete Elapsed: 0.2 minutes\t Remaining: 2.4 minutes"
       ]
      },
      {
       "output_type": "stream",
       "stream": "stdout",
       "text": [
        " \r",
        "[***               9%                  ]  77697 of 829455 complete Elapsed: 0.2 minutes\t Remaining: 2.3 minutes"
       ]
      },
      {
       "output_type": "stream",
       "stream": "stdout",
       "text": [
        " \r",
        "[****             10%                  ]  86429 of 829455 complete Elapsed: 0.3 minutes\t Remaining: 2.3 minutes"
       ]
      },
      {
       "output_type": "stream",
       "stream": "stdout",
       "text": [
        " \r",
        "[*****            12%                  ]  96018 of 829455 complete Elapsed: 0.3 minutes\t Remaining: 2.2 minutes"
       ]
      },
      {
       "output_type": "stream",
       "stream": "stdout",
       "text": [
        " \r",
        "[*****            13%                  ]  105606 of 829455 complete Elapsed: 0.3 minutes\t Remaining: 2.1 minutes"
       ]
      },
      {
       "output_type": "stream",
       "stream": "stdout",
       "text": [
        " \r",
        "[*****            14%                  ]  113026 of 829455 complete Elapsed: 0.4 minutes\t Remaining: 2.2 minutes"
       ]
      },
      {
       "output_type": "stream",
       "stream": "stdout",
       "text": [
        " \r",
        "[******           15%                  ]  122633 of 829455 complete Elapsed: 0.4 minutes\t Remaining: 2.2 minutes"
       ]
      },
      {
       "output_type": "stream",
       "stream": "stdout",
       "text": [
        " \r",
        "[******           16%                  ]  132232 of 829455 complete Elapsed: 0.4 minutes\t Remaining: 2.1 minutes"
       ]
      },
      {
       "output_type": "stream",
       "stream": "stdout",
       "text": [
        " \r",
        "[******           17%                  ]  141111 of 829455 complete Elapsed: 0.4 minutes\t Remaining: 2.1 minutes"
       ]
      },
      {
       "output_type": "stream",
       "stream": "stdout",
       "text": [
        " \r",
        "[*******          18%                  ]  150750 of 829455 complete Elapsed: 0.5 minutes\t Remaining: 2.0 minutes"
       ]
      },
      {
       "output_type": "stream",
       "stream": "stdout",
       "text": [
        " \r",
        "[*******          19%                  ]  160391 of 829455 complete Elapsed: 0.5 minutes\t Remaining: 2.0 minutes"
       ]
      },
      {
       "output_type": "stream",
       "stream": "stdout",
       "text": [
        " \r",
        "[********         20%                  ]  170034 of 829455 complete Elapsed: 0.5 minutes\t Remaining: 2.0 minutes"
       ]
      },
      {
       "output_type": "stream",
       "stream": "stdout",
       "text": [
        " \r",
        "[********         22%                  ]  179626 of 829455 complete Elapsed: 0.6 minutes\t Remaining: 2.0 minutes"
       ]
      },
      {
       "output_type": "stream",
       "stream": "stdout",
       "text": [
        " \r",
        "[*********        23%                  ]  188559 of 829455 complete Elapsed: 0.6 minutes\t Remaining: 2.0 minutes"
       ]
      },
      {
       "output_type": "stream",
       "stream": "stdout",
       "text": [
        " \r",
        "[*********        24%                  ]  198158 of 829455 complete Elapsed: 0.6 minutes\t Remaining: 1.9 minutes"
       ]
      },
      {
       "output_type": "stream",
       "stream": "stdout",
       "text": [
        " \r",
        "[**********       25%                  ]  207756 of 829455 complete Elapsed: 0.6 minutes\t Remaining: 1.9 minutes"
       ]
      },
      {
       "output_type": "stream",
       "stream": "stdout",
       "text": [
        " \r",
        "[**********       26%                  ]  216664 of 829455 complete Elapsed: 0.7 minutes\t Remaining: 1.9 minutes"
       ]
      },
      {
       "output_type": "stream",
       "stream": "stdout",
       "text": [
        " \r",
        "[**********       27%                  ]  226273 of 829455 complete Elapsed: 0.7 minutes\t Remaining: 1.8 minutes"
       ]
      },
      {
       "output_type": "stream",
       "stream": "stdout",
       "text": [
        " \r",
        "[***********      28%                  ]  235875 of 829455 complete Elapsed: 0.7 minutes\t Remaining: 1.8 minutes"
       ]
      },
      {
       "output_type": "stream",
       "stream": "stdout",
       "text": [
        " \r",
        "[***********      30%                  ]  245467 of 829455 complete Elapsed: 0.7 minutes\t Remaining: 1.7 minutes"
       ]
      },
      {
       "output_type": "stream",
       "stream": "stdout",
       "text": [
        " \r",
        "[************     31%                  ]  254381 of 829455 complete Elapsed: 0.8 minutes\t Remaining: 1.7 minutes"
       ]
      },
      {
       "output_type": "stream",
       "stream": "stdout",
       "text": [
        " \r",
        "[************     32%                  ]  263428 of 829455 complete Elapsed: 0.8 minutes\t Remaining: 1.7 minutes"
       ]
      },
      {
       "output_type": "stream",
       "stream": "stdout",
       "text": [
        " \r",
        "[*************    33%                  ]  273062 of 829455 complete Elapsed: 0.8 minutes\t Remaining: 1.7 minutes"
       ]
      },
      {
       "output_type": "stream",
       "stream": "stdout",
       "text": [
        " \r",
        "[*************    34%                  ]  282677 of 829455 complete Elapsed: 0.9 minutes\t Remaining: 1.7 minutes"
       ]
      },
      {
       "output_type": "stream",
       "stream": "stdout",
       "text": [
        " \r",
        "[*************    35%                  ]  291555 of 829455 complete Elapsed: 0.9 minutes\t Remaining: 1.6 minutes"
       ]
      },
      {
       "output_type": "stream",
       "stream": "stdout",
       "text": [
        " \r",
        "[**************   36%                  ]  301138 of 829455 complete Elapsed: 0.9 minutes\t Remaining: 1.6 minutes"
       ]
      },
      {
       "output_type": "stream",
       "stream": "stdout",
       "text": [
        " \r",
        "[**************   37%                  ]  310666 of 829455 complete Elapsed: 0.9 minutes\t Remaining: 1.6 minutes"
       ]
      },
      {
       "output_type": "stream",
       "stream": "stdout",
       "text": [
        " \r",
        "[***************  39%                  ]  320236 of 829455 complete Elapsed: 1.0 minutes\t Remaining: 1.5 minutes"
       ]
      },
      {
       "output_type": "stream",
       "stream": "stdout",
       "text": [
        " \r",
        "[***************  40%                  ]  329128 of 829455 complete Elapsed: 1.0 minutes\t Remaining: 1.5 minutes"
       ]
      },
      {
       "output_type": "stream",
       "stream": "stdout",
       "text": [
        " \r",
        "[**************** 41%                  ]  338735 of 829455 complete Elapsed: 1.0 minutes\t Remaining: 1.5 minutes"
       ]
      },
      {
       "output_type": "stream",
       "stream": "stdout",
       "text": [
        " \r",
        "[**************** 42%                  ]  348350 of 829455 complete Elapsed: 1.0 minutes\t Remaining: 1.4 minutes"
       ]
      },
      {
       "output_type": "stream",
       "stream": "stdout",
       "text": [
        " \r",
        "[**************** 43%                  ]  357261 of 829455 complete Elapsed: 1.1 minutes\t Remaining: 1.4 minutes"
       ]
      },
      {
       "output_type": "stream",
       "stream": "stdout",
       "text": [
        " \r",
        "[*****************44%                  ]  366864 of 829455 complete Elapsed: 1.1 minutes\t Remaining: 1.4 minutes"
       ]
      },
      {
       "output_type": "stream",
       "stream": "stdout",
       "text": [
        " \r",
        "[*****************44%                  ]  367907 of 829455 complete Elapsed: 1.1 minutes\t Remaining: 1.4 minutes"
       ]
      },
      {
       "output_type": "stream",
       "stream": "stdout",
       "text": [
        " \r",
        "[*****************46%                  ]  377514 of 829455 complete Elapsed: 1.1 minutes\t Remaining: 1.4 minutes"
       ]
      },
      {
       "output_type": "stream",
       "stream": "stdout",
       "text": [
        " \r",
        "[*****************47%                  ]  386427 of 829455 complete Elapsed: 1.2 minutes\t Remaining: 1.3 minutes"
       ]
      },
      {
       "output_type": "stream",
       "stream": "stdout",
       "text": [
        " \r",
        "[*****************48%                  ]  396039 of 829455 complete Elapsed: 1.2 minutes\t Remaining: 1.3 minutes"
       ]
      },
      {
       "output_type": "stream",
       "stream": "stdout",
       "text": [
        " \r",
        "[*****************49%                  ]  405638 of 829455 complete Elapsed: 1.2 minutes\t Remaining: 1.3 minutes"
       ]
      },
      {
       "output_type": "stream",
       "stream": "stdout",
       "text": [
        " \r",
        "[*****************50%                  ]  415243 of 829455 complete Elapsed: 1.2 minutes\t Remaining: 1.2 minutes"
       ]
      },
      {
       "output_type": "stream",
       "stream": "stdout",
       "text": [
        " \r",
        "[*****************51%                  ]  424094 of 829455 complete Elapsed: 1.3 minutes\t Remaining: 1.2 minutes"
       ]
      },
      {
       "output_type": "stream",
       "stream": "stdout",
       "text": [
        " \r",
        "[*****************52%                  ]  433695 of 829455 complete Elapsed: 1.3 minutes\t Remaining: 1.2 minutes"
       ]
      },
      {
       "output_type": "stream",
       "stream": "stdout",
       "text": [
        " \r",
        "[*****************53%                  ]  443274 of 829455 complete Elapsed: 1.3 minutes\t Remaining: 1.2 minutes"
       ]
      },
      {
       "output_type": "stream",
       "stream": "stdout",
       "text": [
        " \r",
        "[*****************55%*                 ]  452841 of 829455 complete Elapsed: 1.3 minutes\t Remaining: 1.1 minutes"
       ]
      },
      {
       "output_type": "stream",
       "stream": "stdout",
       "text": [
        " \r",
        "[*****************56%*                 ]  462431 of 829455 complete Elapsed: 1.4 minutes\t Remaining: 1.1 minutes"
       ]
      },
      {
       "output_type": "stream",
       "stream": "stdout",
       "text": [
        " \r",
        "[*****************57%**                ]  471290 of 829455 complete Elapsed: 1.4 minutes\t Remaining: 1.1 minutes"
       ]
      },
      {
       "output_type": "stream",
       "stream": "stdout",
       "text": [
        " \r",
        "[*****************58%**                ]  480882 of 829455 complete Elapsed: 1.4 minutes\t Remaining: 1.0 minutes"
       ]
      },
      {
       "output_type": "stream",
       "stream": "stdout",
       "text": [
        " \r",
        "[*****************59%**                ]  490450 of 829455 complete Elapsed: 1.4 minutes\t Remaining: 1.0 minutes"
       ]
      },
      {
       "output_type": "stream",
       "stream": "stdout",
       "text": [
        " \r",
        "[*****************60%***               ]  498765 of 829455 complete Elapsed: 1.5 minutes\t Remaining: 1.0 minutes"
       ]
      },
      {
       "output_type": "stream",
       "stream": "stdout",
       "text": [
        " \r",
        "[*****************61%***               ]  508096 of 829455 complete Elapsed: 1.5 minutes\t Remaining: 1.0 minutes"
       ]
      },
      {
       "output_type": "stream",
       "stream": "stdout",
       "text": [
        " \r",
        "[*****************62%****              ]  517682 of 829455 complete Elapsed: 1.6 minutes\t Remaining: 0.9 minutes"
       ]
      },
      {
       "output_type": "stream",
       "stream": "stdout",
       "text": [
        " \r",
        "[*****************63%****              ]  526623 of 829455 complete Elapsed: 1.6 minutes\t Remaining: 0.9 minutes"
       ]
      },
      {
       "output_type": "stream",
       "stream": "stdout",
       "text": [
        " \r",
        "[*****************65%*****             ]  536210 of 829455 complete Elapsed: 1.6 minutes\t Remaining: 0.9 minutes"
       ]
      },
      {
       "output_type": "stream",
       "stream": "stdout",
       "text": [
        " \r",
        "[*****************66%*****             ]  545137 of 829455 complete Elapsed: 1.6 minutes\t Remaining: 0.9 minutes"
       ]
      },
      {
       "output_type": "stream",
       "stream": "stdout",
       "text": [
        " \r",
        "[*****************67%*****             ]  554714 of 829455 complete Elapsed: 1.7 minutes\t Remaining: 0.8 minutes"
       ]
      },
      {
       "output_type": "stream",
       "stream": "stdout",
       "text": [
        " \r",
        "[*****************68%******            ]  564290 of 829455 complete Elapsed: 1.7 minutes\t Remaining: 0.8 minutes"
       ]
      },
      {
       "output_type": "stream",
       "stream": "stdout",
       "text": [
        " \r",
        "[*****************69%******            ]  573173 of 829455 complete Elapsed: 1.7 minutes\t Remaining: 0.8 minutes"
       ]
      },
      {
       "output_type": "stream",
       "stream": "stdout",
       "text": [
        " \r",
        "[*****************70%*******           ]  582740 of 829455 complete Elapsed: 1.7 minutes\t Remaining: 0.7 minutes"
       ]
      },
      {
       "output_type": "stream",
       "stream": "stdout",
       "text": [
        " \r",
        "[*****************71%*******           ]  592290 of 829455 complete Elapsed: 1.8 minutes\t Remaining: 0.7 minutes"
       ]
      },
      {
       "output_type": "stream",
       "stream": "stdout",
       "text": [
        " \r",
        "[*****************73%********          ]  601799 of 829455 complete Elapsed: 1.8 minutes\t Remaining: 0.7 minutes"
       ]
      },
      {
       "output_type": "stream",
       "stream": "stdout",
       "text": [
        " \r",
        "[*****************74%********          ]  610614 of 829455 complete Elapsed: 1.8 minutes\t Remaining: 0.6 minutes"
       ]
      },
      {
       "output_type": "stream",
       "stream": "stdout",
       "text": [
        " \r",
        "[*****************75%*********         ]  620157 of 829455 complete Elapsed: 1.8 minutes\t Remaining: 0.6 minutes"
       ]
      },
      {
       "output_type": "stream",
       "stream": "stdout",
       "text": [
        " \r",
        "[*****************76%*********         ]  629691 of 829455 complete Elapsed: 1.9 minutes\t Remaining: 0.6 minutes"
       ]
      },
      {
       "output_type": "stream",
       "stream": "stdout",
       "text": [
        " \r",
        "[*****************77%*********         ]  639222 of 829455 complete Elapsed: 1.9 minutes\t Remaining: 0.6 minutes"
       ]
      },
      {
       "output_type": "stream",
       "stream": "stdout",
       "text": [
        " \r",
        "[*****************78%**********        ]  648762 of 829455 complete Elapsed: 1.9 minutes\t Remaining: 0.5 minutes"
       ]
      },
      {
       "output_type": "stream",
       "stream": "stdout",
       "text": [
        " \r",
        "[*****************79%**********        ]  657743 of 829455 complete Elapsed: 1.9 minutes\t Remaining: 0.5 minutes"
       ]
      },
      {
       "output_type": "stream",
       "stream": "stdout",
       "text": [
        " \r",
        "[*****************80%**********        ]  661940 of 829455 complete Elapsed: 2.0 minutes\t Remaining: 0.5 minutes"
       ]
      },
      {
       "output_type": "stream",
       "stream": "stdout",
       "text": [
        " \r",
        "[*****************81%***********       ]  671580 of 829455 complete Elapsed: 2.0 minutes\t Remaining: 0.5 minutes"
       ]
      },
      {
       "output_type": "stream",
       "stream": "stdout",
       "text": [
        " \r",
        "[*****************82%***********       ]  681222 of 829455 complete Elapsed: 2.0 minutes\t Remaining: 0.4 minutes"
       ]
      },
      {
       "output_type": "stream",
       "stream": "stdout",
       "text": [
        " \r",
        "[*****************83%************      ]  690839 of 829455 complete Elapsed: 2.1 minutes\t Remaining: 0.4 minutes"
       ]
      },
      {
       "output_type": "stream",
       "stream": "stdout",
       "text": [
        " \r",
        "[*****************84%************      ]  700445 of 829455 complete Elapsed: 2.1 minutes\t Remaining: 0.4 minutes"
       ]
      },
      {
       "output_type": "stream",
       "stream": "stdout",
       "text": [
        " \r",
        "[*****************86%*************     ]  709432 of 829455 complete Elapsed: 2.1 minutes\t Remaining: 0.4 minutes"
       ]
      },
      {
       "output_type": "stream",
       "stream": "stdout",
       "text": [
        " \r",
        "[*****************87%*************     ]  719048 of 829455 complete Elapsed: 2.1 minutes\t Remaining: 0.3 minutes"
       ]
      },
      {
       "output_type": "stream",
       "stream": "stdout",
       "text": [
        " \r",
        "[*****************88%*************     ]  728045 of 829455 complete Elapsed: 2.2 minutes\t Remaining: 0.3 minutes"
       ]
      },
      {
       "output_type": "stream",
       "stream": "stdout",
       "text": [
        " \r",
        "[*****************89%**************    ]  737018 of 829455 complete Elapsed: 2.2 minutes\t Remaining: 0.3 minutes"
       ]
      },
      {
       "output_type": "stream",
       "stream": "stdout",
       "text": [
        " \r",
        "[*****************90%**************    ]  746589 of 829455 complete Elapsed: 2.2 minutes\t Remaining: 0.2 minutes"
       ]
      },
      {
       "output_type": "stream",
       "stream": "stdout",
       "text": [
        " \r",
        "[*****************91%***************   ]  755443 of 829455 complete Elapsed: 2.2 minutes\t Remaining: 0.2 minutes"
       ]
      },
      {
       "output_type": "stream",
       "stream": "stdout",
       "text": [
        " \r",
        "[*****************92%***************   ]  764983 of 829455 complete Elapsed: 2.3 minutes\t Remaining: 0.2 minutes"
       ]
      },
      {
       "output_type": "stream",
       "stream": "stdout",
       "text": [
        " \r",
        "[*****************93%***************   ]  774570 of 829455 complete Elapsed: 2.3 minutes\t Remaining: 0.2 minutes"
       ]
      },
      {
       "output_type": "stream",
       "stream": "stdout",
       "text": [
        "\n"
       ]
      }
     ],
     "prompt_number": 15
    }
   ],
   "metadata": {}
  }
 ]
}