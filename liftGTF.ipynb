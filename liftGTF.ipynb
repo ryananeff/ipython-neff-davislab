{
 "metadata": {
  "name": ""
 },
 "nbformat": 3,
 "nbformat_minor": 0,
 "worksheets": [
  {
   "cells": [
    {
     "cell_type": "code",
     "collapsed": false,
     "input": [
      "# sets up the environment - use everytime\n",
      "%matplotlib inline\n",
      "%run /data/projects_gibbons/home/neffra/ipython_notebooks/ipy_setup.py\n",
      "rcParams['figure.figsize'] = (30, 10)\n",
      "rcParams['patch.edgecolor'] = 'blue'\n",
      "rcParams['figure.dpi'] = 300\n",
      "rcParams['font.size'] = 14\n",
      "rcParams['font.family'] = 'sans-serif'"
     ],
     "language": "python",
     "metadata": {},
     "outputs": [],
     "prompt_number": 2
    },
    {
     "cell_type": "code",
     "collapsed": false,
     "input": [
      "chr_names=[\"chr1\",\"chr2\",\"chr3\",\"chr4\",\"chr5\",\"chr6\",\"chr7\",\"chr8\",\"chr9\",\"chr10\",\"chr11\",\"chr12\",\"chr13\",\n",
      "               \"chr14\",\"chr15\",\"chr16\",\"chr17\",\"chr18\",\"chr19\",\"chr20\",\"chr21\",\"chr22\",\"chrX\",\"chrY\"]"
     ],
     "language": "python",
     "metadata": {},
     "outputs": [],
     "prompt_number": 83
    },
    {
     "cell_type": "code",
     "collapsed": false,
     "input": [
      "def liftoverVCF(ref_vcf, liftover_file, out_file, reverse=False): # this goes from hg## --> AFRG1 direction\n",
      "    outarr = []\n",
      "    num = subprocess.check_output('head -n 1000 ' + ref_vcf + ' | grep \"#\" | wc -l', shell=True)\n",
      "    vcffile = pd.read_csv(ref_vcf, header=None, sep='\\t', skiprows=int(num))\n",
      "    \n",
      "    colnames=['chain','score','ref_chr','ref_len','ref_misc','ref_start','ref_end',\n",
      "              'alt_chr','alt_len','alt_misc','alt_start','alt_end']\n",
      "    \n",
      "    chr_names=[\"chr1\",\"chr2\",\"chr3\",\"chr4\",\"chr5\",\"chr6\",\"chr7\",\"chr8\",\"chr9\",\"chr10\",\"chr11\",\"chr12\",\"chr13\",\n",
      "               \"chr14\",\"chr15\",\"chr16\",\"chr17\",\"chr18\",\"chr19\",\"chr20\",\"chr21\",\"chr22\",\"chrX\",\"chrY\"]\n",
      "    \n",
      "    liftover = pd.read_csv(liftover_file,sep='\\t',header=None, \n",
      "                       names=colnames)\n",
      "    liftover.set_index(['ref_chr', 'ref_start', 'ref_end'], inplace=True)\n",
      "    \n",
      "    # now that we're init'd, let's start\n",
      "    pbar = ProgressBar(len(vcffile))\n",
      "    for chrom in chr_names:\n",
      "        last_pos = 0\n",
      "        tmp = vcffile[vcffile[0]==chrom]\n",
      "        for a,line in tmp.iterrows():\n",
      "            pbar.animate()\n",
      "            outline = line\n",
      "            pos = lift_master(line[1], liftover, chrom, reverse)\n",
      "            if pos != None:\n",
      "                if last_pos < pos:\n",
      "                    last_pos = pos\n",
      "                    outline[1] = pos\n",
      "                    outarr.append(outline)\n",
      "                else:\n",
      "                    sys.stderr.write('WARN: pos ' + str(pos) + ' is less than or equal to last_pos ' + str(last_pos) + '\\n')\n",
      "                    sys.stderr.flush()\n",
      "    outarr = pd.DataFrame(outarr)\n",
      "    outarr.to_csv(out_file, header=None, sep='\\t', index=None) # and we're done!        "
     ],
     "language": "python",
     "metadata": {},
     "outputs": [],
     "prompt_number": 3
    },
    {
     "cell_type": "code",
     "collapsed": false,
     "input": [
      "# this is the code to make liftovers work going in the hg## --> AFRG1 direction\n",
      "def lift_master(ref_pos, liftover, chrom, reverse):\n",
      "    global lifttable\n",
      "    global start_idx\n",
      "    global end_idx\n",
      "    global last_chr\n",
      "    global lift_til\n",
      "    global delta\n",
      "    if reverse==False:\n",
      "        if last_chr != chrom:\n",
      "            # this is where we subset the liftover array\n",
      "            lifttable = liftover.loc[chrom]\n",
      "            start_idx = lifttable.index.get_level_values('ref_start')\n",
      "            end_idx = lifttable.index.get_level_values('ref_end')\n",
      "            last_chr = chrom\n",
      "            lift_til = 0 #important!\n",
      "            delta = 0 #important!\n",
      "        if ref_pos > lift_til: # check if cached?\n",
      "            try:\n",
      "                delta, lift_til = liftdelta(ref_pos, lifttable, start_idx, end_idx, reverse) # converts position into alt ref pos\n",
      "            except:\n",
      "                return None\n",
      "    elif reverse==True:\n",
      "        if last_chr != chrom:\n",
      "            # this is where we subset the liftover array\n",
      "            lifttable = liftover.loc[chrom]\n",
      "            start_idx = lifttable.index.get_level_values('alt_start')\n",
      "            end_idx = lifttable.index.get_level_values('alt_end')\n",
      "            last_chr = chrom\n",
      "            lift_til = 0 #important!\n",
      "            delta = 0 #important!\n",
      "        if ref_pos > lift_til: # check if cached?\n",
      "            try:\n",
      "                delta, lift_til = liftdelta(ref_pos, lifttable, start_idx, end_idx, reverse) # converts position into alt ref pos\n",
      "            except:\n",
      "                return None\n",
      "    else:\n",
      "        assert False, \"unhandled command\"\n",
      "    return ref_pos + delta\n",
      "\n",
      "\n",
      "def liftdelta(pos, liftover, start_idx, end_idx, reverse):\n",
      "    match = liftover.loc[(start_idx <= pos) & (end_idx > pos)].reset_index().irow(0)\n",
      "    if reverse==False:\n",
      "        return match['alt_start'] - match['ref_start'], match['ref_end']\n",
      "    elif reverse==True:\n",
      "        return match['ref_start'] - match['alt_start'], match['alt_end']"
     ],
     "language": "python",
     "metadata": {},
     "outputs": [],
     "prompt_number": 4
    },
    {
     "cell_type": "code",
     "collapsed": false,
     "input": [
      "intervalfile=pd.read_csv(\"/data/projects_gibbons/home/neffra/references/covered/covered_hg38.intervals\", sep='\\t', header=None)"
     ],
     "language": "python",
     "metadata": {},
     "outputs": [],
     "prompt_number": 5
    },
    {
     "cell_type": "code",
     "collapsed": false,
     "input": [
      "print len(intervalfile)\n",
      "len(intervalfile_sort)"
     ],
     "language": "python",
     "metadata": {},
     "outputs": [
      {
       "output_type": "stream",
       "stream": "stdout",
       "text": [
        "230856\n"
       ]
      },
      {
       "metadata": {},
       "output_type": "pyout",
       "prompt_number": 9,
       "text": [
        "230856"
       ]
      }
     ],
     "prompt_number": 9
    },
    {
     "cell_type": "code",
     "collapsed": false,
     "input": [
      "print intervalfile[intervalfile[2].isnull()]"
     ],
     "language": "python",
     "metadata": {},
     "outputs": [
      {
       "output_type": "stream",
       "stream": "stdout",
       "text": [
        "            0   1   2\n",
        "4011    track NaN NaN\n",
        "8012    track NaN NaN\n",
        "12013   track NaN NaN\n",
        "16150   track NaN NaN\n",
        "20151   track NaN NaN\n",
        "24152   track NaN NaN\n",
        "28153   track NaN NaN\n",
        "32168   track NaN NaN\n",
        "36169   track NaN NaN\n",
        "40170   track NaN NaN\n",
        "44171   track NaN NaN\n",
        "48173   track NaN NaN\n",
        "52174   track NaN NaN\n",
        "56179   track NaN NaN\n",
        "60181   track NaN NaN\n",
        "64189   track NaN NaN\n",
        "68191   track NaN NaN\n",
        "72192   track NaN NaN\n",
        "76193   track NaN NaN\n",
        "80217   track NaN NaN\n",
        "84218   track NaN NaN\n",
        "88219   track NaN NaN\n",
        "92245   track NaN NaN\n",
        "96245   track NaN NaN\n",
        "100247  track NaN NaN\n",
        "104248  track NaN NaN\n",
        "108267  track NaN NaN\n",
        "112268  track NaN NaN\n",
        "116268  track NaN NaN\n",
        "120295  track NaN NaN\n",
        "124299  track NaN NaN\n",
        "128312  track NaN NaN\n",
        "132313  track NaN NaN\n",
        "136314  track NaN NaN\n",
        "140315  track NaN NaN\n",
        "144317  track NaN NaN\n",
        "148318  track NaN NaN\n",
        "152318  track NaN NaN\n",
        "156320  track NaN NaN\n",
        "160321  track NaN NaN\n",
        "164356  track NaN NaN\n",
        "168342  track NaN NaN\n",
        "172344  track NaN NaN\n",
        "176359  track NaN NaN\n",
        "180360  track NaN NaN\n",
        "184362  track NaN NaN\n",
        "188394  track NaN NaN\n",
        "192395  track NaN NaN\n",
        "196396  track NaN NaN\n",
        "200397  track NaN NaN\n",
        "204397  track NaN NaN\n",
        "208387  track NaN NaN\n",
        "212390  track NaN NaN\n",
        "216445  track NaN NaN\n",
        "220479  track NaN NaN\n",
        "224480  track NaN NaN\n",
        "228486  track NaN NaN\n",
        "\n",
        "[57 rows x 3 columns]\n"
       ]
      }
     ],
     "prompt_number": 7
    },
    {
     "cell_type": "code",
     "collapsed": false,
     "input": [
      "def atoi_grace(x):\n",
      "    try:\n",
      "        return string.atoi(x)\n",
      "    except:\n",
      "        return x\n",
      "intervalfile['chr'] = intervalfile[0].map(lambda x: atoi_grace(x[3:len(x)]))\n",
      "intervalfile = intervalfile.dropna()\n",
      "intervalfile[1] = intervalfile[1].astype(int)\n",
      "intervalfile[2] = intervalfile[2].astype(int)\n",
      "intervalfile_sort = intervalfile.sort(['chr',1,2]).copy()"
     ],
     "language": "python",
     "metadata": {},
     "outputs": [],
     "prompt_number": 8
    },
    {
     "cell_type": "code",
     "collapsed": false,
     "input": [
      "lifttable = ''\n",
      "last_chr = ''\n",
      "lift_til = 0\n",
      "delta = 0\n",
      "intervalfile_AFRG = []\n",
      "pbar = ProgressBar(len(intervalfile_sort))\n",
      "for a in zip(intervalfile_sort[0], intervalfile_sort[1], intervalfile_sort[2]):\n",
      "    chrom, start, end = a\n",
      "    pbar.animate()\n",
      "    newstart = lift_master(start, liftover, chrom, reverse=False)\n",
      "    intervalfile_AFRG.append([chrom, newstart, end])"
     ],
     "language": "python",
     "metadata": {},
     "outputs": [
      {
       "output_type": "stream",
       "stream": "stdout",
       "text": [
        "\r",
        "[                  0%                  ]"
       ]
      },
      {
       "output_type": "stream",
       "stream": "stdout",
       "text": [
        " \r",
        "[**                5%                  ]  12457 of 230856 complete Elapsed: 0.0 minutes\t Remaining: 0.4 minutes"
       ]
      },
      {
       "output_type": "stream",
       "stream": "stdout",
       "text": [
        " \r",
        "[****             11%                  ]  24405 of 230856 complete Elapsed: 0.1 minutes\t Remaining: 0.4 minutes"
       ]
      },
      {
       "output_type": "stream",
       "stream": "stdout",
       "text": [
        " \r",
        "[******           16%                  ]  35913 of 230856 complete Elapsed: 0.1 minutes\t Remaining: 0.4 minutes"
       ]
      },
      {
       "output_type": "stream",
       "stream": "stdout",
       "text": [
        " \r",
        "[********         21%                  ]  47729 of 230856 complete Elapsed: 0.1 minutes\t Remaining: 0.4 minutes"
       ]
      },
      {
       "output_type": "stream",
       "stream": "stdout",
       "text": [
        " \r",
        "[**********       26%                  ]  60271 of 230856 complete Elapsed: 0.1 minutes\t Remaining: 0.4 minutes"
       ]
      },
      {
       "output_type": "stream",
       "stream": "stdout",
       "text": [
        " \r",
        "[************     31%                  ]  71429 of 230856 complete Elapsed: 0.2 minutes\t Remaining: 0.3 minutes"
       ]
      },
      {
       "output_type": "stream",
       "stream": "stdout",
       "text": [
        " \r",
        "[**************   37%                  ]  84985 of 230856 complete Elapsed: 0.2 minutes\t Remaining: 0.3 minutes"
       ]
      },
      {
       "output_type": "stream",
       "stream": "stdout",
       "text": [
        " \r",
        "[*****************44%                  ]  100460 of 230856 complete Elapsed: 0.2 minutes\t Remaining: 0.3 minutes"
       ]
      },
      {
       "output_type": "stream",
       "stream": "stdout",
       "text": [
        " \r",
        "[*****************46%                  ]  106117 of 230856 complete Elapsed: 0.2 minutes\t Remaining: 0.3 minutes"
       ]
      },
      {
       "output_type": "stream",
       "stream": "stdout",
       "text": [
        " \r",
        "[*****************53%                  ]  121763 of 230856 complete Elapsed: 0.3 minutes\t Remaining: 0.2 minutes"
       ]
      },
      {
       "output_type": "stream",
       "stream": "stdout",
       "text": [
        " \r",
        "[*****************58%**                ]  133190 of 230856 complete Elapsed: 0.3 minutes\t Remaining: 0.2 minutes"
       ]
      },
      {
       "output_type": "stream",
       "stream": "stdout",
       "text": [
        " \r",
        "[*****************61%***               ]  141799 of 230856 complete Elapsed: 0.3 minutes\t Remaining: 0.2 minutes"
       ]
      },
      {
       "output_type": "stream",
       "stream": "stdout",
       "text": [
        " \r",
        "[*****************66%*****             ]  153019 of 230856 complete Elapsed: 0.3 minutes\t Remaining: 0.2 minutes"
       ]
      },
      {
       "output_type": "stream",
       "stream": "stdout",
       "text": [
        " \r",
        "[*****************71%*******           ]  164054 of 230856 complete Elapsed: 0.4 minutes\t Remaining: 0.1 minutes"
       ]
      },
      {
       "output_type": "stream",
       "stream": "stdout",
       "text": [
        " \r",
        "[*****************75%*********         ]  172508 of 230856 complete Elapsed: 0.4 minutes\t Remaining: 0.1 minutes"
       ]
      },
      {
       "output_type": "stream",
       "stream": "stdout",
       "text": [
        " \r",
        "[*****************79%**********        ]  183048 of 230856 complete Elapsed: 0.4 minutes\t Remaining: 0.1 minutes"
       ]
      },
      {
       "output_type": "stream",
       "stream": "stdout",
       "text": [
        " \r",
        "[*****************84%************      ]  195052 of 230856 complete Elapsed: 0.4 minutes\t Remaining: 0.1 minutes"
       ]
      },
      {
       "output_type": "stream",
       "stream": "stdout",
       "text": [
        " \r",
        "[*****************89%**************    ]  204724 of 230856 complete Elapsed: 0.5 minutes\t Remaining: 0.1 minutes"
       ]
      },
      {
       "output_type": "stream",
       "stream": "stdout",
       "text": [
        " \r",
        "[*****************93%***************   ]  214137 of 230856 complete Elapsed: 0.5 minutes\t Remaining: 0.0 minutes"
       ]
      },
      {
       "output_type": "stream",
       "stream": "stdout",
       "text": [
        "\n"
       ]
      }
     ],
     "prompt_number": 21
    },
    {
     "cell_type": "code",
     "collapsed": false,
     "input": [
      "lifttable = ''\n",
      "last_chr = ''\n",
      "lift_til = 0\n",
      "delta = 0\n",
      "intervalfile_AFRG = pd.DataFrame(intervalfile_AFRG)\n",
      "pbar = ProgressBar(len(intervalfile_AFRG))\n",
      "intervalfile_AFRG2_old = []\n",
      "for a in zip(intervalfile_AFRG[0], intervalfile_AFRG[1], intervalfile_AFRG[2]):\n",
      "    chrom, start, end = a\n",
      "    pbar.animate()\n",
      "    newend = lift_master(end, liftover, chrom, reverse=False)\n",
      "    intervalfile_AFRG2_old.append([chrom, start, newend])"
     ],
     "language": "python",
     "metadata": {},
     "outputs": [
      {
       "output_type": "stream",
       "stream": "stdout",
       "text": [
        "\r",
        "[                  0%                  ]"
       ]
      },
      {
       "output_type": "stream",
       "stream": "stdout",
       "text": [
        " \r",
        "[**                6%                  ]  13371 of 230856 complete Elapsed: 0.0 minutes\t Remaining: 0.4 minutes"
       ]
      },
      {
       "output_type": "stream",
       "stream": "stdout",
       "text": [
        " \r",
        "[****             11%                  ]  25164 of 230856 complete Elapsed: 0.1 minutes\t Remaining: 0.4 minutes"
       ]
      },
      {
       "output_type": "stream",
       "stream": "stdout",
       "text": [
        " \r",
        "[******           16%                  ]  36208 of 230856 complete Elapsed: 0.1 minutes\t Remaining: 0.4 minutes"
       ]
      },
      {
       "output_type": "stream",
       "stream": "stdout",
       "text": [
        " \r",
        "[********         21%                  ]  47907 of 230856 complete Elapsed: 0.1 minutes\t Remaining: 0.4 minutes"
       ]
      },
      {
       "output_type": "stream",
       "stream": "stdout",
       "text": [
        " \r",
        "[**********       26%                  ]  60456 of 230856 complete Elapsed: 0.1 minutes\t Remaining: 0.4 minutes"
       ]
      },
      {
       "output_type": "stream",
       "stream": "stdout",
       "text": [
        " \r",
        "[************     31%                  ]  71564 of 230856 complete Elapsed: 0.2 minutes\t Remaining: 0.3 minutes"
       ]
      },
      {
       "output_type": "stream",
       "stream": "stdout",
       "text": [
        " \r",
        "[**************   37%                  ]  86390 of 230856 complete Elapsed: 0.2 minutes\t Remaining: 0.3 minutes"
       ]
      },
      {
       "output_type": "stream",
       "stream": "stdout",
       "text": [
        " \r",
        "[*****************44%                  ]  100546 of 230856 complete Elapsed: 0.2 minutes\t Remaining: 0.3 minutes"
       ]
      },
      {
       "output_type": "stream",
       "stream": "stdout",
       "text": [
        " \r",
        "[*****************46%                  ]  106051 of 230856 complete Elapsed: 0.2 minutes\t Remaining: 0.3 minutes"
       ]
      },
      {
       "output_type": "stream",
       "stream": "stdout",
       "text": [
        " \r",
        "[*****************53%                  ]  121744 of 230856 complete Elapsed: 0.3 minutes\t Remaining: 0.2 minutes"
       ]
      },
      {
       "output_type": "stream",
       "stream": "stdout",
       "text": [
        " \r",
        "[*****************58%**                ]  133190 of 230856 complete Elapsed: 0.3 minutes\t Remaining: 0.2 minutes"
       ]
      },
      {
       "output_type": "stream",
       "stream": "stdout",
       "text": [
        " \r",
        "[*****************61%***               ]  141797 of 230856 complete Elapsed: 0.3 minutes\t Remaining: 0.2 minutes"
       ]
      },
      {
       "output_type": "stream",
       "stream": "stdout",
       "text": [
        " \r",
        "[*****************66%*****             ]  152942 of 230856 complete Elapsed: 0.3 minutes\t Remaining: 0.2 minutes"
       ]
      },
      {
       "output_type": "stream",
       "stream": "stdout",
       "text": [
        " \r",
        "[*****************71%*******           ]  164052 of 230856 complete Elapsed: 0.4 minutes\t Remaining: 0.1 minutes"
       ]
      },
      {
       "output_type": "stream",
       "stream": "stdout",
       "text": [
        " \r",
        "[*****************75%*********         ]  173328 of 230856 complete Elapsed: 0.4 minutes\t Remaining: 0.1 minutes"
       ]
      },
      {
       "output_type": "stream",
       "stream": "stdout",
       "text": [
        " \r",
        "[*****************80%**********        ]  184848 of 230856 complete Elapsed: 0.4 minutes\t Remaining: 0.1 minutes"
       ]
      },
      {
       "output_type": "stream",
       "stream": "stdout",
       "text": [
        " \r",
        "[*****************84%************      ]  194920 of 230856 complete Elapsed: 0.4 minutes\t Remaining: 0.1 minutes"
       ]
      },
      {
       "output_type": "stream",
       "stream": "stdout",
       "text": [
        " \r",
        "[*****************89%**************    ]  204644 of 230856 complete Elapsed: 0.5 minutes\t Remaining: 0.1 minutes"
       ]
      },
      {
       "output_type": "stream",
       "stream": "stdout",
       "text": [
        " \r",
        "[*****************93%***************   ]  214071 of 230856 complete Elapsed: 0.5 minutes\t Remaining: 0.0 minutes"
       ]
      },
      {
       "output_type": "stream",
       "stream": "stdout",
       "text": [
        "\n"
       ]
      }
     ],
     "prompt_number": 22
    },
    {
     "cell_type": "code",
     "collapsed": false,
     "input": [
      "intervalfile_AFRG2_old_pd = pd.DataFrame(intervalfile_AFRG2_old)\n",
      "intervalfile_AFRG2_old_pd.set_index(intervalfile_AFRG2_old_pd[0], inplace=True)"
     ],
     "language": "python",
     "metadata": {},
     "outputs": [],
     "prompt_number": 29
    },
    {
     "cell_type": "code",
     "collapsed": false,
     "input": [
      "#now we need the chromosome sizes...\n",
      "genome_sizes = pd.read_csv('/data/projects_gibbons/home/neffra/nodel_AFRGh38/genome_sizes.txt', sep='\\t', header=None)\n",
      "genome_sizes.set_index(genome_sizes[0], inplace=True)"
     ],
     "language": "python",
     "metadata": {},
     "outputs": [],
     "prompt_number": 30
    },
    {
     "cell_type": "code",
     "collapsed": false,
     "input": [
      "# let's add 1 million bp to each just in case...\n",
      "genome_sizes[1] += 1000000"
     ],
     "language": "python",
     "metadata": {},
     "outputs": [],
     "prompt_number": 26
    },
    {
     "cell_type": "code",
     "collapsed": false,
     "input": [
      "# now let's compute the fix file...\n",
      "intervals_to_fix = []\n",
      "resultarr = []\n",
      "oldarr = []\n",
      "#step 1: let's make a giant string and add the old to it\n",
      "for chromosome in chr_names:\n",
      "    size = genome_sizes.loc[chromosome + ' '][1]\n",
      "    print chromosome\n",
      "    sys.stdout.flush()\n",
      "    oldarr = [True] * size # may take a while...\n",
      "    newarr = [False] * size # may also take a while\n",
      "    pbar = ProgressBar(len(intervalfile_AFRG2_old_pd.loc[chromosome]))\n",
      "    for a,i in intervalfile_AFRG2_old_pd.loc[chromosome].iterrows():\n",
      "        pbar.animate()\n",
      "        chrom, start, end = i\n",
      "        try:\n",
      "            start = int(start)\n",
      "            end = int(end)\n",
      "        except:\n",
      "            continue\n",
      "        oldarr[start:end] = [False] * (end-start)\n",
      "    # now that we've done the old array, let's do the new array\n",
      "    pbar = ProgressBar(len(intervalfile_AFRG2_pd.loc[chromosome]))\n",
      "    for a,i in intervalfile_AFRG2_pd.loc[chromosome].iterrows():\n",
      "        pbar.animate()\n",
      "        chrom, start, end = i\n",
      "        try:\n",
      "            start = int(start)\n",
      "            end = int(end)\n",
      "        except:\n",
      "            continue\n",
      "        newarr[start:end] = [True] * (end-start)\n",
      "    #now some fancy-pants logic\n",
      "    #we want B NOT A\n",
      "    sys.stderr.write('Doing logic...\\n')\n",
      "    sys.stderr.flush()\n",
      "    resultarr = np.logical_and(oldarr, newarr)\n",
      "    startval = 0\n",
      "    count = 0\n",
      "    sys.stderr.write('Printing intervals...\\n')\n",
      "    sys.stderr.flush()\n",
      "    for k,g in groupby(resultarr):\n",
      "        length = len(list(g))\n",
      "        startval += length\n",
      "        if k:\n",
      "            intervals_to_fix.append([chromosome, startval-length, startval]) # add to array"
     ],
     "language": "python",
     "metadata": {},
     "outputs": [
      {
       "output_type": "stream",
       "stream": "stdout",
       "text": [
        "chr1\n"
       ]
      },
      {
       "output_type": "stream",
       "stream": "stdout",
       "text": [
        "\r",
        "[                  0%                  ]"
       ]
      },
      {
       "output_type": "stream",
       "stream": "stdout",
       "text": [
        " \r",
        "[                  0%                  ]"
       ]
      },
      {
       "output_type": "stream",
       "stream": "stderr",
       "text": [
        "Doing logic...\n"
       ]
      },
      {
       "output_type": "stream",
       "stream": "stderr",
       "text": [
        "Printing intervals...\n"
       ]
      },
      {
       "output_type": "stream",
       "stream": "stdout",
       "text": [
        " chr2\n"
       ]
      },
      {
       "output_type": "stream",
       "stream": "stdout",
       "text": [
        "\r",
        "[                  0%                  ]"
       ]
      },
      {
       "output_type": "stream",
       "stream": "stderr",
       "text": [
        "Doing logic...\n"
       ]
      },
      {
       "output_type": "stream",
       "stream": "stderr",
       "text": [
        "Printing intervals...\n"
       ]
      },
      {
       "output_type": "stream",
       "stream": "stdout",
       "text": [
        " chr3\n"
       ]
      },
      {
       "output_type": "stream",
       "stream": "stderr",
       "text": [
        "Doing logic...\n"
       ]
      },
      {
       "output_type": "stream",
       "stream": "stderr",
       "text": [
        "Printing intervals...\n"
       ]
      },
      {
       "output_type": "stream",
       "stream": "stdout",
       "text": [
        "chr4\n"
       ]
      },
      {
       "output_type": "stream",
       "stream": "stderr",
       "text": [
        "Doing logic...\n"
       ]
      },
      {
       "output_type": "stream",
       "stream": "stderr",
       "text": [
        "Printing intervals...\n"
       ]
      },
      {
       "output_type": "stream",
       "stream": "stdout",
       "text": [
        "chr5\n"
       ]
      },
      {
       "output_type": "stream",
       "stream": "stderr",
       "text": [
        "Doing logic...\n"
       ]
      },
      {
       "output_type": "stream",
       "stream": "stderr",
       "text": [
        "Printing intervals...\n"
       ]
      },
      {
       "output_type": "stream",
       "stream": "stdout",
       "text": [
        "chr6\n"
       ]
      },
      {
       "output_type": "stream",
       "stream": "stderr",
       "text": [
        "Doing logic...\n"
       ]
      },
      {
       "output_type": "stream",
       "stream": "stderr",
       "text": [
        "Printing intervals...\n"
       ]
      },
      {
       "output_type": "stream",
       "stream": "stdout",
       "text": [
        "chr7\n"
       ]
      },
      {
       "output_type": "stream",
       "stream": "stderr",
       "text": [
        "Doing logic...\n"
       ]
      },
      {
       "output_type": "stream",
       "stream": "stderr",
       "text": [
        "Printing intervals...\n"
       ]
      },
      {
       "output_type": "stream",
       "stream": "stdout",
       "text": [
        "chr8\n"
       ]
      },
      {
       "output_type": "stream",
       "stream": "stderr",
       "text": [
        "Doing logic...\n"
       ]
      },
      {
       "output_type": "stream",
       "stream": "stderr",
       "text": [
        "Printing intervals...\n"
       ]
      },
      {
       "output_type": "stream",
       "stream": "stdout",
       "text": [
        "chr9\n"
       ]
      },
      {
       "output_type": "stream",
       "stream": "stderr",
       "text": [
        "Doing logic...\n"
       ]
      },
      {
       "output_type": "stream",
       "stream": "stderr",
       "text": [
        "Printing intervals...\n"
       ]
      },
      {
       "output_type": "stream",
       "stream": "stdout",
       "text": [
        "chr10\n"
       ]
      },
      {
       "output_type": "stream",
       "stream": "stderr",
       "text": [
        "Doing logic...\n"
       ]
      },
      {
       "output_type": "stream",
       "stream": "stderr",
       "text": [
        "Printing intervals...\n"
       ]
      },
      {
       "output_type": "stream",
       "stream": "stdout",
       "text": [
        "chr11\n"
       ]
      },
      {
       "output_type": "stream",
       "stream": "stderr",
       "text": [
        "Doing logic...\n"
       ]
      },
      {
       "output_type": "stream",
       "stream": "stderr",
       "text": [
        "Printing intervals...\n"
       ]
      },
      {
       "output_type": "stream",
       "stream": "stdout",
       "text": [
        "chr12\n"
       ]
      },
      {
       "output_type": "stream",
       "stream": "stderr",
       "text": [
        "Doing logic...\n"
       ]
      },
      {
       "output_type": "stream",
       "stream": "stderr",
       "text": [
        "Printing intervals...\n"
       ]
      },
      {
       "output_type": "stream",
       "stream": "stdout",
       "text": [
        "chr13\n"
       ]
      },
      {
       "output_type": "stream",
       "stream": "stderr",
       "text": [
        "Doing logic...\n"
       ]
      },
      {
       "output_type": "stream",
       "stream": "stderr",
       "text": [
        "Printing intervals...\n"
       ]
      },
      {
       "output_type": "stream",
       "stream": "stdout",
       "text": [
        "chr14\n"
       ]
      },
      {
       "output_type": "stream",
       "stream": "stderr",
       "text": [
        "Doing logic...\n"
       ]
      },
      {
       "output_type": "stream",
       "stream": "stderr",
       "text": [
        "Printing intervals...\n"
       ]
      },
      {
       "output_type": "stream",
       "stream": "stdout",
       "text": [
        "chr15\n"
       ]
      },
      {
       "output_type": "stream",
       "stream": "stderr",
       "text": [
        "Doing logic...\n"
       ]
      },
      {
       "output_type": "stream",
       "stream": "stderr",
       "text": [
        "Printing intervals...\n"
       ]
      },
      {
       "output_type": "stream",
       "stream": "stdout",
       "text": [
        "chr16\n"
       ]
      },
      {
       "output_type": "stream",
       "stream": "stderr",
       "text": [
        "Doing logic...\n"
       ]
      },
      {
       "output_type": "stream",
       "stream": "stderr",
       "text": [
        "Printing intervals...\n"
       ]
      },
      {
       "output_type": "stream",
       "stream": "stdout",
       "text": [
        "chr17\n"
       ]
      },
      {
       "output_type": "stream",
       "stream": "stderr",
       "text": [
        "Doing logic...\n"
       ]
      },
      {
       "output_type": "stream",
       "stream": "stderr",
       "text": [
        "Printing intervals...\n"
       ]
      },
      {
       "output_type": "stream",
       "stream": "stdout",
       "text": [
        "chr18\n"
       ]
      },
      {
       "output_type": "stream",
       "stream": "stderr",
       "text": [
        "Doing logic...\n"
       ]
      },
      {
       "output_type": "stream",
       "stream": "stderr",
       "text": [
        "Printing intervals...\n"
       ]
      },
      {
       "output_type": "stream",
       "stream": "stdout",
       "text": [
        "chr19\n"
       ]
      },
      {
       "output_type": "stream",
       "stream": "stderr",
       "text": [
        "Doing logic...\n"
       ]
      },
      {
       "output_type": "stream",
       "stream": "stderr",
       "text": [
        "Printing intervals...\n"
       ]
      },
      {
       "output_type": "stream",
       "stream": "stdout",
       "text": [
        "chr20\n"
       ]
      },
      {
       "output_type": "stream",
       "stream": "stderr",
       "text": [
        "Doing logic...\n"
       ]
      },
      {
       "output_type": "stream",
       "stream": "stderr",
       "text": [
        "Printing intervals...\n"
       ]
      },
      {
       "output_type": "stream",
       "stream": "stdout",
       "text": [
        "chr21\n"
       ]
      },
      {
       "output_type": "stream",
       "stream": "stderr",
       "text": [
        "Doing logic...\n"
       ]
      },
      {
       "output_type": "stream",
       "stream": "stderr",
       "text": [
        "Printing intervals...\n"
       ]
      },
      {
       "output_type": "stream",
       "stream": "stdout",
       "text": [
        "chr22\n"
       ]
      },
      {
       "output_type": "stream",
       "stream": "stderr",
       "text": [
        "Doing logic...\n"
       ]
      },
      {
       "output_type": "stream",
       "stream": "stderr",
       "text": [
        "Printing intervals...\n"
       ]
      },
      {
       "output_type": "stream",
       "stream": "stdout",
       "text": [
        "chrX\n"
       ]
      },
      {
       "output_type": "stream",
       "stream": "stderr",
       "text": [
        "Doing logic...\n"
       ]
      },
      {
       "output_type": "stream",
       "stream": "stderr",
       "text": [
        "Printing intervals...\n"
       ]
      },
      {
       "output_type": "stream",
       "stream": "stdout",
       "text": [
        "chrY\n"
       ]
      },
      {
       "output_type": "stream",
       "stream": "stderr",
       "text": [
        "Doing logic...\n"
       ]
      },
      {
       "output_type": "stream",
       "stream": "stderr",
       "text": [
        "Printing intervals...\n"
       ]
      }
     ],
     "prompt_number": 86
    },
    {
     "cell_type": "code",
     "collapsed": false,
     "input": [
      "intervals_to_fix_pd = pd.DataFrame(intervals_to_fix)"
     ],
     "language": "python",
     "metadata": {},
     "outputs": [],
     "prompt_number": 88
    },
    {
     "cell_type": "code",
     "collapsed": false,
     "input": [
      "intervals_to_fix_pd.to_csv('/data/projects_gibbons/home/neffra/nodel_AFRGh38/intervals_to_fix.intervals', sep='\\t', header=None, index=None)"
     ],
     "language": "python",
     "metadata": {},
     "outputs": [],
     "prompt_number": 89
    },
    {
     "cell_type": "code",
     "collapsed": false,
     "input": [
      "from operator import itemgetter\n",
      "from itertools import groupby"
     ],
     "language": "python",
     "metadata": {},
     "outputs": [],
     "prompt_number": 80
    },
    {
     "cell_type": "code",
     "collapsed": false,
     "input": [
      "# okay, so we messed up and used old region files, no matter...\n",
      "# we will now find the new areas we need to call variants"
     ],
     "language": "python",
     "metadata": {},
     "outputs": []
    },
    {
     "cell_type": "code",
     "collapsed": false,
     "input": [
      "print len(intervalfile_sort)\n",
      "len(intervalfile_AFRG2_pd[intervalfile_AFRG2_pd[1] < intervalfile_AFRG2_pd[2]])"
     ],
     "language": "python",
     "metadata": {},
     "outputs": [
      {
       "output_type": "stream",
       "stream": "stdout",
       "text": [
        "230856\n"
       ]
      },
      {
       "metadata": {},
       "output_type": "pyout",
       "prompt_number": 17,
       "text": [
        "230848"
       ]
      }
     ],
     "prompt_number": 17
    },
    {
     "cell_type": "code",
     "collapsed": false,
     "input": [
      "intervalfile_AFRG2_pd = pd.DataFrame(intervalfile_AFRG2)\n",
      "intervalfile_AFRG2_pd = intervalfile_AFRG2_pd.dropna()"
     ],
     "language": "python",
     "metadata": {},
     "outputs": [],
     "prompt_number": 16
    },
    {
     "cell_type": "code",
     "collapsed": false,
     "input": [
      "intervalfile_AFRG2_pd.set_index(intervalfile_AFRG2_pd[0], inplace=True)"
     ],
     "language": "python",
     "metadata": {},
     "outputs": [],
     "prompt_number": 42
    },
    {
     "cell_type": "code",
     "collapsed": false,
     "input": [
      "intervalfile_AFRG2_pd.to_csv(\"/data/projects_gibbons/home/neffra/nodel_AFRGh38/covered_AFRG_nodel.fixed.intervals\", sep=\"\\t\", header=None, index=None)"
     ],
     "language": "python",
     "metadata": {},
     "outputs": [],
     "prompt_number": 19
    },
    {
     "cell_type": "code",
     "collapsed": false,
     "input": [
      "gtffile = pd.read_csv('/data/projects_gibbons/home/neffra/references/hg19_genes.gtf', sep='\\t', header=None)"
     ],
     "language": "python",
     "metadata": {},
     "outputs": [],
     "prompt_number": 5
    },
    {
     "cell_type": "code",
     "collapsed": false,
     "input": [
      "gtffile"
     ],
     "language": "python",
     "metadata": {},
     "outputs": [
      {
       "html": [
        "<div style=\"max-height:1000px;max-width:1500px;overflow:auto;\">\n",
        "<table border=\"1\" class=\"dataframe\">\n",
        "  <thead>\n",
        "    <tr style=\"text-align: right;\">\n",
        "      <th></th>\n",
        "      <th>0</th>\n",
        "      <th>1</th>\n",
        "      <th>2</th>\n",
        "      <th>3</th>\n",
        "      <th>4</th>\n",
        "      <th>5</th>\n",
        "      <th>6</th>\n",
        "      <th>7</th>\n",
        "      <th>8</th>\n",
        "    </tr>\n",
        "  </thead>\n",
        "  <tbody>\n",
        "    <tr>\n",
        "      <th>0 </th>\n",
        "      <td> chr1</td>\n",
        "      <td> unknown</td>\n",
        "      <td>        exon</td>\n",
        "      <td>  11874</td>\n",
        "      <td>  12227</td>\n",
        "      <td> .</td>\n",
        "      <td> +</td>\n",
        "      <td> .</td>\n",
        "      <td> gene_id \"DDX11L1\"; transcript_id \"NR_046018_1\"...</td>\n",
        "    </tr>\n",
        "    <tr>\n",
        "      <th>1 </th>\n",
        "      <td> chr1</td>\n",
        "      <td> unknown</td>\n",
        "      <td>        exon</td>\n",
        "      <td>  12613</td>\n",
        "      <td>  12721</td>\n",
        "      <td> .</td>\n",
        "      <td> +</td>\n",
        "      <td> .</td>\n",
        "      <td> gene_id \"DDX11L1\"; transcript_id \"NR_046018_1\"...</td>\n",
        "    </tr>\n",
        "    <tr>\n",
        "      <th>2 </th>\n",
        "      <td> chr1</td>\n",
        "      <td> unknown</td>\n",
        "      <td>        exon</td>\n",
        "      <td>  13221</td>\n",
        "      <td>  14408</td>\n",
        "      <td> .</td>\n",
        "      <td> +</td>\n",
        "      <td> .</td>\n",
        "      <td> gene_id \"DDX11L1\"; transcript_id \"NR_046018_1\"...</td>\n",
        "    </tr>\n",
        "    <tr>\n",
        "      <th>3 </th>\n",
        "      <td> chr1</td>\n",
        "      <td> unknown</td>\n",
        "      <td>        exon</td>\n",
        "      <td>  14362</td>\n",
        "      <td>  14829</td>\n",
        "      <td> .</td>\n",
        "      <td> -</td>\n",
        "      <td> .</td>\n",
        "      <td> gene_id \"WASH7P\"; transcript_id \"NR_024540\"; g...</td>\n",
        "    </tr>\n",
        "    <tr>\n",
        "      <th>4 </th>\n",
        "      <td> chr1</td>\n",
        "      <td> unknown</td>\n",
        "      <td>        exon</td>\n",
        "      <td>  14970</td>\n",
        "      <td>  15038</td>\n",
        "      <td> .</td>\n",
        "      <td> -</td>\n",
        "      <td> .</td>\n",
        "      <td> gene_id \"WASH7P\"; transcript_id \"NR_024540\"; g...</td>\n",
        "    </tr>\n",
        "    <tr>\n",
        "      <th>5 </th>\n",
        "      <td> chr1</td>\n",
        "      <td> unknown</td>\n",
        "      <td>        exon</td>\n",
        "      <td>  15796</td>\n",
        "      <td>  15947</td>\n",
        "      <td> .</td>\n",
        "      <td> -</td>\n",
        "      <td> .</td>\n",
        "      <td> gene_id \"WASH7P\"; transcript_id \"NR_024540\"; g...</td>\n",
        "    </tr>\n",
        "    <tr>\n",
        "      <th>6 </th>\n",
        "      <td> chr1</td>\n",
        "      <td> unknown</td>\n",
        "      <td>        exon</td>\n",
        "      <td>  16607</td>\n",
        "      <td>  16765</td>\n",
        "      <td> .</td>\n",
        "      <td> -</td>\n",
        "      <td> .</td>\n",
        "      <td> gene_id \"WASH7P\"; transcript_id \"NR_024540\"; g...</td>\n",
        "    </tr>\n",
        "    <tr>\n",
        "      <th>7 </th>\n",
        "      <td> chr1</td>\n",
        "      <td> unknown</td>\n",
        "      <td>        exon</td>\n",
        "      <td>  16858</td>\n",
        "      <td>  17055</td>\n",
        "      <td> .</td>\n",
        "      <td> -</td>\n",
        "      <td> .</td>\n",
        "      <td> gene_id \"WASH7P\"; transcript_id \"NR_024540\"; g...</td>\n",
        "    </tr>\n",
        "    <tr>\n",
        "      <th>8 </th>\n",
        "      <td> chr1</td>\n",
        "      <td> unknown</td>\n",
        "      <td>        exon</td>\n",
        "      <td>  17233</td>\n",
        "      <td>  17368</td>\n",
        "      <td> .</td>\n",
        "      <td> -</td>\n",
        "      <td> .</td>\n",
        "      <td> gene_id \"WASH7P\"; transcript_id \"NR_024540\"; g...</td>\n",
        "    </tr>\n",
        "    <tr>\n",
        "      <th>9 </th>\n",
        "      <td> chr1</td>\n",
        "      <td> unknown</td>\n",
        "      <td>        exon</td>\n",
        "      <td>  17606</td>\n",
        "      <td>  17742</td>\n",
        "      <td> .</td>\n",
        "      <td> -</td>\n",
        "      <td> .</td>\n",
        "      <td> gene_id \"WASH7P\"; transcript_id \"NR_024540\"; g...</td>\n",
        "    </tr>\n",
        "    <tr>\n",
        "      <th>10</th>\n",
        "      <td> chr1</td>\n",
        "      <td> unknown</td>\n",
        "      <td>        exon</td>\n",
        "      <td>  17915</td>\n",
        "      <td>  18061</td>\n",
        "      <td> .</td>\n",
        "      <td> -</td>\n",
        "      <td> .</td>\n",
        "      <td> gene_id \"WASH7P\"; transcript_id \"NR_024540\"; g...</td>\n",
        "    </tr>\n",
        "    <tr>\n",
        "      <th>11</th>\n",
        "      <td> chr1</td>\n",
        "      <td> unknown</td>\n",
        "      <td>        exon</td>\n",
        "      <td>  18268</td>\n",
        "      <td>  18366</td>\n",
        "      <td> .</td>\n",
        "      <td> -</td>\n",
        "      <td> .</td>\n",
        "      <td> gene_id \"WASH7P\"; transcript_id \"NR_024540\"; g...</td>\n",
        "    </tr>\n",
        "    <tr>\n",
        "      <th>12</th>\n",
        "      <td> chr1</td>\n",
        "      <td> unknown</td>\n",
        "      <td>        exon</td>\n",
        "      <td>  24738</td>\n",
        "      <td>  24891</td>\n",
        "      <td> .</td>\n",
        "      <td> -</td>\n",
        "      <td> .</td>\n",
        "      <td> gene_id \"WASH7P\"; transcript_id \"NR_024540\"; g...</td>\n",
        "    </tr>\n",
        "    <tr>\n",
        "      <th>13</th>\n",
        "      <td> chr1</td>\n",
        "      <td> unknown</td>\n",
        "      <td>        exon</td>\n",
        "      <td>  29321</td>\n",
        "      <td>  29370</td>\n",
        "      <td> .</td>\n",
        "      <td> -</td>\n",
        "      <td> .</td>\n",
        "      <td> gene_id \"WASH7P\"; transcript_id \"NR_024540\"; g...</td>\n",
        "    </tr>\n",
        "    <tr>\n",
        "      <th>14</th>\n",
        "      <td> chr1</td>\n",
        "      <td> unknown</td>\n",
        "      <td>        exon</td>\n",
        "      <td>  34611</td>\n",
        "      <td>  35174</td>\n",
        "      <td> .</td>\n",
        "      <td> -</td>\n",
        "      <td> .</td>\n",
        "      <td> gene_id \"FAM138F\"; transcript_id \"NR_026820\"; ...</td>\n",
        "    </tr>\n",
        "    <tr>\n",
        "      <th>15</th>\n",
        "      <td> chr1</td>\n",
        "      <td> unknown</td>\n",
        "      <td>        exon</td>\n",
        "      <td>  34611</td>\n",
        "      <td>  35174</td>\n",
        "      <td> .</td>\n",
        "      <td> -</td>\n",
        "      <td> .</td>\n",
        "      <td> gene_id \"FAM138A\"; transcript_id \"NR_026818\"; ...</td>\n",
        "    </tr>\n",
        "    <tr>\n",
        "      <th>16</th>\n",
        "      <td> chr1</td>\n",
        "      <td> unknown</td>\n",
        "      <td>        exon</td>\n",
        "      <td>  35277</td>\n",
        "      <td>  35481</td>\n",
        "      <td> .</td>\n",
        "      <td> -</td>\n",
        "      <td> .</td>\n",
        "      <td> gene_id \"FAM138F\"; transcript_id \"NR_026820\"; ...</td>\n",
        "    </tr>\n",
        "    <tr>\n",
        "      <th>17</th>\n",
        "      <td> chr1</td>\n",
        "      <td> unknown</td>\n",
        "      <td>        exon</td>\n",
        "      <td>  35277</td>\n",
        "      <td>  35481</td>\n",
        "      <td> .</td>\n",
        "      <td> -</td>\n",
        "      <td> .</td>\n",
        "      <td> gene_id \"FAM138A\"; transcript_id \"NR_026818\"; ...</td>\n",
        "    </tr>\n",
        "    <tr>\n",
        "      <th>18</th>\n",
        "      <td> chr1</td>\n",
        "      <td> unknown</td>\n",
        "      <td>        exon</td>\n",
        "      <td>  35721</td>\n",
        "      <td>  36081</td>\n",
        "      <td> .</td>\n",
        "      <td> -</td>\n",
        "      <td> .</td>\n",
        "      <td> gene_id \"FAM138F\"; transcript_id \"NR_026820\"; ...</td>\n",
        "    </tr>\n",
        "    <tr>\n",
        "      <th>19</th>\n",
        "      <td> chr1</td>\n",
        "      <td> unknown</td>\n",
        "      <td>        exon</td>\n",
        "      <td>  35721</td>\n",
        "      <td>  36081</td>\n",
        "      <td> .</td>\n",
        "      <td> -</td>\n",
        "      <td> .</td>\n",
        "      <td> gene_id \"FAM138A\"; transcript_id \"NR_026818\"; ...</td>\n",
        "    </tr>\n",
        "    <tr>\n",
        "      <th>20</th>\n",
        "      <td> chr1</td>\n",
        "      <td> unknown</td>\n",
        "      <td>         CDS</td>\n",
        "      <td>  69091</td>\n",
        "      <td>  70005</td>\n",
        "      <td> .</td>\n",
        "      <td> +</td>\n",
        "      <td> 0</td>\n",
        "      <td> gene_id \"OR4F5\"; transcript_id \"NM_001005484\";...</td>\n",
        "    </tr>\n",
        "    <tr>\n",
        "      <th>21</th>\n",
        "      <td> chr1</td>\n",
        "      <td> unknown</td>\n",
        "      <td>        exon</td>\n",
        "      <td>  69091</td>\n",
        "      <td>  70008</td>\n",
        "      <td> .</td>\n",
        "      <td> +</td>\n",
        "      <td> .</td>\n",
        "      <td> gene_id \"OR4F5\"; transcript_id \"NM_001005484\";...</td>\n",
        "    </tr>\n",
        "    <tr>\n",
        "      <th>22</th>\n",
        "      <td> chr1</td>\n",
        "      <td> unknown</td>\n",
        "      <td> start_codon</td>\n",
        "      <td>  69091</td>\n",
        "      <td>  69093</td>\n",
        "      <td> .</td>\n",
        "      <td> +</td>\n",
        "      <td> .</td>\n",
        "      <td> gene_id \"OR4F5\"; transcript_id \"NM_001005484\";...</td>\n",
        "    </tr>\n",
        "    <tr>\n",
        "      <th>23</th>\n",
        "      <td> chr1</td>\n",
        "      <td> unknown</td>\n",
        "      <td>  stop_codon</td>\n",
        "      <td>  70006</td>\n",
        "      <td>  70008</td>\n",
        "      <td> .</td>\n",
        "      <td> +</td>\n",
        "      <td> .</td>\n",
        "      <td> gene_id \"OR4F5\"; transcript_id \"NM_001005484\";...</td>\n",
        "    </tr>\n",
        "    <tr>\n",
        "      <th>24</th>\n",
        "      <td> chr1</td>\n",
        "      <td> unknown</td>\n",
        "      <td>        exon</td>\n",
        "      <td> 134773</td>\n",
        "      <td> 139696</td>\n",
        "      <td> .</td>\n",
        "      <td> -</td>\n",
        "      <td> .</td>\n",
        "      <td> gene_id \"LOC729737\"; transcript_id \"NR_039983\"...</td>\n",
        "    </tr>\n",
        "    <tr>\n",
        "      <th>25</th>\n",
        "      <td> chr1</td>\n",
        "      <td> unknown</td>\n",
        "      <td>        exon</td>\n",
        "      <td> 139790</td>\n",
        "      <td> 139847</td>\n",
        "      <td> .</td>\n",
        "      <td> -</td>\n",
        "      <td> .</td>\n",
        "      <td> gene_id \"LOC729737\"; transcript_id \"NR_039983\"...</td>\n",
        "    </tr>\n",
        "    <tr>\n",
        "      <th>26</th>\n",
        "      <td> chr1</td>\n",
        "      <td> unknown</td>\n",
        "      <td>        exon</td>\n",
        "      <td> 140075</td>\n",
        "      <td> 140566</td>\n",
        "      <td> .</td>\n",
        "      <td> -</td>\n",
        "      <td> .</td>\n",
        "      <td> gene_id \"LOC729737\"; transcript_id \"NR_039983\"...</td>\n",
        "    </tr>\n",
        "    <tr>\n",
        "      <th>27</th>\n",
        "      <td> chr1</td>\n",
        "      <td> unknown</td>\n",
        "      <td>        exon</td>\n",
        "      <td> 323892</td>\n",
        "      <td> 324060</td>\n",
        "      <td> .</td>\n",
        "      <td> +</td>\n",
        "      <td> .</td>\n",
        "      <td> gene_id \"LOC100132287\"; transcript_id \"NR_0283...</td>\n",
        "    </tr>\n",
        "    <tr>\n",
        "      <th>28</th>\n",
        "      <td> chr1</td>\n",
        "      <td> unknown</td>\n",
        "      <td>        exon</td>\n",
        "      <td> 323892</td>\n",
        "      <td> 324060</td>\n",
        "      <td> .</td>\n",
        "      <td> +</td>\n",
        "      <td> .</td>\n",
        "      <td> gene_id \"LOC100132062\"; transcript_id \"NR_0283...</td>\n",
        "    </tr>\n",
        "    <tr>\n",
        "      <th>29</th>\n",
        "      <td> chr1</td>\n",
        "      <td> unknown</td>\n",
        "      <td>        exon</td>\n",
        "      <td> 323892</td>\n",
        "      <td> 324060</td>\n",
        "      <td> .</td>\n",
        "      <td> +</td>\n",
        "      <td> .</td>\n",
        "      <td> gene_id \"LOC100133331\"; transcript_id \"NR_0283...</td>\n",
        "    </tr>\n",
        "    <tr>\n",
        "      <th>30</th>\n",
        "      <td> chr1</td>\n",
        "      <td> unknown</td>\n",
        "      <td>        exon</td>\n",
        "      <td> 324288</td>\n",
        "      <td> 324345</td>\n",
        "      <td> .</td>\n",
        "      <td> +</td>\n",
        "      <td> .</td>\n",
        "      <td> gene_id \"LOC100132287\"; transcript_id \"NR_0283...</td>\n",
        "    </tr>\n",
        "    <tr>\n",
        "      <th>31</th>\n",
        "      <td> chr1</td>\n",
        "      <td> unknown</td>\n",
        "      <td>        exon</td>\n",
        "      <td> 324288</td>\n",
        "      <td> 324345</td>\n",
        "      <td> .</td>\n",
        "      <td> +</td>\n",
        "      <td> .</td>\n",
        "      <td> gene_id \"LOC100132062\"; transcript_id \"NR_0283...</td>\n",
        "    </tr>\n",
        "    <tr>\n",
        "      <th>32</th>\n",
        "      <td> chr1</td>\n",
        "      <td> unknown</td>\n",
        "      <td>        exon</td>\n",
        "      <td> 324288</td>\n",
        "      <td> 324345</td>\n",
        "      <td> .</td>\n",
        "      <td> +</td>\n",
        "      <td> .</td>\n",
        "      <td> gene_id \"LOC100133331\"; transcript_id \"NR_0283...</td>\n",
        "    </tr>\n",
        "    <tr>\n",
        "      <th>33</th>\n",
        "      <td> chr1</td>\n",
        "      <td> unknown</td>\n",
        "      <td>        exon</td>\n",
        "      <td> 324439</td>\n",
        "      <td> 326938</td>\n",
        "      <td> .</td>\n",
        "      <td> +</td>\n",
        "      <td> .</td>\n",
        "      <td> gene_id \"LOC100133331\"; transcript_id \"NR_0283...</td>\n",
        "    </tr>\n",
        "    <tr>\n",
        "      <th>34</th>\n",
        "      <td> chr1</td>\n",
        "      <td> unknown</td>\n",
        "      <td>        exon</td>\n",
        "      <td> 324439</td>\n",
        "      <td> 328581</td>\n",
        "      <td> .</td>\n",
        "      <td> +</td>\n",
        "      <td> .</td>\n",
        "      <td> gene_id \"LOC100132287\"; transcript_id \"NR_0283...</td>\n",
        "    </tr>\n",
        "    <tr>\n",
        "      <th>35</th>\n",
        "      <td> chr1</td>\n",
        "      <td> unknown</td>\n",
        "      <td>        exon</td>\n",
        "      <td> 324439</td>\n",
        "      <td> 328581</td>\n",
        "      <td> .</td>\n",
        "      <td> +</td>\n",
        "      <td> .</td>\n",
        "      <td> gene_id \"LOC100132062\"; transcript_id \"NR_0283...</td>\n",
        "    </tr>\n",
        "    <tr>\n",
        "      <th>36</th>\n",
        "      <td> chr1</td>\n",
        "      <td> unknown</td>\n",
        "      <td>        exon</td>\n",
        "      <td> 327036</td>\n",
        "      <td> 328581</td>\n",
        "      <td> .</td>\n",
        "      <td> +</td>\n",
        "      <td> .</td>\n",
        "      <td> gene_id \"LOC100133331\"; transcript_id \"NR_0283...</td>\n",
        "    </tr>\n",
        "    <tr>\n",
        "      <th>37</th>\n",
        "      <td> chr1</td>\n",
        "      <td> unknown</td>\n",
        "      <td>         CDS</td>\n",
        "      <td> 367659</td>\n",
        "      <td> 368594</td>\n",
        "      <td> .</td>\n",
        "      <td> +</td>\n",
        "      <td> 0</td>\n",
        "      <td> gene_id \"OR4F16\"; transcript_id \"NM_001005277\"...</td>\n",
        "    </tr>\n",
        "    <tr>\n",
        "      <th>38</th>\n",
        "      <td> chr1</td>\n",
        "      <td> unknown</td>\n",
        "      <td>         CDS</td>\n",
        "      <td> 367659</td>\n",
        "      <td> 368594</td>\n",
        "      <td> .</td>\n",
        "      <td> +</td>\n",
        "      <td> 0</td>\n",
        "      <td> gene_id \"OR4F29\"; transcript_id \"NM_001005221\"...</td>\n",
        "    </tr>\n",
        "    <tr>\n",
        "      <th>39</th>\n",
        "      <td> chr1</td>\n",
        "      <td> unknown</td>\n",
        "      <td>         CDS</td>\n",
        "      <td> 367659</td>\n",
        "      <td> 368594</td>\n",
        "      <td> .</td>\n",
        "      <td> +</td>\n",
        "      <td> 0</td>\n",
        "      <td> gene_id \"OR4F3\"; transcript_id \"NM_001005224\";...</td>\n",
        "    </tr>\n",
        "    <tr>\n",
        "      <th>40</th>\n",
        "      <td> chr1</td>\n",
        "      <td> unknown</td>\n",
        "      <td>        exon</td>\n",
        "      <td> 367659</td>\n",
        "      <td> 368597</td>\n",
        "      <td> .</td>\n",
        "      <td> +</td>\n",
        "      <td> .</td>\n",
        "      <td> gene_id \"OR4F16\"; transcript_id \"NM_001005277\"...</td>\n",
        "    </tr>\n",
        "    <tr>\n",
        "      <th>41</th>\n",
        "      <td> chr1</td>\n",
        "      <td> unknown</td>\n",
        "      <td>        exon</td>\n",
        "      <td> 367659</td>\n",
        "      <td> 368597</td>\n",
        "      <td> .</td>\n",
        "      <td> +</td>\n",
        "      <td> .</td>\n",
        "      <td> gene_id \"OR4F29\"; transcript_id \"NM_001005221\"...</td>\n",
        "    </tr>\n",
        "    <tr>\n",
        "      <th>42</th>\n",
        "      <td> chr1</td>\n",
        "      <td> unknown</td>\n",
        "      <td>        exon</td>\n",
        "      <td> 367659</td>\n",
        "      <td> 368597</td>\n",
        "      <td> .</td>\n",
        "      <td> +</td>\n",
        "      <td> .</td>\n",
        "      <td> gene_id \"OR4F3\"; transcript_id \"NM_001005224\";...</td>\n",
        "    </tr>\n",
        "    <tr>\n",
        "      <th>43</th>\n",
        "      <td> chr1</td>\n",
        "      <td> unknown</td>\n",
        "      <td> start_codon</td>\n",
        "      <td> 367659</td>\n",
        "      <td> 367661</td>\n",
        "      <td> .</td>\n",
        "      <td> +</td>\n",
        "      <td> .</td>\n",
        "      <td> gene_id \"OR4F16\"; transcript_id \"NM_001005277\"...</td>\n",
        "    </tr>\n",
        "    <tr>\n",
        "      <th>44</th>\n",
        "      <td> chr1</td>\n",
        "      <td> unknown</td>\n",
        "      <td> start_codon</td>\n",
        "      <td> 367659</td>\n",
        "      <td> 367661</td>\n",
        "      <td> .</td>\n",
        "      <td> +</td>\n",
        "      <td> .</td>\n",
        "      <td> gene_id \"OR4F29\"; transcript_id \"NM_001005221\"...</td>\n",
        "    </tr>\n",
        "    <tr>\n",
        "      <th>45</th>\n",
        "      <td> chr1</td>\n",
        "      <td> unknown</td>\n",
        "      <td> start_codon</td>\n",
        "      <td> 367659</td>\n",
        "      <td> 367661</td>\n",
        "      <td> .</td>\n",
        "      <td> +</td>\n",
        "      <td> .</td>\n",
        "      <td> gene_id \"OR4F3\"; transcript_id \"NM_001005224\";...</td>\n",
        "    </tr>\n",
        "    <tr>\n",
        "      <th>46</th>\n",
        "      <td> chr1</td>\n",
        "      <td> unknown</td>\n",
        "      <td>  stop_codon</td>\n",
        "      <td> 368595</td>\n",
        "      <td> 368597</td>\n",
        "      <td> .</td>\n",
        "      <td> +</td>\n",
        "      <td> .</td>\n",
        "      <td> gene_id \"OR4F16\"; transcript_id \"NM_001005277\"...</td>\n",
        "    </tr>\n",
        "    <tr>\n",
        "      <th>47</th>\n",
        "      <td> chr1</td>\n",
        "      <td> unknown</td>\n",
        "      <td>  stop_codon</td>\n",
        "      <td> 368595</td>\n",
        "      <td> 368597</td>\n",
        "      <td> .</td>\n",
        "      <td> +</td>\n",
        "      <td> .</td>\n",
        "      <td> gene_id \"OR4F29\"; transcript_id \"NM_001005221\"...</td>\n",
        "    </tr>\n",
        "    <tr>\n",
        "      <th>48</th>\n",
        "      <td> chr1</td>\n",
        "      <td> unknown</td>\n",
        "      <td>  stop_codon</td>\n",
        "      <td> 368595</td>\n",
        "      <td> 368597</td>\n",
        "      <td> .</td>\n",
        "      <td> +</td>\n",
        "      <td> .</td>\n",
        "      <td> gene_id \"OR4F3\"; transcript_id \"NM_001005224\";...</td>\n",
        "    </tr>\n",
        "    <tr>\n",
        "      <th>49</th>\n",
        "      <td> chr1</td>\n",
        "      <td> unknown</td>\n",
        "      <td>        exon</td>\n",
        "      <td> 621096</td>\n",
        "      <td> 622034</td>\n",
        "      <td> .</td>\n",
        "      <td> -</td>\n",
        "      <td> .</td>\n",
        "      <td> gene_id \"OR4F29\"; transcript_id \"NM_001005221_...</td>\n",
        "    </tr>\n",
        "    <tr>\n",
        "      <th>50</th>\n",
        "      <td> chr1</td>\n",
        "      <td> unknown</td>\n",
        "      <td>        exon</td>\n",
        "      <td> 621096</td>\n",
        "      <td> 622034</td>\n",
        "      <td> .</td>\n",
        "      <td> -</td>\n",
        "      <td> .</td>\n",
        "      <td> gene_id \"OR4F3\"; transcript_id \"NM_001005224_1...</td>\n",
        "    </tr>\n",
        "    <tr>\n",
        "      <th>51</th>\n",
        "      <td> chr1</td>\n",
        "      <td> unknown</td>\n",
        "      <td>        exon</td>\n",
        "      <td> 621096</td>\n",
        "      <td> 622034</td>\n",
        "      <td> .</td>\n",
        "      <td> -</td>\n",
        "      <td> .</td>\n",
        "      <td> gene_id \"OR4F16\"; transcript_id \"NM_001005277_...</td>\n",
        "    </tr>\n",
        "    <tr>\n",
        "      <th>52</th>\n",
        "      <td> chr1</td>\n",
        "      <td> unknown</td>\n",
        "      <td>  stop_codon</td>\n",
        "      <td> 621096</td>\n",
        "      <td> 621098</td>\n",
        "      <td> .</td>\n",
        "      <td> -</td>\n",
        "      <td> .</td>\n",
        "      <td> gene_id \"OR4F29\"; transcript_id \"NM_001005221_...</td>\n",
        "    </tr>\n",
        "    <tr>\n",
        "      <th>53</th>\n",
        "      <td> chr1</td>\n",
        "      <td> unknown</td>\n",
        "      <td>  stop_codon</td>\n",
        "      <td> 621096</td>\n",
        "      <td> 621098</td>\n",
        "      <td> .</td>\n",
        "      <td> -</td>\n",
        "      <td> .</td>\n",
        "      <td> gene_id \"OR4F3\"; transcript_id \"NM_001005224_1...</td>\n",
        "    </tr>\n",
        "    <tr>\n",
        "      <th>54</th>\n",
        "      <td> chr1</td>\n",
        "      <td> unknown</td>\n",
        "      <td>  stop_codon</td>\n",
        "      <td> 621096</td>\n",
        "      <td> 621098</td>\n",
        "      <td> .</td>\n",
        "      <td> -</td>\n",
        "      <td> .</td>\n",
        "      <td> gene_id \"OR4F16\"; transcript_id \"NM_001005277_...</td>\n",
        "    </tr>\n",
        "    <tr>\n",
        "      <th>55</th>\n",
        "      <td> chr1</td>\n",
        "      <td> unknown</td>\n",
        "      <td>         CDS</td>\n",
        "      <td> 621099</td>\n",
        "      <td> 622034</td>\n",
        "      <td> .</td>\n",
        "      <td> -</td>\n",
        "      <td> 0</td>\n",
        "      <td> gene_id \"OR4F29\"; transcript_id \"NM_001005221_...</td>\n",
        "    </tr>\n",
        "    <tr>\n",
        "      <th>56</th>\n",
        "      <td> chr1</td>\n",
        "      <td> unknown</td>\n",
        "      <td>         CDS</td>\n",
        "      <td> 621099</td>\n",
        "      <td> 622034</td>\n",
        "      <td> .</td>\n",
        "      <td> -</td>\n",
        "      <td> 0</td>\n",
        "      <td> gene_id \"OR4F3\"; transcript_id \"NM_001005224_1...</td>\n",
        "    </tr>\n",
        "    <tr>\n",
        "      <th>57</th>\n",
        "      <td> chr1</td>\n",
        "      <td> unknown</td>\n",
        "      <td>         CDS</td>\n",
        "      <td> 621099</td>\n",
        "      <td> 622034</td>\n",
        "      <td> .</td>\n",
        "      <td> -</td>\n",
        "      <td> 0</td>\n",
        "      <td> gene_id \"OR4F16\"; transcript_id \"NM_001005277_...</td>\n",
        "    </tr>\n",
        "    <tr>\n",
        "      <th>58</th>\n",
        "      <td> chr1</td>\n",
        "      <td> unknown</td>\n",
        "      <td> start_codon</td>\n",
        "      <td> 622032</td>\n",
        "      <td> 622034</td>\n",
        "      <td> .</td>\n",
        "      <td> -</td>\n",
        "      <td> .</td>\n",
        "      <td> gene_id \"OR4F29\"; transcript_id \"NM_001005221_...</td>\n",
        "    </tr>\n",
        "    <tr>\n",
        "      <th>59</th>\n",
        "      <td> chr1</td>\n",
        "      <td> unknown</td>\n",
        "      <td> start_codon</td>\n",
        "      <td> 622032</td>\n",
        "      <td> 622034</td>\n",
        "      <td> .</td>\n",
        "      <td> -</td>\n",
        "      <td> .</td>\n",
        "      <td> gene_id \"OR4F3\"; transcript_id \"NM_001005224_1...</td>\n",
        "    </tr>\n",
        "    <tr>\n",
        "      <th></th>\n",
        "      <td>...</td>\n",
        "      <td>...</td>\n",
        "      <td>...</td>\n",
        "      <td>...</td>\n",
        "      <td>...</td>\n",
        "      <td>...</td>\n",
        "      <td>...</td>\n",
        "      <td>...</td>\n",
        "      <td>...</td>\n",
        "    </tr>\n",
        "  </tbody>\n",
        "</table>\n",
        "<p>829455 rows \u00d7 9 columns</p>\n",
        "</div>"
       ],
       "metadata": {},
       "output_type": "pyout",
       "prompt_number": 6,
       "text": [
        "       0        1            2       3       4  5  6  7                                                  8\n",
        "0   chr1  unknown         exon   11874   12227  .  +  .  gene_id \"DDX11L1\"; transcript_id \"NR_046018_1\"...\n",
        "1   chr1  unknown         exon   12613   12721  .  +  .  gene_id \"DDX11L1\"; transcript_id \"NR_046018_1\"...\n",
        "2   chr1  unknown         exon   13221   14408  .  +  .  gene_id \"DDX11L1\"; transcript_id \"NR_046018_1\"...\n",
        "3   chr1  unknown         exon   14362   14829  .  -  .  gene_id \"WASH7P\"; transcript_id \"NR_024540\"; g...\n",
        "4   chr1  unknown         exon   14970   15038  .  -  .  gene_id \"WASH7P\"; transcript_id \"NR_024540\"; g...\n",
        "5   chr1  unknown         exon   15796   15947  .  -  .  gene_id \"WASH7P\"; transcript_id \"NR_024540\"; g...\n",
        "6   chr1  unknown         exon   16607   16765  .  -  .  gene_id \"WASH7P\"; transcript_id \"NR_024540\"; g...\n",
        "7   chr1  unknown         exon   16858   17055  .  -  .  gene_id \"WASH7P\"; transcript_id \"NR_024540\"; g...\n",
        "8   chr1  unknown         exon   17233   17368  .  -  .  gene_id \"WASH7P\"; transcript_id \"NR_024540\"; g...\n",
        "9   chr1  unknown         exon   17606   17742  .  -  .  gene_id \"WASH7P\"; transcript_id \"NR_024540\"; g...\n",
        "10  chr1  unknown         exon   17915   18061  .  -  .  gene_id \"WASH7P\"; transcript_id \"NR_024540\"; g...\n",
        "11  chr1  unknown         exon   18268   18366  .  -  .  gene_id \"WASH7P\"; transcript_id \"NR_024540\"; g...\n",
        "12  chr1  unknown         exon   24738   24891  .  -  .  gene_id \"WASH7P\"; transcript_id \"NR_024540\"; g...\n",
        "13  chr1  unknown         exon   29321   29370  .  -  .  gene_id \"WASH7P\"; transcript_id \"NR_024540\"; g...\n",
        "14  chr1  unknown         exon   34611   35174  .  -  .  gene_id \"FAM138F\"; transcript_id \"NR_026820\"; ...\n",
        "15  chr1  unknown         exon   34611   35174  .  -  .  gene_id \"FAM138A\"; transcript_id \"NR_026818\"; ...\n",
        "16  chr1  unknown         exon   35277   35481  .  -  .  gene_id \"FAM138F\"; transcript_id \"NR_026820\"; ...\n",
        "17  chr1  unknown         exon   35277   35481  .  -  .  gene_id \"FAM138A\"; transcript_id \"NR_026818\"; ...\n",
        "18  chr1  unknown         exon   35721   36081  .  -  .  gene_id \"FAM138F\"; transcript_id \"NR_026820\"; ...\n",
        "19  chr1  unknown         exon   35721   36081  .  -  .  gene_id \"FAM138A\"; transcript_id \"NR_026818\"; ...\n",
        "20  chr1  unknown          CDS   69091   70005  .  +  0  gene_id \"OR4F5\"; transcript_id \"NM_001005484\";...\n",
        "21  chr1  unknown         exon   69091   70008  .  +  .  gene_id \"OR4F5\"; transcript_id \"NM_001005484\";...\n",
        "22  chr1  unknown  start_codon   69091   69093  .  +  .  gene_id \"OR4F5\"; transcript_id \"NM_001005484\";...\n",
        "23  chr1  unknown   stop_codon   70006   70008  .  +  .  gene_id \"OR4F5\"; transcript_id \"NM_001005484\";...\n",
        "24  chr1  unknown         exon  134773  139696  .  -  .  gene_id \"LOC729737\"; transcript_id \"NR_039983\"...\n",
        "25  chr1  unknown         exon  139790  139847  .  -  .  gene_id \"LOC729737\"; transcript_id \"NR_039983\"...\n",
        "26  chr1  unknown         exon  140075  140566  .  -  .  gene_id \"LOC729737\"; transcript_id \"NR_039983\"...\n",
        "27  chr1  unknown         exon  323892  324060  .  +  .  gene_id \"LOC100132287\"; transcript_id \"NR_0283...\n",
        "28  chr1  unknown         exon  323892  324060  .  +  .  gene_id \"LOC100132062\"; transcript_id \"NR_0283...\n",
        "29  chr1  unknown         exon  323892  324060  .  +  .  gene_id \"LOC100133331\"; transcript_id \"NR_0283...\n",
        "30  chr1  unknown         exon  324288  324345  .  +  .  gene_id \"LOC100132287\"; transcript_id \"NR_0283...\n",
        "31  chr1  unknown         exon  324288  324345  .  +  .  gene_id \"LOC100132062\"; transcript_id \"NR_0283...\n",
        "32  chr1  unknown         exon  324288  324345  .  +  .  gene_id \"LOC100133331\"; transcript_id \"NR_0283...\n",
        "33  chr1  unknown         exon  324439  326938  .  +  .  gene_id \"LOC100133331\"; transcript_id \"NR_0283...\n",
        "34  chr1  unknown         exon  324439  328581  .  +  .  gene_id \"LOC100132287\"; transcript_id \"NR_0283...\n",
        "35  chr1  unknown         exon  324439  328581  .  +  .  gene_id \"LOC100132062\"; transcript_id \"NR_0283...\n",
        "36  chr1  unknown         exon  327036  328581  .  +  .  gene_id \"LOC100133331\"; transcript_id \"NR_0283...\n",
        "37  chr1  unknown          CDS  367659  368594  .  +  0  gene_id \"OR4F16\"; transcript_id \"NM_001005277\"...\n",
        "38  chr1  unknown          CDS  367659  368594  .  +  0  gene_id \"OR4F29\"; transcript_id \"NM_001005221\"...\n",
        "39  chr1  unknown          CDS  367659  368594  .  +  0  gene_id \"OR4F3\"; transcript_id \"NM_001005224\";...\n",
        "40  chr1  unknown         exon  367659  368597  .  +  .  gene_id \"OR4F16\"; transcript_id \"NM_001005277\"...\n",
        "41  chr1  unknown         exon  367659  368597  .  +  .  gene_id \"OR4F29\"; transcript_id \"NM_001005221\"...\n",
        "42  chr1  unknown         exon  367659  368597  .  +  .  gene_id \"OR4F3\"; transcript_id \"NM_001005224\";...\n",
        "43  chr1  unknown  start_codon  367659  367661  .  +  .  gene_id \"OR4F16\"; transcript_id \"NM_001005277\"...\n",
        "44  chr1  unknown  start_codon  367659  367661  .  +  .  gene_id \"OR4F29\"; transcript_id \"NM_001005221\"...\n",
        "45  chr1  unknown  start_codon  367659  367661  .  +  .  gene_id \"OR4F3\"; transcript_id \"NM_001005224\";...\n",
        "46  chr1  unknown   stop_codon  368595  368597  .  +  .  gene_id \"OR4F16\"; transcript_id \"NM_001005277\"...\n",
        "47  chr1  unknown   stop_codon  368595  368597  .  +  .  gene_id \"OR4F29\"; transcript_id \"NM_001005221\"...\n",
        "48  chr1  unknown   stop_codon  368595  368597  .  +  .  gene_id \"OR4F3\"; transcript_id \"NM_001005224\";...\n",
        "49  chr1  unknown         exon  621096  622034  .  -  .  gene_id \"OR4F29\"; transcript_id \"NM_001005221_...\n",
        "50  chr1  unknown         exon  621096  622034  .  -  .  gene_id \"OR4F3\"; transcript_id \"NM_001005224_1...\n",
        "51  chr1  unknown         exon  621096  622034  .  -  .  gene_id \"OR4F16\"; transcript_id \"NM_001005277_...\n",
        "52  chr1  unknown   stop_codon  621096  621098  .  -  .  gene_id \"OR4F29\"; transcript_id \"NM_001005221_...\n",
        "53  chr1  unknown   stop_codon  621096  621098  .  -  .  gene_id \"OR4F3\"; transcript_id \"NM_001005224_1...\n",
        "54  chr1  unknown   stop_codon  621096  621098  .  -  .  gene_id \"OR4F16\"; transcript_id \"NM_001005277_...\n",
        "55  chr1  unknown          CDS  621099  622034  .  -  0  gene_id \"OR4F29\"; transcript_id \"NM_001005221_...\n",
        "56  chr1  unknown          CDS  621099  622034  .  -  0  gene_id \"OR4F3\"; transcript_id \"NM_001005224_1...\n",
        "57  chr1  unknown          CDS  621099  622034  .  -  0  gene_id \"OR4F16\"; transcript_id \"NM_001005277_...\n",
        "58  chr1  unknown  start_codon  622032  622034  .  -  .  gene_id \"OR4F29\"; transcript_id \"NM_001005221_...\n",
        "59  chr1  unknown  start_codon  622032  622034  .  -  .  gene_id \"OR4F3\"; transcript_id \"NM_001005224_1...\n",
        "     ...      ...          ...     ...     ... .. .. ..                                                ...\n",
        "\n",
        "[829455 rows x 9 columns]"
       ]
      }
     ],
     "prompt_number": 6
    },
    {
     "cell_type": "code",
     "collapsed": false,
     "input": [
      "def liftoverGTF(ref_gtf, liftover_file, out_file, reverse=False): # this goes from hg## --> AFRG1 direction\n",
      "    outarr = []\n",
      "    vcffile = pd.read_csv(ref_gtf, header=None, sep='\\t')\n",
      "    \n",
      "    colnames=['chain','score','ref_chr','ref_len','ref_misc','ref_start','ref_end',\n",
      "              'alt_chr','alt_len','alt_misc','alt_start','alt_end']\n",
      "    \n",
      "    chr_names=[\"chr1\",\"chr2\",\"chr3\",\"chr4\",\"chr5\",\"chr6\",\"chr7\",\"chr8\",\"chr9\",\"chr10\",\"chr11\",\"chr12\",\"chr13\",\n",
      "               \"chr14\",\"chr15\",\"chr16\",\"chr17\",\"chr18\",\"chr19\",\"chr20\",\"chr21\",\"chr22\",\"chrX\",\"chrY\"]\n",
      "    \n",
      "    liftover = pd.read_csv(liftover_file,sep='\\t',header=None, \n",
      "                       names=colnames)\n",
      "    liftover.set_index(['ref_chr', 'ref_start', 'ref_end'], inplace=True)\n",
      "    \n",
      "    # now that we're init'd, let's start\n",
      "    pbar = ProgressBar(len(vcffile))\n",
      "    error_count = 0\n",
      "    for chrom in chr_names:\n",
      "        tmp = vcffile[vcffile[0]==chrom]\n",
      "        for a,line in tmp.iterrows():\n",
      "            pbar.animate()\n",
      "            outline = line\n",
      "            startpos = lift_master(line[3], liftover, chrom, reverse)\n",
      "            endpos = lift_master(line[4], liftover, chrom, reverse)\n",
      "            try:\n",
      "                if (startpos != None) & (endpos != None):\n",
      "                    if startpos <= endpos:\n",
      "                        outline[3] = startpos\n",
      "                        outline[4] = endpos\n",
      "                        outarr.append(outline)\n",
      "                    elif endpos < startpos:\n",
      "                        sys.stderr.write('WARN: ' + chrom + ': endpos ' + str(endpos) + ' is less than startpos ' + str(startpos) + '\\n')\n",
      "                        sys.stderr.flush()\n",
      "                        error_count += 1\n",
      "                else:\n",
      "                    sys.stderr.write('WARN: ' + chrom + ': could not lift over at start position ' + str(startpos) + '\\n')\n",
      "                    sys.stderr.flush()\n",
      "                    error_count += 1\n",
      "            except:\n",
      "                sys.stderr.write('WARN: ' + chrom + ': unknown error at position starting at ' + str(startpos) + '\\n')\n",
      "                sys.stderr.flush()\n",
      "                error_count += 1\n",
      "            if error_count >= 10000:\n",
      "                raise AwesomeError('nope.')\n",
      "    outarr = pd.DataFrame(outarr)\n",
      "    outarr.to_csv(out_file, header=None, sep='\\t', index=None) # and we're done!        "
     ],
     "language": "python",
     "metadata": {},
     "outputs": [
      {
       "output_type": "stream",
       "stream": "stdout",
       "text": [
        "\n"
       ]
      }
     ],
     "prompt_number": 14
    },
    {
     "cell_type": "code",
     "collapsed": false,
     "input": [
      "liftover_file = '/data/projects_gibbons/home/neffra/old_analysis/new_ref_seq/liftover-022714_131159-cleaned.chain'\n",
      "colnames=['chain','score','ref_chr','ref_len','ref_misc','ref_start','ref_end',\n",
      "              'alt_chr','alt_len','alt_misc','alt_start','alt_end']\n",
      "liftover = pd.read_csv(liftover_file,sep='\\t',header=None, \n",
      "                       names=colnames)\n",
      "liftover.set_index(['ref_chr', 'ref_start', 'ref_end'], inplace=True)"
     ],
     "language": "python",
     "metadata": {},
     "outputs": [],
     "prompt_number": 20
    },
    {
     "cell_type": "code",
     "collapsed": false,
     "input": [
      "liftover_file = '/data/projects_gibbons/home/neffra/nodel_AFRGh38/liftover_AFRGh38_nodel.chain'\n",
      "colnames=['chain','score','ref_chr','ref_len','ref_misc','ref_start','ref_end',\n",
      "              'alt_chr','alt_len','alt_misc','alt_start','alt_end']\n",
      "liftover = pd.read_csv(liftover_file,sep='\\t',header=None, \n",
      "                       names=colnames)\n",
      "liftover.set_index(['ref_chr', 'ref_start', 'ref_end'], inplace=True)"
     ],
     "language": "python",
     "metadata": {},
     "outputs": [],
     "prompt_number": 12
    }
   ],
   "metadata": {}
  }
 ]
}