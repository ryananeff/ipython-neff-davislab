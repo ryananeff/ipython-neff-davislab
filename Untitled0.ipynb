{
 "metadata": {
  "name": ""
 },
 "nbformat": 3,
 "nbformat_minor": 0,
 "worksheets": [
  {
   "cells": [
    {
     "cell_type": "code",
     "collapsed": false,
     "input": [
      "%run ipy_setup.py\n",
      "%matplotlib inline"
     ],
     "language": "python",
     "metadata": {},
     "outputs": [],
     "prompt_number": 1
    },
    {
     "cell_type": "code",
     "collapsed": false,
     "input": [
      "!pip install aerospike"
     ],
     "language": "python",
     "metadata": {},
     "outputs": [
      {
       "output_type": "stream",
       "stream": "stdout",
       "text": [
        "Requirement already satisfied (use --upgrade to upgrade): aerospike in /home/neffra/anaconda/lib/python2.7/site-packages/aerospike-1.0.31-py2.7-linux-x86_64.egg\r\n",
        "Cleaning up...\r\n"
       ]
      }
     ],
     "prompt_number": 10
    },
    {
     "cell_type": "code",
     "collapsed": false,
     "input": [
      "!hostname"
     ],
     "language": "python",
     "metadata": {},
     "outputs": [
      {
       "output_type": "stream",
       "stream": "stdout",
       "text": [
        "HG-01629425-RH6.nhgri.nih.gov\r\n"
       ]
      }
     ],
     "prompt_number": 9
    },
    {
     "cell_type": "code",
     "collapsed": false,
     "input": [
      "import aerospike"
     ],
     "language": "python",
     "metadata": {},
     "outputs": [],
     "prompt_number": 2
    },
    {
     "cell_type": "code",
     "collapsed": false,
     "input": [
      "# import the module\n",
      "import aerospike\n",
      "\n",
      "# Configuration for the client\n",
      "config = {\n",
      "  'hosts': [ ('127.0.0.1', 3000) ]\n",
      "}\n",
      "\n",
      "# Create a client and connect to the database\n",
      "client = aerospike.client(config).connect()\n",
      "\n",
      "# Records are addressable via a tuple of (namespace, set, key)\n",
      "key = ('test', 'demo', 'foo')\n",
      "\n",
      "# Write a record\n",
      "client.put(key, {\n",
      "  'name': 'John Doe',\n",
      "  'age': 32\n",
      "})\n",
      "\n",
      "# Read a record\n",
      "(key, metadata, record) = client.get(key)\n",
      "\n",
      "print key\n",
      "\n",
      "# Close Connection to Cluster\n",
      "client.close()"
     ],
     "language": "python",
     "metadata": {},
     "outputs": [
      {
       "output_type": "stream",
       "stream": "stdout",
       "text": [
        "('test', 'demo', u'foo', bytearray(b'\\xf5~\\xc1\\x835\\xf7\\x10\\x0c\\x04X\\xf8\\xa6D\\xbc\\xbcvm\\x93G\\x1e'))\n"
       ]
      }
     ],
     "prompt_number": 10
    }
   ],
   "metadata": {}
  }
 ]
}