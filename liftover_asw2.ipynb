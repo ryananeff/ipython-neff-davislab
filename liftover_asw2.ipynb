{
 "metadata": {
  "name": ""
 },
 "nbformat": 3,
 "nbformat_minor": 0,
 "worksheets": [
  {
   "cells": [
    {
     "cell_type": "code",
     "collapsed": false,
     "input": [
      "# Imports / style (run this first always)\n",
      "%matplotlib inline\n",
      "from collections import defaultdict\n",
      "import json\n",
      "import sys\n",
      "import string\n",
      "import pysam\n",
      "import vcf\n",
      "import time\n",
      "\n",
      "import numpy as np\n",
      "import scipy as sp\n",
      "import matplotlib.pyplot as plt\n",
      "import pandas as pd\n",
      "\n",
      "from matplotlib import rcParams\n",
      "import matplotlib.cm as cm\n",
      "import matplotlib as mpl\n",
      "\n",
      "class AwesomeError(Exception):\n",
      "     def __init__(self, value):\n",
      "         self.value = value\n",
      "         pass\n",
      "     def __str__(self):\n",
      "         return repr(self.value)\n",
      "         pass\n",
      "\n",
      "def flatten(l):\n",
      "    ret = []\n",
      "    for i in l:\n",
      "        if isinstance(i, (list, tuple)): \n",
      "            ret.extend(flatten(i))\n",
      "        else: \n",
      "            ret.append(i)\n",
      "    return ret"
     ],
     "language": "python",
     "metadata": {},
     "outputs": [],
     "prompt_number": 2
    },
    {
     "cell_type": "code",
     "collapsed": false,
     "input": [
      "import Bio as bp\n",
      "from Bio.Sequencing.Applications import BwaAlignCommandline as bwa_aln\n",
      "from Bio.Sequencing.Applications import BwaSamseCommandline as bwa_samse\n",
      "from Bio.Sequencing.Applications import BwaSampeCommandline as bwa_sampe\n",
      "from Bio.Sequencing.Applications import BwaIndexCommandline as bwa_index\n",
      "from Bio.Sequencing.Applications import BwaBwaswCommandline as bwa_bwasw\n",
      "import HTSeq as ht\n",
      "import itertools"
     ],
     "language": "python",
     "metadata": {},
     "outputs": [],
     "prompt_number": 3
    },
    {
     "cell_type": "code",
     "collapsed": false,
     "input": [
      "# do the conversions and keep track of stuff\n",
      "chr1 = chrarray[0]\n",
      "i=0\n",
      "for vc in vcfr:\n",
      "    print vc\n",
      "    print vc.chrom\n",
      "    print chr1[int(vc.pos.start)-1]\n",
      "    i +=1\n",
      "    if i == 10:\n",
      "        break\n",
      "print len(vc.ref)\n",
      "print len(vc.alt)\n",
      "del sequence\n",
      "sequence = list(str(chr1.seq))"
     ],
     "language": "python",
     "metadata": {},
     "outputs": [
      {
       "ename": "NameError",
       "evalue": "name 'chrarray' is not defined",
       "output_type": "pyerr",
       "traceback": [
        "\u001b[1;31m---------------------------------------------------------------------------\u001b[0m\n\u001b[1;31mNameError\u001b[0m                                 Traceback (most recent call last)",
        "\u001b[1;32m<ipython-input-4-64815e5f7e6e>\u001b[0m in \u001b[0;36m<module>\u001b[1;34m()\u001b[0m\n\u001b[0;32m      1\u001b[0m \u001b[1;31m# do the conversions and keep track of stuff\u001b[0m\u001b[1;33m\u001b[0m\u001b[1;33m\u001b[0m\u001b[0m\n\u001b[1;32m----> 2\u001b[1;33m \u001b[0mchr1\u001b[0m \u001b[1;33m=\u001b[0m \u001b[0mchrarray\u001b[0m\u001b[1;33m[\u001b[0m\u001b[1;36m0\u001b[0m\u001b[1;33m]\u001b[0m\u001b[1;33m\u001b[0m\u001b[0m\n\u001b[0m\u001b[0;32m      3\u001b[0m \u001b[0mi\u001b[0m\u001b[1;33m=\u001b[0m\u001b[1;36m0\u001b[0m\u001b[1;33m\u001b[0m\u001b[0m\n\u001b[0;32m      4\u001b[0m \u001b[1;32mfor\u001b[0m \u001b[0mvc\u001b[0m \u001b[1;32min\u001b[0m \u001b[0mvcfr\u001b[0m\u001b[1;33m:\u001b[0m\u001b[1;33m\u001b[0m\u001b[0m\n\u001b[0;32m      5\u001b[0m     \u001b[1;32mprint\u001b[0m \u001b[0mvc\u001b[0m\u001b[1;33m\u001b[0m\u001b[0m\n",
        "\u001b[1;31mNameError\u001b[0m: name 'chrarray' is not defined"
       ]
      }
     ],
     "prompt_number": 4
    },
    {
     "cell_type": "code",
     "collapsed": false,
     "input": [
      "#sequence.insert(1,list('lol'))\n",
      "test = sequence[0:3]\n",
      "print flatten(test)"
     ],
     "language": "python",
     "metadata": {},
     "outputs": [
      {
       "ename": "NameError",
       "evalue": "name 'sequence' is not defined",
       "output_type": "pyerr",
       "traceback": [
        "\u001b[1;31m---------------------------------------------------------------------------\u001b[0m\n\u001b[1;31mNameError\u001b[0m                                 Traceback (most recent call last)",
        "\u001b[1;32m<ipython-input-3-e52d8aedd52c>\u001b[0m in \u001b[0;36m<module>\u001b[1;34m()\u001b[0m\n\u001b[0;32m      1\u001b[0m \u001b[1;31m#sequence.insert(1,list('lol'))\u001b[0m\u001b[1;33m\u001b[0m\u001b[1;33m\u001b[0m\u001b[0m\n\u001b[1;32m----> 2\u001b[1;33m \u001b[0mtest\u001b[0m \u001b[1;33m=\u001b[0m \u001b[0msequence\u001b[0m\u001b[1;33m[\u001b[0m\u001b[1;36m0\u001b[0m\u001b[1;33m:\u001b[0m\u001b[1;36m3\u001b[0m\u001b[1;33m]\u001b[0m\u001b[1;33m\u001b[0m\u001b[0m\n\u001b[0m\u001b[0;32m      3\u001b[0m \u001b[1;32mprint\u001b[0m \u001b[0mflatten\u001b[0m\u001b[1;33m(\u001b[0m\u001b[0mtest\u001b[0m\u001b[1;33m)\u001b[0m\u001b[1;33m\u001b[0m\u001b[0m\n",
        "\u001b[1;31mNameError\u001b[0m: name 'sequence' is not defined"
       ]
      }
     ],
     "prompt_number": 3
    },
    {
     "cell_type": "code",
     "collapsed": false,
     "input": [
      "del sequence\n",
      "sequence = list(str(chr1.seq))\n",
      "\n",
      "# let's make a new reference sequence\n",
      "chr_size = len(sequence)\n",
      "chr_name = 'chr1'\n",
      "score = 4900 # totally arbitrary\n",
      "current_delta = 0\n",
      "liftover_info = []\n",
      "last_lift_ref = 1\n",
      "last_lift_alt = 1\n",
      "num_chains = 1\n",
      "totaldone = 0\n",
      "totallift = 0\n",
      "for vc in vcfr:\n",
      "    if str(vc.chrom) != chr_name:\n",
      "        break\n",
      "    totaldone += 1\n",
      "    delta = len(vc.alt) - len(vc.ref) #did we move the sequence?\n",
      "    vcpos = int(vc.pos.start)\n",
      "    refpos = vcpos + current_delta - 1 #let's calculate where we need to go to match the ref position\n",
      "    if vc.ref[0] == '.':\n",
      "        delta += 1\n",
      "    if vc.alt[0] == '.':\n",
      "        delta -= 1\n",
      "    if vc.ref[0].lower() != sequence[refpos][0].lower():\n",
      "        sys.stderr.write(\"Error at variant # \" + str(totaldone) +\"\\n\")\n",
      "        sys.stderr.write(\"\\ttotal lifted: \" +str(len(liftover_info))+\"\\n\")\n",
      "        sys.stderr.write(\"\\texpect: \" + str(sequence[refpos][0])+\"\\n\")\n",
      "        sys.stderr.write(\"\\tgot: \" + str(vc.ref[0])+\"\\n\")\n",
      "        sys.stderr.flush()\n",
      "    if delta == 0: # if we have a 1:1 substitution\n",
      "        if len(vc.ref) == 1: # if we are only dealing with a one base substitution\n",
      "            sequence[refpos] = vc.alt[0]\n",
      "        else:\n",
      "            sequence[refpos:(refpos+len(vc.ref))] = list(vc.alt)\n",
      "    else: # if we are dealing with net addition / subtraction: do it the slow way\n",
      "        sequence[refpos:(refpos+len(vc.ref))] = list(vc.alt)\n",
      "        newpos = delta + current_delta + vcpos\n",
      "        line_info = {'id':num_chains, 'chain':[score,chr_name,chr_size,'.',last_lift_ref, vcpos, chr_name, chr_size,'.',last_lift_alt,newpos]}\n",
      "        liftover_info.append(line_info)\n",
      "        last_lift_ref = vcpos\n",
      "        last_lift_alt = newpos\n",
      "        num_chains += 1\n",
      "        current_delta += delta\n",
      "        totallift += 1\n",
      "    if totaldone % 1000 == 0:\n",
      "        print \"Processed \" + str(totaldone) + \" VCF entries.\"\n",
      "        sys.stdout.flush()"
     ],
     "language": "python",
     "metadata": {},
     "outputs": [
      {
       "output_type": "stream",
       "stream": "stdout",
       "text": [
        "Processed 1000 VCF entries.\n"
       ]
      },
      {
       "output_type": "stream",
       "stream": "stderr",
       "text": [
        "Error at variant # 1477\n",
        "\ttotal lifted: 34\n",
        "\texpect: G\n",
        "\tgot: T\n"
       ]
      },
      {
       "output_type": "stream",
       "stream": "stdout",
       "text": [
        "Processed 2000 VCF entries.\n"
       ]
      },
      {
       "output_type": "stream",
       "stream": "stderr",
       "text": [
        "Error at variant # 2474\n",
        "\ttotal lifted: 53\n",
        "\texpect: G\n",
        "\tgot: C\n"
       ]
      },
      {
       "output_type": "stream",
       "stream": "stderr",
       "text": [
        "Error at variant # 2565\n",
        "\ttotal lifted: 66\n",
        "\texpect: G\n",
        "\tgot: T\n"
       ]
      },
      {
       "output_type": "stream",
       "stream": "stderr",
       "text": [
        "Error at variant # 2578\n",
        "\ttotal lifted: 67\n",
        "\texpect: C\n",
        "\tgot: G\n"
       ]
      },
      {
       "output_type": "stream",
       "stream": "stderr",
       "text": [
        "Error at variant # 2838\n",
        "\ttotal lifted: 70\n",
        "\texpect: T\n",
        "\tgot: C\n"
       ]
      },
      {
       "output_type": "stream",
       "stream": "stdout",
       "text": [
        "Processed 3000 VCF entries.\n"
       ]
      },
      {
       "output_type": "stream",
       "stream": "stderr",
       "text": [
        "Error at variant # 3023\n",
        "\ttotal lifted: 76\n",
        "\texpect: A\n",
        "\tgot: G\n"
       ]
      },
      {
       "output_type": "stream",
       "stream": "stderr",
       "text": [
        "Error at variant # 3088\n",
        "\ttotal lifted: 81\n",
        "\texpect: A\n",
        "\tgot: G\n"
       ]
      },
      {
       "output_type": "stream",
       "stream": "stderr",
       "text": [
        "Error at variant # 3156\n",
        "\ttotal lifted: 85\n",
        "\texpect: C\n",
        "\tgot: T\n"
       ]
      },
      {
       "output_type": "stream",
       "stream": "stderr",
       "text": [
        "Error at variant # 3566\n",
        "\ttotal lifted: 96\n",
        "\texpect: T\n",
        "\tgot: C\n"
       ]
      },
      {
       "output_type": "stream",
       "stream": "stderr",
       "text": [
        "Error at variant # 3741\n",
        "\ttotal lifted: 100\n",
        "\texpect: G\n",
        "\tgot: T\n"
       ]
      },
      {
       "output_type": "stream",
       "stream": "stdout",
       "text": [
        "Processed 4000 VCF entries.\n"
       ]
      },
      {
       "output_type": "stream",
       "stream": "stderr",
       "text": [
        "Error at variant # 4392\n",
        "\ttotal lifted: 130\n",
        "\texpect: A\n",
        "\tgot: T\n"
       ]
      },
      {
       "output_type": "stream",
       "stream": "stdout",
       "text": [
        "Processed 5000 VCF entries.\n"
       ]
      },
      {
       "output_type": "stream",
       "stream": "stderr",
       "text": [
        "Error at variant # 5479\n",
        "\ttotal lifted: 169\n",
        "\texpect: C\n",
        "\tgot: A\n"
       ]
      },
      {
       "output_type": "stream",
       "stream": "stderr",
       "text": [
        "Error at variant # 5521\n",
        "\ttotal lifted: 170\n",
        "\texpect: A\n",
        "\tgot: G\n"
       ]
      },
      {
       "output_type": "stream",
       "stream": "stdout",
       "text": [
        "Processed 6000 VCF entries.\n"
       ]
      },
      {
       "output_type": "stream",
       "stream": "stderr",
       "text": [
        "Error at variant # 6039\n",
        "\ttotal lifted: 183\n",
        "\texpect: G\n",
        "\tgot: C\n"
       ]
      },
      {
       "output_type": "stream",
       "stream": "stdout",
       "text": [
        "Processed 7000 VCF entries.\n"
       ]
      },
      {
       "output_type": "stream",
       "stream": "stderr",
       "text": [
        "Error at variant # 7314\n",
        "\ttotal lifted: 235\n",
        "\texpect: T\n",
        "\tgot: A\n"
       ]
      },
      {
       "output_type": "stream",
       "stream": "stderr",
       "text": [
        "Error at variant # 7322\n",
        "\ttotal lifted: 239\n",
        "\texpect: c\n",
        "\tgot: T\n"
       ]
      },
      {
       "output_type": "stream",
       "stream": "stderr",
       "text": [
        "Error at variant # 7834\n",
        "\ttotal lifted: 254\n",
        "\texpect: T\n",
        "\tgot: C\n"
       ]
      },
      {
       "output_type": "stream",
       "stream": "stdout",
       "text": [
        "Processed 8000 VCF entries.\n"
       ]
      },
      {
       "output_type": "stream",
       "stream": "stderr",
       "text": [
        "Error at variant # 8603\n",
        "\ttotal lifted: 280\n",
        "\texpect: C\n",
        "\tgot: A\n"
       ]
      },
      {
       "output_type": "stream",
       "stream": "stderr",
       "text": [
        "Error at variant # 8975\n",
        "\ttotal lifted: 295\n",
        "\texpect: C\n",
        "\tgot: A\n"
       ]
      },
      {
       "output_type": "stream",
       "stream": "stderr",
       "text": [
        "Error at variant # 8977\n",
        "\ttotal lifted: 295\n",
        "\texpect: C\n",
        "\tgot: T\n"
       ]
      },
      {
       "output_type": "stream",
       "stream": "stdout",
       "text": [
        "Processed 9000 VCF entries.\n"
       ]
      },
      {
       "output_type": "stream",
       "stream": "stderr",
       "text": [
        "Error at variant # 9004\n",
        "\ttotal lifted: 299\n",
        "\texpect: T\n",
        "\tgot: G\n"
       ]
      },
      {
       "output_type": "stream",
       "stream": "stderr",
       "text": [
        "Error at variant # 9930\n",
        "\ttotal lifted: 335\n",
        "\texpect: G\n",
        "\tgot: A\n"
       ]
      },
      {
       "output_type": "stream",
       "stream": "stdout",
       "text": [
        "Processed 10000 VCF entries.\n"
       ]
      },
      {
       "output_type": "stream",
       "stream": "stderr",
       "text": [
        "Error at variant # 10466\n",
        "\ttotal lifted: 363\n",
        "\texpect: C\n",
        "\tgot: T\n"
       ]
      },
      {
       "output_type": "stream",
       "stream": "stderr",
       "text": [
        "Error at variant # 10578\n",
        "\ttotal lifted: 369\n",
        "\texpect: T\n",
        "\tgot: G\n"
       ]
      },
      {
       "output_type": "stream",
       "stream": "stdout",
       "text": [
        "Processed 11000 VCF entries.\n"
       ]
      },
      {
       "output_type": "stream",
       "stream": "stderr",
       "text": [
        "Error at variant # 11686\n",
        "\ttotal lifted: 406\n",
        "\texpect: G\n",
        "\tgot: A\n"
       ]
      },
      {
       "output_type": "stream",
       "stream": "stderr",
       "text": [
        "Error at variant # 11859\n",
        "\ttotal lifted: 420\n",
        "\texpect: A\n",
        "\tgot: G\n"
       ]
      },
      {
       "output_type": "stream",
       "stream": "stdout",
       "text": [
        "Processed 12000 VCF entries.\n"
       ]
      },
      {
       "output_type": "stream",
       "stream": "stderr",
       "text": [
        "Error at variant # 12702\n",
        "\ttotal lifted: 450\n",
        "\texpect: C\n",
        "\tgot: A\n"
       ]
      },
      {
       "output_type": "stream",
       "stream": "stderr",
       "text": [
        "Error at variant # 12712\n",
        "\ttotal lifted: 452\n",
        "\texpect: G\n",
        "\tgot: A\n"
       ]
      },
      {
       "output_type": "stream",
       "stream": "stderr",
       "text": [
        "Error at variant # 12913\n",
        "\ttotal lifted: 459\n",
        "\texpect: C\n",
        "\tgot: A\n"
       ]
      },
      {
       "output_type": "stream",
       "stream": "stdout",
       "text": [
        "Processed 13000 VCF entries.\n"
       ]
      },
      {
       "output_type": "stream",
       "stream": "stderr",
       "text": [
        "Error at variant # 13058\n",
        "\ttotal lifted: 464\n",
        "\texpect: T\n",
        "\tgot: G\n"
       ]
      },
      {
       "output_type": "stream",
       "stream": "stderr",
       "text": [
        "Error at variant # 13356\n",
        "\ttotal lifted: 474\n",
        "\texpect: C\n",
        "\tgot: T\n"
       ]
      },
      {
       "output_type": "stream",
       "stream": "stderr",
       "text": [
        "Error at variant # 13481\n",
        "\ttotal lifted: 481\n",
        "\texpect: T\n",
        "\tgot: C\n"
       ]
      },
      {
       "output_type": "stream",
       "stream": "stdout",
       "text": [
        "Processed 14000 VCF entries.\n"
       ]
      },
      {
       "output_type": "stream",
       "stream": "stderr",
       "text": [
        "Error at variant # 14002\n",
        "\ttotal lifted: 506\n",
        "\texpect: C\n",
        "\tgot: T\n"
       ]
      },
      {
       "output_type": "stream",
       "stream": "stderr",
       "text": [
        "Error at variant # 14858\n",
        "\ttotal lifted: 545\n",
        "\texpect: a\n",
        "\tgot: T\n"
       ]
      },
      {
       "output_type": "stream",
       "stream": "stderr",
       "text": [
        "Error at variant # 14860\n",
        "\ttotal lifted: 547\n",
        "\texpect: a\n",
        "\tgot: T\n"
       ]
      },
      {
       "output_type": "stream",
       "stream": "stdout",
       "text": [
        "Processed 15000 VCF entries.\n"
       ]
      },
      {
       "output_type": "stream",
       "stream": "stderr",
       "text": [
        "Error at variant # 15423\n",
        "\ttotal lifted: 582\n",
        "\texpect: T\n",
        "\tgot: C\n"
       ]
      },
      {
       "output_type": "stream",
       "stream": "stderr",
       "text": [
        "Error at variant # 15860\n",
        "\ttotal lifted: 598\n",
        "\texpect: A\n",
        "\tgot: C\n"
       ]
      },
      {
       "output_type": "stream",
       "stream": "stdout",
       "text": [
        "Processed 16000 VCF entries.\n"
       ]
      },
      {
       "output_type": "stream",
       "stream": "stderr",
       "text": [
        "Error at variant # 16083\n",
        "\ttotal lifted: 605\n",
        "\texpect: T\n",
        "\tgot: A\n"
       ]
      },
      {
       "output_type": "stream",
       "stream": "stderr",
       "text": [
        "Error at variant # 16903\n",
        "\ttotal lifted: 623\n",
        "\texpect: C\n",
        "\tgot: A\n"
       ]
      },
      {
       "output_type": "stream",
       "stream": "stdout",
       "text": [
        "Processed 17000 VCF entries.\n"
       ]
      },
      {
       "output_type": "stream",
       "stream": "stderr",
       "text": [
        "Error at variant # 17159\n",
        "\ttotal lifted: 628\n",
        "\texpect: T\n",
        "\tgot: A\n"
       ]
      },
      {
       "output_type": "stream",
       "stream": "stderr",
       "text": [
        "Error at variant # 17435\n",
        "\ttotal lifted: 633\n",
        "\texpect: T\n",
        "\tgot: C\n"
       ]
      },
      {
       "output_type": "stream",
       "stream": "stderr",
       "text": [
        "Error at variant # 17443\n",
        "\ttotal lifted: 634\n",
        "\texpect: T\n",
        "\tgot: C\n"
       ]
      },
      {
       "output_type": "stream",
       "stream": "stderr",
       "text": [
        "Error at variant # 17482\n",
        "\ttotal lifted: 638\n",
        "\texpect: T\n",
        "\tgot: C\n"
       ]
      },
      {
       "output_type": "stream",
       "stream": "stderr",
       "text": [
        "Error at variant # 17620\n",
        "\ttotal lifted: 646\n",
        "\texpect: A\n",
        "\tgot: T\n"
       ]
      },
      {
       "output_type": "stream",
       "stream": "stdout",
       "text": [
        "Processed 18000 VCF entries.\n"
       ]
      },
      {
       "output_type": "stream",
       "stream": "stderr",
       "text": [
        "Error at variant # 18090\n",
        "\ttotal lifted: 663\n",
        "\texpect: C\n",
        "\tgot: T\n"
       ]
      },
      {
       "output_type": "stream",
       "stream": "stderr",
       "text": [
        "Error at variant # 18408\n",
        "\ttotal lifted: 677\n",
        "\texpect: T\n",
        "\tgot: C\n"
       ]
      },
      {
       "output_type": "stream",
       "stream": "stderr",
       "text": [
        "Error at variant # 18682\n",
        "\ttotal lifted: 683\n",
        "\texpect: C\n",
        "\tgot: G\n"
       ]
      },
      {
       "output_type": "stream",
       "stream": "stderr",
       "text": [
        "Error at variant # 18768\n",
        "\ttotal lifted: 684\n",
        "\texpect: G\n",
        "\tgot: T\n"
       ]
      },
      {
       "output_type": "stream",
       "stream": "stdout",
       "text": [
        "Processed 19000 VCF entries.\n"
       ]
      },
      {
       "output_type": "stream",
       "stream": "stderr",
       "text": [
        "Error at variant # 19028\n",
        "\ttotal lifted: 700\n",
        "\texpect: C\n",
        "\tgot: A\n"
       ]
      },
      {
       "output_type": "stream",
       "stream": "stderr",
       "text": [
        "Error at variant # 19308\n",
        "\ttotal lifted: 710\n",
        "\texpect: C\n",
        "\tgot: A\n"
       ]
      },
      {
       "output_type": "stream",
       "stream": "stderr",
       "text": [
        "Error at variant # 19552\n",
        "\ttotal lifted: 720\n",
        "\texpect: G\n",
        "\tgot: T\n"
       ]
      },
      {
       "output_type": "stream",
       "stream": "stderr",
       "text": [
        "Error at variant # 19834\n",
        "\ttotal lifted: 726\n",
        "\texpect: A\n",
        "\tgot: C\n"
       ]
      },
      {
       "output_type": "stream",
       "stream": "stdout",
       "text": [
        "Processed 20000 VCF entries.\n"
       ]
      },
      {
       "output_type": "stream",
       "stream": "stderr",
       "text": [
        "Error at variant # 20522\n",
        "\ttotal lifted: 749\n",
        "\texpect: G\n",
        "\tgot: T\n"
       ]
      },
      {
       "output_type": "stream",
       "stream": "stderr",
       "text": [
        "Error at variant # 20927\n",
        "\ttotal lifted: 770\n",
        "\texpect: T\n",
        "\tgot: C\n"
       ]
      },
      {
       "output_type": "stream",
       "stream": "stdout",
       "text": [
        "Processed 21000 VCF entries.\n"
       ]
      },
      {
       "output_type": "stream",
       "stream": "stderr",
       "text": [
        "Error at variant # 21136\n",
        "\ttotal lifted: 781\n",
        "\texpect: C\n",
        "\tgot: A\n"
       ]
      },
      {
       "output_type": "stream",
       "stream": "stderr",
       "text": [
        "Error at variant # 21253\n",
        "\ttotal lifted: 791\n",
        "\texpect: A\n",
        "\tgot: T\n"
       ]
      },
      {
       "output_type": "stream",
       "stream": "stderr",
       "text": [
        "Error at variant # 21581\n",
        "\ttotal lifted: 818\n",
        "\texpect: a\n",
        "\tgot: T\n"
       ]
      },
      {
       "output_type": "stream",
       "stream": "stderr",
       "text": [
        "Error at variant # 21641\n",
        "\ttotal lifted: 825\n",
        "\texpect: C\n",
        "\tgot: T\n"
       ]
      },
      {
       "output_type": "stream",
       "stream": "stderr",
       "text": [
        "Error at variant # 21759\n",
        "\ttotal lifted: 835\n",
        "\texpect: T\n",
        "\tgot: A\n"
       ]
      },
      {
       "output_type": "stream",
       "stream": "stdout",
       "text": [
        "Processed 22000 VCF entries.\n"
       ]
      },
      {
       "output_type": "stream",
       "stream": "stderr",
       "text": [
        "Error at variant # 22286\n",
        "\ttotal lifted: 860\n",
        "\texpect: C\n",
        "\tgot: T\n"
       ]
      },
      {
       "output_type": "stream",
       "stream": "stderr",
       "text": [
        "Error at variant # 22542\n",
        "\ttotal lifted: 864\n",
        "\texpect: G\n",
        "\tgot: A\n"
       ]
      },
      {
       "output_type": "stream",
       "stream": "stderr",
       "text": [
        "Error at variant # 22726\n",
        "\ttotal lifted: 872\n",
        "\texpect: c\n",
        "\tgot: T\n"
       ]
      },
      {
       "output_type": "stream",
       "stream": "stderr",
       "text": [
        "Error at variant # 22773\n",
        "\ttotal lifted: 874\n",
        "\texpect: A\n",
        "\tgot: T\n"
       ]
      },
      {
       "output_type": "stream",
       "stream": "stderr",
       "text": [
        "Error at variant # 22820\n",
        "\ttotal lifted: 878\n",
        "\texpect: C\n",
        "\tgot: A\n"
       ]
      },
      {
       "output_type": "stream",
       "stream": "stdout",
       "text": [
        "Processed 23000 VCF entries.\n"
       ]
      },
      {
       "output_type": "stream",
       "stream": "stderr",
       "text": [
        "Error at variant # 23111\n",
        "\ttotal lifted: 889\n",
        "\texpect: A\n",
        "\tgot: T\n"
       ]
      },
      {
       "output_type": "stream",
       "stream": "stderr",
       "text": [
        "Error at variant # 23152\n",
        "\ttotal lifted: 891\n",
        "\texpect: A\n",
        "\tgot: G\n"
       ]
      },
      {
       "output_type": "stream",
       "stream": "stderr",
       "text": [
        "Error at variant # 23656\n",
        "\ttotal lifted: 920\n",
        "\texpect: A\n",
        "\tgot: G\n"
       ]
      },
      {
       "output_type": "stream",
       "stream": "stderr",
       "text": [
        "Error at variant # 23677\n",
        "\ttotal lifted: 923\n",
        "\texpect: T\n",
        "\tgot: C\n"
       ]
      },
      {
       "output_type": "stream",
       "stream": "stderr",
       "text": [
        "Error at variant # 23970\n",
        "\ttotal lifted: 934\n",
        "\texpect: A\n",
        "\tgot: T\n"
       ]
      },
      {
       "output_type": "stream",
       "stream": "stdout",
       "text": [
        "Processed 24000 VCF entries.\n"
       ]
      },
      {
       "output_type": "stream",
       "stream": "stderr",
       "text": [
        "Error at variant # 24254\n",
        "\ttotal lifted: 955\n",
        "\texpect: T\n",
        "\tgot: G\n"
       ]
      },
      {
       "output_type": "stream",
       "stream": "stderr",
       "text": [
        "Error at variant # 24408\n",
        "\ttotal lifted: 966\n",
        "\texpect: T\n",
        "\tgot: C\n"
       ]
      },
      {
       "output_type": "stream",
       "stream": "stdout",
       "text": [
        "Processed 25000 VCF entries.\n"
       ]
      },
      {
       "output_type": "stream",
       "stream": "stderr",
       "text": [
        "Error at variant # 25203\n",
        "\ttotal lifted: 993\n",
        "\texpect: G\n",
        "\tgot: A\n"
       ]
      },
      {
       "output_type": "stream",
       "stream": "stderr",
       "text": [
        "Error at variant # 25372\n",
        "\ttotal lifted: 994\n",
        "\texpect: A\n",
        "\tgot: T\n"
       ]
      },
      {
       "output_type": "stream",
       "stream": "stderr",
       "text": [
        "Error at variant # 25377\n",
        "\ttotal lifted: 994\n",
        "\texpect: A\n",
        "\tgot: G\n"
       ]
      },
      {
       "output_type": "stream",
       "stream": "stderr",
       "text": [
        "Error at variant # 25537\n",
        "\ttotal lifted: 1004\n",
        "\texpect: C\n",
        "\tgot: T\n"
       ]
      },
      {
       "output_type": "stream",
       "stream": "stderr",
       "text": [
        "Error at variant # 25552\n",
        "\ttotal lifted: 1005\n",
        "\texpect: T\n",
        "\tgot: G\n"
       ]
      },
      {
       "ename": "KeyboardInterrupt",
       "evalue": "",
       "output_type": "pyerr",
       "traceback": [
        "\u001b[1;31m---------------------------------------------------------------------------\u001b[0m\n\u001b[1;31mKeyboardInterrupt\u001b[0m                         Traceback (most recent call last)",
        "\u001b[1;32m<ipython-input-130-1f24f630beb5>\u001b[0m in \u001b[0;36m<module>\u001b[1;34m()\u001b[0m\n\u001b[0;32m     36\u001b[0m             \u001b[0msequence\u001b[0m\u001b[1;33m[\u001b[0m\u001b[0mrefpos\u001b[0m\u001b[1;33m:\u001b[0m\u001b[1;33m(\u001b[0m\u001b[0mrefpos\u001b[0m\u001b[1;33m+\u001b[0m\u001b[0mlen\u001b[0m\u001b[1;33m(\u001b[0m\u001b[0mvc\u001b[0m\u001b[1;33m.\u001b[0m\u001b[0mref\u001b[0m\u001b[1;33m)\u001b[0m\u001b[1;33m)\u001b[0m\u001b[1;33m]\u001b[0m \u001b[1;33m=\u001b[0m \u001b[0mlist\u001b[0m\u001b[1;33m(\u001b[0m\u001b[0mvc\u001b[0m\u001b[1;33m.\u001b[0m\u001b[0malt\u001b[0m\u001b[1;33m)\u001b[0m\u001b[1;33m\u001b[0m\u001b[0m\n\u001b[0;32m     37\u001b[0m     \u001b[1;32melse\u001b[0m\u001b[1;33m:\u001b[0m \u001b[1;31m# if we are dealing with net addition / subtraction: do it the slow way\u001b[0m\u001b[1;33m\u001b[0m\u001b[0m\n\u001b[1;32m---> 38\u001b[1;33m         \u001b[0msequence\u001b[0m\u001b[1;33m[\u001b[0m\u001b[0mrefpos\u001b[0m\u001b[1;33m:\u001b[0m\u001b[1;33m(\u001b[0m\u001b[0mrefpos\u001b[0m\u001b[1;33m+\u001b[0m\u001b[0mlen\u001b[0m\u001b[1;33m(\u001b[0m\u001b[0mvc\u001b[0m\u001b[1;33m.\u001b[0m\u001b[0mref\u001b[0m\u001b[1;33m)\u001b[0m\u001b[1;33m)\u001b[0m\u001b[1;33m]\u001b[0m \u001b[1;33m=\u001b[0m \u001b[0mlist\u001b[0m\u001b[1;33m(\u001b[0m\u001b[0mvc\u001b[0m\u001b[1;33m.\u001b[0m\u001b[0malt\u001b[0m\u001b[1;33m)\u001b[0m\u001b[1;33m\u001b[0m\u001b[0m\n\u001b[0m\u001b[0;32m     39\u001b[0m         \u001b[0mnewpos\u001b[0m \u001b[1;33m=\u001b[0m \u001b[0mdelta\u001b[0m \u001b[1;33m+\u001b[0m \u001b[0mcurrent_delta\u001b[0m \u001b[1;33m+\u001b[0m \u001b[0mvcpos\u001b[0m\u001b[1;33m\u001b[0m\u001b[0m\n\u001b[0;32m     40\u001b[0m         \u001b[0mline_info\u001b[0m \u001b[1;33m=\u001b[0m \u001b[1;33m{\u001b[0m\u001b[1;34m'id'\u001b[0m\u001b[1;33m:\u001b[0m\u001b[0mnum_chains\u001b[0m\u001b[1;33m,\u001b[0m \u001b[1;34m'chain'\u001b[0m\u001b[1;33m:\u001b[0m\u001b[1;33m[\u001b[0m\u001b[0mscore\u001b[0m\u001b[1;33m,\u001b[0m\u001b[0mchr_name\u001b[0m\u001b[1;33m,\u001b[0m\u001b[0mchr_size\u001b[0m\u001b[1;33m,\u001b[0m\u001b[1;34m'.'\u001b[0m\u001b[1;33m,\u001b[0m\u001b[0mlast_lift_ref\u001b[0m\u001b[1;33m,\u001b[0m \u001b[0mvcpos\u001b[0m\u001b[1;33m,\u001b[0m \u001b[0mchr_name\u001b[0m\u001b[1;33m,\u001b[0m \u001b[0mchr_size\u001b[0m\u001b[1;33m,\u001b[0m\u001b[1;34m'.'\u001b[0m\u001b[1;33m,\u001b[0m\u001b[0mlast_lift_alt\u001b[0m\u001b[1;33m,\u001b[0m\u001b[0mnewpos\u001b[0m\u001b[1;33m]\u001b[0m\u001b[1;33m}\u001b[0m\u001b[1;33m\u001b[0m\u001b[0m\n",
        "\u001b[1;31mKeyboardInterrupt\u001b[0m: "
       ]
      }
     ],
     "prompt_number": 130
    },
    {
     "cell_type": "code",
     "collapsed": false,
     "input": [
      "sequence[811668:811680]"
     ],
     "language": "python",
     "metadata": {},
     "outputs": [
      {
       "ename": "NameError",
       "evalue": "name 'sequence' is not defined",
       "output_type": "pyerr",
       "traceback": [
        "\u001b[1;31m---------------------------------------------------------------------------\u001b[0m\n\u001b[1;31mNameError\u001b[0m                                 Traceback (most recent call last)",
        "\u001b[1;32m<ipython-input-6-c8a73e8c1a94>\u001b[0m in \u001b[0;36m<module>\u001b[1;34m()\u001b[0m\n\u001b[1;32m----> 1\u001b[1;33m \u001b[0msequence\u001b[0m\u001b[1;33m[\u001b[0m\u001b[1;36m811668\u001b[0m\u001b[1;33m:\u001b[0m\u001b[1;36m811680\u001b[0m\u001b[1;33m]\u001b[0m\u001b[1;33m\u001b[0m\u001b[0m\n\u001b[0m",
        "\u001b[1;31mNameError\u001b[0m: name 'sequence' is not defined"
       ]
      }
     ],
     "prompt_number": 6
    },
    {
     "cell_type": "code",
     "collapsed": false,
     "input": [
      "vcpos = 2\n",
      "delta = 0\n",
      "test = list(str('abcdefxyz'))\n",
      "refpos = vcpos - delta - 1\n",
      "vcref = 'bcd'\n",
      "vcalt = 'ghijk'\n",
      "print len(test)\n",
      "print test[5+delta]\n",
      "test[refpos:(refpos+len(vcref))] = list(vcalt)\n",
      "delta = len(vcalt) - len(vcref)\n",
      "print test\n",
      "print len(test)\n",
      "print delta\n",
      "print test[5+delta]\n",
      "seqt = ht.Sequence(''.join(test), name='chr4')\n",
      "seqt.seq"
     ],
     "language": "python",
     "metadata": {},
     "outputs": [
      {
       "output_type": "stream",
       "stream": "stdout",
       "text": [
        "9\n",
        "f\n",
        "['a', 'g', 'h', 'i', 'j', 'k', 'e', 'f', 'x', 'y', 'z']\n",
        "11\n",
        "2\n",
        "f\n"
       ]
      },
      {
       "metadata": {},
       "output_type": "pyout",
       "prompt_number": 5,
       "text": [
        "'aghijkefxyz'"
       ]
      }
     ],
     "prompt_number": 5
    },
    {
     "cell_type": "code",
     "collapsed": false,
     "input": [
      "test = pysam.faidx(ref,'chr1')"
     ],
     "language": "python",
     "metadata": {},
     "outputs": [
      {
       "ename": "UnsupportedOperation",
       "evalue": "IOStream has no fileno.",
       "output_type": "pyerr",
       "traceback": [
        "\u001b[1;31m---------------------------------------------------------------------------\u001b[0m\n\u001b[1;31mUnsupportedOperation\u001b[0m                      Traceback (most recent call last)",
        "\u001b[1;32m<ipython-input-17-b60070d5ad7e>\u001b[0m in \u001b[0;36m<module>\u001b[1;34m()\u001b[0m\n\u001b[1;32m----> 1\u001b[1;33m \u001b[0mtest\u001b[0m \u001b[1;33m=\u001b[0m \u001b[0mpysam\u001b[0m\u001b[1;33m.\u001b[0m\u001b[0mfaidx\u001b[0m\u001b[1;33m(\u001b[0m\u001b[0mref\u001b[0m\u001b[1;33m,\u001b[0m\u001b[1;34m'chr1'\u001b[0m\u001b[1;33m)\u001b[0m\u001b[1;33m\u001b[0m\u001b[0m\n\u001b[0m",
        "\u001b[1;32m/home/ryan/anaconda/lib/python2.7/site-packages/pysam/__init__.pyc\u001b[0m in \u001b[0;36m__call__\u001b[1;34m(self, *args, **kwargs)\u001b[0m\n\u001b[0;32m     48\u001b[0m         '''execute a samtools command\n\u001b[0;32m     49\u001b[0m         '''\n\u001b[1;32m---> 50\u001b[1;33m         \u001b[0mretval\u001b[0m\u001b[1;33m,\u001b[0m \u001b[0mstderr\u001b[0m\u001b[1;33m,\u001b[0m \u001b[0mstdout\u001b[0m \u001b[1;33m=\u001b[0m \u001b[0mcsamtools\u001b[0m\u001b[1;33m.\u001b[0m\u001b[0m_samtools_dispatch\u001b[0m\u001b[1;33m(\u001b[0m \u001b[0mself\u001b[0m\u001b[1;33m.\u001b[0m\u001b[0mdispatch\u001b[0m\u001b[1;33m,\u001b[0m \u001b[0margs\u001b[0m \u001b[1;33m)\u001b[0m\u001b[1;33m\u001b[0m\u001b[0m\n\u001b[0m\u001b[0;32m     51\u001b[0m         \u001b[1;32mif\u001b[0m \u001b[0mretval\u001b[0m\u001b[1;33m:\u001b[0m \u001b[1;32mraise\u001b[0m \u001b[0mSamtoolsError\u001b[0m\u001b[1;33m(\u001b[0m \u001b[1;34m\"\\n\"\u001b[0m\u001b[1;33m.\u001b[0m\u001b[0mjoin\u001b[0m\u001b[1;33m(\u001b[0m \u001b[0mstderr\u001b[0m \u001b[1;33m)\u001b[0m \u001b[1;33m)\u001b[0m\u001b[1;33m\u001b[0m\u001b[0m\n\u001b[0;32m     52\u001b[0m         \u001b[0mself\u001b[0m\u001b[1;33m.\u001b[0m\u001b[0mstderr\u001b[0m \u001b[1;33m=\u001b[0m \u001b[0mstderr\u001b[0m\u001b[1;33m\u001b[0m\u001b[0m\n",
        "\u001b[1;32m/home/ryan/anaconda/lib/python2.7/site-packages/csamtools.so\u001b[0m in \u001b[0;36mcsamtools._samtools_dispatch (pysam/csamtools.c:26163)\u001b[1;34m()\u001b[0m\n",
        "\u001b[1;32m/home/ryan/anaconda/lib/python2.7/site-packages/IPython/kernel/zmq/iostream.pyc\u001b[0m in \u001b[0;36mfileno\u001b[1;34m(self)\u001b[0m\n\u001b[0;32m    174\u001b[0m \u001b[1;33m\u001b[0m\u001b[0m\n\u001b[0;32m    175\u001b[0m     \u001b[1;32mdef\u001b[0m \u001b[0mfileno\u001b[0m\u001b[1;33m(\u001b[0m\u001b[0mself\u001b[0m\u001b[1;33m)\u001b[0m\u001b[1;33m:\u001b[0m\u001b[1;33m\u001b[0m\u001b[0m\n\u001b[1;32m--> 176\u001b[1;33m         \u001b[1;32mraise\u001b[0m \u001b[0mUnsupportedOperation\u001b[0m\u001b[1;33m(\u001b[0m\u001b[1;34m\"IOStream has no fileno.\"\u001b[0m\u001b[1;33m)\u001b[0m\u001b[1;33m\u001b[0m\u001b[0m\n\u001b[0m\u001b[0;32m    177\u001b[0m \u001b[1;33m\u001b[0m\u001b[0m\n\u001b[0;32m    178\u001b[0m     \u001b[1;32mdef\u001b[0m \u001b[0mwrite\u001b[0m\u001b[1;33m(\u001b[0m\u001b[0mself\u001b[0m\u001b[1;33m,\u001b[0m \u001b[0mstring\u001b[0m\u001b[1;33m)\u001b[0m\u001b[1;33m:\u001b[0m\u001b[1;33m\u001b[0m\u001b[0m\n",
        "\u001b[1;31mUnsupportedOperation\u001b[0m: IOStream has no fileno."
       ]
      }
     ],
     "prompt_number": 17
    },
    {
     "cell_type": "code",
     "collapsed": false,
     "input": [
      "time.strftime(\"%m%d%y_%H%M%S\")"
     ],
     "language": "python",
     "metadata": {},
     "outputs": [
      {
       "metadata": {},
       "output_type": "pyout",
       "prompt_number": 42,
       "text": [
        "'020414_163503'"
       ]
      }
     ],
     "prompt_number": 42
    },
    {
     "cell_type": "heading",
     "level": 1,
     "metadata": {},
     "source": [
      "Finalized"
     ]
    },
    {
     "cell_type": "code",
     "collapsed": false,
     "input": [
      "#!/bin/sh\n",
      "\n",
      "import numpy as np\n",
      "import pandas as pd\n",
      "import scipy as sp\n",
      "import sys\n",
      "\n",
      "import HTSeq as ht\n",
      "import itertools\n",
      "import time\n",
      "\n",
      "from mrjob.job import MRJob\n",
      "\n",
      "ref_dir = '/media/ryan/RyanNeffBioinformatics/phenom/Data/references/'\n",
      "changevcf_dir = '/media/ryan/RyanNeffBioinformatics/updated_tools/'\n",
      "vcf_pattern = \"_ASW_complete.vcf\"\n",
      "\n",
      "def sequence_maker(chr_name):\n",
      "    sequence = \"\"\n",
      "    vcfr = ht.VCF_Reader(changevcf_dir + chr_name + vcf_pattern)\n",
      "    vcfr.parse_meta()\n",
      "    vcfr.make_info_dict()\n",
      "    \n",
      "    refwalker = ht.FastaReader(ref_dir + chr_name + \"_hg19.fa\")\n",
      "    for seq in refwalker:\n",
      "        chr1=seq\n",
      "        break\n",
      "    sequence = list(str(chr1.seq))\n",
      "    \n",
      "    # let's make a new reference sequence\n",
      "    chr_size = len(sequence)\n",
      "    score = 4900 # totally arbitrary\n",
      "    current_delta = 0\n",
      "    liftover_info = []\n",
      "    last_lift_ref = 1\n",
      "    last_lift_alt = 1\n",
      "    num_chains = 1\n",
      "    totaldone = 0\n",
      "    totallift = 0\n",
      "    error_count = 0\n",
      "    for vc in vcfr:\n",
      "        if str(vc.chrom) != chr_name:\n",
      "            break\n",
      "        totaldone += 1\n",
      "        delta = len(vc.alt) - len(vc.ref) #did we move the sequence?\n",
      "        vcpos = int(vc.pos.start)\n",
      "        refpos = vcpos + current_delta - 1 #let's calculate where we need to go to match the ref position\n",
      "        if vc.ref[0] == '.':\n",
      "            vc.ref[0] = ''\n",
      "            delta += 1\n",
      "        if vc.alt[0] == '.':\n",
      "            vc.alt[0] = ''\n",
      "            delta = -1\n",
      "        if list(vc.alt) == list('<DEL>'):\n",
      "            vc.alt = ''\n",
      "            delta = -1\n",
      "        if vc.ref[0].lower() != sequence[refpos][0].lower():\n",
      "            #sys.stderr.write(str(chr_name) + \": Error at variant # \" + str(totaldone) +\"\\n\")\n",
      "            #sys.stderr.write(\"\\ttotal lifted: \" +str(len(liftover_info))+\"\\n\")\n",
      "            #sys.stderr.write(\"\\texpect: \" + str(sequence[refpos][0])+\"\\n\")\n",
      "            #sys.stderr.write(\"\\tgot: \" + str(vc.ref[0])+\"\\n\")\n",
      "            #sys.stderr.flush()\n",
      "            error_count += 1\n",
      "        if delta == 0: # if we have a 1:1 substitution\n",
      "            if len(vc.ref) == 1: # if we are only dealing with a one base substitution\n",
      "                sequence[refpos] = vc.alt[0]\n",
      "            else:\n",
      "                sequence[refpos:(refpos+len(vc.ref))] = list(vc.alt)\n",
      "        else: # if we are dealing with net addition / subtraction: do it the slow way\n",
      "            sequence[refpos:(refpos+len(vc.ref))] = list(vc.alt)\n",
      "            newpos = delta + current_delta + vcpos\n",
      "            line_info = {'id':num_chains, 'chain':[score,chr_name,chr_size,'.',last_lift_ref, vcpos, chr_name, chr_size,'.',last_lift_alt,newpos]}\n",
      "            liftover_info.append(line_info)\n",
      "            last_lift_ref = vcpos\n",
      "            last_lift_alt = newpos\n",
      "            num_chains += 1\n",
      "            current_delta += delta\n",
      "            totallift += 1\n",
      "    sys.stderr.write(str(chr_name) + \": Error count: \" + str(error_count) + \"\\n\")\n",
      "    sys.stderr.write(str(chr_name) + \": Total variants: \" + str(totaldone) + \"\\n\")\n",
      "    sys.stderr.flush()\n",
      "    new_chr_size = len(sequence)\n",
      "    return (chr_name, sequence, liftover_info, new_chr_size)\n",
      "\t\t\n",
      "alt_file = open(changevcf_dir + \"alt_sequence-\" + time.strftime(\"%m%d%y_%H%M%S\") ,\"w\")\n",
      "lift_file = open(changevcf_dir + \"liftover-\" + time.strftime(\"%m%d%y_%H%M%S\") ,\"w\")\n",
      "names = [\"chr1\",\n",
      "        \"chr2\",\n",
      "        \"chr3\",\n",
      "        \"chr4\",\n",
      "        \"chr5\",\n",
      "        \"chr6\",\n",
      "        \"chr7\",\n",
      "        \"chr8\",\n",
      "        \"chr9\",\n",
      "        \"chr10\",\n",
      "        \"chr11\",\n",
      "        \"chr12\",\n",
      "        \"chr13\",\n",
      "        \"chr14\",\n",
      "        \"chr15\",\n",
      "        \"chr16\",\n",
      "        \"chr17\",\n",
      "        \"chr18\",\n",
      "        \"chr19\",\n",
      "        \"chr20\",\n",
      "        \"chr21\",\n",
      "        \"chr22\",\n",
      "        \"chrX\",\n",
      "        \"chrY\"]\n",
      "for chr_name_prior in names:\n",
      "    sys.stderr.write(\"Starting \" + str(chr_name_prior) +\" ... \\n\")\n",
      "    sys.stderr.flush()\n",
      "    \n",
      "    (chr_name, seq_string, liftover_info, new_chr_size) = sequence_maker(chr_name_prior)\n",
      "    sys.stderr.write(\"Got \" + str(chr_name) +\". \\n\")\n",
      "    sys.stderr.flush()\n",
      "    \n",
      "    seq_string = ht.Sequence(''.join(seq_string), name=chr_name)\n",
      "    sys.stderr.write(\"Copied \" + str(chr_name) +\" to HTSeq. \\n\")\n",
      "    sys.stderr.flush()\n",
      "    \n",
      "    seq_string.write_to_fasta_file(alt_file)\n",
      "    sys.stderr.write(\"Wrote \" + str(chr_name) +\" to file. \\n\")\n",
      "    for line in liftover_info:\n",
      "        line['chain'][7] = new_chr_size\n",
      "        liftstr = '\\t'.join(['chain', '\\t'.join(str(e) for e in line['chain'])]) + \"\\n\"\n",
      "        lift_file.write(liftstr)\n",
      "    sys.stderr.flush()\n",
      "alt_file.close()\t\n",
      "lift_file.close()\n"
     ],
     "language": "python",
     "metadata": {},
     "outputs": [
      {
       "output_type": "stream",
       "stream": "stderr",
       "text": [
        "Starting chr1 ... \n"
       ]
      }
     ],
     "prompt_number": "*"
    },
    {
     "cell_type": "code",
     "collapsed": false,
     "input": [
      "values = [('chr','slahjjlkjs',[['ksjaklsalkj','sakljalkjaslakj'],['ksjaklsalkj','sakljalkjaslakj']],21323123),('chr','slahjjlkjs',[['ksjaklsalkj','sakljalkjaslakj'],['ksjaklsalkj','sakljalkjaslakj']],21323123)]\n",
      "for value in values:\n",
      "    (chr_name, seq, lift, num) = value"
     ],
     "language": "python",
     "metadata": {},
     "outputs": [],
     "prompt_number": 2
    },
    {
     "cell_type": "code",
     "collapsed": false,
     "input": [
      "'\\t'.join(['chain', '\\t'.join(str(e) for e in liftover_info[2]['chain'][7:8])])"
     ],
     "language": "python",
     "metadata": {},
     "outputs": [
      {
       "metadata": {},
       "output_type": "pyout",
       "prompt_number": 35,
       "text": [
        "'chain\\t243199373'"
       ]
      }
     ],
     "prompt_number": 35
    },
    {
     "cell_type": "code",
     "collapsed": false,
     "input": [
      "refwalker = ht.FastaReader(\"/media/ryan/RyanNeffBioinformatics/updated_tools/alt_sequence-022714_131159\")\n",
      "refwalker2 = ht.FastaReader(\"/media/ryan/RyanNeffBioinformatics/phenom/Data/references/chr1_hg19.fa\")\n",
      "for seq in refwalker2:\n",
      "    chr1h = seq\n",
      "    break\n",
      "for seq in refwalker:\n",
      "    chr1a = seq\n",
      "    break"
     ],
     "language": "python",
     "metadata": {},
     "outputs": [],
     "prompt_number": 4
    },
    {
     "cell_type": "code",
     "collapsed": false,
     "input": [
      "a = 1092662\n",
      "h = 1092689\n",
      "s = 30\n",
      "sh = 1000\n",
      "mess = 0\n",
      "a += sh + mess\n",
      "h += sh\n",
      "\n",
      "print \"ref: \" + chr1h.seq[h:(h+s)] \n",
      "print \"alt: \" + chr1a.seq[a:(a+s)] \n",
      "print ''\n",
      "print \"alt (rev): \" + chr1a.seq[h:(h+s)] \n",
      "print \"ref (rev): \"+chr1h.seq[a:(a+s)] \n",
      "print ''\n",
      "print chr1h.seq[h:(h+s)].lower() == chr1a.seq[h:(h+s)].lower() # no lift\n",
      "print chr1a.seq[a:(a+s)].lower() == chr1h.seq[a:(a+s)].lower() # no lift\n",
      "print ''\n",
      "print chr1a.seq[h:(h+s)].lower() == chr1h.seq[a:(a+s)].lower() # reversed\n",
      "print chr1a.seq[a:(a+s)].lower() == chr1h.seq[h:(h+s)].lower() # regular"
     ],
     "language": "python",
     "metadata": {},
     "outputs": [
      {
       "output_type": "stream",
       "stream": "stdout",
       "text": [
        "ref: CTTTGTCCTGCCTGCCCCGCCCAGCGAGAC\n",
        "alt: CTTTGTCCTGCCTGCCCCGCCCAGCGAGAC\n",
        "\n",
        "alt (rev): GACCTCGGGCCCAGCCAGGGCTGGGGGCTG\n",
        "ref (rev): GTAGCCCCGAGCCAGAGCACAAAGGGCCTT\n",
        "\n",
        "False\n",
        "False\n",
        "\n",
        "False\n",
        "True\n"
       ]
      }
     ],
     "prompt_number": 14
    },
    {
     "cell_type": "code",
     "collapsed": false,
     "input": [
      "liftover = pd.read_csv(\"/media/ryan/RyanNeffBioinformatics/updated_tools/liftover-022714_131159\", sep=\"\\t\", header=None)\n",
      "liftover.head()\n",
      "\n",
      "# data cleanup\n",
      "cleaned = liftover[liftover[10] < liftover[11]].copy()"
     ],
     "language": "python",
     "metadata": {},
     "outputs": [],
     "prompt_number": 20
    },
    {
     "cell_type": "code",
     "collapsed": false,
     "input": [
      "cleaned.to_csv(\"liftover-022714_131159-cleaned\", sep=\"\\t\", header=False, index=False)"
     ],
     "language": "python",
     "metadata": {},
     "outputs": [],
     "prompt_number": 22
    }
   ],
   "metadata": {}
  }
 ]
}