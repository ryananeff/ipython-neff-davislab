{
 "metadata": {
  "name": ""
 },
 "nbformat": 3,
 "nbformat_minor": 0,
 "worksheets": [
  {
   "cells": [
    {
     "cell_type": "code",
     "collapsed": false,
     "input": [
      "# Imports / style (run this first always)\n",
      "\n",
      "%matplotlib inline\n",
      "from collections import defaultdict\n",
      "import json\n",
      "import sys\n",
      "import time\n",
      "\n",
      "import numpy as np\n",
      "import scipy as sp\n",
      "import matplotlib.pyplot as plt\n",
      "import pandas as pd\n",
      "\n",
      "from matplotlib import rcParams\n",
      "import matplotlib.cm as cm\n",
      "import matplotlib as mpl\n",
      "\n",
      "class AwesomeError(Exception):\n",
      "     def __init__(self, value):\n",
      "         self.value = value\n",
      "         pass\n",
      "     def __str__(self):\n",
      "         return repr(self.value)\n",
      "         pass\n",
      "\n",
      "#colorbrewer2 Dark2 qualitative color table\n",
      "dark2_colors = [(0.10588235294117647, 0.6196078431372549, 0.4666666666666667),\n",
      "                (0.8509803921568627, 0.37254901960784315, 0.00784313725490196),\n",
      "                (0.4588235294117647, 0.4392156862745098, 0.7019607843137254),\n",
      "                (0.9058823529411765, 0.1607843137254902, 0.5411764705882353),\n",
      "                (0.4, 0.6509803921568628, 0.11764705882352941),\n",
      "                (0.9019607843137255, 0.6705882352941176, 0.00784313725490196),\n",
      "                (0.6509803921568628, 0.4627450980392157, 0.11372549019607843)]\n",
      "\n",
      "rcParams['figure.figsize'] = (10, 6)\n",
      "rcParams['figure.dpi'] = 150\n",
      "rcParams['axes.color_cycle'] = dark2_colors\n",
      "rcParams['lines.linewidth'] = 2\n",
      "rcParams['axes.facecolor'] = 'white'\n",
      "rcParams['font.size'] = 14\n",
      "rcParams['patch.edgecolor'] = 'white'\n",
      "rcParams['patch.facecolor'] = dark2_colors[0]\n",
      "rcParams['font.family'] = 'StixGeneral'\n",
      "\n",
      "\n",
      "def remove_border(axes=None, top=False, right=False, left=True, bottom=True):\n",
      "    \"\"\"\n",
      "    Minimize chartjunk by stripping out unnecesasry plot borders and axis ticks\n",
      "    \n",
      "    The top/right/left/bottom keywords toggle whether the corresponding plot border is drawn\n",
      "    \"\"\"\n",
      "    ax = axes or plt.gca()\n",
      "    ax.spines['top'].set_visible(top)\n",
      "    ax.spines['right'].set_visible(right)\n",
      "    ax.spines['left'].set_visible(left)\n",
      "    ax.spines['bottom'].set_visible(bottom)\n",
      "    \n",
      "    #turn off all ticks\n",
      "    ax.yaxis.set_ticks_position('none')\n",
      "    ax.xaxis.set_ticks_position('none')\n",
      "    \n",
      "    #now re-enable visibles\n",
      "    if top:\n",
      "        ax.xaxis.tick_top()\n",
      "    if bottom:\n",
      "        ax.xaxis.tick_bottom()\n",
      "    if left:\n",
      "        ax.yaxis.tick_left()\n",
      "    if right:\n",
      "        ax.yaxis.tick_right()\n",
      "        \n",
      "pd.set_option('display.width', 500)\n",
      "pd.set_option('display.max_columns', 100)\n",
      "\n",
      "import Bio as bp\n",
      "from Bio.Sequencing.Applications import BwaAlignCommandline as bwa_aln\n",
      "from Bio.Sequencing.Applications import BwaSamseCommandline as bwa_samse\n",
      "from Bio.Sequencing.Applications import BwaSampeCommandline as bwa_sampe\n",
      "from Bio.Sequencing.Applications import BwaIndexCommandline as bwa_index\n",
      "from Bio.Sequencing.Applications import BwaBwaswCommandline as bwa_bwasw\n",
      "import HTSeq as ht\n",
      "import subprocess"
     ],
     "language": "python",
     "metadata": {},
     "outputs": [],
     "prompt_number": 2
    },
    {
     "cell_type": "code",
     "collapsed": false,
     "input": [
      "filenamearr = pd.read_csv('/data/projects_gibbons/home/neffra/mhgrid_analysis/filenames.txt', header=None, sep=\"\\t\")"
     ],
     "language": "python",
     "metadata": {},
     "outputs": [],
     "prompt_number": 4
    },
    {
     "cell_type": "code",
     "collapsed": false,
     "input": [
      "test = [[a, int(x[0].split(\"_\")[1])] for a,x in filenamearr.iterrows()]"
     ],
     "language": "python",
     "metadata": {},
     "outputs": [],
     "prompt_number": 44
    },
    {
     "cell_type": "code",
     "collapsed": false,
     "input": [
      "test = np.reshape(test, [350,2])"
     ],
     "language": "python",
     "metadata": {},
     "outputs": [],
     "prompt_number": 45
    },
    {
     "cell_type": "code",
     "collapsed": false,
     "input": [
      "newtest = sorted(test, key=lambda x: x[1])"
     ],
     "language": "python",
     "metadata": {},
     "outputs": [],
     "prompt_number": 48
    },
    {
     "cell_type": "code",
     "collapsed": false,
     "input": [
      "newtest[5][0]"
     ],
     "language": "python",
     "metadata": {},
     "outputs": [
      {
       "metadata": {},
       "output_type": "pyout",
       "prompt_number": 50,
       "text": [
        "316"
       ]
      }
     ],
     "prompt_number": 50
    },
    {
     "cell_type": "code",
     "collapsed": false,
     "input": [
      "for a,i in filenamearr.iterrows():\n",
      "    print a\n",
      "    break"
     ],
     "language": "python",
     "metadata": {},
     "outputs": [
      {
       "output_type": "stream",
       "stream": "stdout",
       "text": [
        "0\n"
       ]
      }
     ],
     "prompt_number": 27
    },
    {
     "cell_type": "code",
     "collapsed": false,
     "input": [
      "filenamearr.iloc[1][0]"
     ],
     "language": "python",
     "metadata": {},
     "outputs": [
      {
       "metadata": {},
       "output_type": "pyout",
       "prompt_number": 7,
       "text": [
        "'S1304120MHM_101_ACCACTGT_merged_mhgrid.bam.HC.raw.gvcf'"
       ]
      }
     ],
     "prompt_number": 7
    },
    {
     "cell_type": "code",
     "collapsed": false,
     "input": [
      "header = '~/tools/java7/bin/java -Xmx96g -jar ~/tools/gatk/GenomeAnalysisTK.jar -R ~/old_analysis/new_ref_seq/alt_sequence2.fa -T CombineGVCFs -o '\n",
      "i = 1\n",
      "count = 0\n",
      "filep = ''\n",
      "filebase = 'combgvcf_'\n",
      "studybase = 'S1304120MHM_combined_genotypes_'\n",
      "filenamearr = pd.read_csv('/data/projects_gibbons/home/neffra/mhgrid_analysis/filenames.txt', header=None, sep=\"\\t\")\n",
      "for i in range(0,349):\n",
      "    if count > 10:\n",
      "        count = 0\n",
      "        filep.close()\n",
      "    if count == 0:\n",
      "        start = i+1\n",
      "        if i+10 > 351:\n",
      "            end = 351\n",
      "        else:\n",
      "            end = i+10\n",
      "        filep = open(filebase + str(start)+\"-\"+str(end)+\".sh\", 'wb')\n",
      "        filep.write(header + studybase + str(start)+\"-\"+str(end) + \".py.gvcf \")\n",
      "    # get position in filenamearr\n",
      "    loca = newtest[i][0]\n",
      "    filep.write(\"--variant \" + filenamearr.iloc[loca][0] + \" \")\n",
      "    count += 1"
     ],
     "language": "python",
     "metadata": {},
     "outputs": [],
     "prompt_number": 55
    },
    {
     "cell_type": "code",
     "collapsed": false,
     "input": [
      "filep.close()"
     ],
     "language": "python",
     "metadata": {},
     "outputs": [],
     "prompt_number": 54
    },
    {
     "cell_type": "code",
     "collapsed": false,
     "input": [
      "final_arr = set()\n",
      "final_files = subprocess.check_output(\"ls ~/1000g/*hg19*r.vcf\", shell=True).split('\\n')[0:-1]\n",
      "for i in final_files:\n",
      "    file_arr = pd.read_csv(i, header=None, sep='\\t')\n",
      "    final_arr = final_arr.union(set([tuple(i) for i in list(pd.np.array(file_arr[[0,1,2,3,4,5]]))]))\n",
      "final_arr_pd = pd.DataFrame(list(final_arr))\n",
      "final_arr_pd.to_csv(\"hg19_combined_new.vcf\", sep='\\t', header=None)"
     ],
     "language": "python",
     "metadata": {},
     "outputs": [],
     "prompt_number": 23
    },
    {
     "cell_type": "code",
     "collapsed": false,
     "input": [
      "len()"
     ],
     "language": "python",
     "metadata": {},
     "outputs": [
      {
       "metadata": {},
       "output_type": "pyout",
       "prompt_number": 21,
       "text": [
        "3122473"
       ]
      }
     ],
     "prompt_number": 21
    },
    {
     "cell_type": "code",
     "collapsed": false,
     "input": [
      "len(final_arr)"
     ],
     "language": "python",
     "metadata": {},
     "outputs": [
      {
       "metadata": {},
       "output_type": "pyout",
       "prompt_number": 4,
       "text": [
        "777793"
       ]
      }
     ],
     "prompt_number": 4
    },
    {
     "cell_type": "code",
     "collapsed": false,
     "input": [
      "list(final_arr)[0]"
     ],
     "language": "python",
     "metadata": {},
     "outputs": [
      {
       "metadata": {},
       "output_type": "pyout",
       "prompt_number": 7,
       "text": [
        "('chr2', 168066066, '.', 'T', 'C')"
       ]
      }
     ],
     "prompt_number": 7
    }
   ],
   "metadata": {}
  }
 ]
}