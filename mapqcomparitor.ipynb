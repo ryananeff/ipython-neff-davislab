{
 "metadata": {
  "name": ""
 },
 "nbformat": 3,
 "nbformat_minor": 0,
 "worksheets": [
  {
   "cells": [
    {
     "cell_type": "code",
     "collapsed": false,
     "input": [
      "%run ipy_setup.py"
     ],
     "language": "python",
     "metadata": {},
     "outputs": [],
     "prompt_number": 1
    },
    {
     "cell_type": "code",
     "collapsed": false,
     "input": [
      "%matplotlib inline\n",
      "rcParams['figure.figsize'] = (30, 10)\n",
      "rcParams['patch.edgecolor'] = 'blue'\n",
      "rcParams['figure.dpi'] = 300\n",
      "rcParams['font.size'] = 14\n",
      "rcParams['font.family'] = 'sans-serif'"
     ],
     "language": "python",
     "metadata": {},
     "outputs": [],
     "prompt_number": 31
    },
    {
     "cell_type": "code",
     "collapsed": false,
     "input": [
      "asw_only_vcf = ht.VCF_Reader(\"/data/projects_gibbons/home/neffra/compaln_vcf_afrgh38_hg38_ASW_092214/asw_only.vcf\")\n",
      "asw_only_vcf.parse_meta() # parses the metainformation in the header of the vcf\n",
      "asw_only_vcf.make_info_dict() # makes a dict that is used to access the fields in the INFO section of the VCF"
     ],
     "language": "python",
     "metadata": {},
     "outputs": [],
     "prompt_number": 3
    },
    {
     "cell_type": "code",
     "collapsed": false,
     "input": [
      "com_only_vcf = ht.VCF_Reader(\"/data/projects_gibbons/home/neffra/compaln_vcf_afrgh38_hg38_ASW_092214/com_only.vcf\")\n",
      "com_only_vcf.parse_meta() # parses the metainformation in the header of the vcf\n",
      "com_only_vcf.make_info_dict() # makes a dict that is used to access the fields in the INFO section of the VCF"
     ],
     "language": "python",
     "metadata": {},
     "outputs": [],
     "prompt_number": 23
    },
    {
     "cell_type": "code",
     "collapsed": false,
     "input": [
      "asw_only_mq = []\n",
      "for v in asw_only_vcf:\n",
      "    v.unpack_info(asw_only_vcf.infodict)\n",
      "    arrline = [v.chrom, v.pos.pos, v.ref[0], v.alt[0], v.info['MQ']]\n",
      "    asw_only_mq.append(arrline)"
     ],
     "language": "python",
     "metadata": {},
     "outputs": [],
     "prompt_number": 16
    },
    {
     "cell_type": "code",
     "collapsed": false,
     "input": [
      "com_only_mq = []\n",
      "for v in com_only_vcf:\n",
      "    v.unpack_info(com_only_vcf.infodict)\n",
      "    arrline = [v.chrom, v.pos.pos, v.ref[0], v.alt[0], v.info['MQ']]\n",
      "    com_only_mq.append(arrline)"
     ],
     "language": "python",
     "metadata": {},
     "outputs": [],
     "prompt_number": 24
    },
    {
     "cell_type": "code",
     "collapsed": false,
     "input": [
      "asw_only_mq = pd.DataFrame(asw_only_mq)"
     ],
     "language": "python",
     "metadata": {},
     "outputs": [],
     "prompt_number": 18
    },
    {
     "cell_type": "code",
     "collapsed": false,
     "input": [
      "com_only_mq = pd.DataFrame(com_only_mq)"
     ],
     "language": "python",
     "metadata": {},
     "outputs": [],
     "prompt_number": 25
    },
    {
     "cell_type": "code",
     "collapsed": false,
     "input": [
      "asw_only_mq[4].describe()"
     ],
     "language": "python",
     "metadata": {},
     "outputs": [
      {
       "metadata": {},
       "output_type": "pyout",
       "prompt_number": 21,
       "text": [
        "count    197024.000000\n",
        "mean         52.932188\n",
        "std          10.133125\n",
        "min           0.000000\n",
        "25%          48.690000\n",
        "50%          58.470000\n",
        "75%          60.000000\n",
        "max          70.000000\n",
        "Name: 4, dtype: float64"
       ]
      }
     ],
     "prompt_number": 21
    },
    {
     "cell_type": "code",
     "collapsed": false,
     "input": [
      "com_only_mq[4].describe()"
     ],
     "language": "python",
     "metadata": {},
     "outputs": [
      {
       "metadata": {},
       "output_type": "pyout",
       "prompt_number": 26,
       "text": [
        "count    221903.000000\n",
        "mean         41.849331\n",
        "std          13.538738\n",
        "min           0.000000\n",
        "25%          30.260000\n",
        "50%          38.840000\n",
        "75%          57.120000\n",
        "max          70.000000\n",
        "Name: 4, dtype: float64"
       ]
      }
     ],
     "prompt_number": 26
    },
    {
     "cell_type": "code",
     "collapsed": false,
     "input": [
      "compare_mq = pd.DataFrame(zip(com_only_mq[4], asw_only_mq[4]), columns=['hg38', 'AFRG'])"
     ],
     "language": "python",
     "metadata": {},
     "outputs": [],
     "prompt_number": 40
    },
    {
     "cell_type": "code",
     "collapsed": false,
     "input": [
      "rcParams['figure.figsize'] = (6, 6)\n",
      "compare_mq.boxplot()\n",
      "plt.ylabel('Mapping quality')\n",
      "plt.title('Mapping quality at variants unique\\nto each reference genome\\n')\n",
      "remove_border()\n",
      "plt.savefig('/data/projects_gibbons/home/neffra/compaln_vcf_afrgh38_hg38_ASW_092214/mq_uniq_sites.png')"
     ],
     "language": "python",
     "metadata": {},
     "outputs": [
      {
       "metadata": {},
       "output_type": "display_data",
       "png": "[encoded data removed]",
       "text": [
        "<matplotlib.figure.Figure at 0x610cc90>"
       ]
      }
     ],
     "prompt_number": 41
    }
   ],
   "metadata": {}
  }
 ]
}