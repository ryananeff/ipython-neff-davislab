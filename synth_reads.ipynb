{
 "metadata": {
  "name": ""
 },
 "nbformat": 3,
 "nbformat_minor": 0,
 "worksheets": [
  {
   "cells": [
    {
     "cell_type": "code",
     "collapsed": false,
     "input": [
      "# sets up the parallel environment - use everytime\n",
      "%run ipy_parallel.py"
     ],
     "language": "python",
     "metadata": {},
     "outputs": [
      {
       "output_type": "stream",
       "stream": "stdout",
       "text": [
        "importing defaultdict from collections on engine(s)\n",
        "importing json on engine(s)\n",
        "importing sys on engine(s)\n",
        "importing numpy on engine(s)\n",
        "importing scipy on engine(s)"
       ]
      },
      {
       "output_type": "stream",
       "stream": "stdout",
       "text": [
        "\n",
        "importing matplotlib.pyplot on engine(s)\n",
        "importing pandas on engine(s)\n",
        "importing rcParams from matplotlib on engine(s)\n",
        "importing matplotlib.cm on engine(s)\n",
        "importing matplotlib on engine(s)"
       ]
      },
      {
       "output_type": "stream",
       "stream": "stdout",
       "text": [
        "\n",
        "importing Bio on engine(s)\n",
        "importing HTSeq on engine(s)\n"
       ]
      }
     ],
     "prompt_number": 2
    },
    {
     "cell_type": "code",
     "collapsed": false,
     "input": [
      "# sets up the environment - use everytime\n",
      "%matplotlib inline\n",
      "%run ipy_setup.py"
     ],
     "language": "python",
     "metadata": {},
     "outputs": [],
     "prompt_number": 1
    },
    {
     "cell_type": "code",
     "collapsed": false,
     "input": [
      "# alternate reference sequence used \n",
      "myseq = ht.FastaReader(\"/data/test/home/neffra/references/alt_sequence-071114_192603_compiled.fa\")"
     ],
     "language": "python",
     "metadata": {},
     "outputs": [],
     "prompt_number": 3
    },
    {
     "cell_type": "code",
     "collapsed": false,
     "input": [
      "# print the names of the contigs\n",
      "for s in myseq:\n",
      "    break\n",
      "    print \"Sequence '%s' has length %d.\" % ( s.name, len(s) )\n",
      "    filehandle = open(str(s.name) + \"_hg38.fa\", \"w\")\n",
      "    s.write_to_fasta_file(filehandle)\n",
      "    filehandle.close()"
     ],
     "language": "python",
     "metadata": {},
     "outputs": [],
     "prompt_number": 10
    },
    {
     "cell_type": "code",
     "collapsed": false,
     "input": [
      "'''\n",
      "\n",
      "genReads\n",
      "\n",
      "makes synthetic paired-end reads from a reference genome. Parallel implementation\n",
      "\n",
      "'''\n",
      "\n",
      "def genReads(ref_file, readlen=100, insert_size=500):\n",
      "    start = 0\n",
      "    seq_list = [(s.name, s) for s in ht.FastaReader(ref_file)] # list all of the contigs\n",
      "    out_fq1 = open(ref_file + \"_allreads_1.fastq\",\"w\") # open left pair\n",
      "    out_fq2 = open(ref_file + \"_allreads_2.fastq\",\"w\") # right pair\n",
      "    qualstr = \"~\" * readlen # make a parfect QUAL string for the read\n",
      "    seqp = ''\n",
      "    count = 1\n",
      "    \n",
      "    # load sequence in memory, keep track of length\n",
      "    for seq in seq_list:\n",
      "        seqp = str(seq[1].seq)\n",
      "        maxlenq = len(seqp) # length of contig\n",
      "        \n",
      "        # push subroutine make_fragment to all nodes in cluster\n",
      "        export_dict = {'make_fragment': globals()['make_fragment']}\n",
      "        direct.push(export_dict, block=True) \n",
      "        \n",
      "        # now let's split up the job across all of the cluster computers\n",
      "        flags = {'seq': seqp, 'readlen': readlen, 'insert_size': insert_size}\n",
      "        direct.push(flags, block=True)\n",
      "        \n",
      "        # hold_fragments is a parallel job by nature\n",
      "        allfrags = hold_fragments(xrange(start, start+maxlenq-insert_size))\n",
      "        \n",
      "        # print result to file\n",
      "        for (l,r) in allfrags:\n",
      "            outstr1 = \"@\" + str(seq[0]) + \":\" + str(count) + \"\\n\"\n",
      "            outstr1 += l + \"\\n\"\n",
      "            outstr1 += \"+\\n\"\n",
      "            outstr1 += qualstr + \"\\n\"\n",
      "            outstr2 = \"@\" + str(seq[0]) + \":\" + str(count) + \"\\n\"\n",
      "            outstr2 += r + \"\\n\"\n",
      "            outstr2 += \"+\\n\"\n",
      "            outstr2 += qualstr + \"\\n\"\n",
      "            out_fq1.write(outstr1)\n",
      "            out_fq2.write(outstr2)\n",
      "    out_fq1.close()\n",
      "    out_fq2.close()\n",
      "    # return nothing if successful\n",
      "    return 0\n"
     ],
     "language": "python",
     "metadata": {},
     "outputs": [],
     "prompt_number": 99
    },
    {
     "cell_type": "code",
     "collapsed": false,
     "input": [
      "allfrags = genReads(\"/data/projects_gibbons/home/neffra/references/chr8_hg38.fa\", 100, 500)"
     ],
     "language": "python",
     "metadata": {},
     "outputs": [],
     "prompt_number": 20
    },
    {
     "cell_type": "code",
     "collapsed": false,
     "input": [
      "''' \n",
      "\n",
      "make_fragment \n",
      "\n",
      "generates left and right pairs of reads from a sequence. This is FF orientation. Subroutine to hold_fragments\n",
      "\n",
      "inputs:\n",
      "    frag - a tuple with the starting positions of each fragment\n",
      "    i - the sequence to fragment\n",
      "    readlen - the size of the read to generate\n",
      "\n",
      "'''\n",
      "\n",
      "def make_fragment(frag, i, readlen):    \n",
      "    left_read = i[frag[0]:frag[0]+readlen].upper()\n",
      "    right_read = i[frag[1]:frag[1]+readlen].upper()\n",
      "    if (left_read == 'N' * readlen) | (right_read == 'N' * readlen):\n",
      "        return None\n",
      "    else:\n",
      "        return (left_read, right_read)"
     ],
     "language": "python",
     "metadata": {},
     "outputs": [],
     "prompt_number": 98
    },
    {
     "cell_type": "code",
     "collapsed": false,
     "input": [
      "'''\n",
      "\n",
      "hold_fragments\n",
      "\n",
      "takes a list of chromosomal positions and makes synthetic reads around those positions. \n",
      "Requires a few variables to inherit from worker variables.\n",
      "\n",
      "inputs:\n",
      "    f - a list of starting positions to make fragments from\n",
      "\n",
      "requires to be pushed:\n",
      "    seq - the sequence to fragment\n",
      "    readlen - the length of the read to create\n",
      "    make_fragment()\n",
      "    \n",
      "outputs - a list of fragments generated\n",
      "\n",
      "'''\n",
      "\n",
      "\n",
      "@direct.parallel(block=True)\n",
      "def hold_fragments(f):\n",
      "    f = [(i, i + insert_size-readlen) for i in f]\n",
      "    genfrags = []\n",
      "    for sf in f:\n",
      "        tmp = make_fragment(sf, seq, readlen)\n",
      "        if tmp != None:\n",
      "            genfrags.append(tmp)\n",
      "    return genfrags"
     ],
     "language": "python",
     "metadata": {},
     "outputs": [],
     "prompt_number": 97
    },
    {
     "cell_type": "heading",
     "level": 1,
     "metadata": {},
     "source": [
      "RepeatMasker and scaffold analysis notes"
     ]
    },
    {
     "cell_type": "code",
     "collapsed": false,
     "input": [
      "# let's loop over the BAM file and look at the alignment quality of each scaffold in the reference\n",
      "\n",
      "    # hg38.agp = alignment scaffold file from the UCSC (gives the TPF regions and their annotations)\n",
      "        # NOTE TO SELF - THIS IS A CRAPPY FILETYPE\n",
      "        # http://www.ncbi.nlm.nih.gov/projects/genome/assembly/agp/AGP_Specification.shtml#FORMAT\n",
      "        \n",
      "        '''\n",
      "        object  start  end  #   type  id/gaplen   ??  other orientation [link_evidence]\n",
      "        chr1\t1\t10000\t1\tN\t10000\ttelomere\tno\tna\n",
      "        chr1\t10001\t10615\t2\tF\tAP006221.1\t36117\t36731\t-\n",
      "        chr1\t10616\t177417\t3\tF\tAL627309.15\t103\t166904\t+\n",
      "        chr1\t177418\t207666\t4\tF\tFO538757.3\t2001\t32249\t+\n",
      "        chr1\t207667\t257666\t5\tN\t50000\tcontig\tno\tna\n",
      "        '''\n",
      "    # hg38.out = output file from RepeatMasker, may be useful for getting quality metrics of what is good/isn't\n",
      "        '''\n",
      "           SW  perc perc perc  query      position in query           matching       repeat              position in  repeat\n",
      "        score  div. del. ins.  sequence    begin     end    (left)    repeat         class/family         begin  end (left)   ID\n",
      "        \n",
      "          463   1.3  0.6  1.7  chr1        10001   10468 (248945954) +  (TAACCC)n      Simple_repeat            1  471    (0)      1\n",
      "         3612  11.4 21.5  1.3  chr1        10469   11447 (248944975) C  TAR1           Satellite/telo       (399) 1712    483      2\n",
      "          484  25.1 13.2  0.0  chr1        11505   11675 (248944747) C  L1MC5a         LINE/L1             (2382)  395    199      3\n",
      "          239  29.4  1.9  1.0  chr1        11678   11780 (248944642) C  MER5B          DNA/hAT-Charlie       (74)  104      1      4\n",
      "          318  23.0  3.7  0.0  chr1        15265   15355 (248941067) C  MIR3           SINE/MIR             (119)  143     49      5\n",
      "        '''\n",
      "    \n",
      "    # it would also be helpful to find the GC content of different regions (mapAndGc.pl)\n",
      "        '''\n",
      "        arg 0 = sam output from bwa\n",
      "        arg 1 = list of chrs and lengths\n",
      "        arg 2 = window size\n",
      "        arg 3 = chromosome we're working on\n",
      "        arg 4 = ouput directory\n",
      "        '''"
     ],
     "language": "python",
     "metadata": {},
     "outputs": []
    },
    {
     "cell_type": "heading",
     "level": 1,
     "metadata": {},
     "source": [
      "DNA-Seq quality control analysis notes"
     ]
    },
    {
     "cell_type": "code",
     "collapsed": false,
     "input": [
      "filename = '' # some filename here\n",
      "\n",
      "# Steps: \n",
      "    #1 - samtools flagstat (outside of python)\n",
      "        DONE on ALL\n",
      "    \n",
      "    #2 - clipping_profile.py (RSeqC)\n",
      "        # BWA-MEM autoclips post-alignment when it is clear from multiple reads that there is an issue\n",
      "        # cigar string 'S' match tells you that there is soft clipping in that base, can be used\n",
      "        DONE\n",
      "    \n",
      "    #3 - read_distribution.py (RSeqC)\n",
      "        SKIPPING\n",
      "    \n",
      "    #4 - plot of assumed insert size distribution vs. coverage level\n",
      "        # insert size is position 9 of SAM line\n",
      "        Picard-tools does this\n",
      "                                        \n",
      "    #5 - Number of alternate hits map (w/ suboptimal alignment score to real comparison)\n",
      "        # flag XA - \n",
      "        only have this data for the mappability one\n",
      "        \n",
      "    #6 - genebody_coverage.py (RSeqC) - this is nice for identifying genes that we recovered\n",
      "        \n",
      "    \n",
      "    #7 - mappability expected vs. actual\n",
      "        stopping at rmdup stage, making mask file (done)\n",
      "        \n",
      "    #8 - mappability pileup across ALL samples\n",
      "        DONE (CallableLoci) ON ALL\n",
      "        \n",
      "    #9 - Picard-tools CollectMultipleMetrics\n",
      "        # CollectAlignmentSummaryMetrics, CollectInsertSizeMetrics, QualityScoreDistribution, MeanQualityByCycle\n",
      "        RUNNING ON ALL\n",
      "        \n",
      "    #10 - PCR duplicates (dupmetrics)\n",
      "        DONE, have for all samples\n",
      "    \n",
      "    # later on...\n",
      "    #11 - variant recalibration and where it made a difference\n",
      "        * seperate SNPs out of VCF, recalibrate on that - DONE on the 50\n",
      "        * seperate indels out, recalibrate those too - DONE on the 50\n",
      "        \n",
      "    #12 - variant filtering by different regions\n",
      "        Creating the regions files now\n",
      "            1. Different scaffolds\n",
      "            2. RepeatMasker\n",
      "            3. Self-defined (clipping profile)\n",
      "        \n",
      "        Now all we need to do is to create the sets!\n",
      "        \n",
      "    #13 - structural variant detection\n",
      "        a. creating mask file! DONE\n",
      "    "
     ],
     "language": "python",
     "metadata": {},
     "outputs": []
    },
    {
     "cell_type": "code",
     "collapsed": false,
     "input": [
      "'''\n",
      "\n",
      "maskSeq\n",
      "\n",
      "creates a mask file of a reference genome based on results from a 'perfect' alignment run. \n",
      "\n",
      "inputs:\n",
      "    name: the chromosome\n",
      "    sequence: the actual sequence of the DNA (used to make 1:1 mask file)\n",
      "    sp: name of the BAM file of the perfect alignment run\n",
      "\n",
      "'''\n",
      "\n",
      "def maskSeq(name, sequence, sp):\n",
      "    import pysam\n",
      "    kwargs = {'stepper':'all','mask':2}\n",
      "    kwargs2 = {'stepper':'all','mask':3340}\n",
      "    samfile = pysam.Samfile(sp, 'rb')\n",
      "    \n",
      "    workinglen = len(sequence)\n",
      "        \n",
      "    # step 1 = filter out 'N' bases from the sequence\n",
      "    workingarr = [0 if x=='N' else 1 for x in sequence]\n",
      "    \n",
      "    # step 2 = filter out regions that don't have unique mapping\n",
      "    for i in samfile.pileup(name, 0, workinglen, **kwargs):\n",
      "        if i.n >= 5:\n",
      "            workingarr[i.pos] = 0\n",
      "        \n",
      "    # step 3 = filter out regions that don't have expected number of real maps\n",
      "    for i in samfile.pileup(name, 0, workinglen, **kwargs2):\n",
      "        if i.n != 20:\n",
      "            workingarr[i.pos] = 0\n",
      "    \n",
      "    # step 4 - return the array as a key:value pair\n",
      "    return (name, workingarr)"
     ],
     "language": "python",
     "metadata": {},
     "outputs": [],
     "prompt_number": 20
    },
    {
     "cell_type": "code",
     "collapsed": false,
     "input": [
      "seq = np.ones(1000, dtype=str)\n",
      "seq[10:20] = '0'\n",
      "%time print ''.join(seq)"
     ],
     "language": "python",
     "metadata": {},
     "outputs": [
      {
       "output_type": "stream",
       "stream": "stdout",
       "text": [
        "1111111111000000000011111111111111111111111111111111111111111111111111111111111111111111111111111111111111111111111111111111111111111111111111111111111111111111111111111111111111111111111111111111111111111111111111111111111111111111111111111111111111111111111111111111111111111111111111111111111111111111111111111111111111111111111111111111111111111111111111111111111111111111111111111111111111111111111111111111111111111111111111111111111111111111111111111111111111111111111111111111111111111111111111111111111111111111111111111111111111111111111111111111111111111111111111111111111111111111111111111111111111111111111111111111111111111111111111111111111111111111111111111111111111111111111111111111111111111111111111111111111111111111111111111111111111111111111111111111111111111111111111111111111111111111111111111111111111111111111111111111111111111111111111111111111111111111111111111111111111111111111111111111111111111111111111111111111111111111111111111111111111111111111111111111111111111111\n",
        "CPU times: user 0 ns, sys: 0 ns, total: 0 ns\n",
        "Wall time: 307 \u00b5s\n"
       ]
      }
     ],
     "prompt_number": 29
    },
    {
     "cell_type": "code",
     "collapsed": false,
     "input": [
      "seq = np.ones(1000, dtype=int)\n",
      "seq[10:20] = 0\n",
      "%time print ''.join([str(i) for i in seq])"
     ],
     "language": "python",
     "metadata": {},
     "outputs": [
      {
       "output_type": "stream",
       "stream": "stdout",
       "text": [
        "1111111111000000000011111111111111111111111111111111111111111111111111111111111111111111111111111111111111111111111111111111111111111111111111111111111111111111111111111111111111111111111111111111111111111111111111111111111111111111111111111111111111111111111111111111111111111111111111111111111111111111111111111111111111111111111111111111111111111111111111111111111111111111111111111111111111111111111111111111111111111111111111111111111111111111111111111111111111111111111111111111111111111111111111111111111111111111111111111111111111111111111111111111111111111111111111111111111111111111111111111111111111111111111111111111111111111111111111111111111111111111111111111111111111111111111111111111111111111111111111111111111111111111111111111111111111111111111111111111111111111111111111111111111111111111111111111111111111111111111111111111111111111111111111111111111111111111111111111111111111111111111111111111111111111111111111111111111111111111111111111111111111111111111111111111111111111111\n",
        "CPU times: user 9 ms, sys: 0 ns, total: 9 ms\n",
        "Wall time: 7.08 ms\n"
       ]
      }
     ],
     "prompt_number": 28
    },
    {
     "cell_type": "code",
     "collapsed": false,
     "input": [
      "'''\n",
      "\n",
      "maskSeqBed\n",
      "\n",
      "creates a mask file of a reference genome based on a bed file.\n",
      "\n",
      "'''\n",
      "\n",
      "def maskSeqBed(bedfile, seqfile, outfile):\n",
      "    import pysam\n",
      "    import pandas as pd\n",
      "    import numpy as np\n",
      "    \n",
      "    reference = ht.FastaReader(seqfile)\n",
      "    bed = pd.read_csv(bedfile, header=None, sep='\\t')\n",
      "    out = open(outfile, 'w')\n",
      "    \n",
      "    for seq in reference:\n",
      "        bedregions = bed[bed[0] == seq.name]\n",
      "        pbar = ProgressBar(len(bedregions))\n",
      "        workinglen = len(seq.seq)\n",
      "        sequence = np.ones(workinglen, dtype=str) # everything is on at first\n",
      "        \n",
      "        for a,reg in bedregions.iterrows():\n",
      "            pbar.animate()\n",
      "            start = reg[1] - 1\n",
      "            end = reg[2] - 1\n",
      "            sequence[start:end] = '0' # do the masking\n",
      "        newseq = ht.Sequence(''.join(sequence), seq.name)\n",
      "        newseq.write_to_fasta_file(out)\n",
      "    out.close()\n",
      "    return 'Completed'"
     ],
     "language": "python",
     "metadata": {},
     "outputs": [],
     "prompt_number": 30
    },
    {
     "cell_type": "code",
     "collapsed": false,
     "input": [
      "maskSeqBed('/data/projects_gibbons/home/neffra/tools/svtoolkit/data/cn2mask/cn2_mask_GRCh38.mask.bed', \n",
      "           '/data/projects_gibbons/home/neffra/references/GRCh38_noalt.fa', \n",
      "           '/data/projects_gibbons/home/neffra/tools/svtoolkit/data/cn2mask/cn2_mask_GRCh38.mask.fasta')"
     ],
     "language": "python",
     "metadata": {},
     "outputs": [
      {
       "output_type": "stream",
       "stream": "stdout",
       "text": [
        "\r",
        "[                  0%                  ]"
       ]
      },
      {
       "output_type": "stream",
       "stream": "stdout",
       "text": [
        " \r",
        "[*****            14%                  ]  8568 of 61003 complete Elapsed: 0.0 minutes\t Remaining: 0.2 minutes"
       ]
      },
      {
       "output_type": "stream",
       "stream": "stdout",
       "text": [
        " \r",
        "[*************    33%                  ]  19848 of 61003 complete Elapsed: 0.1 minutes\t Remaining: 0.1 minutes"
       ]
      },
      {
       "output_type": "stream",
       "stream": "stdout",
       "text": [
        " \r",
        "[*****************51%                  ]  31094 of 61003 complete Elapsed: 0.1 minutes\t Remaining: 0.1 minutes"
       ]
      },
      {
       "output_type": "stream",
       "stream": "stdout",
       "text": [
        " \r",
        "[*****************70%*******           ]  42404 of 61003 complete Elapsed: 0.1 minutes\t Remaining: 0.0 minutes"
       ]
      },
      {
       "output_type": "stream",
       "stream": "stdout",
       "text": [
        " \r",
        "[                  0%                  ]"
       ]
      },
      {
       "output_type": "stream",
       "stream": "stdout",
       "text": [
        " \r",
        "[*****            13%                  ]  8752 of 67261 complete Elapsed: 0.0 minutes\t Remaining: 0.2 minutes"
       ]
      },
      {
       "output_type": "stream",
       "stream": "stdout",
       "text": [
        " \r",
        "[***********      30%                  ]  20174 of 67261 complete Elapsed: 0.1 minutes\t Remaining: 0.1 minutes"
       ]
      },
      {
       "output_type": "stream",
       "stream": "stdout",
       "text": [
        " \r",
        "[*****************47%                  ]  31629 of 67261 complete Elapsed: 0.1 minutes\t Remaining: 0.1 minutes"
       ]
      },
      {
       "output_type": "stream",
       "stream": "stdout",
       "text": [
        " \r",
        "[*****************64%****              ]  43073 of 67261 complete Elapsed: 0.1 minutes\t Remaining: 0.1 minutes"
       ]
      },
      {
       "output_type": "stream",
       "stream": "stdout",
       "text": [
        " \r",
        "[*****************81%***********       ]  54510 of 67261 complete Elapsed: 0.1 minutes\t Remaining: 0.0 minutes"
       ]
      },
      {
       "output_type": "stream",
       "stream": "stdout",
       "text": [
        " \r",
        "[                  0%                  ]"
       ]
      },
      {
       "output_type": "stream",
       "stream": "stdout",
       "text": [
        " \r",
        "[******           16%                  ]  9207 of 57291 complete Elapsed: 0.0 minutes\t Remaining: 0.1 minutes"
       ]
      },
      {
       "output_type": "stream",
       "stream": "stdout",
       "text": [
        " \r",
        "[**************   36%                  ]  20571 of 57291 complete Elapsed: 0.1 minutes\t Remaining: 0.1 minutes"
       ]
      },
      {
       "output_type": "stream",
       "stream": "stdout",
       "text": [
        " \r",
        "[*****************56%*                 ]  31974 of 57291 complete Elapsed: 0.1 minutes\t Remaining: 0.1 minutes"
       ]
      },
      {
       "output_type": "stream",
       "stream": "stdout",
       "text": [
        " \r",
        "[*****************75%*********         ]  43210 of 57291 complete Elapsed: 0.1 minutes\t Remaining: 0.0 minutes"
       ]
      },
      {
       "output_type": "stream",
       "stream": "stdout",
       "text": [
        " \r",
        "[                  0%                  ]"
       ]
      },
      {
       "output_type": "stream",
       "stream": "stdout",
       "text": [
        " \r",
        "[******           17%                  ]  9291 of 53697 complete Elapsed: 0.0 minutes\t Remaining: 0.1 minutes"
       ]
      },
      {
       "output_type": "stream",
       "stream": "stdout",
       "text": [
        " \r",
        "[***************  39%                  ]  20698 of 53697 complete Elapsed: 0.1 minutes\t Remaining: 0.1 minutes"
       ]
      },
      {
       "output_type": "stream",
       "stream": "stdout",
       "text": [
        " \r",
        "[*****************60%***               ]  32123 of 53697 complete Elapsed: 0.1 minutes\t Remaining: 0.1 minutes"
       ]
      },
      {
       "output_type": "stream",
       "stream": "stdout",
       "text": [
        " \r",
        "[                  0%                  ]"
       ]
      },
      {
       "output_type": "stream",
       "stream": "stdout",
       "text": [
        " \r",
        "[*******          18%                  ]  9427 of 52279 complete Elapsed: 0.0 minutes\t Remaining: 0.1 minutes"
       ]
      },
      {
       "output_type": "stream",
       "stream": "stdout",
       "text": [
        " \r",
        "[***************  40%                  ]  20864 of 52279 complete Elapsed: 0.1 minutes\t Remaining: 0.1 minutes"
       ]
      },
      {
       "output_type": "stream",
       "stream": "stdout",
       "text": [
        " \r",
        "[*****************62%****              ]  32297 of 52279 complete Elapsed: 0.1 minutes\t Remaining: 0.0 minutes"
       ]
      },
      {
       "output_type": "stream",
       "stream": "stdout",
       "text": [
        " \r",
        "[                  0%                  ]"
       ]
      },
      {
       "output_type": "stream",
       "stream": "stdout",
       "text": [
        " \r",
        "[*******          19%                  ]  9501 of 50152 complete Elapsed: 0.0 minutes\t Remaining: 0.1 minutes"
       ]
      },
      {
       "output_type": "stream",
       "stream": "stdout",
       "text": [
        " \r",
        "[**************** 42%                  ]  20915 of 50152 complete Elapsed: 0.1 minutes\t Remaining: 0.1 minutes"
       ]
      },
      {
       "output_type": "stream",
       "stream": "stdout",
       "text": [
        " \r",
        "[*****************64%****              ]  32307 of 50152 complete Elapsed: 0.1 minutes\t Remaining: 0.0 minutes"
       ]
      },
      {
       "output_type": "stream",
       "stream": "stdout",
       "text": [
        " \r",
        "[                  0%                  ]"
       ]
      },
      {
       "output_type": "stream",
       "stream": "stdout",
       "text": [
        " \r",
        "[**********       25%                  ]  9685 of 38962 complete Elapsed: 0.0 minutes\t Remaining: 0.1 minutes"
       ]
      },
      {
       "output_type": "stream",
       "stream": "stdout",
       "text": [
        " \r",
        "[*****************54%*                 ]  21127 of 38962 complete Elapsed: 0.1 minutes\t Remaining: 0.0 minutes"
       ]
      },
      {
       "output_type": "stream",
       "stream": "stdout",
       "text": [
        " \r",
        "[                  0%                  ]"
       ]
      },
      {
       "output_type": "stream",
       "stream": "stdout",
       "text": [
        " \r",
        "[**********       26%                  ]  9822 of 37559 complete Elapsed: 0.0 minutes\t Remaining: 0.1 minutes"
       ]
      },
      {
       "output_type": "stream",
       "stream": "stdout",
       "text": [
        " \r",
        "[*****************57%**                ]  21227 of 37559 complete Elapsed: 0.1 minutes\t Remaining: 0.0 minutes"
       ]
      },
      {
       "output_type": "stream",
       "stream": "stdout",
       "text": [
        " \r",
        "[                  0%                  ]"
       ]
      },
      {
       "output_type": "stream",
       "stream": "stdout",
       "text": [
        " \r",
        "[**************   36%                  ]  9905 of 27248 complete Elapsed: 0.0 minutes\t Remaining: 0.0 minutes"
       ]
      },
      {
       "output_type": "stream",
       "stream": "stdout",
       "text": [
        " \r",
        "[                  0%                  ]"
       ]
      },
      {
       "output_type": "stream",
       "stream": "stdout",
       "text": [
        " \r",
        "[***********      28%                  ]  9918 of 35095 complete Elapsed: 0.0 minutes\t Remaining: 0.1 minutes"
       ]
      },
      {
       "output_type": "stream",
       "stream": "stdout",
       "text": [
        " \r",
        "[*****************61%***               ]  21291 of 35095 complete Elapsed: 0.1 minutes\t Remaining: 0.0 minutes"
       ]
      },
      {
       "output_type": "stream",
       "stream": "stdout",
       "text": [
        " \r",
        "[                  0%                  ]"
       ]
      },
      {
       "output_type": "stream",
       "stream": "stdout",
       "text": [
        " \r",
        "[***********      29%                  ]  9896 of 34427 complete Elapsed: 0.0 minutes\t Remaining: 0.1 minutes"
       ]
      },
      {
       "output_type": "stream",
       "stream": "stdout",
       "text": [
        " \r",
        "[*****************62%****              ]  21271 of 34427 complete Elapsed: 0.1 minutes\t Remaining: 0.0 minutes"
       ]
      },
      {
       "output_type": "stream",
       "stream": "stdout",
       "text": [
        " \r",
        "[                  0%                  ]"
       ]
      },
      {
       "output_type": "stream",
       "stream": "stdout",
       "text": [
        " \r",
        "[**********       27%                  ]  9950 of 37188 complete Elapsed: 0.0 minutes\t Remaining: 0.1 minutes"
       ]
      },
      {
       "output_type": "stream",
       "stream": "stdout",
       "text": [
        " \r",
        "[*****************57%**                ]  21383 of 37188 complete Elapsed: 0.1 minutes\t Remaining: 0.0 minutes"
       ]
      },
      {
       "output_type": "stream",
       "stream": "stdout",
       "text": [
        " \r",
        "[                  0%                  ]"
       ]
      },
      {
       "output_type": "stream",
       "stream": "stdout",
       "text": [
        " \r",
        "[**************   36%                  ]  10177 of 27941 complete Elapsed: 0.0 minutes\t Remaining: 0.0 minutes"
       ]
      },
      {
       "output_type": "stream",
       "stream": "stdout",
       "text": [
        " \r",
        "[                  0%                  ]"
       ]
      },
      {
       "output_type": "stream",
       "stream": "stdout",
       "text": [
        " \r",
        "[**************** 42%                  ]  10234 of 24324 complete Elapsed: 0.0 minutes\t Remaining: 0.0 minutes"
       ]
      },
      {
       "output_type": "stream",
       "stream": "stdout",
       "text": [
        " \r",
        "[                  0%                  ]"
       ]
      },
      {
       "output_type": "stream",
       "stream": "stdout",
       "text": [
        " \r",
        "[                  0%                  ]"
       ]
      },
      {
       "output_type": "stream",
       "stream": "stdout",
       "text": [
        " \r",
        "[                  0%                  ]"
       ]
      },
      {
       "output_type": "stream",
       "stream": "stdout",
       "text": [
        " \r",
        "[                  0%                  ]"
       ]
      },
      {
       "output_type": "stream",
       "stream": "stdout",
       "text": [
        " \r",
        "[*****************45%                  ]  10527 of 23182 complete Elapsed: 0.0 minutes\t Remaining: 0.0 minutes"
       ]
      },
      {
       "output_type": "stream",
       "stream": "stdout",
       "text": [
        " \r",
        "[                  0%                  ]"
       ]
      },
      {
       "metadata": {},
       "output_type": "pyout",
       "prompt_number": 31,
       "text": [
        "'Completed'"
       ]
      },
      {
       "output_type": "stream",
       "stream": "stdout",
       "text": [
        "\n"
       ]
      }
     ],
     "prompt_number": 31
    },
    {
     "cell_type": "code",
     "collapsed": false,
     "input": [
      "# mappability run setup\n",
      "import pysam\n",
      "samfile = pysam.Samfile('/data/projects_gibbons/home/neffra/mappability/hg38.fa_allreads_bwamem_hg38_nosec.sort.bam', 'rb')\n",
      "reference = ht.FastaReader('/data/projects_gibbons/home/neffra/references/GRCh38_noalt.fa')"
     ],
     "language": "python",
     "metadata": {},
     "outputs": [],
     "prompt_number": 3
    },
    {
     "cell_type": "code",
     "collapsed": true,
     "input": [
      "# parallel run of the maskSeq program\n",
      "import pysam\n",
      "import timeit\n",
      "sp = '/data/projects_gibbons/home/neffra/mappability/hg38.fa_allreads_bwamem_hg38_nosec.sort.bam'\n",
      "pid_array = []\n",
      "for seq in reference:\n",
      "    pid_array.append(balanced.apply_async(maskSeq, seq.name, seq.seq, sp))\n",
      "    print str(seq.name) + \" sent to balanced procs\"    \n",
      "    # step 4 = output fasta"
     ],
     "language": "python",
     "metadata": {},
     "outputs": [
      {
       "output_type": "stream",
       "stream": "stdout",
       "text": [
        "chr1 sent to balanced procs\n",
        "chr2 sent to balanced procs"
       ]
      },
      {
       "output_type": "stream",
       "stream": "stdout",
       "text": [
        "\n",
        "chr3 sent to balanced procs"
       ]
      },
      {
       "output_type": "stream",
       "stream": "stdout",
       "text": [
        "\n",
        "chr4 sent to balanced procs"
       ]
      },
      {
       "output_type": "stream",
       "stream": "stdout",
       "text": [
        "\n",
        "chr5 sent to balanced procs"
       ]
      },
      {
       "output_type": "stream",
       "stream": "stdout",
       "text": [
        "\n",
        "chr6 sent to balanced procs"
       ]
      },
      {
       "output_type": "stream",
       "stream": "stdout",
       "text": [
        "\n",
        "chr7 sent to balanced procs"
       ]
      },
      {
       "output_type": "stream",
       "stream": "stdout",
       "text": [
        "\n",
        "chr8 sent to balanced procs"
       ]
      },
      {
       "output_type": "stream",
       "stream": "stdout",
       "text": [
        "\n",
        "chr9 sent to balanced procs"
       ]
      },
      {
       "output_type": "stream",
       "stream": "stdout",
       "text": [
        "\n",
        "chr10 sent to balanced procs"
       ]
      },
      {
       "output_type": "stream",
       "stream": "stdout",
       "text": [
        "\n",
        "chr11 sent to balanced procs"
       ]
      },
      {
       "output_type": "stream",
       "stream": "stdout",
       "text": [
        "\n",
        "chr12 sent to balanced procs"
       ]
      },
      {
       "output_type": "stream",
       "stream": "stdout",
       "text": [
        "\n",
        "chr13 sent to balanced procs"
       ]
      },
      {
       "output_type": "stream",
       "stream": "stdout",
       "text": [
        "\n",
        "chr14 sent to balanced procs"
       ]
      },
      {
       "output_type": "stream",
       "stream": "stdout",
       "text": [
        "\n",
        "chr15 sent to balanced procs"
       ]
      },
      {
       "output_type": "stream",
       "stream": "stdout",
       "text": [
        "\n",
        "chr16 sent to balanced procs"
       ]
      },
      {
       "output_type": "stream",
       "stream": "stdout",
       "text": [
        "\n",
        "chr17 sent to balanced procs"
       ]
      },
      {
       "output_type": "stream",
       "stream": "stdout",
       "text": [
        "\n",
        "chr18 sent to balanced procs"
       ]
      },
      {
       "output_type": "stream",
       "stream": "stdout",
       "text": [
        "\n",
        "chr19 sent to balanced procs"
       ]
      },
      {
       "output_type": "stream",
       "stream": "stdout",
       "text": [
        "\n",
        "chr20 sent to balanced procs"
       ]
      },
      {
       "output_type": "stream",
       "stream": "stdout",
       "text": [
        "\n",
        "chr21 sent to balanced procs"
       ]
      },
      {
       "output_type": "stream",
       "stream": "stdout",
       "text": [
        "\n",
        "chr22 sent to balanced procs"
       ]
      },
      {
       "output_type": "stream",
       "stream": "stdout",
       "text": [
        "\n",
        "chrX sent to balanced procs"
       ]
      },
      {
       "output_type": "stream",
       "stream": "stdout",
       "text": [
        "\n",
        "chrY sent to balanced procs"
       ]
      },
      {
       "output_type": "stream",
       "stream": "stdout",
       "text": [
        "\n",
        "chrM sent to balanced procs\n",
        "chrEBV sent to balanced procs\n"
       ]
      }
     ],
     "prompt_number": 27
    },
    {
     "cell_type": "code",
     "collapsed": true,
     "input": [
      "# check if jobs have finished running\n",
      "for i in pid_array:\n",
      "    print i.ready()"
     ],
     "language": "python",
     "metadata": {},
     "outputs": [
      {
       "output_type": "stream",
       "stream": "stdout",
       "text": [
        "False\n",
        "False\n",
        "False\n",
        "False\n",
        "False\n",
        "False\n",
        "False\n",
        "False\n",
        "False\n",
        "False\n",
        "False\n",
        "False\n",
        "False\n",
        "False\n",
        "False\n",
        "False\n",
        "False\n",
        "False\n",
        "False\n",
        "False\n",
        "False\n",
        "False\n",
        "False\n",
        "False\n",
        "False\n",
        "False\n"
       ]
      }
     ],
     "prompt_number": 35
    },
    {
     "cell_type": "code",
     "collapsed": false,
     "input": [
      "# write the results of the maskSeq parallel implementation to a file\n",
      "maskfile = open('/data/projects_gibbons/home/neffra/references/GRCh38_noalt.mask.bwamem.100pe.txt', 'w')\n",
      "for i in pid_array:\n",
      "    (name, seq) = i.result\n",
      "    myseq = ht.Sequence(''.join([str(i) for i in seq]), name)\n",
      "    myseq.write_to_fasta_file(maskfile)\n",
      "maskfile.close()"
     ],
     "language": "python",
     "metadata": {},
     "outputs": [],
     "prompt_number": 45
    },
    {
     "cell_type": "code",
     "collapsed": false,
     "input": [
      "'''\n",
      "\n",
      "maskintervals\n",
      "\n",
      "create genomic intervals of bad mapping regions from a mask file\n",
      "\n",
      "inputs:\n",
      "    seqline - the actual mask sequence of 1s and 0s. This can only handle one contig at a time.\n",
      "\n",
      "outputs:\n",
      "    an array of intervals on the contig with poor mapping as defined by the mask\n",
      "\n",
      "'''\n",
      "\n",
      "def maskintervals(seqline):\n",
      "    pos = 0\n",
      "    arrayintervals = []\n",
      "    lastzero = 0\n",
      "    while(lastzero!=-1):\n",
      "        lastzero = seqline.find('0', pos)\n",
      "        if lastzero != -1:\n",
      "            pos = lastzero\n",
      "        else: \n",
      "            break\n",
      "        lastone = seqline.find('1', pos)\n",
      "        if lastone != -1:\n",
      "            pos = lastone\n",
      "        else:\n",
      "            break\n",
      "        arrayintervals.append([lastzero, lastone])\n",
      "    return arrayintervals"
     ],
     "language": "python",
     "metadata": {},
     "outputs": [],
     "prompt_number": 31
    },
    {
     "cell_type": "code",
     "collapsed": false,
     "input": [
      "# create genomic intervals of bad mapping regions from the result of maskSeq\n",
      "maskfile2 = open('/data/projects_gibbons/home/neffra/references/GRCh38_noalt.mask.leanient.bed', 'w')\n",
      "for i in pid_array:\n",
      "    (name, seq) = i.result\n",
      "    intervals = maskintervals(seq)\n",
      "    for i in intervals:\n",
      "        maskfile2.write(name + '\\t' + str(i[0]) + '\\t' + str(i[1]) + '\\n')\n",
      "maskfile2.close()"
     ],
     "language": "python",
     "metadata": {},
     "outputs": [],
     "prompt_number": 45
    },
    {
     "cell_type": "code",
     "collapsed": false,
     "input": [
      "# create genomic intervals of bad mapping regions from a mask file\n",
      "maskbed = open('/data/projects_gibbons/home/neffra/references/GRCh38_noalt.maskintervals2.bed', 'wb')\n",
      "for seq in maskseq:\n",
      "    name = seq.name\n",
      "    seqline = seq.seq\n",
      "    # inch along like a tapeworm...yum\n",
      "    intervals = maskintervals(seqline)\n",
      "    for i in intervals:\n",
      "        maskbed.write(name + '\\t' + str(i[0]) + '\\t' + str(i[1]) + '\\n')"
     ],
     "language": "python",
     "metadata": {},
     "outputs": [],
     "prompt_number": 32
    },
    {
     "cell_type": "code",
     "collapsed": false,
     "input": [
      "# location of mask file\n",
      "maskseq = ht.FastaReader('/data/projects_gibbons/home/neffra/references/GRCh38_noalt.mask.bwamem.100pe.txt')"
     ],
     "language": "python",
     "metadata": {},
     "outputs": [],
     "prompt_number": 10
    },
    {
     "cell_type": "code",
     "collapsed": false,
     "input": [
      "# tests for maskintervals\n",
      "seqline = \"111110000001111100000000000111111111111111110101011\"\n",
      "inter = maskintervals(seqline)"
     ],
     "language": "python",
     "metadata": {},
     "outputs": [],
     "prompt_number": 13
    },
    {
     "cell_type": "code",
     "collapsed": true,
     "input": [
      "# statistics on what was mapped out in the mask file\n",
      "globetot = 0\n",
      "globelen = 0\n",
      "for seq in maskseq:\n",
      "    name = seq.name\n",
      "    seqline = seq.seq\n",
      "    # inch along like a tapeworm...yum\n",
      "    intervals = maskintervals(seqline)\n",
      "    tot = 0\n",
      "    for i in intervals:\n",
      "        tot += i[1]+1 - i[0]\n",
      "    globetot += tot\n",
      "    print tot\n",
      "    globelen += len(seqline)\n",
      "    print \"out of \" + str(len(seqline))\n",
      "print \"global: \" + str(globetot)\n",
      "print \"out of \" + str(globelen)\n",
      "print float(globetot)/globelen"
     ],
     "language": "python",
     "metadata": {},
     "outputs": [
      {
       "output_type": "stream",
       "stream": "stdout",
       "text": [
        "55816202\n",
        "out of 248956422\n",
        "33072567"
       ]
      },
      {
       "output_type": "stream",
       "stream": "stdout",
       "text": [
        "\n",
        "out of 242193529\n",
        "23629593"
       ]
      },
      {
       "output_type": "stream",
       "stream": "stdout",
       "text": [
        "\n",
        "out of 198295559\n",
        "25027607"
       ]
      },
      {
       "output_type": "stream",
       "stream": "stdout",
       "text": [
        "\n",
        "out of 190214555\n",
        "26230063"
       ]
      },
      {
       "output_type": "stream",
       "stream": "stdout",
       "text": [
        "\n",
        "out of 181538259\n",
        "25900767"
       ]
      },
      {
       "output_type": "stream",
       "stream": "stdout",
       "text": [
        "\n",
        "out of 170805979\n",
        "28168568"
       ]
      },
      {
       "output_type": "stream",
       "stream": "stdout",
       "text": [
        "\n",
        "out of 159345973\n",
        "20521710"
       ]
      },
      {
       "output_type": "stream",
       "stream": "stdout",
       "text": [
        "\n",
        "out of 145138636\n",
        "41540253"
       ]
      },
      {
       "output_type": "stream",
       "stream": "stdout",
       "text": [
        "\n",
        "out of 138394717\n",
        "19002417"
       ]
      },
      {
       "output_type": "stream",
       "stream": "stdout",
       "text": [
        "\n",
        "out of 133797422\n",
        "21121941"
       ]
      },
      {
       "output_type": "stream",
       "stream": "stdout",
       "text": [
        "\n",
        "out of 135086622\n",
        "18678369"
       ]
      },
      {
       "output_type": "stream",
       "stream": "stdout",
       "text": [
        "\n",
        "out of 133275309\n",
        "28224647"
       ]
      },
      {
       "output_type": "stream",
       "stream": "stdout",
       "text": [
        "\n",
        "out of 114364328\n",
        "31247957"
       ]
      },
      {
       "output_type": "stream",
       "stream": "stdout",
       "text": [
        "\n",
        "out of 107043718\n",
        "37091268"
       ]
      },
      {
       "output_type": "stream",
       "stream": "stdout",
       "text": [
        "\n",
        "out of 101991189\n",
        "26769349"
       ]
      },
      {
       "output_type": "stream",
       "stream": "stdout",
       "text": [
        "\n",
        "out of 90338345\n",
        "22137754"
       ]
      },
      {
       "output_type": "stream",
       "stream": "stdout",
       "text": [
        "\n",
        "out of 83257441\n",
        "13775778"
       ]
      },
      {
       "output_type": "stream",
       "stream": "stdout",
       "text": [
        "\n",
        "out of 80373285\n",
        "14172977"
       ]
      },
      {
       "output_type": "stream",
       "stream": "stdout",
       "text": [
        "\n",
        "out of 58617616\n",
        "10795283"
       ]
      },
      {
       "output_type": "stream",
       "stream": "stdout",
       "text": [
        "\n",
        "out of 64444167\n",
        "17822558"
       ]
      },
      {
       "output_type": "stream",
       "stream": "stdout",
       "text": [
        "\n",
        "out of 46709983\n",
        "23021400"
       ]
      },
      {
       "output_type": "stream",
       "stream": "stdout",
       "text": [
        "\n",
        "out of 50818468\n",
        "32173318"
       ]
      },
      {
       "output_type": "stream",
       "stream": "stdout",
       "text": [
        "\n",
        "out of 156040895\n",
        "47235120"
       ]
      },
      {
       "output_type": "stream",
       "stream": "stdout",
       "text": [
        "\n",
        "out of 57227415\n",
        "8442\n",
        "out of 16569\n",
        "240\n",
        "out of 171823\n",
        "global: 643186148\n",
        "out of 3088458224\n",
        "0.208254767056\n"
       ]
      }
     ],
     "prompt_number": 19
    }
   ],
   "metadata": {}
  }
 ]
}