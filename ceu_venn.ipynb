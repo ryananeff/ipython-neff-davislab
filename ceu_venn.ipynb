{
 "metadata": {
  "name": ""
 },
 "nbformat": 3,
 "nbformat_minor": 0,
 "worksheets": [
  {
   "cells": [
    {
     "cell_type": "code",
     "collapsed": false,
     "input": [
      "!hostname"
     ],
     "language": "python",
     "metadata": {},
     "outputs": [
      {
       "output_type": "stream",
       "stream": "stdout",
       "text": [
        "HG-01629425-RH6.nhgri.nih.gov\r\n"
       ]
      }
     ],
     "prompt_number": 1
    },
    {
     "cell_type": "code",
     "collapsed": false,
     "input": [
      "%run ipy_setup.py\n",
      "%matplotlib inline"
     ],
     "language": "python",
     "metadata": {},
     "outputs": [],
     "prompt_number": 1
    },
    {
     "cell_type": "code",
     "collapsed": false,
     "input": [
      "len(com_s)"
     ],
     "language": "python",
     "metadata": {},
     "outputs": [
      {
       "metadata": {},
       "output_type": "pyout",
       "prompt_number": 26,
       "text": [
        "680261"
       ]
      }
     ],
     "prompt_number": 26
    },
    {
     "cell_type": "code",
     "collapsed": false,
     "input": [
      "'''\n",
      "\n",
      "MakeVCFvenn\n",
      "\n",
      "takes in the common, alternate, and patch vcf file and creates a venn diagram of the overlap, as well\n",
      "as gives the numbers of each overlap. Returns the lines in each vcf file for the overlaps.\n",
      "\n",
      "'''\n",
      "\n",
      "v_com = '/data/projects_gibbons/home/neffra/ASW_fastq/AFRGh38_nodel_genotypes_snps_indels.raw.hg38.vcf'\n",
      "v_alt = '/data/projects_gibbons/home/neffra/CEU_AFRG/afrg_CEU_combined_genotypes_HC_gvcf.hg38_coords.vcf'\n",
      "v_ref = '/data/projects_gibbons/home/neffra/nodel_AFRGh38/1kg_hapmap_combined_hg38_maj_variants.vcf'\n",
      "\n",
      "# subset files with only important columns\n",
      "subprocess.check_output('cat ' + v_com + ' | grep -v \"#\" | cut -f1-2,4-5 > ' + v_com + '.sites', shell=True)\n",
      "subprocess.check_output('cat ' + v_alt + ' | grep -v \"#\" | cut -f1-2,4-5 > ' + v_alt + '.sites', shell=True)\n",
      "subprocess.check_output('cat ' + v_ref + ' | grep -v \"#\" | cut -f1-2,4-5 > ' + v_ref + '.sites', shell=True)\n",
      "\n",
      "#open vcf files into RAM as dataframes - only keep certain columns\n",
      "com_df = pd.read_csv(v_com + \".sites\", sep=\"\\t\", header=None)\n",
      "alt_df = pd.read_csv(v_alt + \".sites\", sep=\"\\t\", header=None)\n",
      "ref_df = pd.read_csv(v_ref + \".sites\", sep=\"\\t\", header=None)\n",
      "\n",
      "#do the comparisons\n",
      "alt_s = set(zip(alt_df[0],alt_df[1]))\n",
      "com_s = set(zip(com_df[0],com_df[1]))\n",
      "ref_s = set(zip(ref_df[0],ref_df[1]))\n",
      "\n",
      "results = dict()\n",
      "results['alt_com_noref'] = pd.DataFrame(list(alt_s.intersection(com_s).difference(ref_s)))\n",
      "results['alt_ref_nocom'] = pd.DataFrame(list(alt_s.intersection(ref_s).difference(com_s)))\n",
      "results['ref_com_noalt'] = pd.DataFrame(list(ref_s.intersection(com_s).difference(alt_s)))\n",
      "results['ref_com_alt'] = pd.DataFrame(list(ref_s.intersection(com_s).intersection(alt_s)))\n",
      "results['alt_only'] = pd.DataFrame(list(alt_s.difference(com_s).difference(ref_s)))\n",
      "results['com_only'] = pd.DataFrame(list(com_s.difference(alt_s).difference(ref_s)))\n",
      "results['ref_only'] = pd.DataFrame(list(ref_s.difference(com_s).difference(alt_s)))"
     ],
     "language": "python",
     "metadata": {},
     "outputs": [],
     "prompt_number": 67
    },
    {
     "cell_type": "code",
     "collapsed": false,
     "input": [
      "alt_df = pd.read_csv(v_alt + \".sites\", sep=\"\\t\", header=None)\n",
      "alt_df.reset_index(inplace=True)\n",
      "alt_df.set_index([alt_df[0], alt_df[1]], inplace=True)"
     ],
     "language": "python",
     "metadata": {},
     "outputs": [],
     "prompt_number": 13
    },
    {
     "cell_type": "code",
     "collapsed": false,
     "input": [
      "line_list = sorted(list(alt_df.loc[zip(results['alt_only'][0], results['alt_only'][1])]['index']))"
     ],
     "language": "python",
     "metadata": {},
     "outputs": [],
     "prompt_number": 40
    },
    {
     "cell_type": "code",
     "collapsed": false,
     "input": [
      "out_file.close()"
     ],
     "language": "python",
     "metadata": {},
     "outputs": [
      {
       "output_type": "stream",
       "stream": "stdout",
       "text": [
        "\n"
       ]
      }
     ],
     "prompt_number": 43
    },
    {
     "cell_type": "code",
     "collapsed": false,
     "input": [
      "alt_df[[i in line_list[0:10] for i in alt_df['index']]]"
     ],
     "language": "python",
     "metadata": {},
     "outputs": [
      {
       "html": [
        "<div style=\"max-height:1000px;max-width:1500px;overflow:auto;\">\n",
        "<table border=\"1\" class=\"dataframe\">\n",
        "  <thead>\n",
        "    <tr style=\"text-align: right;\">\n",
        "      <th></th>\n",
        "      <th></th>\n",
        "      <th>index</th>\n",
        "      <th>0</th>\n",
        "      <th>1</th>\n",
        "      <th>2</th>\n",
        "      <th>3</th>\n",
        "    </tr>\n",
        "    <tr>\n",
        "      <th>0</th>\n",
        "      <th>1</th>\n",
        "      <th></th>\n",
        "      <th></th>\n",
        "      <th></th>\n",
        "      <th></th>\n",
        "      <th></th>\n",
        "    </tr>\n",
        "  </thead>\n",
        "  <tbody>\n",
        "    <tr>\n",
        "      <th rowspan=\"10\" valign=\"top\">chr1</th>\n",
        "      <th>952132 </th>\n",
        "      <td>  170</td>\n",
        "      <td> chr1</td>\n",
        "      <td>  952132</td>\n",
        "      <td> T</td>\n",
        "      <td> C</td>\n",
        "    </tr>\n",
        "    <tr>\n",
        "      <th>952136 </th>\n",
        "      <td>  172</td>\n",
        "      <td> chr1</td>\n",
        "      <td>  952136</td>\n",
        "      <td> T</td>\n",
        "      <td> C</td>\n",
        "    </tr>\n",
        "    <tr>\n",
        "      <th>952408 </th>\n",
        "      <td>  183</td>\n",
        "      <td> chr1</td>\n",
        "      <td>  952408</td>\n",
        "      <td> A</td>\n",
        "      <td> T</td>\n",
        "    </tr>\n",
        "    <tr>\n",
        "      <th>952409 </th>\n",
        "      <td>  184</td>\n",
        "      <td> chr1</td>\n",
        "      <td>  952409</td>\n",
        "      <td> C</td>\n",
        "      <td> T</td>\n",
        "    </tr>\n",
        "    <tr>\n",
        "      <th>952410 </th>\n",
        "      <td>  185</td>\n",
        "      <td> chr1</td>\n",
        "      <td>  952410</td>\n",
        "      <td> A</td>\n",
        "      <td> T</td>\n",
        "    </tr>\n",
        "    <tr>\n",
        "      <th>952433 </th>\n",
        "      <td>  188</td>\n",
        "      <td> chr1</td>\n",
        "      <td>  952433</td>\n",
        "      <td> G</td>\n",
        "      <td> A</td>\n",
        "    </tr>\n",
        "    <tr>\n",
        "      <th>953240 </th>\n",
        "      <td>  195</td>\n",
        "      <td> chr1</td>\n",
        "      <td>  953240</td>\n",
        "      <td> C</td>\n",
        "      <td> T</td>\n",
        "    </tr>\n",
        "    <tr>\n",
        "      <th>2497449</th>\n",
        "      <td> 2898</td>\n",
        "      <td> chr1</td>\n",
        "      <td> 2497449</td>\n",
        "      <td> A</td>\n",
        "      <td> G</td>\n",
        "    </tr>\n",
        "    <tr>\n",
        "      <th>6209433</th>\n",
        "      <td> 4329</td>\n",
        "      <td> chr1</td>\n",
        "      <td> 6209433</td>\n",
        "      <td> C</td>\n",
        "      <td> T</td>\n",
        "    </tr>\n",
        "    <tr>\n",
        "      <th>8361830</th>\n",
        "      <td> 5224</td>\n",
        "      <td> chr1</td>\n",
        "      <td> 8361830</td>\n",
        "      <td> T</td>\n",
        "      <td> G</td>\n",
        "    </tr>\n",
        "  </tbody>\n",
        "</table>\n",
        "<p>10 rows \u00d7 5 columns</p>\n",
        "</div>"
       ],
       "metadata": {},
       "output_type": "pyout",
       "prompt_number": 49,
       "text": [
        "              index     0        1  2  3\n",
        "0    1                                  \n",
        "chr1 952132     170  chr1   952132  T  C\n",
        "     952136     172  chr1   952136  T  C\n",
        "     952408     183  chr1   952408  A  T\n",
        "     952409     184  chr1   952409  C  T\n",
        "     952410     185  chr1   952410  A  T\n",
        "     952433     188  chr1   952433  G  A\n",
        "     953240     195  chr1   953240  C  T\n",
        "     2497449   2898  chr1  2497449  A  G\n",
        "     6209433   4329  chr1  6209433  C  T\n",
        "     8361830   5224  chr1  8361830  T  G\n",
        "\n",
        "[10 rows x 5 columns]"
       ]
      }
     ],
     "prompt_number": 49
    },
    {
     "cell_type": "code",
     "collapsed": false,
     "input": [
      "alt_file = open(v_alt, 'rb')\n",
      "out_file = open(\"/data/projects_gibbons/home/neffra/mhgrid_matched_comp/alt_only.vcf\", \"wb\")\n",
      "count = 0\n",
      "pbar = ProgressBar(len(line_list))\n",
      "for i in alt_file:\n",
      "    if \"#\" in i: \n",
      "        continue\n",
      "    if count in line_list:\n",
      "        pbar.animate()\n",
      "        out_file.write(i)\n",
      "        out_file.flush()\n",
      "    count += 1"
     ],
     "language": "python",
     "metadata": {},
     "outputs": [
      {
       "output_type": "stream",
       "stream": "stdout",
       "text": [
        "\r",
        "[                  0%                  ]"
       ]
      },
      {
       "output_type": "stream",
       "stream": "stdout",
       "text": [
        " \r",
        "[                  0%                  ]  8 of 2032 complete Elapsed: 0.1 minutes\t Remaining: 13.2 minutes"
       ]
      },
      {
       "output_type": "stream",
       "stream": "stdout",
       "text": [
        " \r",
        "[                  0%                  ]  9 of 2032 complete Elapsed: 0.1 minutes\t Remaining: 17.5 minutes"
       ]
      },
      {
       "output_type": "stream",
       "stream": "stdout",
       "text": [
        " \r",
        "[                  1%                  ]  15 of 2032 complete Elapsed: 0.1 minutes\t Remaining: 18.4 minutes"
       ]
      },
      {
       "output_type": "stream",
       "stream": "stdout",
       "text": [
        " \r",
        "[                  1%                  ]  27 of 2032 complete Elapsed: 0.2 minutes\t Remaining: 12.1 minutes"
       ]
      },
      {
       "output_type": "stream",
       "stream": "stdout",
       "text": [
        " \r",
        "[*                 2%                  ]  33 of 2032 complete Elapsed: 0.2 minutes\t Remaining: 11.5 minutes"
       ]
      },
      {
       "output_type": "stream",
       "stream": "stdout",
       "text": [
        " \r",
        "[*                 2%                  ]  35 of 2032 complete Elapsed: 0.2 minutes\t Remaining: 12.3 minutes"
       ]
      },
      {
       "output_type": "stream",
       "stream": "stdout",
       "text": [
        " \r",
        "[*                 2%                  ]  44 of 2032 complete Elapsed: 0.2 minutes\t Remaining: 11.0 minutes"
       ]
      },
      {
       "output_type": "stream",
       "stream": "stdout",
       "text": [
        " \r",
        "[*                 2%                  ]  47 of 2032 complete Elapsed: 0.3 minutes\t Remaining: 11.5 minutes"
       ]
      },
      {
       "output_type": "stream",
       "stream": "stdout",
       "text": [
        " \r",
        "[*                 3%                  ]  53 of 2032 complete Elapsed: 0.3 minutes\t Remaining: 11.5 minutes"
       ]
      },
      {
       "output_type": "stream",
       "stream": "stdout",
       "text": [
        " \r",
        "[*                 3%                  ]  61 of 2032 complete Elapsed: 0.4 minutes\t Remaining: 13.2 minutes"
       ]
      },
      {
       "output_type": "stream",
       "stream": "stdout",
       "text": [
        " \r",
        "[*                 3%                  ]  64 of 2032 complete Elapsed: 0.4 minutes\t Remaining: 13.6 minutes"
       ]
      },
      {
       "output_type": "stream",
       "stream": "stdout",
       "text": [
        " \r",
        "[*                 3%                  ]  67 of 2032 complete Elapsed: 0.5 minutes\t Remaining: 13.7 minutes"
       ]
      },
      {
       "output_type": "stream",
       "stream": "stdout",
       "text": [
        " \r",
        "[*                 3%                  ]  69 of 2032 complete Elapsed: 0.5 minutes\t Remaining: 14.2 minutes"
       ]
      },
      {
       "output_type": "stream",
       "stream": "stdout",
       "text": [
        " \r",
        "[**                4%                  ]  72 of 2032 complete Elapsed: 0.5 minutes\t Remaining: 14.3 minutes"
       ]
      },
      {
       "output_type": "stream",
       "stream": "stdout",
       "text": [
        " \r",
        "[**                4%                  ]  78 of 2032 complete Elapsed: 0.6 minutes\t Remaining: 14.2 minutes"
       ]
      },
      {
       "output_type": "stream",
       "stream": "stdout",
       "text": [
        " \r",
        "[**                4%                  ]  80 of 2032 complete Elapsed: 0.6 minutes\t Remaining: 14.5 minutes"
       ]
      },
      {
       "output_type": "stream",
       "stream": "stdout",
       "text": [
        " \r",
        "[**                4%                  ]  81 of 2032 complete Elapsed: 0.6 minutes\t Remaining: 15.1 minutes"
       ]
      },
      {
       "output_type": "stream",
       "stream": "stdout",
       "text": [
        " \r",
        "[**                4%                  ]  82 of 2032 complete Elapsed: 0.7 minutes\t Remaining: 16.9 minutes"
       ]
      },
      {
       "output_type": "stream",
       "stream": "stdout",
       "text": [
        " \r",
        "[**                4%                  ]  87 of 2032 complete Elapsed: 0.7 minutes\t Remaining: 16.7 minutes"
       ]
      },
      {
       "output_type": "stream",
       "stream": "stdout",
       "text": [
        " \r",
        "[**                4%                  ]  89 of 2032 complete Elapsed: 0.8 minutes\t Remaining: 17.4 minutes"
       ]
      },
      {
       "output_type": "stream",
       "stream": "stdout",
       "text": [
        " \r",
        "[**                5%                  ]  100 of 2032 complete Elapsed: 0.8 minutes\t Remaining: 16.0 minutes"
       ]
      },
      {
       "output_type": "stream",
       "stream": "stdout",
       "text": [
        " \r",
        "[**                5%                  ]  104 of 2032 complete Elapsed: 0.9 minutes\t Remaining: 15.9 minutes"
       ]
      },
      {
       "output_type": "stream",
       "stream": "stdout",
       "text": [
        " \r",
        "[**                5%                  ]  111 of 2032 complete Elapsed: 0.9 minutes\t Remaining: 15.9 minutes"
       ]
      },
      {
       "output_type": "stream",
       "stream": "stdout",
       "text": [
        " \r",
        "[**                6%                  ]  118 of 2032 complete Elapsed: 0.9 minutes\t Remaining: 15.3 minutes"
       ]
      },
      {
       "output_type": "stream",
       "stream": "stdout",
       "text": [
        " \r",
        "[**                6%                  ]  122 of 2032 complete Elapsed: 1.0 minutes\t Remaining: 15.3 minutes"
       ]
      },
      {
       "output_type": "stream",
       "stream": "stdout",
       "text": [
        " \r",
        "[**                6%                  ]  125 of 2032 complete Elapsed: 1.0 minutes\t Remaining: 15.5 minutes"
       ]
      },
      {
       "output_type": "stream",
       "stream": "stdout",
       "text": [
        " \r",
        "[**                6%                  ]  131 of 2032 complete Elapsed: 1.0 minutes\t Remaining: 15.2 minutes"
       ]
      },
      {
       "output_type": "stream",
       "stream": "stdout",
       "text": [
        " \r",
        "[***               7%                  ]  139 of 2032 complete Elapsed: 1.1 minutes\t Remaining: 14.7 minutes"
       ]
      },
      {
       "output_type": "stream",
       "stream": "stdout",
       "text": [
        " \r",
        "[***               7%                  ]  140 of 2032 complete Elapsed: 1.1 minutes\t Remaining: 15.1 minutes"
       ]
      },
      {
       "output_type": "stream",
       "stream": "stdout",
       "text": [
        " \r",
        "[***               7%                  ]  142 of 2032 complete Elapsed: 1.1 minutes\t Remaining: 15.2 minutes"
       ]
      },
      {
       "output_type": "stream",
       "stream": "stdout",
       "text": [
        " \r",
        "[***               7%                  ]  146 of 2032 complete Elapsed: 1.2 minutes\t Remaining: 15.2 minutes"
       ]
      },
      {
       "output_type": "stream",
       "stream": "stdout",
       "text": [
        " \r",
        "[***               8%                  ]  153 of 2032 complete Elapsed: 1.2 minutes\t Remaining: 15.0 minutes"
       ]
      },
      {
       "output_type": "stream",
       "stream": "stdout",
       "text": [
        " \r",
        "[***               8%                  ]  157 of 2032 complete Elapsed: 1.3 minutes\t Remaining: 15.2 minutes"
       ]
      },
      {
       "output_type": "stream",
       "stream": "stdout",
       "text": [
        " \r",
        "[***               8%                  ]  160 of 2032 complete Elapsed: 1.3 minutes\t Remaining: 15.2 minutes"
       ]
      },
      {
       "output_type": "stream",
       "stream": "stdout",
       "text": [
        " \r",
        "[***               8%                  ]  163 of 2032 complete Elapsed: 1.4 minutes\t Remaining: 15.6 minutes"
       ]
      },
      {
       "output_type": "stream",
       "stream": "stdout",
       "text": [
        " \r",
        "[***               8%                  ]  165 of 2032 complete Elapsed: 1.4 minutes\t Remaining: 15.7 minutes"
       ]
      },
      {
       "output_type": "stream",
       "stream": "stdout",
       "text": [
        " \r",
        "[***               8%                  ]  167 of 2032 complete Elapsed: 1.5 minutes\t Remaining: 16.2 minutes"
       ]
      },
      {
       "output_type": "stream",
       "stream": "stdout",
       "text": [
        " \r",
        "[***               8%                  ]  169 of 2032 complete Elapsed: 1.5 minutes\t Remaining: 16.3 minutes"
       ]
      },
      {
       "output_type": "stream",
       "stream": "stdout",
       "text": [
        " \r",
        "[***               9%                  ]  177 of 2032 complete Elapsed: 1.5 minutes\t Remaining: 15.9 minutes"
       ]
      },
      {
       "output_type": "stream",
       "stream": "stdout",
       "text": [
        " \r",
        "[***               9%                  ]  180 of 2032 complete Elapsed: 1.5 minutes\t Remaining: 15.9 minutes"
       ]
      },
      {
       "output_type": "stream",
       "stream": "stdout",
       "text": [
        " \r",
        "[***               9%                  ]  184 of 2032 complete Elapsed: 1.6 minutes\t Remaining: 15.8 minutes"
       ]
      },
      {
       "output_type": "stream",
       "stream": "stdout",
       "text": [
        " \r",
        "[***               9%                  ]  187 of 2032 complete Elapsed: 1.6 minutes\t Remaining: 15.8 minutes"
       ]
      },
      {
       "output_type": "stream",
       "stream": "stdout",
       "text": [
        " \r",
        "[***               9%                  ]  191 of 2032 complete Elapsed: 1.6 minutes\t Remaining: 15.8 minutes"
       ]
      },
      {
       "output_type": "stream",
       "stream": "stdout",
       "text": [
        " \r",
        "[****             10%                  ]  197 of 2032 complete Elapsed: 1.7 minutes\t Remaining: 15.7 minutes"
       ]
      },
      {
       "output_type": "stream",
       "stream": "stdout",
       "text": [
        " \r",
        "[****             10%                  ]  198 of 2032 complete Elapsed: 1.7 minutes\t Remaining: 16.1 minutes"
       ]
      },
      {
       "output_type": "stream",
       "stream": "stdout",
       "text": [
        " \r",
        "[****             10%                  ]  200 of 2032 complete Elapsed: 1.8 minutes\t Remaining: 16.7 minutes"
       ]
      },
      {
       "output_type": "stream",
       "stream": "stdout",
       "text": [
        " \r",
        "[****             10%                  ]  207 of 2032 complete Elapsed: 1.9 minutes\t Remaining: 16.8 minutes"
       ]
      },
      {
       "output_type": "stream",
       "stream": "stdout",
       "text": [
        " \r",
        "[****             10%                  ]  212 of 2032 complete Elapsed: 2.0 minutes\t Remaining: 16.8 minutes"
       ]
      },
      {
       "output_type": "stream",
       "stream": "stdout",
       "text": [
        " \r",
        "[****             11%                  ]  220 of 2032 complete Elapsed: 2.0 minutes\t Remaining: 16.5 minutes"
       ]
      },
      {
       "output_type": "stream",
       "stream": "stdout",
       "text": [
        " \r",
        "[****             11%                  ]  222 of 2032 complete Elapsed: 2.0 minutes\t Remaining: 16.7 minutes"
       ]
      },
      {
       "output_type": "stream",
       "stream": "stdout",
       "text": [
        " \r",
        "[****             11%                  ]  224 of 2032 complete Elapsed: 2.1 minutes\t Remaining: 16.8 minutes"
       ]
      },
      {
       "output_type": "stream",
       "stream": "stdout",
       "text": [
        " \r",
        "[*****            12%                  ]  234 of 2032 complete Elapsed: 2.1 minutes\t Remaining: 16.2 minutes"
       ]
      },
      {
       "output_type": "stream",
       "stream": "stdout",
       "text": [
        " \r",
        "[*****            12%                  ]  240 of 2032 complete Elapsed: 2.1 minutes\t Remaining: 16.0 minutes"
       ]
      },
      {
       "output_type": "stream",
       "stream": "stdout",
       "text": [
        " \r",
        "[*****            12%                  ]  241 of 2032 complete Elapsed: 2.2 minutes\t Remaining: 16.1 minutes"
       ]
      },
      {
       "output_type": "stream",
       "stream": "stdout",
       "text": [
        " \r",
        "[*****            12%                  ]  243 of 2032 complete Elapsed: 2.2 minutes\t Remaining: 16.1 minutes"
       ]
      },
      {
       "output_type": "stream",
       "stream": "stdout",
       "text": [
        " \r",
        "[*****            12%                  ]  253 of 2032 complete Elapsed: 2.2 minutes\t Remaining: 15.6 minutes"
       ]
      },
      {
       "output_type": "stream",
       "stream": "stdout",
       "text": [
        " \r",
        "[*****            13%                  ]  254 of 2032 complete Elapsed: 2.2 minutes\t Remaining: 15.7 minutes"
       ]
      },
      {
       "output_type": "stream",
       "stream": "stdout",
       "text": [
        " \r",
        "[*****            13%                  ]  263 of 2032 complete Elapsed: 2.3 minutes\t Remaining: 15.5 minutes"
       ]
      },
      {
       "output_type": "stream",
       "stream": "stdout",
       "text": [
        " \r",
        "[*****            13%                  ]  274 of 2032 complete Elapsed: 2.3 minutes\t Remaining: 15.0 minutes"
       ]
      },
      {
       "output_type": "stream",
       "stream": "stdout",
       "text": [
        " \r",
        "[*****            14%                  ]  285 of 2032 complete Elapsed: 2.4 minutes\t Remaining: 14.5 minutes"
       ]
      },
      {
       "output_type": "stream",
       "stream": "stdout",
       "text": [
        " \r",
        "[*****            14%                  ]  290 of 2032 complete Elapsed: 2.4 minutes\t Remaining: 14.4 minutes"
       ]
      },
      {
       "output_type": "stream",
       "stream": "stdout",
       "text": [
        " \r",
        "[******           15%                  ]  302 of 2032 complete Elapsed: 2.5 minutes\t Remaining: 14.2 minutes"
       ]
      },
      {
       "output_type": "stream",
       "stream": "stdout",
       "text": [
        " \r",
        "[******           15%                  ]  304 of 2032 complete Elapsed: 2.5 minutes\t Remaining: 14.3 minutes"
       ]
      },
      {
       "output_type": "stream",
       "stream": "stdout",
       "text": [
        " \r",
        "[******           15%                  ]  306 of 2032 complete Elapsed: 2.6 minutes\t Remaining: 14.5 minutes"
       ]
      },
      {
       "output_type": "stream",
       "stream": "stdout",
       "text": [
        " \r",
        "[******           16%                  ]  319 of 2032 complete Elapsed: 2.6 minutes\t Remaining: 14.1 minutes"
       ]
      },
      {
       "output_type": "stream",
       "stream": "stdout",
       "text": [
        " \r",
        "[******           16%                  ]  322 of 2032 complete Elapsed: 2.7 minutes\t Remaining: 14.2 minutes"
       ]
      },
      {
       "output_type": "stream",
       "stream": "stdout",
       "text": [
        " \r",
        "[******           16%                  ]  330 of 2032 complete Elapsed: 2.7 minutes\t Remaining: 14.0 minutes"
       ]
      },
      {
       "output_type": "stream",
       "stream": "stdout",
       "text": [
        " \r",
        "[******           17%                  ]  341 of 2032 complete Elapsed: 2.8 minutes\t Remaining: 13.9 minutes"
       ]
      },
      {
       "output_type": "stream",
       "stream": "stdout",
       "text": [
        " \r",
        "[******           17%                  ]  346 of 2032 complete Elapsed: 2.8 minutes\t Remaining: 13.8 minutes"
       ]
      },
      {
       "output_type": "stream",
       "stream": "stdout",
       "text": [
        " \r",
        "[******           17%                  ]  347 of 2032 complete Elapsed: 2.9 minutes\t Remaining: 13.9 minutes"
       ]
      },
      {
       "output_type": "stream",
       "stream": "stdout",
       "text": [
        " \r",
        "[******           17%                  ]  354 of 2032 complete Elapsed: 2.9 minutes\t Remaining: 13.8 minutes"
       ]
      },
      {
       "output_type": "stream",
       "stream": "stdout",
       "text": [
        " \r",
        "[*******          18%                  ]  367 of 2032 complete Elapsed: 2.9 minutes\t Remaining: 13.3 minutes"
       ]
      },
      {
       "output_type": "stream",
       "stream": "stdout",
       "text": [
        " \r",
        "[*******          18%                  ]  370 of 2032 complete Elapsed: 3.0 minutes\t Remaining: 13.5 minutes"
       ]
      },
      {
       "output_type": "stream",
       "stream": "stdout",
       "text": [
        " \r",
        "[*******          18%                  ]  375 of 2032 complete Elapsed: 3.1 minutes\t Remaining: 13.5 minutes"
       ]
      },
      {
       "output_type": "stream",
       "stream": "stdout",
       "text": [
        " \r",
        "[*******          19%                  ]  379 of 2032 complete Elapsed: 3.1 minutes\t Remaining: 13.4 minutes"
       ]
      },
      {
       "output_type": "stream",
       "stream": "stdout",
       "text": [
        " \r",
        "[*******          19%                  ]  382 of 2032 complete Elapsed: 3.1 minutes\t Remaining: 13.4 minutes"
       ]
      },
      {
       "output_type": "stream",
       "stream": "stdout",
       "text": [
        " \r",
        "[*******          19%                  ]  391 of 2032 complete Elapsed: 3.2 minutes\t Remaining: 13.2 minutes"
       ]
      },
      {
       "output_type": "stream",
       "stream": "stdout",
       "text": [
        " \r",
        "[*******          19%                  ]  395 of 2032 complete Elapsed: 3.2 minutes\t Remaining: 13.5 minutes"
       ]
      },
      {
       "output_type": "stream",
       "stream": "stdout",
       "text": [
        " \r",
        "[********         20%                  ]  404 of 2032 complete Elapsed: 3.3 minutes\t Remaining: 13.2 minutes"
       ]
      },
      {
       "output_type": "stream",
       "stream": "stdout",
       "text": [
        " \r",
        "[********         21%                  ]  417 of 2032 complete Elapsed: 3.3 minutes\t Remaining: 12.8 minutes"
       ]
      },
      {
       "output_type": "stream",
       "stream": "stdout",
       "text": [
        " \r",
        "[********         21%                  ]  426 of 2032 complete Elapsed: 3.3 minutes\t Remaining: 12.6 minutes"
       ]
      },
      {
       "output_type": "stream",
       "stream": "stdout",
       "text": [
        " \r",
        "[********         22%                  ]  438 of 2032 complete Elapsed: 3.4 minutes\t Remaining: 12.3 minutes"
       ]
      },
      {
       "output_type": "stream",
       "stream": "stdout",
       "text": [
        " \r",
        "[********         22%                  ]  440 of 2032 complete Elapsed: 3.4 minutes\t Remaining: 12.5 minutes"
       ]
      },
      {
       "output_type": "stream",
       "stream": "stdout",
       "text": [
        " \r",
        "[********         22%                  ]  447 of 2032 complete Elapsed: 3.5 minutes\t Remaining: 12.3 minutes"
       ]
      },
      {
       "output_type": "stream",
       "stream": "stdout",
       "text": [
        " \r",
        "[********         22%                  ]  451 of 2032 complete Elapsed: 3.5 minutes\t Remaining: 12.3 minutes"
       ]
      },
      {
       "output_type": "stream",
       "stream": "stdout",
       "text": [
        " \r",
        "[*********        23%                  ]  458 of 2032 complete Elapsed: 3.5 minutes\t Remaining: 12.2 minutes"
       ]
      },
      {
       "output_type": "stream",
       "stream": "stdout",
       "text": [
        " \r",
        "[*********        23%                  ]  460 of 2032 complete Elapsed: 3.6 minutes\t Remaining: 12.2 minutes"
       ]
      },
      {
       "output_type": "stream",
       "stream": "stdout",
       "text": [
        " \r",
        "[*********        23%                  ]  461 of 2032 complete Elapsed: 3.6 minutes\t Remaining: 12.3 minutes"
       ]
      },
      {
       "output_type": "stream",
       "stream": "stdout",
       "text": [
        " \r",
        "[*********        23%                  ]  463 of 2032 complete Elapsed: 3.6 minutes\t Remaining: 12.3 minutes"
       ]
      },
      {
       "output_type": "stream",
       "stream": "stdout",
       "text": [
        " \r",
        "[*********        24%                  ]  481 of 2032 complete Elapsed: 3.7 minutes\t Remaining: 11.9 minutes"
       ]
      },
      {
       "output_type": "stream",
       "stream": "stdout",
       "text": [
        " \r",
        "[*********        24%                  ]  489 of 2032 complete Elapsed: 3.7 minutes\t Remaining: 11.7 minutes"
       ]
      },
      {
       "output_type": "stream",
       "stream": "stdout",
       "text": [
        " \r",
        "[*********        24%                  ]  493 of 2032 complete Elapsed: 3.7 minutes\t Remaining: 11.7 minutes"
       ]
      },
      {
       "output_type": "stream",
       "stream": "stdout",
       "text": [
        " \r",
        "[**********       25%                  ]  512 of 2032 complete Elapsed: 3.8 minutes\t Remaining: 11.2 minutes"
       ]
      },
      {
       "output_type": "stream",
       "stream": "stdout",
       "text": [
        " \r",
        "[**********       26%                  ]  528 of 2032 complete Elapsed: 3.8 minutes\t Remaining: 10.8 minutes"
       ]
      },
      {
       "output_type": "stream",
       "stream": "stdout",
       "text": [
        " \r",
        "[***********      28%                  ]  562 of 2032 complete Elapsed: 3.8 minutes\t Remaining: 10.0 minutes"
       ]
      },
      {
       "output_type": "stream",
       "stream": "stdout",
       "text": [
        " \r",
        "[***********      30%                  ]  604 of 2032 complete Elapsed: 3.9 minutes\t Remaining: 9.1 minutes"
       ]
      },
      {
       "output_type": "stream",
       "stream": "stdout",
       "text": [
        " \r",
        "[************     31%                  ]  635 of 2032 complete Elapsed: 3.9 minutes\t Remaining: 8.6 minutes"
       ]
      },
      {
       "output_type": "stream",
       "stream": "stdout",
       "text": [
        " \r",
        "[************     32%                  ]  645 of 2032 complete Elapsed: 3.9 minutes\t Remaining: 8.5 minutes"
       ]
      },
      {
       "output_type": "stream",
       "stream": "stdout",
       "text": [
        " \r",
        "[************     32%                  ]  646 of 2032 complete Elapsed: 4.0 minutes\t Remaining: 8.5 minutes"
       ]
      },
      {
       "output_type": "stream",
       "stream": "stdout",
       "text": [
        " \r",
        "[************     32%                  ]  648 of 2032 complete Elapsed: 4.0 minutes\t Remaining: 8.5 minutes"
       ]
      },
      {
       "output_type": "stream",
       "stream": "stdout",
       "text": [
        " \r",
        "[************     32%                  ]  654 of 2032 complete Elapsed: 4.0 minutes\t Remaining: 8.5 minutes"
       ]
      },
      {
       "output_type": "stream",
       "stream": "stdout",
       "text": [
        " \r",
        "[*************    33%                  ]  664 of 2032 complete Elapsed: 4.1 minutes\t Remaining: 8.4 minutes"
       ]
      },
      {
       "output_type": "stream",
       "stream": "stdout",
       "text": [
        " \r",
        "[*************    33%                  ]  672 of 2032 complete Elapsed: 4.1 minutes\t Remaining: 8.3 minutes"
       ]
      },
      {
       "output_type": "stream",
       "stream": "stdout",
       "text": [
        " \r",
        "[*************    33%                  ]  678 of 2032 complete Elapsed: 4.1 minutes\t Remaining: 8.2 minutes"
       ]
      },
      {
       "output_type": "stream",
       "stream": "stdout",
       "text": [
        " \r",
        "[*************    34%                  ]  682 of 2032 complete Elapsed: 4.2 minutes\t Remaining: 8.3 minutes"
       ]
      },
      {
       "output_type": "stream",
       "stream": "stdout",
       "text": [
        " \r",
        "[*************    34%                  ]  688 of 2032 complete Elapsed: 4.2 minutes\t Remaining: 8.3 minutes"
       ]
      },
      {
       "output_type": "stream",
       "stream": "stdout",
       "text": [
        " \r",
        "[*************    34%                  ]  697 of 2032 complete Elapsed: 4.3 minutes\t Remaining: 8.2 minutes"
       ]
      },
      {
       "output_type": "stream",
       "stream": "stdout",
       "text": [
        " \r",
        "[*************    35%                  ]  702 of 2032 complete Elapsed: 4.3 minutes\t Remaining: 8.1 minutes"
       ]
      },
      {
       "output_type": "stream",
       "stream": "stdout",
       "text": [
        " \r",
        "[*************    35%                  ]  708 of 2032 complete Elapsed: 4.3 minutes\t Remaining: 8.1 minutes"
       ]
      },
      {
       "output_type": "stream",
       "stream": "stdout",
       "text": [
        " \r",
        "[*************    35%                  ]  715 of 2032 complete Elapsed: 4.4 minutes\t Remaining: 8.1 minutes"
       ]
      },
      {
       "output_type": "stream",
       "stream": "stdout",
       "text": [
        " \r",
        "[*************    35%                  ]  717 of 2032 complete Elapsed: 4.4 minutes\t Remaining: 8.1 minutes"
       ]
      },
      {
       "output_type": "stream",
       "stream": "stdout",
       "text": [
        " \r",
        "[**************   36%                  ]  727 of 2032 complete Elapsed: 4.5 minutes\t Remaining: 8.0 minutes"
       ]
      },
      {
       "output_type": "stream",
       "stream": "stdout",
       "text": [
        " \r",
        "[**************   36%                  ]  732 of 2032 complete Elapsed: 4.5 minutes\t Remaining: 8.0 minutes"
       ]
      },
      {
       "output_type": "stream",
       "stream": "stdout",
       "text": [
        " \r",
        "[**************   36%                  ]  738 of 2032 complete Elapsed: 4.5 minutes\t Remaining: 7.9 minutes"
       ]
      },
      {
       "output_type": "stream",
       "stream": "stdout",
       "text": [
        " \r",
        "[**************   36%                  ]  740 of 2032 complete Elapsed: 4.6 minutes\t Remaining: 8.0 minutes"
       ]
      },
      {
       "output_type": "stream",
       "stream": "stdout",
       "text": [
        " \r",
        "[**************   37%                  ]  751 of 2032 complete Elapsed: 4.6 minutes\t Remaining: 7.8 minutes"
       ]
      },
      {
       "output_type": "stream",
       "stream": "stdout",
       "text": [
        " \r",
        "[**************   37%                  ]  756 of 2032 complete Elapsed: 4.6 minutes\t Remaining: 7.8 minutes"
       ]
      },
      {
       "output_type": "stream",
       "stream": "stdout",
       "text": [
        " \r",
        "[**************   38%                  ]  765 of 2032 complete Elapsed: 4.7 minutes\t Remaining: 7.7 minutes"
       ]
      },
      {
       "output_type": "stream",
       "stream": "stdout",
       "text": [
        " \r",
        "[***************  39%                  ]  790 of 2032 complete Elapsed: 4.7 minutes\t Remaining: 7.4 minutes"
       ]
      },
      {
       "output_type": "stream",
       "stream": "stdout",
       "text": [
        " \r",
        "[***************  39%                  ]  795 of 2032 complete Elapsed: 4.7 minutes\t Remaining: 7.4 minutes"
       ]
      },
      {
       "output_type": "stream",
       "stream": "stdout",
       "text": [
        " \r",
        "[***************  39%                  ]  796 of 2032 complete Elapsed: 4.8 minutes\t Remaining: 7.5 minutes"
       ]
      },
      {
       "output_type": "stream",
       "stream": "stdout",
       "text": [
        " \r",
        "[***************  40%                  ]  820 of 2032 complete Elapsed: 4.8 minutes\t Remaining: 7.2 minutes"
       ]
      },
      {
       "output_type": "stream",
       "stream": "stdout",
       "text": [
        " \r",
        "[**************** 41%                  ]  842 of 2032 complete Elapsed: 4.9 minutes\t Remaining: 6.9 minutes"
       ]
      },
      {
       "output_type": "stream",
       "stream": "stdout",
       "text": [
        " \r",
        "[**************** 42%                  ]  849 of 2032 complete Elapsed: 5.0 minutes\t Remaining: 6.9 minutes"
       ]
      },
      {
       "output_type": "stream",
       "stream": "stdout",
       "text": [
        " \r",
        "[**************** 42%                  ]  852 of 2032 complete Elapsed: 5.0 minutes\t Remaining: 7.0 minutes"
       ]
      },
      {
       "output_type": "stream",
       "stream": "stdout",
       "text": [
        " \r",
        "[**************** 42%                  ]  856 of 2032 complete Elapsed: 5.1 minutes\t Remaining: 7.0 minutes"
       ]
      },
      {
       "output_type": "stream",
       "stream": "stdout",
       "text": [
        " \r",
        "[**************** 42%                  ]  863 of 2032 complete Elapsed: 5.1 minutes\t Remaining: 6.9 minutes"
       ]
      },
      {
       "output_type": "stream",
       "stream": "stdout",
       "text": [
        " \r",
        "[**************** 43%                  ]  872 of 2032 complete Elapsed: 5.1 minutes\t Remaining: 6.8 minutes"
       ]
      },
      {
       "output_type": "stream",
       "stream": "stdout",
       "text": [
        " \r",
        "[**************** 43%                  ]  873 of 2032 complete Elapsed: 5.2 minutes\t Remaining: 6.8 minutes"
       ]
      },
      {
       "output_type": "stream",
       "stream": "stdout",
       "text": [
        " \r",
        "[**************** 43%                  ]  875 of 2032 complete Elapsed: 5.2 minutes\t Remaining: 6.9 minutes"
       ]
      },
      {
       "output_type": "stream",
       "stream": "stdout",
       "text": [
        " \r",
        "[**************** 43%                  ]  879 of 2032 complete Elapsed: 5.2 minutes\t Remaining: 6.9 minutes"
       ]
      },
      {
       "output_type": "stream",
       "stream": "stdout",
       "text": [
        " \r",
        "[**************** 43%                  ]  882 of 2032 complete Elapsed: 5.3 minutes\t Remaining: 6.9 minutes"
       ]
      },
      {
       "output_type": "stream",
       "stream": "stdout",
       "text": [
        " \r",
        "[*****************44%                  ]  902 of 2032 complete Elapsed: 5.3 minutes\t Remaining: 6.7 minutes"
       ]
      },
      {
       "output_type": "stream",
       "stream": "stdout",
       "text": [
        " \r",
        "[*****************44%                  ]  904 of 2032 complete Elapsed: 5.4 minutes\t Remaining: 6.7 minutes"
       ]
      },
      {
       "output_type": "stream",
       "stream": "stdout",
       "text": [
        " \r",
        "[*****************45%                  ]  905 of 2032 complete Elapsed: 5.4 minutes\t Remaining: 6.7 minutes"
       ]
      },
      {
       "output_type": "stream",
       "stream": "stdout",
       "text": [
        " \r",
        "[*****************45%                  ]  907 of 2032 complete Elapsed: 5.4 minutes\t Remaining: 6.7 minutes"
       ]
      },
      {
       "output_type": "stream",
       "stream": "stdout",
       "text": [
        " \r",
        "[*****************45%                  ]  914 of 2032 complete Elapsed: 5.5 minutes\t Remaining: 6.7 minutes"
       ]
      },
      {
       "output_type": "stream",
       "stream": "stdout",
       "text": [
        " \r",
        "[*****************46%                  ]  932 of 2032 complete Elapsed: 5.5 minutes\t Remaining: 6.5 minutes"
       ]
      },
      {
       "output_type": "stream",
       "stream": "stdout",
       "text": [
        " \r",
        "[*****************46%                  ]  938 of 2032 complete Elapsed: 5.6 minutes\t Remaining: 6.5 minutes"
       ]
      },
      {
       "output_type": "stream",
       "stream": "stdout",
       "text": [
        " \r",
        "[*****************46%                  ]  940 of 2032 complete Elapsed: 5.6 minutes\t Remaining: 6.5 minutes"
       ]
      },
      {
       "output_type": "stream",
       "stream": "stdout",
       "text": [
        " \r",
        "[*****************47%                  ]  947 of 2032 complete Elapsed: 5.6 minutes\t Remaining: 6.4 minutes"
       ]
      },
      {
       "output_type": "stream",
       "stream": "stdout",
       "text": [
        " \r",
        "[*****************47%                  ]  950 of 2032 complete Elapsed: 5.7 minutes\t Remaining: 6.5 minutes"
       ]
      },
      {
       "output_type": "stream",
       "stream": "stdout",
       "text": [
        " \r",
        "[*****************47%                  ]  952 of 2032 complete Elapsed: 5.7 minutes\t Remaining: 6.5 minutes"
       ]
      },
      {
       "output_type": "stream",
       "stream": "stdout",
       "text": [
        " \r",
        "[*****************47%                  ]  954 of 2032 complete Elapsed: 5.7 minutes\t Remaining: 6.5 minutes"
       ]
      },
      {
       "output_type": "stream",
       "stream": "stdout",
       "text": [
        " \r",
        "[*****************47%                  ]  958 of 2032 complete Elapsed: 5.8 minutes\t Remaining: 6.5 minutes"
       ]
      },
      {
       "output_type": "stream",
       "stream": "stdout",
       "text": [
        " \r",
        "[*****************47%                  ]  960 of 2032 complete Elapsed: 5.8 minutes\t Remaining: 6.5 minutes"
       ]
      },
      {
       "output_type": "stream",
       "stream": "stdout",
       "text": [
        " \r",
        "[*****************47%                  ]  964 of 2032 complete Elapsed: 5.8 minutes\t Remaining: 6.5 minutes"
       ]
      },
      {
       "output_type": "stream",
       "stream": "stdout",
       "text": [
        " \r",
        "[*****************48%                  ]  966 of 2032 complete Elapsed: 5.8 minutes\t Remaining: 6.5 minutes"
       ]
      },
      {
       "output_type": "stream",
       "stream": "stdout",
       "text": [
        " \r",
        "[*****************48%                  ]  969 of 2032 complete Elapsed: 5.9 minutes\t Remaining: 6.4 minutes"
       ]
      },
      {
       "output_type": "stream",
       "stream": "stdout",
       "text": [
        " \r",
        "[*****************48%                  ]  985 of 2032 complete Elapsed: 5.9 minutes\t Remaining: 6.3 minutes"
       ]
      },
      {
       "output_type": "stream",
       "stream": "stdout",
       "text": [
        " \r",
        "[*****************49%                  ]  989 of 2032 complete Elapsed: 5.9 minutes\t Remaining: 6.3 minutes"
       ]
      },
      {
       "output_type": "stream",
       "stream": "stdout",
       "text": [
        " \r",
        "[*****************49%                  ]  991 of 2032 complete Elapsed: 6.0 minutes\t Remaining: 6.3 minutes"
       ]
      },
      {
       "output_type": "stream",
       "stream": "stdout",
       "text": [
        " \r",
        "[*****************49%                  ]  992 of 2032 complete Elapsed: 6.0 minutes\t Remaining: 6.3 minutes"
       ]
      },
      {
       "output_type": "stream",
       "stream": "stdout",
       "text": [
        " \r",
        "[*****************49%                  ]  999 of 2032 complete Elapsed: 6.0 minutes\t Remaining: 6.2 minutes"
       ]
      },
      {
       "output_type": "stream",
       "stream": "stdout",
       "text": [
        " \r",
        "[*****************49%                  ]  1004 of 2032 complete Elapsed: 6.2 minutes\t Remaining: 6.4 minutes"
       ]
      },
      {
       "output_type": "stream",
       "stream": "stdout",
       "text": [
        " \r",
        "[*****************50%                  ]  1018 of 2032 complete Elapsed: 6.3 minutes\t Remaining: 6.3 minutes"
       ]
      },
      {
       "output_type": "stream",
       "stream": "stdout",
       "text": [
        " \r",
        "[*****************50%                  ]  1019 of 2032 complete Elapsed: 6.3 minutes\t Remaining: 6.3 minutes"
       ]
      },
      {
       "output_type": "stream",
       "stream": "stdout",
       "text": [
        " \r",
        "[*****************50%                  ]  1026 of 2032 complete Elapsed: 6.3 minutes\t Remaining: 6.2 minutes"
       ]
      },
      {
       "output_type": "stream",
       "stream": "stdout",
       "text": [
        " \r",
        "[*****************51%                  ]  1044 of 2032 complete Elapsed: 6.4 minutes\t Remaining: 6.1 minutes"
       ]
      },
      {
       "output_type": "stream",
       "stream": "stdout",
       "text": [
        " \r",
        "[*****************52%                  ]  1053 of 2032 complete Elapsed: 6.4 minutes\t Remaining: 6.0 minutes"
       ]
      },
      {
       "output_type": "stream",
       "stream": "stdout",
       "text": [
        " \r",
        "[*****************52%                  ]  1055 of 2032 complete Elapsed: 6.5 minutes\t Remaining: 6.1 minutes"
       ]
      },
      {
       "output_type": "stream",
       "stream": "stdout",
       "text": [
        " \r",
        "[*****************52%                  ]  1059 of 2032 complete Elapsed: 6.6 minutes\t Remaining: 6.0 minutes"
       ]
      },
      {
       "output_type": "stream",
       "stream": "stdout",
       "text": [
        " \r",
        "[*****************52%                  ]  1064 of 2032 complete Elapsed: 6.6 minutes\t Remaining: 6.0 minutes"
       ]
      },
      {
       "output_type": "stream",
       "stream": "stdout",
       "text": [
        " \r",
        "[*****************53%                  ]  1067 of 2032 complete Elapsed: 6.6 minutes\t Remaining: 6.0 minutes"
       ]
      },
      {
       "output_type": "stream",
       "stream": "stdout",
       "text": [
        " \r",
        "[*****************53%                  ]  1076 of 2032 complete Elapsed: 6.7 minutes\t Remaining: 5.9 minutes"
       ]
      },
      {
       "output_type": "stream",
       "stream": "stdout",
       "text": [
        " \r",
        "[*****************53%                  ]  1078 of 2032 complete Elapsed: 6.7 minutes\t Remaining: 5.9 minutes"
       ]
      },
      {
       "output_type": "stream",
       "stream": "stdout",
       "text": [
        " \r",
        "[*****************53%                  ]  1079 of 2032 complete Elapsed: 6.7 minutes\t Remaining: 5.9 minutes"
       ]
      },
      {
       "output_type": "stream",
       "stream": "stdout",
       "text": [
        " \r",
        "[*****************53%                  ]  1081 of 2032 complete Elapsed: 6.8 minutes\t Remaining: 6.0 minutes"
       ]
      },
      {
       "output_type": "stream",
       "stream": "stdout",
       "text": [
        " \r",
        "[*****************54%*                 ]  1090 of 2032 complete Elapsed: 6.9 minutes\t Remaining: 5.9 minutes"
       ]
      },
      {
       "output_type": "stream",
       "stream": "stdout",
       "text": [
        " \r",
        "[*****************54%*                 ]  1091 of 2032 complete Elapsed: 7.0 minutes\t Remaining: 6.0 minutes"
       ]
      },
      {
       "output_type": "stream",
       "stream": "stdout",
       "text": [
        " \r",
        "[*****************54%*                 ]  1096 of 2032 complete Elapsed: 7.0 minutes\t Remaining: 6.0 minutes"
       ]
      },
      {
       "output_type": "stream",
       "stream": "stdout",
       "text": [
        " \r",
        "[*****************54%*                 ]  1098 of 2032 complete Elapsed: 7.0 minutes\t Remaining: 6.0 minutes"
       ]
      },
      {
       "output_type": "stream",
       "stream": "stdout",
       "text": [
        " \r",
        "[*****************54%*                 ]  1099 of 2032 complete Elapsed: 7.1 minutes\t Remaining: 6.0 minutes"
       ]
      },
      {
       "output_type": "stream",
       "stream": "stdout",
       "text": [
        " \r",
        "[*****************54%*                 ]  1104 of 2032 complete Elapsed: 7.1 minutes\t Remaining: 6.0 minutes"
       ]
      },
      {
       "output_type": "stream",
       "stream": "stdout",
       "text": [
        " \r",
        "[*****************55%*                 ]  1108 of 2032 complete Elapsed: 7.2 minutes\t Remaining: 6.0 minutes"
       ]
      },
      {
       "output_type": "stream",
       "stream": "stdout",
       "text": [
        " \r",
        "[*****************56%*                 ]  1139 of 2032 complete Elapsed: 7.2 minutes\t Remaining: 5.7 minutes"
       ]
      },
      {
       "output_type": "stream",
       "stream": "stdout",
       "text": [
        " \r",
        "[*****************56%*                 ]  1143 of 2032 complete Elapsed: 7.2 minutes\t Remaining: 5.6 minutes"
       ]
      },
      {
       "output_type": "stream",
       "stream": "stdout",
       "text": [
        " \r",
        "[*****************56%*                 ]  1147 of 2032 complete Elapsed: 7.3 minutes\t Remaining: 5.7 minutes"
       ]
      },
      {
       "output_type": "stream",
       "stream": "stdout",
       "text": [
        " \r",
        "[*****************57%**                ]  1154 of 2032 complete Elapsed: 7.4 minutes\t Remaining: 5.6 minutes"
       ]
      },
      {
       "output_type": "stream",
       "stream": "stdout",
       "text": [
        " \r",
        "[*****************57%**                ]  1161 of 2032 complete Elapsed: 7.5 minutes\t Remaining: 5.6 minutes"
       ]
      },
      {
       "output_type": "stream",
       "stream": "stdout",
       "text": [
        " \r",
        "[*****************57%**                ]  1164 of 2032 complete Elapsed: 7.5 minutes\t Remaining: 5.6 minutes"
       ]
      },
      {
       "output_type": "stream",
       "stream": "stdout",
       "text": [
        " \r",
        "[*****************58%**                ]  1169 of 2032 complete Elapsed: 7.5 minutes\t Remaining: 5.6 minutes"
       ]
      },
      {
       "output_type": "stream",
       "stream": "stdout",
       "text": [
        " \r",
        "[*****************58%**                ]  1173 of 2032 complete Elapsed: 7.6 minutes\t Remaining: 5.5 minutes"
       ]
      },
      {
       "output_type": "stream",
       "stream": "stdout",
       "text": [
        " \r",
        "[*****************58%**                ]  1180 of 2032 complete Elapsed: 7.6 minutes\t Remaining: 5.5 minutes"
       ]
      },
      {
       "output_type": "stream",
       "stream": "stdout",
       "text": [
        " \r",
        "[*****************58%**                ]  1186 of 2032 complete Elapsed: 7.6 minutes\t Remaining: 5.5 minutes"
       ]
      },
      {
       "output_type": "stream",
       "stream": "stdout",
       "text": [
        " \r",
        "[*****************59%**                ]  1197 of 2032 complete Elapsed: 7.7 minutes\t Remaining: 5.4 minutes"
       ]
      },
      {
       "output_type": "stream",
       "stream": "stdout",
       "text": [
        " \r",
        "[*****************59%**                ]  1198 of 2032 complete Elapsed: 7.7 minutes\t Remaining: 5.4 minutes"
       ]
      },
      {
       "output_type": "stream",
       "stream": "stdout",
       "text": [
        " \r",
        "[*****************59%**                ]  1199 of 2032 complete Elapsed: 7.7 minutes\t Remaining: 5.4 minutes"
       ]
      },
      {
       "output_type": "stream",
       "stream": "stdout",
       "text": [
        " \r",
        "[*****************59%**                ]  1203 of 2032 complete Elapsed: 7.8 minutes\t Remaining: 5.4 minutes"
       ]
      },
      {
       "output_type": "stream",
       "stream": "stdout",
       "text": [
        " \r",
        "[*****************59%**                ]  1209 of 2032 complete Elapsed: 7.9 minutes\t Remaining: 5.4 minutes"
       ]
      },
      {
       "output_type": "stream",
       "stream": "stdout",
       "text": [
        " \r",
        "[*****************60%***               ]  1213 of 2032 complete Elapsed: 7.9 minutes\t Remaining: 5.3 minutes"
       ]
      },
      {
       "output_type": "stream",
       "stream": "stdout",
       "text": [
        " \r",
        "[*****************60%***               ]  1217 of 2032 complete Elapsed: 8.0 minutes\t Remaining: 5.3 minutes"
       ]
      },
      {
       "output_type": "stream",
       "stream": "stdout",
       "text": [
        " \r",
        "[*****************60%***               ]  1222 of 2032 complete Elapsed: 8.0 minutes\t Remaining: 5.3 minutes"
       ]
      },
      {
       "output_type": "stream",
       "stream": "stdout",
       "text": [
        " \r",
        "[*****************60%***               ]  1226 of 2032 complete Elapsed: 8.0 minutes\t Remaining: 5.3 minutes"
       ]
      },
      {
       "output_type": "stream",
       "stream": "stdout",
       "text": [
        " \r",
        "[*****************61%***               ]  1230 of 2032 complete Elapsed: 8.1 minutes\t Remaining: 5.3 minutes"
       ]
      },
      {
       "output_type": "stream",
       "stream": "stdout",
       "text": [
        " \r",
        "[*****************61%***               ]  1240 of 2032 complete Elapsed: 8.1 minutes\t Remaining: 5.2 minutes"
       ]
      },
      {
       "output_type": "stream",
       "stream": "stdout",
       "text": [
        " \r",
        "[*****************61%***               ]  1242 of 2032 complete Elapsed: 8.1 minutes\t Remaining: 5.2 minutes"
       ]
      },
      {
       "output_type": "stream",
       "stream": "stdout",
       "text": [
        " \r",
        "[*****************61%***               ]  1246 of 2032 complete Elapsed: 8.1 minutes\t Remaining: 5.1 minutes"
       ]
      },
      {
       "output_type": "stream",
       "stream": "stdout",
       "text": [
        " \r",
        "[*****************62%****              ]  1256 of 2032 complete Elapsed: 8.2 minutes\t Remaining: 5.1 minutes"
       ]
      },
      {
       "output_type": "stream",
       "stream": "stdout",
       "text": [
        " \r",
        "[*****************62%****              ]  1260 of 2032 complete Elapsed: 8.3 minutes\t Remaining: 5.1 minutes"
       ]
      },
      {
       "output_type": "stream",
       "stream": "stdout",
       "text": [
        " \r",
        "[*****************62%****              ]  1265 of 2032 complete Elapsed: 8.3 minutes\t Remaining: 5.0 minutes"
       ]
      },
      {
       "output_type": "stream",
       "stream": "stdout",
       "text": [
        " \r",
        "[*****************63%****              ]  1289 of 2032 complete Elapsed: 8.3 minutes\t Remaining: 4.8 minutes"
       ]
      },
      {
       "output_type": "stream",
       "stream": "stdout",
       "text": [
        " \r",
        "[*****************65%*****             ]  1324 of 2032 complete Elapsed: 8.4 minutes\t Remaining: 4.5 minutes"
       ]
      },
      {
       "output_type": "stream",
       "stream": "stdout",
       "text": [
        " \r",
        "[*****************65%*****             ]  1329 of 2032 complete Elapsed: 8.4 minutes\t Remaining: 4.4 minutes"
       ]
      },
      {
       "output_type": "stream",
       "stream": "stdout",
       "text": [
        " \r",
        "[*****************66%*****             ]  1335 of 2032 complete Elapsed: 8.5 minutes\t Remaining: 4.4 minutes"
       ]
      },
      {
       "output_type": "stream",
       "stream": "stdout",
       "text": [
        " \r",
        "[*****************66%*****             ]  1338 of 2032 complete Elapsed: 8.5 minutes\t Remaining: 4.4 minutes"
       ]
      },
      {
       "output_type": "stream",
       "stream": "stdout",
       "text": [
        " \r",
        "[*****************66%*****             ]  1342 of 2032 complete Elapsed: 8.5 minutes\t Remaining: 4.4 minutes"
       ]
      },
      {
       "output_type": "stream",
       "stream": "stdout",
       "text": [
        " \r",
        "[*****************66%*****             ]  1345 of 2032 complete Elapsed: 8.6 minutes\t Remaining: 4.4 minutes"
       ]
      },
      {
       "output_type": "stream",
       "stream": "stdout",
       "text": [
        " \r",
        "[*****************67%*****             ]  1357 of 2032 complete Elapsed: 8.6 minutes\t Remaining: 4.3 minutes"
       ]
      },
      {
       "output_type": "stream",
       "stream": "stdout",
       "text": [
        " \r",
        "[*****************67%*****             ]  1359 of 2032 complete Elapsed: 8.7 minutes\t Remaining: 4.3 minutes"
       ]
      },
      {
       "output_type": "stream",
       "stream": "stdout",
       "text": [
        " \r",
        "[*****************67%*****             ]  1370 of 2032 complete Elapsed: 8.7 minutes\t Remaining: 4.2 minutes"
       ]
      },
      {
       "output_type": "stream",
       "stream": "stdout",
       "text": [
        " \r",
        "[*****************68%******            ]  1375 of 2032 complete Elapsed: 8.7 minutes\t Remaining: 4.2 minutes"
       ]
      },
      {
       "output_type": "stream",
       "stream": "stdout",
       "text": [
        " \r",
        "[*****************68%******            ]  1381 of 2032 complete Elapsed: 8.8 minutes\t Remaining: 4.1 minutes"
       ]
      },
      {
       "output_type": "stream",
       "stream": "stdout",
       "text": [
        " \r",
        "[*****************68%******            ]  1383 of 2032 complete Elapsed: 8.8 minutes\t Remaining: 4.1 minutes"
       ]
      },
      {
       "output_type": "stream",
       "stream": "stdout",
       "text": [
        " \r",
        "[*****************68%******            ]  1388 of 2032 complete Elapsed: 8.9 minutes\t Remaining: 4.1 minutes"
       ]
      },
      {
       "output_type": "stream",
       "stream": "stdout",
       "text": [
        " \r",
        "[*****************68%******            ]  1390 of 2032 complete Elapsed: 8.9 minutes\t Remaining: 4.1 minutes"
       ]
      },
      {
       "output_type": "stream",
       "stream": "stdout",
       "text": [
        " \r",
        "[*****************69%******            ]  1392 of 2032 complete Elapsed: 9.0 minutes\t Remaining: 4.1 minutes"
       ]
      },
      {
       "output_type": "stream",
       "stream": "stdout",
       "text": [
        " \r",
        "[*****************69%******            ]  1402 of 2032 complete Elapsed: 9.0 minutes\t Remaining: 4.0 minutes"
       ]
      },
      {
       "output_type": "stream",
       "stream": "stdout",
       "text": [
        " \r",
        "[*****************69%******            ]  1405 of 2032 complete Elapsed: 9.1 minutes\t Remaining: 4.0 minutes"
       ]
      },
      {
       "output_type": "stream",
       "stream": "stdout",
       "text": [
        " \r",
        "[*****************70%*******           ]  1416 of 2032 complete Elapsed: 9.1 minutes\t Remaining: 4.0 minutes"
       ]
      },
      {
       "output_type": "stream",
       "stream": "stdout",
       "text": [
        " \r",
        "[*****************70%*******           ]  1425 of 2032 complete Elapsed: 9.2 minutes\t Remaining: 3.9 minutes"
       ]
      },
      {
       "output_type": "stream",
       "stream": "stdout",
       "text": [
        " \r",
        "[*****************71%*******           ]  1439 of 2032 complete Elapsed: 9.2 minutes\t Remaining: 3.8 minutes"
       ]
      },
      {
       "output_type": "stream",
       "stream": "stdout",
       "text": [
        " \r",
        "[*****************71%*******           ]  1441 of 2032 complete Elapsed: 9.3 minutes\t Remaining: 3.8 minutes"
       ]
      },
      {
       "output_type": "stream",
       "stream": "stdout",
       "text": [
        " \r",
        "[*****************71%*******           ]  1447 of 2032 complete Elapsed: 9.3 minutes\t Remaining: 3.8 minutes"
       ]
      },
      {
       "output_type": "stream",
       "stream": "stdout",
       "text": [
        " \r",
        "[*****************72%*******           ]  1455 of 2032 complete Elapsed: 9.3 minutes\t Remaining: 3.7 minutes"
       ]
      },
      {
       "output_type": "stream",
       "stream": "stdout",
       "text": [
        " \r",
        "[*****************72%*******           ]  1464 of 2032 complete Elapsed: 9.4 minutes\t Remaining: 3.7 minutes"
       ]
      },
      {
       "output_type": "stream",
       "stream": "stdout",
       "text": [
        " \r",
        "[*****************73%********          ]  1475 of 2032 complete Elapsed: 9.4 minutes\t Remaining: 3.6 minutes"
       ]
      },
      {
       "output_type": "stream",
       "stream": "stdout",
       "text": [
        " \r",
        "[*****************74%********          ]  1494 of 2032 complete Elapsed: 9.5 minutes\t Remaining: 3.4 minutes"
       ]
      },
      {
       "output_type": "stream",
       "stream": "stdout",
       "text": [
        " \r",
        "[*****************74%********          ]  1498 of 2032 complete Elapsed: 9.5 minutes\t Remaining: 3.4 minutes"
       ]
      },
      {
       "output_type": "stream",
       "stream": "stdout",
       "text": [
        " \r",
        "[*****************74%********          ]  1509 of 2032 complete Elapsed: 9.6 minutes\t Remaining: 3.3 minutes"
       ]
      },
      {
       "output_type": "stream",
       "stream": "stdout",
       "text": [
        " \r",
        "[*****************75%*********         ]  1517 of 2032 complete Elapsed: 9.6 minutes\t Remaining: 3.3 minutes"
       ]
      },
      {
       "output_type": "stream",
       "stream": "stdout",
       "text": [
        " \r",
        "[*****************75%*********         ]  1522 of 2032 complete Elapsed: 9.6 minutes\t Remaining: 3.2 minutes"
       ]
      },
      {
       "output_type": "stream",
       "stream": "stdout",
       "text": [
        " \r",
        "[*****************75%*********         ]  1524 of 2032 complete Elapsed: 9.7 minutes\t Remaining: 3.2 minutes"
       ]
      },
      {
       "output_type": "stream",
       "stream": "stdout",
       "text": [
        " \r",
        "[*****************75%*********         ]  1526 of 2032 complete Elapsed: 9.7 minutes\t Remaining: 3.2 minutes"
       ]
      },
      {
       "output_type": "stream",
       "stream": "stdout",
       "text": [
        " \r",
        "[*****************76%*********         ]  1536 of 2032 complete Elapsed: 9.7 minutes\t Remaining: 3.1 minutes"
       ]
      },
      {
       "output_type": "stream",
       "stream": "stdout",
       "text": [
        " \r",
        "[*****************76%*********         ]  1548 of 2032 complete Elapsed: 9.8 minutes\t Remaining: 3.1 minutes"
       ]
      },
      {
       "output_type": "stream",
       "stream": "stdout",
       "text": [
        " \r",
        "[*****************76%*********         ]  1552 of 2032 complete Elapsed: 9.8 minutes\t Remaining: 3.0 minutes"
       ]
      },
      {
       "output_type": "stream",
       "stream": "stdout",
       "text": [
        " \r",
        "[*****************76%*********         ]  1553 of 2032 complete Elapsed: 9.8 minutes\t Remaining: 3.0 minutes"
       ]
      },
      {
       "output_type": "stream",
       "stream": "stdout",
       "text": [
        " \r",
        "[*****************77%*********         ]  1565 of 2032 complete Elapsed: 9.9 minutes\t Remaining: 2.9 minutes"
       ]
      },
      {
       "output_type": "stream",
       "stream": "stdout",
       "text": [
        " \r",
        "[*****************77%*********         ]  1568 of 2032 complete Elapsed: 9.9 minutes\t Remaining: 2.9 minutes"
       ]
      },
      {
       "output_type": "stream",
       "stream": "stdout",
       "text": [
        " \r",
        "[*****************77%*********         ]  1570 of 2032 complete Elapsed: 10.0 minutes\t Remaining: 2.9 minutes"
       ]
      },
      {
       "output_type": "stream",
       "stream": "stdout",
       "text": [
        " \r",
        "[*****************77%*********         ]  1573 of 2032 complete Elapsed: 10.0 minutes\t Remaining: 2.9 minutes"
       ]
      },
      {
       "output_type": "stream",
       "stream": "stdout",
       "text": [
        " \r",
        "[*****************78%**********        ]  1579 of 2032 complete Elapsed: 10.1 minutes\t Remaining: 2.9 minutes"
       ]
      },
      {
       "output_type": "stream",
       "stream": "stdout",
       "text": [
        " \r",
        "[*****************78%**********        ]  1585 of 2032 complete Elapsed: 10.1 minutes\t Remaining: 2.9 minutes"
       ]
      },
      {
       "output_type": "stream",
       "stream": "stdout",
       "text": [
        " \r",
        "[*****************78%**********        ]  1588 of 2032 complete Elapsed: 10.2 minutes\t Remaining: 2.8 minutes"
       ]
      },
      {
       "output_type": "stream",
       "stream": "stdout",
       "text": [
        " \r",
        "[*****************79%**********        ]  1596 of 2032 complete Elapsed: 10.2 minutes\t Remaining: 2.8 minutes"
       ]
      },
      {
       "output_type": "stream",
       "stream": "stdout",
       "text": [
        " \r",
        "[*****************79%**********        ]  1603 of 2032 complete Elapsed: 10.3 minutes\t Remaining: 2.7 minutes"
       ]
      },
      {
       "output_type": "stream",
       "stream": "stdout",
       "text": [
        " \r",
        "[*****************79%**********        ]  1608 of 2032 complete Elapsed: 10.3 minutes\t Remaining: 2.7 minutes"
       ]
      },
      {
       "output_type": "stream",
       "stream": "stdout",
       "text": [
        " \r",
        "[*****************79%**********        ]  1612 of 2032 complete Elapsed: 10.3 minutes\t Remaining: 2.7 minutes"
       ]
      },
      {
       "output_type": "stream",
       "stream": "stdout",
       "text": [
        " \r",
        "[*****************79%**********        ]  1614 of 2032 complete Elapsed: 10.4 minutes\t Remaining: 2.7 minutes"
       ]
      },
      {
       "output_type": "stream",
       "stream": "stdout",
       "text": [
        " \r",
        "[*****************80%**********        ]  1617 of 2032 complete Elapsed: 10.4 minutes\t Remaining: 2.7 minutes"
       ]
      },
      {
       "output_type": "stream",
       "stream": "stdout",
       "text": [
        " \r",
        "[*****************80%**********        ]  1622 of 2032 complete Elapsed: 10.5 minutes\t Remaining: 2.7 minutes"
       ]
      },
      {
       "output_type": "stream",
       "stream": "stdout",
       "text": [
        " \r",
        "[*****************80%**********        ]  1628 of 2032 complete Elapsed: 10.5 minutes\t Remaining: 2.6 minutes"
       ]
      },
      {
       "output_type": "stream",
       "stream": "stdout",
       "text": [
        " \r",
        "[*****************81%***********       ]  1636 of 2032 complete Elapsed: 10.6 minutes\t Remaining: 2.6 minutes"
       ]
      },
      {
       "output_type": "stream",
       "stream": "stdout",
       "text": [
        " \r",
        "[*****************81%***********       ]  1645 of 2032 complete Elapsed: 10.6 minutes\t Remaining: 2.5 minutes"
       ]
      },
      {
       "output_type": "stream",
       "stream": "stdout",
       "text": [
        " \r",
        "[*****************81%***********       ]  1649 of 2032 complete Elapsed: 10.7 minutes\t Remaining: 2.5 minutes"
       ]
      },
      {
       "output_type": "stream",
       "stream": "stdout",
       "text": [
        " \r",
        "[*****************82%***********       ]  1660 of 2032 complete Elapsed: 10.8 minutes\t Remaining: 2.4 minutes"
       ]
      },
      {
       "output_type": "stream",
       "stream": "stdout",
       "text": [
        " \r",
        "[*****************82%***********       ]  1663 of 2032 complete Elapsed: 10.8 minutes\t Remaining: 2.4 minutes"
       ]
      },
      {
       "output_type": "stream",
       "stream": "stdout",
       "text": [
        " \r",
        "[*****************84%************      ]  1716 of 2032 complete Elapsed: 10.8 minutes\t Remaining: 2.0 minutes"
       ]
      },
      {
       "output_type": "stream",
       "stream": "stdout",
       "text": [
        " \r",
        "[*****************85%************      ]  1719 of 2032 complete Elapsed: 10.8 minutes\t Remaining: 2.0 minutes"
       ]
      },
      {
       "output_type": "stream",
       "stream": "stdout",
       "text": [
        " \r",
        "[*****************85%************      ]  1722 of 2032 complete Elapsed: 10.9 minutes\t Remaining: 2.0 minutes"
       ]
      },
      {
       "output_type": "stream",
       "stream": "stdout",
       "text": [
        " \r",
        "[*****************85%************      ]  1723 of 2032 complete Elapsed: 10.9 minutes\t Remaining: 2.0 minutes"
       ]
      },
      {
       "output_type": "stream",
       "stream": "stdout",
       "text": [
        " \r",
        "[*****************85%************      ]  1727 of 2032 complete Elapsed: 11.0 minutes\t Remaining: 1.9 minutes"
       ]
      },
      {
       "output_type": "stream",
       "stream": "stdout",
       "text": [
        " \r",
        "[*****************85%************      ]  1734 of 2032 complete Elapsed: 11.0 minutes\t Remaining: 1.9 minutes"
       ]
      },
      {
       "output_type": "stream",
       "stream": "stdout",
       "text": [
        " \r",
        "[*****************85%************      ]  1737 of 2032 complete Elapsed: 11.0 minutes\t Remaining: 1.9 minutes"
       ]
      },
      {
       "output_type": "stream",
       "stream": "stdout",
       "text": [
        " \r",
        "[*****************86%*************     ]  1741 of 2032 complete Elapsed: 11.1 minutes\t Remaining: 1.8 minutes"
       ]
      },
      {
       "output_type": "stream",
       "stream": "stdout",
       "text": [
        " \r",
        "[*****************86%*************     ]  1755 of 2032 complete Elapsed: 11.1 minutes\t Remaining: 1.7 minutes"
       ]
      },
      {
       "output_type": "stream",
       "stream": "stdout",
       "text": [
        " \r",
        "[*****************88%*************     ]  1783 of 2032 complete Elapsed: 11.1 minutes\t Remaining: 1.6 minutes"
       ]
      },
      {
       "output_type": "stream",
       "stream": "stdout",
       "text": [
        " \r",
        "[*****************88%*************     ]  1793 of 2032 complete Elapsed: 11.1 minutes\t Remaining: 1.5 minutes"
       ]
      },
      {
       "output_type": "stream",
       "stream": "stdout",
       "text": [
        " \r",
        "[*****************89%**************    ]  1809 of 2032 complete Elapsed: 11.2 minutes\t Remaining: 1.4 minutes"
       ]
      },
      {
       "output_type": "stream",
       "stream": "stdout",
       "text": [
        " \r",
        "[*****************90%**************    ]  1825 of 2032 complete Elapsed: 11.2 minutes\t Remaining: 1.3 minutes"
       ]
      },
      {
       "output_type": "stream",
       "stream": "stdout",
       "text": [
        " \r",
        "[*****************90%**************    ]  1830 of 2032 complete Elapsed: 11.3 minutes\t Remaining: 1.2 minutes"
       ]
      },
      {
       "output_type": "stream",
       "stream": "stdout",
       "text": [
        " \r",
        "[*****************90%**************    ]  1837 of 2032 complete Elapsed: 11.3 minutes\t Remaining: 1.2 minutes"
       ]
      },
      {
       "output_type": "stream",
       "stream": "stdout",
       "text": [
        " \r",
        "[*****************91%***************   ]  1842 of 2032 complete Elapsed: 11.4 minutes\t Remaining: 1.2 minutes"
       ]
      },
      {
       "output_type": "stream",
       "stream": "stdout",
       "text": [
        " \r",
        "[*****************91%***************   ]  1844 of 2032 complete Elapsed: 11.4 minutes\t Remaining: 1.2 minutes"
       ]
      },
      {
       "output_type": "stream",
       "stream": "stdout",
       "text": [
        " \r",
        "[*****************91%***************   ]  1846 of 2032 complete Elapsed: 11.4 minutes\t Remaining: 1.2 minutes"
       ]
      },
      {
       "output_type": "stream",
       "stream": "stdout",
       "text": [
        " \r",
        "[*****************91%***************   ]  1858 of 2032 complete Elapsed: 11.5 minutes\t Remaining: 1.1 minutes"
       ]
      },
      {
       "output_type": "stream",
       "stream": "stdout",
       "text": [
        " \r",
        "[*****************92%***************   ]  1876 of 2032 complete Elapsed: 11.6 minutes\t Remaining: 1.0 minutes"
       ]
      },
      {
       "output_type": "stream",
       "stream": "stdout",
       "text": [
        " \r",
        "[*****************93%***************   ]  1885 of 2032 complete Elapsed: 11.6 minutes\t Remaining: 0.9 minutes"
       ]
      },
      {
       "output_type": "stream",
       "stream": "stdout",
       "text": [
        " \r",
        "[*****************93%***************   ]  1888 of 2032 complete Elapsed: 11.6 minutes\t Remaining: 0.9 minutes"
       ]
      },
      {
       "output_type": "stream",
       "stream": "stdout",
       "text": [
        " \r",
        "[*****************93%***************   ]  1894 of 2032 complete Elapsed: 11.7 minutes\t Remaining: 0.9 minutes"
       ]
      },
      {
       "output_type": "stream",
       "stream": "stdout",
       "text": [
        " \r",
        "[*****************94%****************  ]  1900 of 2032 complete Elapsed: 11.7 minutes\t Remaining: 0.8 minutes"
       ]
      },
      {
       "output_type": "stream",
       "stream": "stdout",
       "text": [
        " \r",
        "[*****************95%****************  ]  1936 of 2032 complete Elapsed: 11.8 minutes\t Remaining: 0.6 minutes"
       ]
      },
      {
       "output_type": "stream",
       "stream": "stdout",
       "text": [
        " \r",
        "[*****************95%****************  ]  1939 of 2032 complete Elapsed: 11.8 minutes\t Remaining: 0.6 minutes"
       ]
      },
      {
       "output_type": "stream",
       "stream": "stdout",
       "text": [
        " \r",
        "[*****************96%****************  ]  1941 of 2032 complete Elapsed: 11.8 minutes\t Remaining: 0.6 minutes"
       ]
      },
      {
       "output_type": "stream",
       "stream": "stdout",
       "text": [
        " \r",
        "[*****************96%****************  ]  1942 of 2032 complete Elapsed: 11.9 minutes\t Remaining: 0.6 minutes"
       ]
      },
      {
       "output_type": "stream",
       "stream": "stdout",
       "text": [
        " \r",
        "[*****************96%****************  ]  1951 of 2032 complete Elapsed: 11.9 minutes\t Remaining: 0.5 minutes"
       ]
      },
      {
       "output_type": "stream",
       "stream": "stdout",
       "text": [
        " \r",
        "[*****************96%****************  ]  1955 of 2032 complete Elapsed: 12.0 minutes\t Remaining: 0.5 minutes"
       ]
      },
      {
       "output_type": "stream",
       "stream": "stdout",
       "text": [
        " \r",
        "[*****************96%****************  ]  1957 of 2032 complete Elapsed: 12.0 minutes\t Remaining: 0.5 minutes"
       ]
      },
      {
       "output_type": "stream",
       "stream": "stdout",
       "text": [
        " \r",
        "[*****************97%***************** ]  1961 of 2032 complete Elapsed: 12.1 minutes\t Remaining: 0.4 minutes"
       ]
      },
      {
       "output_type": "stream",
       "stream": "stdout",
       "text": [
        " \r",
        "[*****************97%***************** ]  1964 of 2032 complete Elapsed: 12.2 minutes\t Remaining: 0.4 minutes"
       ]
      },
      {
       "output_type": "stream",
       "stream": "stdout",
       "text": [
        " \r",
        "[*****************97%***************** ]  1969 of 2032 complete Elapsed: 12.2 minutes\t Remaining: 0.4 minutes"
       ]
      },
      {
       "output_type": "stream",
       "stream": "stdout",
       "text": [
        "\n"
       ]
      }
     ],
     "prompt_number": 50
    },
    {
     "cell_type": "code",
     "collapsed": false,
     "input": [
      "alt_df.loc[alt_df.index.get_duplicates()]"
     ],
     "language": "python",
     "metadata": {},
     "outputs": [
      {
       "html": [
        "<div style=\"max-height:1000px;max-width:1500px;overflow:auto;\">\n",
        "<table border=\"1\" class=\"dataframe\">\n",
        "  <thead>\n",
        "    <tr style=\"text-align: right;\">\n",
        "      <th></th>\n",
        "      <th></th>\n",
        "      <th>index</th>\n",
        "      <th>0</th>\n",
        "      <th>1</th>\n",
        "      <th>2</th>\n",
        "      <th>3</th>\n",
        "    </tr>\n",
        "    <tr>\n",
        "      <th>0</th>\n",
        "      <th>1</th>\n",
        "      <th></th>\n",
        "      <th></th>\n",
        "      <th></th>\n",
        "      <th></th>\n",
        "      <th></th>\n",
        "    </tr>\n",
        "  </thead>\n",
        "  <tbody>\n",
        "    <tr>\n",
        "      <th rowspan=\"60\" valign=\"top\">chr1</th>\n",
        "      <th>964523 </th>\n",
        "      <td>  297</td>\n",
        "      <td> chr1</td>\n",
        "      <td>  964523</td>\n",
        "      <td> A</td>\n",
        "      <td> G</td>\n",
        "    </tr>\n",
        "    <tr>\n",
        "      <th>964523 </th>\n",
        "      <td>  298</td>\n",
        "      <td> chr1</td>\n",
        "      <td>  964523</td>\n",
        "      <td> A</td>\n",
        "      <td> G</td>\n",
        "    </tr>\n",
        "    <tr>\n",
        "      <th>972203 </th>\n",
        "      <td>  347</td>\n",
        "      <td> chr1</td>\n",
        "      <td>  972203</td>\n",
        "      <td> G</td>\n",
        "      <td> A</td>\n",
        "    </tr>\n",
        "    <tr>\n",
        "      <th>972203 </th>\n",
        "      <td>  348</td>\n",
        "      <td> chr1</td>\n",
        "      <td>  972203</td>\n",
        "      <td> G</td>\n",
        "      <td> A</td>\n",
        "    </tr>\n",
        "    <tr>\n",
        "      <th>1051820</th>\n",
        "      <td>  610</td>\n",
        "      <td> chr1</td>\n",
        "      <td> 1051820</td>\n",
        "      <td> C</td>\n",
        "      <td> T</td>\n",
        "    </tr>\n",
        "    <tr>\n",
        "      <th>1051820</th>\n",
        "      <td>  611</td>\n",
        "      <td> chr1</td>\n",
        "      <td> 1051820</td>\n",
        "      <td> C</td>\n",
        "      <td> T</td>\n",
        "    </tr>\n",
        "    <tr>\n",
        "      <th>1176406</th>\n",
        "      <td>  703</td>\n",
        "      <td> chr1</td>\n",
        "      <td> 1176406</td>\n",
        "      <td> A</td>\n",
        "      <td> C</td>\n",
        "    </tr>\n",
        "    <tr>\n",
        "      <th>1176406</th>\n",
        "      <td>  704</td>\n",
        "      <td> chr1</td>\n",
        "      <td> 1176406</td>\n",
        "      <td> A</td>\n",
        "      <td> C</td>\n",
        "    </tr>\n",
        "    <tr>\n",
        "      <th>1203782</th>\n",
        "      <td>  778</td>\n",
        "      <td> chr1</td>\n",
        "      <td> 1203782</td>\n",
        "      <td> C</td>\n",
        "      <td> T</td>\n",
        "    </tr>\n",
        "    <tr>\n",
        "      <th>1203782</th>\n",
        "      <td>  779</td>\n",
        "      <td> chr1</td>\n",
        "      <td> 1203782</td>\n",
        "      <td> C</td>\n",
        "      <td> T</td>\n",
        "    </tr>\n",
        "    <tr>\n",
        "      <th>1309920</th>\n",
        "      <td> 1150</td>\n",
        "      <td> chr1</td>\n",
        "      <td> 1309920</td>\n",
        "      <td> C</td>\n",
        "      <td> T</td>\n",
        "    </tr>\n",
        "    <tr>\n",
        "      <th>1309920</th>\n",
        "      <td> 1151</td>\n",
        "      <td> chr1</td>\n",
        "      <td> 1309920</td>\n",
        "      <td> C</td>\n",
        "      <td> T</td>\n",
        "    </tr>\n",
        "    <tr>\n",
        "      <th>1311683</th>\n",
        "      <td> 1182</td>\n",
        "      <td> chr1</td>\n",
        "      <td> 1311683</td>\n",
        "      <td> G</td>\n",
        "      <td> A</td>\n",
        "    </tr>\n",
        "    <tr>\n",
        "      <th>1311683</th>\n",
        "      <td> 1183</td>\n",
        "      <td> chr1</td>\n",
        "      <td> 1311683</td>\n",
        "      <td> G</td>\n",
        "      <td> A</td>\n",
        "    </tr>\n",
        "    <tr>\n",
        "      <th>1312190</th>\n",
        "      <td> 1194</td>\n",
        "      <td> chr1</td>\n",
        "      <td> 1312190</td>\n",
        "      <td> C</td>\n",
        "      <td> G</td>\n",
        "    </tr>\n",
        "    <tr>\n",
        "      <th>1312190</th>\n",
        "      <td> 1195</td>\n",
        "      <td> chr1</td>\n",
        "      <td> 1312190</td>\n",
        "      <td> C</td>\n",
        "      <td> G</td>\n",
        "    </tr>\n",
        "    <tr>\n",
        "      <th>1333775</th>\n",
        "      <td> 1349</td>\n",
        "      <td> chr1</td>\n",
        "      <td> 1333775</td>\n",
        "      <td> T</td>\n",
        "      <td> C</td>\n",
        "    </tr>\n",
        "    <tr>\n",
        "      <th>1333775</th>\n",
        "      <td> 1350</td>\n",
        "      <td> chr1</td>\n",
        "      <td> 1333775</td>\n",
        "      <td> T</td>\n",
        "      <td> C</td>\n",
        "    </tr>\n",
        "    <tr>\n",
        "      <th>1454440</th>\n",
        "      <td> 1625</td>\n",
        "      <td> chr1</td>\n",
        "      <td> 1454440</td>\n",
        "      <td> G</td>\n",
        "      <td> A</td>\n",
        "    </tr>\n",
        "    <tr>\n",
        "      <th>1454440</th>\n",
        "      <td> 1626</td>\n",
        "      <td> chr1</td>\n",
        "      <td> 1454440</td>\n",
        "      <td> G</td>\n",
        "      <td> A</td>\n",
        "    </tr>\n",
        "    <tr>\n",
        "      <th>1459214</th>\n",
        "      <td> 1652</td>\n",
        "      <td> chr1</td>\n",
        "      <td> 1459214</td>\n",
        "      <td> G</td>\n",
        "      <td> A</td>\n",
        "    </tr>\n",
        "    <tr>\n",
        "      <th>1459214</th>\n",
        "      <td> 1653</td>\n",
        "      <td> chr1</td>\n",
        "      <td> 1459214</td>\n",
        "      <td> G</td>\n",
        "      <td> A</td>\n",
        "    </tr>\n",
        "    <tr>\n",
        "      <th>1468495</th>\n",
        "      <td> 1670</td>\n",
        "      <td> chr1</td>\n",
        "      <td> 1468495</td>\n",
        "      <td> A</td>\n",
        "      <td> C</td>\n",
        "    </tr>\n",
        "    <tr>\n",
        "      <th>1468495</th>\n",
        "      <td> 1671</td>\n",
        "      <td> chr1</td>\n",
        "      <td> 1468495</td>\n",
        "      <td> A</td>\n",
        "      <td> C</td>\n",
        "    </tr>\n",
        "    <tr>\n",
        "      <th>1477381</th>\n",
        "      <td> 1685</td>\n",
        "      <td> chr1</td>\n",
        "      <td> 1477381</td>\n",
        "      <td> G</td>\n",
        "      <td> A</td>\n",
        "    </tr>\n",
        "    <tr>\n",
        "      <th>1477381</th>\n",
        "      <td> 1686</td>\n",
        "      <td> chr1</td>\n",
        "      <td> 1477381</td>\n",
        "      <td> G</td>\n",
        "      <td> A</td>\n",
        "    </tr>\n",
        "    <tr>\n",
        "      <th>1509457</th>\n",
        "      <td> 1806</td>\n",
        "      <td> chr1</td>\n",
        "      <td> 1509457</td>\n",
        "      <td> G</td>\n",
        "      <td> A</td>\n",
        "    </tr>\n",
        "    <tr>\n",
        "      <th>1509457</th>\n",
        "      <td> 1807</td>\n",
        "      <td> chr1</td>\n",
        "      <td> 1509457</td>\n",
        "      <td> G</td>\n",
        "      <td> A</td>\n",
        "    </tr>\n",
        "    <tr>\n",
        "      <th>1512307</th>\n",
        "      <td> 1812</td>\n",
        "      <td> chr1</td>\n",
        "      <td> 1512307</td>\n",
        "      <td> T</td>\n",
        "      <td> A</td>\n",
        "    </tr>\n",
        "    <tr>\n",
        "      <th>1512307</th>\n",
        "      <td> 1813</td>\n",
        "      <td> chr1</td>\n",
        "      <td> 1512307</td>\n",
        "      <td> T</td>\n",
        "      <td> A</td>\n",
        "    </tr>\n",
        "    <tr>\n",
        "      <th>1655499</th>\n",
        "      <td> 2127</td>\n",
        "      <td> chr1</td>\n",
        "      <td> 1655499</td>\n",
        "      <td> G</td>\n",
        "      <td> A</td>\n",
        "    </tr>\n",
        "    <tr>\n",
        "      <th>1655499</th>\n",
        "      <td> 2128</td>\n",
        "      <td> chr1</td>\n",
        "      <td> 1655499</td>\n",
        "      <td> G</td>\n",
        "      <td> A</td>\n",
        "    </tr>\n",
        "    <tr>\n",
        "      <th>1708987</th>\n",
        "      <td> 2233</td>\n",
        "      <td> chr1</td>\n",
        "      <td> 1708987</td>\n",
        "      <td> G</td>\n",
        "      <td> A</td>\n",
        "    </tr>\n",
        "    <tr>\n",
        "      <th>1708987</th>\n",
        "      <td> 2234</td>\n",
        "      <td> chr1</td>\n",
        "      <td> 1708987</td>\n",
        "      <td> G</td>\n",
        "      <td> A</td>\n",
        "    </tr>\n",
        "    <tr>\n",
        "      <th>1970882</th>\n",
        "      <td> 2564</td>\n",
        "      <td> chr1</td>\n",
        "      <td> 1970882</td>\n",
        "      <td> T</td>\n",
        "      <td> A</td>\n",
        "    </tr>\n",
        "    <tr>\n",
        "      <th>1970882</th>\n",
        "      <td> 2565</td>\n",
        "      <td> chr1</td>\n",
        "      <td> 1970882</td>\n",
        "      <td> T</td>\n",
        "      <td> A</td>\n",
        "    </tr>\n",
        "    <tr>\n",
        "      <th>2059684</th>\n",
        "      <td> 2630</td>\n",
        "      <td> chr1</td>\n",
        "      <td> 2059684</td>\n",
        "      <td> G</td>\n",
        "      <td> A</td>\n",
        "    </tr>\n",
        "    <tr>\n",
        "      <th>2059684</th>\n",
        "      <td> 2631</td>\n",
        "      <td> chr1</td>\n",
        "      <td> 2059684</td>\n",
        "      <td> G</td>\n",
        "      <td> A</td>\n",
        "    </tr>\n",
        "    <tr>\n",
        "      <th>2229788</th>\n",
        "      <td> 2737</td>\n",
        "      <td> chr1</td>\n",
        "      <td> 2229788</td>\n",
        "      <td> C</td>\n",
        "      <td> T</td>\n",
        "    </tr>\n",
        "    <tr>\n",
        "      <th>2229788</th>\n",
        "      <td> 2738</td>\n",
        "      <td> chr1</td>\n",
        "      <td> 2229788</td>\n",
        "      <td> C</td>\n",
        "      <td> T</td>\n",
        "    </tr>\n",
        "    <tr>\n",
        "      <th>2399362</th>\n",
        "      <td> 2813</td>\n",
        "      <td> chr1</td>\n",
        "      <td> 2399362</td>\n",
        "      <td> C</td>\n",
        "      <td> T</td>\n",
        "    </tr>\n",
        "    <tr>\n",
        "      <th>2399362</th>\n",
        "      <td> 2814</td>\n",
        "      <td> chr1</td>\n",
        "      <td> 2399362</td>\n",
        "      <td> C</td>\n",
        "      <td> T</td>\n",
        "    </tr>\n",
        "    <tr>\n",
        "      <th>3466219</th>\n",
        "      <td> 3330</td>\n",
        "      <td> chr1</td>\n",
        "      <td> 3466219</td>\n",
        "      <td> C</td>\n",
        "      <td> T</td>\n",
        "    </tr>\n",
        "    <tr>\n",
        "      <th>3466219</th>\n",
        "      <td> 3331</td>\n",
        "      <td> chr1</td>\n",
        "      <td> 3466219</td>\n",
        "      <td> C</td>\n",
        "      <td> T</td>\n",
        "    </tr>\n",
        "    <tr>\n",
        "      <th>3512183</th>\n",
        "      <td> 3534</td>\n",
        "      <td> chr1</td>\n",
        "      <td> 3512183</td>\n",
        "      <td> T</td>\n",
        "      <td> C</td>\n",
        "    </tr>\n",
        "    <tr>\n",
        "      <th>3512183</th>\n",
        "      <td> 3535</td>\n",
        "      <td> chr1</td>\n",
        "      <td> 3512183</td>\n",
        "      <td> T</td>\n",
        "      <td> C</td>\n",
        "    </tr>\n",
        "    <tr>\n",
        "      <th>5986256</th>\n",
        "      <td> 4133</td>\n",
        "      <td> chr1</td>\n",
        "      <td> 5986256</td>\n",
        "      <td> C</td>\n",
        "      <td> T</td>\n",
        "    </tr>\n",
        "    <tr>\n",
        "      <th>5986256</th>\n",
        "      <td> 4134</td>\n",
        "      <td> chr1</td>\n",
        "      <td> 5986256</td>\n",
        "      <td> C</td>\n",
        "      <td> T</td>\n",
        "    </tr>\n",
        "    <tr>\n",
        "      <th>6134295</th>\n",
        "      <td> 4250</td>\n",
        "      <td> chr1</td>\n",
        "      <td> 6134295</td>\n",
        "      <td> T</td>\n",
        "      <td> A</td>\n",
        "    </tr>\n",
        "    <tr>\n",
        "      <th>6134295</th>\n",
        "      <td> 4251</td>\n",
        "      <td> chr1</td>\n",
        "      <td> 6134295</td>\n",
        "      <td> T</td>\n",
        "      <td> A</td>\n",
        "    </tr>\n",
        "    <tr>\n",
        "      <th>6578601</th>\n",
        "      <td> 4699</td>\n",
        "      <td> chr1</td>\n",
        "      <td> 6578601</td>\n",
        "      <td> T</td>\n",
        "      <td> C</td>\n",
        "    </tr>\n",
        "    <tr>\n",
        "      <th>6578601</th>\n",
        "      <td> 4700</td>\n",
        "      <td> chr1</td>\n",
        "      <td> 6578601</td>\n",
        "      <td> T</td>\n",
        "      <td> C</td>\n",
        "    </tr>\n",
        "    <tr>\n",
        "      <th>6644465</th>\n",
        "      <td> 4858</td>\n",
        "      <td> chr1</td>\n",
        "      <td> 6644465</td>\n",
        "      <td> A</td>\n",
        "      <td> G</td>\n",
        "    </tr>\n",
        "    <tr>\n",
        "      <th>6644465</th>\n",
        "      <td> 4859</td>\n",
        "      <td> chr1</td>\n",
        "      <td> 6644465</td>\n",
        "      <td> A</td>\n",
        "      <td> G</td>\n",
        "    </tr>\n",
        "    <tr>\n",
        "      <th>7788180</th>\n",
        "      <td> 4984</td>\n",
        "      <td> chr1</td>\n",
        "      <td> 7788180</td>\n",
        "      <td> A</td>\n",
        "      <td> T</td>\n",
        "    </tr>\n",
        "    <tr>\n",
        "      <th>7788180</th>\n",
        "      <td> 4985</td>\n",
        "      <td> chr1</td>\n",
        "      <td> 7788180</td>\n",
        "      <td> A</td>\n",
        "      <td> T</td>\n",
        "    </tr>\n",
        "    <tr>\n",
        "      <th>8015251</th>\n",
        "      <td> 5126</td>\n",
        "      <td> chr1</td>\n",
        "      <td> 8015251</td>\n",
        "      <td> C</td>\n",
        "      <td> T</td>\n",
        "    </tr>\n",
        "    <tr>\n",
        "      <th>8015251</th>\n",
        "      <td> 5127</td>\n",
        "      <td> chr1</td>\n",
        "      <td> 8015251</td>\n",
        "      <td> C</td>\n",
        "      <td> T</td>\n",
        "    </tr>\n",
        "    <tr>\n",
        "      <th>8365786</th>\n",
        "      <td> 5234</td>\n",
        "      <td> chr1</td>\n",
        "      <td> 8365786</td>\n",
        "      <td> A</td>\n",
        "      <td> C</td>\n",
        "    </tr>\n",
        "    <tr>\n",
        "      <th>8365786</th>\n",
        "      <td> 5235</td>\n",
        "      <td> chr1</td>\n",
        "      <td> 8365786</td>\n",
        "      <td> A</td>\n",
        "      <td> C</td>\n",
        "    </tr>\n",
        "    <tr>\n",
        "      <td></td>\n",
        "      <td></td>\n",
        "      <td>...</td>\n",
        "      <td>...</td>\n",
        "      <td>...</td>\n",
        "      <td>...</td>\n",
        "      <td>...</td>\n",
        "    </tr>\n",
        "  </tbody>\n",
        "</table>\n",
        "<p>5013 rows \u00d7 5 columns</p>\n",
        "</div>"
       ],
       "metadata": {},
       "output_type": "pyout",
       "prompt_number": 38,
       "text": [
        "              index     0        1  2  3\n",
        "0    1                                  \n",
        "chr1 964523     297  chr1   964523  A  G\n",
        "     964523     298  chr1   964523  A  G\n",
        "     972203     347  chr1   972203  G  A\n",
        "     972203     348  chr1   972203  G  A\n",
        "     1051820    610  chr1  1051820  C  T\n",
        "     1051820    611  chr1  1051820  C  T\n",
        "     1176406    703  chr1  1176406  A  C\n",
        "     1176406    704  chr1  1176406  A  C\n",
        "     1203782    778  chr1  1203782  C  T\n",
        "     1203782    779  chr1  1203782  C  T\n",
        "     1309920   1150  chr1  1309920  C  T\n",
        "     1309920   1151  chr1  1309920  C  T\n",
        "     1311683   1182  chr1  1311683  G  A\n",
        "     1311683   1183  chr1  1311683  G  A\n",
        "     1312190   1194  chr1  1312190  C  G\n",
        "     1312190   1195  chr1  1312190  C  G\n",
        "     1333775   1349  chr1  1333775  T  C\n",
        "     1333775   1350  chr1  1333775  T  C\n",
        "     1454440   1625  chr1  1454440  G  A\n",
        "     1454440   1626  chr1  1454440  G  A\n",
        "     1459214   1652  chr1  1459214  G  A\n",
        "     1459214   1653  chr1  1459214  G  A\n",
        "     1468495   1670  chr1  1468495  A  C\n",
        "     1468495   1671  chr1  1468495  A  C\n",
        "     1477381   1685  chr1  1477381  G  A\n",
        "     1477381   1686  chr1  1477381  G  A\n",
        "     1509457   1806  chr1  1509457  G  A\n",
        "     1509457   1807  chr1  1509457  G  A\n",
        "     1512307   1812  chr1  1512307  T  A\n",
        "     1512307   1813  chr1  1512307  T  A\n",
        "     1655499   2127  chr1  1655499  G  A\n",
        "     1655499   2128  chr1  1655499  G  A\n",
        "     1708987   2233  chr1  1708987  G  A\n",
        "     1708987   2234  chr1  1708987  G  A\n",
        "     1970882   2564  chr1  1970882  T  A\n",
        "     1970882   2565  chr1  1970882  T  A\n",
        "     2059684   2630  chr1  2059684  G  A\n",
        "     2059684   2631  chr1  2059684  G  A\n",
        "     2229788   2737  chr1  2229788  C  T\n",
        "     2229788   2738  chr1  2229788  C  T\n",
        "     2399362   2813  chr1  2399362  C  T\n",
        "     2399362   2814  chr1  2399362  C  T\n",
        "     3466219   3330  chr1  3466219  C  T\n",
        "     3466219   3331  chr1  3466219  C  T\n",
        "     3512183   3534  chr1  3512183  T  C\n",
        "     3512183   3535  chr1  3512183  T  C\n",
        "     5986256   4133  chr1  5986256  C  T\n",
        "     5986256   4134  chr1  5986256  C  T\n",
        "     6134295   4250  chr1  6134295  T  A\n",
        "     6134295   4251  chr1  6134295  T  A\n",
        "     6578601   4699  chr1  6578601  T  C\n",
        "     6578601   4700  chr1  6578601  T  C\n",
        "     6644465   4858  chr1  6644465  A  G\n",
        "     6644465   4859  chr1  6644465  A  G\n",
        "     7788180   4984  chr1  7788180  A  T\n",
        "     7788180   4985  chr1  7788180  A  T\n",
        "     8015251   5126  chr1  8015251  C  T\n",
        "     8015251   5127  chr1  8015251  C  T\n",
        "     8365786   5234  chr1  8365786  A  C\n",
        "     8365786   5235  chr1  8365786  A  C\n",
        "                ...   ...      ... .. ..\n",
        "\n",
        "[5013 rows x 5 columns]"
       ]
      }
     ],
     "prompt_number": 38
    },
    {
     "cell_type": "code",
     "collapsed": false,
     "input": [
      "len(alt_s)"
     ],
     "language": "python",
     "metadata": {},
     "outputs": [
      {
       "metadata": {},
       "output_type": "pyout",
       "prompt_number": 21,
       "text": [
        "677697"
       ]
      }
     ],
     "prompt_number": 21
    },
    {
     "cell_type": "code",
     "collapsed": false,
     "input": [
      "len(alt_df)"
     ],
     "language": "python",
     "metadata": {},
     "outputs": [
      {
       "metadata": {},
       "output_type": "pyout",
       "prompt_number": 16,
       "text": [
        "680207"
       ]
      }
     ],
     "prompt_number": 16
    },
    {
     "cell_type": "code",
     "collapsed": false,
     "input": [
      "for i in results.keys():\n",
      "    print i, \":\", len(results[i])"
     ],
     "language": "python",
     "metadata": {},
     "outputs": [
      {
       "output_type": "stream",
       "stream": "stdout",
       "text": [
        "alt_ref_nocom : 3250\n",
        "com_only : 179449\n",
        "alt_only : 57528\n",
        "ref_only : 138\n",
        "ref_com_noalt : 137442\n",
        "alt_com_noref : 12737332\n",
        "ref_com_alt : 1360854\n"
       ]
      }
     ],
     "prompt_number": 59
    },
    {
     "cell_type": "code",
     "collapsed": false,
     "input": [
      "!pip install matplotlib_venn"
     ],
     "language": "python",
     "metadata": {},
     "outputs": [
      {
       "output_type": "stream",
       "stream": "stdout",
       "text": [
        "Downloading/unpacking matplotlib-venn\r\n"
       ]
      },
      {
       "output_type": "stream",
       "stream": "stdout",
       "text": [
        "  Downloading matplotlib-venn-0.10.zip\r\n"
       ]
      },
      {
       "output_type": "stream",
       "stream": "stdout",
       "text": [
        "  Running setup.py (path:/tmp/pip_build_neffra/matplotlib-venn/setup.py) egg_info for package matplotlib-venn\r\n"
       ]
      },
      {
       "output_type": "stream",
       "stream": "stdout",
       "text": [
        "    \r\n"
       ]
      },
      {
       "output_type": "stream",
       "stream": "stdout",
       "text": [
        "Requirement already satisfied (use --upgrade to upgrade): matplotlib in /home/neffra/anaconda/lib/python2.7/site-packages (from matplotlib-venn)\r\n",
        "Requirement already satisfied (use --upgrade to upgrade): numpy in /home/neffra/anaconda/lib/python2.7/site-packages (from matplotlib-venn)\r\n",
        "Requirement already satisfied (use --upgrade to upgrade): scipy in /home/neffra/anaconda/lib/python2.7/site-packages (from matplotlib-venn)\r\n",
        "Installing collected packages: matplotlib-venn\r\n",
        "  Running setup.py install for matplotlib-venn\r\n"
       ]
      },
      {
       "output_type": "stream",
       "stream": "stdout",
       "text": [
        "    \r\n"
       ]
      },
      {
       "output_type": "stream",
       "stream": "stdout",
       "text": [
        "Successfully installed matplotlib-venn\r\n",
        "Cleaning up...\r\n"
       ]
      }
     ],
     "prompt_number": 61
    },
    {
     "cell_type": "code",
     "collapsed": false,
     "input": [
      "import locale"
     ],
     "language": "python",
     "metadata": {},
     "outputs": []
    },
    {
     "cell_type": "code",
     "collapsed": false,
     "input": [
      "import math\n",
      "from matplotlib_venn import venn2, venn3\n",
      "\n",
      "font = {'family' : 'normal',\n",
      "        'weight' : 'bold',\n",
      "        'size'   : 20}\n",
      "plt.rc('font', **font)\n",
      "\n",
      "plt.figure(figsize=(10,10))\n",
      "e = venn3(subsets={'100':100., '110':9059., \n",
      "                   '111':149135., '010':262676., \n",
      "                   '011':205010., \n",
      "                   '001':197024., '101':10930.}, normalize_to=500, \n",
      "              set_labels=(\"MAF >50%\\n Variants\", \"Hg38\\nAlignment\", \"AFRG1\\nAlignment\"))\n",
      "e.get_label_by_id('100').set_text('180')\n",
      "e.get_label_by_id('010').set_text('262,676')\n",
      "e.get_label_by_id('001').set_text('197,024')\n",
      "e.get_label_by_id('110').set_text('')\n",
      "e.get_label_by_id('101').set_text('')\n",
      "e.get_label_by_id('111').set_text('')\n",
      "e.get_label_by_id('011').set_text('20,501,029')\n",
      "plt.annotate('1,491,351', xy=e.get_label_by_id('111').get_position() + np.array([2,-1]), xytext=(0,0),\n",
      "            ha='center', textcoords='offset points')\n",
      "plt.annotate('9,059', xy=e.get_label_by_id('110').get_position() + np.array([2,.4]), xytext=(0,0),\n",
      "            ha='center', textcoords='offset points')\n",
      "plt.annotate('1,093', xy=e.get_label_by_id('101').get_position() + np.array([0,-2]), xytext=(0,0),\n",
      "            ha='center', textcoords='offset points')\n",
      "plt.savefig('asw_correctedvenn.pdf')"
     ],
     "language": "python",
     "metadata": {},
     "outputs": [
      {
       "metadata": {},
       "output_type": "display_data",
       "png": "[encoded data removed]",
       "text": [
        "<matplotlib.figure.Figure at 0x5905250>"
       ]
      }
     ],
     "prompt_number": 63
    },
    {
     "cell_type": "code",
     "collapsed": false,
     "input": [
      "'''\n",
      "alt_ref_nocom : 3250\n",
      "com_only : 179449\n",
      "alt_only : 57528\n",
      "ref_only : 138\n",
      "ref_com_noalt : 137442\n",
      "alt_com_noref : 12737332\n",
      "ref_com_alt : 1360854\n",
      "'''\n",
      "\n",
      "import math\n",
      "from matplotlib_venn import venn2, venn3\n",
      "\n",
      "font = {'family' : 'normal',\n",
      "        'weight' : 'bold',\n",
      "        'size'   : 20}\n",
      "plt.rc('font', **font)\n",
      "\n",
      "plt.figure(figsize=(10,10))\n",
      "e = venn3(subsets={'100':10., '110':13740., \n",
      "                   '111':136000., '010':179440., \n",
      "                   '011':127370., \n",
      "                   '001':57520., '101':3250.}, normalize_to=500, \n",
      "              set_labels=(\"MAF >50%\\n Variants\", \"Hg38\\nAlignment\", \"AFRG1\\nAlignment\"))\n",
      "e.get_label_by_id('100').set_text('')\n",
      "e.get_label_by_id('010').set_text('179,449')\n",
      "e.get_label_by_id('001').set_text('57,528')\n",
      "e.get_label_by_id('110').set_text('137,742')\n",
      "e.get_label_by_id('101').set_text('3,250')\n",
      "e.get_label_by_id('111').set_text('')\n",
      "e.get_label_by_id('011').set_text('12,737,332')\n",
      "plt.annotate('1,360,854', xy=e.get_label_by_id('111').get_position() + np.array([2,-1]), xytext=(0,0),\n",
      "            ha='center', textcoords='offset points')"
     ],
     "language": "python",
     "metadata": {},
     "outputs": [
      {
       "metadata": {},
       "output_type": "pyout",
       "prompt_number": 64,
       "text": [
        "<matplotlib.text.Annotation at 0x6d6b3d0>"
       ]
      },
      {
       "metadata": {},
       "output_type": "display_data",
       "png": "[encoded data removed]",
       "text": [
        "<matplotlib.figure.Figure at 0x55dae10>"
       ]
      }
     ],
     "prompt_number": 64
    }
   ],
   "metadata": {}
  }
 ]
}