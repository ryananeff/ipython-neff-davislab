{
 "metadata": {
  "name": ""
 },
 "nbformat": 3,
 "nbformat_minor": 0,
 "worksheets": [
  {
   "cells": [
    {
     "cell_type": "code",
     "collapsed": false,
     "input": [
      "%run ipy_setup.py\n",
      "%matplotlib inline"
     ],
     "language": "python",
     "metadata": {},
     "outputs": [],
     "prompt_number": 1
    },
    {
     "cell_type": "code",
     "collapsed": false,
     "input": [
      "import collections"
     ],
     "language": "python",
     "metadata": {},
     "outputs": [],
     "prompt_number": 2
    },
    {
     "cell_type": "code",
     "collapsed": false,
     "input": [
      "passw = raw_input('Please type your password:')\n",
      "cnx.close()\n",
      "cnx = mysql.connector.connect(user='root', password=passw,\n",
      "                              host='almond',\n",
      "                              database='test')\n",
      "sys.stdout.write('\\rRunning...')\n",
      "sys.stdout.flush()\n",
      "\n",
      "cursor = cnx.cursor()\n",
      "\n",
      "\n",
      "# these are the fields in the AFRGh38 vcfs\n",
      "test_vcf = ht.VCF_Reader('/data/projects_gibbons/home/neffra/TGP_allpops_comp/hg38/1000_Genomes_YRI_Yoruba_population_sequencing.genotypes.vcf')\n",
      "test_vcf.parse_meta()\n",
      "test_vcf.make_info_dict()\n",
      "#print test_vcf.infodict\n",
      "\n",
      "outarr = []\n",
      "header = []\n",
      "pbar = ProgressBar(7693754)\n",
      "add_line = ''\n",
      "for i in test_vcf:\n",
      "    pbar.animate()\n",
      "    outline = collections.OrderedDict()\n",
      "    i.unpack_info(test_vcf.infodict)\n",
      "    outline['chrom'] = i.chrom\n",
      "    outline['pos'] = i.pos.pos\n",
      "    outline['id'] = i.id\n",
      "    outline['ref'] = i.ref\n",
      "    outline['alt'] = ','.join(i.alt)\n",
      "    outline['qual'] = i.qual\n",
      "    outline['filter'] = i.filter\n",
      "    \n",
      "    for column in test_vcf.infodict.keys():\n",
      "        try:\n",
      "            outline[column] = i.info[column]\n",
      "        except:\n",
      "            outline[column] = None\n",
      "    for sample in i.samples:\n",
      "        for subcol in i.format:\n",
      "            try:\n",
      "                outline[sample + \"_\" + subcol] = i.samples[sample][subcol]\n",
      "            except:\n",
      "                outline[sample + \"_\" + subcol] = None\n",
      "    if header == []:\n",
      "        header = list(outline)\n",
      "        add_line = (\"INSERT INTO `TABLE 4` \" \n",
      "                    + \"(\" + ','.join(header) + \") \" \n",
      "                    +  \"VALUES (\" + ', '.join(['%s' for i in header]) + \")\")\n",
      "    outline2 = [','.join([str(e) for e in a]) if type(a) == type([0,1]) else a for a in outline.values() ]\n",
      "    cursor.execute(add_line, tuple(outline2))"
     ],
     "language": "python",
     "metadata": {},
     "outputs": [
      {
       "name": "stdout",
       "output_type": "stream",
       "stream": "stdout",
       "text": [
        "Please type your password:test\n"
       ]
      },
      {
       "output_type": "stream",
       "stream": "stdout",
       "text": [
        "\r",
        "Running..."
       ]
      },
      {
       "output_type": "stream",
       "stream": "stdout",
       "text": [
        "\r",
        "[                  0%                  ]"
       ]
      },
      {
       "output_type": "stream",
       "stream": "stdout",
       "text": [
        " \r",
        "[                  0%                  ]  1160 of 7693754 complete Elapsed: 0.0 minutes\t Remaining: 165.9 minutes"
       ]
      },
      {
       "output_type": "stream",
       "stream": "stdout",
       "text": [
        " \r",
        "[                  0%                  ]  2329 of 7693754 complete Elapsed: 0.1 minutes\t Remaining: 165.2 minutes"
       ]
      },
      {
       "output_type": "stream",
       "stream": "stdout",
       "text": [
        " \r",
        "[                  0%                  ]  3503 of 7693754 complete Elapsed: 0.1 minutes\t Remaining: 164.7 minutes"
       ]
      },
      {
       "output_type": "stream",
       "stream": "stdout",
       "text": [
        " \r",
        "[                  0%                  ]  4675 of 7693754 complete Elapsed: 0.1 minutes\t Remaining: 164.6 minutes"
       ]
      },
      {
       "output_type": "stream",
       "stream": "stdout",
       "text": [
        " \r",
        "[                  0%                  ]  5845 of 7693754 complete Elapsed: 0.1 minutes\t Remaining: 164.5 minutes"
       ]
      },
      {
       "output_type": "stream",
       "stream": "stdout",
       "text": [
        " \r",
        "[                  0%                  ]  7005 of 7693754 complete Elapsed: 0.2 minutes\t Remaining: 164.7 minutes"
       ]
      },
      {
       "output_type": "stream",
       "stream": "stdout",
       "text": [
        " \r",
        "[                  0%                  ]  8179 of 7693754 complete Elapsed: 0.2 minutes\t Remaining: 164.5 minutes"
       ]
      },
      {
       "output_type": "stream",
       "stream": "stdout",
       "text": [
        " \r",
        "[                  0%                  ]  9354 of 7693754 complete Elapsed: 0.2 minutes\t Remaining: 164.4 minutes"
       ]
      },
      {
       "output_type": "stream",
       "stream": "stdout",
       "text": [
        " \r",
        "[                  0%                  ]  10533 of 7693754 complete Elapsed: 0.2 minutes\t Remaining: 164.2 minutes"
       ]
      },
      {
       "output_type": "stream",
       "stream": "stdout",
       "text": [
        " \r",
        "[                  0%                  ]  11695 of 7693754 complete Elapsed: 0.3 minutes\t Remaining: 164.3 minutes"
       ]
      },
      {
       "output_type": "stream",
       "stream": "stdout",
       "text": [
        " \r",
        "[                  0%                  ]  12868 of 7693754 complete Elapsed: 0.3 minutes\t Remaining: 164.3 minutes"
       ]
      },
      {
       "output_type": "stream",
       "stream": "stdout",
       "text": [
        " \r",
        "[                  0%                  ]  14038 of 7693754 complete Elapsed: 0.3 minutes\t Remaining: 164.2 minutes"
       ]
      },
      {
       "output_type": "stream",
       "stream": "stdout",
       "text": [
        " \r",
        "[                  0%                  ]  15205 of 7693754 complete Elapsed: 0.3 minutes\t Remaining: 164.2 minutes"
       ]
      },
      {
       "output_type": "stream",
       "stream": "stdout",
       "text": [
        " \r",
        "[                  0%                  ]  16372 of 7693754 complete Elapsed: 0.4 minutes\t Remaining: 164.2 minutes"
       ]
      },
      {
       "output_type": "stream",
       "stream": "stdout",
       "text": [
        " \r",
        "[                  0%                  ]  17544 of 7693754 complete Elapsed: 0.4 minutes\t Remaining: 164.2 minutes"
       ]
      },
      {
       "output_type": "stream",
       "stream": "stdout",
       "text": [
        " \r",
        "[                  0%                  ]  18716 of 7693754 complete Elapsed: 0.4 minutes\t Remaining: 164.1 minutes"
       ]
      },
      {
       "output_type": "stream",
       "stream": "stdout",
       "text": [
        " \r",
        "[                  0%                  ]  19891 of 7693754 complete Elapsed: 0.4 minutes\t Remaining: 164.1 minutes"
       ]
      },
      {
       "output_type": "stream",
       "stream": "stdout",
       "text": [
        " \r",
        "[                  0%                  ]  21080 of 7693754 complete Elapsed: 0.5 minutes\t Remaining: 163.9 minutes"
       ]
      },
      {
       "output_type": "stream",
       "stream": "stdout",
       "text": [
        " \r",
        "[                  0%                  ]  22253 of 7693754 complete Elapsed: 0.5 minutes\t Remaining: 163.9 minutes"
       ]
      },
      {
       "output_type": "stream",
       "stream": "stdout",
       "text": [
        " \r",
        "[                  0%                  ]  23428 of 7693754 complete Elapsed: 0.5 minutes\t Remaining: 163.8 minutes"
       ]
      },
      {
       "output_type": "stream",
       "stream": "stdout",
       "text": [
        " \r",
        "[                  0%                  ]  24602 of 7693754 complete Elapsed: 0.5 minutes\t Remaining: 163.8 minutes"
       ]
      },
      {
       "output_type": "stream",
       "stream": "stdout",
       "text": [
        " \r",
        "[                  0%                  ]  25745 of 7693754 complete Elapsed: 0.6 minutes\t Remaining: 163.9 minutes"
       ]
      },
      {
       "output_type": "stream",
       "stream": "stdout",
       "text": [
        " \r",
        "[                  0%                  ]  26929 of 7693754 complete Elapsed: 0.6 minutes\t Remaining: 163.8 minutes"
       ]
      },
      {
       "output_type": "stream",
       "stream": "stdout",
       "text": [
        " \r",
        "[                  0%                  ]  28110 of 7693754 complete Elapsed: 0.6 minutes\t Remaining: 163.7 minutes"
       ]
      },
      {
       "output_type": "stream",
       "stream": "stdout",
       "text": [
        " \r",
        "[                  0%                  ]  29282 of 7693754 complete Elapsed: 0.6 minutes\t Remaining: 163.7 minutes"
       ]
      },
      {
       "output_type": "stream",
       "stream": "stdout",
       "text": [
        " \r",
        "[                  0%                  ]  30450 of 7693754 complete Elapsed: 0.7 minutes\t Remaining: 163.7 minutes"
       ]
      },
      {
       "output_type": "stream",
       "stream": "stdout",
       "text": [
        " \r",
        "[                  0%                  ]  31621 of 7693754 complete Elapsed: 0.7 minutes\t Remaining: 163.7 minutes"
       ]
      },
      {
       "output_type": "stream",
       "stream": "stdout",
       "text": [
        " \r",
        "[                  0%                  ]  32801 of 7693754 complete Elapsed: 0.7 minutes\t Remaining: 163.6 minutes"
       ]
      },
      {
       "output_type": "stream",
       "stream": "stdout",
       "text": [
        " \r",
        "[                  0%                  ]  33971 of 7693754 complete Elapsed: 0.7 minutes\t Remaining: 163.6 minutes"
       ]
      },
      {
       "output_type": "stream",
       "stream": "stdout",
       "text": [
        " \r",
        "[                  0%                  ]  35153 of 7693754 complete Elapsed: 0.8 minutes\t Remaining: 163.5 minutes"
       ]
      },
      {
       "output_type": "stream",
       "stream": "stdout",
       "text": [
        " \r",
        "[                  0%                  ]  36329 of 7693754 complete Elapsed: 0.8 minutes\t Remaining: 163.5 minutes"
       ]
      },
      {
       "output_type": "stream",
       "stream": "stdout",
       "text": [
        " \r",
        "[                  0%                  ]  37508 of 7693754 complete Elapsed: 0.8 minutes\t Remaining: 163.4 minutes"
       ]
      },
      {
       "output_type": "stream",
       "stream": "stdout",
       "text": [
        " \r",
        "[                  1%                  ]  38678 of 7693754 complete Elapsed: 0.8 minutes\t Remaining: 163.4 minutes"
       ]
      },
      {
       "output_type": "stream",
       "stream": "stdout",
       "text": [
        " \r",
        "[                  1%                  ]  39856 of 7693754 complete Elapsed: 0.9 minutes\t Remaining: 163.3 minutes"
       ]
      },
      {
       "output_type": "stream",
       "stream": "stdout",
       "text": [
        " \r",
        "[                  1%                  ]  41029 of 7693754 complete Elapsed: 0.9 minutes\t Remaining: 163.3 minutes"
       ]
      }
     ],
     "prompt_number": "*"
    },
    {
     "cell_type": "code",
     "collapsed": false,
     "input": [
      "tuple(outline.values())"
     ],
     "language": "python",
     "metadata": {},
     "outputs": [
      {
       "metadata": {},
       "output_type": "pyout",
       "prompt_number": 24,
       "text": [
        "('chr1',\n",
        " 83829,\n",
        " '.',\n",
        " 'GAGAAAGAAAGAAAGAA',\n",
        " 'GAGAA,G',\n",
        " '206.52',\n",
        " '.',\n",
        " 0.0,\n",
        " None,\n",
        " None,\n",
        " False,\n",
        " None,\n",
        " [2, 2],\n",
        " [0.5, 0.5],\n",
        " 24,\n",
        " None,\n",
        " None,\n",
        " 6.32,\n",
        " [2, 2],\n",
        " None,\n",
        " [0.5, 0.5],\n",
        " 4,\n",
        " 0,\n",
        " 10.5,\n",
        " None,\n",
        " None,\n",
        " 2.12,\n",
        " 59.02,\n",
        " None,\n",
        " 1,\n",
        " '2/2',\n",
        " '0,4,0',\n",
        " '4',\n",
        " '12',\n",
        " '170,170,170,12,12,0',\n",
        " './.',\n",
        " '14,0,0',\n",
        " '14',\n",
        " None,\n",
        " None,\n",
        " '1/1',\n",
        " '0,3,0',\n",
        " '3',\n",
        " '9',\n",
        " '135,9,0,135,9,135')"
       ]
      }
     ],
     "prompt_number": 24
    },
    {
     "cell_type": "code",
     "collapsed": false,
     "input": [
      "', '.join(['%s' for i in header])"
     ],
     "language": "python",
     "metadata": {},
     "outputs": [
      {
       "metadata": {},
       "output_type": "pyout",
       "prompt_number": 20,
       "text": [
        "'%s, %s, %s, %s, %s, %s, %s, %s, %s, %s, %s, %s, %s, %s, %s, %s, %s, %s, %s, %s, %s, %s, %s, %s, %s, %s, %s, %s, %s, %s, %s, %s, %s, %s, %s, %s, %s, %s, %s, %s, %s, %s, %s, %s, %s'"
       ]
      }
     ],
     "prompt_number": 20
    },
    {
     "cell_type": "code",
     "collapsed": false,
     "input": [
      "cnx.close()"
     ],
     "language": "python",
     "metadata": {},
     "outputs": [],
     "prompt_number": 22
    },
    {
     "cell_type": "code",
     "collapsed": false,
     "input": [
      "import mysql.connector"
     ],
     "language": "python",
     "metadata": {},
     "outputs": [],
     "prompt_number": 9
    },
    {
     "cell_type": "code",
     "collapsed": false,
     "input": [],
     "language": "python",
     "metadata": {},
     "outputs": [
      {
       "name": "stdout",
       "output_type": "stream",
       "stream": "stdout",
       "text": [
        "Please type your password:test\n"
       ]
      }
     ],
     "prompt_number": 10
    },
    {
     "cell_type": "code",
     "collapsed": false,
     "input": [],
     "language": "python",
     "metadata": {},
     "outputs": []
    },
    {
     "cell_type": "code",
     "collapsed": false,
     "input": [
      "pd.DataFrame(outarr, columns=header).to_csv('/data/projects_gibbons/home/neffra/TGP_allpops_comp/testdata.tsv', sep='\\t', index=None)"
     ],
     "language": "python",
     "metadata": {},
     "outputs": [],
     "prompt_number": 55
    }
   ],
   "metadata": {}
  }
 ]
}