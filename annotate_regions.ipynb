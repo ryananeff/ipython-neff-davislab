{
 "metadata": {
  "name": ""
 },
 "nbformat": 3,
 "nbformat_minor": 0,
 "worksheets": [
  {
   "cells": [
    {
     "cell_type": "code",
     "collapsed": false,
     "input": [
      "%run ipy_setup.py\n",
      "%matplotlib inline\n",
      "rcParams['figure.figsize'] = (30, 10)\n",
      "rcParams['patch.edgecolor'] = 'blue'\n",
      "rcParams['figure.dpi'] = 300\n",
      "rcParams['font.size'] = 14\n",
      "rcParams['font.family'] = 'sans-serif'"
     ],
     "language": "python",
     "metadata": {},
     "outputs": [],
     "prompt_number": 2
    },
    {
     "cell_type": "code",
     "collapsed": false,
     "input": [
      "annovar_regions = pd.read_csv(\"/data/projects_gibbons/home/neffra/nodel_AFRGh38/nodel_AFRGh38_geneanno.variant_function\", sep='\\t', header=None)\n"
     ],
     "language": "python",
     "metadata": {},
     "outputs": [],
     "prompt_number": 3
    },
    {
     "cell_type": "code",
     "collapsed": false,
     "input": [
      "annovar_deg = pd.read_csv(\"/data/projects_gibbons/home/neffra/nodel_AFRGh38/degraded_geneanno.variant_function\",sep=\"\\t\", header=None)"
     ],
     "language": "python",
     "metadata": {},
     "outputs": [],
     "prompt_number": 18
    },
    {
     "cell_type": "code",
     "collapsed": false,
     "input": [
      "annovar_exonic = pd.read_csv(\"/data/projects_gibbons/home/neffra/nodel_AFRGh38/nodel_AFRGh38_geneanno.exonic_variant_function\", sep='\\t', header=None)\n"
     ],
     "language": "python",
     "metadata": {},
     "outputs": [],
     "prompt_number": 4
    },
    {
     "cell_type": "code",
     "collapsed": false,
     "input": [
      "for name, group in annovar_regions.groupby(annovar_regions[0]):\n",
      "    print name, len(group)"
     ],
     "language": "python",
     "metadata": {},
     "outputs": [
      {
       "output_type": "stream",
       "stream": "stdout",
       "text": [
        "UTR3 11455\n",
        "UTR5 1500\n",
        "UTR5;UTR3 4\n",
        "downstream 9655\n",
        "exonic 8583\n",
        "exonic;splicing 3\n",
        "intergenic 863110\n",
        "intronic 531141\n",
        "ncRNA_UTR3 251\n",
        "ncRNA_UTR5 18\n",
        "ncRNA_exonic 4085\n",
        "ncRNA_intronic 63598\n",
        "ncRNA_splicing 27\n",
        "splicing 23\n",
        "upstream 7943\n",
        "upstream;downstream 303\n"
       ]
      }
     ],
     "prompt_number": 14
    },
    {
     "cell_type": "code",
     "collapsed": false,
     "input": [
      "for name, group in annovar_deg.groupby(annovar_deg[0]):\n",
      "    print name, len(group)"
     ],
     "language": "python",
     "metadata": {},
     "outputs": [
      {
       "output_type": "stream",
       "stream": "stdout",
       "text": [
        "UTR3 457\n",
        "UTR5 75\n",
        "downstream 297\n",
        "exonic 430\n",
        "intergenic 21062\n",
        "intronic 13597\n",
        "ncRNA_UTR3 8\n",
        "ncRNA_exonic 137\n",
        "ncRNA_intronic 1556\n",
        "ncRNA_splicing 1\n",
        "splicing 1\n",
        "upstream 298\n",
        "upstream;downstream 13\n"
       ]
      }
     ],
     "prompt_number": 19
    },
    {
     "cell_type": "code",
     "collapsed": false,
     "input": [
      "'''\n",
      "Value\tDefault precedence\tExplanation\n",
      "exonic\t1\tvariant overlaps a coding exon\n",
      "splicing\t1\tvariant is within 2-bp of a splicing junction (use -splicing_threshold to change this)\n",
      "ncRNA\t2\tvariant overlaps a transcript without coding annotation in the gene definition (see Notes below for more explanation)\n",
      "UTR5\t3\tvariant overlaps a 5' untranslated region\n",
      "UTR3\t3\tvariant overlaps a 3' untranslated region\n",
      "intronic\t4\tvariant overlaps an intron\n",
      "upstream\t5\tvariant overlaps 1-kb region upstream of transcription start site\n",
      "downstream\t5\tvariant overlaps 1-kb region downtream of transcription end site (use -neargene to change this)\n",
      "intergenic\t6\tvariant is in intergenic region\n",
      "'''\n",
      "pass"
     ],
     "language": "python",
     "metadata": {},
     "outputs": [],
     "prompt_number": 12
    },
    {
     "cell_type": "code",
     "collapsed": false,
     "input": [
      "print len(annovar_exonic)\n",
      "for name, group in annovar_exonic.groupby(annovar_exonic[1]):\n",
      "    print name, len(group)"
     ],
     "language": "python",
     "metadata": {},
     "outputs": [
      {
       "output_type": "stream",
       "stream": "stdout",
       "text": [
        "8586\n",
        "frameshift deletion 6\n",
        "frameshift insertion 6\n",
        "nonframeshift deletion 13\n",
        "nonframeshift insertion 15\n",
        "nonsynonymous SNV 3896\n",
        "stopgain 18\n",
        "stoploss 5\n",
        "synonymous SNV 4571\n",
        "unknown 56\n"
       ]
      }
     ],
     "prompt_number": 15
    },
    {
     "cell_type": "code",
     "collapsed": false,
     "input": [
      "'''\n",
      "Annotation\tPrecedence\tExplanation\n",
      "frameshift insertion\t1\tan insertion of one or more nucleotides that cause frameshift changes in protein coding sequence\n",
      "frameshift deletion\t2\ta deletion of one or more nucleotides that cause frameshift changes in protein coding sequence\n",
      "frameshift block substitution\t3\ta block substitution of one or more nucleotides that cause frameshift changes in protein coding sequence\n",
      "stopgain\t4\ta nonsynonymous SNV, frameshift insertion/deletion, nonframeshift insertion/deletion or block substitution that lead to the immediate creation of stop codon at the variant site. For frameshift mutations, the creation of stop codon downstream of the variant will not be counted as \"stopgain\"!\n",
      "stoploss\t5\ta nonsynonymous SNV, frameshift insertion/deletion, nonframeshift insertion/deletion or block substitution that lead to the immediate elimination of stop codon at the variant site\n",
      "nonframeshift insertion\t6\tan insertion of 3 or multiples of 3 nucleotides that do not cause frameshift changes in protein coding sequence\n",
      "nonframeshift deletion\t7\ta deletion of 3 or mutliples of 3 nucleotides that do not cause frameshift changes in protein coding sequence\n",
      "nonframeshift block substitution\t8\ta block substitution of one or more nucleotides that do not cause frameshift changes in protein coding sequence\n",
      "nonsynonymous SNV\t9\ta single nucleotide change that cause an amino acid change\n",
      "synonymous SNV\t10\ta single nucleotide change that does not cause an amino acid change\n",
      "unknown\t11\tunknown function (due to various errors in the gene structure definition in the database file)\n",
      "'''\n",
      "pass"
     ],
     "language": "python",
     "metadata": {},
     "outputs": [],
     "prompt_number": 11
    }
   ],
   "metadata": {}
  }
 ]
}