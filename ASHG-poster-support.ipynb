{
 "metadata": {
  "name": ""
 },
 "nbformat": 3,
 "nbformat_minor": 0,
 "worksheets": [
  {
   "cells": [
    {
     "cell_type": "code",
     "collapsed": false,
     "input": [
      "%run ipy_setup.py\n",
      "%matplotlib inline\n",
      "rcParams['figure.figsize'] = (30, 10)\n",
      "rcParams['patch.edgecolor'] = 'blue'\n",
      "rcParams['figure.dpi'] = 300\n",
      "rcParams['font.size'] = 14\n",
      "rcParams['font.family'] = 'sans-serif'"
     ],
     "language": "python",
     "metadata": {},
     "outputs": [],
     "prompt_number": 58
    },
    {
     "cell_type": "code",
     "collapsed": false,
     "input": [
      "# final files for analysis\n",
      "com_vars = '/data/test/home/neffra/ASW_hg38_bams2/GRCh38_nodel_final_66_ASW_genotypes_snps_indels.vcf.vcf' # yes, I know this is still non-recalibrated\n",
      "afr_vars = '/data/test/home/neffra/ASW_fastq/AFRGh38_nodel_genotypes_snps_indels.raw.hg38.vcf'\n",
      "liftover = '/data/projects_gibbons/home/neffra/nodel_AFRGh38/liftover_AFRGh38_nodel.chain'\n",
      "added_vars = '/data/projects_gibbons/home/neffra/nodel_AFRGh38/1kg_hapmap_combined_hg38_maj_variants.vcf'\n",
      "comp_arr = '/data/projects_gibbons/home/neffra/compaln_vcf_afrgh38_hg38_ASW_092214/avg_63_samp_bams.arr' #63 available\n",
      "comp_reads = '' #placeholder"
     ],
     "language": "python",
     "metadata": {},
     "outputs": [],
     "prompt_number": 63
    },
    {
     "cell_type": "code",
     "collapsed": false,
     "input": [
      "#things to do:\n",
      "\n",
      "'''running''' 0. Plot coverage, mapping quality, edit distance, alignment score differences between references across all samples # running\n",
      "    a. do this also for 0,0.5, and 1 sites\n",
      "    a. Prepare some better graphs to explain edit distance and alignment scores to the audience\n",
      "\n",
      "'''running''' 1. Use the GATKs VariantEval to compare against known HapMap, Omni, and our independent exome chip from ClinSeq\n",
      "    a. get things like Ti/Tv ratio, overlap, PPV, sensitivity, specificity (good)\n",
      "    \n",
      "''' can be done now ''' 2. Check distribution of SNP call allele frequency between samples\n",
      "    a. if there is a difference, go ahead and code a program that analyzes the concordance between calls of individs.\n",
      "        i. also go through and code for HWE violations, hopefully it shows our data are more in line\n",
      "    b. This will hopefully show AFRGh38 being more sensitive with higher AF than hg38\n",
      "\n",
      "''' can be done now ''' 3. Check for haplotype consistency / LD violations\n",
      "    a. this shows specificity - lower HWE violations + higher pairwise LD == less spurious calls and more specificity\n",
      "\n",
      "'''running for entire 66''' 4. do the venn diagram of the variants per individual and for the entire 66 variants\n",
      "    a. for the new variants, run a compare_reads_diff to find out where the reads came from (must modify this to only\n",
      "                                                                                            look at those sites)\n",
      "'''waiting''' 5. Look for alignment improvements at the ancestry informative marker sites\n",
      "    a. This will help you figure out admixture more accurately\n",
      "\n",
      "'''waiting''' 6. Do a Q-Q type plot of the expected and observed change in pearson correlation of samples to each ref. genome to show\n",
      "    if we lost variant calls or added a lot more and if there are any outlier samples\n",
      "\n",
      "'''downloading''' 7. Do a distance map (see powerpoint files in repo) - include other populations from 1kg - this will likely be PCA\n",
      "\n",
      "'''waiting''' 8. Do a kernel based / SVM / machine learning / anova feature identification run across the comparison file to identify\n",
      "    regions that have significant differences in how well the reads map to them. ANOVA shows promise around gene sites\n",
      "\n",
      "'''done''' 9. Do a compare_array for sites not at variant sites to compare/contrast the differences # running\n",
      "\n",
      "''' waiting ''' 10. Look up more GWAS QC as well as DNA whole-genome quality control tools\n",
      "\n",
      "'''waiting''' 11. if time, do variant annotation and see what comes up in non-coding, coding, and other regions of interest\n",
      "\n",
      "----- for presentation -----\n",
      "\n",
      "1. significance of more variant calls / better regions\n",
      "2. emphasize that we have a fully automated pipeline from start to finish\n",
      "3. emphasize what a pop reference genome means, and how do you make one, and why it is the way it is"
     ],
     "language": "python",
     "metadata": {},
     "outputs": []
    },
    {
     "cell_type": "heading",
     "level": 3,
     "metadata": {},
     "source": [
      "task #0"
     ]
    },
    {
     "cell_type": "code",
     "collapsed": false,
     "input": [
      "# old moving average code\n",
      "'''\n",
      "what likely this needs to be changed to is some kind of moving average with interpolation for missing values so that it is smoothed\n",
      "\n",
      "not really sure if this is faithful to the chart since the spaces in between may have a completely different distribution\n",
      "\n",
      "'''\n",
      "def weighted_moving_average(x,weights,width=5):\n",
      "    y = np.zeros(len(x))\n",
      "    pbar = ProgressBar(len(x))\n",
      "    for pos in range(0, len(x)):\n",
      "        pbar.animate()\n",
      "        #We're going to weight with values +/- the width\n",
      "        # make sure not to wrap around (which would be bad)\n",
      "        if pos-width < 0:\n",
      "            start = 0\n",
      "        else:\n",
      "            start = pos-width\n",
      "        window = x[start:pos+width] \n",
      "        weights_window = [abs(i) for i in weights[start:pos+width]]\n",
      "        if sum(weights_window) == 0: # can't be normalized\n",
      "            avg = np.mean(window)\n",
      "        else:\n",
      "            avg = np.average(window, weights=weights_window)\n",
      "        y[pos] = avg\n",
      "    return y"
     ],
     "language": "python",
     "metadata": {},
     "outputs": [],
     "prompt_number": 61
    },
    {
     "cell_type": "code",
     "collapsed": false,
     "input": [
      "compaln_master2 = pd.read_csv(comp_arr, sep='\\t')"
     ],
     "language": "python",
     "metadata": {},
     "outputs": [],
     "prompt_number": 64
    },
    {
     "cell_type": "code",
     "collapsed": false,
     "input": [
      "# hg38 vs AFRGh38 statistics\n",
      "comp_stats = []\n",
      "\n",
      "comp_stats.append([\"hg38 coverage\", compaln_master2['hg38_cov'].median(), \n",
      "                   compaln_master2['hg38_cov'].mean(), \n",
      "                   compaln_master2['hg38_cov'].std()\n",
      "                   ])\n",
      "comp_stats.append([\"AFRG coverage\", compaln_master2['AFRG_cov'].median(), \n",
      "                   compaln_master2['AFRG_cov'].mean(), \n",
      "                   compaln_master2['AFRG_cov'].std()\n",
      "                   ])\n",
      "comp_stats.append([\"hg38 mapping quality\", compaln_master2['hg38_mq'].median(), \n",
      "                   compaln_master2['hg38_mq'].mean(), \n",
      "                   compaln_master2['hg38_mq'].std()\n",
      "                   ])\n",
      "comp_stats.append([\"AFRG mapping quality\", compaln_master2['AFRG_mq'].median(), \n",
      "                   compaln_master2['AFRG_mq'].mean(), \n",
      "                   compaln_master2['AFRG_mq'].std()\n",
      "                   ])\n",
      "comp_stats.append([\"hg38 insert size\", compaln_master2['hg38_is'].median(), \n",
      "                   compaln_master2['hg38_is'].mean(), \n",
      "                   compaln_master2['hg38_is'].std()\n",
      "                   ])\n",
      "comp_stats.append([\"AFRG insert size\", compaln_master2['AFRG_is'].median(), \n",
      "                   compaln_master2['AFRG_is'].mean(), \n",
      "                   compaln_master2['AFRG_is'].std()\n",
      "                   ])\n",
      "comp_stats.append([\"hg38 edit distance\", compaln_master2['hg38_ed'].median(), \n",
      "                   compaln_master2['hg38_ed'].mean(), \n",
      "                   compaln_master2['hg38_ed'].std()\n",
      "                   ])\n",
      "comp_stats.append([\"AFRG edit distance\", compaln_master2['AFRG_ed'].median(), \n",
      "                   compaln_master2['AFRG_ed'].mean(), \n",
      "                   compaln_master2['AFRG_ed'].std()\n",
      "                   ])\n",
      "comp_stats.append([\"hg38 alignment score\", compaln_master2['hg38_as'].median(), \n",
      "                   compaln_master2['hg38_as'].mean(), \n",
      "                   compaln_master2['hg38_as'].std()\n",
      "                   ])\n",
      "\n",
      "comp_stats.append([\"AFRG alignment score\", compaln_master2['AFRG_as'].median(), \n",
      "                   compaln_master2['AFRG_as'].mean(), \n",
      "                   compaln_master2['AFRG_as'].std()\n",
      "                   ])\n",
      "\n",
      "comp_stats = pd.DataFrame(comp_stats, columns=['name', 'median', 'mean', 'stdev'])\n",
      "\n",
      "comp_stats"
     ],
     "language": "python",
     "metadata": {},
     "outputs": [
      {
       "html": [
        "<div style=\"max-height:1000px;max-width:1500px;overflow:auto;\">\n",
        "<table border=\"1\" class=\"dataframe\">\n",
        "  <thead>\n",
        "    <tr style=\"text-align: right;\">\n",
        "      <th></th>\n",
        "      <th>name</th>\n",
        "      <th>median</th>\n",
        "      <th>mean</th>\n",
        "      <th>stdev</th>\n",
        "    </tr>\n",
        "  </thead>\n",
        "  <tbody>\n",
        "    <tr>\n",
        "      <th>0</th>\n",
        "      <td>        hg38 coverage</td>\n",
        "      <td>   6.761905</td>\n",
        "      <td>     6.824766</td>\n",
        "      <td>     11.949092</td>\n",
        "    </tr>\n",
        "    <tr>\n",
        "      <th>1</th>\n",
        "      <td>        AFRG coverage</td>\n",
        "      <td>   6.841270</td>\n",
        "      <td>     6.967052</td>\n",
        "      <td>     20.607556</td>\n",
        "    </tr>\n",
        "    <tr>\n",
        "      <th>2</th>\n",
        "      <td> hg38 mapping quality</td>\n",
        "      <td>  59.007937</td>\n",
        "      <td>    58.004993</td>\n",
        "      <td>      3.941611</td>\n",
        "    </tr>\n",
        "    <tr>\n",
        "      <th>3</th>\n",
        "      <td> AFRG mapping quality</td>\n",
        "      <td>  59.016421</td>\n",
        "      <td>    58.234615</td>\n",
        "      <td>      3.394971</td>\n",
        "    </tr>\n",
        "    <tr>\n",
        "      <th>4</th>\n",
        "      <td>     hg38 insert size</td>\n",
        "      <td> 274.024196</td>\n",
        "      <td> 34284.382135</td>\n",
        "      <td> 119795.392305</td>\n",
        "    </tr>\n",
        "    <tr>\n",
        "      <th>5</th>\n",
        "      <td>     AFRG insert size</td>\n",
        "      <td> 273.829207</td>\n",
        "      <td> 34587.716564</td>\n",
        "      <td> 120707.050056</td>\n",
        "    </tr>\n",
        "    <tr>\n",
        "      <th>6</th>\n",
        "      <td>   hg38 edit distance</td>\n",
        "      <td>   1.230458</td>\n",
        "      <td>     1.381606</td>\n",
        "      <td>      0.589403</td>\n",
        "    </tr>\n",
        "    <tr>\n",
        "      <th>7</th>\n",
        "      <td>   AFRG edit distance</td>\n",
        "      <td>   0.752613</td>\n",
        "      <td>     0.850316</td>\n",
        "      <td>      0.455740</td>\n",
        "    </tr>\n",
        "    <tr>\n",
        "      <th>8</th>\n",
        "      <td> hg38 alignment score</td>\n",
        "      <td>  83.490930</td>\n",
        "      <td>    82.608473</td>\n",
        "      <td>      3.731469</td>\n",
        "    </tr>\n",
        "    <tr>\n",
        "      <th>9</th>\n",
        "      <td> AFRG alignment score</td>\n",
        "      <td>  85.921921</td>\n",
        "      <td>    85.128779</td>\n",
        "      <td>      3.380150</td>\n",
        "    </tr>\n",
        "  </tbody>\n",
        "</table>\n",
        "<p>10 rows \u00d7 4 columns</p>\n",
        "</div>"
       ],
       "metadata": {},
       "output_type": "pyout",
       "prompt_number": 65,
       "text": [
        "                   name      median          mean          stdev\n",
        "0         hg38 coverage    6.761905      6.824766      11.949092\n",
        "1         AFRG coverage    6.841270      6.967052      20.607556\n",
        "2  hg38 mapping quality   59.007937     58.004993       3.941611\n",
        "3  AFRG mapping quality   59.016421     58.234615       3.394971\n",
        "4      hg38 insert size  274.024196  34284.382135  119795.392305\n",
        "5      AFRG insert size  273.829207  34587.716564  120707.050056\n",
        "6    hg38 edit distance    1.230458      1.381606       0.589403\n",
        "7    AFRG edit distance    0.752613      0.850316       0.455740\n",
        "8  hg38 alignment score   83.490930     82.608473       3.731469\n",
        "9  AFRG alignment score   85.921921     85.128779       3.380150\n",
        "\n",
        "[10 rows x 4 columns]"
       ]
      }
     ],
     "prompt_number": 65
    },
    {
     "cell_type": "code",
     "collapsed": false,
     "input": [
      "# now, let's do some plots of all the data by chromosome. we're definitely looking for moving averages\n",
      "\n",
      "'''\n",
      "inputs: \n",
      "x_coords\n",
      "    [chr1, 123456] x number of rows in input...\n",
      "y1\n",
      "    the common reference data. this will be in black\n",
      "y1_weights\n",
      "    weights for y1\n",
      "y2\n",
      "    the population specific ref data. this will be in red\n",
      "y2_weights\n",
      "    weights for y2\n",
      "trim_low\n",
      "    ignore datapoints on y1_weights and y2_weights below this value. default is no trimming\n",
      "trim_high\n",
      "    ignore datapoints on y1_weights and y2_weights above this value. default is no trimming\n",
      "avg_window\n",
      "    the moving average window for the plot\n",
      "\n",
      "'''\n",
      "\n",
      "'''\n",
      "outputs: \n",
      "    a plot of the weighted moving average by chromosome for y1 and y2\n",
      "\n",
      "'''\n",
      "\n",
      "from itertools import cycle\n",
      "\n",
      "def plot_by_chromosome(chrom, pos, y1, y1_weights, y2, y2_weights, trim_low=None, trim_high=None, avg_window=100):\n",
      "    xs = []\n",
      "    split_vals = []\n",
      "    label_pos = []\n",
      "    label_names = []\n",
      "    y1s = []\n",
      "    y2s = []\n",
      "    cs = []\n",
      "    last_x = 0\n",
      "    names=[\"chr1\",\"chr2\",\"chr3\",\"chr4\",\"chr5\",\"chr6\",\"chr7\",\"chr8\",\"chr9\",\"chr10\",\"chr11\",\"chr12\",\"chr13\",\"chr14\",\n",
      "           \"chr15\",\"chr16\",\"chr17\",\"chr18\",\"chr19\",\"chr20\",\"chr21\",\"chr22\",\"chrX\",\"chrY\"]\n",
      "    \n",
      "    xy = pd.DataFrame(zip(chrom, pos, y1, y2, y1_weights, y2_weights), columns=['chrom', 'pos', 'y1', 'y2', 'y1_weights', 'y2_weights'])\n",
      "    \n",
      "    if trim_low != None:\n",
      "        xy = xy[(xy['y1_weights'] >= trim_low) & (xy['y2_weights'] >= trim_low)]\n",
      "    if trim_high != None:\n",
      "        xy = xy[(xy['y1_weights'] <= trim_high) & (xy['y2_weights'] <= trim_high)]\n",
      "    \n",
      "    for name in names:\n",
      "        group = xy[xy['chrom']==name]\n",
      "        # now we take some moving averages and add them to the output\n",
      "        #color = colors.next()\n",
      "        xs.extend(group['pos'] + last_x)\n",
      "        y1s.extend(weighted_moving_average(group['y1'], group['y1_weights'], avg_window))\n",
      "        y2s.extend(weighted_moving_average(group['y2'], group['y2_weights'], avg_window))\n",
      "        #cs.extend([color] * len(group['pos']))\n",
      "        \n",
      "        # clean up\n",
      "        final_val = max(group['pos'] + last_x)\n",
      "        split_vals.append(final_val)\n",
      "        label_pos.append((last_x+final_val)/2)\n",
      "        label_names.append(name)\n",
      "        last_x = final_val\n",
      "    return xs, y1s, y2s, split_vals, label_names, label_pos"
     ],
     "language": "python",
     "metadata": {},
     "outputs": [],
     "prompt_number": 59
    },
    {
     "cell_type": "code",
     "collapsed": false,
     "input": [
      "def do_plot(xs, y1s, y2s, split_vals, label_names, label_pos, y_label, title, ylim=100, ymin=0):\n",
      "    f = plt.figure()\n",
      "    ax = f.add_axes((0.1, 0.09, 0.88, 0.85))\n",
      "    ax.plot(xs, y1s, 'k')\n",
      "    ax.plot(xs, y2s, 'r')\n",
      "    plt.axis('tight')\n",
      "    ax.vlines(split_vals,ymin,ylim,alpha=0.5)\n",
      "    plt.xticks(label_pos, label_names, rotation=-90, size=16)\n",
      "    plt.ylabel(y_label)\n",
      "    plt.ylim([ymin,ylim])\n",
      "    plt.title(title)\n",
      "    ax.set_yscale('log')\n",
      "    plt.show()"
     ],
     "language": "python",
     "metadata": {},
     "outputs": [],
     "prompt_number": 55
    },
    {
     "cell_type": "code",
     "collapsed": false,
     "input": [
      "ymin=70\n",
      "ylim=90\n",
      "# plot for alignment score\n",
      "#xs, y1s, y2s, split_vals, label_names, label_pos = plot_by_chromosome(compaln_master2['0'], compaln_master2['1'], compaln_master2['hg38_as'], \n",
      "#                   compaln_master2['hg38_cov'], compaln_master2['AFRG_as'], compaln_master2['AFRG_cov'], \n",
      "#                   trim_high=20)\n",
      "y_label = 'Alignment score'\n",
      "title = 'Alignment score comparison at variant sites between hg38 and AFRGh38'\n",
      "do_plot(xs, y1s, y2s, split_vals, label_names, label_pos, y_label, title, ylim, ymin)\n",
      "align_score_mov_avg = pd.DataFrame(zip(xs, y1s, y2s), columns=['global_pos', 'hg38_as', 'afg_as'])\n",
      "align_score_mov_avg.to_csv('/data/projects_gibbons/home/neffra/compaln_vcf_afrgh38_hg38_ASW_092214/mov_avg_as.arr', sep='\\t', index=None)"
     ],
     "language": "python",
     "metadata": {},
     "outputs": [
      {
       "metadata": {},
       "output_type": "display_data",
       "png": "[encoded data removed]",
       "text": [
        "<matplotlib.figure.Figure at 0xde70f50>"
       ]
      }
     ],
     "prompt_number": 74
    },
    {
     "cell_type": "code",
     "collapsed": false,
     "input": [
      "ymin=40\n",
      "ylim=65\n",
      "\n",
      "# plot for mapping quality\n",
      "xs, y1s, y2s, split_vals, label_names, label_pos = plot_by_chromosome(compaln_master2['0'], compaln_master2['1'], compaln_master2['hg38_mq'], \n",
      "                   compaln_master2['hg38_cov'], compaln_master2['AFRG_mq'], compaln_master2['AFRG_cov'], \n",
      "                   trim_high=20)\n",
      "y_label = 'Mapping quality'\n",
      "title = 'Mapping quality comparison at variant sites between hg38 and AFRGh38'\n",
      "do_plot(xs, y1s, y2s, split_vals, label_names, label_pos, y_label, title, ylim, ymin)\n",
      "mq_mov_avg = pd.DataFrame(zip(xs, y1s, y2s), columns=['global_pos', 'hg38_mq', 'afg_mq'])\n",
      "mq_mov_avg.to_csv('/data/projects_gibbons/home/neffra/compaln_vcf_afrgh38_hg38_ASW_092214/mov_avg_mq.arr', sep='\\t', index=None)"
     ],
     "language": "python",
     "metadata": {},
     "outputs": [
      {
       "output_type": "stream",
       "stream": "stdout",
       "text": [
        "\r",
        "[                  0%                  ]"
       ]
      },
      {
       "output_type": "stream",
       "stream": "stdout",
       "text": [
        " \r",
        "[*                 3%                  ]  3385 of 110497 complete Elapsed: 0.0 minutes\t Remaining: 0.8 minutes"
       ]
      },
      {
       "output_type": "stream",
       "stream": "stdout",
       "text": [
        " \r",
        "[**                6%                  ]  6767 of 110497 complete Elapsed: 0.1 minutes\t Remaining: 0.8 minutes"
       ]
      },
      {
       "output_type": "stream",
       "stream": "stdout",
       "text": [
        " \r",
        "[***               9%                  ]  10145 of 110497 complete Elapsed: 0.1 minutes\t Remaining: 0.7 minutes"
       ]
      },
      {
       "output_type": "stream",
       "stream": "stdout",
       "text": [
        " \r",
        "[*****            12%                  ]  13531 of 110497 complete Elapsed: 0.1 minutes\t Remaining: 0.7 minutes"
       ]
      },
      {
       "output_type": "stream",
       "stream": "stdout",
       "text": [
        " \r",
        "[******           15%                  ]  16902 of 110497 complete Elapsed: 0.1 minutes\t Remaining: 0.7 minutes"
       ]
      },
      {
       "output_type": "stream",
       "stream": "stdout",
       "text": [
        " \r",
        "[*******          18%                  ]  20287 of 110497 complete Elapsed: 0.2 minutes\t Remaining: 0.7 minutes"
       ]
      },
      {
       "output_type": "stream",
       "stream": "stdout",
       "text": [
        " \r",
        "[********         21%                  ]  23668 of 110497 complete Elapsed: 0.2 minutes\t Remaining: 0.6 minutes"
       ]
      },
      {
       "output_type": "stream",
       "stream": "stdout",
       "text": [
        " \r",
        "[*********        24%                  ]  27056 of 110497 complete Elapsed: 0.2 minutes\t Remaining: 0.6 minutes"
       ]
      },
      {
       "output_type": "stream",
       "stream": "stdout",
       "text": [
        " \r",
        "[***********      28%                  ]  30437 of 110497 complete Elapsed: 0.2 minutes\t Remaining: 0.6 minutes"
       ]
      },
      {
       "output_type": "stream",
       "stream": "stdout",
       "text": [
        " \r",
        "[************     31%                  ]  33824 of 110497 complete Elapsed: 0.3 minutes\t Remaining: 0.6 minutes"
       ]
      },
      {
       "output_type": "stream",
       "stream": "stdout",
       "text": [
        " \r",
        "[*************    34%                  ]  37181 of 110497 complete Elapsed: 0.3 minutes\t Remaining: 0.5 minutes"
       ]
      },
      {
       "output_type": "stream",
       "stream": "stdout",
       "text": [
        " \r",
        "[**************   37%                  ]  40567 of 110497 complete Elapsed: 0.3 minutes\t Remaining: 0.5 minutes"
       ]
      },
      {
       "output_type": "stream",
       "stream": "stdout",
       "text": [
        " \r",
        "[***************  40%                  ]  43945 of 110497 complete Elapsed: 0.3 minutes\t Remaining: 0.5 minutes"
       ]
      },
      {
       "output_type": "stream",
       "stream": "stdout",
       "text": [
        " \r",
        "[**************** 43%                  ]  47402 of 110497 complete Elapsed: 0.4 minutes\t Remaining: 0.5 minutes"
       ]
      },
      {
       "output_type": "stream",
       "stream": "stdout",
       "text": [
        " \r",
        "[*****************46%                  ]  50929 of 110497 complete Elapsed: 0.4 minutes\t Remaining: 0.4 minutes"
       ]
      },
      {
       "output_type": "stream",
       "stream": "stdout",
       "text": [
        " \r",
        "[*****************49%                  ]  54464 of 110497 complete Elapsed: 0.4 minutes\t Remaining: 0.4 minutes"
       ]
      },
      {
       "output_type": "stream",
       "stream": "stdout",
       "text": [
        " \r",
        "[*****************52%                  ]  57994 of 110497 complete Elapsed: 0.4 minutes\t Remaining: 0.4 minutes"
       ]
      },
      {
       "output_type": "stream",
       "stream": "stdout",
       "text": [
        " \r",
        "[*****************56%*                 ]  61531 of 110497 complete Elapsed: 0.5 minutes\t Remaining: 0.4 minutes"
       ]
      },
      {
       "output_type": "stream",
       "stream": "stdout",
       "text": [
        " \r",
        "[*****************59%**                ]  65058 of 110497 complete Elapsed: 0.5 minutes\t Remaining: 0.3 minutes"
       ]
      },
      {
       "output_type": "stream",
       "stream": "stdout",
       "text": [
        " \r",
        "[*****************62%****              ]  68592 of 110497 complete Elapsed: 0.5 minutes\t Remaining: 0.3 minutes"
       ]
      },
      {
       "output_type": "stream",
       "stream": "stdout",
       "text": [
        " \r",
        "[*****************65%*****             ]  72122 of 110497 complete Elapsed: 0.5 minutes\t Remaining: 0.3 minutes"
       ]
      },
      {
       "output_type": "stream",
       "stream": "stdout",
       "text": [
        " \r",
        "[*****************68%******            ]  75614 of 110497 complete Elapsed: 0.6 minutes\t Remaining: 0.3 minutes"
       ]
      },
      {
       "output_type": "stream",
       "stream": "stdout",
       "text": [
        " \r",
        "[*****************72%*******           ]  79143 of 110497 complete Elapsed: 0.6 minutes\t Remaining: 0.2 minutes"
       ]
      },
      {
       "output_type": "stream",
       "stream": "stdout",
       "text": [
        " \r",
        "[*****************75%*********         ]  82679 of 110497 complete Elapsed: 0.6 minutes\t Remaining: 0.2 minutes"
       ]
      },
      {
       "output_type": "stream",
       "stream": "stdout",
       "text": [
        " \r",
        "[*****************78%**********        ]  86208 of 110497 complete Elapsed: 0.6 minutes\t Remaining: 0.2 minutes"
       ]
      },
      {
       "output_type": "stream",
       "stream": "stdout",
       "text": [
        " \r",
        "[*****************81%***********       ]  89743 of 110497 complete Elapsed: 0.7 minutes\t Remaining: 0.2 minutes"
       ]
      },
      {
       "output_type": "stream",
       "stream": "stdout",
       "text": [
        " \r",
        "[*****************84%************      ]  93267 of 110497 complete Elapsed: 0.7 minutes\t Remaining: 0.1 minutes"
       ]
      },
      {
       "output_type": "stream",
       "stream": "stdout",
       "text": [
        " \r",
        "[*****************88%*************     ]  96803 of 110497 complete Elapsed: 0.7 minutes\t Remaining: 0.1 minutes"
       ]
      },
      {
       "output_type": "stream",
       "stream": "stdout",
       "text": [
        " \r",
        "[*****************91%***************   ]  100332 of 110497 complete Elapsed: 0.7 minutes\t Remaining: 0.1 minutes"
       ]
      },
      {
       "output_type": "stream",
       "stream": "stdout",
       "text": [
        " \r",
        "[*****************94%****************  ]  103868 of 110497 complete Elapsed: 0.8 minutes\t Remaining: 0.0 minutes"
       ]
      },
      {
       "output_type": "stream",
       "stream": "stdout",
       "text": [
        " \r",
        "[                  0%                  ]"
       ]
      },
      {
       "output_type": "stream",
       "stream": "stdout",
       "text": [
        " \r",
        "[*                 3%                  ]  3557 of 110497 complete Elapsed: 0.0 minutes\t Remaining: 0.8 minutes"
       ]
      },
      {
       "output_type": "stream",
       "stream": "stdout",
       "text": [
        " \r",
        "[**                6%                  ]  7098 of 110497 complete Elapsed: 0.1 minutes\t Remaining: 0.7 minutes"
       ]
      },
      {
       "output_type": "stream",
       "stream": "stdout",
       "text": [
        " \r",
        "[****             10%                  ]  10645 of 110497 complete Elapsed: 0.1 minutes\t Remaining: 0.7 minutes"
       ]
      },
      {
       "output_type": "stream",
       "stream": "stdout",
       "text": [
        " \r",
        "[*****            13%                  ]  14161 of 110497 complete Elapsed: 0.1 minutes\t Remaining: 0.7 minutes"
       ]
      },
      {
       "output_type": "stream",
       "stream": "stdout",
       "text": [
        " \r",
        "[******           16%                  ]  17683 of 110497 complete Elapsed: 0.1 minutes\t Remaining: 0.7 minutes"
       ]
      },
      {
       "output_type": "stream",
       "stream": "stdout",
       "text": [
        " \r",
        "[*******          19%                  ]  21224 of 110497 complete Elapsed: 0.2 minutes\t Remaining: 0.6 minutes"
       ]
      },
      {
       "output_type": "stream",
       "stream": "stdout",
       "text": [
        " \r",
        "[********         22%                  ]  24769 of 110497 complete Elapsed: 0.2 minutes\t Remaining: 0.6 minutes"
       ]
      },
      {
       "output_type": "stream",
       "stream": "stdout",
       "text": [
        " \r",
        "[**********       26%                  ]  28307 of 110497 complete Elapsed: 0.2 minutes\t Remaining: 0.6 minutes"
       ]
      },
      {
       "output_type": "stream",
       "stream": "stdout",
       "text": [
        " \r",
        "[***********      29%                  ]  31855 of 110497 complete Elapsed: 0.2 minutes\t Remaining: 0.6 minutes"
       ]
      },
      {
       "output_type": "stream",
       "stream": "stdout",
       "text": [
        " \r",
        "[************     32%                  ]  35397 of 110497 complete Elapsed: 0.3 minutes\t Remaining: 0.5 minutes"
       ]
      },
      {
       "output_type": "stream",
       "stream": "stdout",
       "text": [
        " \r",
        "[*************    35%                  ]  38945 of 110497 complete Elapsed: 0.3 minutes\t Remaining: 0.5 minutes"
       ]
      },
      {
       "output_type": "stream",
       "stream": "stdout",
       "text": [
        " \r",
        "[**************   38%                  ]  42490 of 110497 complete Elapsed: 0.3 minutes\t Remaining: 0.5 minutes"
       ]
      },
      {
       "output_type": "stream",
       "stream": "stdout",
       "text": [
        " \r",
        "[**************** 42%                  ]  46042 of 110497 complete Elapsed: 0.3 minutes\t Remaining: 0.5 minutes"
       ]
      },
      {
       "output_type": "stream",
       "stream": "stdout",
       "text": [
        " \r",
        "[*****************45%                  ]  49587 of 110497 complete Elapsed: 0.4 minutes\t Remaining: 0.4 minutes"
       ]
      },
      {
       "output_type": "stream",
       "stream": "stdout",
       "text": [
        " \r",
        "[*****************48%                  ]  53136 of 110497 complete Elapsed: 0.4 minutes\t Remaining: 0.4 minutes"
       ]
      },
      {
       "output_type": "stream",
       "stream": "stdout",
       "text": [
        " \r",
        "[*****************51%                  ]  56681 of 110497 complete Elapsed: 0.4 minutes\t Remaining: 0.4 minutes"
       ]
      },
      {
       "output_type": "stream",
       "stream": "stdout",
       "text": [
        " \r",
        "[*****************55%*                 ]  60231 of 110497 complete Elapsed: 0.4 minutes\t Remaining: 0.4 minutes"
       ]
      },
      {
       "output_type": "stream",
       "stream": "stdout",
       "text": [
        " \r",
        "[*****************58%**                ]  63776 of 110497 complete Elapsed: 0.5 minutes\t Remaining: 0.3 minutes"
       ]
      },
      {
       "output_type": "stream",
       "stream": "stdout",
       "text": [
        " \r",
        "[*****************61%***               ]  67328 of 110497 complete Elapsed: 0.5 minutes\t Remaining: 0.3 minutes"
       ]
      },
      {
       "output_type": "stream",
       "stream": "stdout",
       "text": [
        " \r",
        "[*****************64%****              ]  70874 of 110497 complete Elapsed: 0.5 minutes\t Remaining: 0.3 minutes"
       ]
      },
      {
       "output_type": "stream",
       "stream": "stdout",
       "text": [
        " \r",
        "[*****************67%*****             ]  74423 of 110497 complete Elapsed: 0.5 minutes\t Remaining: 0.3 minutes"
       ]
      },
      {
       "output_type": "stream",
       "stream": "stdout",
       "text": [
        " \r",
        "[*****************71%*******           ]  77967 of 110497 complete Elapsed: 0.6 minutes\t Remaining: 0.2 minutes"
       ]
      },
      {
       "output_type": "stream",
       "stream": "stdout",
       "text": [
        " \r",
        "[*****************74%********          ]  81520 of 110497 complete Elapsed: 0.6 minutes\t Remaining: 0.2 minutes"
       ]
      },
      {
       "output_type": "stream",
       "stream": "stdout",
       "text": [
        " \r",
        "[*****************77%*********         ]  85067 of 110497 complete Elapsed: 0.6 minutes\t Remaining: 0.2 minutes"
       ]
      },
      {
       "output_type": "stream",
       "stream": "stdout",
       "text": [
        " \r",
        "[*****************80%**********        ]  88620 of 110497 complete Elapsed: 0.6 minutes\t Remaining: 0.2 minutes"
       ]
      },
      {
       "output_type": "stream",
       "stream": "stdout",
       "text": [
        " \r",
        "[*****************83%************      ]  92165 of 110497 complete Elapsed: 0.7 minutes\t Remaining: 0.1 minutes"
       ]
      },
      {
       "output_type": "stream",
       "stream": "stdout",
       "text": [
        " \r",
        "[*****************87%*************     ]  95715 of 110497 complete Elapsed: 0.7 minutes\t Remaining: 0.1 minutes"
       ]
      },
      {
       "output_type": "stream",
       "stream": "stdout",
       "text": [
        " \r",
        "[*****************90%**************    ]  99260 of 110497 complete Elapsed: 0.7 minutes\t Remaining: 0.1 minutes"
       ]
      },
      {
       "output_type": "stream",
       "stream": "stdout",
       "text": [
        " \r",
        "[*****************93%***************   ]  102813 of 110497 complete Elapsed: 0.7 minutes\t Remaining: 0.1 minutes"
       ]
      },
      {
       "output_type": "stream",
       "stream": "stdout",
       "text": [
        " \r",
        "[*****************96%****************  ]  106359 of 110497 complete Elapsed: 0.8 minutes\t Remaining: 0.0 minutes"
       ]
      },
      {
       "output_type": "stream",
       "stream": "stdout",
       "text": [
        " \r",
        "[                  0%                  ]"
       ]
      },
      {
       "output_type": "stream",
       "stream": "stdout",
       "text": [
        " \r",
        "[*                 3%                  ]  3538 of 122731 complete Elapsed: 0.0 minutes\t Remaining: 0.8 minutes"
       ]
      },
      {
       "output_type": "stream",
       "stream": "stdout",
       "text": [
        " \r",
        "[**                6%                  ]  7077 of 122731 complete Elapsed: 0.1 minutes\t Remaining: 0.8 minutes"
       ]
      },
      {
       "output_type": "stream",
       "stream": "stdout",
       "text": [
        " \r",
        "[***               9%                  ]  10614 of 122731 complete Elapsed: 0.1 minutes\t Remaining: 0.8 minutes"
       ]
      },
      {
       "output_type": "stream",
       "stream": "stdout",
       "text": [
        " \r",
        "[*****            12%                  ]  14156 of 122731 complete Elapsed: 0.1 minutes\t Remaining: 0.8 minutes"
       ]
      },
      {
       "output_type": "stream",
       "stream": "stdout",
       "text": [
        " \r",
        "[*****            14%                  ]  17694 of 122731 complete Elapsed: 0.1 minutes\t Remaining: 0.7 minutes"
       ]
      },
      {
       "output_type": "stream",
       "stream": "stdout",
       "text": [
        " \r",
        "[******           17%                  ]  21238 of 122731 complete Elapsed: 0.2 minutes\t Remaining: 0.7 minutes"
       ]
      },
      {
       "output_type": "stream",
       "stream": "stdout",
       "text": [
        " \r",
        "[********         20%                  ]  24776 of 122731 complete Elapsed: 0.2 minutes\t Remaining: 0.7 minutes"
       ]
      },
      {
       "output_type": "stream",
       "stream": "stdout",
       "text": [
        " \r",
        "[*********        23%                  ]  28321 of 122731 complete Elapsed: 0.2 minutes\t Remaining: 0.7 minutes"
       ]
      },
      {
       "output_type": "stream",
       "stream": "stdout",
       "text": [
        " \r",
        "[**********       26%                  ]  31859 of 122731 complete Elapsed: 0.2 minutes\t Remaining: 0.6 minutes"
       ]
      },
      {
       "output_type": "stream",
       "stream": "stdout",
       "text": [
        " \r",
        "[***********      29%                  ]  35400 of 122731 complete Elapsed: 0.3 minutes\t Remaining: 0.6 minutes"
       ]
      },
      {
       "output_type": "stream",
       "stream": "stdout",
       "text": [
        " \r",
        "[************     32%                  ]  38937 of 122731 complete Elapsed: 0.3 minutes\t Remaining: 0.6 minutes"
       ]
      },
      {
       "output_type": "stream",
       "stream": "stdout",
       "text": [
        " \r",
        "[*************    35%                  ]  42479 of 122731 complete Elapsed: 0.3 minutes\t Remaining: 0.6 minutes"
       ]
      },
      {
       "output_type": "stream",
       "stream": "stdout",
       "text": [
        " \r",
        "[**************   37%                  ]  46016 of 122731 complete Elapsed: 0.3 minutes\t Remaining: 0.5 minutes"
       ]
      },
      {
       "output_type": "stream",
       "stream": "stdout",
       "text": [
        " \r",
        "[***************  40%                  ]  49559 of 122731 complete Elapsed: 0.4 minutes\t Remaining: 0.5 minutes"
       ]
      },
      {
       "output_type": "stream",
       "stream": "stdout",
       "text": [
        " \r",
        "[**************** 43%                  ]  53096 of 122731 complete Elapsed: 0.4 minutes\t Remaining: 0.5 minutes"
       ]
      },
      {
       "output_type": "stream",
       "stream": "stdout",
       "text": [
        " \r",
        "[*****************46%                  ]  56637 of 122731 complete Elapsed: 0.4 minutes\t Remaining: 0.5 minutes"
       ]
      },
      {
       "output_type": "stream",
       "stream": "stdout",
       "text": [
        " \r",
        "[*****************49%                  ]  60175 of 122731 complete Elapsed: 0.4 minutes\t Remaining: 0.4 minutes"
       ]
      },
      {
       "output_type": "stream",
       "stream": "stdout",
       "text": [
        " \r",
        "[*****************52%                  ]  63718 of 122731 complete Elapsed: 0.5 minutes\t Remaining: 0.4 minutes"
       ]
      },
      {
       "output_type": "stream",
       "stream": "stdout",
       "text": [
        " \r",
        "[*****************55%*                 ]  67254 of 122731 complete Elapsed: 0.5 minutes\t Remaining: 0.4 minutes"
       ]
      },
      {
       "output_type": "stream",
       "stream": "stdout",
       "text": [
        " \r",
        "[*****************58%**                ]  70798 of 122731 complete Elapsed: 0.5 minutes\t Remaining: 0.4 minutes"
       ]
      },
      {
       "output_type": "stream",
       "stream": "stdout",
       "text": [
        " \r",
        "[*****************61%***               ]  74336 of 122731 complete Elapsed: 0.5 minutes\t Remaining: 0.3 minutes"
       ]
      },
      {
       "output_type": "stream",
       "stream": "stdout",
       "text": [
        " \r",
        "[*****************63%****              ]  77879 of 122731 complete Elapsed: 0.6 minutes\t Remaining: 0.3 minutes"
       ]
      },
      {
       "output_type": "stream",
       "stream": "stdout",
       "text": [
        " \r",
        "[*****************66%*****             ]  81417 of 122731 complete Elapsed: 0.6 minutes\t Remaining: 0.3 minutes"
       ]
      },
      {
       "output_type": "stream",
       "stream": "stdout",
       "text": [
        " \r",
        "[*****************69%******            ]  84958 of 122731 complete Elapsed: 0.6 minutes\t Remaining: 0.3 minutes"
       ]
      },
      {
       "output_type": "stream",
       "stream": "stdout",
       "text": [
        " \r",
        "[*****************72%*******           ]  88495 of 122731 complete Elapsed: 0.6 minutes\t Remaining: 0.2 minutes"
       ]
      },
      {
       "output_type": "stream",
       "stream": "stdout",
       "text": [
        " \r",
        "[*****************75%*********         ]  92039 of 122731 complete Elapsed: 0.7 minutes\t Remaining: 0.2 minutes"
       ]
      },
      {
       "output_type": "stream",
       "stream": "stdout",
       "text": [
        " \r",
        "[*****************78%**********        ]  95575 of 122731 complete Elapsed: 0.7 minutes\t Remaining: 0.2 minutes"
       ]
      },
      {
       "output_type": "stream",
       "stream": "stdout",
       "text": [
        " \r",
        "[*****************81%***********       ]  99119 of 122731 complete Elapsed: 0.7 minutes\t Remaining: 0.2 minutes"
       ]
      },
      {
       "output_type": "stream",
       "stream": "stdout",
       "text": [
        " \r",
        "[*****************84%************      ]  102656 of 122731 complete Elapsed: 0.7 minutes\t Remaining: 0.1 minutes"
       ]
      },
      {
       "output_type": "stream",
       "stream": "stdout",
       "text": [
        " \r",
        "[*****************87%*************     ]  106199 of 122731 complete Elapsed: 0.8 minutes\t Remaining: 0.1 minutes"
       ]
      },
      {
       "output_type": "stream",
       "stream": "stdout",
       "text": [
        " \r",
        "[*****************89%**************    ]  109736 of 122731 complete Elapsed: 0.8 minutes\t Remaining: 0.1 minutes"
       ]
      },
      {
       "output_type": "stream",
       "stream": "stdout",
       "text": [
        " \r",
        "[*****************92%***************   ]  113275 of 122731 complete Elapsed: 0.8 minutes\t Remaining: 0.1 minutes"
       ]
      },
      {
       "output_type": "stream",
       "stream": "stdout",
       "text": [
        " \r",
        "[*****************95%****************  ]  116813 of 122731 complete Elapsed: 0.8 minutes\t Remaining: 0.0 minutes"
       ]
      },
      {
       "output_type": "stream",
       "stream": "stdout",
       "text": [
        " \r",
        "[                  0%                  ]"
       ]
      },
      {
       "output_type": "stream",
       "stream": "stdout",
       "text": [
        " \r",
        "[*                 3%                  ]  3529 of 122731 complete Elapsed: 0.0 minutes\t Remaining: 0.8 minutes"
       ]
      },
      {
       "output_type": "stream",
       "stream": "stdout",
       "text": [
        " \r",
        "[**                6%                  ]  6934 of 122731 complete Elapsed: 0.1 minutes\t Remaining: 0.8 minutes"
       ]
      },
      {
       "output_type": "stream",
       "stream": "stdout",
       "text": [
        " \r",
        "[***               8%                  ]  10333 of 122731 complete Elapsed: 0.1 minutes\t Remaining: 0.8 minutes"
       ]
      },
      {
       "output_type": "stream",
       "stream": "stdout",
       "text": [
        " \r",
        "[****             11%                  ]  13738 of 122731 complete Elapsed: 0.1 minutes\t Remaining: 0.8 minutes"
       ]
      },
      {
       "output_type": "stream",
       "stream": "stdout",
       "text": [
        " \r",
        "[*****            14%                  ]  17137 of 122731 complete Elapsed: 0.1 minutes\t Remaining: 0.8 minutes"
       ]
      },
      {
       "output_type": "stream",
       "stream": "stdout",
       "text": [
        " \r",
        "[******           17%                  ]  20539 of 122731 complete Elapsed: 0.2 minutes\t Remaining: 0.7 minutes"
       ]
      },
      {
       "output_type": "stream",
       "stream": "stdout",
       "text": [
        " \r",
        "[********         20%                  ]  23938 of 122731 complete Elapsed: 0.2 minutes\t Remaining: 0.7 minutes"
       ]
      },
      {
       "output_type": "stream",
       "stream": "stdout",
       "text": [
        " \r",
        "[********         22%                  ]  27342 of 122731 complete Elapsed: 0.2 minutes\t Remaining: 0.7 minutes"
       ]
      },
      {
       "output_type": "stream",
       "stream": "stdout",
       "text": [
        " \r",
        "[**********       25%                  ]  30740 of 122731 complete Elapsed: 0.2 minutes\t Remaining: 0.7 minutes"
       ]
      },
      {
       "output_type": "stream",
       "stream": "stdout",
       "text": [
        " \r",
        "[***********      28%                  ]  34144 of 122731 complete Elapsed: 0.3 minutes\t Remaining: 0.6 minutes"
       ]
      },
      {
       "output_type": "stream",
       "stream": "stdout",
       "text": [
        " \r",
        "[************     31%                  ]  37541 of 122731 complete Elapsed: 0.3 minutes\t Remaining: 0.6 minutes"
       ]
      },
      {
       "output_type": "stream",
       "stream": "stdout",
       "text": [
        " \r",
        "[*************    33%                  ]  40945 of 122731 complete Elapsed: 0.3 minutes\t Remaining: 0.6 minutes"
       ]
      },
      {
       "output_type": "stream",
       "stream": "stdout",
       "text": [
        " \r",
        "[**************   36%                  ]  44343 of 122731 complete Elapsed: 0.3 minutes\t Remaining: 0.6 minutes"
       ]
      },
      {
       "output_type": "stream",
       "stream": "stdout",
       "text": [
        " \r",
        "[***************  39%                  ]  47746 of 122731 complete Elapsed: 0.4 minutes\t Remaining: 0.5 minutes"
       ]
      },
      {
       "output_type": "stream",
       "stream": "stdout",
       "text": [
        " \r",
        "[**************** 42%                  ]  51144 of 122731 complete Elapsed: 0.4 minutes\t Remaining: 0.5 minutes"
       ]
      },
      {
       "output_type": "stream",
       "stream": "stdout",
       "text": [
        " \r",
        "[*****************44%                  ]  54548 of 122731 complete Elapsed: 0.4 minutes\t Remaining: 0.5 minutes"
       ]
      },
      {
       "output_type": "stream",
       "stream": "stdout",
       "text": [
        " \r",
        "[*****************47%                  ]  57945 of 122731 complete Elapsed: 0.4 minutes\t Remaining: 0.5 minutes"
       ]
      },
      {
       "output_type": "stream",
       "stream": "stdout",
       "text": [
        " \r",
        "[*****************50%                  ]  61349 of 122731 complete Elapsed: 0.5 minutes\t Remaining: 0.5 minutes"
       ]
      },
      {
       "output_type": "stream",
       "stream": "stdout",
       "text": [
        " \r",
        "[*****************53%                  ]  64747 of 122731 complete Elapsed: 0.5 minutes\t Remaining: 0.4 minutes"
       ]
      },
      {
       "output_type": "stream",
       "stream": "stdout",
       "text": [
        " \r",
        "[*****************56%*                 ]  68150 of 122731 complete Elapsed: 0.5 minutes\t Remaining: 0.4 minutes"
       ]
      },
      {
       "output_type": "stream",
       "stream": "stdout",
       "text": [
        " \r",
        "[*****************58%**                ]  71548 of 122731 complete Elapsed: 0.5 minutes\t Remaining: 0.4 minutes"
       ]
      },
      {
       "output_type": "stream",
       "stream": "stdout",
       "text": [
        " \r",
        "[*****************61%***               ]  74952 of 122731 complete Elapsed: 0.6 minutes\t Remaining: 0.4 minutes"
       ]
      },
      {
       "output_type": "stream",
       "stream": "stdout",
       "text": [
        " \r",
        "[*****************64%****              ]  78349 of 122731 complete Elapsed: 0.6 minutes\t Remaining: 0.3 minutes"
       ]
      },
      {
       "output_type": "stream",
       "stream": "stdout",
       "text": [
        " \r",
        "[*****************67%*****             ]  81753 of 122731 complete Elapsed: 0.6 minutes\t Remaining: 0.3 minutes"
       ]
      },
      {
       "output_type": "stream",
       "stream": "stdout",
       "text": [
        " \r",
        "[*****************69%******            ]  85150 of 122731 complete Elapsed: 0.6 minutes\t Remaining: 0.3 minutes"
       ]
      },
      {
       "output_type": "stream",
       "stream": "stdout",
       "text": [
        " \r",
        "[*****************72%*******           ]  88555 of 122731 complete Elapsed: 0.7 minutes\t Remaining: 0.3 minutes"
       ]
      },
      {
       "output_type": "stream",
       "stream": "stdout",
       "text": [
        " \r",
        "[*****************75%*********         ]  91952 of 122731 complete Elapsed: 0.7 minutes\t Remaining: 0.2 minutes"
       ]
      },
      {
       "output_type": "stream",
       "stream": "stdout",
       "text": [
        " \r",
        "[*****************78%**********        ]  95353 of 122731 complete Elapsed: 0.7 minutes\t Remaining: 0.2 minutes"
       ]
      },
      {
       "output_type": "stream",
       "stream": "stdout",
       "text": [
        " \r",
        "[*****************80%**********        ]  98747 of 122731 complete Elapsed: 0.7 minutes\t Remaining: 0.2 minutes"
       ]
      },
      {
       "output_type": "stream",
       "stream": "stdout",
       "text": [
        " \r",
        "[*****************83%************      ]  102151 of 122731 complete Elapsed: 0.8 minutes\t Remaining: 0.2 minutes"
       ]
      },
      {
       "output_type": "stream",
       "stream": "stdout",
       "text": [
        " \r",
        "[*****************86%*************     ]  105549 of 122731 complete Elapsed: 0.8 minutes\t Remaining: 0.1 minutes"
       ]
      },
      {
       "output_type": "stream",
       "stream": "stdout",
       "text": [
        " \r",
        "[*****************89%**************    ]  108953 of 122731 complete Elapsed: 0.8 minutes\t Remaining: 0.1 minutes"
       ]
      },
      {
       "output_type": "stream",
       "stream": "stdout",
       "text": [
        " \r",
        "[*****************92%***************   ]  112351 of 122731 complete Elapsed: 0.8 minutes\t Remaining: 0.1 minutes"
       ]
      },
      {
       "output_type": "stream",
       "stream": "stdout",
       "text": [
        " \r",
        "[*****************94%****************  ]  115757 of 122731 complete Elapsed: 0.9 minutes\t Remaining: 0.1 minutes"
       ]
      },
      {
       "output_type": "stream",
       "stream": "stdout",
       "text": [
        " \r",
        "[*****************97%***************** ]  119153 of 122731 complete Elapsed: 0.9 minutes\t Remaining: 0.0 minutes"
       ]
      },
      {
       "output_type": "stream",
       "stream": "stdout",
       "text": [
        " \r",
        "[                  0%                  ]"
       ]
      },
      {
       "output_type": "stream",
       "stream": "stdout",
       "text": [
        " \r",
        "[*                 3%                  ]  3398 of 105653 complete Elapsed: 0.0 minutes\t Remaining: 0.8 minutes"
       ]
      },
      {
       "output_type": "stream",
       "stream": "stdout",
       "text": [
        " \r",
        "[**                6%                  ]  6799 of 105653 complete Elapsed: 0.1 minutes\t Remaining: 0.7 minutes"
       ]
      },
      {
       "output_type": "stream",
       "stream": "stdout",
       "text": [
        " \r",
        "[****             10%                  ]  10193 of 105653 complete Elapsed: 0.1 minutes\t Remaining: 0.7 minutes"
       ]
      },
      {
       "output_type": "stream",
       "stream": "stdout",
       "text": [
        " \r",
        "[*****            13%                  ]  13592 of 105653 complete Elapsed: 0.1 minutes\t Remaining: 0.7 minutes"
       ]
      },
      {
       "output_type": "stream",
       "stream": "stdout",
       "text": [
        " \r",
        "[******           16%                  ]  16985 of 105653 complete Elapsed: 0.1 minutes\t Remaining: 0.7 minutes"
       ]
      },
      {
       "output_type": "stream",
       "stream": "stdout",
       "text": [
        " \r",
        "[*******          19%                  ]  20387 of 105653 complete Elapsed: 0.2 minutes\t Remaining: 0.6 minutes"
       ]
      },
      {
       "output_type": "stream",
       "stream": "stdout",
       "text": [
        " \r",
        "[*********        23%                  ]  23781 of 105653 complete Elapsed: 0.2 minutes\t Remaining: 0.6 minutes"
       ]
      },
      {
       "output_type": "stream",
       "stream": "stdout",
       "text": [
        " \r",
        "[**********       26%                  ]  27183 of 105653 complete Elapsed: 0.2 minutes\t Remaining: 0.6 minutes"
       ]
      },
      {
       "output_type": "stream",
       "stream": "stdout",
       "text": [
        " \r",
        "[***********      29%                  ]  30580 of 105653 complete Elapsed: 0.2 minutes\t Remaining: 0.6 minutes"
       ]
      },
      {
       "output_type": "stream",
       "stream": "stdout",
       "text": [
        " \r",
        "[************     32%                  ]  33980 of 105653 complete Elapsed: 0.3 minutes\t Remaining: 0.5 minutes"
       ]
      },
      {
       "output_type": "stream",
       "stream": "stdout",
       "text": [
        " \r",
        "[*************    35%                  ]  37373 of 105653 complete Elapsed: 0.3 minutes\t Remaining: 0.5 minutes"
       ]
      },
      {
       "output_type": "stream",
       "stream": "stdout",
       "text": [
        " \r",
        "[***************  39%                  ]  40775 of 105653 complete Elapsed: 0.3 minutes\t Remaining: 0.5 minutes"
       ]
      },
      {
       "output_type": "stream",
       "stream": "stdout",
       "text": [
        " \r",
        "[**************** 42%                  ]  44170 of 105653 complete Elapsed: 0.3 minutes\t Remaining: 0.5 minutes"
       ]
      },
      {
       "output_type": "stream",
       "stream": "stdout",
       "text": [
        " \r",
        "[*****************45%                  ]  47573 of 105653 complete Elapsed: 0.4 minutes\t Remaining: 0.4 minutes"
       ]
      },
      {
       "output_type": "stream",
       "stream": "stdout",
       "text": [
        " \r",
        "[*****************48%                  ]  50968 of 105653 complete Elapsed: 0.4 minutes\t Remaining: 0.4 minutes"
       ]
      },
      {
       "output_type": "stream",
       "stream": "stdout",
       "text": [
        " \r",
        "[*****************51%                  ]  54370 of 105653 complete Elapsed: 0.4 minutes\t Remaining: 0.4 minutes"
       ]
      },
      {
       "output_type": "stream",
       "stream": "stdout",
       "text": [
        " \r",
        "[*****************55%*                 ]  57766 of 105653 complete Elapsed: 0.4 minutes\t Remaining: 0.4 minutes"
       ]
      },
      {
       "output_type": "stream",
       "stream": "stdout",
       "text": [
        " \r",
        "[*****************58%**                ]  61167 of 105653 complete Elapsed: 0.5 minutes\t Remaining: 0.3 minutes"
       ]
      },
      {
       "output_type": "stream",
       "stream": "stdout",
       "text": [
        " \r",
        "[*****************61%***               ]  64562 of 105653 complete Elapsed: 0.5 minutes\t Remaining: 0.3 minutes"
       ]
      },
      {
       "output_type": "stream",
       "stream": "stdout",
       "text": [
        " \r",
        "[*****************64%****              ]  67963 of 105653 complete Elapsed: 0.5 minutes\t Remaining: 0.3 minutes"
       ]
      },
      {
       "output_type": "stream",
       "stream": "stdout",
       "text": [
        " \r",
        "[*****************68%******            ]  71360 of 105653 complete Elapsed: 0.5 minutes\t Remaining: 0.3 minutes"
       ]
      },
      {
       "output_type": "stream",
       "stream": "stdout",
       "text": [
        " \r",
        "[*****************71%*******           ]  74760 of 105653 complete Elapsed: 0.6 minutes\t Remaining: 0.2 minutes"
       ]
      },
      {
       "output_type": "stream",
       "stream": "stdout",
       "text": [
        " \r",
        "[*****************74%********          ]  78156 of 105653 complete Elapsed: 0.6 minutes\t Remaining: 0.2 minutes"
       ]
      },
      {
       "output_type": "stream",
       "stream": "stdout",
       "text": [
        " \r",
        "[*****************77%*********         ]  81558 of 105653 complete Elapsed: 0.6 minutes\t Remaining: 0.2 minutes"
       ]
      },
      {
       "output_type": "stream",
       "stream": "stdout",
       "text": [
        " \r",
        "[*****************80%**********        ]  84953 of 105653 complete Elapsed: 0.6 minutes\t Remaining: 0.2 minutes"
       ]
      },
      {
       "output_type": "stream",
       "stream": "stdout",
       "text": [
        " \r",
        "[*****************84%************      ]  88356 of 105653 complete Elapsed: 0.7 minutes\t Remaining: 0.1 minutes"
       ]
      },
      {
       "output_type": "stream",
       "stream": "stdout",
       "text": [
        " \r",
        "[*****************87%*************     ]  91749 of 105653 complete Elapsed: 0.7 minutes\t Remaining: 0.1 minutes"
       ]
      },
      {
       "output_type": "stream",
       "stream": "stdout",
       "text": [
        " \r",
        "[*****************90%**************    ]  95152 of 105653 complete Elapsed: 0.7 minutes\t Remaining: 0.1 minutes"
       ]
      },
      {
       "output_type": "stream",
       "stream": "stdout",
       "text": [
        " \r",
        "[*****************93%***************   ]  98548 of 105653 complete Elapsed: 0.7 minutes\t Remaining: 0.1 minutes"
       ]
      },
      {
       "output_type": "stream",
       "stream": "stdout",
       "text": [
        " \r",
        "[*****************96%****************  ]  101950 of 105653 complete Elapsed: 0.8 minutes\t Remaining: 0.0 minutes"
       ]
      },
      {
       "output_type": "stream",
       "stream": "stdout",
       "text": [
        " \r",
        "[                  0%                  ]"
       ]
      },
      {
       "output_type": "stream",
       "stream": "stdout",
       "text": [
        " \r",
        "[*                 3%                  ]  3413 of 105653 complete Elapsed: 0.0 minutes\t Remaining: 0.7 minutes"
       ]
      },
      {
       "output_type": "stream",
       "stream": "stdout",
       "text": [
        " \r",
        "[**                6%                  ]  6812 of 105653 complete Elapsed: 0.1 minutes\t Remaining: 0.7 minutes"
       ]
      },
      {
       "output_type": "stream",
       "stream": "stdout",
       "text": [
        " \r",
        "[****             10%                  ]  10218 of 105653 complete Elapsed: 0.1 minutes\t Remaining: 0.7 minutes"
       ]
      },
      {
       "output_type": "stream",
       "stream": "stdout",
       "text": [
        " \r",
        "[*****            13%                  ]  13618 of 105653 complete Elapsed: 0.1 minutes\t Remaining: 0.7 minutes"
       ]
      },
      {
       "output_type": "stream",
       "stream": "stdout",
       "text": [
        " \r",
        "[******           16%                  ]  17026 of 105653 complete Elapsed: 0.1 minutes\t Remaining: 0.7 minutes"
       ]
      },
      {
       "output_type": "stream",
       "stream": "stdout",
       "text": [
        " \r",
        "[*******          19%                  ]  20426 of 105653 complete Elapsed: 0.2 minutes\t Remaining: 0.6 minutes"
       ]
      },
      {
       "output_type": "stream",
       "stream": "stdout",
       "text": [
        " \r",
        "[*********        23%                  ]  23833 of 105653 complete Elapsed: 0.2 minutes\t Remaining: 0.6 minutes"
       ]
      },
      {
       "output_type": "stream",
       "stream": "stdout",
       "text": [
        " \r",
        "[**********       26%                  ]  27230 of 105653 complete Elapsed: 0.2 minutes\t Remaining: 0.6 minutes"
       ]
      },
      {
       "output_type": "stream",
       "stream": "stdout",
       "text": [
        " \r",
        "[***********      29%                  ]  30637 of 105653 complete Elapsed: 0.2 minutes\t Remaining: 0.6 minutes"
       ]
      },
      {
       "output_type": "stream",
       "stream": "stdout",
       "text": [
        " \r",
        "[************     32%                  ]  34036 of 105653 complete Elapsed: 0.3 minutes\t Remaining: 0.5 minutes"
       ]
      },
      {
       "output_type": "stream",
       "stream": "stdout",
       "text": [
        " \r",
        "[*************    35%                  ]  37443 of 105653 complete Elapsed: 0.3 minutes\t Remaining: 0.5 minutes"
       ]
      },
      {
       "output_type": "stream",
       "stream": "stdout",
       "text": [
        " \r",
        "[***************  39%                  ]  40843 of 105653 complete Elapsed: 0.3 minutes\t Remaining: 0.5 minutes"
       ]
      },
      {
       "output_type": "stream",
       "stream": "stdout",
       "text": [
        " \r",
        "[**************** 42%                  ]  44251 of 105653 complete Elapsed: 0.3 minutes\t Remaining: 0.5 minutes"
       ]
      },
      {
       "output_type": "stream",
       "stream": "stdout",
       "text": [
        " \r",
        "[*****************45%                  ]  47651 of 105653 complete Elapsed: 0.4 minutes\t Remaining: 0.4 minutes"
       ]
      },
      {
       "output_type": "stream",
       "stream": "stdout",
       "text": [
        " \r",
        "[*****************48%                  ]  51057 of 105653 complete Elapsed: 0.4 minutes\t Remaining: 0.4 minutes"
       ]
      },
      {
       "output_type": "stream",
       "stream": "stdout",
       "text": [
        " \r",
        "[*****************52%                  ]  54456 of 105653 complete Elapsed: 0.4 minutes\t Remaining: 0.4 minutes"
       ]
      },
      {
       "output_type": "stream",
       "stream": "stdout",
       "text": [
        " \r",
        "[*****************55%*                 ]  57861 of 105653 complete Elapsed: 0.4 minutes\t Remaining: 0.4 minutes"
       ]
      },
      {
       "output_type": "stream",
       "stream": "stdout",
       "text": [
        " \r",
        "[*****************58%**                ]  61259 of 105653 complete Elapsed: 0.5 minutes\t Remaining: 0.3 minutes"
       ]
      },
      {
       "output_type": "stream",
       "stream": "stdout",
       "text": [
        " \r",
        "[*****************61%***               ]  64664 of 105653 complete Elapsed: 0.5 minutes\t Remaining: 0.3 minutes"
       ]
      },
      {
       "output_type": "stream",
       "stream": "stdout",
       "text": [
        " \r",
        "[*****************64%****              ]  68063 of 105653 complete Elapsed: 0.5 minutes\t Remaining: 0.3 minutes"
       ]
      },
      {
       "output_type": "stream",
       "stream": "stdout",
       "text": [
        " \r",
        "[*****************68%******            ]  71471 of 105653 complete Elapsed: 0.5 minutes\t Remaining: 0.3 minutes"
       ]
      },
      {
       "output_type": "stream",
       "stream": "stdout",
       "text": [
        " \r",
        "[*****************71%*******           ]  74868 of 105653 complete Elapsed: 0.6 minutes\t Remaining: 0.2 minutes"
       ]
      },
      {
       "output_type": "stream",
       "stream": "stdout",
       "text": [
        " \r",
        "[*****************74%********          ]  78274 of 105653 complete Elapsed: 0.6 minutes\t Remaining: 0.2 minutes"
       ]
      },
      {
       "output_type": "stream",
       "stream": "stdout",
       "text": [
        " \r",
        "[*****************77%*********         ]  81672 of 105653 complete Elapsed: 0.6 minutes\t Remaining: 0.2 minutes"
       ]
      },
      {
       "output_type": "stream",
       "stream": "stdout",
       "text": [
        " \r",
        "[*****************81%***********       ]  85078 of 105653 complete Elapsed: 0.6 minutes\t Remaining: 0.2 minutes"
       ]
      },
      {
       "output_type": "stream",
       "stream": "stdout",
       "text": [
        " \r",
        "[*****************84%************      ]  88475 of 105653 complete Elapsed: 0.7 minutes\t Remaining: 0.1 minutes"
       ]
      },
      {
       "output_type": "stream",
       "stream": "stdout",
       "text": [
        " \r",
        "[*****************87%*************     ]  91882 of 105653 complete Elapsed: 0.7 minutes\t Remaining: 0.1 minutes"
       ]
      },
      {
       "output_type": "stream",
       "stream": "stdout",
       "text": [
        " \r",
        "[*****************90%**************    ]  95281 of 105653 complete Elapsed: 0.7 minutes\t Remaining: 0.1 minutes"
       ]
      },
      {
       "output_type": "stream",
       "stream": "stdout",
       "text": [
        " \r",
        "[*****************93%***************   ]  98687 of 105653 complete Elapsed: 0.7 minutes\t Remaining: 0.1 minutes"
       ]
      },
      {
       "output_type": "stream",
       "stream": "stdout",
       "text": [
        " \r",
        "[*****************97%***************** ]  102087 of 105653 complete Elapsed: 0.8 minutes\t Remaining: 0.0 minutes"
       ]
      },
      {
       "output_type": "stream",
       "stream": "stdout",
       "text": [
        " \r",
        "[                  0%                  ]"
       ]
      },
      {
       "output_type": "stream",
       "stream": "stdout",
       "text": [
        " \r",
        "[*                 3%                  ]  3394 of 110294 complete Elapsed: 0.0 minutes\t Remaining: 0.8 minutes"
       ]
      },
      {
       "output_type": "stream",
       "stream": "stdout",
       "text": [
        " \r",
        "[**                6%                  ]  6793 of 110294 complete Elapsed: 0.1 minutes\t Remaining: 0.8 minutes"
       ]
      },
      {
       "output_type": "stream",
       "stream": "stdout",
       "text": [
        " \r",
        "[***               9%                  ]  10185 of 110294 complete Elapsed: 0.1 minutes\t Remaining: 0.7 minutes"
       ]
      },
      {
       "output_type": "stream",
       "stream": "stdout",
       "text": [
        " \r",
        "[*****            12%                  ]  13585 of 110294 complete Elapsed: 0.1 minutes\t Remaining: 0.7 minutes"
       ]
      },
      {
       "output_type": "stream",
       "stream": "stdout",
       "text": [
        " \r",
        "[******           15%                  ]  16978 of 110294 complete Elapsed: 0.1 minutes\t Remaining: 0.7 minutes"
       ]
      },
      {
       "output_type": "stream",
       "stream": "stdout",
       "text": [
        " \r",
        "[*******          18%                  ]  20378 of 110294 complete Elapsed: 0.2 minutes\t Remaining: 0.7 minutes"
       ]
      },
      {
       "output_type": "stream",
       "stream": "stdout",
       "text": [
        " \r",
        "[********         22%                  ]  23771 of 110294 complete Elapsed: 0.2 minutes\t Remaining: 0.6 minutes"
       ]
      },
      {
       "output_type": "stream",
       "stream": "stdout",
       "text": [
        " \r",
        "[**********       25%                  ]  27172 of 110294 complete Elapsed: 0.2 minutes\t Remaining: 0.6 minutes"
       ]
      },
      {
       "output_type": "stream",
       "stream": "stdout",
       "text": [
        " \r",
        "[***********      28%                  ]  30565 of 110294 complete Elapsed: 0.2 minutes\t Remaining: 0.6 minutes"
       ]
      },
      {
       "output_type": "stream",
       "stream": "stdout",
       "text": [
        " \r",
        "[************     31%                  ]  33962 of 110294 complete Elapsed: 0.3 minutes\t Remaining: 0.6 minutes"
       ]
      },
      {
       "output_type": "stream",
       "stream": "stdout",
       "text": [
        " \r",
        "[*************    34%                  ]  37353 of 110294 complete Elapsed: 0.3 minutes\t Remaining: 0.5 minutes"
       ]
      },
      {
       "output_type": "stream",
       "stream": "stdout",
       "text": [
        " \r",
        "[**************   37%                  ]  40754 of 110294 complete Elapsed: 0.3 minutes\t Remaining: 0.5 minutes"
       ]
      },
      {
       "output_type": "stream",
       "stream": "stdout",
       "text": [
        " \r",
        "[***************  40%                  ]  44148 of 110294 complete Elapsed: 0.3 minutes\t Remaining: 0.5 minutes"
       ]
      },
      {
       "output_type": "stream",
       "stream": "stdout",
       "text": [
        " \r",
        "[**************** 43%                  ]  47549 of 110294 complete Elapsed: 0.4 minutes\t Remaining: 0.5 minutes"
       ]
      },
      {
       "output_type": "stream",
       "stream": "stdout",
       "text": [
        " \r",
        "[*****************46%                  ]  50943 of 110294 complete Elapsed: 0.4 minutes\t Remaining: 0.4 minutes"
       ]
      },
      {
       "output_type": "stream",
       "stream": "stdout",
       "text": [
        " \r",
        "[*****************49%                  ]  54344 of 110294 complete Elapsed: 0.4 minutes\t Remaining: 0.4 minutes"
       ]
      },
      {
       "output_type": "stream",
       "stream": "stdout",
       "text": [
        " \r",
        "[*****************52%                  ]  57737 of 110294 complete Elapsed: 0.4 minutes\t Remaining: 0.4 minutes"
       ]
      },
      {
       "output_type": "stream",
       "stream": "stdout",
       "text": [
        " \r",
        "[*****************55%*                 ]  61138 of 110294 complete Elapsed: 0.5 minutes\t Remaining: 0.4 minutes"
       ]
      },
      {
       "output_type": "stream",
       "stream": "stdout",
       "text": [
        " \r",
        "[*****************59%**                ]  64530 of 110294 complete Elapsed: 0.5 minutes\t Remaining: 0.3 minutes"
       ]
      },
      {
       "output_type": "stream",
       "stream": "stdout",
       "text": [
        " \r",
        "[*****************62%****              ]  67930 of 110294 complete Elapsed: 0.5 minutes\t Remaining: 0.3 minutes"
       ]
      },
      {
       "output_type": "stream",
       "stream": "stdout",
       "text": [
        " \r",
        "[*****************65%*****             ]  71324 of 110294 complete Elapsed: 0.5 minutes\t Remaining: 0.3 minutes"
       ]
      },
      {
       "output_type": "stream",
       "stream": "stdout",
       "text": [
        " \r",
        "[*****************68%******            ]  74724 of 110294 complete Elapsed: 0.6 minutes\t Remaining: 0.3 minutes"
       ]
      },
      {
       "output_type": "stream",
       "stream": "stdout",
       "text": [
        " \r",
        "[*****************71%*******           ]  78116 of 110294 complete Elapsed: 0.6 minutes\t Remaining: 0.2 minutes"
       ]
      },
      {
       "output_type": "stream",
       "stream": "stdout",
       "text": [
        " \r",
        "[*****************74%********          ]  81518 of 110294 complete Elapsed: 0.6 minutes\t Remaining: 0.2 minutes"
       ]
      },
      {
       "output_type": "stream",
       "stream": "stdout",
       "text": [
        " \r",
        "[*****************77%*********         ]  84911 of 110294 complete Elapsed: 0.6 minutes\t Remaining: 0.2 minutes"
       ]
      },
      {
       "output_type": "stream",
       "stream": "stdout",
       "text": [
        " \r",
        "[*****************80%**********        ]  88312 of 110294 complete Elapsed: 0.7 minutes\t Remaining: 0.2 minutes"
       ]
      },
      {
       "output_type": "stream",
       "stream": "stdout",
       "text": [
        " \r",
        "[*****************83%************      ]  91707 of 110294 complete Elapsed: 0.7 minutes\t Remaining: 0.1 minutes"
       ]
      },
      {
       "output_type": "stream",
       "stream": "stdout",
       "text": [
        " \r",
        "[*****************86%*************     ]  95108 of 110294 complete Elapsed: 0.7 minutes\t Remaining: 0.1 minutes"
       ]
      },
      {
       "output_type": "stream",
       "stream": "stdout",
       "text": [
        " \r",
        "[*****************89%**************    ]  98500 of 110294 complete Elapsed: 0.7 minutes\t Remaining: 0.1 minutes"
       ]
      },
      {
       "output_type": "stream",
       "stream": "stdout",
       "text": [
        " \r",
        "[*****************92%***************   ]  101900 of 110294 complete Elapsed: 0.8 minutes\t Remaining: 0.1 minutes"
       ]
      },
      {
       "output_type": "stream",
       "stream": "stdout",
       "text": [
        " \r",
        "[*****************95%****************  ]  105293 of 110294 complete Elapsed: 0.8 minutes\t Remaining: 0.0 minutes"
       ]
      },
      {
       "output_type": "stream",
       "stream": "stdout",
       "text": [
        " \r",
        "[                  0%                  ]"
       ]
      },
      {
       "output_type": "stream",
       "stream": "stdout",
       "text": [
        " \r",
        "[*                 3%                  ]  3402 of 110294 complete Elapsed: 0.0 minutes\t Remaining: 0.8 minutes"
       ]
      },
      {
       "output_type": "stream",
       "stream": "stdout",
       "text": [
        " \r",
        "[**                6%                  ]  6796 of 110294 complete Elapsed: 0.1 minutes\t Remaining: 0.8 minutes"
       ]
      },
      {
       "output_type": "stream",
       "stream": "stdout",
       "text": [
        " \r",
        "[***               9%                  ]  10193 of 110294 complete Elapsed: 0.1 minutes\t Remaining: 0.7 minutes"
       ]
      },
      {
       "output_type": "stream",
       "stream": "stdout",
       "text": [
        " \r",
        "[*****            12%                  ]  13595 of 110294 complete Elapsed: 0.1 minutes\t Remaining: 0.7 minutes"
       ]
      },
      {
       "output_type": "stream",
       "stream": "stdout",
       "text": [
        " \r",
        "[******           15%                  ]  16990 of 110294 complete Elapsed: 0.1 minutes\t Remaining: 0.7 minutes"
       ]
      },
      {
       "output_type": "stream",
       "stream": "stdout",
       "text": [
        " \r",
        "[*******          18%                  ]  20391 of 110294 complete Elapsed: 0.2 minutes\t Remaining: 0.7 minutes"
       ]
      },
      {
       "output_type": "stream",
       "stream": "stdout",
       "text": [
        " \r",
        "[********         22%                  ]  23786 of 110294 complete Elapsed: 0.2 minutes\t Remaining: 0.6 minutes"
       ]
      },
      {
       "output_type": "stream",
       "stream": "stdout",
       "text": [
        " \r",
        "[**********       25%                  ]  27188 of 110294 complete Elapsed: 0.2 minutes\t Remaining: 0.6 minutes"
       ]
      },
      {
       "output_type": "stream",
       "stream": "stdout",
       "text": [
        " \r",
        "[***********      28%                  ]  30584 of 110294 complete Elapsed: 0.2 minutes\t Remaining: 0.6 minutes"
       ]
      },
      {
       "output_type": "stream",
       "stream": "stdout",
       "text": [
        " \r",
        "[************     31%                  ]  33985 of 110294 complete Elapsed: 0.3 minutes\t Remaining: 0.6 minutes"
       ]
      },
      {
       "output_type": "stream",
       "stream": "stdout",
       "text": [
        " \r",
        "[*************    34%                  ]  37382 of 110294 complete Elapsed: 0.3 minutes\t Remaining: 0.5 minutes"
       ]
      },
      {
       "output_type": "stream",
       "stream": "stdout",
       "text": [
        " \r",
        "[**************   37%                  ]  40784 of 110294 complete Elapsed: 0.3 minutes\t Remaining: 0.5 minutes"
       ]
      },
      {
       "output_type": "stream",
       "stream": "stdout",
       "text": [
        " \r",
        "[***************  40%                  ]  44180 of 110294 complete Elapsed: 0.3 minutes\t Remaining: 0.5 minutes"
       ]
      },
      {
       "output_type": "stream",
       "stream": "stdout",
       "text": [
        " \r",
        "[**************** 43%                  ]  47581 of 110294 complete Elapsed: 0.4 minutes\t Remaining: 0.5 minutes"
       ]
      },
      {
       "output_type": "stream",
       "stream": "stdout",
       "text": [
        " \r",
        "[*****************46%                  ]  50977 of 110294 complete Elapsed: 0.4 minutes\t Remaining: 0.4 minutes"
       ]
      },
      {
       "output_type": "stream",
       "stream": "stdout",
       "text": [
        " \r",
        "[*****************49%                  ]  54379 of 110294 complete Elapsed: 0.4 minutes\t Remaining: 0.4 minutes"
       ]
      },
      {
       "output_type": "stream",
       "stream": "stdout",
       "text": [
        " \r",
        "[*****************52%                  ]  57774 of 110294 complete Elapsed: 0.4 minutes\t Remaining: 0.4 minutes"
       ]
      },
      {
       "output_type": "stream",
       "stream": "stdout",
       "text": [
        " \r",
        "[*****************55%*                 ]  61176 of 110294 complete Elapsed: 0.5 minutes\t Remaining: 0.4 minutes"
       ]
      },
      {
       "output_type": "stream",
       "stream": "stdout",
       "text": [
        " \r",
        "[*****************59%**                ]  64570 of 110294 complete Elapsed: 0.5 minutes\t Remaining: 0.3 minutes"
       ]
      },
      {
       "output_type": "stream",
       "stream": "stdout",
       "text": [
        " \r",
        "[*****************62%****              ]  67973 of 110294 complete Elapsed: 0.5 minutes\t Remaining: 0.3 minutes"
       ]
      },
      {
       "output_type": "stream",
       "stream": "stdout",
       "text": [
        " \r",
        "[*****************65%*****             ]  71369 of 110294 complete Elapsed: 0.5 minutes\t Remaining: 0.3 minutes"
       ]
      },
      {
       "output_type": "stream",
       "stream": "stdout",
       "text": [
        " \r",
        "[*****************68%******            ]  74771 of 110294 complete Elapsed: 0.6 minutes\t Remaining: 0.3 minutes"
       ]
      },
      {
       "output_type": "stream",
       "stream": "stdout",
       "text": [
        " \r",
        "[*****************71%*******           ]  78168 of 110294 complete Elapsed: 0.6 minutes\t Remaining: 0.2 minutes"
       ]
      },
      {
       "output_type": "stream",
       "stream": "stdout",
       "text": [
        " \r",
        "[*****************74%********          ]  81572 of 110294 complete Elapsed: 0.6 minutes\t Remaining: 0.2 minutes"
       ]
      },
      {
       "output_type": "stream",
       "stream": "stdout",
       "text": [
        " \r",
        "[*****************77%*********         ]  84967 of 110294 complete Elapsed: 0.6 minutes\t Remaining: 0.2 minutes"
       ]
      },
      {
       "output_type": "stream",
       "stream": "stdout",
       "text": [
        " \r",
        "[*****************80%**********        ]  88370 of 110294 complete Elapsed: 0.7 minutes\t Remaining: 0.2 minutes"
       ]
      },
      {
       "output_type": "stream",
       "stream": "stdout",
       "text": [
        " \r",
        "[*****************83%************      ]  91765 of 110294 complete Elapsed: 0.7 minutes\t Remaining: 0.1 minutes"
       ]
      },
      {
       "output_type": "stream",
       "stream": "stdout",
       "text": [
        " \r",
        "[*****************86%*************     ]  95169 of 110294 complete Elapsed: 0.7 minutes\t Remaining: 0.1 minutes"
       ]
      },
      {
       "output_type": "stream",
       "stream": "stdout",
       "text": [
        " \r",
        "[*****************89%**************    ]  98565 of 110294 complete Elapsed: 0.7 minutes\t Remaining: 0.1 minutes"
       ]
      },
      {
       "output_type": "stream",
       "stream": "stdout",
       "text": [
        " \r",
        "[*****************92%***************   ]  101969 of 110294 complete Elapsed: 0.8 minutes\t Remaining: 0.1 minutes"
       ]
      },
      {
       "output_type": "stream",
       "stream": "stdout",
       "text": [
        " \r",
        "[*****************96%****************  ]  105364 of 110294 complete Elapsed: 0.8 minutes\t Remaining: 0.0 minutes"
       ]
      },
      {
       "output_type": "stream",
       "stream": "stdout",
       "text": [
        " \r",
        "[                  0%                  ]"
       ]
      },
      {
       "output_type": "stream",
       "stream": "stdout",
       "text": [
        " \r",
        "[**                4%                  ]  3395 of 93328 complete Elapsed: 0.0 minutes\t Remaining: 0.7 minutes"
       ]
      },
      {
       "output_type": "stream",
       "stream": "stdout",
       "text": [
        " \r",
        "[***               7%                  ]  6789 of 93328 complete Elapsed: 0.1 minutes\t Remaining: 0.6 minutes"
       ]
      },
      {
       "output_type": "stream",
       "stream": "stdout",
       "text": [
        " \r",
        "[****             11%                  ]  10177 of 93328 complete Elapsed: 0.1 minutes\t Remaining: 0.6 minutes"
       ]
      },
      {
       "output_type": "stream",
       "stream": "stdout",
       "text": [
        " \r",
        "[******           15%                  ]  13573 of 93328 complete Elapsed: 0.1 minutes\t Remaining: 0.6 minutes"
       ]
      },
      {
       "output_type": "stream",
       "stream": "stdout",
       "text": [
        " \r",
        "[*******          18%                  ]  16962 of 93328 complete Elapsed: 0.1 minutes\t Remaining: 0.6 minutes"
       ]
      },
      {
       "output_type": "stream",
       "stream": "stdout",
       "text": [
        " \r",
        "[********         22%                  ]  20358 of 93328 complete Elapsed: 0.2 minutes\t Remaining: 0.5 minutes"
       ]
      },
      {
       "output_type": "stream",
       "stream": "stdout",
       "text": [
        " \r",
        "[**********       25%                  ]  23749 of 93328 complete Elapsed: 0.2 minutes\t Remaining: 0.5 minutes"
       ]
      },
      {
       "output_type": "stream",
       "stream": "stdout",
       "text": [
        " \r",
        "[***********      29%                  ]  27144 of 93328 complete Elapsed: 0.2 minutes\t Remaining: 0.5 minutes"
       ]
      },
      {
       "output_type": "stream",
       "stream": "stdout",
       "text": [
        " \r",
        "[*************    33%                  ]  30535 of 93328 complete Elapsed: 0.2 minutes\t Remaining: 0.5 minutes"
       ]
      },
      {
       "output_type": "stream",
       "stream": "stdout",
       "text": [
        " \r",
        "[**************   36%                  ]  33932 of 93328 complete Elapsed: 0.3 minutes\t Remaining: 0.4 minutes"
       ]
      },
      {
       "output_type": "stream",
       "stream": "stdout",
       "text": [
        " \r",
        "[***************  40%                  ]  37323 of 93328 complete Elapsed: 0.3 minutes\t Remaining: 0.4 minutes"
       ]
      },
      {
       "output_type": "stream",
       "stream": "stdout",
       "text": [
        " \r",
        "[*****************44%                  ]  40720 of 93328 complete Elapsed: 0.3 minutes\t Remaining: 0.4 minutes"
       ]
      },
      {
       "output_type": "stream",
       "stream": "stdout",
       "text": [
        " \r",
        "[*****************47%                  ]  44110 of 93328 complete Elapsed: 0.3 minutes\t Remaining: 0.4 minutes"
       ]
      },
      {
       "output_type": "stream",
       "stream": "stdout",
       "text": [
        " \r",
        "[*****************51%                  ]  47508 of 93328 complete Elapsed: 0.4 minutes\t Remaining: 0.3 minutes"
       ]
      },
      {
       "output_type": "stream",
       "stream": "stdout",
       "text": [
        " \r",
        "[*****************55%*                 ]  50899 of 93328 complete Elapsed: 0.4 minutes\t Remaining: 0.3 minutes"
       ]
      },
      {
       "output_type": "stream",
       "stream": "stdout",
       "text": [
        " \r",
        "[*****************58%**                ]  54298 of 93328 complete Elapsed: 0.4 minutes\t Remaining: 0.3 minutes"
       ]
      },
      {
       "output_type": "stream",
       "stream": "stdout",
       "text": [
        " \r",
        "[*****************62%****              ]  57686 of 93328 complete Elapsed: 0.4 minutes\t Remaining: 0.3 minutes"
       ]
      },
      {
       "output_type": "stream",
       "stream": "stdout",
       "text": [
        " \r",
        "[*****************65%*****             ]  61085 of 93328 complete Elapsed: 0.5 minutes\t Remaining: 0.2 minutes"
       ]
      },
      {
       "output_type": "stream",
       "stream": "stdout",
       "text": [
        " \r",
        "[*****************69%******            ]  64477 of 93328 complete Elapsed: 0.5 minutes\t Remaining: 0.2 minutes"
       ]
      },
      {
       "output_type": "stream",
       "stream": "stdout",
       "text": [
        " \r",
        "[*****************73%********          ]  67876 of 93328 complete Elapsed: 0.5 minutes\t Remaining: 0.2 minutes"
       ]
      },
      {
       "output_type": "stream",
       "stream": "stdout",
       "text": [
        " \r",
        "[*****************76%*********         ]  71267 of 93328 complete Elapsed: 0.5 minutes\t Remaining: 0.2 minutes"
       ]
      },
      {
       "output_type": "stream",
       "stream": "stdout",
       "text": [
        " \r",
        "[*****************80%**********        ]  74664 of 93328 complete Elapsed: 0.6 minutes\t Remaining: 0.1 minutes"
       ]
      },
      {
       "output_type": "stream",
       "stream": "stdout",
       "text": [
        " \r",
        "[*****************84%************      ]  78053 of 93328 complete Elapsed: 0.6 minutes\t Remaining: 0.1 minutes"
       ]
      },
      {
       "output_type": "stream",
       "stream": "stdout",
       "text": [
        " \r",
        "[*****************87%*************     ]  81451 of 93328 complete Elapsed: 0.6 minutes\t Remaining: 0.1 minutes"
       ]
      },
      {
       "output_type": "stream",
       "stream": "stdout",
       "text": [
        " \r",
        "[*****************91%***************   ]  84843 of 93328 complete Elapsed: 0.6 minutes\t Remaining: 0.1 minutes"
       ]
      },
      {
       "output_type": "stream",
       "stream": "stdout",
       "text": [
        " \r",
        "[*****************95%****************  ]  88241 of 93328 complete Elapsed: 0.7 minutes\t Remaining: 0.0 minutes"
       ]
      },
      {
       "output_type": "stream",
       "stream": "stdout",
       "text": [
        " \r",
        "[                  0%                  ]"
       ]
      },
      {
       "output_type": "stream",
       "stream": "stdout",
       "text": [
        " \r",
        "[**                4%                  ]  3406 of 93328 complete Elapsed: 0.0 minutes\t Remaining: 0.7 minutes"
       ]
      },
      {
       "output_type": "stream",
       "stream": "stdout",
       "text": [
        " \r",
        "[***               7%                  ]  6796 of 93328 complete Elapsed: 0.1 minutes\t Remaining: 0.6 minutes"
       ]
      },
      {
       "output_type": "stream",
       "stream": "stdout",
       "text": [
        " \r",
        "[****             11%                  ]  10195 of 93328 complete Elapsed: 0.1 minutes\t Remaining: 0.6 minutes"
       ]
      },
      {
       "output_type": "stream",
       "stream": "stdout",
       "text": [
        " \r",
        "[******           15%                  ]  13586 of 93328 complete Elapsed: 0.1 minutes\t Remaining: 0.6 minutes"
       ]
      },
      {
       "output_type": "stream",
       "stream": "stdout",
       "text": [
        " \r",
        "[*******          18%                  ]  16983 of 93328 complete Elapsed: 0.1 minutes\t Remaining: 0.6 minutes"
       ]
      },
      {
       "output_type": "stream",
       "stream": "stdout",
       "text": [
        " \r",
        "[********         22%                  ]  20375 of 93328 complete Elapsed: 0.2 minutes\t Remaining: 0.5 minutes"
       ]
      },
      {
       "output_type": "stream",
       "stream": "stdout",
       "text": [
        " \r",
        "[**********       25%                  ]  23774 of 93328 complete Elapsed: 0.2 minutes\t Remaining: 0.5 minutes"
       ]
      },
      {
       "output_type": "stream",
       "stream": "stdout",
       "text": [
        " \r",
        "[***********      29%                  ]  27166 of 93328 complete Elapsed: 0.2 minutes\t Remaining: 0.5 minutes"
       ]
      },
      {
       "output_type": "stream",
       "stream": "stdout",
       "text": [
        " \r",
        "[*************    33%                  ]  30559 of 93328 complete Elapsed: 0.2 minutes\t Remaining: 0.5 minutes"
       ]
      },
      {
       "output_type": "stream",
       "stream": "stdout",
       "text": [
        " \r",
        "[**************   36%                  ]  33952 of 93328 complete Elapsed: 0.3 minutes\t Remaining: 0.4 minutes"
       ]
      },
      {
       "output_type": "stream",
       "stream": "stdout",
       "text": [
        " \r",
        "[***************  40%                  ]  37350 of 93328 complete Elapsed: 0.3 minutes\t Remaining: 0.4 minutes"
       ]
      },
      {
       "output_type": "stream",
       "stream": "stdout",
       "text": [
        " \r",
        "[*****************44%                  ]  40742 of 93328 complete Elapsed: 0.3 minutes\t Remaining: 0.4 minutes"
       ]
      },
      {
       "output_type": "stream",
       "stream": "stdout",
       "text": [
        " \r",
        "[*****************47%                  ]  44141 of 93328 complete Elapsed: 0.3 minutes\t Remaining: 0.4 minutes"
       ]
      },
      {
       "output_type": "stream",
       "stream": "stdout",
       "text": [
        " \r",
        "[*****************51%                  ]  47531 of 93328 complete Elapsed: 0.4 minutes\t Remaining: 0.3 minutes"
       ]
      },
      {
       "output_type": "stream",
       "stream": "stdout",
       "text": [
        " \r",
        "[*****************55%*                 ]  50930 of 93328 complete Elapsed: 0.4 minutes\t Remaining: 0.3 minutes"
       ]
      },
      {
       "output_type": "stream",
       "stream": "stdout",
       "text": [
        " \r",
        "[*****************58%**                ]  54319 of 93328 complete Elapsed: 0.4 minutes\t Remaining: 0.3 minutes"
       ]
      },
      {
       "output_type": "stream",
       "stream": "stdout",
       "text": [
        " \r",
        "[*****************62%****              ]  57717 of 93328 complete Elapsed: 0.4 minutes\t Remaining: 0.3 minutes"
       ]
      },
      {
       "output_type": "stream",
       "stream": "stdout",
       "text": [
        " \r",
        "[*****************65%*****             ]  61109 of 93328 complete Elapsed: 0.5 minutes\t Remaining: 0.2 minutes"
       ]
      },
      {
       "output_type": "stream",
       "stream": "stdout",
       "text": [
        " \r",
        "[*****************69%******            ]  64507 of 93328 complete Elapsed: 0.5 minutes\t Remaining: 0.2 minutes"
       ]
      },
      {
       "output_type": "stream",
       "stream": "stdout",
       "text": [
        " \r",
        "[*****************73%********          ]  67898 of 93328 complete Elapsed: 0.5 minutes\t Remaining: 0.2 minutes"
       ]
      },
      {
       "output_type": "stream",
       "stream": "stdout",
       "text": [
        " \r",
        "[*****************76%*********         ]  71298 of 93328 complete Elapsed: 0.5 minutes\t Remaining: 0.2 minutes"
       ]
      },
      {
       "output_type": "stream",
       "stream": "stdout",
       "text": [
        " \r",
        "[*****************80%**********        ]  74690 of 93328 complete Elapsed: 0.6 minutes\t Remaining: 0.1 minutes"
       ]
      },
      {
       "output_type": "stream",
       "stream": "stdout",
       "text": [
        " \r",
        "[*****************84%************      ]  78089 of 93328 complete Elapsed: 0.6 minutes\t Remaining: 0.1 minutes"
       ]
      },
      {
       "output_type": "stream",
       "stream": "stdout",
       "text": [
        " \r",
        "[*****************87%*************     ]  81481 of 93328 complete Elapsed: 0.6 minutes\t Remaining: 0.1 minutes"
       ]
      },
      {
       "output_type": "stream",
       "stream": "stdout",
       "text": [
        " \r",
        "[*****************91%***************   ]  84879 of 93328 complete Elapsed: 0.6 minutes\t Remaining: 0.1 minutes"
       ]
      },
      {
       "output_type": "stream",
       "stream": "stdout",
       "text": [
        " \r",
        "[*****************95%****************  ]  88270 of 93328 complete Elapsed: 0.7 minutes\t Remaining: 0.0 minutes"
       ]
      },
      {
       "output_type": "stream",
       "stream": "stdout",
       "text": [
        " \r",
        "[                  0%                  ]"
       ]
      },
      {
       "output_type": "stream",
       "stream": "stdout",
       "text": [
        " \r",
        "[*                 3%                  ]  3392 of 97601 complete Elapsed: 0.0 minutes\t Remaining: 0.7 minutes"
       ]
      },
      {
       "output_type": "stream",
       "stream": "stdout",
       "text": [
        " \r",
        "[***               7%                  ]  6784 of 97601 complete Elapsed: 0.1 minutes\t Remaining: 0.7 minutes"
       ]
      },
      {
       "output_type": "stream",
       "stream": "stdout",
       "text": [
        " \r",
        "[****             10%                  ]  10172 of 97601 complete Elapsed: 0.1 minutes\t Remaining: 0.6 minutes"
       ]
      },
      {
       "output_type": "stream",
       "stream": "stdout",
       "text": [
        " \r",
        "[*****            14%                  ]  13563 of 97601 complete Elapsed: 0.1 minutes\t Remaining: 0.6 minutes"
       ]
      },
      {
       "output_type": "stream",
       "stream": "stdout",
       "text": [
        " \r",
        "[******           17%                  ]  16950 of 97601 complete Elapsed: 0.1 minutes\t Remaining: 0.6 minutes"
       ]
      },
      {
       "output_type": "stream",
       "stream": "stdout",
       "text": [
        " \r",
        "[********         21%                  ]  20342 of 97601 complete Elapsed: 0.2 minutes\t Remaining: 0.6 minutes"
       ]
      },
      {
       "output_type": "stream",
       "stream": "stdout",
       "text": [
        " \r",
        "[*********        24%                  ]  23728 of 97601 complete Elapsed: 0.2 minutes\t Remaining: 0.5 minutes"
       ]
      },
      {
       "output_type": "stream",
       "stream": "stdout",
       "text": [
        " \r",
        "[***********      28%                  ]  27119 of 97601 complete Elapsed: 0.2 minutes\t Remaining: 0.5 minutes"
       ]
      },
      {
       "output_type": "stream",
       "stream": "stdout",
       "text": [
        " \r",
        "[************     31%                  ]  30507 of 97601 complete Elapsed: 0.2 minutes\t Remaining: 0.5 minutes"
       ]
      },
      {
       "output_type": "stream",
       "stream": "stdout",
       "text": [
        " \r",
        "[*************    35%                  ]  33900 of 97601 complete Elapsed: 0.3 minutes\t Remaining: 0.5 minutes"
       ]
      },
      {
       "output_type": "stream",
       "stream": "stdout",
       "text": [
        " \r",
        "[**************   38%                  ]  37288 of 97601 complete Elapsed: 0.3 minutes\t Remaining: 0.4 minutes"
       ]
      },
      {
       "output_type": "stream",
       "stream": "stdout",
       "text": [
        " \r",
        "[**************** 42%                  ]  40681 of 97601 complete Elapsed: 0.3 minutes\t Remaining: 0.4 minutes"
       ]
      },
      {
       "output_type": "stream",
       "stream": "stdout",
       "text": [
        " \r",
        "[*****************45%                  ]  44069 of 97601 complete Elapsed: 0.3 minutes\t Remaining: 0.4 minutes"
       ]
      },
      {
       "output_type": "stream",
       "stream": "stdout",
       "text": [
        " \r",
        "[*****************49%                  ]  47462 of 97601 complete Elapsed: 0.4 minutes\t Remaining: 0.4 minutes"
       ]
      },
      {
       "output_type": "stream",
       "stream": "stdout",
       "text": [
        " \r",
        "[*****************52%                  ]  50850 of 97601 complete Elapsed: 0.4 minutes\t Remaining: 0.3 minutes"
       ]
      },
      {
       "output_type": "stream",
       "stream": "stdout",
       "text": [
        " \r",
        "[*****************56%*                 ]  54242 of 97601 complete Elapsed: 0.4 minutes\t Remaining: 0.3 minutes"
       ]
      },
      {
       "output_type": "stream",
       "stream": "stdout",
       "text": [
        " \r",
        "[*****************59%**                ]  57630 of 97601 complete Elapsed: 0.4 minutes\t Remaining: 0.3 minutes"
       ]
      },
      {
       "output_type": "stream",
       "stream": "stdout",
       "text": [
        " \r",
        "[*****************63%****              ]  61021 of 97601 complete Elapsed: 0.5 minutes\t Remaining: 0.3 minutes"
       ]
      },
      {
       "output_type": "stream",
       "stream": "stdout",
       "text": [
        " \r",
        "[*****************66%*****             ]  64411 of 97601 complete Elapsed: 0.5 minutes\t Remaining: 0.2 minutes"
       ]
      },
      {
       "output_type": "stream",
       "stream": "stdout",
       "text": [
        " \r",
        "[*****************69%******            ]  67804 of 97601 complete Elapsed: 0.5 minutes\t Remaining: 0.2 minutes"
       ]
      },
      {
       "output_type": "stream",
       "stream": "stdout",
       "text": [
        " \r",
        "[*****************73%********          ]  71193 of 97601 complete Elapsed: 0.5 minutes\t Remaining: 0.2 minutes"
       ]
      },
      {
       "output_type": "stream",
       "stream": "stdout",
       "text": [
        " \r",
        "[*****************76%*********         ]  74584 of 97601 complete Elapsed: 0.6 minutes\t Remaining: 0.2 minutes"
       ]
      },
      {
       "output_type": "stream",
       "stream": "stdout",
       "text": [
        " \r",
        "[*****************80%**********        ]  77972 of 97601 complete Elapsed: 0.6 minutes\t Remaining: 0.1 minutes"
       ]
      },
      {
       "output_type": "stream",
       "stream": "stdout",
       "text": [
        " \r",
        "[*****************83%************      ]  81364 of 97601 complete Elapsed: 0.6 minutes\t Remaining: 0.1 minutes"
       ]
      },
      {
       "output_type": "stream",
       "stream": "stdout",
       "text": [
        " \r",
        "[*****************87%*************     ]  84753 of 97601 complete Elapsed: 0.6 minutes\t Remaining: 0.1 minutes"
       ]
      },
      {
       "output_type": "stream",
       "stream": "stdout",
       "text": [
        " \r",
        "[*****************90%**************    ]  88146 of 97601 complete Elapsed: 0.7 minutes\t Remaining: 0.1 minutes"
       ]
      },
      {
       "output_type": "stream",
       "stream": "stdout",
       "text": [
        " \r",
        "[*****************94%****************  ]  91535 of 97601 complete Elapsed: 0.7 minutes\t Remaining: 0.0 minutes"
       ]
      },
      {
       "output_type": "stream",
       "stream": "stdout",
       "text": [
        " \r",
        "[                  0%                  ]"
       ]
      },
      {
       "output_type": "stream",
       "stream": "stdout",
       "text": [
        " \r",
        "[*                 3%                  ]  3393 of 97601 complete Elapsed: 0.0 minutes\t Remaining: 0.7 minutes"
       ]
      },
      {
       "output_type": "stream",
       "stream": "stdout",
       "text": [
        " \r",
        "[***               7%                  ]  6783 of 97601 complete Elapsed: 0.1 minutes\t Remaining: 0.7 minutes"
       ]
      },
      {
       "output_type": "stream",
       "stream": "stdout",
       "text": [
        " \r",
        "[****             10%                  ]  10171 of 97601 complete Elapsed: 0.1 minutes\t Remaining: 0.6 minutes"
       ]
      },
      {
       "output_type": "stream",
       "stream": "stdout",
       "text": [
        " \r",
        "[*****            14%                  ]  13563 of 97601 complete Elapsed: 0.1 minutes\t Remaining: 0.6 minutes"
       ]
      },
      {
       "output_type": "stream",
       "stream": "stdout",
       "text": [
        " \r",
        "[******           17%                  ]  16949 of 97601 complete Elapsed: 0.1 minutes\t Remaining: 0.6 minutes"
       ]
      },
      {
       "output_type": "stream",
       "stream": "stdout",
       "text": [
        " \r",
        "[********         21%                  ]  20340 of 97601 complete Elapsed: 0.2 minutes\t Remaining: 0.6 minutes"
       ]
      },
      {
       "output_type": "stream",
       "stream": "stdout",
       "text": [
        " \r",
        "[*********        24%                  ]  23728 of 97601 complete Elapsed: 0.2 minutes\t Remaining: 0.5 minutes"
       ]
      },
      {
       "output_type": "stream",
       "stream": "stdout",
       "text": [
        " \r",
        "[***********      28%                  ]  27124 of 97601 complete Elapsed: 0.2 minutes\t Remaining: 0.5 minutes"
       ]
      },
      {
       "output_type": "stream",
       "stream": "stdout",
       "text": [
        " \r",
        "[************     31%                  ]  30510 of 97601 complete Elapsed: 0.2 minutes\t Remaining: 0.5 minutes"
       ]
      },
      {
       "output_type": "stream",
       "stream": "stdout",
       "text": [
        " \r",
        "[*************    35%                  ]  33901 of 97601 complete Elapsed: 0.3 minutes\t Remaining: 0.5 minutes"
       ]
      },
      {
       "output_type": "stream",
       "stream": "stdout",
       "text": [
        " \r",
        "[**************   38%                  ]  37288 of 97601 complete Elapsed: 0.3 minutes\t Remaining: 0.4 minutes"
       ]
      },
      {
       "output_type": "stream",
       "stream": "stdout",
       "text": [
        " \r",
        "[**************** 42%                  ]  40680 of 97601 complete Elapsed: 0.3 minutes\t Remaining: 0.4 minutes"
       ]
      },
      {
       "output_type": "stream",
       "stream": "stdout",
       "text": [
        " \r",
        "[*****************45%                  ]  44065 of 97601 complete Elapsed: 0.3 minutes\t Remaining: 0.4 minutes"
       ]
      },
      {
       "output_type": "stream",
       "stream": "stdout",
       "text": [
        " \r",
        "[*****************49%                  ]  47454 of 97601 complete Elapsed: 0.4 minutes\t Remaining: 0.4 minutes"
       ]
      },
      {
       "output_type": "stream",
       "stream": "stdout",
       "text": [
        " \r",
        "[*****************52%                  ]  50842 of 97601 complete Elapsed: 0.4 minutes\t Remaining: 0.3 minutes"
       ]
      },
      {
       "output_type": "stream",
       "stream": "stdout",
       "text": [
        " \r",
        "[*****************56%*                 ]  54233 of 97601 complete Elapsed: 0.4 minutes\t Remaining: 0.3 minutes"
       ]
      },
      {
       "output_type": "stream",
       "stream": "stdout",
       "text": [
        " \r",
        "[*****************59%**                ]  57621 of 97601 complete Elapsed: 0.4 minutes\t Remaining: 0.3 minutes"
       ]
      },
      {
       "output_type": "stream",
       "stream": "stdout",
       "text": [
        " \r",
        "[*****************63%****              ]  61010 of 97601 complete Elapsed: 0.5 minutes\t Remaining: 0.3 minutes"
       ]
      },
      {
       "output_type": "stream",
       "stream": "stdout",
       "text": [
        " \r",
        "[*****************66%*****             ]  64399 of 97601 complete Elapsed: 0.5 minutes\t Remaining: 0.2 minutes"
       ]
      },
      {
       "output_type": "stream",
       "stream": "stdout",
       "text": [
        " \r",
        "[*****************69%******            ]  67790 of 97601 complete Elapsed: 0.5 minutes\t Remaining: 0.2 minutes"
       ]
      },
      {
       "output_type": "stream",
       "stream": "stdout",
       "text": [
        " \r",
        "[*****************73%********          ]  71173 of 97601 complete Elapsed: 0.5 minutes\t Remaining: 0.2 minutes"
       ]
      },
      {
       "output_type": "stream",
       "stream": "stdout",
       "text": [
        " \r",
        "[*****************76%*********         ]  74566 of 97601 complete Elapsed: 0.6 minutes\t Remaining: 0.2 minutes"
       ]
      },
      {
       "output_type": "stream",
       "stream": "stdout",
       "text": [
        " \r",
        "[*****************80%**********        ]  77954 of 97601 complete Elapsed: 0.6 minutes\t Remaining: 0.1 minutes"
       ]
      },
      {
       "output_type": "stream",
       "stream": "stdout",
       "text": [
        " \r",
        "[*****************83%************      ]  81344 of 97601 complete Elapsed: 0.6 minutes\t Remaining: 0.1 minutes"
       ]
      },
      {
       "output_type": "stream",
       "stream": "stdout",
       "text": [
        " \r",
        "[*****************87%*************     ]  84733 of 97601 complete Elapsed: 0.6 minutes\t Remaining: 0.1 minutes"
       ]
      },
      {
       "output_type": "stream",
       "stream": "stdout",
       "text": [
        " \r",
        "[*****************90%**************    ]  88123 of 97601 complete Elapsed: 0.7 minutes\t Remaining: 0.1 minutes"
       ]
      },
      {
       "output_type": "stream",
       "stream": "stdout",
       "text": [
        " \r",
        "[*****************94%****************  ]  91512 of 97601 complete Elapsed: 0.7 minutes\t Remaining: 0.0 minutes"
       ]
      },
      {
       "output_type": "stream",
       "stream": "stdout",
       "text": [
        " \r",
        "[                  0%                  ]"
       ]
      },
      {
       "output_type": "stream",
       "stream": "stdout",
       "text": [
        " \r",
        "[**                4%                  ]  3395 of 85230 complete Elapsed: 0.0 minutes\t Remaining: 0.6 minutes"
       ]
      },
      {
       "output_type": "stream",
       "stream": "stdout",
       "text": [
        " \r",
        "[***               8%                  ]  6794 of 85230 complete Elapsed: 0.1 minutes\t Remaining: 0.6 minutes"
       ]
      },
      {
       "output_type": "stream",
       "stream": "stdout",
       "text": [
        " \r",
        "[*****            12%                  ]  10185 of 85230 complete Elapsed: 0.1 minutes\t Remaining: 0.6 minutes"
       ]
      },
      {
       "output_type": "stream",
       "stream": "stdout",
       "text": [
        " \r",
        "[******           16%                  ]  13584 of 85230 complete Elapsed: 0.1 minutes\t Remaining: 0.5 minutes"
       ]
      },
      {
       "output_type": "stream",
       "stream": "stdout",
       "text": [
        " \r",
        "[********         20%                  ]  16975 of 85230 complete Elapsed: 0.1 minutes\t Remaining: 0.5 minutes"
       ]
      },
      {
       "output_type": "stream",
       "stream": "stdout",
       "text": [
        " \r",
        "[*********        24%                  ]  20374 of 85230 complete Elapsed: 0.2 minutes\t Remaining: 0.5 minutes"
       ]
      },
      {
       "output_type": "stream",
       "stream": "stdout",
       "text": [
        " \r",
        "[***********      28%                  ]  23764 of 85230 complete Elapsed: 0.2 minutes\t Remaining: 0.5 minutes"
       ]
      },
      {
       "output_type": "stream",
       "stream": "stdout",
       "text": [
        " \r",
        "[************     32%                  ]  27164 of 85230 complete Elapsed: 0.2 minutes\t Remaining: 0.4 minutes"
       ]
      },
      {
       "output_type": "stream",
       "stream": "stdout",
       "text": [
        " \r",
        "[**************   36%                  ]  30556 of 85230 complete Elapsed: 0.2 minutes\t Remaining: 0.4 minutes"
       ]
      },
      {
       "output_type": "stream",
       "stream": "stdout",
       "text": [
        " \r",
        "[***************  40%                  ]  33957 of 85230 complete Elapsed: 0.3 minutes\t Remaining: 0.4 minutes"
       ]
      },
      {
       "output_type": "stream",
       "stream": "stdout",
       "text": [
        " \r",
        "[*****************44%                  ]  37349 of 85230 complete Elapsed: 0.3 minutes\t Remaining: 0.4 minutes"
       ]
      },
      {
       "output_type": "stream",
       "stream": "stdout",
       "text": [
        " \r",
        "[*****************48%                  ]  40749 of 85230 complete Elapsed: 0.3 minutes\t Remaining: 0.3 minutes"
       ]
      },
      {
       "output_type": "stream",
       "stream": "stdout",
       "text": [
        " \r",
        "[*****************52%                  ]  44141 of 85230 complete Elapsed: 0.3 minutes\t Remaining: 0.3 minutes"
       ]
      },
      {
       "output_type": "stream",
       "stream": "stdout",
       "text": [
        " \r",
        "[*****************56%*                 ]  47538 of 85230 complete Elapsed: 0.4 minutes\t Remaining: 0.3 minutes"
       ]
      },
      {
       "output_type": "stream",
       "stream": "stdout",
       "text": [
        " \r",
        "[*****************60%***               ]  50931 of 85230 complete Elapsed: 0.4 minutes\t Remaining: 0.3 minutes"
       ]
      },
      {
       "output_type": "stream",
       "stream": "stdout",
       "text": [
        " \r",
        "[*****************64%****              ]  54329 of 85230 complete Elapsed: 0.4 minutes\t Remaining: 0.2 minutes"
       ]
      },
      {
       "output_type": "stream",
       "stream": "stdout",
       "text": [
        " \r",
        "[*****************68%******            ]  57722 of 85230 complete Elapsed: 0.4 minutes\t Remaining: 0.2 minutes"
       ]
      },
      {
       "output_type": "stream",
       "stream": "stdout",
       "text": [
        " \r",
        "[*****************72%*******           ]  61121 of 85230 complete Elapsed: 0.5 minutes\t Remaining: 0.2 minutes"
       ]
      },
      {
       "output_type": "stream",
       "stream": "stdout",
       "text": [
        " \r",
        "[*****************76%*********         ]  64511 of 85230 complete Elapsed: 0.5 minutes\t Remaining: 0.2 minutes"
       ]
      },
      {
       "output_type": "stream",
       "stream": "stdout",
       "text": [
        " \r",
        "[*****************80%**********        ]  67910 of 85230 complete Elapsed: 0.5 minutes\t Remaining: 0.1 minutes"
       ]
      },
      {
       "output_type": "stream",
       "stream": "stdout",
       "text": [
        " \r",
        "[*****************84%************      ]  71300 of 85230 complete Elapsed: 0.5 minutes\t Remaining: 0.1 minutes"
       ]
      },
      {
       "output_type": "stream",
       "stream": "stdout",
       "text": [
        " \r",
        "[*****************88%*************     ]  74700 of 85230 complete Elapsed: 0.6 minutes\t Remaining: 0.1 minutes"
       ]
      },
      {
       "output_type": "stream",
       "stream": "stdout",
       "text": [
        " \r",
        "[*****************92%***************   ]  78092 of 85230 complete Elapsed: 0.6 minutes\t Remaining: 0.1 minutes"
       ]
      },
      {
       "output_type": "stream",
       "stream": "stdout",
       "text": [
        " \r",
        "[*****************96%****************  ]  81492 of 85230 complete Elapsed: 0.6 minutes\t Remaining: 0.0 minutes"
       ]
      },
      {
       "output_type": "stream",
       "stream": "stdout",
       "text": [
        " \r",
        "[                  0%                  ]"
       ]
      },
      {
       "output_type": "stream",
       "stream": "stdout",
       "text": [
        " \r",
        "[**                4%                  ]  3408 of 85230 complete Elapsed: 0.0 minutes\t Remaining: 0.6 minutes"
       ]
      },
      {
       "output_type": "stream",
       "stream": "stdout",
       "text": [
        " \r",
        "[***               8%                  ]  6799 of 85230 complete Elapsed: 0.1 minutes\t Remaining: 0.6 minutes"
       ]
      },
      {
       "output_type": "stream",
       "stream": "stdout",
       "text": [
        " \r",
        "[*****            12%                  ]  10198 of 85230 complete Elapsed: 0.1 minutes\t Remaining: 0.6 minutes"
       ]
      },
      {
       "output_type": "stream",
       "stream": "stdout",
       "text": [
        " \r",
        "[******           16%                  ]  13590 of 85230 complete Elapsed: 0.1 minutes\t Remaining: 0.5 minutes"
       ]
      },
      {
       "output_type": "stream",
       "stream": "stdout",
       "text": [
        " \r",
        "[********         20%                  ]  16990 of 85230 complete Elapsed: 0.1 minutes\t Remaining: 0.5 minutes"
       ]
      },
      {
       "output_type": "stream",
       "stream": "stdout",
       "text": [
        " \r",
        "[*********        24%                  ]  20379 of 85230 complete Elapsed: 0.2 minutes\t Remaining: 0.5 minutes"
       ]
      },
      {
       "output_type": "stream",
       "stream": "stdout",
       "text": [
        " \r",
        "[***********      28%                  ]  23778 of 85230 complete Elapsed: 0.2 minutes\t Remaining: 0.5 minutes"
       ]
      },
      {
       "output_type": "stream",
       "stream": "stdout",
       "text": [
        " \r",
        "[************     32%                  ]  27170 of 85230 complete Elapsed: 0.2 minutes\t Remaining: 0.4 minutes"
       ]
      },
      {
       "output_type": "stream",
       "stream": "stdout",
       "text": [
        " \r",
        "[**************   36%                  ]  30569 of 85230 complete Elapsed: 0.2 minutes\t Remaining: 0.4 minutes"
       ]
      },
      {
       "output_type": "stream",
       "stream": "stdout",
       "text": [
        " \r",
        "[***************  40%                  ]  33955 of 85230 complete Elapsed: 0.3 minutes\t Remaining: 0.4 minutes"
       ]
      },
      {
       "output_type": "stream",
       "stream": "stdout",
       "text": [
        " \r",
        "[*****************44%                  ]  37352 of 85230 complete Elapsed: 0.3 minutes\t Remaining: 0.4 minutes"
       ]
      },
      {
       "output_type": "stream",
       "stream": "stdout",
       "text": [
        " \r",
        "[*****************48%                  ]  40742 of 85230 complete Elapsed: 0.3 minutes\t Remaining: 0.3 minutes"
       ]
      },
      {
       "output_type": "stream",
       "stream": "stdout",
       "text": [
        " \r",
        "[*****************52%                  ]  44140 of 85230 complete Elapsed: 0.3 minutes\t Remaining: 0.3 minutes"
       ]
      },
      {
       "output_type": "stream",
       "stream": "stdout",
       "text": [
        " \r",
        "[*****************56%*                 ]  47532 of 85230 complete Elapsed: 0.4 minutes\t Remaining: 0.3 minutes"
       ]
      },
      {
       "output_type": "stream",
       "stream": "stdout",
       "text": [
        " \r",
        "[*****************60%***               ]  50930 of 85230 complete Elapsed: 0.4 minutes\t Remaining: 0.3 minutes"
       ]
      },
      {
       "output_type": "stream",
       "stream": "stdout",
       "text": [
        " \r",
        "[*****************64%****              ]  54322 of 85230 complete Elapsed: 0.4 minutes\t Remaining: 0.2 minutes"
       ]
      },
      {
       "output_type": "stream",
       "stream": "stdout",
       "text": [
        " \r",
        "[*****************68%******            ]  57720 of 85230 complete Elapsed: 0.4 minutes\t Remaining: 0.2 minutes"
       ]
      },
      {
       "output_type": "stream",
       "stream": "stdout",
       "text": [
        " \r",
        "[*****************72%*******           ]  61110 of 85230 complete Elapsed: 0.5 minutes\t Remaining: 0.2 minutes"
       ]
      },
      {
       "output_type": "stream",
       "stream": "stdout",
       "text": [
        " \r",
        "[*****************76%*********         ]  64508 of 85230 complete Elapsed: 0.5 minutes\t Remaining: 0.2 minutes"
       ]
      },
      {
       "output_type": "stream",
       "stream": "stdout",
       "text": [
        " \r",
        "[*****************80%**********        ]  67898 of 85230 complete Elapsed: 0.5 minutes\t Remaining: 0.1 minutes"
       ]
      },
      {
       "output_type": "stream",
       "stream": "stdout",
       "text": [
        " \r",
        "[*****************84%************      ]  71296 of 85230 complete Elapsed: 0.5 minutes\t Remaining: 0.1 minutes"
       ]
      },
      {
       "output_type": "stream",
       "stream": "stdout",
       "text": [
        " \r",
        "[*****************88%*************     ]  74686 of 85230 complete Elapsed: 0.6 minutes\t Remaining: 0.1 minutes"
       ]
      },
      {
       "output_type": "stream",
       "stream": "stdout",
       "text": [
        " \r",
        "[*****************92%***************   ]  78084 of 85230 complete Elapsed: 0.6 minutes\t Remaining: 0.1 minutes"
       ]
      },
      {
       "output_type": "stream",
       "stream": "stdout",
       "text": [
        " \r",
        "[*****************96%****************  ]  81474 of 85230 complete Elapsed: 0.6 minutes\t Remaining: 0.0 minutes"
       ]
      },
      {
       "output_type": "stream",
       "stream": "stdout",
       "text": [
        " \r",
        "[                  0%                  ]"
       ]
      },
      {
       "output_type": "stream",
       "stream": "stdout",
       "text": [
        " \r",
        "[**                4%                  ]  3395 of 80446 complete Elapsed: 0.0 minutes\t Remaining: 0.6 minutes"
       ]
      },
      {
       "output_type": "stream",
       "stream": "stdout",
       "text": [
        " \r",
        "[***               8%                  ]  6792 of 80446 complete Elapsed: 0.1 minutes\t Remaining: 0.5 minutes"
       ]
      },
      {
       "output_type": "stream",
       "stream": "stdout",
       "text": [
        " \r",
        "[*****            13%                  ]  10179 of 80446 complete Elapsed: 0.1 minutes\t Remaining: 0.5 minutes"
       ]
      },
      {
       "output_type": "stream",
       "stream": "stdout",
       "text": [
        " \r",
        "[******           17%                  ]  13575 of 80446 complete Elapsed: 0.1 minutes\t Remaining: 0.5 minutes"
       ]
      },
      {
       "output_type": "stream",
       "stream": "stdout",
       "text": [
        " \r",
        "[********         21%                  ]  16958 of 80446 complete Elapsed: 0.1 minutes\t Remaining: 0.5 minutes"
       ]
      },
      {
       "output_type": "stream",
       "stream": "stdout",
       "text": [
        " \r",
        "[**********       25%                  ]  20345 of 80446 complete Elapsed: 0.2 minutes\t Remaining: 0.4 minutes"
       ]
      },
      {
       "output_type": "stream",
       "stream": "stdout",
       "text": [
        " \r",
        "[***********      29%                  ]  23730 of 80446 complete Elapsed: 0.2 minutes\t Remaining: 0.4 minutes"
       ]
      },
      {
       "output_type": "stream",
       "stream": "stdout",
       "text": [
        " \r",
        "[*************    34%                  ]  27125 of 80446 complete Elapsed: 0.2 minutes\t Remaining: 0.4 minutes"
       ]
      },
      {
       "output_type": "stream",
       "stream": "stdout",
       "text": [
        " \r",
        "[**************   38%                  ]  30513 of 80446 complete Elapsed: 0.2 minutes\t Remaining: 0.4 minutes"
       ]
      },
      {
       "output_type": "stream",
       "stream": "stdout",
       "text": [
        " \r",
        "[**************** 42%                  ]  33909 of 80446 complete Elapsed: 0.3 minutes\t Remaining: 0.3 minutes"
       ]
      },
      {
       "output_type": "stream",
       "stream": "stdout",
       "text": [
        " \r",
        "[*****************46%                  ]  37299 of 80446 complete Elapsed: 0.3 minutes\t Remaining: 0.3 minutes"
       ]
      },
      {
       "output_type": "stream",
       "stream": "stdout",
       "text": [
        " \r",
        "[*****************51%                  ]  40695 of 80446 complete Elapsed: 0.3 minutes\t Remaining: 0.3 minutes"
       ]
      },
      {
       "output_type": "stream",
       "stream": "stdout",
       "text": [
        " \r",
        "[*****************55%*                 ]  44083 of 80446 complete Elapsed: 0.3 minutes\t Remaining: 0.3 minutes"
       ]
      },
      {
       "output_type": "stream",
       "stream": "stdout",
       "text": [
        " \r",
        "[*****************59%**                ]  47478 of 80446 complete Elapsed: 0.4 minutes\t Remaining: 0.2 minutes"
       ]
      },
      {
       "output_type": "stream",
       "stream": "stdout",
       "text": [
        " \r",
        "[*****************63%****              ]  50865 of 80446 complete Elapsed: 0.4 minutes\t Remaining: 0.2 minutes"
       ]
      },
      {
       "output_type": "stream",
       "stream": "stdout",
       "text": [
        " \r",
        "[*****************67%*****             ]  54261 of 80446 complete Elapsed: 0.4 minutes\t Remaining: 0.2 minutes"
       ]
      },
      {
       "output_type": "stream",
       "stream": "stdout",
       "text": [
        " \r",
        "[*****************72%*******           ]  57651 of 80446 complete Elapsed: 0.4 minutes\t Remaining: 0.2 minutes"
       ]
      },
      {
       "output_type": "stream",
       "stream": "stdout",
       "text": [
        " \r",
        "[*****************76%*********         ]  61047 of 80446 complete Elapsed: 0.5 minutes\t Remaining: 0.1 minutes"
       ]
      },
      {
       "output_type": "stream",
       "stream": "stdout",
       "text": [
        " \r",
        "[*****************80%**********        ]  64436 of 80446 complete Elapsed: 0.5 minutes\t Remaining: 0.1 minutes"
       ]
      },
      {
       "output_type": "stream",
       "stream": "stdout",
       "text": [
        " \r",
        "[*****************84%************      ]  67833 of 80446 complete Elapsed: 0.5 minutes\t Remaining: 0.1 minutes"
       ]
      },
      {
       "output_type": "stream",
       "stream": "stdout",
       "text": [
        " \r",
        "[*****************89%**************    ]  71222 of 80446 complete Elapsed: 0.5 minutes\t Remaining: 0.1 minutes"
       ]
      },
      {
       "output_type": "stream",
       "stream": "stdout",
       "text": [
        " \r",
        "[*****************93%***************   ]  74616 of 80446 complete Elapsed: 0.6 minutes\t Remaining: 0.0 minutes"
       ]
      },
      {
       "output_type": "stream",
       "stream": "stdout",
       "text": [
        " \r",
        "[                  0%                  ]"
       ]
      },
      {
       "output_type": "stream",
       "stream": "stdout",
       "text": [
        " \r",
        "[**                4%                  ]  3414 of 80446 complete Elapsed: 0.0 minutes\t Remaining: 0.6 minutes"
       ]
      },
      {
       "output_type": "stream",
       "stream": "stdout",
       "text": [
        " \r",
        "[***               8%                  ]  6815 of 80446 complete Elapsed: 0.1 minutes\t Remaining: 0.5 minutes"
       ]
      },
      {
       "output_type": "stream",
       "stream": "stdout",
       "text": [
        " \r",
        "[*****            13%                  ]  10226 of 80446 complete Elapsed: 0.1 minutes\t Remaining: 0.5 minutes"
       ]
      },
      {
       "output_type": "stream",
       "stream": "stdout",
       "text": [
        " \r",
        "[******           17%                  ]  13629 of 80446 complete Elapsed: 0.1 minutes\t Remaining: 0.5 minutes"
       ]
      },
      {
       "output_type": "stream",
       "stream": "stdout",
       "text": [
        " \r",
        "[********         21%                  ]  17039 of 80446 complete Elapsed: 0.1 minutes\t Remaining: 0.5 minutes"
       ]
      },
      {
       "output_type": "stream",
       "stream": "stdout",
       "text": [
        " \r",
        "[**********       25%                  ]  20440 of 80446 complete Elapsed: 0.2 minutes\t Remaining: 0.4 minutes"
       ]
      },
      {
       "output_type": "stream",
       "stream": "stdout",
       "text": [
        " \r",
        "[***********      30%                  ]  23847 of 80446 complete Elapsed: 0.2 minutes\t Remaining: 0.4 minutes"
       ]
      },
      {
       "output_type": "stream",
       "stream": "stdout",
       "text": [
        " \r",
        "[*************    34%                  ]  27245 of 80446 complete Elapsed: 0.2 minutes\t Remaining: 0.4 minutes"
       ]
      },
      {
       "output_type": "stream",
       "stream": "stdout",
       "text": [
        " \r",
        "[**************   38%                  ]  30651 of 80446 complete Elapsed: 0.2 minutes\t Remaining: 0.4 minutes"
       ]
      },
      {
       "output_type": "stream",
       "stream": "stdout",
       "text": [
        " \r",
        "[**************** 42%                  ]  34054 of 80446 complete Elapsed: 0.3 minutes\t Remaining: 0.3 minutes"
       ]
      },
      {
       "output_type": "stream",
       "stream": "stdout",
       "text": [
        " \r",
        "[*****************47%                  ]  37463 of 80446 complete Elapsed: 0.3 minutes\t Remaining: 0.3 minutes"
       ]
      },
      {
       "output_type": "stream",
       "stream": "stdout",
       "text": [
        " \r",
        "[*****************51%                  ]  40866 of 80446 complete Elapsed: 0.3 minutes\t Remaining: 0.3 minutes"
       ]
      },
      {
       "output_type": "stream",
       "stream": "stdout",
       "text": [
        " \r",
        "[*****************55%*                 ]  44276 of 80446 complete Elapsed: 0.3 minutes\t Remaining: 0.3 minutes"
       ]
      },
      {
       "output_type": "stream",
       "stream": "stdout",
       "text": [
        " \r",
        "[*****************59%**                ]  47680 of 80446 complete Elapsed: 0.4 minutes\t Remaining: 0.2 minutes"
       ]
      },
      {
       "output_type": "stream",
       "stream": "stdout",
       "text": [
        " \r",
        "[*****************64%****              ]  51088 of 80446 complete Elapsed: 0.4 minutes\t Remaining: 0.2 minutes"
       ]
      },
      {
       "output_type": "stream",
       "stream": "stdout",
       "text": [
        " \r",
        "[*****************68%******            ]  54491 of 80446 complete Elapsed: 0.4 minutes\t Remaining: 0.2 minutes"
       ]
      },
      {
       "output_type": "stream",
       "stream": "stdout",
       "text": [
        " \r",
        "[*****************72%*******           ]  57902 of 80446 complete Elapsed: 0.4 minutes\t Remaining: 0.2 minutes"
       ]
      },
      {
       "output_type": "stream",
       "stream": "stdout",
       "text": [
        " \r",
        "[*****************76%*********         ]  61307 of 80446 complete Elapsed: 0.5 minutes\t Remaining: 0.1 minutes"
       ]
      },
      {
       "output_type": "stream",
       "stream": "stdout",
       "text": [
        " \r",
        "[*****************80%**********        ]  64718 of 80446 complete Elapsed: 0.5 minutes\t Remaining: 0.1 minutes"
       ]
      },
      {
       "output_type": "stream",
       "stream": "stdout",
       "text": [
        " \r",
        "[*****************85%************      ]  68121 of 80446 complete Elapsed: 0.5 minutes\t Remaining: 0.1 minutes"
       ]
      },
      {
       "output_type": "stream",
       "stream": "stdout",
       "text": [
        " \r",
        "[*****************89%**************    ]  71531 of 80446 complete Elapsed: 0.5 minutes\t Remaining: 0.1 minutes"
       ]
      },
      {
       "output_type": "stream",
       "stream": "stdout",
       "text": [
        " \r",
        "[*****************93%***************   ]  74933 of 80446 complete Elapsed: 0.6 minutes\t Remaining: 0.0 minutes"
       ]
      },
      {
       "output_type": "stream",
       "stream": "stdout",
       "text": [
        " \r",
        "[                  0%                  ]"
       ]
      },
      {
       "output_type": "stream",
       "stream": "stdout",
       "text": [
        " \r",
        "[**                6%                  ]  3394 of 61523 complete Elapsed: 0.0 minutes\t Remaining: 0.4 minutes"
       ]
      },
      {
       "output_type": "stream",
       "stream": "stdout",
       "text": [
        " \r",
        "[****             11%                  ]  6788 of 61523 complete Elapsed: 0.1 minutes\t Remaining: 0.4 minutes"
       ]
      },
      {
       "output_type": "stream",
       "stream": "stdout",
       "text": [
        " \r",
        "[******           17%                  ]  10176 of 61523 complete Elapsed: 0.1 minutes\t Remaining: 0.4 minutes"
       ]
      },
      {
       "output_type": "stream",
       "stream": "stdout",
       "text": [
        " \r",
        "[********         22%                  ]  13569 of 61523 complete Elapsed: 0.1 minutes\t Remaining: 0.4 minutes"
       ]
      },
      {
       "output_type": "stream",
       "stream": "stdout",
       "text": [
        " \r",
        "[***********      28%                  ]  16957 of 61523 complete Elapsed: 0.1 minutes\t Remaining: 0.3 minutes"
       ]
      },
      {
       "output_type": "stream",
       "stream": "stdout",
       "text": [
        " \r",
        "[*************    33%                  ]  20352 of 61523 complete Elapsed: 0.2 minutes\t Remaining: 0.3 minutes"
       ]
      },
      {
       "output_type": "stream",
       "stream": "stdout",
       "text": [
        " \r",
        "[***************  39%                  ]  23739 of 61523 complete Elapsed: 0.2 minutes\t Remaining: 0.3 minutes"
       ]
      },
      {
       "output_type": "stream",
       "stream": "stdout",
       "text": [
        " \r",
        "[*****************44%                  ]  27134 of 61523 complete Elapsed: 0.2 minutes\t Remaining: 0.3 minutes"
       ]
      },
      {
       "output_type": "stream",
       "stream": "stdout",
       "text": [
        " \r",
        "[*****************50%                  ]  30522 of 61523 complete Elapsed: 0.2 minutes\t Remaining: 0.2 minutes"
       ]
      },
      {
       "output_type": "stream",
       "stream": "stdout",
       "text": [
        " \r",
        "[*****************55%*                 ]  33916 of 61523 complete Elapsed: 0.3 minutes\t Remaining: 0.2 minutes"
       ]
      },
      {
       "output_type": "stream",
       "stream": "stdout",
       "text": [
        " \r",
        "[*****************61%***               ]  37304 of 61523 complete Elapsed: 0.3 minutes\t Remaining: 0.2 minutes"
       ]
      },
      {
       "output_type": "stream",
       "stream": "stdout",
       "text": [
        " \r",
        "[*****************66%*****             ]  40700 of 61523 complete Elapsed: 0.3 minutes\t Remaining: 0.2 minutes"
       ]
      },
      {
       "output_type": "stream",
       "stream": "stdout",
       "text": [
        " \r",
        "[*****************72%*******           ]  44089 of 61523 complete Elapsed: 0.3 minutes\t Remaining: 0.1 minutes"
       ]
      },
      {
       "output_type": "stream",
       "stream": "stdout",
       "text": [
        " \r",
        "[*****************77%*********         ]  47484 of 61523 complete Elapsed: 0.4 minutes\t Remaining: 0.1 minutes"
       ]
      },
      {
       "output_type": "stream",
       "stream": "stdout",
       "text": [
        " \r",
        "[*****************83%************      ]  50872 of 61523 complete Elapsed: 0.4 minutes\t Remaining: 0.1 minutes"
       ]
      },
      {
       "output_type": "stream",
       "stream": "stdout",
       "text": [
        " \r",
        "[*****************88%*************     ]  54264 of 61523 complete Elapsed: 0.4 minutes\t Remaining: 0.1 minutes"
       ]
      },
      {
       "output_type": "stream",
       "stream": "stdout",
       "text": [
        " \r",
        "[*****************94%****************  ]  57652 of 61523 complete Elapsed: 0.4 minutes\t Remaining: 0.0 minutes"
       ]
      },
      {
       "output_type": "stream",
       "stream": "stdout",
       "text": [
        " \r",
        "[                  0%                  ]"
       ]
      },
      {
       "output_type": "stream",
       "stream": "stdout",
       "text": [
        " \r",
        "[**                6%                  ]  3398 of 61523 complete Elapsed: 0.0 minutes\t Remaining: 0.4 minutes"
       ]
      },
      {
       "output_type": "stream",
       "stream": "stdout",
       "text": [
        " \r",
        "[****             11%                  ]  6791 of 61523 complete Elapsed: 0.1 minutes\t Remaining: 0.4 minutes"
       ]
      },
      {
       "output_type": "stream",
       "stream": "stdout",
       "text": [
        " \r",
        "[******           17%                  ]  10179 of 61523 complete Elapsed: 0.1 minutes\t Remaining: 0.4 minutes"
       ]
      },
      {
       "output_type": "stream",
       "stream": "stdout",
       "text": [
        " \r",
        "[********         22%                  ]  13574 of 61523 complete Elapsed: 0.1 minutes\t Remaining: 0.4 minutes"
       ]
      },
      {
       "output_type": "stream",
       "stream": "stdout",
       "text": [
        " \r",
        "[***********      28%                  ]  16962 of 61523 complete Elapsed: 0.1 minutes\t Remaining: 0.3 minutes"
       ]
      },
      {
       "output_type": "stream",
       "stream": "stdout",
       "text": [
        " \r",
        "[*************    33%                  ]  20358 of 61523 complete Elapsed: 0.2 minutes\t Remaining: 0.3 minutes"
       ]
      },
      {
       "output_type": "stream",
       "stream": "stdout",
       "text": [
        " \r",
        "[***************  39%                  ]  23748 of 61523 complete Elapsed: 0.2 minutes\t Remaining: 0.3 minutes"
       ]
      },
      {
       "output_type": "stream",
       "stream": "stdout",
       "text": [
        " \r",
        "[*****************44%                  ]  27143 of 61523 complete Elapsed: 0.2 minutes\t Remaining: 0.3 minutes"
       ]
      },
      {
       "output_type": "stream",
       "stream": "stdout",
       "text": [
        " \r",
        "[*****************50%                  ]  30533 of 61523 complete Elapsed: 0.2 minutes\t Remaining: 0.2 minutes"
       ]
      },
      {
       "output_type": "stream",
       "stream": "stdout",
       "text": [
        " \r",
        "[*****************55%*                 ]  33929 of 61523 complete Elapsed: 0.3 minutes\t Remaining: 0.2 minutes"
       ]
      },
      {
       "output_type": "stream",
       "stream": "stdout",
       "text": [
        " \r",
        "[*****************61%***               ]  37318 of 61523 complete Elapsed: 0.3 minutes\t Remaining: 0.2 minutes"
       ]
      },
      {
       "output_type": "stream",
       "stream": "stdout",
       "text": [
        " \r",
        "[*****************66%*****             ]  40714 of 61523 complete Elapsed: 0.3 minutes\t Remaining: 0.2 minutes"
       ]
      },
      {
       "output_type": "stream",
       "stream": "stdout",
       "text": [
        " \r",
        "[*****************72%*******           ]  44105 of 61523 complete Elapsed: 0.3 minutes\t Remaining: 0.1 minutes"
       ]
      },
      {
       "output_type": "stream",
       "stream": "stdout",
       "text": [
        " \r",
        "[*****************77%*********         ]  47501 of 61523 complete Elapsed: 0.4 minutes\t Remaining: 0.1 minutes"
       ]
      },
      {
       "output_type": "stream",
       "stream": "stdout",
       "text": [
        " \r",
        "[*****************83%************      ]  50889 of 61523 complete Elapsed: 0.4 minutes\t Remaining: 0.1 minutes"
       ]
      },
      {
       "output_type": "stream",
       "stream": "stdout",
       "text": [
        " \r",
        "[*****************88%*************     ]  54284 of 61523 complete Elapsed: 0.4 minutes\t Remaining: 0.1 minutes"
       ]
      },
      {
       "output_type": "stream",
       "stream": "stdout",
       "text": [
        " \r",
        "[*****************94%****************  ]  57672 of 61523 complete Elapsed: 0.4 minutes\t Remaining: 0.0 minutes"
       ]
      },
      {
       "output_type": "stream",
       "stream": "stdout",
       "text": [
        " \r",
        "[                  0%                  ]"
       ]
      },
      {
       "output_type": "stream",
       "stream": "stdout",
       "text": [
        " \r",
        "[**                5%                  ]  3391 of 72002 complete Elapsed: 0.0 minutes\t Remaining: 0.5 minutes"
       ]
      },
      {
       "output_type": "stream",
       "stream": "stdout",
       "text": [
        " \r",
        "[***               9%                  ]  6783 of 72002 complete Elapsed: 0.1 minutes\t Remaining: 0.5 minutes"
       ]
      },
      {
       "output_type": "stream",
       "stream": "stdout",
       "text": [
        " \r",
        "[*****            14%                  ]  10168 of 72002 complete Elapsed: 0.1 minutes\t Remaining: 0.5 minutes"
       ]
      },
      {
       "output_type": "stream",
       "stream": "stdout",
       "text": [
        " \r",
        "[*******          19%                  ]  13560 of 72002 complete Elapsed: 0.1 minutes\t Remaining: 0.4 minutes"
       ]
      },
      {
       "output_type": "stream",
       "stream": "stdout",
       "text": [
        " \r",
        "[*********        24%                  ]  16945 of 72002 complete Elapsed: 0.1 minutes\t Remaining: 0.4 minutes"
       ]
      },
      {
       "output_type": "stream",
       "stream": "stdout",
       "text": [
        " \r",
        "[***********      28%                  ]  20339 of 72002 complete Elapsed: 0.2 minutes\t Remaining: 0.4 minutes"
       ]
      },
      {
       "output_type": "stream",
       "stream": "stdout",
       "text": [
        " \r",
        "[*************    33%                  ]  23724 of 72002 complete Elapsed: 0.2 minutes\t Remaining: 0.4 minutes"
       ]
      },
      {
       "output_type": "stream",
       "stream": "stdout",
       "text": [
        " \r",
        "[**************   38%                  ]  27118 of 72002 complete Elapsed: 0.2 minutes\t Remaining: 0.3 minutes"
       ]
      },
      {
       "output_type": "stream",
       "stream": "stdout",
       "text": [
        " \r",
        "[**************** 42%                  ]  30498 of 72002 complete Elapsed: 0.2 minutes\t Remaining: 0.3 minutes"
       ]
      },
      {
       "output_type": "stream",
       "stream": "stdout",
       "text": [
        " \r",
        "[*****************47%                  ]  33892 of 72002 complete Elapsed: 0.3 minutes\t Remaining: 0.3 minutes"
       ]
      },
      {
       "output_type": "stream",
       "stream": "stdout",
       "text": [
        " \r",
        "[*****************52%                  ]  37278 of 72002 complete Elapsed: 0.3 minutes\t Remaining: 0.3 minutes"
       ]
      },
      {
       "output_type": "stream",
       "stream": "stdout",
       "text": [
        " \r",
        "[*****************56%*                 ]  40673 of 72002 complete Elapsed: 0.3 minutes\t Remaining: 0.2 minutes"
       ]
      },
      {
       "output_type": "stream",
       "stream": "stdout",
       "text": [
        " \r",
        "[*****************61%***               ]  44059 of 72002 complete Elapsed: 0.3 minutes\t Remaining: 0.2 minutes"
       ]
      },
      {
       "output_type": "stream",
       "stream": "stdout",
       "text": [
        " \r",
        "[*****************66%*****             ]  47451 of 72002 complete Elapsed: 0.4 minutes\t Remaining: 0.2 minutes"
       ]
      },
      {
       "output_type": "stream",
       "stream": "stdout",
       "text": [
        " \r",
        "[*****************71%*******           ]  50837 of 72002 complete Elapsed: 0.4 minutes\t Remaining: 0.2 minutes"
       ]
      },
      {
       "output_type": "stream",
       "stream": "stdout",
       "text": [
        " \r",
        "[*****************75%*********         ]  54230 of 72002 complete Elapsed: 0.4 minutes\t Remaining: 0.1 minutes"
       ]
      },
      {
       "output_type": "stream",
       "stream": "stdout",
       "text": [
        " \r",
        "[*****************80%**********        ]  57617 of 72002 complete Elapsed: 0.4 minutes\t Remaining: 0.1 minutes"
       ]
      },
      {
       "output_type": "stream",
       "stream": "stdout",
       "text": [
        " \r",
        "[*****************85%************      ]  61012 of 72002 complete Elapsed: 0.5 minutes\t Remaining: 0.1 minutes"
       ]
      },
      {
       "output_type": "stream",
       "stream": "stdout",
       "text": [
        " \r",
        "[*****************89%**************    ]  64397 of 72002 complete Elapsed: 0.5 minutes\t Remaining: 0.1 minutes"
       ]
      },
      {
       "output_type": "stream",
       "stream": "stdout",
       "text": [
        " \r",
        "[*****************94%****************  ]  67792 of 72002 complete Elapsed: 0.5 minutes\t Remaining: 0.0 minutes"
       ]
      },
      {
       "output_type": "stream",
       "stream": "stdout",
       "text": [
        " \r",
        "[                  0%                  ]"
       ]
      },
      {
       "output_type": "stream",
       "stream": "stdout",
       "text": [
        " \r",
        "[**                5%                  ]  3404 of 72002 complete Elapsed: 0.0 minutes\t Remaining: 0.5 minutes"
       ]
      },
      {
       "output_type": "stream",
       "stream": "stdout",
       "text": [
        " \r",
        "[***               9%                  ]  6793 of 72002 complete Elapsed: 0.1 minutes\t Remaining: 0.5 minutes"
       ]
      },
      {
       "output_type": "stream",
       "stream": "stdout",
       "text": [
        " \r",
        "[*****            14%                  ]  10188 of 72002 complete Elapsed: 0.1 minutes\t Remaining: 0.5 minutes"
       ]
      },
      {
       "output_type": "stream",
       "stream": "stdout",
       "text": [
        " \r",
        "[*******          19%                  ]  13578 of 72002 complete Elapsed: 0.1 minutes\t Remaining: 0.4 minutes"
       ]
      },
      {
       "output_type": "stream",
       "stream": "stdout",
       "text": [
        " \r",
        "[*********        24%                  ]  16974 of 72002 complete Elapsed: 0.1 minutes\t Remaining: 0.4 minutes"
       ]
      },
      {
       "output_type": "stream",
       "stream": "stdout",
       "text": [
        " \r",
        "[***********      28%                  ]  20364 of 72002 complete Elapsed: 0.2 minutes\t Remaining: 0.4 minutes"
       ]
      },
      {
       "output_type": "stream",
       "stream": "stdout",
       "text": [
        " \r",
        "[*************    33%                  ]  23761 of 72002 complete Elapsed: 0.2 minutes\t Remaining: 0.4 minutes"
       ]
      },
      {
       "output_type": "stream",
       "stream": "stdout",
       "text": [
        " \r",
        "[**************   38%                  ]  27151 of 72002 complete Elapsed: 0.2 minutes\t Remaining: 0.3 minutes"
       ]
      },
      {
       "output_type": "stream",
       "stream": "stdout",
       "text": [
        " \r",
        "[**************** 42%                  ]  30548 of 72002 complete Elapsed: 0.2 minutes\t Remaining: 0.3 minutes"
       ]
      },
      {
       "output_type": "stream",
       "stream": "stdout",
       "text": [
        " \r",
        "[*****************47%                  ]  33938 of 72002 complete Elapsed: 0.3 minutes\t Remaining: 0.3 minutes"
       ]
      },
      {
       "output_type": "stream",
       "stream": "stdout",
       "text": [
        " \r",
        "[*****************52%                  ]  37335 of 72002 complete Elapsed: 0.3 minutes\t Remaining: 0.3 minutes"
       ]
      },
      {
       "output_type": "stream",
       "stream": "stdout",
       "text": [
        " \r",
        "[*****************57%**                ]  40725 of 72002 complete Elapsed: 0.3 minutes\t Remaining: 0.2 minutes"
       ]
      },
      {
       "output_type": "stream",
       "stream": "stdout",
       "text": [
        " \r",
        "[*****************61%***               ]  44124 of 72002 complete Elapsed: 0.3 minutes\t Remaining: 0.2 minutes"
       ]
      },
      {
       "output_type": "stream",
       "stream": "stdout",
       "text": [
        " \r",
        "[*****************66%*****             ]  47514 of 72002 complete Elapsed: 0.4 minutes\t Remaining: 0.2 minutes"
       ]
      },
      {
       "output_type": "stream",
       "stream": "stdout",
       "text": [
        " \r",
        "[*****************71%*******           ]  50912 of 72002 complete Elapsed: 0.4 minutes\t Remaining: 0.2 minutes"
       ]
      },
      {
       "output_type": "stream",
       "stream": "stdout",
       "text": [
        " \r",
        "[*****************75%*********         ]  54299 of 72002 complete Elapsed: 0.4 minutes\t Remaining: 0.1 minutes"
       ]
      },
      {
       "output_type": "stream",
       "stream": "stdout",
       "text": [
        " \r",
        "[*****************80%**********        ]  57693 of 72002 complete Elapsed: 0.4 minutes\t Remaining: 0.1 minutes"
       ]
      },
      {
       "output_type": "stream",
       "stream": "stdout",
       "text": [
        " \r",
        "[*****************85%************      ]  61084 of 72002 complete Elapsed: 0.5 minutes\t Remaining: 0.1 minutes"
       ]
      },
      {
       "output_type": "stream",
       "stream": "stdout",
       "text": [
        " \r",
        "[*****************90%**************    ]  64481 of 72002 complete Elapsed: 0.5 minutes\t Remaining: 0.1 minutes"
       ]
      },
      {
       "output_type": "stream",
       "stream": "stdout",
       "text": [
        " \r",
        "[*****************94%****************  ]  67869 of 72002 complete Elapsed: 0.5 minutes\t Remaining: 0.0 minutes"
       ]
      },
      {
       "output_type": "stream",
       "stream": "stdout",
       "text": [
        " \r",
        "[                  0%                  ]"
       ]
      },
      {
       "output_type": "stream",
       "stream": "stdout",
       "text": [
        " \r",
        "[**                5%                  ]  3397 of 71747 complete Elapsed: 0.0 minutes\t Remaining: 0.5 minutes"
       ]
      },
      {
       "output_type": "stream",
       "stream": "stdout",
       "text": [
        " \r",
        "[***               9%                  ]  6794 of 71747 complete Elapsed: 0.1 minutes\t Remaining: 0.5 minutes"
       ]
      },
      {
       "output_type": "stream",
       "stream": "stdout",
       "text": [
        " \r",
        "[*****            14%                  ]  10179 of 71747 complete Elapsed: 0.1 minutes\t Remaining: 0.5 minutes"
       ]
      },
      {
       "output_type": "stream",
       "stream": "stdout",
       "text": [
        " \r",
        "[*******          19%                  ]  13573 of 71747 complete Elapsed: 0.1 minutes\t Remaining: 0.4 minutes"
       ]
      },
      {
       "output_type": "stream",
       "stream": "stdout",
       "text": [
        " \r",
        "[*********        24%                  ]  16963 of 71747 complete Elapsed: 0.1 minutes\t Remaining: 0.4 minutes"
       ]
      },
      {
       "output_type": "stream",
       "stream": "stdout",
       "text": [
        " \r",
        "[***********      28%                  ]  20362 of 71747 complete Elapsed: 0.2 minutes\t Remaining: 0.4 minutes"
       ]
      },
      {
       "output_type": "stream",
       "stream": "stdout",
       "text": [
        " \r",
        "[*************    33%                  ]  23747 of 71747 complete Elapsed: 0.2 minutes\t Remaining: 0.4 minutes"
       ]
      },
      {
       "output_type": "stream",
       "stream": "stdout",
       "text": [
        " \r",
        "[**************   38%                  ]  27146 of 71747 complete Elapsed: 0.2 minutes\t Remaining: 0.3 minutes"
       ]
      },
      {
       "output_type": "stream",
       "stream": "stdout",
       "text": [
        " \r",
        "[**************** 43%                  ]  30539 of 71747 complete Elapsed: 0.2 minutes\t Remaining: 0.3 minutes"
       ]
      },
      {
       "output_type": "stream",
       "stream": "stdout",
       "text": [
        " \r",
        "[*****************47%                  ]  33932 of 71747 complete Elapsed: 0.3 minutes\t Remaining: 0.3 minutes"
       ]
      },
      {
       "output_type": "stream",
       "stream": "stdout",
       "text": [
        " \r",
        "[*****************52%                  ]  37317 of 71747 complete Elapsed: 0.3 minutes\t Remaining: 0.3 minutes"
       ]
      },
      {
       "output_type": "stream",
       "stream": "stdout",
       "text": [
        " \r",
        "[*****************57%**                ]  40709 of 71747 complete Elapsed: 0.3 minutes\t Remaining: 0.2 minutes"
       ]
      },
      {
       "output_type": "stream",
       "stream": "stdout",
       "text": [
        " \r",
        "[*****************61%***               ]  44096 of 71747 complete Elapsed: 0.3 minutes\t Remaining: 0.2 minutes"
       ]
      },
      {
       "output_type": "stream",
       "stream": "stdout",
       "text": [
        " \r",
        "[*****************66%*****             ]  47490 of 71747 complete Elapsed: 0.4 minutes\t Remaining: 0.2 minutes"
       ]
      },
      {
       "output_type": "stream",
       "stream": "stdout",
       "text": [
        " \r",
        "[*****************71%*******           ]  50877 of 71747 complete Elapsed: 0.4 minutes\t Remaining: 0.2 minutes"
       ]
      },
      {
       "output_type": "stream",
       "stream": "stdout",
       "text": [
        " \r",
        "[*****************76%*********         ]  54273 of 71747 complete Elapsed: 0.4 minutes\t Remaining: 0.1 minutes"
       ]
      },
      {
       "output_type": "stream",
       "stream": "stdout",
       "text": [
        " \r",
        "[*****************80%**********        ]  57664 of 71747 complete Elapsed: 0.4 minutes\t Remaining: 0.1 minutes"
       ]
      },
      {
       "output_type": "stream",
       "stream": "stdout",
       "text": [
        " \r",
        "[*****************85%************      ]  61059 of 71747 complete Elapsed: 0.5 minutes\t Remaining: 0.1 minutes"
       ]
      },
      {
       "output_type": "stream",
       "stream": "stdout",
       "text": [
        " \r",
        "[*****************90%**************    ]  64453 of 71747 complete Elapsed: 0.5 minutes\t Remaining: 0.1 minutes"
       ]
      },
      {
       "output_type": "stream",
       "stream": "stdout",
       "text": [
        " \r",
        "[*****************95%****************  ]  67850 of 71747 complete Elapsed: 0.5 minutes\t Remaining: 0.0 minutes"
       ]
      },
      {
       "output_type": "stream",
       "stream": "stdout",
       "text": [
        " \r",
        "[                  0%                  ]"
       ]
      },
      {
       "output_type": "stream",
       "stream": "stdout",
       "text": [
        " \r",
        "[**                5%                  ]  3400 of 71747 complete Elapsed: 0.0 minutes\t Remaining: 0.5 minutes"
       ]
      },
      {
       "output_type": "stream",
       "stream": "stdout",
       "text": [
        " \r",
        "[***               9%                  ]  6784 of 71747 complete Elapsed: 0.1 minutes\t Remaining: 0.5 minutes"
       ]
      },
      {
       "output_type": "stream",
       "stream": "stdout",
       "text": [
        " \r",
        "[*****            14%                  ]  10178 of 71747 complete Elapsed: 0.1 minutes\t Remaining: 0.5 minutes"
       ]
      },
      {
       "output_type": "stream",
       "stream": "stdout",
       "text": [
        " \r",
        "[*******          19%                  ]  13568 of 71747 complete Elapsed: 0.1 minutes\t Remaining: 0.4 minutes"
       ]
      },
      {
       "output_type": "stream",
       "stream": "stdout",
       "text": [
        " \r",
        "[*********        24%                  ]  16968 of 71747 complete Elapsed: 0.1 minutes\t Remaining: 0.4 minutes"
       ]
      },
      {
       "output_type": "stream",
       "stream": "stdout",
       "text": [
        " \r",
        "[***********      28%                  ]  20361 of 71747 complete Elapsed: 0.2 minutes\t Remaining: 0.4 minutes"
       ]
      },
      {
       "output_type": "stream",
       "stream": "stdout",
       "text": [
        " \r",
        "[*************    33%                  ]  23760 of 71747 complete Elapsed: 0.2 minutes\t Remaining: 0.4 minutes"
       ]
      },
      {
       "output_type": "stream",
       "stream": "stdout",
       "text": [
        " \r",
        "[**************   38%                  ]  27154 of 71747 complete Elapsed: 0.2 minutes\t Remaining: 0.3 minutes"
       ]
      },
      {
       "output_type": "stream",
       "stream": "stdout",
       "text": [
        " \r",
        "[**************** 43%                  ]  30554 of 71747 complete Elapsed: 0.2 minutes\t Remaining: 0.3 minutes"
       ]
      },
      {
       "output_type": "stream",
       "stream": "stdout",
       "text": [
        " \r",
        "[*****************47%                  ]  33948 of 71747 complete Elapsed: 0.3 minutes\t Remaining: 0.3 minutes"
       ]
      },
      {
       "output_type": "stream",
       "stream": "stdout",
       "text": [
        " \r",
        "[*****************52%                  ]  37349 of 71747 complete Elapsed: 0.3 minutes\t Remaining: 0.3 minutes"
       ]
      },
      {
       "output_type": "stream",
       "stream": "stdout",
       "text": [
        " \r",
        "[*****************57%**                ]  40742 of 71747 complete Elapsed: 0.3 minutes\t Remaining: 0.2 minutes"
       ]
      },
      {
       "output_type": "stream",
       "stream": "stdout",
       "text": [
        " \r",
        "[*****************62%****              ]  44137 of 71747 complete Elapsed: 0.3 minutes\t Remaining: 0.2 minutes"
       ]
      },
      {
       "output_type": "stream",
       "stream": "stdout",
       "text": [
        " \r",
        "[*****************66%*****             ]  47522 of 71747 complete Elapsed: 0.4 minutes\t Remaining: 0.2 minutes"
       ]
      },
      {
       "output_type": "stream",
       "stream": "stdout",
       "text": [
        " \r",
        "[*****************71%*******           ]  50992 of 71747 complete Elapsed: 0.4 minutes\t Remaining: 0.2 minutes"
       ]
      },
      {
       "output_type": "stream",
       "stream": "stdout",
       "text": [
        " \r",
        "[*****************76%*********         ]  54531 of 71747 complete Elapsed: 0.4 minutes\t Remaining: 0.1 minutes"
       ]
      },
      {
       "output_type": "stream",
       "stream": "stdout",
       "text": [
        " \r",
        "[*****************81%***********       ]  58078 of 71747 complete Elapsed: 0.4 minutes\t Remaining: 0.1 minutes"
       ]
      },
      {
       "output_type": "stream",
       "stream": "stdout",
       "text": [
        " \r",
        "[*****************86%*************     ]  61618 of 71747 complete Elapsed: 0.5 minutes\t Remaining: 0.1 minutes"
       ]
      },
      {
       "output_type": "stream",
       "stream": "stdout",
       "text": [
        " \r",
        "[*****************91%***************   ]  65165 of 71747 complete Elapsed: 0.5 minutes\t Remaining: 0.0 minutes"
       ]
      },
      {
       "output_type": "stream",
       "stream": "stdout",
       "text": [
        " \r",
        "[                  0%                  ]"
       ]
      },
      {
       "output_type": "stream",
       "stream": "stdout",
       "text": [
        " \r",
        "[**                5%                  ]  3547 of 67827 complete Elapsed: 0.0 minutes\t Remaining: 0.5 minutes"
       ]
      },
      {
       "output_type": "stream",
       "stream": "stdout",
       "text": [
        " \r",
        "[****             10%                  ]  7080 of 67827 complete Elapsed: 0.1 minutes\t Remaining: 0.4 minutes"
       ]
      },
      {
       "output_type": "stream",
       "stream": "stdout",
       "text": [
        " \r",
        "[******           16%                  ]  10621 of 67827 complete Elapsed: 0.1 minutes\t Remaining: 0.4 minutes"
       ]
      },
      {
       "output_type": "stream",
       "stream": "stdout",
       "text": [
        " \r",
        "[********         21%                  ]  14155 of 67827 complete Elapsed: 0.1 minutes\t Remaining: 0.4 minutes"
       ]
      },
      {
       "output_type": "stream",
       "stream": "stdout",
       "text": [
        " \r",
        "[**********       26%                  ]  17696 of 67827 complete Elapsed: 0.1 minutes\t Remaining: 0.4 minutes"
       ]
      },
      {
       "output_type": "stream",
       "stream": "stdout",
       "text": [
        " \r",
        "[************     31%                  ]  21231 of 67827 complete Elapsed: 0.2 minutes\t Remaining: 0.3 minutes"
       ]
      },
      {
       "output_type": "stream",
       "stream": "stdout",
       "text": [
        " \r",
        "[**************   37%                  ]  24770 of 67827 complete Elapsed: 0.2 minutes\t Remaining: 0.3 minutes"
       ]
      },
      {
       "output_type": "stream",
       "stream": "stdout",
       "text": [
        " \r",
        "[**************** 42%                  ]  28306 of 67827 complete Elapsed: 0.2 minutes\t Remaining: 0.3 minutes"
       ]
      },
      {
       "output_type": "stream",
       "stream": "stdout",
       "text": [
        " \r",
        "[*****************47%                  ]  31847 of 67827 complete Elapsed: 0.2 minutes\t Remaining: 0.3 minutes"
       ]
      },
      {
       "output_type": "stream",
       "stream": "stdout",
       "text": [
        " \r",
        "[*****************52%                  ]  35382 of 67827 complete Elapsed: 0.3 minutes\t Remaining: 0.2 minutes"
       ]
      },
      {
       "output_type": "stream",
       "stream": "stdout",
       "text": [
        " \r",
        "[*****************57%**                ]  38924 of 67827 complete Elapsed: 0.3 minutes\t Remaining: 0.2 minutes"
       ]
      },
      {
       "output_type": "stream",
       "stream": "stdout",
       "text": [
        " \r",
        "[*****************63%****              ]  42455 of 67827 complete Elapsed: 0.3 minutes\t Remaining: 0.2 minutes"
       ]
      },
      {
       "output_type": "stream",
       "stream": "stdout",
       "text": [
        " \r",
        "[*****************68%******            ]  45997 of 67827 complete Elapsed: 0.3 minutes\t Remaining: 0.2 minutes"
       ]
      },
      {
       "output_type": "stream",
       "stream": "stdout",
       "text": [
        " \r",
        "[*****************73%********          ]  49532 of 67827 complete Elapsed: 0.4 minutes\t Remaining: 0.1 minutes"
       ]
      },
      {
       "output_type": "stream",
       "stream": "stdout",
       "text": [
        " \r",
        "[*****************78%**********        ]  53074 of 67827 complete Elapsed: 0.4 minutes\t Remaining: 0.1 minutes"
       ]
      },
      {
       "output_type": "stream",
       "stream": "stdout",
       "text": [
        " \r",
        "[*****************83%************      ]  56607 of 67827 complete Elapsed: 0.4 minutes\t Remaining: 0.1 minutes"
       ]
      },
      {
       "output_type": "stream",
       "stream": "stdout",
       "text": [
        " \r",
        "[*****************89%**************    ]  60150 of 67827 complete Elapsed: 0.4 minutes\t Remaining: 0.1 minutes"
       ]
      },
      {
       "output_type": "stream",
       "stream": "stdout",
       "text": [
        " \r",
        "[*****************94%****************  ]  63687 of 67827 complete Elapsed: 0.5 minutes\t Remaining: 0.0 minutes"
       ]
      },
      {
       "output_type": "stream",
       "stream": "stdout",
       "text": [
        " \r",
        "[                  0%                  ]"
       ]
      },
      {
       "output_type": "stream",
       "stream": "stdout",
       "text": [
        " \r",
        "[**                5%                  ]  3546 of 67827 complete Elapsed: 0.0 minutes\t Remaining: 0.5 minutes"
       ]
      },
      {
       "output_type": "stream",
       "stream": "stdout",
       "text": [
        " \r",
        "[****             10%                  ]  7090 of 67827 complete Elapsed: 0.1 minutes\t Remaining: 0.4 minutes"
       ]
      },
      {
       "output_type": "stream",
       "stream": "stdout",
       "text": [
        " \r",
        "[******           16%                  ]  10628 of 67827 complete Elapsed: 0.1 minutes\t Remaining: 0.4 minutes"
       ]
      },
      {
       "output_type": "stream",
       "stream": "stdout",
       "text": [
        " \r",
        "[********         21%                  ]  14170 of 67827 complete Elapsed: 0.1 minutes\t Remaining: 0.4 minutes"
       ]
      },
      {
       "output_type": "stream",
       "stream": "stdout",
       "text": [
        " \r",
        "[**********       26%                  ]  17707 of 67827 complete Elapsed: 0.1 minutes\t Remaining: 0.4 minutes"
       ]
      },
      {
       "output_type": "stream",
       "stream": "stdout",
       "text": [
        " \r",
        "[************     31%                  ]  21251 of 67827 complete Elapsed: 0.2 minutes\t Remaining: 0.3 minutes"
       ]
      },
      {
       "output_type": "stream",
       "stream": "stdout",
       "text": [
        " \r",
        "[**************   37%                  ]  24788 of 67827 complete Elapsed: 0.2 minutes\t Remaining: 0.3 minutes"
       ]
      },
      {
       "output_type": "stream",
       "stream": "stdout",
       "text": [
        " \r",
        "[**************** 42%                  ]  28331 of 67827 complete Elapsed: 0.2 minutes\t Remaining: 0.3 minutes"
       ]
      },
      {
       "output_type": "stream",
       "stream": "stdout",
       "text": [
        " \r",
        "[*****************47%                  ]  31868 of 67827 complete Elapsed: 0.2 minutes\t Remaining: 0.3 minutes"
       ]
      },
      {
       "output_type": "stream",
       "stream": "stdout",
       "text": [
        " \r",
        "[*****************52%                  ]  35410 of 67827 complete Elapsed: 0.3 minutes\t Remaining: 0.2 minutes"
       ]
      },
      {
       "output_type": "stream",
       "stream": "stdout",
       "text": [
        " \r",
        "[*****************57%**                ]  38946 of 67827 complete Elapsed: 0.3 minutes\t Remaining: 0.2 minutes"
       ]
      },
      {
       "output_type": "stream",
       "stream": "stdout",
       "text": [
        " \r",
        "[*****************63%****              ]  42489 of 67827 complete Elapsed: 0.3 minutes\t Remaining: 0.2 minutes"
       ]
      },
      {
       "output_type": "stream",
       "stream": "stdout",
       "text": [
        " \r",
        "[*****************68%******            ]  46026 of 67827 complete Elapsed: 0.3 minutes\t Remaining: 0.2 minutes"
       ]
      },
      {
       "output_type": "stream",
       "stream": "stdout",
       "text": [
        " \r",
        "[*****************73%********          ]  49570 of 67827 complete Elapsed: 0.4 minutes\t Remaining: 0.1 minutes"
       ]
      },
      {
       "output_type": "stream",
       "stream": "stdout",
       "text": [
        " \r",
        "[*****************78%**********        ]  53108 of 67827 complete Elapsed: 0.4 minutes\t Remaining: 0.1 minutes"
       ]
      },
      {
       "output_type": "stream",
       "stream": "stdout",
       "text": [
        " \r",
        "[*****************84%************      ]  56653 of 67827 complete Elapsed: 0.4 minutes\t Remaining: 0.1 minutes"
       ]
      },
      {
       "output_type": "stream",
       "stream": "stdout",
       "text": [
        " \r",
        "[*****************89%**************    ]  60190 of 67827 complete Elapsed: 0.4 minutes\t Remaining: 0.1 minutes"
       ]
      },
      {
       "output_type": "stream",
       "stream": "stdout",
       "text": [
        " \r",
        "[*****************94%****************  ]  63734 of 67827 complete Elapsed: 0.5 minutes\t Remaining: 0.0 minutes"
       ]
      },
      {
       "output_type": "stream",
       "stream": "stdout",
       "text": [
        " \r",
        "[                  0%                  ]"
       ]
      },
      {
       "output_type": "stream",
       "stream": "stdout",
       "text": [
        " \r",
        "[***               7%                  ]  3549 of 54467 complete Elapsed: 0.0 minutes\t Remaining: 0.4 minutes"
       ]
      },
      {
       "output_type": "stream",
       "stream": "stdout",
       "text": [
        " \r",
        "[*****            13%                  ]  7083 of 54467 complete Elapsed: 0.1 minutes\t Remaining: 0.3 minutes"
       ]
      },
      {
       "output_type": "stream",
       "stream": "stdout",
       "text": [
        " \r",
        "[********         20%                  ]  10624 of 54467 complete Elapsed: 0.1 minutes\t Remaining: 0.3 minutes"
       ]
      },
      {
       "output_type": "stream",
       "stream": "stdout",
       "text": [
        " \r",
        "[**********       26%                  ]  14158 of 54467 complete Elapsed: 0.1 minutes\t Remaining: 0.3 minutes"
       ]
      },
      {
       "output_type": "stream",
       "stream": "stdout",
       "text": [
        " \r",
        "[************     32%                  ]  17699 of 54467 complete Elapsed: 0.1 minutes\t Remaining: 0.3 minutes"
       ]
      },
      {
       "output_type": "stream",
       "stream": "stdout",
       "text": [
        " \r",
        "[***************  39%                  ]  21233 of 54467 complete Elapsed: 0.2 minutes\t Remaining: 0.2 minutes"
       ]
      },
      {
       "output_type": "stream",
       "stream": "stdout",
       "text": [
        " \r",
        "[*****************45%                  ]  24774 of 54467 complete Elapsed: 0.2 minutes\t Remaining: 0.2 minutes"
       ]
      },
      {
       "output_type": "stream",
       "stream": "stdout",
       "text": [
        " \r",
        "[*****************52%                  ]  28308 of 54467 complete Elapsed: 0.2 minutes\t Remaining: 0.2 minutes"
       ]
      },
      {
       "output_type": "stream",
       "stream": "stdout",
       "text": [
        " \r",
        "[*****************58%**                ]  31851 of 54467 complete Elapsed: 0.2 minutes\t Remaining: 0.2 minutes"
       ]
      },
      {
       "output_type": "stream",
       "stream": "stdout",
       "text": [
        " \r",
        "[*****************65%*****             ]  35387 of 54467 complete Elapsed: 0.3 minutes\t Remaining: 0.1 minutes"
       ]
      },
      {
       "output_type": "stream",
       "stream": "stdout",
       "text": [
        " \r",
        "[*****************71%*******           ]  38929 of 54467 complete Elapsed: 0.3 minutes\t Remaining: 0.1 minutes"
       ]
      },
      {
       "output_type": "stream",
       "stream": "stdout",
       "text": [
        " \r",
        "[*****************78%**********        ]  42464 of 54467 complete Elapsed: 0.3 minutes\t Remaining: 0.1 minutes"
       ]
      },
      {
       "output_type": "stream",
       "stream": "stdout",
       "text": [
        " \r",
        "[*****************84%************      ]  46007 of 54467 complete Elapsed: 0.3 minutes\t Remaining: 0.1 minutes"
       ]
      },
      {
       "output_type": "stream",
       "stream": "stdout",
       "text": [
        " \r",
        "[*****************91%***************   ]  49543 of 54467 complete Elapsed: 0.4 minutes\t Remaining: 0.0 minutes"
       ]
      },
      {
       "output_type": "stream",
       "stream": "stdout",
       "text": [
        " \r",
        "[                  0%                  ]"
       ]
      },
      {
       "output_type": "stream",
       "stream": "stdout",
       "text": [
        " \r",
        "[***               7%                  ]  3542 of 54467 complete Elapsed: 0.0 minutes\t Remaining: 0.4 minutes"
       ]
      },
      {
       "output_type": "stream",
       "stream": "stdout",
       "text": [
        " \r",
        "[*****            13%                  ]  7083 of 54467 complete Elapsed: 0.1 minutes\t Remaining: 0.3 minutes"
       ]
      },
      {
       "output_type": "stream",
       "stream": "stdout",
       "text": [
        " \r",
        "[*******          19%                  ]  10618 of 54467 complete Elapsed: 0.1 minutes\t Remaining: 0.3 minutes"
       ]
      },
      {
       "output_type": "stream",
       "stream": "stdout",
       "text": [
        " \r",
        "[**********       26%                  ]  14160 of 54467 complete Elapsed: 0.1 minutes\t Remaining: 0.3 minutes"
       ]
      },
      {
       "output_type": "stream",
       "stream": "stdout",
       "text": [
        " \r",
        "[************     32%                  ]  17693 of 54467 complete Elapsed: 0.1 minutes\t Remaining: 0.3 minutes"
       ]
      },
      {
       "output_type": "stream",
       "stream": "stdout",
       "text": [
        " \r",
        "[***************  39%                  ]  21234 of 54467 complete Elapsed: 0.2 minutes\t Remaining: 0.2 minutes"
       ]
      },
      {
       "output_type": "stream",
       "stream": "stdout",
       "text": [
        " \r",
        "[*****************45%                  ]  24768 of 54467 complete Elapsed: 0.2 minutes\t Remaining: 0.2 minutes"
       ]
      },
      {
       "output_type": "stream",
       "stream": "stdout",
       "text": [
        " \r",
        "[*****************52%                  ]  28310 of 54467 complete Elapsed: 0.2 minutes\t Remaining: 0.2 minutes"
       ]
      },
      {
       "output_type": "stream",
       "stream": "stdout",
       "text": [
        " \r",
        "[*****************58%**                ]  31845 of 54467 complete Elapsed: 0.2 minutes\t Remaining: 0.2 minutes"
       ]
      },
      {
       "output_type": "stream",
       "stream": "stdout",
       "text": [
        " \r",
        "[*****************65%*****             ]  35387 of 54467 complete Elapsed: 0.3 minutes\t Remaining: 0.1 minutes"
       ]
      },
      {
       "output_type": "stream",
       "stream": "stdout",
       "text": [
        " \r",
        "[*****************71%*******           ]  38920 of 54467 complete Elapsed: 0.3 minutes\t Remaining: 0.1 minutes"
       ]
      },
      {
       "output_type": "stream",
       "stream": "stdout",
       "text": [
        " \r",
        "[*****************78%**********        ]  42460 of 54467 complete Elapsed: 0.3 minutes\t Remaining: 0.1 minutes"
       ]
      },
      {
       "output_type": "stream",
       "stream": "stdout",
       "text": [
        " \r",
        "[*****************84%************      ]  45993 of 54467 complete Elapsed: 0.3 minutes\t Remaining: 0.1 minutes"
       ]
      },
      {
       "output_type": "stream",
       "stream": "stdout",
       "text": [
        " \r",
        "[*****************91%***************   ]  49535 of 54467 complete Elapsed: 0.4 minutes\t Remaining: 0.0 minutes"
       ]
      },
      {
       "output_type": "stream",
       "stream": "stdout",
       "text": [
        " \r",
        "[                  0%                  ]"
       ]
      },
      {
       "output_type": "stream",
       "stream": "stdout",
       "text": [
        " \r",
        "[***               7%                  ]  3549 of 47406 complete Elapsed: 0.0 minutes\t Remaining: 0.3 minutes"
       ]
      },
      {
       "output_type": "stream",
       "stream": "stdout",
       "text": [
        " \r",
        "[******           15%                  ]  7083 of 47406 complete Elapsed: 0.1 minutes\t Remaining: 0.3 minutes"
       ]
      },
      {
       "output_type": "stream",
       "stream": "stdout",
       "text": [
        " \r",
        "[********         22%                  ]  10625 of 47406 complete Elapsed: 0.1 minutes\t Remaining: 0.3 minutes"
       ]
      },
      {
       "output_type": "stream",
       "stream": "stdout",
       "text": [
        " \r",
        "[***********      30%                  ]  14161 of 47406 complete Elapsed: 0.1 minutes\t Remaining: 0.2 minutes"
       ]
      },
      {
       "output_type": "stream",
       "stream": "stdout",
       "text": [
        " \r",
        "[**************   37%                  ]  17702 of 47406 complete Elapsed: 0.1 minutes\t Remaining: 0.2 minutes"
       ]
      },
      {
       "output_type": "stream",
       "stream": "stdout",
       "text": [
        " \r",
        "[*****************45%                  ]  21235 of 47406 complete Elapsed: 0.2 minutes\t Remaining: 0.2 minutes"
       ]
      },
      {
       "output_type": "stream",
       "stream": "stdout",
       "text": [
        " \r",
        "[*****************52%                  ]  24776 of 47406 complete Elapsed: 0.2 minutes\t Remaining: 0.2 minutes"
       ]
      },
      {
       "output_type": "stream",
       "stream": "stdout",
       "text": [
        " \r",
        "[*****************60%***               ]  28312 of 47406 complete Elapsed: 0.2 minutes\t Remaining: 0.1 minutes"
       ]
      },
      {
       "output_type": "stream",
       "stream": "stdout",
       "text": [
        " \r",
        "[*****************67%*****             ]  31855 of 47406 complete Elapsed: 0.2 minutes\t Remaining: 0.1 minutes"
       ]
      },
      {
       "output_type": "stream",
       "stream": "stdout",
       "text": [
        " \r",
        "[*****************75%*********         ]  35391 of 47406 complete Elapsed: 0.3 minutes\t Remaining: 0.1 minutes"
       ]
      },
      {
       "output_type": "stream",
       "stream": "stdout",
       "text": [
        " \r",
        "[*****************82%***********       ]  38934 of 47406 complete Elapsed: 0.3 minutes\t Remaining: 0.1 minutes"
       ]
      },
      {
       "output_type": "stream",
       "stream": "stdout",
       "text": [
        " \r",
        "[*****************90%**************    ]  42469 of 47406 complete Elapsed: 0.3 minutes\t Remaining: 0.0 minutes"
       ]
      },
      {
       "output_type": "stream",
       "stream": "stdout",
       "text": [
        " \r",
        "[                  0%                  ]"
       ]
      },
      {
       "output_type": "stream",
       "stream": "stdout",
       "text": [
        " \r",
        "[***               7%                  ]  3541 of 47406 complete Elapsed: 0.0 minutes\t Remaining: 0.3 minutes"
       ]
      },
      {
       "output_type": "stream",
       "stream": "stdout",
       "text": [
        " \r",
        "[******           15%                  ]  7081 of 47406 complete Elapsed: 0.1 minutes\t Remaining: 0.3 minutes"
       ]
      },
      {
       "output_type": "stream",
       "stream": "stdout",
       "text": [
        " \r",
        "[********         22%                  ]  10612 of 47406 complete Elapsed: 0.1 minutes\t Remaining: 0.3 minutes"
       ]
      },
      {
       "output_type": "stream",
       "stream": "stdout",
       "text": [
        " \r",
        "[***********      30%                  ]  14151 of 47406 complete Elapsed: 0.1 minutes\t Remaining: 0.2 minutes"
       ]
      },
      {
       "output_type": "stream",
       "stream": "stdout",
       "text": [
        " \r",
        "[**************   37%                  ]  17683 of 47406 complete Elapsed: 0.1 minutes\t Remaining: 0.2 minutes"
       ]
      },
      {
       "output_type": "stream",
       "stream": "stdout",
       "text": [
        " \r",
        "[*****************45%                  ]  21220 of 47406 complete Elapsed: 0.2 minutes\t Remaining: 0.2 minutes"
       ]
      },
      {
       "output_type": "stream",
       "stream": "stdout",
       "text": [
        " \r",
        "[*****************52%                  ]  24752 of 47406 complete Elapsed: 0.2 minutes\t Remaining: 0.2 minutes"
       ]
      },
      {
       "output_type": "stream",
       "stream": "stdout",
       "text": [
        " \r",
        "[*****************60%***               ]  28291 of 47406 complete Elapsed: 0.2 minutes\t Remaining: 0.1 minutes"
       ]
      },
      {
       "output_type": "stream",
       "stream": "stdout",
       "text": [
        " \r",
        "[*****************67%*****             ]  31823 of 47406 complete Elapsed: 0.2 minutes\t Remaining: 0.1 minutes"
       ]
      },
      {
       "output_type": "stream",
       "stream": "stdout",
       "text": [
        " \r",
        "[*****************75%*********         ]  35363 of 47406 complete Elapsed: 0.3 minutes\t Remaining: 0.1 minutes"
       ]
      },
      {
       "output_type": "stream",
       "stream": "stdout",
       "text": [
        " \r",
        "[*****************82%***********       ]  38896 of 47406 complete Elapsed: 0.3 minutes\t Remaining: 0.1 minutes"
       ]
      },
      {
       "output_type": "stream",
       "stream": "stdout",
       "text": [
        " \r",
        "[*****************90%**************    ]  42435 of 47406 complete Elapsed: 0.3 minutes\t Remaining: 0.0 minutes"
       ]
      },
      {
       "output_type": "stream",
       "stream": "stdout",
       "text": [
        " \r",
        "[                  0%                  ]"
       ]
      },
      {
       "output_type": "stream",
       "stream": "stdout",
       "text": [
        " \r",
        "[***               8%                  ]  3545 of 41949 complete Elapsed: 0.0 minutes\t Remaining: 0.3 minutes"
       ]
      },
      {
       "output_type": "stream",
       "stream": "stdout",
       "text": [
        " \r",
        "[******           17%                  ]  7076 of 41949 complete Elapsed: 0.1 minutes\t Remaining: 0.2 minutes"
       ]
      },
      {
       "output_type": "stream",
       "stream": "stdout",
       "text": [
        " \r",
        "[**********       25%                  ]  10612 of 41949 complete Elapsed: 0.1 minutes\t Remaining: 0.2 minutes"
       ]
      },
      {
       "output_type": "stream",
       "stream": "stdout",
       "text": [
        " \r",
        "[*************    34%                  ]  14143 of 41949 complete Elapsed: 0.1 minutes\t Remaining: 0.2 minutes"
       ]
      },
      {
       "output_type": "stream",
       "stream": "stdout",
       "text": [
        " \r",
        "[**************** 42%                  ]  17682 of 41949 complete Elapsed: 0.1 minutes\t Remaining: 0.2 minutes"
       ]
      },
      {
       "output_type": "stream",
       "stream": "stdout",
       "text": [
        " \r",
        "[*****************51%                  ]  21214 of 41949 complete Elapsed: 0.2 minutes\t Remaining: 0.1 minutes"
       ]
      },
      {
       "output_type": "stream",
       "stream": "stdout",
       "text": [
        " \r",
        "[*****************59%**                ]  24753 of 41949 complete Elapsed: 0.2 minutes\t Remaining: 0.1 minutes"
       ]
      },
      {
       "output_type": "stream",
       "stream": "stdout",
       "text": [
        " \r",
        "[*****************67%*****             ]  28285 of 41949 complete Elapsed: 0.2 minutes\t Remaining: 0.1 minutes"
       ]
      },
      {
       "output_type": "stream",
       "stream": "stdout",
       "text": [
        " \r",
        "[*****************76%*********         ]  31823 of 41949 complete Elapsed: 0.2 minutes\t Remaining: 0.1 minutes"
       ]
      },
      {
       "output_type": "stream",
       "stream": "stdout",
       "text": [
        " \r",
        "[*****************84%************      ]  35356 of 41949 complete Elapsed: 0.3 minutes\t Remaining: 0.0 minutes"
       ]
      },
      {
       "output_type": "stream",
       "stream": "stdout",
       "text": [
        " \r",
        "[                  0%                  ]"
       ]
      },
      {
       "output_type": "stream",
       "stream": "stdout",
       "text": [
        " \r",
        "[***               8%                  ]  3549 of 41949 complete Elapsed: 0.0 minutes\t Remaining: 0.3 minutes"
       ]
      },
      {
       "output_type": "stream",
       "stream": "stdout",
       "text": [
        " \r",
        "[******           17%                  ]  7094 of 41949 complete Elapsed: 0.1 minutes\t Remaining: 0.2 minutes"
       ]
      },
      {
       "output_type": "stream",
       "stream": "stdout",
       "text": [
        " \r",
        "[**********       25%                  ]  10630 of 41949 complete Elapsed: 0.1 minutes\t Remaining: 0.2 minutes"
       ]
      },
      {
       "output_type": "stream",
       "stream": "stdout",
       "text": [
        " \r",
        "[*************    34%                  ]  14175 of 41949 complete Elapsed: 0.1 minutes\t Remaining: 0.2 minutes"
       ]
      },
      {
       "output_type": "stream",
       "stream": "stdout",
       "text": [
        " \r",
        "[**************** 42%                  ]  17713 of 41949 complete Elapsed: 0.1 minutes\t Remaining: 0.2 minutes"
       ]
      },
      {
       "output_type": "stream",
       "stream": "stdout",
       "text": [
        " \r",
        "[*****************51%                  ]  21257 of 41949 complete Elapsed: 0.2 minutes\t Remaining: 0.1 minutes"
       ]
      },
      {
       "output_type": "stream",
       "stream": "stdout",
       "text": [
        " \r",
        "[*****************59%**                ]  24793 of 41949 complete Elapsed: 0.2 minutes\t Remaining: 0.1 minutes"
       ]
      },
      {
       "output_type": "stream",
       "stream": "stdout",
       "text": [
        " \r",
        "[*****************68%******            ]  28334 of 41949 complete Elapsed: 0.2 minutes\t Remaining: 0.1 minutes"
       ]
      },
      {
       "output_type": "stream",
       "stream": "stdout",
       "text": [
        " \r",
        "[*****************76%*********         ]  31870 of 41949 complete Elapsed: 0.2 minutes\t Remaining: 0.1 minutes"
       ]
      },
      {
       "output_type": "stream",
       "stream": "stdout",
       "text": [
        " \r",
        "[*****************84%************      ]  35412 of 41949 complete Elapsed: 0.3 minutes\t Remaining: 0.0 minutes"
       ]
      },
      {
       "output_type": "stream",
       "stream": "stdout",
       "text": [
        " \r",
        "[                  0%                  ]"
       ]
      },
      {
       "output_type": "stream",
       "stream": "stdout",
       "text": [
        " \r",
        "[***               8%                  ]  3546 of 43861 complete Elapsed: 0.0 minutes\t Remaining: 0.3 minutes"
       ]
      },
      {
       "output_type": "stream",
       "stream": "stdout",
       "text": [
        " \r",
        "[******           16%                  ]  7075 of 43861 complete Elapsed: 0.1 minutes\t Remaining: 0.3 minutes"
       ]
      },
      {
       "output_type": "stream",
       "stream": "stdout",
       "text": [
        " \r",
        "[*********        24%                  ]  10613 of 43861 complete Elapsed: 0.1 minutes\t Remaining: 0.2 minutes"
       ]
      },
      {
       "output_type": "stream",
       "stream": "stdout",
       "text": [
        " \r",
        "[************     32%                  ]  14138 of 43861 complete Elapsed: 0.1 minutes\t Remaining: 0.2 minutes"
       ]
      },
      {
       "output_type": "stream",
       "stream": "stdout",
       "text": [
        " \r",
        "[***************  40%                  ]  17674 of 43861 complete Elapsed: 0.1 minutes\t Remaining: 0.2 minutes"
       ]
      },
      {
       "output_type": "stream",
       "stream": "stdout",
       "text": [
        " \r",
        "[*****************48%                  ]  21199 of 43861 complete Elapsed: 0.2 minutes\t Remaining: 0.2 minutes"
       ]
      },
      {
       "output_type": "stream",
       "stream": "stdout",
       "text": [
        " \r",
        "[*****************56%*                 ]  24737 of 43861 complete Elapsed: 0.2 minutes\t Remaining: 0.1 minutes"
       ]
      },
      {
       "output_type": "stream",
       "stream": "stdout",
       "text": [
        " \r",
        "[*****************64%****              ]  28265 of 43861 complete Elapsed: 0.2 minutes\t Remaining: 0.1 minutes"
       ]
      },
      {
       "output_type": "stream",
       "stream": "stdout",
       "text": [
        " \r",
        "[*****************73%********          ]  31804 of 43861 complete Elapsed: 0.2 minutes\t Remaining: 0.1 minutes"
       ]
      },
      {
       "output_type": "stream",
       "stream": "stdout",
       "text": [
        " \r",
        "[*****************81%***********       ]  35331 of 43861 complete Elapsed: 0.3 minutes\t Remaining: 0.1 minutes"
       ]
      },
      {
       "output_type": "stream",
       "stream": "stdout",
       "text": [
        " \r",
        "[*****************89%**************    ]  38869 of 43861 complete Elapsed: 0.3 minutes\t Remaining: 0.0 minutes"
       ]
      },
      {
       "output_type": "stream",
       "stream": "stdout",
       "text": [
        " \r",
        "[                  0%                  ]"
       ]
      },
      {
       "output_type": "stream",
       "stream": "stdout",
       "text": [
        " \r",
        "[***               8%                  ]  3552 of 43861 complete Elapsed: 0.0 minutes\t Remaining: 0.3 minutes"
       ]
      },
      {
       "output_type": "stream",
       "stream": "stdout",
       "text": [
        " \r",
        "[******           16%                  ]  7087 of 43861 complete Elapsed: 0.1 minutes\t Remaining: 0.3 minutes"
       ]
      },
      {
       "output_type": "stream",
       "stream": "stdout",
       "text": [
        " \r",
        "[*********        24%                  ]  10628 of 43861 complete Elapsed: 0.1 minutes\t Remaining: 0.2 minutes"
       ]
      },
      {
       "output_type": "stream",
       "stream": "stdout",
       "text": [
        " \r",
        "[************     32%                  ]  14162 of 43861 complete Elapsed: 0.1 minutes\t Remaining: 0.2 minutes"
       ]
      },
      {
       "output_type": "stream",
       "stream": "stdout",
       "text": [
        " \r",
        "[***************  40%                  ]  17704 of 43861 complete Elapsed: 0.1 minutes\t Remaining: 0.2 minutes"
       ]
      },
      {
       "output_type": "stream",
       "stream": "stdout",
       "text": [
        " \r",
        "[*****************48%                  ]  21240 of 43861 complete Elapsed: 0.2 minutes\t Remaining: 0.2 minutes"
       ]
      },
      {
       "output_type": "stream",
       "stream": "stdout",
       "text": [
        " \r",
        "[*****************57%**                ]  24783 of 43861 complete Elapsed: 0.2 minutes\t Remaining: 0.1 minutes"
       ]
      },
      {
       "output_type": "stream",
       "stream": "stdout",
       "text": [
        " \r",
        "[*****************65%*****             ]  28316 of 43861 complete Elapsed: 0.2 minutes\t Remaining: 0.1 minutes"
       ]
      },
      {
       "output_type": "stream",
       "stream": "stdout",
       "text": [
        " \r",
        "[*****************73%********          ]  31857 of 43861 complete Elapsed: 0.2 minutes\t Remaining: 0.1 minutes"
       ]
      },
      {
       "output_type": "stream",
       "stream": "stdout",
       "text": [
        " \r",
        "[*****************81%***********       ]  35391 of 43861 complete Elapsed: 0.3 minutes\t Remaining: 0.1 minutes"
       ]
      },
      {
       "output_type": "stream",
       "stream": "stdout",
       "text": [
        " \r",
        "[*****************89%**************    ]  38932 of 43861 complete Elapsed: 0.3 minutes\t Remaining: 0.0 minutes"
       ]
      },
      {
       "output_type": "stream",
       "stream": "stdout",
       "text": [
        " \r",
        "[                  0%                  ]"
       ]
      },
      {
       "output_type": "stream",
       "stream": "stdout",
       "text": [
        " \r",
        "[***               9%                  ]  3545 of 38736 complete Elapsed: 0.0 minutes\t Remaining: 0.2 minutes"
       ]
      },
      {
       "output_type": "stream",
       "stream": "stdout",
       "text": [
        " \r",
        "[*******          18%                  ]  7074 of 38736 complete Elapsed: 0.1 minutes\t Remaining: 0.2 minutes"
       ]
      },
      {
       "output_type": "stream",
       "stream": "stdout",
       "text": [
        " \r",
        "[**********       27%                  ]  10610 of 38736 complete Elapsed: 0.1 minutes\t Remaining: 0.2 minutes"
       ]
      },
      {
       "output_type": "stream",
       "stream": "stdout",
       "text": [
        " \r",
        "[**************   37%                  ]  14139 of 38736 complete Elapsed: 0.1 minutes\t Remaining: 0.2 minutes"
       ]
      },
      {
       "output_type": "stream",
       "stream": "stdout",
       "text": [
        " \r",
        "[*****************46%                  ]  17675 of 38736 complete Elapsed: 0.1 minutes\t Remaining: 0.1 minutes"
       ]
      },
      {
       "output_type": "stream",
       "stream": "stdout",
       "text": [
        " \r",
        "[*****************55%*                 ]  21204 of 38736 complete Elapsed: 0.2 minutes\t Remaining: 0.1 minutes"
       ]
      },
      {
       "output_type": "stream",
       "stream": "stdout",
       "text": [
        " \r",
        "[*****************64%****              ]  24739 of 38736 complete Elapsed: 0.2 minutes\t Remaining: 0.1 minutes"
       ]
      },
      {
       "output_type": "stream",
       "stream": "stdout",
       "text": [
        " \r",
        "[*****************73%********          ]  28269 of 38736 complete Elapsed: 0.2 minutes\t Remaining: 0.1 minutes"
       ]
      },
      {
       "output_type": "stream",
       "stream": "stdout",
       "text": [
        " \r",
        "[*****************82%***********       ]  31805 of 38736 complete Elapsed: 0.2 minutes\t Remaining: 0.0 minutes"
       ]
      },
      {
       "output_type": "stream",
       "stream": "stdout",
       "text": [
        " \r",
        "[                  0%                  ]"
       ]
      },
      {
       "output_type": "stream",
       "stream": "stdout",
       "text": [
        " \r",
        "[***               9%                  ]  3556 of 38736 complete Elapsed: 0.0 minutes\t Remaining: 0.2 minutes"
       ]
      },
      {
       "output_type": "stream",
       "stream": "stdout",
       "text": [
        " \r",
        "[*******          18%                  ]  7096 of 38736 complete Elapsed: 0.1 minutes\t Remaining: 0.2 minutes"
       ]
      },
      {
       "output_type": "stream",
       "stream": "stdout",
       "text": [
        " \r",
        "[**********       27%                  ]  10642 of 38736 complete Elapsed: 0.1 minutes\t Remaining: 0.2 minutes"
       ]
      },
      {
       "output_type": "stream",
       "stream": "stdout",
       "text": [
        " \r",
        "[**************   37%                  ]  14181 of 38736 complete Elapsed: 0.1 minutes\t Remaining: 0.2 minutes"
       ]
      },
      {
       "output_type": "stream",
       "stream": "stdout",
       "text": [
        " \r",
        "[*****************46%                  ]  17727 of 38736 complete Elapsed: 0.1 minutes\t Remaining: 0.1 minutes"
       ]
      },
      {
       "output_type": "stream",
       "stream": "stdout",
       "text": [
        " \r",
        "[*****************55%*                 ]  21267 of 38736 complete Elapsed: 0.2 minutes\t Remaining: 0.1 minutes"
       ]
      },
      {
       "output_type": "stream",
       "stream": "stdout",
       "text": [
        " \r",
        "[*****************64%****              ]  24812 of 38736 complete Elapsed: 0.2 minutes\t Remaining: 0.1 minutes"
       ]
      },
      {
       "output_type": "stream",
       "stream": "stdout",
       "text": [
        " \r",
        "[*****************73%********          ]  28351 of 38736 complete Elapsed: 0.2 minutes\t Remaining: 0.1 minutes"
       ]
      },
      {
       "output_type": "stream",
       "stream": "stdout",
       "text": [
        " \r",
        "[*****************82%***********       ]  31897 of 38736 complete Elapsed: 0.2 minutes\t Remaining: 0.0 minutes"
       ]
      },
      {
       "output_type": "stream",
       "stream": "stdout",
       "text": [
        " \r",
        "[                  0%                  ]"
       ]
      },
      {
       "output_type": "stream",
       "stream": "stdout",
       "text": [
        " \r",
        "[***               9%                  ]  3537 of 41110 complete Elapsed: 0.0 minutes\t Remaining: 0.3 minutes"
       ]
      },
      {
       "output_type": "stream",
       "stream": "stdout",
       "text": [
        " \r",
        "[******           17%                  ]  7062 of 41110 complete Elapsed: 0.1 minutes\t Remaining: 0.2 minutes"
       ]
      },
      {
       "output_type": "stream",
       "stream": "stdout",
       "text": [
        " \r",
        "[**********       26%                  ]  10591 of 41110 complete Elapsed: 0.1 minutes\t Remaining: 0.2 minutes"
       ]
      },
      {
       "output_type": "stream",
       "stream": "stdout",
       "text": [
        " \r",
        "[*************    34%                  ]  14116 of 41110 complete Elapsed: 0.1 minutes\t Remaining: 0.2 minutes"
       ]
      },
      {
       "output_type": "stream",
       "stream": "stdout",
       "text": [
        " \r",
        "[**************** 43%                  ]  17645 of 41110 complete Elapsed: 0.1 minutes\t Remaining: 0.2 minutes"
       ]
      },
      {
       "output_type": "stream",
       "stream": "stdout",
       "text": [
        " \r",
        "[*****************51%                  ]  21170 of 41110 complete Elapsed: 0.2 minutes\t Remaining: 0.1 minutes"
       ]
      },
      {
       "output_type": "stream",
       "stream": "stdout",
       "text": [
        " \r",
        "[*****************60%***               ]  24700 of 41110 complete Elapsed: 0.2 minutes\t Remaining: 0.1 minutes"
       ]
      },
      {
       "output_type": "stream",
       "stream": "stdout",
       "text": [
        " \r",
        "[*****************69%******            ]  28225 of 41110 complete Elapsed: 0.2 minutes\t Remaining: 0.1 minutes"
       ]
      },
      {
       "output_type": "stream",
       "stream": "stdout",
       "text": [
        " \r",
        "[*****************77%*********         ]  31756 of 41110 complete Elapsed: 0.2 minutes\t Remaining: 0.1 minutes"
       ]
      },
      {
       "output_type": "stream",
       "stream": "stdout",
       "text": [
        " \r",
        "[*****************86%*************     ]  35282 of 41110 complete Elapsed: 0.3 minutes\t Remaining: 0.0 minutes"
       ]
      },
      {
       "output_type": "stream",
       "stream": "stdout",
       "text": [
        " \r",
        "[                  0%                  ]"
       ]
      },
      {
       "output_type": "stream",
       "stream": "stdout",
       "text": [
        " \r",
        "[***               9%                  ]  3536 of 41110 complete Elapsed: 0.0 minutes\t Remaining: 0.3 minutes"
       ]
      },
      {
       "output_type": "stream",
       "stream": "stdout",
       "text": [
        " \r",
        "[******           17%                  ]  7068 of 41110 complete Elapsed: 0.1 minutes\t Remaining: 0.2 minutes"
       ]
      },
      {
       "output_type": "stream",
       "stream": "stdout",
       "text": [
        " \r",
        "[**********       26%                  ]  10596 of 41110 complete Elapsed: 0.1 minutes\t Remaining: 0.2 minutes"
       ]
      },
      {
       "output_type": "stream",
       "stream": "stdout",
       "text": [
        " \r",
        "[*************    34%                  ]  14128 of 41110 complete Elapsed: 0.1 minutes\t Remaining: 0.2 minutes"
       ]
      },
      {
       "output_type": "stream",
       "stream": "stdout",
       "text": [
        " \r",
        "[**************** 43%                  ]  17653 of 41110 complete Elapsed: 0.1 minutes\t Remaining: 0.2 minutes"
       ]
      },
      {
       "output_type": "stream",
       "stream": "stdout",
       "text": [
        " \r",
        "[*****************52%                  ]  21186 of 41110 complete Elapsed: 0.2 minutes\t Remaining: 0.1 minutes"
       ]
      },
      {
       "output_type": "stream",
       "stream": "stdout",
       "text": [
        " \r",
        "[*****************60%***               ]  24714 of 41110 complete Elapsed: 0.2 minutes\t Remaining: 0.1 minutes"
       ]
      },
      {
       "output_type": "stream",
       "stream": "stdout",
       "text": [
        " \r",
        "[*****************69%******            ]  28246 of 41110 complete Elapsed: 0.2 minutes\t Remaining: 0.1 minutes"
       ]
      },
      {
       "output_type": "stream",
       "stream": "stdout",
       "text": [
        " \r",
        "[*****************77%*********         ]  31775 of 41110 complete Elapsed: 0.2 minutes\t Remaining: 0.1 minutes"
       ]
      },
      {
       "output_type": "stream",
       "stream": "stdout",
       "text": [
        " \r",
        "[*****************86%*************     ]  35309 of 41110 complete Elapsed: 0.3 minutes\t Remaining: 0.0 minutes"
       ]
      },
      {
       "output_type": "stream",
       "stream": "stdout",
       "text": [
        " \r",
        "[                  0%                  ]"
       ]
      },
      {
       "output_type": "stream",
       "stream": "stdout",
       "text": [
        " \r",
        "[****             11%                  ]  3546 of 31250 complete Elapsed: 0.0 minutes\t Remaining: 0.2 minutes"
       ]
      },
      {
       "output_type": "stream",
       "stream": "stdout",
       "text": [
        " \r",
        "[*********        23%                  ]  7077 of 31250 complete Elapsed: 0.1 minutes\t Remaining: 0.2 minutes"
       ]
      },
      {
       "output_type": "stream",
       "stream": "stdout",
       "text": [
        " \r",
        "[*************    34%                  ]  10615 of 31250 complete Elapsed: 0.1 minutes\t Remaining: 0.1 minutes"
       ]
      },
      {
       "output_type": "stream",
       "stream": "stdout",
       "text": [
        " \r",
        "[*****************45%                  ]  14147 of 31250 complete Elapsed: 0.1 minutes\t Remaining: 0.1 minutes"
       ]
      },
      {
       "output_type": "stream",
       "stream": "stdout",
       "text": [
        " \r",
        "[*****************57%**                ]  17681 of 31250 complete Elapsed: 0.1 minutes\t Remaining: 0.1 minutes"
       ]
      },
      {
       "output_type": "stream",
       "stream": "stdout",
       "text": [
        " \r",
        "[*****************68%******            ]  21213 of 31250 complete Elapsed: 0.2 minutes\t Remaining: 0.1 minutes"
       ]
      },
      {
       "output_type": "stream",
       "stream": "stdout",
       "text": [
        " \r",
        "[*****************79%**********        ]  24750 of 31250 complete Elapsed: 0.2 minutes\t Remaining: 0.0 minutes"
       ]
      },
      {
       "output_type": "stream",
       "stream": "stdout",
       "text": [
        " \r",
        "[                  0%                  ]"
       ]
      },
      {
       "output_type": "stream",
       "stream": "stdout",
       "text": [
        " \r",
        "[****             11%                  ]  3560 of 31250 complete Elapsed: 0.0 minutes\t Remaining: 0.2 minutes"
       ]
      },
      {
       "output_type": "stream",
       "stream": "stdout",
       "text": [
        " \r",
        "[*********        23%                  ]  7103 of 31250 complete Elapsed: 0.1 minutes\t Remaining: 0.2 minutes"
       ]
      },
      {
       "output_type": "stream",
       "stream": "stdout",
       "text": [
        " \r",
        "[*************    34%                  ]  10652 of 31250 complete Elapsed: 0.1 minutes\t Remaining: 0.1 minutes"
       ]
      },
      {
       "output_type": "stream",
       "stream": "stdout",
       "text": [
        " \r",
        "[*****************45%                  ]  14195 of 31250 complete Elapsed: 0.1 minutes\t Remaining: 0.1 minutes"
       ]
      },
      {
       "output_type": "stream",
       "stream": "stdout",
       "text": [
        " \r",
        "[*****************57%**                ]  17743 of 31250 complete Elapsed: 0.1 minutes\t Remaining: 0.1 minutes"
       ]
      },
      {
       "output_type": "stream",
       "stream": "stdout",
       "text": [
        " \r",
        "[*****************68%******            ]  21287 of 31250 complete Elapsed: 0.2 minutes\t Remaining: 0.1 minutes"
       ]
      },
      {
       "output_type": "stream",
       "stream": "stdout",
       "text": [
        " \r",
        "[*****************79%**********        ]  24837 of 31250 complete Elapsed: 0.2 minutes\t Remaining: 0.0 minutes"
       ]
      },
      {
       "output_type": "stream",
       "stream": "stdout",
       "text": [
        " \r",
        "[                  0%                  ]"
       ]
      },
      {
       "output_type": "stream",
       "stream": "stdout",
       "text": [
        " \r",
        "[****             11%                  ]  3539 of 32046 complete Elapsed: 0.0 minutes\t Remaining: 0.2 minutes"
       ]
      },
      {
       "output_type": "stream",
       "stream": "stdout",
       "text": [
        " \r",
        "[********         22%                  ]  7067 of 32046 complete Elapsed: 0.1 minutes\t Remaining: 0.2 minutes"
       ]
      },
      {
       "output_type": "stream",
       "stream": "stdout",
       "text": [
        " \r",
        "[*************    33%                  ]  10597 of 32046 complete Elapsed: 0.1 minutes\t Remaining: 0.2 minutes"
       ]
      },
      {
       "output_type": "stream",
       "stream": "stdout",
       "text": [
        " \r",
        "[*****************44%                  ]  14125 of 32046 complete Elapsed: 0.1 minutes\t Remaining: 0.1 minutes"
       ]
      },
      {
       "output_type": "stream",
       "stream": "stdout",
       "text": [
        " \r",
        "[*****************55%*                 ]  17656 of 32046 complete Elapsed: 0.1 minutes\t Remaining: 0.1 minutes"
       ]
      },
      {
       "output_type": "stream",
       "stream": "stdout",
       "text": [
        " \r",
        "[*****************66%*****             ]  21185 of 32046 complete Elapsed: 0.2 minutes\t Remaining: 0.1 minutes"
       ]
      },
      {
       "output_type": "stream",
       "stream": "stdout",
       "text": [
        " \r",
        "[*****************77%*********         ]  24717 of 32046 complete Elapsed: 0.2 minutes\t Remaining: 0.1 minutes"
       ]
      },
      {
       "output_type": "stream",
       "stream": "stdout",
       "text": [
        " \r",
        "[*****************88%*************     ]  28245 of 32046 complete Elapsed: 0.2 minutes\t Remaining: 0.0 minutes"
       ]
      },
      {
       "output_type": "stream",
       "stream": "stdout",
       "text": [
        " \r",
        "[                  0%                  ]"
       ]
      },
      {
       "output_type": "stream",
       "stream": "stdout",
       "text": [
        " \r",
        "[****             11%                  ]  3539 of 32046 complete Elapsed: 0.0 minutes\t Remaining: 0.2 minutes"
       ]
      },
      {
       "output_type": "stream",
       "stream": "stdout",
       "text": [
        " \r",
        "[********         22%                  ]  7071 of 32046 complete Elapsed: 0.1 minutes\t Remaining: 0.2 minutes"
       ]
      },
      {
       "output_type": "stream",
       "stream": "stdout",
       "text": [
        " \r",
        "[*************    33%                  ]  10601 of 32046 complete Elapsed: 0.1 minutes\t Remaining: 0.2 minutes"
       ]
      },
      {
       "output_type": "stream",
       "stream": "stdout",
       "text": [
        " \r",
        "[*****************44%                  ]  14134 of 32046 complete Elapsed: 0.1 minutes\t Remaining: 0.1 minutes"
       ]
      },
      {
       "output_type": "stream",
       "stream": "stdout",
       "text": [
        " \r",
        "[*****************55%*                 ]  17664 of 32046 complete Elapsed: 0.1 minutes\t Remaining: 0.1 minutes"
       ]
      },
      {
       "output_type": "stream",
       "stream": "stdout",
       "text": [
        " \r",
        "[*****************66%*****             ]  21198 of 32046 complete Elapsed: 0.2 minutes\t Remaining: 0.1 minutes"
       ]
      },
      {
       "output_type": "stream",
       "stream": "stdout",
       "text": [
        " \r",
        "[*****************77%*********         ]  24726 of 32046 complete Elapsed: 0.2 minutes\t Remaining: 0.1 minutes"
       ]
      },
      {
       "output_type": "stream",
       "stream": "stdout",
       "text": [
        " \r",
        "[*****************88%*************     ]  28259 of 32046 complete Elapsed: 0.2 minutes\t Remaining: 0.0 minutes"
       ]
      },
      {
       "output_type": "stream",
       "stream": "stdout",
       "text": [
        " \r",
        "[                  0%                  ]"
       ]
      },
      {
       "output_type": "stream",
       "stream": "stdout",
       "text": [
        " \r",
        "[******           17%                  ]  3544 of 21173 complete Elapsed: 0.0 minutes\t Remaining: 0.1 minutes"
       ]
      },
      {
       "output_type": "stream",
       "stream": "stdout",
       "text": [
        " \r",
        "[*************    33%                  ]  7072 of 21173 complete Elapsed: 0.1 minutes\t Remaining: 0.1 minutes"
       ]
      },
      {
       "output_type": "stream",
       "stream": "stdout",
       "text": [
        " \r",
        "[*****************50%                  ]  10607 of 21173 complete Elapsed: 0.1 minutes\t Remaining: 0.1 minutes"
       ]
      },
      {
       "output_type": "stream",
       "stream": "stdout",
       "text": [
        " \r",
        "[*****************67%*****             ]  14134 of 21173 complete Elapsed: 0.1 minutes\t Remaining: 0.0 minutes"
       ]
      },
      {
       "output_type": "stream",
       "stream": "stdout",
       "text": [
        " \r",
        "[                  0%                  ]"
       ]
      },
      {
       "output_type": "stream",
       "stream": "stdout",
       "text": [
        " \r",
        "[******           17%                  ]  3545 of 21173 complete Elapsed: 0.0 minutes\t Remaining: 0.1 minutes"
       ]
      },
      {
       "output_type": "stream",
       "stream": "stdout",
       "text": [
        " \r",
        "[*************    33%                  ]  7088 of 21173 complete Elapsed: 0.1 minutes\t Remaining: 0.1 minutes"
       ]
      },
      {
       "output_type": "stream",
       "stream": "stdout",
       "text": [
        " \r",
        "[*****************50%                  ]  10623 of 21173 complete Elapsed: 0.1 minutes\t Remaining: 0.1 minutes"
       ]
      },
      {
       "output_type": "stream",
       "stream": "stdout",
       "text": [
        " \r",
        "[*****************67%*****             ]  14163 of 21173 complete Elapsed: 0.1 minutes\t Remaining: 0.0 minutes"
       ]
      },
      {
       "output_type": "stream",
       "stream": "stdout",
       "text": [
        " \r",
        "[                  0%                  ]"
       ]
      },
      {
       "output_type": "stream",
       "stream": "stdout",
       "text": [
        " \r",
        "[*******          19%                  ]  3548 of 18655 complete Elapsed: 0.0 minutes\t Remaining: 0.1 minutes"
       ]
      },
      {
       "output_type": "stream",
       "stream": "stdout",
       "text": [
        " \r",
        "[**************   38%                  ]  7081 of 18655 complete Elapsed: 0.1 minutes\t Remaining: 0.1 minutes"
       ]
      },
      {
       "output_type": "stream",
       "stream": "stdout",
       "text": [
        " \r",
        "[*****************57%**                ]  10621 of 18655 complete Elapsed: 0.1 minutes\t Remaining: 0.1 minutes"
       ]
      },
      {
       "output_type": "stream",
       "stream": "stdout",
       "text": [
        " \r",
        "[*****************76%*********         ]  14154 of 18655 complete Elapsed: 0.1 minutes\t Remaining: 0.0 minutes"
       ]
      },
      {
       "output_type": "stream",
       "stream": "stdout",
       "text": [
        " \r",
        "[                  0%                  ]"
       ]
      },
      {
       "output_type": "stream",
       "stream": "stdout",
       "text": [
        " \r",
        "[*******          19%                  ]  3549 of 18655 complete Elapsed: 0.0 minutes\t Remaining: 0.1 minutes"
       ]
      },
      {
       "output_type": "stream",
       "stream": "stdout",
       "text": [
        " \r",
        "[**************   38%                  ]  7092 of 18655 complete Elapsed: 0.1 minutes\t Remaining: 0.1 minutes"
       ]
      },
      {
       "output_type": "stream",
       "stream": "stdout",
       "text": [
        " \r",
        "[*****************57%**                ]  10630 of 18655 complete Elapsed: 0.1 minutes\t Remaining: 0.1 minutes"
       ]
      },
      {
       "output_type": "stream",
       "stream": "stdout",
       "text": [
        " \r",
        "[*****************76%*********         ]  14176 of 18655 complete Elapsed: 0.1 minutes\t Remaining: 0.0 minutes"
       ]
      },
      {
       "output_type": "stream",
       "stream": "stdout",
       "text": [
        " \r",
        "[                  0%                  ]"
       ]
      },
      {
       "output_type": "stream",
       "stream": "stdout",
       "text": [
        " \r",
        "[***               7%                  ]  3545 of 50244 complete Elapsed: 0.0 minutes\t Remaining: 0.3 minutes"
       ]
      },
      {
       "output_type": "stream",
       "stream": "stdout",
       "text": [
        " \r",
        "[*****            14%                  ]  7074 of 50244 complete Elapsed: 0.1 minutes\t Remaining: 0.3 minutes"
       ]
      },
      {
       "output_type": "stream",
       "stream": "stdout",
       "text": [
        " \r",
        "[********         21%                  ]  10611 of 50244 complete Elapsed: 0.1 minutes\t Remaining: 0.3 minutes"
       ]
      },
      {
       "output_type": "stream",
       "stream": "stdout",
       "text": [
        " \r",
        "[***********      28%                  ]  14139 of 50244 complete Elapsed: 0.1 minutes\t Remaining: 0.3 minutes"
       ]
      },
      {
       "output_type": "stream",
       "stream": "stdout",
       "text": [
        " \r",
        "[*************    35%                  ]  17676 of 50244 complete Elapsed: 0.1 minutes\t Remaining: 0.2 minutes"
       ]
      },
      {
       "output_type": "stream",
       "stream": "stdout",
       "text": [
        " \r",
        "[**************** 42%                  ]  21208 of 50244 complete Elapsed: 0.2 minutes\t Remaining: 0.2 minutes"
       ]
      },
      {
       "output_type": "stream",
       "stream": "stdout",
       "text": [
        " \r",
        "[*****************49%                  ]  24745 of 50244 complete Elapsed: 0.2 minutes\t Remaining: 0.2 minutes"
       ]
      },
      {
       "output_type": "stream",
       "stream": "stdout",
       "text": [
        " \r",
        "[*****************56%*                 ]  28277 of 50244 complete Elapsed: 0.2 minutes\t Remaining: 0.2 minutes"
       ]
      },
      {
       "output_type": "stream",
       "stream": "stdout",
       "text": [
        " \r",
        "[*****************63%****              ]  31813 of 50244 complete Elapsed: 0.2 minutes\t Remaining: 0.1 minutes"
       ]
      },
      {
       "output_type": "stream",
       "stream": "stdout",
       "text": [
        " \r",
        "[*****************70%*******           ]  35345 of 50244 complete Elapsed: 0.3 minutes\t Remaining: 0.1 minutes"
       ]
      },
      {
       "output_type": "stream",
       "stream": "stdout",
       "text": [
        " \r",
        "[*****************77%*********         ]  38882 of 50244 complete Elapsed: 0.3 minutes\t Remaining: 0.1 minutes"
       ]
      },
      {
       "output_type": "stream",
       "stream": "stdout",
       "text": [
        " \r",
        "[*****************84%************      ]  42412 of 50244 complete Elapsed: 0.3 minutes\t Remaining: 0.1 minutes"
       ]
      },
      {
       "output_type": "stream",
       "stream": "stdout",
       "text": [
        " \r",
        "[*****************91%***************   ]  45949 of 50244 complete Elapsed: 0.3 minutes\t Remaining: 0.0 minutes"
       ]
      },
      {
       "output_type": "stream",
       "stream": "stdout",
       "text": [
        " \r",
        "[                  0%                  ]"
       ]
      },
      {
       "output_type": "stream",
       "stream": "stdout",
       "text": [
        " \r",
        "[***               7%                  ]  3558 of 50244 complete Elapsed: 0.0 minutes\t Remaining: 0.3 minutes"
       ]
      },
      {
       "output_type": "stream",
       "stream": "stdout",
       "text": [
        " \r",
        "[*****            14%                  ]  7100 of 50244 complete Elapsed: 0.1 minutes\t Remaining: 0.3 minutes"
       ]
      },
      {
       "output_type": "stream",
       "stream": "stdout",
       "text": [
        " \r",
        "[********         21%                  ]  10649 of 50244 complete Elapsed: 0.1 minutes\t Remaining: 0.3 minutes"
       ]
      },
      {
       "output_type": "stream",
       "stream": "stdout",
       "text": [
        " \r",
        "[***********      28%                  ]  14190 of 50244 complete Elapsed: 0.1 minutes\t Remaining: 0.3 minutes"
       ]
      },
      {
       "output_type": "stream",
       "stream": "stdout",
       "text": [
        " \r",
        "[*************    35%                  ]  17740 of 50244 complete Elapsed: 0.1 minutes\t Remaining: 0.2 minutes"
       ]
      },
      {
       "output_type": "stream",
       "stream": "stdout",
       "text": [
        " \r",
        "[**************** 42%                  ]  21283 of 50244 complete Elapsed: 0.2 minutes\t Remaining: 0.2 minutes"
       ]
      },
      {
       "output_type": "stream",
       "stream": "stdout",
       "text": [
        " \r",
        "[*****************49%                  ]  24832 of 50244 complete Elapsed: 0.2 minutes\t Remaining: 0.2 minutes"
       ]
      },
      {
       "output_type": "stream",
       "stream": "stdout",
       "text": [
        " \r",
        "[*****************56%*                 ]  28371 of 50244 complete Elapsed: 0.2 minutes\t Remaining: 0.2 minutes"
       ]
      },
      {
       "output_type": "stream",
       "stream": "stdout",
       "text": [
        " \r",
        "[*****************64%****              ]  31920 of 50244 complete Elapsed: 0.2 minutes\t Remaining: 0.1 minutes"
       ]
      },
      {
       "output_type": "stream",
       "stream": "stdout",
       "text": [
        " \r",
        "[*****************71%*******           ]  35461 of 50244 complete Elapsed: 0.3 minutes\t Remaining: 0.1 minutes"
       ]
      },
      {
       "output_type": "stream",
       "stream": "stdout",
       "text": [
        " \r",
        "[*****************78%**********        ]  39010 of 50244 complete Elapsed: 0.3 minutes\t Remaining: 0.1 minutes"
       ]
      },
      {
       "output_type": "stream",
       "stream": "stdout",
       "text": [
        " \r",
        "[*****************85%************      ]  42549 of 50244 complete Elapsed: 0.3 minutes\t Remaining: 0.1 minutes"
       ]
      },
      {
       "output_type": "stream",
       "stream": "stdout",
       "text": [
        " \r",
        "[*****************92%***************   ]  46096 of 50244 complete Elapsed: 0.3 minutes\t Remaining: 0.0 minutes"
       ]
      },
      {
       "metadata": {},
       "output_type": "display_data",
       "png": "[encoded data removed]",
       "text": [
        "<matplotlib.figure.Figure at 0x53bdc90>"
       ]
      },
      {
       "output_type": "stream",
       "stream": "stdout",
       "text": [
        "\n"
       ]
      }
     ],
     "prompt_number": 66
    },
    {
     "cell_type": "code",
     "collapsed": false,
     "input": [
      "ymin=-.5\n",
      "ylim=.5\n",
      "# plot for coverage\n",
      "#xs, y1s, y2s, split_vals, label_names, label_pos = plot_by_chromosome(compaln_master2['0'], compaln_master2['1'], compaln_master2['hg38_cov'], \n",
      "#                   np.ones(len(compaln_master2['hg38_cov'])), compaln_master2['AFRG_cov'], np.ones(len(compaln_master2['AFRG_cov'])), \n",
      "#                   trim_high=20)\n",
      "y_label = 'Coverage level'\n",
      "title = 'Coverage level comparison at variant sites between hg38 and AFRGh38'\n",
      "do_plot(xs, np.zeros(len(y1s)), [a-b for a,b in zip(y2s,y1s)], split_vals, label_names, label_pos, \n",
      "        y_label, title, ylim, ymin)\n",
      "cov_mov_avg = pd.DataFrame(zip(xs, y1s, y2s), columns=['global_pos', 'hg38_cov', 'afg_cov'])\n",
      "cov_mov_avg.to_csv('/data/projects_gibbons/home/neffra/compaln_vcf_afrgh38_hg38_ASW_092214/cov_avg_mq.arr', sep='\\t', index=None)"
     ],
     "language": "python",
     "metadata": {},
     "outputs": [
      {
       "metadata": {},
       "output_type": "display_data",
       "png": "[encoded data removed]",
       "text": [
        "<matplotlib.figure.Figure at 0xde97d10>"
       ]
      }
     ],
     "prompt_number": 80
    },
    {
     "cell_type": "heading",
     "level": 3,
     "metadata": {},
     "source": [
      "task #4"
     ]
    },
    {
     "cell_type": "code",
     "collapsed": false,
     "input": [
      "'''\n",
      "\n",
      "MakeVCFvenn\n",
      "\n",
      "takes in the common, alternate, and patch vcf file and creates a venn diagram of the overlap, as well\n",
      "as gives the numbers of each overlap. Returns the lines in each vcf file for the overlaps.\n",
      "\n",
      "'''\n",
      "\n",
      "v_com = '/data/projects_gibbons/home/neffra/ASW_hg38_bams2/GRCh38_nodel_final_66_ASW_genotypes_snps_indels.vcf.vcf'\n",
      "v_alt = '/data/projects_gibbons/home/neffra/ASW_fastq/AFRGh38_nodel_genotypes_snps_indels.raw.hg38.vcf'\n",
      "v_ref = '/data/projects_gibbons/home/neffra/nodel_AFRGh38/1kg_hapmap_combined_hg38_maj_variants.vcf'\n",
      "\n",
      "# subset files with only important columns\n",
      "#subprocess.check_output('cat ' + v_com + ' | grep -v \"#\" | cut -f1-2,4-5 > ' + v_com + '.sites', shell=True)\n",
      "#subprocess.check_output('cat ' + v_alt + ' | grep -v \"#\" | cut -f1-2,4-5 > ' + v_alt + '.sites', shell=True)\n",
      "#subprocess.check_output('cat ' + v_ref + ' | grep -v \"#\" | cut -f1-2,4-5 > ' + v_ref + '.sites', shell=True)\n",
      "\n",
      "#open vcf files into RAM as dataframes - only keep certain columns\n",
      "com_df = pd.read_csv(v_com + \".sites\", sep=\"\\t\", header=None)\n",
      "alt_df = pd.read_csv(v_alt + \".sites\", sep=\"\\t\", header=None)\n",
      "ref_df = pd.read_csv(v_ref + \".sites\", sep=\"\\t\", header=None)\n",
      "\n",
      "#do the comparisons\n",
      "alt_s = set(zip(alt_df[0],alt_df[1]))\n",
      "com_s = set(zip(com_df[0],com_df[1]))\n",
      "ref_s = set(zip(ref_df[0],ref_df[1]))"
     ],
     "language": "python",
     "metadata": {},
     "outputs": []
    },
    {
     "cell_type": "code",
     "collapsed": false,
     "input": [
      "results = dict()\n",
      "results['alt_com_noref'] = pd.DataFrame(list(alt_s.intersection(com_s).difference(ref_s)))\n",
      "results['alt_ref_nocom'] = pd.DataFrame(list(alt_s.intersection(ref_s).difference(com_s)))\n",
      "results['ref_com_noalt'] = pd.DataFrame(list(ref_s.intersection(com_s).difference(alt_s)))\n",
      "results['ref_com_alt'] = pd.DataFrame(list(ref_s.intersection(com_s).intersection(alt_s)))\n",
      "results['alt_only'] = pd.DataFrame(list(alt_s.difference(com_s).difference(ref_s)))\n",
      "results['com_only'] = pd.DataFrame(list(com_s.difference(alt_s).difference(ref_s)))\n",
      "results['ref_only'] = pd.DataFrame(list(ref_s.difference(com_s).difference(alt_s)))"
     ],
     "language": "python",
     "metadata": {},
     "outputs": []
    },
    {
     "cell_type": "code",
     "collapsed": false,
     "input": [
      "for i in results.keys():\n",
      "    print i, \":\", len(results[i])\n",
      "\n",
      "''' \n",
      "output:\n",
      "    ref_com_alt : 1491351\n",
      "    alt_ref_nocom : 1093\n",
      "    ref_com_noalt : 9059\n",
      "    alt_com_noref : 20501029\n",
      "    com_only : 262676\n",
      "    alt_only : 197024\n",
      "    ref_only : 181\n",
      "'''"
     ],
     "language": "python",
     "metadata": {},
     "outputs": [],
     "prompt_number": 44
    },
    {
     "cell_type": "code",
     "collapsed": false,
     "input": [
      "import math\n",
      "from matplotlib_venn import venn2, venn3\n",
      "\n",
      "font = {'family' : 'normal',\n",
      "        'weight' : 'bold',\n",
      "        'size'   : 20}\n",
      "plt.rc('font', **font)\n",
      "\n",
      "plt.figure(figsize=(10,10))\n",
      "e = venn3(subsets={'100':math.log(181), '110':math.log(9059), \n",
      "                   '111':math.log(1491351), '010':math.log(262676), \n",
      "                   '011':math.log(20501029), \n",
      "                   '001':math.log(197024), '101':math.log(1093)}, normalize_to=500, \n",
      "              set_labels=(\"MAF >50%\\n Variants\", \"Hg38\\nAlignment\", \"AFRG1\\nAlignment\"))\n",
      "e.get_label_by_id('100').set_text('181')\n",
      "e.get_label_by_id('010').set_text('262,676')\n",
      "e.get_label_by_id('001').set_text('')\n",
      "e.get_label_by_id('110').set_text('9,059')\n",
      "e.get_label_by_id('101').set_text('1,093')\n",
      "e.get_label_by_id('111').set_text('1,491,351')\n",
      "e.get_label_by_id('011').set_text('20,501,029')\n",
      "plt.annotate('197,024', xy=v.get_label_by_id('001').get_position() + np.array([3,-1]), xytext=(0,0),\n",
      "            ha='center', textcoords='offset points')\n",
      "plt.show()"
     ],
     "language": "python",
     "metadata": {},
     "outputs": [
      {
       "metadata": {},
       "output_type": "display_data",
       "png": "[encoded data removed]",
       "text": [
        "<matplotlib.figure.Figure at 0x2e45710>"
       ]
      }
     ],
     "prompt_number": 54
    },
    {
     "cell_type": "code",
     "collapsed": false,
     "input": [
      "#get the vcf files back from the intersections\n",
      "\n",
      "asw_only = results\n",
      "\n",
      "with open(v_alt) as f:\n",
      "    "
     ],
     "language": "python",
     "metadata": {},
     "outputs": []
    }
   ],
   "metadata": {}
  }
 ]
}