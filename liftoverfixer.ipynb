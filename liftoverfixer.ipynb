{
 "metadata": {
  "name": ""
 },
 "nbformat": 3,
 "nbformat_minor": 0,
 "worksheets": [
  {
   "cells": [
    {
     "cell_type": "code",
     "collapsed": false,
     "input": [
      "#this is for NCBI remap garbage output\n",
      "%run ipy_setup.py\n",
      "%matplotlib inline"
     ],
     "language": "python",
     "metadata": {},
     "outputs": [],
     "prompt_number": 1
    },
    {
     "cell_type": "code",
     "collapsed": false,
     "input": [
      "original_file = '/data/projects_gibbons/home/neffra/compaln_vcf_afrgh38_hg38_ASW_092214/allshared_altsites.vcf'\n",
      "lookup_table = '/data/projects_gibbons/home/neffra/compaln_vcf_afrgh38_hg38_ASW_092214/chunks-all/lookuptable_allshared.txt'"
     ],
     "language": "python",
     "metadata": {},
     "outputs": [],
     "prompt_number": 183
    },
    {
     "cell_type": "code",
     "collapsed": false,
     "input": [
      "original = pd.read_csv(original_file, sep='\\t', header=None)\n",
      "#lookup = pd.read_csv(lookup_table, sep='\\t', header=None)"
     ],
     "language": "python",
     "metadata": {},
     "outputs": [],
     "prompt_number": 184
    },
    {
     "cell_type": "code",
     "collapsed": false,
     "input": [
      "#lookup_hg38 = lookup.copy().set_index([lookup[3], lookup[7].astype(int)])"
     ],
     "language": "python",
     "metadata": {},
     "outputs": [],
     "prompt_number": 165
    },
    {
     "cell_type": "code",
     "collapsed": false,
     "input": [
      "original.set_index([original[0], original[1].astype(int)], inplace=True)"
     ],
     "language": "python",
     "metadata": {},
     "outputs": [],
     "prompt_number": 185
    },
    {
     "cell_type": "code",
     "collapsed": false,
     "input": [
      "lookupmerged = pd.merge(original, lookup_hg38[[12]], left_index=True, right_index=True)"
     ],
     "language": "python",
     "metadata": {},
     "outputs": [],
     "prompt_number": 186
    },
    {
     "cell_type": "code",
     "collapsed": false,
     "input": [
      "print len(original), len(lookupmerged)"
     ],
     "language": "python",
     "metadata": {},
     "outputs": [
      {
       "output_type": "stream",
       "stream": "stdout",
       "text": [
        "1491351 1408917\n"
       ]
      }
     ],
     "prompt_number": 180
    },
    {
     "cell_type": "code",
     "collapsed": false,
     "input": [
      "lookupmerged[1] = lookupmerged['12_y']\n",
      "del lookupmerged['12_y']"
     ],
     "language": "python",
     "metadata": {},
     "outputs": [],
     "prompt_number": 187
    },
    {
     "cell_type": "code",
     "collapsed": false,
     "input": [
      "lookupmerged.drop_duplicates(inplace=True)"
     ],
     "language": "python",
     "metadata": {},
     "outputs": [],
     "prompt_number": "*"
    },
    {
     "cell_type": "code",
     "collapsed": false,
     "input": [
      "lookupmerged.to_csv('/data/projects_gibbons/home/neffra/compaln_vcf_afrgh38_hg38_ASW_092214/allshared_altsites_hg19.vcf', \n",
      "               sep='\\t', index=None, header=None)"
     ],
     "language": "python",
     "metadata": {},
     "outputs": [],
     "prompt_number": 182
    }
   ],
   "metadata": {}
  }
 ]
}