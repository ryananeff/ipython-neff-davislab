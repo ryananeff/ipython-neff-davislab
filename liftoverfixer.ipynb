{
 "metadata": {
  "name": ""
 },
 "nbformat": 3,
 "nbformat_minor": 0,
 "worksheets": [
  {
   "cells": [
    {
     "cell_type": "code",
     "collapsed": false,
     "input": [
      "#this is for NCBI remap garbage output\n",
      "%run ipy_setup.py\n",
      "%matplotlib inline"
     ],
     "language": "python",
     "metadata": {},
     "outputs": [],
     "prompt_number": 1
    },
    {
     "cell_type": "code",
     "collapsed": false,
     "input": [
      "original_file = '/data/projects_gibbons/home/neffra/compaln_vcf_afrgh38_hg38_ASW_092214/asw_only.arr'\n",
      "lookup_table = '/data/projects_gibbons/home/neffra/compaln_vcf_afrgh38_hg38_ASW_092214/chunks/lookuptable.arr'"
     ],
     "language": "python",
     "metadata": {},
     "outputs": [],
     "prompt_number": 199
    },
    {
     "cell_type": "code",
     "collapsed": false,
     "input": [
      "original = pd.read_csv(original_file, sep='\\t', header=None)\n",
      "lookup = pd.read_csv(lookup_table, sep='\\t', header=None)"
     ],
     "language": "python",
     "metadata": {},
     "outputs": [],
     "prompt_number": 200
    },
    {
     "cell_type": "code",
     "collapsed": false,
     "input": [
      "lookup_hg38 = lookup.copy().set_index([lookup[3], lookup[7].astype(int)])"
     ],
     "language": "python",
     "metadata": {},
     "outputs": [],
     "prompt_number": 201
    },
    {
     "cell_type": "code",
     "collapsed": false,
     "input": [
      "original.set_index([original[0], original[1].astype(int)], inplace=True)"
     ],
     "language": "python",
     "metadata": {},
     "outputs": [],
     "prompt_number": 202
    },
    {
     "cell_type": "code",
     "collapsed": false,
     "input": [
      "lookupmerged = pd.merge(original, lookup_hg38[[12]], left_index=True, right_index=True)"
     ],
     "language": "python",
     "metadata": {},
     "outputs": [],
     "prompt_number": 207
    },
    {
     "cell_type": "code",
     "collapsed": false,
     "input": [
      "print len(original), len(lookupmerged)"
     ],
     "language": "python",
     "metadata": {},
     "outputs": [
      {
       "output_type": "stream",
       "stream": "stdout",
       "text": [
        "197024 156632\n"
       ]
      }
     ],
     "prompt_number": 229
    },
    {
     "cell_type": "code",
     "collapsed": false,
     "input": [
      "[i.is_integer() for i in lookupmerged['12_y']][0:10]"
     ],
     "language": "python",
     "metadata": {},
     "outputs": [
      {
       "metadata": {},
       "output_type": "pyout",
       "prompt_number": 225,
       "text": [
        "[True, True, True, True, True, True, True, True, True, True]"
       ]
      }
     ],
     "prompt_number": 225
    },
    {
     "cell_type": "code",
     "collapsed": false,
     "input": [
      "lookupmerged = lookupmerged[[i.is_integer() for i in lookupmerged['12_y']]]\n",
      "lookupmerged[1] = lookupmerged['12_y'].astype(int)\n",
      "del lookupmerged['12_y']"
     ],
     "language": "python",
     "metadata": {},
     "outputs": [],
     "prompt_number": 226
    },
    {
     "cell_type": "code",
     "collapsed": false,
     "input": [
      "lookupmerged.drop_duplicates(inplace=True)"
     ],
     "language": "python",
     "metadata": {},
     "outputs": [],
     "prompt_number": 228
    },
    {
     "cell_type": "code",
     "collapsed": false,
     "input": [
      "lookupmerged.to_csv('/data/projects_gibbons/home/neffra/compaln_vcf_afrgh38_hg38_ASW_092214/asw_only_hg19_cleaned.arr', \n",
      "               sep='\\t', index=None, header=None)"
     ],
     "language": "python",
     "metadata": {},
     "outputs": [],
     "prompt_number": 230
    },
    {
     "cell_type": "code",
     "collapsed": false,
     "input": [
      "asw_only = pd.read_csv('/data/projects_gibbons/home/neffra/compaln_vcf_afrgh38_hg38_ASW_092214/allshared_altsites.vcf', \n",
      "                       sep='\\t', header=None)"
     ],
     "language": "python",
     "metadata": {},
     "outputs": [],
     "prompt_number": 231
    },
    {
     "cell_type": "code",
     "collapsed": false,
     "input": [
      "%time list(asw_only[0])[0] in list(asw_only[0])"
     ],
     "language": "python",
     "metadata": {},
     "outputs": [
      {
       "output_type": "stream",
       "stream": "stdout",
       "text": [
        "CPU times: user 60 ms, sys: 0 ns, total: 60 ms\n",
        "Wall time: 60.3 ms\n"
       ]
      },
      {
       "metadata": {},
       "output_type": "pyout",
       "prompt_number": 250,
       "text": [
        "True"
       ]
      }
     ],
     "prompt_number": 250
    }
   ],
   "metadata": {}
  }
 ]
}