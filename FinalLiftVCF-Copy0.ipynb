{
 "metadata": {
  "name": ""
 },
 "nbformat": 3,
 "nbformat_minor": 0,
 "worksheets": [
  {
   "cells": [
    {
     "cell_type": "code",
     "collapsed": false,
     "input": [
      "# sets up the environment - use everytime\n",
      "%matplotlib inline\n",
      "%run ipy_setup.py\n",
      "rcParams['figure.figsize'] = (30, 10)\n",
      "rcParams['patch.edgecolor'] = 'blue'\n",
      "rcParams['figure.dpi'] = 300\n",
      "rcParams['font.size'] = 14\n",
      "rcParams['font.family'] = 'sans-serif'"
     ],
     "language": "python",
     "metadata": {},
     "outputs": [],
     "prompt_number": 1
    },
    {
     "cell_type": "code",
     "collapsed": false,
     "input": [
      "lifttable = ''\n",
      "last_chr = ''\n",
      "lift_til = 0\n",
      "delta = 0\n",
      "    \n",
      "# this is the code to make liftovers work going in the hg## --> AFRG1 direction\n",
      "def lift_master(ref_pos, liftover, chrom, reverse):\n",
      "    global lifttable\n",
      "    global start_idx\n",
      "    global end_idx\n",
      "    global last_chr\n",
      "    global lift_til\n",
      "    global delta\n",
      "    if reverse==False:\n",
      "        if last_chr != chrom:\n",
      "            # this is where we subset the liftover array\n",
      "            lifttable = liftover.loc[chrom]\n",
      "            start_idx = lifttable.index.get_level_values('ref_start')\n",
      "            end_idx = lifttable.index.get_level_values('ref_end')\n",
      "            last_chr = chrom\n",
      "            delta = 0\n",
      "        if ref_pos > lift_til: # check if cached?\n",
      "            try:\n",
      "                delta, lift_til = liftdelta(ref_pos, lifttable, start_idx, end_idx, reverse) # converts position into alt ref pos\n",
      "            except:\n",
      "                return None\n",
      "    elif reverse==True:\n",
      "        if last_chr != chrom:\n",
      "            # this is where we subset the liftover array\n",
      "            lifttable = liftover.loc[chrom]\n",
      "            start_idx = lifttable.index.get_level_values('alt_start')\n",
      "            end_idx = lifttable.index.get_level_values('alt_end')\n",
      "            last_chr = chrom\n",
      "            delta=0\n",
      "        if ref_pos > lift_til: # check if cached?\n",
      "            delta, lift_til = liftdelta(ref_pos, lifttable, start_idx, end_idx, reverse) # converts position into alt ref pos\n",
      "    else:\n",
      "        assert False, \"unhandled command\"\n",
      "    return int(ref_pos + delta)\n",
      "    \n",
      "\n",
      "def liftdelta(pos, liftover, start_idx, end_idx, reverse):\n",
      "    match = liftover.loc[(start_idx <= pos) & (end_idx > pos)].reset_index().irow(0)\n",
      "    if reverse==False:\n",
      "        return match['alt_start'] - match['ref_start'], match['ref_end']\n",
      "    if reverse==True:\n",
      "        return match['ref_start'] - match['alt_start'], match['alt_end']"
     ],
     "language": "python",
     "metadata": {},
     "outputs": [],
     "prompt_number": 2
    },
    {
     "cell_type": "code",
     "collapsed": false,
     "input": [
      "def liftoverVCF(ref_vcf, liftover_file, out_file, reverse=False): # this goes from hg## --> AFRG1 direction\n",
      "    outarr = []\n",
      "    num = subprocess.check_output('head -n 1000 ' + ref_vcf + ' | grep \"#\" | wc -l', shell=True)\n",
      "    vcffile = pd.read_csv(ref_vcf, header=None, sep='\\t', skiprows=int(num))\n",
      "    \n",
      "    colnames=['chain','score','ref_chr','ref_len','ref_misc','ref_start','ref_end',\n",
      "              'alt_chr','alt_len','alt_misc','alt_start','alt_end']\n",
      "    \n",
      "    chr_names=[\"chr1\",\"chr2\",\"chr3\",\"chr4\",\"chr5\",\"chr6\",\"chr7\",\"chr8\",\"chr9\",\"chr10\",\"chr11\",\"chr12\",\"chr13\",\n",
      "               \"chr14\",\"chr15\",\"chr16\",\"chr17\",\"chr18\",\"chr19\",\"chr20\",\"chr21\",\"chr22\",\"chrX\",\"chrY\"]\n",
      "    \n",
      "    liftover = pd.read_csv(liftover_file,sep='\\t',header=None, \n",
      "                       names=colnames)\n",
      "    liftover.set_index(['ref_chr', 'ref_start', 'ref_end'], inplace=True)\n",
      "    \n",
      "    # now that we're init'd, let's start\n",
      "    pbar = ProgressBar(len(vcffile))\n",
      "    for chrom in chr_names:\n",
      "        last_pos = 0\n",
      "        tmp = vcffile[vcffile[0]==chrom]\n",
      "        for a,line in tmp.iterrows():\n",
      "            pbar.animate()\n",
      "            outline = line\n",
      "            pos = lift_master(line[1], liftover, chrom, reverse)\n",
      "            if pos != None:\n",
      "                if last_pos < pos:\n",
      "                    last_pos = pos\n",
      "                    outline[1] = pos\n",
      "                    outarr.append(outline)\n",
      "                else:\n",
      "                    sys.stderr.write('WARN: pos ' + str(pos) + ' is less than or equal to last_pos ' + str(last_pos) + '\\n')\n",
      "                    sys.stderr.flush()\n",
      "    outarr = pd.DataFrame(outarr)\n",
      "    outarr.to_csv(out_file, header=None, sep='\\t', index=None) # and we're done!        "
     ],
     "language": "python",
     "metadata": {},
     "outputs": [],
     "prompt_number": 3
    },
    {
     "cell_type": "code",
     "collapsed": false,
     "input": [
      "liftover_file='/data/projects_gibbons/home/neffra/old_analysis/new_ref_seq/liftover-022714_131159-cleaned.chain'\n",
      "colnames=['chain','score','ref_chr','ref_len','ref_misc','ref_start','ref_end',\n",
      "              'alt_chr','alt_len','alt_misc','alt_start','alt_end']\n",
      "liftover = pd.read_csv(liftover_file,sep='\\t',header=None, \n",
      "                   names=colnames)\n",
      "liftover.set_index(['ref_chr', 'alt_start', 'alt_end'], inplace=True)\n",
      "lift_master(51500798, liftover, 'chr15', True)"
     ],
     "language": "python",
     "metadata": {},
     "outputs": [
      {
       "metadata": {},
       "output_type": "pyout",
       "prompt_number": 4,
       "text": [
        "51503191"
       ]
      }
     ],
     "prompt_number": 4
    },
    {
     "cell_type": "code",
     "collapsed": false,
     "input": [
      "ref_vcf = '/data/projects_gibbons/home/neffra/training/hapmap_hg38_noalt.vcf'\n",
      "liftover_file='/data/projects_gibbons/home/neffra/hg38_ref_070814_173730/liftover-070814_173730'\n",
      "out_file = '/data/projects_gibbons/home/neffra/training/hapmap_fin.afrgh38.vcf'\n",
      "liftoverVCF(ref_vcf, liftover_file, out_file) # fastest possible implementation\n",
      "\n",
      "ref_vcf = '/data/projects_gibbons/home/neffra/training/omni_hg38_noalt.vcf'\n",
      "liftover_file='/data/projects_gibbons/home/neffra/hg38_ref_070814_173730/liftover-070814_173730'\n",
      "out_file = '/data/projects_gibbons/home/neffra/training/omni_fin.afrgh38.vcf'\n",
      "liftoverVCF(ref_vcf, liftover_file, out_file) # fastest possible implementation\n",
      "\n",
      "ref_vcf = '/data/projects_gibbons/home/neffra/training/mills_hg38_noalt.vcf'\n",
      "liftover_file='/data/projects_gibbons/home/neffra/hg38_ref_070814_173730/liftover-070814_173730'\n",
      "out_file = '/data/projects_gibbons/home/neffra/training/mills_fin.afrgh38.vcf'\n",
      "liftoverVCF(ref_vcf, liftover_file, out_file) # fastest possible implementation"
     ],
     "language": "python",
     "metadata": {},
     "outputs": [
      {
       "output_type": "stream",
       "stream": "stdout",
       "text": [
        "\r",
        "[                  0%                  ]"
       ]
      },
      {
       "output_type": "stream",
       "stream": "stdout",
       "text": [
        " \r",
        "[                  0%                  ]  4309 of 4162828 complete Elapsed: 0.0 minutes\t Remaining: 24.2 minutes"
       ]
      },
      {
       "output_type": "stream",
       "stream": "stdout",
       "text": [
        " \r",
        "[                  0%                  ]  12023 of 4162828 complete Elapsed: 0.1 minutes\t Remaining: 17.3 minutes"
       ]
      },
      {
       "output_type": "stream",
       "stream": "stdout",
       "text": [
        " \r",
        "[                  0%                  ]  19985 of 4162828 complete Elapsed: 0.1 minutes\t Remaining: 15.6 minutes"
       ]
      },
      {
       "output_type": "stream",
       "stream": "stdout",
       "text": [
        " \r",
        "[                  1%                  ]  28173 of 4162828 complete Elapsed: 0.1 minutes\t Remaining: 14.7 minutes"
       ]
      },
      {
       "output_type": "stream",
       "stream": "stdout",
       "text": [
        " \r",
        "[                  1%                  ]  35781 of 4162828 complete Elapsed: 0.1 minutes\t Remaining: 14.4 minutes"
       ]
      },
      {
       "output_type": "stream",
       "stream": "stdout",
       "text": [
        " \r",
        "[                  1%                  ]  43862 of 4162828 complete Elapsed: 0.2 minutes\t Remaining: 14.1 minutes"
       ]
      },
      {
       "output_type": "stream",
       "stream": "stdout",
       "text": [
        " \r",
        "[                  1%                  ]  52165 of 4162828 complete Elapsed: 0.2 minutes\t Remaining: 13.8 minutes"
       ]
      },
      {
       "output_type": "stream",
       "stream": "stdout",
       "text": [
        " \r",
        "[                  1%                  ]  60116 of 4162828 complete Elapsed: 0.2 minutes\t Remaining: 13.7 minutes"
       ]
      },
      {
       "output_type": "stream",
       "stream": "stdout",
       "text": [
        " \r",
        "[*                 2%                  ]  68484 of 4162828 complete Elapsed: 0.2 minutes\t Remaining: 13.5 minutes"
       ]
      },
      {
       "output_type": "stream",
       "stream": "stdout",
       "text": [
        " \r",
        "[*                 2%                  ]  77087 of 4162828 complete Elapsed: 0.3 minutes\t Remaining: 13.3 minutes"
       ]
      },
      {
       "output_type": "stream",
       "stream": "stdout",
       "text": [
        " \r",
        "[*                 2%                  ]  85138 of 4162828 complete Elapsed: 0.3 minutes\t Remaining: 13.2 minutes"
       ]
      },
      {
       "output_type": "stream",
       "stream": "stdout",
       "text": [
        " \r",
        "[*                 2%                  ]  93116 of 4162828 complete Elapsed: 0.3 minutes\t Remaining: 13.1 minutes"
       ]
      },
      {
       "output_type": "stream",
       "stream": "stdout",
       "text": [
        " \r",
        "[*                 2%                  ]  101483 of 4162828 complete Elapsed: 0.3 minutes\t Remaining: 13.0 minutes"
       ]
      },
      {
       "output_type": "stream",
       "stream": "stdout",
       "text": [
        " \r",
        "[*                 3%                  ]  109884 of 4162828 complete Elapsed: 0.4 minutes\t Remaining: 12.9 minutes"
       ]
      },
      {
       "output_type": "stream",
       "stream": "stdout",
       "text": [
        " \r",
        "[*                 3%                  ]  118426 of 4162828 complete Elapsed: 0.4 minutes\t Remaining: 12.8 minutes"
       ]
      },
      {
       "output_type": "stream",
       "stream": "stdout",
       "text": [
        " \r",
        "[*                 3%                  ]  126527 of 4162828 complete Elapsed: 0.4 minutes\t Remaining: 12.8 minutes"
       ]
      },
      {
       "output_type": "stream",
       "stream": "stdout",
       "text": [
        " \r",
        "[*                 3%                  ]  134245 of 4162828 complete Elapsed: 0.4 minutes\t Remaining: 12.8 minutes"
       ]
      },
      {
       "output_type": "stream",
       "stream": "stdout",
       "text": [
        " \r",
        "[*                 3%                  ]  142505 of 4162828 complete Elapsed: 0.5 minutes\t Remaining: 12.7 minutes"
       ]
      },
      {
       "output_type": "stream",
       "stream": "stdout",
       "text": [
        " \r",
        "[**                4%                  ]  150601 of 4162828 complete Elapsed: 0.5 minutes\t Remaining: 12.7 minutes"
       ]
      },
      {
       "output_type": "stream",
       "stream": "stdout",
       "text": [
        " \r",
        "[**                4%                  ]  158741 of 4162828 complete Elapsed: 0.5 minutes\t Remaining: 12.6 minutes"
       ]
      },
      {
       "output_type": "stream",
       "stream": "stdout",
       "text": [
        " \r",
        "[**                4%                  ]  167011 of 4162828 complete Elapsed: 0.5 minutes\t Remaining: 12.6 minutes"
       ]
      },
      {
       "output_type": "stream",
       "stream": "stdout",
       "text": [
        " \r",
        "[**                4%                  ]  175030 of 4162828 complete Elapsed: 0.6 minutes\t Remaining: 12.5 minutes"
       ]
      },
      {
       "output_type": "stream",
       "stream": "stdout",
       "text": [
        " \r",
        "[**                4%                  ]  182732 of 4162828 complete Elapsed: 0.6 minutes\t Remaining: 12.5 minutes"
       ]
      },
      {
       "output_type": "stream",
       "stream": "stdout",
       "text": [
        " \r",
        "[**                5%                  ]  190913 of 4162828 complete Elapsed: 0.6 minutes\t Remaining: 12.5 minutes"
       ]
      },
      {
       "output_type": "stream",
       "stream": "stdout",
       "text": [
        " \r",
        "[**                5%                  ]  199370 of 4162828 complete Elapsed: 0.6 minutes\t Remaining: 12.4 minutes"
       ]
      },
      {
       "output_type": "stream",
       "stream": "stdout",
       "text": [
        " \r",
        "[**                5%                  ]  207462 of 4162828 complete Elapsed: 0.7 minutes\t Remaining: 12.4 minutes"
       ]
      },
      {
       "output_type": "stream",
       "stream": "stdout",
       "text": [
        " \r",
        "[**                5%                  ]  214890 of 4162828 complete Elapsed: 0.7 minutes\t Remaining: 12.4 minutes"
       ]
      },
      {
       "output_type": "stream",
       "stream": "stdout",
       "text": [
        " \r",
        "[**                5%                  ]  223044 of 4162828 complete Elapsed: 0.7 minutes\t Remaining: 12.4 minutes"
       ]
      },
      {
       "output_type": "stream",
       "stream": "stdout",
       "text": [
        " \r",
        "[**                6%                  ]  231050 of 4162828 complete Elapsed: 0.7 minutes\t Remaining: 12.3 minutes"
       ]
      },
      {
       "output_type": "stream",
       "stream": "stdout",
       "text": [
        " \r",
        "[**                6%                  ]  239167 of 4162828 complete Elapsed: 0.8 minutes\t Remaining: 12.3 minutes"
       ]
      },
      {
       "output_type": "stream",
       "stream": "stdout",
       "text": [
        " \r",
        "[**                6%                  ]  247261 of 4162828 complete Elapsed: 0.8 minutes\t Remaining: 12.3 minutes"
       ]
      },
      {
       "output_type": "stream",
       "stream": "stdout",
       "text": [
        " \r",
        "[**                6%                  ]  255537 of 4162828 complete Elapsed: 0.8 minutes\t Remaining: 12.2 minutes"
       ]
      },
      {
       "output_type": "stream",
       "stream": "stdout",
       "text": [
        " \r",
        "[**                6%                  ]  263998 of 4162828 complete Elapsed: 0.8 minutes\t Remaining: 12.2 minutes"
       ]
      },
      {
       "output_type": "stream",
       "stream": "stdout",
       "text": [
        " \r",
        "[***               7%                  ]  271808 of 4162828 complete Elapsed: 0.9 minutes\t Remaining: 12.2 minutes"
       ]
      },
      {
       "output_type": "stream",
       "stream": "stdout",
       "text": [
        " \r",
        "[***               7%                  ]  280495 of 4162828 complete Elapsed: 0.9 minutes\t Remaining: 12.1 minutes"
       ]
      },
      {
       "output_type": "stream",
       "stream": "stdout",
       "text": [
        " \r",
        "[***               7%                  ]  288441 of 4162828 complete Elapsed: 0.9 minutes\t Remaining: 12.1 minutes"
       ]
      },
      {
       "output_type": "stream",
       "stream": "stdout",
       "text": [
        " \r",
        "[***               7%                  ]  296385 of 4162828 complete Elapsed: 0.9 minutes\t Remaining: 12.1 minutes"
       ]
      },
      {
       "output_type": "stream",
       "stream": "stdout",
       "text": [
        " \r",
        "[***               7%                  ]  304603 of 4162828 complete Elapsed: 1.0 minutes\t Remaining: 12.0 minutes"
       ]
      },
      {
       "output_type": "stream",
       "stream": "stdout",
       "text": [
        " \r",
        "[***               8%                  ]  312984 of 4162828 complete Elapsed: 1.0 minutes\t Remaining: 12.0 minutes"
       ]
      },
      {
       "output_type": "stream",
       "stream": "stdout",
       "text": [
        " \r",
        "[***               8%                  ]  321021 of 4162828 complete Elapsed: 1.0 minutes\t Remaining: 12.0 minutes"
       ]
      },
      {
       "output_type": "stream",
       "stream": "stdout",
       "text": [
        " \r",
        "[***               8%                  ]  325741 of 4162828 complete Elapsed: 1.0 minutes\t Remaining: 12.1 minutes"
       ]
      },
      {
       "output_type": "stream",
       "stream": "stdout",
       "text": [
        " \r",
        "[***               8%                  ]  336401 of 4162828 complete Elapsed: 1.1 minutes\t Remaining: 12.0 minutes"
       ]
      },
      {
       "output_type": "stream",
       "stream": "stdout",
       "text": [
        " \r",
        "[***               8%                  ]  347213 of 4162828 complete Elapsed: 1.1 minutes\t Remaining: 11.8 minutes"
       ]
      },
      {
       "output_type": "stream",
       "stream": "stdout",
       "text": [
        " \r",
        "[***               9%                  ]  357939 of 4162828 complete Elapsed: 1.1 minutes\t Remaining: 11.7 minutes"
       ]
      },
      {
       "output_type": "stream",
       "stream": "stdout",
       "text": [
        " \r",
        "[***               9%                  ]  368687 of 4162828 complete Elapsed: 1.1 minutes\t Remaining: 11.6 minutes"
       ]
      },
      {
       "output_type": "stream",
       "stream": "stdout",
       "text": [
        " \r",
        "[***               9%                  ]  379401 of 4162828 complete Elapsed: 1.2 minutes\t Remaining: 11.5 minutes"
       ]
      },
      {
       "output_type": "stream",
       "stream": "stdout",
       "text": [
        " \r",
        "[***               9%                  ]  390156 of 4162828 complete Elapsed: 1.2 minutes\t Remaining: 11.4 minutes"
       ]
      },
      {
       "output_type": "stream",
       "stream": "stdout",
       "text": [
        " \r",
        "[****             10%                  ]  397687 of 4162828 complete Elapsed: 1.4 minutes\t Remaining: 13.6 minutes"
       ]
      },
      {
       "output_type": "stream",
       "stream": "stdout",
       "text": [
        " \r",
        "[****             10%                  ]  408401 of 4162828 complete Elapsed: 1.5 minutes\t Remaining: 13.4 minutes"
       ]
      },
      {
       "output_type": "stream",
       "stream": "stdout",
       "text": [
        " \r",
        "[****             10%                  ]  419107 of 4162828 complete Elapsed: 1.5 minutes\t Remaining: 13.2 minutes"
       ]
      },
      {
       "output_type": "stream",
       "stream": "stdout",
       "text": [
        " \r",
        "[****             10%                  ]  429920 of 4162828 complete Elapsed: 1.5 minutes\t Remaining: 13.1 minutes"
       ]
      },
      {
       "output_type": "stream",
       "stream": "stdout",
       "text": [
        " \r",
        "[****             11%                  ]  440646 of 4162828 complete Elapsed: 1.5 minutes\t Remaining: 12.9 minutes"
       ]
      },
      {
       "output_type": "stream",
       "stream": "stdout",
       "text": [
        " \r",
        "[****             11%                  ]  451360 of 4162828 complete Elapsed: 1.6 minutes\t Remaining: 12.8 minutes"
       ]
      },
      {
       "output_type": "stream",
       "stream": "stdout",
       "text": [
        " \r",
        "[****             11%                  ]  462087 of 4162828 complete Elapsed: 1.6 minutes\t Remaining: 12.7 minutes"
       ]
      },
      {
       "output_type": "stream",
       "stream": "stdout",
       "text": [
        " \r",
        "[****             11%                  ]  472805 of 4162828 complete Elapsed: 1.6 minutes\t Remaining: 12.5 minutes"
       ]
      },
      {
       "output_type": "stream",
       "stream": "stdout",
       "text": [
        " \r",
        "[*****            12%                  ]  483601 of 4162828 complete Elapsed: 1.6 minutes\t Remaining: 12.4 minutes"
       ]
      },
      {
       "output_type": "stream",
       "stream": "stdout",
       "text": [
        " \r",
        "[*****            12%                  ]  494326 of 4162828 complete Elapsed: 1.7 minutes\t Remaining: 12.3 minutes"
       ]
      },
      {
       "output_type": "stream",
       "stream": "stdout",
       "text": [
        " \r",
        "[*****            12%                  ]  505050 of 4162828 complete Elapsed: 1.7 minutes\t Remaining: 12.2 minutes"
       ]
      },
      {
       "output_type": "stream",
       "stream": "stdout",
       "text": [
        " \r",
        "[*****            12%                  ]  515759 of 4162828 complete Elapsed: 1.7 minutes\t Remaining: 12.1 minutes"
       ]
      },
      {
       "output_type": "stream",
       "stream": "stdout",
       "text": [
        " \r",
        "[*****            13%                  ]  526489 of 4162828 complete Elapsed: 1.7 minutes\t Remaining: 12.0 minutes"
       ]
      },
      {
       "output_type": "stream",
       "stream": "stdout",
       "text": [
        " \r",
        "[*****            13%                  ]  537200 of 4162828 complete Elapsed: 1.8 minutes\t Remaining: 11.9 minutes"
       ]
      },
      {
       "output_type": "stream",
       "stream": "stdout",
       "text": [
        " \r",
        "[*****            13%                  ]  547975 of 4162828 complete Elapsed: 1.8 minutes\t Remaining: 11.8 minutes"
       ]
      },
      {
       "output_type": "stream",
       "stream": "stdout",
       "text": [
        " \r",
        "[*****            13%                  ]  558715 of 4162828 complete Elapsed: 1.8 minutes\t Remaining: 11.7 minutes"
       ]
      },
      {
       "output_type": "stream",
       "stream": "stdout",
       "text": [
        " \r",
        "[*****            14%                  ]  569434 of 4162828 complete Elapsed: 1.8 minutes\t Remaining: 11.6 minutes"
       ]
      },
      {
       "output_type": "stream",
       "stream": "stdout",
       "text": [
        " \r",
        "[*****            14%                  ]  580160 of 4162828 complete Elapsed: 1.9 minutes\t Remaining: 11.5 minutes"
       ]
      },
      {
       "output_type": "stream",
       "stream": "stdout",
       "text": [
        " \r",
        "[*****            14%                  ]  590886 of 4162828 complete Elapsed: 1.9 minutes\t Remaining: 11.4 minutes"
       ]
      },
      {
       "output_type": "stream",
       "stream": "stdout",
       "text": [
        " \r",
        "[*****            14%                  ]  601610 of 4162828 complete Elapsed: 1.9 minutes\t Remaining: 11.3 minutes"
       ]
      },
      {
       "output_type": "stream",
       "stream": "stdout",
       "text": [
        " \r",
        "[******           15%                  ]  612372 of 4162828 complete Elapsed: 1.9 minutes\t Remaining: 11.2 minutes"
       ]
      },
      {
       "output_type": "stream",
       "stream": "stdout",
       "text": [
        " \r",
        "[******           15%                  ]  623109 of 4162828 complete Elapsed: 2.0 minutes\t Remaining: 11.1 minutes"
       ]
      },
      {
       "output_type": "stream",
       "stream": "stdout",
       "text": [
        " \r",
        "[******           15%                  ]  633849 of 4162828 complete Elapsed: 2.0 minutes\t Remaining: 11.0 minutes"
       ]
      },
      {
       "output_type": "stream",
       "stream": "stdout",
       "text": [
        " \r",
        "[******           15%                  ]  644607 of 4162828 complete Elapsed: 2.0 minutes\t Remaining: 11.0 minutes"
       ]
      },
      {
       "output_type": "stream",
       "stream": "stdout",
       "text": [
        " \r",
        "[******           16%                  ]  655352 of 4162828 complete Elapsed: 2.0 minutes\t Remaining: 10.9 minutes"
       ]
      },
      {
       "output_type": "stream",
       "stream": "stdout",
       "text": [
        " \r",
        "[******           16%                  ]  663081 of 4162828 complete Elapsed: 2.1 minutes\t Remaining: 10.9 minutes"
       ]
      },
      {
       "output_type": "stream",
       "stream": "stdout",
       "text": [
        " \r",
        "[******           16%                  ]  673760 of 4162828 complete Elapsed: 2.1 minutes\t Remaining: 10.8 minutes"
       ]
      },
      {
       "output_type": "stream",
       "stream": "stdout",
       "text": [
        " \r",
        "[******           16%                  ]  684537 of 4162828 complete Elapsed: 2.1 minutes\t Remaining: 10.7 minutes"
       ]
      },
      {
       "output_type": "stream",
       "stream": "stdout",
       "text": [
        " \r",
        "[******           17%                  ]  695280 of 4162828 complete Elapsed: 2.1 minutes\t Remaining: 10.7 minutes"
       ]
      },
      {
       "output_type": "stream",
       "stream": "stdout",
       "text": [
        " \r",
        "[******           17%                  ]  706002 of 4162828 complete Elapsed: 2.2 minutes\t Remaining: 10.6 minutes"
       ]
      },
      {
       "output_type": "stream",
       "stream": "stdout",
       "text": [
        " \r",
        "[******           17%                  ]  716743 of 4162828 complete Elapsed: 2.2 minutes\t Remaining: 10.5 minutes"
       ]
      },
      {
       "output_type": "stream",
       "stream": "stdout",
       "text": [
        " \r",
        "[******           17%                  ]  727481 of 4162828 complete Elapsed: 2.2 minutes\t Remaining: 10.4 minutes"
       ]
      },
      {
       "output_type": "stream",
       "stream": "stdout",
       "text": [
        " \r",
        "[*******          18%                  ]  738213 of 4162828 complete Elapsed: 2.2 minutes\t Remaining: 10.4 minutes"
       ]
      },
      {
       "output_type": "stream",
       "stream": "stdout",
       "text": [
        " \r",
        "[*******          18%                  ]  748933 of 4162828 complete Elapsed: 2.3 minutes\t Remaining: 10.3 minutes"
       ]
      },
      {
       "output_type": "stream",
       "stream": "stdout",
       "text": [
        " \r",
        "[*******          18%                  ]  759677 of 4162828 complete Elapsed: 2.3 minutes\t Remaining: 10.2 minutes"
       ]
      },
      {
       "output_type": "stream",
       "stream": "stdout",
       "text": [
        " \r",
        "[*******          19%                  ]  770446 of 4162828 complete Elapsed: 2.3 minutes\t Remaining: 10.2 minutes"
       ]
      },
      {
       "output_type": "stream",
       "stream": "stdout",
       "text": [
        " \r",
        "[*******          19%                  ]  781195 of 4162828 complete Elapsed: 2.3 minutes\t Remaining: 10.1 minutes"
       ]
      },
      {
       "output_type": "stream",
       "stream": "stdout",
       "text": [
        " \r",
        "[*******          19%                  ]  791929 of 4162828 complete Elapsed: 2.4 minutes\t Remaining: 10.0 minutes"
       ]
      },
      {
       "output_type": "stream",
       "stream": "stdout",
       "text": [
        " \r",
        "[*******          19%                  ]  802654 of 4162828 complete Elapsed: 2.4 minutes\t Remaining: 10.0 minutes"
       ]
      },
      {
       "output_type": "stream",
       "stream": "stdout",
       "text": [
        " \r",
        "[********         20%                  ]  813366 of 4162828 complete Elapsed: 2.4 minutes\t Remaining: 9.9 minutes"
       ]
      },
      {
       "output_type": "stream",
       "stream": "stdout",
       "text": [
        " \r",
        "[********         20%                  ]  824087 of 4162828 complete Elapsed: 2.4 minutes\t Remaining: 9.9 minutes"
       ]
      },
      {
       "output_type": "stream",
       "stream": "stdout",
       "text": [
        " \r",
        "[********         20%                  ]  834833 of 4162828 complete Elapsed: 2.5 minutes\t Remaining: 9.8 minutes"
       ]
      },
      {
       "output_type": "stream",
       "stream": "stdout",
       "text": [
        " \r",
        "[********         20%                  ]  845573 of 4162828 complete Elapsed: 2.5 minutes\t Remaining: 9.8 minutes"
       ]
      },
      {
       "output_type": "stream",
       "stream": "stdout",
       "text": [
        " \r",
        "[********         21%                  ]  856295 of 4162828 complete Elapsed: 2.5 minutes\t Remaining: 9.7 minutes"
       ]
      },
      {
       "output_type": "stream",
       "stream": "stdout",
       "text": [
        " \r",
        "[********         21%                  ]  867060 of 4162828 complete Elapsed: 2.5 minutes\t Remaining: 9.6 minutes"
       ]
      },
      {
       "output_type": "stream",
       "stream": "stdout",
       "text": [
        " \r",
        "[********         21%                  ]  877798 of 4162828 complete Elapsed: 2.6 minutes\t Remaining: 9.6 minutes"
       ]
      },
      {
       "output_type": "stream",
       "stream": "stdout",
       "text": [
        " \r",
        "[********         21%                  ]  888549 of 4162828 complete Elapsed: 2.6 minutes\t Remaining: 9.5 minutes"
       ]
      },
      {
       "output_type": "stream",
       "stream": "stdout",
       "text": [
        " \r",
        "[********         22%                  ]  899297 of 4162828 complete Elapsed: 2.6 minutes\t Remaining: 9.5 minutes"
       ]
      },
      {
       "output_type": "stream",
       "stream": "stdout",
       "text": [
        " \r",
        "[********         22%                  ]  910019 of 4162828 complete Elapsed: 2.6 minutes\t Remaining: 9.4 minutes"
       ]
      },
      {
       "output_type": "stream",
       "stream": "stdout",
       "text": [
        " \r",
        "[********         22%                  ]  920746 of 4162828 complete Elapsed: 2.7 minutes\t Remaining: 9.4 minutes"
       ]
      },
      {
       "output_type": "stream",
       "stream": "stdout",
       "text": [
        " \r",
        "[********         22%                  ]  930993 of 4162828 complete Elapsed: 2.7 minutes\t Remaining: 9.4 minutes"
       ]
      },
      {
       "output_type": "stream",
       "stream": "stdout",
       "text": [
        " \r",
        "[*********        23%                  ]  941678 of 4162828 complete Elapsed: 2.7 minutes\t Remaining: 9.3 minutes"
       ]
      },
      {
       "output_type": "stream",
       "stream": "stdout",
       "text": [
        " \r",
        "[*********        23%                  ]  952427 of 4162828 complete Elapsed: 2.7 minutes\t Remaining: 9.3 minutes"
       ]
      },
      {
       "output_type": "stream",
       "stream": "stdout",
       "text": [
        " \r",
        "[*********        23%                  ]  963137 of 4162828 complete Elapsed: 2.8 minutes\t Remaining: 9.2 minutes"
       ]
      },
      {
       "output_type": "stream",
       "stream": "stdout",
       "text": [
        " \r",
        "[*********        23%                  ]  973866 of 4162828 complete Elapsed: 2.8 minutes\t Remaining: 9.2 minutes"
       ]
      },
      {
       "output_type": "stream",
       "stream": "stdout",
       "text": [
        " \r",
        "[*********        24%                  ]  984555 of 4162828 complete Elapsed: 2.8 minutes\t Remaining: 9.1 minutes"
       ]
      },
      {
       "output_type": "stream",
       "stream": "stdout",
       "text": [
        " \r",
        "[*********        24%                  ]  995232 of 4162828 complete Elapsed: 2.8 minutes\t Remaining: 9.1 minutes"
       ]
      },
      {
       "output_type": "stream",
       "stream": "stdout",
       "text": [
        " \r",
        "[*********        24%                  ]  1005930 of 4162828 complete Elapsed: 2.9 minutes\t Remaining: 9.0 minutes"
       ]
      },
      {
       "output_type": "stream",
       "stream": "stderr",
       "text": [
        "WARN: pos 68709989 is less than or equal to last_pos 68709989\n"
       ]
      },
      {
       "output_type": "stream",
       "stream": "stdout",
       "text": [
        " \r",
        "[*********        24%                  ]  1016635 of 4162828 complete Elapsed: 2.9 minutes\t Remaining: 9.0 minutes"
       ]
      },
      {
       "output_type": "stream",
       "stream": "stdout",
       "text": [
        " \r",
        "[**********       25%                  ]  1027300 of 4162828 complete Elapsed: 2.9 minutes\t Remaining: 8.9 minutes"
       ]
      },
      {
       "output_type": "stream",
       "stream": "stdout",
       "text": [
        " \r",
        "[**********       25%                  ]  1037980 of 4162828 complete Elapsed: 2.9 minutes\t Remaining: 8.9 minutes"
       ]
      },
      {
       "output_type": "stream",
       "stream": "stdout",
       "text": [
        " \r",
        "[**********       25%                  ]  1048665 of 4162828 complete Elapsed: 3.0 minutes\t Remaining: 8.8 minutes"
       ]
      },
      {
       "output_type": "stream",
       "stream": "stdout",
       "text": [
        " \r",
        "[**********       25%                  ]  1059324 of 4162828 complete Elapsed: 3.0 minutes\t Remaining: 8.8 minutes"
       ]
      },
      {
       "output_type": "stream",
       "stream": "stdout",
       "text": [
        " \r",
        "[**********       26%                  ]  1070024 of 4162828 complete Elapsed: 3.0 minutes\t Remaining: 8.7 minutes"
       ]
      },
      {
       "output_type": "stream",
       "stream": "stdout",
       "text": [
        " \r",
        "[**********       26%                  ]  1080701 of 4162828 complete Elapsed: 3.0 minutes\t Remaining: 8.7 minutes"
       ]
      },
      {
       "output_type": "stream",
       "stream": "stdout",
       "text": [
        " \r",
        "[**********       26%                  ]  1091384 of 4162828 complete Elapsed: 3.1 minutes\t Remaining: 8.6 minutes"
       ]
      },
      {
       "output_type": "stream",
       "stream": "stdout",
       "text": [
        " \r",
        "[**********       26%                  ]  1102082 of 4162828 complete Elapsed: 3.1 minutes\t Remaining: 8.6 minutes"
       ]
      },
      {
       "output_type": "stream",
       "stream": "stdout",
       "text": [
        " \r",
        "[**********       27%                  ]  1107953 of 4162828 complete Elapsed: 3.4 minutes\t Remaining: 9.3 minutes"
       ]
      },
      {
       "output_type": "stream",
       "stream": "stdout",
       "text": [
        " \r",
        "[**********       27%                  ]  1118690 of 4162828 complete Elapsed: 3.4 minutes\t Remaining: 9.2 minutes"
       ]
      },
      {
       "output_type": "stream",
       "stream": "stdout",
       "text": [
        " \r",
        "[**********       27%                  ]  1129372 of 4162828 complete Elapsed: 3.4 minutes\t Remaining: 9.2 minutes"
       ]
      },
      {
       "output_type": "stream",
       "stream": "stdout",
       "text": [
        " \r",
        "[**********       27%                  ]  1140037 of 4162828 complete Elapsed: 3.4 minutes\t Remaining: 9.1 minutes"
       ]
      },
      {
       "output_type": "stream",
       "stream": "stdout",
       "text": [
        " \r",
        "[***********      28%                  ]  1150715 of 4162828 complete Elapsed: 3.5 minutes\t Remaining: 9.1 minutes"
       ]
      },
      {
       "output_type": "stream",
       "stream": "stdout",
       "text": [
        " \r",
        "[***********      28%                  ]  1161395 of 4162828 complete Elapsed: 3.5 minutes\t Remaining: 9.0 minutes"
       ]
      },
      {
       "output_type": "stream",
       "stream": "stdout",
       "text": [
        " \r",
        "[***********      28%                  ]  1172065 of 4162828 complete Elapsed: 3.5 minutes\t Remaining: 9.0 minutes"
       ]
      },
      {
       "output_type": "stream",
       "stream": "stdout",
       "text": [
        " \r",
        "[***********      28%                  ]  1182735 of 4162828 complete Elapsed: 3.5 minutes\t Remaining: 8.9 minutes"
       ]
      },
      {
       "output_type": "stream",
       "stream": "stdout",
       "text": [
        " \r",
        "[***********      29%                  ]  1188747 of 4162828 complete Elapsed: 3.6 minutes\t Remaining: 8.9 minutes"
       ]
      },
      {
       "output_type": "stream",
       "stream": "stdout",
       "text": [
        " \r",
        "[***********      29%                  ]  1199479 of 4162828 complete Elapsed: 3.6 minutes\t Remaining: 8.9 minutes"
       ]
      },
      {
       "output_type": "stream",
       "stream": "stdout",
       "text": [
        " \r",
        "[***********      29%                  ]  1210236 of 4162828 complete Elapsed: 3.6 minutes\t Remaining: 8.8 minutes"
       ]
      },
      {
       "output_type": "stream",
       "stream": "stdout",
       "text": [
        " \r",
        "[***********      29%                  ]  1220956 of 4162828 complete Elapsed: 3.6 minutes\t Remaining: 8.8 minutes"
       ]
      },
      {
       "output_type": "stream",
       "stream": "stdout",
       "text": [
        " \r",
        "[***********      30%                  ]  1231680 of 4162828 complete Elapsed: 3.7 minutes\t Remaining: 8.7 minutes"
       ]
      },
      {
       "output_type": "stream",
       "stream": "stdout",
       "text": [
        " \r",
        "[***********      30%                  ]  1242409 of 4162828 complete Elapsed: 3.7 minutes\t Remaining: 8.7 minutes"
       ]
      },
      {
       "output_type": "stream",
       "stream": "stdout",
       "text": [
        " \r",
        "[***********      30%                  ]  1253118 of 4162828 complete Elapsed: 3.7 minutes\t Remaining: 8.6 minutes"
       ]
      },
      {
       "output_type": "stream",
       "stream": "stdout",
       "text": [
        " \r",
        "[***********      30%                  ]  1263855 of 4162828 complete Elapsed: 3.7 minutes\t Remaining: 8.6 minutes"
       ]
      },
      {
       "output_type": "stream",
       "stream": "stdout",
       "text": [
        " \r",
        "[************     31%                  ]  1274567 of 4162828 complete Elapsed: 3.8 minutes\t Remaining: 8.5 minutes"
       ]
      },
      {
       "output_type": "stream",
       "stream": "stdout",
       "text": [
        " \r",
        "[************     31%                  ]  1285288 of 4162828 complete Elapsed: 3.8 minutes\t Remaining: 8.5 minutes"
       ]
      },
      {
       "output_type": "stream",
       "stream": "stdout",
       "text": [
        " \r",
        "[************     31%                  ]  1296004 of 4162828 complete Elapsed: 3.8 minutes\t Remaining: 8.4 minutes"
       ]
      },
      {
       "output_type": "stream",
       "stream": "stdout",
       "text": [
        " \r",
        "[************     31%                  ]  1306722 of 4162828 complete Elapsed: 3.8 minutes\t Remaining: 8.4 minutes"
       ]
      },
      {
       "output_type": "stream",
       "stream": "stdout",
       "text": [
        " \r",
        "[************     32%                  ]  1317452 of 4162828 complete Elapsed: 3.9 minutes\t Remaining: 8.4 minutes"
       ]
      },
      {
       "output_type": "stream",
       "stream": "stdout",
       "text": [
        " \r",
        "[************     32%                  ]  1328166 of 4162828 complete Elapsed: 3.9 minutes\t Remaining: 8.3 minutes"
       ]
      },
      {
       "output_type": "stream",
       "stream": "stdout",
       "text": [
        " \r",
        "[************     32%                  ]  1338893 of 4162828 complete Elapsed: 3.9 minutes\t Remaining: 8.3 minutes"
       ]
      },
      {
       "output_type": "stream",
       "stream": "stdout",
       "text": [
        " \r",
        "[************     32%                  ]  1349612 of 4162828 complete Elapsed: 3.9 minutes\t Remaining: 8.2 minutes"
       ]
      },
      {
       "output_type": "stream",
       "stream": "stdout",
       "text": [
        " \r",
        "[*************    33%                  ]  1360329 of 4162828 complete Elapsed: 4.0 minutes\t Remaining: 8.2 minutes"
       ]
      },
      {
       "output_type": "stream",
       "stream": "stdout",
       "text": [
        " \r",
        "[*************    33%                  ]  1371049 of 4162828 complete Elapsed: 4.0 minutes\t Remaining: 8.1 minutes"
       ]
      },
      {
       "output_type": "stream",
       "stream": "stdout",
       "text": [
        " \r",
        "[*************    33%                  ]  1381763 of 4162828 complete Elapsed: 4.0 minutes\t Remaining: 8.1 minutes"
       ]
      },
      {
       "output_type": "stream",
       "stream": "stdout",
       "text": [
        " \r",
        "[*************    33%                  ]  1392538 of 4162828 complete Elapsed: 4.0 minutes\t Remaining: 8.0 minutes"
       ]
      },
      {
       "output_type": "stream",
       "stream": "stdout",
       "text": [
        " \r",
        "[*************    34%                  ]  1403264 of 4162828 complete Elapsed: 4.1 minutes\t Remaining: 8.0 minutes"
       ]
      },
      {
       "output_type": "stream",
       "stream": "stdout",
       "text": [
        " \r",
        "[*************    34%                  ]  1413979 of 4162828 complete Elapsed: 4.1 minutes\t Remaining: 8.0 minutes"
       ]
      },
      {
       "output_type": "stream",
       "stream": "stdout",
       "text": [
        " \r",
        "[*************    34%                  ]  1424713 of 4162828 complete Elapsed: 4.1 minutes\t Remaining: 7.9 minutes"
       ]
      },
      {
       "output_type": "stream",
       "stream": "stdout",
       "text": [
        " \r",
        "[*************    34%                  ]  1435423 of 4162828 complete Elapsed: 4.1 minutes\t Remaining: 7.9 minutes"
       ]
      },
      {
       "output_type": "stream",
       "stream": "stdout",
       "text": [
        " \r",
        "[*************    35%                  ]  1444646 of 4162828 complete Elapsed: 4.2 minutes\t Remaining: 7.9 minutes"
       ]
      },
      {
       "output_type": "stream",
       "stream": "stdout",
       "text": [
        " \r",
        "[*************    35%                  ]  1455330 of 4162828 complete Elapsed: 4.2 minutes\t Remaining: 7.8 minutes"
       ]
      },
      {
       "output_type": "stream",
       "stream": "stdout",
       "text": [
        " \r",
        "[*************    35%                  ]  1466090 of 4162828 complete Elapsed: 4.2 minutes\t Remaining: 7.8 minutes"
       ]
      },
      {
       "output_type": "stream",
       "stream": "stdout",
       "text": [
        " \r",
        "[*************    35%                  ]  1476851 of 4162828 complete Elapsed: 4.3 minutes\t Remaining: 7.7 minutes"
       ]
      },
      {
       "output_type": "stream",
       "stream": "stdout",
       "text": [
        " \r",
        "[**************   36%                  ]  1487606 of 4162828 complete Elapsed: 4.3 minutes\t Remaining: 7.7 minutes"
       ]
      },
      {
       "output_type": "stream",
       "stream": "stdout",
       "text": [
        " \r",
        "[**************   36%                  ]  1498344 of 4162828 complete Elapsed: 4.3 minutes\t Remaining: 7.6 minutes"
       ]
      },
      {
       "output_type": "stream",
       "stream": "stdout",
       "text": [
        " \r",
        "[**************   36%                  ]  1509070 of 4162828 complete Elapsed: 4.3 minutes\t Remaining: 7.6 minutes"
       ]
      },
      {
       "output_type": "stream",
       "stream": "stdout",
       "text": [
        " \r",
        "[**************   37%                  ]  1519818 of 4162828 complete Elapsed: 4.4 minutes\t Remaining: 7.6 minutes"
       ]
      },
      {
       "output_type": "stream",
       "stream": "stdout",
       "text": [
        " \r",
        "[**************   37%                  ]  1530554 of 4162828 complete Elapsed: 4.4 minutes\t Remaining: 7.5 minutes"
       ]
      },
      {
       "output_type": "stream",
       "stream": "stdout",
       "text": [
        " \r",
        "[**************   37%                  ]  1541297 of 4162828 complete Elapsed: 4.4 minutes\t Remaining: 7.5 minutes"
       ]
      },
      {
       "output_type": "stream",
       "stream": "stdout",
       "text": [
        " \r",
        "[**************   37%                  ]  1551999 of 4162828 complete Elapsed: 4.4 minutes\t Remaining: 7.4 minutes"
       ]
      },
      {
       "output_type": "stream",
       "stream": "stdout",
       "text": [
        " \r",
        "[**************   38%                  ]  1562824 of 4162828 complete Elapsed: 4.5 minutes\t Remaining: 7.4 minutes"
       ]
      },
      {
       "output_type": "stream",
       "stream": "stdout",
       "text": [
        " \r",
        "[**************   38%                  ]  1573552 of 4162828 complete Elapsed: 4.5 minutes\t Remaining: 7.4 minutes"
       ]
      },
      {
       "output_type": "stream",
       "stream": "stdout",
       "text": [
        " \r",
        "[**************   38%                  ]  1584301 of 4162828 complete Elapsed: 4.5 minutes\t Remaining: 7.3 minutes"
       ]
      },
      {
       "output_type": "stream",
       "stream": "stdout",
       "text": [
        " \r",
        "[**************   38%                  ]  1595051 of 4162828 complete Elapsed: 4.5 minutes\t Remaining: 7.3 minutes"
       ]
      },
      {
       "output_type": "stream",
       "stream": "stdout",
       "text": [
        " \r",
        "[***************  39%                  ]  1605791 of 4162828 complete Elapsed: 4.6 minutes\t Remaining: 7.2 minutes"
       ]
      },
      {
       "output_type": "stream",
       "stream": "stdout",
       "text": [
        " \r",
        "[***************  39%                  ]  1616538 of 4162828 complete Elapsed: 4.6 minutes\t Remaining: 7.2 minutes"
       ]
      },
      {
       "output_type": "stream",
       "stream": "stdout",
       "text": [
        " \r",
        "[***************  39%                  ]  1627296 of 4162828 complete Elapsed: 4.6 minutes\t Remaining: 7.2 minutes"
       ]
      },
      {
       "output_type": "stream",
       "stream": "stdout",
       "text": [
        " \r",
        "[***************  39%                  ]  1638108 of 4162828 complete Elapsed: 4.6 minutes\t Remaining: 7.1 minutes"
       ]
      },
      {
       "output_type": "stream",
       "stream": "stdout",
       "text": [
        " \r",
        "[***************  40%                  ]  1648875 of 4162828 complete Elapsed: 4.7 minutes\t Remaining: 7.1 minutes"
       ]
      },
      {
       "output_type": "stream",
       "stream": "stdout",
       "text": [
        " \r",
        "[***************  40%                  ]  1659627 of 4162828 complete Elapsed: 4.7 minutes\t Remaining: 7.1 minutes"
       ]
      },
      {
       "output_type": "stream",
       "stream": "stdout",
       "text": [
        " \r",
        "[***************  40%                  ]  1670350 of 4162828 complete Elapsed: 4.7 minutes\t Remaining: 7.0 minutes"
       ]
      },
      {
       "output_type": "stream",
       "stream": "stdout",
       "text": [
        " \r",
        "[***************  40%                  ]  1681095 of 4162828 complete Elapsed: 4.7 minutes\t Remaining: 7.0 minutes"
       ]
      },
      {
       "output_type": "stream",
       "stream": "stdout",
       "text": [
        " \r",
        "[**************** 41%                  ]  1691886 of 4162828 complete Elapsed: 4.8 minutes\t Remaining: 6.9 minutes"
       ]
      },
      {
       "output_type": "stream",
       "stream": "stdout",
       "text": [
        " \r",
        "[**************** 41%                  ]  1702598 of 4162828 complete Elapsed: 4.8 minutes\t Remaining: 6.9 minutes"
       ]
      },
      {
       "output_type": "stream",
       "stream": "stdout",
       "text": [
        " \r",
        "[**************** 41%                  ]  1713346 of 4162828 complete Elapsed: 4.8 minutes\t Remaining: 6.9 minutes"
       ]
      },
      {
       "output_type": "stream",
       "stream": "stdout",
       "text": [
        " \r",
        "[**************** 41%                  ]  1724064 of 4162828 complete Elapsed: 4.8 minutes\t Remaining: 6.8 minutes"
       ]
      },
      {
       "output_type": "stream",
       "stream": "stdout",
       "text": [
        " \r",
        "[**************** 42%                  ]  1730213 of 4162828 complete Elapsed: 4.9 minutes\t Remaining: 6.8 minutes"
       ]
      },
      {
       "output_type": "stream",
       "stream": "stdout",
       "text": [
        " \r",
        "[**************** 42%                  ]  1740986 of 4162828 complete Elapsed: 4.9 minutes\t Remaining: 6.8 minutes"
       ]
      },
      {
       "output_type": "stream",
       "stream": "stdout",
       "text": [
        " \r",
        "[**************** 42%                  ]  1751743 of 4162828 complete Elapsed: 4.9 minutes\t Remaining: 6.7 minutes"
       ]
      },
      {
       "output_type": "stream",
       "stream": "stdout",
       "text": [
        " \r",
        "[**************** 42%                  ]  1762483 of 4162828 complete Elapsed: 4.9 minutes\t Remaining: 6.7 minutes"
       ]
      },
      {
       "output_type": "stream",
       "stream": "stdout",
       "text": [
        " \r",
        "[**************** 43%                  ]  1773252 of 4162828 complete Elapsed: 5.0 minutes\t Remaining: 6.7 minutes"
       ]
      },
      {
       "output_type": "stream",
       "stream": "stdout",
       "text": [
        " \r",
        "[**************** 43%                  ]  1783986 of 4162828 complete Elapsed: 5.0 minutes\t Remaining: 6.6 minutes"
       ]
      },
      {
       "output_type": "stream",
       "stream": "stdout",
       "text": [
        " \r",
        "[**************** 43%                  ]  1794723 of 4162828 complete Elapsed: 5.0 minutes\t Remaining: 6.6 minutes"
       ]
      },
      {
       "output_type": "stream",
       "stream": "stdout",
       "text": [
        " \r",
        "[**************** 43%                  ]  1805447 of 4162828 complete Elapsed: 5.0 minutes\t Remaining: 6.6 minutes"
       ]
      },
      {
       "output_type": "stream",
       "stream": "stdout",
       "text": [
        " \r",
        "[*****************44%                  ]  1816180 of 4162828 complete Elapsed: 5.1 minutes\t Remaining: 6.5 minutes"
       ]
      },
      {
       "output_type": "stream",
       "stream": "stdout",
       "text": [
        " \r",
        "[*****************44%                  ]  1826902 of 4162828 complete Elapsed: 5.1 minutes\t Remaining: 6.5 minutes"
       ]
      },
      {
       "output_type": "stream",
       "stream": "stdout",
       "text": [
        " \r",
        "[*****************44%                  ]  1837620 of 4162828 complete Elapsed: 5.1 minutes\t Remaining: 6.5 minutes"
       ]
      },
      {
       "output_type": "stream",
       "stream": "stdout",
       "text": [
        " \r",
        "[*****************44%                  ]  1848337 of 4162828 complete Elapsed: 5.1 minutes\t Remaining: 6.4 minutes"
       ]
      },
      {
       "output_type": "stream",
       "stream": "stdout",
       "text": [
        " \r",
        "[*****************45%                  ]  1859090 of 4162828 complete Elapsed: 5.2 minutes\t Remaining: 6.4 minutes"
       ]
      },
      {
       "output_type": "stream",
       "stream": "stdout",
       "text": [
        " \r",
        "[*****************45%                  ]  1869807 of 4162828 complete Elapsed: 5.2 minutes\t Remaining: 6.3 minutes"
       ]
      },
      {
       "output_type": "stream",
       "stream": "stdout",
       "text": [
        " \r",
        "[*****************45%                  ]  1880531 of 4162828 complete Elapsed: 5.2 minutes\t Remaining: 6.3 minutes"
       ]
      },
      {
       "output_type": "stream",
       "stream": "stdout",
       "text": [
        " \r",
        "[*****************45%                  ]  1891254 of 4162828 complete Elapsed: 5.2 minutes\t Remaining: 6.3 minutes"
       ]
      },
      {
       "output_type": "stream",
       "stream": "stdout",
       "text": [
        " \r",
        "[*****************46%                  ]  1901985 of 4162828 complete Elapsed: 5.3 minutes\t Remaining: 6.2 minutes"
       ]
      },
      {
       "output_type": "stream",
       "stream": "stdout",
       "text": [
        " \r",
        "[*****************46%                  ]  1912715 of 4162828 complete Elapsed: 5.3 minutes\t Remaining: 6.2 minutes"
       ]
      },
      {
       "output_type": "stream",
       "stream": "stdout",
       "text": [
        " \r",
        "[*****************46%                  ]  1923449 of 4162828 complete Elapsed: 5.3 minutes\t Remaining: 6.2 minutes"
       ]
      },
      {
       "output_type": "stream",
       "stream": "stdout",
       "text": [
        " \r",
        "[*****************46%                  ]  1934183 of 4162828 complete Elapsed: 5.3 minutes\t Remaining: 6.1 minutes"
       ]
      },
      {
       "output_type": "stream",
       "stream": "stdout",
       "text": [
        " \r",
        "[*****************47%                  ]  1944930 of 4162828 complete Elapsed: 5.4 minutes\t Remaining: 6.1 minutes"
       ]
      },
      {
       "output_type": "stream",
       "stream": "stdout",
       "text": [
        " \r",
        "[*****************47%                  ]  1951205 of 4162828 complete Elapsed: 5.4 minutes\t Remaining: 6.1 minutes"
       ]
      },
      {
       "output_type": "stream",
       "stream": "stdout",
       "text": [
        " \r",
        "[*****************47%                  ]  1961780 of 4162828 complete Elapsed: 5.4 minutes\t Remaining: 6.1 minutes"
       ]
      },
      {
       "output_type": "stream",
       "stream": "stdout",
       "text": [
        " \r",
        "[*****************47%                  ]  1972477 of 4162828 complete Elapsed: 5.4 minutes\t Remaining: 6.0 minutes"
       ]
      },
      {
       "output_type": "stream",
       "stream": "stdout",
       "text": [
        " \r",
        "[*****************48%                  ]  1983216 of 4162828 complete Elapsed: 5.5 minutes\t Remaining: 6.0 minutes"
       ]
      },
      {
       "output_type": "stream",
       "stream": "stdout",
       "text": [
        " \r",
        "[*****************48%                  ]  1993925 of 4162828 complete Elapsed: 5.5 minutes\t Remaining: 6.0 minutes"
       ]
      },
      {
       "output_type": "stream",
       "stream": "stdout",
       "text": [
        " \r",
        "[*****************48%                  ]  1994099 of 4162828 complete Elapsed: 5.8 minutes\t Remaining: 6.3 minutes"
       ]
      },
      {
       "output_type": "stream",
       "stream": "stdout",
       "text": [
        " \r",
        "[*****************48%                  ]  2004824 of 4162828 complete Elapsed: 5.8 minutes\t Remaining: 6.2 minutes"
       ]
      },
      {
       "output_type": "stream",
       "stream": "stdout",
       "text": [
        " \r",
        "[*****************48%                  ]  2015522 of 4162828 complete Elapsed: 5.8 minutes\t Remaining: 6.2 minutes"
       ]
      },
      {
       "output_type": "stream",
       "stream": "stdout",
       "text": [
        " \r",
        "[*****************49%                  ]  2026233 of 4162828 complete Elapsed: 5.9 minutes\t Remaining: 6.2 minutes"
       ]
      },
      {
       "output_type": "stream",
       "stream": "stdout",
       "text": [
        " \r",
        "[*****************49%                  ]  2036935 of 4162828 complete Elapsed: 5.9 minutes\t Remaining: 6.1 minutes"
       ]
      },
      {
       "output_type": "stream",
       "stream": "stdout",
       "text": [
        " \r",
        "[*****************49%                  ]  2047657 of 4162828 complete Elapsed: 5.9 minutes\t Remaining: 6.1 minutes"
       ]
      },
      {
       "output_type": "stream",
       "stream": "stdout",
       "text": [
        " \r",
        "[*****************49%                  ]  2058369 of 4162828 complete Elapsed: 5.9 minutes\t Remaining: 6.1 minutes"
       ]
      },
      {
       "output_type": "stream",
       "stream": "stdout",
       "text": [
        " \r",
        "[*****************50%                  ]  2069073 of 4162828 complete Elapsed: 6.0 minutes\t Remaining: 6.0 minutes"
       ]
      },
      {
       "output_type": "stream",
       "stream": "stdout",
       "text": [
        " \r",
        "[*****************50%                  ]  2079775 of 4162828 complete Elapsed: 6.0 minutes\t Remaining: 6.0 minutes"
       ]
      },
      {
       "output_type": "stream",
       "stream": "stdout",
       "text": [
        " \r",
        "[*****************50%                  ]  2090482 of 4162828 complete Elapsed: 6.0 minutes\t Remaining: 6.0 minutes"
       ]
      },
      {
       "output_type": "stream",
       "stream": "stdout",
       "text": [
        " \r",
        "[*****************50%                  ]  2101181 of 4162828 complete Elapsed: 6.0 minutes\t Remaining: 5.9 minutes"
       ]
      },
      {
       "output_type": "stream",
       "stream": "stdout",
       "text": [
        " \r",
        "[*****************51%                  ]  2111895 of 4162828 complete Elapsed: 6.1 minutes\t Remaining: 5.9 minutes"
       ]
      },
      {
       "output_type": "stream",
       "stream": "stdout",
       "text": [
        " \r",
        "[*****************51%                  ]  2122620 of 4162828 complete Elapsed: 6.1 minutes\t Remaining: 5.8 minutes"
       ]
      },
      {
       "output_type": "stream",
       "stream": "stdout",
       "text": [
        " \r",
        "[*****************51%                  ]  2133321 of 4162828 complete Elapsed: 6.1 minutes\t Remaining: 5.8 minutes"
       ]
      },
      {
       "output_type": "stream",
       "stream": "stdout",
       "text": [
        " \r",
        "[*****************52%                  ]  2144094 of 4162828 complete Elapsed: 6.1 minutes\t Remaining: 5.8 minutes"
       ]
      },
      {
       "output_type": "stream",
       "stream": "stdout",
       "text": [
        " \r",
        "[*****************52%                  ]  2154808 of 4162828 complete Elapsed: 6.2 minutes\t Remaining: 5.7 minutes"
       ]
      },
      {
       "output_type": "stream",
       "stream": "stdout",
       "text": [
        " \r",
        "[*****************52%                  ]  2165507 of 4162828 complete Elapsed: 6.2 minutes\t Remaining: 5.7 minutes"
       ]
      },
      {
       "output_type": "stream",
       "stream": "stdout",
       "text": [
        " \r",
        "[*****************52%                  ]  2173870 of 4162828 complete Elapsed: 6.2 minutes\t Remaining: 5.7 minutes"
       ]
      },
      {
       "output_type": "stream",
       "stream": "stdout",
       "text": [
        " \r",
        "[*****************52%                  ]  2184525 of 4162828 complete Elapsed: 6.2 minutes\t Remaining: 5.6 minutes"
       ]
      },
      {
       "output_type": "stream",
       "stream": "stdout",
       "text": [
        " \r",
        "[*****************53%                  ]  2195256 of 4162828 complete Elapsed: 6.3 minutes\t Remaining: 5.6 minutes"
       ]
      },
      {
       "output_type": "stream",
       "stream": "stdout",
       "text": [
        " \r",
        "[*****************53%                  ]  2205880 of 4162828 complete Elapsed: 6.3 minutes\t Remaining: 5.6 minutes"
       ]
      },
      {
       "output_type": "stream",
       "stream": "stdout",
       "text": [
        " \r",
        "[*****************53%                  ]  2216645 of 4162828 complete Elapsed: 6.3 minutes\t Remaining: 5.5 minutes"
       ]
      },
      {
       "output_type": "stream",
       "stream": "stdout",
       "text": [
        " \r",
        "[*****************54%*                 ]  2227393 of 4162828 complete Elapsed: 6.3 minutes\t Remaining: 5.5 minutes"
       ]
      },
      {
       "output_type": "stream",
       "stream": "stdout",
       "text": [
        " \r",
        "[*****************54%*                 ]  2238147 of 4162828 complete Elapsed: 6.4 minutes\t Remaining: 5.5 minutes"
       ]
      },
      {
       "output_type": "stream",
       "stream": "stdout",
       "text": [
        " \r",
        "[*****************54%*                 ]  2248872 of 4162828 complete Elapsed: 6.4 minutes\t Remaining: 5.4 minutes"
       ]
      },
      {
       "output_type": "stream",
       "stream": "stdout",
       "text": [
        " \r",
        "[*****************54%*                 ]  2259611 of 4162828 complete Elapsed: 6.4 minutes\t Remaining: 5.4 minutes"
       ]
      },
      {
       "output_type": "stream",
       "stream": "stdout",
       "text": [
        " \r",
        "[*****************55%*                 ]  2270350 of 4162828 complete Elapsed: 6.4 minutes\t Remaining: 5.4 minutes"
       ]
      },
      {
       "output_type": "stream",
       "stream": "stdout",
       "text": [
        " \r",
        "[*****************55%*                 ]  2281104 of 4162828 complete Elapsed: 6.5 minutes\t Remaining: 5.3 minutes"
       ]
      },
      {
       "output_type": "stream",
       "stream": "stdout",
       "text": [
        " \r",
        "[*****************55%*                 ]  2291851 of 4162828 complete Elapsed: 6.5 minutes\t Remaining: 5.3 minutes"
       ]
      },
      {
       "output_type": "stream",
       "stream": "stdout",
       "text": [
        " \r",
        "[*****************55%*                 ]  2302600 of 4162828 complete Elapsed: 6.5 minutes\t Remaining: 5.3 minutes"
       ]
      },
      {
       "output_type": "stream",
       "stream": "stdout",
       "text": [
        " \r",
        "[*****************56%*                 ]  2313343 of 4162828 complete Elapsed: 6.5 minutes\t Remaining: 5.2 minutes"
       ]
      },
      {
       "output_type": "stream",
       "stream": "stdout",
       "text": [
        " \r",
        "[*****************56%*                 ]  2324086 of 4162828 complete Elapsed: 6.6 minutes\t Remaining: 5.2 minutes"
       ]
      },
      {
       "output_type": "stream",
       "stream": "stdout",
       "text": [
        " \r",
        "[*****************56%*                 ]  2334823 of 4162828 complete Elapsed: 6.6 minutes\t Remaining: 5.2 minutes"
       ]
      },
      {
       "output_type": "stream",
       "stream": "stdout",
       "text": [
        " \r",
        "[*****************56%*                 ]  2345574 of 4162828 complete Elapsed: 6.6 minutes\t Remaining: 5.1 minutes"
       ]
      },
      {
       "output_type": "stream",
       "stream": "stdout",
       "text": [
        " \r",
        "[*****************57%**                ]  2356309 of 4162828 complete Elapsed: 6.6 minutes\t Remaining: 5.1 minutes"
       ]
      },
      {
       "output_type": "stream",
       "stream": "stdout",
       "text": [
        " \r",
        "[*****************57%**                ]  2364676 of 4162828 complete Elapsed: 6.7 minutes\t Remaining: 5.1 minutes"
       ]
      },
      {
       "output_type": "stream",
       "stream": "stdout",
       "text": [
        " \r",
        "[*****************57%**                ]  2375364 of 4162828 complete Elapsed: 6.7 minutes\t Remaining: 5.0 minutes"
       ]
      },
      {
       "output_type": "stream",
       "stream": "stdout",
       "text": [
        " \r",
        "[*****************57%**                ]  2386111 of 4162828 complete Elapsed: 6.7 minutes\t Remaining: 5.0 minutes"
       ]
      },
      {
       "output_type": "stream",
       "stream": "stderr",
       "text": [
        "WARN: pos 17837004 is less than or equal to last_pos 17837004\n"
       ]
      },
      {
       "output_type": "stream",
       "stream": "stdout",
       "text": [
        " \r",
        "[*****************58%**                ]  2396849 of 4162828 complete Elapsed: 6.7 minutes\t Remaining: 5.0 minutes"
       ]
      },
      {
       "output_type": "stream",
       "stream": "stdout",
       "text": [
        " \r",
        "[*****************58%**                ]  2407576 of 4162828 complete Elapsed: 6.8 minutes\t Remaining: 4.9 minutes"
       ]
      },
      {
       "output_type": "stream",
       "stream": "stdout",
       "text": [
        " \r",
        "[*****************58%**                ]  2418294 of 4162828 complete Elapsed: 6.8 minutes\t Remaining: 4.9 minutes"
       ]
      },
      {
       "output_type": "stream",
       "stream": "stdout",
       "text": [
        " \r",
        "[*****************58%**                ]  2429032 of 4162828 complete Elapsed: 6.8 minutes\t Remaining: 4.9 minutes"
       ]
      },
      {
       "output_type": "stream",
       "stream": "stdout",
       "text": [
        " \r",
        "[*****************59%**                ]  2439749 of 4162828 complete Elapsed: 6.8 minutes\t Remaining: 4.8 minutes"
       ]
      },
      {
       "output_type": "stream",
       "stream": "stdout",
       "text": [
        " \r",
        "[*****************59%**                ]  2450495 of 4162828 complete Elapsed: 6.9 minutes\t Remaining: 4.8 minutes"
       ]
      },
      {
       "output_type": "stream",
       "stream": "stdout",
       "text": [
        " \r",
        "[*****************59%**                ]  2461203 of 4162828 complete Elapsed: 6.9 minutes\t Remaining: 4.8 minutes"
       ]
      },
      {
       "output_type": "stream",
       "stream": "stdout",
       "text": [
        " \r",
        "[*****************59%**                ]  2471947 of 4162828 complete Elapsed: 6.9 minutes\t Remaining: 4.7 minutes"
       ]
      },
      {
       "output_type": "stream",
       "stream": "stdout",
       "text": [
        " \r",
        "[*****************60%***               ]  2482564 of 4162828 complete Elapsed: 6.9 minutes\t Remaining: 4.7 minutes"
       ]
      },
      {
       "output_type": "stream",
       "stream": "stdout",
       "text": [
        " \r",
        "[*****************60%***               ]  2493406 of 4162828 complete Elapsed: 7.0 minutes\t Remaining: 4.7 minutes"
       ]
      },
      {
       "output_type": "stream",
       "stream": "stdout",
       "text": [
        " \r",
        "[*****************60%***               ]  2504177 of 4162828 complete Elapsed: 7.0 minutes\t Remaining: 4.6 minutes"
       ]
      },
      {
       "output_type": "stream",
       "stream": "stdout",
       "text": [
        " \r",
        "[*****************60%***               ]  2514933 of 4162828 complete Elapsed: 7.0 minutes\t Remaining: 4.6 minutes"
       ]
      },
      {
       "output_type": "stream",
       "stream": "stdout",
       "text": [
        " \r",
        "[*****************61%***               ]  2525663 of 4162828 complete Elapsed: 7.0 minutes\t Remaining: 4.6 minutes"
       ]
      },
      {
       "output_type": "stream",
       "stream": "stdout",
       "text": [
        " \r",
        "[*****************61%***               ]  2536428 of 4162828 complete Elapsed: 7.1 minutes\t Remaining: 4.5 minutes"
       ]
      },
      {
       "output_type": "stream",
       "stream": "stdout",
       "text": [
        " \r",
        "[*****************61%***               ]  2547170 of 4162828 complete Elapsed: 7.1 minutes\t Remaining: 4.5 minutes"
       ]
      },
      {
       "output_type": "stream",
       "stream": "stdout",
       "text": [
        " \r",
        "[*****************61%***               ]  2557916 of 4162828 complete Elapsed: 7.1 minutes\t Remaining: 4.5 minutes"
       ]
      },
      {
       "output_type": "stream",
       "stream": "stdout",
       "text": [
        " \r",
        "[*****************62%****              ]  2568648 of 4162828 complete Elapsed: 7.1 minutes\t Remaining: 4.4 minutes"
       ]
      },
      {
       "output_type": "stream",
       "stream": "stdout",
       "text": [
        " \r",
        "[*****************62%****              ]  2579392 of 4162828 complete Elapsed: 7.2 minutes\t Remaining: 4.4 minutes"
       ]
      },
      {
       "output_type": "stream",
       "stream": "stdout",
       "text": [
        " \r",
        "[*****************62%****              ]  2585911 of 4162828 complete Elapsed: 7.2 minutes\t Remaining: 4.4 minutes"
       ]
      },
      {
       "output_type": "stream",
       "stream": "stdout",
       "text": [
        " \r",
        "[*****************62%****              ]  2596662 of 4162828 complete Elapsed: 7.2 minutes\t Remaining: 4.4 minutes"
       ]
      },
      {
       "output_type": "stream",
       "stream": "stdout",
       "text": [
        " \r",
        "[*****************63%****              ]  2607402 of 4162828 complete Elapsed: 7.2 minutes\t Remaining: 4.3 minutes"
       ]
      },
      {
       "output_type": "stream",
       "stream": "stdout",
       "text": [
        " \r",
        "[*****************63%****              ]  2618127 of 4162828 complete Elapsed: 7.3 minutes\t Remaining: 4.3 minutes"
       ]
      },
      {
       "output_type": "stream",
       "stream": "stdout",
       "text": [
        " \r",
        "[*****************63%****              ]  2628846 of 4162828 complete Elapsed: 7.3 minutes\t Remaining: 4.3 minutes"
       ]
      },
      {
       "output_type": "stream",
       "stream": "stdout",
       "text": [
        " \r",
        "[*****************63%****              ]  2639610 of 4162828 complete Elapsed: 7.3 minutes\t Remaining: 4.2 minutes"
       ]
      },
      {
       "output_type": "stream",
       "stream": "stdout",
       "text": [
        " \r",
        "[*****************64%****              ]  2650415 of 4162828 complete Elapsed: 7.3 minutes\t Remaining: 4.2 minutes"
       ]
      },
      {
       "output_type": "stream",
       "stream": "stderr",
       "text": [
        "WARN: pos 54977397 is less than or equal to last_pos 54977397\n"
       ]
      },
      {
       "output_type": "stream",
       "stream": "stderr",
       "text": [
        "WARN: pos 55013081 is less than or equal to last_pos 55013081\n"
       ]
      },
      {
       "output_type": "stream",
       "stream": "stdout",
       "text": [
        " \r",
        "[*****************64%****              ]  2661216 of 4162828 complete Elapsed: 7.4 minutes\t Remaining: 4.2 minutes"
       ]
      },
      {
       "output_type": "stream",
       "stream": "stdout",
       "text": [
        " \r",
        "[*****************64%****              ]  2672008 of 4162828 complete Elapsed: 7.4 minutes\t Remaining: 4.1 minutes"
       ]
      },
      {
       "output_type": "stream",
       "stream": "stdout",
       "text": [
        " \r",
        "[*****************64%****              ]  2682796 of 4162828 complete Elapsed: 7.4 minutes\t Remaining: 4.1 minutes"
       ]
      },
      {
       "output_type": "stream",
       "stream": "stdout",
       "text": [
        " \r",
        "[*****************65%*****             ]  2693585 of 4162828 complete Elapsed: 7.4 minutes\t Remaining: 4.1 minutes"
       ]
      },
      {
       "output_type": "stream",
       "stream": "stdout",
       "text": [
        " \r",
        "[*****************65%*****             ]  2704383 of 4162828 complete Elapsed: 7.5 minutes\t Remaining: 4.0 minutes"
       ]
      },
      {
       "output_type": "stream",
       "stream": "stdout",
       "text": [
        " \r",
        "[*****************65%*****             ]  2715165 of 4162828 complete Elapsed: 7.5 minutes\t Remaining: 4.0 minutes"
       ]
      },
      {
       "output_type": "stream",
       "stream": "stdout",
       "text": [
        " \r",
        "[*****************65%*****             ]  2725953 of 4162828 complete Elapsed: 7.5 minutes\t Remaining: 4.0 minutes"
       ]
      },
      {
       "output_type": "stream",
       "stream": "stdout",
       "text": [
        " \r",
        "[*****************66%*****             ]  2736734 of 4162828 complete Elapsed: 7.5 minutes\t Remaining: 3.9 minutes"
       ]
      },
      {
       "output_type": "stream",
       "stream": "stdout",
       "text": [
        " \r",
        "[*****************66%*****             ]  2747516 of 4162828 complete Elapsed: 7.6 minutes\t Remaining: 3.9 minutes"
       ]
      },
      {
       "output_type": "stream",
       "stream": "stdout",
       "text": [
        " \r",
        "[*****************66%*****             ]  2758319 of 4162828 complete Elapsed: 7.6 minutes\t Remaining: 3.9 minutes"
       ]
      },
      {
       "output_type": "stream",
       "stream": "stdout",
       "text": [
        " \r",
        "[*****************67%*****             ]  2769119 of 4162828 complete Elapsed: 7.6 minutes\t Remaining: 3.8 minutes"
       ]
      },
      {
       "output_type": "stream",
       "stream": "stdout",
       "text": [
        " \r",
        "[*****************67%*****             ]  2779920 of 4162828 complete Elapsed: 7.6 minutes\t Remaining: 3.8 minutes"
       ]
      },
      {
       "output_type": "stream",
       "stream": "stdout",
       "text": [
        " \r",
        "[*****************67%*****             ]  2790565 of 4162828 complete Elapsed: 7.7 minutes\t Remaining: 3.8 minutes"
       ]
      },
      {
       "output_type": "stream",
       "stream": "stdout",
       "text": [
        " \r",
        "[*****************67%*****             ]  2796787 of 4162828 complete Elapsed: 7.7 minutes\t Remaining: 3.8 minutes"
       ]
      },
      {
       "output_type": "stream",
       "stream": "stdout",
       "text": [
        " \r",
        "[*****************67%*****             ]  2807611 of 4162828 complete Elapsed: 7.7 minutes\t Remaining: 3.7 minutes"
       ]
      },
      {
       "output_type": "stream",
       "stream": "stdout",
       "text": [
        " \r",
        "[*****************68%******            ]  2818416 of 4162828 complete Elapsed: 7.7 minutes\t Remaining: 3.7 minutes"
       ]
      },
      {
       "output_type": "stream",
       "stream": "stdout",
       "text": [
        " \r",
        "[*****************68%******            ]  2829245 of 4162828 complete Elapsed: 7.8 minutes\t Remaining: 3.7 minutes"
       ]
      },
      {
       "output_type": "stream",
       "stream": "stdout",
       "text": [
        " \r",
        "[*****************68%******            ]  2840066 of 4162828 complete Elapsed: 7.8 minutes\t Remaining: 3.6 minutes"
       ]
      },
      {
       "output_type": "stream",
       "stream": "stdout",
       "text": [
        " \r",
        "[*****************68%******            ]  2850870 of 4162828 complete Elapsed: 7.8 minutes\t Remaining: 3.6 minutes"
       ]
      },
      {
       "output_type": "stream",
       "stream": "stdout",
       "text": [
        " \r",
        "[*****************69%******            ]  2861686 of 4162828 complete Elapsed: 7.8 minutes\t Remaining: 3.6 minutes"
       ]
      },
      {
       "output_type": "stream",
       "stream": "stdout",
       "text": [
        " \r",
        "[*****************69%******            ]  2872515 of 4162828 complete Elapsed: 7.9 minutes\t Remaining: 3.5 minutes"
       ]
      },
      {
       "output_type": "stream",
       "stream": "stdout",
       "text": [
        " \r",
        "[*****************69%******            ]  2883335 of 4162828 complete Elapsed: 7.9 minutes\t Remaining: 3.5 minutes"
       ]
      },
      {
       "output_type": "stream",
       "stream": "stdout",
       "text": [
        " \r",
        "[*****************70%*******           ]  2894166 of 4162828 complete Elapsed: 7.9 minutes\t Remaining: 3.5 minutes"
       ]
      },
      {
       "output_type": "stream",
       "stream": "stdout",
       "text": [
        " \r",
        "[*****************70%*******           ]  2904986 of 4162828 complete Elapsed: 7.9 minutes\t Remaining: 3.4 minutes"
       ]
      },
      {
       "output_type": "stream",
       "stream": "stdout",
       "text": [
        " \r",
        "[*****************70%*******           ]  2915804 of 4162828 complete Elapsed: 8.0 minutes\t Remaining: 3.4 minutes"
       ]
      },
      {
       "output_type": "stream",
       "stream": "stdout",
       "text": [
        " \r",
        "[*****************70%*******           ]  2926612 of 4162828 complete Elapsed: 8.0 minutes\t Remaining: 3.4 minutes"
       ]
      },
      {
       "output_type": "stream",
       "stream": "stdout",
       "text": [
        " \r",
        "[*****************71%*******           ]  2937440 of 4162828 complete Elapsed: 8.0 minutes\t Remaining: 3.3 minutes"
       ]
      },
      {
       "output_type": "stream",
       "stream": "stdout",
       "text": [
        " \r",
        "[*****************71%*******           ]  2948267 of 4162828 complete Elapsed: 8.0 minutes\t Remaining: 3.3 minutes"
       ]
      },
      {
       "output_type": "stream",
       "stream": "stdout",
       "text": [
        " \r",
        "[*****************71%*******           ]  2959097 of 4162828 complete Elapsed: 8.1 minutes\t Remaining: 3.3 minutes"
       ]
      },
      {
       "output_type": "stream",
       "stream": "stdout",
       "text": [
        " \r",
        "[*****************71%*******           ]  2969908 of 4162828 complete Elapsed: 8.1 minutes\t Remaining: 3.2 minutes"
       ]
      },
      {
       "output_type": "stream",
       "stream": "stdout",
       "text": [
        " \r",
        "[*****************72%*******           ]  2980732 of 4162828 complete Elapsed: 8.1 minutes\t Remaining: 3.2 minutes"
       ]
      },
      {
       "output_type": "stream",
       "stream": "stdout",
       "text": [
        " \r",
        "[*****************72%*******           ]  2991548 of 4162828 complete Elapsed: 8.1 minutes\t Remaining: 3.2 minutes"
       ]
      },
      {
       "output_type": "stream",
       "stream": "stdout",
       "text": [
        " \r",
        "[*****************72%*******           ]  3000562 of 4162828 complete Elapsed: 8.2 minutes\t Remaining: 3.2 minutes"
       ]
      },
      {
       "output_type": "stream",
       "stream": "stdout",
       "text": [
        " \r",
        "[*****************72%*******           ]  3011317 of 4162828 complete Elapsed: 8.2 minutes\t Remaining: 3.1 minutes"
       ]
      },
      {
       "output_type": "stream",
       "stream": "stdout",
       "text": [
        " \r",
        "[*****************73%********          ]  3022135 of 4162828 complete Elapsed: 8.2 minutes\t Remaining: 3.1 minutes"
       ]
      },
      {
       "output_type": "stream",
       "stream": "stdout",
       "text": [
        " \r",
        "[*****************73%********          ]  3032951 of 4162828 complete Elapsed: 8.2 minutes\t Remaining: 3.1 minutes"
       ]
      },
      {
       "output_type": "stream",
       "stream": "stdout",
       "text": [
        " \r",
        "[*****************73%********          ]  3043772 of 4162828 complete Elapsed: 8.3 minutes\t Remaining: 3.0 minutes"
       ]
      },
      {
       "output_type": "stream",
       "stream": "stdout",
       "text": [
        " \r",
        "[*****************73%********          ]  3054585 of 4162828 complete Elapsed: 8.3 minutes\t Remaining: 3.0 minutes"
       ]
      },
      {
       "output_type": "stream",
       "stream": "stdout",
       "text": [
        " \r",
        "[*****************74%********          ]  3065402 of 4162828 complete Elapsed: 8.3 minutes\t Remaining: 3.0 minutes"
       ]
      },
      {
       "output_type": "stream",
       "stream": "stdout",
       "text": [
        " \r",
        "[*****************74%********          ]  3076209 of 4162828 complete Elapsed: 8.3 minutes\t Remaining: 2.9 minutes"
       ]
      },
      {
       "output_type": "stream",
       "stream": "stdout",
       "text": [
        " \r",
        "[*****************74%********          ]  3087030 of 4162828 complete Elapsed: 8.4 minutes\t Remaining: 2.9 minutes"
       ]
      },
      {
       "output_type": "stream",
       "stream": "stdout",
       "text": [
        " \r",
        "[*****************74%********          ]  3097830 of 4162828 complete Elapsed: 8.4 minutes\t Remaining: 2.9 minutes"
       ]
      },
      {
       "output_type": "stream",
       "stream": "stdout",
       "text": [
        " \r",
        "[*****************74%********          ]  3101296 of 4162828 complete Elapsed: 8.7 minutes\t Remaining: 3.0 minutes"
       ]
      },
      {
       "output_type": "stream",
       "stream": "stdout",
       "text": [
        " \r",
        "[*****************75%*********         ]  3112104 of 4162828 complete Elapsed: 8.8 minutes\t Remaining: 3.0 minutes"
       ]
      },
      {
       "output_type": "stream",
       "stream": "stdout",
       "text": [
        " \r",
        "[*****************75%*********         ]  3122838 of 4162828 complete Elapsed: 8.8 minutes\t Remaining: 2.9 minutes"
       ]
      },
      {
       "output_type": "stream",
       "stream": "stdout",
       "text": [
        " \r",
        "[*****************75%*********         ]  3133572 of 4162828 complete Elapsed: 8.8 minutes\t Remaining: 2.9 minutes"
       ]
      },
      {
       "output_type": "stream",
       "stream": "stdout",
       "text": [
        " \r",
        "[*****************76%*********         ]  3144126 of 4162828 complete Elapsed: 8.8 minutes\t Remaining: 2.9 minutes"
       ]
      },
      {
       "output_type": "stream",
       "stream": "stdout",
       "text": [
        " \r",
        "[*****************76%*********         ]  3154859 of 4162828 complete Elapsed: 8.9 minutes\t Remaining: 2.8 minutes"
       ]
      },
      {
       "output_type": "stream",
       "stream": "stdout",
       "text": [
        " \r",
        "[*****************76%*********         ]  3163505 of 4162828 complete Elapsed: 8.9 minutes\t Remaining: 2.8 minutes"
       ]
      },
      {
       "output_type": "stream",
       "stream": "stdout",
       "text": [
        " \r",
        "[*****************76%*********         ]  3174235 of 4162828 complete Elapsed: 8.9 minutes\t Remaining: 2.8 minutes"
       ]
      },
      {
       "output_type": "stream",
       "stream": "stdout",
       "text": [
        " \r",
        "[*****************77%*********         ]  3185028 of 4162828 complete Elapsed: 8.9 minutes\t Remaining: 2.7 minutes"
       ]
      },
      {
       "output_type": "stream",
       "stream": "stdout",
       "text": [
        " \r",
        "[*****************77%*********         ]  3195823 of 4162828 complete Elapsed: 9.0 minutes\t Remaining: 2.7 minutes"
       ]
      },
      {
       "output_type": "stream",
       "stream": "stdout",
       "text": [
        " \r",
        "[*****************77%*********         ]  3206627 of 4162828 complete Elapsed: 9.0 minutes\t Remaining: 2.7 minutes"
       ]
      },
      {
       "output_type": "stream",
       "stream": "stdout",
       "text": [
        " \r",
        "[*****************77%*********         ]  3217437 of 4162828 complete Elapsed: 9.0 minutes\t Remaining: 2.7 minutes"
       ]
      },
      {
       "output_type": "stream",
       "stream": "stdout",
       "text": [
        " \r",
        "[*****************78%**********        ]  3228220 of 4162828 complete Elapsed: 9.0 minutes\t Remaining: 2.6 minutes"
       ]
      },
      {
       "output_type": "stream",
       "stream": "stdout",
       "text": [
        " \r",
        "[*****************78%**********        ]  3239026 of 4162828 complete Elapsed: 9.1 minutes\t Remaining: 2.6 minutes"
       ]
      },
      {
       "output_type": "stream",
       "stream": "stdout",
       "text": [
        " \r",
        "[*****************78%**********        ]  3249829 of 4162828 complete Elapsed: 9.1 minutes\t Remaining: 2.6 minutes"
       ]
      },
      {
       "output_type": "stream",
       "stream": "stdout",
       "text": [
        " \r",
        "[*****************78%**********        ]  3260641 of 4162828 complete Elapsed: 9.1 minutes\t Remaining: 2.5 minutes"
       ]
      },
      {
       "output_type": "stream",
       "stream": "stdout",
       "text": [
        " \r",
        "[*****************79%**********        ]  3271446 of 4162828 complete Elapsed: 9.1 minutes\t Remaining: 2.5 minutes"
       ]
      },
      {
       "output_type": "stream",
       "stream": "stdout",
       "text": [
        " \r",
        "[*****************79%**********        ]  3282256 of 4162828 complete Elapsed: 9.2 minutes\t Remaining: 2.5 minutes"
       ]
      },
      {
       "output_type": "stream",
       "stream": "stdout",
       "text": [
        " \r",
        "[*****************79%**********        ]  3291579 of 4162828 complete Elapsed: 9.2 minutes\t Remaining: 2.4 minutes"
       ]
      },
      {
       "output_type": "stream",
       "stream": "stdout",
       "text": [
        " \r",
        "[*****************79%**********        ]  3302371 of 4162828 complete Elapsed: 9.2 minutes\t Remaining: 2.4 minutes"
       ]
      },
      {
       "output_type": "stream",
       "stream": "stdout",
       "text": [
        " \r",
        "[*****************80%**********        ]  3313203 of 4162828 complete Elapsed: 9.3 minutes\t Remaining: 2.4 minutes"
       ]
      },
      {
       "output_type": "stream",
       "stream": "stdout",
       "text": [
        " \r",
        "[*****************80%**********        ]  3324035 of 4162828 complete Elapsed: 9.3 minutes\t Remaining: 2.3 minutes"
       ]
      },
      {
       "output_type": "stream",
       "stream": "stdout",
       "text": [
        " \r",
        "[*****************80%**********        ]  3334859 of 4162828 complete Elapsed: 9.3 minutes\t Remaining: 2.3 minutes"
       ]
      },
      {
       "output_type": "stream",
       "stream": "stdout",
       "text": [
        " \r",
        "[*****************80%**********        ]  3345680 of 4162828 complete Elapsed: 9.3 minutes\t Remaining: 2.3 minutes"
       ]
      },
      {
       "output_type": "stream",
       "stream": "stdout",
       "text": [
        " \r",
        "[*****************81%***********       ]  3356495 of 4162828 complete Elapsed: 9.4 minutes\t Remaining: 2.2 minutes"
       ]
      },
      {
       "output_type": "stream",
       "stream": "stdout",
       "text": [
        " \r",
        "[*****************81%***********       ]  3367327 of 4162828 complete Elapsed: 9.4 minutes\t Remaining: 2.2 minutes"
       ]
      },
      {
       "output_type": "stream",
       "stream": "stdout",
       "text": [
        " \r",
        "[*****************81%***********       ]  3378151 of 4162828 complete Elapsed: 9.4 minutes\t Remaining: 2.2 minutes"
       ]
      },
      {
       "output_type": "stream",
       "stream": "stdout",
       "text": [
        " \r",
        "[*****************81%***********       ]  3388976 of 4162828 complete Elapsed: 9.4 minutes\t Remaining: 2.2 minutes"
       ]
      },
      {
       "output_type": "stream",
       "stream": "stdout",
       "text": [
        " \r",
        "[*****************82%***********       ]  3399784 of 4162828 complete Elapsed: 9.5 minutes\t Remaining: 2.1 minutes"
       ]
      },
      {
       "output_type": "stream",
       "stream": "stdout",
       "text": [
        " \r",
        "[*****************82%***********       ]  3406824 of 4162828 complete Elapsed: 9.5 minutes\t Remaining: 2.1 minutes"
       ]
      },
      {
       "output_type": "stream",
       "stream": "stdout",
       "text": [
        " \r",
        "[*****************82%***********       ]  3417639 of 4162828 complete Elapsed: 9.5 minutes\t Remaining: 2.1 minutes"
       ]
      },
      {
       "output_type": "stream",
       "stream": "stdout",
       "text": [
        " \r",
        "[*****************82%***********       ]  3428416 of 4162828 complete Elapsed: 9.5 minutes\t Remaining: 2.0 minutes"
       ]
      },
      {
       "output_type": "stream",
       "stream": "stdout",
       "text": [
        " \r",
        "[*****************83%************      ]  3439192 of 4162828 complete Elapsed: 9.6 minutes\t Remaining: 2.0 minutes"
       ]
      },
      {
       "output_type": "stream",
       "stream": "stdout",
       "text": [
        " \r",
        "[*****************83%************      ]  3449976 of 4162828 complete Elapsed: 9.6 minutes\t Remaining: 2.0 minutes"
       ]
      },
      {
       "output_type": "stream",
       "stream": "stdout",
       "text": [
        " \r",
        "[*****************83%************      ]  3460773 of 4162828 complete Elapsed: 9.6 minutes\t Remaining: 1.9 minutes"
       ]
      },
      {
       "output_type": "stream",
       "stream": "stdout",
       "text": [
        " \r",
        "[*****************83%************      ]  3471557 of 4162828 complete Elapsed: 9.6 minutes\t Remaining: 1.9 minutes"
       ]
      },
      {
       "output_type": "stream",
       "stream": "stdout",
       "text": [
        " \r",
        "[*****************84%************      ]  3482361 of 4162828 complete Elapsed: 9.7 minutes\t Remaining: 1.9 minutes"
       ]
      },
      {
       "output_type": "stream",
       "stream": "stdout",
       "text": [
        " \r",
        "[*****************84%************      ]  3493167 of 4162828 complete Elapsed: 9.7 minutes\t Remaining: 1.9 minutes"
       ]
      },
      {
       "output_type": "stream",
       "stream": "stdout",
       "text": [
        " \r",
        "[*****************84%************      ]  3503963 of 4162828 complete Elapsed: 9.7 minutes\t Remaining: 1.8 minutes"
       ]
      },
      {
       "output_type": "stream",
       "stream": "stdout",
       "text": [
        " \r",
        "[*****************84%************      ]  3514745 of 4162828 complete Elapsed: 9.7 minutes\t Remaining: 1.8 minutes"
       ]
      },
      {
       "output_type": "stream",
       "stream": "stdout",
       "text": [
        " \r",
        "[*****************85%************      ]  3521874 of 4162828 complete Elapsed: 9.8 minutes\t Remaining: 1.8 minutes"
       ]
      },
      {
       "output_type": "stream",
       "stream": "stdout",
       "text": [
        " \r",
        "[*****************85%************      ]  3532501 of 4162828 complete Elapsed: 9.8 minutes\t Remaining: 1.7 minutes"
       ]
      },
      {
       "output_type": "stream",
       "stream": "stdout",
       "text": [
        " \r",
        "[*****************85%************      ]  3543340 of 4162828 complete Elapsed: 9.8 minutes\t Remaining: 1.7 minutes"
       ]
      },
      {
       "output_type": "stream",
       "stream": "stdout",
       "text": [
        " \r",
        "[*****************85%************      ]  3554197 of 4162828 complete Elapsed: 9.8 minutes\t Remaining: 1.7 minutes"
       ]
      },
      {
       "output_type": "stream",
       "stream": "stdout",
       "text": [
        " \r",
        "[*****************86%*************     ]  3565027 of 4162828 complete Elapsed: 9.9 minutes\t Remaining: 1.7 minutes"
       ]
      },
      {
       "output_type": "stream",
       "stream": "stdout",
       "text": [
        " \r",
        "[*****************86%*************     ]  3575851 of 4162828 complete Elapsed: 9.9 minutes\t Remaining: 1.6 minutes"
       ]
      },
      {
       "output_type": "stream",
       "stream": "stdout",
       "text": [
        " \r",
        "[*****************86%*************     ]  3586664 of 4162828 complete Elapsed: 9.9 minutes\t Remaining: 1.6 minutes"
       ]
      },
      {
       "output_type": "stream",
       "stream": "stdout",
       "text": [
        " \r",
        "[*****************86%*************     ]  3597464 of 4162828 complete Elapsed: 9.9 minutes\t Remaining: 1.6 minutes"
       ]
      },
      {
       "output_type": "stream",
       "stream": "stdout",
       "text": [
        " \r",
        "[*****************87%*************     ]  3608269 of 4162828 complete Elapsed: 10.0 minutes\t Remaining: 1.5 minutes"
       ]
      },
      {
       "output_type": "stream",
       "stream": "stdout",
       "text": [
        " \r",
        "[*****************87%*************     ]  3615257 of 4162828 complete Elapsed: 10.0 minutes\t Remaining: 1.5 minutes"
       ]
      },
      {
       "output_type": "stream",
       "stream": "stdout",
       "text": [
        " \r",
        "[*****************87%*************     ]  3626085 of 4162828 complete Elapsed: 10.0 minutes\t Remaining: 1.5 minutes"
       ]
      },
      {
       "output_type": "stream",
       "stream": "stdout",
       "text": [
        " \r",
        "[*****************87%*************     ]  3636899 of 4162828 complete Elapsed: 10.0 minutes\t Remaining: 1.5 minutes"
       ]
      },
      {
       "output_type": "stream",
       "stream": "stdout",
       "text": [
        " \r",
        "[*****************88%*************     ]  3647724 of 4162828 complete Elapsed: 10.1 minutes\t Remaining: 1.4 minutes"
       ]
      },
      {
       "output_type": "stream",
       "stream": "stdout",
       "text": [
        " \r",
        "[*****************88%*************     ]  3658524 of 4162828 complete Elapsed: 10.1 minutes\t Remaining: 1.4 minutes"
       ]
      },
      {
       "output_type": "stream",
       "stream": "stdout",
       "text": [
        " \r",
        "[*****************88%*************     ]  3669329 of 4162828 complete Elapsed: 10.1 minutes\t Remaining: 1.4 minutes"
       ]
      },
      {
       "output_type": "stream",
       "stream": "stdout",
       "text": [
        " \r",
        "[*****************88%*************     ]  3680136 of 4162828 complete Elapsed: 10.1 minutes\t Remaining: 1.3 minutes"
       ]
      },
      {
       "output_type": "stream",
       "stream": "stdout",
       "text": [
        " \r",
        "[*****************89%**************    ]  3690944 of 4162828 complete Elapsed: 10.2 minutes\t Remaining: 1.3 minutes"
       ]
      },
      {
       "output_type": "stream",
       "stream": "stdout",
       "text": [
        " \r",
        "[*****************89%**************    ]  3701746 of 4162828 complete Elapsed: 10.2 minutes\t Remaining: 1.3 minutes"
       ]
      },
      {
       "output_type": "stream",
       "stream": "stdout",
       "text": [
        " \r",
        "[*****************89%**************    ]  3712566 of 4162828 complete Elapsed: 10.2 minutes\t Remaining: 1.2 minutes"
       ]
      },
      {
       "output_type": "stream",
       "stream": "stdout",
       "text": [
        " \r",
        "[*****************89%**************    ]  3723368 of 4162828 complete Elapsed: 10.2 minutes\t Remaining: 1.2 minutes"
       ]
      },
      {
       "output_type": "stream",
       "stream": "stdout",
       "text": [
        " \r",
        "[*****************90%**************    ]  3734172 of 4162828 complete Elapsed: 10.3 minutes\t Remaining: 1.2 minutes"
       ]
      },
      {
       "output_type": "stream",
       "stream": "stdout",
       "text": [
        " \r",
        "[*****************90%**************    ]  3741557 of 4162828 complete Elapsed: 10.3 minutes\t Remaining: 1.2 minutes"
       ]
      },
      {
       "output_type": "stream",
       "stream": "stdout",
       "text": [
        " \r",
        "[*****************90%**************    ]  3752387 of 4162828 complete Elapsed: 10.3 minutes\t Remaining: 1.1 minutes"
       ]
      },
      {
       "output_type": "stream",
       "stream": "stdout",
       "text": [
        " \r",
        "[*****************90%**************    ]  3763217 of 4162828 complete Elapsed: 10.3 minutes\t Remaining: 1.1 minutes"
       ]
      },
      {
       "output_type": "stream",
       "stream": "stdout",
       "text": [
        " \r",
        "[*****************91%***************   ]  3774014 of 4162828 complete Elapsed: 10.4 minutes\t Remaining: 1.1 minutes"
       ]
      },
      {
       "output_type": "stream",
       "stream": "stdout",
       "text": [
        " \r",
        "[*****************91%***************   ]  3784835 of 4162828 complete Elapsed: 10.4 minutes\t Remaining: 1.0 minutes"
       ]
      },
      {
       "output_type": "stream",
       "stream": "stdout",
       "text": [
        " \r",
        "[*****************91%***************   ]  3795632 of 4162828 complete Elapsed: 10.4 minutes\t Remaining: 1.0 minutes"
       ]
      },
      {
       "output_type": "stream",
       "stream": "stdout",
       "text": [
        " \r",
        "[*****************91%***************   ]  3802678 of 4162828 complete Elapsed: 10.4 minutes\t Remaining: 1.0 minutes"
       ]
      },
      {
       "output_type": "stream",
       "stream": "stdout",
       "text": [
        " \r",
        "[*****************92%***************   ]  3813502 of 4162828 complete Elapsed: 10.5 minutes\t Remaining: 1.0 minutes"
       ]
      },
      {
       "output_type": "stream",
       "stream": "stdout",
       "text": [
        " \r",
        "[*****************92%***************   ]  3824302 of 4162828 complete Elapsed: 10.5 minutes\t Remaining: 0.9 minutes"
       ]
      },
      {
       "output_type": "stream",
       "stream": "stdout",
       "text": [
        " \r",
        "[*****************92%***************   ]  3835083 of 4162828 complete Elapsed: 10.5 minutes\t Remaining: 0.9 minutes"
       ]
      },
      {
       "output_type": "stream",
       "stream": "stdout",
       "text": [
        " \r",
        "[*****************92%***************   ]  3845882 of 4162828 complete Elapsed: 10.5 minutes\t Remaining: 0.9 minutes"
       ]
      },
      {
       "output_type": "stream",
       "stream": "stdout",
       "text": [
        " \r",
        "[*****************93%***************   ]  3856676 of 4162828 complete Elapsed: 10.6 minutes\t Remaining: 0.8 minutes"
       ]
      },
      {
       "output_type": "stream",
       "stream": "stdout",
       "text": [
        " \r",
        "[*****************93%***************   ]  3867482 of 4162828 complete Elapsed: 10.6 minutes\t Remaining: 0.8 minutes"
       ]
      },
      {
       "output_type": "stream",
       "stream": "stdout",
       "text": [
        " \r",
        "[*****************93%***************   ]  3878693 of 4162828 complete Elapsed: 10.6 minutes\t Remaining: 0.8 minutes"
       ]
      },
      {
       "output_type": "stream",
       "stream": "stdout",
       "text": [
        " \r",
        "[*****************93%***************   ]  3889916 of 4162828 complete Elapsed: 10.6 minutes\t Remaining: 0.7 minutes"
       ]
      },
      {
       "output_type": "stream",
       "stream": "stdout",
       "text": [
        " \r",
        "[*****************94%****************  ]  3901117 of 4162828 complete Elapsed: 10.7 minutes\t Remaining: 0.7 minutes"
       ]
      },
      {
       "output_type": "stream",
       "stream": "stdout",
       "text": [
        " \r",
        "[*****************94%****************  ]  3912361 of 4162828 complete Elapsed: 10.7 minutes\t Remaining: 0.7 minutes"
       ]
      },
      {
       "output_type": "stream",
       "stream": "stdout",
       "text": [
        " \r",
        "[*****************94%****************  ]  3923568 of 4162828 complete Elapsed: 10.7 minutes\t Remaining: 0.7 minutes"
       ]
      },
      {
       "output_type": "stream",
       "stream": "stdout",
       "text": [
        " \r",
        "[*****************94%****************  ]  3931388 of 4162828 complete Elapsed: 10.7 minutes\t Remaining: 0.6 minutes"
       ]
      },
      {
       "output_type": "stream",
       "stream": "stdout",
       "text": [
        " \r",
        "[*****************95%****************  ]  3942532 of 4162828 complete Elapsed: 10.8 minutes\t Remaining: 0.6 minutes"
       ]
      },
      {
       "output_type": "stream",
       "stream": "stdout",
       "text": [
        " \r",
        "[*****************95%****************  ]  3953682 of 4162828 complete Elapsed: 10.8 minutes\t Remaining: 0.6 minutes"
       ]
      },
      {
       "output_type": "stream",
       "stream": "stdout",
       "text": [
        " \r",
        "[*****************95%****************  ]  3964832 of 4162828 complete Elapsed: 10.8 minutes\t Remaining: 0.5 minutes"
       ]
      },
      {
       "output_type": "stream",
       "stream": "stdout",
       "text": [
        " \r",
        "[*****************96%****************  ]  3975734 of 4162828 complete Elapsed: 10.8 minutes\t Remaining: 0.5 minutes"
       ]
      },
      {
       "output_type": "stream",
       "stream": "stdout",
       "text": [
        " \r",
        "[*****************96%****************  ]  3983555 of 4162828 complete Elapsed: 10.9 minutes\t Remaining: 0.5 minutes"
       ]
      },
      {
       "output_type": "stream",
       "stream": "stdout",
       "text": [
        " \r",
        "[*****************96%****************  ]  3994729 of 4162828 complete Elapsed: 10.9 minutes\t Remaining: 0.5 minutes"
       ]
      },
      {
       "output_type": "stream",
       "stream": "stdout",
       "text": [
        " \r",
        "[*****************96%****************  ]  4005957 of 4162828 complete Elapsed: 10.9 minutes\t Remaining: 0.4 minutes"
       ]
      },
      {
       "output_type": "stream",
       "stream": "stdout",
       "text": [
        " \r",
        "[*****************97%***************** ]  4017195 of 4162828 complete Elapsed: 10.9 minutes\t Remaining: 0.4 minutes"
       ]
      },
      {
       "output_type": "stream",
       "stream": "stdout",
       "text": [
        " \r",
        "[*****************97%***************** ]  4028424 of 4162828 complete Elapsed: 11.0 minutes\t Remaining: 0.4 minutes"
       ]
      },
      {
       "output_type": "stream",
       "stream": "stdout",
       "text": [
        " \r",
        "[*****************97%***************** ]  4037323 of 4162828 complete Elapsed: 11.0 minutes\t Remaining: 0.3 minutes"
       ]
      },
      {
       "output_type": "stream",
       "stream": "stdout",
       "text": [
        " \r",
        "[*****************97%***************** ]  4048499 of 4162828 complete Elapsed: 11.0 minutes\t Remaining: 0.3 minutes"
       ]
      },
      {
       "output_type": "stream",
       "stream": "stdout",
       "text": [
        " \r",
        "[*****************98%***************** ]  4059687 of 4162828 complete Elapsed: 11.0 minutes\t Remaining: 0.3 minutes"
       ]
      },
      {
       "output_type": "stream",
       "stream": "stdout",
       "text": [
        " \r",
        "[*****************98%***************** ]  4070886 of 4162828 complete Elapsed: 11.1 minutes\t Remaining: 0.2 minutes"
       ]
      },
      {
       "output_type": "stream",
       "stream": "stdout",
       "text": [
        " \r",
        "[*****************98%***************** ]  4082049 of 4162828 complete Elapsed: 11.1 minutes\t Remaining: 0.2 minutes"
       ]
      },
      {
       "output_type": "stream",
       "stream": "stdout",
       "text": [
        " \r",
        "[*****************98%***************** ]  4093219 of 4162828 complete Elapsed: 11.1 minutes\t Remaining: 0.2 minutes"
       ]
      },
      {
       "output_type": "stream",
       "stream": "stdout",
       "text": [
        " \r",
        "[*****************99%******************]  4104376 of 4162828 complete Elapsed: 11.1 minutes\t Remaining: 0.2 minutes"
       ]
      },
      {
       "output_type": "stream",
       "stream": "stdout",
       "text": [
        " \r",
        "[*****************99%******************]  4115580 of 4162828 complete Elapsed: 11.2 minutes\t Remaining: 0.1 minutes"
       ]
      },
      {
       "output_type": "stream",
       "stream": "stdout",
       "text": [
        " \r",
        "[*****************99%******************]  4126763 of 4162828 complete Elapsed: 11.2 minutes\t Remaining: 0.1 minutes"
       ]
      },
      {
       "output_type": "stream",
       "stream": "stdout",
       "text": [
        " \r",
        "[*****************99%******************]  4137950 of 4162828 complete Elapsed: 11.2 minutes\t Remaining: 0.1 minutes"
       ]
      },
      {
       "output_type": "stream",
       "stream": "stdout",
       "text": [
        " \r",
        "[****************100%******************]  4149140 of 4162828 complete Elapsed: 11.2 minutes\t Remaining: 0.0 minutes"
       ]
      },
      {
       "output_type": "stream",
       "stream": "stdout",
       "text": [
        " \r",
        "[                  0%                  ]"
       ]
      },
      {
       "output_type": "stream",
       "stream": "stdout",
       "text": [
        " \r",
        "[                  0%                  ]  7622 of 2437152 complete Elapsed: 0.0 minutes\t Remaining: 8.0 minutes"
       ]
      },
      {
       "output_type": "stream",
       "stream": "stdout",
       "text": [
        " \r",
        "[                  1%                  ]  18330 of 2437152 complete Elapsed: 0.1 minutes\t Remaining: 6.6 minutes"
       ]
      },
      {
       "output_type": "stream",
       "stream": "stdout",
       "text": [
        " \r",
        "[                  1%                  ]  28975 of 2437152 complete Elapsed: 0.1 minutes\t Remaining: 6.2 minutes"
       ]
      },
      {
       "output_type": "stream",
       "stream": "stdout",
       "text": [
        " \r",
        "[*                 2%                  ]  39668 of 2437152 complete Elapsed: 0.1 minutes\t Remaining: 6.0 minutes"
       ]
      },
      {
       "output_type": "stream",
       "stream": "stdout",
       "text": [
        " \r",
        "[*                 2%                  ]  50304 of 2437152 complete Elapsed: 0.1 minutes\t Remaining: 5.9 minutes"
       ]
      },
      {
       "output_type": "stream",
       "stream": "stdout",
       "text": [
        " \r",
        "[*                 3%                  ]  60948 of 2437152 complete Elapsed: 0.2 minutes\t Remaining: 5.9 minutes"
       ]
      },
      {
       "output_type": "stream",
       "stream": "stdout",
       "text": [
        " \r",
        "[*                 3%                  ]  71634 of 2437152 complete Elapsed: 0.2 minutes\t Remaining: 5.8 minutes"
       ]
      },
      {
       "output_type": "stream",
       "stream": "stdout",
       "text": [
        " \r",
        "[*                 3%                  ]  82287 of 2437152 complete Elapsed: 0.2 minutes\t Remaining: 5.7 minutes"
       ]
      },
      {
       "output_type": "stream",
       "stream": "stdout",
       "text": [
        " \r",
        "[**                4%                  ]  92930 of 2437152 complete Elapsed: 0.2 minutes\t Remaining: 5.7 minutes"
       ]
      },
      {
       "output_type": "stream",
       "stream": "stdout",
       "text": [
        " \r",
        "[**                4%                  ]  103623 of 2437152 complete Elapsed: 0.3 minutes\t Remaining: 5.6 minutes"
       ]
      },
      {
       "output_type": "stream",
       "stream": "stdout",
       "text": [
        " \r",
        "[**                5%                  ]  114281 of 2437152 complete Elapsed: 0.3 minutes\t Remaining: 5.6 minutes"
       ]
      },
      {
       "output_type": "stream",
       "stream": "stdout",
       "text": [
        " \r",
        "[**                5%                  ]  124956 of 2437152 complete Elapsed: 0.3 minutes\t Remaining: 5.6 minutes"
       ]
      },
      {
       "output_type": "stream",
       "stream": "stdout",
       "text": [
        " \r",
        "[**                6%                  ]  135612 of 2437152 complete Elapsed: 0.3 minutes\t Remaining: 5.5 minutes"
       ]
      },
      {
       "output_type": "stream",
       "stream": "stderr",
       "text": [
        "WARN: pos 206958395 is less than or equal to last_pos 206958395\n"
       ]
      },
      {
       "output_type": "stream",
       "stream": "stdout",
       "text": [
        " \r",
        "[**                6%                  ]  146341 of 2437152 complete Elapsed: 0.4 minutes\t Remaining: 5.5 minutes"
       ]
      },
      {
       "output_type": "stream",
       "stream": "stdout",
       "text": [
        " \r",
        "[**                6%                  ]  156967 of 2437152 complete Elapsed: 0.4 minutes\t Remaining: 5.5 minutes"
       ]
      },
      {
       "output_type": "stream",
       "stream": "stdout",
       "text": [
        " \r",
        "[***               7%                  ]  167573 of 2437152 complete Elapsed: 0.4 minutes\t Remaining: 5.4 minutes"
       ]
      },
      {
       "output_type": "stream",
       "stream": "stdout",
       "text": [
        " \r",
        "[***               7%                  ]  178234 of 2437152 complete Elapsed: 0.4 minutes\t Remaining: 5.4 minutes"
       ]
      },
      {
       "output_type": "stream",
       "stream": "stdout",
       "text": [
        " \r",
        "[***               8%                  ]  188911 of 2437152 complete Elapsed: 0.5 minutes\t Remaining: 5.4 minutes"
       ]
      },
      {
       "output_type": "stream",
       "stream": "stdout",
       "text": [
        " \r",
        "[***               8%                  ]  196512 of 2437152 complete Elapsed: 0.5 minutes\t Remaining: 5.4 minutes"
       ]
      },
      {
       "output_type": "stream",
       "stream": "stdout",
       "text": [
        " \r",
        "[***               9%                  ]  207169 of 2437152 complete Elapsed: 0.5 minutes\t Remaining: 5.4 minutes"
       ]
      },
      {
       "output_type": "stream",
       "stream": "stdout",
       "text": [
        " \r",
        "[***               9%                  ]  217853 of 2437152 complete Elapsed: 0.5 minutes\t Remaining: 5.4 minutes"
       ]
      },
      {
       "output_type": "stream",
       "stream": "stdout",
       "text": [
        " \r",
        "[***               9%                  ]  228513 of 2437152 complete Elapsed: 0.6 minutes\t Remaining: 5.3 minutes"
       ]
      },
      {
       "output_type": "stream",
       "stream": "stdout",
       "text": [
        " \r",
        "[****             10%                  ]  239167 of 2437152 complete Elapsed: 0.6 minutes\t Remaining: 5.3 minutes"
       ]
      },
      {
       "output_type": "stream",
       "stream": "stdout",
       "text": [
        " \r",
        "[****             10%                  ]  249898 of 2437152 complete Elapsed: 0.6 minutes\t Remaining: 5.3 minutes"
       ]
      },
      {
       "output_type": "stream",
       "stream": "stdout",
       "text": [
        " \r",
        "[****             11%                  ]  260557 of 2437152 complete Elapsed: 0.6 minutes\t Remaining: 5.2 minutes"
       ]
      },
      {
       "output_type": "stream",
       "stream": "stdout",
       "text": [
        " \r",
        "[****             11%                  ]  271263 of 2437152 complete Elapsed: 0.7 minutes\t Remaining: 5.2 minutes"
       ]
      },
      {
       "output_type": "stream",
       "stream": "stdout",
       "text": [
        " \r",
        "[*****            12%                  ]  281980 of 2437152 complete Elapsed: 0.7 minutes\t Remaining: 5.2 minutes"
       ]
      },
      {
       "output_type": "stream",
       "stream": "stdout",
       "text": [
        " \r",
        "[*****            12%                  ]  292678 of 2437152 complete Elapsed: 0.7 minutes\t Remaining: 5.1 minutes"
       ]
      },
      {
       "output_type": "stream",
       "stream": "stdout",
       "text": [
        " \r",
        "[*****            12%                  ]  303359 of 2437152 complete Elapsed: 0.7 minutes\t Remaining: 5.1 minutes"
       ]
      },
      {
       "output_type": "stream",
       "stream": "stdout",
       "text": [
        " \r",
        "[*****            13%                  ]  314063 of 2437152 complete Elapsed: 0.8 minutes\t Remaining: 5.1 minutes"
       ]
      },
      {
       "output_type": "stream",
       "stream": "stdout",
       "text": [
        " \r",
        "[*****            13%                  ]  324767 of 2437152 complete Elapsed: 0.8 minutes\t Remaining: 5.0 minutes"
       ]
      },
      {
       "output_type": "stream",
       "stream": "stdout",
       "text": [
        " \r",
        "[*****            14%                  ]  335455 of 2437152 complete Elapsed: 0.8 minutes\t Remaining: 5.0 minutes"
       ]
      },
      {
       "output_type": "stream",
       "stream": "stdout",
       "text": [
        " \r",
        "[*****            14%                  ]  346188 of 2437152 complete Elapsed: 0.8 minutes\t Remaining: 5.0 minutes"
       ]
      },
      {
       "output_type": "stream",
       "stream": "stdout",
       "text": [
        " \r",
        "[******           15%                  ]  356903 of 2437152 complete Elapsed: 0.9 minutes\t Remaining: 5.0 minutes"
       ]
      },
      {
       "output_type": "stream",
       "stream": "stdout",
       "text": [
        " \r",
        "[******           15%                  ]  367614 of 2437152 complete Elapsed: 0.9 minutes\t Remaining: 4.9 minutes"
       ]
      },
      {
       "output_type": "stream",
       "stream": "stdout",
       "text": [
        " \r",
        "[******           16%                  ]  378300 of 2437152 complete Elapsed: 0.9 minutes\t Remaining: 4.9 minutes"
       ]
      },
      {
       "output_type": "stream",
       "stream": "stdout",
       "text": [
        " \r",
        "[******           16%                  ]  389022 of 2437152 complete Elapsed: 0.9 minutes\t Remaining: 4.9 minutes"
       ]
      },
      {
       "output_type": "stream",
       "stream": "stdout",
       "text": [
        " \r",
        "[******           16%                  ]  396771 of 2437152 complete Elapsed: 1.0 minutes\t Remaining: 4.9 minutes"
       ]
      },
      {
       "output_type": "stream",
       "stream": "stdout",
       "text": [
        " \r",
        "[******           17%                  ]  407443 of 2437152 complete Elapsed: 1.0 minutes\t Remaining: 4.9 minutes"
       ]
      },
      {
       "output_type": "stream",
       "stream": "stdout",
       "text": [
        " \r",
        "[******           17%                  ]  418087 of 2437152 complete Elapsed: 1.0 minutes\t Remaining: 4.8 minutes"
       ]
      },
      {
       "output_type": "stream",
       "stream": "stdout",
       "text": [
        " \r",
        "[*******          18%                  ]  428645 of 2437152 complete Elapsed: 1.0 minutes\t Remaining: 4.8 minutes"
       ]
      },
      {
       "output_type": "stream",
       "stream": "stdout",
       "text": [
        " \r",
        "[*******          18%                  ]  439265 of 2437152 complete Elapsed: 1.1 minutes\t Remaining: 4.8 minutes"
       ]
      },
      {
       "output_type": "stream",
       "stream": "stdout",
       "text": [
        " \r",
        "[*******          18%                  ]  449870 of 2437152 complete Elapsed: 1.1 minutes\t Remaining: 4.8 minutes"
       ]
      },
      {
       "output_type": "stream",
       "stream": "stdout",
       "text": [
        " \r",
        "[*******          19%                  ]  460441 of 2437152 complete Elapsed: 1.1 minutes\t Remaining: 4.7 minutes"
       ]
      },
      {
       "output_type": "stream",
       "stream": "stdout",
       "text": [
        " \r",
        "[*******          19%                  ]  471013 of 2437152 complete Elapsed: 1.1 minutes\t Remaining: 4.7 minutes"
       ]
      },
      {
       "output_type": "stream",
       "stream": "stdout",
       "text": [
        " \r",
        "[********         20%                  ]  481534 of 2437152 complete Elapsed: 1.2 minutes\t Remaining: 4.7 minutes"
       ]
      },
      {
       "output_type": "stream",
       "stream": "stdout",
       "text": [
        " \r",
        "[********         20%                  ]  492139 of 2437152 complete Elapsed: 1.2 minutes\t Remaining: 4.7 minutes"
       ]
      },
      {
       "output_type": "stream",
       "stream": "stdout",
       "text": [
        " \r",
        "[********         21%                  ]  502721 of 2437152 complete Elapsed: 1.2 minutes\t Remaining: 4.6 minutes"
       ]
      },
      {
       "output_type": "stream",
       "stream": "stdout",
       "text": [
        " \r",
        "[********         21%                  ]  513289 of 2437152 complete Elapsed: 1.2 minutes\t Remaining: 4.6 minutes"
       ]
      },
      {
       "output_type": "stream",
       "stream": "stdout",
       "text": [
        " \r",
        "[********         21%                  ]  523836 of 2437152 complete Elapsed: 1.3 minutes\t Remaining: 4.6 minutes"
       ]
      },
      {
       "output_type": "stream",
       "stream": "stdout",
       "text": [
        " \r",
        "[********         22%                  ]  534406 of 2437152 complete Elapsed: 1.3 minutes\t Remaining: 4.5 minutes"
       ]
      },
      {
       "output_type": "stream",
       "stream": "stdout",
       "text": [
        " \r",
        "[********         22%                  ]  544980 of 2437152 complete Elapsed: 1.3 minutes\t Remaining: 4.5 minutes"
       ]
      },
      {
       "output_type": "stream",
       "stream": "stdout",
       "text": [
        " \r",
        "[*********        23%                  ]  555550 of 2437152 complete Elapsed: 1.3 minutes\t Remaining: 4.5 minutes"
       ]
      },
      {
       "output_type": "stream",
       "stream": "stdout",
       "text": [
        " \r",
        "[*********        23%                  ]  563374 of 2437152 complete Elapsed: 1.4 minutes\t Remaining: 4.5 minutes"
       ]
      },
      {
       "output_type": "stream",
       "stream": "stdout",
       "text": [
        " \r",
        "[*********        24%                  ]  574055 of 2437152 complete Elapsed: 1.4 minutes\t Remaining: 4.5 minutes"
       ]
      },
      {
       "output_type": "stream",
       "stream": "stderr",
       "text": [
        "WARN: pos 38827206 is less than or equal to last_pos 38827206\n"
       ]
      },
      {
       "output_type": "stream",
       "stream": "stdout",
       "text": [
        " \r",
        "[*********        24%                  ]  584715 of 2437152 complete Elapsed: 1.4 minutes\t Remaining: 4.4 minutes"
       ]
      },
      {
       "output_type": "stream",
       "stream": "stdout",
       "text": [
        " \r",
        "[*********        24%                  ]  595334 of 2437152 complete Elapsed: 1.4 minutes\t Remaining: 4.4 minutes"
       ]
      },
      {
       "output_type": "stream",
       "stream": "stdout",
       "text": [
        " \r",
        "[**********       25%                  ]  605987 of 2437152 complete Elapsed: 1.5 minutes\t Remaining: 4.4 minutes"
       ]
      },
      {
       "output_type": "stream",
       "stream": "stdout",
       "text": [
        " \r",
        "[**********       25%                  ]  616665 of 2437152 complete Elapsed: 1.5 minutes\t Remaining: 4.4 minutes"
       ]
      },
      {
       "output_type": "stream",
       "stream": "stdout",
       "text": [
        " \r",
        "[**********       26%                  ]  627336 of 2437152 complete Elapsed: 1.5 minutes\t Remaining: 4.3 minutes"
       ]
      },
      {
       "output_type": "stream",
       "stream": "stdout",
       "text": [
        " \r",
        "[**********       26%                  ]  637998 of 2437152 complete Elapsed: 1.5 minutes\t Remaining: 4.3 minutes"
       ]
      },
      {
       "output_type": "stream",
       "stream": "stdout",
       "text": [
        " \r",
        "[**********       27%                  ]  648673 of 2437152 complete Elapsed: 1.6 minutes\t Remaining: 4.3 minutes"
       ]
      },
      {
       "output_type": "stream",
       "stream": "stdout",
       "text": [
        " \r",
        "[**********       27%                  ]  659336 of 2437152 complete Elapsed: 1.6 minutes\t Remaining: 4.3 minutes"
       ]
      },
      {
       "output_type": "stream",
       "stream": "stdout",
       "text": [
        " \r",
        "[**********       27%                  ]  670023 of 2437152 complete Elapsed: 1.6 minutes\t Remaining: 4.2 minutes"
       ]
      },
      {
       "output_type": "stream",
       "stream": "stdout",
       "text": [
        " \r",
        "[***********      28%                  ]  680725 of 2437152 complete Elapsed: 1.6 minutes\t Remaining: 4.2 minutes"
       ]
      },
      {
       "output_type": "stream",
       "stream": "stdout",
       "text": [
        " \r",
        "[***********      28%                  ]  691393 of 2437152 complete Elapsed: 1.7 minutes\t Remaining: 4.2 minutes"
       ]
      },
      {
       "output_type": "stream",
       "stream": "stdout",
       "text": [
        " \r",
        "[***********      29%                  ]  702051 of 2437152 complete Elapsed: 1.7 minutes\t Remaining: 4.1 minutes"
       ]
      },
      {
       "output_type": "stream",
       "stream": "stdout",
       "text": [
        " \r",
        "[***********      29%                  ]  712726 of 2437152 complete Elapsed: 1.7 minutes\t Remaining: 4.1 minutes"
       ]
      },
      {
       "output_type": "stream",
       "stream": "stdout",
       "text": [
        " \r",
        "[***********      30%                  ]  720490 of 2437152 complete Elapsed: 1.7 minutes\t Remaining: 4.1 minutes"
       ]
      },
      {
       "output_type": "stream",
       "stream": "stdout",
       "text": [
        " \r",
        "[***********      30%                  ]  731112 of 2437152 complete Elapsed: 1.8 minutes\t Remaining: 4.1 minutes"
       ]
      },
      {
       "output_type": "stream",
       "stream": "stdout",
       "text": [
        " \r",
        "[***********      30%                  ]  741750 of 2437152 complete Elapsed: 1.8 minutes\t Remaining: 4.1 minutes"
       ]
      },
      {
       "output_type": "stream",
       "stream": "stdout",
       "text": [
        " \r",
        "[************     31%                  ]  752405 of 2437152 complete Elapsed: 1.8 minutes\t Remaining: 4.0 minutes"
       ]
      },
      {
       "output_type": "stream",
       "stream": "stdout",
       "text": [
        " \r",
        "[************     31%                  ]  763038 of 2437152 complete Elapsed: 1.8 minutes\t Remaining: 4.0 minutes"
       ]
      },
      {
       "output_type": "stream",
       "stream": "stdout",
       "text": [
        " \r",
        "[************     32%                  ]  773604 of 2437152 complete Elapsed: 1.9 minutes\t Remaining: 4.0 minutes"
       ]
      },
      {
       "output_type": "stream",
       "stream": "stdout",
       "text": [
        " \r",
        "[************     32%                  ]  784251 of 2437152 complete Elapsed: 1.9 minutes\t Remaining: 4.0 minutes"
       ]
      },
      {
       "output_type": "stream",
       "stream": "stdout",
       "text": [
        " \r",
        "[*************    33%                  ]  794895 of 2437152 complete Elapsed: 1.9 minutes\t Remaining: 3.9 minutes"
       ]
      },
      {
       "output_type": "stream",
       "stream": "stdout",
       "text": [
        " \r",
        "[*************    33%                  ]  805529 of 2437152 complete Elapsed: 1.9 minutes\t Remaining: 3.9 minutes"
       ]
      },
      {
       "output_type": "stream",
       "stream": "stdout",
       "text": [
        " \r",
        "[*************    33%                  ]  816158 of 2437152 complete Elapsed: 2.0 minutes\t Remaining: 3.9 minutes"
       ]
      },
      {
       "output_type": "stream",
       "stream": "stdout",
       "text": [
        " \r",
        "[*************    34%                  ]  826800 of 2437152 complete Elapsed: 2.0 minutes\t Remaining: 3.9 minutes"
       ]
      },
      {
       "output_type": "stream",
       "stream": "stdout",
       "text": [
        " \r",
        "[*************    34%                  ]  837430 of 2437152 complete Elapsed: 2.0 minutes\t Remaining: 3.8 minutes"
       ]
      },
      {
       "output_type": "stream",
       "stream": "stdout",
       "text": [
        " \r",
        "[*************    35%                  ]  848075 of 2437152 complete Elapsed: 2.0 minutes\t Remaining: 3.8 minutes"
       ]
      },
      {
       "output_type": "stream",
       "stream": "stdout",
       "text": [
        " \r",
        "[*************    35%                  ]  858712 of 2437152 complete Elapsed: 2.1 minutes\t Remaining: 3.8 minutes"
       ]
      },
      {
       "output_type": "stream",
       "stream": "stdout",
       "text": [
        " \r",
        "[**************   36%                  ]  866535 of 2437152 complete Elapsed: 2.1 minutes\t Remaining: 3.8 minutes"
       ]
      },
      {
       "output_type": "stream",
       "stream": "stdout",
       "text": [
        " \r",
        "[**************   36%                  ]  877145 of 2437152 complete Elapsed: 2.1 minutes\t Remaining: 3.7 minutes"
       ]
      },
      {
       "output_type": "stream",
       "stream": "stdout",
       "text": [
        " \r",
        "[**************   36%                  ]  887762 of 2437152 complete Elapsed: 2.1 minutes\t Remaining: 3.7 minutes"
       ]
      },
      {
       "output_type": "stream",
       "stream": "stdout",
       "text": [
        " \r",
        "[**************   37%                  ]  898396 of 2437152 complete Elapsed: 2.2 minutes\t Remaining: 3.7 minutes"
       ]
      },
      {
       "output_type": "stream",
       "stream": "stdout",
       "text": [
        " \r",
        "[**************   37%                  ]  909035 of 2437152 complete Elapsed: 2.2 minutes\t Remaining: 3.7 minutes"
       ]
      },
      {
       "output_type": "stream",
       "stream": "stdout",
       "text": [
        " \r",
        "[**************   38%                  ]  919670 of 2437152 complete Elapsed: 2.2 minutes\t Remaining: 3.6 minutes"
       ]
      },
      {
       "output_type": "stream",
       "stream": "stdout",
       "text": [
        " \r",
        "[**************   38%                  ]  930301 of 2437152 complete Elapsed: 2.2 minutes\t Remaining: 3.6 minutes"
       ]
      },
      {
       "output_type": "stream",
       "stream": "stdout",
       "text": [
        " \r",
        "[***************  39%                  ]  940941 of 2437152 complete Elapsed: 2.3 minutes\t Remaining: 3.6 minutes"
       ]
      },
      {
       "output_type": "stream",
       "stream": "stdout",
       "text": [
        " \r",
        "[***************  39%                  ]  951587 of 2437152 complete Elapsed: 2.3 minutes\t Remaining: 3.6 minutes"
       ]
      },
      {
       "output_type": "stream",
       "stream": "stdout",
       "text": [
        " \r",
        "[***************  39%                  ]  962221 of 2437152 complete Elapsed: 2.3 minutes\t Remaining: 3.5 minutes"
       ]
      },
      {
       "output_type": "stream",
       "stream": "stdout",
       "text": [
        " \r",
        "[***************  40%                  ]  972821 of 2437152 complete Elapsed: 2.3 minutes\t Remaining: 3.5 minutes"
       ]
      },
      {
       "output_type": "stream",
       "stream": "stdout",
       "text": [
        " \r",
        "[***************  40%                  ]  983438 of 2437152 complete Elapsed: 2.4 minutes\t Remaining: 3.5 minutes"
       ]
      },
      {
       "output_type": "stream",
       "stream": "stdout",
       "text": [
        " \r",
        "[**************** 41%                  ]  994076 of 2437152 complete Elapsed: 2.4 minutes\t Remaining: 3.5 minutes"
       ]
      },
      {
       "output_type": "stream",
       "stream": "stdout",
       "text": [
        " \r",
        "[**************** 41%                  ]  1004696 of 2437152 complete Elapsed: 2.4 minutes\t Remaining: 3.4 minutes"
       ]
      },
      {
       "output_type": "stream",
       "stream": "stdout",
       "text": [
        " \r",
        "[**************** 42%                  ]  1012638 of 2437152 complete Elapsed: 2.4 minutes\t Remaining: 3.4 minutes"
       ]
      },
      {
       "output_type": "stream",
       "stream": "stdout",
       "text": [
        " \r",
        "[**************** 42%                  ]  1023231 of 2437152 complete Elapsed: 2.5 minutes\t Remaining: 3.4 minutes"
       ]
      },
      {
       "output_type": "stream",
       "stream": "stdout",
       "text": [
        " \r",
        "[**************** 42%                  ]  1033876 of 2437152 complete Elapsed: 2.5 minutes\t Remaining: 3.4 minutes"
       ]
      },
      {
       "output_type": "stream",
       "stream": "stdout",
       "text": [
        " \r",
        "[**************** 43%                  ]  1044521 of 2437152 complete Elapsed: 2.5 minutes\t Remaining: 3.3 minutes"
       ]
      },
      {
       "output_type": "stream",
       "stream": "stdout",
       "text": [
        " \r",
        "[**************** 43%                  ]  1055164 of 2437152 complete Elapsed: 2.5 minutes\t Remaining: 3.3 minutes"
       ]
      },
      {
       "output_type": "stream",
       "stream": "stdout",
       "text": [
        " \r",
        "[*****************44%                  ]  1065803 of 2437152 complete Elapsed: 2.6 minutes\t Remaining: 3.3 minutes"
       ]
      },
      {
       "output_type": "stream",
       "stream": "stdout",
       "text": [
        " \r",
        "[*****************44%                  ]  1076411 of 2437152 complete Elapsed: 2.6 minutes\t Remaining: 3.3 minutes"
       ]
      },
      {
       "output_type": "stream",
       "stream": "stdout",
       "text": [
        " \r",
        "[*****************45%                  ]  1087011 of 2437152 complete Elapsed: 2.6 minutes\t Remaining: 3.2 minutes"
       ]
      },
      {
       "output_type": "stream",
       "stream": "stdout",
       "text": [
        " \r",
        "[*****************45%                  ]  1097552 of 2437152 complete Elapsed: 2.6 minutes\t Remaining: 3.2 minutes"
       ]
      },
      {
       "output_type": "stream",
       "stream": "stdout",
       "text": [
        " \r",
        "[*****************45%                  ]  1108154 of 2437152 complete Elapsed: 2.7 minutes\t Remaining: 3.2 minutes"
       ]
      },
      {
       "output_type": "stream",
       "stream": "stdout",
       "text": [
        " \r",
        "[*****************46%                  ]  1118758 of 2437152 complete Elapsed: 2.7 minutes\t Remaining: 3.2 minutes"
       ]
      },
      {
       "output_type": "stream",
       "stream": "stdout",
       "text": [
        " \r",
        "[*****************46%                  ]  1129384 of 2437152 complete Elapsed: 2.7 minutes\t Remaining: 3.1 minutes"
       ]
      },
      {
       "output_type": "stream",
       "stream": "stdout",
       "text": [
        " \r",
        "[*****************47%                  ]  1139995 of 2437152 complete Elapsed: 2.7 minutes\t Remaining: 3.1 minutes"
       ]
      },
      {
       "output_type": "stream",
       "stream": "stdout",
       "text": [
        " \r",
        "[*****************47%                  ]  1147925 of 2437152 complete Elapsed: 2.8 minutes\t Remaining: 3.1 minutes"
       ]
      },
      {
       "output_type": "stream",
       "stream": "stdout",
       "text": [
        " \r",
        "[*****************48%                  ]  1158508 of 2437152 complete Elapsed: 2.8 minutes\t Remaining: 3.1 minutes"
       ]
      },
      {
       "output_type": "stream",
       "stream": "stdout",
       "text": [
        " \r",
        "[*****************48%                  ]  1169119 of 2437152 complete Elapsed: 2.8 minutes\t Remaining: 3.0 minutes"
       ]
      },
      {
       "output_type": "stream",
       "stream": "stdout",
       "text": [
        " \r",
        "[*****************48%                  ]  1179728 of 2437152 complete Elapsed: 2.8 minutes\t Remaining: 3.0 minutes"
       ]
      },
      {
       "output_type": "stream",
       "stream": "stdout",
       "text": [
        " \r",
        "[*****************49%                  ]  1190327 of 2437152 complete Elapsed: 2.9 minutes\t Remaining: 3.0 minutes"
       ]
      },
      {
       "output_type": "stream",
       "stream": "stdout",
       "text": [
        " \r",
        "[*****************49%                  ]  1200933 of 2437152 complete Elapsed: 2.9 minutes\t Remaining: 3.0 minutes"
       ]
      },
      {
       "output_type": "stream",
       "stream": "stdout",
       "text": [
        " \r",
        "[*****************50%                  ]  1211529 of 2437152 complete Elapsed: 2.9 minutes\t Remaining: 2.9 minutes"
       ]
      },
      {
       "output_type": "stream",
       "stream": "stdout",
       "text": [
        " \r",
        "[*****************50%                  ]  1222136 of 2437152 complete Elapsed: 2.9 minutes\t Remaining: 2.9 minutes"
       ]
      },
      {
       "output_type": "stream",
       "stream": "stdout",
       "text": [
        " \r",
        "[*****************51%                  ]  1232738 of 2437152 complete Elapsed: 3.0 minutes\t Remaining: 2.9 minutes"
       ]
      },
      {
       "output_type": "stream",
       "stream": "stdout",
       "text": [
        " \r",
        "[*****************51%                  ]  1243346 of 2437152 complete Elapsed: 3.0 minutes\t Remaining: 2.9 minutes"
       ]
      },
      {
       "output_type": "stream",
       "stream": "stdout",
       "text": [
        " \r",
        "[*****************51%                  ]  1253954 of 2437152 complete Elapsed: 3.0 minutes\t Remaining: 2.8 minutes"
       ]
      },
      {
       "output_type": "stream",
       "stream": "stdout",
       "text": [
        " \r",
        "[*****************52%                  ]  1264569 of 2437152 complete Elapsed: 3.0 minutes\t Remaining: 2.8 minutes"
       ]
      },
      {
       "output_type": "stream",
       "stream": "stdout",
       "text": [
        " \r",
        "[*****************52%                  ]  1274633 of 2437152 complete Elapsed: 3.1 minutes\t Remaining: 2.8 minutes"
       ]
      },
      {
       "output_type": "stream",
       "stream": "stdout",
       "text": [
        " \r",
        "[*****************53%                  ]  1285160 of 2437152 complete Elapsed: 3.1 minutes\t Remaining: 2.8 minutes"
       ]
      },
      {
       "output_type": "stream",
       "stream": "stdout",
       "text": [
        " \r",
        "[*****************53%                  ]  1295778 of 2437152 complete Elapsed: 3.1 minutes\t Remaining: 2.7 minutes"
       ]
      },
      {
       "output_type": "stream",
       "stream": "stdout",
       "text": [
        " \r",
        "[*****************54%*                 ]  1306382 of 2437152 complete Elapsed: 3.1 minutes\t Remaining: 2.7 minutes"
       ]
      },
      {
       "output_type": "stream",
       "stream": "stdout",
       "text": [
        " \r",
        "[*****************54%*                 ]  1316997 of 2437152 complete Elapsed: 3.2 minutes\t Remaining: 2.7 minutes"
       ]
      },
      {
       "output_type": "stream",
       "stream": "stdout",
       "text": [
        " \r",
        "[*****************54%*                 ]  1327617 of 2437152 complete Elapsed: 3.2 minutes\t Remaining: 2.7 minutes"
       ]
      },
      {
       "output_type": "stream",
       "stream": "stdout",
       "text": [
        " \r",
        "[*****************55%*                 ]  1338224 of 2437152 complete Elapsed: 3.2 minutes\t Remaining: 2.6 minutes"
       ]
      },
      {
       "output_type": "stream",
       "stream": "stdout",
       "text": [
        " \r",
        "[*****************55%*                 ]  1348849 of 2437152 complete Elapsed: 3.2 minutes\t Remaining: 2.6 minutes"
       ]
      },
      {
       "output_type": "stream",
       "stream": "stdout",
       "text": [
        " \r",
        "[*****************56%*                 ]  1358289 of 2437152 complete Elapsed: 3.6 minutes\t Remaining: 2.8 minutes"
       ]
      },
      {
       "output_type": "stream",
       "stream": "stdout",
       "text": [
        " \r",
        "[*****************56%*                 ]  1369105 of 2437152 complete Elapsed: 3.6 minutes\t Remaining: 2.8 minutes"
       ]
      },
      {
       "output_type": "stream",
       "stream": "stdout",
       "text": [
        " \r",
        "[*****************57%**                ]  1379834 of 2437152 complete Elapsed: 3.6 minutes\t Remaining: 2.8 minutes"
       ]
      },
      {
       "output_type": "stream",
       "stream": "stdout",
       "text": [
        " \r",
        "[*****************57%**                ]  1387937 of 2437152 complete Elapsed: 3.6 minutes\t Remaining: 2.8 minutes"
       ]
      },
      {
       "output_type": "stream",
       "stream": "stdout",
       "text": [
        " \r",
        "[*****************57%**                ]  1398702 of 2437152 complete Elapsed: 3.7 minutes\t Remaining: 2.7 minutes"
       ]
      },
      {
       "output_type": "stream",
       "stream": "stdout",
       "text": [
        " \r",
        "[*****************58%**                ]  1409445 of 2437152 complete Elapsed: 3.7 minutes\t Remaining: 2.7 minutes"
       ]
      },
      {
       "output_type": "stream",
       "stream": "stdout",
       "text": [
        " \r",
        "[*****************58%**                ]  1420147 of 2437152 complete Elapsed: 3.7 minutes\t Remaining: 2.7 minutes"
       ]
      },
      {
       "output_type": "stream",
       "stream": "stdout",
       "text": [
        " \r",
        "[*****************59%**                ]  1430837 of 2437152 complete Elapsed: 3.7 minutes\t Remaining: 2.6 minutes"
       ]
      },
      {
       "output_type": "stream",
       "stream": "stdout",
       "text": [
        " \r",
        "[*****************59%**                ]  1441512 of 2437152 complete Elapsed: 3.8 minutes\t Remaining: 2.6 minutes"
       ]
      },
      {
       "output_type": "stream",
       "stream": "stdout",
       "text": [
        " \r",
        "[*****************60%***               ]  1452156 of 2437152 complete Elapsed: 3.8 minutes\t Remaining: 2.6 minutes"
       ]
      },
      {
       "output_type": "stream",
       "stream": "stdout",
       "text": [
        " \r",
        "[*****************60%***               ]  1462816 of 2437152 complete Elapsed: 3.8 minutes\t Remaining: 2.5 minutes"
       ]
      },
      {
       "output_type": "stream",
       "stream": "stdout",
       "text": [
        " \r",
        "[*****************60%***               ]  1473468 of 2437152 complete Elapsed: 3.8 minutes\t Remaining: 2.5 minutes"
       ]
      },
      {
       "output_type": "stream",
       "stream": "stdout",
       "text": [
        " \r",
        "[*****************61%***               ]  1484095 of 2437152 complete Elapsed: 3.9 minutes\t Remaining: 2.5 minutes"
       ]
      },
      {
       "output_type": "stream",
       "stream": "stdout",
       "text": [
        " \r",
        "[*****************61%***               ]  1494714 of 2437152 complete Elapsed: 3.9 minutes\t Remaining: 2.5 minutes"
       ]
      },
      {
       "output_type": "stream",
       "stream": "stdout",
       "text": [
        " \r",
        "[*****************62%****              ]  1504606 of 2437152 complete Elapsed: 3.9 minutes\t Remaining: 2.4 minutes"
       ]
      },
      {
       "output_type": "stream",
       "stream": "stdout",
       "text": [
        " \r",
        "[*****************62%****              ]  1515141 of 2437152 complete Elapsed: 3.9 minutes\t Remaining: 2.4 minutes"
       ]
      },
      {
       "output_type": "stream",
       "stream": "stdout",
       "text": [
        " \r",
        "[*****************63%****              ]  1525764 of 2437152 complete Elapsed: 4.0 minutes\t Remaining: 2.4 minutes"
       ]
      },
      {
       "output_type": "stream",
       "stream": "stdout",
       "text": [
        " \r",
        "[*****************63%****              ]  1536386 of 2437152 complete Elapsed: 4.0 minutes\t Remaining: 2.3 minutes"
       ]
      },
      {
       "output_type": "stream",
       "stream": "stdout",
       "text": [
        " \r",
        "[*****************63%****              ]  1546994 of 2437152 complete Elapsed: 4.0 minutes\t Remaining: 2.3 minutes"
       ]
      },
      {
       "output_type": "stream",
       "stream": "stderr",
       "text": [
        "WARN: pos 65947739 is less than or equal to last_pos 65947739\n"
       ]
      },
      {
       "output_type": "stream",
       "stream": "stdout",
       "text": [
        " \r",
        "[*****************64%****              ]  1557531 of 2437152 complete Elapsed: 4.0 minutes\t Remaining: 2.3 minutes"
       ]
      },
      {
       "output_type": "stream",
       "stream": "stdout",
       "text": [
        " \r",
        "[*****************64%****              ]  1568136 of 2437152 complete Elapsed: 4.1 minutes\t Remaining: 2.3 minutes"
       ]
      },
      {
       "output_type": "stream",
       "stream": "stdout",
       "text": [
        " \r",
        "[*****************65%*****             ]  1578760 of 2437152 complete Elapsed: 4.1 minutes\t Remaining: 2.2 minutes"
       ]
      },
      {
       "output_type": "stream",
       "stream": "stdout",
       "text": [
        " \r",
        "[*****************65%*****             ]  1589400 of 2437152 complete Elapsed: 4.1 minutes\t Remaining: 2.2 minutes"
       ]
      },
      {
       "output_type": "stream",
       "stream": "stdout",
       "text": [
        " \r",
        "[*****************66%*****             ]  1600027 of 2437152 complete Elapsed: 4.1 minutes\t Remaining: 2.2 minutes"
       ]
      },
      {
       "output_type": "stream",
       "stream": "stdout",
       "text": [
        " \r",
        "[*****************66%*****             ]  1610649 of 2437152 complete Elapsed: 4.2 minutes\t Remaining: 2.1 minutes"
       ]
      },
      {
       "output_type": "stream",
       "stream": "stdout",
       "text": [
        " \r",
        "[*****************67%*****             ]  1621276 of 2437152 complete Elapsed: 4.2 minutes\t Remaining: 2.1 minutes"
       ]
      },
      {
       "output_type": "stream",
       "stream": "stdout",
       "text": [
        " \r",
        "[*****************67%*****             ]  1629376 of 2437152 complete Elapsed: 4.2 minutes\t Remaining: 2.1 minutes"
       ]
      },
      {
       "output_type": "stream",
       "stream": "stdout",
       "text": [
        " \r",
        "[*****************67%*****             ]  1640047 of 2437152 complete Elapsed: 4.2 minutes\t Remaining: 2.1 minutes"
       ]
      },
      {
       "output_type": "stream",
       "stream": "stdout",
       "text": [
        " \r",
        "[*****************68%******            ]  1650720 of 2437152 complete Elapsed: 4.3 minutes\t Remaining: 2.0 minutes"
       ]
      },
      {
       "output_type": "stream",
       "stream": "stdout",
       "text": [
        " \r",
        "[*****************68%******            ]  1661386 of 2437152 complete Elapsed: 4.3 minutes\t Remaining: 2.0 minutes"
       ]
      },
      {
       "output_type": "stream",
       "stream": "stdout",
       "text": [
        " \r",
        "[*****************69%******            ]  1672080 of 2437152 complete Elapsed: 4.3 minutes\t Remaining: 2.0 minutes"
       ]
      },
      {
       "output_type": "stream",
       "stream": "stdout",
       "text": [
        " \r",
        "[*****************69%******            ]  1682752 of 2437152 complete Elapsed: 4.3 minutes\t Remaining: 1.9 minutes"
       ]
      },
      {
       "output_type": "stream",
       "stream": "stdout",
       "text": [
        " \r",
        "[*****************69%******            ]  1693488 of 2437152 complete Elapsed: 4.4 minutes\t Remaining: 1.9 minutes"
       ]
      },
      {
       "output_type": "stream",
       "stream": "stdout",
       "text": [
        " \r",
        "[*****************70%*******           ]  1704196 of 2437152 complete Elapsed: 4.4 minutes\t Remaining: 1.9 minutes"
       ]
      },
      {
       "output_type": "stream",
       "stream": "stdout",
       "text": [
        " \r",
        "[*****************70%*******           ]  1714929 of 2437152 complete Elapsed: 4.4 minutes\t Remaining: 1.9 minutes"
       ]
      },
      {
       "output_type": "stream",
       "stream": "stdout",
       "text": [
        " \r",
        "[*****************71%*******           ]  1725598 of 2437152 complete Elapsed: 4.4 minutes\t Remaining: 1.8 minutes"
       ]
      },
      {
       "output_type": "stream",
       "stream": "stdout",
       "text": [
        " \r",
        "[*****************71%*******           ]  1736290 of 2437152 complete Elapsed: 4.5 minutes\t Remaining: 1.8 minutes"
       ]
      },
      {
       "output_type": "stream",
       "stream": "stdout",
       "text": [
        " \r",
        "[*****************72%*******           ]  1744589 of 2437152 complete Elapsed: 4.5 minutes\t Remaining: 1.8 minutes"
       ]
      },
      {
       "output_type": "stream",
       "stream": "stdout",
       "text": [
        " \r",
        "[*****************72%*******           ]  1755218 of 2437152 complete Elapsed: 4.5 minutes\t Remaining: 1.8 minutes"
       ]
      },
      {
       "output_type": "stream",
       "stream": "stdout",
       "text": [
        " \r",
        "[*****************72%*******           ]  1765929 of 2437152 complete Elapsed: 4.5 minutes\t Remaining: 1.7 minutes"
       ]
      },
      {
       "output_type": "stream",
       "stream": "stdout",
       "text": [
        " \r",
        "[*****************73%********          ]  1776579 of 2437152 complete Elapsed: 4.6 minutes\t Remaining: 1.7 minutes"
       ]
      },
      {
       "output_type": "stream",
       "stream": "stdout",
       "text": [
        " \r",
        "[*****************73%********          ]  1787255 of 2437152 complete Elapsed: 4.6 minutes\t Remaining: 1.7 minutes"
       ]
      },
      {
       "output_type": "stream",
       "stream": "stdout",
       "text": [
        " \r",
        "[*****************74%********          ]  1797932 of 2437152 complete Elapsed: 4.6 minutes\t Remaining: 1.6 minutes"
       ]
      },
      {
       "output_type": "stream",
       "stream": "stdout",
       "text": [
        " \r",
        "[*****************74%********          ]  1808686 of 2437152 complete Elapsed: 4.6 minutes\t Remaining: 1.6 minutes"
       ]
      },
      {
       "output_type": "stream",
       "stream": "stdout",
       "text": [
        " \r",
        "[*****************75%*********         ]  1819394 of 2437152 complete Elapsed: 4.7 minutes\t Remaining: 1.6 minutes"
       ]
      },
      {
       "output_type": "stream",
       "stream": "stdout",
       "text": [
        " \r",
        "[*****************75%*********         ]  1827770 of 2437152 complete Elapsed: 4.7 minutes\t Remaining: 1.6 minutes"
       ]
      },
      {
       "output_type": "stream",
       "stream": "stdout",
       "text": [
        " \r",
        "[*****************75%*********         ]  1838356 of 2437152 complete Elapsed: 4.7 minutes\t Remaining: 1.5 minutes"
       ]
      },
      {
       "output_type": "stream",
       "stream": "stdout",
       "text": [
        " \r",
        "[*****************76%*********         ]  1848971 of 2437152 complete Elapsed: 4.7 minutes\t Remaining: 1.5 minutes"
       ]
      },
      {
       "output_type": "stream",
       "stream": "stdout",
       "text": [
        " \r",
        "[*****************76%*********         ]  1859586 of 2437152 complete Elapsed: 4.8 minutes\t Remaining: 1.5 minutes"
       ]
      },
      {
       "output_type": "stream",
       "stream": "stdout",
       "text": [
        " \r",
        "[*****************77%*********         ]  1870240 of 2437152 complete Elapsed: 4.8 minutes\t Remaining: 1.5 minutes"
       ]
      },
      {
       "output_type": "stream",
       "stream": "stdout",
       "text": [
        " \r",
        "[*****************77%*********         ]  1880873 of 2437152 complete Elapsed: 4.8 minutes\t Remaining: 1.4 minutes"
       ]
      },
      {
       "output_type": "stream",
       "stream": "stdout",
       "text": [
        " \r",
        "[*****************78%**********        ]  1891519 of 2437152 complete Elapsed: 4.8 minutes\t Remaining: 1.4 minutes"
       ]
      },
      {
       "output_type": "stream",
       "stream": "stdout",
       "text": [
        " \r",
        "[*****************78%**********        ]  1902131 of 2437152 complete Elapsed: 4.9 minutes\t Remaining: 1.4 minutes"
       ]
      },
      {
       "output_type": "stream",
       "stream": "stdout",
       "text": [
        " \r",
        "[*****************78%**********        ]  1910520 of 2437152 complete Elapsed: 4.9 minutes\t Remaining: 1.4 minutes"
       ]
      },
      {
       "output_type": "stream",
       "stream": "stdout",
       "text": [
        " \r",
        "[*****************79%**********        ]  1921170 of 2437152 complete Elapsed: 4.9 minutes\t Remaining: 1.3 minutes"
       ]
      },
      {
       "output_type": "stream",
       "stream": "stdout",
       "text": [
        " \r",
        "[*****************79%**********        ]  1931834 of 2437152 complete Elapsed: 4.9 minutes\t Remaining: 1.3 minutes"
       ]
      },
      {
       "output_type": "stream",
       "stream": "stdout",
       "text": [
        " \r",
        "[*****************80%**********        ]  1942482 of 2437152 complete Elapsed: 5.0 minutes\t Remaining: 1.3 minutes"
       ]
      },
      {
       "output_type": "stream",
       "stream": "stdout",
       "text": [
        " \r",
        "[*****************80%**********        ]  1953134 of 2437152 complete Elapsed: 5.0 minutes\t Remaining: 1.2 minutes"
       ]
      },
      {
       "output_type": "stream",
       "stream": "stdout",
       "text": [
        " \r",
        "[*****************81%***********       ]  1963711 of 2437152 complete Elapsed: 5.0 minutes\t Remaining: 1.2 minutes"
       ]
      },
      {
       "output_type": "stream",
       "stream": "stdout",
       "text": [
        " \r",
        "[*****************81%***********       ]  1974339 of 2437152 complete Elapsed: 5.0 minutes\t Remaining: 1.2 minutes"
       ]
      },
      {
       "output_type": "stream",
       "stream": "stdout",
       "text": [
        " \r",
        "[*****************81%***********       ]  1982678 of 2437152 complete Elapsed: 5.1 minutes\t Remaining: 1.2 minutes"
       ]
      },
      {
       "output_type": "stream",
       "stream": "stdout",
       "text": [
        " \r",
        "[*****************82%***********       ]  1993316 of 2437152 complete Elapsed: 5.1 minutes\t Remaining: 1.1 minutes"
       ]
      },
      {
       "output_type": "stream",
       "stream": "stdout",
       "text": [
        " \r",
        "[*****************82%***********       ]  2003919 of 2437152 complete Elapsed: 5.1 minutes\t Remaining: 1.1 minutes"
       ]
      },
      {
       "output_type": "stream",
       "stream": "stdout",
       "text": [
        " \r",
        "[*****************83%************      ]  2014562 of 2437152 complete Elapsed: 5.1 minutes\t Remaining: 1.1 minutes"
       ]
      },
      {
       "output_type": "stream",
       "stream": "stdout",
       "text": [
        " \r",
        "[*****************83%************      ]  2025219 of 2437152 complete Elapsed: 5.2 minutes\t Remaining: 1.1 minutes"
       ]
      },
      {
       "output_type": "stream",
       "stream": "stdout",
       "text": [
        " \r",
        "[*****************84%************      ]  2035917 of 2437152 complete Elapsed: 5.2 minutes\t Remaining: 1.0 minutes"
       ]
      },
      {
       "output_type": "stream",
       "stream": "stdout",
       "text": [
        " \r",
        "[*****************84%************      ]  2047057 of 2437152 complete Elapsed: 5.2 minutes\t Remaining: 1.0 minutes"
       ]
      },
      {
       "output_type": "stream",
       "stream": "stdout",
       "text": [
        " \r",
        "[*****************84%************      ]  2058163 of 2437152 complete Elapsed: 5.2 minutes\t Remaining: 1.0 minutes"
       ]
      },
      {
       "output_type": "stream",
       "stream": "stderr",
       "text": [
        "WARN: pos 12638312 is less than or equal to last_pos 12638312\n"
       ]
      },
      {
       "output_type": "stream",
       "stream": "stdout",
       "text": [
        " \r",
        "[*****************85%************      ]  2067103 of 2437152 complete Elapsed: 5.3 minutes\t Remaining: 0.9 minutes"
       ]
      },
      {
       "output_type": "stream",
       "stream": "stdout",
       "text": [
        " \r",
        "[*****************85%************      ]  2078225 of 2437152 complete Elapsed: 5.3 minutes\t Remaining: 0.9 minutes"
       ]
      },
      {
       "output_type": "stream",
       "stream": "stdout",
       "text": [
        " \r",
        "[*****************86%*************     ]  2089330 of 2437152 complete Elapsed: 5.3 minutes\t Remaining: 0.9 minutes"
       ]
      },
      {
       "output_type": "stream",
       "stream": "stdout",
       "text": [
        " \r",
        "[*****************86%*************     ]  2100459 of 2437152 complete Elapsed: 5.3 minutes\t Remaining: 0.9 minutes"
       ]
      },
      {
       "output_type": "stream",
       "stream": "stdout",
       "text": [
        " \r",
        "[*****************87%*************     ]  2111593 of 2437152 complete Elapsed: 5.4 minutes\t Remaining: 0.8 minutes"
       ]
      },
      {
       "output_type": "stream",
       "stream": "stdout",
       "text": [
        " \r",
        "[*****************87%*************     ]  2122728 of 2437152 complete Elapsed: 5.4 minutes\t Remaining: 0.8 minutes"
       ]
      },
      {
       "output_type": "stream",
       "stream": "stdout",
       "text": [
        " \r",
        "[*****************87%*************     ]  2131643 of 2437152 complete Elapsed: 5.4 minutes\t Remaining: 0.8 minutes"
       ]
      },
      {
       "output_type": "stream",
       "stream": "stdout",
       "text": [
        " \r",
        "[*****************88%*************     ]  2142763 of 2437152 complete Elapsed: 5.4 minutes\t Remaining: 0.7 minutes"
       ]
      },
      {
       "output_type": "stream",
       "stream": "stdout",
       "text": [
        " \r",
        "[*****************88%*************     ]  2153882 of 2437152 complete Elapsed: 5.5 minutes\t Remaining: 0.7 minutes"
       ]
      },
      {
       "output_type": "stream",
       "stream": "stdout",
       "text": [
        " \r",
        "[*****************89%**************    ]  2165000 of 2437152 complete Elapsed: 5.5 minutes\t Remaining: 0.7 minutes"
       ]
      },
      {
       "output_type": "stream",
       "stream": "stdout",
       "text": [
        " \r",
        "[*****************89%**************    ]  2176113 of 2437152 complete Elapsed: 5.5 minutes\t Remaining: 0.7 minutes"
       ]
      },
      {
       "output_type": "stream",
       "stream": "stdout",
       "text": [
        " \r",
        "[*****************90%**************    ]  2187241 of 2437152 complete Elapsed: 5.5 minutes\t Remaining: 0.6 minutes"
       ]
      },
      {
       "output_type": "stream",
       "stream": "stdout",
       "text": [
        " \r",
        "[*****************90%**************    ]  2198376 of 2437152 complete Elapsed: 5.6 minutes\t Remaining: 0.6 minutes"
       ]
      },
      {
       "output_type": "stream",
       "stream": "stdout",
       "text": [
        " \r",
        "[*****************91%***************   ]  2207285 of 2437152 complete Elapsed: 5.6 minutes\t Remaining: 0.6 minutes"
       ]
      },
      {
       "output_type": "stream",
       "stream": "stdout",
       "text": [
        " \r",
        "[*****************91%***************   ]  2218397 of 2437152 complete Elapsed: 5.6 minutes\t Remaining: 0.6 minutes"
       ]
      },
      {
       "output_type": "stream",
       "stream": "stdout",
       "text": [
        " \r",
        "[*****************91%***************   ]  2229499 of 2437152 complete Elapsed: 5.7 minutes\t Remaining: 0.5 minutes"
       ]
      },
      {
       "output_type": "stream",
       "stream": "stdout",
       "text": [
        " \r",
        "[*****************92%***************   ]  2240607 of 2437152 complete Elapsed: 5.7 minutes\t Remaining: 0.5 minutes"
       ]
      },
      {
       "output_type": "stream",
       "stream": "stdout",
       "text": [
        " \r",
        "[*****************92%***************   ]  2251707 of 2437152 complete Elapsed: 5.7 minutes\t Remaining: 0.5 minutes"
       ]
      },
      {
       "output_type": "stream",
       "stream": "stdout",
       "text": [
        " \r",
        "[*****************93%***************   ]  2260713 of 2437152 complete Elapsed: 5.7 minutes\t Remaining: 0.4 minutes"
       ]
      },
      {
       "output_type": "stream",
       "stream": "stdout",
       "text": [
        " \r",
        "[*****************93%***************   ]  2271833 of 2437152 complete Elapsed: 5.8 minutes\t Remaining: 0.4 minutes"
       ]
      },
      {
       "output_type": "stream",
       "stream": "stdout",
       "text": [
        " \r",
        "[*****************94%****************  ]  2282963 of 2437152 complete Elapsed: 5.8 minutes\t Remaining: 0.4 minutes"
       ]
      },
      {
       "output_type": "stream",
       "stream": "stdout",
       "text": [
        " \r",
        "[*****************94%****************  ]  2294099 of 2437152 complete Elapsed: 5.8 minutes\t Remaining: 0.4 minutes"
       ]
      },
      {
       "output_type": "stream",
       "stream": "stdout",
       "text": [
        " \r",
        "[*****************95%****************  ]  2305245 of 2437152 complete Elapsed: 5.8 minutes\t Remaining: 0.3 minutes"
       ]
      },
      {
       "output_type": "stream",
       "stream": "stdout",
       "text": [
        " \r",
        "[*****************95%****************  ]  2306596 of 2437152 complete Elapsed: 6.2 minutes\t Remaining: 0.3 minutes"
       ]
      },
      {
       "output_type": "stream",
       "stream": "stdout",
       "text": [
        " \r",
        "[*****************95%****************  ]  2315695 of 2437152 complete Elapsed: 6.2 minutes\t Remaining: 0.3 minutes"
       ]
      },
      {
       "output_type": "stream",
       "stream": "stdout",
       "text": [
        " \r",
        "[*****************95%****************  ]  2326742 of 2437152 complete Elapsed: 6.2 minutes\t Remaining: 0.3 minutes"
       ]
      },
      {
       "output_type": "stream",
       "stream": "stdout",
       "text": [
        " \r",
        "[*****************96%****************  ]  2337815 of 2437152 complete Elapsed: 6.3 minutes\t Remaining: 0.3 minutes"
       ]
      },
      {
       "output_type": "stream",
       "stream": "stdout",
       "text": [
        " \r",
        "[*****************96%****************  ]  2346946 of 2437152 complete Elapsed: 6.3 minutes\t Remaining: 0.2 minutes"
       ]
      },
      {
       "output_type": "stream",
       "stream": "stdout",
       "text": [
        " \r",
        "[*****************97%***************** ]  2358015 of 2437152 complete Elapsed: 6.3 minutes\t Remaining: 0.2 minutes"
       ]
      },
      {
       "output_type": "stream",
       "stream": "stdout",
       "text": [
        " \r",
        "[*****************97%***************** ]  2369081 of 2437152 complete Elapsed: 6.3 minutes\t Remaining: 0.2 minutes"
       ]
      },
      {
       "output_type": "stream",
       "stream": "stdout",
       "text": [
        " \r",
        "[*****************98%***************** ]  2380146 of 2437152 complete Elapsed: 6.4 minutes\t Remaining: 0.2 minutes"
       ]
      },
      {
       "output_type": "stream",
       "stream": "stdout",
       "text": [
        " \r",
        "[*****************98%***************** ]  2389048 of 2437152 complete Elapsed: 6.4 minutes\t Remaining: 0.1 minutes"
       ]
      },
      {
       "output_type": "stream",
       "stream": "stdout",
       "text": [
        " \r",
        "[*****************98%***************** ]  2400088 of 2437152 complete Elapsed: 6.4 minutes\t Remaining: 0.1 minutes"
       ]
      },
      {
       "output_type": "stream",
       "stream": "stdout",
       "text": [
        " \r",
        "[*****************99%******************]  2411141 of 2437152 complete Elapsed: 6.4 minutes\t Remaining: 0.1 minutes"
       ]
      },
      {
       "output_type": "stream",
       "stream": "stdout",
       "text": [
        " \r",
        "[*****************99%******************]  2422205 of 2437152 complete Elapsed: 6.5 minutes\t Remaining: 0.0 minutes"
       ]
      },
      {
       "output_type": "stream",
       "stream": "stdout",
       "text": [
        " \r",
        "[                  0%                  ]"
       ]
      },
      {
       "output_type": "stream",
       "stream": "stdout",
       "text": [
        " \r",
        "[                  1%                  ]  8766 of 1273821 complete Elapsed: 0.0 minutes\t Remaining: 3.6 minutes"
       ]
      },
      {
       "output_type": "stream",
       "stream": "stdout",
       "text": [
        " \r",
        "[*                 2%                  ]  19368 of 1273821 complete Elapsed: 0.1 minutes\t Remaining: 3.2 minutes"
       ]
      },
      {
       "output_type": "stream",
       "stream": "stdout",
       "text": [
        " \r",
        "[*                 2%                  ]  29983 of 1273821 complete Elapsed: 0.1 minutes\t Remaining: 3.1 minutes"
       ]
      },
      {
       "output_type": "stream",
       "stream": "stdout",
       "text": [
        " \r",
        "[*                 3%                  ]  40575 of 1273821 complete Elapsed: 0.1 minutes\t Remaining: 3.0 minutes"
       ]
      },
      {
       "output_type": "stream",
       "stream": "stdout",
       "text": [
        " \r",
        "[**                4%                  ]  51154 of 1273821 complete Elapsed: 0.1 minutes\t Remaining: 3.0 minutes"
       ]
      },
      {
       "output_type": "stream",
       "stream": "stdout",
       "text": [
        " \r",
        "[**                5%                  ]  61743 of 1273821 complete Elapsed: 0.2 minutes\t Remaining: 2.9 minutes"
       ]
      },
      {
       "output_type": "stream",
       "stream": "stdout",
       "text": [
        " \r",
        "[**                6%                  ]  72316 of 1273821 complete Elapsed: 0.2 minutes\t Remaining: 2.9 minutes"
       ]
      },
      {
       "output_type": "stream",
       "stream": "stdout",
       "text": [
        " \r",
        "[***               7%                  ]  82885 of 1273821 complete Elapsed: 0.2 minutes\t Remaining: 2.9 minutes"
       ]
      },
      {
       "output_type": "stream",
       "stream": "stdout",
       "text": [
        " \r",
        "[***               7%                  ]  93451 of 1273821 complete Elapsed: 0.2 minutes\t Remaining: 2.8 minutes"
       ]
      },
      {
       "output_type": "stream",
       "stream": "stdout",
       "text": [
        " \r",
        "[***               8%                  ]  102303 of 1273821 complete Elapsed: 0.3 minutes\t Remaining: 2.9 minutes"
       ]
      },
      {
       "output_type": "stream",
       "stream": "stdout",
       "text": [
        " \r",
        "[***               9%                  ]  112888 of 1273821 complete Elapsed: 0.3 minutes\t Remaining: 2.8 minutes"
       ]
      },
      {
       "output_type": "stream",
       "stream": "stdout",
       "text": [
        " \r",
        "[****             10%                  ]  123454 of 1273821 complete Elapsed: 0.3 minutes\t Remaining: 2.8 minutes"
       ]
      },
      {
       "output_type": "stream",
       "stream": "stdout",
       "text": [
        " \r",
        "[****             11%                  ]  134015 of 1273821 complete Elapsed: 0.3 minutes\t Remaining: 2.8 minutes"
       ]
      },
      {
       "output_type": "stream",
       "stream": "stdout",
       "text": [
        " \r",
        "[****             11%                  ]  144594 of 1273821 complete Elapsed: 0.4 minutes\t Remaining: 2.7 minutes"
       ]
      },
      {
       "output_type": "stream",
       "stream": "stdout",
       "text": [
        " \r",
        "[*****            12%                  ]  155154 of 1273821 complete Elapsed: 0.4 minutes\t Remaining: 2.7 minutes"
       ]
      },
      {
       "output_type": "stream",
       "stream": "stdout",
       "text": [
        " \r",
        "[*****            13%                  ]  165731 of 1273821 complete Elapsed: 0.4 minutes\t Remaining: 2.7 minutes"
       ]
      },
      {
       "output_type": "stream",
       "stream": "stdout",
       "text": [
        " \r",
        "[*****            14%                  ]  176386 of 1273821 complete Elapsed: 0.4 minutes\t Remaining: 2.6 minutes"
       ]
      },
      {
       "output_type": "stream",
       "stream": "stdout",
       "text": [
        " \r",
        "[******           15%                  ]  187005 of 1273821 complete Elapsed: 0.5 minutes\t Remaining: 2.6 minutes"
       ]
      },
      {
       "output_type": "stream",
       "stream": "stdout",
       "text": [
        " \r",
        "[******           16%                  ]  197650 of 1273821 complete Elapsed: 0.5 minutes\t Remaining: 2.6 minutes"
       ]
      },
      {
       "output_type": "stream",
       "stream": "stdout",
       "text": [
        " \r",
        "[******           16%                  ]  207284 of 1273821 complete Elapsed: 0.5 minutes\t Remaining: 2.6 minutes"
       ]
      },
      {
       "output_type": "stream",
       "stream": "stdout",
       "text": [
        " \r",
        "[******           17%                  ]  217846 of 1273821 complete Elapsed: 0.5 minutes\t Remaining: 2.6 minutes"
       ]
      },
      {
       "output_type": "stream",
       "stream": "stdout",
       "text": [
        " \r",
        "[*******          18%                  ]  228524 of 1273821 complete Elapsed: 0.6 minutes\t Remaining: 2.5 minutes"
       ]
      },
      {
       "output_type": "stream",
       "stream": "stdout",
       "text": [
        " \r",
        "[*******          19%                  ]  239154 of 1273821 complete Elapsed: 0.6 minutes\t Remaining: 2.5 minutes"
       ]
      },
      {
       "output_type": "stream",
       "stream": "stdout",
       "text": [
        " \r",
        "[********         20%                  ]  249816 of 1273821 complete Elapsed: 0.6 minutes\t Remaining: 2.5 minutes"
       ]
      },
      {
       "output_type": "stream",
       "stream": "stdout",
       "text": [
        " \r",
        "[********         20%                  ]  260454 of 1273821 complete Elapsed: 0.6 minutes\t Remaining: 2.4 minutes"
       ]
      },
      {
       "output_type": "stream",
       "stream": "stdout",
       "text": [
        " \r",
        "[********         21%                  ]  271078 of 1273821 complete Elapsed: 0.7 minutes\t Remaining: 2.4 minutes"
       ]
      },
      {
       "output_type": "stream",
       "stream": "stdout",
       "text": [
        " \r",
        "[********         22%                  ]  281716 of 1273821 complete Elapsed: 0.7 minutes\t Remaining: 2.4 minutes"
       ]
      },
      {
       "output_type": "stream",
       "stream": "stdout",
       "text": [
        " \r",
        "[*********        23%                  ]  292353 of 1273821 complete Elapsed: 0.7 minutes\t Remaining: 2.4 minutes"
       ]
      },
      {
       "output_type": "stream",
       "stream": "stdout",
       "text": [
        " \r",
        "[*********        24%                  ]  301356 of 1273821 complete Elapsed: 0.7 minutes\t Remaining: 2.3 minutes"
       ]
      },
      {
       "output_type": "stream",
       "stream": "stdout",
       "text": [
        " \r",
        "[*********        24%                  ]  311963 of 1273821 complete Elapsed: 0.8 minutes\t Remaining: 2.3 minutes"
       ]
      },
      {
       "output_type": "stream",
       "stream": "stdout",
       "text": [
        " \r",
        "[**********       25%                  ]  322588 of 1273821 complete Elapsed: 0.8 minutes\t Remaining: 2.3 minutes"
       ]
      },
      {
       "output_type": "stream",
       "stream": "stdout",
       "text": [
        " \r",
        "[**********       26%                  ]  333214 of 1273821 complete Elapsed: 0.8 minutes\t Remaining: 2.3 minutes"
       ]
      },
      {
       "output_type": "stream",
       "stream": "stdout",
       "text": [
        " \r",
        "[**********       27%                  ]  343806 of 1273821 complete Elapsed: 0.8 minutes\t Remaining: 2.2 minutes"
       ]
      },
      {
       "output_type": "stream",
       "stream": "stdout",
       "text": [
        " \r",
        "[***********      28%                  ]  354448 of 1273821 complete Elapsed: 0.9 minutes\t Remaining: 2.2 minutes"
       ]
      },
      {
       "output_type": "stream",
       "stream": "stdout",
       "text": [
        " \r",
        "[***********      29%                  ]  365063 of 1273821 complete Elapsed: 0.9 minutes\t Remaining: 2.2 minutes"
       ]
      },
      {
       "output_type": "stream",
       "stream": "stdout",
       "text": [
        " \r",
        "[***********      29%                  ]  375668 of 1273821 complete Elapsed: 0.9 minutes\t Remaining: 2.2 minutes"
       ]
      },
      {
       "output_type": "stream",
       "stream": "stdout",
       "text": [
        " \r",
        "[***********      30%                  ]  386272 of 1273821 complete Elapsed: 0.9 minutes\t Remaining: 2.1 minutes"
       ]
      },
      {
       "output_type": "stream",
       "stream": "stdout",
       "text": [
        " \r",
        "[************     31%                  ]  395328 of 1273821 complete Elapsed: 1.0 minutes\t Remaining: 2.1 minutes"
       ]
      },
      {
       "output_type": "stream",
       "stream": "stdout",
       "text": [
        " \r",
        "[************     32%                  ]  405935 of 1273821 complete Elapsed: 1.0 minutes\t Remaining: 2.1 minutes"
       ]
      },
      {
       "output_type": "stream",
       "stream": "stdout",
       "text": [
        " \r",
        "[*************    33%                  ]  416558 of 1273821 complete Elapsed: 1.0 minutes\t Remaining: 2.1 minutes"
       ]
      },
      {
       "output_type": "stream",
       "stream": "stdout",
       "text": [
        " \r",
        "[*************    34%                  ]  427129 of 1273821 complete Elapsed: 1.0 minutes\t Remaining: 2.0 minutes"
       ]
      },
      {
       "output_type": "stream",
       "stream": "stdout",
       "text": [
        " \r",
        "[*************    34%                  ]  437743 of 1273821 complete Elapsed: 1.1 minutes\t Remaining: 2.0 minutes"
       ]
      },
      {
       "output_type": "stream",
       "stream": "stdout",
       "text": [
        " \r",
        "[*************    35%                  ]  448321 of 1273821 complete Elapsed: 1.1 minutes\t Remaining: 2.0 minutes"
       ]
      },
      {
       "output_type": "stream",
       "stream": "stdout",
       "text": [
        " \r",
        "[**************   36%                  ]  458858 of 1273821 complete Elapsed: 1.1 minutes\t Remaining: 2.0 minutes"
       ]
      },
      {
       "output_type": "stream",
       "stream": "stdout",
       "text": [
        " \r",
        "[**************   37%                  ]  469438 of 1273821 complete Elapsed: 1.1 minutes\t Remaining: 1.9 minutes"
       ]
      },
      {
       "output_type": "stream",
       "stream": "stdout",
       "text": [
        " \r",
        "[**************   38%                  ]  478361 of 1273821 complete Elapsed: 1.2 minutes\t Remaining: 1.9 minutes"
       ]
      },
      {
       "output_type": "stream",
       "stream": "stdout",
       "text": [
        " \r",
        "[**************   38%                  ]  488914 of 1273821 complete Elapsed: 1.2 minutes\t Remaining: 1.9 minutes"
       ]
      },
      {
       "output_type": "stream",
       "stream": "stdout",
       "text": [
        " \r",
        "[***************  39%                  ]  499464 of 1273821 complete Elapsed: 1.2 minutes\t Remaining: 1.9 minutes"
       ]
      },
      {
       "output_type": "stream",
       "stream": "stdout",
       "text": [
        " \r",
        "[***************  40%                  ]  510052 of 1273821 complete Elapsed: 1.2 minutes\t Remaining: 1.8 minutes"
       ]
      },
      {
       "output_type": "stream",
       "stream": "stdout",
       "text": [
        " \r",
        "[**************** 41%                  ]  520615 of 1273821 complete Elapsed: 1.3 minutes\t Remaining: 1.8 minutes"
       ]
      },
      {
       "output_type": "stream",
       "stream": "stdout",
       "text": [
        " \r",
        "[**************** 42%                  ]  531185 of 1273821 complete Elapsed: 1.3 minutes\t Remaining: 1.8 minutes"
       ]
      },
      {
       "output_type": "stream",
       "stream": "stdout",
       "text": [
        " \r",
        "[**************** 43%                  ]  541694 of 1273821 complete Elapsed: 1.3 minutes\t Remaining: 1.8 minutes"
       ]
      },
      {
       "output_type": "stream",
       "stream": "stdout",
       "text": [
        " \r",
        "[**************** 43%                  ]  552270 of 1273821 complete Elapsed: 1.3 minutes\t Remaining: 1.7 minutes"
       ]
      },
      {
       "output_type": "stream",
       "stream": "stdout",
       "text": [
        " \r",
        "[*****************44%                  ]  561318 of 1273821 complete Elapsed: 1.4 minutes\t Remaining: 1.7 minutes"
       ]
      },
      {
       "output_type": "stream",
       "stream": "stdout",
       "text": [
        " \r",
        "[*****************45%                  ]  571887 of 1273821 complete Elapsed: 1.4 minutes\t Remaining: 1.7 minutes"
       ]
      },
      {
       "output_type": "stream",
       "stream": "stdout",
       "text": [
        " \r",
        "[*****************46%                  ]  582453 of 1273821 complete Elapsed: 1.4 minutes\t Remaining: 1.7 minutes"
       ]
      },
      {
       "output_type": "stream",
       "stream": "stdout",
       "text": [
        " \r",
        "[*****************47%                  ]  593028 of 1273821 complete Elapsed: 1.4 minutes\t Remaining: 1.6 minutes"
       ]
      },
      {
       "output_type": "stream",
       "stream": "stdout",
       "text": [
        " \r",
        "[*****************47%                  ]  603556 of 1273821 complete Elapsed: 1.5 minutes\t Remaining: 1.6 minutes"
       ]
      },
      {
       "output_type": "stream",
       "stream": "stdout",
       "text": [
        " \r",
        "[*****************48%                  ]  614116 of 1273821 complete Elapsed: 1.5 minutes\t Remaining: 1.6 minutes"
       ]
      },
      {
       "output_type": "stream",
       "stream": "stdout",
       "text": [
        " \r",
        "[*****************49%                  ]  624693 of 1273821 complete Elapsed: 1.5 minutes\t Remaining: 1.6 minutes"
       ]
      },
      {
       "output_type": "stream",
       "stream": "stdout",
       "text": [
        " \r",
        "[*****************50%                  ]  633823 of 1273821 complete Elapsed: 1.5 minutes\t Remaining: 1.5 minutes"
       ]
      },
      {
       "output_type": "stream",
       "stream": "stdout",
       "text": [
        " \r",
        "[*****************51%                  ]  644430 of 1273821 complete Elapsed: 1.6 minutes\t Remaining: 1.5 minutes"
       ]
      },
      {
       "output_type": "stream",
       "stream": "stdout",
       "text": [
        " \r",
        "[*****************51%                  ]  648527 of 1273821 complete Elapsed: 1.8 minutes\t Remaining: 1.7 minutes"
       ]
      },
      {
       "output_type": "stream",
       "stream": "stdout",
       "text": [
        " \r",
        "[*****************52%                  ]  659301 of 1273821 complete Elapsed: 1.8 minutes\t Remaining: 1.7 minutes"
       ]
      },
      {
       "output_type": "stream",
       "stream": "stdout",
       "text": [
        " \r",
        "[*****************53%                  ]  670023 of 1273821 complete Elapsed: 1.8 minutes\t Remaining: 1.6 minutes"
       ]
      },
      {
       "output_type": "stream",
       "stream": "stdout",
       "text": [
        " \r",
        "[*****************53%                  ]  680714 of 1273821 complete Elapsed: 1.8 minutes\t Remaining: 1.6 minutes"
       ]
      },
      {
       "output_type": "stream",
       "stream": "stdout",
       "text": [
        " \r",
        "[*****************54%*                 ]  691415 of 1273821 complete Elapsed: 1.9 minutes\t Remaining: 1.6 minutes"
       ]
      },
      {
       "output_type": "stream",
       "stream": "stdout",
       "text": [
        " \r",
        "[*****************55%*                 ]  700686 of 1273821 complete Elapsed: 1.9 minutes\t Remaining: 1.5 minutes"
       ]
      },
      {
       "output_type": "stream",
       "stream": "stdout",
       "text": [
        " \r",
        "[*****************56%*                 ]  711237 of 1273821 complete Elapsed: 1.9 minutes\t Remaining: 1.5 minutes"
       ]
      },
      {
       "output_type": "stream",
       "stream": "stdout",
       "text": [
        " \r",
        "[*****************57%**                ]  721790 of 1273821 complete Elapsed: 1.9 minutes\t Remaining: 1.5 minutes"
       ]
      },
      {
       "output_type": "stream",
       "stream": "stdout",
       "text": [
        " \r",
        "[*****************57%**                ]  732345 of 1273821 complete Elapsed: 2.0 minutes\t Remaining: 1.4 minutes"
       ]
      },
      {
       "output_type": "stream",
       "stream": "stdout",
       "text": [
        " \r",
        "[*****************58%**                ]  742911 of 1273821 complete Elapsed: 2.0 minutes\t Remaining: 1.4 minutes"
       ]
      },
      {
       "output_type": "stream",
       "stream": "stdout",
       "text": [
        " \r",
        "[*****************59%**                ]  752175 of 1273821 complete Elapsed: 2.0 minutes\t Remaining: 1.4 minutes"
       ]
      },
      {
       "output_type": "stream",
       "stream": "stdout",
       "text": [
        " \r",
        "[*****************60%***               ]  763270 of 1273821 complete Elapsed: 2.0 minutes\t Remaining: 1.4 minutes"
       ]
      },
      {
       "output_type": "stream",
       "stream": "stdout",
       "text": [
        " \r",
        "[*****************61%***               ]  774333 of 1273821 complete Elapsed: 2.1 minutes\t Remaining: 1.3 minutes"
       ]
      },
      {
       "output_type": "stream",
       "stream": "stdout",
       "text": [
        " \r",
        "[*****************62%****              ]  785432 of 1273821 complete Elapsed: 2.1 minutes\t Remaining: 1.3 minutes"
       ]
      },
      {
       "output_type": "stream",
       "stream": "stdout",
       "text": [
        " \r",
        "[*****************63%****              ]  796536 of 1273821 complete Elapsed: 2.1 minutes\t Remaining: 1.3 minutes"
       ]
      },
      {
       "output_type": "stream",
       "stream": "stdout",
       "text": [
        " \r",
        "[*****************63%****              ]  806251 of 1273821 complete Elapsed: 2.1 minutes\t Remaining: 1.2 minutes"
       ]
      },
      {
       "output_type": "stream",
       "stream": "stdout",
       "text": [
        " \r",
        "[*****************64%****              ]  817311 of 1273821 complete Elapsed: 2.2 minutes\t Remaining: 1.2 minutes"
       ]
      },
      {
       "output_type": "stream",
       "stream": "stdout",
       "text": [
        " \r",
        "[*****************65%*****             ]  828380 of 1273821 complete Elapsed: 2.2 minutes\t Remaining: 1.2 minutes"
       ]
      },
      {
       "output_type": "stream",
       "stream": "stdout",
       "text": [
        " \r",
        "[*****************66%*****             ]  839449 of 1273821 complete Elapsed: 2.2 minutes\t Remaining: 1.1 minutes"
       ]
      },
      {
       "output_type": "stream",
       "stream": "stdout",
       "text": [
        " \r",
        "[*****************67%*****             ]  850533 of 1273821 complete Elapsed: 2.2 minutes\t Remaining: 1.1 minutes"
       ]
      },
      {
       "output_type": "stream",
       "stream": "stdout",
       "text": [
        " \r",
        "[*****************68%******            ]  861546 of 1273821 complete Elapsed: 2.3 minutes\t Remaining: 1.1 minutes"
       ]
      },
      {
       "output_type": "stream",
       "stream": "stdout",
       "text": [
        " \r",
        "[*****************68%******            ]  871272 of 1273821 complete Elapsed: 2.3 minutes\t Remaining: 1.1 minutes"
       ]
      },
      {
       "output_type": "stream",
       "stream": "stdout",
       "text": [
        " \r",
        "[*****************69%******            ]  882340 of 1273821 complete Elapsed: 2.3 minutes\t Remaining: 1.0 minutes"
       ]
      },
      {
       "output_type": "stream",
       "stream": "stdout",
       "text": [
        " \r",
        "[*****************70%*******           ]  893410 of 1273821 complete Elapsed: 2.3 minutes\t Remaining: 1.0 minutes"
       ]
      },
      {
       "output_type": "stream",
       "stream": "stdout",
       "text": [
        " \r",
        "[*****************71%*******           ]  904486 of 1273821 complete Elapsed: 2.4 minutes\t Remaining: 1.0 minutes"
       ]
      },
      {
       "output_type": "stream",
       "stream": "stdout",
       "text": [
        " \r",
        "[*****************72%*******           ]  915554 of 1273821 complete Elapsed: 2.4 minutes\t Remaining: 0.9 minutes"
       ]
      },
      {
       "output_type": "stream",
       "stream": "stdout",
       "text": [
        " \r",
        "[*****************73%********          ]  925339 of 1273821 complete Elapsed: 2.4 minutes\t Remaining: 0.9 minutes"
       ]
      },
      {
       "output_type": "stream",
       "stream": "stdout",
       "text": [
        " \r",
        "[*****************74%********          ]  936369 of 1273821 complete Elapsed: 2.4 minutes\t Remaining: 0.9 minutes"
       ]
      },
      {
       "output_type": "stream",
       "stream": "stdout",
       "text": [
        " \r",
        "[*****************74%********          ]  947439 of 1273821 complete Elapsed: 2.5 minutes\t Remaining: 0.8 minutes"
       ]
      },
      {
       "output_type": "stream",
       "stream": "stdout",
       "text": [
        " \r",
        "[*****************75%*********         ]  958512 of 1273821 complete Elapsed: 2.5 minutes\t Remaining: 0.8 minutes"
       ]
      },
      {
       "output_type": "stream",
       "stream": "stdout",
       "text": [
        " \r",
        "[*****************76%*********         ]  969497 of 1273821 complete Elapsed: 2.5 minutes\t Remaining: 0.8 minutes"
       ]
      },
      {
       "output_type": "stream",
       "stream": "stdout",
       "text": [
        " \r",
        "[*****************77%*********         ]  979335 of 1273821 complete Elapsed: 2.5 minutes\t Remaining: 0.8 minutes"
       ]
      },
      {
       "output_type": "stream",
       "stream": "stdout",
       "text": [
        " \r",
        "[*****************78%**********        ]  990418 of 1273821 complete Elapsed: 2.6 minutes\t Remaining: 0.7 minutes"
       ]
      },
      {
       "output_type": "stream",
       "stream": "stdout",
       "text": [
        " \r",
        "[*****************79%**********        ]  1001487 of 1273821 complete Elapsed: 2.6 minutes\t Remaining: 0.7 minutes"
       ]
      },
      {
       "output_type": "stream",
       "stream": "stdout",
       "text": [
        " \r",
        "[*****************79%**********        ]  1012575 of 1273821 complete Elapsed: 2.6 minutes\t Remaining: 0.7 minutes"
       ]
      },
      {
       "output_type": "stream",
       "stream": "stdout",
       "text": [
        " \r",
        "[*****************80%**********        ]  1022483 of 1273821 complete Elapsed: 2.6 minutes\t Remaining: 0.6 minutes"
       ]
      },
      {
       "output_type": "stream",
       "stream": "stdout",
       "text": [
        " \r",
        "[*****************81%***********       ]  1033515 of 1273821 complete Elapsed: 2.7 minutes\t Remaining: 0.6 minutes"
       ]
      },
      {
       "output_type": "stream",
       "stream": "stderr",
       "text": [
        "WARN: pos 82399148 is less than or equal to last_pos 82399148\n"
       ]
      },
      {
       "output_type": "stream",
       "stream": "stdout",
       "text": [
        " \r",
        "[*****************82%***********       ]  1044563 of 1273821 complete Elapsed: 2.7 minutes\t Remaining: 0.6 minutes"
       ]
      },
      {
       "output_type": "stream",
       "stream": "stdout",
       "text": [
        " \r",
        "[*****************83%************      ]  1055612 of 1273821 complete Elapsed: 2.7 minutes\t Remaining: 0.6 minutes"
       ]
      },
      {
       "output_type": "stream",
       "stream": "stdout",
       "text": [
        " \r",
        "[*****************84%************      ]  1065494 of 1273821 complete Elapsed: 2.7 minutes\t Remaining: 0.5 minutes"
       ]
      },
      {
       "output_type": "stream",
       "stream": "stdout",
       "text": [
        " \r",
        "[*****************85%************      ]  1076572 of 1273821 complete Elapsed: 2.8 minutes\t Remaining: 0.5 minutes"
       ]
      },
      {
       "output_type": "stream",
       "stream": "stdout",
       "text": [
        " \r",
        "[*****************85%************      ]  1087515 of 1273821 complete Elapsed: 2.8 minutes\t Remaining: 0.5 minutes"
       ]
      },
      {
       "output_type": "stream",
       "stream": "stdout",
       "text": [
        " \r",
        "[*****************86%*************     ]  1097399 of 1273821 complete Elapsed: 2.8 minutes\t Remaining: 0.5 minutes"
       ]
      },
      {
       "output_type": "stream",
       "stream": "stdout",
       "text": [
        " \r",
        "[*****************87%*************     ]  1108453 of 1273821 complete Elapsed: 2.8 minutes\t Remaining: 0.4 minutes"
       ]
      },
      {
       "output_type": "stream",
       "stream": "stdout",
       "text": [
        " \r",
        "[*****************88%*************     ]  1119532 of 1273821 complete Elapsed: 2.9 minutes\t Remaining: 0.4 minutes"
       ]
      },
      {
       "output_type": "stream",
       "stream": "stdout",
       "text": [
        " \r",
        "[*****************89%**************    ]  1129440 of 1273821 complete Elapsed: 2.9 minutes\t Remaining: 0.4 minutes"
       ]
      },
      {
       "output_type": "stream",
       "stream": "stdout",
       "text": [
        " \r",
        "[*****************90%**************    ]  1140537 of 1273821 complete Elapsed: 2.9 minutes\t Remaining: 0.3 minutes"
       ]
      },
      {
       "output_type": "stream",
       "stream": "stdout",
       "text": [
        " \r",
        "[*****************90%**************    ]  1151640 of 1273821 complete Elapsed: 2.9 minutes\t Remaining: 0.3 minutes"
       ]
      },
      {
       "output_type": "stream",
       "stream": "stdout",
       "text": [
        " \r",
        "[*****************91%***************   ]  1162739 of 1273821 complete Elapsed: 3.0 minutes\t Remaining: 0.3 minutes"
       ]
      },
      {
       "output_type": "stream",
       "stream": "stdout",
       "text": [
        " \r",
        "[*****************92%***************   ]  1172692 of 1273821 complete Elapsed: 3.0 minutes\t Remaining: 0.3 minutes"
       ]
      },
      {
       "output_type": "stream",
       "stream": "stdout",
       "text": [
        " \r",
        "[*****************93%***************   ]  1183758 of 1273821 complete Elapsed: 3.0 minutes\t Remaining: 0.2 minutes"
       ]
      },
      {
       "output_type": "stream",
       "stream": "stdout",
       "text": [
        " \r",
        "[*****************94%****************  ]  1193725 of 1273821 complete Elapsed: 3.0 minutes\t Remaining: 0.2 minutes"
       ]
      },
      {
       "output_type": "stream",
       "stream": "stdout",
       "text": [
        " \r",
        "[*****************95%****************  ]  1204777 of 1273821 complete Elapsed: 3.1 minutes\t Remaining: 0.2 minutes"
       ]
      },
      {
       "output_type": "stream",
       "stream": "stdout",
       "text": [
        " \r",
        "[*****************95%****************  ]  1215831 of 1273821 complete Elapsed: 3.1 minutes\t Remaining: 0.1 minutes"
       ]
      },
      {
       "output_type": "stream",
       "stream": "stdout",
       "text": [
        " \r",
        "[*****************96%****************  ]  1225786 of 1273821 complete Elapsed: 3.1 minutes\t Remaining: 0.1 minutes"
       ]
      },
      {
       "output_type": "stream",
       "stream": "stdout",
       "text": [
        " \r",
        "[*****************97%***************** ]  1236593 of 1273821 complete Elapsed: 3.1 minutes\t Remaining: 0.1 minutes"
       ]
      },
      {
       "output_type": "stream",
       "stream": "stdout",
       "text": [
        " \r",
        "[*****************98%***************** ]  1247592 of 1273821 complete Elapsed: 3.2 minutes\t Remaining: 0.1 minutes"
       ]
      },
      {
       "output_type": "stream",
       "stream": "stdout",
       "text": [
        " \r",
        "[*****************99%******************]  1257558 of 1273821 complete Elapsed: 3.2 minutes\t Remaining: 0.0 minutes"
       ]
      },
      {
       "output_type": "stream",
       "stream": "stdout",
       "text": [
        "\n"
       ]
      }
     ],
     "prompt_number": 8
    },
    {
     "cell_type": "code",
     "collapsed": false,
     "input": [
      "%time lift_master(1400000, liftover, 'chr2', False)"
     ],
     "language": "python",
     "metadata": {},
     "outputs": [
      {
       "output_type": "stream",
       "stream": "stdout",
       "text": [
        "CPU times: user 0 ns, sys: 0 ns, total: 0 ns\n",
        "Wall time: 18.1 \u00b5s\n"
       ]
      },
      {
       "metadata": {},
       "output_type": "pyout",
       "prompt_number": 147,
       "text": [
        "1399969"
       ]
      }
     ],
     "prompt_number": 147
    },
    {
     "cell_type": "code",
     "collapsed": false,
     "input": [
      "colnames=['chain','score','ref_chr','ref_len','ref_misc','ref_start','ref_end',\n",
      "              'alt_chr','alt_len','alt_misc','alt_start','alt_end']\n",
      "liftover = pd.read_csv(liftover_file,sep='\\t',header=None, \n",
      "                       names=colnames)\n",
      "liftover.set_index(['ref_chr', 'ref_start', 'ref_end'], inplace=True)"
     ],
     "language": "python",
     "metadata": {},
     "outputs": [],
     "prompt_number": 28
    },
    {
     "cell_type": "code",
     "collapsed": false,
     "input": [
      "liftover"
     ],
     "language": "python",
     "metadata": {},
     "outputs": [
      {
       "html": [
        "<div style=\"max-height:1000px;max-width:1500px;overflow:auto;\">\n",
        "<table border=\"1\" class=\"dataframe\">\n",
        "  <thead>\n",
        "    <tr style=\"text-align: right;\">\n",
        "      <th></th>\n",
        "      <th>chain</th>\n",
        "      <th>score</th>\n",
        "      <th>ref_chr</th>\n",
        "      <th>ref_len</th>\n",
        "      <th>ref_misc</th>\n",
        "      <th>ref_start</th>\n",
        "      <th>ref_end</th>\n",
        "      <th>alt_chr</th>\n",
        "      <th>alt_len</th>\n",
        "      <th>alt_misc</th>\n",
        "      <th>alt_start</th>\n",
        "      <th>alt_end</th>\n",
        "    </tr>\n",
        "  </thead>\n",
        "  <tbody>\n",
        "    <tr>\n",
        "      <th>0 </th>\n",
        "      <td> chain</td>\n",
        "      <td> 4900</td>\n",
        "      <td> chr1</td>\n",
        "      <td> 249250621</td>\n",
        "      <td> .</td>\n",
        "      <td>       1</td>\n",
        "      <td>  811670</td>\n",
        "      <td> chr1</td>\n",
        "      <td> 249172906</td>\n",
        "      <td> .</td>\n",
        "      <td>       1</td>\n",
        "      <td>  811660</td>\n",
        "    </tr>\n",
        "    <tr>\n",
        "      <th>1 </th>\n",
        "      <td> chain</td>\n",
        "      <td> 4900</td>\n",
        "      <td> chr1</td>\n",
        "      <td> 249250621</td>\n",
        "      <td> .</td>\n",
        "      <td>  811670</td>\n",
        "      <td>  904757</td>\n",
        "      <td> chr1</td>\n",
        "      <td> 249172906</td>\n",
        "      <td> .</td>\n",
        "      <td>  811660</td>\n",
        "      <td>  904749</td>\n",
        "    </tr>\n",
        "    <tr>\n",
        "      <th>2 </th>\n",
        "      <td> chain</td>\n",
        "      <td> 4900</td>\n",
        "      <td> chr1</td>\n",
        "      <td> 249250621</td>\n",
        "      <td> .</td>\n",
        "      <td>  904757</td>\n",
        "      <td> 1092688</td>\n",
        "      <td> chr1</td>\n",
        "      <td> 249172906</td>\n",
        "      <td> .</td>\n",
        "      <td>  904749</td>\n",
        "      <td> 1092681</td>\n",
        "    </tr>\n",
        "    <tr>\n",
        "      <th>3 </th>\n",
        "      <td> chain</td>\n",
        "      <td> 4900</td>\n",
        "      <td> chr1</td>\n",
        "      <td> 249250621</td>\n",
        "      <td> .</td>\n",
        "      <td> 1092689</td>\n",
        "      <td> 1103690</td>\n",
        "      <td> chr1</td>\n",
        "      <td> 249172906</td>\n",
        "      <td> .</td>\n",
        "      <td> 1092662</td>\n",
        "      <td> 1103665</td>\n",
        "    </tr>\n",
        "    <tr>\n",
        "      <th>4 </th>\n",
        "      <td> chain</td>\n",
        "      <td> 4900</td>\n",
        "      <td> chr1</td>\n",
        "      <td> 249250621</td>\n",
        "      <td> .</td>\n",
        "      <td> 1103690</td>\n",
        "      <td> 1233112</td>\n",
        "      <td> chr1</td>\n",
        "      <td> 249172906</td>\n",
        "      <td> .</td>\n",
        "      <td> 1103665</td>\n",
        "      <td> 1233085</td>\n",
        "    </tr>\n",
        "    <tr>\n",
        "      <th>5 </th>\n",
        "      <td> chain</td>\n",
        "      <td> 4900</td>\n",
        "      <td> chr1</td>\n",
        "      <td> 249250621</td>\n",
        "      <td> .</td>\n",
        "      <td> 1233112</td>\n",
        "      <td> 1276973</td>\n",
        "      <td> chr1</td>\n",
        "      <td> 249172906</td>\n",
        "      <td> .</td>\n",
        "      <td> 1233085</td>\n",
        "      <td> 1276950</td>\n",
        "    </tr>\n",
        "    <tr>\n",
        "      <th>6 </th>\n",
        "      <td> chain</td>\n",
        "      <td> 4900</td>\n",
        "      <td> chr1</td>\n",
        "      <td> 249250621</td>\n",
        "      <td> .</td>\n",
        "      <td> 1276973</td>\n",
        "      <td> 1291159</td>\n",
        "      <td> chr1</td>\n",
        "      <td> 249172906</td>\n",
        "      <td> .</td>\n",
        "      <td> 1276950</td>\n",
        "      <td> 1291135</td>\n",
        "    </tr>\n",
        "    <tr>\n",
        "      <th>7 </th>\n",
        "      <td> chain</td>\n",
        "      <td> 4900</td>\n",
        "      <td> chr1</td>\n",
        "      <td> 249250621</td>\n",
        "      <td> .</td>\n",
        "      <td> 1291159</td>\n",
        "      <td> 1301199</td>\n",
        "      <td> chr1</td>\n",
        "      <td> 249172906</td>\n",
        "      <td> .</td>\n",
        "      <td> 1291135</td>\n",
        "      <td> 1301174</td>\n",
        "    </tr>\n",
        "    <tr>\n",
        "      <th>8 </th>\n",
        "      <td> chain</td>\n",
        "      <td> 4900</td>\n",
        "      <td> chr1</td>\n",
        "      <td> 249250621</td>\n",
        "      <td> .</td>\n",
        "      <td> 1301199</td>\n",
        "      <td> 1302672</td>\n",
        "      <td> chr1</td>\n",
        "      <td> 249172906</td>\n",
        "      <td> .</td>\n",
        "      <td> 1301174</td>\n",
        "      <td> 1302649</td>\n",
        "    </tr>\n",
        "    <tr>\n",
        "      <th>9 </th>\n",
        "      <td> chain</td>\n",
        "      <td> 4900</td>\n",
        "      <td> chr1</td>\n",
        "      <td> 249250621</td>\n",
        "      <td> .</td>\n",
        "      <td> 1302672</td>\n",
        "      <td> 1366406</td>\n",
        "      <td> chr1</td>\n",
        "      <td> 249172906</td>\n",
        "      <td> .</td>\n",
        "      <td> 1302649</td>\n",
        "      <td> 1366375</td>\n",
        "    </tr>\n",
        "    <tr>\n",
        "      <th>10</th>\n",
        "      <td> chain</td>\n",
        "      <td> 4900</td>\n",
        "      <td> chr1</td>\n",
        "      <td> 249250621</td>\n",
        "      <td> .</td>\n",
        "      <td> 1366406</td>\n",
        "      <td> 1546949</td>\n",
        "      <td> chr1</td>\n",
        "      <td> 249172906</td>\n",
        "      <td> .</td>\n",
        "      <td> 1366375</td>\n",
        "      <td> 1546917</td>\n",
        "    </tr>\n",
        "    <tr>\n",
        "      <th>11</th>\n",
        "      <td> chain</td>\n",
        "      <td> 4900</td>\n",
        "      <td> chr1</td>\n",
        "      <td> 249250621</td>\n",
        "      <td> .</td>\n",
        "      <td> 1546949</td>\n",
        "      <td> 1566067</td>\n",
        "      <td> chr1</td>\n",
        "      <td> 249172906</td>\n",
        "      <td> .</td>\n",
        "      <td> 1546917</td>\n",
        "      <td> 1566034</td>\n",
        "    </tr>\n",
        "    <tr>\n",
        "      <th>12</th>\n",
        "      <td> chain</td>\n",
        "      <td> 4900</td>\n",
        "      <td> chr1</td>\n",
        "      <td> 249250621</td>\n",
        "      <td> .</td>\n",
        "      <td> 1566067</td>\n",
        "      <td> 1648339</td>\n",
        "      <td> chr1</td>\n",
        "      <td> 249172906</td>\n",
        "      <td> .</td>\n",
        "      <td> 1566034</td>\n",
        "      <td> 1648312</td>\n",
        "    </tr>\n",
        "    <tr>\n",
        "      <th>13</th>\n",
        "      <td> chain</td>\n",
        "      <td> 4900</td>\n",
        "      <td> chr1</td>\n",
        "      <td> 249250621</td>\n",
        "      <td> .</td>\n",
        "      <td> 1648339</td>\n",
        "      <td> 1702495</td>\n",
        "      <td> chr1</td>\n",
        "      <td> 249172906</td>\n",
        "      <td> .</td>\n",
        "      <td> 1648312</td>\n",
        "      <td> 1702467</td>\n",
        "    </tr>\n",
        "    <tr>\n",
        "      <th>14</th>\n",
        "      <td> chain</td>\n",
        "      <td> 4900</td>\n",
        "      <td> chr1</td>\n",
        "      <td> 249250621</td>\n",
        "      <td> .</td>\n",
        "      <td> 1702495</td>\n",
        "      <td> 1704797</td>\n",
        "      <td> chr1</td>\n",
        "      <td> 249172906</td>\n",
        "      <td> .</td>\n",
        "      <td> 1702467</td>\n",
        "      <td> 1704768</td>\n",
        "    </tr>\n",
        "    <tr>\n",
        "      <th>15</th>\n",
        "      <td> chain</td>\n",
        "      <td> 4900</td>\n",
        "      <td> chr1</td>\n",
        "      <td> 249250621</td>\n",
        "      <td> .</td>\n",
        "      <td> 1704797</td>\n",
        "      <td> 1735421</td>\n",
        "      <td> chr1</td>\n",
        "      <td> 249172906</td>\n",
        "      <td> .</td>\n",
        "      <td> 1704768</td>\n",
        "      <td> 1735393</td>\n",
        "    </tr>\n",
        "    <tr>\n",
        "      <th>16</th>\n",
        "      <td> chain</td>\n",
        "      <td> 4900</td>\n",
        "      <td> chr1</td>\n",
        "      <td> 249250621</td>\n",
        "      <td> .</td>\n",
        "      <td> 1735421</td>\n",
        "      <td> 1807276</td>\n",
        "      <td> chr1</td>\n",
        "      <td> 249172906</td>\n",
        "      <td> .</td>\n",
        "      <td> 1735393</td>\n",
        "      <td> 1807247</td>\n",
        "    </tr>\n",
        "    <tr>\n",
        "      <th>17</th>\n",
        "      <td> chain</td>\n",
        "      <td> 4900</td>\n",
        "      <td> chr1</td>\n",
        "      <td> 249250621</td>\n",
        "      <td> .</td>\n",
        "      <td> 1807276</td>\n",
        "      <td> 1853615</td>\n",
        "      <td> chr1</td>\n",
        "      <td> 249172906</td>\n",
        "      <td> .</td>\n",
        "      <td> 1807247</td>\n",
        "      <td> 1853590</td>\n",
        "    </tr>\n",
        "    <tr>\n",
        "      <th>18</th>\n",
        "      <td> chain</td>\n",
        "      <td> 4900</td>\n",
        "      <td> chr1</td>\n",
        "      <td> 249250621</td>\n",
        "      <td> .</td>\n",
        "      <td> 1853615</td>\n",
        "      <td> 1853617</td>\n",
        "      <td> chr1</td>\n",
        "      <td> 249172906</td>\n",
        "      <td> .</td>\n",
        "      <td> 1853590</td>\n",
        "      <td> 1853596</td>\n",
        "    </tr>\n",
        "    <tr>\n",
        "      <th>19</th>\n",
        "      <td> chain</td>\n",
        "      <td> 4900</td>\n",
        "      <td> chr1</td>\n",
        "      <td> 249250621</td>\n",
        "      <td> .</td>\n",
        "      <td> 1853617</td>\n",
        "      <td> 2101933</td>\n",
        "      <td> chr1</td>\n",
        "      <td> 249172906</td>\n",
        "      <td> .</td>\n",
        "      <td> 1853596</td>\n",
        "      <td> 2101916</td>\n",
        "    </tr>\n",
        "    <tr>\n",
        "      <th>20</th>\n",
        "      <td> chain</td>\n",
        "      <td> 4900</td>\n",
        "      <td> chr1</td>\n",
        "      <td> 249250621</td>\n",
        "      <td> .</td>\n",
        "      <td> 2101933</td>\n",
        "      <td> 2243616</td>\n",
        "      <td> chr1</td>\n",
        "      <td> 249172906</td>\n",
        "      <td> .</td>\n",
        "      <td> 2101916</td>\n",
        "      <td> 2243604</td>\n",
        "    </tr>\n",
        "    <tr>\n",
        "      <th>21</th>\n",
        "      <td> chain</td>\n",
        "      <td> 4900</td>\n",
        "      <td> chr1</td>\n",
        "      <td> 249250621</td>\n",
        "      <td> .</td>\n",
        "      <td> 2243616</td>\n",
        "      <td> 2256415</td>\n",
        "      <td> chr1</td>\n",
        "      <td> 249172906</td>\n",
        "      <td> .</td>\n",
        "      <td> 2243604</td>\n",
        "      <td> 2256406</td>\n",
        "    </tr>\n",
        "    <tr>\n",
        "      <th>22</th>\n",
        "      <td> chain</td>\n",
        "      <td> 4900</td>\n",
        "      <td> chr1</td>\n",
        "      <td> 249250621</td>\n",
        "      <td> .</td>\n",
        "      <td> 2256415</td>\n",
        "      <td> 2269082</td>\n",
        "      <td> chr1</td>\n",
        "      <td> 249172906</td>\n",
        "      <td> .</td>\n",
        "      <td> 2256406</td>\n",
        "      <td> 2269071</td>\n",
        "    </tr>\n",
        "    <tr>\n",
        "      <th>23</th>\n",
        "      <td> chain</td>\n",
        "      <td> 4900</td>\n",
        "      <td> chr1</td>\n",
        "      <td> 249250621</td>\n",
        "      <td> .</td>\n",
        "      <td> 2269082</td>\n",
        "      <td> 2347840</td>\n",
        "      <td> chr1</td>\n",
        "      <td> 249172906</td>\n",
        "      <td> .</td>\n",
        "      <td> 2269071</td>\n",
        "      <td> 2347834</td>\n",
        "    </tr>\n",
        "    <tr>\n",
        "      <th>24</th>\n",
        "      <td> chain</td>\n",
        "      <td> 4900</td>\n",
        "      <td> chr1</td>\n",
        "      <td> 249250621</td>\n",
        "      <td> .</td>\n",
        "      <td> 2347840</td>\n",
        "      <td> 2351410</td>\n",
        "      <td> chr1</td>\n",
        "      <td> 249172906</td>\n",
        "      <td> .</td>\n",
        "      <td> 2347834</td>\n",
        "      <td> 2351403</td>\n",
        "    </tr>\n",
        "    <tr>\n",
        "      <th>25</th>\n",
        "      <td> chain</td>\n",
        "      <td> 4900</td>\n",
        "      <td> chr1</td>\n",
        "      <td> 249250621</td>\n",
        "      <td> .</td>\n",
        "      <td> 2351410</td>\n",
        "      <td> 2362586</td>\n",
        "      <td> chr1</td>\n",
        "      <td> 249172906</td>\n",
        "      <td> .</td>\n",
        "      <td> 2351403</td>\n",
        "      <td> 2362577</td>\n",
        "    </tr>\n",
        "    <tr>\n",
        "      <th>26</th>\n",
        "      <td> chain</td>\n",
        "      <td> 4900</td>\n",
        "      <td> chr1</td>\n",
        "      <td> 249250621</td>\n",
        "      <td> .</td>\n",
        "      <td> 2362586</td>\n",
        "      <td> 2776003</td>\n",
        "      <td> chr1</td>\n",
        "      <td> 249172906</td>\n",
        "      <td> .</td>\n",
        "      <td> 2362577</td>\n",
        "      <td> 2775995</td>\n",
        "    </tr>\n",
        "    <tr>\n",
        "      <th>27</th>\n",
        "      <td> chain</td>\n",
        "      <td> 4900</td>\n",
        "      <td> chr1</td>\n",
        "      <td> 249250621</td>\n",
        "      <td> .</td>\n",
        "      <td> 2776003</td>\n",
        "      <td> 2789572</td>\n",
        "      <td> chr1</td>\n",
        "      <td> 249172906</td>\n",
        "      <td> .</td>\n",
        "      <td> 2775995</td>\n",
        "      <td> 2789563</td>\n",
        "    </tr>\n",
        "    <tr>\n",
        "      <th>28</th>\n",
        "      <td> chain</td>\n",
        "      <td> 4900</td>\n",
        "      <td> chr1</td>\n",
        "      <td> 249250621</td>\n",
        "      <td> .</td>\n",
        "      <td> 2789572</td>\n",
        "      <td> 2886951</td>\n",
        "      <td> chr1</td>\n",
        "      <td> 249172906</td>\n",
        "      <td> .</td>\n",
        "      <td> 2789563</td>\n",
        "      <td> 2886943</td>\n",
        "    </tr>\n",
        "    <tr>\n",
        "      <th>29</th>\n",
        "      <td> chain</td>\n",
        "      <td> 4900</td>\n",
        "      <td> chr1</td>\n",
        "      <td> 249250621</td>\n",
        "      <td> .</td>\n",
        "      <td> 2886951</td>\n",
        "      <td> 2886954</td>\n",
        "      <td> chr1</td>\n",
        "      <td> 249172906</td>\n",
        "      <td> .</td>\n",
        "      <td> 2886943</td>\n",
        "      <td> 2886947</td>\n",
        "    </tr>\n",
        "    <tr>\n",
        "      <th>30</th>\n",
        "      <td> chain</td>\n",
        "      <td> 4900</td>\n",
        "      <td> chr1</td>\n",
        "      <td> 249250621</td>\n",
        "      <td> .</td>\n",
        "      <td> 2886954</td>\n",
        "      <td> 3002692</td>\n",
        "      <td> chr1</td>\n",
        "      <td> 249172906</td>\n",
        "      <td> .</td>\n",
        "      <td> 2886947</td>\n",
        "      <td> 3002689</td>\n",
        "    </tr>\n",
        "    <tr>\n",
        "      <th>31</th>\n",
        "      <td> chain</td>\n",
        "      <td> 4900</td>\n",
        "      <td> chr1</td>\n",
        "      <td> 249250621</td>\n",
        "      <td> .</td>\n",
        "      <td> 3002692</td>\n",
        "      <td> 3008886</td>\n",
        "      <td> chr1</td>\n",
        "      <td> 249172906</td>\n",
        "      <td> .</td>\n",
        "      <td> 3002689</td>\n",
        "      <td> 3008873</td>\n",
        "    </tr>\n",
        "    <tr>\n",
        "      <th>32</th>\n",
        "      <td> chain</td>\n",
        "      <td> 4900</td>\n",
        "      <td> chr1</td>\n",
        "      <td> 249250621</td>\n",
        "      <td> .</td>\n",
        "      <td> 3008886</td>\n",
        "      <td> 3142135</td>\n",
        "      <td> chr1</td>\n",
        "      <td> 249172906</td>\n",
        "      <td> .</td>\n",
        "      <td> 3008873</td>\n",
        "      <td> 3142118</td>\n",
        "    </tr>\n",
        "    <tr>\n",
        "      <th>33</th>\n",
        "      <td> chain</td>\n",
        "      <td> 4900</td>\n",
        "      <td> chr1</td>\n",
        "      <td> 249250621</td>\n",
        "      <td> .</td>\n",
        "      <td> 3142135</td>\n",
        "      <td> 3156620</td>\n",
        "      <td> chr1</td>\n",
        "      <td> 249172906</td>\n",
        "      <td> .</td>\n",
        "      <td> 3142118</td>\n",
        "      <td> 3156593</td>\n",
        "    </tr>\n",
        "    <tr>\n",
        "      <th>34</th>\n",
        "      <td> chain</td>\n",
        "      <td> 4900</td>\n",
        "      <td> chr1</td>\n",
        "      <td> 249250621</td>\n",
        "      <td> .</td>\n",
        "      <td> 3156620</td>\n",
        "      <td> 3159942</td>\n",
        "      <td> chr1</td>\n",
        "      <td> 249172906</td>\n",
        "      <td> .</td>\n",
        "      <td> 3156593</td>\n",
        "      <td> 3159914</td>\n",
        "    </tr>\n",
        "    <tr>\n",
        "      <th>35</th>\n",
        "      <td> chain</td>\n",
        "      <td> 4900</td>\n",
        "      <td> chr1</td>\n",
        "      <td> 249250621</td>\n",
        "      <td> .</td>\n",
        "      <td> 3159942</td>\n",
        "      <td> 3174158</td>\n",
        "      <td> chr1</td>\n",
        "      <td> 249172906</td>\n",
        "      <td> .</td>\n",
        "      <td> 3159914</td>\n",
        "      <td> 3174129</td>\n",
        "    </tr>\n",
        "    <tr>\n",
        "      <th>36</th>\n",
        "      <td> chain</td>\n",
        "      <td> 4900</td>\n",
        "      <td> chr1</td>\n",
        "      <td> 249250621</td>\n",
        "      <td> .</td>\n",
        "      <td> 3174158</td>\n",
        "      <td> 3196439</td>\n",
        "      <td> chr1</td>\n",
        "      <td> 249172906</td>\n",
        "      <td> .</td>\n",
        "      <td> 3174129</td>\n",
        "      <td> 3196409</td>\n",
        "    </tr>\n",
        "    <tr>\n",
        "      <th>37</th>\n",
        "      <td> chain</td>\n",
        "      <td> 4900</td>\n",
        "      <td> chr1</td>\n",
        "      <td> 249250621</td>\n",
        "      <td> .</td>\n",
        "      <td> 3196439</td>\n",
        "      <td> 3310927</td>\n",
        "      <td> chr1</td>\n",
        "      <td> 249172906</td>\n",
        "      <td> .</td>\n",
        "      <td> 3196409</td>\n",
        "      <td> 3310899</td>\n",
        "    </tr>\n",
        "    <tr>\n",
        "      <th>38</th>\n",
        "      <td> chain</td>\n",
        "      <td> 4900</td>\n",
        "      <td> chr1</td>\n",
        "      <td> 249250621</td>\n",
        "      <td> .</td>\n",
        "      <td> 3310927</td>\n",
        "      <td> 3310928</td>\n",
        "      <td> chr1</td>\n",
        "      <td> 249172906</td>\n",
        "      <td> .</td>\n",
        "      <td> 3310899</td>\n",
        "      <td> 3310902</td>\n",
        "    </tr>\n",
        "    <tr>\n",
        "      <th>39</th>\n",
        "      <td> chain</td>\n",
        "      <td> 4900</td>\n",
        "      <td> chr1</td>\n",
        "      <td> 249250621</td>\n",
        "      <td> .</td>\n",
        "      <td> 3310928</td>\n",
        "      <td> 3357238</td>\n",
        "      <td> chr1</td>\n",
        "      <td> 249172906</td>\n",
        "      <td> .</td>\n",
        "      <td> 3310902</td>\n",
        "      <td> 3357213</td>\n",
        "    </tr>\n",
        "    <tr>\n",
        "      <th>40</th>\n",
        "      <td> chain</td>\n",
        "      <td> 4900</td>\n",
        "      <td> chr1</td>\n",
        "      <td> 249250621</td>\n",
        "      <td> .</td>\n",
        "      <td> 3357238</td>\n",
        "      <td> 3358268</td>\n",
        "      <td> chr1</td>\n",
        "      <td> 249172906</td>\n",
        "      <td> .</td>\n",
        "      <td> 3357213</td>\n",
        "      <td> 3358244</td>\n",
        "    </tr>\n",
        "    <tr>\n",
        "      <th>41</th>\n",
        "      <td> chain</td>\n",
        "      <td> 4900</td>\n",
        "      <td> chr1</td>\n",
        "      <td> 249250621</td>\n",
        "      <td> .</td>\n",
        "      <td> 3358268</td>\n",
        "      <td> 3358269</td>\n",
        "      <td> chr1</td>\n",
        "      <td> 249172906</td>\n",
        "      <td> .</td>\n",
        "      <td> 3358244</td>\n",
        "      <td> 3358246</td>\n",
        "    </tr>\n",
        "    <tr>\n",
        "      <th>42</th>\n",
        "      <td> chain</td>\n",
        "      <td> 4900</td>\n",
        "      <td> chr1</td>\n",
        "      <td> 249250621</td>\n",
        "      <td> .</td>\n",
        "      <td> 3358269</td>\n",
        "      <td> 3403743</td>\n",
        "      <td> chr1</td>\n",
        "      <td> 249172906</td>\n",
        "      <td> .</td>\n",
        "      <td> 3358246</td>\n",
        "      <td> 3403718</td>\n",
        "    </tr>\n",
        "    <tr>\n",
        "      <th>43</th>\n",
        "      <td> chain</td>\n",
        "      <td> 4900</td>\n",
        "      <td> chr1</td>\n",
        "      <td> 249250621</td>\n",
        "      <td> .</td>\n",
        "      <td> 3403743</td>\n",
        "      <td> 3527075</td>\n",
        "      <td> chr1</td>\n",
        "      <td> 249172906</td>\n",
        "      <td> .</td>\n",
        "      <td> 3403718</td>\n",
        "      <td> 3527052</td>\n",
        "    </tr>\n",
        "    <tr>\n",
        "      <th>44</th>\n",
        "      <td> chain</td>\n",
        "      <td> 4900</td>\n",
        "      <td> chr1</td>\n",
        "      <td> 249250621</td>\n",
        "      <td> .</td>\n",
        "      <td> 3527075</td>\n",
        "      <td> 3527076</td>\n",
        "      <td> chr1</td>\n",
        "      <td> 249172906</td>\n",
        "      <td> .</td>\n",
        "      <td> 3527052</td>\n",
        "      <td> 3527055</td>\n",
        "    </tr>\n",
        "    <tr>\n",
        "      <th>45</th>\n",
        "      <td> chain</td>\n",
        "      <td> 4900</td>\n",
        "      <td> chr1</td>\n",
        "      <td> 249250621</td>\n",
        "      <td> .</td>\n",
        "      <td> 3527076</td>\n",
        "      <td> 3545175</td>\n",
        "      <td> chr1</td>\n",
        "      <td> 249172906</td>\n",
        "      <td> .</td>\n",
        "      <td> 3527055</td>\n",
        "      <td> 3545135</td>\n",
        "    </tr>\n",
        "    <tr>\n",
        "      <th>46</th>\n",
        "      <td> chain</td>\n",
        "      <td> 4900</td>\n",
        "      <td> chr1</td>\n",
        "      <td> 249250621</td>\n",
        "      <td> .</td>\n",
        "      <td> 3545175</td>\n",
        "      <td> 3693132</td>\n",
        "      <td> chr1</td>\n",
        "      <td> 249172906</td>\n",
        "      <td> .</td>\n",
        "      <td> 3545135</td>\n",
        "      <td> 3693091</td>\n",
        "    </tr>\n",
        "    <tr>\n",
        "      <th>47</th>\n",
        "      <td> chain</td>\n",
        "      <td> 4900</td>\n",
        "      <td> chr1</td>\n",
        "      <td> 249250621</td>\n",
        "      <td> .</td>\n",
        "      <td> 3693132</td>\n",
        "      <td> 3707456</td>\n",
        "      <td> chr1</td>\n",
        "      <td> 249172906</td>\n",
        "      <td> .</td>\n",
        "      <td> 3693091</td>\n",
        "      <td> 3707416</td>\n",
        "    </tr>\n",
        "    <tr>\n",
        "      <th>48</th>\n",
        "      <td> chain</td>\n",
        "      <td> 4900</td>\n",
        "      <td> chr1</td>\n",
        "      <td> 249250621</td>\n",
        "      <td> .</td>\n",
        "      <td> 3707456</td>\n",
        "      <td> 3743433</td>\n",
        "      <td> chr1</td>\n",
        "      <td> 249172906</td>\n",
        "      <td> .</td>\n",
        "      <td> 3707416</td>\n",
        "      <td> 3743394</td>\n",
        "    </tr>\n",
        "    <tr>\n",
        "      <th>49</th>\n",
        "      <td> chain</td>\n",
        "      <td> 4900</td>\n",
        "      <td> chr1</td>\n",
        "      <td> 249250621</td>\n",
        "      <td> .</td>\n",
        "      <td> 3743433</td>\n",
        "      <td> 3761273</td>\n",
        "      <td> chr1</td>\n",
        "      <td> 249172906</td>\n",
        "      <td> .</td>\n",
        "      <td> 3743394</td>\n",
        "      <td> 3761235</td>\n",
        "    </tr>\n",
        "    <tr>\n",
        "      <th>50</th>\n",
        "      <td> chain</td>\n",
        "      <td> 4900</td>\n",
        "      <td> chr1</td>\n",
        "      <td> 249250621</td>\n",
        "      <td> .</td>\n",
        "      <td> 3761273</td>\n",
        "      <td> 3825021</td>\n",
        "      <td> chr1</td>\n",
        "      <td> 249172906</td>\n",
        "      <td> .</td>\n",
        "      <td> 3761235</td>\n",
        "      <td> 3824977</td>\n",
        "    </tr>\n",
        "    <tr>\n",
        "      <th>51</th>\n",
        "      <td> chain</td>\n",
        "      <td> 4900</td>\n",
        "      <td> chr1</td>\n",
        "      <td> 249250621</td>\n",
        "      <td> .</td>\n",
        "      <td> 3825021</td>\n",
        "      <td> 4045915</td>\n",
        "      <td> chr1</td>\n",
        "      <td> 249172906</td>\n",
        "      <td> .</td>\n",
        "      <td> 3824977</td>\n",
        "      <td> 4045869</td>\n",
        "    </tr>\n",
        "    <tr>\n",
        "      <th>52</th>\n",
        "      <td> chain</td>\n",
        "      <td> 4900</td>\n",
        "      <td> chr1</td>\n",
        "      <td> 249250621</td>\n",
        "      <td> .</td>\n",
        "      <td> 4045915</td>\n",
        "      <td> 4045937</td>\n",
        "      <td> chr1</td>\n",
        "      <td> 249172906</td>\n",
        "      <td> .</td>\n",
        "      <td> 4045869</td>\n",
        "      <td> 4045890</td>\n",
        "    </tr>\n",
        "    <tr>\n",
        "      <th>53</th>\n",
        "      <td> chain</td>\n",
        "      <td> 4900</td>\n",
        "      <td> chr1</td>\n",
        "      <td> 249250621</td>\n",
        "      <td> .</td>\n",
        "      <td> 4045937</td>\n",
        "      <td> 4156883</td>\n",
        "      <td> chr1</td>\n",
        "      <td> 249172906</td>\n",
        "      <td> .</td>\n",
        "      <td> 4045890</td>\n",
        "      <td> 4156835</td>\n",
        "    </tr>\n",
        "    <tr>\n",
        "      <th>54</th>\n",
        "      <td> chain</td>\n",
        "      <td> 4900</td>\n",
        "      <td> chr1</td>\n",
        "      <td> 249250621</td>\n",
        "      <td> .</td>\n",
        "      <td> 4156883</td>\n",
        "      <td> 4198042</td>\n",
        "      <td> chr1</td>\n",
        "      <td> 249172906</td>\n",
        "      <td> .</td>\n",
        "      <td> 4156835</td>\n",
        "      <td> 4197997</td>\n",
        "    </tr>\n",
        "    <tr>\n",
        "      <th>55</th>\n",
        "      <td> chain</td>\n",
        "      <td> 4900</td>\n",
        "      <td> chr1</td>\n",
        "      <td> 249250621</td>\n",
        "      <td> .</td>\n",
        "      <td> 4198042</td>\n",
        "      <td> 4222749</td>\n",
        "      <td> chr1</td>\n",
        "      <td> 249172906</td>\n",
        "      <td> .</td>\n",
        "      <td> 4197997</td>\n",
        "      <td> 4222705</td>\n",
        "    </tr>\n",
        "    <tr>\n",
        "      <th>56</th>\n",
        "      <td> chain</td>\n",
        "      <td> 4900</td>\n",
        "      <td> chr1</td>\n",
        "      <td> 249250621</td>\n",
        "      <td> .</td>\n",
        "      <td> 4222749</td>\n",
        "      <td> 4222751</td>\n",
        "      <td> chr1</td>\n",
        "      <td> 249172906</td>\n",
        "      <td> .</td>\n",
        "      <td> 4222705</td>\n",
        "      <td> 4222708</td>\n",
        "    </tr>\n",
        "    <tr>\n",
        "      <th>57</th>\n",
        "      <td> chain</td>\n",
        "      <td> 4900</td>\n",
        "      <td> chr1</td>\n",
        "      <td> 249250621</td>\n",
        "      <td> .</td>\n",
        "      <td> 4222751</td>\n",
        "      <td> 4249518</td>\n",
        "      <td> chr1</td>\n",
        "      <td> 249172906</td>\n",
        "      <td> .</td>\n",
        "      <td> 4222708</td>\n",
        "      <td> 4249478</td>\n",
        "    </tr>\n",
        "    <tr>\n",
        "      <th>58</th>\n",
        "      <td> chain</td>\n",
        "      <td> 4900</td>\n",
        "      <td> chr1</td>\n",
        "      <td> 249250621</td>\n",
        "      <td> .</td>\n",
        "      <td> 4249518</td>\n",
        "      <td> 4280497</td>\n",
        "      <td> chr1</td>\n",
        "      <td> 249172906</td>\n",
        "      <td> .</td>\n",
        "      <td> 4249478</td>\n",
        "      <td> 4280458</td>\n",
        "    </tr>\n",
        "    <tr>\n",
        "      <th>59</th>\n",
        "      <td> chain</td>\n",
        "      <td> 4900</td>\n",
        "      <td> chr1</td>\n",
        "      <td> 249250621</td>\n",
        "      <td> .</td>\n",
        "      <td> 4280497</td>\n",
        "      <td> 4280499</td>\n",
        "      <td> chr1</td>\n",
        "      <td> 249172906</td>\n",
        "      <td> .</td>\n",
        "      <td> 4280458</td>\n",
        "      <td> 4280461</td>\n",
        "    </tr>\n",
        "    <tr>\n",
        "      <th></th>\n",
        "      <td>...</td>\n",
        "      <td>...</td>\n",
        "      <td>...</td>\n",
        "      <td>...</td>\n",
        "      <td>...</td>\n",
        "      <td>...</td>\n",
        "      <td>...</td>\n",
        "      <td>...</td>\n",
        "      <td>...</td>\n",
        "      <td>...</td>\n",
        "      <td>...</td>\n",
        "      <td>...</td>\n",
        "    </tr>\n",
        "  </tbody>\n",
        "</table>\n",
        "<p>71768 rows \u00d7 12 columns</p>\n",
        "</div>"
       ],
       "metadata": {},
       "output_type": "pyout",
       "prompt_number": 18,
       "text": [
        "    chain  score ref_chr    ref_len ref_misc  ref_start  ref_end alt_chr    alt_len alt_misc  alt_start  alt_end\n",
        "0   chain   4900    chr1  249250621        .          1   811670    chr1  249172906        .          1   811660\n",
        "1   chain   4900    chr1  249250621        .     811670   904757    chr1  249172906        .     811660   904749\n",
        "2   chain   4900    chr1  249250621        .     904757  1092688    chr1  249172906        .     904749  1092681\n",
        "3   chain   4900    chr1  249250621        .    1092689  1103690    chr1  249172906        .    1092662  1103665\n",
        "4   chain   4900    chr1  249250621        .    1103690  1233112    chr1  249172906        .    1103665  1233085\n",
        "5   chain   4900    chr1  249250621        .    1233112  1276973    chr1  249172906        .    1233085  1276950\n",
        "6   chain   4900    chr1  249250621        .    1276973  1291159    chr1  249172906        .    1276950  1291135\n",
        "7   chain   4900    chr1  249250621        .    1291159  1301199    chr1  249172906        .    1291135  1301174\n",
        "8   chain   4900    chr1  249250621        .    1301199  1302672    chr1  249172906        .    1301174  1302649\n",
        "9   chain   4900    chr1  249250621        .    1302672  1366406    chr1  249172906        .    1302649  1366375\n",
        "10  chain   4900    chr1  249250621        .    1366406  1546949    chr1  249172906        .    1366375  1546917\n",
        "11  chain   4900    chr1  249250621        .    1546949  1566067    chr1  249172906        .    1546917  1566034\n",
        "12  chain   4900    chr1  249250621        .    1566067  1648339    chr1  249172906        .    1566034  1648312\n",
        "13  chain   4900    chr1  249250621        .    1648339  1702495    chr1  249172906        .    1648312  1702467\n",
        "14  chain   4900    chr1  249250621        .    1702495  1704797    chr1  249172906        .    1702467  1704768\n",
        "15  chain   4900    chr1  249250621        .    1704797  1735421    chr1  249172906        .    1704768  1735393\n",
        "16  chain   4900    chr1  249250621        .    1735421  1807276    chr1  249172906        .    1735393  1807247\n",
        "17  chain   4900    chr1  249250621        .    1807276  1853615    chr1  249172906        .    1807247  1853590\n",
        "18  chain   4900    chr1  249250621        .    1853615  1853617    chr1  249172906        .    1853590  1853596\n",
        "19  chain   4900    chr1  249250621        .    1853617  2101933    chr1  249172906        .    1853596  2101916\n",
        "20  chain   4900    chr1  249250621        .    2101933  2243616    chr1  249172906        .    2101916  2243604\n",
        "21  chain   4900    chr1  249250621        .    2243616  2256415    chr1  249172906        .    2243604  2256406\n",
        "22  chain   4900    chr1  249250621        .    2256415  2269082    chr1  249172906        .    2256406  2269071\n",
        "23  chain   4900    chr1  249250621        .    2269082  2347840    chr1  249172906        .    2269071  2347834\n",
        "24  chain   4900    chr1  249250621        .    2347840  2351410    chr1  249172906        .    2347834  2351403\n",
        "25  chain   4900    chr1  249250621        .    2351410  2362586    chr1  249172906        .    2351403  2362577\n",
        "26  chain   4900    chr1  249250621        .    2362586  2776003    chr1  249172906        .    2362577  2775995\n",
        "27  chain   4900    chr1  249250621        .    2776003  2789572    chr1  249172906        .    2775995  2789563\n",
        "28  chain   4900    chr1  249250621        .    2789572  2886951    chr1  249172906        .    2789563  2886943\n",
        "29  chain   4900    chr1  249250621        .    2886951  2886954    chr1  249172906        .    2886943  2886947\n",
        "30  chain   4900    chr1  249250621        .    2886954  3002692    chr1  249172906        .    2886947  3002689\n",
        "31  chain   4900    chr1  249250621        .    3002692  3008886    chr1  249172906        .    3002689  3008873\n",
        "32  chain   4900    chr1  249250621        .    3008886  3142135    chr1  249172906        .    3008873  3142118\n",
        "33  chain   4900    chr1  249250621        .    3142135  3156620    chr1  249172906        .    3142118  3156593\n",
        "34  chain   4900    chr1  249250621        .    3156620  3159942    chr1  249172906        .    3156593  3159914\n",
        "35  chain   4900    chr1  249250621        .    3159942  3174158    chr1  249172906        .    3159914  3174129\n",
        "36  chain   4900    chr1  249250621        .    3174158  3196439    chr1  249172906        .    3174129  3196409\n",
        "37  chain   4900    chr1  249250621        .    3196439  3310927    chr1  249172906        .    3196409  3310899\n",
        "38  chain   4900    chr1  249250621        .    3310927  3310928    chr1  249172906        .    3310899  3310902\n",
        "39  chain   4900    chr1  249250621        .    3310928  3357238    chr1  249172906        .    3310902  3357213\n",
        "40  chain   4900    chr1  249250621        .    3357238  3358268    chr1  249172906        .    3357213  3358244\n",
        "41  chain   4900    chr1  249250621        .    3358268  3358269    chr1  249172906        .    3358244  3358246\n",
        "42  chain   4900    chr1  249250621        .    3358269  3403743    chr1  249172906        .    3358246  3403718\n",
        "43  chain   4900    chr1  249250621        .    3403743  3527075    chr1  249172906        .    3403718  3527052\n",
        "44  chain   4900    chr1  249250621        .    3527075  3527076    chr1  249172906        .    3527052  3527055\n",
        "45  chain   4900    chr1  249250621        .    3527076  3545175    chr1  249172906        .    3527055  3545135\n",
        "46  chain   4900    chr1  249250621        .    3545175  3693132    chr1  249172906        .    3545135  3693091\n",
        "47  chain   4900    chr1  249250621        .    3693132  3707456    chr1  249172906        .    3693091  3707416\n",
        "48  chain   4900    chr1  249250621        .    3707456  3743433    chr1  249172906        .    3707416  3743394\n",
        "49  chain   4900    chr1  249250621        .    3743433  3761273    chr1  249172906        .    3743394  3761235\n",
        "50  chain   4900    chr1  249250621        .    3761273  3825021    chr1  249172906        .    3761235  3824977\n",
        "51  chain   4900    chr1  249250621        .    3825021  4045915    chr1  249172906        .    3824977  4045869\n",
        "52  chain   4900    chr1  249250621        .    4045915  4045937    chr1  249172906        .    4045869  4045890\n",
        "53  chain   4900    chr1  249250621        .    4045937  4156883    chr1  249172906        .    4045890  4156835\n",
        "54  chain   4900    chr1  249250621        .    4156883  4198042    chr1  249172906        .    4156835  4197997\n",
        "55  chain   4900    chr1  249250621        .    4198042  4222749    chr1  249172906        .    4197997  4222705\n",
        "56  chain   4900    chr1  249250621        .    4222749  4222751    chr1  249172906        .    4222705  4222708\n",
        "57  chain   4900    chr1  249250621        .    4222751  4249518    chr1  249172906        .    4222708  4249478\n",
        "58  chain   4900    chr1  249250621        .    4249518  4280497    chr1  249172906        .    4249478  4280458\n",
        "59  chain   4900    chr1  249250621        .    4280497  4280499    chr1  249172906        .    4280458  4280461\n",
        "      ...    ...     ...        ...      ...        ...      ...     ...        ...      ...        ...      ...\n",
        "\n",
        "[71768 rows x 12 columns]"
       ]
      }
     ],
     "prompt_number": 18
    }
   ],
   "metadata": {}
  }
 ]
}