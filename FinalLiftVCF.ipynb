{
 "metadata": {
  "name": ""
 },
 "nbformat": 3,
 "nbformat_minor": 0,
 "worksheets": [
  {
   "cells": [
    {
     "cell_type": "code",
     "collapsed": false,
     "input": [
      "# sets up the environment - use everytime\n",
      "%matplotlib inline\n",
      "%run ipy_setup.py\n",
      "rcParams['figure.figsize'] = (30, 10)\n",
      "rcParams['patch.edgecolor'] = 'blue'\n",
      "rcParams['figure.dpi'] = 300\n",
      "rcParams['font.size'] = 14\n",
      "rcParams['font.family'] = 'sans-serif'"
     ],
     "language": "python",
     "metadata": {},
     "outputs": [],
     "prompt_number": 1
    },
    {
     "cell_type": "code",
     "collapsed": false,
     "input": [
      "lifttable = ''\n",
      "last_chr = ''\n",
      "lift_til = 0\n",
      "delta = 0\n",
      "    \n",
      "# this is the code to make liftovers work going in the hg## --> AFRG1 direction\n",
      "def lift_master(ref_pos, liftover, chrom, reverse):\n",
      "    global lifttable\n",
      "    global start_idx\n",
      "    global end_idx\n",
      "    global last_chr\n",
      "    global lift_til\n",
      "    global delta\n",
      "    if reverse==False:\n",
      "        if last_chr != chrom:\n",
      "            # this is where we subset the liftover array\n",
      "            lifttable = liftover.loc[chrom]\n",
      "            start_idx = lifttable.index.get_level_values('ref_start')\n",
      "            end_idx = lifttable.index.get_level_values('ref_end')\n",
      "            last_chr = chrom\n",
      "            delta = 0\n",
      "        if ref_pos > lift_til: # check if cached?\n",
      "            try:\n",
      "                delta, lift_til = liftdelta(ref_pos, lifttable, start_idx, end_idx, reverse) # converts position into alt ref pos\n",
      "            except:\n",
      "                return None\n",
      "    elif reverse==True:\n",
      "        if last_chr != chrom:\n",
      "            # this is where we subset the liftover array\n",
      "            lifttable = liftover.loc[chrom]\n",
      "            start_idx = lifttable.index.get_level_values('alt_start')\n",
      "            end_idx = lifttable.index.get_level_values('alt_end')\n",
      "            last_chr = chrom\n",
      "        if ref_pos > lift_til: # check if cached?\n",
      "            try:\n",
      "                delta, lift_til = liftdelta(ref_pos, lifttable, reverse) # converts position into alt ref pos\n",
      "            except:\n",
      "                return None\n",
      "    else:\n",
      "        assert False, \"unhandled command\"\n",
      "    return ref_pos + delta\n",
      "    \n",
      "\n",
      "def liftdelta(pos, liftover, start_idx, end_idx, reverse):\n",
      "    match = liftover.loc[(start_idx <= pos) & (end_idx > pos)].reset_index().irow(0)\n",
      "    if reverse==False:\n",
      "        return match['alt_start'] - match['ref_start'], match['ref_end']\n",
      "    if reverse==True:\n",
      "        return match['ref_start'] - match['alt_start'], match['alt_end']"
     ],
     "language": "python",
     "metadata": {},
     "outputs": [],
     "prompt_number": 12
    },
    {
     "cell_type": "code",
     "collapsed": false,
     "input": [
      "def liftoverVCF(ref_vcf, liftover_file, out_file, reverse=False): # this goes from hg## --> AFRG1 direction\n",
      "    outarr = []\n",
      "    num = subprocess.check_output('head -n 1000 ' + ref_vcf + ' | grep \"#\" | wc -l', shell=True)\n",
      "    vcffile = pd.read_csv(ref_vcf, header=None, sep='\\t', skiprows=int(num))\n",
      "    \n",
      "    colnames=['chain','score','ref_chr','ref_len','ref_misc','ref_start','ref_end',\n",
      "              'alt_chr','alt_len','alt_misc','alt_start','alt_end']\n",
      "    \n",
      "    chr_names=[\"chr1\",\"chr2\",\"chr3\",\"chr4\",\"chr5\",\"chr6\",\"chr7\",\"chr8\",\"chr9\",\"chr10\",\"chr11\",\"chr12\",\"chr13\",\n",
      "               \"chr14\",\"chr15\",\"chr16\",\"chr17\",\"chr18\",\"chr19\",\"chr20\",\"chr21\",\"chr22\",\"chrX\",\"chrY\"]\n",
      "    \n",
      "    liftover = pd.read_csv(liftover_file,sep='\\t',header=None, \n",
      "                       names=colnames)\n",
      "    \n",
      "    if reverse==False:\n",
      "        liftover.set_index(['ref_chr', 'ref_start', 'ref_end'], inplace=True)\n",
      "    elif reverse==True:\n",
      "        liftover.set_index(['alt_chr', 'alt_start', 'alt_end'], inplace=True)\n",
      "    \n",
      "    # now that we're init'd, let's start\n",
      "    pbar = ProgressBar(len(vcffile))\n",
      "    for chrom in chr_names:\n",
      "        last_pos = 0\n",
      "        tmp = vcffile[vcffile[0]==chrom]\n",
      "        for a,line in tmp.iterrows():\n",
      "            pbar.animate()\n",
      "            outline = line\n",
      "            pos = lift_master(line[1], liftover, chrom, reverse)\n",
      "            if pos != None:\n",
      "                if last_pos < pos:\n",
      "                    last_pos = pos\n",
      "                    outline[1] = pos\n",
      "                    outarr.append(outline)\n",
      "                else:\n",
      "                    sys.stderr.write('WARN: pos ' + str(pos) + ' is less than or equal to last_pos ' + str(last_pos) + '\\n')\n",
      "                    sys.stderr.flush()\n",
      "    outarr = pd.DataFrame(outarr)\n",
      "    outarr[1] = outarr[1].astype(int) # to make sure the position is in bases, not a float\n",
      "    outarr.to_csv(out_file, header=None, sep='\\t', index=None) # and we're done!        "
     ],
     "language": "python",
     "metadata": {},
     "outputs": [
      {
       "output_type": "stream",
       "stream": "stdout",
       "text": [
        "\n"
       ]
      }
     ],
     "prompt_number": 11
    },
    {
     "cell_type": "code",
     "collapsed": false,
     "input": [
      "ref_vcf = '/data/projects_gibbons/home/neffra/training/hapmap_hg38_noalt.vcf'\n",
      "liftover_file='/data/projects_gibbons/home/neffra/nodel_AFRGh38/liftover_AFRGh38_nodel.chain'\n",
      "out_file = '/data/projects_gibbons/home/neffra/nodel_AFRGh38/hapmap_3_AFRGh38_nodel.vcf'\n",
      "liftoverVCF(ref_vcf, liftover_file, out_file) # fastest possible implementation"
     ],
     "language": "python",
     "metadata": {},
     "outputs": [
      {
       "output_type": "stream",
       "stream": "stdout",
       "text": [
        "\r",
        "[                  0%                  ]"
       ]
      },
      {
       "output_type": "stream",
       "stream": "stdout",
       "text": [
        " \r",
        "[                  0%                  ]  4841 of 4162827 complete Elapsed: 0.0 minutes\t Remaining: 21.5 minutes"
       ]
      },
      {
       "output_type": "stream",
       "stream": "stdout",
       "text": [
        " \r",
        "[                  0%                  ]  13429 of 4162827 complete Elapsed: 0.1 minutes\t Remaining: 15.5 minutes"
       ]
      },
      {
       "output_type": "stream",
       "stream": "stdout",
       "text": [
        " \r",
        "[                  1%                  ]  21943 of 4162827 complete Elapsed: 0.1 minutes\t Remaining: 14.2 minutes"
       ]
      },
      {
       "output_type": "stream",
       "stream": "stdout",
       "text": [
        " \r",
        "[                  1%                  ]  29953 of 4162827 complete Elapsed: 0.1 minutes\t Remaining: 13.8 minutes"
       ]
      },
      {
       "output_type": "stream",
       "stream": "stdout",
       "text": [
        " \r",
        "[                  1%                  ]  38526 of 4162827 complete Elapsed: 0.1 minutes\t Remaining: 13.4 minutes"
       ]
      },
      {
       "output_type": "stream",
       "stream": "stdout",
       "text": [
        " \r",
        "[                  1%                  ]  46347 of 4162827 complete Elapsed: 0.2 minutes\t Remaining: 13.3 minutes"
       ]
      },
      {
       "output_type": "stream",
       "stream": "stdout",
       "text": [
        " \r",
        "[                  1%                  ]  55133 of 4162827 complete Elapsed: 0.2 minutes\t Remaining: 13.0 minutes"
       ]
      },
      {
       "output_type": "stream",
       "stream": "stdout",
       "text": [
        " \r",
        "[*                 2%                  ]  62714 of 4162827 complete Elapsed: 0.2 minutes\t Remaining: 13.1 minutes"
       ]
      },
      {
       "output_type": "stream",
       "stream": "stdout",
       "text": [
        " \r",
        "[*                 2%                  ]  71939 of 4162827 complete Elapsed: 0.2 minutes\t Remaining: 12.8 minutes"
       ]
      },
      {
       "output_type": "stream",
       "stream": "stdout",
       "text": [
        " \r",
        "[*                 2%                  ]  79369 of 4162827 complete Elapsed: 0.3 minutes\t Remaining: 12.9 minutes"
       ]
      },
      {
       "output_type": "stream",
       "stream": "stdout",
       "text": [
        " \r",
        "[*                 2%                  ]  87533 of 4162827 complete Elapsed: 0.3 minutes\t Remaining: 12.8 minutes"
       ]
      },
      {
       "output_type": "stream",
       "stream": "stdout",
       "text": [
        " \r",
        "[*                 2%                  ]  93444 of 4162827 complete Elapsed: 0.3 minutes\t Remaining: 13.1 minutes"
       ]
      },
      {
       "output_type": "stream",
       "stream": "stdout",
       "text": [
        " \r",
        "[*                 2%                  ]  101770 of 4162827 complete Elapsed: 0.3 minutes\t Remaining: 13.0 minutes"
       ]
      },
      {
       "output_type": "stream",
       "stream": "stdout",
       "text": [
        " \r",
        "[*                 3%                  ]  110073 of 4162827 complete Elapsed: 0.4 minutes\t Remaining: 12.9 minutes"
       ]
      },
      {
       "output_type": "stream",
       "stream": "stdout",
       "text": [
        " \r",
        "[*                 3%                  ]  118559 of 4162827 complete Elapsed: 0.4 minutes\t Remaining: 12.8 minutes"
       ]
      },
      {
       "output_type": "stream",
       "stream": "stdout",
       "text": [
        " \r",
        "[*                 3%                  ]  123544 of 4162827 complete Elapsed: 0.4 minutes\t Remaining: 13.1 minutes"
       ]
      },
      {
       "output_type": "stream",
       "stream": "stdout",
       "text": [
        " \r",
        "[*                 3%                  ]  131521 of 4162827 complete Elapsed: 0.4 minutes\t Remaining: 13.1 minutes"
       ]
      },
      {
       "output_type": "stream",
       "stream": "stdout",
       "text": [
        " \r",
        "[*                 3%                  ]  139997 of 4162827 complete Elapsed: 0.5 minutes\t Remaining: 13.0 minutes"
       ]
      },
      {
       "output_type": "stream",
       "stream": "stdout",
       "text": [
        " \r",
        "[**                4%                  ]  148035 of 4162827 complete Elapsed: 0.5 minutes\t Remaining: 12.9 minutes"
       ]
      },
      {
       "output_type": "stream",
       "stream": "stdout",
       "text": [
        " \r",
        "[**                4%                  ]  152208 of 4162827 complete Elapsed: 0.5 minutes\t Remaining: 13.2 minutes"
       ]
      },
      {
       "output_type": "stream",
       "stream": "stdout",
       "text": [
        " \r",
        "[**                4%                  ]  160635 of 4162827 complete Elapsed: 0.5 minutes\t Remaining: 13.1 minutes"
       ]
      },
      {
       "output_type": "stream",
       "stream": "stdout",
       "text": [
        " \r",
        "[**                4%                  ]  168951 of 4162827 complete Elapsed: 0.6 minutes\t Remaining: 13.0 minutes"
       ]
      },
      {
       "output_type": "stream",
       "stream": "stdout",
       "text": [
        " \r",
        "[**                4%                  ]  177398 of 4162827 complete Elapsed: 0.6 minutes\t Remaining: 12.9 minutes"
       ]
      },
      {
       "output_type": "stream",
       "stream": "stdout",
       "text": [
        " \r",
        "[**                4%                  ]  185883 of 4162827 complete Elapsed: 0.6 minutes\t Remaining: 12.9 minutes"
       ]
      },
      {
       "output_type": "stream",
       "stream": "stdout",
       "text": [
        " \r",
        "[**                5%                  ]  190913 of 4162827 complete Elapsed: 0.6 minutes\t Remaining: 13.1 minutes"
       ]
      },
      {
       "output_type": "stream",
       "stream": "stdout",
       "text": [
        " \r",
        "[**                5%                  ]  199590 of 4162827 complete Elapsed: 0.7 minutes\t Remaining: 13.0 minutes"
       ]
      },
      {
       "output_type": "stream",
       "stream": "stdout",
       "text": [
        " \r",
        "[**                5%                  ]  208248 of 4162827 complete Elapsed: 0.7 minutes\t Remaining: 12.9 minutes"
       ]
      },
      {
       "output_type": "stream",
       "stream": "stdout",
       "text": [
        " \r",
        "[**                5%                  ]  216165 of 4162827 complete Elapsed: 0.7 minutes\t Remaining: 12.9 minutes"
       ]
      },
      {
       "output_type": "stream",
       "stream": "stdout",
       "text": [
        " \r",
        "[**                5%                  ]  224448 of 4162827 complete Elapsed: 0.7 minutes\t Remaining: 12.8 minutes"
       ]
      },
      {
       "output_type": "stream",
       "stream": "stdout",
       "text": [
        " \r",
        "[**                6%                  ]  232367 of 4162827 complete Elapsed: 0.8 minutes\t Remaining: 12.8 minutes"
       ]
      },
      {
       "output_type": "stream",
       "stream": "stdout",
       "text": [
        " \r",
        "[**                6%                  ]  240369 of 4162827 complete Elapsed: 0.8 minutes\t Remaining: 12.7 minutes"
       ]
      },
      {
       "output_type": "stream",
       "stream": "stdout",
       "text": [
        " \r",
        "[**                6%                  ]  242966 of 4162827 complete Elapsed: 0.8 minutes\t Remaining: 13.0 minutes"
       ]
      },
      {
       "output_type": "stream",
       "stream": "stdout",
       "text": [
        " \r",
        "[**                6%                  ]  251220 of 4162827 complete Elapsed: 0.8 minutes\t Remaining: 12.9 minutes"
       ]
      },
      {
       "output_type": "stream",
       "stream": "stdout",
       "text": [
        " \r",
        "[**                6%                  ]  259728 of 4162827 complete Elapsed: 0.9 minutes\t Remaining: 12.9 minutes"
       ]
      },
      {
       "output_type": "stream",
       "stream": "stdout",
       "text": [
        " \r",
        "[**                6%                  ]  267957 of 4162827 complete Elapsed: 0.9 minutes\t Remaining: 12.8 minutes"
       ]
      },
      {
       "output_type": "stream",
       "stream": "stdout",
       "text": [
        " \r",
        "[***               7%                  ]  276462 of 4162827 complete Elapsed: 0.9 minutes\t Remaining: 12.7 minutes"
       ]
      },
      {
       "output_type": "stream",
       "stream": "stdout",
       "text": [
        " \r",
        "[***               7%                  ]  285011 of 4162827 complete Elapsed: 0.9 minutes\t Remaining: 12.7 minutes"
       ]
      },
      {
       "output_type": "stream",
       "stream": "stdout",
       "text": [
        " \r",
        "[***               7%                  ]  293020 of 4162827 complete Elapsed: 1.0 minutes\t Remaining: 12.6 minutes"
       ]
      },
      {
       "output_type": "stream",
       "stream": "stdout",
       "text": [
        " \r",
        "[***               7%                  ]  301569 of 4162827 complete Elapsed: 1.0 minutes\t Remaining: 12.6 minutes"
       ]
      },
      {
       "output_type": "stream",
       "stream": "stdout",
       "text": [
        " \r",
        "[***               7%                  ]  304980 of 4162827 complete Elapsed: 1.0 minutes\t Remaining: 12.8 minutes"
       ]
      },
      {
       "output_type": "stream",
       "stream": "stdout",
       "text": [
        " \r",
        "[***               8%                  ]  313311 of 4162827 complete Elapsed: 1.0 minutes\t Remaining: 12.7 minutes"
       ]
      },
      {
       "output_type": "stream",
       "stream": "stdout",
       "text": [
        " \r",
        "[***               8%                  ]  321369 of 4162827 complete Elapsed: 1.1 minutes\t Remaining: 12.7 minutes"
       ]
      },
      {
       "output_type": "stream",
       "stream": "stdout",
       "text": [
        " \r",
        "[***               8%                  ]  325741 of 4162827 complete Elapsed: 1.1 minutes\t Remaining: 12.8 minutes"
       ]
      },
      {
       "output_type": "stream",
       "stream": "stdout",
       "text": [
        " \r",
        "[***               8%                  ]  336552 of 4162827 complete Elapsed: 1.1 minutes\t Remaining: 12.6 minutes"
       ]
      },
      {
       "output_type": "stream",
       "stream": "stdout",
       "text": [
        " \r",
        "[***               8%                  ]  347430 of 4162827 complete Elapsed: 1.1 minutes\t Remaining: 12.5 minutes"
       ]
      },
      {
       "output_type": "stream",
       "stream": "stdout",
       "text": [
        " \r",
        "[***               9%                  ]  358321 of 4162827 complete Elapsed: 1.2 minutes\t Remaining: 12.3 minutes"
       ]
      },
      {
       "output_type": "stream",
       "stream": "stdout",
       "text": [
        " \r",
        "[***               9%                  ]  369198 of 4162827 complete Elapsed: 1.2 minutes\t Remaining: 12.2 minutes"
       ]
      },
      {
       "output_type": "stream",
       "stream": "stdout",
       "text": [
        " \r",
        "[***               9%                  ]  380082 of 4162827 complete Elapsed: 1.2 minutes\t Remaining: 12.1 minutes"
       ]
      },
      {
       "output_type": "stream",
       "stream": "stdout",
       "text": [
        " \r",
        "[***               9%                  ]  382167 of 4162827 complete Elapsed: 1.2 minutes\t Remaining: 12.3 minutes"
       ]
      },
      {
       "output_type": "stream",
       "stream": "stdout",
       "text": [
        " \r",
        "[***               9%                  ]  393066 of 4162827 complete Elapsed: 1.3 minutes\t Remaining: 12.1 minutes"
       ]
      },
      {
       "output_type": "stream",
       "stream": "stdout",
       "text": [
        " \r",
        "[****             10%                  ]  403907 of 4162827 complete Elapsed: 1.3 minutes\t Remaining: 12.0 minutes"
       ]
      },
      {
       "output_type": "stream",
       "stream": "stdout",
       "text": [
        " \r",
        "[****             10%                  ]  414736 of 4162827 complete Elapsed: 1.3 minutes\t Remaining: 11.9 minutes"
       ]
      },
      {
       "output_type": "stream",
       "stream": "stdout",
       "text": [
        " \r",
        "[****             10%                  ]  425523 of 4162827 complete Elapsed: 1.3 minutes\t Remaining: 11.8 minutes"
       ]
      },
      {
       "output_type": "stream",
       "stream": "stdout",
       "text": [
        " \r",
        "[****             10%                  ]  436320 of 4162827 complete Elapsed: 1.4 minutes\t Remaining: 11.7 minutes"
       ]
      },
      {
       "output_type": "stream",
       "stream": "stdout",
       "text": [
        " \r",
        "[****             11%                  ]  447165 of 4162827 complete Elapsed: 1.4 minutes\t Remaining: 11.6 minutes"
       ]
      },
      {
       "output_type": "stream",
       "stream": "stdout",
       "text": [
        " \r",
        "[****             11%                  ]  457986 of 4162827 complete Elapsed: 1.4 minutes\t Remaining: 11.5 minutes"
       ]
      },
      {
       "output_type": "stream",
       "stream": "stdout",
       "text": [
        " \r",
        "[****             11%                  ]  468871 of 4162827 complete Elapsed: 1.4 minutes\t Remaining: 11.4 minutes"
       ]
      },
      {
       "output_type": "stream",
       "stream": "stdout",
       "text": [
        " \r",
        "[*****            12%                  ]  479772 of 4162827 complete Elapsed: 1.5 minutes\t Remaining: 11.3 minutes"
       ]
      },
      {
       "output_type": "stream",
       "stream": "stdout",
       "text": [
        " \r",
        "[*****            12%                  ]  480662 of 4162827 complete Elapsed: 1.5 minutes\t Remaining: 11.5 minutes"
       ]
      },
      {
       "output_type": "stream",
       "stream": "stdout",
       "text": [
        " \r",
        "[*****            12%                  ]  491459 of 4162827 complete Elapsed: 1.5 minutes\t Remaining: 11.4 minutes"
       ]
      },
      {
       "output_type": "stream",
       "stream": "stdout",
       "text": [
        " \r",
        "[*****            12%                  ]  502317 of 4162827 complete Elapsed: 1.5 minutes\t Remaining: 11.3 minutes"
       ]
      },
      {
       "output_type": "stream",
       "stream": "stdout",
       "text": [
        " \r",
        "[*****            12%                  ]  513173 of 4162827 complete Elapsed: 1.6 minutes\t Remaining: 11.2 minutes"
       ]
      },
      {
       "output_type": "stream",
       "stream": "stdout",
       "text": [
        " \r",
        "[*****            13%                  ]  524026 of 4162827 complete Elapsed: 1.6 minutes\t Remaining: 11.1 minutes"
       ]
      },
      {
       "output_type": "stream",
       "stream": "stdout",
       "text": [
        " \r",
        "[*****            13%                  ]  534826 of 4162827 complete Elapsed: 1.6 minutes\t Remaining: 11.0 minutes"
       ]
      },
      {
       "output_type": "stream",
       "stream": "stdout",
       "text": [
        " \r",
        "[*****            13%                  ]  545699 of 4162827 complete Elapsed: 1.6 minutes\t Remaining: 10.9 minutes"
       ]
      },
      {
       "output_type": "stream",
       "stream": "stdout",
       "text": [
        " \r",
        "[*****            13%                  ]  556345 of 4162827 complete Elapsed: 1.7 minutes\t Remaining: 10.8 minutes"
       ]
      },
      {
       "output_type": "stream",
       "stream": "stdout",
       "text": [
        " \r",
        "[*****            14%                  ]  567213 of 4162827 complete Elapsed: 1.7 minutes\t Remaining: 10.8 minutes"
       ]
      },
      {
       "output_type": "stream",
       "stream": "stdout",
       "text": [
        " \r",
        "[*****            14%                  ]  578076 of 4162827 complete Elapsed: 1.7 minutes\t Remaining: 10.7 minutes"
       ]
      },
      {
       "output_type": "stream",
       "stream": "stdout",
       "text": [
        " \r",
        "[*****            14%                  ]  588919 of 4162827 complete Elapsed: 1.7 minutes\t Remaining: 10.6 minutes"
       ]
      },
      {
       "output_type": "stream",
       "stream": "stdout",
       "text": [
        " \r",
        "[*****            14%                  ]  599752 of 4162827 complete Elapsed: 1.8 minutes\t Remaining: 10.5 minutes"
       ]
      },
      {
       "output_type": "stream",
       "stream": "stdout",
       "text": [
        " \r",
        "[*****            14%                  ]  603146 of 4162827 complete Elapsed: 1.8 minutes\t Remaining: 10.7 minutes"
       ]
      },
      {
       "output_type": "stream",
       "stream": "stdout",
       "text": [
        " \r",
        "[******           15%                  ]  614014 of 4162827 complete Elapsed: 1.8 minutes\t Remaining: 10.6 minutes"
       ]
      },
      {
       "output_type": "stream",
       "stream": "stdout",
       "text": [
        " \r",
        "[******           15%                  ]  624833 of 4162827 complete Elapsed: 1.9 minutes\t Remaining: 10.6 minutes"
       ]
      },
      {
       "output_type": "stream",
       "stream": "stdout",
       "text": [
        " \r",
        "[******           15%                  ]  635653 of 4162827 complete Elapsed: 1.9 minutes\t Remaining: 10.5 minutes"
       ]
      },
      {
       "output_type": "stream",
       "stream": "stdout",
       "text": [
        " \r",
        "[******           16%                  ]  646501 of 4162827 complete Elapsed: 1.9 minutes\t Remaining: 10.4 minutes"
       ]
      },
      {
       "output_type": "stream",
       "stream": "stdout",
       "text": [
        " \r",
        "[******           16%                  ]  657359 of 4162827 complete Elapsed: 1.9 minutes\t Remaining: 10.3 minutes"
       ]
      },
      {
       "output_type": "stream",
       "stream": "stdout",
       "text": [
        " \r",
        "[******           16%                  ]  663184 of 4162827 complete Elapsed: 2.0 minutes\t Remaining: 10.4 minutes"
       ]
      },
      {
       "output_type": "stream",
       "stream": "stdout",
       "text": [
        " \r",
        "[******           16%                  ]  674097 of 4162827 complete Elapsed: 2.0 minutes\t Remaining: 10.3 minutes"
       ]
      },
      {
       "output_type": "stream",
       "stream": "stdout",
       "text": [
        " \r",
        "[******           16%                  ]  684998 of 4162827 complete Elapsed: 2.0 minutes\t Remaining: 10.2 minutes"
       ]
      },
      {
       "output_type": "stream",
       "stream": "stdout",
       "text": [
        " \r",
        "[******           17%                  ]  695901 of 4162827 complete Elapsed: 2.0 minutes\t Remaining: 10.2 minutes"
       ]
      },
      {
       "output_type": "stream",
       "stream": "stdout",
       "text": [
        " \r",
        "[******           17%                  ]  706813 of 4162827 complete Elapsed: 2.1 minutes\t Remaining: 10.1 minutes"
       ]
      },
      {
       "output_type": "stream",
       "stream": "stdout",
       "text": [
        " \r",
        "[******           17%                  ]  717712 of 4162827 complete Elapsed: 2.1 minutes\t Remaining: 10.0 minutes"
       ]
      },
      {
       "output_type": "stream",
       "stream": "stdout",
       "text": [
        " \r",
        "[*******          18%                  ]  728611 of 4162827 complete Elapsed: 2.1 minutes\t Remaining: 10.0 minutes"
       ]
      },
      {
       "output_type": "stream",
       "stream": "stdout",
       "text": [
        " \r",
        "[*******          18%                  ]  739503 of 4162827 complete Elapsed: 2.1 minutes\t Remaining: 9.9 minutes"
       ]
      },
      {
       "output_type": "stream",
       "stream": "stdout",
       "text": [
        " \r",
        "[*******          18%                  ]  750410 of 4162827 complete Elapsed: 2.2 minutes\t Remaining: 9.8 minutes"
       ]
      },
      {
       "output_type": "stream",
       "stream": "stdout",
       "text": [
        " \r",
        "[*******          18%                  ]  756904 of 4162827 complete Elapsed: 2.2 minutes\t Remaining: 10.0 minutes"
       ]
      },
      {
       "output_type": "stream",
       "stream": "stdout",
       "text": [
        " \r",
        "[*******          18%                  ]  767863 of 4162827 complete Elapsed: 2.2 minutes\t Remaining: 9.9 minutes"
       ]
      },
      {
       "output_type": "stream",
       "stream": "stdout",
       "text": [
        " \r",
        "[*******          19%                  ]  778716 of 4162827 complete Elapsed: 2.3 minutes\t Remaining: 9.9 minutes"
       ]
      },
      {
       "output_type": "stream",
       "stream": "stdout",
       "text": [
        " \r",
        "[*******          19%                  ]  789554 of 4162827 complete Elapsed: 2.3 minutes\t Remaining: 9.8 minutes"
       ]
      },
      {
       "output_type": "stream",
       "stream": "stdout",
       "text": [
        " \r",
        "[*******          19%                  ]  800410 of 4162827 complete Elapsed: 2.3 minutes\t Remaining: 9.8 minutes"
       ]
      },
      {
       "output_type": "stream",
       "stream": "stdout",
       "text": [
        " \r",
        "[*******          19%                  ]  811278 of 4162827 complete Elapsed: 2.3 minutes\t Remaining: 9.7 minutes"
       ]
      },
      {
       "output_type": "stream",
       "stream": "stdout",
       "text": [
        " \r",
        "[********         20%                  ]  822122 of 4162827 complete Elapsed: 2.4 minutes\t Remaining: 9.6 minutes"
       ]
      },
      {
       "output_type": "stream",
       "stream": "stdout",
       "text": [
        " \r",
        "[********         20%                  ]  832979 of 4162827 complete Elapsed: 2.4 minutes\t Remaining: 9.6 minutes"
       ]
      },
      {
       "output_type": "stream",
       "stream": "stdout",
       "text": [
        " \r",
        "[********         20%                  ]  843823 of 4162827 complete Elapsed: 2.4 minutes\t Remaining: 9.5 minutes"
       ]
      },
      {
       "output_type": "stream",
       "stream": "stdout",
       "text": [
        " \r",
        "[********         21%                  ]  854676 of 4162827 complete Elapsed: 2.4 minutes\t Remaining: 9.5 minutes"
       ]
      },
      {
       "output_type": "stream",
       "stream": "stdout",
       "text": [
        " \r",
        "[********         21%                  ]  865557 of 4162827 complete Elapsed: 2.5 minutes\t Remaining: 9.4 minutes"
       ]
      },
      {
       "output_type": "stream",
       "stream": "stdout",
       "text": [
        " \r",
        "[********         21%                  ]  876402 of 4162827 complete Elapsed: 2.5 minutes\t Remaining: 9.4 minutes"
       ]
      },
      {
       "output_type": "stream",
       "stream": "stdout",
       "text": [
        " \r",
        "[********         21%                  ]  887247 of 4162827 complete Elapsed: 2.5 minutes\t Remaining: 9.3 minutes"
       ]
      },
      {
       "output_type": "stream",
       "stream": "stdout",
       "text": [
        " \r",
        "[********         22%                  ]  898098 of 4162827 complete Elapsed: 2.5 minutes\t Remaining: 9.3 minutes"
       ]
      },
      {
       "output_type": "stream",
       "stream": "stdout",
       "text": [
        " \r",
        "[********         22%                  ]  908947 of 4162827 complete Elapsed: 2.6 minutes\t Remaining: 9.2 minutes"
       ]
      },
      {
       "output_type": "stream",
       "stream": "stdout",
       "text": [
        " \r",
        "[********         22%                  ]  919788 of 4162827 complete Elapsed: 2.6 minutes\t Remaining: 9.2 minutes"
       ]
      },
      {
       "output_type": "stream",
       "stream": "stdout",
       "text": [
        " \r",
        "[********         22%                  ]  930623 of 4162827 complete Elapsed: 2.6 minutes\t Remaining: 9.1 minutes"
       ]
      },
      {
       "output_type": "stream",
       "stream": "stdout",
       "text": [
        " \r",
        "[********         22%                  ]  936579 of 4162827 complete Elapsed: 2.6 minutes\t Remaining: 9.1 minutes"
       ]
      },
      {
       "output_type": "stream",
       "stream": "stdout",
       "text": [
        " \r",
        "[*********        23%                  ]  947498 of 4162827 complete Elapsed: 2.7 minutes\t Remaining: 9.1 minutes"
       ]
      },
      {
       "output_type": "stream",
       "stream": "stdout",
       "text": [
        " \r",
        "[*********        23%                  ]  947767 of 4162827 complete Elapsed: 2.7 minutes\t Remaining: 9.3 minutes"
       ]
      },
      {
       "output_type": "stream",
       "stream": "stdout",
       "text": [
        " \r",
        "[*********        23%                  ]  958664 of 4162827 complete Elapsed: 2.8 minutes\t Remaining: 9.2 minutes"
       ]
      },
      {
       "output_type": "stream",
       "stream": "stdout",
       "text": [
        " \r",
        "[*********        23%                  ]  969537 of 4162827 complete Elapsed: 2.8 minutes\t Remaining: 9.1 minutes"
       ]
      },
      {
       "output_type": "stream",
       "stream": "stdout",
       "text": [
        " \r",
        "[*********        24%                  ]  980402 of 4162827 complete Elapsed: 2.8 minutes\t Remaining: 9.1 minutes"
       ]
      },
      {
       "output_type": "stream",
       "stream": "stdout",
       "text": [
        " \r",
        "[*********        24%                  ]  991238 of 4162827 complete Elapsed: 2.8 minutes\t Remaining: 9.0 minutes"
       ]
      },
      {
       "output_type": "stream",
       "stream": "stdout",
       "text": [
        " \r",
        "[*********        24%                  ]  1002079 of 4162827 complete Elapsed: 2.9 minutes\t Remaining: 9.0 minutes"
       ]
      },
      {
       "output_type": "stream",
       "stream": "stdout",
       "text": [
        " \r",
        "[*********        24%                  ]  1012928 of 4162827 complete Elapsed: 2.9 minutes\t Remaining: 8.9 minutes"
       ]
      },
      {
       "output_type": "stream",
       "stream": "stderr",
       "text": [
        "WARN: pos 68709989 is less than or equal to last_pos 68709989\n"
       ]
      },
      {
       "output_type": "stream",
       "stream": "stdout",
       "text": [
        " \r",
        "[**********       25%                  ]  1023780 of 4162827 complete Elapsed: 2.9 minutes\t Remaining: 8.9 minutes"
       ]
      },
      {
       "output_type": "stream",
       "stream": "stdout",
       "text": [
        " \r",
        "[**********       25%                  ]  1034619 of 4162827 complete Elapsed: 2.9 minutes\t Remaining: 8.9 minutes"
       ]
      },
      {
       "output_type": "stream",
       "stream": "stdout",
       "text": [
        " \r",
        "[**********       25%                  ]  1045462 of 4162827 complete Elapsed: 3.0 minutes\t Remaining: 8.8 minutes"
       ]
      },
      {
       "output_type": "stream",
       "stream": "stdout",
       "text": [
        " \r",
        "[**********       25%                  ]  1056296 of 4162827 complete Elapsed: 3.0 minutes\t Remaining: 8.8 minutes"
       ]
      },
      {
       "output_type": "stream",
       "stream": "stdout",
       "text": [
        " \r",
        "[**********       26%                  ]  1067143 of 4162827 complete Elapsed: 3.0 minutes\t Remaining: 8.7 minutes"
       ]
      },
      {
       "output_type": "stream",
       "stream": "stdout",
       "text": [
        " \r",
        "[**********       26%                  ]  1077974 of 4162827 complete Elapsed: 3.0 minutes\t Remaining: 8.7 minutes"
       ]
      },
      {
       "output_type": "stream",
       "stream": "stdout",
       "text": [
        " \r",
        "[**********       26%                  ]  1088789 of 4162827 complete Elapsed: 3.1 minutes\t Remaining: 8.6 minutes"
       ]
      },
      {
       "output_type": "stream",
       "stream": "stdout",
       "text": [
        " \r",
        "[**********       26%                  ]  1099698 of 4162827 complete Elapsed: 3.1 minutes\t Remaining: 8.6 minutes"
       ]
      },
      {
       "output_type": "stream",
       "stream": "stdout",
       "text": [
        " \r",
        "[**********       27%                  ]  1110548 of 4162827 complete Elapsed: 3.1 minutes\t Remaining: 8.5 minutes"
       ]
      },
      {
       "output_type": "stream",
       "stream": "stdout",
       "text": [
        " \r",
        "[**********       27%                  ]  1121392 of 4162827 complete Elapsed: 3.1 minutes\t Remaining: 8.5 minutes"
       ]
      },
      {
       "output_type": "stream",
       "stream": "stdout",
       "text": [
        " \r",
        "[**********       27%                  ]  1132241 of 4162827 complete Elapsed: 3.2 minutes\t Remaining: 8.4 minutes"
       ]
      },
      {
       "output_type": "stream",
       "stream": "stdout",
       "text": [
        " \r",
        "[**********       27%                  ]  1143079 of 4162827 complete Elapsed: 3.2 minutes\t Remaining: 8.4 minutes"
       ]
      },
      {
       "output_type": "stream",
       "stream": "stdout",
       "text": [
        " \r",
        "[***********      28%                  ]  1153906 of 4162827 complete Elapsed: 3.2 minutes\t Remaining: 8.4 minutes"
       ]
      },
      {
       "output_type": "stream",
       "stream": "stdout",
       "text": [
        " \r",
        "[***********      28%                  ]  1164744 of 4162827 complete Elapsed: 3.2 minutes\t Remaining: 8.3 minutes"
       ]
      },
      {
       "output_type": "stream",
       "stream": "stdout",
       "text": [
        " \r",
        "[***********      28%                  ]  1175583 of 4162827 complete Elapsed: 3.3 minutes\t Remaining: 8.3 minutes"
       ]
      },
      {
       "output_type": "stream",
       "stream": "stdout",
       "text": [
        " \r",
        "[***********      29%                  ]  1186422 of 4162827 complete Elapsed: 3.3 minutes\t Remaining: 8.2 minutes"
       ]
      },
      {
       "output_type": "stream",
       "stream": "stdout",
       "text": [
        " \r",
        "[***********      29%                  ]  1186862 of 4162827 complete Elapsed: 3.4 minutes\t Remaining: 8.4 minutes"
       ]
      },
      {
       "output_type": "stream",
       "stream": "stdout",
       "text": [
        " \r",
        "[***********      29%                  ]  1197799 of 4162827 complete Elapsed: 3.4 minutes\t Remaining: 8.4 minutes"
       ]
      },
      {
       "output_type": "stream",
       "stream": "stdout",
       "text": [
        " \r",
        "[***********      29%                  ]  1208671 of 4162827 complete Elapsed: 3.4 minutes\t Remaining: 8.3 minutes"
       ]
      },
      {
       "output_type": "stream",
       "stream": "stdout",
       "text": [
        " \r",
        "[***********      29%                  ]  1219506 of 4162827 complete Elapsed: 3.4 minutes\t Remaining: 8.3 minutes"
       ]
      },
      {
       "output_type": "stream",
       "stream": "stdout",
       "text": [
        " \r",
        "[***********      30%                  ]  1230364 of 4162827 complete Elapsed: 3.5 minutes\t Remaining: 8.2 minutes"
       ]
      },
      {
       "output_type": "stream",
       "stream": "stdout",
       "text": [
        " \r",
        "[***********      30%                  ]  1241209 of 4162827 complete Elapsed: 3.5 minutes\t Remaining: 8.2 minutes"
       ]
      },
      {
       "output_type": "stream",
       "stream": "stdout",
       "text": [
        " \r",
        "[***********      30%                  ]  1252040 of 4162827 complete Elapsed: 3.5 minutes\t Remaining: 8.2 minutes"
       ]
      },
      {
       "output_type": "stream",
       "stream": "stdout",
       "text": [
        " \r",
        "[***********      30%                  ]  1262871 of 4162827 complete Elapsed: 3.5 minutes\t Remaining: 8.1 minutes"
       ]
      },
      {
       "output_type": "stream",
       "stream": "stdout",
       "text": [
        " \r",
        "[************     31%                  ]  1273701 of 4162827 complete Elapsed: 3.6 minutes\t Remaining: 8.1 minutes"
       ]
      },
      {
       "output_type": "stream",
       "stream": "stdout",
       "text": [
        " \r",
        "[************     31%                  ]  1284546 of 4162827 complete Elapsed: 3.6 minutes\t Remaining: 8.0 minutes"
       ]
      },
      {
       "output_type": "stream",
       "stream": "stdout",
       "text": [
        " \r",
        "[************     31%                  ]  1295381 of 4162827 complete Elapsed: 3.6 minutes\t Remaining: 8.0 minutes"
       ]
      },
      {
       "output_type": "stream",
       "stream": "stdout",
       "text": [
        " \r",
        "[************     31%                  ]  1306224 of 4162827 complete Elapsed: 3.6 minutes\t Remaining: 7.9 minutes"
       ]
      },
      {
       "output_type": "stream",
       "stream": "stdout",
       "text": [
        " \r",
        "[************     32%                  ]  1317055 of 4162827 complete Elapsed: 3.7 minutes\t Remaining: 7.9 minutes"
       ]
      },
      {
       "output_type": "stream",
       "stream": "stdout",
       "text": [
        " \r",
        "[************     32%                  ]  1327889 of 4162827 complete Elapsed: 3.7 minutes\t Remaining: 7.9 minutes"
       ]
      },
      {
       "output_type": "stream",
       "stream": "stdout",
       "text": [
        " \r",
        "[************     32%                  ]  1338720 of 4162827 complete Elapsed: 3.7 minutes\t Remaining: 7.8 minutes"
       ]
      },
      {
       "output_type": "stream",
       "stream": "stdout",
       "text": [
        " \r",
        "[************     32%                  ]  1349557 of 4162827 complete Elapsed: 3.7 minutes\t Remaining: 7.8 minutes"
       ]
      },
      {
       "output_type": "stream",
       "stream": "stdout",
       "text": [
        " \r",
        "[*************    33%                  ]  1360377 of 4162827 complete Elapsed: 3.8 minutes\t Remaining: 7.7 minutes"
       ]
      },
      {
       "output_type": "stream",
       "stream": "stdout",
       "text": [
        " \r",
        "[*************    33%                  ]  1371205 of 4162827 complete Elapsed: 3.8 minutes\t Remaining: 7.7 minutes"
       ]
      },
      {
       "output_type": "stream",
       "stream": "stdout",
       "text": [
        " \r",
        "[*************    33%                  ]  1382086 of 4162827 complete Elapsed: 3.8 minutes\t Remaining: 7.7 minutes"
       ]
      },
      {
       "output_type": "stream",
       "stream": "stdout",
       "text": [
        " \r",
        "[*************    33%                  ]  1392932 of 4162827 complete Elapsed: 3.8 minutes\t Remaining: 7.6 minutes"
       ]
      },
      {
       "output_type": "stream",
       "stream": "stdout",
       "text": [
        " \r",
        "[*************    34%                  ]  1403757 of 4162827 complete Elapsed: 3.9 minutes\t Remaining: 7.6 minutes"
       ]
      },
      {
       "output_type": "stream",
       "stream": "stdout",
       "text": [
        " \r",
        "[*************    34%                  ]  1414590 of 4162827 complete Elapsed: 3.9 minutes\t Remaining: 7.5 minutes"
       ]
      },
      {
       "output_type": "stream",
       "stream": "stdout",
       "text": [
        " \r",
        "[*************    34%                  ]  1425383 of 4162827 complete Elapsed: 3.9 minutes\t Remaining: 7.5 minutes"
       ]
      },
      {
       "output_type": "stream",
       "stream": "stdout",
       "text": [
        " \r",
        "[*************    35%                  ]  1436227 of 4162827 complete Elapsed: 3.9 minutes\t Remaining: 7.5 minutes"
       ]
      },
      {
       "output_type": "stream",
       "stream": "stdout",
       "text": [
        " \r",
        "[*************    35%                  ]  1444646 of 4162827 complete Elapsed: 4.0 minutes\t Remaining: 7.5 minutes"
       ]
      },
      {
       "output_type": "stream",
       "stream": "stdout",
       "text": [
        " \r",
        "[*************    35%                  ]  1455547 of 4162827 complete Elapsed: 4.0 minutes\t Remaining: 7.4 minutes"
       ]
      },
      {
       "output_type": "stream",
       "stream": "stdout",
       "text": [
        " \r",
        "[*************    35%                  ]  1466427 of 4162827 complete Elapsed: 4.0 minutes\t Remaining: 7.4 minutes"
       ]
      },
      {
       "output_type": "stream",
       "stream": "stdout",
       "text": [
        " \r",
        "[*************    35%                  ]  1477308 of 4162827 complete Elapsed: 4.0 minutes\t Remaining: 7.3 minutes"
       ]
      },
      {
       "output_type": "stream",
       "stream": "stdout",
       "text": [
        " \r",
        "[**************   36%                  ]  1485852 of 4162827 complete Elapsed: 4.1 minutes\t Remaining: 7.5 minutes"
       ]
      },
      {
       "output_type": "stream",
       "stream": "stdout",
       "text": [
        " \r",
        "[**************   36%                  ]  1496747 of 4162827 complete Elapsed: 4.2 minutes\t Remaining: 7.4 minutes"
       ]
      },
      {
       "output_type": "stream",
       "stream": "stdout",
       "text": [
        " \r",
        "[**************   36%                  ]  1507585 of 4162827 complete Elapsed: 4.2 minutes\t Remaining: 7.4 minutes"
       ]
      },
      {
       "output_type": "stream",
       "stream": "stdout",
       "text": [
        " \r",
        "[**************   36%                  ]  1518392 of 4162827 complete Elapsed: 4.2 minutes\t Remaining: 7.3 minutes"
       ]
      },
      {
       "output_type": "stream",
       "stream": "stdout",
       "text": [
        " \r",
        "[**************   37%                  ]  1529216 of 4162827 complete Elapsed: 4.2 minutes\t Remaining: 7.3 minutes"
       ]
      },
      {
       "output_type": "stream",
       "stream": "stdout",
       "text": [
        " \r",
        "[**************   37%                  ]  1540035 of 4162827 complete Elapsed: 4.3 minutes\t Remaining: 7.3 minutes"
       ]
      },
      {
       "output_type": "stream",
       "stream": "stdout",
       "text": [
        " \r",
        "[**************   37%                  ]  1550831 of 4162827 complete Elapsed: 4.3 minutes\t Remaining: 7.2 minutes"
       ]
      },
      {
       "output_type": "stream",
       "stream": "stdout",
       "text": [
        " \r",
        "[**************   38%                  ]  1561702 of 4162827 complete Elapsed: 4.3 minutes\t Remaining: 7.2 minutes"
       ]
      },
      {
       "output_type": "stream",
       "stream": "stdout",
       "text": [
        " \r",
        "[**************   38%                  ]  1572526 of 4162827 complete Elapsed: 4.3 minutes\t Remaining: 7.1 minutes"
       ]
      },
      {
       "output_type": "stream",
       "stream": "stdout",
       "text": [
        " \r",
        "[**************   38%                  ]  1583338 of 4162827 complete Elapsed: 4.4 minutes\t Remaining: 7.1 minutes"
       ]
      },
      {
       "output_type": "stream",
       "stream": "stdout",
       "text": [
        " \r",
        "[**************   38%                  ]  1594163 of 4162827 complete Elapsed: 4.4 minutes\t Remaining: 7.1 minutes"
       ]
      },
      {
       "output_type": "stream",
       "stream": "stdout",
       "text": [
        " \r",
        "[***************  39%                  ]  1604994 of 4162827 complete Elapsed: 4.4 minutes\t Remaining: 7.0 minutes"
       ]
      },
      {
       "output_type": "stream",
       "stream": "stdout",
       "text": [
        " \r",
        "[***************  39%                  ]  1615842 of 4162827 complete Elapsed: 4.4 minutes\t Remaining: 7.0 minutes"
       ]
      },
      {
       "output_type": "stream",
       "stream": "stdout",
       "text": [
        " \r",
        "[***************  39%                  ]  1626661 of 4162827 complete Elapsed: 4.5 minutes\t Remaining: 7.0 minutes"
       ]
      },
      {
       "output_type": "stream",
       "stream": "stdout",
       "text": [
        " \r",
        "[***************  39%                  ]  1637490 of 4162827 complete Elapsed: 4.5 minutes\t Remaining: 6.9 minutes"
       ]
      },
      {
       "output_type": "stream",
       "stream": "stdout",
       "text": [
        " \r",
        "[***************  40%                  ]  1648316 of 4162827 complete Elapsed: 4.5 minutes\t Remaining: 6.9 minutes"
       ]
      },
      {
       "output_type": "stream",
       "stream": "stdout",
       "text": [
        " \r",
        "[***************  40%                  ]  1659155 of 4162827 complete Elapsed: 4.5 minutes\t Remaining: 6.8 minutes"
       ]
      },
      {
       "output_type": "stream",
       "stream": "stdout",
       "text": [
        " \r",
        "[***************  40%                  ]  1669978 of 4162827 complete Elapsed: 4.6 minutes\t Remaining: 6.8 minutes"
       ]
      },
      {
       "output_type": "stream",
       "stream": "stdout",
       "text": [
        " \r",
        "[***************  40%                  ]  1680753 of 4162827 complete Elapsed: 4.6 minutes\t Remaining: 6.8 minutes"
       ]
      },
      {
       "output_type": "stream",
       "stream": "stdout",
       "text": [
        " \r",
        "[**************** 41%                  ]  1691572 of 4162827 complete Elapsed: 4.6 minutes\t Remaining: 6.7 minutes"
       ]
      },
      {
       "output_type": "stream",
       "stream": "stdout",
       "text": [
        " \r",
        "[**************** 41%                  ]  1702400 of 4162827 complete Elapsed: 4.6 minutes\t Remaining: 6.7 minutes"
       ]
      },
      {
       "output_type": "stream",
       "stream": "stdout",
       "text": [
        " \r",
        "[**************** 41%                  ]  1713223 of 4162827 complete Elapsed: 4.7 minutes\t Remaining: 6.7 minutes"
       ]
      },
      {
       "output_type": "stream",
       "stream": "stdout",
       "text": [
        " \r",
        "[**************** 41%                  ]  1724047 of 4162827 complete Elapsed: 4.7 minutes\t Remaining: 6.6 minutes"
       ]
      },
      {
       "output_type": "stream",
       "stream": "stdout",
       "text": [
        " \r",
        "[**************** 42%                  ]  1730135 of 4162827 complete Elapsed: 4.7 minutes\t Remaining: 6.6 minutes"
       ]
      },
      {
       "output_type": "stream",
       "stream": "stdout",
       "text": [
        " \r",
        "[**************** 42%                  ]  1741002 of 4162827 complete Elapsed: 4.7 minutes\t Remaining: 6.6 minutes"
       ]
      },
      {
       "output_type": "stream",
       "stream": "stdout",
       "text": [
        " \r",
        "[**************** 42%                  ]  1751925 of 4162827 complete Elapsed: 4.8 minutes\t Remaining: 6.6 minutes"
       ]
      },
      {
       "output_type": "stream",
       "stream": "stdout",
       "text": [
        " \r",
        "[**************** 42%                  ]  1762793 of 4162827 complete Elapsed: 4.8 minutes\t Remaining: 6.5 minutes"
       ]
      },
      {
       "output_type": "stream",
       "stream": "stdout",
       "text": [
        " \r",
        "[**************** 43%                  ]  1773657 of 4162827 complete Elapsed: 4.8 minutes\t Remaining: 6.5 minutes"
       ]
      },
      {
       "output_type": "stream",
       "stream": "stdout",
       "text": [
        " \r",
        "[**************** 43%                  ]  1784530 of 4162827 complete Elapsed: 4.8 minutes\t Remaining: 6.4 minutes"
       ]
      },
      {
       "output_type": "stream",
       "stream": "stdout",
       "text": [
        " \r",
        "[**************** 43%                  ]  1795404 of 4162827 complete Elapsed: 4.9 minutes\t Remaining: 6.4 minutes"
       ]
      },
      {
       "output_type": "stream",
       "stream": "stdout",
       "text": [
        " \r",
        "[**************** 43%                  ]  1806270 of 4162827 complete Elapsed: 4.9 minutes\t Remaining: 6.4 minutes"
       ]
      },
      {
       "output_type": "stream",
       "stream": "stdout",
       "text": [
        " \r",
        "[*****************44%                  ]  1817128 of 4162827 complete Elapsed: 4.9 minutes\t Remaining: 6.3 minutes"
       ]
      },
      {
       "output_type": "stream",
       "stream": "stdout",
       "text": [
        " \r",
        "[*****************44%                  ]  1828001 of 4162827 complete Elapsed: 4.9 minutes\t Remaining: 6.3 minutes"
       ]
      },
      {
       "output_type": "stream",
       "stream": "stdout",
       "text": [
        " \r",
        "[*****************44%                  ]  1838857 of 4162827 complete Elapsed: 5.0 minutes\t Remaining: 6.3 minutes"
       ]
      },
      {
       "output_type": "stream",
       "stream": "stdout",
       "text": [
        " \r",
        "[*****************44%                  ]  1849722 of 4162827 complete Elapsed: 5.0 minutes\t Remaining: 6.2 minutes"
       ]
      },
      {
       "output_type": "stream",
       "stream": "stdout",
       "text": [
        " \r",
        "[*****************45%                  ]  1859421 of 4162827 complete Elapsed: 5.1 minutes\t Remaining: 6.3 minutes"
       ]
      },
      {
       "output_type": "stream",
       "stream": "stdout",
       "text": [
        " \r",
        "[*****************45%                  ]  1870319 of 4162827 complete Elapsed: 5.1 minutes\t Remaining: 6.3 minutes"
       ]
      },
      {
       "output_type": "stream",
       "stream": "stdout",
       "text": [
        " \r",
        "[*****************45%                  ]  1881158 of 4162827 complete Elapsed: 5.2 minutes\t Remaining: 6.3 minutes"
       ]
      },
      {
       "output_type": "stream",
       "stream": "stdout",
       "text": [
        " \r",
        "[*****************45%                  ]  1891992 of 4162827 complete Elapsed: 5.2 minutes\t Remaining: 6.2 minutes"
       ]
      },
      {
       "output_type": "stream",
       "stream": "stdout",
       "text": [
        " \r",
        "[*****************46%                  ]  1902835 of 4162827 complete Elapsed: 5.2 minutes\t Remaining: 6.2 minutes"
       ]
      },
      {
       "output_type": "stream",
       "stream": "stdout",
       "text": [
        " \r",
        "[*****************46%                  ]  1913689 of 4162827 complete Elapsed: 5.2 minutes\t Remaining: 6.2 minutes"
       ]
      },
      {
       "output_type": "stream",
       "stream": "stdout",
       "text": [
        " \r",
        "[*****************46%                  ]  1924524 of 4162827 complete Elapsed: 5.3 minutes\t Remaining: 6.1 minutes"
       ]
      },
      {
       "output_type": "stream",
       "stream": "stdout",
       "text": [
        " \r",
        "[*****************46%                  ]  1935345 of 4162827 complete Elapsed: 5.3 minutes\t Remaining: 6.1 minutes"
       ]
      },
      {
       "output_type": "stream",
       "stream": "stdout",
       "text": [
        " \r",
        "[*****************47%                  ]  1946191 of 4162827 complete Elapsed: 5.3 minutes\t Remaining: 6.0 minutes"
       ]
      },
      {
       "output_type": "stream",
       "stream": "stdout",
       "text": [
        " \r",
        "[*****************47%                  ]  1952291 of 4162827 complete Elapsed: 5.3 minutes\t Remaining: 6.0 minutes"
       ]
      },
      {
       "output_type": "stream",
       "stream": "stdout",
       "text": [
        " \r",
        "[*****************47%                  ]  1963221 of 4162827 complete Elapsed: 5.4 minutes\t Remaining: 6.0 minutes"
       ]
      },
      {
       "output_type": "stream",
       "stream": "stdout",
       "text": [
        " \r",
        "[*****************47%                  ]  1974160 of 4162827 complete Elapsed: 5.4 minutes\t Remaining: 6.0 minutes"
       ]
      },
      {
       "output_type": "stream",
       "stream": "stdout",
       "text": [
        " \r",
        "[*****************48%                  ]  1985031 of 4162827 complete Elapsed: 5.4 minutes\t Remaining: 5.9 minutes"
       ]
      },
      {
       "output_type": "stream",
       "stream": "stdout",
       "text": [
        " \r",
        "[*****************48%                  ]  1995901 of 4162827 complete Elapsed: 5.4 minutes\t Remaining: 5.9 minutes"
       ]
      },
      {
       "output_type": "stream",
       "stream": "stdout",
       "text": [
        " \r",
        "[*****************48%                  ]  2006761 of 4162827 complete Elapsed: 5.5 minutes\t Remaining: 5.9 minutes"
       ]
      },
      {
       "output_type": "stream",
       "stream": "stdout",
       "text": [
        " \r",
        "[*****************48%                  ]  2017620 of 4162827 complete Elapsed: 5.5 minutes\t Remaining: 5.8 minutes"
       ]
      },
      {
       "output_type": "stream",
       "stream": "stdout",
       "text": [
        " \r",
        "[*****************49%                  ]  2028493 of 4162827 complete Elapsed: 5.5 minutes\t Remaining: 5.8 minutes"
       ]
      },
      {
       "output_type": "stream",
       "stream": "stdout",
       "text": [
        " \r",
        "[*****************49%                  ]  2039376 of 4162827 complete Elapsed: 5.5 minutes\t Remaining: 5.8 minutes"
       ]
      },
      {
       "output_type": "stream",
       "stream": "stdout",
       "text": [
        " \r",
        "[*****************49%                  ]  2050266 of 4162827 complete Elapsed: 5.6 minutes\t Remaining: 5.7 minutes"
       ]
      },
      {
       "output_type": "stream",
       "stream": "stdout",
       "text": [
        " \r",
        "[*****************50%                  ]  2061145 of 4162827 complete Elapsed: 5.6 minutes\t Remaining: 5.7 minutes"
       ]
      },
      {
       "output_type": "stream",
       "stream": "stdout",
       "text": [
        " \r",
        "[*****************50%                  ]  2072001 of 4162827 complete Elapsed: 5.6 minutes\t Remaining: 5.7 minutes"
       ]
      },
      {
       "output_type": "stream",
       "stream": "stdout",
       "text": [
        " \r",
        "[*****************50%                  ]  2082875 of 4162827 complete Elapsed: 5.6 minutes\t Remaining: 5.6 minutes"
       ]
      },
      {
       "output_type": "stream",
       "stream": "stdout",
       "text": [
        " \r",
        "[*****************50%                  ]  2093751 of 4162827 complete Elapsed: 5.7 minutes\t Remaining: 5.6 minutes"
       ]
      },
      {
       "output_type": "stream",
       "stream": "stdout",
       "text": [
        " \r",
        "[*****************51%                  ]  2104613 of 4162827 complete Elapsed: 5.7 minutes\t Remaining: 5.6 minutes"
       ]
      },
      {
       "output_type": "stream",
       "stream": "stdout",
       "text": [
        " \r",
        "[*****************51%                  ]  2115466 of 4162827 complete Elapsed: 5.7 minutes\t Remaining: 5.5 minutes"
       ]
      },
      {
       "output_type": "stream",
       "stream": "stdout",
       "text": [
        " \r",
        "[*****************51%                  ]  2126345 of 4162827 complete Elapsed: 5.7 minutes\t Remaining: 5.5 minutes"
       ]
      },
      {
       "output_type": "stream",
       "stream": "stdout",
       "text": [
        " \r",
        "[*****************51%                  ]  2137221 of 4162827 complete Elapsed: 5.8 minutes\t Remaining: 5.5 minutes"
       ]
      },
      {
       "output_type": "stream",
       "stream": "stdout",
       "text": [
        " \r",
        "[*****************52%                  ]  2148090 of 4162827 complete Elapsed: 5.8 minutes\t Remaining: 5.4 minutes"
       ]
      },
      {
       "output_type": "stream",
       "stream": "stdout",
       "text": [
        " \r",
        "[*****************52%                  ]  2158970 of 4162827 complete Elapsed: 5.8 minutes\t Remaining: 5.4 minutes"
       ]
      },
      {
       "output_type": "stream",
       "stream": "stdout",
       "text": [
        " \r",
        "[*****************52%                  ]  2169810 of 4162827 complete Elapsed: 5.8 minutes\t Remaining: 5.4 minutes"
       ]
      },
      {
       "output_type": "stream",
       "stream": "stdout",
       "text": [
        " \r",
        "[*****************52%                  ]  2176167 of 4162827 complete Elapsed: 5.9 minutes\t Remaining: 5.4 minutes"
       ]
      },
      {
       "output_type": "stream",
       "stream": "stdout",
       "text": [
        " \r",
        "[*****************53%                  ]  2187058 of 4162827 complete Elapsed: 5.9 minutes\t Remaining: 5.3 minutes"
       ]
      },
      {
       "output_type": "stream",
       "stream": "stdout",
       "text": [
        " \r",
        "[*****************53%                  ]  2197938 of 4162827 complete Elapsed: 5.9 minutes\t Remaining: 5.3 minutes"
       ]
      },
      {
       "output_type": "stream",
       "stream": "stdout",
       "text": [
        " \r",
        "[*****************53%                  ]  2208797 of 4162827 complete Elapsed: 5.9 minutes\t Remaining: 5.3 minutes"
       ]
      },
      {
       "output_type": "stream",
       "stream": "stdout",
       "text": [
        " \r",
        "[*****************53%                  ]  2219739 of 4162827 complete Elapsed: 6.0 minutes\t Remaining: 5.2 minutes"
       ]
      },
      {
       "output_type": "stream",
       "stream": "stdout",
       "text": [
        " \r",
        "[*****************54%*                 ]  2230619 of 4162827 complete Elapsed: 6.0 minutes\t Remaining: 5.2 minutes"
       ]
      },
      {
       "output_type": "stream",
       "stream": "stdout",
       "text": [
        " \r",
        "[*****************54%*                 ]  2241502 of 4162827 complete Elapsed: 6.0 minutes\t Remaining: 5.2 minutes"
       ]
      },
      {
       "output_type": "stream",
       "stream": "stdout",
       "text": [
        " \r",
        "[*****************54%*                 ]  2252387 of 4162827 complete Elapsed: 6.0 minutes\t Remaining: 5.1 minutes"
       ]
      },
      {
       "output_type": "stream",
       "stream": "stdout",
       "text": [
        " \r",
        "[*****************54%*                 ]  2263269 of 4162827 complete Elapsed: 6.1 minutes\t Remaining: 5.1 minutes"
       ]
      },
      {
       "output_type": "stream",
       "stream": "stdout",
       "text": [
        " \r",
        "[*****************55%*                 ]  2274156 of 4162827 complete Elapsed: 6.1 minutes\t Remaining: 5.1 minutes"
       ]
      },
      {
       "output_type": "stream",
       "stream": "stdout",
       "text": [
        " \r",
        "[*****************55%*                 ]  2285027 of 4162827 complete Elapsed: 6.1 minutes\t Remaining: 5.0 minutes"
       ]
      },
      {
       "output_type": "stream",
       "stream": "stdout",
       "text": [
        " \r",
        "[*****************55%*                 ]  2295912 of 4162827 complete Elapsed: 6.1 minutes\t Remaining: 5.0 minutes"
       ]
      },
      {
       "output_type": "stream",
       "stream": "stdout",
       "text": [
        " \r",
        "[*****************55%*                 ]  2306790 of 4162827 complete Elapsed: 6.2 minutes\t Remaining: 5.0 minutes"
       ]
      },
      {
       "output_type": "stream",
       "stream": "stdout",
       "text": [
        " \r",
        "[*****************56%*                 ]  2317671 of 4162827 complete Elapsed: 6.2 minutes\t Remaining: 4.9 minutes"
       ]
      },
      {
       "output_type": "stream",
       "stream": "stdout",
       "text": [
        " \r",
        "[*****************56%*                 ]  2324910 of 4162827 complete Elapsed: 6.3 minutes\t Remaining: 5.0 minutes"
       ]
      },
      {
       "output_type": "stream",
       "stream": "stdout",
       "text": [
        " \r",
        "[*****************56%*                 ]  2335881 of 4162827 complete Elapsed: 6.4 minutes\t Remaining: 5.0 minutes"
       ]
      },
      {
       "output_type": "stream",
       "stream": "stdout",
       "text": [
        " \r",
        "[*****************56%*                 ]  2346742 of 4162827 complete Elapsed: 6.4 minutes\t Remaining: 4.9 minutes"
       ]
      },
      {
       "output_type": "stream",
       "stream": "stdout",
       "text": [
        " \r",
        "[*****************57%**                ]  2357606 of 4162827 complete Elapsed: 6.4 minutes\t Remaining: 4.9 minutes"
       ]
      },
      {
       "output_type": "stream",
       "stream": "stdout",
       "text": [
        " \r",
        "[*****************57%**                ]  2364676 of 4162827 complete Elapsed: 6.4 minutes\t Remaining: 4.9 minutes"
       ]
      },
      {
       "output_type": "stream",
       "stream": "stdout",
       "text": [
        " \r",
        "[*****************57%**                ]  2375591 of 4162827 complete Elapsed: 6.5 minutes\t Remaining: 4.9 minutes"
       ]
      },
      {
       "output_type": "stream",
       "stream": "stdout",
       "text": [
        " \r",
        "[*****************57%**                ]  2386450 of 4162827 complete Elapsed: 6.5 minutes\t Remaining: 4.8 minutes"
       ]
      },
      {
       "output_type": "stream",
       "stream": "stderr",
       "text": [
        "WARN: pos 17837004 is less than or equal to last_pos 17837004\n"
       ]
      },
      {
       "output_type": "stream",
       "stream": "stdout",
       "text": [
        " \r",
        "[*****************58%**                ]  2397288 of 4162827 complete Elapsed: 6.5 minutes\t Remaining: 4.8 minutes"
       ]
      },
      {
       "output_type": "stream",
       "stream": "stdout",
       "text": [
        " \r",
        "[*****************58%**                ]  2408137 of 4162827 complete Elapsed: 6.5 minutes\t Remaining: 4.8 minutes"
       ]
      },
      {
       "output_type": "stream",
       "stream": "stdout",
       "text": [
        " \r",
        "[*****************58%**                ]  2418983 of 4162827 complete Elapsed: 6.6 minutes\t Remaining: 4.7 minutes"
       ]
      },
      {
       "output_type": "stream",
       "stream": "stdout",
       "text": [
        " \r",
        "[*****************58%**                ]  2429827 of 4162827 complete Elapsed: 6.6 minutes\t Remaining: 4.7 minutes"
       ]
      },
      {
       "output_type": "stream",
       "stream": "stdout",
       "text": [
        " \r",
        "[*****************59%**                ]  2440680 of 4162827 complete Elapsed: 6.6 minutes\t Remaining: 4.7 minutes"
       ]
      },
      {
       "output_type": "stream",
       "stream": "stdout",
       "text": [
        " \r",
        "[*****************59%**                ]  2451518 of 4162827 complete Elapsed: 6.6 minutes\t Remaining: 4.6 minutes"
       ]
      },
      {
       "output_type": "stream",
       "stream": "stdout",
       "text": [
        " \r",
        "[*****************59%**                ]  2462334 of 4162827 complete Elapsed: 6.7 minutes\t Remaining: 4.6 minutes"
       ]
      },
      {
       "output_type": "stream",
       "stream": "stdout",
       "text": [
        " \r",
        "[*****************59%**                ]  2473177 of 4162827 complete Elapsed: 6.7 minutes\t Remaining: 4.6 minutes"
       ]
      },
      {
       "output_type": "stream",
       "stream": "stdout",
       "text": [
        " \r",
        "[*****************60%***               ]  2483968 of 4162827 complete Elapsed: 6.7 minutes\t Remaining: 4.5 minutes"
       ]
      },
      {
       "output_type": "stream",
       "stream": "stdout",
       "text": [
        " \r",
        "[*****************60%***               ]  2494886 of 4162827 complete Elapsed: 6.7 minutes\t Remaining: 4.5 minutes"
       ]
      },
      {
       "output_type": "stream",
       "stream": "stdout",
       "text": [
        " \r",
        "[*****************60%***               ]  2505736 of 4162827 complete Elapsed: 6.8 minutes\t Remaining: 4.5 minutes"
       ]
      },
      {
       "output_type": "stream",
       "stream": "stdout",
       "text": [
        " \r",
        "[*****************60%***               ]  2516582 of 4162827 complete Elapsed: 6.8 minutes\t Remaining: 4.4 minutes"
       ]
      },
      {
       "output_type": "stream",
       "stream": "stdout",
       "text": [
        " \r",
        "[*****************61%***               ]  2527436 of 4162827 complete Elapsed: 6.8 minutes\t Remaining: 4.4 minutes"
       ]
      },
      {
       "output_type": "stream",
       "stream": "stdout",
       "text": [
        " \r",
        "[*****************61%***               ]  2538295 of 4162827 complete Elapsed: 6.8 minutes\t Remaining: 4.4 minutes"
       ]
      },
      {
       "output_type": "stream",
       "stream": "stdout",
       "text": [
        " \r",
        "[*****************61%***               ]  2549123 of 4162827 complete Elapsed: 6.9 minutes\t Remaining: 4.3 minutes"
       ]
      },
      {
       "output_type": "stream",
       "stream": "stdout",
       "text": [
        " \r",
        "[*****************61%***               ]  2559952 of 4162827 complete Elapsed: 6.9 minutes\t Remaining: 4.3 minutes"
       ]
      },
      {
       "output_type": "stream",
       "stream": "stdout",
       "text": [
        " \r",
        "[*****************62%****              ]  2570802 of 4162827 complete Elapsed: 6.9 minutes\t Remaining: 4.3 minutes"
       ]
      },
      {
       "output_type": "stream",
       "stream": "stdout",
       "text": [
        " \r",
        "[*****************62%****              ]  2581642 of 4162827 complete Elapsed: 6.9 minutes\t Remaining: 4.2 minutes"
       ]
      },
      {
       "output_type": "stream",
       "stream": "stdout",
       "text": [
        " \r",
        "[*****************62%****              ]  2588016 of 4162827 complete Elapsed: 7.0 minutes\t Remaining: 4.2 minutes"
       ]
      },
      {
       "output_type": "stream",
       "stream": "stdout",
       "text": [
        " \r",
        "[*****************62%****              ]  2598938 of 4162827 complete Elapsed: 7.0 minutes\t Remaining: 4.2 minutes"
       ]
      },
      {
       "output_type": "stream",
       "stream": "stdout",
       "text": [
        " \r",
        "[*****************63%****              ]  2609796 of 4162827 complete Elapsed: 7.0 minutes\t Remaining: 4.2 minutes"
       ]
      },
      {
       "output_type": "stream",
       "stream": "stdout",
       "text": [
        " \r",
        "[*****************63%****              ]  2620651 of 4162827 complete Elapsed: 7.0 minutes\t Remaining: 4.1 minutes"
       ]
      },
      {
       "output_type": "stream",
       "stream": "stdout",
       "text": [
        " \r",
        "[*****************63%****              ]  2631522 of 4162827 complete Elapsed: 7.1 minutes\t Remaining: 4.1 minutes"
       ]
      },
      {
       "output_type": "stream",
       "stream": "stdout",
       "text": [
        " \r",
        "[*****************63%****              ]  2642384 of 4162827 complete Elapsed: 7.1 minutes\t Remaining: 4.1 minutes"
       ]
      },
      {
       "output_type": "stream",
       "stream": "stdout",
       "text": [
        " \r",
        "[*****************64%****              ]  2653230 of 4162827 complete Elapsed: 7.1 minutes\t Remaining: 4.0 minutes"
       ]
      },
      {
       "output_type": "stream",
       "stream": "stderr",
       "text": [
        "WARN: pos 54977397 is less than or equal to last_pos 54977397\n"
       ]
      },
      {
       "output_type": "stream",
       "stream": "stderr",
       "text": [
        "WARN: pos 55013081 is less than or equal to last_pos 55013081\n"
       ]
      },
      {
       "output_type": "stream",
       "stream": "stdout",
       "text": [
        " \r",
        "[*****************64%****              ]  2664091 of 4162827 complete Elapsed: 7.1 minutes\t Remaining: 4.0 minutes"
       ]
      },
      {
       "output_type": "stream",
       "stream": "stdout",
       "text": [
        " \r",
        "[*****************64%****              ]  2674945 of 4162827 complete Elapsed: 7.2 minutes\t Remaining: 4.0 minutes"
       ]
      },
      {
       "output_type": "stream",
       "stream": "stdout",
       "text": [
        " \r",
        "[*****************65%*****             ]  2685810 of 4162827 complete Elapsed: 7.2 minutes\t Remaining: 3.9 minutes"
       ]
      },
      {
       "output_type": "stream",
       "stream": "stdout",
       "text": [
        " \r",
        "[*****************65%*****             ]  2696668 of 4162827 complete Elapsed: 7.2 minutes\t Remaining: 3.9 minutes"
       ]
      },
      {
       "output_type": "stream",
       "stream": "stdout",
       "text": [
        " \r",
        "[*****************65%*****             ]  2707539 of 4162827 complete Elapsed: 7.2 minutes\t Remaining: 3.9 minutes"
       ]
      },
      {
       "output_type": "stream",
       "stream": "stdout",
       "text": [
        " \r",
        "[*****************65%*****             ]  2718416 of 4162827 complete Elapsed: 7.3 minutes\t Remaining: 3.9 minutes"
       ]
      },
      {
       "output_type": "stream",
       "stream": "stdout",
       "text": [
        " \r",
        "[*****************66%*****             ]  2729276 of 4162827 complete Elapsed: 7.3 minutes\t Remaining: 3.8 minutes"
       ]
      },
      {
       "output_type": "stream",
       "stream": "stdout",
       "text": [
        " \r",
        "[*****************66%*****             ]  2740126 of 4162827 complete Elapsed: 7.3 minutes\t Remaining: 3.8 minutes"
       ]
      },
      {
       "output_type": "stream",
       "stream": "stdout",
       "text": [
        " \r",
        "[*****************66%*****             ]  2750993 of 4162827 complete Elapsed: 7.3 minutes\t Remaining: 3.8 minutes"
       ]
      },
      {
       "output_type": "stream",
       "stream": "stdout",
       "text": [
        " \r",
        "[*****************66%*****             ]  2761831 of 4162827 complete Elapsed: 7.4 minutes\t Remaining: 3.7 minutes"
       ]
      },
      {
       "output_type": "stream",
       "stream": "stdout",
       "text": [
        " \r",
        "[*****************67%*****             ]  2772668 of 4162827 complete Elapsed: 7.4 minutes\t Remaining: 3.7 minutes"
       ]
      },
      {
       "output_type": "stream",
       "stream": "stdout",
       "text": [
        " \r",
        "[*****************67%*****             ]  2783502 of 4162827 complete Elapsed: 7.4 minutes\t Remaining: 3.7 minutes"
       ]
      },
      {
       "output_type": "stream",
       "stream": "stdout",
       "text": [
        " \r",
        "[*****************67%*****             ]  2794284 of 4162827 complete Elapsed: 7.4 minutes\t Remaining: 3.6 minutes"
       ]
      },
      {
       "output_type": "stream",
       "stream": "stdout",
       "text": [
        " \r",
        "[*****************67%*****             ]  2800778 of 4162827 complete Elapsed: 7.5 minutes\t Remaining: 3.6 minutes"
       ]
      },
      {
       "output_type": "stream",
       "stream": "stdout",
       "text": [
        " \r",
        "[*****************68%******            ]  2811687 of 4162827 complete Elapsed: 7.5 minutes\t Remaining: 3.6 minutes"
       ]
      },
      {
       "output_type": "stream",
       "stream": "stdout",
       "text": [
        " \r",
        "[*****************68%******            ]  2822545 of 4162827 complete Elapsed: 7.5 minutes\t Remaining: 3.6 minutes"
       ]
      },
      {
       "output_type": "stream",
       "stream": "stdout",
       "text": [
        " \r",
        "[*****************68%******            ]  2833410 of 4162827 complete Elapsed: 7.5 minutes\t Remaining: 3.5 minutes"
       ]
      },
      {
       "output_type": "stream",
       "stream": "stdout",
       "text": [
        " \r",
        "[*****************68%******            ]  2844271 of 4162827 complete Elapsed: 7.6 minutes\t Remaining: 3.5 minutes"
       ]
      },
      {
       "output_type": "stream",
       "stream": "stdout",
       "text": [
        " \r",
        "[*****************69%******            ]  2855121 of 4162827 complete Elapsed: 7.6 minutes\t Remaining: 3.5 minutes"
       ]
      },
      {
       "output_type": "stream",
       "stream": "stdout",
       "text": [
        " \r",
        "[*****************69%******            ]  2865988 of 4162827 complete Elapsed: 7.6 minutes\t Remaining: 3.4 minutes"
       ]
      },
      {
       "output_type": "stream",
       "stream": "stdout",
       "text": [
        " \r",
        "[*****************69%******            ]  2876862 of 4162827 complete Elapsed: 7.6 minutes\t Remaining: 3.4 minutes"
       ]
      },
      {
       "output_type": "stream",
       "stream": "stdout",
       "text": [
        " \r",
        "[*****************69%******            ]  2887713 of 4162827 complete Elapsed: 7.7 minutes\t Remaining: 3.4 minutes"
       ]
      },
      {
       "output_type": "stream",
       "stream": "stdout",
       "text": [
        " \r",
        "[*****************70%*******           ]  2898564 of 4162827 complete Elapsed: 7.7 minutes\t Remaining: 3.3 minutes"
       ]
      },
      {
       "output_type": "stream",
       "stream": "stdout",
       "text": [
        " \r",
        "[*****************70%*******           ]  2907725 of 4162827 complete Elapsed: 7.9 minutes\t Remaining: 3.4 minutes"
       ]
      },
      {
       "output_type": "stream",
       "stream": "stdout",
       "text": [
        " \r",
        "[*****************70%*******           ]  2918726 of 4162827 complete Elapsed: 7.9 minutes\t Remaining: 3.4 minutes"
       ]
      },
      {
       "output_type": "stream",
       "stream": "stdout",
       "text": [
        " \r",
        "[*****************70%*******           ]  2929643 of 4162827 complete Elapsed: 7.9 minutes\t Remaining: 3.3 minutes"
       ]
      },
      {
       "output_type": "stream",
       "stream": "stdout",
       "text": [
        " \r",
        "[*****************71%*******           ]  2940507 of 4162827 complete Elapsed: 7.9 minutes\t Remaining: 3.3 minutes"
       ]
      },
      {
       "output_type": "stream",
       "stream": "stdout",
       "text": [
        " \r",
        "[*****************71%*******           ]  2951384 of 4162827 complete Elapsed: 8.0 minutes\t Remaining: 3.3 minutes"
       ]
      },
      {
       "output_type": "stream",
       "stream": "stdout",
       "text": [
        " \r",
        "[*****************71%*******           ]  2962275 of 4162827 complete Elapsed: 8.0 minutes\t Remaining: 3.2 minutes"
       ]
      },
      {
       "output_type": "stream",
       "stream": "stdout",
       "text": [
        " \r",
        "[*****************71%*******           ]  2973170 of 4162827 complete Elapsed: 8.0 minutes\t Remaining: 3.2 minutes"
       ]
      },
      {
       "output_type": "stream",
       "stream": "stdout",
       "text": [
        " \r",
        "[*****************72%*******           ]  2984060 of 4162827 complete Elapsed: 8.0 minutes\t Remaining: 3.2 minutes"
       ]
      },
      {
       "output_type": "stream",
       "stream": "stdout",
       "text": [
        " \r",
        "[*****************72%*******           ]  2994953 of 4162827 complete Elapsed: 8.1 minutes\t Remaining: 3.1 minutes"
       ]
      },
      {
       "output_type": "stream",
       "stream": "stdout",
       "text": [
        " \r",
        "[*****************72%*******           ]  3001678 of 4162827 complete Elapsed: 8.1 minutes\t Remaining: 3.1 minutes"
       ]
      },
      {
       "output_type": "stream",
       "stream": "stdout",
       "text": [
        " \r",
        "[*****************72%*******           ]  3012531 of 4162827 complete Elapsed: 8.1 minutes\t Remaining: 3.1 minutes"
       ]
      },
      {
       "output_type": "stream",
       "stream": "stdout",
       "text": [
        " \r",
        "[*****************73%********          ]  3023381 of 4162827 complete Elapsed: 8.1 minutes\t Remaining: 3.1 minutes"
       ]
      },
      {
       "output_type": "stream",
       "stream": "stdout",
       "text": [
        " \r",
        "[*****************73%********          ]  3034237 of 4162827 complete Elapsed: 8.2 minutes\t Remaining: 3.0 minutes"
       ]
      },
      {
       "output_type": "stream",
       "stream": "stdout",
       "text": [
        " \r",
        "[*****************73%********          ]  3045070 of 4162827 complete Elapsed: 8.2 minutes\t Remaining: 3.0 minutes"
       ]
      },
      {
       "output_type": "stream",
       "stream": "stdout",
       "text": [
        " \r",
        "[*****************73%********          ]  3055891 of 4162827 complete Elapsed: 8.2 minutes\t Remaining: 3.0 minutes"
       ]
      },
      {
       "output_type": "stream",
       "stream": "stdout",
       "text": [
        " \r",
        "[*****************74%********          ]  3066748 of 4162827 complete Elapsed: 8.2 minutes\t Remaining: 2.9 minutes"
       ]
      },
      {
       "output_type": "stream",
       "stream": "stdout",
       "text": [
        " \r",
        "[*****************74%********          ]  3077592 of 4162827 complete Elapsed: 8.3 minutes\t Remaining: 2.9 minutes"
       ]
      },
      {
       "output_type": "stream",
       "stream": "stdout",
       "text": [
        " \r",
        "[*****************74%********          ]  3088450 of 4162827 complete Elapsed: 8.3 minutes\t Remaining: 2.9 minutes"
       ]
      },
      {
       "output_type": "stream",
       "stream": "stdout",
       "text": [
        " \r",
        "[*****************74%********          ]  3099299 of 4162827 complete Elapsed: 8.3 minutes\t Remaining: 2.8 minutes"
       ]
      },
      {
       "output_type": "stream",
       "stream": "stdout",
       "text": [
        " \r",
        "[*****************75%*********         ]  3110123 of 4162827 complete Elapsed: 8.3 minutes\t Remaining: 2.8 minutes"
       ]
      },
      {
       "output_type": "stream",
       "stream": "stdout",
       "text": [
        " \r",
        "[*****************75%*********         ]  3120973 of 4162827 complete Elapsed: 8.4 minutes\t Remaining: 2.8 minutes"
       ]
      },
      {
       "output_type": "stream",
       "stream": "stdout",
       "text": [
        " \r",
        "[*****************75%*********         ]  3131802 of 4162827 complete Elapsed: 8.4 minutes\t Remaining: 2.8 minutes"
       ]
      },
      {
       "output_type": "stream",
       "stream": "stdout",
       "text": [
        " \r",
        "[*****************75%*********         ]  3142545 of 4162827 complete Elapsed: 8.4 minutes\t Remaining: 2.7 minutes"
       ]
      },
      {
       "output_type": "stream",
       "stream": "stdout",
       "text": [
        " \r",
        "[*****************76%*********         ]  3153475 of 4162827 complete Elapsed: 8.4 minutes\t Remaining: 2.7 minutes"
       ]
      },
      {
       "output_type": "stream",
       "stream": "stdout",
       "text": [
        " \r",
        "[*****************76%*********         ]  3163505 of 4162827 complete Elapsed: 8.5 minutes\t Remaining: 2.7 minutes"
       ]
      },
      {
       "output_type": "stream",
       "stream": "stdout",
       "text": [
        " \r",
        "[*****************76%*********         ]  3174389 of 4162827 complete Elapsed: 8.5 minutes\t Remaining: 2.6 minutes"
       ]
      },
      {
       "output_type": "stream",
       "stream": "stdout",
       "text": [
        " \r",
        "[*****************77%*********         ]  3185272 of 4162827 complete Elapsed: 8.5 minutes\t Remaining: 2.6 minutes"
       ]
      },
      {
       "output_type": "stream",
       "stream": "stdout",
       "text": [
        " \r",
        "[*****************77%*********         ]  3196168 of 4162827 complete Elapsed: 8.5 minutes\t Remaining: 2.6 minutes"
       ]
      },
      {
       "output_type": "stream",
       "stream": "stdout",
       "text": [
        " \r",
        "[*****************77%*********         ]  3207046 of 4162827 complete Elapsed: 8.6 minutes\t Remaining: 2.6 minutes"
       ]
      },
      {
       "output_type": "stream",
       "stream": "stdout",
       "text": [
        " \r",
        "[*****************77%*********         ]  3217926 of 4162827 complete Elapsed: 8.6 minutes\t Remaining: 2.5 minutes"
       ]
      },
      {
       "output_type": "stream",
       "stream": "stdout",
       "text": [
        " \r",
        "[*****************78%**********        ]  3228810 of 4162827 complete Elapsed: 8.6 minutes\t Remaining: 2.5 minutes"
       ]
      },
      {
       "output_type": "stream",
       "stream": "stdout",
       "text": [
        " \r",
        "[*****************78%**********        ]  3239682 of 4162827 complete Elapsed: 8.6 minutes\t Remaining: 2.5 minutes"
       ]
      },
      {
       "output_type": "stream",
       "stream": "stdout",
       "text": [
        " \r",
        "[*****************78%**********        ]  3250568 of 4162827 complete Elapsed: 8.7 minutes\t Remaining: 2.4 minutes"
       ]
      },
      {
       "output_type": "stream",
       "stream": "stdout",
       "text": [
        " \r",
        "[*****************78%**********        ]  3261471 of 4162827 complete Elapsed: 8.7 minutes\t Remaining: 2.4 minutes"
       ]
      },
      {
       "output_type": "stream",
       "stream": "stdout",
       "text": [
        " \r",
        "[*****************79%**********        ]  3272360 of 4162827 complete Elapsed: 8.7 minutes\t Remaining: 2.4 minutes"
       ]
      },
      {
       "output_type": "stream",
       "stream": "stdout",
       "text": [
        " \r",
        "[*****************79%**********        ]  3283237 of 4162827 complete Elapsed: 8.7 minutes\t Remaining: 2.3 minutes"
       ]
      },
      {
       "output_type": "stream",
       "stream": "stdout",
       "text": [
        " \r",
        "[*****************79%**********        ]  3291579 of 4162827 complete Elapsed: 8.8 minutes\t Remaining: 2.3 minutes"
       ]
      },
      {
       "output_type": "stream",
       "stream": "stdout",
       "text": [
        " \r",
        "[*****************79%**********        ]  3302456 of 4162827 complete Elapsed: 8.8 minutes\t Remaining: 2.3 minutes"
       ]
      },
      {
       "output_type": "stream",
       "stream": "stdout",
       "text": [
        " \r",
        "[*****************80%**********        ]  3313341 of 4162827 complete Elapsed: 8.8 minutes\t Remaining: 2.3 minutes"
       ]
      },
      {
       "output_type": "stream",
       "stream": "stdout",
       "text": [
        " \r",
        "[*****************80%**********        ]  3324230 of 4162827 complete Elapsed: 8.8 minutes\t Remaining: 2.2 minutes"
       ]
      },
      {
       "output_type": "stream",
       "stream": "stdout",
       "text": [
        " \r",
        "[*****************80%**********        ]  3335129 of 4162827 complete Elapsed: 8.9 minutes\t Remaining: 2.2 minutes"
       ]
      },
      {
       "output_type": "stream",
       "stream": "stdout",
       "text": [
        " \r",
        "[*****************80%**********        ]  3346025 of 4162827 complete Elapsed: 8.9 minutes\t Remaining: 2.2 minutes"
       ]
      },
      {
       "output_type": "stream",
       "stream": "stdout",
       "text": [
        " \r",
        "[*****************81%***********       ]  3356908 of 4162827 complete Elapsed: 8.9 minutes\t Remaining: 2.1 minutes"
       ]
      },
      {
       "output_type": "stream",
       "stream": "stdout",
       "text": [
        " \r",
        "[*****************81%***********       ]  3367771 of 4162827 complete Elapsed: 8.9 minutes\t Remaining: 2.1 minutes"
       ]
      },
      {
       "output_type": "stream",
       "stream": "stdout",
       "text": [
        " \r",
        "[*****************81%***********       ]  3378646 of 4162827 complete Elapsed: 9.0 minutes\t Remaining: 2.1 minutes"
       ]
      },
      {
       "output_type": "stream",
       "stream": "stdout",
       "text": [
        " \r",
        "[*****************81%***********       ]  3389518 of 4162827 complete Elapsed: 9.0 minutes\t Remaining: 2.1 minutes"
       ]
      },
      {
       "output_type": "stream",
       "stream": "stdout",
       "text": [
        " \r",
        "[*****************82%***********       ]  3400384 of 4162827 complete Elapsed: 9.0 minutes\t Remaining: 2.0 minutes"
       ]
      },
      {
       "output_type": "stream",
       "stream": "stdout",
       "text": [
        " \r",
        "[*****************82%***********       ]  3407394 of 4162827 complete Elapsed: 9.0 minutes\t Remaining: 2.0 minutes"
       ]
      },
      {
       "output_type": "stream",
       "stream": "stdout",
       "text": [
        " \r",
        "[*****************82%***********       ]  3418279 of 4162827 complete Elapsed: 9.1 minutes\t Remaining: 2.0 minutes"
       ]
      },
      {
       "output_type": "stream",
       "stream": "stdout",
       "text": [
        " \r",
        "[*****************82%***********       ]  3429151 of 4162827 complete Elapsed: 9.1 minutes\t Remaining: 1.9 minutes"
       ]
      },
      {
       "output_type": "stream",
       "stream": "stdout",
       "text": [
        " \r",
        "[*****************83%************      ]  3440022 of 4162827 complete Elapsed: 9.1 minutes\t Remaining: 1.9 minutes"
       ]
      },
      {
       "output_type": "stream",
       "stream": "stdout",
       "text": [
        " \r",
        "[*****************83%************      ]  3450891 of 4162827 complete Elapsed: 9.1 minutes\t Remaining: 1.9 minutes"
       ]
      },
      {
       "output_type": "stream",
       "stream": "stdout",
       "text": [
        " \r",
        "[*****************83%************      ]  3461765 of 4162827 complete Elapsed: 9.2 minutes\t Remaining: 1.9 minutes"
       ]
      },
      {
       "output_type": "stream",
       "stream": "stdout",
       "text": [
        " \r",
        "[*****************83%************      ]  3472641 of 4162827 complete Elapsed: 9.2 minutes\t Remaining: 1.8 minutes"
       ]
      },
      {
       "output_type": "stream",
       "stream": "stdout",
       "text": [
        " \r",
        "[*****************84%************      ]  3483502 of 4162827 complete Elapsed: 9.2 minutes\t Remaining: 1.8 minutes"
       ]
      },
      {
       "output_type": "stream",
       "stream": "stdout",
       "text": [
        " \r",
        "[*****************84%************      ]  3494371 of 4162827 complete Elapsed: 9.2 minutes\t Remaining: 1.8 minutes"
       ]
      },
      {
       "output_type": "stream",
       "stream": "stdout",
       "text": [
        " \r",
        "[*****************84%************      ]  3505225 of 4162827 complete Elapsed: 9.3 minutes\t Remaining: 1.7 minutes"
       ]
      },
      {
       "output_type": "stream",
       "stream": "stdout",
       "text": [
        " \r",
        "[*****************84%************      ]  3516087 of 4162827 complete Elapsed: 9.3 minutes\t Remaining: 1.7 minutes"
       ]
      },
      {
       "output_type": "stream",
       "stream": "stdout",
       "text": [
        " \r",
        "[*****************85%************      ]  3523316 of 4162827 complete Elapsed: 9.3 minutes\t Remaining: 1.7 minutes"
       ]
      },
      {
       "output_type": "stream",
       "stream": "stdout",
       "text": [
        " \r",
        "[*****************85%************      ]  3534078 of 4162827 complete Elapsed: 9.3 minutes\t Remaining: 1.7 minutes"
       ]
      },
      {
       "output_type": "stream",
       "stream": "stdout",
       "text": [
        " \r",
        "[*****************85%************      ]  3545115 of 4162827 complete Elapsed: 9.4 minutes\t Remaining: 1.6 minutes"
       ]
      },
      {
       "output_type": "stream",
       "stream": "stdout",
       "text": [
        " \r",
        "[*****************85%************      ]  3556026 of 4162827 complete Elapsed: 9.4 minutes\t Remaining: 1.6 minutes"
       ]
      },
      {
       "output_type": "stream",
       "stream": "stdout",
       "text": [
        " \r",
        "[*****************86%*************     ]  3566938 of 4162827 complete Elapsed: 9.4 minutes\t Remaining: 1.6 minutes"
       ]
      },
      {
       "output_type": "stream",
       "stream": "stdout",
       "text": [
        " \r",
        "[*****************86%*************     ]  3577829 of 4162827 complete Elapsed: 9.4 minutes\t Remaining: 1.5 minutes"
       ]
      },
      {
       "output_type": "stream",
       "stream": "stdout",
       "text": [
        " \r",
        "[*****************86%*************     ]  3588722 of 4162827 complete Elapsed: 9.5 minutes\t Remaining: 1.5 minutes"
       ]
      },
      {
       "output_type": "stream",
       "stream": "stdout",
       "text": [
        " \r",
        "[*****************86%*************     ]  3599616 of 4162827 complete Elapsed: 9.5 minutes\t Remaining: 1.5 minutes"
       ]
      },
      {
       "output_type": "stream",
       "stream": "stdout",
       "text": [
        " \r",
        "[*****************87%*************     ]  3610528 of 4162827 complete Elapsed: 9.5 minutes\t Remaining: 1.5 minutes"
       ]
      },
      {
       "output_type": "stream",
       "stream": "stdout",
       "text": [
        " \r",
        "[*****************87%*************     ]  3617519 of 4162827 complete Elapsed: 9.5 minutes\t Remaining: 1.4 minutes"
       ]
      },
      {
       "output_type": "stream",
       "stream": "stdout",
       "text": [
        " \r",
        "[*****************87%*************     ]  3628398 of 4162827 complete Elapsed: 9.6 minutes\t Remaining: 1.4 minutes"
       ]
      },
      {
       "output_type": "stream",
       "stream": "stdout",
       "text": [
        " \r",
        "[*****************87%*************     ]  3637178 of 4162827 complete Elapsed: 9.8 minutes\t Remaining: 1.4 minutes"
       ]
      },
      {
       "output_type": "stream",
       "stream": "stdout",
       "text": [
        " \r",
        "[*****************88%*************     ]  3648100 of 4162827 complete Elapsed: 9.8 minutes\t Remaining: 1.4 minutes"
       ]
      },
      {
       "output_type": "stream",
       "stream": "stdout",
       "text": [
        " \r",
        "[*****************88%*************     ]  3659011 of 4162827 complete Elapsed: 9.8 minutes\t Remaining: 1.4 minutes"
       ]
      },
      {
       "output_type": "stream",
       "stream": "stdout",
       "text": [
        " \r",
        "[*****************88%*************     ]  3669840 of 4162827 complete Elapsed: 9.9 minutes\t Remaining: 1.3 minutes"
       ]
      },
      {
       "output_type": "stream",
       "stream": "stdout",
       "text": [
        " \r",
        "[*****************88%*************     ]  3680661 of 4162827 complete Elapsed: 9.9 minutes\t Remaining: 1.3 minutes"
       ]
      },
      {
       "output_type": "stream",
       "stream": "stdout",
       "text": [
        " \r",
        "[*****************89%**************    ]  3691491 of 4162827 complete Elapsed: 9.9 minutes\t Remaining: 1.3 minutes"
       ]
      },
      {
       "output_type": "stream",
       "stream": "stdout",
       "text": [
        " \r",
        "[*****************89%**************    ]  3702326 of 4162827 complete Elapsed: 9.9 minutes\t Remaining: 1.2 minutes"
       ]
      },
      {
       "output_type": "stream",
       "stream": "stdout",
       "text": [
        " \r",
        "[*****************89%**************    ]  3713174 of 4162827 complete Elapsed: 10.0 minutes\t Remaining: 1.2 minutes"
       ]
      },
      {
       "output_type": "stream",
       "stream": "stdout",
       "text": [
        " \r",
        "[*****************89%**************    ]  3724025 of 4162827 complete Elapsed: 10.0 minutes\t Remaining: 1.2 minutes"
       ]
      },
      {
       "output_type": "stream",
       "stream": "stdout",
       "text": [
        " \r",
        "[*****************90%**************    ]  3734869 of 4162827 complete Elapsed: 10.0 minutes\t Remaining: 1.1 minutes"
       ]
      },
      {
       "output_type": "stream",
       "stream": "stdout",
       "text": [
        " \r",
        "[*****************90%**************    ]  3742225 of 4162827 complete Elapsed: 10.0 minutes\t Remaining: 1.1 minutes"
       ]
      },
      {
       "output_type": "stream",
       "stream": "stdout",
       "text": [
        " \r",
        "[*****************90%**************    ]  3753053 of 4162827 complete Elapsed: 10.1 minutes\t Remaining: 1.1 minutes"
       ]
      },
      {
       "output_type": "stream",
       "stream": "stdout",
       "text": [
        " \r",
        "[*****************90%**************    ]  3763912 of 4162827 complete Elapsed: 10.1 minutes\t Remaining: 1.1 minutes"
       ]
      },
      {
       "output_type": "stream",
       "stream": "stdout",
       "text": [
        " \r",
        "[*****************91%***************   ]  3774763 of 4162827 complete Elapsed: 10.1 minutes\t Remaining: 1.0 minutes"
       ]
      },
      {
       "output_type": "stream",
       "stream": "stdout",
       "text": [
        " \r",
        "[*****************91%***************   ]  3785630 of 4162827 complete Elapsed: 10.1 minutes\t Remaining: 1.0 minutes"
       ]
      },
      {
       "output_type": "stream",
       "stream": "stdout",
       "text": [
        " \r",
        "[*****************91%***************   ]  3796492 of 4162827 complete Elapsed: 10.2 minutes\t Remaining: 1.0 minutes"
       ]
      },
      {
       "output_type": "stream",
       "stream": "stdout",
       "text": [
        " \r",
        "[*****************91%***************   ]  3803514 of 4162827 complete Elapsed: 10.2 minutes\t Remaining: 1.0 minutes"
       ]
      },
      {
       "output_type": "stream",
       "stream": "stdout",
       "text": [
        " \r",
        "[*****************92%***************   ]  3814384 of 4162827 complete Elapsed: 10.2 minutes\t Remaining: 0.9 minutes"
       ]
      },
      {
       "output_type": "stream",
       "stream": "stdout",
       "text": [
        " \r",
        "[*****************92%***************   ]  3825270 of 4162827 complete Elapsed: 10.2 minutes\t Remaining: 0.9 minutes"
       ]
      },
      {
       "output_type": "stream",
       "stream": "stdout",
       "text": [
        " \r",
        "[*****************92%***************   ]  3836148 of 4162827 complete Elapsed: 10.3 minutes\t Remaining: 0.9 minutes"
       ]
      },
      {
       "output_type": "stream",
       "stream": "stdout",
       "text": [
        " \r",
        "[*****************92%***************   ]  3847028 of 4162827 complete Elapsed: 10.3 minutes\t Remaining: 0.8 minutes"
       ]
      },
      {
       "output_type": "stream",
       "stream": "stdout",
       "text": [
        " \r",
        "[*****************93%***************   ]  3857907 of 4162827 complete Elapsed: 10.3 minutes\t Remaining: 0.8 minutes"
       ]
      },
      {
       "output_type": "stream",
       "stream": "stdout",
       "text": [
        " \r",
        "[*****************93%***************   ]  3868787 of 4162827 complete Elapsed: 10.3 minutes\t Remaining: 0.8 minutes"
       ]
      },
      {
       "output_type": "stream",
       "stream": "stdout",
       "text": [
        " \r",
        "[*****************93%***************   ]  3879668 of 4162827 complete Elapsed: 10.4 minutes\t Remaining: 0.8 minutes"
       ]
      },
      {
       "output_type": "stream",
       "stream": "stdout",
       "text": [
        " \r",
        "[*****************93%***************   ]  3890548 of 4162827 complete Elapsed: 10.4 minutes\t Remaining: 0.7 minutes"
       ]
      },
      {
       "output_type": "stream",
       "stream": "stdout",
       "text": [
        " \r",
        "[*****************94%****************  ]  3901422 of 4162827 complete Elapsed: 10.4 minutes\t Remaining: 0.7 minutes"
       ]
      },
      {
       "output_type": "stream",
       "stream": "stdout",
       "text": [
        " \r",
        "[*****************94%****************  ]  3912282 of 4162827 complete Elapsed: 10.4 minutes\t Remaining: 0.7 minutes"
       ]
      },
      {
       "output_type": "stream",
       "stream": "stdout",
       "text": [
        " \r",
        "[*****************94%****************  ]  3923139 of 4162827 complete Elapsed: 10.5 minutes\t Remaining: 0.6 minutes"
       ]
      },
      {
       "output_type": "stream",
       "stream": "stdout",
       "text": [
        " \r",
        "[*****************94%****************  ]  3930580 of 4162827 complete Elapsed: 10.5 minutes\t Remaining: 0.6 minutes"
       ]
      },
      {
       "output_type": "stream",
       "stream": "stdout",
       "text": [
        " \r",
        "[*****************95%****************  ]  3941409 of 4162827 complete Elapsed: 10.5 minutes\t Remaining: 0.6 minutes"
       ]
      },
      {
       "output_type": "stream",
       "stream": "stdout",
       "text": [
        " \r",
        "[*****************95%****************  ]  3952260 of 4162827 complete Elapsed: 10.5 minutes\t Remaining: 0.6 minutes"
       ]
      },
      {
       "output_type": "stream",
       "stream": "stdout",
       "text": [
        " \r",
        "[*****************95%****************  ]  3963104 of 4162827 complete Elapsed: 10.6 minutes\t Remaining: 0.5 minutes"
       ]
      },
      {
       "output_type": "stream",
       "stream": "stdout",
       "text": [
        " \r",
        "[*****************95%****************  ]  3973776 of 4162827 complete Elapsed: 10.6 minutes\t Remaining: 0.5 minutes"
       ]
      },
      {
       "output_type": "stream",
       "stream": "stdout",
       "text": [
        " \r",
        "[*****************96%****************  ]  3981294 of 4162827 complete Elapsed: 10.6 minutes\t Remaining: 0.5 minutes"
       ]
      },
      {
       "output_type": "stream",
       "stream": "stdout",
       "text": [
        " \r",
        "[*****************96%****************  ]  3992195 of 4162827 complete Elapsed: 10.6 minutes\t Remaining: 0.5 minutes"
       ]
      },
      {
       "output_type": "stream",
       "stream": "stdout",
       "text": [
        " \r",
        "[*****************96%****************  ]  4003070 of 4162827 complete Elapsed: 10.7 minutes\t Remaining: 0.4 minutes"
       ]
      },
      {
       "output_type": "stream",
       "stream": "stdout",
       "text": [
        " \r",
        "[*****************96%****************  ]  4013914 of 4162827 complete Elapsed: 10.7 minutes\t Remaining: 0.4 minutes"
       ]
      },
      {
       "output_type": "stream",
       "stream": "stdout",
       "text": [
        " \r",
        "[*****************97%***************** ]  4024799 of 4162827 complete Elapsed: 10.7 minutes\t Remaining: 0.4 minutes"
       ]
      },
      {
       "output_type": "stream",
       "stream": "stdout",
       "text": [
        " \r",
        "[*****************97%***************** ]  4035670 of 4162827 complete Elapsed: 10.7 minutes\t Remaining: 0.3 minutes"
       ]
      },
      {
       "output_type": "stream",
       "stream": "stdout",
       "text": [
        " \r",
        "[*****************97%***************** ]  4042633 of 4162827 complete Elapsed: 10.8 minutes\t Remaining: 0.3 minutes"
       ]
      },
      {
       "output_type": "stream",
       "stream": "stdout",
       "text": [
        " \r",
        "[*****************97%***************** ]  4053499 of 4162827 complete Elapsed: 10.8 minutes\t Remaining: 0.3 minutes"
       ]
      },
      {
       "output_type": "stream",
       "stream": "stdout",
       "text": [
        " \r",
        "[*****************98%***************** ]  4064344 of 4162827 complete Elapsed: 10.8 minutes\t Remaining: 0.3 minutes"
       ]
      },
      {
       "output_type": "stream",
       "stream": "stdout",
       "text": [
        " \r",
        "[*****************98%***************** ]  4075204 of 4162827 complete Elapsed: 10.8 minutes\t Remaining: 0.2 minutes"
       ]
      },
      {
       "output_type": "stream",
       "stream": "stdout",
       "text": [
        " \r",
        "[*****************98%***************** ]  4086044 of 4162827 complete Elapsed: 10.9 minutes\t Remaining: 0.2 minutes"
       ]
      },
      {
       "output_type": "stream",
       "stream": "stdout",
       "text": [
        " \r",
        "[*****************98%***************** ]  4096879 of 4162827 complete Elapsed: 10.9 minutes\t Remaining: 0.2 minutes"
       ]
      },
      {
       "output_type": "stream",
       "stream": "stdout",
       "text": [
        " \r",
        "[*****************99%******************]  4107732 of 4162827 complete Elapsed: 10.9 minutes\t Remaining: 0.1 minutes"
       ]
      },
      {
       "output_type": "stream",
       "stream": "stdout",
       "text": [
        " \r",
        "[*****************99%******************]  4118594 of 4162827 complete Elapsed: 10.9 minutes\t Remaining: 0.1 minutes"
       ]
      },
      {
       "output_type": "stream",
       "stream": "stdout",
       "text": [
        " \r",
        "[*****************99%******************]  4129446 of 4162827 complete Elapsed: 11.0 minutes\t Remaining: 0.1 minutes"
       ]
      },
      {
       "output_type": "stream",
       "stream": "stdout",
       "text": [
        " \r",
        "[*****************99%******************]  4140318 of 4162827 complete Elapsed: 11.0 minutes\t Remaining: 0.1 minutes"
       ]
      },
      {
       "output_type": "stream",
       "stream": "stdout",
       "text": [
        " \r",
        "[****************100%******************]  4151155 of 4162827 complete Elapsed: 11.0 minutes\t Remaining: 0.0 minutes"
       ]
      },
      {
       "output_type": "stream",
       "stream": "stdout",
       "text": [
        "\n"
       ]
      }
     ],
     "prompt_number": 6
    },
    {
     "cell_type": "code",
     "collapsed": false,
     "input": [
      "ref_vcf = '/data/projects_gibbons/home/neffra/ASW_fastq/66_ASW_genotypes_AFRGh38_nodel.raw.vcf'\n",
      "liftover_file='/data/projects_gibbons/home/neffra/nodel_AFRGh38/liftover_AFRGh38_nodel.chain'\n",
      "out_file = '/data/projects_gibbons/home/neffra/ASW_fastq/66_ASW_genotypes_AFRGh38_nodel.hg38_coords.vcf'\n",
      "liftoverVCF(ref_vcf, liftover_file, out_file, reverse=True) # fastest possible implementation"
     ],
     "language": "python",
     "metadata": {},
     "outputs": [
      {
       "output_type": "stream",
       "stream": "stdout",
       "text": [
        "\r",
        "[                  0%                  ]"
       ]
      },
      {
       "output_type": "stream",
       "stream": "stdout",
       "text": [
        " \r",
        "[                  0%                  ]  1 of 22195070 complete Elapsed: 0.5 minutes\t Remaining: 10030241.3 minutes"
       ]
      },
      {
       "output_type": "stream",
       "stream": "stdout",
       "text": [
        " \r",
        "[                  0%                  ]  9999 of 22195070 complete Elapsed: 0.5 minutes\t Remaining: 1058.2 minutes"
       ]
      },
      {
       "output_type": "stream",
       "stream": "stdout",
       "text": [
        " \r",
        "[                  0%                  ]  20145 of 22195070 complete Elapsed: 0.5 minutes\t Remaining: 552.5 minutes"
       ]
      },
      {
       "output_type": "stream",
       "stream": "stdout",
       "text": [
        " \r",
        "[                  0%                  ]  30328 of 22195070 complete Elapsed: 0.5 minutes\t Remaining: 385.1 minutes"
       ]
      },
      {
       "output_type": "stream",
       "stream": "stdout",
       "text": [
        " \r",
        "[                  0%                  ]  40445 of 22195070 complete Elapsed: 0.6 minutes\t Remaining: 302.3 minutes"
       ]
      },
      {
       "output_type": "stream",
       "stream": "stdout",
       "text": [
        " \r",
        "[                  0%                  ]  50527 of 22195070 complete Elapsed: 0.6 minutes\t Remaining: 252.9 minutes"
       ]
      },
      {
       "output_type": "stream",
       "stream": "stdout",
       "text": [
        " \r",
        "[                  0%                  ]  60619 of 22195070 complete Elapsed: 0.6 minutes\t Remaining: 219.8 minutes"
       ]
      },
      {
       "output_type": "stream",
       "stream": "stdout",
       "text": [
        " \r",
        "[                  0%                  ]  70792 of 22195070 complete Elapsed: 0.6 minutes\t Remaining: 196.0 minutes"
       ]
      },
      {
       "output_type": "stream",
       "stream": "stdout",
       "text": [
        " \r",
        "[                  0%                  ]  80884 of 22195070 complete Elapsed: 0.7 minutes\t Remaining: 178.3 minutes"
       ]
      },
      {
       "output_type": "stream",
       "stream": "stdout",
       "text": [
        " \r",
        "[                  0%                  ]  91032 of 22195070 complete Elapsed: 0.7 minutes\t Remaining: 164.4 minutes"
       ]
      },
      {
       "output_type": "stream",
       "stream": "stdout",
       "text": [
        " \r",
        "[                  0%                  ]  101197 of 22195070 complete Elapsed: 0.7 minutes\t Remaining: 153.3 minutes"
       ]
      },
      {
       "output_type": "stream",
       "stream": "stdout",
       "text": [
        " \r",
        "[                  1%                  ]  111438 of 22195070 complete Elapsed: 0.7 minutes\t Remaining: 144.1 minutes"
       ]
      },
      {
       "output_type": "stream",
       "stream": "stdout",
       "text": [
        " \r",
        "[                  1%                  ]  121593 of 22195070 complete Elapsed: 0.8 minutes\t Remaining: 136.5 minutes"
       ]
      },
      {
       "output_type": "stream",
       "stream": "stdout",
       "text": [
        " \r",
        "[                  1%                  ]  131752 of 22195070 complete Elapsed: 0.8 minutes\t Remaining: 130.1 minutes"
       ]
      },
      {
       "output_type": "stream",
       "stream": "stdout",
       "text": [
        " \r",
        "[                  1%                  ]  141700 of 22195070 complete Elapsed: 0.8 minutes\t Remaining: 124.8 minutes"
       ]
      },
      {
       "output_type": "stream",
       "stream": "stdout",
       "text": [
        " \r",
        "[                  1%                  ]  151766 of 22195070 complete Elapsed: 0.8 minutes\t Remaining: 120.1 minutes"
       ]
      },
      {
       "output_type": "stream",
       "stream": "stdout",
       "text": [
        " \r",
        "[                  1%                  ]  161828 of 22195070 complete Elapsed: 0.9 minutes\t Remaining: 116.0 minutes"
       ]
      },
      {
       "output_type": "stream",
       "stream": "stdout",
       "text": [
        " \r",
        "[                  1%                  ]  172062 of 22195070 complete Elapsed: 0.9 minutes\t Remaining: 112.3 minutes"
       ]
      },
      {
       "output_type": "stream",
       "stream": "stdout",
       "text": [
        " \r",
        "[                  1%                  ]  182236 of 22195070 complete Elapsed: 0.9 minutes\t Remaining: 109.0 minutes"
       ]
      },
      {
       "output_type": "stream",
       "stream": "stdout",
       "text": [
        " \r",
        "[                  1%                  ]  192492 of 22195070 complete Elapsed: 0.9 minutes\t Remaining: 106.0 minutes"
       ]
      },
      {
       "output_type": "stream",
       "stream": "stdout",
       "text": [
        " \r",
        "[                  1%                  ]  202653 of 22195070 complete Elapsed: 1.0 minutes\t Remaining: 103.3 minutes"
       ]
      },
      {
       "output_type": "stream",
       "stream": "stdout",
       "text": [
        " \r",
        "[                  1%                  ]  212775 of 22195070 complete Elapsed: 1.0 minutes\t Remaining: 101.0 minutes"
       ]
      },
      {
       "output_type": "stream",
       "stream": "stdout",
       "text": [
        " \r",
        "[                  1%                  ]  222824 of 22195070 complete Elapsed: 1.0 minutes\t Remaining: 98.8 minutes"
       ]
      },
      {
       "output_type": "stream",
       "stream": "stdout",
       "text": [
        " \r",
        "[                  1%                  ]  232890 of 22195070 complete Elapsed: 1.0 minutes\t Remaining: 96.9 minutes"
       ]
      },
      {
       "output_type": "stream",
       "stream": "stdout",
       "text": [
        " \r",
        "[                  1%                  ]  242942 of 22195070 complete Elapsed: 1.1 minutes\t Remaining: 95.1 minutes"
       ]
      },
      {
       "output_type": "stream",
       "stream": "stdout",
       "text": [
        " \r",
        "[                  1%                  ]  253044 of 22195070 complete Elapsed: 1.1 minutes\t Remaining: 93.4 minutes"
       ]
      },
      {
       "output_type": "stream",
       "stream": "stdout",
       "text": [
        " \r",
        "[                  1%                  ]  263129 of 22195070 complete Elapsed: 1.1 minutes\t Remaining: 91.9 minutes"
       ]
      },
      {
       "output_type": "stream",
       "stream": "stdout",
       "text": [
        " \r",
        "[                  1%                  ]  273227 of 22195070 complete Elapsed: 1.1 minutes\t Remaining: 90.4 minutes"
       ]
      },
      {
       "output_type": "stream",
       "stream": "stdout",
       "text": [
        " \r",
        "[                  1%                  ]  283331 of 22195070 complete Elapsed: 1.2 minutes\t Remaining: 89.1 minutes"
       ]
      },
      {
       "output_type": "stream",
       "stream": "stdout",
       "text": [
        " \r",
        "[                  1%                  ]  293469 of 22195070 complete Elapsed: 1.2 minutes\t Remaining: 87.9 minutes"
       ]
      },
      {
       "output_type": "stream",
       "stream": "stdout",
       "text": [
        " \r",
        "[                  1%                  ]  303549 of 22195070 complete Elapsed: 1.2 minutes\t Remaining: 86.7 minutes"
       ]
      },
      {
       "output_type": "stream",
       "stream": "stdout",
       "text": [
        " \r",
        "[                  1%                  ]  313679 of 22195070 complete Elapsed: 1.2 minutes\t Remaining: 85.6 minutes"
       ]
      },
      {
       "output_type": "stream",
       "stream": "stdout",
       "text": [
        " \r",
        "[                  1%                  ]  323719 of 22195070 complete Elapsed: 1.3 minutes\t Remaining: 84.6 minutes"
       ]
      },
      {
       "output_type": "stream",
       "stream": "stdout",
       "text": [
        " \r",
        "[*                 2%                  ]  333823 of 22195070 complete Elapsed: 1.3 minutes\t Remaining: 83.6 minutes"
       ]
      },
      {
       "output_type": "stream",
       "stream": "stdout",
       "text": [
        " \r",
        "[*                 2%                  ]  343923 of 22195070 complete Elapsed: 1.3 minutes\t Remaining: 82.7 minutes"
       ]
      },
      {
       "output_type": "stream",
       "stream": "stdout",
       "text": [
        " \r",
        "[*                 2%                  ]  353997 of 22195070 complete Elapsed: 1.3 minutes\t Remaining: 81.9 minutes"
       ]
      },
      {
       "output_type": "stream",
       "stream": "stdout",
       "text": [
        " \r",
        "[*                 2%                  ]  364075 of 22195070 complete Elapsed: 1.4 minutes\t Remaining: 81.1 minutes"
       ]
      },
      {
       "output_type": "stream",
       "stream": "stdout",
       "text": [
        " \r",
        "[*                 2%                  ]  374253 of 22195070 complete Elapsed: 1.4 minutes\t Remaining: 80.3 minutes"
       ]
      },
      {
       "output_type": "stream",
       "stream": "stdout",
       "text": [
        " \r",
        "[*                 2%                  ]  384357 of 22195070 complete Elapsed: 1.4 minutes\t Remaining: 79.6 minutes"
       ]
      },
      {
       "output_type": "stream",
       "stream": "stdout",
       "text": [
        " \r",
        "[*                 2%                  ]  394453 of 22195070 complete Elapsed: 1.4 minutes\t Remaining: 78.9 minutes"
       ]
      },
      {
       "output_type": "stream",
       "stream": "stdout",
       "text": [
        " \r",
        "[*                 2%                  ]  404509 of 22195070 complete Elapsed: 1.5 minutes\t Remaining: 78.2 minutes"
       ]
      },
      {
       "output_type": "stream",
       "stream": "stdout",
       "text": [
        " \r",
        "[*                 2%                  ]  414634 of 22195070 complete Elapsed: 1.5 minutes\t Remaining: 77.6 minutes"
       ]
      },
      {
       "output_type": "stream",
       "stream": "stdout",
       "text": [
        " \r",
        "[*                 2%                  ]  424726 of 22195070 complete Elapsed: 1.5 minutes\t Remaining: 77.0 minutes"
       ]
      },
      {
       "output_type": "stream",
       "stream": "stdout",
       "text": [
        " \r",
        "[*                 2%                  ]  434887 of 22195070 complete Elapsed: 1.5 minutes\t Remaining: 76.4 minutes"
       ]
      },
      {
       "output_type": "stream",
       "stream": "stdout",
       "text": [
        " \r",
        "[*                 2%                  ]  445006 of 22195070 complete Elapsed: 1.6 minutes\t Remaining: 75.9 minutes"
       ]
      },
      {
       "output_type": "stream",
       "stream": "stdout",
       "text": [
        " \r",
        "[*                 2%                  ]  455152 of 22195070 complete Elapsed: 1.6 minutes\t Remaining: 75.3 minutes"
       ]
      },
      {
       "output_type": "stream",
       "stream": "stdout",
       "text": [
        " \r",
        "[*                 2%                  ]  465239 of 22195070 complete Elapsed: 1.6 minutes\t Remaining: 74.8 minutes"
       ]
      },
      {
       "output_type": "stream",
       "stream": "stdout",
       "text": [
        " \r",
        "[*                 2%                  ]  475359 of 22195070 complete Elapsed: 1.6 minutes\t Remaining: 74.4 minutes"
       ]
      },
      {
       "output_type": "stream",
       "stream": "stdout",
       "text": [
        " \r",
        "[*                 2%                  ]  485413 of 22195070 complete Elapsed: 1.7 minutes\t Remaining: 73.9 minutes"
       ]
      },
      {
       "output_type": "stream",
       "stream": "stdout",
       "text": [
        " \r",
        "[*                 2%                  ]  495538 of 22195070 complete Elapsed: 1.7 minutes\t Remaining: 73.5 minutes"
       ]
      },
      {
       "output_type": "stream",
       "stream": "stdout",
       "text": [
        " \r",
        "[*                 2%                  ]  505654 of 22195070 complete Elapsed: 1.7 minutes\t Remaining: 73.0 minutes"
       ]
      },
      {
       "output_type": "stream",
       "stream": "stdout",
       "text": [
        " \r",
        "[*                 2%                  ]  515836 of 22195070 complete Elapsed: 1.7 minutes\t Remaining: 72.6 minutes"
       ]
      },
      {
       "output_type": "stream",
       "stream": "stdout",
       "text": [
        " \r",
        "[*                 2%                  ]  525951 of 22195070 complete Elapsed: 1.8 minutes\t Remaining: 72.2 minutes"
       ]
      },
      {
       "output_type": "stream",
       "stream": "stdout",
       "text": [
        " \r",
        "[*                 2%                  ]  536113 of 22195070 complete Elapsed: 1.8 minutes\t Remaining: 71.8 minutes"
       ]
      },
      {
       "output_type": "stream",
       "stream": "stdout",
       "text": [
        " \r",
        "[*                 2%                  ]  546204 of 22195070 complete Elapsed: 1.8 minutes\t Remaining: 71.4 minutes"
       ]
      },
      {
       "output_type": "stream",
       "stream": "stdout",
       "text": [
        " \r",
        "[*                 3%                  ]  556349 of 22195070 complete Elapsed: 1.8 minutes\t Remaining: 71.1 minutes"
       ]
      },
      {
       "output_type": "stream",
       "stream": "stdout",
       "text": [
        " \r",
        "[*                 3%                  ]  566440 of 22195070 complete Elapsed: 1.9 minutes\t Remaining: 70.7 minutes"
       ]
      },
      {
       "output_type": "stream",
       "stream": "stdout",
       "text": [
        " \r",
        "[*                 3%                  ]  576595 of 22195070 complete Elapsed: 1.9 minutes\t Remaining: 70.4 minutes"
       ]
      },
      {
       "output_type": "stream",
       "stream": "stdout",
       "text": [
        " \r",
        "[*                 3%                  ]  586715 of 22195070 complete Elapsed: 1.9 minutes\t Remaining: 70.1 minutes"
       ]
      },
      {
       "output_type": "stream",
       "stream": "stdout",
       "text": [
        " \r",
        "[*                 3%                  ]  596858 of 22195070 complete Elapsed: 1.9 minutes\t Remaining: 69.7 minutes"
       ]
      },
      {
       "output_type": "stream",
       "stream": "stdout",
       "text": [
        " \r",
        "[*                 3%                  ]  606963 of 22195070 complete Elapsed: 2.0 minutes\t Remaining: 69.4 minutes"
       ]
      },
      {
       "output_type": "stream",
       "stream": "stdout",
       "text": [
        " \r",
        "[*                 3%                  ]  617090 of 22195070 complete Elapsed: 2.0 minutes\t Remaining: 69.1 minutes"
       ]
      },
      {
       "output_type": "stream",
       "stream": "stdout",
       "text": [
        " \r",
        "[*                 3%                  ]  627172 of 22195070 complete Elapsed: 2.0 minutes\t Remaining: 68.9 minutes"
       ]
      },
      {
       "output_type": "stream",
       "stream": "stdout",
       "text": [
        " \r",
        "[*                 3%                  ]  637298 of 22195070 complete Elapsed: 2.0 minutes\t Remaining: 68.6 minutes"
       ]
      },
      {
       "output_type": "stream",
       "stream": "stdout",
       "text": [
        " \r",
        "[*                 3%                  ]  647412 of 22195070 complete Elapsed: 2.1 minutes\t Remaining: 68.3 minutes"
       ]
      },
      {
       "output_type": "stream",
       "stream": "stdout",
       "text": [
        " \r",
        "[*                 3%                  ]  657592 of 22195070 complete Elapsed: 2.1 minutes\t Remaining: 68.0 minutes"
       ]
      },
      {
       "output_type": "stream",
       "stream": "stdout",
       "text": [
        " \r",
        "[*                 3%                  ]  667692 of 22195070 complete Elapsed: 2.1 minutes\t Remaining: 67.8 minutes"
       ]
      },
      {
       "output_type": "stream",
       "stream": "stdout",
       "text": [
        " \r",
        "[*                 3%                  ]  677840 of 22195070 complete Elapsed: 2.1 minutes\t Remaining: 67.5 minutes"
       ]
      },
      {
       "output_type": "stream",
       "stream": "stdout",
       "text": [
        " \r",
        "[*                 3%                  ]  687972 of 22195070 complete Elapsed: 2.2 minutes\t Remaining: 67.3 minutes"
       ]
      },
      {
       "output_type": "stream",
       "stream": "stdout",
       "text": [
        " \r",
        "[*                 3%                  ]  698241 of 22195070 complete Elapsed: 2.2 minutes\t Remaining: 67.0 minutes"
       ]
      },
      {
       "output_type": "stream",
       "stream": "stdout",
       "text": [
        " \r",
        "[*                 3%                  ]  708432 of 22195070 complete Elapsed: 2.2 minutes\t Remaining: 66.8 minutes"
       ]
      },
      {
       "output_type": "stream",
       "stream": "stdout",
       "text": [
        " \r",
        "[*                 3%                  ]  718685 of 22195070 complete Elapsed: 2.2 minutes\t Remaining: 66.6 minutes"
       ]
      },
      {
       "output_type": "stream",
       "stream": "stdout",
       "text": [
        " \r",
        "[*                 3%                  ]  728812 of 22195070 complete Elapsed: 2.3 minutes\t Remaining: 66.3 minutes"
       ]
      },
      {
       "output_type": "stream",
       "stream": "stdout",
       "text": [
        " \r",
        "[*                 3%                  ]  738985 of 22195070 complete Elapsed: 2.3 minutes\t Remaining: 66.1 minutes"
       ]
      },
      {
       "output_type": "stream",
       "stream": "stdout",
       "text": [
        " \r",
        "[*                 3%                  ]  749084 of 22195070 complete Elapsed: 2.3 minutes\t Remaining: 65.9 minutes"
       ]
      },
      {
       "output_type": "stream",
       "stream": "stdout",
       "text": [
        " \r",
        "[*                 3%                  ]  759280 of 22195070 complete Elapsed: 2.3 minutes\t Remaining: 65.7 minutes"
       ]
      },
      {
       "output_type": "stream",
       "stream": "stdout",
       "text": [
        " \r",
        "[*                 3%                  ]  769411 of 22195070 complete Elapsed: 2.4 minutes\t Remaining: 65.5 minutes"
       ]
      },
      {
       "output_type": "stream",
       "stream": "stdout",
       "text": [
        " \r",
        "[**                4%                  ]  779550 of 22195070 complete Elapsed: 2.4 minutes\t Remaining: 65.3 minutes"
       ]
      },
      {
       "output_type": "stream",
       "stream": "stdout",
       "text": [
        " \r",
        "[**                4%                  ]  789655 of 22195070 complete Elapsed: 2.4 minutes\t Remaining: 65.1 minutes"
       ]
      },
      {
       "output_type": "stream",
       "stream": "stdout",
       "text": [
        " \r",
        "[**                4%                  ]  799840 of 22195070 complete Elapsed: 2.4 minutes\t Remaining: 64.9 minutes"
       ]
      },
      {
       "output_type": "stream",
       "stream": "stdout",
       "text": [
        " \r",
        "[**                4%                  ]  809994 of 22195070 complete Elapsed: 2.5 minutes\t Remaining: 64.8 minutes"
       ]
      },
      {
       "output_type": "stream",
       "stream": "stdout",
       "text": [
        " \r",
        "[**                4%                  ]  820151 of 22195070 complete Elapsed: 2.5 minutes\t Remaining: 64.6 minutes"
       ]
      },
      {
       "output_type": "stream",
       "stream": "stdout",
       "text": [
        " \r",
        "[**                4%                  ]  830268 of 22195070 complete Elapsed: 2.5 minutes\t Remaining: 64.4 minutes"
       ]
      },
      {
       "output_type": "stream",
       "stream": "stdout",
       "text": [
        " \r",
        "[**                4%                  ]  840437 of 22195070 complete Elapsed: 2.5 minutes\t Remaining: 64.2 minutes"
       ]
      },
      {
       "output_type": "stream",
       "stream": "stdout",
       "text": [
        " \r",
        "[**                4%                  ]  850566 of 22195070 complete Elapsed: 2.6 minutes\t Remaining: 64.1 minutes"
       ]
      },
      {
       "output_type": "stream",
       "stream": "stdout",
       "text": [
        " \r",
        "[**                4%                  ]  860832 of 22195070 complete Elapsed: 2.6 minutes\t Remaining: 63.9 minutes"
       ]
      },
      {
       "output_type": "stream",
       "stream": "stdout",
       "text": [
        " \r",
        "[**                4%                  ]  871196 of 22195070 complete Elapsed: 2.6 minutes\t Remaining: 63.7 minutes"
       ]
      },
      {
       "output_type": "stream",
       "stream": "stdout",
       "text": [
        " \r",
        "[**                4%                  ]  881186 of 22195070 complete Elapsed: 2.6 minutes\t Remaining: 63.6 minutes"
       ]
      },
      {
       "output_type": "stream",
       "stream": "stdout",
       "text": [
        " \r",
        "[**                4%                  ]  891252 of 22195070 complete Elapsed: 2.7 minutes\t Remaining: 63.4 minutes"
       ]
      },
      {
       "output_type": "stream",
       "stream": "stdout",
       "text": [
        " \r",
        "[**                4%                  ]  901507 of 22195070 complete Elapsed: 2.7 minutes\t Remaining: 63.2 minutes"
       ]
      },
      {
       "output_type": "stream",
       "stream": "stdout",
       "text": [
        " \r",
        "[**                4%                  ]  911665 of 22195070 complete Elapsed: 2.7 minutes\t Remaining: 63.1 minutes"
       ]
      },
      {
       "output_type": "stream",
       "stream": "stdout",
       "text": [
        " \r",
        "[**                4%                  ]  921921 of 22195070 complete Elapsed: 2.7 minutes\t Remaining: 62.9 minutes"
       ]
      },
      {
       "output_type": "stream",
       "stream": "stdout",
       "text": [
        " \r",
        "[**                4%                  ]  932073 of 22195070 complete Elapsed: 2.8 minutes\t Remaining: 62.8 minutes"
       ]
      },
      {
       "output_type": "stream",
       "stream": "stdout",
       "text": [
        " \r",
        "[**                4%                  ]  942262 of 22195070 complete Elapsed: 2.8 minutes\t Remaining: 62.7 minutes"
       ]
      },
      {
       "output_type": "stream",
       "stream": "stdout",
       "text": [
        " \r",
        "[**                4%                  ]  952374 of 22195070 complete Elapsed: 2.8 minutes\t Remaining: 62.5 minutes"
       ]
      },
      {
       "output_type": "stream",
       "stream": "stdout",
       "text": [
        " \r",
        "[**                4%                  ]  962579 of 22195070 complete Elapsed: 2.8 minutes\t Remaining: 62.4 minutes"
       ]
      },
      {
       "output_type": "stream",
       "stream": "stdout",
       "text": [
        " \r",
        "[**                4%                  ]  972685 of 22195070 complete Elapsed: 2.9 minutes\t Remaining: 62.2 minutes"
       ]
      },
      {
       "output_type": "stream",
       "stream": "stdout",
       "text": [
        " \r",
        "[**                4%                  ]  982859 of 22195070 complete Elapsed: 2.9 minutes\t Remaining: 62.1 minutes"
       ]
      },
      {
       "output_type": "stream",
       "stream": "stdout",
       "text": [
        " \r",
        "[**                4%                  ]  992963 of 22195070 complete Elapsed: 2.9 minutes\t Remaining: 62.0 minutes"
       ]
      },
      {
       "output_type": "stream",
       "stream": "stdout",
       "text": [
        " \r",
        "[**                5%                  ]  1003123 of 22195070 complete Elapsed: 2.9 minutes\t Remaining: 61.9 minutes"
       ]
      },
      {
       "output_type": "stream",
       "stream": "stdout",
       "text": [
        " \r",
        "[**                5%                  ]  1013232 of 22195070 complete Elapsed: 3.0 minutes\t Remaining: 61.7 minutes"
       ]
      },
      {
       "output_type": "stream",
       "stream": "stdout",
       "text": [
        " \r",
        "[**                5%                  ]  1023428 of 22195070 complete Elapsed: 3.0 minutes\t Remaining: 61.6 minutes"
       ]
      },
      {
       "output_type": "stream",
       "stream": "stdout",
       "text": [
        " \r",
        "[**                5%                  ]  1033547 of 22195070 complete Elapsed: 3.0 minutes\t Remaining: 61.5 minutes"
       ]
      },
      {
       "output_type": "stream",
       "stream": "stdout",
       "text": [
        " \r",
        "[**                5%                  ]  1043741 of 22195070 complete Elapsed: 3.0 minutes\t Remaining: 61.4 minutes"
       ]
      },
      {
       "output_type": "stream",
       "stream": "stdout",
       "text": [
        " \r",
        "[**                5%                  ]  1053873 of 22195070 complete Elapsed: 3.1 minutes\t Remaining: 61.2 minutes"
       ]
      },
      {
       "output_type": "stream",
       "stream": "stdout",
       "text": [
        " \r",
        "[**                5%                  ]  1064047 of 22195070 complete Elapsed: 3.1 minutes\t Remaining: 61.1 minutes"
       ]
      },
      {
       "output_type": "stream",
       "stream": "stdout",
       "text": [
        " \r",
        "[**                5%                  ]  1074181 of 22195070 complete Elapsed: 3.1 minutes\t Remaining: 61.0 minutes"
       ]
      },
      {
       "output_type": "stream",
       "stream": "stdout",
       "text": [
        " \r",
        "[**                5%                  ]  1084340 of 22195070 complete Elapsed: 3.1 minutes\t Remaining: 60.9 minutes"
       ]
      },
      {
       "output_type": "stream",
       "stream": "stdout",
       "text": [
        " \r",
        "[**                5%                  ]  1094505 of 22195070 complete Elapsed: 3.2 minutes\t Remaining: 60.8 minutes"
       ]
      },
      {
       "output_type": "stream",
       "stream": "stdout",
       "text": [
        " \r",
        "[**                5%                  ]  1104763 of 22195070 complete Elapsed: 3.2 minutes\t Remaining: 60.7 minutes"
       ]
      },
      {
       "output_type": "stream",
       "stream": "stdout",
       "text": [
        " \r",
        "[**                5%                  ]  1114896 of 22195070 complete Elapsed: 3.2 minutes\t Remaining: 60.6 minutes"
       ]
      },
      {
       "output_type": "stream",
       "stream": "stdout",
       "text": [
        " \r",
        "[**                5%                  ]  1125053 of 22195070 complete Elapsed: 3.2 minutes\t Remaining: 60.5 minutes"
       ]
      },
      {
       "output_type": "stream",
       "stream": "stdout",
       "text": [
        " \r",
        "[**                5%                  ]  1135173 of 22195070 complete Elapsed: 3.3 minutes\t Remaining: 60.3 minutes"
       ]
      },
      {
       "output_type": "stream",
       "stream": "stdout",
       "text": [
        " \r",
        "[**                5%                  ]  1145334 of 22195070 complete Elapsed: 3.3 minutes\t Remaining: 60.2 minutes"
       ]
      },
      {
       "output_type": "stream",
       "stream": "stdout",
       "text": [
        " \r",
        "[**                5%                  ]  1155453 of 22195070 complete Elapsed: 3.3 minutes\t Remaining: 60.1 minutes"
       ]
      },
      {
       "output_type": "stream",
       "stream": "stdout",
       "text": [
        " \r",
        "[**                5%                  ]  1165623 of 22195070 complete Elapsed: 3.3 minutes\t Remaining: 60.0 minutes"
       ]
      },
      {
       "output_type": "stream",
       "stream": "stdout",
       "text": [
        " \r",
        "[**                5%                  ]  1175781 of 22195070 complete Elapsed: 3.4 minutes\t Remaining: 59.9 minutes"
       ]
      },
      {
       "output_type": "stream",
       "stream": "stdout",
       "text": [
        " \r",
        "[**                5%                  ]  1185981 of 22195070 complete Elapsed: 3.4 minutes\t Remaining: 59.8 minutes"
       ]
      },
      {
       "output_type": "stream",
       "stream": "stdout",
       "text": [
        " \r",
        "[**                5%                  ]  1196149 of 22195070 complete Elapsed: 3.4 minutes\t Remaining: 59.7 minutes"
       ]
      },
      {
       "output_type": "stream",
       "stream": "stdout",
       "text": [
        " \r",
        "[**                5%                  ]  1206347 of 22195070 complete Elapsed: 3.4 minutes\t Remaining: 59.6 minutes"
       ]
      },
      {
       "output_type": "stream",
       "stream": "stdout",
       "text": [
        " \r",
        "[**                5%                  ]  1216507 of 22195070 complete Elapsed: 3.5 minutes\t Remaining: 59.5 minutes"
       ]
      },
      {
       "output_type": "stream",
       "stream": "stdout",
       "text": [
        " \r",
        "[**                6%                  ]  1226687 of 22195070 complete Elapsed: 3.5 minutes\t Remaining: 59.5 minutes"
       ]
      },
      {
       "output_type": "stream",
       "stream": "stdout",
       "text": [
        " \r",
        "[**                6%                  ]  1236843 of 22195070 complete Elapsed: 3.5 minutes\t Remaining: 59.4 minutes"
       ]
      },
      {
       "output_type": "stream",
       "stream": "stdout",
       "text": [
        " \r",
        "[**                6%                  ]  1247014 of 22195070 complete Elapsed: 3.5 minutes\t Remaining: 59.3 minutes"
       ]
      },
      {
       "output_type": "stream",
       "stream": "stdout",
       "text": [
        " \r",
        "[**                6%                  ]  1257177 of 22195070 complete Elapsed: 3.6 minutes\t Remaining: 59.2 minutes"
       ]
      },
      {
       "output_type": "stream",
       "stream": "stdout",
       "text": [
        " \r",
        "[**                6%                  ]  1267418 of 22195070 complete Elapsed: 3.6 minutes\t Remaining: 59.1 minutes"
       ]
      },
      {
       "output_type": "stream",
       "stream": "stdout",
       "text": [
        " \r",
        "[**                6%                  ]  1277656 of 22195070 complete Elapsed: 3.6 minutes\t Remaining: 59.0 minutes"
       ]
      },
      {
       "output_type": "stream",
       "stream": "stdout",
       "text": [
        " \r",
        "[**                6%                  ]  1288050 of 22195070 complete Elapsed: 3.6 minutes\t Remaining: 58.9 minutes"
       ]
      },
      {
       "output_type": "stream",
       "stream": "stdout",
       "text": [
        " \r",
        "[**                6%                  ]  1298365 of 22195070 complete Elapsed: 3.7 minutes\t Remaining: 58.8 minutes"
       ]
      },
      {
       "output_type": "stream",
       "stream": "stdout",
       "text": [
        " \r",
        "[**                6%                  ]  1308659 of 22195070 complete Elapsed: 3.7 minutes\t Remaining: 58.7 minutes"
       ]
      },
      {
       "output_type": "stream",
       "stream": "stdout",
       "text": [
        " \r",
        "[**                6%                  ]  1318932 of 22195070 complete Elapsed: 3.7 minutes\t Remaining: 58.6 minutes"
       ]
      },
      {
       "output_type": "stream",
       "stream": "stdout",
       "text": [
        " \r",
        "[**                6%                  ]  1329140 of 22195070 complete Elapsed: 3.7 minutes\t Remaining: 58.5 minutes"
       ]
      },
      {
       "output_type": "stream",
       "stream": "stdout",
       "text": [
        " \r",
        "[**                6%                  ]  1339369 of 22195070 complete Elapsed: 3.8 minutes\t Remaining: 58.4 minutes"
       ]
      },
      {
       "output_type": "stream",
       "stream": "stdout",
       "text": [
        " \r",
        "[**                6%                  ]  1349692 of 22195070 complete Elapsed: 3.8 minutes\t Remaining: 58.4 minutes"
       ]
      },
      {
       "output_type": "stream",
       "stream": "stdout",
       "text": [
        " \r",
        "[**                6%                  ]  1359924 of 22195070 complete Elapsed: 3.8 minutes\t Remaining: 58.3 minutes"
       ]
      },
      {
       "output_type": "stream",
       "stream": "stdout",
       "text": [
        " \r",
        "[**                6%                  ]  1370070 of 22195070 complete Elapsed: 3.8 minutes\t Remaining: 58.2 minutes"
       ]
      },
      {
       "output_type": "stream",
       "stream": "stdout",
       "text": [
        " \r",
        "[**                6%                  ]  1380188 of 22195070 complete Elapsed: 3.9 minutes\t Remaining: 58.1 minutes"
       ]
      },
      {
       "output_type": "stream",
       "stream": "stdout",
       "text": [
        " \r",
        "[**                6%                  ]  1390467 of 22195070 complete Elapsed: 3.9 minutes\t Remaining: 58.0 minutes"
       ]
      },
      {
       "output_type": "stream",
       "stream": "stdout",
       "text": [
        " \r",
        "[**                6%                  ]  1400773 of 22195070 complete Elapsed: 3.9 minutes\t Remaining: 57.9 minutes"
       ]
      },
      {
       "output_type": "stream",
       "stream": "stdout",
       "text": [
        " \r",
        "[**                6%                  ]  1411033 of 22195070 complete Elapsed: 3.9 minutes\t Remaining: 57.9 minutes"
       ]
      },
      {
       "output_type": "stream",
       "stream": "stdout",
       "text": [
        " \r",
        "[**                6%                  ]  1421110 of 22195070 complete Elapsed: 4.0 minutes\t Remaining: 57.8 minutes"
       ]
      },
      {
       "output_type": "stream",
       "stream": "stdout",
       "text": [
        " \r",
        "[**                6%                  ]  1431252 of 22195070 complete Elapsed: 4.0 minutes\t Remaining: 57.7 minutes"
       ]
      },
      {
       "output_type": "stream",
       "stream": "stdout",
       "text": [
        " \r",
        "[**                6%                  ]  1441351 of 22195070 complete Elapsed: 4.0 minutes\t Remaining: 57.6 minutes"
       ]
      },
      {
       "output_type": "stream",
       "stream": "stdout",
       "text": [
        " \r",
        "[***               7%                  ]  1451414 of 22195070 complete Elapsed: 4.0 minutes\t Remaining: 57.6 minutes"
       ]
      },
      {
       "output_type": "stream",
       "stream": "stdout",
       "text": [
        " \r",
        "[***               7%                  ]  1461488 of 22195070 complete Elapsed: 4.1 minutes\t Remaining: 57.5 minutes"
       ]
      },
      {
       "output_type": "stream",
       "stream": "stdout",
       "text": [
        " \r",
        "[***               7%                  ]  1471534 of 22195070 complete Elapsed: 4.1 minutes\t Remaining: 57.4 minutes"
       ]
      },
      {
       "output_type": "stream",
       "stream": "stdout",
       "text": [
        " \r",
        "[***               7%                  ]  1481598 of 22195070 complete Elapsed: 4.1 minutes\t Remaining: 57.4 minutes"
       ]
      },
      {
       "output_type": "stream",
       "stream": "stdout",
       "text": [
        " \r",
        "[***               7%                  ]  1491648 of 22195070 complete Elapsed: 4.1 minutes\t Remaining: 57.3 minutes"
       ]
      },
      {
       "output_type": "stream",
       "stream": "stdout",
       "text": [
        " \r",
        "[***               7%                  ]  1501574 of 22195070 complete Elapsed: 4.2 minutes\t Remaining: 57.2 minutes"
       ]
      },
      {
       "output_type": "stream",
       "stream": "stdout",
       "text": [
        " \r",
        "[***               7%                  ]  1511241 of 22195070 complete Elapsed: 4.2 minutes\t Remaining: 57.2 minutes"
       ]
      },
      {
       "output_type": "stream",
       "stream": "stdout",
       "text": [
        " \r",
        "[***               7%                  ]  1520935 of 22195070 complete Elapsed: 4.2 minutes\t Remaining: 57.1 minutes"
       ]
      },
      {
       "output_type": "stream",
       "stream": "stdout",
       "text": [
        " \r",
        "[***               7%                  ]  1530940 of 22195070 complete Elapsed: 4.2 minutes\t Remaining: 57.1 minutes"
       ]
      },
      {
       "output_type": "stream",
       "stream": "stdout",
       "text": [
        " \r",
        "[***               7%                  ]  1540717 of 22195070 complete Elapsed: 4.3 minutes\t Remaining: 57.0 minutes"
       ]
      },
      {
       "output_type": "stream",
       "stream": "stdout",
       "text": [
        " \r",
        "[***               7%                  ]  1550743 of 22195070 complete Elapsed: 4.3 minutes\t Remaining: 57.0 minutes"
       ]
      },
      {
       "output_type": "stream",
       "stream": "stdout",
       "text": [
        " \r",
        "[***               7%                  ]  1560616 of 22195070 complete Elapsed: 4.3 minutes\t Remaining: 56.9 minutes"
       ]
      },
      {
       "output_type": "stream",
       "stream": "stdout",
       "text": [
        " \r",
        "[***               7%                  ]  1570649 of 22195070 complete Elapsed: 4.3 minutes\t Remaining: 56.8 minutes"
       ]
      },
      {
       "output_type": "stream",
       "stream": "stdout",
       "text": [
        " \r",
        "[***               7%                  ]  1580644 of 22195070 complete Elapsed: 4.4 minutes\t Remaining: 56.8 minutes"
       ]
      },
      {
       "output_type": "stream",
       "stream": "stdout",
       "text": [
        " \r",
        "[***               7%                  ]  1590524 of 22195070 complete Elapsed: 4.4 minutes\t Remaining: 56.7 minutes"
       ]
      },
      {
       "output_type": "stream",
       "stream": "stdout",
       "text": [
        " \r",
        "[***               7%                  ]  1600512 of 22195070 complete Elapsed: 4.4 minutes\t Remaining: 56.7 minutes"
       ]
      },
      {
       "output_type": "stream",
       "stream": "stdout",
       "text": [
        " \r",
        "[***               7%                  ]  1610424 of 22195070 complete Elapsed: 4.4 minutes\t Remaining: 56.6 minutes"
       ]
      },
      {
       "output_type": "stream",
       "stream": "stdout",
       "text": [
        " \r",
        "[***               7%                  ]  1620275 of 22195070 complete Elapsed: 4.5 minutes\t Remaining: 56.6 minutes"
       ]
      },
      {
       "output_type": "stream",
       "stream": "stdout",
       "text": [
        " \r",
        "[***               7%                  ]  1630210 of 22195070 complete Elapsed: 4.5 minutes\t Remaining: 56.5 minutes"
       ]
      },
      {
       "output_type": "stream",
       "stream": "stdout",
       "text": [
        " \r",
        "[***               7%                  ]  1640309 of 22195070 complete Elapsed: 4.5 minutes\t Remaining: 56.4 minutes"
       ]
      },
      {
       "output_type": "stream",
       "stream": "stdout",
       "text": [
        " \r",
        "[***               7%                  ]  1645241 of 22195070 complete Elapsed: 5.0 minutes\t Remaining: 62.2 minutes"
       ]
      },
      {
       "output_type": "stream",
       "stream": "stdout",
       "text": [
        " \r",
        "[***               7%                  ]  1647542 of 22195070 complete Elapsed: 5.0 minutes\t Remaining: 62.5 minutes"
       ]
      },
      {
       "output_type": "stream",
       "stream": "stdout",
       "text": [
        " \r",
        "[***               7%                  ]  1657769 of 22195070 complete Elapsed: 5.0 minutes\t Remaining: 62.3 minutes"
       ]
      },
      {
       "output_type": "stream",
       "stream": "stdout",
       "text": [
        " \r",
        "[***               8%                  ]  1667920 of 22195070 complete Elapsed: 5.1 minutes\t Remaining: 62.2 minutes"
       ]
      },
      {
       "output_type": "stream",
       "stream": "stdout",
       "text": [
        " \r",
        "[***               8%                  ]  1677974 of 22195070 complete Elapsed: 5.1 minutes\t Remaining: 62.1 minutes"
       ]
      },
      {
       "output_type": "stream",
       "stream": "stdout",
       "text": [
        " \r",
        "[***               8%                  ]  1688214 of 22195070 complete Elapsed: 5.1 minutes\t Remaining: 62.0 minutes"
       ]
      },
      {
       "output_type": "stream",
       "stream": "stdout",
       "text": [
        " \r",
        "[***               8%                  ]  1698318 of 22195070 complete Elapsed: 5.1 minutes\t Remaining: 61.9 minutes"
       ]
      },
      {
       "output_type": "stream",
       "stream": "stdout",
       "text": [
        " \r",
        "[***               8%                  ]  1708369 of 22195070 complete Elapsed: 5.2 minutes\t Remaining: 61.9 minutes"
       ]
      },
      {
       "output_type": "stream",
       "stream": "stdout",
       "text": [
        " \r",
        "[***               8%                  ]  1718462 of 22195070 complete Elapsed: 5.2 minutes\t Remaining: 61.8 minutes"
       ]
      },
      {
       "output_type": "stream",
       "stream": "stdout",
       "text": [
        " \r",
        "[***               8%                  ]  1728605 of 22195070 complete Elapsed: 5.2 minutes\t Remaining: 61.7 minutes"
       ]
      },
      {
       "output_type": "stream",
       "stream": "stdout",
       "text": [
        " \r",
        "[***               8%                  ]  1738667 of 22195070 complete Elapsed: 5.2 minutes\t Remaining: 61.6 minutes"
       ]
      },
      {
       "output_type": "stream",
       "stream": "stdout",
       "text": [
        " \r",
        "[***               8%                  ]  1748967 of 22195070 complete Elapsed: 5.3 minutes\t Remaining: 61.5 minutes"
       ]
      },
      {
       "output_type": "stream",
       "stream": "stdout",
       "text": [
        " \r",
        "[***               8%                  ]  1759235 of 22195070 complete Elapsed: 5.3 minutes\t Remaining: 61.4 minutes"
       ]
      },
      {
       "output_type": "stream",
       "stream": "stdout",
       "text": [
        " \r",
        "[***               8%                  ]  1769623 of 22195070 complete Elapsed: 5.3 minutes\t Remaining: 61.3 minutes"
       ]
      },
      {
       "output_type": "stream",
       "stream": "stdout",
       "text": [
        " \r",
        "[***               8%                  ]  1779796 of 22195070 complete Elapsed: 5.3 minutes\t Remaining: 61.2 minutes"
       ]
      },
      {
       "output_type": "stream",
       "stream": "stdout",
       "text": [
        " \r",
        "[***               8%                  ]  1789975 of 22195070 complete Elapsed: 5.4 minutes\t Remaining: 61.1 minutes"
       ]
      },
      {
       "output_type": "stream",
       "stream": "stdout",
       "text": [
        " \r",
        "[***               8%                  ]  1800123 of 22195070 complete Elapsed: 5.4 minutes\t Remaining: 61.0 minutes"
       ]
      },
      {
       "output_type": "stream",
       "stream": "stdout",
       "text": [
        " \r",
        "[***               8%                  ]  1810309 of 22195070 complete Elapsed: 5.4 minutes\t Remaining: 60.9 minutes"
       ]
      },
      {
       "output_type": "stream",
       "stream": "stdout",
       "text": [
        " \r",
        "[***               8%                  ]  1820432 of 22195070 complete Elapsed: 5.4 minutes\t Remaining: 60.8 minutes"
       ]
      },
      {
       "output_type": "stream",
       "stream": "stdout",
       "text": [
        " \r",
        "[***               8%                  ]  1830642 of 22195070 complete Elapsed: 5.5 minutes\t Remaining: 60.7 minutes"
       ]
      },
      {
       "output_type": "stream",
       "stream": "stdout",
       "text": [
        " \r",
        "[***               8%                  ]  1840756 of 22195070 complete Elapsed: 5.5 minutes\t Remaining: 60.6 minutes"
       ]
      },
      {
       "output_type": "stream",
       "stream": "stdout",
       "text": [
        " \r",
        "[***               8%                  ]  1850963 of 22195070 complete Elapsed: 5.5 minutes\t Remaining: 60.5 minutes"
       ]
      },
      {
       "output_type": "stream",
       "stream": "stdout",
       "text": [
        " \r",
        "[***               8%                  ]  1861098 of 22195070 complete Elapsed: 5.5 minutes\t Remaining: 60.5 minutes"
       ]
      },
      {
       "output_type": "stream",
       "stream": "stdout",
       "text": [
        " \r",
        "[***               8%                  ]  1871300 of 22195070 complete Elapsed: 5.6 minutes\t Remaining: 60.4 minutes"
       ]
      },
      {
       "output_type": "stream",
       "stream": "stdout",
       "text": [
        " \r",
        "[***               8%                  ]  1881421 of 22195070 complete Elapsed: 5.6 minutes\t Remaining: 60.3 minutes"
       ]
      },
      {
       "output_type": "stream",
       "stream": "stdout",
       "text": [
        " \r",
        "[***               9%                  ]  1891596 of 22195070 complete Elapsed: 5.6 minutes\t Remaining: 60.2 minutes"
       ]
      },
      {
       "output_type": "stream",
       "stream": "stdout",
       "text": [
        " \r",
        "[***               9%                  ]  1901705 of 22195070 complete Elapsed: 5.6 minutes\t Remaining: 60.1 minutes"
       ]
      },
      {
       "output_type": "stream",
       "stream": "stdout",
       "text": [
        " \r",
        "[***               9%                  ]  1911889 of 22195070 complete Elapsed: 5.7 minutes\t Remaining: 60.0 minutes"
       ]
      },
      {
       "output_type": "stream",
       "stream": "stdout",
       "text": [
        " \r",
        "[***               9%                  ]  1922073 of 22195070 complete Elapsed: 5.7 minutes\t Remaining: 59.9 minutes"
       ]
      },
      {
       "output_type": "stream",
       "stream": "stdout",
       "text": [
        " \r",
        "[***               9%                  ]  1932262 of 22195070 complete Elapsed: 5.7 minutes\t Remaining: 59.9 minutes"
       ]
      },
      {
       "output_type": "stream",
       "stream": "stdout",
       "text": [
        " \r",
        "[***               9%                  ]  1942379 of 22195070 complete Elapsed: 5.7 minutes\t Remaining: 59.8 minutes"
       ]
      },
      {
       "output_type": "stream",
       "stream": "stdout",
       "text": [
        " \r",
        "[***               9%                  ]  1952545 of 22195070 complete Elapsed: 5.8 minutes\t Remaining: 59.7 minutes"
       ]
      },
      {
       "output_type": "stream",
       "stream": "stdout",
       "text": [
        " \r",
        "[***               9%                  ]  1962689 of 22195070 complete Elapsed: 5.8 minutes\t Remaining: 59.6 minutes"
       ]
      },
      {
       "output_type": "stream",
       "stream": "stdout",
       "text": [
        " \r",
        "[***               9%                  ]  1972903 of 22195070 complete Elapsed: 5.8 minutes\t Remaining: 59.5 minutes"
       ]
      },
      {
       "output_type": "stream",
       "stream": "stdout",
       "text": [
        " \r",
        "[***               9%                  ]  1983026 of 22195070 complete Elapsed: 5.8 minutes\t Remaining: 59.5 minutes"
       ]
      },
      {
       "output_type": "stream",
       "stream": "stdout",
       "text": [
        " \r",
        "[***               9%                  ]  1993210 of 22195070 complete Elapsed: 5.9 minutes\t Remaining: 59.4 minutes"
       ]
      },
      {
       "output_type": "stream",
       "stream": "stdout",
       "text": [
        " \r",
        "[***               9%                  ]  2003322 of 22195070 complete Elapsed: 5.9 minutes\t Remaining: 59.3 minutes"
       ]
      },
      {
       "output_type": "stream",
       "stream": "stdout",
       "text": [
        " \r",
        "[***               9%                  ]  2013518 of 22195070 complete Elapsed: 5.9 minutes\t Remaining: 59.2 minutes"
       ]
      },
      {
       "output_type": "stream",
       "stream": "stdout",
       "text": [
        " \r",
        "[***               9%                  ]  2023642 of 22195070 complete Elapsed: 5.9 minutes\t Remaining: 59.1 minutes"
       ]
      },
      {
       "output_type": "stream",
       "stream": "stdout",
       "text": [
        " \r",
        "[***               9%                  ]  2033826 of 22195070 complete Elapsed: 6.0 minutes\t Remaining: 59.1 minutes"
       ]
      },
      {
       "output_type": "stream",
       "stream": "stdout",
       "text": [
        " \r",
        "[***               9%                  ]  2043938 of 22195070 complete Elapsed: 6.0 minutes\t Remaining: 59.0 minutes"
       ]
      },
      {
       "output_type": "stream",
       "stream": "stdout",
       "text": [
        " \r",
        "[***               9%                  ]  2054142 of 22195070 complete Elapsed: 6.0 minutes\t Remaining: 58.9 minutes"
       ]
      },
      {
       "output_type": "stream",
       "stream": "stdout",
       "text": [
        " \r",
        "[***               9%                  ]  2064290 of 22195070 complete Elapsed: 6.0 minutes\t Remaining: 58.8 minutes"
       ]
      },
      {
       "output_type": "stream",
       "stream": "stdout",
       "text": [
        " \r",
        "[***               9%                  ]  2074451 of 22195070 complete Elapsed: 6.1 minutes\t Remaining: 58.8 minutes"
       ]
      },
      {
       "output_type": "stream",
       "stream": "stdout",
       "text": [
        " \r",
        "[***               9%                  ]  2084581 of 22195070 complete Elapsed: 6.1 minutes\t Remaining: 58.7 minutes"
       ]
      },
      {
       "output_type": "stream",
       "stream": "stdout",
       "text": [
        " \r",
        "[***               9%                  ]  2094758 of 22195070 complete Elapsed: 6.1 minutes\t Remaining: 58.6 minutes"
       ]
      },
      {
       "output_type": "stream",
       "stream": "stdout",
       "text": [
        " \r",
        "[***               9%                  ]  2104907 of 22195070 complete Elapsed: 6.1 minutes\t Remaining: 58.5 minutes"
       ]
      },
      {
       "output_type": "stream",
       "stream": "stdout",
       "text": [
        " \r",
        "[****             10%                  ]  2115111 of 22195070 complete Elapsed: 6.2 minutes\t Remaining: 58.5 minutes"
       ]
      },
      {
       "output_type": "stream",
       "stream": "stdout",
       "text": [
        " \r",
        "[****             10%                  ]  2125264 of 22195070 complete Elapsed: 6.2 minutes\t Remaining: 58.4 minutes"
       ]
      },
      {
       "output_type": "stream",
       "stream": "stdout",
       "text": [
        " \r",
        "[****             10%                  ]  2135487 of 22195070 complete Elapsed: 6.2 minutes\t Remaining: 58.3 minutes"
       ]
      },
      {
       "output_type": "stream",
       "stream": "stdout",
       "text": [
        " \r",
        "[****             10%                  ]  2145593 of 22195070 complete Elapsed: 6.2 minutes\t Remaining: 58.2 minutes"
       ]
      },
      {
       "output_type": "stream",
       "stream": "stdout",
       "text": [
        " \r",
        "[****             10%                  ]  2155763 of 22195070 complete Elapsed: 6.3 minutes\t Remaining: 58.2 minutes"
       ]
      },
      {
       "output_type": "stream",
       "stream": "stdout",
       "text": [
        " \r",
        "[****             10%                  ]  2165883 of 22195070 complete Elapsed: 6.3 minutes\t Remaining: 58.1 minutes"
       ]
      },
      {
       "output_type": "stream",
       "stream": "stdout",
       "text": [
        " \r",
        "[****             10%                  ]  2176052 of 22195070 complete Elapsed: 6.3 minutes\t Remaining: 58.0 minutes"
       ]
      },
      {
       "output_type": "stream",
       "stream": "stdout",
       "text": [
        " \r",
        "[****             10%                  ]  2186180 of 22195070 complete Elapsed: 6.3 minutes\t Remaining: 58.0 minutes"
       ]
      },
      {
       "output_type": "stream",
       "stream": "stdout",
       "text": [
        " \r",
        "[****             10%                  ]  2196374 of 22195070 complete Elapsed: 6.4 minutes\t Remaining: 57.9 minutes"
       ]
      },
      {
       "output_type": "stream",
       "stream": "stdout",
       "text": [
        " \r",
        "[****             10%                  ]  2206503 of 22195070 complete Elapsed: 6.4 minutes\t Remaining: 57.8 minutes"
       ]
      },
      {
       "output_type": "stream",
       "stream": "stdout",
       "text": [
        " \r",
        "[****             10%                  ]  2216700 of 22195070 complete Elapsed: 6.4 minutes\t Remaining: 57.8 minutes"
       ]
      },
      {
       "output_type": "stream",
       "stream": "stdout",
       "text": [
        " \r",
        "[****             10%                  ]  2226841 of 22195070 complete Elapsed: 6.4 minutes\t Remaining: 57.7 minutes"
       ]
      },
      {
       "output_type": "stream",
       "stream": "stdout",
       "text": [
        " \r",
        "[****             10%                  ]  2237040 of 22195070 complete Elapsed: 6.5 minutes\t Remaining: 57.6 minutes"
       ]
      },
      {
       "output_type": "stream",
       "stream": "stdout",
       "text": [
        " \r",
        "[****             10%                  ]  2247190 of 22195070 complete Elapsed: 6.5 minutes\t Remaining: 57.5 minutes"
       ]
      },
      {
       "output_type": "stream",
       "stream": "stdout",
       "text": [
        " \r",
        "[****             10%                  ]  2257387 of 22195070 complete Elapsed: 6.5 minutes\t Remaining: 57.5 minutes"
       ]
      },
      {
       "output_type": "stream",
       "stream": "stdout",
       "text": [
        " \r",
        "[****             10%                  ]  2267540 of 22195070 complete Elapsed: 6.5 minutes\t Remaining: 57.4 minutes"
       ]
      },
      {
       "output_type": "stream",
       "stream": "stdout",
       "text": [
        " \r",
        "[****             10%                  ]  2277734 of 22195070 complete Elapsed: 6.6 minutes\t Remaining: 57.3 minutes"
       ]
      },
      {
       "output_type": "stream",
       "stream": "stdout",
       "text": [
        " \r",
        "[****             10%                  ]  2287899 of 22195070 complete Elapsed: 6.6 minutes\t Remaining: 57.3 minutes"
       ]
      },
      {
       "output_type": "stream",
       "stream": "stdout",
       "text": [
        " \r",
        "[****             10%                  ]  2298116 of 22195070 complete Elapsed: 6.6 minutes\t Remaining: 57.2 minutes"
       ]
      },
      {
       "output_type": "stream",
       "stream": "stdout",
       "text": [
        " \r",
        "[****             10%                  ]  2308263 of 22195070 complete Elapsed: 6.6 minutes\t Remaining: 57.1 minutes"
       ]
      },
      {
       "output_type": "stream",
       "stream": "stdout",
       "text": [
        " \r",
        "[****             10%                  ]  2318447 of 22195070 complete Elapsed: 6.7 minutes\t Remaining: 57.1 minutes"
       ]
      },
      {
       "output_type": "stream",
       "stream": "stdout",
       "text": [
        " \r",
        "[****             10%                  ]  2328576 of 22195070 complete Elapsed: 6.7 minutes\t Remaining: 57.0 minutes"
       ]
      },
      {
       "output_type": "stream",
       "stream": "stdout",
       "text": [
        " \r",
        "[****             11%                  ]  2338774 of 22195070 complete Elapsed: 6.7 minutes\t Remaining: 57.0 minutes"
       ]
      },
      {
       "output_type": "stream",
       "stream": "stdout",
       "text": [
        " \r",
        "[****             11%                  ]  2348825 of 22195070 complete Elapsed: 6.7 minutes\t Remaining: 56.9 minutes"
       ]
      },
      {
       "output_type": "stream",
       "stream": "stdout",
       "text": [
        " \r",
        "[****             11%                  ]  2358979 of 22195070 complete Elapsed: 6.8 minutes\t Remaining: 56.8 minutes"
       ]
      },
      {
       "output_type": "stream",
       "stream": "stdout",
       "text": [
        " \r",
        "[****             11%                  ]  2369364 of 22195070 complete Elapsed: 6.8 minutes\t Remaining: 56.8 minutes"
       ]
      },
      {
       "output_type": "stream",
       "stream": "stdout",
       "text": [
        " \r",
        "[****             11%                  ]  2379650 of 22195070 complete Elapsed: 6.8 minutes\t Remaining: 56.7 minutes"
       ]
      },
      {
       "output_type": "stream",
       "stream": "stdout",
       "text": [
        " \r",
        "[****             11%                  ]  2389767 of 22195070 complete Elapsed: 6.8 minutes\t Remaining: 56.6 minutes"
       ]
      },
      {
       "output_type": "stream",
       "stream": "stdout",
       "text": [
        " \r",
        "[****             11%                  ]  2399935 of 22195070 complete Elapsed: 6.9 minutes\t Remaining: 56.6 minutes"
       ]
      },
      {
       "output_type": "stream",
       "stream": "stdout",
       "text": [
        " \r",
        "[****             11%                  ]  2410064 of 22195070 complete Elapsed: 6.9 minutes\t Remaining: 56.5 minutes"
       ]
      },
      {
       "output_type": "stream",
       "stream": "stdout",
       "text": [
        " \r",
        "[****             11%                  ]  2420221 of 22195070 complete Elapsed: 6.9 minutes\t Remaining: 56.4 minutes"
       ]
      },
      {
       "output_type": "stream",
       "stream": "stdout",
       "text": [
        " \r",
        "[****             11%                  ]  2430354 of 22195070 complete Elapsed: 6.9 minutes\t Remaining: 56.4 minutes"
       ]
      },
      {
       "output_type": "stream",
       "stream": "stdout",
       "text": [
        " \r",
        "[****             11%                  ]  2440561 of 22195070 complete Elapsed: 7.0 minutes\t Remaining: 56.3 minutes"
       ]
      },
      {
       "output_type": "stream",
       "stream": "stdout",
       "text": [
        " \r",
        "[****             11%                  ]  2450700 of 22195070 complete Elapsed: 7.0 minutes\t Remaining: 56.3 minutes"
       ]
      },
      {
       "output_type": "stream",
       "stream": "stdout",
       "text": [
        " \r",
        "[****             11%                  ]  2460924 of 22195070 complete Elapsed: 7.0 minutes\t Remaining: 56.2 minutes"
       ]
      },
      {
       "output_type": "stream",
       "stream": "stdout",
       "text": [
        " \r",
        "[****             11%                  ]  2471090 of 22195070 complete Elapsed: 7.0 minutes\t Remaining: 56.1 minutes"
       ]
      },
      {
       "output_type": "stream",
       "stream": "stdout",
       "text": [
        " \r",
        "[****             11%                  ]  2481268 of 22195070 complete Elapsed: 7.1 minutes\t Remaining: 56.1 minutes"
       ]
      },
      {
       "output_type": "stream",
       "stream": "stdout",
       "text": [
        " \r",
        "[****             11%                  ]  2491395 of 22195070 complete Elapsed: 7.1 minutes\t Remaining: 56.0 minutes"
       ]
      },
      {
       "output_type": "stream",
       "stream": "stdout",
       "text": [
        " \r",
        "[****             11%                  ]  2501574 of 22195070 complete Elapsed: 7.1 minutes\t Remaining: 56.0 minutes"
       ]
      },
      {
       "output_type": "stream",
       "stream": "stdout",
       "text": [
        " \r",
        "[****             11%                  ]  2511728 of 22195070 complete Elapsed: 7.1 minutes\t Remaining: 55.9 minutes"
       ]
      },
      {
       "output_type": "stream",
       "stream": "stdout",
       "text": [
        " \r",
        "[****             11%                  ]  2521928 of 22195070 complete Elapsed: 7.2 minutes\t Remaining: 55.8 minutes"
       ]
      },
      {
       "output_type": "stream",
       "stream": "stdout",
       "text": [
        " \r",
        "[****             11%                  ]  2532100 of 22195070 complete Elapsed: 7.2 minutes\t Remaining: 55.8 minutes"
       ]
      },
      {
       "output_type": "stream",
       "stream": "stdout",
       "text": [
        " \r",
        "[****             11%                  ]  2542578 of 22195070 complete Elapsed: 7.2 minutes\t Remaining: 55.7 minutes"
       ]
      },
      {
       "output_type": "stream",
       "stream": "stdout",
       "text": [
        " \r",
        "[*****            12%                  ]  2553144 of 22195070 complete Elapsed: 7.2 minutes\t Remaining: 55.6 minutes"
       ]
      },
      {
       "output_type": "stream",
       "stream": "stdout",
       "text": [
        " \r",
        "[*****            12%                  ]  2563779 of 22195070 complete Elapsed: 7.3 minutes\t Remaining: 55.6 minutes"
       ]
      },
      {
       "output_type": "stream",
       "stream": "stdout",
       "text": [
        " \r",
        "[*****            12%                  ]  2574361 of 22195070 complete Elapsed: 7.3 minutes\t Remaining: 55.5 minutes"
       ]
      },
      {
       "output_type": "stream",
       "stream": "stdout",
       "text": [
        " \r",
        "[*****            12%                  ]  2585040 of 22195070 complete Elapsed: 7.3 minutes\t Remaining: 55.4 minutes"
       ]
      },
      {
       "output_type": "stream",
       "stream": "stdout",
       "text": [
        " \r",
        "[*****            12%                  ]  2595662 of 22195070 complete Elapsed: 7.3 minutes\t Remaining: 55.4 minutes"
       ]
      },
      {
       "output_type": "stream",
       "stream": "stdout",
       "text": [
        " \r",
        "[*****            12%                  ]  2606272 of 22195070 complete Elapsed: 7.4 minutes\t Remaining: 55.3 minutes"
       ]
      },
      {
       "output_type": "stream",
       "stream": "stdout",
       "text": [
        " \r",
        "[*****            12%                  ]  2616834 of 22195070 complete Elapsed: 7.4 minutes\t Remaining: 55.2 minutes"
       ]
      },
      {
       "output_type": "stream",
       "stream": "stdout",
       "text": [
        " \r",
        "[*****            12%                  ]  2627515 of 22195070 complete Elapsed: 7.4 minutes\t Remaining: 55.2 minutes"
       ]
      },
      {
       "output_type": "stream",
       "stream": "stdout",
       "text": [
        " \r",
        "[*****            12%                  ]  2638127 of 22195070 complete Elapsed: 7.4 minutes\t Remaining: 55.1 minutes"
       ]
      },
      {
       "output_type": "stream",
       "stream": "stdout",
       "text": [
        " \r",
        "[*****            12%                  ]  2648747 of 22195070 complete Elapsed: 7.5 minutes\t Remaining: 55.0 minutes"
       ]
      },
      {
       "output_type": "stream",
       "stream": "stdout",
       "text": [
        " \r",
        "[*****            12%                  ]  2659328 of 22195070 complete Elapsed: 7.5 minutes\t Remaining: 55.0 minutes"
       ]
      },
      {
       "output_type": "stream",
       "stream": "stdout",
       "text": [
        " \r",
        "[*****            12%                  ]  2669962 of 22195070 complete Elapsed: 7.5 minutes\t Remaining: 54.9 minutes"
       ]
      },
      {
       "output_type": "stream",
       "stream": "stdout",
       "text": [
        " \r",
        "[*****            12%                  ]  2680534 of 22195070 complete Elapsed: 7.5 minutes\t Remaining: 54.8 minutes"
       ]
      },
      {
       "output_type": "stream",
       "stream": "stdout",
       "text": [
        " \r",
        "[*****            12%                  ]  2691210 of 22195070 complete Elapsed: 7.6 minutes\t Remaining: 54.8 minutes"
       ]
      },
      {
       "output_type": "stream",
       "stream": "stdout",
       "text": [
        " \r",
        "[*****            12%                  ]  2701824 of 22195070 complete Elapsed: 7.6 minutes\t Remaining: 54.7 minutes"
       ]
      },
      {
       "output_type": "stream",
       "stream": "stdout",
       "text": [
        " \r",
        "[*****            12%                  ]  2712482 of 22195070 complete Elapsed: 7.6 minutes\t Remaining: 54.6 minutes"
       ]
      },
      {
       "output_type": "stream",
       "stream": "stdout",
       "text": [
        " \r",
        "[*****            12%                  ]  2723071 of 22195070 complete Elapsed: 7.6 minutes\t Remaining: 54.6 minutes"
       ]
      },
      {
       "output_type": "stream",
       "stream": "stdout",
       "text": [
        " \r",
        "[*****            12%                  ]  2733707 of 22195070 complete Elapsed: 7.7 minutes\t Remaining: 54.5 minutes"
       ]
      },
      {
       "output_type": "stream",
       "stream": "stdout",
       "text": [
        " \r",
        "[*****            12%                  ]  2744322 of 22195070 complete Elapsed: 7.7 minutes\t Remaining: 54.5 minutes"
       ]
      },
      {
       "output_type": "stream",
       "stream": "stdout",
       "text": [
        " \r",
        "[*****            12%                  ]  2754948 of 22195070 complete Elapsed: 7.7 minutes\t Remaining: 54.4 minutes"
       ]
      },
      {
       "output_type": "stream",
       "stream": "stdout",
       "text": [
        " \r",
        "[*****            12%                  ]  2765560 of 22195070 complete Elapsed: 7.7 minutes\t Remaining: 54.3 minutes"
       ]
      },
      {
       "output_type": "stream",
       "stream": "stdout",
       "text": [
        " \r",
        "[*****            13%                  ]  2776233 of 22195070 complete Elapsed: 7.8 minutes\t Remaining: 54.3 minutes"
       ]
      },
      {
       "output_type": "stream",
       "stream": "stdout",
       "text": [
        " \r",
        "[*****            13%                  ]  2786760 of 22195070 complete Elapsed: 7.8 minutes\t Remaining: 54.2 minutes"
       ]
      },
      {
       "output_type": "stream",
       "stream": "stdout",
       "text": [
        " \r",
        "[*****            13%                  ]  2797433 of 22195070 complete Elapsed: 7.8 minutes\t Remaining: 54.1 minutes"
       ]
      },
      {
       "output_type": "stream",
       "stream": "stdout",
       "text": [
        " \r",
        "[*****            13%                  ]  2808024 of 22195070 complete Elapsed: 7.8 minutes\t Remaining: 54.1 minutes"
       ]
      },
      {
       "output_type": "stream",
       "stream": "stdout",
       "text": [
        " \r",
        "[*****            13%                  ]  2818664 of 22195070 complete Elapsed: 7.9 minutes\t Remaining: 54.0 minutes"
       ]
      },
      {
       "output_type": "stream",
       "stream": "stdout",
       "text": [
        " \r",
        "[*****            13%                  ]  2829232 of 22195070 complete Elapsed: 7.9 minutes\t Remaining: 54.0 minutes"
       ]
      },
      {
       "output_type": "stream",
       "stream": "stdout",
       "text": [
        " \r",
        "[*****            13%                  ]  2839820 of 22195070 complete Elapsed: 7.9 minutes\t Remaining: 53.9 minutes"
       ]
      },
      {
       "output_type": "stream",
       "stream": "stdout",
       "text": [
        " \r",
        "[*****            13%                  ]  2850382 of 22195070 complete Elapsed: 7.9 minutes\t Remaining: 53.8 minutes"
       ]
      },
      {
       "output_type": "stream",
       "stream": "stdout",
       "text": [
        " \r",
        "[*****            13%                  ]  2861036 of 22195070 complete Elapsed: 8.0 minutes\t Remaining: 53.8 minutes"
       ]
      },
      {
       "output_type": "stream",
       "stream": "stdout",
       "text": [
        " \r",
        "[*****            13%                  ]  2871576 of 22195070 complete Elapsed: 8.0 minutes\t Remaining: 53.7 minutes"
       ]
      },
      {
       "output_type": "stream",
       "stream": "stdout",
       "text": [
        " \r",
        "[*****            13%                  ]  2882231 of 22195070 complete Elapsed: 8.0 minutes\t Remaining: 53.7 minutes"
       ]
      },
      {
       "output_type": "stream",
       "stream": "stdout",
       "text": [
        " \r",
        "[*****            13%                  ]  2892795 of 22195070 complete Elapsed: 8.0 minutes\t Remaining: 53.6 minutes"
       ]
      },
      {
       "output_type": "stream",
       "stream": "stdout",
       "text": [
        " \r",
        "[*****            13%                  ]  2903429 of 22195070 complete Elapsed: 8.1 minutes\t Remaining: 53.5 minutes"
       ]
      },
      {
       "output_type": "stream",
       "stream": "stdout",
       "text": [
        " \r",
        "[*****            13%                  ]  2914005 of 22195070 complete Elapsed: 8.1 minutes\t Remaining: 53.5 minutes"
       ]
      },
      {
       "output_type": "stream",
       "stream": "stdout",
       "text": [
        " \r",
        "[*****            13%                  ]  2924618 of 22195070 complete Elapsed: 8.1 minutes\t Remaining: 53.4 minutes"
       ]
      },
      {
       "output_type": "stream",
       "stream": "stdout",
       "text": [
        " \r",
        "[*****            13%                  ]  2935179 of 22195070 complete Elapsed: 8.1 minutes\t Remaining: 53.4 minutes"
       ]
      },
      {
       "output_type": "stream",
       "stream": "stdout",
       "text": [
        " \r",
        "[*****            13%                  ]  2945845 of 22195070 complete Elapsed: 8.2 minutes\t Remaining: 53.3 minutes"
       ]
      },
      {
       "output_type": "stream",
       "stream": "stdout",
       "text": [
        " \r",
        "[*****            13%                  ]  2956418 of 22195070 complete Elapsed: 8.2 minutes\t Remaining: 53.3 minutes"
       ]
      },
      {
       "output_type": "stream",
       "stream": "stdout",
       "text": [
        " \r",
        "[*****            13%                  ]  2967055 of 22195070 complete Elapsed: 8.2 minutes\t Remaining: 53.2 minutes"
       ]
      },
      {
       "output_type": "stream",
       "stream": "stdout",
       "text": [
        " \r",
        "[*****            13%                  ]  2977653 of 22195070 complete Elapsed: 8.2 minutes\t Remaining: 53.1 minutes"
       ]
      },
      {
       "output_type": "stream",
       "stream": "stdout",
       "text": [
        " \r",
        "[*****            13%                  ]  2988316 of 22195070 complete Elapsed: 8.3 minutes\t Remaining: 53.1 minutes"
       ]
      },
      {
       "output_type": "stream",
       "stream": "stdout",
       "text": [
        " \r",
        "[*****            14%                  ]  2998918 of 22195070 complete Elapsed: 8.3 minutes\t Remaining: 53.0 minutes"
       ]
      },
      {
       "output_type": "stream",
       "stream": "stdout",
       "text": [
        " \r",
        "[*****            14%                  ]  3009536 of 22195070 complete Elapsed: 8.3 minutes\t Remaining: 53.0 minutes"
       ]
      },
      {
       "output_type": "stream",
       "stream": "stdout",
       "text": [
        " \r",
        "[*****            14%                  ]  3020156 of 22195070 complete Elapsed: 8.3 minutes\t Remaining: 52.9 minutes"
       ]
      },
      {
       "output_type": "stream",
       "stream": "stdout",
       "text": [
        " \r",
        "[*****            14%                  ]  3030836 of 22195070 complete Elapsed: 8.4 minutes\t Remaining: 52.9 minutes"
       ]
      },
      {
       "output_type": "stream",
       "stream": "stdout",
       "text": [
        " \r",
        "[*****            14%                  ]  3041407 of 22195070 complete Elapsed: 8.4 minutes\t Remaining: 52.8 minutes"
       ]
      },
      {
       "output_type": "stream",
       "stream": "stdout",
       "text": [
        " \r",
        "[*****            14%                  ]  3052027 of 22195070 complete Elapsed: 8.4 minutes\t Remaining: 52.7 minutes"
       ]
      },
      {
       "output_type": "stream",
       "stream": "stdout",
       "text": [
        " \r",
        "[*****            14%                  ]  3062652 of 22195070 complete Elapsed: 8.4 minutes\t Remaining: 52.7 minutes"
       ]
      },
      {
       "output_type": "stream",
       "stream": "stdout",
       "text": [
        " \r",
        "[*****            14%                  ]  3073332 of 22195070 complete Elapsed: 8.5 minutes\t Remaining: 52.6 minutes"
       ]
      },
      {
       "output_type": "stream",
       "stream": "stdout",
       "text": [
        " \r",
        "[*****            14%                  ]  3083906 of 22195070 complete Elapsed: 8.5 minutes\t Remaining: 52.6 minutes"
       ]
      },
      {
       "output_type": "stream",
       "stream": "stdout",
       "text": [
        " \r",
        "[*****            14%                  ]  3094535 of 22195070 complete Elapsed: 8.5 minutes\t Remaining: 52.5 minutes"
       ]
      },
      {
       "output_type": "stream",
       "stream": "stdout",
       "text": [
        " \r",
        "[*****            14%                  ]  3105068 of 22195070 complete Elapsed: 8.5 minutes\t Remaining: 52.5 minutes"
       ]
      },
      {
       "output_type": "stream",
       "stream": "stdout",
       "text": [
        " \r",
        "[*****            14%                  ]  3115673 of 22195070 complete Elapsed: 8.6 minutes\t Remaining: 52.4 minutes"
       ]
      },
      {
       "output_type": "stream",
       "stream": "stdout",
       "text": [
        " \r",
        "[*****            14%                  ]  3126287 of 22195070 complete Elapsed: 8.6 minutes\t Remaining: 52.4 minutes"
       ]
      },
      {
       "output_type": "stream",
       "stream": "stdout",
       "text": [
        " \r",
        "[*****            14%                  ]  3136942 of 22195070 complete Elapsed: 8.6 minutes\t Remaining: 52.3 minutes"
       ]
      },
      {
       "output_type": "stream",
       "stream": "stdout",
       "text": [
        " \r",
        "[*****            14%                  ]  3147498 of 22195070 complete Elapsed: 8.6 minutes\t Remaining: 52.2 minutes"
       ]
      },
      {
       "output_type": "stream",
       "stream": "stdout",
       "text": [
        " \r",
        "[*****            14%                  ]  3158114 of 22195070 complete Elapsed: 8.7 minutes\t Remaining: 52.2 minutes"
       ]
      },
      {
       "output_type": "stream",
       "stream": "stdout",
       "text": [
        " \r",
        "[*****            14%                  ]  3168721 of 22195070 complete Elapsed: 8.7 minutes\t Remaining: 52.1 minutes"
       ]
      },
      {
       "output_type": "stream",
       "stream": "stdout",
       "text": [
        " \r",
        "[*****            14%                  ]  3179399 of 22195070 complete Elapsed: 8.7 minutes\t Remaining: 52.1 minutes"
       ]
      },
      {
       "output_type": "stream",
       "stream": "stdout",
       "text": [
        " \r",
        "[*****            14%                  ]  3189996 of 22195070 complete Elapsed: 8.7 minutes\t Remaining: 52.0 minutes"
       ]
      },
      {
       "output_type": "stream",
       "stream": "stdout",
       "text": [
        " \r",
        "[*****            14%                  ]  3200617 of 22195070 complete Elapsed: 8.8 minutes\t Remaining: 52.0 minutes"
       ]
      },
      {
       "output_type": "stream",
       "stream": "stdout",
       "text": [
        " \r",
        "[*****            14%                  ]  3211215 of 22195070 complete Elapsed: 8.8 minutes\t Remaining: 51.9 minutes"
       ]
      },
      {
       "output_type": "stream",
       "stream": "stdout",
       "text": [
        " \r",
        "[******           15%                  ]  3221772 of 22195070 complete Elapsed: 8.8 minutes\t Remaining: 51.9 minutes"
       ]
      },
      {
       "output_type": "stream",
       "stream": "stdout",
       "text": [
        " \r",
        "[******           15%                  ]  3232335 of 22195070 complete Elapsed: 8.8 minutes\t Remaining: 51.8 minutes"
       ]
      },
      {
       "output_type": "stream",
       "stream": "stdout",
       "text": [
        " \r",
        "[******           15%                  ]  3242969 of 22195070 complete Elapsed: 8.9 minutes\t Remaining: 51.8 minutes"
       ]
      },
      {
       "output_type": "stream",
       "stream": "stdout",
       "text": [
        " \r",
        "[******           15%                  ]  3253516 of 22195070 complete Elapsed: 8.9 minutes\t Remaining: 51.7 minutes"
       ]
      },
      {
       "output_type": "stream",
       "stream": "stdout",
       "text": [
        " \r",
        "[******           15%                  ]  3264145 of 22195070 complete Elapsed: 8.9 minutes\t Remaining: 51.7 minutes"
       ]
      },
      {
       "output_type": "stream",
       "stream": "stdout",
       "text": [
        " \r",
        "[******           15%                  ]  3274728 of 22195070 complete Elapsed: 8.9 minutes\t Remaining: 51.6 minutes"
       ]
      },
      {
       "output_type": "stream",
       "stream": "stdout",
       "text": [
        " \r",
        "[******           15%                  ]  3285341 of 22195070 complete Elapsed: 9.0 minutes\t Remaining: 51.6 minutes"
       ]
      },
      {
       "output_type": "stream",
       "stream": "stdout",
       "text": [
        " \r",
        "[******           15%                  ]  3295923 of 22195070 complete Elapsed: 9.0 minutes\t Remaining: 51.5 minutes"
       ]
      },
      {
       "output_type": "stream",
       "stream": "stdout",
       "text": [
        " \r",
        "[******           15%                  ]  3306508 of 22195070 complete Elapsed: 9.0 minutes\t Remaining: 51.5 minutes"
       ]
      },
      {
       "output_type": "stream",
       "stream": "stdout",
       "text": [
        " \r",
        "[******           15%                  ]  3317118 of 22195070 complete Elapsed: 9.0 minutes\t Remaining: 51.4 minutes"
       ]
      },
      {
       "output_type": "stream",
       "stream": "stdout",
       "text": [
        " \r",
        "[******           15%                  ]  3327710 of 22195070 complete Elapsed: 9.1 minutes\t Remaining: 51.4 minutes"
       ]
      },
      {
       "output_type": "stream",
       "stream": "stdout",
       "text": [
        " \r",
        "[******           15%                  ]  3338289 of 22195070 complete Elapsed: 9.1 minutes\t Remaining: 51.3 minutes"
       ]
      },
      {
       "output_type": "stream",
       "stream": "stdout",
       "text": [
        " \r",
        "[******           15%                  ]  3348915 of 22195070 complete Elapsed: 9.1 minutes\t Remaining: 51.3 minutes"
       ]
      },
      {
       "output_type": "stream",
       "stream": "stdout",
       "text": [
        " \r",
        "[******           15%                  ]  3359498 of 22195070 complete Elapsed: 9.1 minutes\t Remaining: 51.2 minutes"
       ]
      },
      {
       "output_type": "stream",
       "stream": "stdout",
       "text": [
        " \r",
        "[******           15%                  ]  3370131 of 22195070 complete Elapsed: 9.2 minutes\t Remaining: 51.2 minutes"
       ]
      },
      {
       "output_type": "stream",
       "stream": "stdout",
       "text": [
        " \r",
        "[******           15%                  ]  3380708 of 22195070 complete Elapsed: 9.2 minutes\t Remaining: 51.1 minutes"
       ]
      },
      {
       "output_type": "stream",
       "stream": "stdout",
       "text": [
        " \r",
        "[******           15%                  ]  3391348 of 22195070 complete Elapsed: 9.2 minutes\t Remaining: 51.1 minutes"
       ]
      },
      {
       "output_type": "stream",
       "stream": "stdout",
       "text": [
        " \r",
        "[******           15%                  ]  3401888 of 22195070 complete Elapsed: 9.2 minutes\t Remaining: 51.0 minutes"
       ]
      },
      {
       "output_type": "stream",
       "stream": "stdout",
       "text": [
        " \r",
        "[******           15%                  ]  3412552 of 22195070 complete Elapsed: 9.3 minutes\t Remaining: 51.0 minutes"
       ]
      },
      {
       "output_type": "stream",
       "stream": "stdout",
       "text": [
        " \r",
        "[******           15%                  ]  3417904 of 22195070 complete Elapsed: 9.7 minutes\t Remaining: 53.1 minutes"
       ]
      },
      {
       "output_type": "stream",
       "stream": "stdout",
       "text": [
        " \r",
        "[******           15%                  ]  3421026 of 22195070 complete Elapsed: 9.7 minutes\t Remaining: 53.2 minutes"
       ]
      },
      {
       "output_type": "stream",
       "stream": "stdout",
       "text": [
        " \r",
        "[******           15%                  ]  3431594 of 22195070 complete Elapsed: 9.7 minutes\t Remaining: 53.2 minutes"
       ]
      },
      {
       "output_type": "stream",
       "stream": "stdout",
       "text": [
        " \r",
        "[******           16%                  ]  3442253 of 22195070 complete Elapsed: 9.7 minutes\t Remaining: 53.1 minutes"
       ]
      },
      {
       "output_type": "stream",
       "stream": "stdout",
       "text": [
        " \r",
        "[******           16%                  ]  3452862 of 22195070 complete Elapsed: 9.8 minutes\t Remaining: 53.0 minutes"
       ]
      },
      {
       "output_type": "stream",
       "stream": "stdout",
       "text": [
        " \r",
        "[******           16%                  ]  3463508 of 22195070 complete Elapsed: 9.8 minutes\t Remaining: 53.0 minutes"
       ]
      },
      {
       "output_type": "stream",
       "stream": "stdout",
       "text": [
        " \r",
        "[******           16%                  ]  3474101 of 22195070 complete Elapsed: 9.8 minutes\t Remaining: 52.9 minutes"
       ]
      },
      {
       "output_type": "stream",
       "stream": "stdout",
       "text": [
        " \r",
        "[******           16%                  ]  3484766 of 22195070 complete Elapsed: 9.8 minutes\t Remaining: 52.9 minutes"
       ]
      },
      {
       "output_type": "stream",
       "stream": "stdout",
       "text": [
        " \r",
        "[******           16%                  ]  3495355 of 22195070 complete Elapsed: 9.9 minutes\t Remaining: 52.8 minutes"
       ]
      },
      {
       "output_type": "stream",
       "stream": "stdout",
       "text": [
        " \r",
        "[******           16%                  ]  3505978 of 22195070 complete Elapsed: 9.9 minutes\t Remaining: 52.8 minutes"
       ]
      },
      {
       "output_type": "stream",
       "stream": "stdout",
       "text": [
        " \r",
        "[******           16%                  ]  3516502 of 22195070 complete Elapsed: 9.9 minutes\t Remaining: 52.7 minutes"
       ]
      },
      {
       "output_type": "stream",
       "stream": "stdout",
       "text": [
        " \r",
        "[******           16%                  ]  3527090 of 22195070 complete Elapsed: 9.9 minutes\t Remaining: 52.6 minutes"
       ]
      },
      {
       "output_type": "stream",
       "stream": "stdout",
       "text": [
        " \r",
        "[******           16%                  ]  3537639 of 22195070 complete Elapsed: 10.0 minutes\t Remaining: 52.6 minutes"
       ]
      },
      {
       "output_type": "stream",
       "stream": "stdout",
       "text": [
        " \r",
        "[******           16%                  ]  3548206 of 22195070 complete Elapsed: 10.0 minutes\t Remaining: 52.5 minutes"
       ]
      },
      {
       "output_type": "stream",
       "stream": "stdout",
       "text": [
        " \r",
        "[******           16%                  ]  3558768 of 22195070 complete Elapsed: 10.0 minutes\t Remaining: 52.5 minutes"
       ]
      },
      {
       "output_type": "stream",
       "stream": "stdout",
       "text": [
        " \r",
        "[******           16%                  ]  3569413 of 22195070 complete Elapsed: 10.0 minutes\t Remaining: 52.4 minutes"
       ]
      },
      {
       "output_type": "stream",
       "stream": "stdout",
       "text": [
        " \r",
        "[******           16%                  ]  3580011 of 22195070 complete Elapsed: 10.1 minutes\t Remaining: 52.4 minutes"
       ]
      },
      {
       "output_type": "stream",
       "stream": "stdout",
       "text": [
        " \r",
        "[******           16%                  ]  3590634 of 22195070 complete Elapsed: 10.1 minutes\t Remaining: 52.3 minutes"
       ]
      },
      {
       "output_type": "stream",
       "stream": "stdout",
       "text": [
        " \r",
        "[******           16%                  ]  3601248 of 22195070 complete Elapsed: 10.1 minutes\t Remaining: 52.3 minutes"
       ]
      },
      {
       "output_type": "stream",
       "stream": "stdout",
       "text": [
        " \r",
        "[******           16%                  ]  3611845 of 22195070 complete Elapsed: 10.1 minutes\t Remaining: 52.2 minutes"
       ]
      },
      {
       "output_type": "stream",
       "stream": "stdout",
       "text": [
        " \r",
        "[******           16%                  ]  3622377 of 22195070 complete Elapsed: 10.2 minutes\t Remaining: 52.1 minutes"
       ]
      },
      {
       "output_type": "stream",
       "stream": "stdout",
       "text": [
        " \r",
        "[******           16%                  ]  3633017 of 22195070 complete Elapsed: 10.2 minutes\t Remaining: 52.1 minutes"
       ]
      },
      {
       "output_type": "stream",
       "stream": "stdout",
       "text": [
        " \r",
        "[******           16%                  ]  3643566 of 22195070 complete Elapsed: 10.2 minutes\t Remaining: 52.0 minutes"
       ]
      },
      {
       "output_type": "stream",
       "stream": "stdout",
       "text": [
        " \r",
        "[******           16%                  ]  3654194 of 22195070 complete Elapsed: 10.2 minutes\t Remaining: 52.0 minutes"
       ]
      },
      {
       "output_type": "stream",
       "stream": "stdout",
       "text": [
        " \r",
        "[******           17%                  ]  3664790 of 22195070 complete Elapsed: 10.3 minutes\t Remaining: 51.9 minutes"
       ]
      },
      {
       "output_type": "stream",
       "stream": "stdout",
       "text": [
        " \r",
        "[******           17%                  ]  3675432 of 22195070 complete Elapsed: 10.3 minutes\t Remaining: 51.9 minutes"
       ]
      },
      {
       "output_type": "stream",
       "stream": "stdout",
       "text": [
        " \r",
        "[******           17%                  ]  3686017 of 22195070 complete Elapsed: 10.3 minutes\t Remaining: 51.8 minutes"
       ]
      },
      {
       "output_type": "stream",
       "stream": "stdout",
       "text": [
        " \r",
        "[******           17%                  ]  3696628 of 22195070 complete Elapsed: 10.3 minutes\t Remaining: 51.8 minutes"
       ]
      },
      {
       "output_type": "stream",
       "stream": "stdout",
       "text": [
        " \r",
        "[******           17%                  ]  3707208 of 22195070 complete Elapsed: 10.4 minutes\t Remaining: 51.7 minutes"
       ]
      },
      {
       "output_type": "stream",
       "stream": "stdout",
       "text": [
        " \r",
        "[******           17%                  ]  3717854 of 22195070 complete Elapsed: 10.4 minutes\t Remaining: 51.7 minutes"
       ]
      },
      {
       "output_type": "stream",
       "stream": "stdout",
       "text": [
        " \r",
        "[******           17%                  ]  3728446 of 22195070 complete Elapsed: 10.4 minutes\t Remaining: 51.6 minutes"
       ]
      },
      {
       "output_type": "stream",
       "stream": "stdout",
       "text": [
        " \r",
        "[******           17%                  ]  3739054 of 22195070 complete Elapsed: 10.4 minutes\t Remaining: 51.6 minutes"
       ]
      },
      {
       "output_type": "stream",
       "stream": "stdout",
       "text": [
        " \r",
        "[******           17%                  ]  3749598 of 22195070 complete Elapsed: 10.5 minutes\t Remaining: 51.5 minutes"
       ]
      },
      {
       "output_type": "stream",
       "stream": "stdout",
       "text": [
        " \r",
        "[******           17%                  ]  3760242 of 22195070 complete Elapsed: 10.5 minutes\t Remaining: 51.5 minutes"
       ]
      },
      {
       "output_type": "stream",
       "stream": "stdout",
       "text": [
        " \r",
        "[******           17%                  ]  3770807 of 22195070 complete Elapsed: 10.5 minutes\t Remaining: 51.4 minutes"
       ]
      },
      {
       "output_type": "stream",
       "stream": "stdout",
       "text": [
        " \r",
        "[******           17%                  ]  3781439 of 22195070 complete Elapsed: 10.5 minutes\t Remaining: 51.4 minutes"
       ]
      },
      {
       "output_type": "stream",
       "stream": "stdout",
       "text": [
        " \r",
        "[******           17%                  ]  3792004 of 22195070 complete Elapsed: 10.6 minutes\t Remaining: 51.3 minutes"
       ]
      },
      {
       "output_type": "stream",
       "stream": "stdout",
       "text": [
        " \r",
        "[******           17%                  ]  3802633 of 22195070 complete Elapsed: 10.6 minutes\t Remaining: 51.3 minutes"
       ]
      },
      {
       "output_type": "stream",
       "stream": "stdout",
       "text": [
        " \r",
        "[******           17%                  ]  3813227 of 22195070 complete Elapsed: 10.6 minutes\t Remaining: 51.2 minutes"
       ]
      },
      {
       "output_type": "stream",
       "stream": "stdout",
       "text": [
        " \r",
        "[******           17%                  ]  3823871 of 22195070 complete Elapsed: 10.6 minutes\t Remaining: 51.1 minutes"
       ]
      },
      {
       "output_type": "stream",
       "stream": "stdout",
       "text": [
        " \r",
        "[******           17%                  ]  3834435 of 22195070 complete Elapsed: 10.7 minutes\t Remaining: 51.1 minutes"
       ]
      },
      {
       "output_type": "stream",
       "stream": "stdout",
       "text": [
        " \r",
        "[******           17%                  ]  3845063 of 22195070 complete Elapsed: 10.7 minutes\t Remaining: 51.0 minutes"
       ]
      },
      {
       "output_type": "stream",
       "stream": "stdout",
       "text": [
        " \r",
        "[******           17%                  ]  3855664 of 22195070 complete Elapsed: 10.7 minutes\t Remaining: 51.0 minutes"
       ]
      },
      {
       "output_type": "stream",
       "stream": "stdout",
       "text": [
        " \r",
        "[******           17%                  ]  3866317 of 22195070 complete Elapsed: 10.7 minutes\t Remaining: 50.9 minutes"
       ]
      },
      {
       "output_type": "stream",
       "stream": "stdout",
       "text": [
        " \r",
        "[******           17%                  ]  3876888 of 22195070 complete Elapsed: 10.8 minutes\t Remaining: 50.9 minutes"
       ]
      },
      {
       "output_type": "stream",
       "stream": "stdout",
       "text": [
        " \r",
        "[*******          18%                  ]  3887541 of 22195070 complete Elapsed: 10.8 minutes\t Remaining: 50.8 minutes"
       ]
      },
      {
       "output_type": "stream",
       "stream": "stdout",
       "text": [
        " \r",
        "[*******          18%                  ]  3898114 of 22195070 complete Elapsed: 10.8 minutes\t Remaining: 50.8 minutes"
       ]
      },
      {
       "output_type": "stream",
       "stream": "stdout",
       "text": [
        " \r",
        "[*******          18%                  ]  3908737 of 22195070 complete Elapsed: 10.8 minutes\t Remaining: 50.7 minutes"
       ]
      },
      {
       "output_type": "stream",
       "stream": "stdout",
       "text": [
        " \r",
        "[*******          18%                  ]  3919329 of 22195070 complete Elapsed: 10.9 minutes\t Remaining: 50.7 minutes"
       ]
      },
      {
       "output_type": "stream",
       "stream": "stdout",
       "text": [
        " \r",
        "[*******          18%                  ]  3929979 of 22195070 complete Elapsed: 10.9 minutes\t Remaining: 50.6 minutes"
       ]
      },
      {
       "output_type": "stream",
       "stream": "stdout",
       "text": [
        " \r",
        "[*******          18%                  ]  3940577 of 22195070 complete Elapsed: 10.9 minutes\t Remaining: 50.6 minutes"
       ]
      },
      {
       "output_type": "stream",
       "stream": "stdout",
       "text": [
        " \r",
        "[*******          18%                  ]  3951219 of 22195070 complete Elapsed: 10.9 minutes\t Remaining: 50.5 minutes"
       ]
      },
      {
       "output_type": "stream",
       "stream": "stdout",
       "text": [
        " \r",
        "[*******          18%                  ]  3961806 of 22195070 complete Elapsed: 11.0 minutes\t Remaining: 50.5 minutes"
       ]
      },
      {
       "output_type": "stream",
       "stream": "stdout",
       "text": [
        " \r",
        "[*******          18%                  ]  3972462 of 22195070 complete Elapsed: 11.0 minutes\t Remaining: 50.4 minutes"
       ]
      },
      {
       "output_type": "stream",
       "stream": "stdout",
       "text": [
        " \r",
        "[*******          18%                  ]  3983052 of 22195070 complete Elapsed: 11.0 minutes\t Remaining: 50.4 minutes"
       ]
      },
      {
       "output_type": "stream",
       "stream": "stdout",
       "text": [
        " \r",
        "[*******          18%                  ]  3993693 of 22195070 complete Elapsed: 11.0 minutes\t Remaining: 50.3 minutes"
       ]
      },
      {
       "output_type": "stream",
       "stream": "stdout",
       "text": [
        " \r",
        "[*******          18%                  ]  4003959 of 22195070 complete Elapsed: 11.1 minutes\t Remaining: 50.3 minutes"
       ]
      },
      {
       "output_type": "stream",
       "stream": "stdout",
       "text": [
        " \r",
        "[*******          18%                  ]  4014500 of 22195070 complete Elapsed: 11.1 minutes\t Remaining: 50.3 minutes"
       ]
      },
      {
       "output_type": "stream",
       "stream": "stdout",
       "text": [
        " \r",
        "[*******          18%                  ]  4025093 of 22195070 complete Elapsed: 11.1 minutes\t Remaining: 50.2 minutes"
       ]
      },
      {
       "output_type": "stream",
       "stream": "stdout",
       "text": [
        " \r",
        "[*******          18%                  ]  4035760 of 22195070 complete Elapsed: 11.1 minutes\t Remaining: 50.2 minutes"
       ]
      },
      {
       "output_type": "stream",
       "stream": "stdout",
       "text": [
        " \r",
        "[*******          18%                  ]  4046393 of 22195070 complete Elapsed: 11.2 minutes\t Remaining: 50.1 minutes"
       ]
      },
      {
       "output_type": "stream",
       "stream": "stdout",
       "text": [
        " \r",
        "[*******          18%                  ]  4057038 of 22195070 complete Elapsed: 11.2 minutes\t Remaining: 50.1 minutes"
       ]
      },
      {
       "output_type": "stream",
       "stream": "stdout",
       "text": [
        " \r",
        "[*******          18%                  ]  4067642 of 22195070 complete Elapsed: 11.2 minutes\t Remaining: 50.0 minutes"
       ]
      },
      {
       "output_type": "stream",
       "stream": "stdout",
       "text": [
        " \r",
        "[*******          18%                  ]  4078302 of 22195070 complete Elapsed: 11.2 minutes\t Remaining: 50.0 minutes"
       ]
      },
      {
       "output_type": "stream",
       "stream": "stdout",
       "text": [
        " \r",
        "[*******          18%                  ]  4088899 of 22195070 complete Elapsed: 11.3 minutes\t Remaining: 49.9 minutes"
       ]
      },
      {
       "output_type": "stream",
       "stream": "stdout",
       "text": [
        " \r",
        "[*******          18%                  ]  4099541 of 22195070 complete Elapsed: 11.3 minutes\t Remaining: 49.9 minutes"
       ]
      },
      {
       "output_type": "stream",
       "stream": "stdout",
       "text": [
        " \r",
        "[*******          19%                  ]  4110137 of 22195070 complete Elapsed: 11.3 minutes\t Remaining: 49.8 minutes"
       ]
      },
      {
       "output_type": "stream",
       "stream": "stdout",
       "text": [
        " \r",
        "[*******          19%                  ]  4120693 of 22195070 complete Elapsed: 11.3 minutes\t Remaining: 49.8 minutes"
       ]
      },
      {
       "output_type": "stream",
       "stream": "stdout",
       "text": [
        " \r",
        "[*******          19%                  ]  4131370 of 22195070 complete Elapsed: 11.4 minutes\t Remaining: 49.7 minutes"
       ]
      },
      {
       "output_type": "stream",
       "stream": "stdout",
       "text": [
        " \r",
        "[*******          19%                  ]  4142176 of 22195070 complete Elapsed: 11.4 minutes\t Remaining: 49.7 minutes"
       ]
      },
      {
       "output_type": "stream",
       "stream": "stdout",
       "text": [
        " \r",
        "[*******          19%                  ]  4152776 of 22195070 complete Elapsed: 11.4 minutes\t Remaining: 49.6 minutes"
       ]
      },
      {
       "output_type": "stream",
       "stream": "stdout",
       "text": [
        " \r",
        "[*******          19%                  ]  4163453 of 22195070 complete Elapsed: 11.4 minutes\t Remaining: 49.6 minutes"
       ]
      },
      {
       "output_type": "stream",
       "stream": "stdout",
       "text": [
        " \r",
        "[*******          19%                  ]  4174094 of 22195070 complete Elapsed: 11.5 minutes\t Remaining: 49.5 minutes"
       ]
      },
      {
       "output_type": "stream",
       "stream": "stdout",
       "text": [
        " \r",
        "[*******          19%                  ]  4184763 of 22195070 complete Elapsed: 11.5 minutes\t Remaining: 49.5 minutes"
       ]
      },
      {
       "output_type": "stream",
       "stream": "stdout",
       "text": [
        " \r",
        "[*******          19%                  ]  4195365 of 22195070 complete Elapsed: 11.5 minutes\t Remaining: 49.4 minutes"
       ]
      },
      {
       "output_type": "stream",
       "stream": "stdout",
       "text": [
        " \r",
        "[*******          19%                  ]  4205994 of 22195070 complete Elapsed: 11.5 minutes\t Remaining: 49.4 minutes"
       ]
      },
      {
       "output_type": "stream",
       "stream": "stdout",
       "text": [
        " \r",
        "[*******          19%                  ]  4216614 of 22195070 complete Elapsed: 11.6 minutes\t Remaining: 49.3 minutes"
       ]
      },
      {
       "output_type": "stream",
       "stream": "stdout",
       "text": [
        " \r",
        "[*******          19%                  ]  4227298 of 22195070 complete Elapsed: 11.6 minutes\t Remaining: 49.3 minutes"
       ]
      },
      {
       "output_type": "stream",
       "stream": "stdout",
       "text": [
        " \r",
        "[*******          19%                  ]  4237873 of 22195070 complete Elapsed: 11.6 minutes\t Remaining: 49.2 minutes"
       ]
      },
      {
       "output_type": "stream",
       "stream": "stdout",
       "text": [
        " \r",
        "[*******          19%                  ]  4248523 of 22195070 complete Elapsed: 11.6 minutes\t Remaining: 49.2 minutes"
       ]
      },
      {
       "output_type": "stream",
       "stream": "stdout",
       "text": [
        " \r",
        "[*******          19%                  ]  4259130 of 22195070 complete Elapsed: 11.7 minutes\t Remaining: 49.2 minutes"
       ]
      },
      {
       "output_type": "stream",
       "stream": "stdout",
       "text": [
        " \r",
        "[*******          19%                  ]  4269787 of 22195070 complete Elapsed: 11.7 minutes\t Remaining: 49.1 minutes"
       ]
      },
      {
       "output_type": "stream",
       "stream": "stdout",
       "text": [
        " \r",
        "[*******          19%                  ]  4280369 of 22195070 complete Elapsed: 11.7 minutes\t Remaining: 49.1 minutes"
       ]
      },
      {
       "output_type": "stream",
       "stream": "stdout",
       "text": [
        " \r",
        "[*******          19%                  ]  4291010 of 22195070 complete Elapsed: 11.7 minutes\t Remaining: 49.0 minutes"
       ]
      },
      {
       "output_type": "stream",
       "stream": "stdout",
       "text": [
        " \r",
        "[*******          19%                  ]  4301602 of 22195070 complete Elapsed: 11.8 minutes\t Remaining: 49.0 minutes"
       ]
      },
      {
       "output_type": "stream",
       "stream": "stdout",
       "text": [
        " \r",
        "[*******          19%                  ]  4312235 of 22195070 complete Elapsed: 11.8 minutes\t Remaining: 48.9 minutes"
       ]
      },
      {
       "output_type": "stream",
       "stream": "stdout",
       "text": [
        " \r",
        "[*******          19%                  ]  4322838 of 22195070 complete Elapsed: 11.8 minutes\t Remaining: 48.9 minutes"
       ]
      },
      {
       "output_type": "stream",
       "stream": "stdout",
       "text": [
        " \r",
        "[********         20%                  ]  4333496 of 22195070 complete Elapsed: 11.8 minutes\t Remaining: 48.8 minutes"
       ]
      },
      {
       "output_type": "stream",
       "stream": "stdout",
       "text": [
        " \r",
        "[********         20%                  ]  4344077 of 22195070 complete Elapsed: 11.9 minutes\t Remaining: 48.8 minutes"
       ]
      },
      {
       "output_type": "stream",
       "stream": "stdout",
       "text": [
        " \r",
        "[********         20%                  ]  4354714 of 22195070 complete Elapsed: 11.9 minutes\t Remaining: 48.7 minutes"
       ]
      },
      {
       "output_type": "stream",
       "stream": "stdout",
       "text": [
        " \r",
        "[********         20%                  ]  4365316 of 22195070 complete Elapsed: 11.9 minutes\t Remaining: 48.7 minutes"
       ]
      },
      {
       "output_type": "stream",
       "stream": "stdout",
       "text": [
        " \r",
        "[********         20%                  ]  4375924 of 22195070 complete Elapsed: 11.9 minutes\t Remaining: 48.6 minutes"
       ]
      },
      {
       "output_type": "stream",
       "stream": "stdout",
       "text": [
        " \r",
        "[********         20%                  ]  4386499 of 22195070 complete Elapsed: 12.0 minutes\t Remaining: 48.6 minutes"
       ]
      },
      {
       "output_type": "stream",
       "stream": "stdout",
       "text": [
        " \r",
        "[********         20%                  ]  4397160 of 22195070 complete Elapsed: 12.0 minutes\t Remaining: 48.6 minutes"
       ]
      },
      {
       "output_type": "stream",
       "stream": "stdout",
       "text": [
        " \r",
        "[********         20%                  ]  4407739 of 22195070 complete Elapsed: 12.0 minutes\t Remaining: 48.5 minutes"
       ]
      },
      {
       "output_type": "stream",
       "stream": "stdout",
       "text": [
        " \r",
        "[********         20%                  ]  4418396 of 22195070 complete Elapsed: 12.0 minutes\t Remaining: 48.5 minutes"
       ]
      },
      {
       "output_type": "stream",
       "stream": "stdout",
       "text": [
        " \r",
        "[********         20%                  ]  4429007 of 22195070 complete Elapsed: 12.1 minutes\t Remaining: 48.4 minutes"
       ]
      },
      {
       "output_type": "stream",
       "stream": "stdout",
       "text": [
        " \r",
        "[********         20%                  ]  4439671 of 22195070 complete Elapsed: 12.1 minutes\t Remaining: 48.4 minutes"
       ]
      },
      {
       "output_type": "stream",
       "stream": "stdout",
       "text": [
        " \r",
        "[********         20%                  ]  4450230 of 22195070 complete Elapsed: 12.1 minutes\t Remaining: 48.3 minutes"
       ]
      },
      {
       "output_type": "stream",
       "stream": "stdout",
       "text": [
        " \r",
        "[********         20%                  ]  4460878 of 22195070 complete Elapsed: 12.1 minutes\t Remaining: 48.3 minutes"
       ]
      },
      {
       "output_type": "stream",
       "stream": "stdout",
       "text": [
        " \r",
        "[********         20%                  ]  4471446 of 22195070 complete Elapsed: 12.2 minutes\t Remaining: 48.2 minutes"
       ]
      },
      {
       "output_type": "stream",
       "stream": "stdout",
       "text": [
        " \r",
        "[********         20%                  ]  4482082 of 22195070 complete Elapsed: 12.2 minutes\t Remaining: 48.2 minutes"
       ]
      },
      {
       "output_type": "stream",
       "stream": "stdout",
       "text": [
        " \r",
        "[********         20%                  ]  4492688 of 22195070 complete Elapsed: 12.2 minutes\t Remaining: 48.2 minutes"
       ]
      },
      {
       "output_type": "stream",
       "stream": "stdout",
       "text": [
        " \r",
        "[********         20%                  ]  4503342 of 22195070 complete Elapsed: 12.2 minutes\t Remaining: 48.1 minutes"
       ]
      },
      {
       "output_type": "stream",
       "stream": "stdout",
       "text": [
        " \r",
        "[********         20%                  ]  4513965 of 22195070 complete Elapsed: 12.3 minutes\t Remaining: 48.1 minutes"
       ]
      },
      {
       "output_type": "stream",
       "stream": "stdout",
       "text": [
        " \r",
        "[********         20%                  ]  4524602 of 22195070 complete Elapsed: 12.3 minutes\t Remaining: 48.0 minutes"
       ]
      },
      {
       "output_type": "stream",
       "stream": "stdout",
       "text": [
        " \r",
        "[********         20%                  ]  4535237 of 22195070 complete Elapsed: 12.3 minutes\t Remaining: 48.0 minutes"
       ]
      },
      {
       "output_type": "stream",
       "stream": "stdout",
       "text": [
        " \r",
        "[********         20%                  ]  4545894 of 22195070 complete Elapsed: 12.3 minutes\t Remaining: 47.9 minutes"
       ]
      },
      {
       "output_type": "stream",
       "stream": "stdout",
       "text": [
        " \r",
        "[********         21%                  ]  4556460 of 22195070 complete Elapsed: 12.4 minutes\t Remaining: 47.9 minutes"
       ]
      },
      {
       "output_type": "stream",
       "stream": "stdout",
       "text": [
        " \r",
        "[********         21%                  ]  4567120 of 22195070 complete Elapsed: 12.4 minutes\t Remaining: 47.8 minutes"
       ]
      },
      {
       "output_type": "stream",
       "stream": "stdout",
       "text": [
        " \r",
        "[********         21%                  ]  4577748 of 22195070 complete Elapsed: 12.4 minutes\t Remaining: 47.8 minutes"
       ]
      },
      {
       "output_type": "stream",
       "stream": "stdout",
       "text": [
        " \r",
        "[********         21%                  ]  4588340 of 22195070 complete Elapsed: 12.4 minutes\t Remaining: 47.8 minutes"
       ]
      },
      {
       "output_type": "stream",
       "stream": "stdout",
       "text": [
        " \r",
        "[********         21%                  ]  4598912 of 22195070 complete Elapsed: 12.5 minutes\t Remaining: 47.7 minutes"
       ]
      },
      {
       "output_type": "stream",
       "stream": "stdout",
       "text": [
        " \r",
        "[********         21%                  ]  4609570 of 22195070 complete Elapsed: 12.5 minutes\t Remaining: 47.7 minutes"
       ]
      },
      {
       "output_type": "stream",
       "stream": "stdout",
       "text": [
        " \r",
        "[********         21%                  ]  4620188 of 22195070 complete Elapsed: 12.5 minutes\t Remaining: 47.6 minutes"
       ]
      },
      {
       "output_type": "stream",
       "stream": "stdout",
       "text": [
        " \r",
        "[********         21%                  ]  4630831 of 22195070 complete Elapsed: 12.5 minutes\t Remaining: 47.6 minutes"
       ]
      },
      {
       "output_type": "stream",
       "stream": "stdout",
       "text": [
        " \r",
        "[********         21%                  ]  4641435 of 22195070 complete Elapsed: 12.6 minutes\t Remaining: 47.5 minutes"
       ]
      },
      {
       "output_type": "stream",
       "stream": "stdout",
       "text": [
        " \r",
        "[********         21%                  ]  4652097 of 22195070 complete Elapsed: 12.6 minutes\t Remaining: 47.5 minutes"
       ]
      },
      {
       "output_type": "stream",
       "stream": "stdout",
       "text": [
        " \r",
        "[********         21%                  ]  4662711 of 22195070 complete Elapsed: 12.6 minutes\t Remaining: 47.5 minutes"
       ]
      },
      {
       "output_type": "stream",
       "stream": "stdout",
       "text": [
        " \r",
        "[********         21%                  ]  4673371 of 22195070 complete Elapsed: 12.6 minutes\t Remaining: 47.4 minutes"
       ]
      },
      {
       "output_type": "stream",
       "stream": "stdout",
       "text": [
        " \r",
        "[********         21%                  ]  4683981 of 22195070 complete Elapsed: 12.7 minutes\t Remaining: 47.4 minutes"
       ]
      },
      {
       "output_type": "stream",
       "stream": "stdout",
       "text": [
        " \r",
        "[********         21%                  ]  4694597 of 22195070 complete Elapsed: 12.7 minutes\t Remaining: 47.3 minutes"
       ]
      },
      {
       "output_type": "stream",
       "stream": "stdout",
       "text": [
        " \r",
        "[********         21%                  ]  4705176 of 22195070 complete Elapsed: 12.7 minutes\t Remaining: 47.3 minutes"
       ]
      },
      {
       "output_type": "stream",
       "stream": "stdout",
       "text": [
        " \r",
        "[********         21%                  ]  4715822 of 22195070 complete Elapsed: 12.7 minutes\t Remaining: 47.2 minutes"
       ]
      },
      {
       "output_type": "stream",
       "stream": "stdout",
       "text": [
        " \r",
        "[********         21%                  ]  4726458 of 22195070 complete Elapsed: 12.8 minutes\t Remaining: 47.2 minutes"
       ]
      },
      {
       "output_type": "stream",
       "stream": "stdout",
       "text": [
        " \r",
        "[********         21%                  ]  4737124 of 22195070 complete Elapsed: 12.8 minutes\t Remaining: 47.2 minutes"
       ]
      },
      {
       "output_type": "stream",
       "stream": "stdout",
       "text": [
        " \r",
        "[********         21%                  ]  4747707 of 22195070 complete Elapsed: 12.8 minutes\t Remaining: 47.1 minutes"
       ]
      },
      {
       "output_type": "stream",
       "stream": "stdout",
       "text": [
        " \r",
        "[********         21%                  ]  4758401 of 22195070 complete Elapsed: 12.8 minutes\t Remaining: 47.1 minutes"
       ]
      },
      {
       "output_type": "stream",
       "stream": "stdout",
       "text": [
        " \r",
        "[********         21%                  ]  4768961 of 22195070 complete Elapsed: 12.9 minutes\t Remaining: 47.0 minutes"
       ]
      },
      {
       "output_type": "stream",
       "stream": "stdout",
       "text": [
        " \r",
        "[********         22%                  ]  4779637 of 22195070 complete Elapsed: 12.9 minutes\t Remaining: 47.0 minutes"
       ]
      },
      {
       "output_type": "stream",
       "stream": "stdout",
       "text": [
        " \r",
        "[********         22%                  ]  4790213 of 22195070 complete Elapsed: 12.9 minutes\t Remaining: 47.0 minutes"
       ]
      },
      {
       "output_type": "stream",
       "stream": "stdout",
       "text": [
        " \r",
        "[********         22%                  ]  4800820 of 22195070 complete Elapsed: 12.9 minutes\t Remaining: 46.9 minutes"
       ]
      },
      {
       "output_type": "stream",
       "stream": "stdout",
       "text": [
        " \r",
        "[********         22%                  ]  4811395 of 22195070 complete Elapsed: 13.0 minutes\t Remaining: 46.9 minutes"
       ]
      },
      {
       "output_type": "stream",
       "stream": "stdout",
       "text": [
        " \r",
        "[********         22%                  ]  4822037 of 22195070 complete Elapsed: 13.0 minutes\t Remaining: 46.8 minutes"
       ]
      },
      {
       "output_type": "stream",
       "stream": "stdout",
       "text": [
        " \r",
        "[********         22%                  ]  4832630 of 22195070 complete Elapsed: 13.0 minutes\t Remaining: 46.8 minutes"
       ]
      },
      {
       "output_type": "stream",
       "stream": "stdout",
       "text": [
        " \r",
        "[********         22%                  ]  4843302 of 22195070 complete Elapsed: 13.0 minutes\t Remaining: 46.7 minutes"
       ]
      },
      {
       "output_type": "stream",
       "stream": "stdout",
       "text": [
        " \r",
        "[********         22%                  ]  4853886 of 22195070 complete Elapsed: 13.1 minutes\t Remaining: 46.7 minutes"
       ]
      },
      {
       "output_type": "stream",
       "stream": "stdout",
       "text": [
        " \r",
        "[********         22%                  ]  4864520 of 22195070 complete Elapsed: 13.1 minutes\t Remaining: 46.7 minutes"
       ]
      },
      {
       "output_type": "stream",
       "stream": "stdout",
       "text": [
        " \r",
        "[********         22%                  ]  4875112 of 22195070 complete Elapsed: 13.1 minutes\t Remaining: 46.6 minutes"
       ]
      },
      {
       "output_type": "stream",
       "stream": "stdout",
       "text": [
        " \r",
        "[********         22%                  ]  4885748 of 22195070 complete Elapsed: 13.1 minutes\t Remaining: 46.6 minutes"
       ]
      },
      {
       "output_type": "stream",
       "stream": "stdout",
       "text": [
        " \r",
        "[********         22%                  ]  4896270 of 22195070 complete Elapsed: 13.2 minutes\t Remaining: 46.5 minutes"
       ]
      },
      {
       "output_type": "stream",
       "stream": "stdout",
       "text": [
        " \r",
        "[********         22%                  ]  4906884 of 22195070 complete Elapsed: 13.2 minutes\t Remaining: 46.5 minutes"
       ]
      },
      {
       "output_type": "stream",
       "stream": "stdout",
       "text": [
        " \r",
        "[********         22%                  ]  4910677 of 22195070 complete Elapsed: 13.6 minutes\t Remaining: 47.9 minutes"
       ]
      },
      {
       "output_type": "stream",
       "stream": "stdout",
       "text": [
        " \r",
        "[********         22%                  ]  4914907 of 22195070 complete Elapsed: 13.6 minutes\t Remaining: 47.9 minutes"
       ]
      },
      {
       "output_type": "stream",
       "stream": "stdout",
       "text": [
        " \r",
        "[********         22%                  ]  4925493 of 22195070 complete Elapsed: 13.7 minutes\t Remaining: 47.9 minutes"
       ]
      },
      {
       "output_type": "stream",
       "stream": "stdout",
       "text": [
        " \r",
        "[********         22%                  ]  4936145 of 22195070 complete Elapsed: 13.7 minutes\t Remaining: 47.8 minutes"
       ]
      },
      {
       "output_type": "stream",
       "stream": "stdout",
       "text": [
        " \r",
        "[********         22%                  ]  4946721 of 22195070 complete Elapsed: 13.7 minutes\t Remaining: 47.8 minutes"
       ]
      },
      {
       "output_type": "stream",
       "stream": "stdout",
       "text": [
        " \r",
        "[********         22%                  ]  4957357 of 22195070 complete Elapsed: 13.7 minutes\t Remaining: 47.7 minutes"
       ]
      },
      {
       "output_type": "stream",
       "stream": "stdout",
       "text": [
        " \r",
        "[********         22%                  ]  4967925 of 22195070 complete Elapsed: 13.8 minutes\t Remaining: 47.7 minutes"
       ]
      },
      {
       "output_type": "stream",
       "stream": "stdout",
       "text": [
        " \r",
        "[********         22%                  ]  4978545 of 22195070 complete Elapsed: 13.8 minutes\t Remaining: 47.6 minutes"
       ]
      },
      {
       "output_type": "stream",
       "stream": "stdout",
       "text": [
        " \r",
        "[********         22%                  ]  4989118 of 22195070 complete Elapsed: 13.8 minutes\t Remaining: 47.6 minutes"
       ]
      },
      {
       "output_type": "stream",
       "stream": "stdout",
       "text": [
        " \r",
        "[*********        23%                  ]  4999732 of 22195070 complete Elapsed: 13.8 minutes\t Remaining: 47.6 minutes"
       ]
      },
      {
       "output_type": "stream",
       "stream": "stdout",
       "text": [
        " \r",
        "[*********        23%                  ]  5010350 of 22195070 complete Elapsed: 13.9 minutes\t Remaining: 47.5 minutes"
       ]
      },
      {
       "output_type": "stream",
       "stream": "stdout",
       "text": [
        " \r",
        "[*********        23%                  ]  5020975 of 22195070 complete Elapsed: 13.9 minutes\t Remaining: 47.5 minutes"
       ]
      },
      {
       "output_type": "stream",
       "stream": "stdout",
       "text": [
        " \r",
        "[*********        23%                  ]  5031558 of 22195070 complete Elapsed: 13.9 minutes\t Remaining: 47.4 minutes"
       ]
      },
      {
       "output_type": "stream",
       "stream": "stdout",
       "text": [
        " \r",
        "[*********        23%                  ]  5042156 of 22195070 complete Elapsed: 13.9 minutes\t Remaining: 47.4 minutes"
       ]
      },
      {
       "output_type": "stream",
       "stream": "stdout",
       "text": [
        " \r",
        "[*********        23%                  ]  5052732 of 22195070 complete Elapsed: 14.0 minutes\t Remaining: 47.3 minutes"
       ]
      },
      {
       "output_type": "stream",
       "stream": "stdout",
       "text": [
        " \r",
        "[*********        23%                  ]  5063318 of 22195070 complete Elapsed: 14.0 minutes\t Remaining: 47.3 minutes"
       ]
      },
      {
       "output_type": "stream",
       "stream": "stdout",
       "text": [
        " \r",
        "[*********        23%                  ]  5073878 of 22195070 complete Elapsed: 14.0 minutes\t Remaining: 47.3 minutes"
       ]
      },
      {
       "output_type": "stream",
       "stream": "stdout",
       "text": [
        " \r",
        "[*********        23%                  ]  5084490 of 22195070 complete Elapsed: 14.0 minutes\t Remaining: 47.2 minutes"
       ]
      },
      {
       "output_type": "stream",
       "stream": "stdout",
       "text": [
        " \r",
        "[*********        23%                  ]  5095092 of 22195070 complete Elapsed: 14.1 minutes\t Remaining: 47.2 minutes"
       ]
      },
      {
       "output_type": "stream",
       "stream": "stdout",
       "text": [
        " \r",
        "[*********        23%                  ]  5105672 of 22195070 complete Elapsed: 14.1 minutes\t Remaining: 47.1 minutes"
       ]
      },
      {
       "output_type": "stream",
       "stream": "stdout",
       "text": [
        " \r",
        "[*********        23%                  ]  5116252 of 22195070 complete Elapsed: 14.1 minutes\t Remaining: 47.1 minutes"
       ]
      },
      {
       "output_type": "stream",
       "stream": "stdout",
       "text": [
        " \r",
        "[*********        23%                  ]  5126890 of 22195070 complete Elapsed: 14.1 minutes\t Remaining: 47.0 minutes"
       ]
      },
      {
       "output_type": "stream",
       "stream": "stdout",
       "text": [
        " \r",
        "[*********        23%                  ]  5137395 of 22195070 complete Elapsed: 14.2 minutes\t Remaining: 47.0 minutes"
       ]
      },
      {
       "output_type": "stream",
       "stream": "stdout",
       "text": [
        " \r",
        "[*********        23%                  ]  5148046 of 22195070 complete Elapsed: 14.2 minutes\t Remaining: 47.0 minutes"
       ]
      },
      {
       "output_type": "stream",
       "stream": "stdout",
       "text": [
        " \r",
        "[*********        23%                  ]  5158609 of 22195070 complete Elapsed: 14.2 minutes\t Remaining: 46.9 minutes"
       ]
      },
      {
       "output_type": "stream",
       "stream": "stdout",
       "text": [
        " \r",
        "[*********        23%                  ]  5169260 of 22195070 complete Elapsed: 14.2 minutes\t Remaining: 46.9 minutes"
       ]
      },
      {
       "output_type": "stream",
       "stream": "stdout",
       "text": [
        " \r",
        "[*********        23%                  ]  5179832 of 22195070 complete Elapsed: 14.3 minutes\t Remaining: 46.8 minutes"
       ]
      },
      {
       "output_type": "stream",
       "stream": "stdout",
       "text": [
        " \r",
        "[*********        23%                  ]  5190485 of 22195070 complete Elapsed: 14.3 minutes\t Remaining: 46.8 minutes"
       ]
      },
      {
       "output_type": "stream",
       "stream": "stdout",
       "text": [
        " \r",
        "[*********        23%                  ]  5201050 of 22195070 complete Elapsed: 14.3 minutes\t Remaining: 46.7 minutes"
       ]
      },
      {
       "output_type": "stream",
       "stream": "stdout",
       "text": [
        " \r",
        "[*********        23%                  ]  5211726 of 22195070 complete Elapsed: 14.3 minutes\t Remaining: 46.7 minutes"
       ]
      },
      {
       "output_type": "stream",
       "stream": "stdout",
       "text": [
        " \r",
        "[*********        24%                  ]  5222300 of 22195070 complete Elapsed: 14.4 minutes\t Remaining: 46.7 minutes"
       ]
      },
      {
       "output_type": "stream",
       "stream": "stdout",
       "text": [
        " \r",
        "[*********        24%                  ]  5232926 of 22195070 complete Elapsed: 14.4 minutes\t Remaining: 46.6 minutes"
       ]
      },
      {
       "output_type": "stream",
       "stream": "stdout",
       "text": [
        " \r",
        "[*********        24%                  ]  5243492 of 22195070 complete Elapsed: 14.4 minutes\t Remaining: 46.6 minutes"
       ]
      },
      {
       "output_type": "stream",
       "stream": "stdout",
       "text": [
        " \r",
        "[*********        24%                  ]  5254087 of 22195070 complete Elapsed: 14.4 minutes\t Remaining: 46.5 minutes"
       ]
      },
      {
       "output_type": "stream",
       "stream": "stdout",
       "text": [
        " \r",
        "[*********        24%                  ]  5264644 of 22195070 complete Elapsed: 14.5 minutes\t Remaining: 46.5 minutes"
       ]
      },
      {
       "output_type": "stream",
       "stream": "stdout",
       "text": [
        " \r",
        "[*********        24%                  ]  5275320 of 22195070 complete Elapsed: 14.5 minutes\t Remaining: 46.4 minutes"
       ]
      },
      {
       "output_type": "stream",
       "stream": "stdout",
       "text": [
        " \r",
        "[*********        24%                  ]  5285879 of 22195070 complete Elapsed: 14.5 minutes\t Remaining: 46.4 minutes"
       ]
      },
      {
       "output_type": "stream",
       "stream": "stdout",
       "text": [
        " \r",
        "[*********        24%                  ]  5296525 of 22195070 complete Elapsed: 14.5 minutes\t Remaining: 46.4 minutes"
       ]
      },
      {
       "output_type": "stream",
       "stream": "stdout",
       "text": [
        " \r",
        "[*********        24%                  ]  5307131 of 22195070 complete Elapsed: 14.6 minutes\t Remaining: 46.3 minutes"
       ]
      },
      {
       "output_type": "stream",
       "stream": "stdout",
       "text": [
        " \r",
        "[*********        24%                  ]  5317724 of 22195070 complete Elapsed: 14.6 minutes\t Remaining: 46.3 minutes"
       ]
      },
      {
       "output_type": "stream",
       "stream": "stdout",
       "text": [
        " \r",
        "[*********        24%                  ]  5327951 of 22195070 complete Elapsed: 14.6 minutes\t Remaining: 46.2 minutes"
       ]
      },
      {
       "output_type": "stream",
       "stream": "stdout",
       "text": [
        " \r",
        "[*********        24%                  ]  5338383 of 22195070 complete Elapsed: 14.6 minutes\t Remaining: 46.2 minutes"
       ]
      },
      {
       "output_type": "stream",
       "stream": "stdout",
       "text": [
        " \r",
        "[*********        24%                  ]  5348662 of 22195070 complete Elapsed: 14.7 minutes\t Remaining: 46.2 minutes"
       ]
      },
      {
       "output_type": "stream",
       "stream": "stdout",
       "text": [
        " \r",
        "[*********        24%                  ]  5359377 of 22195070 complete Elapsed: 14.7 minutes\t Remaining: 46.1 minutes"
       ]
      },
      {
       "output_type": "stream",
       "stream": "stdout",
       "text": [
        " \r",
        "[*********        24%                  ]  5369968 of 22195070 complete Elapsed: 14.7 minutes\t Remaining: 46.1 minutes"
       ]
      },
      {
       "output_type": "stream",
       "stream": "stdout",
       "text": [
        " \r",
        "[*********        24%                  ]  5380617 of 22195070 complete Elapsed: 14.7 minutes\t Remaining: 46.0 minutes"
       ]
      },
      {
       "output_type": "stream",
       "stream": "stdout",
       "text": [
        " \r",
        "[*********        24%                  ]  5391184 of 22195070 complete Elapsed: 14.8 minutes\t Remaining: 46.0 minutes"
       ]
      },
      {
       "output_type": "stream",
       "stream": "stdout",
       "text": [
        " \r",
        "[*********        24%                  ]  5401846 of 22195070 complete Elapsed: 14.8 minutes\t Remaining: 45.9 minutes"
       ]
      },
      {
       "output_type": "stream",
       "stream": "stdout",
       "text": [
        " \r",
        "[*********        24%                  ]  5412436 of 22195070 complete Elapsed: 14.8 minutes\t Remaining: 45.9 minutes"
       ]
      },
      {
       "output_type": "stream",
       "stream": "stdout",
       "text": [
        " \r",
        "[*********        24%                  ]  5423076 of 22195070 complete Elapsed: 14.8 minutes\t Remaining: 45.9 minutes"
       ]
      },
      {
       "output_type": "stream",
       "stream": "stdout",
       "text": [
        " \r",
        "[*********        24%                  ]  5433648 of 22195070 complete Elapsed: 14.9 minutes\t Remaining: 45.8 minutes"
       ]
      },
      {
       "output_type": "stream",
       "stream": "stdout",
       "text": [
        " \r",
        "[**********       25%                  ]  5444286 of 22195070 complete Elapsed: 14.9 minutes\t Remaining: 45.8 minutes"
       ]
      },
      {
       "output_type": "stream",
       "stream": "stdout",
       "text": [
        " \r",
        "[**********       25%                  ]  5454905 of 22195070 complete Elapsed: 14.9 minutes\t Remaining: 45.7 minutes"
       ]
      },
      {
       "output_type": "stream",
       "stream": "stdout",
       "text": [
        " \r",
        "[**********       25%                  ]  5465571 of 22195070 complete Elapsed: 14.9 minutes\t Remaining: 45.7 minutes"
       ]
      },
      {
       "output_type": "stream",
       "stream": "stdout",
       "text": [
        " \r",
        "[**********       25%                  ]  5476173 of 22195070 complete Elapsed: 15.0 minutes\t Remaining: 45.7 minutes"
       ]
      },
      {
       "output_type": "stream",
       "stream": "stdout",
       "text": [
        " \r",
        "[**********       25%                  ]  5486811 of 22195070 complete Elapsed: 15.0 minutes\t Remaining: 45.6 minutes"
       ]
      },
      {
       "output_type": "stream",
       "stream": "stdout",
       "text": [
        " \r",
        "[**********       25%                  ]  5497394 of 22195070 complete Elapsed: 15.0 minutes\t Remaining: 45.6 minutes"
       ]
      },
      {
       "output_type": "stream",
       "stream": "stdout",
       "text": [
        " \r",
        "[**********       25%                  ]  5508035 of 22195070 complete Elapsed: 15.0 minutes\t Remaining: 45.5 minutes"
       ]
      },
      {
       "output_type": "stream",
       "stream": "stdout",
       "text": [
        " \r",
        "[**********       25%                  ]  5518596 of 22195070 complete Elapsed: 15.1 minutes\t Remaining: 45.5 minutes"
       ]
      },
      {
       "output_type": "stream",
       "stream": "stdout",
       "text": [
        " \r",
        "[**********       25%                  ]  5529285 of 22195070 complete Elapsed: 15.1 minutes\t Remaining: 45.4 minutes"
       ]
      },
      {
       "output_type": "stream",
       "stream": "stdout",
       "text": [
        " \r",
        "[**********       25%                  ]  5539820 of 22195070 complete Elapsed: 15.1 minutes\t Remaining: 45.4 minutes"
       ]
      },
      {
       "output_type": "stream",
       "stream": "stdout",
       "text": [
        " \r",
        "[**********       25%                  ]  5550423 of 22195070 complete Elapsed: 15.1 minutes\t Remaining: 45.4 minutes"
       ]
      },
      {
       "output_type": "stream",
       "stream": "stdout",
       "text": [
        " \r",
        "[**********       25%                  ]  5561028 of 22195070 complete Elapsed: 15.2 minutes\t Remaining: 45.3 minutes"
       ]
      },
      {
       "output_type": "stream",
       "stream": "stdout",
       "text": [
        " \r",
        "[**********       25%                  ]  5571630 of 22195070 complete Elapsed: 15.2 minutes\t Remaining: 45.3 minutes"
       ]
      },
      {
       "output_type": "stream",
       "stream": "stdout",
       "text": [
        " \r",
        "[**********       25%                  ]  5582198 of 22195070 complete Elapsed: 15.2 minutes\t Remaining: 45.2 minutes"
       ]
      },
      {
       "output_type": "stream",
       "stream": "stdout",
       "text": [
        " \r",
        "[**********       25%                  ]  5592829 of 22195070 complete Elapsed: 15.2 minutes\t Remaining: 45.2 minutes"
       ]
      },
      {
       "output_type": "stream",
       "stream": "stdout",
       "text": [
        " \r",
        "[**********       25%                  ]  5603401 of 22195070 complete Elapsed: 15.3 minutes\t Remaining: 45.2 minutes"
       ]
      },
      {
       "output_type": "stream",
       "stream": "stdout",
       "text": [
        " \r",
        "[**********       25%                  ]  5613987 of 22195070 complete Elapsed: 15.3 minutes\t Remaining: 45.1 minutes"
       ]
      },
      {
       "output_type": "stream",
       "stream": "stdout",
       "text": [
        " \r",
        "[**********       25%                  ]  5624480 of 22195070 complete Elapsed: 15.3 minutes\t Remaining: 45.1 minutes"
       ]
      },
      {
       "output_type": "stream",
       "stream": "stdout",
       "text": [
        " \r",
        "[**********       25%                  ]  5634744 of 22195070 complete Elapsed: 15.3 minutes\t Remaining: 45.1 minutes"
       ]
      },
      {
       "output_type": "stream",
       "stream": "stdout",
       "text": [
        " \r",
        "[**********       25%                  ]  5644948 of 22195070 complete Elapsed: 15.4 minutes\t Remaining: 45.0 minutes"
       ]
      },
      {
       "output_type": "stream",
       "stream": "stdout",
       "text": [
        " \r",
        "[**********       25%                  ]  5655142 of 22195070 complete Elapsed: 15.4 minutes\t Remaining: 45.0 minutes"
       ]
      },
      {
       "output_type": "stream",
       "stream": "stdout",
       "text": [
        " \r",
        "[**********       26%                  ]  5665332 of 22195070 complete Elapsed: 15.4 minutes\t Remaining: 44.9 minutes"
       ]
      },
      {
       "output_type": "stream",
       "stream": "stdout",
       "text": [
        " \r",
        "[**********       26%                  ]  5675601 of 22195070 complete Elapsed: 15.4 minutes\t Remaining: 44.9 minutes"
       ]
      },
      {
       "output_type": "stream",
       "stream": "stdout",
       "text": [
        " \r",
        "[**********       26%                  ]  5685817 of 22195070 complete Elapsed: 15.5 minutes\t Remaining: 44.9 minutes"
       ]
      },
      {
       "output_type": "stream",
       "stream": "stdout",
       "text": [
        " \r",
        "[**********       26%                  ]  5696035 of 22195070 complete Elapsed: 15.5 minutes\t Remaining: 44.8 minutes"
       ]
      },
      {
       "output_type": "stream",
       "stream": "stdout",
       "text": [
        " \r",
        "[**********       26%                  ]  5706281 of 22195070 complete Elapsed: 15.5 minutes\t Remaining: 44.8 minutes"
       ]
      },
      {
       "output_type": "stream",
       "stream": "stdout",
       "text": [
        " \r",
        "[**********       26%                  ]  5716617 of 22195070 complete Elapsed: 15.5 minutes\t Remaining: 44.8 minutes"
       ]
      },
      {
       "output_type": "stream",
       "stream": "stdout",
       "text": [
        " \r",
        "[**********       26%                  ]  5726789 of 22195070 complete Elapsed: 15.6 minutes\t Remaining: 44.7 minutes"
       ]
      },
      {
       "output_type": "stream",
       "stream": "stdout",
       "text": [
        " \r",
        "[**********       26%                  ]  5736987 of 22195070 complete Elapsed: 15.6 minutes\t Remaining: 44.7 minutes"
       ]
      },
      {
       "output_type": "stream",
       "stream": "stdout",
       "text": [
        " \r",
        "[**********       26%                  ]  5747203 of 22195070 complete Elapsed: 15.6 minutes\t Remaining: 44.7 minutes"
       ]
      },
      {
       "output_type": "stream",
       "stream": "stdout",
       "text": [
        " \r",
        "[**********       26%                  ]  5757434 of 22195070 complete Elapsed: 15.6 minutes\t Remaining: 44.6 minutes"
       ]
      },
      {
       "output_type": "stream",
       "stream": "stdout",
       "text": [
        " \r",
        "[**********       26%                  ]  5767695 of 22195070 complete Elapsed: 15.7 minutes\t Remaining: 44.6 minutes"
       ]
      },
      {
       "output_type": "stream",
       "stream": "stdout",
       "text": [
        " \r",
        "[**********       26%                  ]  5777962 of 22195070 complete Elapsed: 15.7 minutes\t Remaining: 44.5 minutes"
       ]
      },
      {
       "output_type": "stream",
       "stream": "stdout",
       "text": [
        " \r",
        "[**********       26%                  ]  5788149 of 22195070 complete Elapsed: 15.7 minutes\t Remaining: 44.5 minutes"
       ]
      },
      {
       "output_type": "stream",
       "stream": "stdout",
       "text": [
        " \r",
        "[**********       26%                  ]  5798336 of 22195070 complete Elapsed: 15.7 minutes\t Remaining: 44.5 minutes"
       ]
      },
      {
       "output_type": "stream",
       "stream": "stdout",
       "text": [
        " \r",
        "[**********       26%                  ]  5808540 of 22195070 complete Elapsed: 15.8 minutes\t Remaining: 44.4 minutes"
       ]
      },
      {
       "output_type": "stream",
       "stream": "stdout",
       "text": [
        " \r",
        "[**********       26%                  ]  5818743 of 22195070 complete Elapsed: 15.8 minutes\t Remaining: 44.4 minutes"
       ]
      },
      {
       "output_type": "stream",
       "stream": "stdout",
       "text": [
        " \r",
        "[**********       26%                  ]  5828909 of 22195070 complete Elapsed: 15.8 minutes\t Remaining: 44.4 minutes"
       ]
      },
      {
       "output_type": "stream",
       "stream": "stdout",
       "text": [
        " \r",
        "[**********       26%                  ]  5839159 of 22195070 complete Elapsed: 15.8 minutes\t Remaining: 44.3 minutes"
       ]
      },
      {
       "output_type": "stream",
       "stream": "stdout",
       "text": [
        " \r",
        "[**********       26%                  ]  5849334 of 22195070 complete Elapsed: 15.9 minutes\t Remaining: 44.3 minutes"
       ]
      },
      {
       "output_type": "stream",
       "stream": "stdout",
       "text": [
        " \r",
        "[**********       26%                  ]  5859518 of 22195070 complete Elapsed: 15.9 minutes\t Remaining: 44.3 minutes"
       ]
      },
      {
       "output_type": "stream",
       "stream": "stdout",
       "text": [
        " \r",
        "[**********       26%                  ]  5869675 of 22195070 complete Elapsed: 15.9 minutes\t Remaining: 44.2 minutes"
       ]
      },
      {
       "output_type": "stream",
       "stream": "stdout",
       "text": [
        " \r",
        "[**********       26%                  ]  5880021 of 22195070 complete Elapsed: 15.9 minutes\t Remaining: 44.2 minutes"
       ]
      },
      {
       "output_type": "stream",
       "stream": "stdout",
       "text": [
        " \r",
        "[**********       27%                  ]  5890182 of 22195070 complete Elapsed: 16.0 minutes\t Remaining: 44.2 minutes"
       ]
      },
      {
       "output_type": "stream",
       "stream": "stdout",
       "text": [
        " \r",
        "[**********       27%                  ]  5900421 of 22195070 complete Elapsed: 16.0 minutes\t Remaining: 44.1 minutes"
       ]
      },
      {
       "output_type": "stream",
       "stream": "stdout",
       "text": [
        " \r",
        "[**********       27%                  ]  5910592 of 22195070 complete Elapsed: 16.0 minutes\t Remaining: 44.1 minutes"
       ]
      },
      {
       "output_type": "stream",
       "stream": "stdout",
       "text": [
        " \r",
        "[**********       27%                  ]  5920871 of 22195070 complete Elapsed: 16.0 minutes\t Remaining: 44.1 minutes"
       ]
      },
      {
       "output_type": "stream",
       "stream": "stdout",
       "text": [
        " \r",
        "[**********       27%                  ]  5931100 of 22195070 complete Elapsed: 16.1 minutes\t Remaining: 44.0 minutes"
       ]
      },
      {
       "output_type": "stream",
       "stream": "stdout",
       "text": [
        " \r",
        "[**********       27%                  ]  5941341 of 22195070 complete Elapsed: 16.1 minutes\t Remaining: 44.0 minutes"
       ]
      },
      {
       "output_type": "stream",
       "stream": "stdout",
       "text": [
        " \r",
        "[**********       27%                  ]  5951526 of 22195070 complete Elapsed: 16.1 minutes\t Remaining: 44.0 minutes"
       ]
      },
      {
       "output_type": "stream",
       "stream": "stdout",
       "text": [
        " \r",
        "[**********       27%                  ]  5961862 of 22195070 complete Elapsed: 16.1 minutes\t Remaining: 43.9 minutes"
       ]
      },
      {
       "output_type": "stream",
       "stream": "stdout",
       "text": [
        " \r",
        "[**********       27%                  ]  5972052 of 22195070 complete Elapsed: 16.2 minutes\t Remaining: 43.9 minutes"
       ]
      },
      {
       "output_type": "stream",
       "stream": "stdout",
       "text": [
        " \r",
        "[**********       27%                  ]  5982312 of 22195070 complete Elapsed: 16.2 minutes\t Remaining: 43.8 minutes"
       ]
      },
      {
       "output_type": "stream",
       "stream": "stdout",
       "text": [
        " \r",
        "[**********       27%                  ]  5992516 of 22195070 complete Elapsed: 16.2 minutes\t Remaining: 43.8 minutes"
       ]
      },
      {
       "output_type": "stream",
       "stream": "stdout",
       "text": [
        " \r",
        "[**********       27%                  ]  6002766 of 22195070 complete Elapsed: 16.2 minutes\t Remaining: 43.8 minutes"
       ]
      },
      {
       "output_type": "stream",
       "stream": "stdout",
       "text": [
        " \r",
        "[**********       27%                  ]  6012914 of 22195070 complete Elapsed: 16.3 minutes\t Remaining: 43.7 minutes"
       ]
      },
      {
       "output_type": "stream",
       "stream": "stdout",
       "text": [
        " \r",
        "[**********       27%                  ]  6023120 of 22195070 complete Elapsed: 16.3 minutes\t Remaining: 43.7 minutes"
       ]
      },
      {
       "output_type": "stream",
       "stream": "stdout",
       "text": [
        " \r",
        "[**********       27%                  ]  6033281 of 22195070 complete Elapsed: 16.3 minutes\t Remaining: 43.7 minutes"
       ]
      },
      {
       "output_type": "stream",
       "stream": "stdout",
       "text": [
        " \r",
        "[**********       27%                  ]  6043565 of 22195070 complete Elapsed: 16.3 minutes\t Remaining: 43.6 minutes"
       ]
      },
      {
       "output_type": "stream",
       "stream": "stdout",
       "text": [
        " \r",
        "[**********       27%                  ]  6053768 of 22195070 complete Elapsed: 16.4 minutes\t Remaining: 43.6 minutes"
       ]
      },
      {
       "output_type": "stream",
       "stream": "stdout",
       "text": [
        " \r",
        "[**********       27%                  ]  6063960 of 22195070 complete Elapsed: 16.4 minutes\t Remaining: 43.6 minutes"
       ]
      },
      {
       "output_type": "stream",
       "stream": "stdout",
       "text": [
        " \r",
        "[**********       27%                  ]  6074179 of 22195070 complete Elapsed: 16.4 minutes\t Remaining: 43.5 minutes"
       ]
      },
      {
       "output_type": "stream",
       "stream": "stdout",
       "text": [
        " \r",
        "[**********       27%                  ]  6084496 of 22195070 complete Elapsed: 16.4 minutes\t Remaining: 43.5 minutes"
       ]
      },
      {
       "output_type": "stream",
       "stream": "stdout",
       "text": [
        " \r",
        "[**********       27%                  ]  6094765 of 22195070 complete Elapsed: 16.5 minutes\t Remaining: 43.5 minutes"
       ]
      },
      {
       "output_type": "stream",
       "stream": "stdout",
       "text": [
        " \r",
        "[***********      28%                  ]  6105040 of 22195070 complete Elapsed: 16.5 minutes\t Remaining: 43.4 minutes"
       ]
      },
      {
       "output_type": "stream",
       "stream": "stdout",
       "text": [
        " \r",
        "[***********      28%                  ]  6115253 of 22195070 complete Elapsed: 16.5 minutes\t Remaining: 43.4 minutes"
       ]
      },
      {
       "output_type": "stream",
       "stream": "stdout",
       "text": [
        " \r",
        "[***********      28%                  ]  6125597 of 22195070 complete Elapsed: 16.5 minutes\t Remaining: 43.4 minutes"
       ]
      },
      {
       "output_type": "stream",
       "stream": "stdout",
       "text": [
        " \r",
        "[***********      28%                  ]  6135858 of 22195070 complete Elapsed: 16.6 minutes\t Remaining: 43.3 minutes"
       ]
      },
      {
       "output_type": "stream",
       "stream": "stdout",
       "text": [
        " \r",
        "[***********      28%                  ]  6146080 of 22195070 complete Elapsed: 16.6 minutes\t Remaining: 43.3 minutes"
       ]
      },
      {
       "output_type": "stream",
       "stream": "stdout",
       "text": [
        " \r",
        "[***********      28%                  ]  6156244 of 22195070 complete Elapsed: 16.6 minutes\t Remaining: 43.3 minutes"
       ]
      },
      {
       "output_type": "stream",
       "stream": "stdout",
       "text": [
        " \r",
        "[***********      28%                  ]  6166467 of 22195070 complete Elapsed: 16.6 minutes\t Remaining: 43.2 minutes"
       ]
      },
      {
       "output_type": "stream",
       "stream": "stdout",
       "text": [
        " \r",
        "[***********      28%                  ]  6176734 of 22195070 complete Elapsed: 16.7 minutes\t Remaining: 43.2 minutes"
       ]
      },
      {
       "output_type": "stream",
       "stream": "stdout",
       "text": [
        " \r",
        "[***********      28%                  ]  6186986 of 22195070 complete Elapsed: 16.7 minutes\t Remaining: 43.2 minutes"
       ]
      },
      {
       "output_type": "stream",
       "stream": "stdout",
       "text": [
        " \r",
        "[***********      28%                  ]  6197150 of 22195070 complete Elapsed: 16.7 minutes\t Remaining: 43.1 minutes"
       ]
      },
      {
       "output_type": "stream",
       "stream": "stdout",
       "text": [
        " \r",
        "[***********      28%                  ]  6207383 of 22195070 complete Elapsed: 16.7 minutes\t Remaining: 43.1 minutes"
       ]
      },
      {
       "output_type": "stream",
       "stream": "stdout",
       "text": [
        " \r",
        "[***********      28%                  ]  6217570 of 22195070 complete Elapsed: 16.8 minutes\t Remaining: 43.1 minutes"
       ]
      },
      {
       "output_type": "stream",
       "stream": "stdout",
       "text": [
        " \r",
        "[***********      28%                  ]  6227796 of 22195070 complete Elapsed: 16.8 minutes\t Remaining: 43.0 minutes"
       ]
      },
      {
       "output_type": "stream",
       "stream": "stdout",
       "text": [
        " \r",
        "[***********      28%                  ]  6237993 of 22195070 complete Elapsed: 16.8 minutes\t Remaining: 43.0 minutes"
       ]
      },
      {
       "output_type": "stream",
       "stream": "stdout",
       "text": [
        " \r",
        "[***********      28%                  ]  6248263 of 22195070 complete Elapsed: 16.8 minutes\t Remaining: 43.0 minutes"
       ]
      },
      {
       "output_type": "stream",
       "stream": "stdout",
       "text": [
        " \r",
        "[***********      28%                  ]  6258456 of 22195070 complete Elapsed: 16.9 minutes\t Remaining: 42.9 minutes"
       ]
      },
      {
       "output_type": "stream",
       "stream": "stdout",
       "text": [
        " \r",
        "[***********      28%                  ]  6268674 of 22195070 complete Elapsed: 16.9 minutes\t Remaining: 42.9 minutes"
       ]
      },
      {
       "output_type": "stream",
       "stream": "stdout",
       "text": [
        " \r",
        "[***********      28%                  ]  6278838 of 22195070 complete Elapsed: 16.9 minutes\t Remaining: 42.9 minutes"
       ]
      },
      {
       "output_type": "stream",
       "stream": "stdout",
       "text": [
        " \r",
        "[***********      28%                  ]  6289110 of 22195070 complete Elapsed: 16.9 minutes\t Remaining: 42.8 minutes"
       ]
      },
      {
       "output_type": "stream",
       "stream": "stdout",
       "text": [
        " \r",
        "[***********      28%                  ]  6299353 of 22195070 complete Elapsed: 17.0 minutes\t Remaining: 42.8 minutes"
       ]
      },
      {
       "output_type": "stream",
       "stream": "stdout",
       "text": [
        " \r",
        "[***********      28%                  ]  6309575 of 22195070 complete Elapsed: 17.0 minutes\t Remaining: 42.7 minutes"
       ]
      },
      {
       "output_type": "stream",
       "stream": "stdout",
       "text": [
        " \r",
        "[***********      28%                  ]  6319779 of 22195070 complete Elapsed: 17.0 minutes\t Remaining: 42.7 minutes"
       ]
      },
      {
       "output_type": "stream",
       "stream": "stdout",
       "text": [
        " \r",
        "[***********      29%                  ]  6330015 of 22195070 complete Elapsed: 17.0 minutes\t Remaining: 42.7 minutes"
       ]
      },
      {
       "output_type": "stream",
       "stream": "stdout",
       "text": [
        " \r",
        "[***********      29%                  ]  6340233 of 22195070 complete Elapsed: 17.1 minutes\t Remaining: 42.6 minutes"
       ]
      },
      {
       "output_type": "stream",
       "stream": "stdout",
       "text": [
        " \r",
        "[***********      29%                  ]  6350453 of 22195070 complete Elapsed: 17.1 minutes\t Remaining: 42.6 minutes"
       ]
      },
      {
       "output_type": "stream",
       "stream": "stdout",
       "text": [
        " \r",
        "[***********      29%                  ]  6360623 of 22195070 complete Elapsed: 17.1 minutes\t Remaining: 42.6 minutes"
       ]
      },
      {
       "output_type": "stream",
       "stream": "stdout",
       "text": [
        " \r",
        "[***********      29%                  ]  6370859 of 22195070 complete Elapsed: 17.1 minutes\t Remaining: 42.5 minutes"
       ]
      },
      {
       "output_type": "stream",
       "stream": "stdout",
       "text": [
        " \r",
        "[***********      29%                  ]  6381034 of 22195070 complete Elapsed: 17.2 minutes\t Remaining: 42.5 minutes"
       ]
      },
      {
       "output_type": "stream",
       "stream": "stdout",
       "text": [
        " \r",
        "[***********      29%                  ]  6391242 of 22195070 complete Elapsed: 17.2 minutes\t Remaining: 42.5 minutes"
       ]
      },
      {
       "output_type": "stream",
       "stream": "stdout",
       "text": [
        " \r",
        "[***********      29%                  ]  6401394 of 22195070 complete Elapsed: 17.2 minutes\t Remaining: 42.4 minutes"
       ]
      },
      {
       "output_type": "stream",
       "stream": "stdout",
       "text": [
        " \r",
        "[***********      29%                  ]  6411613 of 22195070 complete Elapsed: 17.2 minutes\t Remaining: 42.4 minutes"
       ]
      },
      {
       "output_type": "stream",
       "stream": "stdout",
       "text": [
        " \r",
        "[***********      29%                  ]  6420230 of 22195070 complete Elapsed: 17.6 minutes\t Remaining: 43.3 minutes"
       ]
      },
      {
       "output_type": "stream",
       "stream": "stdout",
       "text": [
        " \r",
        "[***********      29%                  ]  6424315 of 22195070 complete Elapsed: 17.6 minutes\t Remaining: 43.3 minutes"
       ]
      },
      {
       "output_type": "stream",
       "stream": "stdout",
       "text": [
        " \r",
        "[***********      29%                  ]  6434458 of 22195070 complete Elapsed: 17.7 minutes\t Remaining: 43.3 minutes"
       ]
      },
      {
       "output_type": "stream",
       "stream": "stdout",
       "text": [
        " \r",
        "[***********      29%                  ]  6444671 of 22195070 complete Elapsed: 17.7 minutes\t Remaining: 43.2 minutes"
       ]
      },
      {
       "output_type": "stream",
       "stream": "stdout",
       "text": [
        " \r",
        "[***********      29%                  ]  6454840 of 22195070 complete Elapsed: 17.7 minutes\t Remaining: 43.2 minutes"
       ]
      },
      {
       "output_type": "stream",
       "stream": "stdout",
       "text": [
        " \r",
        "[***********      29%                  ]  6465059 of 22195070 complete Elapsed: 17.7 minutes\t Remaining: 43.2 minutes"
       ]
      },
      {
       "output_type": "stream",
       "stream": "stdout",
       "text": [
        " \r",
        "[***********      29%                  ]  6475257 of 22195070 complete Elapsed: 17.8 minutes\t Remaining: 43.1 minutes"
       ]
      },
      {
       "output_type": "stream",
       "stream": "stdout",
       "text": [
        " \r",
        "[***********      29%                  ]  6485484 of 22195070 complete Elapsed: 17.8 minutes\t Remaining: 43.1 minutes"
       ]
      },
      {
       "output_type": "stream",
       "stream": "stdout",
       "text": [
        " \r",
        "[***********      29%                  ]  6495698 of 22195070 complete Elapsed: 17.8 minutes\t Remaining: 43.1 minutes"
       ]
      },
      {
       "output_type": "stream",
       "stream": "stdout",
       "text": [
        " \r",
        "[***********      29%                  ]  6505909 of 22195070 complete Elapsed: 17.8 minutes\t Remaining: 43.0 minutes"
       ]
      },
      {
       "output_type": "stream",
       "stream": "stdout",
       "text": [
        " \r",
        "[***********      29%                  ]  6516079 of 22195070 complete Elapsed: 17.9 minutes\t Remaining: 43.0 minutes"
       ]
      },
      {
       "output_type": "stream",
       "stream": "stdout",
       "text": [
        " \r",
        "[***********      29%                  ]  6526281 of 22195070 complete Elapsed: 17.9 minutes\t Remaining: 43.0 minutes"
       ]
      },
      {
       "output_type": "stream",
       "stream": "stdout",
       "text": [
        " \r",
        "[***********      29%                  ]  6536480 of 22195070 complete Elapsed: 17.9 minutes\t Remaining: 42.9 minutes"
       ]
      },
      {
       "output_type": "stream",
       "stream": "stdout",
       "text": [
        " \r",
        "[***********      29%                  ]  6546680 of 22195070 complete Elapsed: 17.9 minutes\t Remaining: 42.9 minutes"
       ]
      },
      {
       "output_type": "stream",
       "stream": "stdout",
       "text": [
        " \r",
        "[***********      30%                  ]  6556818 of 22195070 complete Elapsed: 18.0 minutes\t Remaining: 42.9 minutes"
       ]
      },
      {
       "output_type": "stream",
       "stream": "stdout",
       "text": [
        " \r",
        "[***********      30%                  ]  6567055 of 22195070 complete Elapsed: 18.0 minutes\t Remaining: 42.8 minutes"
       ]
      },
      {
       "output_type": "stream",
       "stream": "stdout",
       "text": [
        " \r",
        "[***********      30%                  ]  6577253 of 22195070 complete Elapsed: 18.0 minutes\t Remaining: 42.8 minutes"
       ]
      },
      {
       "output_type": "stream",
       "stream": "stdout",
       "text": [
        " \r",
        "[***********      30%                  ]  6587494 of 22195070 complete Elapsed: 18.0 minutes\t Remaining: 42.7 minutes"
       ]
      },
      {
       "output_type": "stream",
       "stream": "stdout",
       "text": [
        " \r",
        "[***********      30%                  ]  6597731 of 22195070 complete Elapsed: 18.1 minutes\t Remaining: 42.7 minutes"
       ]
      },
      {
       "output_type": "stream",
       "stream": "stdout",
       "text": [
        " \r",
        "[***********      30%                  ]  6607977 of 22195070 complete Elapsed: 18.1 minutes\t Remaining: 42.7 minutes"
       ]
      },
      {
       "output_type": "stream",
       "stream": "stdout",
       "text": [
        " \r",
        "[***********      30%                  ]  6618211 of 22195070 complete Elapsed: 18.1 minutes\t Remaining: 42.6 minutes"
       ]
      },
      {
       "output_type": "stream",
       "stream": "stdout",
       "text": [
        " \r",
        "[***********      30%                  ]  6628520 of 22195070 complete Elapsed: 18.1 minutes\t Remaining: 42.6 minutes"
       ]
      },
      {
       "output_type": "stream",
       "stream": "stdout",
       "text": [
        " \r",
        "[***********      30%                  ]  6638692 of 22195070 complete Elapsed: 18.2 minutes\t Remaining: 42.6 minutes"
       ]
      },
      {
       "output_type": "stream",
       "stream": "stdout",
       "text": [
        " \r",
        "[***********      30%                  ]  6648945 of 22195070 complete Elapsed: 18.2 minutes\t Remaining: 42.5 minutes"
       ]
      },
      {
       "output_type": "stream",
       "stream": "stdout",
       "text": [
        " \r",
        "[***********      30%                  ]  6659141 of 22195070 complete Elapsed: 18.2 minutes\t Remaining: 42.5 minutes"
       ]
      },
      {
       "output_type": "stream",
       "stream": "stdout",
       "text": [
        " \r",
        "[***********      30%                  ]  6669375 of 22195070 complete Elapsed: 18.2 minutes\t Remaining: 42.5 minutes"
       ]
      },
      {
       "output_type": "stream",
       "stream": "stdout",
       "text": [
        " \r",
        "[***********      30%                  ]  6679567 of 22195070 complete Elapsed: 18.3 minutes\t Remaining: 42.4 minutes"
       ]
      },
      {
       "output_type": "stream",
       "stream": "stdout",
       "text": [
        " \r",
        "[***********      30%                  ]  6689818 of 22195070 complete Elapsed: 18.3 minutes\t Remaining: 42.4 minutes"
       ]
      },
      {
       "output_type": "stream",
       "stream": "stdout",
       "text": [
        " \r",
        "[***********      30%                  ]  6699973 of 22195070 complete Elapsed: 18.3 minutes\t Remaining: 42.4 minutes"
       ]
      },
      {
       "output_type": "stream",
       "stream": "stdout",
       "text": [
        " \r",
        "[***********      30%                  ]  6710181 of 22195070 complete Elapsed: 18.3 minutes\t Remaining: 42.3 minutes"
       ]
      },
      {
       "output_type": "stream",
       "stream": "stdout",
       "text": [
        " \r",
        "[***********      30%                  ]  6720371 of 22195070 complete Elapsed: 18.4 minutes\t Remaining: 42.3 minutes"
       ]
      },
      {
       "output_type": "stream",
       "stream": "stdout",
       "text": [
        " \r",
        "[***********      30%                  ]  6730582 of 22195070 complete Elapsed: 18.4 minutes\t Remaining: 42.3 minutes"
       ]
      },
      {
       "output_type": "stream",
       "stream": "stdout",
       "text": [
        " \r",
        "[***********      30%                  ]  6740780 of 22195070 complete Elapsed: 18.4 minutes\t Remaining: 42.2 minutes"
       ]
      },
      {
       "output_type": "stream",
       "stream": "stdout",
       "text": [
        " \r",
        "[***********      30%                  ]  6751049 of 22195070 complete Elapsed: 18.4 minutes\t Remaining: 42.2 minutes"
       ]
      },
      {
       "output_type": "stream",
       "stream": "stdout",
       "text": [
        " \r",
        "[***********      30%                  ]  6761203 of 22195070 complete Elapsed: 18.5 minutes\t Remaining: 42.2 minutes"
       ]
      },
      {
       "output_type": "stream",
       "stream": "stdout",
       "text": [
        " \r",
        "[************     31%                  ]  6771430 of 22195070 complete Elapsed: 18.5 minutes\t Remaining: 42.1 minutes"
       ]
      },
      {
       "output_type": "stream",
       "stream": "stdout",
       "text": [
        " \r",
        "[************     31%                  ]  6781607 of 22195070 complete Elapsed: 18.5 minutes\t Remaining: 42.1 minutes"
       ]
      },
      {
       "output_type": "stream",
       "stream": "stdout",
       "text": [
        " \r",
        "[************     31%                  ]  6791912 of 22195070 complete Elapsed: 18.5 minutes\t Remaining: 42.1 minutes"
       ]
      },
      {
       "output_type": "stream",
       "stream": "stdout",
       "text": [
        " \r",
        "[************     31%                  ]  6802153 of 22195070 complete Elapsed: 18.6 minutes\t Remaining: 42.0 minutes"
       ]
      },
      {
       "output_type": "stream",
       "stream": "stdout",
       "text": [
        " \r",
        "[************     31%                  ]  6812374 of 22195070 complete Elapsed: 18.6 minutes\t Remaining: 42.0 minutes"
       ]
      },
      {
       "output_type": "stream",
       "stream": "stdout",
       "text": [
        " \r",
        "[************     31%                  ]  6822571 of 22195070 complete Elapsed: 18.6 minutes\t Remaining: 42.0 minutes"
       ]
      },
      {
       "output_type": "stream",
       "stream": "stdout",
       "text": [
        " \r",
        "[************     31%                  ]  6832803 of 22195070 complete Elapsed: 18.6 minutes\t Remaining: 41.9 minutes"
       ]
      },
      {
       "output_type": "stream",
       "stream": "stdout",
       "text": [
        " \r",
        "[************     31%                  ]  6842982 of 22195070 complete Elapsed: 18.7 minutes\t Remaining: 41.9 minutes"
       ]
      },
      {
       "output_type": "stream",
       "stream": "stdout",
       "text": [
        " \r",
        "[************     31%                  ]  6853220 of 22195070 complete Elapsed: 18.7 minutes\t Remaining: 41.8 minutes"
       ]
      },
      {
       "output_type": "stream",
       "stream": "stdout",
       "text": [
        " \r",
        "[************     31%                  ]  6863376 of 22195070 complete Elapsed: 18.7 minutes\t Remaining: 41.8 minutes"
       ]
      },
      {
       "output_type": "stream",
       "stream": "stdout",
       "text": [
        " \r",
        "[************     31%                  ]  6873627 of 22195070 complete Elapsed: 18.7 minutes\t Remaining: 41.8 minutes"
       ]
      },
      {
       "output_type": "stream",
       "stream": "stdout",
       "text": [
        " \r",
        "[************     31%                  ]  6883780 of 22195070 complete Elapsed: 18.8 minutes\t Remaining: 41.7 minutes"
       ]
      },
      {
       "output_type": "stream",
       "stream": "stdout",
       "text": [
        " \r",
        "[************     31%                  ]  6893975 of 22195070 complete Elapsed: 18.8 minutes\t Remaining: 41.7 minutes"
       ]
      },
      {
       "output_type": "stream",
       "stream": "stdout",
       "text": [
        " \r",
        "[************     31%                  ]  6904141 of 22195070 complete Elapsed: 18.8 minutes\t Remaining: 41.7 minutes"
       ]
      },
      {
       "output_type": "stream",
       "stream": "stdout",
       "text": [
        " \r",
        "[************     31%                  ]  6914398 of 22195070 complete Elapsed: 18.8 minutes\t Remaining: 41.6 minutes"
       ]
      },
      {
       "output_type": "stream",
       "stream": "stdout",
       "text": [
        " \r",
        "[************     31%                  ]  6924547 of 22195070 complete Elapsed: 18.9 minutes\t Remaining: 41.6 minutes"
       ]
      },
      {
       "output_type": "stream",
       "stream": "stdout",
       "text": [
        " \r",
        "[************     31%                  ]  6934773 of 22195070 complete Elapsed: 18.9 minutes\t Remaining: 41.6 minutes"
       ]
      },
      {
       "output_type": "stream",
       "stream": "stdout",
       "text": [
        " \r",
        "[************     31%                  ]  6944933 of 22195070 complete Elapsed: 18.9 minutes\t Remaining: 41.5 minutes"
       ]
      },
      {
       "output_type": "stream",
       "stream": "stdout",
       "text": [
        " \r",
        "[************     31%                  ]  6955164 of 22195070 complete Elapsed: 18.9 minutes\t Remaining: 41.5 minutes"
       ]
      },
      {
       "output_type": "stream",
       "stream": "stdout",
       "text": [
        " \r",
        "[************     31%                  ]  6965316 of 22195070 complete Elapsed: 19.0 minutes\t Remaining: 41.5 minutes"
       ]
      },
      {
       "output_type": "stream",
       "stream": "stdout",
       "text": [
        " \r",
        "[************     31%                  ]  6975531 of 22195070 complete Elapsed: 19.0 minutes\t Remaining: 41.4 minutes"
       ]
      },
      {
       "output_type": "stream",
       "stream": "stdout",
       "text": [
        " \r",
        "[************     31%                  ]  6985705 of 22195070 complete Elapsed: 19.0 minutes\t Remaining: 41.4 minutes"
       ]
      },
      {
       "output_type": "stream",
       "stream": "stdout",
       "text": [
        " \r",
        "[************     32%                  ]  6995904 of 22195070 complete Elapsed: 19.0 minutes\t Remaining: 41.4 minutes"
       ]
      },
      {
       "output_type": "stream",
       "stream": "stdout",
       "text": [
        " \r",
        "[************     32%                  ]  7006062 of 22195070 complete Elapsed: 19.1 minutes\t Remaining: 41.3 minutes"
       ]
      },
      {
       "output_type": "stream",
       "stream": "stdout",
       "text": [
        " \r",
        "[************     32%                  ]  7016290 of 22195070 complete Elapsed: 19.1 minutes\t Remaining: 41.3 minutes"
       ]
      },
      {
       "output_type": "stream",
       "stream": "stdout",
       "text": [
        " \r",
        "[************     32%                  ]  7026490 of 22195070 complete Elapsed: 19.1 minutes\t Remaining: 41.3 minutes"
       ]
      },
      {
       "output_type": "stream",
       "stream": "stdout",
       "text": [
        " \r",
        "[************     32%                  ]  7036723 of 22195070 complete Elapsed: 19.1 minutes\t Remaining: 41.2 minutes"
       ]
      },
      {
       "output_type": "stream",
       "stream": "stdout",
       "text": [
        " \r",
        "[************     32%                  ]  7046875 of 22195070 complete Elapsed: 19.2 minutes\t Remaining: 41.2 minutes"
       ]
      },
      {
       "output_type": "stream",
       "stream": "stdout",
       "text": [
        " \r",
        "[************     32%                  ]  7057129 of 22195070 complete Elapsed: 19.2 minutes\t Remaining: 41.2 minutes"
       ]
      },
      {
       "output_type": "stream",
       "stream": "stdout",
       "text": [
        " \r",
        "[************     32%                  ]  7067290 of 22195070 complete Elapsed: 19.2 minutes\t Remaining: 41.1 minutes"
       ]
      },
      {
       "output_type": "stream",
       "stream": "stdout",
       "text": [
        " \r",
        "[************     32%                  ]  7077533 of 22195070 complete Elapsed: 19.2 minutes\t Remaining: 41.1 minutes"
       ]
      },
      {
       "output_type": "stream",
       "stream": "stdout",
       "text": [
        " \r",
        "[************     32%                  ]  7087681 of 22195070 complete Elapsed: 19.3 minutes\t Remaining: 41.1 minutes"
       ]
      },
      {
       "output_type": "stream",
       "stream": "stdout",
       "text": [
        " \r",
        "[************     32%                  ]  7097941 of 22195070 complete Elapsed: 19.3 minutes\t Remaining: 41.0 minutes"
       ]
      },
      {
       "output_type": "stream",
       "stream": "stdout",
       "text": [
        " \r",
        "[************     32%                  ]  7108131 of 22195070 complete Elapsed: 19.3 minutes\t Remaining: 41.0 minutes"
       ]
      },
      {
       "output_type": "stream",
       "stream": "stdout",
       "text": [
        " \r",
        "[************     32%                  ]  7118360 of 22195070 complete Elapsed: 19.3 minutes\t Remaining: 41.0 minutes"
       ]
      },
      {
       "output_type": "stream",
       "stream": "stdout",
       "text": [
        " \r",
        "[************     32%                  ]  7128527 of 22195070 complete Elapsed: 19.4 minutes\t Remaining: 40.9 minutes"
       ]
      },
      {
       "output_type": "stream",
       "stream": "stdout",
       "text": [
        " \r",
        "[************     32%                  ]  7138739 of 22195070 complete Elapsed: 19.4 minutes\t Remaining: 40.9 minutes"
       ]
      },
      {
       "output_type": "stream",
       "stream": "stdout",
       "text": [
        " \r",
        "[************     32%                  ]  7148941 of 22195070 complete Elapsed: 19.4 minutes\t Remaining: 40.9 minutes"
       ]
      },
      {
       "output_type": "stream",
       "stream": "stdout",
       "text": [
        " \r",
        "[************     32%                  ]  7159188 of 22195070 complete Elapsed: 19.4 minutes\t Remaining: 40.8 minutes"
       ]
      },
      {
       "output_type": "stream",
       "stream": "stdout",
       "text": [
        " \r",
        "[************     32%                  ]  7169383 of 22195070 complete Elapsed: 19.5 minutes\t Remaining: 40.8 minutes"
       ]
      },
      {
       "output_type": "stream",
       "stream": "stdout",
       "text": [
        " \r",
        "[************     32%                  ]  7179642 of 22195070 complete Elapsed: 19.5 minutes\t Remaining: 40.8 minutes"
       ]
      },
      {
       "output_type": "stream",
       "stream": "stdout",
       "text": [
        " \r",
        "[************     32%                  ]  7189861 of 22195070 complete Elapsed: 19.5 minutes\t Remaining: 40.7 minutes"
       ]
      },
      {
       "output_type": "stream",
       "stream": "stdout",
       "text": [
        " \r",
        "[************     32%                  ]  7200123 of 22195070 complete Elapsed: 19.5 minutes\t Remaining: 40.7 minutes"
       ]
      },
      {
       "output_type": "stream",
       "stream": "stdout",
       "text": [
        " \r",
        "[************     32%                  ]  7210282 of 22195070 complete Elapsed: 19.6 minutes\t Remaining: 40.7 minutes"
       ]
      },
      {
       "output_type": "stream",
       "stream": "stdout",
       "text": [
        " \r",
        "[*************    33%                  ]  7220537 of 22195070 complete Elapsed: 19.6 minutes\t Remaining: 40.6 minutes"
       ]
      },
      {
       "output_type": "stream",
       "stream": "stdout",
       "text": [
        " \r",
        "[*************    33%                  ]  7230747 of 22195070 complete Elapsed: 19.6 minutes\t Remaining: 40.6 minutes"
       ]
      },
      {
       "output_type": "stream",
       "stream": "stdout",
       "text": [
        " \r",
        "[*************    33%                  ]  7240983 of 22195070 complete Elapsed: 19.6 minutes\t Remaining: 40.6 minutes"
       ]
      },
      {
       "output_type": "stream",
       "stream": "stdout",
       "text": [
        " \r",
        "[*************    33%                  ]  7251105 of 22195070 complete Elapsed: 19.7 minutes\t Remaining: 40.5 minutes"
       ]
      },
      {
       "output_type": "stream",
       "stream": "stdout",
       "text": [
        " \r",
        "[*************    33%                  ]  7261300 of 22195070 complete Elapsed: 19.7 minutes\t Remaining: 40.5 minutes"
       ]
      },
      {
       "output_type": "stream",
       "stream": "stdout",
       "text": [
        " \r",
        "[*************    33%                  ]  7271474 of 22195070 complete Elapsed: 19.7 minutes\t Remaining: 40.5 minutes"
       ]
      },
      {
       "output_type": "stream",
       "stream": "stdout",
       "text": [
        " \r",
        "[*************    33%                  ]  7281727 of 22195070 complete Elapsed: 19.7 minutes\t Remaining: 40.4 minutes"
       ]
      },
      {
       "output_type": "stream",
       "stream": "stdout",
       "text": [
        " \r",
        "[*************    33%                  ]  7291883 of 22195070 complete Elapsed: 19.8 minutes\t Remaining: 40.4 minutes"
       ]
      },
      {
       "output_type": "stream",
       "stream": "stdout",
       "text": [
        " \r",
        "[*************    33%                  ]  7302104 of 22195070 complete Elapsed: 19.8 minutes\t Remaining: 40.4 minutes"
       ]
      },
      {
       "output_type": "stream",
       "stream": "stdout",
       "text": [
        " \r",
        "[*************    33%                  ]  7312275 of 22195070 complete Elapsed: 19.8 minutes\t Remaining: 40.3 minutes"
       ]
      },
      {
       "output_type": "stream",
       "stream": "stdout",
       "text": [
        " \r",
        "[*************    33%                  ]  7322530 of 22195070 complete Elapsed: 19.8 minutes\t Remaining: 40.3 minutes"
       ]
      },
      {
       "output_type": "stream",
       "stream": "stdout",
       "text": [
        " \r",
        "[*************    33%                  ]  7332675 of 22195070 complete Elapsed: 19.9 minutes\t Remaining: 40.3 minutes"
       ]
      },
      {
       "output_type": "stream",
       "stream": "stdout",
       "text": [
        " \r",
        "[*************    33%                  ]  7342920 of 22195070 complete Elapsed: 19.9 minutes\t Remaining: 40.2 minutes"
       ]
      },
      {
       "output_type": "stream",
       "stream": "stdout",
       "text": [
        " \r",
        "[*************    33%                  ]  7353075 of 22195070 complete Elapsed: 19.9 minutes\t Remaining: 40.2 minutes"
       ]
      },
      {
       "output_type": "stream",
       "stream": "stdout",
       "text": [
        " \r",
        "[*************    33%                  ]  7363313 of 22195070 complete Elapsed: 19.9 minutes\t Remaining: 40.2 minutes"
       ]
      },
      {
       "output_type": "stream",
       "stream": "stdout",
       "text": [
        " \r",
        "[*************    33%                  ]  7373503 of 22195070 complete Elapsed: 20.0 minutes\t Remaining: 40.1 minutes"
       ]
      },
      {
       "output_type": "stream",
       "stream": "stdout",
       "text": [
        " \r",
        "[*************    33%                  ]  7383736 of 22195070 complete Elapsed: 20.0 minutes\t Remaining: 40.1 minutes"
       ]
      },
      {
       "output_type": "stream",
       "stream": "stdout",
       "text": [
        " \r",
        "[*************    33%                  ]  7393926 of 22195070 complete Elapsed: 20.0 minutes\t Remaining: 40.1 minutes"
       ]
      },
      {
       "output_type": "stream",
       "stream": "stdout",
       "text": [
        " \r",
        "[*************    33%                  ]  7404153 of 22195070 complete Elapsed: 20.0 minutes\t Remaining: 40.0 minutes"
       ]
      },
      {
       "output_type": "stream",
       "stream": "stdout",
       "text": [
        " \r",
        "[*************    33%                  ]  7414299 of 22195070 complete Elapsed: 20.1 minutes\t Remaining: 40.0 minutes"
       ]
      },
      {
       "output_type": "stream",
       "stream": "stdout",
       "text": [
        " \r",
        "[*************    33%                  ]  7424480 of 22195070 complete Elapsed: 20.1 minutes\t Remaining: 40.0 minutes"
       ]
      },
      {
       "output_type": "stream",
       "stream": "stdout",
       "text": [
        " \r",
        "[*************    33%                  ]  7434644 of 22195070 complete Elapsed: 20.1 minutes\t Remaining: 39.9 minutes"
       ]
      },
      {
       "output_type": "stream",
       "stream": "stdout",
       "text": [
        " \r",
        "[*************    34%                  ]  7444865 of 22195070 complete Elapsed: 20.1 minutes\t Remaining: 39.9 minutes"
       ]
      },
      {
       "output_type": "stream",
       "stream": "stdout",
       "text": [
        " \r",
        "[*************    34%                  ]  7454991 of 22195070 complete Elapsed: 20.2 minutes\t Remaining: 39.9 minutes"
       ]
      },
      {
       "output_type": "stream",
       "stream": "stdout",
       "text": [
        " \r",
        "[*************    34%                  ]  7465195 of 22195070 complete Elapsed: 20.2 minutes\t Remaining: 39.8 minutes"
       ]
      },
      {
       "output_type": "stream",
       "stream": "stdout",
       "text": [
        " \r",
        "[*************    34%                  ]  7475313 of 22195070 complete Elapsed: 20.2 minutes\t Remaining: 39.8 minutes"
       ]
      },
      {
       "output_type": "stream",
       "stream": "stdout",
       "text": [
        " \r",
        "[*************    34%                  ]  7485535 of 22195070 complete Elapsed: 20.2 minutes\t Remaining: 39.8 minutes"
       ]
      },
      {
       "output_type": "stream",
       "stream": "stdout",
       "text": [
        " \r",
        "[*************    34%                  ]  7495696 of 22195070 complete Elapsed: 20.3 minutes\t Remaining: 39.7 minutes"
       ]
      },
      {
       "output_type": "stream",
       "stream": "stdout",
       "text": [
        " \r",
        "[*************    34%                  ]  7505889 of 22195070 complete Elapsed: 20.3 minutes\t Remaining: 39.7 minutes"
       ]
      },
      {
       "output_type": "stream",
       "stream": "stdout",
       "text": [
        " \r",
        "[*************    34%                  ]  7515970 of 22195070 complete Elapsed: 20.3 minutes\t Remaining: 39.7 minutes"
       ]
      },
      {
       "output_type": "stream",
       "stream": "stdout",
       "text": [
        " \r",
        "[*************    34%                  ]  7526199 of 22195070 complete Elapsed: 20.3 minutes\t Remaining: 39.7 minutes"
       ]
      },
      {
       "output_type": "stream",
       "stream": "stdout",
       "text": [
        " \r",
        "[*************    34%                  ]  7536335 of 22195070 complete Elapsed: 20.4 minutes\t Remaining: 39.6 minutes"
       ]
      },
      {
       "output_type": "stream",
       "stream": "stdout",
       "text": [
        " \r",
        "[*************    34%                  ]  7546539 of 22195070 complete Elapsed: 20.4 minutes\t Remaining: 39.6 minutes"
       ]
      },
      {
       "output_type": "stream",
       "stream": "stdout",
       "text": [
        " \r",
        "[*************    34%                  ]  7556695 of 22195070 complete Elapsed: 20.4 minutes\t Remaining: 39.6 minutes"
       ]
      },
      {
       "output_type": "stream",
       "stream": "stdout",
       "text": [
        " \r",
        "[*************    34%                  ]  7566909 of 22195070 complete Elapsed: 20.4 minutes\t Remaining: 39.5 minutes"
       ]
      },
      {
       "output_type": "stream",
       "stream": "stdout",
       "text": [
        " \r",
        "[*************    34%                  ]  7577077 of 22195070 complete Elapsed: 20.5 minutes\t Remaining: 39.5 minutes"
       ]
      },
      {
       "output_type": "stream",
       "stream": "stdout",
       "text": [
        " \r",
        "[*************    34%                  ]  7587245 of 22195070 complete Elapsed: 20.5 minutes\t Remaining: 39.5 minutes"
       ]
      },
      {
       "output_type": "stream",
       "stream": "stdout",
       "text": [
        " \r",
        "[*************    34%                  ]  7597388 of 22195070 complete Elapsed: 20.5 minutes\t Remaining: 39.4 minutes"
       ]
      },
      {
       "output_type": "stream",
       "stream": "stdout",
       "text": [
        " \r",
        "[*************    34%                  ]  7607563 of 22195070 complete Elapsed: 20.5 minutes\t Remaining: 39.4 minutes"
       ]
      },
      {
       "output_type": "stream",
       "stream": "stdout",
       "text": [
        " \r",
        "[*************    34%                  ]  7617777 of 22195070 complete Elapsed: 20.6 minutes\t Remaining: 39.4 minutes"
       ]
      },
      {
       "output_type": "stream",
       "stream": "stdout",
       "text": [
        " \r",
        "[*************    34%                  ]  7627989 of 22195070 complete Elapsed: 20.6 minutes\t Remaining: 39.3 minutes"
       ]
      },
      {
       "output_type": "stream",
       "stream": "stdout",
       "text": [
        " \r",
        "[*************    34%                  ]  7638150 of 22195070 complete Elapsed: 20.6 minutes\t Remaining: 39.3 minutes"
       ]
      },
      {
       "output_type": "stream",
       "stream": "stdout",
       "text": [
        " \r",
        "[*************    34%                  ]  7648387 of 22195070 complete Elapsed: 20.6 minutes\t Remaining: 39.3 minutes"
       ]
      },
      {
       "output_type": "stream",
       "stream": "stdout",
       "text": [
        " \r",
        "[*************    35%                  ]  7658548 of 22195070 complete Elapsed: 20.7 minutes\t Remaining: 39.2 minutes"
       ]
      },
      {
       "output_type": "stream",
       "stream": "stdout",
       "text": [
        " \r",
        "[*************    35%                  ]  7668719 of 22195070 complete Elapsed: 20.7 minutes\t Remaining: 39.2 minutes"
       ]
      },
      {
       "output_type": "stream",
       "stream": "stdout",
       "text": [
        " \r",
        "[*************    35%                  ]  7678876 of 22195070 complete Elapsed: 20.7 minutes\t Remaining: 39.2 minutes"
       ]
      },
      {
       "output_type": "stream",
       "stream": "stdout",
       "text": [
        " \r",
        "[*************    35%                  ]  7689105 of 22195070 complete Elapsed: 20.7 minutes\t Remaining: 39.1 minutes"
       ]
      },
      {
       "output_type": "stream",
       "stream": "stdout",
       "text": [
        " \r",
        "[*************    35%                  ]  7699239 of 22195070 complete Elapsed: 20.8 minutes\t Remaining: 39.1 minutes"
       ]
      },
      {
       "output_type": "stream",
       "stream": "stdout",
       "text": [
        " \r",
        "[*************    35%                  ]  7709434 of 22195070 complete Elapsed: 20.8 minutes\t Remaining: 39.1 minutes"
       ]
      },
      {
       "output_type": "stream",
       "stream": "stdout",
       "text": [
        " \r",
        "[*************    35%                  ]  7719593 of 22195070 complete Elapsed: 20.8 minutes\t Remaining: 39.0 minutes"
       ]
      },
      {
       "output_type": "stream",
       "stream": "stdout",
       "text": [
        " \r",
        "[*************    35%                  ]  7729843 of 22195070 complete Elapsed: 20.8 minutes\t Remaining: 39.0 minutes"
       ]
      },
      {
       "output_type": "stream",
       "stream": "stdout",
       "text": [
        " \r",
        "[*************    35%                  ]  7740015 of 22195070 complete Elapsed: 20.9 minutes\t Remaining: 39.0 minutes"
       ]
      },
      {
       "output_type": "stream",
       "stream": "stdout",
       "text": [
        " \r",
        "[*************    35%                  ]  7750245 of 22195070 complete Elapsed: 20.9 minutes\t Remaining: 38.9 minutes"
       ]
      },
      {
       "output_type": "stream",
       "stream": "stdout",
       "text": [
        " \r",
        "[*************    35%                  ]  7757597 of 22195070 complete Elapsed: 21.3 minutes\t Remaining: 39.6 minutes"
       ]
      },
      {
       "output_type": "stream",
       "stream": "stdout",
       "text": [
        " \r",
        "[*************    35%                  ]  7762263 of 22195070 complete Elapsed: 21.3 minutes\t Remaining: 39.6 minutes"
       ]
      },
      {
       "output_type": "stream",
       "stream": "stdout",
       "text": [
        " \r",
        "[*************    35%                  ]  7772402 of 22195070 complete Elapsed: 21.3 minutes\t Remaining: 39.6 minutes"
       ]
      },
      {
       "output_type": "stream",
       "stream": "stdout",
       "text": [
        " \r",
        "[*************    35%                  ]  7782605 of 22195070 complete Elapsed: 21.4 minutes\t Remaining: 39.5 minutes"
       ]
      },
      {
       "output_type": "stream",
       "stream": "stdout",
       "text": [
        " \r",
        "[*************    35%                  ]  7792739 of 22195070 complete Elapsed: 21.4 minutes\t Remaining: 39.5 minutes"
       ]
      },
      {
       "output_type": "stream",
       "stream": "stdout",
       "text": [
        " \r",
        "[*************    35%                  ]  7802979 of 22195070 complete Elapsed: 21.4 minutes\t Remaining: 39.5 minutes"
       ]
      },
      {
       "output_type": "stream",
       "stream": "stdout",
       "text": [
        " \r",
        "[*************    35%                  ]  7813151 of 22195070 complete Elapsed: 21.4 minutes\t Remaining: 39.4 minutes"
       ]
      },
      {
       "output_type": "stream",
       "stream": "stdout",
       "text": [
        " \r",
        "[*************    35%                  ]  7823378 of 22195070 complete Elapsed: 21.5 minutes\t Remaining: 39.4 minutes"
       ]
      },
      {
       "output_type": "stream",
       "stream": "stdout",
       "text": [
        " \r",
        "[*************    35%                  ]  7833506 of 22195070 complete Elapsed: 21.5 minutes\t Remaining: 39.4 minutes"
       ]
      },
      {
       "output_type": "stream",
       "stream": "stdout",
       "text": [
        " \r",
        "[*************    35%                  ]  7843769 of 22195070 complete Elapsed: 21.5 minutes\t Remaining: 39.3 minutes"
       ]
      },
      {
       "output_type": "stream",
       "stream": "stdout",
       "text": [
        " \r",
        "[*************    35%                  ]  7853927 of 22195070 complete Elapsed: 21.5 minutes\t Remaining: 39.3 minutes"
       ]
      },
      {
       "output_type": "stream",
       "stream": "stdout",
       "text": [
        " \r",
        "[*************    35%                  ]  7864114 of 22195070 complete Elapsed: 21.6 minutes\t Remaining: 39.3 minutes"
       ]
      },
      {
       "output_type": "stream",
       "stream": "stdout",
       "text": [
        " \r",
        "[*************    35%                  ]  7874268 of 22195070 complete Elapsed: 21.6 minutes\t Remaining: 39.2 minutes"
       ]
      },
      {
       "output_type": "stream",
       "stream": "stdout",
       "text": [
        " \r",
        "[**************   36%                  ]  7884498 of 22195070 complete Elapsed: 21.6 minutes\t Remaining: 39.2 minutes"
       ]
      },
      {
       "output_type": "stream",
       "stream": "stdout",
       "text": [
        " \r",
        "[**************   36%                  ]  7894684 of 22195070 complete Elapsed: 21.6 minutes\t Remaining: 39.2 minutes"
       ]
      },
      {
       "output_type": "stream",
       "stream": "stdout",
       "text": [
        " \r",
        "[**************   36%                  ]  7904903 of 22195070 complete Elapsed: 21.7 minutes\t Remaining: 39.1 minutes"
       ]
      },
      {
       "output_type": "stream",
       "stream": "stdout",
       "text": [
        " \r",
        "[**************   36%                  ]  7915083 of 22195070 complete Elapsed: 21.7 minutes\t Remaining: 39.1 minutes"
       ]
      },
      {
       "output_type": "stream",
       "stream": "stdout",
       "text": [
        " \r",
        "[**************   36%                  ]  7925323 of 22195070 complete Elapsed: 21.7 minutes\t Remaining: 39.1 minutes"
       ]
      },
      {
       "output_type": "stream",
       "stream": "stdout",
       "text": [
        " \r",
        "[**************   36%                  ]  7935483 of 22195070 complete Elapsed: 21.7 minutes\t Remaining: 39.0 minutes"
       ]
      },
      {
       "output_type": "stream",
       "stream": "stdout",
       "text": [
        " \r",
        "[**************   36%                  ]  7945751 of 22195070 complete Elapsed: 21.8 minutes\t Remaining: 39.0 minutes"
       ]
      },
      {
       "output_type": "stream",
       "stream": "stdout",
       "text": [
        " \r",
        "[**************   36%                  ]  7955900 of 22195070 complete Elapsed: 21.8 minutes\t Remaining: 39.0 minutes"
       ]
      },
      {
       "output_type": "stream",
       "stream": "stdout",
       "text": [
        " \r",
        "[**************   36%                  ]  7966129 of 22195070 complete Elapsed: 21.8 minutes\t Remaining: 38.9 minutes"
       ]
      },
      {
       "output_type": "stream",
       "stream": "stdout",
       "text": [
        " \r",
        "[**************   36%                  ]  7976303 of 22195070 complete Elapsed: 21.8 minutes\t Remaining: 38.9 minutes"
       ]
      },
      {
       "output_type": "stream",
       "stream": "stdout",
       "text": [
        " \r",
        "[**************   36%                  ]  7986616 of 22195070 complete Elapsed: 21.9 minutes\t Remaining: 38.9 minutes"
       ]
      },
      {
       "output_type": "stream",
       "stream": "stdout",
       "text": [
        " \r",
        "[**************   36%                  ]  7996785 of 22195070 complete Elapsed: 21.9 minutes\t Remaining: 38.8 minutes"
       ]
      },
      {
       "output_type": "stream",
       "stream": "stdout",
       "text": [
        " \r",
        "[**************   36%                  ]  8007003 of 22195070 complete Elapsed: 21.9 minutes\t Remaining: 38.8 minutes"
       ]
      },
      {
       "output_type": "stream",
       "stream": "stdout",
       "text": [
        " \r",
        "[**************   36%                  ]  8017201 of 22195070 complete Elapsed: 21.9 minutes\t Remaining: 38.8 minutes"
       ]
      },
      {
       "output_type": "stream",
       "stream": "stdout",
       "text": [
        " \r",
        "[**************   36%                  ]  8027438 of 22195070 complete Elapsed: 22.0 minutes\t Remaining: 38.7 minutes"
       ]
      },
      {
       "output_type": "stream",
       "stream": "stdout",
       "text": [
        " \r",
        "[**************   36%                  ]  8037611 of 22195070 complete Elapsed: 22.0 minutes\t Remaining: 38.7 minutes"
       ]
      },
      {
       "output_type": "stream",
       "stream": "stdout",
       "text": [
        " \r",
        "[**************   36%                  ]  8047926 of 22195070 complete Elapsed: 22.0 minutes\t Remaining: 38.7 minutes"
       ]
      },
      {
       "output_type": "stream",
       "stream": "stdout",
       "text": [
        " \r",
        "[**************   36%                  ]  8058096 of 22195070 complete Elapsed: 22.0 minutes\t Remaining: 38.6 minutes"
       ]
      },
      {
       "output_type": "stream",
       "stream": "stdout",
       "text": [
        " \r",
        "[**************   36%                  ]  8068329 of 22195070 complete Elapsed: 22.1 minutes\t Remaining: 38.6 minutes"
       ]
      },
      {
       "output_type": "stream",
       "stream": "stdout",
       "text": [
        " \r",
        "[**************   36%                  ]  8078468 of 22195070 complete Elapsed: 22.1 minutes\t Remaining: 38.6 minutes"
       ]
      },
      {
       "output_type": "stream",
       "stream": "stdout",
       "text": [
        " \r",
        "[**************   36%                  ]  8088711 of 22195070 complete Elapsed: 22.1 minutes\t Remaining: 38.5 minutes"
       ]
      },
      {
       "output_type": "stream",
       "stream": "stdout",
       "text": [
        " \r",
        "[**************   36%                  ]  8098897 of 22195070 complete Elapsed: 22.1 minutes\t Remaining: 38.5 minutes"
       ]
      },
      {
       "output_type": "stream",
       "stream": "stdout",
       "text": [
        " \r",
        "[**************   37%                  ]  8109124 of 22195070 complete Elapsed: 22.2 minutes\t Remaining: 38.5 minutes"
       ]
      },
      {
       "output_type": "stream",
       "stream": "stdout",
       "text": [
        " \r",
        "[**************   37%                  ]  8119277 of 22195070 complete Elapsed: 22.2 minutes\t Remaining: 38.4 minutes"
       ]
      },
      {
       "output_type": "stream",
       "stream": "stdout",
       "text": [
        " \r",
        "[**************   37%                  ]  8129465 of 22195070 complete Elapsed: 22.2 minutes\t Remaining: 38.4 minutes"
       ]
      },
      {
       "output_type": "stream",
       "stream": "stdout",
       "text": [
        " \r",
        "[**************   37%                  ]  8139653 of 22195070 complete Elapsed: 22.2 minutes\t Remaining: 38.4 minutes"
       ]
      },
      {
       "output_type": "stream",
       "stream": "stdout",
       "text": [
        " \r",
        "[**************   37%                  ]  8149905 of 22195070 complete Elapsed: 22.3 minutes\t Remaining: 38.3 minutes"
       ]
      },
      {
       "output_type": "stream",
       "stream": "stdout",
       "text": [
        " \r",
        "[**************   37%                  ]  8160081 of 22195070 complete Elapsed: 22.3 minutes\t Remaining: 38.3 minutes"
       ]
      },
      {
       "output_type": "stream",
       "stream": "stdout",
       "text": [
        " \r",
        "[**************   37%                  ]  8170340 of 22195070 complete Elapsed: 22.3 minutes\t Remaining: 38.3 minutes"
       ]
      },
      {
       "output_type": "stream",
       "stream": "stdout",
       "text": [
        " \r",
        "[**************   37%                  ]  8180502 of 22195070 complete Elapsed: 22.3 minutes\t Remaining: 38.3 minutes"
       ]
      },
      {
       "output_type": "stream",
       "stream": "stdout",
       "text": [
        " \r",
        "[**************   37%                  ]  8190806 of 22195070 complete Elapsed: 22.4 minutes\t Remaining: 38.2 minutes"
       ]
      },
      {
       "output_type": "stream",
       "stream": "stdout",
       "text": [
        " \r",
        "[**************   37%                  ]  8201026 of 22195070 complete Elapsed: 22.4 minutes\t Remaining: 38.2 minutes"
       ]
      },
      {
       "output_type": "stream",
       "stream": "stdout",
       "text": [
        " \r",
        "[**************   37%                  ]  8211221 of 22195070 complete Elapsed: 22.4 minutes\t Remaining: 38.2 minutes"
       ]
      },
      {
       "output_type": "stream",
       "stream": "stdout",
       "text": [
        " \r",
        "[**************   37%                  ]  8221393 of 22195070 complete Elapsed: 22.4 minutes\t Remaining: 38.1 minutes"
       ]
      },
      {
       "output_type": "stream",
       "stream": "stdout",
       "text": [
        " \r",
        "[**************   37%                  ]  8231662 of 22195070 complete Elapsed: 22.5 minutes\t Remaining: 38.1 minutes"
       ]
      },
      {
       "output_type": "stream",
       "stream": "stdout",
       "text": [
        " \r",
        "[**************   37%                  ]  8241838 of 22195070 complete Elapsed: 22.5 minutes\t Remaining: 38.1 minutes"
       ]
      },
      {
       "output_type": "stream",
       "stream": "stdout",
       "text": [
        " \r",
        "[**************   37%                  ]  8252093 of 22195070 complete Elapsed: 22.5 minutes\t Remaining: 38.0 minutes"
       ]
      },
      {
       "output_type": "stream",
       "stream": "stdout",
       "text": [
        " \r",
        "[**************   37%                  ]  8262302 of 22195070 complete Elapsed: 22.5 minutes\t Remaining: 38.0 minutes"
       ]
      },
      {
       "output_type": "stream",
       "stream": "stdout",
       "text": [
        " \r",
        "[**************   37%                  ]  8272537 of 22195070 complete Elapsed: 22.6 minutes\t Remaining: 38.0 minutes"
       ]
      },
      {
       "output_type": "stream",
       "stream": "stdout",
       "text": [
        " \r",
        "[**************   37%                  ]  8282733 of 22195070 complete Elapsed: 22.6 minutes\t Remaining: 37.9 minutes"
       ]
      },
      {
       "output_type": "stream",
       "stream": "stdout",
       "text": [
        " \r",
        "[**************   37%                  ]  8292966 of 22195070 complete Elapsed: 22.6 minutes\t Remaining: 37.9 minutes"
       ]
      },
      {
       "output_type": "stream",
       "stream": "stdout",
       "text": [
        " \r",
        "[**************   37%                  ]  8303209 of 22195070 complete Elapsed: 22.6 minutes\t Remaining: 37.9 minutes"
       ]
      },
      {
       "output_type": "stream",
       "stream": "stdout",
       "text": [
        " \r",
        "[**************   37%                  ]  8313518 of 22195070 complete Elapsed: 22.7 minutes\t Remaining: 37.8 minutes"
       ]
      },
      {
       "output_type": "stream",
       "stream": "stdout",
       "text": [
        " \r",
        "[**************   38%                  ]  8323710 of 22195070 complete Elapsed: 22.7 minutes\t Remaining: 37.8 minutes"
       ]
      },
      {
       "output_type": "stream",
       "stream": "stdout",
       "text": [
        " \r",
        "[**************   38%                  ]  8333972 of 22195070 complete Elapsed: 22.7 minutes\t Remaining: 37.8 minutes"
       ]
      },
      {
       "output_type": "stream",
       "stream": "stdout",
       "text": [
        " \r",
        "[**************   38%                  ]  8344131 of 22195070 complete Elapsed: 22.7 minutes\t Remaining: 37.7 minutes"
       ]
      },
      {
       "output_type": "stream",
       "stream": "stdout",
       "text": [
        " \r",
        "[**************   38%                  ]  8354394 of 22195070 complete Elapsed: 22.8 minutes\t Remaining: 37.7 minutes"
       ]
      },
      {
       "output_type": "stream",
       "stream": "stdout",
       "text": [
        " \r",
        "[**************   38%                  ]  8364563 of 22195070 complete Elapsed: 22.8 minutes\t Remaining: 37.7 minutes"
       ]
      },
      {
       "output_type": "stream",
       "stream": "stdout",
       "text": [
        " \r",
        "[**************   38%                  ]  8374793 of 22195070 complete Elapsed: 22.8 minutes\t Remaining: 37.6 minutes"
       ]
      },
      {
       "output_type": "stream",
       "stream": "stdout",
       "text": [
        " \r",
        "[**************   38%                  ]  8384989 of 22195070 complete Elapsed: 22.8 minutes\t Remaining: 37.6 minutes"
       ]
      },
      {
       "output_type": "stream",
       "stream": "stdout",
       "text": [
        " \r",
        "[**************   38%                  ]  8395254 of 22195070 complete Elapsed: 22.9 minutes\t Remaining: 37.6 minutes"
       ]
      },
      {
       "output_type": "stream",
       "stream": "stdout",
       "text": [
        " \r",
        "[**************   38%                  ]  8405447 of 22195070 complete Elapsed: 22.9 minutes\t Remaining: 37.5 minutes"
       ]
      },
      {
       "output_type": "stream",
       "stream": "stdout",
       "text": [
        " \r",
        "[**************   38%                  ]  8415699 of 22195070 complete Elapsed: 22.9 minutes\t Remaining: 37.5 minutes"
       ]
      },
      {
       "output_type": "stream",
       "stream": "stdout",
       "text": [
        " \r",
        "[**************   38%                  ]  8425899 of 22195070 complete Elapsed: 22.9 minutes\t Remaining: 37.5 minutes"
       ]
      },
      {
       "output_type": "stream",
       "stream": "stdout",
       "text": [
        " \r",
        "[**************   38%                  ]  8436168 of 22195070 complete Elapsed: 23.0 minutes\t Remaining: 37.4 minutes"
       ]
      },
      {
       "output_type": "stream",
       "stream": "stdout",
       "text": [
        " \r",
        "[**************   38%                  ]  8446332 of 22195070 complete Elapsed: 23.0 minutes\t Remaining: 37.4 minutes"
       ]
      },
      {
       "output_type": "stream",
       "stream": "stdout",
       "text": [
        " \r",
        "[**************   38%                  ]  8456583 of 22195070 complete Elapsed: 23.0 minutes\t Remaining: 37.4 minutes"
       ]
      },
      {
       "output_type": "stream",
       "stream": "stdout",
       "text": [
        " \r",
        "[**************   38%                  ]  8466775 of 22195070 complete Elapsed: 23.0 minutes\t Remaining: 37.3 minutes"
       ]
      },
      {
       "output_type": "stream",
       "stream": "stdout",
       "text": [
        " \r",
        "[**************   38%                  ]  8477085 of 22195070 complete Elapsed: 23.1 minutes\t Remaining: 37.3 minutes"
       ]
      },
      {
       "output_type": "stream",
       "stream": "stdout",
       "text": [
        " \r",
        "[**************   38%                  ]  8487245 of 22195070 complete Elapsed: 23.1 minutes\t Remaining: 37.3 minutes"
       ]
      },
      {
       "output_type": "stream",
       "stream": "stdout",
       "text": [
        " \r",
        "[**************   38%                  ]  8497531 of 22195070 complete Elapsed: 23.1 minutes\t Remaining: 37.2 minutes"
       ]
      },
      {
       "output_type": "stream",
       "stream": "stdout",
       "text": [
        " \r",
        "[**************   38%                  ]  8507700 of 22195070 complete Elapsed: 23.1 minutes\t Remaining: 37.2 minutes"
       ]
      },
      {
       "output_type": "stream",
       "stream": "stdout",
       "text": [
        " \r",
        "[**************   38%                  ]  8518027 of 22195070 complete Elapsed: 23.2 minutes\t Remaining: 37.2 minutes"
       ]
      },
      {
       "output_type": "stream",
       "stream": "stdout",
       "text": [
        " \r",
        "[**************   38%                  ]  8528247 of 22195070 complete Elapsed: 23.2 minutes\t Remaining: 37.1 minutes"
       ]
      },
      {
       "output_type": "stream",
       "stream": "stdout",
       "text": [
        " \r",
        "[**************   38%                  ]  8538532 of 22195070 complete Elapsed: 23.2 minutes\t Remaining: 37.1 minutes"
       ]
      },
      {
       "output_type": "stream",
       "stream": "stdout",
       "text": [
        " \r",
        "[***************  39%                  ]  8548741 of 22195070 complete Elapsed: 23.2 minutes\t Remaining: 37.1 minutes"
       ]
      },
      {
       "output_type": "stream",
       "stream": "stdout",
       "text": [
        " \r",
        "[***************  39%                  ]  8559024 of 22195070 complete Elapsed: 23.3 minutes\t Remaining: 37.0 minutes"
       ]
      },
      {
       "output_type": "stream",
       "stream": "stdout",
       "text": [
        " \r",
        "[***************  39%                  ]  8569260 of 22195070 complete Elapsed: 23.3 minutes\t Remaining: 37.0 minutes"
       ]
      },
      {
       "output_type": "stream",
       "stream": "stdout",
       "text": [
        " \r",
        "[***************  39%                  ]  8579573 of 22195070 complete Elapsed: 23.3 minutes\t Remaining: 37.0 minutes"
       ]
      },
      {
       "output_type": "stream",
       "stream": "stdout",
       "text": [
        " \r",
        "[***************  39%                  ]  8589793 of 22195070 complete Elapsed: 23.3 minutes\t Remaining: 36.9 minutes"
       ]
      },
      {
       "output_type": "stream",
       "stream": "stdout",
       "text": [
        " \r",
        "[***************  39%                  ]  8600069 of 22195070 complete Elapsed: 23.4 minutes\t Remaining: 36.9 minutes"
       ]
      },
      {
       "output_type": "stream",
       "stream": "stdout",
       "text": [
        " \r",
        "[***************  39%                  ]  8610290 of 22195070 complete Elapsed: 23.4 minutes\t Remaining: 36.9 minutes"
       ]
      },
      {
       "output_type": "stream",
       "stream": "stdout",
       "text": [
        " \r",
        "[***************  39%                  ]  8620519 of 22195070 complete Elapsed: 23.4 minutes\t Remaining: 36.9 minutes"
       ]
      },
      {
       "output_type": "stream",
       "stream": "stdout",
       "text": [
        " \r",
        "[***************  39%                  ]  8630724 of 22195070 complete Elapsed: 23.4 minutes\t Remaining: 36.8 minutes"
       ]
      },
      {
       "output_type": "stream",
       "stream": "stdout",
       "text": [
        " \r",
        "[***************  39%                  ]  8641012 of 22195070 complete Elapsed: 23.5 minutes\t Remaining: 36.8 minutes"
       ]
      },
      {
       "output_type": "stream",
       "stream": "stdout",
       "text": [
        " \r",
        "[***************  39%                  ]  8651176 of 22195070 complete Elapsed: 23.5 minutes\t Remaining: 36.8 minutes"
       ]
      },
      {
       "output_type": "stream",
       "stream": "stdout",
       "text": [
        " \r",
        "[***************  39%                  ]  8661418 of 22195070 complete Elapsed: 23.5 minutes\t Remaining: 36.7 minutes"
       ]
      },
      {
       "output_type": "stream",
       "stream": "stdout",
       "text": [
        " \r",
        "[***************  39%                  ]  8671597 of 22195070 complete Elapsed: 23.5 minutes\t Remaining: 36.7 minutes"
       ]
      },
      {
       "output_type": "stream",
       "stream": "stdout",
       "text": [
        " \r",
        "[***************  39%                  ]  8681844 of 22195070 complete Elapsed: 23.6 minutes\t Remaining: 36.7 minutes"
       ]
      },
      {
       "output_type": "stream",
       "stream": "stdout",
       "text": [
        " \r",
        "[***************  39%                  ]  8692122 of 22195070 complete Elapsed: 23.6 minutes\t Remaining: 36.6 minutes"
       ]
      },
      {
       "output_type": "stream",
       "stream": "stdout",
       "text": [
        " \r",
        "[***************  39%                  ]  8702361 of 22195070 complete Elapsed: 23.6 minutes\t Remaining: 36.6 minutes"
       ]
      },
      {
       "output_type": "stream",
       "stream": "stdout",
       "text": [
        " \r",
        "[***************  39%                  ]  8712530 of 22195070 complete Elapsed: 23.6 minutes\t Remaining: 36.6 minutes"
       ]
      },
      {
       "output_type": "stream",
       "stream": "stdout",
       "text": [
        " \r",
        "[***************  39%                  ]  8722809 of 22195070 complete Elapsed: 23.7 minutes\t Remaining: 36.5 minutes"
       ]
      },
      {
       "output_type": "stream",
       "stream": "stdout",
       "text": [
        " \r",
        "[***************  39%                  ]  8733016 of 22195070 complete Elapsed: 23.7 minutes\t Remaining: 36.5 minutes"
       ]
      },
      {
       "output_type": "stream",
       "stream": "stdout",
       "text": [
        " \r",
        "[***************  39%                  ]  8743258 of 22195070 complete Elapsed: 23.7 minutes\t Remaining: 36.5 minutes"
       ]
      },
      {
       "output_type": "stream",
       "stream": "stdout",
       "text": [
        " \r",
        "[***************  39%                  ]  8753452 of 22195070 complete Elapsed: 23.7 minutes\t Remaining: 36.4 minutes"
       ]
      },
      {
       "output_type": "stream",
       "stream": "stdout",
       "text": [
        " \r",
        "[***************  39%                  ]  8763745 of 22195070 complete Elapsed: 23.8 minutes\t Remaining: 36.4 minutes"
       ]
      },
      {
       "output_type": "stream",
       "stream": "stdout",
       "text": [
        " \r",
        "[***************  40%                  ]  8773925 of 22195070 complete Elapsed: 23.8 minutes\t Remaining: 36.4 minutes"
       ]
      },
      {
       "output_type": "stream",
       "stream": "stdout",
       "text": [
        " \r",
        "[***************  40%                  ]  8784149 of 22195070 complete Elapsed: 23.8 minutes\t Remaining: 36.3 minutes"
       ]
      },
      {
       "output_type": "stream",
       "stream": "stdout",
       "text": [
        " \r",
        "[***************  40%                  ]  8794318 of 22195070 complete Elapsed: 23.8 minutes\t Remaining: 36.3 minutes"
       ]
      },
      {
       "output_type": "stream",
       "stream": "stdout",
       "text": [
        " \r",
        "[***************  40%                  ]  8804583 of 22195070 complete Elapsed: 23.9 minutes\t Remaining: 36.3 minutes"
       ]
      },
      {
       "output_type": "stream",
       "stream": "stdout",
       "text": [
        " \r",
        "[***************  40%                  ]  8814761 of 22195070 complete Elapsed: 23.9 minutes\t Remaining: 36.2 minutes"
       ]
      },
      {
       "output_type": "stream",
       "stream": "stdout",
       "text": [
        " \r",
        "[***************  40%                  ]  8825055 of 22195070 complete Elapsed: 23.9 minutes\t Remaining: 36.2 minutes"
       ]
      },
      {
       "output_type": "stream",
       "stream": "stdout",
       "text": [
        " \r",
        "[***************  40%                  ]  8835324 of 22195070 complete Elapsed: 23.9 minutes\t Remaining: 36.2 minutes"
       ]
      },
      {
       "output_type": "stream",
       "stream": "stdout",
       "text": [
        " \r",
        "[***************  40%                  ]  8845579 of 22195070 complete Elapsed: 24.0 minutes\t Remaining: 36.1 minutes"
       ]
      },
      {
       "output_type": "stream",
       "stream": "stdout",
       "text": [
        " \r",
        "[***************  40%                  ]  8855834 of 22195070 complete Elapsed: 24.0 minutes\t Remaining: 36.1 minutes"
       ]
      },
      {
       "output_type": "stream",
       "stream": "stdout",
       "text": [
        " \r",
        "[***************  40%                  ]  8866117 of 22195070 complete Elapsed: 24.0 minutes\t Remaining: 36.1 minutes"
       ]
      },
      {
       "output_type": "stream",
       "stream": "stdout",
       "text": [
        " \r",
        "[***************  40%                  ]  8876413 of 22195070 complete Elapsed: 24.0 minutes\t Remaining: 36.1 minutes"
       ]
      },
      {
       "output_type": "stream",
       "stream": "stdout",
       "text": [
        " \r",
        "[***************  40%                  ]  8886665 of 22195070 complete Elapsed: 24.1 minutes\t Remaining: 36.0 minutes"
       ]
      },
      {
       "output_type": "stream",
       "stream": "stdout",
       "text": [
        " \r",
        "[***************  40%                  ]  8896902 of 22195070 complete Elapsed: 24.1 minutes\t Remaining: 36.0 minutes"
       ]
      },
      {
       "output_type": "stream",
       "stream": "stdout",
       "text": [
        " \r",
        "[***************  40%                  ]  8907122 of 22195070 complete Elapsed: 24.1 minutes\t Remaining: 36.0 minutes"
       ]
      },
      {
       "output_type": "stream",
       "stream": "stdout",
       "text": [
        " \r",
        "[***************  40%                  ]  8917356 of 22195070 complete Elapsed: 24.1 minutes\t Remaining: 35.9 minutes"
       ]
      },
      {
       "output_type": "stream",
       "stream": "stdout",
       "text": [
        " \r",
        "[***************  40%                  ]  8927615 of 22195070 complete Elapsed: 24.2 minutes\t Remaining: 35.9 minutes"
       ]
      },
      {
       "output_type": "stream",
       "stream": "stdout",
       "text": [
        " \r",
        "[***************  40%                  ]  8937785 of 22195070 complete Elapsed: 24.2 minutes\t Remaining: 35.9 minutes"
       ]
      },
      {
       "output_type": "stream",
       "stream": "stdout",
       "text": [
        " \r",
        "[***************  40%                  ]  8948050 of 22195070 complete Elapsed: 24.2 minutes\t Remaining: 35.8 minutes"
       ]
      },
      {
       "output_type": "stream",
       "stream": "stdout",
       "text": [
        " \r",
        "[***************  40%                  ]  8958296 of 22195070 complete Elapsed: 24.2 minutes\t Remaining: 35.8 minutes"
       ]
      },
      {
       "output_type": "stream",
       "stream": "stdout",
       "text": [
        " \r",
        "[***************  40%                  ]  8968592 of 22195070 complete Elapsed: 24.3 minutes\t Remaining: 35.8 minutes"
       ]
      },
      {
       "output_type": "stream",
       "stream": "stdout",
       "text": [
        " \r",
        "[***************  40%                  ]  8978790 of 22195070 complete Elapsed: 24.3 minutes\t Remaining: 35.7 minutes"
       ]
      },
      {
       "output_type": "stream",
       "stream": "stdout",
       "text": [
        " \r",
        "[**************** 41%                  ]  8989007 of 22195070 complete Elapsed: 24.3 minutes\t Remaining: 35.7 minutes"
       ]
      },
      {
       "output_type": "stream",
       "stream": "stdout",
       "text": [
        " \r",
        "[**************** 41%                  ]  8999202 of 22195070 complete Elapsed: 24.3 minutes\t Remaining: 35.7 minutes"
       ]
      },
      {
       "output_type": "stream",
       "stream": "stdout",
       "text": [
        " \r",
        "[**************** 41%                  ]  9009443 of 22195070 complete Elapsed: 24.4 minutes\t Remaining: 35.6 minutes"
       ]
      },
      {
       "output_type": "stream",
       "stream": "stdout",
       "text": [
        " \r",
        "[**************** 41%                  ]  9019624 of 22195070 complete Elapsed: 24.4 minutes\t Remaining: 35.6 minutes"
       ]
      },
      {
       "output_type": "stream",
       "stream": "stdout",
       "text": [
        " \r",
        "[**************** 41%                  ]  9029918 of 22195070 complete Elapsed: 24.4 minutes\t Remaining: 35.6 minutes"
       ]
      },
      {
       "output_type": "stream",
       "stream": "stdout",
       "text": [
        " \r",
        "[**************** 41%                  ]  9040139 of 22195070 complete Elapsed: 24.4 minutes\t Remaining: 35.5 minutes"
       ]
      },
      {
       "output_type": "stream",
       "stream": "stdout",
       "text": [
        " \r",
        "[**************** 41%                  ]  9050392 of 22195070 complete Elapsed: 24.5 minutes\t Remaining: 35.5 minutes"
       ]
      },
      {
       "output_type": "stream",
       "stream": "stdout",
       "text": [
        " \r",
        "[**************** 41%                  ]  9060567 of 22195070 complete Elapsed: 24.5 minutes\t Remaining: 35.5 minutes"
       ]
      },
      {
       "output_type": "stream",
       "stream": "stdout",
       "text": [
        " \r",
        "[**************** 41%                  ]  9070808 of 22195070 complete Elapsed: 24.5 minutes\t Remaining: 35.5 minutes"
       ]
      },
      {
       "output_type": "stream",
       "stream": "stdout",
       "text": [
        " \r",
        "[**************** 41%                  ]  9080969 of 22195070 complete Elapsed: 24.5 minutes\t Remaining: 35.4 minutes"
       ]
      },
      {
       "output_type": "stream",
       "stream": "stdout",
       "text": [
        " \r",
        "[**************** 41%                  ]  9091234 of 22195070 complete Elapsed: 24.6 minutes\t Remaining: 35.4 minutes"
       ]
      },
      {
       "output_type": "stream",
       "stream": "stdout",
       "text": [
        " \r",
        "[**************** 41%                  ]  9096565 of 22195070 complete Elapsed: 24.9 minutes\t Remaining: 35.9 minutes"
       ]
      },
      {
       "output_type": "stream",
       "stream": "stdout",
       "text": [
        " \r",
        "[**************** 41%                  ]  9101298 of 22195070 complete Elapsed: 24.9 minutes\t Remaining: 35.9 minutes"
       ]
      },
      {
       "output_type": "stream",
       "stream": "stdout",
       "text": [
        " \r",
        "[**************** 41%                  ]  9111448 of 22195070 complete Elapsed: 25.0 minutes\t Remaining: 35.8 minutes"
       ]
      },
      {
       "output_type": "stream",
       "stream": "stdout",
       "text": [
        " \r",
        "[**************** 41%                  ]  9121708 of 22195070 complete Elapsed: 25.0 minutes\t Remaining: 35.8 minutes"
       ]
      },
      {
       "output_type": "stream",
       "stream": "stdout",
       "text": [
        " \r",
        "[**************** 41%                  ]  9131872 of 22195070 complete Elapsed: 25.0 minutes\t Remaining: 35.8 minutes"
       ]
      },
      {
       "output_type": "stream",
       "stream": "stdout",
       "text": [
        " \r",
        "[**************** 41%                  ]  9142114 of 22195070 complete Elapsed: 25.0 minutes\t Remaining: 35.8 minutes"
       ]
      },
      {
       "output_type": "stream",
       "stream": "stdout",
       "text": [
        " \r",
        "[**************** 41%                  ]  9152294 of 22195070 complete Elapsed: 25.1 minutes\t Remaining: 35.7 minutes"
       ]
      },
      {
       "output_type": "stream",
       "stream": "stdout",
       "text": [
        " \r",
        "[**************** 41%                  ]  9162543 of 22195070 complete Elapsed: 25.1 minutes\t Remaining: 35.7 minutes"
       ]
      },
      {
       "output_type": "stream",
       "stream": "stdout",
       "text": [
        " \r",
        "[**************** 41%                  ]  9172740 of 22195070 complete Elapsed: 25.1 minutes\t Remaining: 35.7 minutes"
       ]
      },
      {
       "output_type": "stream",
       "stream": "stdout",
       "text": [
        " \r",
        "[**************** 41%                  ]  9182966 of 22195070 complete Elapsed: 25.1 minutes\t Remaining: 35.6 minutes"
       ]
      },
      {
       "output_type": "stream",
       "stream": "stdout",
       "text": [
        " \r",
        "[**************** 41%                  ]  9193150 of 22195070 complete Elapsed: 25.2 minutes\t Remaining: 35.6 minutes"
       ]
      },
      {
       "output_type": "stream",
       "stream": "stdout",
       "text": [
        " \r",
        "[**************** 41%                  ]  9203415 of 22195070 complete Elapsed: 25.2 minutes\t Remaining: 35.6 minutes"
       ]
      },
      {
       "output_type": "stream",
       "stream": "stdout",
       "text": [
        " \r",
        "[**************** 42%                  ]  9213617 of 22195070 complete Elapsed: 25.2 minutes\t Remaining: 35.5 minutes"
       ]
      },
      {
       "output_type": "stream",
       "stream": "stdout",
       "text": [
        " \r",
        "[**************** 42%                  ]  9223882 of 22195070 complete Elapsed: 25.2 minutes\t Remaining: 35.5 minutes"
       ]
      },
      {
       "output_type": "stream",
       "stream": "stdout",
       "text": [
        " \r",
        "[**************** 42%                  ]  9234085 of 22195070 complete Elapsed: 25.3 minutes\t Remaining: 35.5 minutes"
       ]
      },
      {
       "output_type": "stream",
       "stream": "stdout",
       "text": [
        " \r",
        "[**************** 42%                  ]  9244297 of 22195070 complete Elapsed: 25.3 minutes\t Remaining: 35.4 minutes"
       ]
      },
      {
       "output_type": "stream",
       "stream": "stdout",
       "text": [
        " \r",
        "[**************** 42%                  ]  9254501 of 22195070 complete Elapsed: 25.3 minutes\t Remaining: 35.4 minutes"
       ]
      },
      {
       "output_type": "stream",
       "stream": "stdout",
       "text": [
        " \r",
        "[**************** 42%                  ]  9264741 of 22195070 complete Elapsed: 25.3 minutes\t Remaining: 35.4 minutes"
       ]
      },
      {
       "output_type": "stream",
       "stream": "stdout",
       "text": [
        " \r",
        "[**************** 42%                  ]  9274915 of 22195070 complete Elapsed: 25.4 minutes\t Remaining: 35.3 minutes"
       ]
      },
      {
       "output_type": "stream",
       "stream": "stdout",
       "text": [
        " \r",
        "[**************** 42%                  ]  9285168 of 22195070 complete Elapsed: 25.4 minutes\t Remaining: 35.3 minutes"
       ]
      },
      {
       "output_type": "stream",
       "stream": "stdout",
       "text": [
        " \r",
        "[**************** 42%                  ]  9295349 of 22195070 complete Elapsed: 25.4 minutes\t Remaining: 35.3 minutes"
       ]
      },
      {
       "output_type": "stream",
       "stream": "stdout",
       "text": [
        " \r",
        "[**************** 42%                  ]  9305592 of 22195070 complete Elapsed: 25.4 minutes\t Remaining: 35.2 minutes"
       ]
      },
      {
       "output_type": "stream",
       "stream": "stdout",
       "text": [
        " \r",
        "[**************** 42%                  ]  9315760 of 22195070 complete Elapsed: 25.5 minutes\t Remaining: 35.2 minutes"
       ]
      },
      {
       "output_type": "stream",
       "stream": "stdout",
       "text": [
        " \r",
        "[**************** 42%                  ]  9325976 of 22195070 complete Elapsed: 25.5 minutes\t Remaining: 35.2 minutes"
       ]
      },
      {
       "output_type": "stream",
       "stream": "stdout",
       "text": [
        " \r",
        "[**************** 42%                  ]  9336130 of 22195070 complete Elapsed: 25.5 minutes\t Remaining: 35.1 minutes"
       ]
      },
      {
       "output_type": "stream",
       "stream": "stdout",
       "text": [
        " \r",
        "[**************** 42%                  ]  9346342 of 22195070 complete Elapsed: 25.5 minutes\t Remaining: 35.1 minutes"
       ]
      },
      {
       "output_type": "stream",
       "stream": "stdout",
       "text": [
        " \r",
        "[**************** 42%                  ]  9356503 of 22195070 complete Elapsed: 25.6 minutes\t Remaining: 35.1 minutes"
       ]
      },
      {
       "output_type": "stream",
       "stream": "stdout",
       "text": [
        " \r",
        "[**************** 42%                  ]  9366721 of 22195070 complete Elapsed: 25.6 minutes\t Remaining: 35.0 minutes"
       ]
      },
      {
       "output_type": "stream",
       "stream": "stdout",
       "text": [
        " \r",
        "[**************** 42%                  ]  9376900 of 22195070 complete Elapsed: 25.6 minutes\t Remaining: 35.0 minutes"
       ]
      },
      {
       "output_type": "stream",
       "stream": "stdout",
       "text": [
        " \r",
        "[**************** 42%                  ]  9387102 of 22195070 complete Elapsed: 25.6 minutes\t Remaining: 35.0 minutes"
       ]
      },
      {
       "output_type": "stream",
       "stream": "stdout",
       "text": [
        " \r",
        "[**************** 42%                  ]  9397290 of 22195070 complete Elapsed: 25.7 minutes\t Remaining: 35.0 minutes"
       ]
      },
      {
       "output_type": "stream",
       "stream": "stdout",
       "text": [
        " \r",
        "[**************** 42%                  ]  9407518 of 22195070 complete Elapsed: 25.7 minutes\t Remaining: 34.9 minutes"
       ]
      },
      {
       "output_type": "stream",
       "stream": "stdout",
       "text": [
        " \r",
        "[**************** 42%                  ]  9417685 of 22195070 complete Elapsed: 25.7 minutes\t Remaining: 34.9 minutes"
       ]
      },
      {
       "output_type": "stream",
       "stream": "stdout",
       "text": [
        " \r",
        "[**************** 42%                  ]  9427935 of 22195070 complete Elapsed: 25.7 minutes\t Remaining: 34.9 minutes"
       ]
      },
      {
       "output_type": "stream",
       "stream": "stdout",
       "text": [
        " \r",
        "[**************** 43%                  ]  9438101 of 22195070 complete Elapsed: 25.8 minutes\t Remaining: 34.8 minutes"
       ]
      },
      {
       "output_type": "stream",
       "stream": "stdout",
       "text": [
        " \r",
        "[**************** 43%                  ]  9448336 of 22195070 complete Elapsed: 25.8 minutes\t Remaining: 34.8 minutes"
       ]
      },
      {
       "output_type": "stream",
       "stream": "stdout",
       "text": [
        " \r",
        "[**************** 43%                  ]  9458535 of 22195070 complete Elapsed: 25.8 minutes\t Remaining: 34.8 minutes"
       ]
      },
      {
       "output_type": "stream",
       "stream": "stdout",
       "text": [
        " \r",
        "[**************** 43%                  ]  9468780 of 22195070 complete Elapsed: 25.8 minutes\t Remaining: 34.7 minutes"
       ]
      },
      {
       "output_type": "stream",
       "stream": "stdout",
       "text": [
        " \r",
        "[**************** 43%                  ]  9478973 of 22195070 complete Elapsed: 25.9 minutes\t Remaining: 34.7 minutes"
       ]
      },
      {
       "output_type": "stream",
       "stream": "stdout",
       "text": [
        " \r",
        "[**************** 43%                  ]  9489191 of 22195070 complete Elapsed: 25.9 minutes\t Remaining: 34.7 minutes"
       ]
      },
      {
       "output_type": "stream",
       "stream": "stdout",
       "text": [
        " \r",
        "[**************** 43%                  ]  9499372 of 22195070 complete Elapsed: 25.9 minutes\t Remaining: 34.6 minutes"
       ]
      },
      {
       "output_type": "stream",
       "stream": "stdout",
       "text": [
        " \r",
        "[**************** 43%                  ]  9509544 of 22195070 complete Elapsed: 25.9 minutes\t Remaining: 34.6 minutes"
       ]
      },
      {
       "output_type": "stream",
       "stream": "stdout",
       "text": [
        " \r",
        "[**************** 43%                  ]  9519716 of 22195070 complete Elapsed: 26.0 minutes\t Remaining: 34.6 minutes"
       ]
      },
      {
       "output_type": "stream",
       "stream": "stdout",
       "text": [
        " \r",
        "[**************** 43%                  ]  9529925 of 22195070 complete Elapsed: 26.0 minutes\t Remaining: 34.5 minutes"
       ]
      },
      {
       "output_type": "stream",
       "stream": "stdout",
       "text": [
        " \r",
        "[**************** 43%                  ]  9540095 of 22195070 complete Elapsed: 26.0 minutes\t Remaining: 34.5 minutes"
       ]
      },
      {
       "output_type": "stream",
       "stream": "stdout",
       "text": [
        " \r",
        "[**************** 43%                  ]  9550338 of 22195070 complete Elapsed: 26.0 minutes\t Remaining: 34.5 minutes"
       ]
      },
      {
       "output_type": "stream",
       "stream": "stdout",
       "text": [
        " \r",
        "[**************** 43%                  ]  9560573 of 22195070 complete Elapsed: 26.1 minutes\t Remaining: 34.4 minutes"
       ]
      },
      {
       "output_type": "stream",
       "stream": "stdout",
       "text": [
        " \r",
        "[**************** 43%                  ]  9570770 of 22195070 complete Elapsed: 26.1 minutes\t Remaining: 34.4 minutes"
       ]
      },
      {
       "output_type": "stream",
       "stream": "stdout",
       "text": [
        " \r",
        "[**************** 43%                  ]  9580950 of 22195070 complete Elapsed: 26.1 minutes\t Remaining: 34.4 minutes"
       ]
      },
      {
       "output_type": "stream",
       "stream": "stdout",
       "text": [
        " \r",
        "[**************** 43%                  ]  9591187 of 22195070 complete Elapsed: 26.1 minutes\t Remaining: 34.4 minutes"
       ]
      },
      {
       "output_type": "stream",
       "stream": "stdout",
       "text": [
        " \r",
        "[**************** 43%                  ]  9601302 of 22195070 complete Elapsed: 26.2 minutes\t Remaining: 34.3 minutes"
       ]
      },
      {
       "output_type": "stream",
       "stream": "stdout",
       "text": [
        " \r",
        "[**************** 43%                  ]  9611601 of 22195070 complete Elapsed: 26.2 minutes\t Remaining: 34.3 minutes"
       ]
      },
      {
       "output_type": "stream",
       "stream": "stdout",
       "text": [
        " \r",
        "[**************** 43%                  ]  9621686 of 22195070 complete Elapsed: 26.2 minutes\t Remaining: 34.3 minutes"
       ]
      },
      {
       "output_type": "stream",
       "stream": "stdout",
       "text": [
        " \r",
        "[**************** 43%                  ]  9631880 of 22195070 complete Elapsed: 26.2 minutes\t Remaining: 34.2 minutes"
       ]
      },
      {
       "output_type": "stream",
       "stream": "stdout",
       "text": [
        " \r",
        "[**************** 43%                  ]  9642012 of 22195070 complete Elapsed: 26.3 minutes\t Remaining: 34.2 minutes"
       ]
      },
      {
       "output_type": "stream",
       "stream": "stdout",
       "text": [
        " \r",
        "[**************** 43%                  ]  9652281 of 22195070 complete Elapsed: 26.3 minutes\t Remaining: 34.2 minutes"
       ]
      },
      {
       "output_type": "stream",
       "stream": "stdout",
       "text": [
        " \r",
        "[*****************44%                  ]  9662466 of 22195070 complete Elapsed: 26.3 minutes\t Remaining: 34.1 minutes"
       ]
      },
      {
       "output_type": "stream",
       "stream": "stdout",
       "text": [
        " \r",
        "[*****************44%                  ]  9672671 of 22195070 complete Elapsed: 26.3 minutes\t Remaining: 34.1 minutes"
       ]
      },
      {
       "output_type": "stream",
       "stream": "stdout",
       "text": [
        " \r",
        "[*****************44%                  ]  9682855 of 22195070 complete Elapsed: 26.4 minutes\t Remaining: 34.1 minutes"
       ]
      },
      {
       "output_type": "stream",
       "stream": "stdout",
       "text": [
        " \r",
        "[*****************44%                  ]  9693020 of 22195070 complete Elapsed: 26.4 minutes\t Remaining: 34.0 minutes"
       ]
      },
      {
       "output_type": "stream",
       "stream": "stdout",
       "text": [
        " \r",
        "[*****************44%                  ]  9703205 of 22195070 complete Elapsed: 26.4 minutes\t Remaining: 34.0 minutes"
       ]
      },
      {
       "output_type": "stream",
       "stream": "stdout",
       "text": [
        " \r",
        "[*****************44%                  ]  9713413 of 22195070 complete Elapsed: 26.4 minutes\t Remaining: 34.0 minutes"
       ]
      },
      {
       "output_type": "stream",
       "stream": "stdout",
       "text": [
        " \r",
        "[*****************44%                  ]  9723568 of 22195070 complete Elapsed: 26.5 minutes\t Remaining: 33.9 minutes"
       ]
      },
      {
       "output_type": "stream",
       "stream": "stdout",
       "text": [
        " \r",
        "[*****************44%                  ]  9733798 of 22195070 complete Elapsed: 26.5 minutes\t Remaining: 33.9 minutes"
       ]
      },
      {
       "output_type": "stream",
       "stream": "stdout",
       "text": [
        " \r",
        "[*****************44%                  ]  9743996 of 22195070 complete Elapsed: 26.5 minutes\t Remaining: 33.9 minutes"
       ]
      },
      {
       "output_type": "stream",
       "stream": "stdout",
       "text": [
        " \r",
        "[*****************44%                  ]  9754247 of 22195070 complete Elapsed: 26.5 minutes\t Remaining: 33.8 minutes"
       ]
      },
      {
       "output_type": "stream",
       "stream": "stdout",
       "text": [
        " \r",
        "[*****************44%                  ]  9764433 of 22195070 complete Elapsed: 26.6 minutes\t Remaining: 33.8 minutes"
       ]
      },
      {
       "output_type": "stream",
       "stream": "stdout",
       "text": [
        " \r",
        "[*****************44%                  ]  9774683 of 22195070 complete Elapsed: 26.6 minutes\t Remaining: 33.8 minutes"
       ]
      },
      {
       "output_type": "stream",
       "stream": "stdout",
       "text": [
        " \r",
        "[*****************44%                  ]  9784883 of 22195070 complete Elapsed: 26.6 minutes\t Remaining: 33.8 minutes"
       ]
      },
      {
       "output_type": "stream",
       "stream": "stdout",
       "text": [
        " \r",
        "[*****************44%                  ]  9795153 of 22195070 complete Elapsed: 26.6 minutes\t Remaining: 33.7 minutes"
       ]
      },
      {
       "output_type": "stream",
       "stream": "stdout",
       "text": [
        " \r",
        "[*****************44%                  ]  9805371 of 22195070 complete Elapsed: 26.7 minutes\t Remaining: 33.7 minutes"
       ]
      },
      {
       "output_type": "stream",
       "stream": "stdout",
       "text": [
        " \r",
        "[*****************44%                  ]  9815621 of 22195070 complete Elapsed: 26.7 minutes\t Remaining: 33.7 minutes"
       ]
      },
      {
       "output_type": "stream",
       "stream": "stdout",
       "text": [
        " \r",
        "[*****************44%                  ]  9825820 of 22195070 complete Elapsed: 26.7 minutes\t Remaining: 33.6 minutes"
       ]
      },
      {
       "output_type": "stream",
       "stream": "stdout",
       "text": [
        " \r",
        "[*****************44%                  ]  9836056 of 22195070 complete Elapsed: 26.7 minutes\t Remaining: 33.6 minutes"
       ]
      },
      {
       "output_type": "stream",
       "stream": "stdout",
       "text": [
        " \r",
        "[*****************44%                  ]  9846264 of 22195070 complete Elapsed: 26.8 minutes\t Remaining: 33.6 minutes"
       ]
      },
      {
       "output_type": "stream",
       "stream": "stdout",
       "text": [
        " \r",
        "[*****************44%                  ]  9856474 of 22195070 complete Elapsed: 26.8 minutes\t Remaining: 33.5 minutes"
       ]
      },
      {
       "output_type": "stream",
       "stream": "stdout",
       "text": [
        " \r",
        "[*****************44%                  ]  9866660 of 22195070 complete Elapsed: 26.8 minutes\t Remaining: 33.5 minutes"
       ]
      },
      {
       "output_type": "stream",
       "stream": "stdout",
       "text": [
        " \r",
        "[*****************45%                  ]  9876919 of 22195070 complete Elapsed: 26.8 minutes\t Remaining: 33.5 minutes"
       ]
      },
      {
       "output_type": "stream",
       "stream": "stdout",
       "text": [
        " \r",
        "[*****************45%                  ]  9887101 of 22195070 complete Elapsed: 26.9 minutes\t Remaining: 33.4 minutes"
       ]
      },
      {
       "output_type": "stream",
       "stream": "stdout",
       "text": [
        " \r",
        "[*****************45%                  ]  9897328 of 22195070 complete Elapsed: 26.9 minutes\t Remaining: 33.4 minutes"
       ]
      },
      {
       "output_type": "stream",
       "stream": "stdout",
       "text": [
        " \r",
        "[*****************45%                  ]  9907517 of 22195070 complete Elapsed: 26.9 minutes\t Remaining: 33.4 minutes"
       ]
      },
      {
       "output_type": "stream",
       "stream": "stdout",
       "text": [
        " \r",
        "[*****************45%                  ]  9917701 of 22195070 complete Elapsed: 26.9 minutes\t Remaining: 33.3 minutes"
       ]
      },
      {
       "output_type": "stream",
       "stream": "stdout",
       "text": [
        " \r",
        "[*****************45%                  ]  9927888 of 22195070 complete Elapsed: 27.0 minutes\t Remaining: 33.3 minutes"
       ]
      },
      {
       "output_type": "stream",
       "stream": "stdout",
       "text": [
        " \r",
        "[*****************45%                  ]  9938227 of 22195070 complete Elapsed: 27.0 minutes\t Remaining: 33.3 minutes"
       ]
      },
      {
       "output_type": "stream",
       "stream": "stdout",
       "text": [
        " \r",
        "[*****************45%                  ]  9948496 of 22195070 complete Elapsed: 27.0 minutes\t Remaining: 33.3 minutes"
       ]
      },
      {
       "output_type": "stream",
       "stream": "stdout",
       "text": [
        " \r",
        "[*****************45%                  ]  9958799 of 22195070 complete Elapsed: 27.0 minutes\t Remaining: 33.2 minutes"
       ]
      },
      {
       "output_type": "stream",
       "stream": "stdout",
       "text": [
        " \r",
        "[*****************45%                  ]  9969117 of 22195070 complete Elapsed: 27.1 minutes\t Remaining: 33.2 minutes"
       ]
      },
      {
       "output_type": "stream",
       "stream": "stdout",
       "text": [
        " \r",
        "[*****************45%                  ]  9979415 of 22195070 complete Elapsed: 27.1 minutes\t Remaining: 33.2 minutes"
       ]
      },
      {
       "output_type": "stream",
       "stream": "stdout",
       "text": [
        " \r",
        "[*****************45%                  ]  9989667 of 22195070 complete Elapsed: 27.1 minutes\t Remaining: 33.1 minutes"
       ]
      },
      {
       "output_type": "stream",
       "stream": "stdout",
       "text": [
        " \r",
        "[*****************45%                  ]  9999937 of 22195070 complete Elapsed: 27.1 minutes\t Remaining: 33.1 minutes"
       ]
      },
      {
       "output_type": "stream",
       "stream": "stdout",
       "text": [
        " \r",
        "[*****************45%                  ]  10010201 of 22195070 complete Elapsed: 27.2 minutes\t Remaining: 33.1 minutes"
       ]
      },
      {
       "output_type": "stream",
       "stream": "stdout",
       "text": [
        " \r",
        "[*****************45%                  ]  10020454 of 22195070 complete Elapsed: 27.2 minutes\t Remaining: 33.0 minutes"
       ]
      },
      {
       "output_type": "stream",
       "stream": "stdout",
       "text": [
        " \r",
        "[*****************45%                  ]  10030658 of 22195070 complete Elapsed: 27.2 minutes\t Remaining: 33.0 minutes"
       ]
      },
      {
       "output_type": "stream",
       "stream": "stdout",
       "text": [
        " \r",
        "[*****************45%                  ]  10040961 of 22195070 complete Elapsed: 27.2 minutes\t Remaining: 33.0 minutes"
       ]
      },
      {
       "output_type": "stream",
       "stream": "stdout",
       "text": [
        " \r",
        "[*****************45%                  ]  10051188 of 22195070 complete Elapsed: 27.3 minutes\t Remaining: 32.9 minutes"
       ]
      },
      {
       "output_type": "stream",
       "stream": "stdout",
       "text": [
        " \r",
        "[*****************45%                  ]  10061422 of 22195070 complete Elapsed: 27.3 minutes\t Remaining: 32.9 minutes"
       ]
      },
      {
       "output_type": "stream",
       "stream": "stdout",
       "text": [
        " \r",
        "[*****************45%                  ]  10071614 of 22195070 complete Elapsed: 27.3 minutes\t Remaining: 32.9 minutes"
       ]
      },
      {
       "output_type": "stream",
       "stream": "stdout",
       "text": [
        " \r",
        "[*****************45%                  ]  10081899 of 22195070 complete Elapsed: 27.3 minutes\t Remaining: 32.8 minutes"
       ]
      },
      {
       "output_type": "stream",
       "stream": "stdout",
       "text": [
        " \r",
        "[*****************45%                  ]  10092150 of 22195070 complete Elapsed: 27.4 minutes\t Remaining: 32.8 minutes"
       ]
      },
      {
       "output_type": "stream",
       "stream": "stdout",
       "text": [
        " \r",
        "[*****************46%                  ]  10102375 of 22195070 complete Elapsed: 27.4 minutes\t Remaining: 32.8 minutes"
       ]
      },
      {
       "output_type": "stream",
       "stream": "stdout",
       "text": [
        " \r",
        "[*****************46%                  ]  10112579 of 22195070 complete Elapsed: 27.4 minutes\t Remaining: 32.8 minutes"
       ]
      },
      {
       "output_type": "stream",
       "stream": "stdout",
       "text": [
        " \r",
        "[*****************46%                  ]  10122819 of 22195070 complete Elapsed: 27.4 minutes\t Remaining: 32.7 minutes"
       ]
      },
      {
       "output_type": "stream",
       "stream": "stdout",
       "text": [
        " \r",
        "[*****************46%                  ]  10132982 of 22195070 complete Elapsed: 27.5 minutes\t Remaining: 32.7 minutes"
       ]
      },
      {
       "output_type": "stream",
       "stream": "stdout",
       "text": [
        " \r",
        "[*****************46%                  ]  10143182 of 22195070 complete Elapsed: 27.5 minutes\t Remaining: 32.7 minutes"
       ]
      },
      {
       "output_type": "stream",
       "stream": "stdout",
       "text": [
        " \r",
        "[*****************46%                  ]  10153323 of 22195070 complete Elapsed: 27.5 minutes\t Remaining: 32.6 minutes"
       ]
      },
      {
       "output_type": "stream",
       "stream": "stdout",
       "text": [
        " \r",
        "[*****************46%                  ]  10163539 of 22195070 complete Elapsed: 27.5 minutes\t Remaining: 32.6 minutes"
       ]
      },
      {
       "output_type": "stream",
       "stream": "stdout",
       "text": [
        " \r",
        "[*****************46%                  ]  10173746 of 22195070 complete Elapsed: 27.6 minutes\t Remaining: 32.6 minutes"
       ]
      },
      {
       "output_type": "stream",
       "stream": "stdout",
       "text": [
        " \r",
        "[*****************46%                  ]  10183950 of 22195070 complete Elapsed: 27.6 minutes\t Remaining: 32.5 minutes"
       ]
      },
      {
       "output_type": "stream",
       "stream": "stdout",
       "text": [
        " \r",
        "[*****************46%                  ]  10194111 of 22195070 complete Elapsed: 27.6 minutes\t Remaining: 32.5 minutes"
       ]
      },
      {
       "output_type": "stream",
       "stream": "stdout",
       "text": [
        " \r",
        "[*****************46%                  ]  10204353 of 22195070 complete Elapsed: 27.6 minutes\t Remaining: 32.5 minutes"
       ]
      },
      {
       "output_type": "stream",
       "stream": "stdout",
       "text": [
        " \r",
        "[*****************46%                  ]  10214482 of 22195070 complete Elapsed: 27.7 minutes\t Remaining: 32.4 minutes"
       ]
      },
      {
       "output_type": "stream",
       "stream": "stdout",
       "text": [
        " \r",
        "[*****************46%                  ]  10224681 of 22195070 complete Elapsed: 27.7 minutes\t Remaining: 32.4 minutes"
       ]
      },
      {
       "output_type": "stream",
       "stream": "stdout",
       "text": [
        " \r",
        "[*****************46%                  ]  10234866 of 22195070 complete Elapsed: 27.7 minutes\t Remaining: 32.4 minutes"
       ]
      },
      {
       "output_type": "stream",
       "stream": "stdout",
       "text": [
        " \r",
        "[*****************46%                  ]  10245142 of 22195070 complete Elapsed: 27.7 minutes\t Remaining: 32.4 minutes"
       ]
      },
      {
       "output_type": "stream",
       "stream": "stdout",
       "text": [
        " \r",
        "[*****************46%                  ]  10255352 of 22195070 complete Elapsed: 27.8 minutes\t Remaining: 32.3 minutes"
       ]
      },
      {
       "output_type": "stream",
       "stream": "stdout",
       "text": [
        " \r",
        "[*****************46%                  ]  10265610 of 22195070 complete Elapsed: 27.8 minutes\t Remaining: 32.3 minutes"
       ]
      },
      {
       "output_type": "stream",
       "stream": "stdout",
       "text": [
        " \r",
        "[*****************46%                  ]  10275828 of 22195070 complete Elapsed: 27.8 minutes\t Remaining: 32.3 minutes"
       ]
      },
      {
       "output_type": "stream",
       "stream": "stdout",
       "text": [
        " \r",
        "[*****************46%                  ]  10286093 of 22195070 complete Elapsed: 27.8 minutes\t Remaining: 32.2 minutes"
       ]
      },
      {
       "output_type": "stream",
       "stream": "stdout",
       "text": [
        " \r",
        "[*****************46%                  ]  10296286 of 22195070 complete Elapsed: 27.9 minutes\t Remaining: 32.2 minutes"
       ]
      },
      {
       "output_type": "stream",
       "stream": "stdout",
       "text": [
        " \r",
        "[*****************46%                  ]  10306450 of 22195070 complete Elapsed: 27.9 minutes\t Remaining: 32.2 minutes"
       ]
      },
      {
       "output_type": "stream",
       "stream": "stdout",
       "text": [
        " \r",
        "[*****************46%                  ]  10316641 of 22195070 complete Elapsed: 27.9 minutes\t Remaining: 32.1 minutes"
       ]
      },
      {
       "output_type": "stream",
       "stream": "stdout",
       "text": [
        " \r",
        "[*****************47%                  ]  10326840 of 22195070 complete Elapsed: 27.9 minutes\t Remaining: 32.1 minutes"
       ]
      },
      {
       "output_type": "stream",
       "stream": "stdout",
       "text": [
        " \r",
        "[*****************47%                  ]  10337019 of 22195070 complete Elapsed: 28.0 minutes\t Remaining: 32.1 minutes"
       ]
      },
      {
       "output_type": "stream",
       "stream": "stdout",
       "text": [
        " \r",
        "[*****************47%                  ]  10347241 of 22195070 complete Elapsed: 28.0 minutes\t Remaining: 32.0 minutes"
       ]
      },
      {
       "output_type": "stream",
       "stream": "stdout",
       "text": [
        " \r",
        "[*****************47%                  ]  10357420 of 22195070 complete Elapsed: 28.0 minutes\t Remaining: 32.0 minutes"
       ]
      },
      {
       "output_type": "stream",
       "stream": "stdout",
       "text": [
        " \r",
        "[*****************47%                  ]  10365645 of 22195070 complete Elapsed: 28.4 minutes\t Remaining: 32.4 minutes"
       ]
      },
      {
       "output_type": "stream",
       "stream": "stdout",
       "text": [
        " \r",
        "[*****************47%                  ]  10370707 of 22195070 complete Elapsed: 28.4 minutes\t Remaining: 32.4 minutes"
       ]
      },
      {
       "output_type": "stream",
       "stream": "stdout",
       "text": [
        " \r",
        "[*****************47%                  ]  10380930 of 22195070 complete Elapsed: 28.4 minutes\t Remaining: 32.3 minutes"
       ]
      },
      {
       "output_type": "stream",
       "stream": "stdout",
       "text": [
        " \r",
        "[*****************47%                  ]  10391170 of 22195070 complete Elapsed: 28.4 minutes\t Remaining: 32.3 minutes"
       ]
      },
      {
       "output_type": "stream",
       "stream": "stdout",
       "text": [
        " \r",
        "[*****************47%                  ]  10401403 of 22195070 complete Elapsed: 28.5 minutes\t Remaining: 32.3 minutes"
       ]
      },
      {
       "output_type": "stream",
       "stream": "stdout",
       "text": [
        " \r",
        "[*****************47%                  ]  10411677 of 22195070 complete Elapsed: 28.5 minutes\t Remaining: 32.2 minutes"
       ]
      },
      {
       "output_type": "stream",
       "stream": "stdout",
       "text": [
        " \r",
        "[*****************47%                  ]  10421873 of 22195070 complete Elapsed: 28.5 minutes\t Remaining: 32.2 minutes"
       ]
      },
      {
       "output_type": "stream",
       "stream": "stdout",
       "text": [
        " \r",
        "[*****************47%                  ]  10432140 of 22195070 complete Elapsed: 28.5 minutes\t Remaining: 32.2 minutes"
       ]
      },
      {
       "output_type": "stream",
       "stream": "stdout",
       "text": [
        " \r",
        "[*****************47%                  ]  10442337 of 22195070 complete Elapsed: 28.6 minutes\t Remaining: 32.1 minutes"
       ]
      },
      {
       "output_type": "stream",
       "stream": "stdout",
       "text": [
        " \r",
        "[*****************47%                  ]  10452595 of 22195070 complete Elapsed: 28.6 minutes\t Remaining: 32.1 minutes"
       ]
      },
      {
       "output_type": "stream",
       "stream": "stdout",
       "text": [
        " \r",
        "[*****************47%                  ]  10462755 of 22195070 complete Elapsed: 28.6 minutes\t Remaining: 32.1 minutes"
       ]
      },
      {
       "output_type": "stream",
       "stream": "stdout",
       "text": [
        " \r",
        "[*****************47%                  ]  10473037 of 22195070 complete Elapsed: 28.6 minutes\t Remaining: 32.0 minutes"
       ]
      },
      {
       "output_type": "stream",
       "stream": "stdout",
       "text": [
        " \r",
        "[*****************47%                  ]  10483240 of 22195070 complete Elapsed: 28.7 minutes\t Remaining: 32.0 minutes"
       ]
      },
      {
       "output_type": "stream",
       "stream": "stdout",
       "text": [
        " \r",
        "[*****************47%                  ]  10493468 of 22195070 complete Elapsed: 28.7 minutes\t Remaining: 32.0 minutes"
       ]
      },
      {
       "output_type": "stream",
       "stream": "stdout",
       "text": [
        " \r",
        "[*****************47%                  ]  10503632 of 22195070 complete Elapsed: 28.7 minutes\t Remaining: 32.0 minutes"
       ]
      },
      {
       "output_type": "stream",
       "stream": "stdout",
       "text": [
        " \r",
        "[*****************47%                  ]  10513869 of 22195070 complete Elapsed: 28.7 minutes\t Remaining: 31.9 minutes"
       ]
      },
      {
       "output_type": "stream",
       "stream": "stdout",
       "text": [
        " \r",
        "[*****************47%                  ]  10524045 of 22195070 complete Elapsed: 28.8 minutes\t Remaining: 31.9 minutes"
       ]
      },
      {
       "output_type": "stream",
       "stream": "stdout",
       "text": [
        " \r",
        "[*****************47%                  ]  10534291 of 22195070 complete Elapsed: 28.8 minutes\t Remaining: 31.9 minutes"
       ]
      },
      {
       "output_type": "stream",
       "stream": "stdout",
       "text": [
        " \r",
        "[*****************48%                  ]  10544533 of 22195070 complete Elapsed: 28.8 minutes\t Remaining: 31.8 minutes"
       ]
      },
      {
       "output_type": "stream",
       "stream": "stdout",
       "text": [
        " \r",
        "[*****************48%                  ]  10554800 of 22195070 complete Elapsed: 28.8 minutes\t Remaining: 31.8 minutes"
       ]
      },
      {
       "output_type": "stream",
       "stream": "stdout",
       "text": [
        " \r",
        "[*****************48%                  ]  10565021 of 22195070 complete Elapsed: 28.9 minutes\t Remaining: 31.8 minutes"
       ]
      },
      {
       "output_type": "stream",
       "stream": "stdout",
       "text": [
        " \r",
        "[*****************48%                  ]  10575303 of 22195070 complete Elapsed: 28.9 minutes\t Remaining: 31.7 minutes"
       ]
      },
      {
       "output_type": "stream",
       "stream": "stdout",
       "text": [
        " \r",
        "[*****************48%                  ]  10585490 of 22195070 complete Elapsed: 28.9 minutes\t Remaining: 31.7 minutes"
       ]
      },
      {
       "output_type": "stream",
       "stream": "stdout",
       "text": [
        " \r",
        "[*****************48%                  ]  10595754 of 22195070 complete Elapsed: 28.9 minutes\t Remaining: 31.7 minutes"
       ]
      },
      {
       "output_type": "stream",
       "stream": "stdout",
       "text": [
        " \r",
        "[*****************48%                  ]  10606020 of 22195070 complete Elapsed: 29.0 minutes\t Remaining: 31.6 minutes"
       ]
      },
      {
       "output_type": "stream",
       "stream": "stdout",
       "text": [
        " \r",
        "[*****************48%                  ]  10616310 of 22195070 complete Elapsed: 29.0 minutes\t Remaining: 31.6 minutes"
       ]
      },
      {
       "output_type": "stream",
       "stream": "stdout",
       "text": [
        " \r",
        "[*****************48%                  ]  10626503 of 22195070 complete Elapsed: 29.0 minutes\t Remaining: 31.6 minutes"
       ]
      },
      {
       "output_type": "stream",
       "stream": "stdout",
       "text": [
        " \r",
        "[*****************48%                  ]  10636716 of 22195070 complete Elapsed: 29.0 minutes\t Remaining: 31.5 minutes"
       ]
      },
      {
       "output_type": "stream",
       "stream": "stdout",
       "text": [
        " \r",
        "[*****************48%                  ]  10646890 of 22195070 complete Elapsed: 29.1 minutes\t Remaining: 31.5 minutes"
       ]
      },
      {
       "output_type": "stream",
       "stream": "stdout",
       "text": [
        " \r",
        "[*****************48%                  ]  10657150 of 22195070 complete Elapsed: 29.1 minutes\t Remaining: 31.5 minutes"
       ]
      },
      {
       "output_type": "stream",
       "stream": "stdout",
       "text": [
        " \r",
        "[*****************48%                  ]  10667322 of 22195070 complete Elapsed: 29.1 minutes\t Remaining: 31.5 minutes"
       ]
      },
      {
       "output_type": "stream",
       "stream": "stdout",
       "text": [
        " \r",
        "[*****************48%                  ]  10677570 of 22195070 complete Elapsed: 29.1 minutes\t Remaining: 31.4 minutes"
       ]
      },
      {
       "output_type": "stream",
       "stream": "stdout",
       "text": [
        " \r",
        "[*****************48%                  ]  10687746 of 22195070 complete Elapsed: 29.2 minutes\t Remaining: 31.4 minutes"
       ]
      },
      {
       "output_type": "stream",
       "stream": "stdout",
       "text": [
        " \r",
        "[*****************48%                  ]  10697965 of 22195070 complete Elapsed: 29.2 minutes\t Remaining: 31.4 minutes"
       ]
      },
      {
       "output_type": "stream",
       "stream": "stdout",
       "text": [
        " \r",
        "[*****************48%                  ]  10708145 of 22195070 complete Elapsed: 29.2 minutes\t Remaining: 31.3 minutes"
       ]
      },
      {
       "output_type": "stream",
       "stream": "stdout",
       "text": [
        " \r",
        "[*****************48%                  ]  10718372 of 22195070 complete Elapsed: 29.2 minutes\t Remaining: 31.3 minutes"
       ]
      },
      {
       "output_type": "stream",
       "stream": "stdout",
       "text": [
        " \r",
        "[*****************48%                  ]  10728568 of 22195070 complete Elapsed: 29.3 minutes\t Remaining: 31.3 minutes"
       ]
      },
      {
       "output_type": "stream",
       "stream": "stdout",
       "text": [
        " \r",
        "[*****************48%                  ]  10738835 of 22195070 complete Elapsed: 29.3 minutes\t Remaining: 31.2 minutes"
       ]
      },
      {
       "output_type": "stream",
       "stream": "stdout",
       "text": [
        " \r",
        "[*****************48%                  ]  10748992 of 22195070 complete Elapsed: 29.3 minutes\t Remaining: 31.2 minutes"
       ]
      },
      {
       "output_type": "stream",
       "stream": "stdout",
       "text": [
        " \r",
        "[*****************48%                  ]  10759171 of 22195070 complete Elapsed: 29.3 minutes\t Remaining: 31.2 minutes"
       ]
      },
      {
       "output_type": "stream",
       "stream": "stdout",
       "text": [
        " \r",
        "[*****************49%                  ]  10769339 of 22195070 complete Elapsed: 29.4 minutes\t Remaining: 31.1 minutes"
       ]
      },
      {
       "output_type": "stream",
       "stream": "stdout",
       "text": [
        " \r",
        "[*****************49%                  ]  10779557 of 22195070 complete Elapsed: 29.4 minutes\t Remaining: 31.1 minutes"
       ]
      },
      {
       "output_type": "stream",
       "stream": "stdout",
       "text": [
        " \r",
        "[*****************49%                  ]  10789799 of 22195070 complete Elapsed: 29.4 minutes\t Remaining: 31.1 minutes"
       ]
      },
      {
       "output_type": "stream",
       "stream": "stdout",
       "text": [
        " \r",
        "[*****************49%                  ]  10800032 of 22195070 complete Elapsed: 29.4 minutes\t Remaining: 31.1 minutes"
       ]
      },
      {
       "output_type": "stream",
       "stream": "stdout",
       "text": [
        " \r",
        "[*****************49%                  ]  10810223 of 22195070 complete Elapsed: 29.5 minutes\t Remaining: 31.0 minutes"
       ]
      },
      {
       "output_type": "stream",
       "stream": "stdout",
       "text": [
        " \r",
        "[*****************49%                  ]  10820469 of 22195070 complete Elapsed: 29.5 minutes\t Remaining: 31.0 minutes"
       ]
      },
      {
       "output_type": "stream",
       "stream": "stdout",
       "text": [
        " \r",
        "[*****************49%                  ]  10830645 of 22195070 complete Elapsed: 29.5 minutes\t Remaining: 31.0 minutes"
       ]
      },
      {
       "output_type": "stream",
       "stream": "stdout",
       "text": [
        " \r",
        "[*****************49%                  ]  10840856 of 22195070 complete Elapsed: 29.5 minutes\t Remaining: 30.9 minutes"
       ]
      },
      {
       "output_type": "stream",
       "stream": "stdout",
       "text": [
        " \r",
        "[*****************49%                  ]  10851024 of 22195070 complete Elapsed: 29.6 minutes\t Remaining: 30.9 minutes"
       ]
      },
      {
       "output_type": "stream",
       "stream": "stdout",
       "text": [
        " \r",
        "[*****************49%                  ]  10861258 of 22195070 complete Elapsed: 29.6 minutes\t Remaining: 30.9 minutes"
       ]
      },
      {
       "output_type": "stream",
       "stream": "stdout",
       "text": [
        " \r",
        "[*****************49%                  ]  10871424 of 22195070 complete Elapsed: 29.6 minutes\t Remaining: 30.8 minutes"
       ]
      },
      {
       "output_type": "stream",
       "stream": "stdout",
       "text": [
        " \r",
        "[*****************49%                  ]  10881654 of 22195070 complete Elapsed: 29.6 minutes\t Remaining: 30.8 minutes"
       ]
      },
      {
       "output_type": "stream",
       "stream": "stdout",
       "text": [
        " \r",
        "[*****************49%                  ]  10891840 of 22195070 complete Elapsed: 29.7 minutes\t Remaining: 30.8 minutes"
       ]
      },
      {
       "output_type": "stream",
       "stream": "stdout",
       "text": [
        " \r",
        "[*****************49%                  ]  10902061 of 22195070 complete Elapsed: 29.7 minutes\t Remaining: 30.7 minutes"
       ]
      },
      {
       "output_type": "stream",
       "stream": "stdout",
       "text": [
        " \r",
        "[*****************49%                  ]  10912272 of 22195070 complete Elapsed: 29.7 minutes\t Remaining: 30.7 minutes"
       ]
      },
      {
       "output_type": "stream",
       "stream": "stdout",
       "text": [
        " \r",
        "[*****************49%                  ]  10922529 of 22195070 complete Elapsed: 29.7 minutes\t Remaining: 30.7 minutes"
       ]
      },
      {
       "output_type": "stream",
       "stream": "stdout",
       "text": [
        " \r",
        "[*****************49%                  ]  10932739 of 22195070 complete Elapsed: 29.8 minutes\t Remaining: 30.7 minutes"
       ]
      },
      {
       "output_type": "stream",
       "stream": "stdout",
       "text": [
        " \r",
        "[*****************49%                  ]  10942991 of 22195070 complete Elapsed: 29.8 minutes\t Remaining: 30.6 minutes"
       ]
      },
      {
       "output_type": "stream",
       "stream": "stdout",
       "text": [
        " \r",
        "[*****************49%                  ]  10953145 of 22195070 complete Elapsed: 29.8 minutes\t Remaining: 30.6 minutes"
       ]
      },
      {
       "output_type": "stream",
       "stream": "stdout",
       "text": [
        " \r",
        "[*****************49%                  ]  10963352 of 22195070 complete Elapsed: 29.8 minutes\t Remaining: 30.6 minutes"
       ]
      },
      {
       "output_type": "stream",
       "stream": "stdout",
       "text": [
        " \r",
        "[*****************49%                  ]  10973509 of 22195070 complete Elapsed: 29.9 minutes\t Remaining: 30.5 minutes"
       ]
      },
      {
       "output_type": "stream",
       "stream": "stdout",
       "text": [
        " \r",
        "[*****************49%                  ]  10983734 of 22195070 complete Elapsed: 29.9 minutes\t Remaining: 30.5 minutes"
       ]
      },
      {
       "output_type": "stream",
       "stream": "stdout",
       "text": [
        " \r",
        "[*****************50%                  ]  10993913 of 22195070 complete Elapsed: 29.9 minutes\t Remaining: 30.5 minutes"
       ]
      },
      {
       "output_type": "stream",
       "stream": "stdout",
       "text": [
        " \r",
        "[*****************50%                  ]  11004135 of 22195070 complete Elapsed: 29.9 minutes\t Remaining: 30.4 minutes"
       ]
      },
      {
       "output_type": "stream",
       "stream": "stdout",
       "text": [
        " \r",
        "[*****************50%                  ]  11014332 of 22195070 complete Elapsed: 30.0 minutes\t Remaining: 30.4 minutes"
       ]
      },
      {
       "output_type": "stream",
       "stream": "stdout",
       "text": [
        " \r",
        "[*****************50%                  ]  11024559 of 22195070 complete Elapsed: 30.0 minutes\t Remaining: 30.4 minutes"
       ]
      },
      {
       "output_type": "stream",
       "stream": "stdout",
       "text": [
        " \r",
        "[*****************50%                  ]  11034750 of 22195070 complete Elapsed: 30.0 minutes\t Remaining: 30.3 minutes"
       ]
      },
      {
       "output_type": "stream",
       "stream": "stdout",
       "text": [
        " \r",
        "[*****************50%                  ]  11044964 of 22195070 complete Elapsed: 30.0 minutes\t Remaining: 30.3 minutes"
       ]
      },
      {
       "output_type": "stream",
       "stream": "stdout",
       "text": [
        " \r",
        "[*****************50%                  ]  11055241 of 22195070 complete Elapsed: 30.1 minutes\t Remaining: 30.3 minutes"
       ]
      },
      {
       "output_type": "stream",
       "stream": "stdout",
       "text": [
        " \r",
        "[*****************50%                  ]  11065468 of 22195070 complete Elapsed: 30.1 minutes\t Remaining: 30.3 minutes"
       ]
      },
      {
       "output_type": "stream",
       "stream": "stdout",
       "text": [
        " \r",
        "[*****************50%                  ]  11075677 of 22195070 complete Elapsed: 30.1 minutes\t Remaining: 30.2 minutes"
       ]
      },
      {
       "output_type": "stream",
       "stream": "stdout",
       "text": [
        " \r",
        "[*****************50%                  ]  11085921 of 22195070 complete Elapsed: 30.1 minutes\t Remaining: 30.2 minutes"
       ]
      },
      {
       "output_type": "stream",
       "stream": "stdout",
       "text": [
        " \r",
        "[*****************50%                  ]  11096122 of 22195070 complete Elapsed: 30.2 minutes\t Remaining: 30.2 minutes"
       ]
      },
      {
       "output_type": "stream",
       "stream": "stdout",
       "text": [
        " \r",
        "[*****************50%                  ]  11106405 of 22195070 complete Elapsed: 30.2 minutes\t Remaining: 30.1 minutes"
       ]
      },
      {
       "output_type": "stream",
       "stream": "stdout",
       "text": [
        " \r",
        "[*****************50%                  ]  11116643 of 22195070 complete Elapsed: 30.2 minutes\t Remaining: 30.1 minutes"
       ]
      },
      {
       "output_type": "stream",
       "stream": "stdout",
       "text": [
        " \r",
        "[*****************50%                  ]  11126895 of 22195070 complete Elapsed: 30.2 minutes\t Remaining: 30.1 minutes"
       ]
      },
      {
       "output_type": "stream",
       "stream": "stdout",
       "text": [
        " \r",
        "[*****************50%                  ]  11137079 of 22195070 complete Elapsed: 30.3 minutes\t Remaining: 30.0 minutes"
       ]
      },
      {
       "output_type": "stream",
       "stream": "stdout",
       "text": [
        " \r",
        "[*****************50%                  ]  11147292 of 22195070 complete Elapsed: 30.3 minutes\t Remaining: 30.0 minutes"
       ]
      },
      {
       "output_type": "stream",
       "stream": "stdout",
       "text": [
        " \r",
        "[*****************50%                  ]  11157479 of 22195070 complete Elapsed: 30.3 minutes\t Remaining: 30.0 minutes"
       ]
      },
      {
       "output_type": "stream",
       "stream": "stdout",
       "text": [
        " \r",
        "[*****************50%                  ]  11167638 of 22195070 complete Elapsed: 30.3 minutes\t Remaining: 30.0 minutes"
       ]
      },
      {
       "output_type": "stream",
       "stream": "stdout",
       "text": [
        " \r",
        "[*****************50%                  ]  11177790 of 22195070 complete Elapsed: 30.4 minutes\t Remaining: 29.9 minutes"
       ]
      },
      {
       "output_type": "stream",
       "stream": "stdout",
       "text": [
        " \r",
        "[*****************50%                  ]  11188034 of 22195070 complete Elapsed: 30.4 minutes\t Remaining: 29.9 minutes"
       ]
      },
      {
       "output_type": "stream",
       "stream": "stdout",
       "text": [
        " \r",
        "[*****************50%                  ]  11198226 of 22195070 complete Elapsed: 30.4 minutes\t Remaining: 29.9 minutes"
       ]
      },
      {
       "output_type": "stream",
       "stream": "stdout",
       "text": [
        " \r",
        "[*****************50%                  ]  11208450 of 22195070 complete Elapsed: 30.4 minutes\t Remaining: 29.8 minutes"
       ]
      },
      {
       "output_type": "stream",
       "stream": "stdout",
       "text": [
        " \r",
        "[*****************51%                  ]  11218703 of 22195070 complete Elapsed: 30.5 minutes\t Remaining: 29.8 minutes"
       ]
      },
      {
       "output_type": "stream",
       "stream": "stdout",
       "text": [
        " \r",
        "[*****************51%                  ]  11228975 of 22195070 complete Elapsed: 30.5 minutes\t Remaining: 29.8 minutes"
       ]
      },
      {
       "output_type": "stream",
       "stream": "stdout",
       "text": [
        " \r",
        "[*****************51%                  ]  11239208 of 22195070 complete Elapsed: 30.5 minutes\t Remaining: 29.7 minutes"
       ]
      },
      {
       "output_type": "stream",
       "stream": "stdout",
       "text": [
        " \r",
        "[*****************51%                  ]  11249482 of 22195070 complete Elapsed: 30.5 minutes\t Remaining: 29.7 minutes"
       ]
      },
      {
       "output_type": "stream",
       "stream": "stdout",
       "text": [
        " \r",
        "[*****************51%                  ]  11259707 of 22195070 complete Elapsed: 30.6 minutes\t Remaining: 29.7 minutes"
       ]
      },
      {
       "output_type": "stream",
       "stream": "stdout",
       "text": [
        " \r",
        "[*****************51%                  ]  11269956 of 22195070 complete Elapsed: 30.6 minutes\t Remaining: 29.6 minutes"
       ]
      },
      {
       "output_type": "stream",
       "stream": "stdout",
       "text": [
        " \r",
        "[*****************51%                  ]  11280124 of 22195070 complete Elapsed: 30.6 minutes\t Remaining: 29.6 minutes"
       ]
      },
      {
       "output_type": "stream",
       "stream": "stdout",
       "text": [
        " \r",
        "[*****************51%                  ]  11290343 of 22195070 complete Elapsed: 30.6 minutes\t Remaining: 29.6 minutes"
       ]
      },
      {
       "output_type": "stream",
       "stream": "stdout",
       "text": [
        " \r",
        "[*****************51%                  ]  11300515 of 22195070 complete Elapsed: 30.7 minutes\t Remaining: 29.6 minutes"
       ]
      },
      {
       "output_type": "stream",
       "stream": "stdout",
       "text": [
        " \r",
        "[*****************51%                  ]  11310731 of 22195070 complete Elapsed: 30.7 minutes\t Remaining: 29.5 minutes"
       ]
      },
      {
       "output_type": "stream",
       "stream": "stdout",
       "text": [
        " \r",
        "[*****************51%                  ]  11320928 of 22195070 complete Elapsed: 30.7 minutes\t Remaining: 29.5 minutes"
       ]
      },
      {
       "output_type": "stream",
       "stream": "stdout",
       "text": [
        " \r",
        "[*****************51%                  ]  11331137 of 22195070 complete Elapsed: 30.7 minutes\t Remaining: 29.5 minutes"
       ]
      },
      {
       "output_type": "stream",
       "stream": "stdout",
       "text": [
        " \r",
        "[*****************51%                  ]  11341308 of 22195070 complete Elapsed: 30.8 minutes\t Remaining: 29.4 minutes"
       ]
      },
      {
       "output_type": "stream",
       "stream": "stdout",
       "text": [
        " \r",
        "[*****************51%                  ]  11351567 of 22195070 complete Elapsed: 30.8 minutes\t Remaining: 29.4 minutes"
       ]
      },
      {
       "output_type": "stream",
       "stream": "stdout",
       "text": [
        " \r",
        "[*****************51%                  ]  11361828 of 22195070 complete Elapsed: 30.8 minutes\t Remaining: 29.4 minutes"
       ]
      },
      {
       "output_type": "stream",
       "stream": "stdout",
       "text": [
        " \r",
        "[*****************51%                  ]  11372107 of 22195070 complete Elapsed: 30.8 minutes\t Remaining: 29.3 minutes"
       ]
      },
      {
       "output_type": "stream",
       "stream": "stdout",
       "text": [
        " \r",
        "[*****************51%                  ]  11382374 of 22195070 complete Elapsed: 30.9 minutes\t Remaining: 29.3 minutes"
       ]
      },
      {
       "output_type": "stream",
       "stream": "stdout",
       "text": [
        " \r",
        "[*****************51%                  ]  11392664 of 22195070 complete Elapsed: 30.9 minutes\t Remaining: 29.3 minutes"
       ]
      },
      {
       "output_type": "stream",
       "stream": "stdout",
       "text": [
        " \r",
        "[*****************51%                  ]  11402869 of 22195070 complete Elapsed: 30.9 minutes\t Remaining: 29.3 minutes"
       ]
      },
      {
       "output_type": "stream",
       "stream": "stdout",
       "text": [
        " \r",
        "[*****************51%                  ]  11413054 of 22195070 complete Elapsed: 30.9 minutes\t Remaining: 29.2 minutes"
       ]
      },
      {
       "output_type": "stream",
       "stream": "stdout",
       "text": [
        " \r",
        "[*****************51%                  ]  11423201 of 22195070 complete Elapsed: 31.0 minutes\t Remaining: 29.2 minutes"
       ]
      },
      {
       "output_type": "stream",
       "stream": "stdout",
       "text": [
        " \r",
        "[*****************52%                  ]  11433426 of 22195070 complete Elapsed: 31.0 minutes\t Remaining: 29.2 minutes"
       ]
      },
      {
       "output_type": "stream",
       "stream": "stdout",
       "text": [
        " \r",
        "[*****************52%                  ]  11443588 of 22195070 complete Elapsed: 31.0 minutes\t Remaining: 29.1 minutes"
       ]
      },
      {
       "output_type": "stream",
       "stream": "stdout",
       "text": [
        " \r",
        "[*****************52%                  ]  11453809 of 22195070 complete Elapsed: 31.0 minutes\t Remaining: 29.1 minutes"
       ]
      },
      {
       "output_type": "stream",
       "stream": "stdout",
       "text": [
        " \r",
        "[*****************52%                  ]  11463965 of 22195070 complete Elapsed: 31.1 minutes\t Remaining: 29.1 minutes"
       ]
      },
      {
       "output_type": "stream",
       "stream": "stdout",
       "text": [
        " \r",
        "[*****************52%                  ]  11474196 of 22195070 complete Elapsed: 31.1 minutes\t Remaining: 29.0 minutes"
       ]
      },
      {
       "output_type": "stream",
       "stream": "stdout",
       "text": [
        " \r",
        "[*****************52%                  ]  11484397 of 22195070 complete Elapsed: 31.1 minutes\t Remaining: 29.0 minutes"
       ]
      },
      {
       "output_type": "stream",
       "stream": "stdout",
       "text": [
        " \r",
        "[*****************52%                  ]  11494681 of 22195070 complete Elapsed: 31.1 minutes\t Remaining: 29.0 minutes"
       ]
      },
      {
       "output_type": "stream",
       "stream": "stdout",
       "text": [
        " \r",
        "[*****************52%                  ]  11504908 of 22195070 complete Elapsed: 31.2 minutes\t Remaining: 29.0 minutes"
       ]
      },
      {
       "output_type": "stream",
       "stream": "stdout",
       "text": [
        " \r",
        "[*****************52%                  ]  11510384 of 22195070 complete Elapsed: 31.4 minutes\t Remaining: 29.2 minutes"
       ]
      },
      {
       "output_type": "stream",
       "stream": "stdout",
       "text": [
        " \r",
        "[*****************52%                  ]  11516016 of 22195070 complete Elapsed: 31.5 minutes\t Remaining: 29.2 minutes"
       ]
      },
      {
       "output_type": "stream",
       "stream": "stdout",
       "text": [
        " \r",
        "[*****************52%                  ]  11526245 of 22195070 complete Elapsed: 31.5 minutes\t Remaining: 29.1 minutes"
       ]
      },
      {
       "output_type": "stream",
       "stream": "stdout",
       "text": [
        " \r",
        "[*****************52%                  ]  11536509 of 22195070 complete Elapsed: 31.5 minutes\t Remaining: 29.1 minutes"
       ]
      },
      {
       "output_type": "stream",
       "stream": "stdout",
       "text": [
        " \r",
        "[*****************52%                  ]  11546670 of 22195070 complete Elapsed: 31.5 minutes\t Remaining: 29.1 minutes"
       ]
      },
      {
       "output_type": "stream",
       "stream": "stdout",
       "text": [
        " \r",
        "[*****************52%                  ]  11556887 of 22195070 complete Elapsed: 31.6 minutes\t Remaining: 29.0 minutes"
       ]
      },
      {
       "output_type": "stream",
       "stream": "stdout",
       "text": [
        " \r",
        "[*****************52%                  ]  11567039 of 22195070 complete Elapsed: 31.6 minutes\t Remaining: 29.0 minutes"
       ]
      },
      {
       "output_type": "stream",
       "stream": "stdout",
       "text": [
        " \r",
        "[*****************52%                  ]  11577295 of 22195070 complete Elapsed: 31.6 minutes\t Remaining: 29.0 minutes"
       ]
      },
      {
       "output_type": "stream",
       "stream": "stdout",
       "text": [
        " \r",
        "[*****************52%                  ]  11587576 of 22195070 complete Elapsed: 31.6 minutes\t Remaining: 29.0 minutes"
       ]
      },
      {
       "output_type": "stream",
       "stream": "stdout",
       "text": [
        " \r",
        "[*****************52%                  ]  11597891 of 22195070 complete Elapsed: 31.7 minutes\t Remaining: 28.9 minutes"
       ]
      },
      {
       "output_type": "stream",
       "stream": "stdout",
       "text": [
        " \r",
        "[*****************52%                  ]  11608193 of 22195070 complete Elapsed: 31.7 minutes\t Remaining: 28.9 minutes"
       ]
      },
      {
       "output_type": "stream",
       "stream": "stdout",
       "text": [
        " \r",
        "[*****************52%                  ]  11618469 of 22195070 complete Elapsed: 31.7 minutes\t Remaining: 28.9 minutes"
       ]
      },
      {
       "output_type": "stream",
       "stream": "stdout",
       "text": [
        " \r",
        "[*****************52%                  ]  11628690 of 22195070 complete Elapsed: 31.7 minutes\t Remaining: 28.8 minutes"
       ]
      },
      {
       "output_type": "stream",
       "stream": "stdout",
       "text": [
        " \r",
        "[*****************52%                  ]  11639034 of 22195070 complete Elapsed: 31.8 minutes\t Remaining: 28.8 minutes"
       ]
      },
      {
       "output_type": "stream",
       "stream": "stdout",
       "text": [
        " \r",
        "[*****************52%                  ]  11649330 of 22195070 complete Elapsed: 31.8 minutes\t Remaining: 28.8 minutes"
       ]
      },
      {
       "output_type": "stream",
       "stream": "stdout",
       "text": [
        " \r",
        "[*****************53%                  ]  11659632 of 22195070 complete Elapsed: 31.8 minutes\t Remaining: 28.7 minutes"
       ]
      },
      {
       "output_type": "stream",
       "stream": "stdout",
       "text": [
        " \r",
        "[*****************53%                  ]  11669890 of 22195070 complete Elapsed: 31.8 minutes\t Remaining: 28.7 minutes"
       ]
      },
      {
       "output_type": "stream",
       "stream": "stdout",
       "text": [
        " \r",
        "[*****************53%                  ]  11680226 of 22195070 complete Elapsed: 31.9 minutes\t Remaining: 28.7 minutes"
       ]
      },
      {
       "output_type": "stream",
       "stream": "stdout",
       "text": [
        " \r",
        "[*****************53%                  ]  11690487 of 22195070 complete Elapsed: 31.9 minutes\t Remaining: 28.6 minutes"
       ]
      },
      {
       "output_type": "stream",
       "stream": "stdout",
       "text": [
        " \r",
        "[*****************53%                  ]  11700866 of 22195070 complete Elapsed: 31.9 minutes\t Remaining: 28.6 minutes"
       ]
      },
      {
       "output_type": "stream",
       "stream": "stdout",
       "text": [
        " \r",
        "[*****************53%                  ]  11711173 of 22195070 complete Elapsed: 31.9 minutes\t Remaining: 28.6 minutes"
       ]
      },
      {
       "output_type": "stream",
       "stream": "stdout",
       "text": [
        " \r",
        "[*****************53%                  ]  11721509 of 22195070 complete Elapsed: 32.0 minutes\t Remaining: 28.5 minutes"
       ]
      },
      {
       "output_type": "stream",
       "stream": "stdout",
       "text": [
        " \r",
        "[*****************53%                  ]  11731769 of 22195070 complete Elapsed: 32.0 minutes\t Remaining: 28.5 minutes"
       ]
      },
      {
       "output_type": "stream",
       "stream": "stdout",
       "text": [
        " \r",
        "[*****************53%                  ]  11742102 of 22195070 complete Elapsed: 32.0 minutes\t Remaining: 28.5 minutes"
       ]
      },
      {
       "output_type": "stream",
       "stream": "stdout",
       "text": [
        " \r",
        "[*****************53%                  ]  11752392 of 22195070 complete Elapsed: 32.0 minutes\t Remaining: 28.5 minutes"
       ]
      },
      {
       "output_type": "stream",
       "stream": "stdout",
       "text": [
        " \r",
        "[*****************53%                  ]  11762707 of 22195070 complete Elapsed: 32.1 minutes\t Remaining: 28.4 minutes"
       ]
      },
      {
       "output_type": "stream",
       "stream": "stdout",
       "text": [
        " \r",
        "[*****************53%                  ]  11772950 of 22195070 complete Elapsed: 32.1 minutes\t Remaining: 28.4 minutes"
       ]
      },
      {
       "output_type": "stream",
       "stream": "stdout",
       "text": [
        " \r",
        "[*****************53%                  ]  11783299 of 22195070 complete Elapsed: 32.1 minutes\t Remaining: 28.4 minutes"
       ]
      },
      {
       "output_type": "stream",
       "stream": "stdout",
       "text": [
        " \r",
        "[*****************53%                  ]  11793574 of 22195070 complete Elapsed: 32.1 minutes\t Remaining: 28.3 minutes"
       ]
      },
      {
       "output_type": "stream",
       "stream": "stdout",
       "text": [
        " \r",
        "[*****************53%                  ]  11803924 of 22195070 complete Elapsed: 32.2 minutes\t Remaining: 28.3 minutes"
       ]
      },
      {
       "output_type": "stream",
       "stream": "stdout",
       "text": [
        " \r",
        "[*****************53%                  ]  11814175 of 22195070 complete Elapsed: 32.2 minutes\t Remaining: 28.3 minutes"
       ]
      },
      {
       "output_type": "stream",
       "stream": "stdout",
       "text": [
        " \r",
        "[*****************53%                  ]  11824466 of 22195070 complete Elapsed: 32.2 minutes\t Remaining: 28.2 minutes"
       ]
      },
      {
       "output_type": "stream",
       "stream": "stdout",
       "text": [
        " \r",
        "[*****************53%                  ]  11834734 of 22195070 complete Elapsed: 32.2 minutes\t Remaining: 28.2 minutes"
       ]
      },
      {
       "output_type": "stream",
       "stream": "stdout",
       "text": [
        " \r",
        "[*****************53%                  ]  11845075 of 22195070 complete Elapsed: 32.3 minutes\t Remaining: 28.2 minutes"
       ]
      },
      {
       "output_type": "stream",
       "stream": "stdout",
       "text": [
        " \r",
        "[*****************53%                  ]  11855353 of 22195070 complete Elapsed: 32.3 minutes\t Remaining: 28.2 minutes"
       ]
      },
      {
       "output_type": "stream",
       "stream": "stdout",
       "text": [
        " \r",
        "[*****************53%                  ]  11865737 of 22195070 complete Elapsed: 32.3 minutes\t Remaining: 28.1 minutes"
       ]
      },
      {
       "output_type": "stream",
       "stream": "stdout",
       "text": [
        " \r",
        "[*****************54%*                 ]  11875856 of 22195070 complete Elapsed: 32.3 minutes\t Remaining: 28.1 minutes"
       ]
      },
      {
       "output_type": "stream",
       "stream": "stdout",
       "text": [
        " \r",
        "[*****************54%*                 ]  11886168 of 22195070 complete Elapsed: 32.4 minutes\t Remaining: 28.1 minutes"
       ]
      },
      {
       "output_type": "stream",
       "stream": "stdout",
       "text": [
        " \r",
        "[*****************54%*                 ]  11896434 of 22195070 complete Elapsed: 32.4 minutes\t Remaining: 28.0 minutes"
       ]
      },
      {
       "output_type": "stream",
       "stream": "stdout",
       "text": [
        " \r",
        "[*****************54%*                 ]  11906824 of 22195070 complete Elapsed: 32.4 minutes\t Remaining: 28.0 minutes"
       ]
      },
      {
       "output_type": "stream",
       "stream": "stdout",
       "text": [
        " \r",
        "[*****************54%*                 ]  11917138 of 22195070 complete Elapsed: 32.4 minutes\t Remaining: 28.0 minutes"
       ]
      },
      {
       "output_type": "stream",
       "stream": "stdout",
       "text": [
        " \r",
        "[*****************54%*                 ]  11927395 of 22195070 complete Elapsed: 32.5 minutes\t Remaining: 27.9 minutes"
       ]
      },
      {
       "output_type": "stream",
       "stream": "stdout",
       "text": [
        " \r",
        "[*****************54%*                 ]  11937633 of 22195070 complete Elapsed: 32.5 minutes\t Remaining: 27.9 minutes"
       ]
      },
      {
       "output_type": "stream",
       "stream": "stdout",
       "text": [
        " \r",
        "[*****************54%*                 ]  11948035 of 22195070 complete Elapsed: 32.5 minutes\t Remaining: 27.9 minutes"
       ]
      },
      {
       "output_type": "stream",
       "stream": "stdout",
       "text": [
        " \r",
        "[*****************54%*                 ]  11958304 of 22195070 complete Elapsed: 32.5 minutes\t Remaining: 27.8 minutes"
       ]
      },
      {
       "output_type": "stream",
       "stream": "stdout",
       "text": [
        " \r",
        "[*****************54%*                 ]  11968648 of 22195070 complete Elapsed: 32.6 minutes\t Remaining: 27.8 minutes"
       ]
      },
      {
       "output_type": "stream",
       "stream": "stdout",
       "text": [
        " \r",
        "[*****************54%*                 ]  11978931 of 22195070 complete Elapsed: 32.6 minutes\t Remaining: 27.8 minutes"
       ]
      },
      {
       "output_type": "stream",
       "stream": "stdout",
       "text": [
        " \r",
        "[*****************54%*                 ]  11989284 of 22195070 complete Elapsed: 32.6 minutes\t Remaining: 27.8 minutes"
       ]
      },
      {
       "output_type": "stream",
       "stream": "stdout",
       "text": [
        " \r",
        "[*****************54%*                 ]  11999572 of 22195070 complete Elapsed: 32.6 minutes\t Remaining: 27.7 minutes"
       ]
      },
      {
       "output_type": "stream",
       "stream": "stdout",
       "text": [
        " \r",
        "[*****************54%*                 ]  12009876 of 22195070 complete Elapsed: 32.7 minutes\t Remaining: 27.7 minutes"
       ]
      },
      {
       "output_type": "stream",
       "stream": "stdout",
       "text": [
        " \r",
        "[*****************54%*                 ]  12020150 of 22195070 complete Elapsed: 32.7 minutes\t Remaining: 27.7 minutes"
       ]
      },
      {
       "output_type": "stream",
       "stream": "stdout",
       "text": [
        " \r",
        "[*****************54%*                 ]  12030478 of 22195070 complete Elapsed: 32.7 minutes\t Remaining: 27.6 minutes"
       ]
      },
      {
       "output_type": "stream",
       "stream": "stdout",
       "text": [
        " \r",
        "[*****************54%*                 ]  12040718 of 22195070 complete Elapsed: 32.7 minutes\t Remaining: 27.6 minutes"
       ]
      },
      {
       "output_type": "stream",
       "stream": "stdout",
       "text": [
        " \r",
        "[*****************54%*                 ]  12051037 of 22195070 complete Elapsed: 32.8 minutes\t Remaining: 27.6 minutes"
       ]
      },
      {
       "output_type": "stream",
       "stream": "stdout",
       "text": [
        " \r",
        "[*****************54%*                 ]  12061317 of 22195070 complete Elapsed: 32.8 minutes\t Remaining: 27.5 minutes"
       ]
      },
      {
       "output_type": "stream",
       "stream": "stdout",
       "text": [
        " \r",
        "[*****************54%*                 ]  12071616 of 22195070 complete Elapsed: 32.8 minutes\t Remaining: 27.5 minutes"
       ]
      },
      {
       "output_type": "stream",
       "stream": "stdout",
       "text": [
        " \r",
        "[*****************54%*                 ]  12081906 of 22195070 complete Elapsed: 32.8 minutes\t Remaining: 27.5 minutes"
       ]
      },
      {
       "output_type": "stream",
       "stream": "stdout",
       "text": [
        " \r",
        "[*****************54%*                 ]  12092222 of 22195070 complete Elapsed: 32.9 minutes\t Remaining: 27.4 minutes"
       ]
      },
      {
       "output_type": "stream",
       "stream": "stdout",
       "text": [
        " \r",
        "[*****************55%*                 ]  12102486 of 22195070 complete Elapsed: 32.9 minutes\t Remaining: 27.4 minutes"
       ]
      },
      {
       "output_type": "stream",
       "stream": "stdout",
       "text": [
        " \r",
        "[*****************55%*                 ]  12112810 of 22195070 complete Elapsed: 32.9 minutes\t Remaining: 27.4 minutes"
       ]
      },
      {
       "output_type": "stream",
       "stream": "stdout",
       "text": [
        " \r",
        "[*****************55%*                 ]  12123064 of 22195070 complete Elapsed: 32.9 minutes\t Remaining: 27.4 minutes"
       ]
      },
      {
       "output_type": "stream",
       "stream": "stdout",
       "text": [
        " \r",
        "[*****************55%*                 ]  12133386 of 22195070 complete Elapsed: 33.0 minutes\t Remaining: 27.3 minutes"
       ]
      },
      {
       "output_type": "stream",
       "stream": "stdout",
       "text": [
        " \r",
        "[*****************55%*                 ]  12143634 of 22195070 complete Elapsed: 33.0 minutes\t Remaining: 27.3 minutes"
       ]
      },
      {
       "output_type": "stream",
       "stream": "stdout",
       "text": [
        " \r",
        "[*****************55%*                 ]  12153978 of 22195070 complete Elapsed: 33.0 minutes\t Remaining: 27.3 minutes"
       ]
      },
      {
       "output_type": "stream",
       "stream": "stdout",
       "text": [
        " \r",
        "[*****************55%*                 ]  12164263 of 22195070 complete Elapsed: 33.0 minutes\t Remaining: 27.2 minutes"
       ]
      },
      {
       "output_type": "stream",
       "stream": "stdout",
       "text": [
        " \r",
        "[*****************55%*                 ]  12174555 of 22195070 complete Elapsed: 33.1 minutes\t Remaining: 27.2 minutes"
       ]
      },
      {
       "output_type": "stream",
       "stream": "stdout",
       "text": [
        " \r",
        "[*****************55%*                 ]  12184828 of 22195070 complete Elapsed: 33.1 minutes\t Remaining: 27.2 minutes"
       ]
      },
      {
       "output_type": "stream",
       "stream": "stdout",
       "text": [
        " \r",
        "[*****************55%*                 ]  12195212 of 22195070 complete Elapsed: 33.1 minutes\t Remaining: 27.1 minutes"
       ]
      },
      {
       "output_type": "stream",
       "stream": "stdout",
       "text": [
        " \r",
        "[*****************55%*                 ]  12205488 of 22195070 complete Elapsed: 33.1 minutes\t Remaining: 27.1 minutes"
       ]
      },
      {
       "output_type": "stream",
       "stream": "stdout",
       "text": [
        " \r",
        "[*****************55%*                 ]  12215805 of 22195070 complete Elapsed: 33.2 minutes\t Remaining: 27.1 minutes"
       ]
      },
      {
       "output_type": "stream",
       "stream": "stdout",
       "text": [
        " \r",
        "[*****************55%*                 ]  12226060 of 22195070 complete Elapsed: 33.2 minutes\t Remaining: 27.1 minutes"
       ]
      },
      {
       "output_type": "stream",
       "stream": "stdout",
       "text": [
        " \r",
        "[*****************55%*                 ]  12236372 of 22195070 complete Elapsed: 33.2 minutes\t Remaining: 27.0 minutes"
       ]
      },
      {
       "output_type": "stream",
       "stream": "stdout",
       "text": [
        " \r",
        "[*****************55%*                 ]  12246646 of 22195070 complete Elapsed: 33.2 minutes\t Remaining: 27.0 minutes"
       ]
      },
      {
       "output_type": "stream",
       "stream": "stdout",
       "text": [
        " \r",
        "[*****************55%*                 ]  12256953 of 22195070 complete Elapsed: 33.3 minutes\t Remaining: 27.0 minutes"
       ]
      },
      {
       "output_type": "stream",
       "stream": "stdout",
       "text": [
        " \r",
        "[*****************55%*                 ]  12267202 of 22195070 complete Elapsed: 33.3 minutes\t Remaining: 26.9 minutes"
       ]
      },
      {
       "output_type": "stream",
       "stream": "stdout",
       "text": [
        " \r",
        "[*****************55%*                 ]  12277546 of 22195070 complete Elapsed: 33.3 minutes\t Remaining: 26.9 minutes"
       ]
      },
      {
       "output_type": "stream",
       "stream": "stdout",
       "text": [
        " \r",
        "[*****************55%*                 ]  12287816 of 22195070 complete Elapsed: 33.3 minutes\t Remaining: 26.9 minutes"
       ]
      },
      {
       "output_type": "stream",
       "stream": "stdout",
       "text": [
        " \r",
        "[*****************55%*                 ]  12298083 of 22195070 complete Elapsed: 33.4 minutes\t Remaining: 26.8 minutes"
       ]
      },
      {
       "output_type": "stream",
       "stream": "stdout",
       "text": [
        " \r",
        "[*****************55%*                 ]  12308373 of 22195070 complete Elapsed: 33.4 minutes\t Remaining: 26.8 minutes"
       ]
      },
      {
       "output_type": "stream",
       "stream": "stdout",
       "text": [
        " \r",
        "[*****************56%*                 ]  12318698 of 22195070 complete Elapsed: 33.4 minutes\t Remaining: 26.8 minutes"
       ]
      },
      {
       "output_type": "stream",
       "stream": "stdout",
       "text": [
        " \r",
        "[*****************56%*                 ]  12328950 of 22195070 complete Elapsed: 33.4 minutes\t Remaining: 26.7 minutes"
       ]
      },
      {
       "output_type": "stream",
       "stream": "stdout",
       "text": [
        " \r",
        "[*****************56%*                 ]  12339245 of 22195070 complete Elapsed: 33.5 minutes\t Remaining: 26.7 minutes"
       ]
      },
      {
       "output_type": "stream",
       "stream": "stdout",
       "text": [
        " \r",
        "[*****************56%*                 ]  12349532 of 22195070 complete Elapsed: 33.5 minutes\t Remaining: 26.7 minutes"
       ]
      },
      {
       "output_type": "stream",
       "stream": "stdout",
       "text": [
        " \r",
        "[*****************56%*                 ]  12359857 of 22195070 complete Elapsed: 33.5 minutes\t Remaining: 26.7 minutes"
       ]
      },
      {
       "output_type": "stream",
       "stream": "stdout",
       "text": [
        " \r",
        "[*****************56%*                 ]  12370157 of 22195070 complete Elapsed: 33.5 minutes\t Remaining: 26.6 minutes"
       ]
      },
      {
       "output_type": "stream",
       "stream": "stdout",
       "text": [
        " \r",
        "[*****************56%*                 ]  12380487 of 22195070 complete Elapsed: 33.6 minutes\t Remaining: 26.6 minutes"
       ]
      },
      {
       "output_type": "stream",
       "stream": "stdout",
       "text": [
        " \r",
        "[*****************56%*                 ]  12390741 of 22195070 complete Elapsed: 33.6 minutes\t Remaining: 26.6 minutes"
       ]
      },
      {
       "output_type": "stream",
       "stream": "stdout",
       "text": [
        " \r",
        "[*****************56%*                 ]  12401105 of 22195070 complete Elapsed: 33.6 minutes\t Remaining: 26.5 minutes"
       ]
      },
      {
       "output_type": "stream",
       "stream": "stdout",
       "text": [
        " \r",
        "[*****************56%*                 ]  12411390 of 22195070 complete Elapsed: 33.6 minutes\t Remaining: 26.5 minutes"
       ]
      },
      {
       "output_type": "stream",
       "stream": "stdout",
       "text": [
        " \r",
        "[*****************56%*                 ]  12421722 of 22195070 complete Elapsed: 33.7 minutes\t Remaining: 26.5 minutes"
       ]
      },
      {
       "output_type": "stream",
       "stream": "stdout",
       "text": [
        " \r",
        "[*****************56%*                 ]  12432055 of 22195070 complete Elapsed: 33.7 minutes\t Remaining: 26.4 minutes"
       ]
      },
      {
       "output_type": "stream",
       "stream": "stdout",
       "text": [
        " \r",
        "[*****************56%*                 ]  12442384 of 22195070 complete Elapsed: 33.7 minutes\t Remaining: 26.4 minutes"
       ]
      },
      {
       "output_type": "stream",
       "stream": "stdout",
       "text": [
        " \r",
        "[*****************56%*                 ]  12452688 of 22195070 complete Elapsed: 33.7 minutes\t Remaining: 26.4 minutes"
       ]
      },
      {
       "output_type": "stream",
       "stream": "stdout",
       "text": [
        " \r",
        "[*****************56%*                 ]  12459892 of 22195070 complete Elapsed: 34.0 minutes\t Remaining: 26.6 minutes"
       ]
      },
      {
       "output_type": "stream",
       "stream": "stdout",
       "text": [
        " \r",
        "[*****************56%*                 ]  12466893 of 22195070 complete Elapsed: 34.1 minutes\t Remaining: 26.6 minutes"
       ]
      },
      {
       "output_type": "stream",
       "stream": "stdout",
       "text": [
        " \r",
        "[*****************56%*                 ]  12477175 of 22195070 complete Elapsed: 34.1 minutes\t Remaining: 26.6 minutes"
       ]
      },
      {
       "output_type": "stream",
       "stream": "stdout",
       "text": [
        " \r",
        "[*****************56%*                 ]  12487461 of 22195070 complete Elapsed: 34.1 minutes\t Remaining: 26.5 minutes"
       ]
      },
      {
       "output_type": "stream",
       "stream": "stdout",
       "text": [
        " \r",
        "[*****************56%*                 ]  12497678 of 22195070 complete Elapsed: 34.1 minutes\t Remaining: 26.5 minutes"
       ]
      },
      {
       "output_type": "stream",
       "stream": "stdout",
       "text": [
        " \r",
        "[*****************56%*                 ]  12507875 of 22195070 complete Elapsed: 34.2 minutes\t Remaining: 26.5 minutes"
       ]
      },
      {
       "output_type": "stream",
       "stream": "stdout",
       "text": [
        " \r",
        "[*****************56%*                 ]  12518019 of 22195070 complete Elapsed: 34.2 minutes\t Remaining: 26.4 minutes"
       ]
      },
      {
       "output_type": "stream",
       "stream": "stdout",
       "text": [
        " \r",
        "[*****************56%*                 ]  12528218 of 22195070 complete Elapsed: 34.2 minutes\t Remaining: 26.4 minutes"
       ]
      },
      {
       "output_type": "stream",
       "stream": "stdout",
       "text": [
        " \r",
        "[*****************56%*                 ]  12538391 of 22195070 complete Elapsed: 34.2 minutes\t Remaining: 26.4 minutes"
       ]
      },
      {
       "output_type": "stream",
       "stream": "stdout",
       "text": [
        " \r",
        "[*****************57%**                ]  12548511 of 22195070 complete Elapsed: 34.3 minutes\t Remaining: 26.3 minutes"
       ]
      },
      {
       "output_type": "stream",
       "stream": "stdout",
       "text": [
        " \r",
        "[*****************57%**                ]  12558645 of 22195070 complete Elapsed: 34.3 minutes\t Remaining: 26.3 minutes"
       ]
      },
      {
       "output_type": "stream",
       "stream": "stdout",
       "text": [
        " \r",
        "[*****************57%**                ]  12568847 of 22195070 complete Elapsed: 34.3 minutes\t Remaining: 26.3 minutes"
       ]
      },
      {
       "output_type": "stream",
       "stream": "stdout",
       "text": [
        " \r",
        "[*****************57%**                ]  12578984 of 22195070 complete Elapsed: 34.3 minutes\t Remaining: 26.3 minutes"
       ]
      },
      {
       "output_type": "stream",
       "stream": "stdout",
       "text": [
        " \r",
        "[*****************57%**                ]  12589140 of 22195070 complete Elapsed: 34.4 minutes\t Remaining: 26.2 minutes"
       ]
      },
      {
       "output_type": "stream",
       "stream": "stdout",
       "text": [
        " \r",
        "[*****************57%**                ]  12599275 of 22195070 complete Elapsed: 34.4 minutes\t Remaining: 26.2 minutes"
       ]
      },
      {
       "output_type": "stream",
       "stream": "stdout",
       "text": [
        " \r",
        "[*****************57%**                ]  12609472 of 22195070 complete Elapsed: 34.4 minutes\t Remaining: 26.2 minutes"
       ]
      },
      {
       "output_type": "stream",
       "stream": "stdout",
       "text": [
        " \r",
        "[*****************57%**                ]  12619630 of 22195070 complete Elapsed: 34.4 minutes\t Remaining: 26.1 minutes"
       ]
      },
      {
       "output_type": "stream",
       "stream": "stdout",
       "text": [
        " \r",
        "[*****************57%**                ]  12629825 of 22195070 complete Elapsed: 34.5 minutes\t Remaining: 26.1 minutes"
       ]
      },
      {
       "output_type": "stream",
       "stream": "stdout",
       "text": [
        " \r",
        "[*****************57%**                ]  12640027 of 22195070 complete Elapsed: 34.5 minutes\t Remaining: 26.1 minutes"
       ]
      },
      {
       "output_type": "stream",
       "stream": "stdout",
       "text": [
        " \r",
        "[*****************57%**                ]  12650188 of 22195070 complete Elapsed: 34.5 minutes\t Remaining: 26.0 minutes"
       ]
      },
      {
       "output_type": "stream",
       "stream": "stdout",
       "text": [
        " \r",
        "[*****************57%**                ]  12660266 of 22195070 complete Elapsed: 34.5 minutes\t Remaining: 26.0 minutes"
       ]
      },
      {
       "output_type": "stream",
       "stream": "stdout",
       "text": [
        " \r",
        "[*****************57%**                ]  12670433 of 22195070 complete Elapsed: 34.6 minutes\t Remaining: 26.0 minutes"
       ]
      },
      {
       "output_type": "stream",
       "stream": "stdout",
       "text": [
        " \r",
        "[*****************57%**                ]  12680549 of 22195070 complete Elapsed: 34.6 minutes\t Remaining: 26.0 minutes"
       ]
      },
      {
       "output_type": "stream",
       "stream": "stdout",
       "text": [
        " \r",
        "[*****************57%**                ]  12690800 of 22195070 complete Elapsed: 34.6 minutes\t Remaining: 25.9 minutes"
       ]
      },
      {
       "output_type": "stream",
       "stream": "stdout",
       "text": [
        " \r",
        "[*****************57%**                ]  12700955 of 22195070 complete Elapsed: 34.6 minutes\t Remaining: 25.9 minutes"
       ]
      },
      {
       "output_type": "stream",
       "stream": "stdout",
       "text": [
        " \r",
        "[*****************57%**                ]  12711125 of 22195070 complete Elapsed: 34.7 minutes\t Remaining: 25.9 minutes"
       ]
      },
      {
       "output_type": "stream",
       "stream": "stdout",
       "text": [
        " \r",
        "[*****************57%**                ]  12721270 of 22195070 complete Elapsed: 34.7 minutes\t Remaining: 25.8 minutes"
       ]
      },
      {
       "output_type": "stream",
       "stream": "stdout",
       "text": [
        " \r",
        "[*****************57%**                ]  12731447 of 22195070 complete Elapsed: 34.7 minutes\t Remaining: 25.8 minutes"
       ]
      },
      {
       "output_type": "stream",
       "stream": "stdout",
       "text": [
        " \r",
        "[*****************57%**                ]  12741629 of 22195070 complete Elapsed: 34.7 minutes\t Remaining: 25.8 minutes"
       ]
      },
      {
       "output_type": "stream",
       "stream": "stdout",
       "text": [
        " \r",
        "[*****************57%**                ]  12751846 of 22195070 complete Elapsed: 34.8 minutes\t Remaining: 25.8 minutes"
       ]
      },
      {
       "output_type": "stream",
       "stream": "stdout",
       "text": [
        " \r",
        "[*****************57%**                ]  12762008 of 22195070 complete Elapsed: 34.8 minutes\t Remaining: 25.7 minutes"
       ]
      },
      {
       "output_type": "stream",
       "stream": "stdout",
       "text": [
        " \r",
        "[*****************58%**                ]  12772265 of 22195070 complete Elapsed: 34.8 minutes\t Remaining: 25.7 minutes"
       ]
      },
      {
       "output_type": "stream",
       "stream": "stdout",
       "text": [
        " \r",
        "[*****************58%**                ]  12782451 of 22195070 complete Elapsed: 34.8 minutes\t Remaining: 25.7 minutes"
       ]
      },
      {
       "output_type": "stream",
       "stream": "stdout",
       "text": [
        " \r",
        "[*****************58%**                ]  12792582 of 22195070 complete Elapsed: 34.9 minutes\t Remaining: 25.6 minutes"
       ]
      },
      {
       "output_type": "stream",
       "stream": "stdout",
       "text": [
        " \r",
        "[*****************58%**                ]  12802511 of 22195070 complete Elapsed: 34.9 minutes\t Remaining: 25.6 minutes"
       ]
      },
      {
       "output_type": "stream",
       "stream": "stdout",
       "text": [
        " \r",
        "[*****************58%**                ]  12812811 of 22195070 complete Elapsed: 34.9 minutes\t Remaining: 25.6 minutes"
       ]
      },
      {
       "output_type": "stream",
       "stream": "stdout",
       "text": [
        " \r",
        "[*****************58%**                ]  12823175 of 22195070 complete Elapsed: 34.9 minutes\t Remaining: 25.5 minutes"
       ]
      },
      {
       "output_type": "stream",
       "stream": "stdout",
       "text": [
        " \r",
        "[*****************58%**                ]  12833096 of 22195070 complete Elapsed: 35.0 minutes\t Remaining: 25.5 minutes"
       ]
      },
      {
       "output_type": "stream",
       "stream": "stdout",
       "text": [
        " \r",
        "[*****************58%**                ]  12843084 of 22195070 complete Elapsed: 35.0 minutes\t Remaining: 25.5 minutes"
       ]
      },
      {
       "output_type": "stream",
       "stream": "stdout",
       "text": [
        " \r",
        "[*****************58%**                ]  12853226 of 22195070 complete Elapsed: 35.0 minutes\t Remaining: 25.5 minutes"
       ]
      },
      {
       "output_type": "stream",
       "stream": "stdout",
       "text": [
        " \r",
        "[*****************58%**                ]  12863368 of 22195070 complete Elapsed: 35.0 minutes\t Remaining: 25.4 minutes"
       ]
      },
      {
       "output_type": "stream",
       "stream": "stdout",
       "text": [
        " \r",
        "[*****************58%**                ]  12873555 of 22195070 complete Elapsed: 35.1 minutes\t Remaining: 25.4 minutes"
       ]
      },
      {
       "output_type": "stream",
       "stream": "stdout",
       "text": [
        " \r",
        "[*****************58%**                ]  12883767 of 22195070 complete Elapsed: 35.1 minutes\t Remaining: 25.4 minutes"
       ]
      },
      {
       "output_type": "stream",
       "stream": "stdout",
       "text": [
        " \r",
        "[*****************58%**                ]  12893991 of 22195070 complete Elapsed: 35.1 minutes\t Remaining: 25.3 minutes"
       ]
      },
      {
       "output_type": "stream",
       "stream": "stdout",
       "text": [
        " \r",
        "[*****************58%**                ]  12904156 of 22195070 complete Elapsed: 35.1 minutes\t Remaining: 25.3 minutes"
       ]
      },
      {
       "output_type": "stream",
       "stream": "stdout",
       "text": [
        " \r",
        "[*****************58%**                ]  12914388 of 22195070 complete Elapsed: 35.2 minutes\t Remaining: 25.3 minutes"
       ]
      },
      {
       "output_type": "stream",
       "stream": "stdout",
       "text": [
        " \r",
        "[*****************58%**                ]  12924571 of 22195070 complete Elapsed: 35.2 minutes\t Remaining: 25.2 minutes"
       ]
      },
      {
       "output_type": "stream",
       "stream": "stdout",
       "text": [
        " \r",
        "[*****************58%**                ]  12934761 of 22195070 complete Elapsed: 35.2 minutes\t Remaining: 25.2 minutes"
       ]
      },
      {
       "output_type": "stream",
       "stream": "stdout",
       "text": [
        " \r",
        "[*****************58%**                ]  12944920 of 22195070 complete Elapsed: 35.2 minutes\t Remaining: 25.2 minutes"
       ]
      },
      {
       "output_type": "stream",
       "stream": "stdout",
       "text": [
        " \r",
        "[*****************58%**                ]  12955129 of 22195070 complete Elapsed: 35.3 minutes\t Remaining: 25.2 minutes"
       ]
      },
      {
       "output_type": "stream",
       "stream": "stdout",
       "text": [
        " \r",
        "[*****************58%**                ]  12965313 of 22195070 complete Elapsed: 35.3 minutes\t Remaining: 25.1 minutes"
       ]
      },
      {
       "output_type": "stream",
       "stream": "stdout",
       "text": [
        " \r",
        "[*****************58%**                ]  12975507 of 22195070 complete Elapsed: 35.3 minutes\t Remaining: 25.1 minutes"
       ]
      },
      {
       "output_type": "stream",
       "stream": "stdout",
       "text": [
        " \r",
        "[*****************59%**                ]  12985663 of 22195070 complete Elapsed: 35.3 minutes\t Remaining: 25.1 minutes"
       ]
      },
      {
       "output_type": "stream",
       "stream": "stdout",
       "text": [
        " \r",
        "[*****************59%**                ]  12995853 of 22195070 complete Elapsed: 35.4 minutes\t Remaining: 25.0 minutes"
       ]
      },
      {
       "output_type": "stream",
       "stream": "stdout",
       "text": [
        " \r",
        "[*****************59%**                ]  13006040 of 22195070 complete Elapsed: 35.4 minutes\t Remaining: 25.0 minutes"
       ]
      },
      {
       "output_type": "stream",
       "stream": "stdout",
       "text": [
        " \r",
        "[*****************59%**                ]  13016241 of 22195070 complete Elapsed: 35.4 minutes\t Remaining: 25.0 minutes"
       ]
      },
      {
       "output_type": "stream",
       "stream": "stdout",
       "text": [
        " \r",
        "[*****************59%**                ]  13026403 of 22195070 complete Elapsed: 35.4 minutes\t Remaining: 25.0 minutes"
       ]
      },
      {
       "output_type": "stream",
       "stream": "stdout",
       "text": [
        " \r",
        "[*****************59%**                ]  13036594 of 22195070 complete Elapsed: 35.5 minutes\t Remaining: 24.9 minutes"
       ]
      },
      {
       "output_type": "stream",
       "stream": "stdout",
       "text": [
        " \r",
        "[*****************59%**                ]  13046795 of 22195070 complete Elapsed: 35.5 minutes\t Remaining: 24.9 minutes"
       ]
      },
      {
       "output_type": "stream",
       "stream": "stdout",
       "text": [
        " \r",
        "[*****************59%**                ]  13056991 of 22195070 complete Elapsed: 35.5 minutes\t Remaining: 24.9 minutes"
       ]
      },
      {
       "output_type": "stream",
       "stream": "stdout",
       "text": [
        " \r",
        "[*****************59%**                ]  13067150 of 22195070 complete Elapsed: 35.5 minutes\t Remaining: 24.8 minutes"
       ]
      },
      {
       "output_type": "stream",
       "stream": "stdout",
       "text": [
        " \r",
        "[*****************59%**                ]  13077306 of 22195070 complete Elapsed: 35.6 minutes\t Remaining: 24.8 minutes"
       ]
      },
      {
       "output_type": "stream",
       "stream": "stdout",
       "text": [
        " \r",
        "[*****************59%**                ]  13087460 of 22195070 complete Elapsed: 35.6 minutes\t Remaining: 24.8 minutes"
       ]
      },
      {
       "output_type": "stream",
       "stream": "stdout",
       "text": [
        " \r",
        "[*****************59%**                ]  13097650 of 22195070 complete Elapsed: 35.6 minutes\t Remaining: 24.7 minutes"
       ]
      },
      {
       "output_type": "stream",
       "stream": "stdout",
       "text": [
        " \r",
        "[*****************59%**                ]  13107795 of 22195070 complete Elapsed: 35.6 minutes\t Remaining: 24.7 minutes"
       ]
      },
      {
       "output_type": "stream",
       "stream": "stdout",
       "text": [
        " \r",
        "[*****************59%**                ]  13117957 of 22195070 complete Elapsed: 35.7 minutes\t Remaining: 24.7 minutes"
       ]
      },
      {
       "output_type": "stream",
       "stream": "stdout",
       "text": [
        " \r",
        "[*****************59%**                ]  13128120 of 22195070 complete Elapsed: 35.7 minutes\t Remaining: 24.7 minutes"
       ]
      },
      {
       "output_type": "stream",
       "stream": "stdout",
       "text": [
        " \r",
        "[*****************59%**                ]  13138300 of 22195070 complete Elapsed: 35.7 minutes\t Remaining: 24.6 minutes"
       ]
      },
      {
       "output_type": "stream",
       "stream": "stdout",
       "text": [
        " \r",
        "[*****************59%**                ]  13148475 of 22195070 complete Elapsed: 35.7 minutes\t Remaining: 24.6 minutes"
       ]
      },
      {
       "output_type": "stream",
       "stream": "stdout",
       "text": [
        " \r",
        "[*****************59%**                ]  13158691 of 22195070 complete Elapsed: 35.8 minutes\t Remaining: 24.6 minutes"
       ]
      },
      {
       "output_type": "stream",
       "stream": "stdout",
       "text": [
        " \r",
        "[*****************59%**                ]  13168849 of 22195070 complete Elapsed: 35.8 minutes\t Remaining: 24.5 minutes"
       ]
      },
      {
       "output_type": "stream",
       "stream": "stdout",
       "text": [
        " \r",
        "[*****************59%**                ]  13179055 of 22195070 complete Elapsed: 35.8 minutes\t Remaining: 24.5 minutes"
       ]
      },
      {
       "output_type": "stream",
       "stream": "stdout",
       "text": [
        " \r",
        "[*****************59%**                ]  13189225 of 22195070 complete Elapsed: 35.8 minutes\t Remaining: 24.5 minutes"
       ]
      },
      {
       "output_type": "stream",
       "stream": "stdout",
       "text": [
        " \r",
        "[*****************59%**                ]  13199419 of 22195070 complete Elapsed: 35.9 minutes\t Remaining: 24.4 minutes"
       ]
      },
      {
       "output_type": "stream",
       "stream": "stdout",
       "text": [
        " \r",
        "[*****************60%***               ]  13209577 of 22195070 complete Elapsed: 35.9 minutes\t Remaining: 24.4 minutes"
       ]
      },
      {
       "output_type": "stream",
       "stream": "stdout",
       "text": [
        " \r",
        "[*****************60%***               ]  13219778 of 22195070 complete Elapsed: 35.9 minutes\t Remaining: 24.4 minutes"
       ]
      },
      {
       "output_type": "stream",
       "stream": "stdout",
       "text": [
        " \r",
        "[*****************60%***               ]  13229925 of 22195070 complete Elapsed: 35.9 minutes\t Remaining: 24.4 minutes"
       ]
      },
      {
       "output_type": "stream",
       "stream": "stdout",
       "text": [
        " \r",
        "[*****************60%***               ]  13240122 of 22195070 complete Elapsed: 36.0 minutes\t Remaining: 24.3 minutes"
       ]
      },
      {
       "output_type": "stream",
       "stream": "stdout",
       "text": [
        " \r",
        "[*****************60%***               ]  13250269 of 22195070 complete Elapsed: 36.0 minutes\t Remaining: 24.3 minutes"
       ]
      },
      {
       "output_type": "stream",
       "stream": "stdout",
       "text": [
        " \r",
        "[*****************60%***               ]  13260441 of 22195070 complete Elapsed: 36.0 minutes\t Remaining: 24.3 minutes"
       ]
      },
      {
       "output_type": "stream",
       "stream": "stdout",
       "text": [
        " \r",
        "[*****************60%***               ]  13270626 of 22195070 complete Elapsed: 36.0 minutes\t Remaining: 24.2 minutes"
       ]
      },
      {
       "output_type": "stream",
       "stream": "stdout",
       "text": [
        " \r",
        "[*****************60%***               ]  13280778 of 22195070 complete Elapsed: 36.1 minutes\t Remaining: 24.2 minutes"
       ]
      },
      {
       "output_type": "stream",
       "stream": "stdout",
       "text": [
        " \r",
        "[*****************60%***               ]  13290907 of 22195070 complete Elapsed: 36.1 minutes\t Remaining: 24.2 minutes"
       ]
      },
      {
       "output_type": "stream",
       "stream": "stdout",
       "text": [
        " \r",
        "[*****************60%***               ]  13301111 of 22195070 complete Elapsed: 36.1 minutes\t Remaining: 24.2 minutes"
       ]
      },
      {
       "output_type": "stream",
       "stream": "stdout",
       "text": [
        " \r",
        "[*****************60%***               ]  13311284 of 22195070 complete Elapsed: 36.1 minutes\t Remaining: 24.1 minutes"
       ]
      },
      {
       "output_type": "stream",
       "stream": "stdout",
       "text": [
        " \r",
        "[*****************60%***               ]  13321489 of 22195070 complete Elapsed: 36.2 minutes\t Remaining: 24.1 minutes"
       ]
      },
      {
       "output_type": "stream",
       "stream": "stdout",
       "text": [
        " \r",
        "[*****************60%***               ]  13331696 of 22195070 complete Elapsed: 36.2 minutes\t Remaining: 24.1 minutes"
       ]
      },
      {
       "output_type": "stream",
       "stream": "stdout",
       "text": [
        " \r",
        "[*****************60%***               ]  13341929 of 22195070 complete Elapsed: 36.2 minutes\t Remaining: 24.0 minutes"
       ]
      },
      {
       "output_type": "stream",
       "stream": "stdout",
       "text": [
        " \r",
        "[*****************60%***               ]  13352093 of 22195070 complete Elapsed: 36.2 minutes\t Remaining: 24.0 minutes"
       ]
      },
      {
       "output_type": "stream",
       "stream": "stdout",
       "text": [
        " \r",
        "[*****************60%***               ]  13362270 of 22195070 complete Elapsed: 36.3 minutes\t Remaining: 24.0 minutes"
       ]
      },
      {
       "output_type": "stream",
       "stream": "stdout",
       "text": [
        " \r",
        "[*****************60%***               ]  13372431 of 22195070 complete Elapsed: 36.3 minutes\t Remaining: 23.9 minutes"
       ]
      },
      {
       "output_type": "stream",
       "stream": "stdout",
       "text": [
        " \r",
        "[*****************60%***               ]  13382651 of 22195070 complete Elapsed: 36.3 minutes\t Remaining: 23.9 minutes"
       ]
      },
      {
       "output_type": "stream",
       "stream": "stdout",
       "text": [
        " \r",
        "[*****************60%***               ]  13392829 of 22195070 complete Elapsed: 36.3 minutes\t Remaining: 23.9 minutes"
       ]
      },
      {
       "output_type": "stream",
       "stream": "stdout",
       "text": [
        " \r",
        "[*****************60%***               ]  13403033 of 22195070 complete Elapsed: 36.4 minutes\t Remaining: 23.9 minutes"
       ]
      },
      {
       "output_type": "stream",
       "stream": "stdout",
       "text": [
        " \r",
        "[*****************60%***               ]  13413189 of 22195070 complete Elapsed: 36.4 minutes\t Remaining: 23.8 minutes"
       ]
      },
      {
       "output_type": "stream",
       "stream": "stdout",
       "text": [
        " \r",
        "[*****************60%***               ]  13423388 of 22195070 complete Elapsed: 36.4 minutes\t Remaining: 23.8 minutes"
       ]
      },
      {
       "output_type": "stream",
       "stream": "stdout",
       "text": [
        " \r",
        "[*****************61%***               ]  13433547 of 22195070 complete Elapsed: 36.4 minutes\t Remaining: 23.8 minutes"
       ]
      },
      {
       "output_type": "stream",
       "stream": "stdout",
       "text": [
        " \r",
        "[*****************61%***               ]  13443742 of 22195070 complete Elapsed: 36.5 minutes\t Remaining: 23.7 minutes"
       ]
      },
      {
       "output_type": "stream",
       "stream": "stdout",
       "text": [
        " \r",
        "[*****************61%***               ]  13453914 of 22195070 complete Elapsed: 36.5 minutes\t Remaining: 23.7 minutes"
       ]
      },
      {
       "output_type": "stream",
       "stream": "stdout",
       "text": [
        " \r",
        "[*****************61%***               ]  13464097 of 22195070 complete Elapsed: 36.5 minutes\t Remaining: 23.7 minutes"
       ]
      },
      {
       "output_type": "stream",
       "stream": "stdout",
       "text": [
        " \r",
        "[*****************61%***               ]  13474226 of 22195070 complete Elapsed: 36.5 minutes\t Remaining: 23.7 minutes"
       ]
      },
      {
       "output_type": "stream",
       "stream": "stdout",
       "text": [
        " \r",
        "[*****************61%***               ]  13484414 of 22195070 complete Elapsed: 36.6 minutes\t Remaining: 23.6 minutes"
       ]
      },
      {
       "output_type": "stream",
       "stream": "stdout",
       "text": [
        " \r",
        "[*****************61%***               ]  13494560 of 22195070 complete Elapsed: 36.6 minutes\t Remaining: 23.6 minutes"
       ]
      },
      {
       "output_type": "stream",
       "stream": "stdout",
       "text": [
        " \r",
        "[*****************61%***               ]  13504766 of 22195070 complete Elapsed: 36.6 minutes\t Remaining: 23.6 minutes"
       ]
      },
      {
       "output_type": "stream",
       "stream": "stdout",
       "text": [
        " \r",
        "[*****************61%***               ]  13514936 of 22195070 complete Elapsed: 36.6 minutes\t Remaining: 23.5 minutes"
       ]
      },
      {
       "output_type": "stream",
       "stream": "stdout",
       "text": [
        " \r",
        "[*****************61%***               ]  13525128 of 22195070 complete Elapsed: 36.7 minutes\t Remaining: 23.5 minutes"
       ]
      },
      {
       "output_type": "stream",
       "stream": "stdout",
       "text": [
        " \r",
        "[*****************61%***               ]  13535323 of 22195070 complete Elapsed: 36.7 minutes\t Remaining: 23.5 minutes"
       ]
      },
      {
       "output_type": "stream",
       "stream": "stdout",
       "text": [
        " \r",
        "[*****************61%***               ]  13538342 of 22195070 complete Elapsed: 37.0 minutes\t Remaining: 23.7 minutes"
       ]
      },
      {
       "output_type": "stream",
       "stream": "stdout",
       "text": [
        " \r",
        "[*****************61%***               ]  13544069 of 22195070 complete Elapsed: 37.0 minutes\t Remaining: 23.6 minutes"
       ]
      },
      {
       "output_type": "stream",
       "stream": "stdout",
       "text": [
        " \r",
        "[*****************61%***               ]  13554267 of 22195070 complete Elapsed: 37.0 minutes\t Remaining: 23.6 minutes"
       ]
      },
      {
       "output_type": "stream",
       "stream": "stdout",
       "text": [
        " \r",
        "[*****************61%***               ]  13564505 of 22195070 complete Elapsed: 37.1 minutes\t Remaining: 23.6 minutes"
       ]
      },
      {
       "output_type": "stream",
       "stream": "stdout",
       "text": [
        " \r",
        "[*****************61%***               ]  13574714 of 22195070 complete Elapsed: 37.1 minutes\t Remaining: 23.6 minutes"
       ]
      },
      {
       "output_type": "stream",
       "stream": "stdout",
       "text": [
        " \r",
        "[*****************61%***               ]  13584950 of 22195070 complete Elapsed: 37.1 minutes\t Remaining: 23.5 minutes"
       ]
      },
      {
       "output_type": "stream",
       "stream": "stdout",
       "text": [
        " \r",
        "[*****************61%***               ]  13595112 of 22195070 complete Elapsed: 37.1 minutes\t Remaining: 23.5 minutes"
       ]
      },
      {
       "output_type": "stream",
       "stream": "stdout",
       "text": [
        " \r",
        "[*****************61%***               ]  13605368 of 22195070 complete Elapsed: 37.2 minutes\t Remaining: 23.5 minutes"
       ]
      },
      {
       "output_type": "stream",
       "stream": "stdout",
       "text": [
        " \r",
        "[*****************61%***               ]  13615571 of 22195070 complete Elapsed: 37.2 minutes\t Remaining: 23.4 minutes"
       ]
      },
      {
       "output_type": "stream",
       "stream": "stdout",
       "text": [
        " \r",
        "[*****************61%***               ]  13625766 of 22195070 complete Elapsed: 37.2 minutes\t Remaining: 23.4 minutes"
       ]
      },
      {
       "output_type": "stream",
       "stream": "stdout",
       "text": [
        " \r",
        "[*****************61%***               ]  13635969 of 22195070 complete Elapsed: 37.2 minutes\t Remaining: 23.4 minutes"
       ]
      },
      {
       "output_type": "stream",
       "stream": "stdout",
       "text": [
        " \r",
        "[*****************61%***               ]  13646208 of 22195070 complete Elapsed: 37.3 minutes\t Remaining: 23.4 minutes"
       ]
      },
      {
       "output_type": "stream",
       "stream": "stdout",
       "text": [
        " \r",
        "[*****************62%****              ]  13656377 of 22195070 complete Elapsed: 37.3 minutes\t Remaining: 23.3 minutes"
       ]
      },
      {
       "output_type": "stream",
       "stream": "stdout",
       "text": [
        " \r",
        "[*****************62%****              ]  13666586 of 22195070 complete Elapsed: 37.3 minutes\t Remaining: 23.3 minutes"
       ]
      },
      {
       "output_type": "stream",
       "stream": "stdout",
       "text": [
        " \r",
        "[*****************62%****              ]  13676782 of 22195070 complete Elapsed: 37.3 minutes\t Remaining: 23.3 minutes"
       ]
      },
      {
       "output_type": "stream",
       "stream": "stdout",
       "text": [
        " \r",
        "[*****************62%****              ]  13687018 of 22195070 complete Elapsed: 37.4 minutes\t Remaining: 23.2 minutes"
       ]
      },
      {
       "output_type": "stream",
       "stream": "stdout",
       "text": [
        " \r",
        "[*****************62%****              ]  13697194 of 22195070 complete Elapsed: 37.4 minutes\t Remaining: 23.2 minutes"
       ]
      },
      {
       "output_type": "stream",
       "stream": "stdout",
       "text": [
        " \r",
        "[*****************62%****              ]  13707409 of 22195070 complete Elapsed: 37.4 minutes\t Remaining: 23.2 minutes"
       ]
      },
      {
       "output_type": "stream",
       "stream": "stdout",
       "text": [
        " \r",
        "[*****************62%****              ]  13717621 of 22195070 complete Elapsed: 37.4 minutes\t Remaining: 23.1 minutes"
       ]
      },
      {
       "output_type": "stream",
       "stream": "stdout",
       "text": [
        " \r",
        "[*****************62%****              ]  13727858 of 22195070 complete Elapsed: 37.5 minutes\t Remaining: 23.1 minutes"
       ]
      },
      {
       "output_type": "stream",
       "stream": "stdout",
       "text": [
        " \r",
        "[*****************62%****              ]  13738084 of 22195070 complete Elapsed: 37.5 minutes\t Remaining: 23.1 minutes"
       ]
      },
      {
       "output_type": "stream",
       "stream": "stdout",
       "text": [
        " \r",
        "[*****************62%****              ]  13748294 of 22195070 complete Elapsed: 37.5 minutes\t Remaining: 23.1 minutes"
       ]
      },
      {
       "output_type": "stream",
       "stream": "stdout",
       "text": [
        " \r",
        "[*****************62%****              ]  13758509 of 22195070 complete Elapsed: 37.5 minutes\t Remaining: 23.0 minutes"
       ]
      },
      {
       "output_type": "stream",
       "stream": "stdout",
       "text": [
        " \r",
        "[*****************62%****              ]  13768764 of 22195070 complete Elapsed: 37.6 minutes\t Remaining: 23.0 minutes"
       ]
      },
      {
       "output_type": "stream",
       "stream": "stdout",
       "text": [
        " \r",
        "[*****************62%****              ]  13778987 of 22195070 complete Elapsed: 37.6 minutes\t Remaining: 23.0 minutes"
       ]
      },
      {
       "output_type": "stream",
       "stream": "stdout",
       "text": [
        " \r",
        "[*****************62%****              ]  13789206 of 22195070 complete Elapsed: 37.6 minutes\t Remaining: 22.9 minutes"
       ]
      },
      {
       "output_type": "stream",
       "stream": "stdout",
       "text": [
        " \r",
        "[*****************62%****              ]  13799402 of 22195070 complete Elapsed: 37.6 minutes\t Remaining: 22.9 minutes"
       ]
      },
      {
       "output_type": "stream",
       "stream": "stdout",
       "text": [
        " \r",
        "[*****************62%****              ]  13809606 of 22195070 complete Elapsed: 37.7 minutes\t Remaining: 22.9 minutes"
       ]
      },
      {
       "output_type": "stream",
       "stream": "stdout",
       "text": [
        " \r",
        "[*****************62%****              ]  13819784 of 22195070 complete Elapsed: 37.7 minutes\t Remaining: 22.8 minutes"
       ]
      },
      {
       "output_type": "stream",
       "stream": "stdout",
       "text": [
        " \r",
        "[*****************62%****              ]  13830012 of 22195070 complete Elapsed: 37.7 minutes\t Remaining: 22.8 minutes"
       ]
      },
      {
       "output_type": "stream",
       "stream": "stdout",
       "text": [
        " \r",
        "[*****************62%****              ]  13840185 of 22195070 complete Elapsed: 37.7 minutes\t Remaining: 22.8 minutes"
       ]
      },
      {
       "output_type": "stream",
       "stream": "stdout",
       "text": [
        " \r",
        "[*****************62%****              ]  13850419 of 22195070 complete Elapsed: 37.8 minutes\t Remaining: 22.8 minutes"
       ]
      },
      {
       "output_type": "stream",
       "stream": "stdout",
       "text": [
        " \r",
        "[*****************62%****              ]  13860631 of 22195070 complete Elapsed: 37.8 minutes\t Remaining: 22.7 minutes"
       ]
      },
      {
       "output_type": "stream",
       "stream": "stdout",
       "text": [
        " \r",
        "[*****************62%****              ]  13870873 of 22195070 complete Elapsed: 37.8 minutes\t Remaining: 22.7 minutes"
       ]
      },
      {
       "output_type": "stream",
       "stream": "stdout",
       "text": [
        " \r",
        "[*****************63%****              ]  13881089 of 22195070 complete Elapsed: 37.8 minutes\t Remaining: 22.7 minutes"
       ]
      },
      {
       "output_type": "stream",
       "stream": "stdout",
       "text": [
        " \r",
        "[*****************63%****              ]  13891343 of 22195070 complete Elapsed: 37.9 minutes\t Remaining: 22.6 minutes"
       ]
      },
      {
       "output_type": "stream",
       "stream": "stdout",
       "text": [
        " \r",
        "[*****************63%****              ]  13901570 of 22195070 complete Elapsed: 37.9 minutes\t Remaining: 22.6 minutes"
       ]
      },
      {
       "output_type": "stream",
       "stream": "stdout",
       "text": [
        " \r",
        "[*****************63%****              ]  13911763 of 22195070 complete Elapsed: 37.9 minutes\t Remaining: 22.6 minutes"
       ]
      },
      {
       "output_type": "stream",
       "stream": "stdout",
       "text": [
        " \r",
        "[*****************63%****              ]  13921982 of 22195070 complete Elapsed: 37.9 minutes\t Remaining: 22.6 minutes"
       ]
      },
      {
       "output_type": "stream",
       "stream": "stdout",
       "text": [
        " \r",
        "[*****************63%****              ]  13932231 of 22195070 complete Elapsed: 38.0 minutes\t Remaining: 22.5 minutes"
       ]
      },
      {
       "output_type": "stream",
       "stream": "stdout",
       "text": [
        " \r",
        "[*****************63%****              ]  13942472 of 22195070 complete Elapsed: 38.0 minutes\t Remaining: 22.5 minutes"
       ]
      },
      {
       "output_type": "stream",
       "stream": "stdout",
       "text": [
        " \r",
        "[*****************63%****              ]  13953007 of 22195070 complete Elapsed: 38.0 minutes\t Remaining: 22.5 minutes"
       ]
      },
      {
       "output_type": "stream",
       "stream": "stdout",
       "text": [
        " \r",
        "[*****************63%****              ]  13963308 of 22195070 complete Elapsed: 38.0 minutes\t Remaining: 22.4 minutes"
       ]
      },
      {
       "output_type": "stream",
       "stream": "stdout",
       "text": [
        " \r",
        "[*****************63%****              ]  13973591 of 22195070 complete Elapsed: 38.1 minutes\t Remaining: 22.4 minutes"
       ]
      },
      {
       "output_type": "stream",
       "stream": "stdout",
       "text": [
        " \r",
        "[*****************63%****              ]  13983812 of 22195070 complete Elapsed: 38.1 minutes\t Remaining: 22.4 minutes"
       ]
      },
      {
       "output_type": "stream",
       "stream": "stdout",
       "text": [
        " \r",
        "[*****************63%****              ]  13994017 of 22195070 complete Elapsed: 38.1 minutes\t Remaining: 22.3 minutes"
       ]
      },
      {
       "output_type": "stream",
       "stream": "stdout",
       "text": [
        " \r",
        "[*****************63%****              ]  14004211 of 22195070 complete Elapsed: 38.1 minutes\t Remaining: 22.3 minutes"
       ]
      },
      {
       "output_type": "stream",
       "stream": "stdout",
       "text": [
        " \r",
        "[*****************63%****              ]  14014433 of 22195070 complete Elapsed: 38.2 minutes\t Remaining: 22.3 minutes"
       ]
      },
      {
       "output_type": "stream",
       "stream": "stdout",
       "text": [
        " \r",
        "[*****************63%****              ]  14024622 of 22195070 complete Elapsed: 38.2 minutes\t Remaining: 22.3 minutes"
       ]
      },
      {
       "output_type": "stream",
       "stream": "stdout",
       "text": [
        " \r",
        "[*****************63%****              ]  14034848 of 22195070 complete Elapsed: 38.2 minutes\t Remaining: 22.2 minutes"
       ]
      },
      {
       "output_type": "stream",
       "stream": "stdout",
       "text": [
        " \r",
        "[*****************63%****              ]  14045054 of 22195070 complete Elapsed: 38.2 minutes\t Remaining: 22.2 minutes"
       ]
      },
      {
       "output_type": "stream",
       "stream": "stdout",
       "text": [
        " \r",
        "[*****************63%****              ]  14055288 of 22195070 complete Elapsed: 38.3 minutes\t Remaining: 22.2 minutes"
       ]
      },
      {
       "output_type": "stream",
       "stream": "stdout",
       "text": [
        " \r",
        "[*****************63%****              ]  14065463 of 22195070 complete Elapsed: 38.3 minutes\t Remaining: 22.1 minutes"
       ]
      },
      {
       "output_type": "stream",
       "stream": "stdout",
       "text": [
        " \r",
        "[*****************63%****              ]  14075652 of 22195070 complete Elapsed: 38.3 minutes\t Remaining: 22.1 minutes"
       ]
      },
      {
       "output_type": "stream",
       "stream": "stdout",
       "text": [
        " \r",
        "[*****************63%****              ]  14085847 of 22195070 complete Elapsed: 38.3 minutes\t Remaining: 22.1 minutes"
       ]
      },
      {
       "output_type": "stream",
       "stream": "stdout",
       "text": [
        " \r",
        "[*****************64%****              ]  14096082 of 22195070 complete Elapsed: 38.4 minutes\t Remaining: 22.0 minutes"
       ]
      },
      {
       "output_type": "stream",
       "stream": "stdout",
       "text": [
        " \r",
        "[*****************64%****              ]  14106267 of 22195070 complete Elapsed: 38.4 minutes\t Remaining: 22.0 minutes"
       ]
      },
      {
       "output_type": "stream",
       "stream": "stdout",
       "text": [
        " \r",
        "[*****************64%****              ]  14116487 of 22195070 complete Elapsed: 38.4 minutes\t Remaining: 22.0 minutes"
       ]
      },
      {
       "output_type": "stream",
       "stream": "stdout",
       "text": [
        " \r",
        "[*****************64%****              ]  14126671 of 22195070 complete Elapsed: 38.4 minutes\t Remaining: 22.0 minutes"
       ]
      },
      {
       "output_type": "stream",
       "stream": "stdout",
       "text": [
        " \r",
        "[*****************64%****              ]  14136920 of 22195070 complete Elapsed: 38.5 minutes\t Remaining: 21.9 minutes"
       ]
      },
      {
       "output_type": "stream",
       "stream": "stdout",
       "text": [
        " \r",
        "[*****************64%****              ]  14147102 of 22195070 complete Elapsed: 38.5 minutes\t Remaining: 21.9 minutes"
       ]
      },
      {
       "output_type": "stream",
       "stream": "stdout",
       "text": [
        " \r",
        "[*****************64%****              ]  14157350 of 22195070 complete Elapsed: 38.5 minutes\t Remaining: 21.9 minutes"
       ]
      },
      {
       "output_type": "stream",
       "stream": "stdout",
       "text": [
        " \r",
        "[*****************64%****              ]  14167554 of 22195070 complete Elapsed: 38.5 minutes\t Remaining: 21.8 minutes"
       ]
      },
      {
       "output_type": "stream",
       "stream": "stdout",
       "text": [
        " \r",
        "[*****************64%****              ]  14177813 of 22195070 complete Elapsed: 38.6 minutes\t Remaining: 21.8 minutes"
       ]
      },
      {
       "output_type": "stream",
       "stream": "stdout",
       "text": [
        " \r",
        "[*****************64%****              ]  14188030 of 22195070 complete Elapsed: 38.6 minutes\t Remaining: 21.8 minutes"
       ]
      },
      {
       "output_type": "stream",
       "stream": "stdout",
       "text": [
        " \r",
        "[*****************64%****              ]  14198278 of 22195070 complete Elapsed: 38.6 minutes\t Remaining: 21.8 minutes"
       ]
      },
      {
       "output_type": "stream",
       "stream": "stdout",
       "text": [
        " \r",
        "[*****************64%****              ]  14208449 of 22195070 complete Elapsed: 38.6 minutes\t Remaining: 21.7 minutes"
       ]
      },
      {
       "output_type": "stream",
       "stream": "stdout",
       "text": [
        " \r",
        "[*****************64%****              ]  14218694 of 22195070 complete Elapsed: 38.7 minutes\t Remaining: 21.7 minutes"
       ]
      },
      {
       "output_type": "stream",
       "stream": "stdout",
       "text": [
        " \r",
        "[*****************64%****              ]  14228963 of 22195070 complete Elapsed: 38.7 minutes\t Remaining: 21.7 minutes"
       ]
      },
      {
       "output_type": "stream",
       "stream": "stdout",
       "text": [
        " \r",
        "[*****************64%****              ]  14239196 of 22195070 complete Elapsed: 38.7 minutes\t Remaining: 21.6 minutes"
       ]
      },
      {
       "output_type": "stream",
       "stream": "stdout",
       "text": [
        " \r",
        "[*****************64%****              ]  14249391 of 22195070 complete Elapsed: 38.7 minutes\t Remaining: 21.6 minutes"
       ]
      },
      {
       "output_type": "stream",
       "stream": "stdout",
       "text": [
        " \r",
        "[*****************64%****              ]  14259622 of 22195070 complete Elapsed: 38.8 minutes\t Remaining: 21.6 minutes"
       ]
      },
      {
       "output_type": "stream",
       "stream": "stdout",
       "text": [
        " \r",
        "[*****************64%****              ]  14269839 of 22195070 complete Elapsed: 38.8 minutes\t Remaining: 21.5 minutes"
       ]
      },
      {
       "output_type": "stream",
       "stream": "stdout",
       "text": [
        " \r",
        "[*****************64%****              ]  14280071 of 22195070 complete Elapsed: 38.8 minutes\t Remaining: 21.5 minutes"
       ]
      },
      {
       "output_type": "stream",
       "stream": "stdout",
       "text": [
        " \r",
        "[*****************64%****              ]  14290295 of 22195070 complete Elapsed: 38.8 minutes\t Remaining: 21.5 minutes"
       ]
      },
      {
       "output_type": "stream",
       "stream": "stdout",
       "text": [
        " \r",
        "[*****************64%****              ]  14300554 of 22195070 complete Elapsed: 38.9 minutes\t Remaining: 21.5 minutes"
       ]
      },
      {
       "output_type": "stream",
       "stream": "stdout",
       "text": [
        " \r",
        "[*****************64%****              ]  14310777 of 22195070 complete Elapsed: 38.9 minutes\t Remaining: 21.4 minutes"
       ]
      },
      {
       "output_type": "stream",
       "stream": "stdout",
       "text": [
        " \r",
        "[*****************65%*****             ]  14320996 of 22195070 complete Elapsed: 38.9 minutes\t Remaining: 21.4 minutes"
       ]
      },
      {
       "output_type": "stream",
       "stream": "stdout",
       "text": [
        " \r",
        "[*****************65%*****             ]  14331180 of 22195070 complete Elapsed: 38.9 minutes\t Remaining: 21.4 minutes"
       ]
      },
      {
       "output_type": "stream",
       "stream": "stdout",
       "text": [
        " \r",
        "[*****************65%*****             ]  14341400 of 22195070 complete Elapsed: 39.0 minutes\t Remaining: 21.3 minutes"
       ]
      },
      {
       "output_type": "stream",
       "stream": "stdout",
       "text": [
        " \r",
        "[*****************65%*****             ]  14351630 of 22195070 complete Elapsed: 39.0 minutes\t Remaining: 21.3 minutes"
       ]
      },
      {
       "output_type": "stream",
       "stream": "stdout",
       "text": [
        " \r",
        "[*****************65%*****             ]  14361868 of 22195070 complete Elapsed: 39.0 minutes\t Remaining: 21.3 minutes"
       ]
      },
      {
       "output_type": "stream",
       "stream": "stdout",
       "text": [
        " \r",
        "[*****************65%*****             ]  14372073 of 22195070 complete Elapsed: 39.0 minutes\t Remaining: 21.3 minutes"
       ]
      },
      {
       "output_type": "stream",
       "stream": "stdout",
       "text": [
        " \r",
        "[*****************65%*****             ]  14382330 of 22195070 complete Elapsed: 39.1 minutes\t Remaining: 21.2 minutes"
       ]
      },
      {
       "output_type": "stream",
       "stream": "stdout",
       "text": [
        " \r",
        "[*****************65%*****             ]  14392512 of 22195070 complete Elapsed: 39.1 minutes\t Remaining: 21.2 minutes"
       ]
      },
      {
       "output_type": "stream",
       "stream": "stdout",
       "text": [
        " \r",
        "[*****************65%*****             ]  14402734 of 22195070 complete Elapsed: 39.1 minutes\t Remaining: 21.2 minutes"
       ]
      },
      {
       "output_type": "stream",
       "stream": "stdout",
       "text": [
        " \r",
        "[*****************65%*****             ]  14412928 of 22195070 complete Elapsed: 39.1 minutes\t Remaining: 21.1 minutes"
       ]
      },
      {
       "output_type": "stream",
       "stream": "stdout",
       "text": [
        " \r",
        "[*****************65%*****             ]  14423160 of 22195070 complete Elapsed: 39.2 minutes\t Remaining: 21.1 minutes"
       ]
      },
      {
       "output_type": "stream",
       "stream": "stdout",
       "text": [
        " \r",
        "[*****************65%*****             ]  14433348 of 22195070 complete Elapsed: 39.2 minutes\t Remaining: 21.1 minutes"
       ]
      },
      {
       "output_type": "stream",
       "stream": "stdout",
       "text": [
        " \r",
        "[*****************65%*****             ]  14443556 of 22195070 complete Elapsed: 39.2 minutes\t Remaining: 21.1 minutes"
       ]
      },
      {
       "output_type": "stream",
       "stream": "stdout",
       "text": [
        " \r",
        "[*****************65%*****             ]  14453734 of 22195070 complete Elapsed: 39.2 minutes\t Remaining: 21.0 minutes"
       ]
      },
      {
       "output_type": "stream",
       "stream": "stdout",
       "text": [
        " \r",
        "[*****************65%*****             ]  14463971 of 22195070 complete Elapsed: 39.3 minutes\t Remaining: 21.0 minutes"
       ]
      },
      {
       "output_type": "stream",
       "stream": "stdout",
       "text": [
        " \r",
        "[*****************65%*****             ]  14474153 of 22195070 complete Elapsed: 39.3 minutes\t Remaining: 21.0 minutes"
       ]
      },
      {
       "output_type": "stream",
       "stream": "stdout",
       "text": [
        " \r",
        "[*****************65%*****             ]  14484365 of 22195070 complete Elapsed: 39.3 minutes\t Remaining: 20.9 minutes"
       ]
      },
      {
       "output_type": "stream",
       "stream": "stdout",
       "text": [
        " \r",
        "[*****************65%*****             ]  14494552 of 22195070 complete Elapsed: 39.3 minutes\t Remaining: 20.9 minutes"
       ]
      },
      {
       "output_type": "stream",
       "stream": "stdout",
       "text": [
        " \r",
        "[*****************65%*****             ]  14504777 of 22195070 complete Elapsed: 39.4 minutes\t Remaining: 20.9 minutes"
       ]
      },
      {
       "output_type": "stream",
       "stream": "stdout",
       "text": [
        " \r",
        "[*****************65%*****             ]  14514985 of 22195070 complete Elapsed: 39.4 minutes\t Remaining: 20.8 minutes"
       ]
      },
      {
       "output_type": "stream",
       "stream": "stdout",
       "text": [
        " \r",
        "[*****************65%*****             ]  14525198 of 22195070 complete Elapsed: 39.4 minutes\t Remaining: 20.8 minutes"
       ]
      },
      {
       "output_type": "stream",
       "stream": "stdout",
       "text": [
        " \r",
        "[*****************65%*****             ]  14535396 of 22195070 complete Elapsed: 39.4 minutes\t Remaining: 20.8 minutes"
       ]
      },
      {
       "output_type": "stream",
       "stream": "stdout",
       "text": [
        " \r",
        "[*****************66%*****             ]  14545620 of 22195070 complete Elapsed: 39.5 minutes\t Remaining: 20.8 minutes"
       ]
      },
      {
       "output_type": "stream",
       "stream": "stdout",
       "text": [
        " \r",
        "[*****************66%*****             ]  14555801 of 22195070 complete Elapsed: 39.5 minutes\t Remaining: 20.7 minutes"
       ]
      },
      {
       "output_type": "stream",
       "stream": "stdout",
       "text": [
        " \r",
        "[*****************66%*****             ]  14566053 of 22195070 complete Elapsed: 39.5 minutes\t Remaining: 20.7 minutes"
       ]
      },
      {
       "output_type": "stream",
       "stream": "stdout",
       "text": [
        " \r",
        "[*****************66%*****             ]  14567719 of 22195070 complete Elapsed: 39.8 minutes\t Remaining: 20.8 minutes"
       ]
      },
      {
       "output_type": "stream",
       "stream": "stdout",
       "text": [
        " \r",
        "[*****************66%*****             ]  14573684 of 22195070 complete Elapsed: 39.8 minutes\t Remaining: 20.8 minutes"
       ]
      },
      {
       "output_type": "stream",
       "stream": "stdout",
       "text": [
        " \r",
        "[*****************66%*****             ]  14583846 of 22195070 complete Elapsed: 39.9 minutes\t Remaining: 20.8 minutes"
       ]
      },
      {
       "output_type": "stream",
       "stream": "stdout",
       "text": [
        " \r",
        "[*****************66%*****             ]  14594104 of 22195070 complete Elapsed: 39.9 minutes\t Remaining: 20.8 minutes"
       ]
      },
      {
       "output_type": "stream",
       "stream": "stdout",
       "text": [
        " \r",
        "[*****************66%*****             ]  14604271 of 22195070 complete Elapsed: 39.9 minutes\t Remaining: 20.7 minutes"
       ]
      },
      {
       "output_type": "stream",
       "stream": "stdout",
       "text": [
        " \r",
        "[*****************66%*****             ]  14614502 of 22195070 complete Elapsed: 39.9 minutes\t Remaining: 20.7 minutes"
       ]
      },
      {
       "output_type": "stream",
       "stream": "stdout",
       "text": [
        " \r",
        "[*****************66%*****             ]  14624685 of 22195070 complete Elapsed: 40.0 minutes\t Remaining: 20.7 minutes"
       ]
      },
      {
       "output_type": "stream",
       "stream": "stdout",
       "text": [
        " \r",
        "[*****************66%*****             ]  14634900 of 22195070 complete Elapsed: 40.0 minutes\t Remaining: 20.7 minutes"
       ]
      },
      {
       "output_type": "stream",
       "stream": "stdout",
       "text": [
        " \r",
        "[*****************66%*****             ]  14645100 of 22195070 complete Elapsed: 40.0 minutes\t Remaining: 20.6 minutes"
       ]
      },
      {
       "output_type": "stream",
       "stream": "stdout",
       "text": [
        " \r",
        "[*****************66%*****             ]  14655363 of 22195070 complete Elapsed: 40.0 minutes\t Remaining: 20.6 minutes"
       ]
      },
      {
       "output_type": "stream",
       "stream": "stdout",
       "text": [
        " \r",
        "[*****************66%*****             ]  14665536 of 22195070 complete Elapsed: 40.1 minutes\t Remaining: 20.6 minutes"
       ]
      },
      {
       "output_type": "stream",
       "stream": "stdout",
       "text": [
        " \r",
        "[*****************66%*****             ]  14675756 of 22195070 complete Elapsed: 40.1 minutes\t Remaining: 20.5 minutes"
       ]
      },
      {
       "output_type": "stream",
       "stream": "stdout",
       "text": [
        " \r",
        "[*****************66%*****             ]  14685919 of 22195070 complete Elapsed: 40.1 minutes\t Remaining: 20.5 minutes"
       ]
      },
      {
       "output_type": "stream",
       "stream": "stdout",
       "text": [
        " \r",
        "[*****************66%*****             ]  14696199 of 22195070 complete Elapsed: 40.1 minutes\t Remaining: 20.5 minutes"
       ]
      },
      {
       "output_type": "stream",
       "stream": "stdout",
       "text": [
        " \r",
        "[*****************66%*****             ]  14706372 of 22195070 complete Elapsed: 40.2 minutes\t Remaining: 20.5 minutes"
       ]
      },
      {
       "output_type": "stream",
       "stream": "stdout",
       "text": [
        " \r",
        "[*****************66%*****             ]  14716636 of 22195070 complete Elapsed: 40.2 minutes\t Remaining: 20.4 minutes"
       ]
      },
      {
       "output_type": "stream",
       "stream": "stdout",
       "text": [
        " \r",
        "[*****************66%*****             ]  14726859 of 22195070 complete Elapsed: 40.2 minutes\t Remaining: 20.4 minutes"
       ]
      },
      {
       "output_type": "stream",
       "stream": "stdout",
       "text": [
        " \r",
        "[*****************66%*****             ]  14737128 of 22195070 complete Elapsed: 40.2 minutes\t Remaining: 20.4 minutes"
       ]
      },
      {
       "output_type": "stream",
       "stream": "stdout",
       "text": [
        " \r",
        "[*****************66%*****             ]  14747328 of 22195070 complete Elapsed: 40.3 minutes\t Remaining: 20.3 minutes"
       ]
      },
      {
       "output_type": "stream",
       "stream": "stdout",
       "text": [
        " \r",
        "[*****************66%*****             ]  14757607 of 22195070 complete Elapsed: 40.3 minutes\t Remaining: 20.3 minutes"
       ]
      },
      {
       "output_type": "stream",
       "stream": "stdout",
       "text": [
        " \r",
        "[*****************67%*****             ]  14767816 of 22195070 complete Elapsed: 40.3 minutes\t Remaining: 20.3 minutes"
       ]
      },
      {
       "output_type": "stream",
       "stream": "stdout",
       "text": [
        " \r",
        "[*****************67%*****             ]  14778087 of 22195070 complete Elapsed: 40.3 minutes\t Remaining: 20.2 minutes"
       ]
      },
      {
       "output_type": "stream",
       "stream": "stdout",
       "text": [
        " \r",
        "[*****************67%*****             ]  14788268 of 22195070 complete Elapsed: 40.4 minutes\t Remaining: 20.2 minutes"
       ]
      },
      {
       "output_type": "stream",
       "stream": "stdout",
       "text": [
        " \r",
        "[*****************67%*****             ]  14798528 of 22195070 complete Elapsed: 40.4 minutes\t Remaining: 20.2 minutes"
       ]
      },
      {
       "output_type": "stream",
       "stream": "stdout",
       "text": [
        " \r",
        "[*****************67%*****             ]  14808742 of 22195070 complete Elapsed: 40.4 minutes\t Remaining: 20.2 minutes"
       ]
      },
      {
       "output_type": "stream",
       "stream": "stdout",
       "text": [
        " \r",
        "[*****************67%*****             ]  14819003 of 22195070 complete Elapsed: 40.4 minutes\t Remaining: 20.1 minutes"
       ]
      },
      {
       "output_type": "stream",
       "stream": "stdout",
       "text": [
        " \r",
        "[*****************67%*****             ]  14829168 of 22195070 complete Elapsed: 40.5 minutes\t Remaining: 20.1 minutes"
       ]
      },
      {
       "output_type": "stream",
       "stream": "stdout",
       "text": [
        " \r",
        "[*****************67%*****             ]  14839416 of 22195070 complete Elapsed: 40.5 minutes\t Remaining: 20.1 minutes"
       ]
      },
      {
       "output_type": "stream",
       "stream": "stdout",
       "text": [
        " \r",
        "[*****************67%*****             ]  14849655 of 22195070 complete Elapsed: 40.5 minutes\t Remaining: 20.0 minutes"
       ]
      },
      {
       "output_type": "stream",
       "stream": "stdout",
       "text": [
        " \r",
        "[*****************67%*****             ]  14860123 of 22195070 complete Elapsed: 40.5 minutes\t Remaining: 20.0 minutes"
       ]
      },
      {
       "output_type": "stream",
       "stream": "stdout",
       "text": [
        " \r",
        "[*****************67%*****             ]  14870566 of 22195070 complete Elapsed: 40.6 minutes\t Remaining: 20.0 minutes"
       ]
      },
      {
       "output_type": "stream",
       "stream": "stdout",
       "text": [
        " \r",
        "[*****************67%*****             ]  14880850 of 22195070 complete Elapsed: 40.6 minutes\t Remaining: 19.9 minutes"
       ]
      },
      {
       "output_type": "stream",
       "stream": "stdout",
       "text": [
        " \r",
        "[*****************67%*****             ]  14891099 of 22195070 complete Elapsed: 40.6 minutes\t Remaining: 19.9 minutes"
       ]
      },
      {
       "output_type": "stream",
       "stream": "stdout",
       "text": [
        " \r",
        "[*****************67%*****             ]  14901388 of 22195070 complete Elapsed: 40.6 minutes\t Remaining: 19.9 minutes"
       ]
      },
      {
       "output_type": "stream",
       "stream": "stdout",
       "text": [
        " \r",
        "[*****************67%*****             ]  14911584 of 22195070 complete Elapsed: 40.7 minutes\t Remaining: 19.9 minutes"
       ]
      },
      {
       "output_type": "stream",
       "stream": "stdout",
       "text": [
        " \r",
        "[*****************67%*****             ]  14921820 of 22195070 complete Elapsed: 40.7 minutes\t Remaining: 19.8 minutes"
       ]
      },
      {
       "output_type": "stream",
       "stream": "stdout",
       "text": [
        " \r",
        "[*****************67%*****             ]  14932034 of 22195070 complete Elapsed: 40.7 minutes\t Remaining: 19.8 minutes"
       ]
      },
      {
       "output_type": "stream",
       "stream": "stdout",
       "text": [
        " \r",
        "[*****************67%*****             ]  14942311 of 22195070 complete Elapsed: 40.7 minutes\t Remaining: 19.8 minutes"
       ]
      },
      {
       "output_type": "stream",
       "stream": "stdout",
       "text": [
        " \r",
        "[*****************67%*****             ]  14952486 of 22195070 complete Elapsed: 40.8 minutes\t Remaining: 19.7 minutes"
       ]
      },
      {
       "output_type": "stream",
       "stream": "stdout",
       "text": [
        " \r",
        "[*****************67%*****             ]  14962730 of 22195070 complete Elapsed: 40.8 minutes\t Remaining: 19.7 minutes"
       ]
      },
      {
       "output_type": "stream",
       "stream": "stdout",
       "text": [
        " \r",
        "[*****************67%*****             ]  14972937 of 22195070 complete Elapsed: 40.8 minutes\t Remaining: 19.7 minutes"
       ]
      },
      {
       "output_type": "stream",
       "stream": "stdout",
       "text": [
        " \r",
        "[*****************68%******            ]  14983200 of 22195070 complete Elapsed: 40.8 minutes\t Remaining: 19.7 minutes"
       ]
      },
      {
       "output_type": "stream",
       "stream": "stdout",
       "text": [
        " \r",
        "[*****************68%******            ]  14993365 of 22195070 complete Elapsed: 40.9 minutes\t Remaining: 19.6 minutes"
       ]
      },
      {
       "output_type": "stream",
       "stream": "stdout",
       "text": [
        " \r",
        "[*****************68%******            ]  15003604 of 22195070 complete Elapsed: 40.9 minutes\t Remaining: 19.6 minutes"
       ]
      },
      {
       "output_type": "stream",
       "stream": "stdout",
       "text": [
        " \r",
        "[*****************68%******            ]  15013801 of 22195070 complete Elapsed: 40.9 minutes\t Remaining: 19.6 minutes"
       ]
      },
      {
       "output_type": "stream",
       "stream": "stdout",
       "text": [
        " \r",
        "[*****************68%******            ]  15024041 of 22195070 complete Elapsed: 40.9 minutes\t Remaining: 19.5 minutes"
       ]
      },
      {
       "output_type": "stream",
       "stream": "stdout",
       "text": [
        " \r",
        "[*****************68%******            ]  15034232 of 22195070 complete Elapsed: 41.0 minutes\t Remaining: 19.5 minutes"
       ]
      },
      {
       "output_type": "stream",
       "stream": "stdout",
       "text": [
        " \r",
        "[*****************68%******            ]  15044514 of 22195070 complete Elapsed: 41.0 minutes\t Remaining: 19.5 minutes"
       ]
      },
      {
       "output_type": "stream",
       "stream": "stdout",
       "text": [
        " \r",
        "[*****************68%******            ]  15054742 of 22195070 complete Elapsed: 41.0 minutes\t Remaining: 19.5 minutes"
       ]
      },
      {
       "output_type": "stream",
       "stream": "stdout",
       "text": [
        " \r",
        "[*****************68%******            ]  15065025 of 22195070 complete Elapsed: 41.0 minutes\t Remaining: 19.4 minutes"
       ]
      },
      {
       "output_type": "stream",
       "stream": "stdout",
       "text": [
        " \r",
        "[*****************68%******            ]  15075209 of 22195070 complete Elapsed: 41.1 minutes\t Remaining: 19.4 minutes"
       ]
      },
      {
       "output_type": "stream",
       "stream": "stdout",
       "text": [
        " \r",
        "[*****************68%******            ]  15085457 of 22195070 complete Elapsed: 41.1 minutes\t Remaining: 19.4 minutes"
       ]
      },
      {
       "output_type": "stream",
       "stream": "stdout",
       "text": [
        " \r",
        "[*****************68%******            ]  15095667 of 22195070 complete Elapsed: 41.1 minutes\t Remaining: 19.3 minutes"
       ]
      },
      {
       "output_type": "stream",
       "stream": "stdout",
       "text": [
        " \r",
        "[*****************68%******            ]  15105905 of 22195070 complete Elapsed: 41.1 minutes\t Remaining: 19.3 minutes"
       ]
      },
      {
       "output_type": "stream",
       "stream": "stdout",
       "text": [
        " \r",
        "[*****************68%******            ]  15116104 of 22195070 complete Elapsed: 41.2 minutes\t Remaining: 19.3 minutes"
       ]
      },
      {
       "output_type": "stream",
       "stream": "stdout",
       "text": [
        " \r",
        "[*****************68%******            ]  15126362 of 22195070 complete Elapsed: 41.2 minutes\t Remaining: 19.2 minutes"
       ]
      },
      {
       "output_type": "stream",
       "stream": "stdout",
       "text": [
        " \r",
        "[*****************68%******            ]  15136585 of 22195070 complete Elapsed: 41.2 minutes\t Remaining: 19.2 minutes"
       ]
      },
      {
       "output_type": "stream",
       "stream": "stdout",
       "text": [
        " \r",
        "[*****************68%******            ]  15146863 of 22195070 complete Elapsed: 41.2 minutes\t Remaining: 19.2 minutes"
       ]
      },
      {
       "output_type": "stream",
       "stream": "stdout",
       "text": [
        " \r",
        "[*****************68%******            ]  15157025 of 22195070 complete Elapsed: 41.3 minutes\t Remaining: 19.2 minutes"
       ]
      },
      {
       "output_type": "stream",
       "stream": "stdout",
       "text": [
        " \r",
        "[*****************68%******            ]  15167287 of 22195070 complete Elapsed: 41.3 minutes\t Remaining: 19.1 minutes"
       ]
      },
      {
       "output_type": "stream",
       "stream": "stdout",
       "text": [
        " \r",
        "[*****************68%******            ]  15177506 of 22195070 complete Elapsed: 41.3 minutes\t Remaining: 19.1 minutes"
       ]
      },
      {
       "output_type": "stream",
       "stream": "stdout",
       "text": [
        " \r",
        "[*****************68%******            ]  15187777 of 22195070 complete Elapsed: 41.3 minutes\t Remaining: 19.1 minutes"
       ]
      },
      {
       "output_type": "stream",
       "stream": "stdout",
       "text": [
        " \r",
        "[*****************68%******            ]  15197993 of 22195070 complete Elapsed: 41.4 minutes\t Remaining: 19.0 minutes"
       ]
      },
      {
       "output_type": "stream",
       "stream": "stdout",
       "text": [
        " \r",
        "[*****************69%******            ]  15208248 of 22195070 complete Elapsed: 41.4 minutes\t Remaining: 19.0 minutes"
       ]
      },
      {
       "output_type": "stream",
       "stream": "stdout",
       "text": [
        " \r",
        "[*****************69%******            ]  15218467 of 22195070 complete Elapsed: 41.4 minutes\t Remaining: 19.0 minutes"
       ]
      },
      {
       "output_type": "stream",
       "stream": "stdout",
       "text": [
        " \r",
        "[*****************69%******            ]  15228735 of 22195070 complete Elapsed: 41.4 minutes\t Remaining: 19.0 minutes"
       ]
      },
      {
       "output_type": "stream",
       "stream": "stdout",
       "text": [
        " \r",
        "[*****************69%******            ]  15238939 of 22195070 complete Elapsed: 41.5 minutes\t Remaining: 18.9 minutes"
       ]
      },
      {
       "output_type": "stream",
       "stream": "stdout",
       "text": [
        " \r",
        "[*****************69%******            ]  15249201 of 22195070 complete Elapsed: 41.5 minutes\t Remaining: 18.9 minutes"
       ]
      },
      {
       "output_type": "stream",
       "stream": "stdout",
       "text": [
        " \r",
        "[*****************69%******            ]  15259406 of 22195070 complete Elapsed: 41.5 minutes\t Remaining: 18.9 minutes"
       ]
      },
      {
       "output_type": "stream",
       "stream": "stdout",
       "text": [
        " \r",
        "[*****************69%******            ]  15269632 of 22195070 complete Elapsed: 41.5 minutes\t Remaining: 18.8 minutes"
       ]
      },
      {
       "output_type": "stream",
       "stream": "stdout",
       "text": [
        " \r",
        "[*****************69%******            ]  15279779 of 22195070 complete Elapsed: 41.6 minutes\t Remaining: 18.8 minutes"
       ]
      },
      {
       "output_type": "stream",
       "stream": "stdout",
       "text": [
        " \r",
        "[*****************69%******            ]  15289995 of 22195070 complete Elapsed: 41.6 minutes\t Remaining: 18.8 minutes"
       ]
      },
      {
       "output_type": "stream",
       "stream": "stdout",
       "text": [
        " \r",
        "[*****************69%******            ]  15300191 of 22195070 complete Elapsed: 41.6 minutes\t Remaining: 18.8 minutes"
       ]
      },
      {
       "output_type": "stream",
       "stream": "stdout",
       "text": [
        " \r",
        "[*****************69%******            ]  15310466 of 22195070 complete Elapsed: 41.6 minutes\t Remaining: 18.7 minutes"
       ]
      },
      {
       "output_type": "stream",
       "stream": "stdout",
       "text": [
        " \r",
        "[*****************69%******            ]  15320662 of 22195070 complete Elapsed: 41.7 minutes\t Remaining: 18.7 minutes"
       ]
      },
      {
       "output_type": "stream",
       "stream": "stdout",
       "text": [
        " \r",
        "[*****************69%******            ]  15330908 of 22195070 complete Elapsed: 41.7 minutes\t Remaining: 18.7 minutes"
       ]
      },
      {
       "output_type": "stream",
       "stream": "stdout",
       "text": [
        " \r",
        "[*****************69%******            ]  15341100 of 22195070 complete Elapsed: 41.7 minutes\t Remaining: 18.6 minutes"
       ]
      },
      {
       "output_type": "stream",
       "stream": "stdout",
       "text": [
        " \r",
        "[*****************69%******            ]  15351329 of 22195070 complete Elapsed: 41.7 minutes\t Remaining: 18.6 minutes"
       ]
      },
      {
       "output_type": "stream",
       "stream": "stdout",
       "text": [
        " \r",
        "[*****************69%******            ]  15361512 of 22195070 complete Elapsed: 41.8 minutes\t Remaining: 18.6 minutes"
       ]
      },
      {
       "output_type": "stream",
       "stream": "stdout",
       "text": [
        " \r",
        "[*****************69%******            ]  15371769 of 22195070 complete Elapsed: 41.8 minutes\t Remaining: 18.5 minutes"
       ]
      },
      {
       "output_type": "stream",
       "stream": "stdout",
       "text": [
        " \r",
        "[*****************69%******            ]  15381931 of 22195070 complete Elapsed: 41.8 minutes\t Remaining: 18.5 minutes"
       ]
      },
      {
       "output_type": "stream",
       "stream": "stdout",
       "text": [
        " \r",
        "[*****************69%******            ]  15392185 of 22195070 complete Elapsed: 41.8 minutes\t Remaining: 18.5 minutes"
       ]
      },
      {
       "output_type": "stream",
       "stream": "stdout",
       "text": [
        " \r",
        "[*****************69%******            ]  15402382 of 22195070 complete Elapsed: 41.9 minutes\t Remaining: 18.5 minutes"
       ]
      },
      {
       "output_type": "stream",
       "stream": "stdout",
       "text": [
        " \r",
        "[*****************69%******            ]  15412632 of 22195070 complete Elapsed: 41.9 minutes\t Remaining: 18.4 minutes"
       ]
      },
      {
       "output_type": "stream",
       "stream": "stdout",
       "text": [
        " \r",
        "[*****************69%******            ]  15422818 of 22195070 complete Elapsed: 41.9 minutes\t Remaining: 18.4 minutes"
       ]
      },
      {
       "output_type": "stream",
       "stream": "stdout",
       "text": [
        " \r",
        "[*****************70%*******           ]  15433083 of 22195070 complete Elapsed: 41.9 minutes\t Remaining: 18.4 minutes"
       ]
      },
      {
       "output_type": "stream",
       "stream": "stdout",
       "text": [
        " \r",
        "[*****************70%*******           ]  15443267 of 22195070 complete Elapsed: 42.0 minutes\t Remaining: 18.3 minutes"
       ]
      },
      {
       "output_type": "stream",
       "stream": "stdout",
       "text": [
        " \r",
        "[*****************70%*******           ]  15453516 of 22195070 complete Elapsed: 42.0 minutes\t Remaining: 18.3 minutes"
       ]
      },
      {
       "output_type": "stream",
       "stream": "stdout",
       "text": [
        " \r",
        "[*****************70%*******           ]  15463727 of 22195070 complete Elapsed: 42.0 minutes\t Remaining: 18.3 minutes"
       ]
      },
      {
       "output_type": "stream",
       "stream": "stdout",
       "text": [
        " \r",
        "[*****************70%*******           ]  15473984 of 22195070 complete Elapsed: 42.0 minutes\t Remaining: 18.3 minutes"
       ]
      },
      {
       "output_type": "stream",
       "stream": "stdout",
       "text": [
        " \r",
        "[*****************70%*******           ]  15484155 of 22195070 complete Elapsed: 42.1 minutes\t Remaining: 18.2 minutes"
       ]
      },
      {
       "output_type": "stream",
       "stream": "stdout",
       "text": [
        " \r",
        "[*****************70%*******           ]  15494396 of 22195070 complete Elapsed: 42.1 minutes\t Remaining: 18.2 minutes"
       ]
      },
      {
       "output_type": "stream",
       "stream": "stdout",
       "text": [
        " \r",
        "[*****************70%*******           ]  15504607 of 22195070 complete Elapsed: 42.1 minutes\t Remaining: 18.2 minutes"
       ]
      },
      {
       "output_type": "stream",
       "stream": "stdout",
       "text": [
        " \r",
        "[*****************70%*******           ]  15514881 of 22195070 complete Elapsed: 42.1 minutes\t Remaining: 18.1 minutes"
       ]
      },
      {
       "output_type": "stream",
       "stream": "stdout",
       "text": [
        " \r",
        "[*****************70%*******           ]  15525048 of 22195070 complete Elapsed: 42.2 minutes\t Remaining: 18.1 minutes"
       ]
      },
      {
       "output_type": "stream",
       "stream": "stdout",
       "text": [
        " \r",
        "[*****************70%*******           ]  15535293 of 22195070 complete Elapsed: 42.2 minutes\t Remaining: 18.1 minutes"
       ]
      },
      {
       "output_type": "stream",
       "stream": "stdout",
       "text": [
        " \r",
        "[*****************70%*******           ]  15545487 of 22195070 complete Elapsed: 42.2 minutes\t Remaining: 18.1 minutes"
       ]
      },
      {
       "output_type": "stream",
       "stream": "stdout",
       "text": [
        " \r",
        "[*****************70%*******           ]  15555749 of 22195070 complete Elapsed: 42.2 minutes\t Remaining: 18.0 minutes"
       ]
      },
      {
       "output_type": "stream",
       "stream": "stdout",
       "text": [
        " \r",
        "[*****************70%*******           ]  15565929 of 22195070 complete Elapsed: 42.3 minutes\t Remaining: 18.0 minutes"
       ]
      },
      {
       "output_type": "stream",
       "stream": "stdout",
       "text": [
        " \r",
        "[*****************70%*******           ]  15571469 of 22195070 complete Elapsed: 42.5 minutes\t Remaining: 18.1 minutes"
       ]
      },
      {
       "output_type": "stream",
       "stream": "stdout",
       "text": [
        " \r",
        "[*****************70%*******           ]  15577595 of 22195070 complete Elapsed: 42.5 minutes\t Remaining: 18.1 minutes"
       ]
      },
      {
       "output_type": "stream",
       "stream": "stdout",
       "text": [
        " \r",
        "[*****************70%*******           ]  15587857 of 22195070 complete Elapsed: 42.5 minutes\t Remaining: 18.0 minutes"
       ]
      },
      {
       "output_type": "stream",
       "stream": "stdout",
       "text": [
        " \r",
        "[*****************70%*******           ]  15598084 of 22195070 complete Elapsed: 42.6 minutes\t Remaining: 18.0 minutes"
       ]
      },
      {
       "output_type": "stream",
       "stream": "stdout",
       "text": [
        " \r",
        "[*****************70%*******           ]  15608280 of 22195070 complete Elapsed: 42.6 minutes\t Remaining: 18.0 minutes"
       ]
      },
      {
       "output_type": "stream",
       "stream": "stdout",
       "text": [
        " \r",
        "[*****************70%*******           ]  15618503 of 22195070 complete Elapsed: 42.6 minutes\t Remaining: 17.9 minutes"
       ]
      },
      {
       "output_type": "stream",
       "stream": "stdout",
       "text": [
        " \r",
        "[*****************70%*******           ]  15628698 of 22195070 complete Elapsed: 42.6 minutes\t Remaining: 17.9 minutes"
       ]
      },
      {
       "output_type": "stream",
       "stream": "stdout",
       "text": [
        " \r",
        "[*****************70%*******           ]  15638911 of 22195070 complete Elapsed: 42.7 minutes\t Remaining: 17.9 minutes"
       ]
      },
      {
       "output_type": "stream",
       "stream": "stdout",
       "text": [
        " \r",
        "[*****************71%*******           ]  15649115 of 22195070 complete Elapsed: 42.7 minutes\t Remaining: 17.9 minutes"
       ]
      },
      {
       "output_type": "stream",
       "stream": "stdout",
       "text": [
        " \r",
        "[*****************71%*******           ]  15659340 of 22195070 complete Elapsed: 42.7 minutes\t Remaining: 17.8 minutes"
       ]
      },
      {
       "output_type": "stream",
       "stream": "stdout",
       "text": [
        " \r",
        "[*****************71%*******           ]  15669516 of 22195070 complete Elapsed: 42.7 minutes\t Remaining: 17.8 minutes"
       ]
      },
      {
       "output_type": "stream",
       "stream": "stdout",
       "text": [
        " \r",
        "[*****************71%*******           ]  15679716 of 22195070 complete Elapsed: 42.8 minutes\t Remaining: 17.8 minutes"
       ]
      },
      {
       "output_type": "stream",
       "stream": "stdout",
       "text": [
        " \r",
        "[*****************71%*******           ]  15689886 of 22195070 complete Elapsed: 42.8 minutes\t Remaining: 17.7 minutes"
       ]
      },
      {
       "output_type": "stream",
       "stream": "stdout",
       "text": [
        " \r",
        "[*****************71%*******           ]  15700103 of 22195070 complete Elapsed: 42.8 minutes\t Remaining: 17.7 minutes"
       ]
      },
      {
       "output_type": "stream",
       "stream": "stdout",
       "text": [
        " \r",
        "[*****************71%*******           ]  15710312 of 22195070 complete Elapsed: 42.8 minutes\t Remaining: 17.7 minutes"
       ]
      },
      {
       "output_type": "stream",
       "stream": "stdout",
       "text": [
        " \r",
        "[*****************71%*******           ]  15720565 of 22195070 complete Elapsed: 42.9 minutes\t Remaining: 17.7 minutes"
       ]
      },
      {
       "output_type": "stream",
       "stream": "stdout",
       "text": [
        " \r",
        "[*****************71%*******           ]  15730740 of 22195070 complete Elapsed: 42.9 minutes\t Remaining: 17.6 minutes"
       ]
      },
      {
       "output_type": "stream",
       "stream": "stdout",
       "text": [
        " \r",
        "[*****************71%*******           ]  15740969 of 22195070 complete Elapsed: 42.9 minutes\t Remaining: 17.6 minutes"
       ]
      },
      {
       "output_type": "stream",
       "stream": "stdout",
       "text": [
        " \r",
        "[*****************71%*******           ]  15751165 of 22195070 complete Elapsed: 42.9 minutes\t Remaining: 17.6 minutes"
       ]
      },
      {
       "output_type": "stream",
       "stream": "stdout",
       "text": [
        " \r",
        "[*****************71%*******           ]  15761374 of 22195070 complete Elapsed: 43.0 minutes\t Remaining: 17.5 minutes"
       ]
      },
      {
       "output_type": "stream",
       "stream": "stdout",
       "text": [
        " \r",
        "[*****************71%*******           ]  15771549 of 22195070 complete Elapsed: 43.0 minutes\t Remaining: 17.5 minutes"
       ]
      },
      {
       "output_type": "stream",
       "stream": "stdout",
       "text": [
        " \r",
        "[*****************71%*******           ]  15781773 of 22195070 complete Elapsed: 43.0 minutes\t Remaining: 17.5 minutes"
       ]
      },
      {
       "output_type": "stream",
       "stream": "stdout",
       "text": [
        " \r",
        "[*****************71%*******           ]  15791980 of 22195070 complete Elapsed: 43.0 minutes\t Remaining: 17.5 minutes"
       ]
      },
      {
       "output_type": "stream",
       "stream": "stdout",
       "text": [
        " \r",
        "[*****************71%*******           ]  15802206 of 22195070 complete Elapsed: 43.1 minutes\t Remaining: 17.4 minutes"
       ]
      },
      {
       "output_type": "stream",
       "stream": "stdout",
       "text": [
        " \r",
        "[*****************71%*******           ]  15812369 of 22195070 complete Elapsed: 43.1 minutes\t Remaining: 17.4 minutes"
       ]
      },
      {
       "output_type": "stream",
       "stream": "stdout",
       "text": [
        " \r",
        "[*****************71%*******           ]  15822602 of 22195070 complete Elapsed: 43.1 minutes\t Remaining: 17.4 minutes"
       ]
      },
      {
       "output_type": "stream",
       "stream": "stdout",
       "text": [
        " \r",
        "[*****************71%*******           ]  15832795 of 22195070 complete Elapsed: 43.1 minutes\t Remaining: 17.3 minutes"
       ]
      },
      {
       "output_type": "stream",
       "stream": "stdout",
       "text": [
        " \r",
        "[*****************71%*******           ]  15843072 of 22195070 complete Elapsed: 43.2 minutes\t Remaining: 17.3 minutes"
       ]
      },
      {
       "output_type": "stream",
       "stream": "stdout",
       "text": [
        " \r",
        "[*****************71%*******           ]  15853236 of 22195070 complete Elapsed: 43.2 minutes\t Remaining: 17.3 minutes"
       ]
      },
      {
       "output_type": "stream",
       "stream": "stdout",
       "text": [
        " \r",
        "[*****************71%*******           ]  15863488 of 22195070 complete Elapsed: 43.2 minutes\t Remaining: 17.3 minutes"
       ]
      },
      {
       "output_type": "stream",
       "stream": "stdout",
       "text": [
        " \r",
        "[*****************72%*******           ]  15873749 of 22195070 complete Elapsed: 43.2 minutes\t Remaining: 17.2 minutes"
       ]
      },
      {
       "output_type": "stream",
       "stream": "stdout",
       "text": [
        " \r",
        "[*****************72%*******           ]  15884030 of 22195070 complete Elapsed: 43.3 minutes\t Remaining: 17.2 minutes"
       ]
      },
      {
       "output_type": "stream",
       "stream": "stdout",
       "text": [
        " \r",
        "[*****************72%*******           ]  15894208 of 22195070 complete Elapsed: 43.3 minutes\t Remaining: 17.2 minutes"
       ]
      },
      {
       "output_type": "stream",
       "stream": "stdout",
       "text": [
        " \r",
        "[*****************72%*******           ]  15904472 of 22195070 complete Elapsed: 43.3 minutes\t Remaining: 17.1 minutes"
       ]
      },
      {
       "output_type": "stream",
       "stream": "stdout",
       "text": [
        " \r",
        "[*****************72%*******           ]  15914643 of 22195070 complete Elapsed: 43.3 minutes\t Remaining: 17.1 minutes"
       ]
      },
      {
       "output_type": "stream",
       "stream": "stdout",
       "text": [
        " \r",
        "[*****************72%*******           ]  15924962 of 22195070 complete Elapsed: 43.4 minutes\t Remaining: 17.1 minutes"
       ]
      },
      {
       "output_type": "stream",
       "stream": "stdout",
       "text": [
        " \r",
        "[*****************72%*******           ]  15935176 of 22195070 complete Elapsed: 43.4 minutes\t Remaining: 17.0 minutes"
       ]
      },
      {
       "output_type": "stream",
       "stream": "stdout",
       "text": [
        " \r",
        "[*****************72%*******           ]  15945451 of 22195070 complete Elapsed: 43.4 minutes\t Remaining: 17.0 minutes"
       ]
      },
      {
       "output_type": "stream",
       "stream": "stdout",
       "text": [
        " \r",
        "[*****************72%*******           ]  15955734 of 22195070 complete Elapsed: 43.4 minutes\t Remaining: 17.0 minutes"
       ]
      },
      {
       "output_type": "stream",
       "stream": "stdout",
       "text": [
        " \r",
        "[*****************72%*******           ]  15966002 of 22195070 complete Elapsed: 43.5 minutes\t Remaining: 17.0 minutes"
       ]
      },
      {
       "output_type": "stream",
       "stream": "stdout",
       "text": [
        " \r",
        "[*****************72%*******           ]  15976213 of 22195070 complete Elapsed: 43.5 minutes\t Remaining: 16.9 minutes"
       ]
      },
      {
       "output_type": "stream",
       "stream": "stdout",
       "text": [
        " \r",
        "[*****************72%*******           ]  15986544 of 22195070 complete Elapsed: 43.5 minutes\t Remaining: 16.9 minutes"
       ]
      },
      {
       "output_type": "stream",
       "stream": "stdout",
       "text": [
        " \r",
        "[*****************72%*******           ]  15996743 of 22195070 complete Elapsed: 43.5 minutes\t Remaining: 16.9 minutes"
       ]
      },
      {
       "output_type": "stream",
       "stream": "stdout",
       "text": [
        " \r",
        "[*****************72%*******           ]  16007039 of 22195070 complete Elapsed: 43.6 minutes\t Remaining: 16.8 minutes"
       ]
      },
      {
       "output_type": "stream",
       "stream": "stdout",
       "text": [
        " \r",
        "[*****************72%*******           ]  16017222 of 22195070 complete Elapsed: 43.6 minutes\t Remaining: 16.8 minutes"
       ]
      },
      {
       "output_type": "stream",
       "stream": "stdout",
       "text": [
        " \r",
        "[*****************72%*******           ]  16027490 of 22195070 complete Elapsed: 43.6 minutes\t Remaining: 16.8 minutes"
       ]
      },
      {
       "output_type": "stream",
       "stream": "stdout",
       "text": [
        " \r",
        "[*****************72%*******           ]  16037720 of 22195070 complete Elapsed: 43.6 minutes\t Remaining: 16.8 minutes"
       ]
      },
      {
       "output_type": "stream",
       "stream": "stdout",
       "text": [
        " \r",
        "[*****************72%*******           ]  16048021 of 22195070 complete Elapsed: 43.7 minutes\t Remaining: 16.7 minutes"
       ]
      },
      {
       "output_type": "stream",
       "stream": "stdout",
       "text": [
        " \r",
        "[*****************72%*******           ]  16058226 of 22195070 complete Elapsed: 43.7 minutes\t Remaining: 16.7 minutes"
       ]
      },
      {
       "output_type": "stream",
       "stream": "stdout",
       "text": [
        " \r",
        "[*****************72%*******           ]  16068520 of 22195070 complete Elapsed: 43.7 minutes\t Remaining: 16.7 minutes"
       ]
      },
      {
       "output_type": "stream",
       "stream": "stdout",
       "text": [
        " \r",
        "[*****************72%*******           ]  16078834 of 22195070 complete Elapsed: 43.7 minutes\t Remaining: 16.6 minutes"
       ]
      },
      {
       "output_type": "stream",
       "stream": "stdout",
       "text": [
        " \r",
        "[*****************72%*******           ]  16089100 of 22195070 complete Elapsed: 43.8 minutes\t Remaining: 16.6 minutes"
       ]
      },
      {
       "output_type": "stream",
       "stream": "stdout",
       "text": [
        " \r",
        "[*****************73%********          ]  16099333 of 22195070 complete Elapsed: 43.8 minutes\t Remaining: 16.6 minutes"
       ]
      },
      {
       "output_type": "stream",
       "stream": "stdout",
       "text": [
        " \r",
        "[*****************73%********          ]  16109607 of 22195070 complete Elapsed: 43.8 minutes\t Remaining: 16.6 minutes"
       ]
      },
      {
       "output_type": "stream",
       "stream": "stdout",
       "text": [
        " \r",
        "[*****************73%********          ]  16119852 of 22195070 complete Elapsed: 43.8 minutes\t Remaining: 16.5 minutes"
       ]
      },
      {
       "output_type": "stream",
       "stream": "stdout",
       "text": [
        " \r",
        "[*****************73%********          ]  16130111 of 22195070 complete Elapsed: 43.9 minutes\t Remaining: 16.5 minutes"
       ]
      },
      {
       "output_type": "stream",
       "stream": "stdout",
       "text": [
        " \r",
        "[*****************73%********          ]  16140317 of 22195070 complete Elapsed: 43.9 minutes\t Remaining: 16.5 minutes"
       ]
      },
      {
       "output_type": "stream",
       "stream": "stdout",
       "text": [
        " \r",
        "[*****************73%********          ]  16150566 of 22195070 complete Elapsed: 43.9 minutes\t Remaining: 16.4 minutes"
       ]
      },
      {
       "output_type": "stream",
       "stream": "stdout",
       "text": [
        " \r",
        "[*****************73%********          ]  16160786 of 22195070 complete Elapsed: 43.9 minutes\t Remaining: 16.4 minutes"
       ]
      },
      {
       "output_type": "stream",
       "stream": "stdout",
       "text": [
        " \r",
        "[*****************73%********          ]  16171016 of 22195070 complete Elapsed: 44.0 minutes\t Remaining: 16.4 minutes"
       ]
      },
      {
       "output_type": "stream",
       "stream": "stdout",
       "text": [
        " \r",
        "[*****************73%********          ]  16181190 of 22195070 complete Elapsed: 44.0 minutes\t Remaining: 16.4 minutes"
       ]
      },
      {
       "output_type": "stream",
       "stream": "stdout",
       "text": [
        " \r",
        "[*****************73%********          ]  16191407 of 22195070 complete Elapsed: 44.0 minutes\t Remaining: 16.3 minutes"
       ]
      },
      {
       "output_type": "stream",
       "stream": "stdout",
       "text": [
        " \r",
        "[*****************73%********          ]  16201661 of 22195070 complete Elapsed: 44.0 minutes\t Remaining: 16.3 minutes"
       ]
      },
      {
       "output_type": "stream",
       "stream": "stdout",
       "text": [
        " \r",
        "[*****************73%********          ]  16211900 of 22195070 complete Elapsed: 44.1 minutes\t Remaining: 16.3 minutes"
       ]
      },
      {
       "output_type": "stream",
       "stream": "stdout",
       "text": [
        " \r",
        "[*****************73%********          ]  16222101 of 22195070 complete Elapsed: 44.1 minutes\t Remaining: 16.2 minutes"
       ]
      },
      {
       "output_type": "stream",
       "stream": "stdout",
       "text": [
        " \r",
        "[*****************73%********          ]  16232386 of 22195070 complete Elapsed: 44.1 minutes\t Remaining: 16.2 minutes"
       ]
      },
      {
       "output_type": "stream",
       "stream": "stdout",
       "text": [
        " \r",
        "[*****************73%********          ]  16242597 of 22195070 complete Elapsed: 44.1 minutes\t Remaining: 16.2 minutes"
       ]
      },
      {
       "output_type": "stream",
       "stream": "stdout",
       "text": [
        " \r",
        "[*****************73%********          ]  16252846 of 22195070 complete Elapsed: 44.2 minutes\t Remaining: 16.1 minutes"
       ]
      },
      {
       "output_type": "stream",
       "stream": "stdout",
       "text": [
        " \r",
        "[*****************73%********          ]  16263041 of 22195070 complete Elapsed: 44.2 minutes\t Remaining: 16.1 minutes"
       ]
      },
      {
       "output_type": "stream",
       "stream": "stdout",
       "text": [
        " \r",
        "[*****************73%********          ]  16273275 of 22195070 complete Elapsed: 44.2 minutes\t Remaining: 16.1 minutes"
       ]
      },
      {
       "output_type": "stream",
       "stream": "stdout",
       "text": [
        " \r",
        "[*****************73%********          ]  16283460 of 22195070 complete Elapsed: 44.2 minutes\t Remaining: 16.1 minutes"
       ]
      },
      {
       "output_type": "stream",
       "stream": "stdout",
       "text": [
        " \r",
        "[*****************73%********          ]  16293700 of 22195070 complete Elapsed: 44.3 minutes\t Remaining: 16.0 minutes"
       ]
      },
      {
       "output_type": "stream",
       "stream": "stdout",
       "text": [
        " \r",
        "[*****************73%********          ]  16303908 of 22195070 complete Elapsed: 44.3 minutes\t Remaining: 16.0 minutes"
       ]
      },
      {
       "output_type": "stream",
       "stream": "stdout",
       "text": [
        " \r",
        "[*****************73%********          ]  16309339 of 22195070 complete Elapsed: 44.5 minutes\t Remaining: 16.1 minutes"
       ]
      },
      {
       "output_type": "stream",
       "stream": "stdout",
       "text": [
        " \r",
        "[*****************74%********          ]  16316647 of 22195070 complete Elapsed: 44.5 minutes\t Remaining: 16.0 minutes"
       ]
      },
      {
       "output_type": "stream",
       "stream": "stdout",
       "text": [
        " \r",
        "[*****************74%********          ]  16326919 of 22195070 complete Elapsed: 44.6 minutes\t Remaining: 16.0 minutes"
       ]
      },
      {
       "output_type": "stream",
       "stream": "stdout",
       "text": [
        " \r",
        "[*****************74%********          ]  16337186 of 22195070 complete Elapsed: 44.6 minutes\t Remaining: 16.0 minutes"
       ]
      },
      {
       "output_type": "stream",
       "stream": "stdout",
       "text": [
        " \r",
        "[*****************74%********          ]  16347365 of 22195070 complete Elapsed: 44.6 minutes\t Remaining: 16.0 minutes"
       ]
      },
      {
       "output_type": "stream",
       "stream": "stdout",
       "text": [
        " \r",
        "[*****************74%********          ]  16357613 of 22195070 complete Elapsed: 44.6 minutes\t Remaining: 15.9 minutes"
       ]
      },
      {
       "output_type": "stream",
       "stream": "stdout",
       "text": [
        " \r",
        "[*****************74%********          ]  16367803 of 22195070 complete Elapsed: 44.7 minutes\t Remaining: 15.9 minutes"
       ]
      },
      {
       "output_type": "stream",
       "stream": "stdout",
       "text": [
        " \r",
        "[*****************74%********          ]  16378070 of 22195070 complete Elapsed: 44.7 minutes\t Remaining: 15.9 minutes"
       ]
      },
      {
       "output_type": "stream",
       "stream": "stdout",
       "text": [
        " \r",
        "[*****************74%********          ]  16388314 of 22195070 complete Elapsed: 44.7 minutes\t Remaining: 15.8 minutes"
       ]
      },
      {
       "output_type": "stream",
       "stream": "stdout",
       "text": [
        " \r",
        "[*****************74%********          ]  16398599 of 22195070 complete Elapsed: 44.7 minutes\t Remaining: 15.8 minutes"
       ]
      },
      {
       "output_type": "stream",
       "stream": "stdout",
       "text": [
        " \r",
        "[*****************74%********          ]  16408776 of 22195070 complete Elapsed: 44.8 minutes\t Remaining: 15.8 minutes"
       ]
      },
      {
       "output_type": "stream",
       "stream": "stdout",
       "text": [
        " \r",
        "[*****************74%********          ]  16419070 of 22195070 complete Elapsed: 44.8 minutes\t Remaining: 15.8 minutes"
       ]
      },
      {
       "output_type": "stream",
       "stream": "stdout",
       "text": [
        " \r",
        "[*****************74%********          ]  16429271 of 22195070 complete Elapsed: 44.8 minutes\t Remaining: 15.7 minutes"
       ]
      },
      {
       "output_type": "stream",
       "stream": "stdout",
       "text": [
        " \r",
        "[*****************74%********          ]  16439587 of 22195070 complete Elapsed: 44.8 minutes\t Remaining: 15.7 minutes"
       ]
      },
      {
       "output_type": "stream",
       "stream": "stdout",
       "text": [
        " \r",
        "[*****************74%********          ]  16449758 of 22195070 complete Elapsed: 44.9 minutes\t Remaining: 15.7 minutes"
       ]
      },
      {
       "output_type": "stream",
       "stream": "stdout",
       "text": [
        " \r",
        "[*****************74%********          ]  16460032 of 22195070 complete Elapsed: 44.9 minutes\t Remaining: 15.6 minutes"
       ]
      },
      {
       "output_type": "stream",
       "stream": "stdout",
       "text": [
        " \r",
        "[*****************74%********          ]  16470248 of 22195070 complete Elapsed: 44.9 minutes\t Remaining: 15.6 minutes"
       ]
      },
      {
       "output_type": "stream",
       "stream": "stdout",
       "text": [
        " \r",
        "[*****************74%********          ]  16480513 of 22195070 complete Elapsed: 44.9 minutes\t Remaining: 15.6 minutes"
       ]
      },
      {
       "output_type": "stream",
       "stream": "stdout",
       "text": [
        " \r",
        "[*****************74%********          ]  16490752 of 22195070 complete Elapsed: 45.0 minutes\t Remaining: 15.6 minutes"
       ]
      },
      {
       "output_type": "stream",
       "stream": "stdout",
       "text": [
        " \r",
        "[*****************74%********          ]  16501031 of 22195070 complete Elapsed: 45.0 minutes\t Remaining: 15.5 minutes"
       ]
      },
      {
       "output_type": "stream",
       "stream": "stdout",
       "text": [
        " \r",
        "[*****************74%********          ]  16511281 of 22195070 complete Elapsed: 45.0 minutes\t Remaining: 15.5 minutes"
       ]
      },
      {
       "output_type": "stream",
       "stream": "stdout",
       "text": [
        " \r",
        "[*****************74%********          ]  16521579 of 22195070 complete Elapsed: 45.0 minutes\t Remaining: 15.5 minutes"
       ]
      },
      {
       "output_type": "stream",
       "stream": "stdout",
       "text": [
        " \r",
        "[*****************74%********          ]  16531814 of 22195070 complete Elapsed: 45.1 minutes\t Remaining: 15.4 minutes"
       ]
      },
      {
       "output_type": "stream",
       "stream": "stdout",
       "text": [
        " \r",
        "[*****************75%*********         ]  16542079 of 22195070 complete Elapsed: 45.1 minutes\t Remaining: 15.4 minutes"
       ]
      },
      {
       "output_type": "stream",
       "stream": "stdout",
       "text": [
        " \r",
        "[*****************75%*********         ]  16552295 of 22195070 complete Elapsed: 45.1 minutes\t Remaining: 15.4 minutes"
       ]
      },
      {
       "output_type": "stream",
       "stream": "stdout",
       "text": [
        " \r",
        "[*****************75%*********         ]  16562563 of 22195070 complete Elapsed: 45.1 minutes\t Remaining: 15.4 minutes"
       ]
      },
      {
       "output_type": "stream",
       "stream": "stdout",
       "text": [
        " \r",
        "[*****************75%*********         ]  16572791 of 22195070 complete Elapsed: 45.2 minutes\t Remaining: 15.3 minutes"
       ]
      },
      {
       "output_type": "stream",
       "stream": "stdout",
       "text": [
        " \r",
        "[*****************75%*********         ]  16583053 of 22195070 complete Elapsed: 45.2 minutes\t Remaining: 15.3 minutes"
       ]
      },
      {
       "output_type": "stream",
       "stream": "stdout",
       "text": [
        " \r",
        "[*****************75%*********         ]  16593270 of 22195070 complete Elapsed: 45.2 minutes\t Remaining: 15.3 minutes"
       ]
      },
      {
       "output_type": "stream",
       "stream": "stdout",
       "text": [
        " \r",
        "[*****************75%*********         ]  16603522 of 22195070 complete Elapsed: 45.2 minutes\t Remaining: 15.2 minutes"
       ]
      },
      {
       "output_type": "stream",
       "stream": "stdout",
       "text": [
        " \r",
        "[*****************75%*********         ]  16613690 of 22195070 complete Elapsed: 45.3 minutes\t Remaining: 15.2 minutes"
       ]
      },
      {
       "output_type": "stream",
       "stream": "stdout",
       "text": [
        " \r",
        "[*****************75%*********         ]  16623932 of 22195070 complete Elapsed: 45.3 minutes\t Remaining: 15.2 minutes"
       ]
      },
      {
       "output_type": "stream",
       "stream": "stdout",
       "text": [
        " \r",
        "[*****************75%*********         ]  16634112 of 22195070 complete Elapsed: 45.3 minutes\t Remaining: 15.1 minutes"
       ]
      },
      {
       "output_type": "stream",
       "stream": "stdout",
       "text": [
        " \r",
        "[*****************75%*********         ]  16644447 of 22195070 complete Elapsed: 45.3 minutes\t Remaining: 15.1 minutes"
       ]
      },
      {
       "output_type": "stream",
       "stream": "stdout",
       "text": [
        " \r",
        "[*****************75%*********         ]  16654620 of 22195070 complete Elapsed: 45.4 minutes\t Remaining: 15.1 minutes"
       ]
      },
      {
       "output_type": "stream",
       "stream": "stdout",
       "text": [
        " \r",
        "[*****************75%*********         ]  16664883 of 22195070 complete Elapsed: 45.4 minutes\t Remaining: 15.1 minutes"
       ]
      },
      {
       "output_type": "stream",
       "stream": "stdout",
       "text": [
        " \r",
        "[*****************75%*********         ]  16675090 of 22195070 complete Elapsed: 45.4 minutes\t Remaining: 15.0 minutes"
       ]
      },
      {
       "output_type": "stream",
       "stream": "stdout",
       "text": [
        " \r",
        "[*****************75%*********         ]  16685311 of 22195070 complete Elapsed: 45.4 minutes\t Remaining: 15.0 minutes"
       ]
      },
      {
       "output_type": "stream",
       "stream": "stdout",
       "text": [
        " \r",
        "[*****************75%*********         ]  16695519 of 22195070 complete Elapsed: 45.5 minutes\t Remaining: 15.0 minutes"
       ]
      },
      {
       "output_type": "stream",
       "stream": "stdout",
       "text": [
        " \r",
        "[*****************75%*********         ]  16705798 of 22195070 complete Elapsed: 45.5 minutes\t Remaining: 14.9 minutes"
       ]
      },
      {
       "output_type": "stream",
       "stream": "stdout",
       "text": [
        " \r",
        "[*****************75%*********         ]  16715987 of 22195070 complete Elapsed: 45.5 minutes\t Remaining: 14.9 minutes"
       ]
      },
      {
       "output_type": "stream",
       "stream": "stdout",
       "text": [
        " \r",
        "[*****************75%*********         ]  16726259 of 22195070 complete Elapsed: 45.5 minutes\t Remaining: 14.9 minutes"
       ]
      },
      {
       "output_type": "stream",
       "stream": "stdout",
       "text": [
        " \r",
        "[*****************75%*********         ]  16736441 of 22195070 complete Elapsed: 45.6 minutes\t Remaining: 14.9 minutes"
       ]
      },
      {
       "output_type": "stream",
       "stream": "stdout",
       "text": [
        " \r",
        "[*****************75%*********         ]  16746678 of 22195070 complete Elapsed: 45.6 minutes\t Remaining: 14.8 minutes"
       ]
      },
      {
       "output_type": "stream",
       "stream": "stdout",
       "text": [
        " \r",
        "[*****************75%*********         ]  16756849 of 22195070 complete Elapsed: 45.6 minutes\t Remaining: 14.8 minutes"
       ]
      },
      {
       "output_type": "stream",
       "stream": "stdout",
       "text": [
        " \r",
        "[*****************76%*********         ]  16767105 of 22195070 complete Elapsed: 45.6 minutes\t Remaining: 14.8 minutes"
       ]
      },
      {
       "output_type": "stream",
       "stream": "stdout",
       "text": [
        " \r",
        "[*****************76%*********         ]  16777309 of 22195070 complete Elapsed: 45.7 minutes\t Remaining: 14.7 minutes"
       ]
      },
      {
       "output_type": "stream",
       "stream": "stdout",
       "text": [
        " \r",
        "[*****************76%*********         ]  16787575 of 22195070 complete Elapsed: 45.7 minutes\t Remaining: 14.7 minutes"
       ]
      },
      {
       "output_type": "stream",
       "stream": "stdout",
       "text": [
        " \r",
        "[*****************76%*********         ]  16797817 of 22195070 complete Elapsed: 45.7 minutes\t Remaining: 14.7 minutes"
       ]
      },
      {
       "output_type": "stream",
       "stream": "stdout",
       "text": [
        " \r",
        "[*****************76%*********         ]  16808077 of 22195070 complete Elapsed: 45.7 minutes\t Remaining: 14.7 minutes"
       ]
      },
      {
       "output_type": "stream",
       "stream": "stdout",
       "text": [
        " \r",
        "[*****************76%*********         ]  16818313 of 22195070 complete Elapsed: 45.8 minutes\t Remaining: 14.6 minutes"
       ]
      },
      {
       "output_type": "stream",
       "stream": "stdout",
       "text": [
        " \r",
        "[*****************76%*********         ]  16828584 of 22195070 complete Elapsed: 45.8 minutes\t Remaining: 14.6 minutes"
       ]
      },
      {
       "output_type": "stream",
       "stream": "stdout",
       "text": [
        " \r",
        "[*****************76%*********         ]  16838788 of 22195070 complete Elapsed: 45.8 minutes\t Remaining: 14.6 minutes"
       ]
      },
      {
       "output_type": "stream",
       "stream": "stdout",
       "text": [
        " \r",
        "[*****************76%*********         ]  16849050 of 22195070 complete Elapsed: 45.8 minutes\t Remaining: 14.5 minutes"
       ]
      },
      {
       "output_type": "stream",
       "stream": "stdout",
       "text": [
        " \r",
        "[*****************76%*********         ]  16859231 of 22195070 complete Elapsed: 45.9 minutes\t Remaining: 14.5 minutes"
       ]
      },
      {
       "output_type": "stream",
       "stream": "stdout",
       "text": [
        " \r",
        "[*****************76%*********         ]  16869476 of 22195070 complete Elapsed: 45.9 minutes\t Remaining: 14.5 minutes"
       ]
      },
      {
       "output_type": "stream",
       "stream": "stdout",
       "text": [
        " \r",
        "[*****************76%*********         ]  16879653 of 22195070 complete Elapsed: 45.9 minutes\t Remaining: 14.5 minutes"
       ]
      },
      {
       "output_type": "stream",
       "stream": "stdout",
       "text": [
        " \r",
        "[*****************76%*********         ]  16889887 of 22195070 complete Elapsed: 45.9 minutes\t Remaining: 14.4 minutes"
       ]
      },
      {
       "output_type": "stream",
       "stream": "stdout",
       "text": [
        " \r",
        "[*****************76%*********         ]  16900107 of 22195070 complete Elapsed: 46.0 minutes\t Remaining: 14.4 minutes"
       ]
      },
      {
       "output_type": "stream",
       "stream": "stdout",
       "text": [
        " \r",
        "[*****************76%*********         ]  16910351 of 22195070 complete Elapsed: 46.0 minutes\t Remaining: 14.4 minutes"
       ]
      },
      {
       "output_type": "stream",
       "stream": "stdout",
       "text": [
        " \r",
        "[*****************76%*********         ]  16920550 of 22195070 complete Elapsed: 46.0 minutes\t Remaining: 14.3 minutes"
       ]
      },
      {
       "output_type": "stream",
       "stream": "stdout",
       "text": [
        " \r",
        "[*****************76%*********         ]  16930806 of 22195070 complete Elapsed: 46.0 minutes\t Remaining: 14.3 minutes"
       ]
      },
      {
       "output_type": "stream",
       "stream": "stdout",
       "text": [
        " \r",
        "[*****************76%*********         ]  16941014 of 22195070 complete Elapsed: 46.1 minutes\t Remaining: 14.3 minutes"
       ]
      },
      {
       "output_type": "stream",
       "stream": "stdout",
       "text": [
        " \r",
        "[*****************76%*********         ]  16951263 of 22195070 complete Elapsed: 46.1 minutes\t Remaining: 14.3 minutes"
       ]
      },
      {
       "output_type": "stream",
       "stream": "stdout",
       "text": [
        " \r",
        "[*****************76%*********         ]  16961473 of 22195070 complete Elapsed: 46.1 minutes\t Remaining: 14.2 minutes"
       ]
      },
      {
       "output_type": "stream",
       "stream": "stdout",
       "text": [
        " \r",
        "[*****************76%*********         ]  16971815 of 22195070 complete Elapsed: 46.1 minutes\t Remaining: 14.2 minutes"
       ]
      },
      {
       "output_type": "stream",
       "stream": "stdout",
       "text": [
        " \r",
        "[*****************77%*********         ]  16982041 of 22195070 complete Elapsed: 46.2 minutes\t Remaining: 14.2 minutes"
       ]
      },
      {
       "output_type": "stream",
       "stream": "stdout",
       "text": [
        " \r",
        "[*****************77%*********         ]  16984911 of 22195070 complete Elapsed: 46.4 minutes\t Remaining: 14.2 minutes"
       ]
      },
      {
       "output_type": "stream",
       "stream": "stdout",
       "text": [
        " \r",
        "[*****************77%*********         ]  16992278 of 22195070 complete Elapsed: 46.4 minutes\t Remaining: 14.2 minutes"
       ]
      },
      {
       "output_type": "stream",
       "stream": "stdout",
       "text": [
        " \r",
        "[*****************77%*********         ]  17002551 of 22195070 complete Elapsed: 46.4 minutes\t Remaining: 14.2 minutes"
       ]
      },
      {
       "output_type": "stream",
       "stream": "stdout",
       "text": [
        " \r",
        "[*****************77%*********         ]  17012795 of 22195070 complete Elapsed: 46.4 minutes\t Remaining: 14.1 minutes"
       ]
      },
      {
       "output_type": "stream",
       "stream": "stdout",
       "text": [
        " \r",
        "[*****************77%*********         ]  17023074 of 22195070 complete Elapsed: 46.5 minutes\t Remaining: 14.1 minutes"
       ]
      },
      {
       "output_type": "stream",
       "stream": "stdout",
       "text": [
        " \r",
        "[*****************77%*********         ]  17033364 of 22195070 complete Elapsed: 46.5 minutes\t Remaining: 14.1 minutes"
       ]
      },
      {
       "output_type": "stream",
       "stream": "stdout",
       "text": [
        " \r",
        "[*****************77%*********         ]  17043624 of 22195070 complete Elapsed: 46.5 minutes\t Remaining: 14.1 minutes"
       ]
      },
      {
       "output_type": "stream",
       "stream": "stdout",
       "text": [
        " \r",
        "[*****************77%*********         ]  17053910 of 22195070 complete Elapsed: 46.5 minutes\t Remaining: 14.0 minutes"
       ]
      },
      {
       "output_type": "stream",
       "stream": "stdout",
       "text": [
        " \r",
        "[*****************77%*********         ]  17064125 of 22195070 complete Elapsed: 46.6 minutes\t Remaining: 14.0 minutes"
       ]
      },
      {
       "output_type": "stream",
       "stream": "stdout",
       "text": [
        " \r",
        "[*****************77%*********         ]  17074386 of 22195070 complete Elapsed: 46.6 minutes\t Remaining: 14.0 minutes"
       ]
      },
      {
       "output_type": "stream",
       "stream": "stdout",
       "text": [
        " \r",
        "[*****************77%*********         ]  17084584 of 22195070 complete Elapsed: 46.6 minutes\t Remaining: 13.9 minutes"
       ]
      },
      {
       "output_type": "stream",
       "stream": "stdout",
       "text": [
        " \r",
        "[*****************77%*********         ]  17094889 of 22195070 complete Elapsed: 46.6 minutes\t Remaining: 13.9 minutes"
       ]
      },
      {
       "output_type": "stream",
       "stream": "stdout",
       "text": [
        " \r",
        "[*****************77%*********         ]  17105126 of 22195070 complete Elapsed: 46.7 minutes\t Remaining: 13.9 minutes"
       ]
      },
      {
       "output_type": "stream",
       "stream": "stdout",
       "text": [
        " \r",
        "[*****************77%*********         ]  17115377 of 22195070 complete Elapsed: 46.7 minutes\t Remaining: 13.9 minutes"
       ]
      },
      {
       "output_type": "stream",
       "stream": "stdout",
       "text": [
        " \r",
        "[*****************77%*********         ]  17125597 of 22195070 complete Elapsed: 46.7 minutes\t Remaining: 13.8 minutes"
       ]
      },
      {
       "output_type": "stream",
       "stream": "stdout",
       "text": [
        " \r",
        "[*****************77%*********         ]  17135886 of 22195070 complete Elapsed: 46.7 minutes\t Remaining: 13.8 minutes"
       ]
      },
      {
       "output_type": "stream",
       "stream": "stdout",
       "text": [
        " \r",
        "[*****************77%*********         ]  17146097 of 22195070 complete Elapsed: 46.8 minutes\t Remaining: 13.8 minutes"
       ]
      },
      {
       "output_type": "stream",
       "stream": "stdout",
       "text": [
        " \r",
        "[*****************77%*********         ]  17156361 of 22195070 complete Elapsed: 46.8 minutes\t Remaining: 13.7 minutes"
       ]
      },
      {
       "output_type": "stream",
       "stream": "stdout",
       "text": [
        " \r",
        "[*****************77%*********         ]  17166574 of 22195070 complete Elapsed: 46.8 minutes\t Remaining: 13.7 minutes"
       ]
      },
      {
       "output_type": "stream",
       "stream": "stdout",
       "text": [
        " \r",
        "[*****************77%*********         ]  17176843 of 22195070 complete Elapsed: 46.8 minutes\t Remaining: 13.7 minutes"
       ]
      },
      {
       "output_type": "stream",
       "stream": "stdout",
       "text": [
        " \r",
        "[*****************77%*********         ]  17187064 of 22195070 complete Elapsed: 46.9 minutes\t Remaining: 13.7 minutes"
       ]
      },
      {
       "output_type": "stream",
       "stream": "stdout",
       "text": [
        " \r",
        "[*****************77%*********         ]  17197314 of 22195070 complete Elapsed: 46.9 minutes\t Remaining: 13.6 minutes"
       ]
      },
      {
       "output_type": "stream",
       "stream": "stdout",
       "text": [
        " \r",
        "[*****************78%**********        ]  17207554 of 22195070 complete Elapsed: 46.9 minutes\t Remaining: 13.6 minutes"
       ]
      },
      {
       "output_type": "stream",
       "stream": "stdout",
       "text": [
        " \r",
        "[*****************78%**********        ]  17217833 of 22195070 complete Elapsed: 46.9 minutes\t Remaining: 13.6 minutes"
       ]
      },
      {
       "output_type": "stream",
       "stream": "stdout",
       "text": [
        " \r",
        "[*****************78%**********        ]  17228079 of 22195070 complete Elapsed: 47.0 minutes\t Remaining: 13.5 minutes"
       ]
      },
      {
       "output_type": "stream",
       "stream": "stdout",
       "text": [
        " \r",
        "[*****************78%**********        ]  17238348 of 22195070 complete Elapsed: 47.0 minutes\t Remaining: 13.5 minutes"
       ]
      },
      {
       "output_type": "stream",
       "stream": "stdout",
       "text": [
        " \r",
        "[*****************78%**********        ]  17248539 of 22195070 complete Elapsed: 47.0 minutes\t Remaining: 13.5 minutes"
       ]
      },
      {
       "output_type": "stream",
       "stream": "stdout",
       "text": [
        " \r",
        "[*****************78%**********        ]  17258799 of 22195070 complete Elapsed: 47.0 minutes\t Remaining: 13.5 minutes"
       ]
      },
      {
       "output_type": "stream",
       "stream": "stdout",
       "text": [
        " \r",
        "[*****************78%**********        ]  17269029 of 22195070 complete Elapsed: 47.1 minutes\t Remaining: 13.4 minutes"
       ]
      },
      {
       "output_type": "stream",
       "stream": "stdout",
       "text": [
        " \r",
        "[*****************78%**********        ]  17279320 of 22195070 complete Elapsed: 47.1 minutes\t Remaining: 13.4 minutes"
       ]
      },
      {
       "output_type": "stream",
       "stream": "stdout",
       "text": [
        " \r",
        "[*****************78%**********        ]  17289539 of 22195070 complete Elapsed: 47.1 minutes\t Remaining: 13.4 minutes"
       ]
      },
      {
       "output_type": "stream",
       "stream": "stdout",
       "text": [
        " \r",
        "[*****************78%**********        ]  17299779 of 22195070 complete Elapsed: 47.1 minutes\t Remaining: 13.3 minutes"
       ]
      },
      {
       "output_type": "stream",
       "stream": "stdout",
       "text": [
        " \r",
        "[*****************78%**********        ]  17309991 of 22195070 complete Elapsed: 47.2 minutes\t Remaining: 13.3 minutes"
       ]
      },
      {
       "output_type": "stream",
       "stream": "stdout",
       "text": [
        " \r",
        "[*****************78%**********        ]  17320234 of 22195070 complete Elapsed: 47.2 minutes\t Remaining: 13.3 minutes"
       ]
      },
      {
       "output_type": "stream",
       "stream": "stdout",
       "text": [
        " \r",
        "[*****************78%**********        ]  17330456 of 22195070 complete Elapsed: 47.2 minutes\t Remaining: 13.3 minutes"
       ]
      },
      {
       "output_type": "stream",
       "stream": "stdout",
       "text": [
        " \r",
        "[*****************78%**********        ]  17340721 of 22195070 complete Elapsed: 47.2 minutes\t Remaining: 13.2 minutes"
       ]
      },
      {
       "output_type": "stream",
       "stream": "stdout",
       "text": [
        " \r",
        "[*****************78%**********        ]  17350944 of 22195070 complete Elapsed: 47.3 minutes\t Remaining: 13.2 minutes"
       ]
      },
      {
       "output_type": "stream",
       "stream": "stdout",
       "text": [
        " \r",
        "[*****************78%**********        ]  17361164 of 22195070 complete Elapsed: 47.3 minutes\t Remaining: 13.2 minutes"
       ]
      },
      {
       "output_type": "stream",
       "stream": "stdout",
       "text": [
        " \r",
        "[*****************78%**********        ]  17371375 of 22195070 complete Elapsed: 47.3 minutes\t Remaining: 13.1 minutes"
       ]
      },
      {
       "output_type": "stream",
       "stream": "stdout",
       "text": [
        " \r",
        "[*****************78%**********        ]  17381641 of 22195070 complete Elapsed: 47.3 minutes\t Remaining: 13.1 minutes"
       ]
      },
      {
       "output_type": "stream",
       "stream": "stdout",
       "text": [
        " \r",
        "[*****************78%**********        ]  17391863 of 22195070 complete Elapsed: 47.4 minutes\t Remaining: 13.1 minutes"
       ]
      },
      {
       "output_type": "stream",
       "stream": "stdout",
       "text": [
        " \r",
        "[*****************78%**********        ]  17402122 of 22195070 complete Elapsed: 47.4 minutes\t Remaining: 13.1 minutes"
       ]
      },
      {
       "output_type": "stream",
       "stream": "stdout",
       "text": [
        " \r",
        "[*****************78%**********        ]  17412335 of 22195070 complete Elapsed: 47.4 minutes\t Remaining: 13.0 minutes"
       ]
      },
      {
       "output_type": "stream",
       "stream": "stdout",
       "text": [
        " \r",
        "[*****************78%**********        ]  17422574 of 22195070 complete Elapsed: 47.4 minutes\t Remaining: 13.0 minutes"
       ]
      },
      {
       "output_type": "stream",
       "stream": "stdout",
       "text": [
        " \r",
        "[*****************79%**********        ]  17432812 of 22195070 complete Elapsed: 47.5 minutes\t Remaining: 13.0 minutes"
       ]
      },
      {
       "output_type": "stream",
       "stream": "stdout",
       "text": [
        " \r",
        "[*****************79%**********        ]  17443019 of 22195070 complete Elapsed: 47.5 minutes\t Remaining: 12.9 minutes"
       ]
      },
      {
       "output_type": "stream",
       "stream": "stdout",
       "text": [
        " \r",
        "[*****************79%**********        ]  17453218 of 22195070 complete Elapsed: 47.5 minutes\t Remaining: 12.9 minutes"
       ]
      },
      {
       "output_type": "stream",
       "stream": "stdout",
       "text": [
        " \r",
        "[*****************79%**********        ]  17463414 of 22195070 complete Elapsed: 47.5 minutes\t Remaining: 12.9 minutes"
       ]
      },
      {
       "output_type": "stream",
       "stream": "stdout",
       "text": [
        " \r",
        "[*****************79%**********        ]  17473619 of 22195070 complete Elapsed: 47.6 minutes\t Remaining: 12.9 minutes"
       ]
      },
      {
       "output_type": "stream",
       "stream": "stdout",
       "text": [
        " \r",
        "[*****************79%**********        ]  17483879 of 22195070 complete Elapsed: 47.6 minutes\t Remaining: 12.8 minutes"
       ]
      },
      {
       "output_type": "stream",
       "stream": "stdout",
       "text": [
        " \r",
        "[*****************79%**********        ]  17494118 of 22195070 complete Elapsed: 47.6 minutes\t Remaining: 12.8 minutes"
       ]
      },
      {
       "output_type": "stream",
       "stream": "stdout",
       "text": [
        " \r",
        "[*****************79%**********        ]  17504380 of 22195070 complete Elapsed: 47.6 minutes\t Remaining: 12.8 minutes"
       ]
      },
      {
       "output_type": "stream",
       "stream": "stdout",
       "text": [
        " \r",
        "[*****************79%**********        ]  17514610 of 22195070 complete Elapsed: 47.7 minutes\t Remaining: 12.7 minutes"
       ]
      },
      {
       "output_type": "stream",
       "stream": "stdout",
       "text": [
        " \r",
        "[*****************79%**********        ]  17524861 of 22195070 complete Elapsed: 47.7 minutes\t Remaining: 12.7 minutes"
       ]
      },
      {
       "output_type": "stream",
       "stream": "stdout",
       "text": [
        " \r",
        "[*****************79%**********        ]  17535067 of 22195070 complete Elapsed: 47.7 minutes\t Remaining: 12.7 minutes"
       ]
      },
      {
       "output_type": "stream",
       "stream": "stdout",
       "text": [
        " \r",
        "[*****************79%**********        ]  17545304 of 22195070 complete Elapsed: 47.7 minutes\t Remaining: 12.7 minutes"
       ]
      },
      {
       "output_type": "stream",
       "stream": "stdout",
       "text": [
        " \r",
        "[*****************79%**********        ]  17555509 of 22195070 complete Elapsed: 47.8 minutes\t Remaining: 12.6 minutes"
       ]
      },
      {
       "output_type": "stream",
       "stream": "stdout",
       "text": [
        " \r",
        "[*****************79%**********        ]  17565708 of 22195070 complete Elapsed: 47.8 minutes\t Remaining: 12.6 minutes"
       ]
      },
      {
       "output_type": "stream",
       "stream": "stdout",
       "text": [
        " \r",
        "[*****************79%**********        ]  17575912 of 22195070 complete Elapsed: 47.8 minutes\t Remaining: 12.6 minutes"
       ]
      },
      {
       "output_type": "stream",
       "stream": "stdout",
       "text": [
        " \r",
        "[*****************79%**********        ]  17586152 of 22195070 complete Elapsed: 47.8 minutes\t Remaining: 12.5 minutes"
       ]
      },
      {
       "output_type": "stream",
       "stream": "stdout",
       "text": [
        " \r",
        "[*****************79%**********        ]  17596379 of 22195070 complete Elapsed: 47.9 minutes\t Remaining: 12.5 minutes"
       ]
      },
      {
       "output_type": "stream",
       "stream": "stdout",
       "text": [
        " \r",
        "[*****************79%**********        ]  17606623 of 22195070 complete Elapsed: 47.9 minutes\t Remaining: 12.5 minutes"
       ]
      },
      {
       "output_type": "stream",
       "stream": "stdout",
       "text": [
        " \r",
        "[*****************79%**********        ]  17616830 of 22195070 complete Elapsed: 47.9 minutes\t Remaining: 12.5 minutes"
       ]
      },
      {
       "output_type": "stream",
       "stream": "stdout",
       "text": [
        " \r",
        "[*****************79%**********        ]  17627078 of 22195070 complete Elapsed: 47.9 minutes\t Remaining: 12.4 minutes"
       ]
      },
      {
       "output_type": "stream",
       "stream": "stdout",
       "text": [
        " \r",
        "[*****************79%**********        ]  17628600 of 22195070 complete Elapsed: 48.2 minutes\t Remaining: 12.5 minutes"
       ]
      },
      {
       "output_type": "stream",
       "stream": "stdout",
       "text": [
        " \r",
        "[*****************79%**********        ]  17636153 of 22195070 complete Elapsed: 48.2 minutes\t Remaining: 12.5 minutes"
       ]
      },
      {
       "output_type": "stream",
       "stream": "stdout",
       "text": [
        " \r",
        "[*****************80%**********        ]  17646383 of 22195070 complete Elapsed: 48.2 minutes\t Remaining: 12.4 minutes"
       ]
      },
      {
       "output_type": "stream",
       "stream": "stdout",
       "text": [
        " \r",
        "[*****************80%**********        ]  17656651 of 22195070 complete Elapsed: 48.2 minutes\t Remaining: 12.4 minutes"
       ]
      },
      {
       "output_type": "stream",
       "stream": "stdout",
       "text": [
        " \r",
        "[*****************80%**********        ]  17666824 of 22195070 complete Elapsed: 48.3 minutes\t Remaining: 12.4 minutes"
       ]
      },
      {
       "output_type": "stream",
       "stream": "stdout",
       "text": [
        " \r",
        "[*****************80%**********        ]  17677077 of 22195070 complete Elapsed: 48.3 minutes\t Remaining: 12.3 minutes"
       ]
      },
      {
       "output_type": "stream",
       "stream": "stdout",
       "text": [
        " \r",
        "[*****************80%**********        ]  17687274 of 22195070 complete Elapsed: 48.3 minutes\t Remaining: 12.3 minutes"
       ]
      },
      {
       "output_type": "stream",
       "stream": "stdout",
       "text": [
        " \r",
        "[*****************80%**********        ]  17697493 of 22195070 complete Elapsed: 48.3 minutes\t Remaining: 12.3 minutes"
       ]
      },
      {
       "output_type": "stream",
       "stream": "stdout",
       "text": [
        " \r",
        "[*****************80%**********        ]  17707701 of 22195070 complete Elapsed: 48.4 minutes\t Remaining: 12.3 minutes"
       ]
      },
      {
       "output_type": "stream",
       "stream": "stdout",
       "text": [
        " \r",
        "[*****************80%**********        ]  17717971 of 22195070 complete Elapsed: 48.4 minutes\t Remaining: 12.2 minutes"
       ]
      },
      {
       "output_type": "stream",
       "stream": "stdout",
       "text": [
        " \r",
        "[*****************80%**********        ]  17728173 of 22195070 complete Elapsed: 48.4 minutes\t Remaining: 12.2 minutes"
       ]
      },
      {
       "output_type": "stream",
       "stream": "stdout",
       "text": [
        " \r",
        "[*****************80%**********        ]  17738413 of 22195070 complete Elapsed: 48.4 minutes\t Remaining: 12.2 minutes"
       ]
      },
      {
       "output_type": "stream",
       "stream": "stdout",
       "text": [
        " \r",
        "[*****************80%**********        ]  17748592 of 22195070 complete Elapsed: 48.5 minutes\t Remaining: 12.1 minutes"
       ]
      },
      {
       "output_type": "stream",
       "stream": "stdout",
       "text": [
        " \r",
        "[*****************80%**********        ]  17758835 of 22195070 complete Elapsed: 48.5 minutes\t Remaining: 12.1 minutes"
       ]
      },
      {
       "output_type": "stream",
       "stream": "stdout",
       "text": [
        " \r",
        "[*****************80%**********        ]  17769040 of 22195070 complete Elapsed: 48.5 minutes\t Remaining: 12.1 minutes"
       ]
      },
      {
       "output_type": "stream",
       "stream": "stdout",
       "text": [
        " \r",
        "[*****************80%**********        ]  17779276 of 22195070 complete Elapsed: 48.5 minutes\t Remaining: 12.1 minutes"
       ]
      },
      {
       "output_type": "stream",
       "stream": "stdout",
       "text": [
        " \r",
        "[*****************80%**********        ]  17789491 of 22195070 complete Elapsed: 48.6 minutes\t Remaining: 12.0 minutes"
       ]
      },
      {
       "output_type": "stream",
       "stream": "stdout",
       "text": [
        " \r",
        "[*****************80%**********        ]  17799749 of 22195070 complete Elapsed: 48.6 minutes\t Remaining: 12.0 minutes"
       ]
      },
      {
       "output_type": "stream",
       "stream": "stdout",
       "text": [
        " \r",
        "[*****************80%**********        ]  17809966 of 22195070 complete Elapsed: 48.6 minutes\t Remaining: 12.0 minutes"
       ]
      },
      {
       "output_type": "stream",
       "stream": "stdout",
       "text": [
        " \r",
        "[*****************80%**********        ]  17820175 of 22195070 complete Elapsed: 48.6 minutes\t Remaining: 11.9 minutes"
       ]
      },
      {
       "output_type": "stream",
       "stream": "stdout",
       "text": [
        " \r",
        "[*****************80%**********        ]  17830395 of 22195070 complete Elapsed: 48.7 minutes\t Remaining: 11.9 minutes"
       ]
      },
      {
       "output_type": "stream",
       "stream": "stdout",
       "text": [
        " \r",
        "[*****************80%**********        ]  17840642 of 22195070 complete Elapsed: 48.7 minutes\t Remaining: 11.9 minutes"
       ]
      },
      {
       "output_type": "stream",
       "stream": "stdout",
       "text": [
        " \r",
        "[*****************80%**********        ]  17850851 of 22195070 complete Elapsed: 48.7 minutes\t Remaining: 11.9 minutes"
       ]
      },
      {
       "output_type": "stream",
       "stream": "stdout",
       "text": [
        " \r",
        "[*****************80%**********        ]  17861075 of 22195070 complete Elapsed: 48.7 minutes\t Remaining: 11.8 minutes"
       ]
      },
      {
       "output_type": "stream",
       "stream": "stdout",
       "text": [
        " \r",
        "[*****************81%***********       ]  17871267 of 22195070 complete Elapsed: 48.8 minutes\t Remaining: 11.8 minutes"
       ]
      },
      {
       "output_type": "stream",
       "stream": "stdout",
       "text": [
        " \r",
        "[*****************81%***********       ]  17881535 of 22195070 complete Elapsed: 48.8 minutes\t Remaining: 11.8 minutes"
       ]
      },
      {
       "output_type": "stream",
       "stream": "stdout",
       "text": [
        " \r",
        "[*****************81%***********       ]  17891754 of 22195070 complete Elapsed: 48.8 minutes\t Remaining: 11.7 minutes"
       ]
      },
      {
       "output_type": "stream",
       "stream": "stdout",
       "text": [
        " \r",
        "[*****************81%***********       ]  17901931 of 22195070 complete Elapsed: 48.8 minutes\t Remaining: 11.7 minutes"
       ]
      },
      {
       "output_type": "stream",
       "stream": "stdout",
       "text": [
        " \r",
        "[*****************81%***********       ]  17912005 of 22195070 complete Elapsed: 48.9 minutes\t Remaining: 11.7 minutes"
       ]
      },
      {
       "output_type": "stream",
       "stream": "stdout",
       "text": [
        " \r",
        "[*****************81%***********       ]  17922109 of 22195070 complete Elapsed: 48.9 minutes\t Remaining: 11.7 minutes"
       ]
      },
      {
       "output_type": "stream",
       "stream": "stdout",
       "text": [
        " \r",
        "[*****************81%***********       ]  17932229 of 22195070 complete Elapsed: 48.9 minutes\t Remaining: 11.6 minutes"
       ]
      },
      {
       "output_type": "stream",
       "stream": "stdout",
       "text": [
        " \r",
        "[*****************81%***********       ]  17942443 of 22195070 complete Elapsed: 48.9 minutes\t Remaining: 11.6 minutes"
       ]
      },
      {
       "output_type": "stream",
       "stream": "stdout",
       "text": [
        " \r",
        "[*****************81%***********       ]  17952627 of 22195070 complete Elapsed: 49.0 minutes\t Remaining: 11.6 minutes"
       ]
      },
      {
       "output_type": "stream",
       "stream": "stdout",
       "text": [
        " \r",
        "[*****************81%***********       ]  17962840 of 22195070 complete Elapsed: 49.0 minutes\t Remaining: 11.5 minutes"
       ]
      },
      {
       "output_type": "stream",
       "stream": "stdout",
       "text": [
        " \r",
        "[*****************81%***********       ]  17973032 of 22195070 complete Elapsed: 49.0 minutes\t Remaining: 11.5 minutes"
       ]
      },
      {
       "output_type": "stream",
       "stream": "stdout",
       "text": [
        " \r",
        "[*****************81%***********       ]  17983235 of 22195070 complete Elapsed: 49.0 minutes\t Remaining: 11.5 minutes"
       ]
      },
      {
       "output_type": "stream",
       "stream": "stdout",
       "text": [
        " \r",
        "[*****************81%***********       ]  17993457 of 22195070 complete Elapsed: 49.1 minutes\t Remaining: 11.5 minutes"
       ]
      },
      {
       "output_type": "stream",
       "stream": "stdout",
       "text": [
        " \r",
        "[*****************81%***********       ]  18003697 of 22195070 complete Elapsed: 49.1 minutes\t Remaining: 11.4 minutes"
       ]
      },
      {
       "output_type": "stream",
       "stream": "stdout",
       "text": [
        " \r",
        "[*****************81%***********       ]  18013913 of 22195070 complete Elapsed: 49.1 minutes\t Remaining: 11.4 minutes"
       ]
      },
      {
       "output_type": "stream",
       "stream": "stdout",
       "text": [
        " \r",
        "[*****************81%***********       ]  18024160 of 22195070 complete Elapsed: 49.1 minutes\t Remaining: 11.4 minutes"
       ]
      },
      {
       "output_type": "stream",
       "stream": "stdout",
       "text": [
        " \r",
        "[*****************81%***********       ]  18034320 of 22195070 complete Elapsed: 49.2 minutes\t Remaining: 11.3 minutes"
       ]
      },
      {
       "output_type": "stream",
       "stream": "stdout",
       "text": [
        " \r",
        "[*****************81%***********       ]  18044561 of 22195070 complete Elapsed: 49.2 minutes\t Remaining: 11.3 minutes"
       ]
      },
      {
       "output_type": "stream",
       "stream": "stdout",
       "text": [
        " \r",
        "[*****************81%***********       ]  18054766 of 22195070 complete Elapsed: 49.2 minutes\t Remaining: 11.3 minutes"
       ]
      },
      {
       "output_type": "stream",
       "stream": "stdout",
       "text": [
        " \r",
        "[*****************81%***********       ]  18065017 of 22195070 complete Elapsed: 49.2 minutes\t Remaining: 11.3 minutes"
       ]
      },
      {
       "output_type": "stream",
       "stream": "stdout",
       "text": [
        " \r",
        "[*****************81%***********       ]  18075251 of 22195070 complete Elapsed: 49.3 minutes\t Remaining: 11.2 minutes"
       ]
      },
      {
       "output_type": "stream",
       "stream": "stdout",
       "text": [
        " \r",
        "[*****************81%***********       ]  18085520 of 22195070 complete Elapsed: 49.3 minutes\t Remaining: 11.2 minutes"
       ]
      },
      {
       "output_type": "stream",
       "stream": "stdout",
       "text": [
        " \r",
        "[*****************82%***********       ]  18095715 of 22195070 complete Elapsed: 49.3 minutes\t Remaining: 11.2 minutes"
       ]
      },
      {
       "output_type": "stream",
       "stream": "stdout",
       "text": [
        " \r",
        "[*****************82%***********       ]  18105945 of 22195070 complete Elapsed: 49.3 minutes\t Remaining: 11.1 minutes"
       ]
      },
      {
       "output_type": "stream",
       "stream": "stdout",
       "text": [
        " \r",
        "[*****************82%***********       ]  18116135 of 22195070 complete Elapsed: 49.4 minutes\t Remaining: 11.1 minutes"
       ]
      },
      {
       "output_type": "stream",
       "stream": "stdout",
       "text": [
        " \r",
        "[*****************82%***********       ]  18126386 of 22195070 complete Elapsed: 49.4 minutes\t Remaining: 11.1 minutes"
       ]
      },
      {
       "output_type": "stream",
       "stream": "stdout",
       "text": [
        " \r",
        "[*****************82%***********       ]  18136591 of 22195070 complete Elapsed: 49.4 minutes\t Remaining: 11.1 minutes"
       ]
      },
      {
       "output_type": "stream",
       "stream": "stdout",
       "text": [
        " \r",
        "[*****************82%***********       ]  18146836 of 22195070 complete Elapsed: 49.4 minutes\t Remaining: 11.0 minutes"
       ]
      },
      {
       "output_type": "stream",
       "stream": "stdout",
       "text": [
        " \r",
        "[*****************82%***********       ]  18157046 of 22195070 complete Elapsed: 49.5 minutes\t Remaining: 11.0 minutes"
       ]
      },
      {
       "output_type": "stream",
       "stream": "stdout",
       "text": [
        " \r",
        "[*****************82%***********       ]  18167311 of 22195070 complete Elapsed: 49.5 minutes\t Remaining: 11.0 minutes"
       ]
      },
      {
       "output_type": "stream",
       "stream": "stdout",
       "text": [
        " \r",
        "[*****************82%***********       ]  18177519 of 22195070 complete Elapsed: 49.5 minutes\t Remaining: 10.9 minutes"
       ]
      },
      {
       "output_type": "stream",
       "stream": "stdout",
       "text": [
        " \r",
        "[*****************82%***********       ]  18187758 of 22195070 complete Elapsed: 49.5 minutes\t Remaining: 10.9 minutes"
       ]
      },
      {
       "output_type": "stream",
       "stream": "stdout",
       "text": [
        " \r",
        "[*****************82%***********       ]  18197930 of 22195070 complete Elapsed: 49.6 minutes\t Remaining: 10.9 minutes"
       ]
      },
      {
       "output_type": "stream",
       "stream": "stdout",
       "text": [
        " \r",
        "[*****************82%***********       ]  18208174 of 22195070 complete Elapsed: 49.6 minutes\t Remaining: 10.9 minutes"
       ]
      },
      {
       "output_type": "stream",
       "stream": "stdout",
       "text": [
        " \r",
        "[*****************82%***********       ]  18218365 of 22195070 complete Elapsed: 49.6 minutes\t Remaining: 10.8 minutes"
       ]
      },
      {
       "output_type": "stream",
       "stream": "stdout",
       "text": [
        " \r",
        "[*****************82%***********       ]  18228610 of 22195070 complete Elapsed: 49.6 minutes\t Remaining: 10.8 minutes"
       ]
      },
      {
       "output_type": "stream",
       "stream": "stdout",
       "text": [
        " \r",
        "[*****************82%***********       ]  18238828 of 22195070 complete Elapsed: 49.7 minutes\t Remaining: 10.8 minutes"
       ]
      },
      {
       "output_type": "stream",
       "stream": "stdout",
       "text": [
        " \r",
        "[*****************82%***********       ]  18249087 of 22195070 complete Elapsed: 49.7 minutes\t Remaining: 10.7 minutes"
       ]
      },
      {
       "output_type": "stream",
       "stream": "stdout",
       "text": [
        " \r",
        "[*****************82%***********       ]  18259265 of 22195070 complete Elapsed: 49.7 minutes\t Remaining: 10.7 minutes"
       ]
      },
      {
       "output_type": "stream",
       "stream": "stdout",
       "text": [
        " \r",
        "[*****************82%***********       ]  18269553 of 22195070 complete Elapsed: 49.7 minutes\t Remaining: 10.7 minutes"
       ]
      },
      {
       "output_type": "stream",
       "stream": "stdout",
       "text": [
        " \r",
        "[*****************82%***********       ]  18279760 of 22195070 complete Elapsed: 49.8 minutes\t Remaining: 10.7 minutes"
       ]
      },
      {
       "output_type": "stream",
       "stream": "stdout",
       "text": [
        " \r",
        "[*****************82%***********       ]  18290025 of 22195070 complete Elapsed: 49.8 minutes\t Remaining: 10.6 minutes"
       ]
      },
      {
       "output_type": "stream",
       "stream": "stdout",
       "text": [
        " \r",
        "[*****************82%***********       ]  18300253 of 22195070 complete Elapsed: 49.8 minutes\t Remaining: 10.6 minutes"
       ]
      },
      {
       "output_type": "stream",
       "stream": "stdout",
       "text": [
        " \r",
        "[*****************82%***********       ]  18310508 of 22195070 complete Elapsed: 49.8 minutes\t Remaining: 10.6 minutes"
       ]
      },
      {
       "output_type": "stream",
       "stream": "stdout",
       "text": [
        " \r",
        "[*****************83%************      ]  18315931 of 22195070 complete Elapsed: 50.0 minutes\t Remaining: 10.6 minutes"
       ]
      },
      {
       "output_type": "stream",
       "stream": "stdout",
       "text": [
        " \r",
        "[*****************83%************      ]  18323265 of 22195070 complete Elapsed: 50.1 minutes\t Remaining: 10.6 minutes"
       ]
      },
      {
       "output_type": "stream",
       "stream": "stdout",
       "text": [
        " \r",
        "[*****************83%************      ]  18333481 of 22195070 complete Elapsed: 50.1 minutes\t Remaining: 10.6 minutes"
       ]
      },
      {
       "output_type": "stream",
       "stream": "stdout",
       "text": [
        " \r",
        "[*****************83%************      ]  18343715 of 22195070 complete Elapsed: 50.1 minutes\t Remaining: 10.5 minutes"
       ]
      },
      {
       "output_type": "stream",
       "stream": "stdout",
       "text": [
        " \r",
        "[*****************83%************      ]  18353906 of 22195070 complete Elapsed: 50.1 minutes\t Remaining: 10.5 minutes"
       ]
      },
      {
       "output_type": "stream",
       "stream": "stdout",
       "text": [
        " \r",
        "[*****************83%************      ]  18364134 of 22195070 complete Elapsed: 50.2 minutes\t Remaining: 10.5 minutes"
       ]
      },
      {
       "output_type": "stream",
       "stream": "stdout",
       "text": [
        " \r",
        "[*****************83%************      ]  18374339 of 22195070 complete Elapsed: 50.2 minutes\t Remaining: 10.4 minutes"
       ]
      },
      {
       "output_type": "stream",
       "stream": "stdout",
       "text": [
        " \r",
        "[*****************83%************      ]  18384566 of 22195070 complete Elapsed: 50.2 minutes\t Remaining: 10.4 minutes"
       ]
      },
      {
       "output_type": "stream",
       "stream": "stdout",
       "text": [
        " \r",
        "[*****************83%************      ]  18394764 of 22195070 complete Elapsed: 50.2 minutes\t Remaining: 10.4 minutes"
       ]
      },
      {
       "output_type": "stream",
       "stream": "stdout",
       "text": [
        " \r",
        "[*****************83%************      ]  18404998 of 22195070 complete Elapsed: 50.3 minutes\t Remaining: 10.4 minutes"
       ]
      },
      {
       "output_type": "stream",
       "stream": "stdout",
       "text": [
        " \r",
        "[*****************83%************      ]  18415218 of 22195070 complete Elapsed: 50.3 minutes\t Remaining: 10.3 minutes"
       ]
      },
      {
       "output_type": "stream",
       "stream": "stdout",
       "text": [
        " \r",
        "[*****************83%************      ]  18425435 of 22195070 complete Elapsed: 50.3 minutes\t Remaining: 10.3 minutes"
       ]
      },
      {
       "output_type": "stream",
       "stream": "stdout",
       "text": [
        " \r",
        "[*****************83%************      ]  18435632 of 22195070 complete Elapsed: 50.3 minutes\t Remaining: 10.3 minutes"
       ]
      },
      {
       "output_type": "stream",
       "stream": "stdout",
       "text": [
        " \r",
        "[*****************83%************      ]  18445867 of 22195070 complete Elapsed: 50.4 minutes\t Remaining: 10.2 minutes"
       ]
      },
      {
       "output_type": "stream",
       "stream": "stdout",
       "text": [
        " \r",
        "[*****************83%************      ]  18456110 of 22195070 complete Elapsed: 50.4 minutes\t Remaining: 10.2 minutes"
       ]
      },
      {
       "output_type": "stream",
       "stream": "stdout",
       "text": [
        " \r",
        "[*****************83%************      ]  18466338 of 22195070 complete Elapsed: 50.4 minutes\t Remaining: 10.2 minutes"
       ]
      },
      {
       "output_type": "stream",
       "stream": "stdout",
       "text": [
        " \r",
        "[*****************83%************      ]  18476565 of 22195070 complete Elapsed: 50.4 minutes\t Remaining: 10.2 minutes"
       ]
      },
      {
       "output_type": "stream",
       "stream": "stdout",
       "text": [
        " \r",
        "[*****************83%************      ]  18486802 of 22195070 complete Elapsed: 50.5 minutes\t Remaining: 10.1 minutes"
       ]
      },
      {
       "output_type": "stream",
       "stream": "stdout",
       "text": [
        " \r",
        "[*****************83%************      ]  18496875 of 22195070 complete Elapsed: 50.5 minutes\t Remaining: 10.1 minutes"
       ]
      },
      {
       "output_type": "stream",
       "stream": "stdout",
       "text": [
        " \r",
        "[*****************83%************      ]  18506926 of 22195070 complete Elapsed: 50.5 minutes\t Remaining: 10.1 minutes"
       ]
      },
      {
       "output_type": "stream",
       "stream": "stdout",
       "text": [
        " \r",
        "[*****************83%************      ]  18516976 of 22195070 complete Elapsed: 50.5 minutes\t Remaining: 10.0 minutes"
       ]
      },
      {
       "output_type": "stream",
       "stream": "stdout",
       "text": [
        " \r",
        "[*****************83%************      ]  18527401 of 22195070 complete Elapsed: 50.6 minutes\t Remaining: 10.0 minutes"
       ]
      },
      {
       "output_type": "stream",
       "stream": "stdout",
       "text": [
        " \r",
        "[*****************84%************      ]  18537370 of 22195070 complete Elapsed: 50.6 minutes\t Remaining: 10.0 minutes"
       ]
      },
      {
       "output_type": "stream",
       "stream": "stdout",
       "text": [
        " \r",
        "[*****************84%************      ]  18547403 of 22195070 complete Elapsed: 50.6 minutes\t Remaining: 10.0 minutes"
       ]
      },
      {
       "output_type": "stream",
       "stream": "stdout",
       "text": [
        " \r",
        "[*****************84%************      ]  18557557 of 22195070 complete Elapsed: 50.6 minutes\t Remaining: 9.9 minutes"
       ]
      },
      {
       "output_type": "stream",
       "stream": "stdout",
       "text": [
        " \r",
        "[*****************84%************      ]  18567794 of 22195070 complete Elapsed: 50.7 minutes\t Remaining: 9.9 minutes"
       ]
      },
      {
       "output_type": "stream",
       "stream": "stdout",
       "text": [
        " \r",
        "[*****************84%************      ]  18577920 of 22195070 complete Elapsed: 50.7 minutes\t Remaining: 9.9 minutes"
       ]
      },
      {
       "output_type": "stream",
       "stream": "stdout",
       "text": [
        " \r",
        "[*****************84%************      ]  18588142 of 22195070 complete Elapsed: 50.7 minutes\t Remaining: 9.8 minutes"
       ]
      },
      {
       "output_type": "stream",
       "stream": "stdout",
       "text": [
        " \r",
        "[*****************84%************      ]  18598272 of 22195070 complete Elapsed: 50.7 minutes\t Remaining: 9.8 minutes"
       ]
      },
      {
       "output_type": "stream",
       "stream": "stdout",
       "text": [
        " \r",
        "[*****************84%************      ]  18608448 of 22195070 complete Elapsed: 50.8 minutes\t Remaining: 9.8 minutes"
       ]
      },
      {
       "output_type": "stream",
       "stream": "stdout",
       "text": [
        " \r",
        "[*****************84%************      ]  18618579 of 22195070 complete Elapsed: 50.8 minutes\t Remaining: 9.8 minutes"
       ]
      },
      {
       "output_type": "stream",
       "stream": "stdout",
       "text": [
        " \r",
        "[*****************84%************      ]  18628847 of 22195070 complete Elapsed: 50.8 minutes\t Remaining: 9.7 minutes"
       ]
      },
      {
       "output_type": "stream",
       "stream": "stdout",
       "text": [
        " \r",
        "[*****************84%************      ]  18639058 of 22195070 complete Elapsed: 50.8 minutes\t Remaining: 9.7 minutes"
       ]
      },
      {
       "output_type": "stream",
       "stream": "stdout",
       "text": [
        " \r",
        "[*****************84%************      ]  18649332 of 22195070 complete Elapsed: 50.9 minutes\t Remaining: 9.7 minutes"
       ]
      },
      {
       "output_type": "stream",
       "stream": "stdout",
       "text": [
        " \r",
        "[*****************84%************      ]  18659550 of 22195070 complete Elapsed: 50.9 minutes\t Remaining: 9.6 minutes"
       ]
      },
      {
       "output_type": "stream",
       "stream": "stdout",
       "text": [
        " \r",
        "[*****************84%************      ]  18669831 of 22195070 complete Elapsed: 50.9 minutes\t Remaining: 9.6 minutes"
       ]
      },
      {
       "output_type": "stream",
       "stream": "stdout",
       "text": [
        " \r",
        "[*****************84%************      ]  18680038 of 22195070 complete Elapsed: 50.9 minutes\t Remaining: 9.6 minutes"
       ]
      },
      {
       "output_type": "stream",
       "stream": "stdout",
       "text": [
        " \r",
        "[*****************84%************      ]  18690275 of 22195070 complete Elapsed: 51.0 minutes\t Remaining: 9.6 minutes"
       ]
      },
      {
       "output_type": "stream",
       "stream": "stdout",
       "text": [
        " \r",
        "[*****************84%************      ]  18700447 of 22195070 complete Elapsed: 51.0 minutes\t Remaining: 9.5 minutes"
       ]
      },
      {
       "output_type": "stream",
       "stream": "stdout",
       "text": [
        " \r",
        "[*****************84%************      ]  18710696 of 22195070 complete Elapsed: 51.0 minutes\t Remaining: 9.5 minutes"
       ]
      },
      {
       "output_type": "stream",
       "stream": "stdout",
       "text": [
        " \r",
        "[*****************84%************      ]  18720952 of 22195070 complete Elapsed: 51.0 minutes\t Remaining: 9.5 minutes"
       ]
      },
      {
       "output_type": "stream",
       "stream": "stdout",
       "text": [
        " \r",
        "[*****************84%************      ]  18731207 of 22195070 complete Elapsed: 51.1 minutes\t Remaining: 9.4 minutes"
       ]
      },
      {
       "output_type": "stream",
       "stream": "stdout",
       "text": [
        " \r",
        "[*****************84%************      ]  18741399 of 22195070 complete Elapsed: 51.1 minutes\t Remaining: 9.4 minutes"
       ]
      },
      {
       "output_type": "stream",
       "stream": "stdout",
       "text": [
        " \r",
        "[*****************84%************      ]  18751671 of 22195070 complete Elapsed: 51.1 minutes\t Remaining: 9.4 minutes"
       ]
      },
      {
       "output_type": "stream",
       "stream": "stdout",
       "text": [
        " \r",
        "[*****************85%************      ]  18761898 of 22195070 complete Elapsed: 51.1 minutes\t Remaining: 9.4 minutes"
       ]
      },
      {
       "output_type": "stream",
       "stream": "stdout",
       "text": [
        " \r",
        "[*****************85%************      ]  18772167 of 22195070 complete Elapsed: 51.2 minutes\t Remaining: 9.3 minutes"
       ]
      },
      {
       "output_type": "stream",
       "stream": "stdout",
       "text": [
        " \r",
        "[*****************85%************      ]  18782402 of 22195070 complete Elapsed: 51.2 minutes\t Remaining: 9.3 minutes"
       ]
      },
      {
       "output_type": "stream",
       "stream": "stdout",
       "text": [
        " \r",
        "[*****************85%************      ]  18792641 of 22195070 complete Elapsed: 51.2 minutes\t Remaining: 9.3 minutes"
       ]
      },
      {
       "output_type": "stream",
       "stream": "stdout",
       "text": [
        " \r",
        "[*****************85%************      ]  18802833 of 22195070 complete Elapsed: 51.2 minutes\t Remaining: 9.2 minutes"
       ]
      },
      {
       "output_type": "stream",
       "stream": "stdout",
       "text": [
        " \r",
        "[*****************85%************      ]  18813077 of 22195070 complete Elapsed: 51.3 minutes\t Remaining: 9.2 minutes"
       ]
      },
      {
       "output_type": "stream",
       "stream": "stdout",
       "text": [
        " \r",
        "[*****************85%************      ]  18823292 of 22195070 complete Elapsed: 51.3 minutes\t Remaining: 9.2 minutes"
       ]
      },
      {
       "output_type": "stream",
       "stream": "stdout",
       "text": [
        " \r",
        "[*****************85%************      ]  18833535 of 22195070 complete Elapsed: 51.3 minutes\t Remaining: 9.2 minutes"
       ]
      },
      {
       "output_type": "stream",
       "stream": "stdout",
       "text": [
        " \r",
        "[*****************85%************      ]  18843684 of 22195070 complete Elapsed: 51.3 minutes\t Remaining: 9.1 minutes"
       ]
      },
      {
       "output_type": "stream",
       "stream": "stdout",
       "text": [
        " \r",
        "[*****************85%************      ]  18853922 of 22195070 complete Elapsed: 51.4 minutes\t Remaining: 9.1 minutes"
       ]
      },
      {
       "output_type": "stream",
       "stream": "stdout",
       "text": [
        " \r",
        "[*****************85%************      ]  18864132 of 22195070 complete Elapsed: 51.4 minutes\t Remaining: 9.1 minutes"
       ]
      },
      {
       "output_type": "stream",
       "stream": "stdout",
       "text": [
        " \r",
        "[*****************85%************      ]  18874366 of 22195070 complete Elapsed: 51.4 minutes\t Remaining: 9.0 minutes"
       ]
      },
      {
       "output_type": "stream",
       "stream": "stdout",
       "text": [
        " \r",
        "[*****************85%************      ]  18884358 of 22195070 complete Elapsed: 51.4 minutes\t Remaining: 9.0 minutes"
       ]
      },
      {
       "output_type": "stream",
       "stream": "stdout",
       "text": [
        " \r",
        "[*****************85%************      ]  18894579 of 22195070 complete Elapsed: 51.5 minutes\t Remaining: 9.0 minutes"
       ]
      },
      {
       "output_type": "stream",
       "stream": "stdout",
       "text": [
        " \r",
        "[*****************85%************      ]  18904781 of 22195070 complete Elapsed: 51.5 minutes\t Remaining: 9.0 minutes"
       ]
      },
      {
       "output_type": "stream",
       "stream": "stdout",
       "text": [
        " \r",
        "[*****************85%************      ]  18915049 of 22195070 complete Elapsed: 51.5 minutes\t Remaining: 8.9 minutes"
       ]
      },
      {
       "output_type": "stream",
       "stream": "stdout",
       "text": [
        " \r",
        "[*****************85%************      ]  18925265 of 22195070 complete Elapsed: 51.5 minutes\t Remaining: 8.9 minutes"
       ]
      },
      {
       "output_type": "stream",
       "stream": "stdout",
       "text": [
        " \r",
        "[*****************85%************      ]  18935529 of 22195070 complete Elapsed: 51.6 minutes\t Remaining: 8.9 minutes"
       ]
      },
      {
       "output_type": "stream",
       "stream": "stdout",
       "text": [
        " \r",
        "[*****************85%************      ]  18940444 of 22195070 complete Elapsed: 51.8 minutes\t Remaining: 8.9 minutes"
       ]
      },
      {
       "output_type": "stream",
       "stream": "stdout",
       "text": [
        " \r",
        "[*****************85%************      ]  18947896 of 22195070 complete Elapsed: 51.8 minutes\t Remaining: 8.9 minutes"
       ]
      },
      {
       "output_type": "stream",
       "stream": "stdout",
       "text": [
        " \r",
        "[*****************85%************      ]  18958098 of 22195070 complete Elapsed: 51.8 minutes\t Remaining: 8.8 minutes"
       ]
      },
      {
       "output_type": "stream",
       "stream": "stdout",
       "text": [
        " \r",
        "[*****************85%************      ]  18968328 of 22195070 complete Elapsed: 51.8 minutes\t Remaining: 8.8 minutes"
       ]
      },
      {
       "output_type": "stream",
       "stream": "stdout",
       "text": [
        " \r",
        "[*****************86%*************     ]  18978562 of 22195070 complete Elapsed: 51.9 minutes\t Remaining: 8.8 minutes"
       ]
      },
      {
       "output_type": "stream",
       "stream": "stdout",
       "text": [
        " \r",
        "[*****************86%*************     ]  18988844 of 22195070 complete Elapsed: 51.9 minutes\t Remaining: 8.8 minutes"
       ]
      },
      {
       "output_type": "stream",
       "stream": "stdout",
       "text": [
        " \r",
        "[*****************86%*************     ]  18999050 of 22195070 complete Elapsed: 51.9 minutes\t Remaining: 8.7 minutes"
       ]
      },
      {
       "output_type": "stream",
       "stream": "stdout",
       "text": [
        " \r",
        "[*****************86%*************     ]  19009284 of 22195070 complete Elapsed: 51.9 minutes\t Remaining: 8.7 minutes"
       ]
      },
      {
       "output_type": "stream",
       "stream": "stdout",
       "text": [
        " \r",
        "[*****************86%*************     ]  19019503 of 22195070 complete Elapsed: 52.0 minutes\t Remaining: 8.7 minutes"
       ]
      },
      {
       "output_type": "stream",
       "stream": "stdout",
       "text": [
        " \r",
        "[*****************86%*************     ]  19029764 of 22195070 complete Elapsed: 52.0 minutes\t Remaining: 8.6 minutes"
       ]
      },
      {
       "output_type": "stream",
       "stream": "stdout",
       "text": [
        " \r",
        "[*****************86%*************     ]  19039947 of 22195070 complete Elapsed: 52.0 minutes\t Remaining: 8.6 minutes"
       ]
      },
      {
       "output_type": "stream",
       "stream": "stdout",
       "text": [
        " \r",
        "[*****************86%*************     ]  19050130 of 22195070 complete Elapsed: 52.0 minutes\t Remaining: 8.6 minutes"
       ]
      },
      {
       "output_type": "stream",
       "stream": "stdout",
       "text": [
        " \r",
        "[*****************86%*************     ]  19060362 of 22195070 complete Elapsed: 52.1 minutes\t Remaining: 8.6 minutes"
       ]
      },
      {
       "output_type": "stream",
       "stream": "stdout",
       "text": [
        " \r",
        "[*****************86%*************     ]  19070621 of 22195070 complete Elapsed: 52.1 minutes\t Remaining: 8.5 minutes"
       ]
      },
      {
       "output_type": "stream",
       "stream": "stdout",
       "text": [
        " \r",
        "[*****************86%*************     ]  19080864 of 22195070 complete Elapsed: 52.1 minutes\t Remaining: 8.5 minutes"
       ]
      },
      {
       "output_type": "stream",
       "stream": "stdout",
       "text": [
        " \r",
        "[*****************86%*************     ]  19091370 of 22195070 complete Elapsed: 52.1 minutes\t Remaining: 8.5 minutes"
       ]
      },
      {
       "output_type": "stream",
       "stream": "stdout",
       "text": [
        " \r",
        "[*****************86%*************     ]  19101711 of 22195070 complete Elapsed: 52.2 minutes\t Remaining: 8.4 minutes"
       ]
      },
      {
       "output_type": "stream",
       "stream": "stdout",
       "text": [
        " \r",
        "[*****************86%*************     ]  19111965 of 22195070 complete Elapsed: 52.2 minutes\t Remaining: 8.4 minutes"
       ]
      },
      {
       "output_type": "stream",
       "stream": "stdout",
       "text": [
        " \r",
        "[*****************86%*************     ]  19122157 of 22195070 complete Elapsed: 52.2 minutes\t Remaining: 8.4 minutes"
       ]
      },
      {
       "output_type": "stream",
       "stream": "stdout",
       "text": [
        " \r",
        "[*****************86%*************     ]  19132406 of 22195070 complete Elapsed: 52.2 minutes\t Remaining: 8.4 minutes"
       ]
      },
      {
       "output_type": "stream",
       "stream": "stdout",
       "text": [
        " \r",
        "[*****************86%*************     ]  19142632 of 22195070 complete Elapsed: 52.3 minutes\t Remaining: 8.3 minutes"
       ]
      },
      {
       "output_type": "stream",
       "stream": "stdout",
       "text": [
        " \r",
        "[*****************86%*************     ]  19152916 of 22195070 complete Elapsed: 52.3 minutes\t Remaining: 8.3 minutes"
       ]
      },
      {
       "output_type": "stream",
       "stream": "stdout",
       "text": [
        " \r",
        "[*****************86%*************     ]  19163142 of 22195070 complete Elapsed: 52.3 minutes\t Remaining: 8.3 minutes"
       ]
      },
      {
       "output_type": "stream",
       "stream": "stdout",
       "text": [
        " \r",
        "[*****************86%*************     ]  19173419 of 22195070 complete Elapsed: 52.3 minutes\t Remaining: 8.2 minutes"
       ]
      },
      {
       "output_type": "stream",
       "stream": "stdout",
       "text": [
        " \r",
        "[*****************86%*************     ]  19183682 of 22195070 complete Elapsed: 52.4 minutes\t Remaining: 8.2 minutes"
       ]
      },
      {
       "output_type": "stream",
       "stream": "stdout",
       "text": [
        " \r",
        "[*****************86%*************     ]  19193975 of 22195070 complete Elapsed: 52.4 minutes\t Remaining: 8.2 minutes"
       ]
      },
      {
       "output_type": "stream",
       "stream": "stdout",
       "text": [
        " \r",
        "[*****************87%*************     ]  19204168 of 22195070 complete Elapsed: 52.4 minutes\t Remaining: 8.2 minutes"
       ]
      },
      {
       "output_type": "stream",
       "stream": "stdout",
       "text": [
        " \r",
        "[*****************87%*************     ]  19214401 of 22195070 complete Elapsed: 52.4 minutes\t Remaining: 8.1 minutes"
       ]
      },
      {
       "output_type": "stream",
       "stream": "stdout",
       "text": [
        " \r",
        "[*****************87%*************     ]  19224645 of 22195070 complete Elapsed: 52.5 minutes\t Remaining: 8.1 minutes"
       ]
      },
      {
       "output_type": "stream",
       "stream": "stdout",
       "text": [
        " \r",
        "[*****************87%*************     ]  19234889 of 22195070 complete Elapsed: 52.5 minutes\t Remaining: 8.1 minutes"
       ]
      },
      {
       "output_type": "stream",
       "stream": "stdout",
       "text": [
        " \r",
        "[*****************87%*************     ]  19245090 of 22195070 complete Elapsed: 52.5 minutes\t Remaining: 8.0 minutes"
       ]
      },
      {
       "output_type": "stream",
       "stream": "stdout",
       "text": [
        " \r",
        "[*****************87%*************     ]  19255341 of 22195070 complete Elapsed: 52.5 minutes\t Remaining: 8.0 minutes"
       ]
      },
      {
       "output_type": "stream",
       "stream": "stdout",
       "text": [
        " \r",
        "[*****************87%*************     ]  19265547 of 22195070 complete Elapsed: 52.6 minutes\t Remaining: 8.0 minutes"
       ]
      },
      {
       "output_type": "stream",
       "stream": "stdout",
       "text": [
        " \r",
        "[*****************87%*************     ]  19275795 of 22195070 complete Elapsed: 52.6 minutes\t Remaining: 8.0 minutes"
       ]
      },
      {
       "output_type": "stream",
       "stream": "stdout",
       "text": [
        " \r",
        "[*****************87%*************     ]  19285973 of 22195070 complete Elapsed: 52.6 minutes\t Remaining: 7.9 minutes"
       ]
      },
      {
       "output_type": "stream",
       "stream": "stdout",
       "text": [
        " \r",
        "[*****************87%*************     ]  19296194 of 22195070 complete Elapsed: 52.6 minutes\t Remaining: 7.9 minutes"
       ]
      },
      {
       "output_type": "stream",
       "stream": "stdout",
       "text": [
        " \r",
        "[*****************87%*************     ]  19306383 of 22195070 complete Elapsed: 52.7 minutes\t Remaining: 7.9 minutes"
       ]
      },
      {
       "output_type": "stream",
       "stream": "stdout",
       "text": [
        " \r",
        "[*****************87%*************     ]  19316659 of 22195070 complete Elapsed: 52.7 minutes\t Remaining: 7.9 minutes"
       ]
      },
      {
       "output_type": "stream",
       "stream": "stdout",
       "text": [
        " \r",
        "[*****************87%*************     ]  19326891 of 22195070 complete Elapsed: 52.7 minutes\t Remaining: 7.8 minutes"
       ]
      },
      {
       "output_type": "stream",
       "stream": "stdout",
       "text": [
        " \r",
        "[*****************87%*************     ]  19337143 of 22195070 complete Elapsed: 52.7 minutes\t Remaining: 7.8 minutes"
       ]
      },
      {
       "output_type": "stream",
       "stream": "stdout",
       "text": [
        " \r",
        "[*****************87%*************     ]  19347381 of 22195070 complete Elapsed: 52.8 minutes\t Remaining: 7.8 minutes"
       ]
      },
      {
       "output_type": "stream",
       "stream": "stdout",
       "text": [
        " \r",
        "[*****************87%*************     ]  19357624 of 22195070 complete Elapsed: 52.8 minutes\t Remaining: 7.7 minutes"
       ]
      },
      {
       "output_type": "stream",
       "stream": "stdout",
       "text": [
        " \r",
        "[*****************87%*************     ]  19367816 of 22195070 complete Elapsed: 52.8 minutes\t Remaining: 7.7 minutes"
       ]
      },
      {
       "output_type": "stream",
       "stream": "stdout",
       "text": [
        " \r",
        "[*****************87%*************     ]  19378064 of 22195070 complete Elapsed: 52.8 minutes\t Remaining: 7.7 minutes"
       ]
      },
      {
       "output_type": "stream",
       "stream": "stdout",
       "text": [
        " \r",
        "[*****************87%*************     ]  19388297 of 22195070 complete Elapsed: 52.9 minutes\t Remaining: 7.7 minutes"
       ]
      },
      {
       "output_type": "stream",
       "stream": "stdout",
       "text": [
        " \r",
        "[*****************87%*************     ]  19398547 of 22195070 complete Elapsed: 52.9 minutes\t Remaining: 7.6 minutes"
       ]
      },
      {
       "output_type": "stream",
       "stream": "stdout",
       "text": [
        " \r",
        "[*****************87%*************     ]  19408761 of 22195070 complete Elapsed: 52.9 minutes\t Remaining: 7.6 minutes"
       ]
      },
      {
       "output_type": "stream",
       "stream": "stdout",
       "text": [
        " \r",
        "[*****************87%*************     ]  19419036 of 22195070 complete Elapsed: 52.9 minutes\t Remaining: 7.6 minutes"
       ]
      },
      {
       "output_type": "stream",
       "stream": "stdout",
       "text": [
        " \r",
        "[*****************88%*************     ]  19429305 of 22195070 complete Elapsed: 53.0 minutes\t Remaining: 7.5 minutes"
       ]
      },
      {
       "output_type": "stream",
       "stream": "stdout",
       "text": [
        " \r",
        "[*****************88%*************     ]  19439582 of 22195070 complete Elapsed: 53.0 minutes\t Remaining: 7.5 minutes"
       ]
      },
      {
       "output_type": "stream",
       "stream": "stdout",
       "text": [
        " \r",
        "[*****************88%*************     ]  19449775 of 22195070 complete Elapsed: 53.0 minutes\t Remaining: 7.5 minutes"
       ]
      },
      {
       "output_type": "stream",
       "stream": "stdout",
       "text": [
        " \r",
        "[*****************88%*************     ]  19460014 of 22195070 complete Elapsed: 53.0 minutes\t Remaining: 7.5 minutes"
       ]
      },
      {
       "output_type": "stream",
       "stream": "stdout",
       "text": [
        " \r",
        "[*****************88%*************     ]  19470261 of 22195070 complete Elapsed: 53.1 minutes\t Remaining: 7.4 minutes"
       ]
      },
      {
       "output_type": "stream",
       "stream": "stdout",
       "text": [
        " \r",
        "[*****************88%*************     ]  19480506 of 22195070 complete Elapsed: 53.1 minutes\t Remaining: 7.4 minutes"
       ]
      },
      {
       "output_type": "stream",
       "stream": "stdout",
       "text": [
        " \r",
        "[*****************88%*************     ]  19490737 of 22195070 complete Elapsed: 53.1 minutes\t Remaining: 7.4 minutes"
       ]
      },
      {
       "output_type": "stream",
       "stream": "stdout",
       "text": [
        " \r",
        "[*****************88%*************     ]  19500982 of 22195070 complete Elapsed: 53.1 minutes\t Remaining: 7.3 minutes"
       ]
      },
      {
       "output_type": "stream",
       "stream": "stdout",
       "text": [
        " \r",
        "[*****************88%*************     ]  19511224 of 22195070 complete Elapsed: 53.2 minutes\t Remaining: 7.3 minutes"
       ]
      },
      {
       "output_type": "stream",
       "stream": "stdout",
       "text": [
        " \r",
        "[*****************88%*************     ]  19521487 of 22195070 complete Elapsed: 53.2 minutes\t Remaining: 7.3 minutes"
       ]
      },
      {
       "output_type": "stream",
       "stream": "stdout",
       "text": [
        " \r",
        "[*****************88%*************     ]  19531733 of 22195070 complete Elapsed: 53.2 minutes\t Remaining: 7.3 minutes"
       ]
      },
      {
       "output_type": "stream",
       "stream": "stdout",
       "text": [
        " \r",
        "[*****************88%*************     ]  19536874 of 22195070 complete Elapsed: 53.4 minutes\t Remaining: 7.3 minutes"
       ]
      },
      {
       "output_type": "stream",
       "stream": "stdout",
       "text": [
        " \r",
        "[*****************88%*************     ]  19544681 of 22195070 complete Elapsed: 53.4 minutes\t Remaining: 7.2 minutes"
       ]
      },
      {
       "output_type": "stream",
       "stream": "stdout",
       "text": [
        " \r",
        "[*****************88%*************     ]  19554998 of 22195070 complete Elapsed: 53.4 minutes\t Remaining: 7.2 minutes"
       ]
      },
      {
       "output_type": "stream",
       "stream": "stdout",
       "text": [
        " \r",
        "[*****************88%*************     ]  19565203 of 22195070 complete Elapsed: 53.5 minutes\t Remaining: 7.2 minutes"
       ]
      },
      {
       "output_type": "stream",
       "stream": "stdout",
       "text": [
        " \r",
        "[*****************88%*************     ]  19575496 of 22195070 complete Elapsed: 53.5 minutes\t Remaining: 7.2 minutes"
       ]
      },
      {
       "output_type": "stream",
       "stream": "stdout",
       "text": [
        " \r",
        "[*****************88%*************     ]  19585743 of 22195070 complete Elapsed: 53.5 minutes\t Remaining: 7.1 minutes"
       ]
      },
      {
       "output_type": "stream",
       "stream": "stdout",
       "text": [
        " \r",
        "[*****************88%*************     ]  19595984 of 22195070 complete Elapsed: 53.5 minutes\t Remaining: 7.1 minutes"
       ]
      },
      {
       "output_type": "stream",
       "stream": "stdout",
       "text": [
        " \r",
        "[*****************88%*************     ]  19606177 of 22195070 complete Elapsed: 53.6 minutes\t Remaining: 7.1 minutes"
       ]
      },
      {
       "output_type": "stream",
       "stream": "stdout",
       "text": [
        " \r",
        "[*****************88%*************     ]  19616445 of 22195070 complete Elapsed: 53.6 minutes\t Remaining: 7.0 minutes"
       ]
      },
      {
       "output_type": "stream",
       "stream": "stdout",
       "text": [
        " \r",
        "[*****************88%*************     ]  19626590 of 22195070 complete Elapsed: 53.6 minutes\t Remaining: 7.0 minutes"
       ]
      },
      {
       "output_type": "stream",
       "stream": "stdout",
       "text": [
        " \r",
        "[*****************88%*************     ]  19636863 of 22195070 complete Elapsed: 53.6 minutes\t Remaining: 7.0 minutes"
       ]
      },
      {
       "output_type": "stream",
       "stream": "stdout",
       "text": [
        " \r",
        "[*****************89%**************    ]  19647070 of 22195070 complete Elapsed: 53.7 minutes\t Remaining: 7.0 minutes"
       ]
      },
      {
       "output_type": "stream",
       "stream": "stdout",
       "text": [
        " \r",
        "[*****************89%**************    ]  19657326 of 22195070 complete Elapsed: 53.7 minutes\t Remaining: 6.9 minutes"
       ]
      },
      {
       "output_type": "stream",
       "stream": "stdout",
       "text": [
        " \r",
        "[*****************89%**************    ]  19667516 of 22195070 complete Elapsed: 53.7 minutes\t Remaining: 6.9 minutes"
       ]
      },
      {
       "output_type": "stream",
       "stream": "stdout",
       "text": [
        " \r",
        "[*****************89%**************    ]  19677735 of 22195070 complete Elapsed: 53.7 minutes\t Remaining: 6.9 minutes"
       ]
      },
      {
       "output_type": "stream",
       "stream": "stdout",
       "text": [
        " \r",
        "[*****************89%**************    ]  19687910 of 22195070 complete Elapsed: 53.8 minutes\t Remaining: 6.8 minutes"
       ]
      },
      {
       "output_type": "stream",
       "stream": "stdout",
       "text": [
        " \r",
        "[*****************89%**************    ]  19698169 of 22195070 complete Elapsed: 53.8 minutes\t Remaining: 6.8 minutes"
       ]
      },
      {
       "output_type": "stream",
       "stream": "stdout",
       "text": [
        " \r",
        "[*****************89%**************    ]  19708380 of 22195070 complete Elapsed: 53.8 minutes\t Remaining: 6.8 minutes"
       ]
      },
      {
       "output_type": "stream",
       "stream": "stdout",
       "text": [
        " \r",
        "[*****************89%**************    ]  19718638 of 22195070 complete Elapsed: 53.8 minutes\t Remaining: 6.8 minutes"
       ]
      },
      {
       "output_type": "stream",
       "stream": "stdout",
       "text": [
        " \r",
        "[*****************89%**************    ]  19728823 of 22195070 complete Elapsed: 53.9 minutes\t Remaining: 6.7 minutes"
       ]
      },
      {
       "output_type": "stream",
       "stream": "stdout",
       "text": [
        " \r",
        "[*****************89%**************    ]  19739097 of 22195070 complete Elapsed: 53.9 minutes\t Remaining: 6.7 minutes"
       ]
      },
      {
       "output_type": "stream",
       "stream": "stdout",
       "text": [
        " \r",
        "[*****************89%**************    ]  19749337 of 22195070 complete Elapsed: 53.9 minutes\t Remaining: 6.7 minutes"
       ]
      },
      {
       "output_type": "stream",
       "stream": "stdout",
       "text": [
        " \r",
        "[*****************89%**************    ]  19759578 of 22195070 complete Elapsed: 53.9 minutes\t Remaining: 6.6 minutes"
       ]
      },
      {
       "output_type": "stream",
       "stream": "stdout",
       "text": [
        " \r",
        "[*****************89%**************    ]  19769715 of 22195070 complete Elapsed: 54.0 minutes\t Remaining: 6.6 minutes"
       ]
      },
      {
       "output_type": "stream",
       "stream": "stdout",
       "text": [
        " \r",
        "[*****************89%**************    ]  19779965 of 22195070 complete Elapsed: 54.0 minutes\t Remaining: 6.6 minutes"
       ]
      },
      {
       "output_type": "stream",
       "stream": "stdout",
       "text": [
        " \r",
        "[*****************89%**************    ]  19790204 of 22195070 complete Elapsed: 54.0 minutes\t Remaining: 6.6 minutes"
       ]
      },
      {
       "output_type": "stream",
       "stream": "stdout",
       "text": [
        " \r",
        "[*****************89%**************    ]  19800452 of 22195070 complete Elapsed: 54.0 minutes\t Remaining: 6.5 minutes"
       ]
      },
      {
       "output_type": "stream",
       "stream": "stdout",
       "text": [
        " \r",
        "[*****************89%**************    ]  19810631 of 22195070 complete Elapsed: 54.1 minutes\t Remaining: 6.5 minutes"
       ]
      },
      {
       "output_type": "stream",
       "stream": "stdout",
       "text": [
        " \r",
        "[*****************89%**************    ]  19820883 of 22195070 complete Elapsed: 54.1 minutes\t Remaining: 6.5 minutes"
       ]
      },
      {
       "output_type": "stream",
       "stream": "stdout",
       "text": [
        " \r",
        "[*****************89%**************    ]  19831109 of 22195070 complete Elapsed: 54.1 minutes\t Remaining: 6.4 minutes"
       ]
      },
      {
       "output_type": "stream",
       "stream": "stdout",
       "text": [
        " \r",
        "[*****************89%**************    ]  19841408 of 22195070 complete Elapsed: 54.1 minutes\t Remaining: 6.4 minutes"
       ]
      },
      {
       "output_type": "stream",
       "stream": "stdout",
       "text": [
        " \r",
        "[*****************89%**************    ]  19851599 of 22195070 complete Elapsed: 54.2 minutes\t Remaining: 6.4 minutes"
       ]
      },
      {
       "output_type": "stream",
       "stream": "stdout",
       "text": [
        " \r",
        "[*****************89%**************    ]  19861839 of 22195070 complete Elapsed: 54.2 minutes\t Remaining: 6.4 minutes"
       ]
      },
      {
       "output_type": "stream",
       "stream": "stdout",
       "text": [
        " \r",
        "[*****************90%**************    ]  19872081 of 22195070 complete Elapsed: 54.2 minutes\t Remaining: 6.3 minutes"
       ]
      },
      {
       "output_type": "stream",
       "stream": "stdout",
       "text": [
        " \r",
        "[*****************90%**************    ]  19882369 of 22195070 complete Elapsed: 54.2 minutes\t Remaining: 6.3 minutes"
       ]
      },
      {
       "output_type": "stream",
       "stream": "stdout",
       "text": [
        " \r",
        "[*****************90%**************    ]  19892590 of 22195070 complete Elapsed: 54.3 minutes\t Remaining: 6.3 minutes"
       ]
      },
      {
       "output_type": "stream",
       "stream": "stdout",
       "text": [
        " \r",
        "[*****************90%**************    ]  19902856 of 22195070 complete Elapsed: 54.3 minutes\t Remaining: 6.3 minutes"
       ]
      },
      {
       "output_type": "stream",
       "stream": "stdout",
       "text": [
        " \r",
        "[*****************90%**************    ]  19913071 of 22195070 complete Elapsed: 54.3 minutes\t Remaining: 6.2 minutes"
       ]
      },
      {
       "output_type": "stream",
       "stream": "stdout",
       "text": [
        " \r",
        "[*****************90%**************    ]  19923353 of 22195070 complete Elapsed: 54.3 minutes\t Remaining: 6.2 minutes"
       ]
      },
      {
       "output_type": "stream",
       "stream": "stdout",
       "text": [
        " \r",
        "[*****************90%**************    ]  19933578 of 22195070 complete Elapsed: 54.4 minutes\t Remaining: 6.2 minutes"
       ]
      },
      {
       "output_type": "stream",
       "stream": "stdout",
       "text": [
        " \r",
        "[*****************90%**************    ]  19943858 of 22195070 complete Elapsed: 54.4 minutes\t Remaining: 6.1 minutes"
       ]
      },
      {
       "output_type": "stream",
       "stream": "stdout",
       "text": [
        " \r",
        "[*****************90%**************    ]  19954096 of 22195070 complete Elapsed: 54.4 minutes\t Remaining: 6.1 minutes"
       ]
      },
      {
       "output_type": "stream",
       "stream": "stdout",
       "text": [
        " \r",
        "[*****************90%**************    ]  19964341 of 22195070 complete Elapsed: 54.4 minutes\t Remaining: 6.1 minutes"
       ]
      },
      {
       "output_type": "stream",
       "stream": "stdout",
       "text": [
        " \r",
        "[*****************90%**************    ]  19974556 of 22195070 complete Elapsed: 54.5 minutes\t Remaining: 6.1 minutes"
       ]
      },
      {
       "output_type": "stream",
       "stream": "stdout",
       "text": [
        " \r",
        "[*****************90%**************    ]  19984825 of 22195070 complete Elapsed: 54.5 minutes\t Remaining: 6.0 minutes"
       ]
      },
      {
       "output_type": "stream",
       "stream": "stdout",
       "text": [
        " \r",
        "[*****************90%**************    ]  19995038 of 22195070 complete Elapsed: 54.5 minutes\t Remaining: 6.0 minutes"
       ]
      },
      {
       "output_type": "stream",
       "stream": "stdout",
       "text": [
        " \r",
        "[*****************90%**************    ]  20005292 of 22195070 complete Elapsed: 54.5 minutes\t Remaining: 6.0 minutes"
       ]
      },
      {
       "output_type": "stream",
       "stream": "stdout",
       "text": [
        " \r",
        "[*****************90%**************    ]  20015476 of 22195070 complete Elapsed: 54.6 minutes\t Remaining: 5.9 minutes"
       ]
      },
      {
       "output_type": "stream",
       "stream": "stdout",
       "text": [
        " \r",
        "[*****************90%**************    ]  20025730 of 22195070 complete Elapsed: 54.6 minutes\t Remaining: 5.9 minutes"
       ]
      },
      {
       "output_type": "stream",
       "stream": "stdout",
       "text": [
        " \r",
        "[*****************90%**************    ]  20026545 of 22195070 complete Elapsed: 54.8 minutes\t Remaining: 5.9 minutes"
       ]
      },
      {
       "output_type": "stream",
       "stream": "stdout",
       "text": [
        " \r",
        "[*****************90%**************    ]  20034666 of 22195070 complete Elapsed: 54.8 minutes\t Remaining: 5.9 minutes"
       ]
      },
      {
       "output_type": "stream",
       "stream": "stdout",
       "text": [
        " \r",
        "[*****************90%**************    ]  20044881 of 22195070 complete Elapsed: 54.8 minutes\t Remaining: 5.9 minutes"
       ]
      },
      {
       "output_type": "stream",
       "stream": "stdout",
       "text": [
        " \r",
        "[*****************90%**************    ]  20055132 of 22195070 complete Elapsed: 54.8 minutes\t Remaining: 5.9 minutes"
       ]
      },
      {
       "output_type": "stream",
       "stream": "stdout",
       "text": [
        " \r",
        "[*****************90%**************    ]  20065329 of 22195070 complete Elapsed: 54.9 minutes\t Remaining: 5.8 minutes"
       ]
      },
      {
       "output_type": "stream",
       "stream": "stdout",
       "text": [
        " \r",
        "[*****************90%**************    ]  20075568 of 22195070 complete Elapsed: 54.9 minutes\t Remaining: 5.8 minutes"
       ]
      },
      {
       "output_type": "stream",
       "stream": "stdout",
       "text": [
        " \r",
        "[*****************90%**************    ]  20085786 of 22195070 complete Elapsed: 54.9 minutes\t Remaining: 5.8 minutes"
       ]
      },
      {
       "output_type": "stream",
       "stream": "stdout",
       "text": [
        " \r",
        "[*****************91%***************   ]  20096012 of 22195070 complete Elapsed: 54.9 minutes\t Remaining: 5.7 minutes"
       ]
      },
      {
       "output_type": "stream",
       "stream": "stdout",
       "text": [
        " \r",
        "[*****************91%***************   ]  20106205 of 22195070 complete Elapsed: 55.0 minutes\t Remaining: 5.7 minutes"
       ]
      },
      {
       "output_type": "stream",
       "stream": "stdout",
       "text": [
        " \r",
        "[*****************91%***************   ]  20116475 of 22195070 complete Elapsed: 55.0 minutes\t Remaining: 5.7 minutes"
       ]
      },
      {
       "output_type": "stream",
       "stream": "stdout",
       "text": [
        " \r",
        "[*****************91%***************   ]  20126675 of 22195070 complete Elapsed: 55.0 minutes\t Remaining: 5.7 minutes"
       ]
      },
      {
       "output_type": "stream",
       "stream": "stdout",
       "text": [
        " \r",
        "[*****************91%***************   ]  20136917 of 22195070 complete Elapsed: 55.0 minutes\t Remaining: 5.6 minutes"
       ]
      },
      {
       "output_type": "stream",
       "stream": "stdout",
       "text": [
        " \r",
        "[*****************91%***************   ]  20147143 of 22195070 complete Elapsed: 55.1 minutes\t Remaining: 5.6 minutes"
       ]
      },
      {
       "output_type": "stream",
       "stream": "stdout",
       "text": [
        " \r",
        "[*****************91%***************   ]  20157412 of 22195070 complete Elapsed: 55.1 minutes\t Remaining: 5.6 minutes"
       ]
      },
      {
       "output_type": "stream",
       "stream": "stdout",
       "text": [
        " \r",
        "[*****************91%***************   ]  20167618 of 22195070 complete Elapsed: 55.1 minutes\t Remaining: 5.5 minutes"
       ]
      },
      {
       "output_type": "stream",
       "stream": "stdout",
       "text": [
        " \r",
        "[*****************91%***************   ]  20177906 of 22195070 complete Elapsed: 55.1 minutes\t Remaining: 5.5 minutes"
       ]
      },
      {
       "output_type": "stream",
       "stream": "stdout",
       "text": [
        " \r",
        "[*****************91%***************   ]  20188100 of 22195070 complete Elapsed: 55.2 minutes\t Remaining: 5.5 minutes"
       ]
      },
      {
       "output_type": "stream",
       "stream": "stdout",
       "text": [
        " \r",
        "[*****************91%***************   ]  20198361 of 22195070 complete Elapsed: 55.2 minutes\t Remaining: 5.5 minutes"
       ]
      },
      {
       "output_type": "stream",
       "stream": "stdout",
       "text": [
        " \r",
        "[*****************91%***************   ]  20208599 of 22195070 complete Elapsed: 55.2 minutes\t Remaining: 5.4 minutes"
       ]
      },
      {
       "output_type": "stream",
       "stream": "stdout",
       "text": [
        " \r",
        "[*****************91%***************   ]  20218855 of 22195070 complete Elapsed: 55.2 minutes\t Remaining: 5.4 minutes"
       ]
      },
      {
       "output_type": "stream",
       "stream": "stdout",
       "text": [
        " \r",
        "[*****************91%***************   ]  20229032 of 22195070 complete Elapsed: 55.3 minutes\t Remaining: 5.4 minutes"
       ]
      },
      {
       "output_type": "stream",
       "stream": "stdout",
       "text": [
        " \r",
        "[*****************91%***************   ]  20239317 of 22195070 complete Elapsed: 55.3 minutes\t Remaining: 5.3 minutes"
       ]
      },
      {
       "output_type": "stream",
       "stream": "stdout",
       "text": [
        " \r",
        "[*****************91%***************   ]  20249519 of 22195070 complete Elapsed: 55.3 minutes\t Remaining: 5.3 minutes"
       ]
      },
      {
       "output_type": "stream",
       "stream": "stdout",
       "text": [
        " \r",
        "[*****************91%***************   ]  20259420 of 22195070 complete Elapsed: 55.3 minutes\t Remaining: 5.3 minutes"
       ]
      },
      {
       "output_type": "stream",
       "stream": "stdout",
       "text": [
        " \r",
        "[*****************91%***************   ]  20269348 of 22195070 complete Elapsed: 55.4 minutes\t Remaining: 5.3 minutes"
       ]
      },
      {
       "output_type": "stream",
       "stream": "stdout",
       "text": [
        " \r",
        "[*****************91%***************   ]  20279388 of 22195070 complete Elapsed: 55.4 minutes\t Remaining: 5.2 minutes"
       ]
      },
      {
       "output_type": "stream",
       "stream": "stdout",
       "text": [
        " \r",
        "[*****************91%***************   ]  20289414 of 22195070 complete Elapsed: 55.4 minutes\t Remaining: 5.2 minutes"
       ]
      },
      {
       "output_type": "stream",
       "stream": "stdout",
       "text": [
        " \r",
        "[*****************91%***************   ]  20299475 of 22195070 complete Elapsed: 55.4 minutes\t Remaining: 5.2 minutes"
       ]
      },
      {
       "output_type": "stream",
       "stream": "stdout",
       "text": [
        " \r",
        "[*****************92%***************   ]  20309502 of 22195070 complete Elapsed: 55.5 minutes\t Remaining: 5.1 minutes"
       ]
      },
      {
       "output_type": "stream",
       "stream": "stdout",
       "text": [
        " \r",
        "[*****************92%***************   ]  20319595 of 22195070 complete Elapsed: 55.5 minutes\t Remaining: 5.1 minutes"
       ]
      },
      {
       "output_type": "stream",
       "stream": "stdout",
       "text": [
        " \r",
        "[*****************92%***************   ]  20329675 of 22195070 complete Elapsed: 55.5 minutes\t Remaining: 5.1 minutes"
       ]
      },
      {
       "output_type": "stream",
       "stream": "stdout",
       "text": [
        " \r",
        "[*****************92%***************   ]  20339724 of 22195070 complete Elapsed: 55.5 minutes\t Remaining: 5.1 minutes"
       ]
      },
      {
       "output_type": "stream",
       "stream": "stdout",
       "text": [
        " \r",
        "[*****************92%***************   ]  20349771 of 22195070 complete Elapsed: 55.6 minutes\t Remaining: 5.0 minutes"
       ]
      },
      {
       "output_type": "stream",
       "stream": "stdout",
       "text": [
        " \r",
        "[*****************92%***************   ]  20359941 of 22195070 complete Elapsed: 55.6 minutes\t Remaining: 5.0 minutes"
       ]
      },
      {
       "output_type": "stream",
       "stream": "stdout",
       "text": [
        " \r",
        "[*****************92%***************   ]  20370176 of 22195070 complete Elapsed: 55.6 minutes\t Remaining: 5.0 minutes"
       ]
      },
      {
       "output_type": "stream",
       "stream": "stdout",
       "text": [
        " \r",
        "[*****************92%***************   ]  20380421 of 22195070 complete Elapsed: 55.6 minutes\t Remaining: 5.0 minutes"
       ]
      },
      {
       "output_type": "stream",
       "stream": "stdout",
       "text": [
        " \r",
        "[*****************92%***************   ]  20390616 of 22195070 complete Elapsed: 55.7 minutes\t Remaining: 4.9 minutes"
       ]
      },
      {
       "output_type": "stream",
       "stream": "stdout",
       "text": [
        " \r",
        "[*****************92%***************   ]  20400856 of 22195070 complete Elapsed: 55.7 minutes\t Remaining: 4.9 minutes"
       ]
      },
      {
       "output_type": "stream",
       "stream": "stdout",
       "text": [
        " \r",
        "[*****************92%***************   ]  20411063 of 22195070 complete Elapsed: 55.7 minutes\t Remaining: 4.9 minutes"
       ]
      },
      {
       "output_type": "stream",
       "stream": "stdout",
       "text": [
        " \r",
        "[*****************92%***************   ]  20421307 of 22195070 complete Elapsed: 55.7 minutes\t Remaining: 4.8 minutes"
       ]
      },
      {
       "output_type": "stream",
       "stream": "stdout",
       "text": [
        " \r",
        "[*****************92%***************   ]  20431530 of 22195070 complete Elapsed: 55.8 minutes\t Remaining: 4.8 minutes"
       ]
      },
      {
       "output_type": "stream",
       "stream": "stdout",
       "text": [
        " \r",
        "[*****************92%***************   ]  20441789 of 22195070 complete Elapsed: 55.8 minutes\t Remaining: 4.8 minutes"
       ]
      },
      {
       "output_type": "stream",
       "stream": "stdout",
       "text": [
        " \r",
        "[*****************92%***************   ]  20452014 of 22195070 complete Elapsed: 55.8 minutes\t Remaining: 4.8 minutes"
       ]
      },
      {
       "output_type": "stream",
       "stream": "stdout",
       "text": [
        " \r",
        "[*****************92%***************   ]  20462284 of 22195070 complete Elapsed: 55.8 minutes\t Remaining: 4.7 minutes"
       ]
      },
      {
       "output_type": "stream",
       "stream": "stdout",
       "text": [
        " \r",
        "[*****************92%***************   ]  20472473 of 22195070 complete Elapsed: 55.9 minutes\t Remaining: 4.7 minutes"
       ]
      },
      {
       "output_type": "stream",
       "stream": "stdout",
       "text": [
        " \r",
        "[*****************92%***************   ]  20482658 of 22195070 complete Elapsed: 55.9 minutes\t Remaining: 4.7 minutes"
       ]
      },
      {
       "output_type": "stream",
       "stream": "stdout",
       "text": [
        " \r",
        "[*****************92%***************   ]  20492869 of 22195070 complete Elapsed: 55.9 minutes\t Remaining: 4.6 minutes"
       ]
      },
      {
       "output_type": "stream",
       "stream": "stdout",
       "text": [
        " \r",
        "[*****************92%***************   ]  20503148 of 22195070 complete Elapsed: 55.9 minutes\t Remaining: 4.6 minutes"
       ]
      },
      {
       "output_type": "stream",
       "stream": "stdout",
       "text": [
        " \r",
        "[*****************92%***************   ]  20513323 of 22195070 complete Elapsed: 56.0 minutes\t Remaining: 4.6 minutes"
       ]
      },
      {
       "output_type": "stream",
       "stream": "stdout",
       "text": [
        " \r",
        "[*****************92%***************   ]  20523505 of 22195070 complete Elapsed: 56.0 minutes\t Remaining: 4.6 minutes"
       ]
      },
      {
       "output_type": "stream",
       "stream": "stdout",
       "text": [
        " \r",
        "[*****************93%***************   ]  20533722 of 22195070 complete Elapsed: 56.0 minutes\t Remaining: 4.5 minutes"
       ]
      },
      {
       "output_type": "stream",
       "stream": "stdout",
       "text": [
        " \r",
        "[*****************93%***************   ]  20543956 of 22195070 complete Elapsed: 56.0 minutes\t Remaining: 4.5 minutes"
       ]
      },
      {
       "output_type": "stream",
       "stream": "stdout",
       "text": [
        " \r",
        "[*****************93%***************   ]  20554149 of 22195070 complete Elapsed: 56.1 minutes\t Remaining: 4.5 minutes"
       ]
      },
      {
       "output_type": "stream",
       "stream": "stdout",
       "text": [
        " \r",
        "[*****************93%***************   ]  20564378 of 22195070 complete Elapsed: 56.1 minutes\t Remaining: 4.4 minutes"
       ]
      },
      {
       "output_type": "stream",
       "stream": "stdout",
       "text": [
        " \r",
        "[*****************93%***************   ]  20574602 of 22195070 complete Elapsed: 56.1 minutes\t Remaining: 4.4 minutes"
       ]
      },
      {
       "output_type": "stream",
       "stream": "stdout",
       "text": [
        " \r",
        "[*****************93%***************   ]  20584866 of 22195070 complete Elapsed: 56.1 minutes\t Remaining: 4.4 minutes"
       ]
      },
      {
       "output_type": "stream",
       "stream": "stdout",
       "text": [
        " \r",
        "[*****************93%***************   ]  20595096 of 22195070 complete Elapsed: 56.2 minutes\t Remaining: 4.4 minutes"
       ]
      },
      {
       "output_type": "stream",
       "stream": "stdout",
       "text": [
        " \r",
        "[*****************93%***************   ]  20598293 of 22195070 complete Elapsed: 56.3 minutes\t Remaining: 4.4 minutes"
       ]
      },
      {
       "output_type": "stream",
       "stream": "stdout",
       "text": [
        " \r",
        "[*****************93%***************   ]  20605839 of 22195070 complete Elapsed: 56.3 minutes\t Remaining: 4.3 minutes"
       ]
      },
      {
       "output_type": "stream",
       "stream": "stdout",
       "text": [
        " \r",
        "[*****************93%***************   ]  20615924 of 22195070 complete Elapsed: 56.4 minutes\t Remaining: 4.3 minutes"
       ]
      },
      {
       "output_type": "stream",
       "stream": "stdout",
       "text": [
        " \r",
        "[*****************93%***************   ]  20625909 of 22195070 complete Elapsed: 56.4 minutes\t Remaining: 4.3 minutes"
       ]
      },
      {
       "output_type": "stream",
       "stream": "stdout",
       "text": [
        " \r",
        "[*****************93%***************   ]  20635882 of 22195070 complete Elapsed: 56.4 minutes\t Remaining: 4.3 minutes"
       ]
      },
      {
       "output_type": "stream",
       "stream": "stdout",
       "text": [
        " \r",
        "[*****************93%***************   ]  20645802 of 22195070 complete Elapsed: 56.4 minutes\t Remaining: 4.2 minutes"
       ]
      },
      {
       "output_type": "stream",
       "stream": "stdout",
       "text": [
        " \r",
        "[*****************93%***************   ]  20655668 of 22195070 complete Elapsed: 56.5 minutes\t Remaining: 4.2 minutes"
       ]
      },
      {
       "output_type": "stream",
       "stream": "stdout",
       "text": [
        " \r",
        "[*****************93%***************   ]  20665630 of 22195070 complete Elapsed: 56.5 minutes\t Remaining: 4.2 minutes"
       ]
      },
      {
       "output_type": "stream",
       "stream": "stdout",
       "text": [
        " \r",
        "[*****************93%***************   ]  20675695 of 22195070 complete Elapsed: 56.5 minutes\t Remaining: 4.2 minutes"
       ]
      },
      {
       "output_type": "stream",
       "stream": "stdout",
       "text": [
        " \r",
        "[*****************93%***************   ]  20685758 of 22195070 complete Elapsed: 56.5 minutes\t Remaining: 4.1 minutes"
       ]
      },
      {
       "output_type": "stream",
       "stream": "stdout",
       "text": [
        " \r",
        "[*****************93%***************   ]  20695639 of 22195070 complete Elapsed: 56.6 minutes\t Remaining: 4.1 minutes"
       ]
      },
      {
       "output_type": "stream",
       "stream": "stdout",
       "text": [
        " \r",
        "[*****************93%***************   ]  20705478 of 22195070 complete Elapsed: 56.6 minutes\t Remaining: 4.1 minutes"
       ]
      },
      {
       "output_type": "stream",
       "stream": "stdout",
       "text": [
        " \r",
        "[*****************93%***************   ]  20715547 of 22195070 complete Elapsed: 56.6 minutes\t Remaining: 4.0 minutes"
       ]
      },
      {
       "output_type": "stream",
       "stream": "stdout",
       "text": [
        " \r",
        "[*****************93%***************   ]  20725830 of 22195070 complete Elapsed: 56.6 minutes\t Remaining: 4.0 minutes"
       ]
      },
      {
       "output_type": "stream",
       "stream": "stdout",
       "text": [
        " \r",
        "[*****************93%***************   ]  20736021 of 22195070 complete Elapsed: 56.7 minutes\t Remaining: 4.0 minutes"
       ]
      },
      {
       "output_type": "stream",
       "stream": "stdout",
       "text": [
        " \r",
        "[*****************93%***************   ]  20746278 of 22195070 complete Elapsed: 56.7 minutes\t Remaining: 4.0 minutes"
       ]
      },
      {
       "output_type": "stream",
       "stream": "stdout",
       "text": [
        " \r",
        "[*****************94%****************  ]  20756504 of 22195070 complete Elapsed: 56.7 minutes\t Remaining: 3.9 minutes"
       ]
      },
      {
       "output_type": "stream",
       "stream": "stdout",
       "text": [
        " \r",
        "[*****************94%****************  ]  20766762 of 22195070 complete Elapsed: 56.7 minutes\t Remaining: 3.9 minutes"
       ]
      },
      {
       "output_type": "stream",
       "stream": "stdout",
       "text": [
        " \r",
        "[*****************94%****************  ]  20776973 of 22195070 complete Elapsed: 56.8 minutes\t Remaining: 3.9 minutes"
       ]
      },
      {
       "output_type": "stream",
       "stream": "stdout",
       "text": [
        " \r",
        "[*****************94%****************  ]  20787195 of 22195070 complete Elapsed: 56.8 minutes\t Remaining: 3.8 minutes"
       ]
      },
      {
       "output_type": "stream",
       "stream": "stdout",
       "text": [
        " \r",
        "[*****************94%****************  ]  20797414 of 22195070 complete Elapsed: 56.8 minutes\t Remaining: 3.8 minutes"
       ]
      },
      {
       "output_type": "stream",
       "stream": "stdout",
       "text": [
        " \r",
        "[*****************94%****************  ]  20807684 of 22195070 complete Elapsed: 56.8 minutes\t Remaining: 3.8 minutes"
       ]
      },
      {
       "output_type": "stream",
       "stream": "stdout",
       "text": [
        " \r",
        "[*****************94%****************  ]  20817868 of 22195070 complete Elapsed: 56.9 minutes\t Remaining: 3.8 minutes"
       ]
      },
      {
       "output_type": "stream",
       "stream": "stdout",
       "text": [
        " \r",
        "[*****************94%****************  ]  20828095 of 22195070 complete Elapsed: 56.9 minutes\t Remaining: 3.7 minutes"
       ]
      },
      {
       "output_type": "stream",
       "stream": "stdout",
       "text": [
        " \r",
        "[*****************94%****************  ]  20838313 of 22195070 complete Elapsed: 56.9 minutes\t Remaining: 3.7 minutes"
       ]
      },
      {
       "output_type": "stream",
       "stream": "stdout",
       "text": [
        " \r",
        "[*****************94%****************  ]  20848536 of 22195070 complete Elapsed: 56.9 minutes\t Remaining: 3.7 minutes"
       ]
      },
      {
       "output_type": "stream",
       "stream": "stdout",
       "text": [
        " \r",
        "[*****************94%****************  ]  20858717 of 22195070 complete Elapsed: 57.0 minutes\t Remaining: 3.6 minutes"
       ]
      },
      {
       "output_type": "stream",
       "stream": "stdout",
       "text": [
        " \r",
        "[*****************94%****************  ]  20868929 of 22195070 complete Elapsed: 57.0 minutes\t Remaining: 3.6 minutes"
       ]
      },
      {
       "output_type": "stream",
       "stream": "stdout",
       "text": [
        " \r",
        "[*****************94%****************  ]  20879137 of 22195070 complete Elapsed: 57.0 minutes\t Remaining: 3.6 minutes"
       ]
      },
      {
       "output_type": "stream",
       "stream": "stdout",
       "text": [
        " \r",
        "[*****************94%****************  ]  20889344 of 22195070 complete Elapsed: 57.0 minutes\t Remaining: 3.6 minutes"
       ]
      },
      {
       "output_type": "stream",
       "stream": "stdout",
       "text": [
        " \r",
        "[*****************94%****************  ]  20899517 of 22195070 complete Elapsed: 57.1 minutes\t Remaining: 3.5 minutes"
       ]
      },
      {
       "output_type": "stream",
       "stream": "stdout",
       "text": [
        " \r",
        "[*****************94%****************  ]  20909733 of 22195070 complete Elapsed: 57.1 minutes\t Remaining: 3.5 minutes"
       ]
      },
      {
       "output_type": "stream",
       "stream": "stdout",
       "text": [
        " \r",
        "[*****************94%****************  ]  20919927 of 22195070 complete Elapsed: 57.1 minutes\t Remaining: 3.5 minutes"
       ]
      },
      {
       "output_type": "stream",
       "stream": "stdout",
       "text": [
        " \r",
        "[*****************94%****************  ]  20930159 of 22195070 complete Elapsed: 57.1 minutes\t Remaining: 3.5 minutes"
       ]
      },
      {
       "output_type": "stream",
       "stream": "stdout",
       "text": [
        " \r",
        "[*****************94%****************  ]  20940311 of 22195070 complete Elapsed: 57.2 minutes\t Remaining: 3.4 minutes"
       ]
      },
      {
       "output_type": "stream",
       "stream": "stdout",
       "text": [
        " \r",
        "[*****************94%****************  ]  20950527 of 22195070 complete Elapsed: 57.2 minutes\t Remaining: 3.4 minutes"
       ]
      },
      {
       "output_type": "stream",
       "stream": "stdout",
       "text": [
        " \r",
        "[*****************94%****************  ]  20960720 of 22195070 complete Elapsed: 57.2 minutes\t Remaining: 3.4 minutes"
       ]
      },
      {
       "output_type": "stream",
       "stream": "stdout",
       "text": [
        " \r",
        "[*****************94%****************  ]  20970983 of 22195070 complete Elapsed: 57.2 minutes\t Remaining: 3.3 minutes"
       ]
      },
      {
       "output_type": "stream",
       "stream": "stdout",
       "text": [
        " \r",
        "[*****************95%****************  ]  20981196 of 22195070 complete Elapsed: 57.3 minutes\t Remaining: 3.3 minutes"
       ]
      },
      {
       "output_type": "stream",
       "stream": "stdout",
       "text": [
        " \r",
        "[*****************95%****************  ]  20988101 of 22195070 complete Elapsed: 57.4 minutes\t Remaining: 3.3 minutes"
       ]
      },
      {
       "output_type": "stream",
       "stream": "stdout",
       "text": [
        " \r",
        "[*****************95%****************  ]  20996336 of 22195070 complete Elapsed: 57.4 minutes\t Remaining: 3.3 minutes"
       ]
      },
      {
       "output_type": "stream",
       "stream": "stdout",
       "text": [
        " \r",
        "[*****************95%****************  ]  21006338 of 22195070 complete Elapsed: 57.5 minutes\t Remaining: 3.3 minutes"
       ]
      },
      {
       "output_type": "stream",
       "stream": "stdout",
       "text": [
        " \r",
        "[*****************95%****************  ]  21016315 of 22195070 complete Elapsed: 57.5 minutes\t Remaining: 3.2 minutes"
       ]
      },
      {
       "output_type": "stream",
       "stream": "stdout",
       "text": [
        " \r",
        "[*****************95%****************  ]  21026374 of 22195070 complete Elapsed: 57.5 minutes\t Remaining: 3.2 minutes"
       ]
      },
      {
       "output_type": "stream",
       "stream": "stdout",
       "text": [
        " \r",
        "[*****************95%****************  ]  21036396 of 22195070 complete Elapsed: 57.5 minutes\t Remaining: 3.2 minutes"
       ]
      },
      {
       "output_type": "stream",
       "stream": "stdout",
       "text": [
        " \r",
        "[*****************95%****************  ]  21046442 of 22195070 complete Elapsed: 57.6 minutes\t Remaining: 3.1 minutes"
       ]
      },
      {
       "output_type": "stream",
       "stream": "stdout",
       "text": [
        " \r",
        "[*****************95%****************  ]  21056523 of 22195070 complete Elapsed: 57.6 minutes\t Remaining: 3.1 minutes"
       ]
      },
      {
       "output_type": "stream",
       "stream": "stdout",
       "text": [
        " \r",
        "[*****************95%****************  ]  21066608 of 22195070 complete Elapsed: 57.6 minutes\t Remaining: 3.1 minutes"
       ]
      },
      {
       "output_type": "stream",
       "stream": "stdout",
       "text": [
        " \r",
        "[*****************95%****************  ]  21076926 of 22195070 complete Elapsed: 57.6 minutes\t Remaining: 3.1 minutes"
       ]
      },
      {
       "output_type": "stream",
       "stream": "stdout",
       "text": [
        " \r",
        "[*****************95%****************  ]  21087053 of 22195070 complete Elapsed: 57.7 minutes\t Remaining: 3.0 minutes"
       ]
      },
      {
       "output_type": "stream",
       "stream": "stdout",
       "text": [
        " \r",
        "[*****************95%****************  ]  21097233 of 22195070 complete Elapsed: 57.7 minutes\t Remaining: 3.0 minutes"
       ]
      },
      {
       "output_type": "stream",
       "stream": "stdout",
       "text": [
        " \r",
        "[*****************95%****************  ]  21107469 of 22195070 complete Elapsed: 57.7 minutes\t Remaining: 3.0 minutes"
       ]
      },
      {
       "output_type": "stream",
       "stream": "stdout",
       "text": [
        " \r",
        "[*****************95%****************  ]  21117744 of 22195070 complete Elapsed: 57.7 minutes\t Remaining: 2.9 minutes"
       ]
      },
      {
       "output_type": "stream",
       "stream": "stdout",
       "text": [
        " \r",
        "[*****************95%****************  ]  21127995 of 22195070 complete Elapsed: 57.8 minutes\t Remaining: 2.9 minutes"
       ]
      },
      {
       "output_type": "stream",
       "stream": "stdout",
       "text": [
        " \r",
        "[*****************95%****************  ]  21138320 of 22195070 complete Elapsed: 57.8 minutes\t Remaining: 2.9 minutes"
       ]
      },
      {
       "output_type": "stream",
       "stream": "stdout",
       "text": [
        " \r",
        "[*****************95%****************  ]  21148549 of 22195070 complete Elapsed: 57.8 minutes\t Remaining: 2.9 minutes"
       ]
      },
      {
       "output_type": "stream",
       "stream": "stdout",
       "text": [
        " \r",
        "[*****************95%****************  ]  21158808 of 22195070 complete Elapsed: 57.8 minutes\t Remaining: 2.8 minutes"
       ]
      },
      {
       "output_type": "stream",
       "stream": "stdout",
       "text": [
        " \r",
        "[*****************95%****************  ]  21169036 of 22195070 complete Elapsed: 57.9 minutes\t Remaining: 2.8 minutes"
       ]
      },
      {
       "output_type": "stream",
       "stream": "stdout",
       "text": [
        " \r",
        "[*****************95%****************  ]  21179352 of 22195070 complete Elapsed: 57.9 minutes\t Remaining: 2.8 minutes"
       ]
      },
      {
       "output_type": "stream",
       "stream": "stdout",
       "text": [
        " \r",
        "[*****************95%****************  ]  21189560 of 22195070 complete Elapsed: 57.9 minutes\t Remaining: 2.7 minutes"
       ]
      },
      {
       "output_type": "stream",
       "stream": "stdout",
       "text": [
        " \r",
        "[*****************96%****************  ]  21199873 of 22195070 complete Elapsed: 57.9 minutes\t Remaining: 2.7 minutes"
       ]
      },
      {
       "output_type": "stream",
       "stream": "stdout",
       "text": [
        " \r",
        "[*****************96%****************  ]  21210150 of 22195070 complete Elapsed: 58.0 minutes\t Remaining: 2.7 minutes"
       ]
      },
      {
       "output_type": "stream",
       "stream": "stdout",
       "text": [
        " \r",
        "[*****************96%****************  ]  21220471 of 22195070 complete Elapsed: 58.0 minutes\t Remaining: 2.7 minutes"
       ]
      },
      {
       "output_type": "stream",
       "stream": "stdout",
       "text": [
        " \r",
        "[*****************96%****************  ]  21230734 of 22195070 complete Elapsed: 58.0 minutes\t Remaining: 2.6 minutes"
       ]
      },
      {
       "output_type": "stream",
       "stream": "stdout",
       "text": [
        " \r",
        "[*****************96%****************  ]  21241019 of 22195070 complete Elapsed: 58.0 minutes\t Remaining: 2.6 minutes"
       ]
      },
      {
       "output_type": "stream",
       "stream": "stdout",
       "text": [
        " \r",
        "[*****************96%****************  ]  21251225 of 22195070 complete Elapsed: 58.1 minutes\t Remaining: 2.6 minutes"
       ]
      },
      {
       "output_type": "stream",
       "stream": "stdout",
       "text": [
        " \r",
        "[*****************96%****************  ]  21261484 of 22195070 complete Elapsed: 58.1 minutes\t Remaining: 2.6 minutes"
       ]
      },
      {
       "output_type": "stream",
       "stream": "stdout",
       "text": [
        " \r",
        "[*****************96%****************  ]  21271754 of 22195070 complete Elapsed: 58.1 minutes\t Remaining: 2.5 minutes"
       ]
      },
      {
       "output_type": "stream",
       "stream": "stdout",
       "text": [
        " \r",
        "[*****************96%****************  ]  21282011 of 22195070 complete Elapsed: 58.1 minutes\t Remaining: 2.5 minutes"
       ]
      },
      {
       "output_type": "stream",
       "stream": "stdout",
       "text": [
        " \r",
        "[*****************96%****************  ]  21292212 of 22195070 complete Elapsed: 58.2 minutes\t Remaining: 2.5 minutes"
       ]
      },
      {
       "output_type": "stream",
       "stream": "stdout",
       "text": [
        " \r",
        "[*****************96%****************  ]  21302476 of 22195070 complete Elapsed: 58.2 minutes\t Remaining: 2.4 minutes"
       ]
      },
      {
       "output_type": "stream",
       "stream": "stdout",
       "text": [
        " \r",
        "[*****************96%****************  ]  21312738 of 22195070 complete Elapsed: 58.2 minutes\t Remaining: 2.4 minutes"
       ]
      },
      {
       "output_type": "stream",
       "stream": "stdout",
       "text": [
        " \r",
        "[*****************96%****************  ]  21323011 of 22195070 complete Elapsed: 58.2 minutes\t Remaining: 2.4 minutes"
       ]
      },
      {
       "output_type": "stream",
       "stream": "stdout",
       "text": [
        " \r",
        "[*****************96%****************  ]  21333268 of 22195070 complete Elapsed: 58.3 minutes\t Remaining: 2.4 minutes"
       ]
      },
      {
       "output_type": "stream",
       "stream": "stdout",
       "text": [
        " \r",
        "[*****************96%****************  ]  21343543 of 22195070 complete Elapsed: 58.3 minutes\t Remaining: 2.3 minutes"
       ]
      },
      {
       "output_type": "stream",
       "stream": "stdout",
       "text": [
        " \r",
        "[*****************96%****************  ]  21353780 of 22195070 complete Elapsed: 58.3 minutes\t Remaining: 2.3 minutes"
       ]
      },
      {
       "output_type": "stream",
       "stream": "stdout",
       "text": [
        " \r",
        "[*****************96%****************  ]  21364077 of 22195070 complete Elapsed: 58.3 minutes\t Remaining: 2.3 minutes"
       ]
      },
      {
       "output_type": "stream",
       "stream": "stdout",
       "text": [
        " \r",
        "[*****************96%****************  ]  21374312 of 22195070 complete Elapsed: 58.4 minutes\t Remaining: 2.2 minutes"
       ]
      },
      {
       "output_type": "stream",
       "stream": "stdout",
       "text": [
        " \r",
        "[*****************96%****************  ]  21377069 of 22195070 complete Elapsed: 58.6 minutes\t Remaining: 2.2 minutes"
       ]
      },
      {
       "output_type": "stream",
       "stream": "stdout",
       "text": [
        " \r",
        "[*****************96%****************  ]  21385724 of 22195070 complete Elapsed: 58.6 minutes\t Remaining: 2.2 minutes"
       ]
      },
      {
       "output_type": "stream",
       "stream": "stdout",
       "text": [
        " \r",
        "[*****************96%****************  ]  21396037 of 22195070 complete Elapsed: 58.6 minutes\t Remaining: 2.2 minutes"
       ]
      },
      {
       "output_type": "stream",
       "stream": "stdout",
       "text": [
        " \r",
        "[*****************96%****************  ]  21406343 of 22195070 complete Elapsed: 58.6 minutes\t Remaining: 2.2 minutes"
       ]
      },
      {
       "output_type": "stream",
       "stream": "stdout",
       "text": [
        " \r",
        "[*****************96%****************  ]  21416596 of 22195070 complete Elapsed: 58.7 minutes\t Remaining: 2.1 minutes"
       ]
      },
      {
       "output_type": "stream",
       "stream": "stdout",
       "text": [
        " \r",
        "[*****************97%***************** ]  21426852 of 22195070 complete Elapsed: 58.7 minutes\t Remaining: 2.1 minutes"
       ]
      },
      {
       "output_type": "stream",
       "stream": "stdout",
       "text": [
        " \r",
        "[*****************97%***************** ]  21437133 of 22195070 complete Elapsed: 58.7 minutes\t Remaining: 2.1 minutes"
       ]
      },
      {
       "output_type": "stream",
       "stream": "stdout",
       "text": [
        " \r",
        "[*****************97%***************** ]  21447432 of 22195070 complete Elapsed: 58.7 minutes\t Remaining: 2.0 minutes"
       ]
      },
      {
       "output_type": "stream",
       "stream": "stdout",
       "text": [
        " \r",
        "[*****************97%***************** ]  21457708 of 22195070 complete Elapsed: 58.8 minutes\t Remaining: 2.0 minutes"
       ]
      },
      {
       "output_type": "stream",
       "stream": "stdout",
       "text": [
        " \r",
        "[*****************97%***************** ]  21468075 of 22195070 complete Elapsed: 58.8 minutes\t Remaining: 2.0 minutes"
       ]
      },
      {
       "output_type": "stream",
       "stream": "stdout",
       "text": [
        " \r",
        "[*****************97%***************** ]  21478433 of 22195070 complete Elapsed: 58.8 minutes\t Remaining: 2.0 minutes"
       ]
      },
      {
       "output_type": "stream",
       "stream": "stdout",
       "text": [
        " \r",
        "[*****************97%***************** ]  21488818 of 22195070 complete Elapsed: 58.8 minutes\t Remaining: 1.9 minutes"
       ]
      },
      {
       "output_type": "stream",
       "stream": "stdout",
       "text": [
        " \r",
        "[*****************97%***************** ]  21499116 of 22195070 complete Elapsed: 58.9 minutes\t Remaining: 1.9 minutes"
       ]
      },
      {
       "output_type": "stream",
       "stream": "stdout",
       "text": [
        " \r",
        "[*****************97%***************** ]  21509491 of 22195070 complete Elapsed: 58.9 minutes\t Remaining: 1.9 minutes"
       ]
      },
      {
       "output_type": "stream",
       "stream": "stdout",
       "text": [
        " \r",
        "[*****************97%***************** ]  21519838 of 22195070 complete Elapsed: 58.9 minutes\t Remaining: 1.8 minutes"
       ]
      },
      {
       "output_type": "stream",
       "stream": "stdout",
       "text": [
        " \r",
        "[*****************97%***************** ]  21530219 of 22195070 complete Elapsed: 58.9 minutes\t Remaining: 1.8 minutes"
       ]
      },
      {
       "output_type": "stream",
       "stream": "stdout",
       "text": [
        " \r",
        "[*****************97%***************** ]  21540561 of 22195070 complete Elapsed: 59.0 minutes\t Remaining: 1.8 minutes"
       ]
      },
      {
       "output_type": "stream",
       "stream": "stdout",
       "text": [
        " \r",
        "[*****************97%***************** ]  21550971 of 22195070 complete Elapsed: 59.0 minutes\t Remaining: 1.8 minutes"
       ]
      },
      {
       "output_type": "stream",
       "stream": "stdout",
       "text": [
        " \r",
        "[*****************97%***************** ]  21561337 of 22195070 complete Elapsed: 59.0 minutes\t Remaining: 1.7 minutes"
       ]
      },
      {
       "output_type": "stream",
       "stream": "stdout",
       "text": [
        " \r",
        "[*****************97%***************** ]  21571685 of 22195070 complete Elapsed: 59.0 minutes\t Remaining: 1.7 minutes"
       ]
      },
      {
       "output_type": "stream",
       "stream": "stdout",
       "text": [
        " \r",
        "[*****************97%***************** ]  21582039 of 22195070 complete Elapsed: 59.1 minutes\t Remaining: 1.7 minutes"
       ]
      },
      {
       "output_type": "stream",
       "stream": "stdout",
       "text": [
        " \r",
        "[*****************97%***************** ]  21592411 of 22195070 complete Elapsed: 59.1 minutes\t Remaining: 1.6 minutes"
       ]
      },
      {
       "output_type": "stream",
       "stream": "stdout",
       "text": [
        " \r",
        "[*****************97%***************** ]  21602732 of 22195070 complete Elapsed: 59.1 minutes\t Remaining: 1.6 minutes"
       ]
      },
      {
       "output_type": "stream",
       "stream": "stdout",
       "text": [
        " \r",
        "[*****************97%***************** ]  21613113 of 22195070 complete Elapsed: 59.1 minutes\t Remaining: 1.6 minutes"
       ]
      },
      {
       "output_type": "stream",
       "stream": "stdout",
       "text": [
        " \r",
        "[*****************97%***************** ]  21623469 of 22195070 complete Elapsed: 59.2 minutes\t Remaining: 1.6 minutes"
       ]
      },
      {
       "output_type": "stream",
       "stream": "stdout",
       "text": [
        " \r",
        "[*****************97%***************** ]  21633856 of 22195070 complete Elapsed: 59.2 minutes\t Remaining: 1.5 minutes"
       ]
      },
      {
       "output_type": "stream",
       "stream": "stdout",
       "text": [
        " \r",
        "[*****************98%***************** ]  21644162 of 22195070 complete Elapsed: 59.2 minutes\t Remaining: 1.5 minutes"
       ]
      },
      {
       "output_type": "stream",
       "stream": "stdout",
       "text": [
        " \r",
        "[*****************98%***************** ]  21654555 of 22195070 complete Elapsed: 59.2 minutes\t Remaining: 1.5 minutes"
       ]
      },
      {
       "output_type": "stream",
       "stream": "stdout",
       "text": [
        " \r",
        "[*****************98%***************** ]  21664905 of 22195070 complete Elapsed: 59.3 minutes\t Remaining: 1.5 minutes"
       ]
      },
      {
       "output_type": "stream",
       "stream": "stdout",
       "text": [
        " \r",
        "[*****************98%***************** ]  21675299 of 22195070 complete Elapsed: 59.3 minutes\t Remaining: 1.4 minutes"
       ]
      },
      {
       "output_type": "stream",
       "stream": "stdout",
       "text": [
        " \r",
        "[*****************98%***************** ]  21685646 of 22195070 complete Elapsed: 59.3 minutes\t Remaining: 1.4 minutes"
       ]
      },
      {
       "output_type": "stream",
       "stream": "stdout",
       "text": [
        " \r",
        "[*****************98%***************** ]  21696014 of 22195070 complete Elapsed: 59.3 minutes\t Remaining: 1.4 minutes"
       ]
      },
      {
       "output_type": "stream",
       "stream": "stdout",
       "text": [
        " \r",
        "[*****************98%***************** ]  21706383 of 22195070 complete Elapsed: 59.4 minutes\t Remaining: 1.3 minutes"
       ]
      },
      {
       "output_type": "stream",
       "stream": "stdout",
       "text": [
        " \r",
        "[*****************98%***************** ]  21716783 of 22195070 complete Elapsed: 59.4 minutes\t Remaining: 1.3 minutes"
       ]
      },
      {
       "output_type": "stream",
       "stream": "stdout",
       "text": [
        " \r",
        "[*****************98%***************** ]  21727099 of 22195070 complete Elapsed: 59.4 minutes\t Remaining: 1.3 minutes"
       ]
      },
      {
       "output_type": "stream",
       "stream": "stdout",
       "text": [
        " \r",
        "[*****************98%***************** ]  21737479 of 22195070 complete Elapsed: 59.4 minutes\t Remaining: 1.3 minutes"
       ]
      },
      {
       "output_type": "stream",
       "stream": "stdout",
       "text": [
        " \r",
        "[*****************98%***************** ]  21747845 of 22195070 complete Elapsed: 59.5 minutes\t Remaining: 1.2 minutes"
       ]
      },
      {
       "output_type": "stream",
       "stream": "stdout",
       "text": [
        " \r",
        "[*****************98%***************** ]  21758204 of 22195070 complete Elapsed: 59.5 minutes\t Remaining: 1.2 minutes"
       ]
      },
      {
       "output_type": "stream",
       "stream": "stdout",
       "text": [
        " \r",
        "[*****************98%***************** ]  21768538 of 22195070 complete Elapsed: 59.5 minutes\t Remaining: 1.2 minutes"
       ]
      },
      {
       "output_type": "stream",
       "stream": "stdout",
       "text": [
        " \r",
        "[*****************98%***************** ]  21778952 of 22195070 complete Elapsed: 59.5 minutes\t Remaining: 1.1 minutes"
       ]
      },
      {
       "output_type": "stream",
       "stream": "stdout",
       "text": [
        " \r",
        "[*****************98%***************** ]  21789356 of 22195070 complete Elapsed: 59.6 minutes\t Remaining: 1.1 minutes"
       ]
      },
      {
       "output_type": "stream",
       "stream": "stdout",
       "text": [
        " \r",
        "[*****************98%***************** ]  21799806 of 22195070 complete Elapsed: 59.6 minutes\t Remaining: 1.1 minutes"
       ]
      },
      {
       "output_type": "stream",
       "stream": "stdout",
       "text": [
        " \r",
        "[*****************98%***************** ]  21810207 of 22195070 complete Elapsed: 59.6 minutes\t Remaining: 1.1 minutes"
       ]
      },
      {
       "output_type": "stream",
       "stream": "stdout",
       "text": [
        " \r",
        "[*****************98%***************** ]  21820605 of 22195070 complete Elapsed: 59.6 minutes\t Remaining: 1.0 minutes"
       ]
      },
      {
       "output_type": "stream",
       "stream": "stdout",
       "text": [
        " \r",
        "[*****************98%***************** ]  21830936 of 22195070 complete Elapsed: 59.7 minutes\t Remaining: 1.0 minutes"
       ]
      },
      {
       "output_type": "stream",
       "stream": "stdout",
       "text": [
        " \r",
        "[*****************98%***************** ]  21841345 of 22195070 complete Elapsed: 59.7 minutes\t Remaining: 1.0 minutes"
       ]
      },
      {
       "output_type": "stream",
       "stream": "stdout",
       "text": [
        " \r",
        "[*****************98%***************** ]  21851690 of 22195070 complete Elapsed: 59.7 minutes\t Remaining: 0.9 minutes"
       ]
      },
      {
       "output_type": "stream",
       "stream": "stdout",
       "text": [
        " \r",
        "[*****************98%***************** ]  21862047 of 22195070 complete Elapsed: 59.7 minutes\t Remaining: 0.9 minutes"
       ]
      },
      {
       "output_type": "stream",
       "stream": "stdout",
       "text": [
        " \r",
        "[*****************99%******************]  21872410 of 22195070 complete Elapsed: 59.8 minutes\t Remaining: 0.9 minutes"
       ]
      },
      {
       "output_type": "stream",
       "stream": "stdout",
       "text": [
        " \r",
        "[*****************99%******************]  21882789 of 22195070 complete Elapsed: 59.8 minutes\t Remaining: 0.9 minutes"
       ]
      },
      {
       "output_type": "stream",
       "stream": "stdout",
       "text": [
        " \r",
        "[*****************99%******************]  21893142 of 22195070 complete Elapsed: 59.8 minutes\t Remaining: 0.8 minutes"
       ]
      },
      {
       "output_type": "stream",
       "stream": "stdout",
       "text": [
        " \r",
        "[*****************99%******************]  21903549 of 22195070 complete Elapsed: 59.8 minutes\t Remaining: 0.8 minutes"
       ]
      },
      {
       "output_type": "stream",
       "stream": "stdout",
       "text": [
        " \r",
        "[*****************99%******************]  21913891 of 22195070 complete Elapsed: 59.9 minutes\t Remaining: 0.8 minutes"
       ]
      },
      {
       "output_type": "stream",
       "stream": "stdout",
       "text": [
        " \r",
        "[*****************99%******************]  21924276 of 22195070 complete Elapsed: 59.9 minutes\t Remaining: 0.7 minutes"
       ]
      },
      {
       "output_type": "stream",
       "stream": "stdout",
       "text": [
        " \r",
        "[*****************99%******************]  21934637 of 22195070 complete Elapsed: 59.9 minutes\t Remaining: 0.7 minutes"
       ]
      },
      {
       "output_type": "stream",
       "stream": "stdout",
       "text": [
        " \r",
        "[*****************99%******************]  21944990 of 22195070 complete Elapsed: 59.9 minutes\t Remaining: 0.7 minutes"
       ]
      },
      {
       "output_type": "stream",
       "stream": "stdout",
       "text": [
        " \r",
        "[*****************99%******************]  21955330 of 22195070 complete Elapsed: 60.0 minutes\t Remaining: 0.7 minutes"
       ]
      },
      {
       "output_type": "stream",
       "stream": "stdout",
       "text": [
        " \r",
        "[*****************99%******************]  21965694 of 22195070 complete Elapsed: 60.0 minutes\t Remaining: 0.6 minutes"
       ]
      },
      {
       "output_type": "stream",
       "stream": "stdout",
       "text": [
        " \r",
        "[*****************99%******************]  21976081 of 22195070 complete Elapsed: 60.0 minutes\t Remaining: 0.6 minutes"
       ]
      },
      {
       "output_type": "stream",
       "stream": "stdout",
       "text": [
        " \r",
        "[*****************99%******************]  21986481 of 22195070 complete Elapsed: 60.0 minutes\t Remaining: 0.6 minutes"
       ]
      },
      {
       "output_type": "stream",
       "stream": "stdout",
       "text": [
        " \r",
        "[*****************99%******************]  21996810 of 22195070 complete Elapsed: 60.1 minutes\t Remaining: 0.5 minutes"
       ]
      },
      {
       "output_type": "stream",
       "stream": "stdout",
       "text": [
        " \r",
        "[*****************99%******************]  22007158 of 22195070 complete Elapsed: 60.1 minutes\t Remaining: 0.5 minutes"
       ]
      },
      {
       "output_type": "stream",
       "stream": "stdout",
       "text": [
        " \r",
        "[*****************99%******************]  22017459 of 22195070 complete Elapsed: 60.1 minutes\t Remaining: 0.5 minutes"
       ]
      },
      {
       "output_type": "stream",
       "stream": "stdout",
       "text": [
        " \r",
        "[*****************99%******************]  22027861 of 22195070 complete Elapsed: 60.1 minutes\t Remaining: 0.5 minutes"
       ]
      },
      {
       "output_type": "stream",
       "stream": "stdout",
       "text": [
        " \r",
        "[*****************99%******************]  22038218 of 22195070 complete Elapsed: 60.2 minutes\t Remaining: 0.4 minutes"
       ]
      },
      {
       "output_type": "stream",
       "stream": "stdout",
       "text": [
        " \r",
        "[*****************99%******************]  22048613 of 22195070 complete Elapsed: 60.2 minutes\t Remaining: 0.4 minutes"
       ]
      },
      {
       "output_type": "stream",
       "stream": "stdout",
       "text": [
        " \r",
        "[*****************99%******************]  22058965 of 22195070 complete Elapsed: 60.2 minutes\t Remaining: 0.4 minutes"
       ]
      },
      {
       "output_type": "stream",
       "stream": "stdout",
       "text": [
        " \r",
        "[*****************99%******************]  22069353 of 22195070 complete Elapsed: 60.2 minutes\t Remaining: 0.3 minutes"
       ]
      },
      {
       "output_type": "stream",
       "stream": "stdout",
       "text": [
        " \r",
        "[*****************99%******************]  22079692 of 22195070 complete Elapsed: 60.3 minutes\t Remaining: 0.3 minutes"
       ]
      },
      {
       "output_type": "stream",
       "stream": "stdout",
       "text": [
        " \r",
        "[****************100%******************]  22090070 of 22195070 complete Elapsed: 60.3 minutes\t Remaining: 0.3 minutes"
       ]
      },
      {
       "output_type": "stream",
       "stream": "stdout",
       "text": [
        " \r",
        "[****************100%******************]  22100380 of 22195070 complete Elapsed: 60.3 minutes\t Remaining: 0.3 minutes"
       ]
      },
      {
       "output_type": "stream",
       "stream": "stdout",
       "text": [
        " \r",
        "[****************100%******************]  22110750 of 22195070 complete Elapsed: 60.3 minutes\t Remaining: 0.2 minutes"
       ]
      },
      {
       "output_type": "stream",
       "stream": "stdout",
       "text": [
        " \r",
        "[****************100%******************]  22111243 of 22195070 complete Elapsed: 60.4 minutes\t Remaining: 0.2 minutes"
       ]
      },
      {
       "output_type": "stream",
       "stream": "stdout",
       "text": [
        " \r",
        "[****************100%******************]  22119697 of 22195070 complete Elapsed: 60.4 minutes\t Remaining: 0.2 minutes"
       ]
      },
      {
       "output_type": "stream",
       "stream": "stdout",
       "text": [
        " \r",
        "[****************100%******************]  22130255 of 22195070 complete Elapsed: 60.5 minutes\t Remaining: 0.2 minutes"
       ]
      },
      {
       "output_type": "stream",
       "stream": "stdout",
       "text": [
        " \r",
        "[****************100%******************]  22140854 of 22195070 complete Elapsed: 60.5 minutes\t Remaining: 0.1 minutes"
       ]
      },
      {
       "output_type": "stream",
       "stream": "stdout",
       "text": [
        " \r",
        "[****************100%******************]  22151319 of 22195070 complete Elapsed: 60.5 minutes\t Remaining: 0.1 minutes"
       ]
      },
      {
       "output_type": "stream",
       "stream": "stdout",
       "text": [
        " \r",
        "[****************100%******************]  22161749 of 22195070 complete Elapsed: 60.5 minutes\t Remaining: 0.1 minutes"
       ]
      },
      {
       "output_type": "stream",
       "stream": "stdout",
       "text": [
        " \r",
        "[****************100%******************]  22172162 of 22195070 complete Elapsed: 60.6 minutes\t Remaining: 0.1 minutes"
       ]
      },
      {
       "output_type": "stream",
       "stream": "stdout",
       "text": [
        " \r",
        "[****************100%******************]  22182870 of 22195070 complete Elapsed: 60.6 minutes\t Remaining: 0.0 minutes"
       ]
      },
      {
       "ename": "KeyError",
       "evalue": "u'no item named 1'",
       "output_type": "pyerr",
       "traceback": [
        "\u001b[1;31m---------------------------------------------------------------------------\u001b[0m\n\u001b[1;31mKeyError\u001b[0m                                  Traceback (most recent call last)",
        "\u001b[1;32m<ipython-input-13-4176c08d6c1d>\u001b[0m in \u001b[0;36m<module>\u001b[1;34m()\u001b[0m\n\u001b[0;32m      2\u001b[0m \u001b[0mliftover_file\u001b[0m\u001b[1;33m=\u001b[0m\u001b[1;34m'/data/projects_gibbons/home/neffra/nodel_AFRGh38/liftover_AFRGh38_nodel.chain'\u001b[0m\u001b[1;33m\u001b[0m\u001b[0m\n\u001b[0;32m      3\u001b[0m \u001b[0mout_file\u001b[0m \u001b[1;33m=\u001b[0m \u001b[1;34m'/data/projects_gibbons/home/neffra/ASW_fastq/66_ASW_genotypes_AFRGh38_nodel.hg38_coords.vcf'\u001b[0m\u001b[1;33m\u001b[0m\u001b[0m\n\u001b[1;32m----> 4\u001b[1;33m \u001b[0mliftoverVCF\u001b[0m\u001b[1;33m(\u001b[0m\u001b[0mref_vcf\u001b[0m\u001b[1;33m,\u001b[0m \u001b[0mliftover_file\u001b[0m\u001b[1;33m,\u001b[0m \u001b[0mout_file\u001b[0m\u001b[1;33m,\u001b[0m \u001b[0mreverse\u001b[0m\u001b[1;33m=\u001b[0m\u001b[0mTrue\u001b[0m\u001b[1;33m)\u001b[0m \u001b[1;31m# fastest possible implementation\u001b[0m\u001b[1;33m\u001b[0m\u001b[0m\n\u001b[0m",
        "\u001b[1;32m<ipython-input-11-d23e1485c592>\u001b[0m in \u001b[0;36mliftoverVCF\u001b[1;34m(ref_vcf, liftover_file, out_file, reverse)\u001b[0m\n\u001b[0;32m     36\u001b[0m                     \u001b[0msys\u001b[0m\u001b[1;33m.\u001b[0m\u001b[0mstderr\u001b[0m\u001b[1;33m.\u001b[0m\u001b[0mflush\u001b[0m\u001b[1;33m(\u001b[0m\u001b[1;33m)\u001b[0m\u001b[1;33m\u001b[0m\u001b[0m\n\u001b[0;32m     37\u001b[0m     \u001b[0moutarr\u001b[0m \u001b[1;33m=\u001b[0m \u001b[0mpd\u001b[0m\u001b[1;33m.\u001b[0m\u001b[0mDataFrame\u001b[0m\u001b[1;33m(\u001b[0m\u001b[0moutarr\u001b[0m\u001b[1;33m)\u001b[0m\u001b[1;33m\u001b[0m\u001b[0m\n\u001b[1;32m---> 38\u001b[1;33m     \u001b[0moutarr\u001b[0m\u001b[1;33m[\u001b[0m\u001b[1;36m1\u001b[0m\u001b[1;33m]\u001b[0m \u001b[1;33m=\u001b[0m \u001b[0moutarr\u001b[0m\u001b[1;33m[\u001b[0m\u001b[1;36m1\u001b[0m\u001b[1;33m]\u001b[0m\u001b[1;33m.\u001b[0m\u001b[0mastype\u001b[0m\u001b[1;33m(\u001b[0m\u001b[0mint\u001b[0m\u001b[1;33m)\u001b[0m \u001b[1;31m# to make sure the position is in bases, not a float\u001b[0m\u001b[1;33m\u001b[0m\u001b[0m\n\u001b[0m\u001b[0;32m     39\u001b[0m     \u001b[0moutarr\u001b[0m\u001b[1;33m.\u001b[0m\u001b[0mto_csv\u001b[0m\u001b[1;33m(\u001b[0m\u001b[0mout_file\u001b[0m\u001b[1;33m,\u001b[0m \u001b[0mheader\u001b[0m\u001b[1;33m=\u001b[0m\u001b[0mNone\u001b[0m\u001b[1;33m,\u001b[0m \u001b[0msep\u001b[0m\u001b[1;33m=\u001b[0m\u001b[1;34m'\\t'\u001b[0m\u001b[1;33m,\u001b[0m \u001b[0mindex\u001b[0m\u001b[1;33m=\u001b[0m\u001b[0mNone\u001b[0m\u001b[1;33m)\u001b[0m \u001b[1;31m# and we're done!\u001b[0m\u001b[1;33m\u001b[0m\u001b[0m\n",
        "\u001b[1;32m/data/projects_gibbons/home/neffra/anaconda2/lib/python2.7/site-packages/pandas/core/frame.pyc\u001b[0m in \u001b[0;36m__getitem__\u001b[1;34m(self, key)\u001b[0m\n\u001b[0;32m   1656\u001b[0m             \u001b[1;32mreturn\u001b[0m \u001b[0mself\u001b[0m\u001b[1;33m.\u001b[0m\u001b[0m_getitem_multilevel\u001b[0m\u001b[1;33m(\u001b[0m\u001b[0mkey\u001b[0m\u001b[1;33m)\u001b[0m\u001b[1;33m\u001b[0m\u001b[0m\n\u001b[0;32m   1657\u001b[0m         \u001b[1;32melse\u001b[0m\u001b[1;33m:\u001b[0m\u001b[1;33m\u001b[0m\u001b[0m\n\u001b[1;32m-> 1658\u001b[1;33m             \u001b[1;32mreturn\u001b[0m \u001b[0mself\u001b[0m\u001b[1;33m.\u001b[0m\u001b[0m_getitem_column\u001b[0m\u001b[1;33m(\u001b[0m\u001b[0mkey\u001b[0m\u001b[1;33m)\u001b[0m\u001b[1;33m\u001b[0m\u001b[0m\n\u001b[0m\u001b[0;32m   1659\u001b[0m \u001b[1;33m\u001b[0m\u001b[0m\n\u001b[0;32m   1660\u001b[0m     \u001b[1;32mdef\u001b[0m \u001b[0m_getitem_column\u001b[0m\u001b[1;33m(\u001b[0m\u001b[0mself\u001b[0m\u001b[1;33m,\u001b[0m \u001b[0mkey\u001b[0m\u001b[1;33m)\u001b[0m\u001b[1;33m:\u001b[0m\u001b[1;33m\u001b[0m\u001b[0m\n",
        "\u001b[1;32m/data/projects_gibbons/home/neffra/anaconda2/lib/python2.7/site-packages/pandas/core/frame.pyc\u001b[0m in \u001b[0;36m_getitem_column\u001b[1;34m(self, key)\u001b[0m\n\u001b[0;32m   1663\u001b[0m         \u001b[1;31m# get column\u001b[0m\u001b[1;33m\u001b[0m\u001b[1;33m\u001b[0m\u001b[0m\n\u001b[0;32m   1664\u001b[0m         \u001b[1;32mif\u001b[0m \u001b[0mself\u001b[0m\u001b[1;33m.\u001b[0m\u001b[0mcolumns\u001b[0m\u001b[1;33m.\u001b[0m\u001b[0mis_unique\u001b[0m\u001b[1;33m:\u001b[0m\u001b[1;33m\u001b[0m\u001b[0m\n\u001b[1;32m-> 1665\u001b[1;33m             \u001b[1;32mreturn\u001b[0m \u001b[0mself\u001b[0m\u001b[1;33m.\u001b[0m\u001b[0m_get_item_cache\u001b[0m\u001b[1;33m(\u001b[0m\u001b[0mkey\u001b[0m\u001b[1;33m)\u001b[0m\u001b[1;33m\u001b[0m\u001b[0m\n\u001b[0m\u001b[0;32m   1666\u001b[0m \u001b[1;33m\u001b[0m\u001b[0m\n\u001b[0;32m   1667\u001b[0m         \u001b[1;31m# duplicate columns & possible reduce dimensionaility\u001b[0m\u001b[1;33m\u001b[0m\u001b[1;33m\u001b[0m\u001b[0m\n",
        "\u001b[1;32m/data/projects_gibbons/home/neffra/anaconda2/lib/python2.7/site-packages/pandas/core/generic.pyc\u001b[0m in \u001b[0;36m_get_item_cache\u001b[1;34m(self, item)\u001b[0m\n\u001b[0;32m   1003\u001b[0m         \u001b[0mres\u001b[0m \u001b[1;33m=\u001b[0m \u001b[0mcache\u001b[0m\u001b[1;33m.\u001b[0m\u001b[0mget\u001b[0m\u001b[1;33m(\u001b[0m\u001b[0mitem\u001b[0m\u001b[1;33m)\u001b[0m\u001b[1;33m\u001b[0m\u001b[0m\n\u001b[0;32m   1004\u001b[0m         \u001b[1;32mif\u001b[0m \u001b[0mres\u001b[0m \u001b[1;32mis\u001b[0m \u001b[0mNone\u001b[0m\u001b[1;33m:\u001b[0m\u001b[1;33m\u001b[0m\u001b[0m\n\u001b[1;32m-> 1005\u001b[1;33m             \u001b[0mvalues\u001b[0m \u001b[1;33m=\u001b[0m \u001b[0mself\u001b[0m\u001b[1;33m.\u001b[0m\u001b[0m_data\u001b[0m\u001b[1;33m.\u001b[0m\u001b[0mget\u001b[0m\u001b[1;33m(\u001b[0m\u001b[0mitem\u001b[0m\u001b[1;33m)\u001b[0m\u001b[1;33m\u001b[0m\u001b[0m\n\u001b[0m\u001b[0;32m   1006\u001b[0m             \u001b[0mres\u001b[0m \u001b[1;33m=\u001b[0m \u001b[0mself\u001b[0m\u001b[1;33m.\u001b[0m\u001b[0m_box_item_values\u001b[0m\u001b[1;33m(\u001b[0m\u001b[0mitem\u001b[0m\u001b[1;33m,\u001b[0m \u001b[0mvalues\u001b[0m\u001b[1;33m)\u001b[0m\u001b[1;33m\u001b[0m\u001b[0m\n\u001b[0;32m   1007\u001b[0m             \u001b[0mcache\u001b[0m\u001b[1;33m[\u001b[0m\u001b[0mitem\u001b[0m\u001b[1;33m]\u001b[0m \u001b[1;33m=\u001b[0m \u001b[0mres\u001b[0m\u001b[1;33m\u001b[0m\u001b[0m\n",
        "\u001b[1;32m/data/projects_gibbons/home/neffra/anaconda2/lib/python2.7/site-packages/pandas/core/internals.pyc\u001b[0m in \u001b[0;36mget\u001b[1;34m(self, item)\u001b[0m\n\u001b[0;32m   2871\u001b[0m                 \u001b[1;32mreturn\u001b[0m \u001b[0mself\u001b[0m\u001b[1;33m.\u001b[0m\u001b[0mget_for_nan_indexer\u001b[0m\u001b[1;33m(\u001b[0m\u001b[0mindexer\u001b[0m\u001b[1;33m)\u001b[0m\u001b[1;33m\u001b[0m\u001b[0m\n\u001b[0;32m   2872\u001b[0m \u001b[1;33m\u001b[0m\u001b[0m\n\u001b[1;32m-> 2873\u001b[1;33m             \u001b[0m_\u001b[0m\u001b[1;33m,\u001b[0m \u001b[0mblock\u001b[0m \u001b[1;33m=\u001b[0m \u001b[0mself\u001b[0m\u001b[1;33m.\u001b[0m\u001b[0m_find_block\u001b[0m\u001b[1;33m(\u001b[0m\u001b[0mitem\u001b[0m\u001b[1;33m)\u001b[0m\u001b[1;33m\u001b[0m\u001b[0m\n\u001b[0m\u001b[0;32m   2874\u001b[0m             \u001b[1;32mreturn\u001b[0m \u001b[0mblock\u001b[0m\u001b[1;33m.\u001b[0m\u001b[0mget\u001b[0m\u001b[1;33m(\u001b[0m\u001b[0mitem\u001b[0m\u001b[1;33m)\u001b[0m\u001b[1;33m\u001b[0m\u001b[0m\n\u001b[0;32m   2875\u001b[0m         \u001b[1;32melse\u001b[0m\u001b[1;33m:\u001b[0m\u001b[1;33m\u001b[0m\u001b[0m\n",
        "\u001b[1;32m/data/projects_gibbons/home/neffra/anaconda2/lib/python2.7/site-packages/pandas/core/internals.pyc\u001b[0m in \u001b[0;36m_find_block\u001b[1;34m(self, item)\u001b[0m\n\u001b[0;32m   3183\u001b[0m \u001b[1;33m\u001b[0m\u001b[0m\n\u001b[0;32m   3184\u001b[0m     \u001b[1;32mdef\u001b[0m \u001b[0m_find_block\u001b[0m\u001b[1;33m(\u001b[0m\u001b[0mself\u001b[0m\u001b[1;33m,\u001b[0m \u001b[0mitem\u001b[0m\u001b[1;33m)\u001b[0m\u001b[1;33m:\u001b[0m\u001b[1;33m\u001b[0m\u001b[0m\n\u001b[1;32m-> 3185\u001b[1;33m         \u001b[0mself\u001b[0m\u001b[1;33m.\u001b[0m\u001b[0m_check_have\u001b[0m\u001b[1;33m(\u001b[0m\u001b[0mitem\u001b[0m\u001b[1;33m)\u001b[0m\u001b[1;33m\u001b[0m\u001b[0m\n\u001b[0m\u001b[0;32m   3186\u001b[0m         \u001b[1;32mfor\u001b[0m \u001b[0mi\u001b[0m\u001b[1;33m,\u001b[0m \u001b[0mblock\u001b[0m \u001b[1;32min\u001b[0m \u001b[0menumerate\u001b[0m\u001b[1;33m(\u001b[0m\u001b[0mself\u001b[0m\u001b[1;33m.\u001b[0m\u001b[0mblocks\u001b[0m\u001b[1;33m)\u001b[0m\u001b[1;33m:\u001b[0m\u001b[1;33m\u001b[0m\u001b[0m\n\u001b[0;32m   3187\u001b[0m             \u001b[1;32mif\u001b[0m \u001b[0mitem\u001b[0m \u001b[1;32min\u001b[0m \u001b[0mblock\u001b[0m\u001b[1;33m:\u001b[0m\u001b[1;33m\u001b[0m\u001b[0m\n",
        "\u001b[1;32m/data/projects_gibbons/home/neffra/anaconda2/lib/python2.7/site-packages/pandas/core/internals.pyc\u001b[0m in \u001b[0;36m_check_have\u001b[1;34m(self, item)\u001b[0m\n\u001b[0;32m   3190\u001b[0m     \u001b[1;32mdef\u001b[0m \u001b[0m_check_have\u001b[0m\u001b[1;33m(\u001b[0m\u001b[0mself\u001b[0m\u001b[1;33m,\u001b[0m \u001b[0mitem\u001b[0m\u001b[1;33m)\u001b[0m\u001b[1;33m:\u001b[0m\u001b[1;33m\u001b[0m\u001b[0m\n\u001b[0;32m   3191\u001b[0m         \u001b[1;32mif\u001b[0m \u001b[0mitem\u001b[0m \u001b[1;32mnot\u001b[0m \u001b[1;32min\u001b[0m \u001b[0mself\u001b[0m\u001b[1;33m.\u001b[0m\u001b[0mitems\u001b[0m\u001b[1;33m:\u001b[0m\u001b[1;33m\u001b[0m\u001b[0m\n\u001b[1;32m-> 3192\u001b[1;33m             \u001b[1;32mraise\u001b[0m \u001b[0mKeyError\u001b[0m\u001b[1;33m(\u001b[0m\u001b[1;34m'no item named %s'\u001b[0m \u001b[1;33m%\u001b[0m \u001b[0mcom\u001b[0m\u001b[1;33m.\u001b[0m\u001b[0mpprint_thing\u001b[0m\u001b[1;33m(\u001b[0m\u001b[0mitem\u001b[0m\u001b[1;33m)\u001b[0m\u001b[1;33m)\u001b[0m\u001b[1;33m\u001b[0m\u001b[0m\n\u001b[0m\u001b[0;32m   3193\u001b[0m \u001b[1;33m\u001b[0m\u001b[0m\n\u001b[0;32m   3194\u001b[0m     def reindex_axis(self, new_axis, indexer=None, method=None, axis=0,\n",
        "\u001b[1;31mKeyError\u001b[0m: u'no item named 1'"
       ]
      }
     ],
     "prompt_number": 13
    },
    {
     "cell_type": "code",
     "collapsed": false,
     "input": [
      "%debug"
     ],
     "language": "python",
     "metadata": {},
     "outputs": [
      {
       "output_type": "stream",
       "stream": "stdout",
       "text": [
        "> \u001b[1;32m/data/projects_gibbons/home/neffra/anaconda2/lib/python2.7/site-packages/pandas/core/internals.py\u001b[0m(3192)\u001b[0;36m_check_have\u001b[1;34m()\u001b[0m\n",
        "\u001b[1;32m   3191 \u001b[1;33m        \u001b[1;32mif\u001b[0m \u001b[0mitem\u001b[0m \u001b[1;32mnot\u001b[0m \u001b[1;32min\u001b[0m \u001b[0mself\u001b[0m\u001b[1;33m.\u001b[0m\u001b[0mitems\u001b[0m\u001b[1;33m:\u001b[0m\u001b[1;33m\u001b[0m\u001b[0m\n",
        "\u001b[0m\u001b[1;32m-> 3192 \u001b[1;33m            \u001b[1;32mraise\u001b[0m \u001b[0mKeyError\u001b[0m\u001b[1;33m(\u001b[0m\u001b[1;34m'no item named %s'\u001b[0m \u001b[1;33m%\u001b[0m \u001b[0mcom\u001b[0m\u001b[1;33m.\u001b[0m\u001b[0mpprint_thing\u001b[0m\u001b[1;33m(\u001b[0m\u001b[0mitem\u001b[0m\u001b[1;33m)\u001b[0m\u001b[1;33m)\u001b[0m\u001b[1;33m\u001b[0m\u001b[0m\n",
        "\u001b[0m\u001b[1;32m   3193 \u001b[1;33m\u001b[1;33m\u001b[0m\u001b[0m\n",
        "\u001b[0m\n"
       ]
      },
      {
       "name": "stdout",
       "output_type": "stream",
       "stream": "stdout",
       "text": [
        "ipdb> len(outarr)\n"
       ]
      },
      {
       "output_type": "stream",
       "stream": "stdout",
       "text": [
        " *** NameError: name 'outarr' is not defined\n"
       ]
      }
     ],
     "prompt_number": "*"
    },
    {
     "cell_type": "code",
     "collapsed": false,
     "input": [
      "%time lift_master(1400000, liftover, 'chr2', False)"
     ],
     "language": "python",
     "metadata": {},
     "outputs": [
      {
       "output_type": "stream",
       "stream": "stdout",
       "text": [
        "CPU times: user 0 ns, sys: 0 ns, total: 0 ns\n",
        "Wall time: 18.1 \u00b5s\n"
       ]
      },
      {
       "metadata": {},
       "output_type": "pyout",
       "prompt_number": 147,
       "text": [
        "1399969"
       ]
      }
     ],
     "prompt_number": 147
    },
    {
     "cell_type": "code",
     "collapsed": false,
     "input": [
      "colnames=['chain','score','ref_chr','ref_len','ref_misc','ref_start','ref_end',\n",
      "              'alt_chr','alt_len','alt_misc','alt_start','alt_end']\n",
      "liftover = pd.read_csv(liftover_file,sep='\\t',header=None, \n",
      "                       names=colnames)\n",
      "liftover.set_index(['ref_chr', 'ref_start', 'ref_end'], inplace=True)"
     ],
     "language": "python",
     "metadata": {},
     "outputs": [],
     "prompt_number": 28
    },
    {
     "cell_type": "code",
     "collapsed": false,
     "input": [
      "liftover"
     ],
     "language": "python",
     "metadata": {},
     "outputs": [
      {
       "html": [
        "<div style=\"max-height:1000px;max-width:1500px;overflow:auto;\">\n",
        "<table border=\"1\" class=\"dataframe\">\n",
        "  <thead>\n",
        "    <tr style=\"text-align: right;\">\n",
        "      <th></th>\n",
        "      <th>chain</th>\n",
        "      <th>score</th>\n",
        "      <th>ref_chr</th>\n",
        "      <th>ref_len</th>\n",
        "      <th>ref_misc</th>\n",
        "      <th>ref_start</th>\n",
        "      <th>ref_end</th>\n",
        "      <th>alt_chr</th>\n",
        "      <th>alt_len</th>\n",
        "      <th>alt_misc</th>\n",
        "      <th>alt_start</th>\n",
        "      <th>alt_end</th>\n",
        "    </tr>\n",
        "  </thead>\n",
        "  <tbody>\n",
        "    <tr>\n",
        "      <th>0 </th>\n",
        "      <td> chain</td>\n",
        "      <td> 4900</td>\n",
        "      <td> chr1</td>\n",
        "      <td> 249250621</td>\n",
        "      <td> .</td>\n",
        "      <td>       1</td>\n",
        "      <td>  811670</td>\n",
        "      <td> chr1</td>\n",
        "      <td> 249172906</td>\n",
        "      <td> .</td>\n",
        "      <td>       1</td>\n",
        "      <td>  811660</td>\n",
        "    </tr>\n",
        "    <tr>\n",
        "      <th>1 </th>\n",
        "      <td> chain</td>\n",
        "      <td> 4900</td>\n",
        "      <td> chr1</td>\n",
        "      <td> 249250621</td>\n",
        "      <td> .</td>\n",
        "      <td>  811670</td>\n",
        "      <td>  904757</td>\n",
        "      <td> chr1</td>\n",
        "      <td> 249172906</td>\n",
        "      <td> .</td>\n",
        "      <td>  811660</td>\n",
        "      <td>  904749</td>\n",
        "    </tr>\n",
        "    <tr>\n",
        "      <th>2 </th>\n",
        "      <td> chain</td>\n",
        "      <td> 4900</td>\n",
        "      <td> chr1</td>\n",
        "      <td> 249250621</td>\n",
        "      <td> .</td>\n",
        "      <td>  904757</td>\n",
        "      <td> 1092688</td>\n",
        "      <td> chr1</td>\n",
        "      <td> 249172906</td>\n",
        "      <td> .</td>\n",
        "      <td>  904749</td>\n",
        "      <td> 1092681</td>\n",
        "    </tr>\n",
        "    <tr>\n",
        "      <th>3 </th>\n",
        "      <td> chain</td>\n",
        "      <td> 4900</td>\n",
        "      <td> chr1</td>\n",
        "      <td> 249250621</td>\n",
        "      <td> .</td>\n",
        "      <td> 1092689</td>\n",
        "      <td> 1103690</td>\n",
        "      <td> chr1</td>\n",
        "      <td> 249172906</td>\n",
        "      <td> .</td>\n",
        "      <td> 1092662</td>\n",
        "      <td> 1103665</td>\n",
        "    </tr>\n",
        "    <tr>\n",
        "      <th>4 </th>\n",
        "      <td> chain</td>\n",
        "      <td> 4900</td>\n",
        "      <td> chr1</td>\n",
        "      <td> 249250621</td>\n",
        "      <td> .</td>\n",
        "      <td> 1103690</td>\n",
        "      <td> 1233112</td>\n",
        "      <td> chr1</td>\n",
        "      <td> 249172906</td>\n",
        "      <td> .</td>\n",
        "      <td> 1103665</td>\n",
        "      <td> 1233085</td>\n",
        "    </tr>\n",
        "    <tr>\n",
        "      <th>5 </th>\n",
        "      <td> chain</td>\n",
        "      <td> 4900</td>\n",
        "      <td> chr1</td>\n",
        "      <td> 249250621</td>\n",
        "      <td> .</td>\n",
        "      <td> 1233112</td>\n",
        "      <td> 1276973</td>\n",
        "      <td> chr1</td>\n",
        "      <td> 249172906</td>\n",
        "      <td> .</td>\n",
        "      <td> 1233085</td>\n",
        "      <td> 1276950</td>\n",
        "    </tr>\n",
        "    <tr>\n",
        "      <th>6 </th>\n",
        "      <td> chain</td>\n",
        "      <td> 4900</td>\n",
        "      <td> chr1</td>\n",
        "      <td> 249250621</td>\n",
        "      <td> .</td>\n",
        "      <td> 1276973</td>\n",
        "      <td> 1291159</td>\n",
        "      <td> chr1</td>\n",
        "      <td> 249172906</td>\n",
        "      <td> .</td>\n",
        "      <td> 1276950</td>\n",
        "      <td> 1291135</td>\n",
        "    </tr>\n",
        "    <tr>\n",
        "      <th>7 </th>\n",
        "      <td> chain</td>\n",
        "      <td> 4900</td>\n",
        "      <td> chr1</td>\n",
        "      <td> 249250621</td>\n",
        "      <td> .</td>\n",
        "      <td> 1291159</td>\n",
        "      <td> 1301199</td>\n",
        "      <td> chr1</td>\n",
        "      <td> 249172906</td>\n",
        "      <td> .</td>\n",
        "      <td> 1291135</td>\n",
        "      <td> 1301174</td>\n",
        "    </tr>\n",
        "    <tr>\n",
        "      <th>8 </th>\n",
        "      <td> chain</td>\n",
        "      <td> 4900</td>\n",
        "      <td> chr1</td>\n",
        "      <td> 249250621</td>\n",
        "      <td> .</td>\n",
        "      <td> 1301199</td>\n",
        "      <td> 1302672</td>\n",
        "      <td> chr1</td>\n",
        "      <td> 249172906</td>\n",
        "      <td> .</td>\n",
        "      <td> 1301174</td>\n",
        "      <td> 1302649</td>\n",
        "    </tr>\n",
        "    <tr>\n",
        "      <th>9 </th>\n",
        "      <td> chain</td>\n",
        "      <td> 4900</td>\n",
        "      <td> chr1</td>\n",
        "      <td> 249250621</td>\n",
        "      <td> .</td>\n",
        "      <td> 1302672</td>\n",
        "      <td> 1366406</td>\n",
        "      <td> chr1</td>\n",
        "      <td> 249172906</td>\n",
        "      <td> .</td>\n",
        "      <td> 1302649</td>\n",
        "      <td> 1366375</td>\n",
        "    </tr>\n",
        "    <tr>\n",
        "      <th>10</th>\n",
        "      <td> chain</td>\n",
        "      <td> 4900</td>\n",
        "      <td> chr1</td>\n",
        "      <td> 249250621</td>\n",
        "      <td> .</td>\n",
        "      <td> 1366406</td>\n",
        "      <td> 1546949</td>\n",
        "      <td> chr1</td>\n",
        "      <td> 249172906</td>\n",
        "      <td> .</td>\n",
        "      <td> 1366375</td>\n",
        "      <td> 1546917</td>\n",
        "    </tr>\n",
        "    <tr>\n",
        "      <th>11</th>\n",
        "      <td> chain</td>\n",
        "      <td> 4900</td>\n",
        "      <td> chr1</td>\n",
        "      <td> 249250621</td>\n",
        "      <td> .</td>\n",
        "      <td> 1546949</td>\n",
        "      <td> 1566067</td>\n",
        "      <td> chr1</td>\n",
        "      <td> 249172906</td>\n",
        "      <td> .</td>\n",
        "      <td> 1546917</td>\n",
        "      <td> 1566034</td>\n",
        "    </tr>\n",
        "    <tr>\n",
        "      <th>12</th>\n",
        "      <td> chain</td>\n",
        "      <td> 4900</td>\n",
        "      <td> chr1</td>\n",
        "      <td> 249250621</td>\n",
        "      <td> .</td>\n",
        "      <td> 1566067</td>\n",
        "      <td> 1648339</td>\n",
        "      <td> chr1</td>\n",
        "      <td> 249172906</td>\n",
        "      <td> .</td>\n",
        "      <td> 1566034</td>\n",
        "      <td> 1648312</td>\n",
        "    </tr>\n",
        "    <tr>\n",
        "      <th>13</th>\n",
        "      <td> chain</td>\n",
        "      <td> 4900</td>\n",
        "      <td> chr1</td>\n",
        "      <td> 249250621</td>\n",
        "      <td> .</td>\n",
        "      <td> 1648339</td>\n",
        "      <td> 1702495</td>\n",
        "      <td> chr1</td>\n",
        "      <td> 249172906</td>\n",
        "      <td> .</td>\n",
        "      <td> 1648312</td>\n",
        "      <td> 1702467</td>\n",
        "    </tr>\n",
        "    <tr>\n",
        "      <th>14</th>\n",
        "      <td> chain</td>\n",
        "      <td> 4900</td>\n",
        "      <td> chr1</td>\n",
        "      <td> 249250621</td>\n",
        "      <td> .</td>\n",
        "      <td> 1702495</td>\n",
        "      <td> 1704797</td>\n",
        "      <td> chr1</td>\n",
        "      <td> 249172906</td>\n",
        "      <td> .</td>\n",
        "      <td> 1702467</td>\n",
        "      <td> 1704768</td>\n",
        "    </tr>\n",
        "    <tr>\n",
        "      <th>15</th>\n",
        "      <td> chain</td>\n",
        "      <td> 4900</td>\n",
        "      <td> chr1</td>\n",
        "      <td> 249250621</td>\n",
        "      <td> .</td>\n",
        "      <td> 1704797</td>\n",
        "      <td> 1735421</td>\n",
        "      <td> chr1</td>\n",
        "      <td> 249172906</td>\n",
        "      <td> .</td>\n",
        "      <td> 1704768</td>\n",
        "      <td> 1735393</td>\n",
        "    </tr>\n",
        "    <tr>\n",
        "      <th>16</th>\n",
        "      <td> chain</td>\n",
        "      <td> 4900</td>\n",
        "      <td> chr1</td>\n",
        "      <td> 249250621</td>\n",
        "      <td> .</td>\n",
        "      <td> 1735421</td>\n",
        "      <td> 1807276</td>\n",
        "      <td> chr1</td>\n",
        "      <td> 249172906</td>\n",
        "      <td> .</td>\n",
        "      <td> 1735393</td>\n",
        "      <td> 1807247</td>\n",
        "    </tr>\n",
        "    <tr>\n",
        "      <th>17</th>\n",
        "      <td> chain</td>\n",
        "      <td> 4900</td>\n",
        "      <td> chr1</td>\n",
        "      <td> 249250621</td>\n",
        "      <td> .</td>\n",
        "      <td> 1807276</td>\n",
        "      <td> 1853615</td>\n",
        "      <td> chr1</td>\n",
        "      <td> 249172906</td>\n",
        "      <td> .</td>\n",
        "      <td> 1807247</td>\n",
        "      <td> 1853590</td>\n",
        "    </tr>\n",
        "    <tr>\n",
        "      <th>18</th>\n",
        "      <td> chain</td>\n",
        "      <td> 4900</td>\n",
        "      <td> chr1</td>\n",
        "      <td> 249250621</td>\n",
        "      <td> .</td>\n",
        "      <td> 1853615</td>\n",
        "      <td> 1853617</td>\n",
        "      <td> chr1</td>\n",
        "      <td> 249172906</td>\n",
        "      <td> .</td>\n",
        "      <td> 1853590</td>\n",
        "      <td> 1853596</td>\n",
        "    </tr>\n",
        "    <tr>\n",
        "      <th>19</th>\n",
        "      <td> chain</td>\n",
        "      <td> 4900</td>\n",
        "      <td> chr1</td>\n",
        "      <td> 249250621</td>\n",
        "      <td> .</td>\n",
        "      <td> 1853617</td>\n",
        "      <td> 2101933</td>\n",
        "      <td> chr1</td>\n",
        "      <td> 249172906</td>\n",
        "      <td> .</td>\n",
        "      <td> 1853596</td>\n",
        "      <td> 2101916</td>\n",
        "    </tr>\n",
        "    <tr>\n",
        "      <th>20</th>\n",
        "      <td> chain</td>\n",
        "      <td> 4900</td>\n",
        "      <td> chr1</td>\n",
        "      <td> 249250621</td>\n",
        "      <td> .</td>\n",
        "      <td> 2101933</td>\n",
        "      <td> 2243616</td>\n",
        "      <td> chr1</td>\n",
        "      <td> 249172906</td>\n",
        "      <td> .</td>\n",
        "      <td> 2101916</td>\n",
        "      <td> 2243604</td>\n",
        "    </tr>\n",
        "    <tr>\n",
        "      <th>21</th>\n",
        "      <td> chain</td>\n",
        "      <td> 4900</td>\n",
        "      <td> chr1</td>\n",
        "      <td> 249250621</td>\n",
        "      <td> .</td>\n",
        "      <td> 2243616</td>\n",
        "      <td> 2256415</td>\n",
        "      <td> chr1</td>\n",
        "      <td> 249172906</td>\n",
        "      <td> .</td>\n",
        "      <td> 2243604</td>\n",
        "      <td> 2256406</td>\n",
        "    </tr>\n",
        "    <tr>\n",
        "      <th>22</th>\n",
        "      <td> chain</td>\n",
        "      <td> 4900</td>\n",
        "      <td> chr1</td>\n",
        "      <td> 249250621</td>\n",
        "      <td> .</td>\n",
        "      <td> 2256415</td>\n",
        "      <td> 2269082</td>\n",
        "      <td> chr1</td>\n",
        "      <td> 249172906</td>\n",
        "      <td> .</td>\n",
        "      <td> 2256406</td>\n",
        "      <td> 2269071</td>\n",
        "    </tr>\n",
        "    <tr>\n",
        "      <th>23</th>\n",
        "      <td> chain</td>\n",
        "      <td> 4900</td>\n",
        "      <td> chr1</td>\n",
        "      <td> 249250621</td>\n",
        "      <td> .</td>\n",
        "      <td> 2269082</td>\n",
        "      <td> 2347840</td>\n",
        "      <td> chr1</td>\n",
        "      <td> 249172906</td>\n",
        "      <td> .</td>\n",
        "      <td> 2269071</td>\n",
        "      <td> 2347834</td>\n",
        "    </tr>\n",
        "    <tr>\n",
        "      <th>24</th>\n",
        "      <td> chain</td>\n",
        "      <td> 4900</td>\n",
        "      <td> chr1</td>\n",
        "      <td> 249250621</td>\n",
        "      <td> .</td>\n",
        "      <td> 2347840</td>\n",
        "      <td> 2351410</td>\n",
        "      <td> chr1</td>\n",
        "      <td> 249172906</td>\n",
        "      <td> .</td>\n",
        "      <td> 2347834</td>\n",
        "      <td> 2351403</td>\n",
        "    </tr>\n",
        "    <tr>\n",
        "      <th>25</th>\n",
        "      <td> chain</td>\n",
        "      <td> 4900</td>\n",
        "      <td> chr1</td>\n",
        "      <td> 249250621</td>\n",
        "      <td> .</td>\n",
        "      <td> 2351410</td>\n",
        "      <td> 2362586</td>\n",
        "      <td> chr1</td>\n",
        "      <td> 249172906</td>\n",
        "      <td> .</td>\n",
        "      <td> 2351403</td>\n",
        "      <td> 2362577</td>\n",
        "    </tr>\n",
        "    <tr>\n",
        "      <th>26</th>\n",
        "      <td> chain</td>\n",
        "      <td> 4900</td>\n",
        "      <td> chr1</td>\n",
        "      <td> 249250621</td>\n",
        "      <td> .</td>\n",
        "      <td> 2362586</td>\n",
        "      <td> 2776003</td>\n",
        "      <td> chr1</td>\n",
        "      <td> 249172906</td>\n",
        "      <td> .</td>\n",
        "      <td> 2362577</td>\n",
        "      <td> 2775995</td>\n",
        "    </tr>\n",
        "    <tr>\n",
        "      <th>27</th>\n",
        "      <td> chain</td>\n",
        "      <td> 4900</td>\n",
        "      <td> chr1</td>\n",
        "      <td> 249250621</td>\n",
        "      <td> .</td>\n",
        "      <td> 2776003</td>\n",
        "      <td> 2789572</td>\n",
        "      <td> chr1</td>\n",
        "      <td> 249172906</td>\n",
        "      <td> .</td>\n",
        "      <td> 2775995</td>\n",
        "      <td> 2789563</td>\n",
        "    </tr>\n",
        "    <tr>\n",
        "      <th>28</th>\n",
        "      <td> chain</td>\n",
        "      <td> 4900</td>\n",
        "      <td> chr1</td>\n",
        "      <td> 249250621</td>\n",
        "      <td> .</td>\n",
        "      <td> 2789572</td>\n",
        "      <td> 2886951</td>\n",
        "      <td> chr1</td>\n",
        "      <td> 249172906</td>\n",
        "      <td> .</td>\n",
        "      <td> 2789563</td>\n",
        "      <td> 2886943</td>\n",
        "    </tr>\n",
        "    <tr>\n",
        "      <th>29</th>\n",
        "      <td> chain</td>\n",
        "      <td> 4900</td>\n",
        "      <td> chr1</td>\n",
        "      <td> 249250621</td>\n",
        "      <td> .</td>\n",
        "      <td> 2886951</td>\n",
        "      <td> 2886954</td>\n",
        "      <td> chr1</td>\n",
        "      <td> 249172906</td>\n",
        "      <td> .</td>\n",
        "      <td> 2886943</td>\n",
        "      <td> 2886947</td>\n",
        "    </tr>\n",
        "    <tr>\n",
        "      <th>30</th>\n",
        "      <td> chain</td>\n",
        "      <td> 4900</td>\n",
        "      <td> chr1</td>\n",
        "      <td> 249250621</td>\n",
        "      <td> .</td>\n",
        "      <td> 2886954</td>\n",
        "      <td> 3002692</td>\n",
        "      <td> chr1</td>\n",
        "      <td> 249172906</td>\n",
        "      <td> .</td>\n",
        "      <td> 2886947</td>\n",
        "      <td> 3002689</td>\n",
        "    </tr>\n",
        "    <tr>\n",
        "      <th>31</th>\n",
        "      <td> chain</td>\n",
        "      <td> 4900</td>\n",
        "      <td> chr1</td>\n",
        "      <td> 249250621</td>\n",
        "      <td> .</td>\n",
        "      <td> 3002692</td>\n",
        "      <td> 3008886</td>\n",
        "      <td> chr1</td>\n",
        "      <td> 249172906</td>\n",
        "      <td> .</td>\n",
        "      <td> 3002689</td>\n",
        "      <td> 3008873</td>\n",
        "    </tr>\n",
        "    <tr>\n",
        "      <th>32</th>\n",
        "      <td> chain</td>\n",
        "      <td> 4900</td>\n",
        "      <td> chr1</td>\n",
        "      <td> 249250621</td>\n",
        "      <td> .</td>\n",
        "      <td> 3008886</td>\n",
        "      <td> 3142135</td>\n",
        "      <td> chr1</td>\n",
        "      <td> 249172906</td>\n",
        "      <td> .</td>\n",
        "      <td> 3008873</td>\n",
        "      <td> 3142118</td>\n",
        "    </tr>\n",
        "    <tr>\n",
        "      <th>33</th>\n",
        "      <td> chain</td>\n",
        "      <td> 4900</td>\n",
        "      <td> chr1</td>\n",
        "      <td> 249250621</td>\n",
        "      <td> .</td>\n",
        "      <td> 3142135</td>\n",
        "      <td> 3156620</td>\n",
        "      <td> chr1</td>\n",
        "      <td> 249172906</td>\n",
        "      <td> .</td>\n",
        "      <td> 3142118</td>\n",
        "      <td> 3156593</td>\n",
        "    </tr>\n",
        "    <tr>\n",
        "      <th>34</th>\n",
        "      <td> chain</td>\n",
        "      <td> 4900</td>\n",
        "      <td> chr1</td>\n",
        "      <td> 249250621</td>\n",
        "      <td> .</td>\n",
        "      <td> 3156620</td>\n",
        "      <td> 3159942</td>\n",
        "      <td> chr1</td>\n",
        "      <td> 249172906</td>\n",
        "      <td> .</td>\n",
        "      <td> 3156593</td>\n",
        "      <td> 3159914</td>\n",
        "    </tr>\n",
        "    <tr>\n",
        "      <th>35</th>\n",
        "      <td> chain</td>\n",
        "      <td> 4900</td>\n",
        "      <td> chr1</td>\n",
        "      <td> 249250621</td>\n",
        "      <td> .</td>\n",
        "      <td> 3159942</td>\n",
        "      <td> 3174158</td>\n",
        "      <td> chr1</td>\n",
        "      <td> 249172906</td>\n",
        "      <td> .</td>\n",
        "      <td> 3159914</td>\n",
        "      <td> 3174129</td>\n",
        "    </tr>\n",
        "    <tr>\n",
        "      <th>36</th>\n",
        "      <td> chain</td>\n",
        "      <td> 4900</td>\n",
        "      <td> chr1</td>\n",
        "      <td> 249250621</td>\n",
        "      <td> .</td>\n",
        "      <td> 3174158</td>\n",
        "      <td> 3196439</td>\n",
        "      <td> chr1</td>\n",
        "      <td> 249172906</td>\n",
        "      <td> .</td>\n",
        "      <td> 3174129</td>\n",
        "      <td> 3196409</td>\n",
        "    </tr>\n",
        "    <tr>\n",
        "      <th>37</th>\n",
        "      <td> chain</td>\n",
        "      <td> 4900</td>\n",
        "      <td> chr1</td>\n",
        "      <td> 249250621</td>\n",
        "      <td> .</td>\n",
        "      <td> 3196439</td>\n",
        "      <td> 3310927</td>\n",
        "      <td> chr1</td>\n",
        "      <td> 249172906</td>\n",
        "      <td> .</td>\n",
        "      <td> 3196409</td>\n",
        "      <td> 3310899</td>\n",
        "    </tr>\n",
        "    <tr>\n",
        "      <th>38</th>\n",
        "      <td> chain</td>\n",
        "      <td> 4900</td>\n",
        "      <td> chr1</td>\n",
        "      <td> 249250621</td>\n",
        "      <td> .</td>\n",
        "      <td> 3310927</td>\n",
        "      <td> 3310928</td>\n",
        "      <td> chr1</td>\n",
        "      <td> 249172906</td>\n",
        "      <td> .</td>\n",
        "      <td> 3310899</td>\n",
        "      <td> 3310902</td>\n",
        "    </tr>\n",
        "    <tr>\n",
        "      <th>39</th>\n",
        "      <td> chain</td>\n",
        "      <td> 4900</td>\n",
        "      <td> chr1</td>\n",
        "      <td> 249250621</td>\n",
        "      <td> .</td>\n",
        "      <td> 3310928</td>\n",
        "      <td> 3357238</td>\n",
        "      <td> chr1</td>\n",
        "      <td> 249172906</td>\n",
        "      <td> .</td>\n",
        "      <td> 3310902</td>\n",
        "      <td> 3357213</td>\n",
        "    </tr>\n",
        "    <tr>\n",
        "      <th>40</th>\n",
        "      <td> chain</td>\n",
        "      <td> 4900</td>\n",
        "      <td> chr1</td>\n",
        "      <td> 249250621</td>\n",
        "      <td> .</td>\n",
        "      <td> 3357238</td>\n",
        "      <td> 3358268</td>\n",
        "      <td> chr1</td>\n",
        "      <td> 249172906</td>\n",
        "      <td> .</td>\n",
        "      <td> 3357213</td>\n",
        "      <td> 3358244</td>\n",
        "    </tr>\n",
        "    <tr>\n",
        "      <th>41</th>\n",
        "      <td> chain</td>\n",
        "      <td> 4900</td>\n",
        "      <td> chr1</td>\n",
        "      <td> 249250621</td>\n",
        "      <td> .</td>\n",
        "      <td> 3358268</td>\n",
        "      <td> 3358269</td>\n",
        "      <td> chr1</td>\n",
        "      <td> 249172906</td>\n",
        "      <td> .</td>\n",
        "      <td> 3358244</td>\n",
        "      <td> 3358246</td>\n",
        "    </tr>\n",
        "    <tr>\n",
        "      <th>42</th>\n",
        "      <td> chain</td>\n",
        "      <td> 4900</td>\n",
        "      <td> chr1</td>\n",
        "      <td> 249250621</td>\n",
        "      <td> .</td>\n",
        "      <td> 3358269</td>\n",
        "      <td> 3403743</td>\n",
        "      <td> chr1</td>\n",
        "      <td> 249172906</td>\n",
        "      <td> .</td>\n",
        "      <td> 3358246</td>\n",
        "      <td> 3403718</td>\n",
        "    </tr>\n",
        "    <tr>\n",
        "      <th>43</th>\n",
        "      <td> chain</td>\n",
        "      <td> 4900</td>\n",
        "      <td> chr1</td>\n",
        "      <td> 249250621</td>\n",
        "      <td> .</td>\n",
        "      <td> 3403743</td>\n",
        "      <td> 3527075</td>\n",
        "      <td> chr1</td>\n",
        "      <td> 249172906</td>\n",
        "      <td> .</td>\n",
        "      <td> 3403718</td>\n",
        "      <td> 3527052</td>\n",
        "    </tr>\n",
        "    <tr>\n",
        "      <th>44</th>\n",
        "      <td> chain</td>\n",
        "      <td> 4900</td>\n",
        "      <td> chr1</td>\n",
        "      <td> 249250621</td>\n",
        "      <td> .</td>\n",
        "      <td> 3527075</td>\n",
        "      <td> 3527076</td>\n",
        "      <td> chr1</td>\n",
        "      <td> 249172906</td>\n",
        "      <td> .</td>\n",
        "      <td> 3527052</td>\n",
        "      <td> 3527055</td>\n",
        "    </tr>\n",
        "    <tr>\n",
        "      <th>45</th>\n",
        "      <td> chain</td>\n",
        "      <td> 4900</td>\n",
        "      <td> chr1</td>\n",
        "      <td> 249250621</td>\n",
        "      <td> .</td>\n",
        "      <td> 3527076</td>\n",
        "      <td> 3545175</td>\n",
        "      <td> chr1</td>\n",
        "      <td> 249172906</td>\n",
        "      <td> .</td>\n",
        "      <td> 3527055</td>\n",
        "      <td> 3545135</td>\n",
        "    </tr>\n",
        "    <tr>\n",
        "      <th>46</th>\n",
        "      <td> chain</td>\n",
        "      <td> 4900</td>\n",
        "      <td> chr1</td>\n",
        "      <td> 249250621</td>\n",
        "      <td> .</td>\n",
        "      <td> 3545175</td>\n",
        "      <td> 3693132</td>\n",
        "      <td> chr1</td>\n",
        "      <td> 249172906</td>\n",
        "      <td> .</td>\n",
        "      <td> 3545135</td>\n",
        "      <td> 3693091</td>\n",
        "    </tr>\n",
        "    <tr>\n",
        "      <th>47</th>\n",
        "      <td> chain</td>\n",
        "      <td> 4900</td>\n",
        "      <td> chr1</td>\n",
        "      <td> 249250621</td>\n",
        "      <td> .</td>\n",
        "      <td> 3693132</td>\n",
        "      <td> 3707456</td>\n",
        "      <td> chr1</td>\n",
        "      <td> 249172906</td>\n",
        "      <td> .</td>\n",
        "      <td> 3693091</td>\n",
        "      <td> 3707416</td>\n",
        "    </tr>\n",
        "    <tr>\n",
        "      <th>48</th>\n",
        "      <td> chain</td>\n",
        "      <td> 4900</td>\n",
        "      <td> chr1</td>\n",
        "      <td> 249250621</td>\n",
        "      <td> .</td>\n",
        "      <td> 3707456</td>\n",
        "      <td> 3743433</td>\n",
        "      <td> chr1</td>\n",
        "      <td> 249172906</td>\n",
        "      <td> .</td>\n",
        "      <td> 3707416</td>\n",
        "      <td> 3743394</td>\n",
        "    </tr>\n",
        "    <tr>\n",
        "      <th>49</th>\n",
        "      <td> chain</td>\n",
        "      <td> 4900</td>\n",
        "      <td> chr1</td>\n",
        "      <td> 249250621</td>\n",
        "      <td> .</td>\n",
        "      <td> 3743433</td>\n",
        "      <td> 3761273</td>\n",
        "      <td> chr1</td>\n",
        "      <td> 249172906</td>\n",
        "      <td> .</td>\n",
        "      <td> 3743394</td>\n",
        "      <td> 3761235</td>\n",
        "    </tr>\n",
        "    <tr>\n",
        "      <th>50</th>\n",
        "      <td> chain</td>\n",
        "      <td> 4900</td>\n",
        "      <td> chr1</td>\n",
        "      <td> 249250621</td>\n",
        "      <td> .</td>\n",
        "      <td> 3761273</td>\n",
        "      <td> 3825021</td>\n",
        "      <td> chr1</td>\n",
        "      <td> 249172906</td>\n",
        "      <td> .</td>\n",
        "      <td> 3761235</td>\n",
        "      <td> 3824977</td>\n",
        "    </tr>\n",
        "    <tr>\n",
        "      <th>51</th>\n",
        "      <td> chain</td>\n",
        "      <td> 4900</td>\n",
        "      <td> chr1</td>\n",
        "      <td> 249250621</td>\n",
        "      <td> .</td>\n",
        "      <td> 3825021</td>\n",
        "      <td> 4045915</td>\n",
        "      <td> chr1</td>\n",
        "      <td> 249172906</td>\n",
        "      <td> .</td>\n",
        "      <td> 3824977</td>\n",
        "      <td> 4045869</td>\n",
        "    </tr>\n",
        "    <tr>\n",
        "      <th>52</th>\n",
        "      <td> chain</td>\n",
        "      <td> 4900</td>\n",
        "      <td> chr1</td>\n",
        "      <td> 249250621</td>\n",
        "      <td> .</td>\n",
        "      <td> 4045915</td>\n",
        "      <td> 4045937</td>\n",
        "      <td> chr1</td>\n",
        "      <td> 249172906</td>\n",
        "      <td> .</td>\n",
        "      <td> 4045869</td>\n",
        "      <td> 4045890</td>\n",
        "    </tr>\n",
        "    <tr>\n",
        "      <th>53</th>\n",
        "      <td> chain</td>\n",
        "      <td> 4900</td>\n",
        "      <td> chr1</td>\n",
        "      <td> 249250621</td>\n",
        "      <td> .</td>\n",
        "      <td> 4045937</td>\n",
        "      <td> 4156883</td>\n",
        "      <td> chr1</td>\n",
        "      <td> 249172906</td>\n",
        "      <td> .</td>\n",
        "      <td> 4045890</td>\n",
        "      <td> 4156835</td>\n",
        "    </tr>\n",
        "    <tr>\n",
        "      <th>54</th>\n",
        "      <td> chain</td>\n",
        "      <td> 4900</td>\n",
        "      <td> chr1</td>\n",
        "      <td> 249250621</td>\n",
        "      <td> .</td>\n",
        "      <td> 4156883</td>\n",
        "      <td> 4198042</td>\n",
        "      <td> chr1</td>\n",
        "      <td> 249172906</td>\n",
        "      <td> .</td>\n",
        "      <td> 4156835</td>\n",
        "      <td> 4197997</td>\n",
        "    </tr>\n",
        "    <tr>\n",
        "      <th>55</th>\n",
        "      <td> chain</td>\n",
        "      <td> 4900</td>\n",
        "      <td> chr1</td>\n",
        "      <td> 249250621</td>\n",
        "      <td> .</td>\n",
        "      <td> 4198042</td>\n",
        "      <td> 4222749</td>\n",
        "      <td> chr1</td>\n",
        "      <td> 249172906</td>\n",
        "      <td> .</td>\n",
        "      <td> 4197997</td>\n",
        "      <td> 4222705</td>\n",
        "    </tr>\n",
        "    <tr>\n",
        "      <th>56</th>\n",
        "      <td> chain</td>\n",
        "      <td> 4900</td>\n",
        "      <td> chr1</td>\n",
        "      <td> 249250621</td>\n",
        "      <td> .</td>\n",
        "      <td> 4222749</td>\n",
        "      <td> 4222751</td>\n",
        "      <td> chr1</td>\n",
        "      <td> 249172906</td>\n",
        "      <td> .</td>\n",
        "      <td> 4222705</td>\n",
        "      <td> 4222708</td>\n",
        "    </tr>\n",
        "    <tr>\n",
        "      <th>57</th>\n",
        "      <td> chain</td>\n",
        "      <td> 4900</td>\n",
        "      <td> chr1</td>\n",
        "      <td> 249250621</td>\n",
        "      <td> .</td>\n",
        "      <td> 4222751</td>\n",
        "      <td> 4249518</td>\n",
        "      <td> chr1</td>\n",
        "      <td> 249172906</td>\n",
        "      <td> .</td>\n",
        "      <td> 4222708</td>\n",
        "      <td> 4249478</td>\n",
        "    </tr>\n",
        "    <tr>\n",
        "      <th>58</th>\n",
        "      <td> chain</td>\n",
        "      <td> 4900</td>\n",
        "      <td> chr1</td>\n",
        "      <td> 249250621</td>\n",
        "      <td> .</td>\n",
        "      <td> 4249518</td>\n",
        "      <td> 4280497</td>\n",
        "      <td> chr1</td>\n",
        "      <td> 249172906</td>\n",
        "      <td> .</td>\n",
        "      <td> 4249478</td>\n",
        "      <td> 4280458</td>\n",
        "    </tr>\n",
        "    <tr>\n",
        "      <th>59</th>\n",
        "      <td> chain</td>\n",
        "      <td> 4900</td>\n",
        "      <td> chr1</td>\n",
        "      <td> 249250621</td>\n",
        "      <td> .</td>\n",
        "      <td> 4280497</td>\n",
        "      <td> 4280499</td>\n",
        "      <td> chr1</td>\n",
        "      <td> 249172906</td>\n",
        "      <td> .</td>\n",
        "      <td> 4280458</td>\n",
        "      <td> 4280461</td>\n",
        "    </tr>\n",
        "    <tr>\n",
        "      <th></th>\n",
        "      <td>...</td>\n",
        "      <td>...</td>\n",
        "      <td>...</td>\n",
        "      <td>...</td>\n",
        "      <td>...</td>\n",
        "      <td>...</td>\n",
        "      <td>...</td>\n",
        "      <td>...</td>\n",
        "      <td>...</td>\n",
        "      <td>...</td>\n",
        "      <td>...</td>\n",
        "      <td>...</td>\n",
        "    </tr>\n",
        "  </tbody>\n",
        "</table>\n",
        "<p>71768 rows \u00d7 12 columns</p>\n",
        "</div>"
       ],
       "metadata": {},
       "output_type": "pyout",
       "prompt_number": 18,
       "text": [
        "    chain  score ref_chr    ref_len ref_misc  ref_start  ref_end alt_chr    alt_len alt_misc  alt_start  alt_end\n",
        "0   chain   4900    chr1  249250621        .          1   811670    chr1  249172906        .          1   811660\n",
        "1   chain   4900    chr1  249250621        .     811670   904757    chr1  249172906        .     811660   904749\n",
        "2   chain   4900    chr1  249250621        .     904757  1092688    chr1  249172906        .     904749  1092681\n",
        "3   chain   4900    chr1  249250621        .    1092689  1103690    chr1  249172906        .    1092662  1103665\n",
        "4   chain   4900    chr1  249250621        .    1103690  1233112    chr1  249172906        .    1103665  1233085\n",
        "5   chain   4900    chr1  249250621        .    1233112  1276973    chr1  249172906        .    1233085  1276950\n",
        "6   chain   4900    chr1  249250621        .    1276973  1291159    chr1  249172906        .    1276950  1291135\n",
        "7   chain   4900    chr1  249250621        .    1291159  1301199    chr1  249172906        .    1291135  1301174\n",
        "8   chain   4900    chr1  249250621        .    1301199  1302672    chr1  249172906        .    1301174  1302649\n",
        "9   chain   4900    chr1  249250621        .    1302672  1366406    chr1  249172906        .    1302649  1366375\n",
        "10  chain   4900    chr1  249250621        .    1366406  1546949    chr1  249172906        .    1366375  1546917\n",
        "11  chain   4900    chr1  249250621        .    1546949  1566067    chr1  249172906        .    1546917  1566034\n",
        "12  chain   4900    chr1  249250621        .    1566067  1648339    chr1  249172906        .    1566034  1648312\n",
        "13  chain   4900    chr1  249250621        .    1648339  1702495    chr1  249172906        .    1648312  1702467\n",
        "14  chain   4900    chr1  249250621        .    1702495  1704797    chr1  249172906        .    1702467  1704768\n",
        "15  chain   4900    chr1  249250621        .    1704797  1735421    chr1  249172906        .    1704768  1735393\n",
        "16  chain   4900    chr1  249250621        .    1735421  1807276    chr1  249172906        .    1735393  1807247\n",
        "17  chain   4900    chr1  249250621        .    1807276  1853615    chr1  249172906        .    1807247  1853590\n",
        "18  chain   4900    chr1  249250621        .    1853615  1853617    chr1  249172906        .    1853590  1853596\n",
        "19  chain   4900    chr1  249250621        .    1853617  2101933    chr1  249172906        .    1853596  2101916\n",
        "20  chain   4900    chr1  249250621        .    2101933  2243616    chr1  249172906        .    2101916  2243604\n",
        "21  chain   4900    chr1  249250621        .    2243616  2256415    chr1  249172906        .    2243604  2256406\n",
        "22  chain   4900    chr1  249250621        .    2256415  2269082    chr1  249172906        .    2256406  2269071\n",
        "23  chain   4900    chr1  249250621        .    2269082  2347840    chr1  249172906        .    2269071  2347834\n",
        "24  chain   4900    chr1  249250621        .    2347840  2351410    chr1  249172906        .    2347834  2351403\n",
        "25  chain   4900    chr1  249250621        .    2351410  2362586    chr1  249172906        .    2351403  2362577\n",
        "26  chain   4900    chr1  249250621        .    2362586  2776003    chr1  249172906        .    2362577  2775995\n",
        "27  chain   4900    chr1  249250621        .    2776003  2789572    chr1  249172906        .    2775995  2789563\n",
        "28  chain   4900    chr1  249250621        .    2789572  2886951    chr1  249172906        .    2789563  2886943\n",
        "29  chain   4900    chr1  249250621        .    2886951  2886954    chr1  249172906        .    2886943  2886947\n",
        "30  chain   4900    chr1  249250621        .    2886954  3002692    chr1  249172906        .    2886947  3002689\n",
        "31  chain   4900    chr1  249250621        .    3002692  3008886    chr1  249172906        .    3002689  3008873\n",
        "32  chain   4900    chr1  249250621        .    3008886  3142135    chr1  249172906        .    3008873  3142118\n",
        "33  chain   4900    chr1  249250621        .    3142135  3156620    chr1  249172906        .    3142118  3156593\n",
        "34  chain   4900    chr1  249250621        .    3156620  3159942    chr1  249172906        .    3156593  3159914\n",
        "35  chain   4900    chr1  249250621        .    3159942  3174158    chr1  249172906        .    3159914  3174129\n",
        "36  chain   4900    chr1  249250621        .    3174158  3196439    chr1  249172906        .    3174129  3196409\n",
        "37  chain   4900    chr1  249250621        .    3196439  3310927    chr1  249172906        .    3196409  3310899\n",
        "38  chain   4900    chr1  249250621        .    3310927  3310928    chr1  249172906        .    3310899  3310902\n",
        "39  chain   4900    chr1  249250621        .    3310928  3357238    chr1  249172906        .    3310902  3357213\n",
        "40  chain   4900    chr1  249250621        .    3357238  3358268    chr1  249172906        .    3357213  3358244\n",
        "41  chain   4900    chr1  249250621        .    3358268  3358269    chr1  249172906        .    3358244  3358246\n",
        "42  chain   4900    chr1  249250621        .    3358269  3403743    chr1  249172906        .    3358246  3403718\n",
        "43  chain   4900    chr1  249250621        .    3403743  3527075    chr1  249172906        .    3403718  3527052\n",
        "44  chain   4900    chr1  249250621        .    3527075  3527076    chr1  249172906        .    3527052  3527055\n",
        "45  chain   4900    chr1  249250621        .    3527076  3545175    chr1  249172906        .    3527055  3545135\n",
        "46  chain   4900    chr1  249250621        .    3545175  3693132    chr1  249172906        .    3545135  3693091\n",
        "47  chain   4900    chr1  249250621        .    3693132  3707456    chr1  249172906        .    3693091  3707416\n",
        "48  chain   4900    chr1  249250621        .    3707456  3743433    chr1  249172906        .    3707416  3743394\n",
        "49  chain   4900    chr1  249250621        .    3743433  3761273    chr1  249172906        .    3743394  3761235\n",
        "50  chain   4900    chr1  249250621        .    3761273  3825021    chr1  249172906        .    3761235  3824977\n",
        "51  chain   4900    chr1  249250621        .    3825021  4045915    chr1  249172906        .    3824977  4045869\n",
        "52  chain   4900    chr1  249250621        .    4045915  4045937    chr1  249172906        .    4045869  4045890\n",
        "53  chain   4900    chr1  249250621        .    4045937  4156883    chr1  249172906        .    4045890  4156835\n",
        "54  chain   4900    chr1  249250621        .    4156883  4198042    chr1  249172906        .    4156835  4197997\n",
        "55  chain   4900    chr1  249250621        .    4198042  4222749    chr1  249172906        .    4197997  4222705\n",
        "56  chain   4900    chr1  249250621        .    4222749  4222751    chr1  249172906        .    4222705  4222708\n",
        "57  chain   4900    chr1  249250621        .    4222751  4249518    chr1  249172906        .    4222708  4249478\n",
        "58  chain   4900    chr1  249250621        .    4249518  4280497    chr1  249172906        .    4249478  4280458\n",
        "59  chain   4900    chr1  249250621        .    4280497  4280499    chr1  249172906        .    4280458  4280461\n",
        "      ...    ...     ...        ...      ...        ...      ...     ...        ...      ...        ...      ...\n",
        "\n",
        "[71768 rows x 12 columns]"
       ]
      }
     ],
     "prompt_number": 18
    }
   ],
   "metadata": {}
  }
 ]
}