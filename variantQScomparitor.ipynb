{
 "metadata": {
  "name": ""
 },
 "nbformat": 3,
 "nbformat_minor": 0,
 "worksheets": [
  {
   "cells": [
    {
     "cell_type": "code",
     "collapsed": false,
     "input": [
      "# sets up the environment - use everytime\n",
      "%matplotlib inline\n",
      "%run ipy_setup.py\n",
      "rcParams['figure.figsize'] = (30, 10)\n",
      "rcParams['patch.edgecolor'] = 'blue'\n",
      "rcParams['figure.dpi'] = 300\n",
      "rcParams['font.size'] = 14\n",
      "rcParams['font.family'] = 'sans-serif'"
     ],
     "language": "python",
     "metadata": {},
     "outputs": [],
     "prompt_number": 1
    },
    {
     "cell_type": "code",
     "collapsed": false,
     "input": [
      "#okay, so here's what we have to do...\n",
      "#1. read in variants in both files\n",
      "    #a. \"moving stone\" approach...\n",
      "#2. at each variant site, collect:\n",
      "    #a. AC, AF, AN, DP, FS, GQ_MEAN, GQ_STDEV, InbreedingCoeff, NCC\n",
      "\n",
      "hg38vcf = '/data/projects_gibbons/home/neffra/compaln_vcf_afrgh38_hg38_ASW_092214/allshared_comsites.vcf'\n",
      "afrgvcf = '/data/projects_gibbons/home/neffra/compaln_vcf_afrgh38_hg38_ASW_092214/allshared_altsites.vcf'\n",
      "refvcf = '/data/projects_gibbons/home/neffra/compaln_vcf_afrgh38_hg38_ASW_092214/allshared_refsites.vcf'\n"
     ],
     "language": "python",
     "metadata": {},
     "outputs": [],
     "prompt_number": 112
    },
    {
     "cell_type": "code",
     "collapsed": false,
     "input": [
      "pbar=ProgressBar(1491351)\n",
      "hg38_fp = open(hg38vcf, 'rb')\n",
      "afrg_fp = open(afrgvcf, 'rb')\n",
      "ref_fp = open(refvcf, 'rb')\n",
      "outarr = []\n",
      "for i in range(0, 1491351):\n",
      "    invert=False\n",
      "    pbar.animate()\n",
      "    hl = hg38_fp.readline().split('\\t')[0:8]\n",
      "    al = afrg_fp.readline().split('\\t')[0:8]\n",
      "    rl = ref_fp.readline().split('\\t')[0:8]\n",
      "    # check if allele is inverted or not\n",
      "    if hl[4] == al[3]:\n",
      "        invert=True\n",
      "    hli = hl[7].split(';')[0:-1]\n",
      "    ali = al[7].split(';')[0:-1]\n",
      "    rli = rl[7].split(';')[0:-1]\n",
      "    hldict = dict()\n",
      "    aldict = dict()\n",
      "    rldict = dict()\n",
      "    for a in hli:\n",
      "        try:\n",
      "            t = a.split('=')\n",
      "            k=t[0]\n",
      "            v=t[1]\n",
      "            hldict[k]=v\n",
      "        except:\n",
      "            pass\n",
      "    for a in ali:\n",
      "        try:\n",
      "            t = a.split('=')\n",
      "            k=t[0]\n",
      "            v=t[1]\n",
      "            aldict[k]=v\n",
      "        except:\n",
      "            pass\n",
      "    for a in rli:\n",
      "        try:\n",
      "            t = a.split('=')\n",
      "            k=t[0]\n",
      "            v=t[1]\n",
      "            rldict[k]=v\n",
      "        except:\n",
      "            pass\n",
      "    if (',' in hldict['AF']) | (',' in aldict['AF']):\n",
      "        continue\n",
      "    wanted = ['AF', 'DP', 'GQ_MEAN', 'GQ_STDDEV', 'FS', 'InbreedingCoeff', 'QD', 'NCC']\n",
      "    outline = hl[0:5]\n",
      "    outline.extend([float(hl[5])])\n",
      "    outline.extend([float(hldict[your_key]) if your_key in hldict else None for your_key in wanted])\n",
      "    outline.extend([invert])\n",
      "    outline.extend([float(al[5])])\n",
      "    if invert==True:\n",
      "        aldict['AF'] = str(1.-float(aldict['AF']))\n",
      "    outline.extend([float(aldict[your_key]) if your_key in aldict else None for your_key in wanted])\n",
      "    outline.extend([float(rldict['AF'])])\n",
      "    outarr.append(outline)    "
     ],
     "language": "python",
     "metadata": {},
     "outputs": [
      {
       "output_type": "stream",
       "stream": "stdout",
       "text": [
        " \r",
        "[                  0%                  ]"
       ]
      },
      {
       "output_type": "stream",
       "stream": "stdout",
       "text": [
        " \r",
        "[                  1%                  ]  10015 of 1491351 complete Elapsed: 0.0 minutes\t Remaining: 3.7 minutes"
       ]
      },
      {
       "output_type": "stream",
       "stream": "stdout",
       "text": [
        " \r",
        "[                  1%                  ]  21493 of 1491351 complete Elapsed: 0.1 minutes\t Remaining: 3.4 minutes"
       ]
      },
      {
       "output_type": "stream",
       "stream": "stdout",
       "text": [
        " \r",
        "[*                 2%                  ]  32675 of 1491351 complete Elapsed: 0.1 minutes\t Remaining: 3.3 minutes"
       ]
      },
      {
       "output_type": "stream",
       "stream": "stdout",
       "text": [
        " \r",
        "[*                 3%                  ]  43271 of 1491351 complete Elapsed: 0.1 minutes\t Remaining: 3.3 minutes"
       ]
      },
      {
       "output_type": "stream",
       "stream": "stdout",
       "text": [
        " \r",
        "[**                4%                  ]  53885 of 1491351 complete Elapsed: 0.1 minutes\t Remaining: 3.3 minutes"
       ]
      },
      {
       "output_type": "stream",
       "stream": "stdout",
       "text": [
        " \r",
        "[**                4%                  ]  64607 of 1491351 complete Elapsed: 0.2 minutes\t Remaining: 3.3 minutes"
       ]
      },
      {
       "output_type": "stream",
       "stream": "stdout",
       "text": [
        " \r",
        "[**                5%                  ]  75146 of 1491351 complete Elapsed: 0.2 minutes\t Remaining: 3.3 minutes"
       ]
      },
      {
       "output_type": "stream",
       "stream": "stdout",
       "text": [
        " \r",
        "[**                6%                  ]  85758 of 1491351 complete Elapsed: 0.2 minutes\t Remaining: 3.3 minutes"
       ]
      },
      {
       "output_type": "stream",
       "stream": "stdout",
       "text": [
        " \r",
        "[**                6%                  ]  93452 of 1491351 complete Elapsed: 0.2 minutes\t Remaining: 3.4 minutes"
       ]
      },
      {
       "output_type": "stream",
       "stream": "stdout",
       "text": [
        " \r",
        "[***               7%                  ]  104409 of 1491351 complete Elapsed: 0.3 minutes\t Remaining: 3.3 minutes"
       ]
      },
      {
       "output_type": "stream",
       "stream": "stdout",
       "text": [
        " \r",
        "[***               8%                  ]  115237 of 1491351 complete Elapsed: 0.3 minutes\t Remaining: 3.3 minutes"
       ]
      },
      {
       "output_type": "stream",
       "stream": "stdout",
       "text": [
        " \r",
        "[***               8%                  ]  126216 of 1491351 complete Elapsed: 0.3 minutes\t Remaining: 3.2 minutes"
       ]
      },
      {
       "output_type": "stream",
       "stream": "stdout",
       "text": [
        " \r",
        "[***               9%                  ]  137294 of 1491351 complete Elapsed: 0.3 minutes\t Remaining: 3.2 minutes"
       ]
      },
      {
       "output_type": "stream",
       "stream": "stdout",
       "text": [
        " \r",
        "[****             10%                  ]  148235 of 1491351 complete Elapsed: 0.4 minutes\t Remaining: 3.2 minutes"
       ]
      },
      {
       "output_type": "stream",
       "stream": "stdout",
       "text": [
        " \r",
        "[****             11%                  ]  159147 of 1491351 complete Elapsed: 0.4 minutes\t Remaining: 3.1 minutes"
       ]
      },
      {
       "output_type": "stream",
       "stream": "stdout",
       "text": [
        " \r",
        "[****             11%                  ]  169960 of 1491351 complete Elapsed: 0.4 minutes\t Remaining: 3.1 minutes"
       ]
      },
      {
       "output_type": "stream",
       "stream": "stdout",
       "text": [
        " \r",
        "[*****            12%                  ]  180859 of 1491351 complete Elapsed: 0.4 minutes\t Remaining: 3.1 minutes"
       ]
      },
      {
       "output_type": "stream",
       "stream": "stdout",
       "text": [
        " \r",
        "[*****            13%                  ]  187564 of 1491351 complete Elapsed: 0.5 minutes\t Remaining: 3.1 minutes"
       ]
      },
      {
       "output_type": "stream",
       "stream": "stdout",
       "text": [
        " \r",
        "[*****            13%                  ]  198482 of 1491351 complete Elapsed: 0.5 minutes\t Remaining: 3.1 minutes"
       ]
      },
      {
       "output_type": "stream",
       "stream": "stdout",
       "text": [
        " \r",
        "[*****            14%                  ]  209425 of 1491351 complete Elapsed: 0.5 minutes\t Remaining: 3.1 minutes"
       ]
      },
      {
       "output_type": "stream",
       "stream": "stdout",
       "text": [
        " \r",
        "[******           15%                  ]  220285 of 1491351 complete Elapsed: 0.5 minutes\t Remaining: 3.0 minutes"
       ]
      },
      {
       "output_type": "stream",
       "stream": "stdout",
       "text": [
        " \r",
        "[******           15%                  ]  228971 of 1491351 complete Elapsed: 0.6 minutes\t Remaining: 3.0 minutes"
       ]
      },
      {
       "output_type": "stream",
       "stream": "stdout",
       "text": [
        " \r",
        "[******           16%                  ]  239866 of 1491351 complete Elapsed: 0.6 minutes\t Remaining: 3.0 minutes"
       ]
      },
      {
       "output_type": "stream",
       "stream": "stdout",
       "text": [
        " \r",
        "[******           17%                  ]  250709 of 1491351 complete Elapsed: 0.6 minutes\t Remaining: 3.0 minutes"
       ]
      },
      {
       "output_type": "stream",
       "stream": "stdout",
       "text": [
        " \r",
        "[*******          18%                  ]  261498 of 1491351 complete Elapsed: 0.6 minutes\t Remaining: 2.9 minutes"
       ]
      },
      {
       "output_type": "stream",
       "stream": "stdout",
       "text": [
        " \r",
        "[*******          18%                  ]  272393 of 1491351 complete Elapsed: 0.7 minutes\t Remaining: 2.9 minutes"
       ]
      },
      {
       "output_type": "stream",
       "stream": "stdout",
       "text": [
        " \r",
        "[*******          19%                  ]  278882 of 1491351 complete Elapsed: 0.7 minutes\t Remaining: 2.9 minutes"
       ]
      },
      {
       "output_type": "stream",
       "stream": "stdout",
       "text": [
        " \r",
        "[*******          19%                  ]  289755 of 1491351 complete Elapsed: 0.7 minutes\t Remaining: 2.9 minutes"
       ]
      },
      {
       "output_type": "stream",
       "stream": "stdout",
       "text": [
        " \r",
        "[********         20%                  ]  300665 of 1491351 complete Elapsed: 0.7 minutes\t Remaining: 2.9 minutes"
       ]
      },
      {
       "output_type": "stream",
       "stream": "stdout",
       "text": [
        " \r",
        "[********         21%                  ]  311536 of 1491351 complete Elapsed: 0.8 minutes\t Remaining: 2.8 minutes"
       ]
      },
      {
       "output_type": "stream",
       "stream": "stdout",
       "text": [
        " \r",
        "[********         22%                  ]  322130 of 1491351 complete Elapsed: 0.8 minutes\t Remaining: 2.8 minutes"
       ]
      },
      {
       "output_type": "stream",
       "stream": "stdout",
       "text": [
        " \r",
        "[********         22%                  ]  332741 of 1491351 complete Elapsed: 0.8 minutes\t Remaining: 2.8 minutes"
       ]
      },
      {
       "output_type": "stream",
       "stream": "stdout",
       "text": [
        " \r",
        "[*********        23%                  ]  343997 of 1491351 complete Elapsed: 0.8 minutes\t Remaining: 2.8 minutes"
       ]
      },
      {
       "output_type": "stream",
       "stream": "stdout",
       "text": [
        " \r",
        "[*********        24%                  ]  357344 of 1491351 complete Elapsed: 0.9 minutes\t Remaining: 2.7 minutes"
       ]
      },
      {
       "output_type": "stream",
       "stream": "stdout",
       "text": [
        " \r",
        "[**********       25%                  ]  370779 of 1491351 complete Elapsed: 0.9 minutes\t Remaining: 2.6 minutes"
       ]
      },
      {
       "output_type": "stream",
       "stream": "stdout",
       "text": [
        " \r",
        "[**********       26%                  ]  380580 of 1491351 complete Elapsed: 0.9 minutes\t Remaining: 2.7 minutes"
       ]
      },
      {
       "output_type": "stream",
       "stream": "stdout",
       "text": [
        " \r",
        "[**********       26%                  ]  394074 of 1491351 complete Elapsed: 0.9 minutes\t Remaining: 2.6 minutes"
       ]
      },
      {
       "output_type": "stream",
       "stream": "stdout",
       "text": [
        " \r",
        "[**********       27%                  ]  407453 of 1491351 complete Elapsed: 1.0 minutes\t Remaining: 2.5 minutes"
       ]
      },
      {
       "output_type": "stream",
       "stream": "stdout",
       "text": [
        " \r",
        "[***********      28%                  ]  420852 of 1491351 complete Elapsed: 1.0 minutes\t Remaining: 2.5 minutes"
       ]
      },
      {
       "output_type": "stream",
       "stream": "stdout",
       "text": [
        " \r",
        "[***********      29%                  ]  434189 of 1491351 complete Elapsed: 1.0 minutes\t Remaining: 2.5 minutes"
       ]
      },
      {
       "output_type": "stream",
       "stream": "stdout",
       "text": [
        " \r",
        "[***********      30%                  ]  447571 of 1491351 complete Elapsed: 1.0 minutes\t Remaining: 2.4 minutes"
       ]
      },
      {
       "output_type": "stream",
       "stream": "stdout",
       "text": [
        " \r",
        "[************     31%                  ]  460916 of 1491351 complete Elapsed: 1.1 minutes\t Remaining: 2.4 minutes"
       ]
      },
      {
       "output_type": "stream",
       "stream": "stdout",
       "text": [
        " \r",
        "[************     32%                  ]  474268 of 1491351 complete Elapsed: 1.1 minutes\t Remaining: 2.3 minutes"
       ]
      },
      {
       "output_type": "stream",
       "stream": "stdout",
       "text": [
        " \r",
        "[*************    33%                  ]  487664 of 1491351 complete Elapsed: 1.1 minutes\t Remaining: 2.3 minutes"
       ]
      },
      {
       "output_type": "stream",
       "stream": "stdout",
       "text": [
        " \r",
        "[*************    34%                  ]  501198 of 1491351 complete Elapsed: 1.1 minutes\t Remaining: 2.2 minutes"
       ]
      },
      {
       "output_type": "stream",
       "stream": "stdout",
       "text": [
        " \r",
        "[*************    34%                  ]  507621 of 1491351 complete Elapsed: 1.2 minutes\t Remaining: 2.2 minutes"
       ]
      },
      {
       "output_type": "stream",
       "stream": "stdout",
       "text": [
        " \r",
        "[*************    35%                  ]  521013 of 1491351 complete Elapsed: 1.2 minutes\t Remaining: 2.2 minutes"
       ]
      },
      {
       "output_type": "stream",
       "stream": "stdout",
       "text": [
        " \r",
        "[**************   36%                  ]  534120 of 1491351 complete Elapsed: 1.2 minutes\t Remaining: 2.2 minutes"
       ]
      },
      {
       "output_type": "stream",
       "stream": "stdout",
       "text": [
        " \r",
        "[**************   37%                  ]  547426 of 1491351 complete Elapsed: 1.2 minutes\t Remaining: 2.1 minutes"
       ]
      },
      {
       "output_type": "stream",
       "stream": "stdout",
       "text": [
        " \r",
        "[**************   38%                  ]  560905 of 1491351 complete Elapsed: 1.3 minutes\t Remaining: 2.1 minutes"
       ]
      },
      {
       "output_type": "stream",
       "stream": "stdout",
       "text": [
        " \r",
        "[***************  39%                  ]  574703 of 1491351 complete Elapsed: 1.3 minutes\t Remaining: 2.1 minutes"
       ]
      },
      {
       "output_type": "stream",
       "stream": "stdout",
       "text": [
        " \r",
        "[***************  39%                  ]  588438 of 1491351 complete Elapsed: 1.3 minutes\t Remaining: 2.0 minutes"
       ]
      },
      {
       "output_type": "stream",
       "stream": "stdout",
       "text": [
        " \r",
        "[***************  40%                  ]  602060 of 1491351 complete Elapsed: 1.3 minutes\t Remaining: 2.0 minutes"
       ]
      },
      {
       "output_type": "stream",
       "stream": "stdout",
       "text": [
        " \r",
        "[**************** 41%                  ]  615497 of 1491351 complete Elapsed: 1.4 minutes\t Remaining: 1.9 minutes"
       ]
      },
      {
       "output_type": "stream",
       "stream": "stdout",
       "text": [
        " \r",
        "[**************** 42%                  ]  629031 of 1491351 complete Elapsed: 1.4 minutes\t Remaining: 1.9 minutes"
       ]
      },
      {
       "output_type": "stream",
       "stream": "stdout",
       "text": [
        " \r",
        "[**************** 43%                  ]  642721 of 1491351 complete Elapsed: 1.4 minutes\t Remaining: 1.9 minutes"
       ]
      },
      {
       "output_type": "stream",
       "stream": "stdout",
       "text": [
        " \r",
        "[*****************44%                  ]  656765 of 1491351 complete Elapsed: 1.4 minutes\t Remaining: 1.8 minutes"
       ]
      },
      {
       "output_type": "stream",
       "stream": "stdout",
       "text": [
        " \r",
        "[*****************44%                  ]  660518 of 1491351 complete Elapsed: 1.5 minutes\t Remaining: 1.8 minutes"
       ]
      },
      {
       "output_type": "stream",
       "stream": "stdout",
       "text": [
        " \r",
        "[*****************45%                  ]  674642 of 1491351 complete Elapsed: 1.5 minutes\t Remaining: 1.8 minutes"
       ]
      },
      {
       "output_type": "stream",
       "stream": "stdout",
       "text": [
        " \r",
        "[*****************46%                  ]  688471 of 1491351 complete Elapsed: 1.5 minutes\t Remaining: 1.8 minutes"
       ]
      },
      {
       "output_type": "stream",
       "stream": "stdout",
       "text": [
        " \r",
        "[*****************47%                  ]  702556 of 1491351 complete Elapsed: 1.5 minutes\t Remaining: 1.7 minutes"
       ]
      },
      {
       "output_type": "stream",
       "stream": "stdout",
       "text": [
        " \r",
        "[*****************48%                  ]  716127 of 1491351 complete Elapsed: 1.6 minutes\t Remaining: 1.7 minutes"
       ]
      },
      {
       "output_type": "stream",
       "stream": "stdout",
       "text": [
        " \r",
        "[*****************49%                  ]  729880 of 1491351 complete Elapsed: 1.6 minutes\t Remaining: 1.7 minutes"
       ]
      },
      {
       "output_type": "stream",
       "stream": "stdout",
       "text": [
        " \r",
        "[*****************50%                  ]  743791 of 1491351 complete Elapsed: 1.6 minutes\t Remaining: 1.6 minutes"
       ]
      },
      {
       "output_type": "stream",
       "stream": "stdout",
       "text": [
        " \r",
        "[*****************51%                  ]  757718 of 1491351 complete Elapsed: 1.6 minutes\t Remaining: 1.6 minutes"
       ]
      },
      {
       "output_type": "stream",
       "stream": "stdout",
       "text": [
        " \r",
        "[*****************52%                  ]  771613 of 1491351 complete Elapsed: 1.7 minutes\t Remaining: 1.5 minutes"
       ]
      },
      {
       "output_type": "stream",
       "stream": "stdout",
       "text": [
        " \r",
        "[*****************53%                  ]  785385 of 1491351 complete Elapsed: 1.7 minutes\t Remaining: 1.5 minutes"
       ]
      },
      {
       "output_type": "stream",
       "stream": "stdout",
       "text": [
        " \r",
        "[*****************54%*                 ]  799236 of 1491351 complete Elapsed: 1.7 minutes\t Remaining: 1.5 minutes"
       ]
      },
      {
       "output_type": "stream",
       "stream": "stdout",
       "text": [
        " \r",
        "[*****************55%*                 ]  813130 of 1491351 complete Elapsed: 1.7 minutes\t Remaining: 1.4 minutes"
       ]
      },
      {
       "output_type": "stream",
       "stream": "stdout",
       "text": [
        " \r",
        "[*****************55%*                 ]  827141 of 1491351 complete Elapsed: 1.8 minutes\t Remaining: 1.4 minutes"
       ]
      },
      {
       "output_type": "stream",
       "stream": "stdout",
       "text": [
        " \r",
        "[*****************56%*                 ]  841092 of 1491351 complete Elapsed: 1.8 minutes\t Remaining: 1.4 minutes"
       ]
      },
      {
       "output_type": "stream",
       "stream": "stdout",
       "text": [
        " \r",
        "[*****************57%**                ]  854447 of 1491351 complete Elapsed: 1.8 minutes\t Remaining: 1.4 minutes"
       ]
      },
      {
       "output_type": "stream",
       "stream": "stdout",
       "text": [
        " \r",
        "[*****************58%**                ]  868280 of 1491351 complete Elapsed: 1.9 minutes\t Remaining: 1.3 minutes"
       ]
      },
      {
       "output_type": "stream",
       "stream": "stdout",
       "text": [
        " \r",
        "[*****************59%**                ]  882021 of 1491351 complete Elapsed: 1.9 minutes\t Remaining: 1.3 minutes"
       ]
      },
      {
       "output_type": "stream",
       "stream": "stdout",
       "text": [
        " \r",
        "[*****************60%***               ]  895791 of 1491351 complete Elapsed: 1.9 minutes\t Remaining: 1.3 minutes"
       ]
      },
      {
       "output_type": "stream",
       "stream": "stdout",
       "text": [
        " \r",
        "[*****************61%***               ]  908700 of 1491351 complete Elapsed: 1.9 minutes\t Remaining: 1.2 minutes"
       ]
      },
      {
       "output_type": "stream",
       "stream": "stdout",
       "text": [
        " \r",
        "[*****************62%****              ]  922522 of 1491351 complete Elapsed: 2.0 minutes\t Remaining: 1.2 minutes"
       ]
      },
      {
       "output_type": "stream",
       "stream": "stdout",
       "text": [
        " \r",
        "[*****************63%****              ]  936083 of 1491351 complete Elapsed: 2.0 minutes\t Remaining: 1.2 minutes"
       ]
      },
      {
       "output_type": "stream",
       "stream": "stdout",
       "text": [
        " \r",
        "[*****************64%****              ]  949555 of 1491351 complete Elapsed: 2.0 minutes\t Remaining: 1.1 minutes"
       ]
      },
      {
       "output_type": "stream",
       "stream": "stdout",
       "text": [
        " \r",
        "[*****************65%*****             ]  963350 of 1491351 complete Elapsed: 2.0 minutes\t Remaining: 1.1 minutes"
       ]
      },
      {
       "output_type": "stream",
       "stream": "stdout",
       "text": [
        " \r",
        "[*****************66%*****             ]  977291 of 1491351 complete Elapsed: 2.1 minutes\t Remaining: 1.1 minutes"
       ]
      },
      {
       "output_type": "stream",
       "stream": "stdout",
       "text": [
        " \r",
        "[*****************66%*****             ]  991092 of 1491351 complete Elapsed: 2.1 minutes\t Remaining: 1.1 minutes"
       ]
      },
      {
       "output_type": "stream",
       "stream": "stdout",
       "text": [
        " \r",
        "[*****************67%*****             ]  1004850 of 1491351 complete Elapsed: 2.1 minutes\t Remaining: 1.0 minutes"
       ]
      },
      {
       "output_type": "stream",
       "stream": "stdout",
       "text": [
        " \r",
        "[*****************68%******            ]  1018543 of 1491351 complete Elapsed: 2.1 minutes\t Remaining: 1.0 minutes"
       ]
      },
      {
       "output_type": "stream",
       "stream": "stdout",
       "text": [
        " \r",
        "[*****************69%******            ]  1032061 of 1491351 complete Elapsed: 2.2 minutes\t Remaining: 1.0 minutes"
       ]
      },
      {
       "output_type": "stream",
       "stream": "stdout",
       "text": [
        " \r",
        "[*****************70%*******           ]  1045679 of 1491351 complete Elapsed: 2.2 minutes\t Remaining: 0.9 minutes"
       ]
      },
      {
       "output_type": "stream",
       "stream": "stdout",
       "text": [
        " \r",
        "[*****************71%*******           ]  1059189 of 1491351 complete Elapsed: 2.2 minutes\t Remaining: 0.9 minutes"
       ]
      },
      {
       "output_type": "stream",
       "stream": "stdout",
       "text": [
        " \r",
        "[*****************72%*******           ]  1072087 of 1491351 complete Elapsed: 2.2 minutes\t Remaining: 0.9 minutes"
       ]
      },
      {
       "output_type": "stream",
       "stream": "stdout",
       "text": [
        " \r",
        "[*****************73%********          ]  1085515 of 1491351 complete Elapsed: 2.3 minutes\t Remaining: 0.8 minutes"
       ]
      },
      {
       "output_type": "stream",
       "stream": "stdout",
       "text": [
        " \r",
        "[*****************74%********          ]  1099061 of 1491351 complete Elapsed: 2.3 minutes\t Remaining: 0.8 minutes"
       ]
      },
      {
       "output_type": "stream",
       "stream": "stdout",
       "text": [
        " \r",
        "[*****************74%********          ]  1099419 of 1491351 complete Elapsed: 2.3 minutes\t Remaining: 0.8 minutes"
       ]
      },
      {
       "output_type": "stream",
       "stream": "stdout",
       "text": [
        " \r",
        "[*****************75%*********         ]  1112996 of 1491351 complete Elapsed: 2.3 minutes\t Remaining: 0.8 minutes"
       ]
      },
      {
       "output_type": "stream",
       "stream": "stdout",
       "text": [
        " \r",
        "[*****************76%*********         ]  1126450 of 1491351 complete Elapsed: 2.4 minutes\t Remaining: 0.8 minutes"
       ]
      },
      {
       "output_type": "stream",
       "stream": "stdout",
       "text": [
        " \r",
        "[*****************76%*********         ]  1139890 of 1491351 complete Elapsed: 2.4 minutes\t Remaining: 0.7 minutes"
       ]
      },
      {
       "output_type": "stream",
       "stream": "stdout",
       "text": [
        " \r",
        "[*****************77%*********         ]  1153373 of 1491351 complete Elapsed: 2.4 minutes\t Remaining: 0.7 minutes"
       ]
      },
      {
       "output_type": "stream",
       "stream": "stdout",
       "text": [
        " \r",
        "[*****************78%**********        ]  1167783 of 1491351 complete Elapsed: 2.4 minutes\t Remaining: 0.7 minutes"
       ]
      },
      {
       "output_type": "stream",
       "stream": "stdout",
       "text": [
        " \r",
        "[*****************79%**********        ]  1182431 of 1491351 complete Elapsed: 2.5 minutes\t Remaining: 0.6 minutes"
       ]
      },
      {
       "output_type": "stream",
       "stream": "stdout",
       "text": [
        " \r",
        "[*****************80%**********        ]  1197176 of 1491351 complete Elapsed: 2.5 minutes\t Remaining: 0.6 minutes"
       ]
      },
      {
       "output_type": "stream",
       "stream": "stdout",
       "text": [
        " \r",
        "[*****************81%***********       ]  1212050 of 1491351 complete Elapsed: 2.5 minutes\t Remaining: 0.6 minutes"
       ]
      },
      {
       "output_type": "stream",
       "stream": "stdout",
       "text": [
        " \r",
        "[*****************82%***********       ]  1225801 of 1491351 complete Elapsed: 2.5 minutes\t Remaining: 0.5 minutes"
       ]
      },
      {
       "output_type": "stream",
       "stream": "stdout",
       "text": [
        " \r",
        "[*****************83%************      ]  1240811 of 1491351 complete Elapsed: 2.6 minutes\t Remaining: 0.5 minutes"
       ]
      },
      {
       "output_type": "stream",
       "stream": "stdout",
       "text": [
        " \r",
        "[*****************84%************      ]  1255751 of 1491351 complete Elapsed: 2.6 minutes\t Remaining: 0.5 minutes"
       ]
      },
      {
       "output_type": "stream",
       "stream": "stdout",
       "text": [
        " \r",
        "[*****************85%************      ]  1270640 of 1491351 complete Elapsed: 2.6 minutes\t Remaining: 0.5 minutes"
       ]
      },
      {
       "output_type": "stream",
       "stream": "stdout",
       "text": [
        " \r",
        "[*****************86%*************     ]  1285364 of 1491351 complete Elapsed: 2.6 minutes\t Remaining: 0.4 minutes"
       ]
      },
      {
       "output_type": "stream",
       "stream": "stdout",
       "text": [
        " \r",
        "[*****************87%*************     ]  1299972 of 1491351 complete Elapsed: 2.7 minutes\t Remaining: 0.4 minutes"
       ]
      },
      {
       "output_type": "stream",
       "stream": "stdout",
       "text": [
        " \r",
        "[*****************88%*************     ]  1314325 of 1491351 complete Elapsed: 2.7 minutes\t Remaining: 0.4 minutes"
       ]
      },
      {
       "output_type": "stream",
       "stream": "stdout",
       "text": [
        " \r",
        "[*****************89%**************    ]  1328912 of 1491351 complete Elapsed: 2.7 minutes\t Remaining: 0.3 minutes"
       ]
      },
      {
       "output_type": "stream",
       "stream": "stdout",
       "text": [
        " \r",
        "[*****************90%**************    ]  1343574 of 1491351 complete Elapsed: 2.7 minutes\t Remaining: 0.3 minutes"
       ]
      },
      {
       "output_type": "stream",
       "stream": "stdout",
       "text": [
        " \r",
        "[*****************91%***************   ]  1358018 of 1491351 complete Elapsed: 2.8 minutes\t Remaining: 0.3 minutes"
       ]
      },
      {
       "output_type": "stream",
       "stream": "stdout",
       "text": [
        " \r",
        "[*****************92%***************   ]  1372789 of 1491351 complete Elapsed: 2.8 minutes\t Remaining: 0.2 minutes"
       ]
      },
      {
       "output_type": "stream",
       "stream": "stdout",
       "text": [
        " \r",
        "[*****************93%***************   ]  1387471 of 1491351 complete Elapsed: 2.8 minutes\t Remaining: 0.2 minutes"
       ]
      },
      {
       "output_type": "stream",
       "stream": "stdout",
       "text": [
        " \r",
        "[*****************94%****************  ]  1401768 of 1491351 complete Elapsed: 2.8 minutes\t Remaining: 0.2 minutes"
       ]
      },
      {
       "output_type": "stream",
       "stream": "stdout",
       "text": [
        " \r",
        "[*****************94%****************  ]  1403411 of 1491351 complete Elapsed: 2.9 minutes\t Remaining: 0.2 minutes"
       ]
      },
      {
       "output_type": "stream",
       "stream": "stdout",
       "text": [
        " \r",
        "[*****************95%****************  ]  1418352 of 1491351 complete Elapsed: 2.9 minutes\t Remaining: 0.1 minutes"
       ]
      },
      {
       "output_type": "stream",
       "stream": "stdout",
       "text": [
        " \r",
        "[*****************96%****************  ]  1433287 of 1491351 complete Elapsed: 2.9 minutes\t Remaining: 0.1 minutes"
       ]
      },
      {
       "output_type": "stream",
       "stream": "stdout",
       "text": [
        " \r",
        "[*****************97%***************** ]  1447802 of 1491351 complete Elapsed: 2.9 minutes\t Remaining: 0.1 minutes"
       ]
      },
      {
       "output_type": "stream",
       "stream": "stdout",
       "text": [
        " \r",
        "[*****************98%***************** ]  1462529 of 1491351 complete Elapsed: 3.0 minutes\t Remaining: 0.1 minutes"
       ]
      },
      {
       "output_type": "stream",
       "stream": "stdout",
       "text": [
        "\n"
       ]
      }
     ],
     "prompt_number": 115
    },
    {
     "cell_type": "code",
     "collapsed": false,
     "input": [
      "outpd = pd.DataFrame(outarr)"
     ],
     "language": "python",
     "metadata": {},
     "outputs": [],
     "prompt_number": 117
    },
    {
     "cell_type": "code",
     "collapsed": false,
     "input": [
      "outpd.head()"
     ],
     "language": "python",
     "metadata": {},
     "outputs": [
      {
       "html": [
        "<div style=\"max-height:1000px;max-width:1500px;overflow:auto;\">\n",
        "<table border=\"1\" class=\"dataframe\">\n",
        "  <thead>\n",
        "    <tr style=\"text-align: right;\">\n",
        "      <th></th>\n",
        "      <th>0</th>\n",
        "      <th>1</th>\n",
        "      <th>2</th>\n",
        "      <th>3</th>\n",
        "      <th>4</th>\n",
        "      <th>5</th>\n",
        "      <th>6</th>\n",
        "      <th>7</th>\n",
        "      <th>8</th>\n",
        "      <th>9</th>\n",
        "      <th>10</th>\n",
        "      <th>11</th>\n",
        "      <th>12</th>\n",
        "      <th>13</th>\n",
        "      <th>14</th>\n",
        "      <th>15</th>\n",
        "      <th>16</th>\n",
        "      <th>17</th>\n",
        "      <th>18</th>\n",
        "      <th>19</th>\n",
        "      <th>20</th>\n",
        "      <th>21</th>\n",
        "      <th>22</th>\n",
        "      <th>23</th>\n",
        "      <th>24</th>\n",
        "    </tr>\n",
        "  </thead>\n",
        "  <tbody>\n",
        "    <tr>\n",
        "      <th>0</th>\n",
        "      <td> chr1</td>\n",
        "      <td> 650815</td>\n",
        "      <td> .</td>\n",
        "      <td>   G</td>\n",
        "      <td> T</td>\n",
        "      <td>    45.31</td>\n",
        "      <td> 0.052</td>\n",
        "      <td> 161</td>\n",
        "      <td> 10.72</td>\n",
        "      <td>  8.32</td>\n",
        "      <td> 2.963</td>\n",
        "      <td> 0.1137</td>\n",
        "      <td>  3.02</td>\n",
        "      <td> 37</td>\n",
        "      <td> True</td>\n",
        "      <td> 3739.03</td>\n",
        "      <td> 0.643</td>\n",
        "      <td> 304</td>\n",
        "      <td> 27.92</td>\n",
        "      <td> 41.26</td>\n",
        "      <td> 0.548</td>\n",
        "      <td> 0.1282</td>\n",
        "      <td> 17.00</td>\n",
        "      <td> 17</td>\n",
        "      <td> 0.802</td>\n",
        "    </tr>\n",
        "    <tr>\n",
        "      <th>1</th>\n",
        "      <td> chr1</td>\n",
        "      <td> 788418</td>\n",
        "      <td> .</td>\n",
        "      <td> CAG</td>\n",
        "      <td> C</td>\n",
        "      <td> 10247.62</td>\n",
        "      <td> 0.563</td>\n",
        "      <td> 492</td>\n",
        "      <td> 47.86</td>\n",
        "      <td> 64.23</td>\n",
        "      <td> 3.646</td>\n",
        "      <td> 0.1778</td>\n",
        "      <td> 30.50</td>\n",
        "      <td>  3</td>\n",
        "      <td> True</td>\n",
        "      <td> 6076.01</td>\n",
        "      <td> 0.656</td>\n",
        "      <td> 438</td>\n",
        "      <td> 45.36</td>\n",
        "      <td> 61.88</td>\n",
        "      <td> 3.738</td>\n",
        "      <td> 0.0785</td>\n",
        "      <td> 26.30</td>\n",
        "      <td>  2</td>\n",
        "      <td> 0.611</td>\n",
        "    </tr>\n",
        "    <tr>\n",
        "      <th>2</th>\n",
        "      <td> chr1</td>\n",
        "      <td> 803830</td>\n",
        "      <td> .</td>\n",
        "      <td>   A</td>\n",
        "      <td> G</td>\n",
        "      <td>  9997.42</td>\n",
        "      <td> 0.926</td>\n",
        "      <td> 305</td>\n",
        "      <td> 14.43</td>\n",
        "      <td>  7.99</td>\n",
        "      <td> 0.000</td>\n",
        "      <td> 0.1255</td>\n",
        "      <td> 30.77</td>\n",
        "      <td> 12</td>\n",
        "      <td> True</td>\n",
        "      <td>  181.95</td>\n",
        "      <td> 0.984</td>\n",
        "      <td> 287</td>\n",
        "      <td> 11.84</td>\n",
        "      <td>  7.78</td>\n",
        "      <td> 3.522</td>\n",
        "      <td>-0.0837</td>\n",
        "      <td> 20.22</td>\n",
        "      <td>  2</td>\n",
        "      <td> 0.944</td>\n",
        "    </tr>\n",
        "    <tr>\n",
        "      <th>3</th>\n",
        "      <td> chr1</td>\n",
        "      <td> 804148</td>\n",
        "      <td> .</td>\n",
        "      <td>   G</td>\n",
        "      <td> A</td>\n",
        "      <td>  4861.33</td>\n",
        "      <td> 0.833</td>\n",
        "      <td> 181</td>\n",
        "      <td> 11.54</td>\n",
        "      <td>  7.92</td>\n",
        "      <td> 0.000</td>\n",
        "      <td> 0.4580</td>\n",
        "      <td> 33.53</td>\n",
        "      <td> 27</td>\n",
        "      <td> True</td>\n",
        "      <td>  197.59</td>\n",
        "      <td> 0.956</td>\n",
        "      <td> 229</td>\n",
        "      <td> 11.26</td>\n",
        "      <td>  8.29</td>\n",
        "      <td> 0.000</td>\n",
        "      <td> 0.0506</td>\n",
        "      <td> 14.11</td>\n",
        "      <td>  9</td>\n",
        "      <td> 0.913</td>\n",
        "    </tr>\n",
        "    <tr>\n",
        "      <th>4</th>\n",
        "      <td> chr1</td>\n",
        "      <td> 818025</td>\n",
        "      <td> .</td>\n",
        "      <td>   C</td>\n",
        "      <td> A</td>\n",
        "      <td>  1208.55</td>\n",
        "      <td> 0.216</td>\n",
        "      <td> 163</td>\n",
        "      <td> 21.84</td>\n",
        "      <td> 29.42</td>\n",
        "      <td> 2.481</td>\n",
        "      <td> 0.0894</td>\n",
        "      <td> 18.88</td>\n",
        "      <td> 29</td>\n",
        "      <td> True</td>\n",
        "      <td> 3889.26</td>\n",
        "      <td> 0.429</td>\n",
        "      <td> 205</td>\n",
        "      <td> 24.33</td>\n",
        "      <td> 29.40</td>\n",
        "      <td> 0.000</td>\n",
        "      <td> 0.2565</td>\n",
        "      <td> 25.09</td>\n",
        "      <td> 24</td>\n",
        "      <td> 0.500</td>\n",
        "    </tr>\n",
        "  </tbody>\n",
        "</table>\n",
        "<p>5 rows \u00d7 25 columns</p>\n",
        "</div>"
       ],
       "metadata": {},
       "output_type": "pyout",
       "prompt_number": 118,
       "text": [
        "     0       1  2    3  4         5      6    7      8      9      10      11     12  13    14       15     16   17     18     19     20      21     22  23     24\n",
        "0  chr1  650815  .    G  T     45.31  0.052  161  10.72   8.32  2.963  0.1137   3.02  37  True  3739.03  0.643  304  27.92  41.26  0.548  0.1282  17.00  17  0.802\n",
        "1  chr1  788418  .  CAG  C  10247.62  0.563  492  47.86  64.23  3.646  0.1778  30.50   3  True  6076.01  0.656  438  45.36  61.88  3.738  0.0785  26.30   2  0.611\n",
        "2  chr1  803830  .    A  G   9997.42  0.926  305  14.43   7.99  0.000  0.1255  30.77  12  True   181.95  0.984  287  11.84   7.78  3.522 -0.0837  20.22   2  0.944\n",
        "3  chr1  804148  .    G  A   4861.33  0.833  181  11.54   7.92  0.000  0.4580  33.53  27  True   197.59  0.956  229  11.26   8.29  0.000  0.0506  14.11   9  0.913\n",
        "4  chr1  818025  .    C  A   1208.55  0.216  163  21.84  29.42  2.481  0.0894  18.88  29  True  3889.26  0.429  205  24.33  29.40  0.000  0.2565  25.09  24  0.500\n",
        "\n",
        "[5 rows x 25 columns]"
       ]
      }
     ],
     "prompt_number": 118
    },
    {
     "cell_type": "code",
     "collapsed": false,
     "input": [
      "np.median(outpd[15]-outpd[5])"
     ],
     "language": "python",
     "metadata": {},
     "outputs": [
      {
       "metadata": {},
       "output_type": "pyout",
       "prompt_number": 54,
       "text": [
        "-6581.6850000000004"
       ]
      }
     ],
     "prompt_number": 54
    },
    {
     "cell_type": "code",
     "collapsed": false,
     "input": [
      "#['QUAL','AF', 'DP', 'GQ_MEAN', 'GQ_STDDEV', 'FS', 'InbreedingCoeff', 'QD', 'NCC']\n",
      "np.median(outpd[15]-outpd[7])"
     ],
     "language": "python",
     "metadata": {},
     "outputs": [
      {
       "metadata": {},
       "output_type": "pyout",
       "prompt_number": 19,
       "text": [
        "-3.8200000000000003"
       ]
      }
     ],
     "prompt_number": 19
    },
    {
     "cell_type": "code",
     "collapsed": false,
     "input": [
      "rcParams['figure.figsize'] = (5, 5)\n",
      "rcParams['patch.edgecolor'] = 'blue'\n",
      "rcParams['figure.dpi'] = 300\n",
      "rcParams['font.size'] = 16\n",
      "plt.boxplot([outpd[13], outpd[23]])\n",
      "plt.ylim([0,20])\n",
      "plt.xticks([1,2],[\"hg38\",\"AFRG\"])\n",
      "plt.title(\"Number of no-called samples\")\n",
      "plt.show()"
     ],
     "language": "python",
     "metadata": {},
     "outputs": [
      {
       "metadata": {},
       "output_type": "display_data",
       "png": "[encoded data removed]",
       "text": [
        "<matplotlib.figure.Figure at 0x7f21942d8d90>"
       ]
      }
     ],
     "prompt_number": 91
    },
    {
     "cell_type": "code",
     "collapsed": false,
     "input": [
      "rcParams['figure.figsize'] = (5, 5)\n",
      "rcParams['patch.edgecolor'] = 'blue'\n",
      "rcParams['figure.dpi'] = 300\n",
      "rcParams['font.size'] = 16\n",
      "plt.boxplot([outpd[12], outpd[22]])\n",
      "plt.ylim([0,80])\n",
      "plt.xticks([1,2],[\"hg38\",\"AFRG\"])\n",
      "plt.title(\"Quality by depth\")\n",
      "plt.show()"
     ],
     "language": "python",
     "metadata": {},
     "outputs": [
      {
       "metadata": {},
       "output_type": "display_data",
       "png": "[encoded data removed]",
       "text": [
        "<matplotlib.figure.Figure at 0x7f218fd22ed0>"
       ]
      }
     ],
     "prompt_number": 111
    },
    {
     "cell_type": "code",
     "collapsed": false,
     "input": [
      "rcParams['figure.figsize'] = (5, 5)\n",
      "rcParams['patch.edgecolor'] = 'blue'\n",
      "rcParams['figure.dpi'] = 300\n",
      "rcParams['font.size'] = 16\n",
      "plt.boxplot([outpd[11], outpd[21]])\n",
      "plt.ylim([-1,1])\n",
      "plt.xticks([1,2],[\"hg38\",\"AFRG\"])\n",
      "plt.title(\"InbreedingCoeff\")\n",
      "plt.show()"
     ],
     "language": "python",
     "metadata": {},
     "outputs": [
      {
       "metadata": {},
       "output_type": "display_data",
       "png": "[encoded data removed]",
       "text": [
        "<matplotlib.figure.Figure at 0x7f2194257910>"
       ]
      }
     ],
     "prompt_number": 98
    },
    {
     "cell_type": "code",
     "collapsed": false,
     "input": [
      "rcParams['figure.figsize'] = (5, 5)\n",
      "rcParams['patch.edgecolor'] = 'blue'\n",
      "rcParams['figure.dpi'] = 300\n",
      "rcParams['font.size'] = 16\n",
      "plt.boxplot([outpd[6], outpd[24], outpd[16]])\n",
      "plt.ylim([0,1.01])\n",
      "plt.xticks([1,2],[\"hg38\",\"imputed\",\"AFRG\"])\n",
      "plt.title(\"Allele Frequency\")\n",
      "plt.show()"
     ],
     "language": "python",
     "metadata": {},
     "outputs": [
      {
       "metadata": {},
       "output_type": "display_data",
       "png": "[encoded data removed]",
       "text": [
        "<matplotlib.figure.Figure at 0x7f218fc96ad0>"
       ]
      }
     ],
     "prompt_number": 123
    },
    {
     "cell_type": "code",
     "collapsed": false,
     "input": [
      "rcParams['figure.figsize'] = (10, 5)\n",
      "rcParams['patch.edgecolor'] = 'blue'\n",
      "rcParams['figure.dpi'] = 300\n",
      "rcParams['font.size'] = 16\n",
      "plt.hist(outpd[6],bins=[x/25. for x in range(0,25)], alpha=0.5)\n",
      "#plt.hist(outpd[16],bins=[x/25. for x in range(0,25)], alpha=0.5)\n",
      "plt.hist(outpd[24],bins=[x/25. for x in range(0,25)], alpha=0.5)\n",
      "plt.show()\n",
      "\n",
      "#plt.hist(outpd[6],bins=[x/25. for x in range(0,25)], alpha=0.5)\n",
      "plt.hist(outpd[16],bins=[x/25. for x in range(0,25)], alpha=0.5)\n",
      "plt.hist(outpd[24],bins=[x/25. for x in range(0,25)], alpha=0.5)\n",
      "plt.show()"
     ],
     "language": "python",
     "metadata": {},
     "outputs": [
      {
       "metadata": {},
       "output_type": "display_data",
       "png": "[encoded data removed]",
       "text": [
        "<matplotlib.figure.Figure at 0x7f21867d9850>"
       ]
      },
      {
       "metadata": {},
       "output_type": "display_data",
       "png": "[encoded data removed]",
       "text": [
        "<matplotlib.figure.Figure at 0x7f2186d56190>"
       ]
      }
     ],
     "prompt_number": 158
    }
   ],
   "metadata": {}
  }
 ]
}