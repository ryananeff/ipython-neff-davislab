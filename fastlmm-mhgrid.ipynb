{
 "metadata": {
  "name": ""
 },
 "nbformat": 3,
 "nbformat_minor": 0,
 "worksheets": [
  {
   "cells": [
    {
     "cell_type": "code",
     "collapsed": false,
     "input": [
      "%run ipy_setup.py\n",
      "%matplotlib inline"
     ],
     "language": "python",
     "metadata": {},
     "outputs": [],
     "prompt_number": 1
    },
    {
     "cell_type": "code",
     "collapsed": false,
     "input": [
      "!pip install pysnptools"
     ],
     "language": "python",
     "metadata": {},
     "outputs": [
      {
       "output_type": "stream",
       "stream": "stdout",
       "text": [
        "Downloading/unpacking pysnptools\r\n"
       ]
      },
      {
       "output_type": "stream",
       "stream": "stdout",
       "text": [
        "\u001b[31m  Could not find any downloads that satisfy the requirement pysnptools\r\n",
        "\u001b[0mCleaning up...\r\n",
        "\u001b[31mNo distributions at all found for pysnptools\r\n",
        "\u001b[0m\u001b[31mStoring debug log for failure in /data/projects_gibbons/home/neffra/.pip/pip.log\r\n",
        "\u001b[0m"
       ]
      }
     ],
     "prompt_number": 4
    }
   ],
   "metadata": {}
  }
 ]
}