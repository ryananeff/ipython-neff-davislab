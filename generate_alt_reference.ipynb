{
 "metadata": {
  "name": ""
 },
 "nbformat": 3,
 "nbformat_minor": 0,
 "worksheets": [
  {
   "cells": [
    {
     "cell_type": "code",
     "collapsed": false,
     "input": [
      "%matplotlib inline\n",
      "%run ipy_setup.py"
     ],
     "language": "python",
     "metadata": {},
     "outputs": [],
     "prompt_number": 1
    },
    {
     "cell_type": "code",
     "collapsed": false,
     "input": [
      "%run ipy_parallel.py"
     ],
     "language": "python",
     "metadata": {},
     "outputs": [
      {
       "output_type": "stream",
       "stream": "stdout",
       "text": [
        "importing defaultdict from collections on engine(s)\n",
        "importing json on engine(s)\n",
        "importing sys on engine(s)\n",
        "importing numpy on engine(s)\n",
        "importing scipy on engine(s)"
       ]
      },
      {
       "output_type": "stream",
       "stream": "stdout",
       "text": [
        "\n",
        "importing matplotlib.pyplot on engine(s)\n",
        "importing pandas on engine(s)\n",
        "importing rcParams from matplotlib on engine(s)"
       ]
      },
      {
       "output_type": "stream",
       "stream": "stdout",
       "text": [
        "\n",
        "importing matplotlib.cm on engine(s)\n",
        "importing matplotlib on engine(s)\n",
        "importing Bio on engine(s)"
       ]
      },
      {
       "output_type": "stream",
       "stream": "stdout",
       "text": [
        "\n",
        "importing HTSeq on engine(s)\n"
       ]
      }
     ],
     "prompt_number": 3
    },
    {
     "cell_type": "code",
     "collapsed": false,
     "input": [
      "# do the conversions and keep track of stuff\n",
      "chr1 = chrarray[0]\n",
      "i=0\n",
      "for vc in vcfr:\n",
      "    print vc\n",
      "    print vc.chrom\n",
      "    print chr1[int(vc.pos)-1]\n",
      "    i +=1\n",
      "    if i == 10:\n",
      "        break\n",
      "print len(vc.ref)\n",
      "print len(vc.alt)\n",
      "del sequence\n",
      "sequence = list(str(chr1.seq))"
     ],
     "language": "python",
     "metadata": {},
     "outputs": [
      {
       "ename": "NameError",
       "evalue": "name 'chrarray' is not defined",
       "output_type": "pyerr",
       "traceback": [
        "\u001b[1;31m---------------------------------------------------------------------------\u001b[0m\n\u001b[1;31mNameError\u001b[0m                                 Traceback (most recent call last)",
        "\u001b[1;32m<ipython-input-4-64815e5f7e6e>\u001b[0m in \u001b[0;36m<module>\u001b[1;34m()\u001b[0m\n\u001b[0;32m      1\u001b[0m \u001b[1;31m# do the conversions and keep track of stuff\u001b[0m\u001b[1;33m\u001b[0m\u001b[1;33m\u001b[0m\u001b[0m\n\u001b[1;32m----> 2\u001b[1;33m \u001b[0mchr1\u001b[0m \u001b[1;33m=\u001b[0m \u001b[0mchrarray\u001b[0m\u001b[1;33m[\u001b[0m\u001b[1;36m0\u001b[0m\u001b[1;33m]\u001b[0m\u001b[1;33m\u001b[0m\u001b[0m\n\u001b[0m\u001b[0;32m      3\u001b[0m \u001b[0mi\u001b[0m\u001b[1;33m=\u001b[0m\u001b[1;36m0\u001b[0m\u001b[1;33m\u001b[0m\u001b[0m\n\u001b[0;32m      4\u001b[0m \u001b[1;32mfor\u001b[0m \u001b[0mvc\u001b[0m \u001b[1;32min\u001b[0m \u001b[0mvcfr\u001b[0m\u001b[1;33m:\u001b[0m\u001b[1;33m\u001b[0m\u001b[0m\n\u001b[0;32m      5\u001b[0m     \u001b[1;32mprint\u001b[0m \u001b[0mvc\u001b[0m\u001b[1;33m\u001b[0m\u001b[0m\n",
        "\u001b[1;31mNameError\u001b[0m: name 'chrarray' is not defined"
       ]
      }
     ],
     "prompt_number": 4
    },
    {
     "cell_type": "code",
     "collapsed": false,
     "input": [
      "#sequence.insert(1,list('lol'))\n",
      "test = sequence[0:3]\n",
      "print flatten(test)"
     ],
     "language": "python",
     "metadata": {},
     "outputs": [
      {
       "ename": "NameError",
       "evalue": "name 'sequence' is not defined",
       "output_type": "pyerr",
       "traceback": [
        "\u001b[1;31m---------------------------------------------------------------------------\u001b[0m\n\u001b[1;31mNameError\u001b[0m                                 Traceback (most recent call last)",
        "\u001b[1;32m<ipython-input-3-e52d8aedd52c>\u001b[0m in \u001b[0;36m<module>\u001b[1;34m()\u001b[0m\n\u001b[0;32m      1\u001b[0m \u001b[1;31m#sequence.insert(1,list('lol'))\u001b[0m\u001b[1;33m\u001b[0m\u001b[1;33m\u001b[0m\u001b[0m\n\u001b[1;32m----> 2\u001b[1;33m \u001b[0mtest\u001b[0m \u001b[1;33m=\u001b[0m \u001b[0msequence\u001b[0m\u001b[1;33m[\u001b[0m\u001b[1;36m0\u001b[0m\u001b[1;33m:\u001b[0m\u001b[1;36m3\u001b[0m\u001b[1;33m]\u001b[0m\u001b[1;33m\u001b[0m\u001b[0m\n\u001b[0m\u001b[0;32m      3\u001b[0m \u001b[1;32mprint\u001b[0m \u001b[0mflatten\u001b[0m\u001b[1;33m(\u001b[0m\u001b[0mtest\u001b[0m\u001b[1;33m)\u001b[0m\u001b[1;33m\u001b[0m\u001b[0m\n",
        "\u001b[1;31mNameError\u001b[0m: name 'sequence' is not defined"
       ]
      }
     ],
     "prompt_number": 3
    },
    {
     "cell_type": "code",
     "collapsed": false,
     "input": [
      "del sequence\n",
      "sequence = list(str(chr1.seq))\n",
      "\n",
      "# let's make a new reference sequence\n",
      "chr_size = len(sequence)\n",
      "chr_name = 'chr1'\n",
      "score = 4900 # totally arbitrary\n",
      "current_delta = 0\n",
      "liftover_info = []\n",
      "last_lift_ref = 1\n",
      "last_lift_alt = 1\n",
      "num_chains = 1\n",
      "totaldone = 0\n",
      "totallift = 0\n",
      "for vc in vcfr:\n",
      "    if str(vc.chrom) != chr_name:\n",
      "        break\n",
      "    totaldone += 1\n",
      "    delta = len(vc.alt) - len(vc.ref) #did we move the sequence?\n",
      "    vcpos = int(vc.pos)\n",
      "    refpos = vcpos + current_delta - 1 #let's calculate where we need to go to match the ref position\n",
      "    if vc.ref[0] == '.':\n",
      "        delta += 1\n",
      "    if vc.alt[0] == '.':\n",
      "        delta -= 1\n",
      "    if vc.ref[0].lower() != sequence[refpos][0].lower():\n",
      "        sys.stderr.write(\"Error at variant # \" + str(totaldone) +\"\\n\")\n",
      "        sys.stderr.write(\"\\ttotal lifted: \" +str(len(liftover_info))+\"\\n\")\n",
      "        sys.stderr.write(\"\\texpect: \" + str(sequence[refpos][0])+\"\\n\")\n",
      "        sys.stderr.write(\"\\tgot: \" + str(vc.ref[0])+\"\\n\")\n",
      "        sys.stderr.flush()\n",
      "    if delta == 0: # if we have a 1:1 substitution\n",
      "        if len(vc.ref) == 1: # if we are only dealing with a one base substitution\n",
      "            sequence[refpos] = vc.alt[0]\n",
      "        else:\n",
      "            sequence[refpos:(refpos+len(vc.ref))] = list(vc.alt)\n",
      "    else: # if we are dealing with net addition / subtraction: do it the slow way\n",
      "        sequence[refpos:(refpos+len(vc.ref))] = list(vc.alt)\n",
      "        newpos = delta + current_delta + vcpos\n",
      "        line_info = {'id':num_chains, 'chain':[score,chr_name,chr_size,'.',last_lift_ref, vcpos, chr_name, chr_size,'.',last_lift_alt,newpos]}\n",
      "        liftover_info.append(line_info)\n",
      "        last_lift_ref = vcpos\n",
      "        last_lift_alt = newpos\n",
      "        num_chains += 1\n",
      "        current_delta += delta\n",
      "        totallift += 1\n",
      "    if totaldone % 1000 == 0:\n",
      "        print \"Processed \" + str(totaldone) + \" VCF entries.\"\n",
      "        sys.stdout.flush()"
     ],
     "language": "python",
     "metadata": {},
     "outputs": [
      {
       "output_type": "stream",
       "stream": "stdout",
       "text": [
        "Processed 1000 VCF entries.\n"
       ]
      },
      {
       "output_type": "stream",
       "stream": "stderr",
       "text": [
        "Error at variant # 1477\n",
        "\ttotal lifted: 34\n",
        "\texpect: G\n",
        "\tgot: T\n"
       ]
      },
      {
       "output_type": "stream",
       "stream": "stdout",
       "text": [
        "Processed 2000 VCF entries.\n"
       ]
      },
      {
       "output_type": "stream",
       "stream": "stderr",
       "text": [
        "Error at variant # 2474\n",
        "\ttotal lifted: 53\n",
        "\texpect: G\n",
        "\tgot: C\n"
       ]
      },
      {
       "output_type": "stream",
       "stream": "stderr",
       "text": [
        "Error at variant # 2565\n",
        "\ttotal lifted: 66\n",
        "\texpect: G\n",
        "\tgot: T\n"
       ]
      },
      {
       "output_type": "stream",
       "stream": "stderr",
       "text": [
        "Error at variant # 2578\n",
        "\ttotal lifted: 67\n",
        "\texpect: C\n",
        "\tgot: G\n"
       ]
      },
      {
       "output_type": "stream",
       "stream": "stderr",
       "text": [
        "Error at variant # 2838\n",
        "\ttotal lifted: 70\n",
        "\texpect: T\n",
        "\tgot: C\n"
       ]
      },
      {
       "output_type": "stream",
       "stream": "stdout",
       "text": [
        "Processed 3000 VCF entries.\n"
       ]
      },
      {
       "output_type": "stream",
       "stream": "stderr",
       "text": [
        "Error at variant # 3023\n",
        "\ttotal lifted: 76\n",
        "\texpect: A\n",
        "\tgot: G\n"
       ]
      },
      {
       "output_type": "stream",
       "stream": "stderr",
       "text": [
        "Error at variant # 3088\n",
        "\ttotal lifted: 81\n",
        "\texpect: A\n",
        "\tgot: G\n"
       ]
      },
      {
       "output_type": "stream",
       "stream": "stderr",
       "text": [
        "Error at variant # 3156\n",
        "\ttotal lifted: 85\n",
        "\texpect: C\n",
        "\tgot: T\n"
       ]
      },
      {
       "output_type": "stream",
       "stream": "stderr",
       "text": [
        "Error at variant # 3566\n",
        "\ttotal lifted: 96\n",
        "\texpect: T\n",
        "\tgot: C\n"
       ]
      },
      {
       "output_type": "stream",
       "stream": "stderr",
       "text": [
        "Error at variant # 3741\n",
        "\ttotal lifted: 100\n",
        "\texpect: G\n",
        "\tgot: T\n"
       ]
      },
      {
       "output_type": "stream",
       "stream": "stdout",
       "text": [
        "Processed 4000 VCF entries.\n"
       ]
      },
      {
       "output_type": "stream",
       "stream": "stderr",
       "text": [
        "Error at variant # 4392\n",
        "\ttotal lifted: 130\n",
        "\texpect: A\n",
        "\tgot: T\n"
       ]
      },
      {
       "output_type": "stream",
       "stream": "stdout",
       "text": [
        "Processed 5000 VCF entries.\n"
       ]
      },
      {
       "output_type": "stream",
       "stream": "stderr",
       "text": [
        "Error at variant # 5479\n",
        "\ttotal lifted: 169\n",
        "\texpect: C\n",
        "\tgot: A\n"
       ]
      },
      {
       "output_type": "stream",
       "stream": "stderr",
       "text": [
        "Error at variant # 5521\n",
        "\ttotal lifted: 170\n",
        "\texpect: A\n",
        "\tgot: G\n"
       ]
      },
      {
       "output_type": "stream",
       "stream": "stdout",
       "text": [
        "Processed 6000 VCF entries.\n"
       ]
      },
      {
       "output_type": "stream",
       "stream": "stderr",
       "text": [
        "Error at variant # 6039\n",
        "\ttotal lifted: 183\n",
        "\texpect: G\n",
        "\tgot: C\n"
       ]
      },
      {
       "output_type": "stream",
       "stream": "stdout",
       "text": [
        "Processed 7000 VCF entries.\n"
       ]
      },
      {
       "output_type": "stream",
       "stream": "stderr",
       "text": [
        "Error at variant # 7314\n",
        "\ttotal lifted: 235\n",
        "\texpect: T\n",
        "\tgot: A\n"
       ]
      },
      {
       "output_type": "stream",
       "stream": "stderr",
       "text": [
        "Error at variant # 7322\n",
        "\ttotal lifted: 239\n",
        "\texpect: c\n",
        "\tgot: T\n"
       ]
      },
      {
       "output_type": "stream",
       "stream": "stderr",
       "text": [
        "Error at variant # 7834\n",
        "\ttotal lifted: 254\n",
        "\texpect: T\n",
        "\tgot: C\n"
       ]
      },
      {
       "output_type": "stream",
       "stream": "stdout",
       "text": [
        "Processed 8000 VCF entries.\n"
       ]
      },
      {
       "output_type": "stream",
       "stream": "stderr",
       "text": [
        "Error at variant # 8603\n",
        "\ttotal lifted: 280\n",
        "\texpect: C\n",
        "\tgot: A\n"
       ]
      },
      {
       "output_type": "stream",
       "stream": "stderr",
       "text": [
        "Error at variant # 8975\n",
        "\ttotal lifted: 295\n",
        "\texpect: C\n",
        "\tgot: A\n"
       ]
      },
      {
       "output_type": "stream",
       "stream": "stderr",
       "text": [
        "Error at variant # 8977\n",
        "\ttotal lifted: 295\n",
        "\texpect: C\n",
        "\tgot: T\n"
       ]
      },
      {
       "output_type": "stream",
       "stream": "stdout",
       "text": [
        "Processed 9000 VCF entries.\n"
       ]
      },
      {
       "output_type": "stream",
       "stream": "stderr",
       "text": [
        "Error at variant # 9004\n",
        "\ttotal lifted: 299\n",
        "\texpect: T\n",
        "\tgot: G\n"
       ]
      },
      {
       "output_type": "stream",
       "stream": "stderr",
       "text": [
        "Error at variant # 9930\n",
        "\ttotal lifted: 335\n",
        "\texpect: G\n",
        "\tgot: A\n"
       ]
      },
      {
       "output_type": "stream",
       "stream": "stdout",
       "text": [
        "Processed 10000 VCF entries.\n"
       ]
      },
      {
       "output_type": "stream",
       "stream": "stderr",
       "text": [
        "Error at variant # 10466\n",
        "\ttotal lifted: 363\n",
        "\texpect: C\n",
        "\tgot: T\n"
       ]
      },
      {
       "output_type": "stream",
       "stream": "stderr",
       "text": [
        "Error at variant # 10578\n",
        "\ttotal lifted: 369\n",
        "\texpect: T\n",
        "\tgot: G\n"
       ]
      },
      {
       "output_type": "stream",
       "stream": "stdout",
       "text": [
        "Processed 11000 VCF entries.\n"
       ]
      },
      {
       "output_type": "stream",
       "stream": "stderr",
       "text": [
        "Error at variant # 11686\n",
        "\ttotal lifted: 406\n",
        "\texpect: G\n",
        "\tgot: A\n"
       ]
      },
      {
       "output_type": "stream",
       "stream": "stderr",
       "text": [
        "Error at variant # 11859\n",
        "\ttotal lifted: 420\n",
        "\texpect: A\n",
        "\tgot: G\n"
       ]
      },
      {
       "output_type": "stream",
       "stream": "stdout",
       "text": [
        "Processed 12000 VCF entries.\n"
       ]
      },
      {
       "output_type": "stream",
       "stream": "stderr",
       "text": [
        "Error at variant # 12702\n",
        "\ttotal lifted: 450\n",
        "\texpect: C\n",
        "\tgot: A\n"
       ]
      },
      {
       "output_type": "stream",
       "stream": "stderr",
       "text": [
        "Error at variant # 12712\n",
        "\ttotal lifted: 452\n",
        "\texpect: G\n",
        "\tgot: A\n"
       ]
      },
      {
       "output_type": "stream",
       "stream": "stderr",
       "text": [
        "Error at variant # 12913\n",
        "\ttotal lifted: 459\n",
        "\texpect: C\n",
        "\tgot: A\n"
       ]
      },
      {
       "output_type": "stream",
       "stream": "stdout",
       "text": [
        "Processed 13000 VCF entries.\n"
       ]
      },
      {
       "output_type": "stream",
       "stream": "stderr",
       "text": [
        "Error at variant # 13058\n",
        "\ttotal lifted: 464\n",
        "\texpect: T\n",
        "\tgot: G\n"
       ]
      },
      {
       "output_type": "stream",
       "stream": "stderr",
       "text": [
        "Error at variant # 13356\n",
        "\ttotal lifted: 474\n",
        "\texpect: C\n",
        "\tgot: T\n"
       ]
      },
      {
       "output_type": "stream",
       "stream": "stderr",
       "text": [
        "Error at variant # 13481\n",
        "\ttotal lifted: 481\n",
        "\texpect: T\n",
        "\tgot: C\n"
       ]
      },
      {
       "output_type": "stream",
       "stream": "stdout",
       "text": [
        "Processed 14000 VCF entries.\n"
       ]
      },
      {
       "output_type": "stream",
       "stream": "stderr",
       "text": [
        "Error at variant # 14002\n",
        "\ttotal lifted: 506\n",
        "\texpect: C\n",
        "\tgot: T\n"
       ]
      },
      {
       "output_type": "stream",
       "stream": "stderr",
       "text": [
        "Error at variant # 14858\n",
        "\ttotal lifted: 545\n",
        "\texpect: a\n",
        "\tgot: T\n"
       ]
      },
      {
       "output_type": "stream",
       "stream": "stderr",
       "text": [
        "Error at variant # 14860\n",
        "\ttotal lifted: 547\n",
        "\texpect: a\n",
        "\tgot: T\n"
       ]
      },
      {
       "output_type": "stream",
       "stream": "stdout",
       "text": [
        "Processed 15000 VCF entries.\n"
       ]
      },
      {
       "output_type": "stream",
       "stream": "stderr",
       "text": [
        "Error at variant # 15423\n",
        "\ttotal lifted: 582\n",
        "\texpect: T\n",
        "\tgot: C\n"
       ]
      },
      {
       "output_type": "stream",
       "stream": "stderr",
       "text": [
        "Error at variant # 15860\n",
        "\ttotal lifted: 598\n",
        "\texpect: A\n",
        "\tgot: C\n"
       ]
      },
      {
       "output_type": "stream",
       "stream": "stdout",
       "text": [
        "Processed 16000 VCF entries.\n"
       ]
      },
      {
       "output_type": "stream",
       "stream": "stderr",
       "text": [
        "Error at variant # 16083\n",
        "\ttotal lifted: 605\n",
        "\texpect: T\n",
        "\tgot: A\n"
       ]
      },
      {
       "output_type": "stream",
       "stream": "stderr",
       "text": [
        "Error at variant # 16903\n",
        "\ttotal lifted: 623\n",
        "\texpect: C\n",
        "\tgot: A\n"
       ]
      },
      {
       "output_type": "stream",
       "stream": "stdout",
       "text": [
        "Processed 17000 VCF entries.\n"
       ]
      },
      {
       "output_type": "stream",
       "stream": "stderr",
       "text": [
        "Error at variant # 17159\n",
        "\ttotal lifted: 628\n",
        "\texpect: T\n",
        "\tgot: A\n"
       ]
      },
      {
       "output_type": "stream",
       "stream": "stderr",
       "text": [
        "Error at variant # 17435\n",
        "\ttotal lifted: 633\n",
        "\texpect: T\n",
        "\tgot: C\n"
       ]
      },
      {
       "output_type": "stream",
       "stream": "stderr",
       "text": [
        "Error at variant # 17443\n",
        "\ttotal lifted: 634\n",
        "\texpect: T\n",
        "\tgot: C\n"
       ]
      },
      {
       "output_type": "stream",
       "stream": "stderr",
       "text": [
        "Error at variant # 17482\n",
        "\ttotal lifted: 638\n",
        "\texpect: T\n",
        "\tgot: C\n"
       ]
      },
      {
       "output_type": "stream",
       "stream": "stderr",
       "text": [
        "Error at variant # 17620\n",
        "\ttotal lifted: 646\n",
        "\texpect: A\n",
        "\tgot: T\n"
       ]
      },
      {
       "output_type": "stream",
       "stream": "stdout",
       "text": [
        "Processed 18000 VCF entries.\n"
       ]
      },
      {
       "output_type": "stream",
       "stream": "stderr",
       "text": [
        "Error at variant # 18090\n",
        "\ttotal lifted: 663\n",
        "\texpect: C\n",
        "\tgot: T\n"
       ]
      },
      {
       "output_type": "stream",
       "stream": "stderr",
       "text": [
        "Error at variant # 18408\n",
        "\ttotal lifted: 677\n",
        "\texpect: T\n",
        "\tgot: C\n"
       ]
      },
      {
       "output_type": "stream",
       "stream": "stderr",
       "text": [
        "Error at variant # 18682\n",
        "\ttotal lifted: 683\n",
        "\texpect: C\n",
        "\tgot: G\n"
       ]
      },
      {
       "output_type": "stream",
       "stream": "stderr",
       "text": [
        "Error at variant # 18768\n",
        "\ttotal lifted: 684\n",
        "\texpect: G\n",
        "\tgot: T\n"
       ]
      },
      {
       "output_type": "stream",
       "stream": "stdout",
       "text": [
        "Processed 19000 VCF entries.\n"
       ]
      },
      {
       "output_type": "stream",
       "stream": "stderr",
       "text": [
        "Error at variant # 19028\n",
        "\ttotal lifted: 700\n",
        "\texpect: C\n",
        "\tgot: A\n"
       ]
      },
      {
       "output_type": "stream",
       "stream": "stderr",
       "text": [
        "Error at variant # 19308\n",
        "\ttotal lifted: 710\n",
        "\texpect: C\n",
        "\tgot: A\n"
       ]
      },
      {
       "output_type": "stream",
       "stream": "stderr",
       "text": [
        "Error at variant # 19552\n",
        "\ttotal lifted: 720\n",
        "\texpect: G\n",
        "\tgot: T\n"
       ]
      },
      {
       "output_type": "stream",
       "stream": "stderr",
       "text": [
        "Error at variant # 19834\n",
        "\ttotal lifted: 726\n",
        "\texpect: A\n",
        "\tgot: C\n"
       ]
      },
      {
       "output_type": "stream",
       "stream": "stdout",
       "text": [
        "Processed 20000 VCF entries.\n"
       ]
      },
      {
       "output_type": "stream",
       "stream": "stderr",
       "text": [
        "Error at variant # 20522\n",
        "\ttotal lifted: 749\n",
        "\texpect: G\n",
        "\tgot: T\n"
       ]
      },
      {
       "output_type": "stream",
       "stream": "stderr",
       "text": [
        "Error at variant # 20927\n",
        "\ttotal lifted: 770\n",
        "\texpect: T\n",
        "\tgot: C\n"
       ]
      },
      {
       "output_type": "stream",
       "stream": "stdout",
       "text": [
        "Processed 21000 VCF entries.\n"
       ]
      },
      {
       "output_type": "stream",
       "stream": "stderr",
       "text": [
        "Error at variant # 21136\n",
        "\ttotal lifted: 781\n",
        "\texpect: C\n",
        "\tgot: A\n"
       ]
      },
      {
       "output_type": "stream",
       "stream": "stderr",
       "text": [
        "Error at variant # 21253\n",
        "\ttotal lifted: 791\n",
        "\texpect: A\n",
        "\tgot: T\n"
       ]
      },
      {
       "output_type": "stream",
       "stream": "stderr",
       "text": [
        "Error at variant # 21581\n",
        "\ttotal lifted: 818\n",
        "\texpect: a\n",
        "\tgot: T\n"
       ]
      },
      {
       "output_type": "stream",
       "stream": "stderr",
       "text": [
        "Error at variant # 21641\n",
        "\ttotal lifted: 825\n",
        "\texpect: C\n",
        "\tgot: T\n"
       ]
      },
      {
       "output_type": "stream",
       "stream": "stderr",
       "text": [
        "Error at variant # 21759\n",
        "\ttotal lifted: 835\n",
        "\texpect: T\n",
        "\tgot: A\n"
       ]
      },
      {
       "output_type": "stream",
       "stream": "stdout",
       "text": [
        "Processed 22000 VCF entries.\n"
       ]
      },
      {
       "output_type": "stream",
       "stream": "stderr",
       "text": [
        "Error at variant # 22286\n",
        "\ttotal lifted: 860\n",
        "\texpect: C\n",
        "\tgot: T\n"
       ]
      },
      {
       "output_type": "stream",
       "stream": "stderr",
       "text": [
        "Error at variant # 22542\n",
        "\ttotal lifted: 864\n",
        "\texpect: G\n",
        "\tgot: A\n"
       ]
      },
      {
       "output_type": "stream",
       "stream": "stderr",
       "text": [
        "Error at variant # 22726\n",
        "\ttotal lifted: 872\n",
        "\texpect: c\n",
        "\tgot: T\n"
       ]
      },
      {
       "output_type": "stream",
       "stream": "stderr",
       "text": [
        "Error at variant # 22773\n",
        "\ttotal lifted: 874\n",
        "\texpect: A\n",
        "\tgot: T\n"
       ]
      },
      {
       "output_type": "stream",
       "stream": "stderr",
       "text": [
        "Error at variant # 22820\n",
        "\ttotal lifted: 878\n",
        "\texpect: C\n",
        "\tgot: A\n"
       ]
      },
      {
       "output_type": "stream",
       "stream": "stdout",
       "text": [
        "Processed 23000 VCF entries.\n"
       ]
      },
      {
       "output_type": "stream",
       "stream": "stderr",
       "text": [
        "Error at variant # 23111\n",
        "\ttotal lifted: 889\n",
        "\texpect: A\n",
        "\tgot: T\n"
       ]
      },
      {
       "output_type": "stream",
       "stream": "stderr",
       "text": [
        "Error at variant # 23152\n",
        "\ttotal lifted: 891\n",
        "\texpect: A\n",
        "\tgot: G\n"
       ]
      },
      {
       "output_type": "stream",
       "stream": "stderr",
       "text": [
        "Error at variant # 23656\n",
        "\ttotal lifted: 920\n",
        "\texpect: A\n",
        "\tgot: G\n"
       ]
      },
      {
       "output_type": "stream",
       "stream": "stderr",
       "text": [
        "Error at variant # 23677\n",
        "\ttotal lifted: 923\n",
        "\texpect: T\n",
        "\tgot: C\n"
       ]
      },
      {
       "output_type": "stream",
       "stream": "stderr",
       "text": [
        "Error at variant # 23970\n",
        "\ttotal lifted: 934\n",
        "\texpect: A\n",
        "\tgot: T\n"
       ]
      },
      {
       "output_type": "stream",
       "stream": "stdout",
       "text": [
        "Processed 24000 VCF entries.\n"
       ]
      },
      {
       "output_type": "stream",
       "stream": "stderr",
       "text": [
        "Error at variant # 24254\n",
        "\ttotal lifted: 955\n",
        "\texpect: T\n",
        "\tgot: G\n"
       ]
      },
      {
       "output_type": "stream",
       "stream": "stderr",
       "text": [
        "Error at variant # 24408\n",
        "\ttotal lifted: 966\n",
        "\texpect: T\n",
        "\tgot: C\n"
       ]
      },
      {
       "output_type": "stream",
       "stream": "stdout",
       "text": [
        "Processed 25000 VCF entries.\n"
       ]
      },
      {
       "output_type": "stream",
       "stream": "stderr",
       "text": [
        "Error at variant # 25203\n",
        "\ttotal lifted: 993\n",
        "\texpect: G\n",
        "\tgot: A\n"
       ]
      },
      {
       "output_type": "stream",
       "stream": "stderr",
       "text": [
        "Error at variant # 25372\n",
        "\ttotal lifted: 994\n",
        "\texpect: A\n",
        "\tgot: T\n"
       ]
      },
      {
       "output_type": "stream",
       "stream": "stderr",
       "text": [
        "Error at variant # 25377\n",
        "\ttotal lifted: 994\n",
        "\texpect: A\n",
        "\tgot: G\n"
       ]
      },
      {
       "output_type": "stream",
       "stream": "stderr",
       "text": [
        "Error at variant # 25537\n",
        "\ttotal lifted: 1004\n",
        "\texpect: C\n",
        "\tgot: T\n"
       ]
      },
      {
       "output_type": "stream",
       "stream": "stderr",
       "text": [
        "Error at variant # 25552\n",
        "\ttotal lifted: 1005\n",
        "\texpect: T\n",
        "\tgot: G\n"
       ]
      },
      {
       "ename": "KeyboardInterrupt",
       "evalue": "",
       "output_type": "pyerr",
       "traceback": [
        "\u001b[1;31m---------------------------------------------------------------------------\u001b[0m\n\u001b[1;31mKeyboardInterrupt\u001b[0m                         Traceback (most recent call last)",
        "\u001b[1;32m<ipython-input-130-1f24f630beb5>\u001b[0m in \u001b[0;36m<module>\u001b[1;34m()\u001b[0m\n\u001b[0;32m     36\u001b[0m             \u001b[0msequence\u001b[0m\u001b[1;33m[\u001b[0m\u001b[0mrefpos\u001b[0m\u001b[1;33m:\u001b[0m\u001b[1;33m(\u001b[0m\u001b[0mrefpos\u001b[0m\u001b[1;33m+\u001b[0m\u001b[0mlen\u001b[0m\u001b[1;33m(\u001b[0m\u001b[0mvc\u001b[0m\u001b[1;33m.\u001b[0m\u001b[0mref\u001b[0m\u001b[1;33m)\u001b[0m\u001b[1;33m)\u001b[0m\u001b[1;33m]\u001b[0m \u001b[1;33m=\u001b[0m \u001b[0mlist\u001b[0m\u001b[1;33m(\u001b[0m\u001b[0mvc\u001b[0m\u001b[1;33m.\u001b[0m\u001b[0malt\u001b[0m\u001b[1;33m)\u001b[0m\u001b[1;33m\u001b[0m\u001b[0m\n\u001b[0;32m     37\u001b[0m     \u001b[1;32melse\u001b[0m\u001b[1;33m:\u001b[0m \u001b[1;31m# if we are dealing with net addition / subtraction: do it the slow way\u001b[0m\u001b[1;33m\u001b[0m\u001b[0m\n\u001b[1;32m---> 38\u001b[1;33m         \u001b[0msequence\u001b[0m\u001b[1;33m[\u001b[0m\u001b[0mrefpos\u001b[0m\u001b[1;33m:\u001b[0m\u001b[1;33m(\u001b[0m\u001b[0mrefpos\u001b[0m\u001b[1;33m+\u001b[0m\u001b[0mlen\u001b[0m\u001b[1;33m(\u001b[0m\u001b[0mvc\u001b[0m\u001b[1;33m.\u001b[0m\u001b[0mref\u001b[0m\u001b[1;33m)\u001b[0m\u001b[1;33m)\u001b[0m\u001b[1;33m]\u001b[0m \u001b[1;33m=\u001b[0m \u001b[0mlist\u001b[0m\u001b[1;33m(\u001b[0m\u001b[0mvc\u001b[0m\u001b[1;33m.\u001b[0m\u001b[0malt\u001b[0m\u001b[1;33m)\u001b[0m\u001b[1;33m\u001b[0m\u001b[0m\n\u001b[0m\u001b[0;32m     39\u001b[0m         \u001b[0mnewpos\u001b[0m \u001b[1;33m=\u001b[0m \u001b[0mdelta\u001b[0m \u001b[1;33m+\u001b[0m \u001b[0mcurrent_delta\u001b[0m \u001b[1;33m+\u001b[0m \u001b[0mvcpos\u001b[0m\u001b[1;33m\u001b[0m\u001b[0m\n\u001b[0;32m     40\u001b[0m         \u001b[0mline_info\u001b[0m \u001b[1;33m=\u001b[0m \u001b[1;33m{\u001b[0m\u001b[1;34m'id'\u001b[0m\u001b[1;33m:\u001b[0m\u001b[0mnum_chains\u001b[0m\u001b[1;33m,\u001b[0m \u001b[1;34m'chain'\u001b[0m\u001b[1;33m:\u001b[0m\u001b[1;33m[\u001b[0m\u001b[0mscore\u001b[0m\u001b[1;33m,\u001b[0m\u001b[0mchr_name\u001b[0m\u001b[1;33m,\u001b[0m\u001b[0mchr_size\u001b[0m\u001b[1;33m,\u001b[0m\u001b[1;34m'.'\u001b[0m\u001b[1;33m,\u001b[0m\u001b[0mlast_lift_ref\u001b[0m\u001b[1;33m,\u001b[0m \u001b[0mvcpos\u001b[0m\u001b[1;33m,\u001b[0m \u001b[0mchr_name\u001b[0m\u001b[1;33m,\u001b[0m \u001b[0mchr_size\u001b[0m\u001b[1;33m,\u001b[0m\u001b[1;34m'.'\u001b[0m\u001b[1;33m,\u001b[0m\u001b[0mlast_lift_alt\u001b[0m\u001b[1;33m,\u001b[0m\u001b[0mnewpos\u001b[0m\u001b[1;33m]\u001b[0m\u001b[1;33m}\u001b[0m\u001b[1;33m\u001b[0m\u001b[0m\n",
        "\u001b[1;31mKeyboardInterrupt\u001b[0m: "
       ]
      }
     ],
     "prompt_number": 130
    },
    {
     "cell_type": "code",
     "collapsed": false,
     "input": [
      "sequence[811668:811680]"
     ],
     "language": "python",
     "metadata": {},
     "outputs": [
      {
       "ename": "NameError",
       "evalue": "name 'sequence' is not defined",
       "output_type": "pyerr",
       "traceback": [
        "\u001b[1;31m---------------------------------------------------------------------------\u001b[0m\n\u001b[1;31mNameError\u001b[0m                                 Traceback (most recent call last)",
        "\u001b[1;32m<ipython-input-6-c8a73e8c1a94>\u001b[0m in \u001b[0;36m<module>\u001b[1;34m()\u001b[0m\n\u001b[1;32m----> 1\u001b[1;33m \u001b[0msequence\u001b[0m\u001b[1;33m[\u001b[0m\u001b[1;36m811668\u001b[0m\u001b[1;33m:\u001b[0m\u001b[1;36m811680\u001b[0m\u001b[1;33m]\u001b[0m\u001b[1;33m\u001b[0m\u001b[0m\n\u001b[0m",
        "\u001b[1;31mNameError\u001b[0m: name 'sequence' is not defined"
       ]
      }
     ],
     "prompt_number": 6
    },
    {
     "cell_type": "code",
     "collapsed": false,
     "input": [
      "vcpos = 2\n",
      "delta = 0\n",
      "test = list(str('abcdefxyz'))\n",
      "refpos = vcpos - delta - 1\n",
      "vcref = 'bcd'\n",
      "vcalt = 'ghijk'\n",
      "print len(test)\n",
      "print test[5+delta]\n",
      "test[refpos:(refpos+len(vcref))] = list(vcalt)\n",
      "delta = len(vcalt) - len(vcref)\n",
      "print test\n",
      "print len(test)\n",
      "print delta\n",
      "print test[5+delta]\n",
      "seqt = ht.Sequence(''.join(test), name='chr4')\n",
      "seqt.seq"
     ],
     "language": "python",
     "metadata": {},
     "outputs": [
      {
       "output_type": "stream",
       "stream": "stdout",
       "text": [
        "9\n",
        "f\n",
        "['a', 'g', 'h', 'i', 'j', 'k', 'e', 'f', 'x', 'y', 'z']\n",
        "11\n",
        "2\n",
        "f\n"
       ]
      },
      {
       "metadata": {},
       "output_type": "pyout",
       "prompt_number": 5,
       "text": [
        "'aghijkefxyz'"
       ]
      }
     ],
     "prompt_number": 5
    },
    {
     "cell_type": "code",
     "collapsed": false,
     "input": [
      "test = pysam.faidx(ref,'chr1')"
     ],
     "language": "python",
     "metadata": {},
     "outputs": [
      {
       "ename": "UnsupportedOperation",
       "evalue": "IOStream has no fileno.",
       "output_type": "pyerr",
       "traceback": [
        "\u001b[1;31m---------------------------------------------------------------------------\u001b[0m\n\u001b[1;31mUnsupportedOperation\u001b[0m                      Traceback (most recent call last)",
        "\u001b[1;32m<ipython-input-17-b60070d5ad7e>\u001b[0m in \u001b[0;36m<module>\u001b[1;34m()\u001b[0m\n\u001b[1;32m----> 1\u001b[1;33m \u001b[0mtest\u001b[0m \u001b[1;33m=\u001b[0m \u001b[0mpysam\u001b[0m\u001b[1;33m.\u001b[0m\u001b[0mfaidx\u001b[0m\u001b[1;33m(\u001b[0m\u001b[0mref\u001b[0m\u001b[1;33m,\u001b[0m\u001b[1;34m'chr1'\u001b[0m\u001b[1;33m)\u001b[0m\u001b[1;33m\u001b[0m\u001b[0m\n\u001b[0m",
        "\u001b[1;32m/home/ryan/anaconda/lib/python2.7/site-packages/pysam/__init__.pyc\u001b[0m in \u001b[0;36m__call__\u001b[1;34m(self, *args, **kwargs)\u001b[0m\n\u001b[0;32m     48\u001b[0m         '''execute a samtools command\n\u001b[0;32m     49\u001b[0m         '''\n\u001b[1;32m---> 50\u001b[1;33m         \u001b[0mretval\u001b[0m\u001b[1;33m,\u001b[0m \u001b[0mstderr\u001b[0m\u001b[1;33m,\u001b[0m \u001b[0mstdout\u001b[0m \u001b[1;33m=\u001b[0m \u001b[0mcsamtools\u001b[0m\u001b[1;33m.\u001b[0m\u001b[0m_samtools_dispatch\u001b[0m\u001b[1;33m(\u001b[0m \u001b[0mself\u001b[0m\u001b[1;33m.\u001b[0m\u001b[0mdispatch\u001b[0m\u001b[1;33m,\u001b[0m \u001b[0margs\u001b[0m \u001b[1;33m)\u001b[0m\u001b[1;33m\u001b[0m\u001b[0m\n\u001b[0m\u001b[0;32m     51\u001b[0m         \u001b[1;32mif\u001b[0m \u001b[0mretval\u001b[0m\u001b[1;33m:\u001b[0m \u001b[1;32mraise\u001b[0m \u001b[0mSamtoolsError\u001b[0m\u001b[1;33m(\u001b[0m \u001b[1;34m\"\\n\"\u001b[0m\u001b[1;33m.\u001b[0m\u001b[0mjoin\u001b[0m\u001b[1;33m(\u001b[0m \u001b[0mstderr\u001b[0m \u001b[1;33m)\u001b[0m \u001b[1;33m)\u001b[0m\u001b[1;33m\u001b[0m\u001b[0m\n\u001b[0;32m     52\u001b[0m         \u001b[0mself\u001b[0m\u001b[1;33m.\u001b[0m\u001b[0mstderr\u001b[0m \u001b[1;33m=\u001b[0m \u001b[0mstderr\u001b[0m\u001b[1;33m\u001b[0m\u001b[0m\n",
        "\u001b[1;32m/home/ryan/anaconda/lib/python2.7/site-packages/csamtools.so\u001b[0m in \u001b[0;36mcsamtools._samtools_dispatch (pysam/csamtools.c:26163)\u001b[1;34m()\u001b[0m\n",
        "\u001b[1;32m/home/ryan/anaconda/lib/python2.7/site-packages/IPython/kernel/zmq/iostream.pyc\u001b[0m in \u001b[0;36mfileno\u001b[1;34m(self)\u001b[0m\n\u001b[0;32m    174\u001b[0m \u001b[1;33m\u001b[0m\u001b[0m\n\u001b[0;32m    175\u001b[0m     \u001b[1;32mdef\u001b[0m \u001b[0mfileno\u001b[0m\u001b[1;33m(\u001b[0m\u001b[0mself\u001b[0m\u001b[1;33m)\u001b[0m\u001b[1;33m:\u001b[0m\u001b[1;33m\u001b[0m\u001b[0m\n\u001b[1;32m--> 176\u001b[1;33m         \u001b[1;32mraise\u001b[0m \u001b[0mUnsupportedOperation\u001b[0m\u001b[1;33m(\u001b[0m\u001b[1;34m\"IOStream has no fileno.\"\u001b[0m\u001b[1;33m)\u001b[0m\u001b[1;33m\u001b[0m\u001b[0m\n\u001b[0m\u001b[0;32m    177\u001b[0m \u001b[1;33m\u001b[0m\u001b[0m\n\u001b[0;32m    178\u001b[0m     \u001b[1;32mdef\u001b[0m \u001b[0mwrite\u001b[0m\u001b[1;33m(\u001b[0m\u001b[0mself\u001b[0m\u001b[1;33m,\u001b[0m \u001b[0mstring\u001b[0m\u001b[1;33m)\u001b[0m\u001b[1;33m:\u001b[0m\u001b[1;33m\u001b[0m\u001b[0m\n",
        "\u001b[1;31mUnsupportedOperation\u001b[0m: IOStream has no fileno."
       ]
      }
     ],
     "prompt_number": 17
    },
    {
     "cell_type": "code",
     "collapsed": false,
     "input": [
      "time.strftime(\"%m%d%y_%H%M%S\")"
     ],
     "language": "python",
     "metadata": {},
     "outputs": [
      {
       "metadata": {},
       "output_type": "pyout",
       "prompt_number": 42,
       "text": [
        "'020414_163503'"
       ]
      }
     ],
     "prompt_number": 42
    },
    {
     "cell_type": "heading",
     "level": 1,
     "metadata": {},
     "source": [
      "Finalized"
     ]
    },
    {
     "cell_type": "code",
     "collapsed": false,
     "input": [
      "int('13 out.log'.split(' ')[0])"
     ],
     "language": "python",
     "metadata": {},
     "outputs": [
      {
       "metadata": {},
       "output_type": "pyout",
       "prompt_number": 22,
       "text": [
        "13"
       ]
      }
     ],
     "prompt_number": 22
    },
    {
     "cell_type": "code",
     "collapsed": false,
     "input": [
      "num = subprocess.check_output('head -n 400 out.recode.vcf | grep \"#\" | wc -l', shell=True)\n",
      "vcfr_before = pd.read_csv('out.recode.vcf', header=None, sep='\\t', skiprows=int(num))"
     ],
     "language": "python",
     "metadata": {},
     "outputs": [
      {
       "output_type": "stream",
       "stream": "stdout",
       "text": [
        "\n"
       ]
      }
     ],
     "prompt_number": 8
    },
    {
     "cell_type": "code",
     "collapsed": false,
     "input": [
      "num = subprocess.check_output('head -n 400 out.recode.vcf | grep \"#\" | wc -l', shell=True)\n",
      "vcfr_before = pd.read_csv('out.recode.vcf', header=None, sep='\\t', skiprows=int(num))\n",
      "vcfr = []\n",
      "\n",
      "class bogusVariant:\n",
      "    def __init__(self):\n",
      "        self.pos = int()\n",
      "        self.chrom = str()\n",
      "        self.ref = str()\n",
      "        self.alt = str()\n",
      "    def __str__(self):\n",
      "        return str({\"chrom\":self.chrom,\n",
      "                \"pos\":self.pos,\n",
      "                \"ref\":self.ref,\n",
      "                \"alt\":self.alt})\n",
      "\n",
      "vcfr = []\n",
      "for i in vcfr_before[0:10].iterrows():\n",
      "    vc = bogusVariant()\n",
      "    vc.pos = i[1][1]\n",
      "    vc.chrom = i[1][0]\n",
      "    vc.ref = i[1][3]\n",
      "    if ',' in vc.ref:\n",
      "        vc.ref = vc.ref.split(',')\n",
      "    vc.alt = i[1][4]\n",
      "    if ',' in vc.alt:\n",
      "        vc.alt.split(',')\n",
      "    vcfr.append(vc)\n",
      "    print vc\n",
      "    print len(vc.alt) - len(vc.ref)"
     ],
     "language": "python",
     "metadata": {},
     "outputs": [
      {
       "output_type": "stream",
       "stream": "stdout",
       "text": [
        "{'ref': 'AC', 'alt': 'A', 'chrom': 'chr1', 'pos': 10329}\n",
        "-1\n",
        "{'ref': 'C', 'alt': 'T', 'chrom': 'chr1', 'pos': 10609}\n",
        "0\n",
        "{'ref': 'A', 'alt': 'G', 'chrom': 'chr1', 'pos': 28563}\n",
        "0\n",
        "{'ref': 'T', 'alt': 'TTGG', 'chrom': 'chr1', 'pos': 28590}\n",
        "3\n",
        "{'ref': 'T', 'alt': 'TGG', 'chrom': 'chr1', 'pos': 28591}\n",
        "2\n",
        "{'ref': 'CT', 'alt': 'C', 'chrom': 'chr1', 'pos': 33530}\n",
        "-1\n",
        "{'ref': 'T', 'alt': 'A', 'chrom': 'chr1', 'pos': 47960}\n",
        "0\n",
        "{'ref': 'T', 'alt': 'C', 'chrom': 'chr1', 'pos': 49298}\n",
        "0\n",
        "{'ref': 'C', 'alt': 'A', 'chrom': 'chr1', 'pos': 55164}\n",
        "0\n",
        "{'ref': 'C', 'alt': 'T', 'chrom': 'chr1', 'pos': 55299}\n",
        "0\n"
       ]
      }
     ],
     "prompt_number": 19
    },
    {
     "cell_type": "code",
     "collapsed": false,
     "input": [
      "#!/bin/sh\n",
      "def sequence_maker(chr_name, timeseq, vcf):\n",
      "    import numpy as np\n",
      "    import pandas as pd\n",
      "    import scipy as sp\n",
      "    import sys\n",
      "    import subprocess\n",
      "    \n",
      "    import HTSeq as ht\n",
      "    import itertools\n",
      "    import time\n",
      "    \n",
      "    class AwesomeError(Exception):\n",
      "         def __init__(self, value):\n",
      "             self.value = value\n",
      "             pass\n",
      "         def __str__(self):\n",
      "             return repr(self.value)\n",
      "             pass\n",
      "    \n",
      "    class bogusVariant:\n",
      "        def __init__(self):\n",
      "            self.pos = int()\n",
      "            self.chrom = str()\n",
      "            self.ref = str()\n",
      "            self.alt = str()\n",
      "        def __str__(self):\n",
      "            return str({\"chrom\":self.chrom,\n",
      "                    \"pos\":self.pos,\n",
      "                    \"ref\":self.ref,\n",
      "                    \"alt\":self.alt})\n",
      "    \n",
      "    sequence = \"\"\n",
      "    ref_dir = '/data/projects_gibbons/home/neffra/references/individs/'\n",
      "    changevcf_dir = '/'.join(vcf.split('/')[0:-1]) + '/'\n",
      "    alt_file = open(changevcf_dir + \"alt_sequence-\" + timeseq + \"-\" + chr_name ,\"w\")\n",
      "    lift_file = open(changevcf_dir + \"liftover-\" + timeseq + \"-\" + chr_name ,\"w\")\n",
      "    print subprocess.check_output(['/data/projects_gibbons/home/neffra/tools/vcftools/bin/vcftools', '--chr', \n",
      "                                   chr_name, '--vcf', vcf, \n",
      "                                   '--recode', '--out', 'out.' + chr_name ])\n",
      "    num = subprocess.check_output('cat ' + vcf + ' | grep -v \"#\" | grep ' + chr_name + ' > ' + vcf + '-' + chr_name, shell=True)\n",
      "    vcfr_before = pd.read_csv(vcf + '-' + chr_name, header=None, sep='\\t')\n",
      "    vcfr = []\n",
      "    for i in vcfr_before.iterrows():\n",
      "        vc = bogusVariant()\n",
      "        vc.pos = i[1][1]\n",
      "        vc.chrom = i[1][0]\n",
      "        vc.ref = i[1][3]\n",
      "        if ',' in vc.ref:\n",
      "            vc.ref = vc.ref.split(',')[0]\n",
      "        vc.alt = i[1][4]\n",
      "        if ',' in vc.alt:\n",
      "            vc.alt = vc.alt.split(',')[0]\n",
      "        vcfr.append(vc)\n",
      "        \n",
      "    refwalker = ht.FastaReader(ref_dir + chr_name + \"_hg38.fa\")\n",
      "    for seq in refwalker:\n",
      "        chr1=seq\n",
      "        break\n",
      "    sequence = list(str(chr1.seq))\n",
      "    \n",
      "    # let's make a new reference sequence\n",
      "    chr_size = len(sequence)\n",
      "    score = 4900 # totally arbitrary\n",
      "    current_delta = 0\n",
      "    liftover_info = []\n",
      "    last_lift_ref = 1\n",
      "    last_lift_alt = 1\n",
      "    num_chains = 1\n",
      "    totaldone = 0\n",
      "    totallift = 0\n",
      "    error_count = 0\n",
      "    #pbar = ProgressBar(len(vcfr_before))\n",
      "    for vc in vcfr:\n",
      "        #pbar.animate()\n",
      "        if str(vc.chrom) != chr_name:\n",
      "            break\n",
      "        totaldone += 1\n",
      "        #print vcfr_before.iloc[totaldone -1][4]\n",
      "        delta = len(vc.alt) - len(vc.ref) #did we move the sequence?\n",
      "        vcpos = int(vc.pos)\n",
      "        refpos = vcpos + current_delta - 1 #let's calculate where we need to go to match the ref position\n",
      "        if vcpos < last_lift_ref: #this means we have overlaps\n",
      "            #print \"overlap at ref: \" + str(vcpos) + \", please check input file. skipping for now...\"\n",
      "            continue\n",
      "        if vc.alt == type(list()):\n",
      "            #print \"multiallelic site at \", totaldone\n",
      "            continue\n",
      "        if vc.ref[0] == '.':\n",
      "            vc.ref[0] = ''\n",
      "            delta = len(vc.alt) - len(vc.ref) # recalculate this\n",
      "        if vc.alt[0] == '.':\n",
      "            vc.alt[0] = ''\n",
      "            delta = len(vc.alt) - len(vc.ref) # recalculate this\n",
      "        if vc.alt == '<DEL>':\n",
      "            vc.alt = ''\n",
      "            delta = len(vc.alt) - len(vc.ref) # recalculate this\n",
      "        if vc.ref[0].lower() != sequence[refpos][0].lower():\n",
      "            #sys.stderr.write(str(chr_name) + \": Error at variant # \" + str(totaldone) +\"\\n\")\n",
      "            #sys.stderr.write(\"\\ttotal lifted: \" +str(len(liftover_info))+\"\\n\")\n",
      "            #sys.stderr.write(\"\\texpect: \" + str(sequence[refpos][0])+\"\\n\")\n",
      "            #sys.stderr.write(\"\\tgot: \" + str(vc.ref[0])+\"\\n\")\n",
      "            #sys.stderr.flush()\n",
      "            error_count += 1\n",
      "            continue\n",
      "        if error_count > 2000:\n",
      "            raise AwesomeError('nope.')\n",
      "        if delta == 0: # if we have a 1:1 substitution\n",
      "            #print \"one to one at \", totaldone\n",
      "            #print str(vc.ref)\n",
      "            #print str(vc.alt)\n",
      "            if len(vc.ref) == 1: # if we are only dealing with a one base substitution\n",
      "                sequence[refpos] = vc.alt[0]\n",
      "            else:\n",
      "                sequence[refpos:(refpos+len(vc.ref))] = list(vc.alt)\n",
      "        else: # if we are dealing with net addition / subtraction: do it the slow way\n",
      "            #print \"lift at \", totaldone\n",
      "            sequence[refpos:(refpos+len(vc.ref))] = list(vc.alt)\n",
      "            newpos = vcpos + current_delta # this is important!!\n",
      "            #if newpos < last_lift_alt:\n",
      "               #raise AwesomeError(' '.join([str(i) for i in [current_delta, vcpos, delta, last_lift_alt, newpos]]))\n",
      "            line_info = {'id':num_chains, 'chain':[score,chr_name,chr_size,'.',last_lift_ref, vcpos, chr_name, chr_size,'.',last_lift_alt,newpos]}\n",
      "            liftover_info.append(line_info)\n",
      "            last_lift_ref = vcpos + len(vc.ref) # this is important!!!\n",
      "            last_lift_alt = newpos + len(vc.alt) # this is important!!!\n",
      "            num_chains += 1\n",
      "            current_delta += delta\n",
      "            totallift += 1\n",
      "    sys.stderr.write(str(chr_name) + \": Error count: \" + str(error_count) + \"\\n\")\n",
      "    sys.stderr.write(str(chr_name) + \": Total variants: \" + str(totaldone) + \"\\n\")\n",
      "    sys.stderr.flush()\n",
      "    new_chr_size = len(sequence)\n",
      "    line_info = {'id':num_chains, 'chain':[score,chr_name,chr_size,'.',last_lift_ref, chr_size, chr_name, new_chr_size,'.',last_lift_alt,new_chr_size]}\n",
      "    liftover_info.append(line_info)\n",
      "    \n",
      "    # write to file\n",
      "    seq_string = ht.Sequence(''.join(sequence), name=chr_name)\n",
      "    seq_string.write_to_fasta_file(alt_file)\n",
      "    for line in liftover_info:\n",
      "        line['chain'][7] = new_chr_size\n",
      "        liftstr = '\\t'.join(['chain', '\\t'.join(str(e) for e in line['chain'])]) + \"\\n\"\n",
      "        lift_file.write(liftstr)\n",
      "    alt_file.close()\n",
      "    lift_file.close()\n",
      "    return (chr_name, new_chr_size)\n",
      "\t\t\n",
      "names = [\"chr1\",\n",
      "        \"chr2\",\n",
      "        \"chr3\",\n",
      "        \"chr4\",\n",
      "        \"chr5\",\n",
      "        \"chr6\",\n",
      "        \"chr7\",\n",
      "        \"chr8\",\n",
      "        \"chr9\",\n",
      "        \"chr10\",\n",
      "        \"chr11\",\n",
      "        \"chr12\",\n",
      "        \"chr13\",\n",
      "        \"chr14\",\n",
      "        \"chr15\",\n",
      "        \"chr16\",\n",
      "        \"chr17\",\n",
      "        \"chr18\",\n",
      "        \"chr19\",\n",
      "        \"chr20\",\n",
      "        \"chr21\",\n",
      "        \"chr22\",\n",
      "        \"chrX\",\n",
      "        \"chrY\"]\n",
      "\n",
      "timeseq = time.strftime(\"%m%d%y_%H%M%S\")\n",
      "vcf = '/data/projects_gibbons/home/neffra/nodel_AFRGh38/1kg_hapmap_combined_hg38_maj_variants.vcf'"
     ],
     "language": "python",
     "metadata": {},
     "outputs": [],
     "prompt_number": 6
    },
    {
     "cell_type": "code",
     "collapsed": false,
     "input": [
      "vcf"
     ],
     "language": "python",
     "metadata": {},
     "outputs": [
      {
       "metadata": {},
       "output_type": "pyout",
       "prompt_number": 5,
       "text": [
        "'/data/projects_gibbons/home/neffra/nodel_AFRGh38/1kg_hapmap_combined_hg38_maj_variants.vcf'"
       ]
      }
     ],
     "prompt_number": 5
    },
    {
     "cell_type": "code",
     "collapsed": false,
     "input": [
      "balanced.block=False\n",
      "pid_array = []\n",
      "for chr_name_prior in names:\n",
      "    #sequence_maker(chr_name_prior, timeseq, vcf)\n",
      "    #break\n",
      "    pid_array.append(balanced.apply_async(sequence_maker, chr_name_prior,timeseq, vcf))\n",
      "    print chr_name_prior + \" sent to balanced procs.\""
     ],
     "language": "python",
     "metadata": {},
     "outputs": [
      {
       "output_type": "stream",
       "stream": "stdout",
       "text": [
        "chr1 sent to balanced procs.\n",
        "chr2 sent to balanced procs.\n",
        "chr3 sent to balanced procs.\n",
        "chr4 sent to balanced procs.\n",
        "chr5 sent to balanced procs.\n",
        "chr6 sent to balanced procs.\n",
        "chr7 sent to balanced procs.\n",
        "chr8 sent to balanced procs.\n",
        "chr9 sent to balanced procs.\n",
        "chr10 sent to balanced procs.\n",
        "chr11 sent to balanced procs.\n",
        "chr12 sent to balanced procs.\n",
        "chr13 sent to balanced procs.\n",
        "chr14 sent to balanced procs.\n",
        "chr15 sent to balanced procs.\n",
        "chr16 sent to balanced procs.\n",
        "chr17 sent to balanced procs.\n",
        "chr18 sent to balanced procs.\n",
        "chr19 sent to balanced procs.\n",
        "chr20 sent to balanced procs.\n",
        "chr21 sent to balanced procs.\n",
        "chr22 sent to balanced procs.\n",
        "chrX sent to balanced procs.\n",
        "chrY sent to balanced procs.\n"
       ]
      }
     ],
     "prompt_number": 7
    },
    {
     "cell_type": "code",
     "collapsed": false,
     "input": [
      "lift_check = pd.read_csv('/data/projects_gibbons/home/neffra/genomestrip/liftover-090414_200818-chr1', sep='\\t', header=None)\n",
      "alt_check = ht.FastaReader('/data/projects_gibbons/home/neffra/AFRGh38-090414/AFRGh38_090414-200818.fa')\n",
      "ref_check = ht.FastaReader('/data/projects_gibbons/home/neffra/references/individs/chr1_hg38.fa')"
     ],
     "language": "python",
     "metadata": {},
     "outputs": [],
     "prompt_number": 102
    },
    {
     "cell_type": "code",
     "collapsed": false,
     "input": [
      "string1 = \"heyyothisisRyanNeff44\""
     ],
     "language": "python",
     "metadata": {},
     "outputs": [],
     "prompt_number": 44
    },
    {
     "cell_type": "code",
     "collapsed": false,
     "input": [
      "string1.isalpha()"
     ],
     "language": "python",
     "metadata": {},
     "outputs": [
      {
       "metadata": {},
       "output_type": "pyout",
       "prompt_number": 53,
       "text": [
        "False"
       ]
      }
     ],
     "prompt_number": 53
    },
    {
     "cell_type": "code",
     "collapsed": false,
     "input": [
      "def searchAlpha(str_in, start_pos, end_pos):\n",
      "    # split in two\n",
      "    diff = int(math.ceil((end_pos-start_pos)/2))\n",
      "    print start_pos, end_pos, diff\n",
      "    split_pos = diff + start_pos\n",
      "    if str_in[start_pos:end_pos].isalpha() == False:\n",
      "        if diff <= 10:\n",
      "            print \"Non-alphanum found at pos \" + str(start_pos) + \" to \" + str(end_pos)\n",
      "            print str_in[start_pos:end_pos]\n",
      "            return 0\n",
      "        searchAlpha(str_in, start_pos, split_pos)\n",
      "        searchAlpha(str_in, split_pos, end_pos)"
     ],
     "language": "python",
     "metadata": {},
     "outputs": [],
     "prompt_number": 104
    },
    {
     "cell_type": "code",
     "collapsed": false,
     "input": [
      "for seq in alt_check:\n",
      "    print seq.name\n",
      "    sequence = seq.seq\n",
      "    searchAlpha(sequence, 1, len(sequence))    "
     ],
     "language": "python",
     "metadata": {},
     "outputs": [
      {
       "output_type": "stream",
       "stream": "stdout",
       "text": [
        "chr1\n",
        "1 248889457 124444728\n",
        "1"
       ]
      },
      {
       "output_type": "stream",
       "stream": "stdout",
       "text": [
        " 124444729 62222364\n",
        "1"
       ]
      },
      {
       "output_type": "stream",
       "stream": "stdout",
       "text": [
        " 62222365 31111182\n",
        "1"
       ]
      },
      {
       "output_type": "stream",
       "stream": "stdout",
       "text": [
        " 31111183 15555591\n",
        "31111183"
       ]
      },
      {
       "output_type": "stream",
       "stream": "stdout",
       "text": [
        " 62222365 15555591\n",
        "31111183 46666774 7777795\n",
        "31111183 38888978 3888897\n",
        "31111183 35000080 1944448\n",
        "35000080 38888978 1944449\n",
        "35000080"
       ]
      },
      {
       "output_type": "stream",
       "stream": "stdout",
       "text": [
        " 36944529 972224\n",
        "35000080 35972304 486112\n",
        "35000080 35486192 243056\n",
        "35486192 35972304 243056\n",
        "35486192 35729248 121528\n",
        "35486192 35607720 60764\n",
        "35607720 35729248 60764\n",
        "35607720 35668484 30382\n",
        "35607720 35638102 15191\n",
        "35638102 35668484 15191\n",
        "35638102 35653293 7595\n",
        "35638102 35645697 3797\n",
        "35645697 35653293 3798\n",
        "35645697 35649495 1899\n",
        "35649495 35653293 1899\n",
        "35649495 35651394 949\n",
        "35649495 35650444 474\n",
        "35649495 35649969 237\n",
        "35649969 35650444 237\n",
        "35649969 35650206 118\n",
        "35649969 35650087 59\n",
        "35650087 35650206 59\n",
        "35650087 35650146 29\n",
        "35650146 35650206 30\n",
        "35650146 35650176 15\n",
        "35650176 35650206 15\n",
        "35650176 35650191 7\n",
        "35650191 35650206 7\n",
        "Non-alphanum found at pos 35650191 to 35650206\n",
        "T,CTTTTTTGCAAGC\n",
        "35650206 35650444 119\n",
        "35650444 35651394 475\n",
        "35651394 35653293 949\n",
        "35653293 35668484 7595\n",
        "35668484 35729248 30382\n",
        "35729248 35972304 121528\n",
        "35972304 36944529 486112\n",
        "36944529 38888978 972224\n",
        "38888978 46666774 3888898\n",
        "46666774 62222365 7777795\n",
        "62222365 124444729 31111182\n",
        "124444729"
       ]
      },
      {
       "output_type": "stream",
       "stream": "stdout",
       "text": [
        " 248889457 62222364\n",
        "chr2"
       ]
      },
      {
       "output_type": "stream",
       "stream": "stdout",
       "text": [
        "\n",
        "1 242171642 121085820\n",
        "chr3"
       ]
      },
      {
       "output_type": "stream",
       "stream": "stdout",
       "text": [
        "\n",
        "1 198277084 99138541\n",
        "1"
       ]
      },
      {
       "output_type": "stream",
       "stream": "stdout",
       "text": [
        " 99138542 49569270\n",
        "99138542"
       ]
      },
      {
       "output_type": "stream",
       "stream": "stdout",
       "text": [
        " 198277084 49569271\n",
        "99138542"
       ]
      },
      {
       "output_type": "stream",
       "stream": "stdout",
       "text": [
        " 148707813 24784635\n",
        "148707813"
       ]
      },
      {
       "output_type": "stream",
       "stream": "stdout",
       "text": [
        " 198277084 24784635\n",
        "148707813"
       ]
      },
      {
       "output_type": "stream",
       "stream": "stdout",
       "text": [
        " 173492448 12392317\n",
        "173492448 198277084 12392318\n",
        "173492448"
       ]
      },
      {
       "output_type": "stream",
       "stream": "stdout",
       "text": [
        " 185884766 6196159\n",
        "173492448 179688607 3098079\n",
        "179688607 185884766 3098079\n",
        "179688607 182786686 1549039\n",
        "179688607 181237646 774519\n",
        "179688607 180463126 387259\n",
        "180463126 181237646 387260\n",
        "180463126 180850386 193630\n",
        "180463126 180656756 96815\n",
        "180463126 180559941 48407\n",
        "180463126 180511533 24203\n",
        "180463126 180487329 12101\n",
        "180463126 180475227 6050\n",
        "180475227 180487329 6051\n",
        "180475227 180481278 3025\n",
        "180475227 180478252 1512\n",
        "180475227 180476739 756\n",
        "180475227 180475983 378\n",
        "180475983 180476739 378\n",
        "180475983 180476361 189\n",
        "180475983 180476172 94\n",
        "180475983 180476077 47\n",
        "180475983 180476030 23\n",
        "180476030 180476077 23\n",
        "180476030 180476053 11\n",
        "180476030 180476041 5\n",
        "180476041 180476053 6\n",
        "Non-alphanum found at pos 180476041 to 180476053\n",
        "gaaC,Gaactcc\n",
        "180476053 180476077 12\n",
        "180476077 180476172 47\n",
        "180476172 180476361 94\n",
        "180476361 180476739 189\n",
        "180476739 180478252 756\n",
        "180478252 180481278 1513\n",
        "180481278 180487329 3025\n",
        "180487329 180511533 12102\n",
        "180511533 180559941 24204\n",
        "180559941 180656756 48407\n",
        "180656756 180850386 96815\n",
        "180850386 181237646 193630\n",
        "181237646 182786686 774520\n",
        "182786686 185884766 1549040\n",
        "185884766 198277084 6196159\n",
        "chr4"
       ]
      },
      {
       "output_type": "stream",
       "stream": "stdout",
       "text": [
        "\n",
        "1 190101204 95050601\n",
        "1"
       ]
      },
      {
       "output_type": "stream",
       "stream": "stdout",
       "text": [
        " 95050602 47525300\n",
        "95050602"
       ]
      },
      {
       "output_type": "stream",
       "stream": "stdout",
       "text": [
        " 190101204 47525301\n",
        "95050602"
       ]
      },
      {
       "output_type": "stream",
       "stream": "stdout",
       "text": [
        " 142575903 23762650\n",
        "95050602"
       ]
      },
      {
       "output_type": "stream",
       "stream": "stdout",
       "text": [
        " 118813252 11881325\n",
        "118813252 142575903 11881325\n",
        "118813252"
       ]
      },
      {
       "output_type": "stream",
       "stream": "stdout",
       "text": [
        " 130694577 5940662\n",
        "118813252 124753914 2970331\n",
        "118813252 121783583 1485165\n",
        "118813252 120298417 742582\n",
        "120298417 121783583 742583\n",
        "120298417 121041000 371291\n",
        "121041000 121783583 371291\n",
        "121041000 121412291 185645\n",
        "121412291 121783583 185646\n",
        "121412291 121597937 92823\n",
        "121597937 121783583 92823\n",
        "121597937 121690760 46411\n",
        "121690760 121783583 46411\n",
        "121690760 121737171 23205\n",
        "121737171 121783583 23206\n",
        "121737171 121760377 11603\n",
        "121760377 121783583 11603\n",
        "121760377 121771980 5801\n",
        "121760377 121766178 2900\n",
        "121766178 121771980 2901\n",
        "121766178 121769079 1450\n",
        "121769079 121771980 1450\n",
        "121769079 121770529 725\n",
        "121770529 121771980 725\n",
        "121770529 121771254 362\n",
        "121771254 121771980 363\n",
        "121771254 121771617 181\n",
        "121771617 121771980 181\n",
        "121771617 121771798 90\n",
        "121771617 121771707 45\n",
        "121771707 121771798 45\n",
        "121771707 121771752 22\n",
        "121771752 121771798 23\n",
        "121771752 121771775 11\n",
        "121771752 121771763 5\n",
        "Non-alphanum found at pos 121771752 to 121771763\n",
        "TGAAG,AAGAC\n",
        "121771763 121771775 6\n",
        "121771775 121771798 11\n",
        "121771798 121771980 91\n",
        "121771980 121783583 5801\n",
        "121783583 124753914 1485165\n",
        "124753914 130694577 2970331\n",
        "130694577 142575903 5940663\n",
        "142575903"
       ]
      },
      {
       "output_type": "stream",
       "stream": "stdout",
       "text": [
        " 190101204 23762650\n",
        "chr5"
       ]
      },
      {
       "output_type": "stream",
       "stream": "stdout",
       "text": [
        "\n",
        "1 181516198 90758098\n",
        "chr6"
       ]
      },
      {
       "output_type": "stream",
       "stream": "stdout",
       "text": [
        "\n",
        "1 170783633 85391816\n",
        "chr7"
       ]
      },
      {
       "output_type": "stream",
       "stream": "stdout",
       "text": [
        "\n",
        "1 159331245 79665622\n",
        "chr8"
       ]
      },
      {
       "output_type": "stream",
       "stream": "stdout",
       "text": [
        "\n",
        "1 145136650 72568324\n",
        "chr9"
       ]
      },
      {
       "output_type": "stream",
       "stream": "stdout",
       "text": [
        "\n",
        "1 138386748 69193373\n",
        "chr10"
       ]
      },
      {
       "output_type": "stream",
       "stream": "stdout",
       "text": [
        "\n",
        "1 133788785 66894392\n",
        "chr11"
       ]
      },
      {
       "output_type": "stream",
       "stream": "stdout",
       "text": [
        "\n",
        "1 135081310 67540654\n",
        "chr12"
       ]
      },
      {
       "output_type": "stream",
       "stream": "stdout",
       "text": [
        "\n",
        "1 133258107 66629053\n",
        "chr13"
       ]
      },
      {
       "output_type": "stream",
       "stream": "stdout",
       "text": [
        "\n",
        "1 114328973 57164486\n",
        "chr14"
       ]
      },
      {
       "output_type": "stream",
       "stream": "stdout",
       "text": [
        "\n",
        "1 107043141 53521570\n",
        "chr15"
       ]
      },
      {
       "output_type": "stream",
       "stream": "stdout",
       "text": [
        "\n",
        "1 101990681 50995340\n",
        "chr16"
       ]
      },
      {
       "output_type": "stream",
       "stream": "stdout",
       "text": [
        "\n",
        "1 90331508 45165753\n",
        "chr17"
       ]
      },
      {
       "output_type": "stream",
       "stream": "stdout",
       "text": [
        "\n",
        "1 83246545 41623272\n",
        "chr18"
       ]
      },
      {
       "output_type": "stream",
       "stream": "stdout",
       "text": [
        "\n",
        "1 80369552 40184775\n",
        "chr19"
       ]
      },
      {
       "output_type": "stream",
       "stream": "stdout",
       "text": [
        "\n",
        "1 58613991 29306995\n",
        "chr20"
       ]
      },
      {
       "output_type": "stream",
       "stream": "stdout",
       "text": [
        "\n",
        "1 64407824 32203911\n",
        "chr21"
       ]
      },
      {
       "output_type": "stream",
       "stream": "stdout",
       "text": [
        "\n",
        "1 46710023 23355011\n",
        "chr22"
       ]
      },
      {
       "output_type": "stream",
       "stream": "stdout",
       "text": [
        "\n",
        "1 50818716 25409357\n",
        "chrX"
       ]
      },
      {
       "output_type": "stream",
       "stream": "stdout",
       "text": [
        "\n",
        "1 156030570 78015284\n",
        "chrY"
       ]
      },
      {
       "output_type": "stream",
       "stream": "stdout",
       "text": [
        "\n",
        "1 57227417 28613708\n",
        "chrM"
       ]
      },
      {
       "output_type": "stream",
       "stream": "stdout",
       "text": [
        "\n",
        "1 16569 8284\n",
        "chrEBV\n",
        "1 171823 85911\n"
       ]
      }
     ],
     "prompt_number": 105
    },
    {
     "cell_type": "code",
     "collapsed": false,
     "input": [
      "sequence[35650176:35650206]"
     ],
     "language": "python",
     "metadata": {},
     "outputs": [
      {
       "metadata": {},
       "output_type": "pyout",
       "prompt_number": 99,
       "text": [
        "'CATCAGTGACCATACT,CTTTTTTGCAAGC'"
       ]
      }
     ],
     "prompt_number": 99
    },
    {
     "cell_type": "code",
     "collapsed": false,
     "input": [
      "print alt_seq[248830845:(248830845+10)] # liftover file checks out\n",
      "print ref_seq[248897810:(248897810+10)]"
     ],
     "language": "python",
     "metadata": {},
     "outputs": [
      {
       "output_type": "stream",
       "stream": "stdout",
       "text": [
        "actggagact\n",
        "actggagact\n"
       ]
      }
     ],
     "prompt_number": 34
    },
    {
     "cell_type": "code",
     "collapsed": false,
     "input": [
      "lift_check"
     ],
     "language": "python",
     "metadata": {},
     "outputs": [
      {
       "html": [
        "<div style=\"max-height:1000px;max-width:1500px;overflow:auto;\">\n",
        "<table border=\"1\" class=\"dataframe\">\n",
        "  <thead>\n",
        "    <tr style=\"text-align: right;\">\n",
        "      <th></th>\n",
        "      <th>0</th>\n",
        "      <th>1</th>\n",
        "      <th>2</th>\n",
        "      <th>3</th>\n",
        "      <th>4</th>\n",
        "      <th>5</th>\n",
        "      <th>6</th>\n",
        "      <th>7</th>\n",
        "      <th>8</th>\n",
        "      <th>9</th>\n",
        "      <th>10</th>\n",
        "      <th>11</th>\n",
        "    </tr>\n",
        "  </thead>\n",
        "  <tbody>\n",
        "    <tr>\n",
        "      <th>0 </th>\n",
        "      <td> chain</td>\n",
        "      <td> 4900</td>\n",
        "      <td> chr1</td>\n",
        "      <td> 248956422</td>\n",
        "      <td> .</td>\n",
        "      <td>       1</td>\n",
        "      <td>  788418</td>\n",
        "      <td> chr1</td>\n",
        "      <td> 248889457</td>\n",
        "      <td> .</td>\n",
        "      <td>       1</td>\n",
        "      <td>  788418</td>\n",
        "    </tr>\n",
        "    <tr>\n",
        "      <th>1 </th>\n",
        "      <td> chain</td>\n",
        "      <td> 4900</td>\n",
        "      <td> chr1</td>\n",
        "      <td> 248956422</td>\n",
        "      <td> .</td>\n",
        "      <td>  788421</td>\n",
        "      <td>  883741</td>\n",
        "      <td> chr1</td>\n",
        "      <td> 248889457</td>\n",
        "      <td> .</td>\n",
        "      <td>  788419</td>\n",
        "      <td>  883739</td>\n",
        "    </tr>\n",
        "    <tr>\n",
        "      <th>2 </th>\n",
        "      <td> chain</td>\n",
        "      <td> 4900</td>\n",
        "      <td> chr1</td>\n",
        "      <td> 248956422</td>\n",
        "      <td> .</td>\n",
        "      <td>  883742</td>\n",
        "      <td>  897792</td>\n",
        "      <td> chr1</td>\n",
        "      <td> 248889457</td>\n",
        "      <td> .</td>\n",
        "      <td>  883742</td>\n",
        "      <td>  897792</td>\n",
        "    </tr>\n",
        "    <tr>\n",
        "      <th>3 </th>\n",
        "      <td> chain</td>\n",
        "      <td> 4900</td>\n",
        "      <td> chr1</td>\n",
        "      <td> 248956422</td>\n",
        "      <td> .</td>\n",
        "      <td>  897793</td>\n",
        "      <td>  907236</td>\n",
        "      <td> chr1</td>\n",
        "      <td> 248889457</td>\n",
        "      <td> .</td>\n",
        "      <td>  897797</td>\n",
        "      <td>  907240</td>\n",
        "    </tr>\n",
        "    <tr>\n",
        "      <th>4 </th>\n",
        "      <td> chain</td>\n",
        "      <td> 4900</td>\n",
        "      <td> chr1</td>\n",
        "      <td> 248956422</td>\n",
        "      <td> .</td>\n",
        "      <td>  907238</td>\n",
        "      <td>  911220</td>\n",
        "      <td> chr1</td>\n",
        "      <td> 248889457</td>\n",
        "      <td> .</td>\n",
        "      <td>  907241</td>\n",
        "      <td>  911223</td>\n",
        "    </tr>\n",
        "    <tr>\n",
        "      <th>5 </th>\n",
        "      <td> chain</td>\n",
        "      <td> 4900</td>\n",
        "      <td> chr1</td>\n",
        "      <td> 248956422</td>\n",
        "      <td> .</td>\n",
        "      <td>  911222</td>\n",
        "      <td>  950799</td>\n",
        "      <td> chr1</td>\n",
        "      <td> 248889457</td>\n",
        "      <td> .</td>\n",
        "      <td>  911224</td>\n",
        "      <td>  950801</td>\n",
        "    </tr>\n",
        "    <tr>\n",
        "      <th>6 </th>\n",
        "      <td> chain</td>\n",
        "      <td> 4900</td>\n",
        "      <td> chr1</td>\n",
        "      <td> 248956422</td>\n",
        "      <td> .</td>\n",
        "      <td>  950801</td>\n",
        "      <td>  950802</td>\n",
        "      <td> chr1</td>\n",
        "      <td> 248889457</td>\n",
        "      <td> .</td>\n",
        "      <td>  950802</td>\n",
        "      <td>  950803</td>\n",
        "    </tr>\n",
        "    <tr>\n",
        "      <th>7 </th>\n",
        "      <td> chain</td>\n",
        "      <td> 4900</td>\n",
        "      <td> chr1</td>\n",
        "      <td> 248956422</td>\n",
        "      <td> .</td>\n",
        "      <td>  950804</td>\n",
        "      <td>  990171</td>\n",
        "      <td> chr1</td>\n",
        "      <td> 248889457</td>\n",
        "      <td> .</td>\n",
        "      <td>  950804</td>\n",
        "      <td>  990171</td>\n",
        "    </tr>\n",
        "    <tr>\n",
        "      <th>8 </th>\n",
        "      <td> chain</td>\n",
        "      <td> 4900</td>\n",
        "      <td> chr1</td>\n",
        "      <td> 248956422</td>\n",
        "      <td> .</td>\n",
        "      <td>  990173</td>\n",
        "      <td> 1010481</td>\n",
        "      <td> chr1</td>\n",
        "      <td> 248889457</td>\n",
        "      <td> .</td>\n",
        "      <td>  990172</td>\n",
        "      <td> 1010480</td>\n",
        "    </tr>\n",
        "    <tr>\n",
        "      <th>9 </th>\n",
        "      <td> chain</td>\n",
        "      <td> 4900</td>\n",
        "      <td> chr1</td>\n",
        "      <td> 248956422</td>\n",
        "      <td> .</td>\n",
        "      <td> 1010486</td>\n",
        "      <td> 1193398</td>\n",
        "      <td> chr1</td>\n",
        "      <td> 248889457</td>\n",
        "      <td> .</td>\n",
        "      <td> 1010481</td>\n",
        "      <td> 1193393</td>\n",
        "    </tr>\n",
        "    <tr>\n",
        "      <th>10</th>\n",
        "      <td> chain</td>\n",
        "      <td> 4900</td>\n",
        "      <td> chr1</td>\n",
        "      <td> 248956422</td>\n",
        "      <td> .</td>\n",
        "      <td> 1193399</td>\n",
        "      <td> 1258206</td>\n",
        "      <td> chr1</td>\n",
        "      <td> 248889457</td>\n",
        "      <td> .</td>\n",
        "      <td> 1193397</td>\n",
        "      <td> 1258204</td>\n",
        "    </tr>\n",
        "    <tr>\n",
        "      <th>11</th>\n",
        "      <td> chain</td>\n",
        "      <td> 4900</td>\n",
        "      <td> chr1</td>\n",
        "      <td> 248956422</td>\n",
        "      <td> .</td>\n",
        "      <td> 1258208</td>\n",
        "      <td> 1278407</td>\n",
        "      <td> chr1</td>\n",
        "      <td> 248889457</td>\n",
        "      <td> .</td>\n",
        "      <td> 1258205</td>\n",
        "      <td> 1278404</td>\n",
        "    </tr>\n",
        "    <tr>\n",
        "      <th>12</th>\n",
        "      <td> chain</td>\n",
        "      <td> 4900</td>\n",
        "      <td> chr1</td>\n",
        "      <td> 248956422</td>\n",
        "      <td> .</td>\n",
        "      <td> 1278408</td>\n",
        "      <td> 1379083</td>\n",
        "      <td> chr1</td>\n",
        "      <td> 248889457</td>\n",
        "      <td> .</td>\n",
        "      <td> 1278406</td>\n",
        "      <td> 1379081</td>\n",
        "    </tr>\n",
        "    <tr>\n",
        "      <th>13</th>\n",
        "      <td> chain</td>\n",
        "      <td> 4900</td>\n",
        "      <td> chr1</td>\n",
        "      <td> 248956422</td>\n",
        "      <td> .</td>\n",
        "      <td> 1379085</td>\n",
        "      <td> 1383798</td>\n",
        "      <td> chr1</td>\n",
        "      <td> 248889457</td>\n",
        "      <td> .</td>\n",
        "      <td> 1379082</td>\n",
        "      <td> 1383795</td>\n",
        "    </tr>\n",
        "    <tr>\n",
        "      <th>14</th>\n",
        "      <td> chain</td>\n",
        "      <td> 4900</td>\n",
        "      <td> chr1</td>\n",
        "      <td> 248956422</td>\n",
        "      <td> .</td>\n",
        "      <td> 1383800</td>\n",
        "      <td> 1412488</td>\n",
        "      <td> chr1</td>\n",
        "      <td> 248889457</td>\n",
        "      <td> .</td>\n",
        "      <td> 1383796</td>\n",
        "      <td> 1412484</td>\n",
        "    </tr>\n",
        "    <tr>\n",
        "      <th>15</th>\n",
        "      <td> chain</td>\n",
        "      <td> 4900</td>\n",
        "      <td> chr1</td>\n",
        "      <td> 248956422</td>\n",
        "      <td> .</td>\n",
        "      <td> 1412489</td>\n",
        "      <td> 1474201</td>\n",
        "      <td> chr1</td>\n",
        "      <td> 248889457</td>\n",
        "      <td> .</td>\n",
        "      <td> 1412487</td>\n",
        "      <td> 1474199</td>\n",
        "    </tr>\n",
        "    <tr>\n",
        "      <th>16</th>\n",
        "      <td> chain</td>\n",
        "      <td> 4900</td>\n",
        "      <td> chr1</td>\n",
        "      <td> 248956422</td>\n",
        "      <td> .</td>\n",
        "      <td> 1474203</td>\n",
        "      <td> 1551557</td>\n",
        "      <td> chr1</td>\n",
        "      <td> 248889457</td>\n",
        "      <td> .</td>\n",
        "      <td> 1474200</td>\n",
        "      <td> 1551554</td>\n",
        "    </tr>\n",
        "    <tr>\n",
        "      <th>17</th>\n",
        "      <td> chain</td>\n",
        "      <td> 4900</td>\n",
        "      <td> chr1</td>\n",
        "      <td> 248956422</td>\n",
        "      <td> .</td>\n",
        "      <td> 1551558</td>\n",
        "      <td> 1557495</td>\n",
        "      <td> chr1</td>\n",
        "      <td> 248889457</td>\n",
        "      <td> .</td>\n",
        "      <td> 1551556</td>\n",
        "      <td> 1557493</td>\n",
        "    </tr>\n",
        "    <tr>\n",
        "      <th>18</th>\n",
        "      <td> chain</td>\n",
        "      <td> 4900</td>\n",
        "      <td> chr1</td>\n",
        "      <td> 248956422</td>\n",
        "      <td> .</td>\n",
        "      <td> 1557498</td>\n",
        "      <td> 1558726</td>\n",
        "      <td> chr1</td>\n",
        "      <td> 248889457</td>\n",
        "      <td> .</td>\n",
        "      <td> 1557494</td>\n",
        "      <td> 1558722</td>\n",
        "    </tr>\n",
        "    <tr>\n",
        "      <th>19</th>\n",
        "      <td> chain</td>\n",
        "      <td> 4900</td>\n",
        "      <td> chr1</td>\n",
        "      <td> 248956422</td>\n",
        "      <td> .</td>\n",
        "      <td> 1558727</td>\n",
        "      <td> 1562261</td>\n",
        "      <td> chr1</td>\n",
        "      <td> 248889457</td>\n",
        "      <td> .</td>\n",
        "      <td> 1558724</td>\n",
        "      <td> 1562258</td>\n",
        "    </tr>\n",
        "    <tr>\n",
        "      <th>20</th>\n",
        "      <td> chain</td>\n",
        "      <td> 4900</td>\n",
        "      <td> chr1</td>\n",
        "      <td> 248956422</td>\n",
        "      <td> .</td>\n",
        "      <td> 1562266</td>\n",
        "      <td> 1571794</td>\n",
        "      <td> chr1</td>\n",
        "      <td> 248889457</td>\n",
        "      <td> .</td>\n",
        "      <td> 1562259</td>\n",
        "      <td> 1571787</td>\n",
        "    </tr>\n",
        "    <tr>\n",
        "      <th>21</th>\n",
        "      <td> chain</td>\n",
        "      <td> 4900</td>\n",
        "      <td> chr1</td>\n",
        "      <td> 248956422</td>\n",
        "      <td> .</td>\n",
        "      <td> 1571795</td>\n",
        "      <td> 1574032</td>\n",
        "      <td> chr1</td>\n",
        "      <td> 248889457</td>\n",
        "      <td> .</td>\n",
        "      <td> 1571789</td>\n",
        "      <td> 1574026</td>\n",
        "    </tr>\n",
        "    <tr>\n",
        "      <th>22</th>\n",
        "      <td> chain</td>\n",
        "      <td> 4900</td>\n",
        "      <td> chr1</td>\n",
        "      <td> 248956422</td>\n",
        "      <td> .</td>\n",
        "      <td> 1574036</td>\n",
        "      <td> 1615015</td>\n",
        "      <td> chr1</td>\n",
        "      <td> 248889457</td>\n",
        "      <td> .</td>\n",
        "      <td> 1574027</td>\n",
        "      <td> 1615006</td>\n",
        "    </tr>\n",
        "    <tr>\n",
        "      <th>23</th>\n",
        "      <td> chain</td>\n",
        "      <td> 4900</td>\n",
        "      <td> chr1</td>\n",
        "      <td> 248956422</td>\n",
        "      <td> .</td>\n",
        "      <td> 1615017</td>\n",
        "      <td> 1624323</td>\n",
        "      <td> chr1</td>\n",
        "      <td> 248889457</td>\n",
        "      <td> .</td>\n",
        "      <td> 1615007</td>\n",
        "      <td> 1624313</td>\n",
        "    </tr>\n",
        "    <tr>\n",
        "      <th>24</th>\n",
        "      <td> chain</td>\n",
        "      <td> 4900</td>\n",
        "      <td> chr1</td>\n",
        "      <td> 248956422</td>\n",
        "      <td> .</td>\n",
        "      <td> 1624325</td>\n",
        "      <td> 1721893</td>\n",
        "      <td> chr1</td>\n",
        "      <td> 248889457</td>\n",
        "      <td> .</td>\n",
        "      <td> 1624314</td>\n",
        "      <td> 1721882</td>\n",
        "    </tr>\n",
        "    <tr>\n",
        "      <th>25</th>\n",
        "      <td> chain</td>\n",
        "      <td> 4900</td>\n",
        "      <td> chr1</td>\n",
        "      <td> 248956422</td>\n",
        "      <td> .</td>\n",
        "      <td> 1721895</td>\n",
        "      <td> 1880926</td>\n",
        "      <td> chr1</td>\n",
        "      <td> 248889457</td>\n",
        "      <td> .</td>\n",
        "      <td> 1721883</td>\n",
        "      <td> 1880914</td>\n",
        "    </tr>\n",
        "    <tr>\n",
        "      <th>26</th>\n",
        "      <td> chain</td>\n",
        "      <td> 4900</td>\n",
        "      <td> chr1</td>\n",
        "      <td> 248956422</td>\n",
        "      <td> .</td>\n",
        "      <td> 1880928</td>\n",
        "      <td> 1949564</td>\n",
        "      <td> chr1</td>\n",
        "      <td> 248889457</td>\n",
        "      <td> .</td>\n",
        "      <td> 1880915</td>\n",
        "      <td> 1949551</td>\n",
        "    </tr>\n",
        "    <tr>\n",
        "      <th>27</th>\n",
        "      <td> chain</td>\n",
        "      <td> 4900</td>\n",
        "      <td> chr1</td>\n",
        "      <td> 248956422</td>\n",
        "      <td> .</td>\n",
        "      <td> 1949565</td>\n",
        "      <td> 1987547</td>\n",
        "      <td> chr1</td>\n",
        "      <td> 248889457</td>\n",
        "      <td> .</td>\n",
        "      <td> 1949553</td>\n",
        "      <td> 1987535</td>\n",
        "    </tr>\n",
        "    <tr>\n",
        "      <th>28</th>\n",
        "      <td> chain</td>\n",
        "      <td> 4900</td>\n",
        "      <td> chr1</td>\n",
        "      <td> 248956422</td>\n",
        "      <td> .</td>\n",
        "      <td> 1987548</td>\n",
        "      <td> 1995500</td>\n",
        "      <td> chr1</td>\n",
        "      <td> 248889457</td>\n",
        "      <td> .</td>\n",
        "      <td> 1987537</td>\n",
        "      <td> 1995489</td>\n",
        "    </tr>\n",
        "    <tr>\n",
        "      <th>29</th>\n",
        "      <td> chain</td>\n",
        "      <td> 4900</td>\n",
        "      <td> chr1</td>\n",
        "      <td> 248956422</td>\n",
        "      <td> .</td>\n",
        "      <td> 1995502</td>\n",
        "      <td> 2072553</td>\n",
        "      <td> chr1</td>\n",
        "      <td> 248889457</td>\n",
        "      <td> .</td>\n",
        "      <td> 1995490</td>\n",
        "      <td> 2072541</td>\n",
        "    </tr>\n",
        "    <tr>\n",
        "      <th>30</th>\n",
        "      <td> chain</td>\n",
        "      <td> 4900</td>\n",
        "      <td> chr1</td>\n",
        "      <td> 248956422</td>\n",
        "      <td> .</td>\n",
        "      <td> 2072555</td>\n",
        "      <td> 2089232</td>\n",
        "      <td> chr1</td>\n",
        "      <td> 248889457</td>\n",
        "      <td> .</td>\n",
        "      <td> 2072542</td>\n",
        "      <td> 2089219</td>\n",
        "    </tr>\n",
        "    <tr>\n",
        "      <th>31</th>\n",
        "      <td> chain</td>\n",
        "      <td> 4900</td>\n",
        "      <td> chr1</td>\n",
        "      <td> 248956422</td>\n",
        "      <td> .</td>\n",
        "      <td> 2089233</td>\n",
        "      <td> 2119063</td>\n",
        "      <td> chr1</td>\n",
        "      <td> 248889457</td>\n",
        "      <td> .</td>\n",
        "      <td> 2089221</td>\n",
        "      <td> 2119051</td>\n",
        "    </tr>\n",
        "    <tr>\n",
        "      <th>32</th>\n",
        "      <td> chain</td>\n",
        "      <td> 4900</td>\n",
        "      <td> chr1</td>\n",
        "      <td> 248956422</td>\n",
        "      <td> .</td>\n",
        "      <td> 2119064</td>\n",
        "      <td> 2235168</td>\n",
        "      <td> chr1</td>\n",
        "      <td> 248889457</td>\n",
        "      <td> .</td>\n",
        "      <td> 2119053</td>\n",
        "      <td> 2235157</td>\n",
        "    </tr>\n",
        "    <tr>\n",
        "      <th>33</th>\n",
        "      <td> chain</td>\n",
        "      <td> 4900</td>\n",
        "      <td> chr1</td>\n",
        "      <td> 248956422</td>\n",
        "      <td> .</td>\n",
        "      <td> 2235169</td>\n",
        "      <td> 2264013</td>\n",
        "      <td> chr1</td>\n",
        "      <td> 248889457</td>\n",
        "      <td> .</td>\n",
        "      <td> 2235159</td>\n",
        "      <td> 2264003</td>\n",
        "    </tr>\n",
        "    <tr>\n",
        "      <th>34</th>\n",
        "      <td> chain</td>\n",
        "      <td> 4900</td>\n",
        "      <td> chr1</td>\n",
        "      <td> 248956422</td>\n",
        "      <td> .</td>\n",
        "      <td> 2264015</td>\n",
        "      <td> 2291705</td>\n",
        "      <td> chr1</td>\n",
        "      <td> 248889457</td>\n",
        "      <td> .</td>\n",
        "      <td> 2264004</td>\n",
        "      <td> 2291694</td>\n",
        "    </tr>\n",
        "    <tr>\n",
        "      <th>35</th>\n",
        "      <td> chain</td>\n",
        "      <td> 4900</td>\n",
        "      <td> chr1</td>\n",
        "      <td> 248956422</td>\n",
        "      <td> .</td>\n",
        "      <td> 2291707</td>\n",
        "      <td> 2316943</td>\n",
        "      <td> chr1</td>\n",
        "      <td> 248889457</td>\n",
        "      <td> .</td>\n",
        "      <td> 2291695</td>\n",
        "      <td> 2316931</td>\n",
        "    </tr>\n",
        "    <tr>\n",
        "      <th>36</th>\n",
        "      <td> chain</td>\n",
        "      <td> 4900</td>\n",
        "      <td> chr1</td>\n",
        "      <td> 248956422</td>\n",
        "      <td> .</td>\n",
        "      <td> 2316944</td>\n",
        "      <td> 2361332</td>\n",
        "      <td> chr1</td>\n",
        "      <td> 248889457</td>\n",
        "      <td> .</td>\n",
        "      <td> 2316933</td>\n",
        "      <td> 2361321</td>\n",
        "    </tr>\n",
        "    <tr>\n",
        "      <th>37</th>\n",
        "      <td> chain</td>\n",
        "      <td> 4900</td>\n",
        "      <td> chr1</td>\n",
        "      <td> 248956422</td>\n",
        "      <td> .</td>\n",
        "      <td> 2361333</td>\n",
        "      <td> 2439244</td>\n",
        "      <td> chr1</td>\n",
        "      <td> 248889457</td>\n",
        "      <td> .</td>\n",
        "      <td> 2361323</td>\n",
        "      <td> 2439234</td>\n",
        "    </tr>\n",
        "    <tr>\n",
        "      <th>38</th>\n",
        "      <td> chain</td>\n",
        "      <td> 4900</td>\n",
        "      <td> chr1</td>\n",
        "      <td> 248956422</td>\n",
        "      <td> .</td>\n",
        "      <td> 2439246</td>\n",
        "      <td> 2461871</td>\n",
        "      <td> chr1</td>\n",
        "      <td> 248889457</td>\n",
        "      <td> .</td>\n",
        "      <td> 2439235</td>\n",
        "      <td> 2461860</td>\n",
        "    </tr>\n",
        "    <tr>\n",
        "      <th>39</th>\n",
        "      <td> chain</td>\n",
        "      <td> 4900</td>\n",
        "      <td> chr1</td>\n",
        "      <td> 248956422</td>\n",
        "      <td> .</td>\n",
        "      <td> 2461872</td>\n",
        "      <td> 2539242</td>\n",
        "      <td> chr1</td>\n",
        "      <td> 248889457</td>\n",
        "      <td> .</td>\n",
        "      <td> 2461862</td>\n",
        "      <td> 2539232</td>\n",
        "    </tr>\n",
        "    <tr>\n",
        "      <th>40</th>\n",
        "      <td> chain</td>\n",
        "      <td> 4900</td>\n",
        "      <td> chr1</td>\n",
        "      <td> 248956422</td>\n",
        "      <td> .</td>\n",
        "      <td> 2539243</td>\n",
        "      <td> 2548807</td>\n",
        "      <td> chr1</td>\n",
        "      <td> 248889457</td>\n",
        "      <td> .</td>\n",
        "      <td> 2539236</td>\n",
        "      <td> 2548800</td>\n",
        "    </tr>\n",
        "    <tr>\n",
        "      <th>41</th>\n",
        "      <td> chain</td>\n",
        "      <td> 4900</td>\n",
        "      <td> chr1</td>\n",
        "      <td> 248956422</td>\n",
        "      <td> .</td>\n",
        "      <td> 2548809</td>\n",
        "      <td> 2582213</td>\n",
        "      <td> chr1</td>\n",
        "      <td> 248889457</td>\n",
        "      <td> .</td>\n",
        "      <td> 2548801</td>\n",
        "      <td> 2582205</td>\n",
        "    </tr>\n",
        "    <tr>\n",
        "      <th>42</th>\n",
        "      <td> chain</td>\n",
        "      <td> 4900</td>\n",
        "      <td> chr1</td>\n",
        "      <td> 248956422</td>\n",
        "      <td> .</td>\n",
        "      <td> 2582218</td>\n",
        "      <td> 2782508</td>\n",
        "      <td> chr1</td>\n",
        "      <td> 248889457</td>\n",
        "      <td> .</td>\n",
        "      <td> 2582206</td>\n",
        "      <td> 2782496</td>\n",
        "    </tr>\n",
        "    <tr>\n",
        "      <th>43</th>\n",
        "      <td> chain</td>\n",
        "      <td> 4900</td>\n",
        "      <td> chr1</td>\n",
        "      <td> 248956422</td>\n",
        "      <td> .</td>\n",
        "      <td> 2782509</td>\n",
        "      <td> 2848735</td>\n",
        "      <td> chr1</td>\n",
        "      <td> 248889457</td>\n",
        "      <td> .</td>\n",
        "      <td> 2782499</td>\n",
        "      <td> 2848725</td>\n",
        "    </tr>\n",
        "    <tr>\n",
        "      <th>44</th>\n",
        "      <td> chain</td>\n",
        "      <td> 4900</td>\n",
        "      <td> chr1</td>\n",
        "      <td> 248956422</td>\n",
        "      <td> .</td>\n",
        "      <td> 2848736</td>\n",
        "      <td> 2900016</td>\n",
        "      <td> chr1</td>\n",
        "      <td> 248889457</td>\n",
        "      <td> .</td>\n",
        "      <td> 2848727</td>\n",
        "      <td> 2900007</td>\n",
        "    </tr>\n",
        "    <tr>\n",
        "      <th>45</th>\n",
        "      <td> chain</td>\n",
        "      <td> 4900</td>\n",
        "      <td> chr1</td>\n",
        "      <td> 248956422</td>\n",
        "      <td> .</td>\n",
        "      <td> 2900017</td>\n",
        "      <td> 3092124</td>\n",
        "      <td> chr1</td>\n",
        "      <td> 248889457</td>\n",
        "      <td> .</td>\n",
        "      <td> 2900009</td>\n",
        "      <td> 3092116</td>\n",
        "    </tr>\n",
        "    <tr>\n",
        "      <th>46</th>\n",
        "      <td> chain</td>\n",
        "      <td> 4900</td>\n",
        "      <td> chr1</td>\n",
        "      <td> 248956422</td>\n",
        "      <td> .</td>\n",
        "      <td> 3092125</td>\n",
        "      <td> 3129181</td>\n",
        "      <td> chr1</td>\n",
        "      <td> 248889457</td>\n",
        "      <td> .</td>\n",
        "      <td> 3092119</td>\n",
        "      <td> 3129175</td>\n",
        "    </tr>\n",
        "    <tr>\n",
        "      <th>47</th>\n",
        "      <td> chain</td>\n",
        "      <td> 4900</td>\n",
        "      <td> chr1</td>\n",
        "      <td> 248956422</td>\n",
        "      <td> .</td>\n",
        "      <td> 3129182</td>\n",
        "      <td> 3199280</td>\n",
        "      <td> chr1</td>\n",
        "      <td> 248889457</td>\n",
        "      <td> .</td>\n",
        "      <td> 3129178</td>\n",
        "      <td> 3199276</td>\n",
        "    </tr>\n",
        "    <tr>\n",
        "      <th>48</th>\n",
        "      <td> chain</td>\n",
        "      <td> 4900</td>\n",
        "      <td> chr1</td>\n",
        "      <td> 248956422</td>\n",
        "      <td> .</td>\n",
        "      <td> 3199282</td>\n",
        "      <td> 3321388</td>\n",
        "      <td> chr1</td>\n",
        "      <td> 248889457</td>\n",
        "      <td> .</td>\n",
        "      <td> 3199277</td>\n",
        "      <td> 3321383</td>\n",
        "    </tr>\n",
        "    <tr>\n",
        "      <th>49</th>\n",
        "      <td> chain</td>\n",
        "      <td> 4900</td>\n",
        "      <td> chr1</td>\n",
        "      <td> 248956422</td>\n",
        "      <td> .</td>\n",
        "      <td> 3321389</td>\n",
        "      <td> 3362335</td>\n",
        "      <td> chr1</td>\n",
        "      <td> 248889457</td>\n",
        "      <td> .</td>\n",
        "      <td> 3321386</td>\n",
        "      <td> 3362332</td>\n",
        "    </tr>\n",
        "    <tr>\n",
        "      <th>50</th>\n",
        "      <td> chain</td>\n",
        "      <td> 4900</td>\n",
        "      <td> chr1</td>\n",
        "      <td> 248956422</td>\n",
        "      <td> .</td>\n",
        "      <td> 3362336</td>\n",
        "      <td> 3386594</td>\n",
        "      <td> chr1</td>\n",
        "      <td> 248889457</td>\n",
        "      <td> .</td>\n",
        "      <td> 3362334</td>\n",
        "      <td> 3386592</td>\n",
        "    </tr>\n",
        "    <tr>\n",
        "      <th>51</th>\n",
        "      <td> chain</td>\n",
        "      <td> 4900</td>\n",
        "      <td> chr1</td>\n",
        "      <td> 248956422</td>\n",
        "      <td> .</td>\n",
        "      <td> 3386596</td>\n",
        "      <td> 3408855</td>\n",
        "      <td> chr1</td>\n",
        "      <td> 248889457</td>\n",
        "      <td> .</td>\n",
        "      <td> 3386593</td>\n",
        "      <td> 3408852</td>\n",
        "    </tr>\n",
        "    <tr>\n",
        "      <th>52</th>\n",
        "      <td> chain</td>\n",
        "      <td> 4900</td>\n",
        "      <td> chr1</td>\n",
        "      <td> 248956422</td>\n",
        "      <td> .</td>\n",
        "      <td> 3408856</td>\n",
        "      <td> 3420749</td>\n",
        "      <td> chr1</td>\n",
        "      <td> 248889457</td>\n",
        "      <td> .</td>\n",
        "      <td> 3408855</td>\n",
        "      <td> 3420748</td>\n",
        "    </tr>\n",
        "    <tr>\n",
        "      <th>53</th>\n",
        "      <td> chain</td>\n",
        "      <td> 4900</td>\n",
        "      <td> chr1</td>\n",
        "      <td> 248956422</td>\n",
        "      <td> .</td>\n",
        "      <td> 3420751</td>\n",
        "      <td> 3436199</td>\n",
        "      <td> chr1</td>\n",
        "      <td> 248889457</td>\n",
        "      <td> .</td>\n",
        "      <td> 3420749</td>\n",
        "      <td> 3436197</td>\n",
        "    </tr>\n",
        "    <tr>\n",
        "      <th>54</th>\n",
        "      <td> chain</td>\n",
        "      <td> 4900</td>\n",
        "      <td> chr1</td>\n",
        "      <td> 248956422</td>\n",
        "      <td> .</td>\n",
        "      <td> 3436201</td>\n",
        "      <td> 3441705</td>\n",
        "      <td> chr1</td>\n",
        "      <td> 248889457</td>\n",
        "      <td> .</td>\n",
        "      <td> 3436198</td>\n",
        "      <td> 3441702</td>\n",
        "    </tr>\n",
        "    <tr>\n",
        "      <th>55</th>\n",
        "      <td> chain</td>\n",
        "      <td> 4900</td>\n",
        "      <td> chr1</td>\n",
        "      <td> 248956422</td>\n",
        "      <td> .</td>\n",
        "      <td> 3441706</td>\n",
        "      <td> 3578716</td>\n",
        "      <td> chr1</td>\n",
        "      <td> 248889457</td>\n",
        "      <td> .</td>\n",
        "      <td> 3441704</td>\n",
        "      <td> 3578714</td>\n",
        "    </tr>\n",
        "    <tr>\n",
        "      <th>56</th>\n",
        "      <td> chain</td>\n",
        "      <td> 4900</td>\n",
        "      <td> chr1</td>\n",
        "      <td> 248956422</td>\n",
        "      <td> .</td>\n",
        "      <td> 3578720</td>\n",
        "      <td> 3590396</td>\n",
        "      <td> chr1</td>\n",
        "      <td> 248889457</td>\n",
        "      <td> .</td>\n",
        "      <td> 3578715</td>\n",
        "      <td> 3590391</td>\n",
        "    </tr>\n",
        "    <tr>\n",
        "      <th>57</th>\n",
        "      <td> chain</td>\n",
        "      <td> 4900</td>\n",
        "      <td> chr1</td>\n",
        "      <td> 248956422</td>\n",
        "      <td> .</td>\n",
        "      <td> 3590398</td>\n",
        "      <td> 3598504</td>\n",
        "      <td> chr1</td>\n",
        "      <td> 248889457</td>\n",
        "      <td> .</td>\n",
        "      <td> 3590392</td>\n",
        "      <td> 3598498</td>\n",
        "    </tr>\n",
        "    <tr>\n",
        "      <th>58</th>\n",
        "      <td> chain</td>\n",
        "      <td> 4900</td>\n",
        "      <td> chr1</td>\n",
        "      <td> 248956422</td>\n",
        "      <td> .</td>\n",
        "      <td> 3598505</td>\n",
        "      <td> 3619599</td>\n",
        "      <td> chr1</td>\n",
        "      <td> 248889457</td>\n",
        "      <td> .</td>\n",
        "      <td> 3598500</td>\n",
        "      <td> 3619594</td>\n",
        "    </tr>\n",
        "    <tr>\n",
        "      <th>59</th>\n",
        "      <td> chain</td>\n",
        "      <td> 4900</td>\n",
        "      <td> chr1</td>\n",
        "      <td> 248956422</td>\n",
        "      <td> .</td>\n",
        "      <td> 3619632</td>\n",
        "      <td> 3784585</td>\n",
        "      <td> chr1</td>\n",
        "      <td> 248889457</td>\n",
        "      <td> .</td>\n",
        "      <td> 3619595</td>\n",
        "      <td> 3784548</td>\n",
        "    </tr>\n",
        "    <tr>\n",
        "      <th></th>\n",
        "      <td>...</td>\n",
        "      <td>...</td>\n",
        "      <td>...</td>\n",
        "      <td>...</td>\n",
        "      <td>...</td>\n",
        "      <td>...</td>\n",
        "      <td>...</td>\n",
        "      <td>...</td>\n",
        "      <td>...</td>\n",
        "      <td>...</td>\n",
        "      <td>...</td>\n",
        "      <td>...</td>\n",
        "    </tr>\n",
        "  </tbody>\n",
        "</table>\n",
        "<p>8195 rows \u00d7 12 columns</p>\n",
        "</div>"
       ],
       "metadata": {},
       "output_type": "pyout",
       "prompt_number": 19,
       "text": [
        "       0     1     2          3  4        5        6     7          8  9        10       11\n",
        "0   chain  4900  chr1  248956422  .        1   788418  chr1  248889457  .        1   788418\n",
        "1   chain  4900  chr1  248956422  .   788421   883741  chr1  248889457  .   788419   883739\n",
        "2   chain  4900  chr1  248956422  .   883742   897792  chr1  248889457  .   883742   897792\n",
        "3   chain  4900  chr1  248956422  .   897793   907236  chr1  248889457  .   897797   907240\n",
        "4   chain  4900  chr1  248956422  .   907238   911220  chr1  248889457  .   907241   911223\n",
        "5   chain  4900  chr1  248956422  .   911222   950799  chr1  248889457  .   911224   950801\n",
        "6   chain  4900  chr1  248956422  .   950801   950802  chr1  248889457  .   950802   950803\n",
        "7   chain  4900  chr1  248956422  .   950804   990171  chr1  248889457  .   950804   990171\n",
        "8   chain  4900  chr1  248956422  .   990173  1010481  chr1  248889457  .   990172  1010480\n",
        "9   chain  4900  chr1  248956422  .  1010486  1193398  chr1  248889457  .  1010481  1193393\n",
        "10  chain  4900  chr1  248956422  .  1193399  1258206  chr1  248889457  .  1193397  1258204\n",
        "11  chain  4900  chr1  248956422  .  1258208  1278407  chr1  248889457  .  1258205  1278404\n",
        "12  chain  4900  chr1  248956422  .  1278408  1379083  chr1  248889457  .  1278406  1379081\n",
        "13  chain  4900  chr1  248956422  .  1379085  1383798  chr1  248889457  .  1379082  1383795\n",
        "14  chain  4900  chr1  248956422  .  1383800  1412488  chr1  248889457  .  1383796  1412484\n",
        "15  chain  4900  chr1  248956422  .  1412489  1474201  chr1  248889457  .  1412487  1474199\n",
        "16  chain  4900  chr1  248956422  .  1474203  1551557  chr1  248889457  .  1474200  1551554\n",
        "17  chain  4900  chr1  248956422  .  1551558  1557495  chr1  248889457  .  1551556  1557493\n",
        "18  chain  4900  chr1  248956422  .  1557498  1558726  chr1  248889457  .  1557494  1558722\n",
        "19  chain  4900  chr1  248956422  .  1558727  1562261  chr1  248889457  .  1558724  1562258\n",
        "20  chain  4900  chr1  248956422  .  1562266  1571794  chr1  248889457  .  1562259  1571787\n",
        "21  chain  4900  chr1  248956422  .  1571795  1574032  chr1  248889457  .  1571789  1574026\n",
        "22  chain  4900  chr1  248956422  .  1574036  1615015  chr1  248889457  .  1574027  1615006\n",
        "23  chain  4900  chr1  248956422  .  1615017  1624323  chr1  248889457  .  1615007  1624313\n",
        "24  chain  4900  chr1  248956422  .  1624325  1721893  chr1  248889457  .  1624314  1721882\n",
        "25  chain  4900  chr1  248956422  .  1721895  1880926  chr1  248889457  .  1721883  1880914\n",
        "26  chain  4900  chr1  248956422  .  1880928  1949564  chr1  248889457  .  1880915  1949551\n",
        "27  chain  4900  chr1  248956422  .  1949565  1987547  chr1  248889457  .  1949553  1987535\n",
        "28  chain  4900  chr1  248956422  .  1987548  1995500  chr1  248889457  .  1987537  1995489\n",
        "29  chain  4900  chr1  248956422  .  1995502  2072553  chr1  248889457  .  1995490  2072541\n",
        "30  chain  4900  chr1  248956422  .  2072555  2089232  chr1  248889457  .  2072542  2089219\n",
        "31  chain  4900  chr1  248956422  .  2089233  2119063  chr1  248889457  .  2089221  2119051\n",
        "32  chain  4900  chr1  248956422  .  2119064  2235168  chr1  248889457  .  2119053  2235157\n",
        "33  chain  4900  chr1  248956422  .  2235169  2264013  chr1  248889457  .  2235159  2264003\n",
        "34  chain  4900  chr1  248956422  .  2264015  2291705  chr1  248889457  .  2264004  2291694\n",
        "35  chain  4900  chr1  248956422  .  2291707  2316943  chr1  248889457  .  2291695  2316931\n",
        "36  chain  4900  chr1  248956422  .  2316944  2361332  chr1  248889457  .  2316933  2361321\n",
        "37  chain  4900  chr1  248956422  .  2361333  2439244  chr1  248889457  .  2361323  2439234\n",
        "38  chain  4900  chr1  248956422  .  2439246  2461871  chr1  248889457  .  2439235  2461860\n",
        "39  chain  4900  chr1  248956422  .  2461872  2539242  chr1  248889457  .  2461862  2539232\n",
        "40  chain  4900  chr1  248956422  .  2539243  2548807  chr1  248889457  .  2539236  2548800\n",
        "41  chain  4900  chr1  248956422  .  2548809  2582213  chr1  248889457  .  2548801  2582205\n",
        "42  chain  4900  chr1  248956422  .  2582218  2782508  chr1  248889457  .  2582206  2782496\n",
        "43  chain  4900  chr1  248956422  .  2782509  2848735  chr1  248889457  .  2782499  2848725\n",
        "44  chain  4900  chr1  248956422  .  2848736  2900016  chr1  248889457  .  2848727  2900007\n",
        "45  chain  4900  chr1  248956422  .  2900017  3092124  chr1  248889457  .  2900009  3092116\n",
        "46  chain  4900  chr1  248956422  .  3092125  3129181  chr1  248889457  .  3092119  3129175\n",
        "47  chain  4900  chr1  248956422  .  3129182  3199280  chr1  248889457  .  3129178  3199276\n",
        "48  chain  4900  chr1  248956422  .  3199282  3321388  chr1  248889457  .  3199277  3321383\n",
        "49  chain  4900  chr1  248956422  .  3321389  3362335  chr1  248889457  .  3321386  3362332\n",
        "50  chain  4900  chr1  248956422  .  3362336  3386594  chr1  248889457  .  3362334  3386592\n",
        "51  chain  4900  chr1  248956422  .  3386596  3408855  chr1  248889457  .  3386593  3408852\n",
        "52  chain  4900  chr1  248956422  .  3408856  3420749  chr1  248889457  .  3408855  3420748\n",
        "53  chain  4900  chr1  248956422  .  3420751  3436199  chr1  248889457  .  3420749  3436197\n",
        "54  chain  4900  chr1  248956422  .  3436201  3441705  chr1  248889457  .  3436198  3441702\n",
        "55  chain  4900  chr1  248956422  .  3441706  3578716  chr1  248889457  .  3441704  3578714\n",
        "56  chain  4900  chr1  248956422  .  3578720  3590396  chr1  248889457  .  3578715  3590391\n",
        "57  chain  4900  chr1  248956422  .  3590398  3598504  chr1  248889457  .  3590392  3598498\n",
        "58  chain  4900  chr1  248956422  .  3598505  3619599  chr1  248889457  .  3598500  3619594\n",
        "59  chain  4900  chr1  248956422  .  3619632  3784585  chr1  248889457  .  3619595  3784548\n",
        "      ...   ...   ...        ... ..      ...      ...   ...        ... ..      ...      ...\n",
        "\n",
        "[8195 rows x 12 columns]"
       ]
      }
     ],
     "prompt_number": 19
    },
    {
     "cell_type": "code",
     "collapsed": false,
     "input": [
      "names = [\"chr1\",\n",
      "        \"chr2\",\n",
      "        \"chr3\",\n",
      "        \"chr4\",\n",
      "        \"chr5\",\n",
      "        \"chr6\",\n",
      "        \"chr7\",\n",
      "        \"chr8\",\n",
      "        \"chr9\",\n",
      "        \"chr10\",\n",
      "        \"chr11\",\n",
      "        \"chr12\",\n",
      "        \"chr13\",\n",
      "        \"chr14\",\n",
      "        \"chr15\",\n",
      "        \"chr16\",\n",
      "        \"chr17\",\n",
      "        \"chr18\",\n",
      "        \"chr19\",\n",
      "        \"chr20\",\n",
      "        \"chr21\",\n",
      "        \"chr22\",\n",
      "        \"chrX\",\n",
      "        \"chrY\", \n",
      "        \"chrM\"]\n",
      "count = 1\n",
      "chgdir = '/data/projects_gibbons/home/neffra/old_analysis/new_ref_seq/'\n",
      "for i in names:\n",
      "    subprocess.check_output('cat ' + chgdir + 'liftover-081314_180344-' + i + ' >> '+chgdir + 'liftover-081314_180344.chain', shell=True)"
     ],
     "language": "python",
     "metadata": {},
     "outputs": [],
     "prompt_number": 19
    },
    {
     "cell_type": "code",
     "collapsed": false,
     "input": [
      "refwalker = ht.FastaReader(\"/data/projects_gibbons/home/neffra/references/hg19.fa\")\n",
      "alt_file = open(\"/data/projects_gibbons/home/neffra/references/hg19_noalt.fa\" ,\"w\")\n",
      "names = [\"chr1\",\n",
      "        \"chr2\",\n",
      "        \"chr3\",\n",
      "        \"chr4\",\n",
      "        \"chr5\",\n",
      "        \"chr6\",\n",
      "        \"chr7\",\n",
      "        \"chr8\",\n",
      "        \"chr9\",\n",
      "        \"chr10\",\n",
      "        \"chr11\",\n",
      "        \"chr12\",\n",
      "        \"chr13\",\n",
      "        \"chr14\",\n",
      "        \"chr15\",\n",
      "        \"chr16\",\n",
      "        \"chr17\",\n",
      "        \"chr18\",\n",
      "        \"chr19\",\n",
      "        \"chr20\",\n",
      "        \"chr21\",\n",
      "        \"chr22\",\n",
      "        \"chrX\",\n",
      "        \"chrY\", \n",
      "        \"chrM\"]\n",
      "allseqs = dict()\n",
      "for seq in refwalker:\n",
      "    print seq.name\n",
      "    if seq.name in names:\n",
      "        allseqs[seq.name] = seq\n",
      "        \n",
      "for seq in names:\n",
      "    allseqs[seq].write_to_fasta_file(alt_file)\n",
      "\n",
      "alt_file.close()"
     ],
     "language": "python",
     "metadata": {},
     "outputs": [
      {
       "output_type": "stream",
       "stream": "stdout",
       "text": [
        "chr1\n",
        "chr2"
       ]
      },
      {
       "output_type": "stream",
       "stream": "stdout",
       "text": [
        "\n",
        "chr3"
       ]
      },
      {
       "output_type": "stream",
       "stream": "stdout",
       "text": [
        "\n",
        "chr4"
       ]
      },
      {
       "output_type": "stream",
       "stream": "stdout",
       "text": [
        "\n",
        "chr5"
       ]
      },
      {
       "output_type": "stream",
       "stream": "stdout",
       "text": [
        "\n",
        "chr6"
       ]
      },
      {
       "output_type": "stream",
       "stream": "stdout",
       "text": [
        "\n",
        "chr7"
       ]
      },
      {
       "output_type": "stream",
       "stream": "stdout",
       "text": [
        "\n",
        "chrX"
       ]
      },
      {
       "output_type": "stream",
       "stream": "stdout",
       "text": [
        "\n",
        "chr8"
       ]
      },
      {
       "output_type": "stream",
       "stream": "stdout",
       "text": [
        "\n",
        "chr9"
       ]
      },
      {
       "output_type": "stream",
       "stream": "stdout",
       "text": [
        "\n",
        "chr10"
       ]
      },
      {
       "output_type": "stream",
       "stream": "stdout",
       "text": [
        "\n",
        "chr11"
       ]
      },
      {
       "output_type": "stream",
       "stream": "stdout",
       "text": [
        "\n",
        "chr12"
       ]
      },
      {
       "output_type": "stream",
       "stream": "stdout",
       "text": [
        "\n",
        "chr13"
       ]
      },
      {
       "output_type": "stream",
       "stream": "stdout",
       "text": [
        "\n",
        "chr14"
       ]
      },
      {
       "output_type": "stream",
       "stream": "stdout",
       "text": [
        "\n",
        "chr15"
       ]
      },
      {
       "output_type": "stream",
       "stream": "stdout",
       "text": [
        "\n",
        "chr16"
       ]
      },
      {
       "output_type": "stream",
       "stream": "stdout",
       "text": [
        "\n",
        "chr17"
       ]
      },
      {
       "output_type": "stream",
       "stream": "stdout",
       "text": [
        "\n",
        "chr18"
       ]
      },
      {
       "output_type": "stream",
       "stream": "stdout",
       "text": [
        "\n",
        "chr20"
       ]
      },
      {
       "output_type": "stream",
       "stream": "stdout",
       "text": [
        "\n",
        "chrY"
       ]
      },
      {
       "output_type": "stream",
       "stream": "stdout",
       "text": [
        "\n",
        "chr19"
       ]
      },
      {
       "output_type": "stream",
       "stream": "stdout",
       "text": [
        "\n",
        "chr22"
       ]
      },
      {
       "output_type": "stream",
       "stream": "stdout",
       "text": [
        "\n",
        "chr21"
       ]
      },
      {
       "output_type": "stream",
       "stream": "stdout",
       "text": [
        "\n",
        "chr6_ssto_hap7"
       ]
      },
      {
       "output_type": "stream",
       "stream": "stdout",
       "text": [
        "\n",
        "chr6_mcf_hap5"
       ]
      },
      {
       "output_type": "stream",
       "stream": "stdout",
       "text": [
        "\n",
        "chr6_cox_hap2"
       ]
      },
      {
       "output_type": "stream",
       "stream": "stdout",
       "text": [
        "\n",
        "chr6_mann_hap4"
       ]
      },
      {
       "output_type": "stream",
       "stream": "stdout",
       "text": [
        "\n",
        "chr6_apd_hap1"
       ]
      },
      {
       "output_type": "stream",
       "stream": "stdout",
       "text": [
        "\n",
        "chr6_qbl_hap6"
       ]
      },
      {
       "output_type": "stream",
       "stream": "stdout",
       "text": [
        "\n",
        "chr6_dbb_hap3"
       ]
      },
      {
       "output_type": "stream",
       "stream": "stdout",
       "text": [
        "\n",
        "chr17_ctg5_hap1\n",
        "chr4_ctg9_hap1\n",
        "chr1_gl000192_random"
       ]
      },
      {
       "output_type": "stream",
       "stream": "stdout",
       "text": [
        "\n",
        "chrUn_gl000225\n",
        "chr4_gl000194_random\n",
        "chr4_gl000193_random\n",
        "chr9_gl000200_random\n",
        "chrUn_gl000222\n",
        "chrUn_gl000212\n",
        "chr7_gl000195_random\n",
        "chrUn_gl000223\n",
        "chrUn_gl000224\n",
        "chrUn_gl000219\n",
        "chr17_gl000205_random\n",
        "chrUn_gl000215\n",
        "chrUn_gl000216\n",
        "chrUn_gl000217"
       ]
      },
      {
       "output_type": "stream",
       "stream": "stdout",
       "text": [
        "\n",
        "chr9_gl000199_random\n",
        "chrUn_gl000211\n",
        "chrUn_gl000213\n",
        "chrUn_gl000220\n",
        "chrUn_gl000218\n",
        "chr19_gl000209_random\n",
        "chrUn_gl000221\n",
        "chrUn_gl000214\n",
        "chrUn_gl000228\n",
        "chrUn_gl000227\n",
        "chr1_gl000191_random\n",
        "chr19_gl000208_random\n",
        "chr9_gl000198_random\n",
        "chr17_gl000204_random\n",
        "chrUn_gl000233\n",
        "chrUn_gl000237\n",
        "chrUn_gl000230\n",
        "chrUn_gl000242\n",
        "chrUn_gl000243\n",
        "chrUn_gl000241\n",
        "chrUn_gl000236\n",
        "chrUn_gl000240\n",
        "chr17_gl000206_random\n",
        "chrUn_gl000232\n",
        "chrUn_gl000234\n",
        "chr11_gl000202_random\n",
        "chrUn_gl000238\n",
        "chrUn_gl000244"
       ]
      },
      {
       "output_type": "stream",
       "stream": "stdout",
       "text": [
        "\n",
        "chrUn_gl000248\n",
        "chr8_gl000196_random\n",
        "chrUn_gl000249\n",
        "chrUn_gl000246\n",
        "chr17_gl000203_random\n",
        "chr8_gl000197_random\n",
        "chrUn_gl000245\n",
        "chrUn_gl000247\n",
        "chr9_gl000201_random\n",
        "chrUn_gl000235\n",
        "chrUn_gl000239\n",
        "chr21_gl000210_random\n",
        "chrUn_gl000231\n",
        "chrUn_gl000229\n",
        "chrM\n",
        "chrUn_gl000226\n",
        "chr18_gl000207_random\n"
       ]
      }
     ],
     "prompt_number": 24
    },
    {
     "cell_type": "code",
     "collapsed": false,
     "input": [
      "for i in names: \n",
      "    sys.stdout.write(\"alt_sequence-071114_192603-\" + i + \" \")"
     ],
     "language": "python",
     "metadata": {},
     "outputs": [
      {
       "output_type": "stream",
       "stream": "stdout",
       "text": [
        "alt_sequence-071114_192603-chr1 alt_sequence-071114_192603-chr2 alt_sequence-071114_192603-chr3 alt_sequence-071114_192603-chr4 alt_sequence-071114_192603-chr5 alt_sequence-071114_192603-chr6 alt_sequence-071114_192603-chr7 alt_sequence-071114_192603-chr8 alt_sequence-071114_192603-chr9 alt_sequence-071114_192603-chr10 alt_sequence-071114_192603-chr11 alt_sequence-071114_192603-chr12 alt_sequence-071114_192603-chr13 alt_sequence-071114_192603-chr14 alt_sequence-071114_192603-chr15 alt_sequence-071114_192603-chr16 alt_sequence-071114_192603-chr17 alt_sequence-071114_192603-chr18 alt_sequence-071114_192603-chr19 alt_sequence-071114_192603-chr20 alt_sequence-071114_192603-chr21 alt_sequence-071114_192603-chr22 alt_sequence-071114_192603-chrX alt_sequence-071114_192603-chrY "
       ]
      }
     ],
     "prompt_number": 10
    },
    {
     "cell_type": "code",
     "collapsed": false,
     "input": [
      "pid_array[23].result"
     ],
     "language": "python",
     "metadata": {},
     "outputs": [
      {
       "metadata": {},
       "output_type": "pyout",
       "prompt_number": 38,
       "text": [
        "('chrY', 57224573)"
       ]
      }
     ],
     "prompt_number": 38
    },
    {
     "cell_type": "code",
     "collapsed": false,
     "input": [
      "import time\n",
      "while(all([pid.ready() for pid in pid_array]) == False):\n",
      "    sys.stdout.flush()\n",
      "    time.sleep(5)\n",
      "subprocess.check_output('cd /data/projects_gibbons/home/neffra/nodel_AFRGh38/ && /data/projects_gibbons/home/neffra/nodel_AFRGh38/assemble_parts.sh 091014_113419 AFRGh38_nodel', shell=True)"
     ],
     "language": "python",
     "metadata": {},
     "outputs": [
      {
       "metadata": {},
       "output_type": "pyout",
       "prompt_number": 10,
       "text": [
        "'Alt sequence preparation steps complete.\\n'"
       ]
      }
     ],
     "prompt_number": 10
    },
    {
     "cell_type": "code",
     "collapsed": false,
     "input": [
      "for s in pid_array:\n",
      "    (chr_name, sequence, liftover_info, new_chr_size) = s\n",
      "    sys.stderr.write(\"Got \" + str(chr_name) +\". \\n\")\n",
      "    sys.stderr.flush()\n",
      "    \n",
      "    seq_string = ht.Sequence(''.join(seq_string), name=chr_name)\n",
      "    sys.stderr.write(\"Copied \" + str(chr_name) +\" to HTSeq. \\n\")\n",
      "    sys.stderr.flush()\n",
      "    \n",
      "    seq_string.write_to_fasta_file(alt_file)\n",
      "    sys.stderr.write(\"Wrote \" + str(chr_name) +\" to file. \\n\")\n",
      "    for line in liftover_info:\n",
      "        line['chain'][7] = new_chr_size\n",
      "        liftstr = '\\t'.join(['chain', '\\t'.join(str(e) for e in line['chain'])]) + \"\\n\"\n",
      "        lift_file.write(liftstr)\n",
      "    sys.stderr.flush()\n",
      "alt_file.close()\t\n",
      "lift_file.close()"
     ],
     "language": "python",
     "metadata": {},
     "outputs": []
    },
    {
     "cell_type": "code",
     "collapsed": false,
     "input": [
      "print len(['ATG'][0])\n",
      "print len('A')"
     ],
     "language": "python",
     "metadata": {},
     "outputs": [
      {
       "output_type": "stream",
       "stream": "stdout",
       "text": [
        "3\n",
        "1\n"
       ]
      }
     ],
     "prompt_number": 16
    },
    {
     "cell_type": "code",
     "collapsed": false,
     "input": [
      "values = [('chr','slahjjlkjs',[['ksjaklsalkj','sakljalkjaslakj'],['ksjaklsalkj','sakljalkjaslakj']],21323123),('chr','slahjjlkjs',[['ksjaklsalkj','sakljalkjaslakj'],['ksjaklsalkj','sakljalkjaslakj']],21323123)]\n",
      "for value in values:\n",
      "    (chr_name, seq, lift, num) = value"
     ],
     "language": "python",
     "metadata": {},
     "outputs": [],
     "prompt_number": 2
    },
    {
     "cell_type": "code",
     "collapsed": false,
     "input": [
      "'\\t'.join(['chain', '\\t'.join(str(e) for e in liftover_info[2]['chain'][7:8])])"
     ],
     "language": "python",
     "metadata": {},
     "outputs": [
      {
       "metadata": {},
       "output_type": "pyout",
       "prompt_number": 35,
       "text": [
        "'chain\\t243199373'"
       ]
      }
     ],
     "prompt_number": 35
    },
    {
     "cell_type": "code",
     "collapsed": false,
     "input": [
      "refwalker = ht.FastaReader(\"/data/projects_gibbons/home/neffra/references/hg38.fa\")\n",
      "for seq in refwalker:\n",
      "    if \"_\" in seq.name:\n",
      "        continue\n",
      "    string = str(s.seq)\n",
      "    interval_s = 0\n",
      "    interval_e = 0\n",
      "    for i in string:\n",
      "        if i.islower():\n",
      "            "
     ],
     "language": "python",
     "metadata": {},
     "outputs": [
      {
       "output_type": "stream",
       "stream": "stdout",
       "text": [
        "chr1\n",
        "248956422\n",
        "chr2"
       ]
      },
      {
       "output_type": "stream",
       "stream": "stdout",
       "text": [
        "\n",
        "242193529\n",
        "chr3"
       ]
      },
      {
       "output_type": "stream",
       "stream": "stdout",
       "text": [
        "\n",
        "198295559\n",
        "chr4"
       ]
      },
      {
       "output_type": "stream",
       "stream": "stdout",
       "text": [
        "\n",
        "190214555\n",
        "chr5"
       ]
      },
      {
       "output_type": "stream",
       "stream": "stdout",
       "text": [
        "\n",
        "181538259\n",
        "chr6"
       ]
      },
      {
       "output_type": "stream",
       "stream": "stdout",
       "text": [
        "\n",
        "170805979\n",
        "chr7"
       ]
      },
      {
       "output_type": "stream",
       "stream": "stdout",
       "text": [
        "\n",
        "159345973\n",
        "chr8"
       ]
      },
      {
       "output_type": "stream",
       "stream": "stdout",
       "text": [
        "\n",
        "145138636\n",
        "chr9"
       ]
      },
      {
       "output_type": "stream",
       "stream": "stdout",
       "text": [
        "\n",
        "138394717\n",
        "chr10"
       ]
      },
      {
       "output_type": "stream",
       "stream": "stdout",
       "text": [
        "\n",
        "133797422\n",
        "chr11"
       ]
      },
      {
       "ename": "KeyboardInterrupt",
       "evalue": "",
       "output_type": "pyerr",
       "traceback": [
        "\u001b[1;31m---------------------------------------------------------------------------\u001b[0m\n\u001b[1;31mKeyboardInterrupt\u001b[0m                         Traceback (most recent call last)",
        "\u001b[1;32m<ipython-input-4-27b7439ea183>\u001b[0m in \u001b[0;36m<module>\u001b[1;34m()\u001b[0m\n\u001b[0;32m      1\u001b[0m \u001b[0mrefwalker\u001b[0m \u001b[1;33m=\u001b[0m \u001b[0mht\u001b[0m\u001b[1;33m.\u001b[0m\u001b[0mFastaReader\u001b[0m\u001b[1;33m(\u001b[0m\u001b[1;34m\"/data/projects_gibbons/home/neffra/references/GRCh38_noalt.fa\"\u001b[0m\u001b[1;33m)\u001b[0m\u001b[1;33m\u001b[0m\u001b[0m\n\u001b[1;32m----> 2\u001b[1;33m \u001b[1;32mfor\u001b[0m \u001b[0mseq\u001b[0m \u001b[1;32min\u001b[0m \u001b[0mrefwalker\u001b[0m\u001b[1;33m:\u001b[0m\u001b[1;33m\u001b[0m\u001b[0m\n\u001b[0m\u001b[0;32m      3\u001b[0m     \u001b[1;32mprint\u001b[0m \u001b[0mseq\u001b[0m\u001b[1;33m.\u001b[0m\u001b[0mname\u001b[0m\u001b[1;33m\u001b[0m\u001b[0m\n\u001b[0;32m      4\u001b[0m     \u001b[1;32mprint\u001b[0m \u001b[0mlen\u001b[0m\u001b[1;33m(\u001b[0m\u001b[0mseq\u001b[0m\u001b[1;33m)\u001b[0m\u001b[1;33m\u001b[0m\u001b[0m\n",
        "\u001b[1;32m/data/projects_gibbons/home/neffra/anaconda2/lib/python2.7/site-packages/HTSeq/__init__.pyc\u001b[0m in \u001b[0;36m__iter__\u001b[1;34m(self)\u001b[0m\n\u001b[0;32m    293\u001b[0m          \u001b[1;32melse\u001b[0m\u001b[1;33m:\u001b[0m\u001b[1;33m\u001b[0m\u001b[0m\n\u001b[0;32m    294\u001b[0m             \u001b[1;32massert\u001b[0m \u001b[0mseq\u001b[0m \u001b[1;32mis\u001b[0m \u001b[1;32mnot\u001b[0m \u001b[0mNone\u001b[0m\u001b[1;33m,\u001b[0m \u001b[1;34m\"FASTA file does not start with '>'.\"\u001b[0m\u001b[1;33m\u001b[0m\u001b[0m\n\u001b[1;32m--> 295\u001b[1;33m             \u001b[0mseq\u001b[0m \u001b[1;33m+=\u001b[0m \u001b[0mline\u001b[0m\u001b[1;33m[\u001b[0m\u001b[1;33m:\u001b[0m\u001b[1;33m-\u001b[0m\u001b[1;36m1\u001b[0m\u001b[1;33m]\u001b[0m\u001b[1;33m\u001b[0m\u001b[0m\n\u001b[0m\u001b[0;32m    296\u001b[0m       \u001b[1;32mif\u001b[0m \u001b[0mseq\u001b[0m \u001b[1;32mis\u001b[0m \u001b[1;32mnot\u001b[0m \u001b[0mNone\u001b[0m\u001b[1;33m:\u001b[0m\u001b[1;33m\u001b[0m\u001b[0m\n\u001b[0;32m    297\u001b[0m          \u001b[0ms\u001b[0m \u001b[1;33m=\u001b[0m \u001b[0mSequence\u001b[0m\u001b[1;33m(\u001b[0m \u001b[0mseq\u001b[0m\u001b[1;33m,\u001b[0m \u001b[0mname\u001b[0m \u001b[1;33m)\u001b[0m\u001b[1;33m\u001b[0m\u001b[0m\n",
        "\u001b[1;31mKeyboardInterrupt\u001b[0m: "
       ]
      },
      {
       "output_type": "stream",
       "stream": "stdout",
       "text": [
        "\n",
        "135086622\n"
       ]
      }
     ],
     "prompt_number": 4
    },
    {
     "cell_type": "code",
     "collapsed": false,
     "input": [
      "refwalker = ht.FastaReader(\"/data/projects_gibbons/home/neffra/references/hg38.fa\")\n",
      "for seq in refwalker:\n",
      "    print seq.name\n",
      "    print len(seq)"
     ],
     "language": "python",
     "metadata": {},
     "outputs": [
      {
       "output_type": "stream",
       "stream": "stdout",
       "text": [
        "chr1\n",
        "248956422\n",
        "chr10"
       ]
      },
      {
       "output_type": "stream",
       "stream": "stdout",
       "text": [
        "\n",
        "133797422\n",
        "chr11"
       ]
      },
      {
       "output_type": "stream",
       "stream": "stdout",
       "text": [
        "\n",
        "135086622\n",
        "chr11_KI270721v1_random\n",
        "100316\n",
        "chr12"
       ]
      },
      {
       "output_type": "stream",
       "stream": "stdout",
       "text": [
        "\n",
        "133275309\n",
        "chr13"
       ]
      },
      {
       "output_type": "stream",
       "stream": "stdout",
       "text": [
        "\n",
        "114364328\n",
        "chr14"
       ]
      },
      {
       "output_type": "stream",
       "stream": "stdout",
       "text": [
        "\n",
        "107043718\n",
        "chr14_GL000009v2_random\n",
        "201709\n",
        "chr14_GL000225v1_random\n",
        "211173\n",
        "chr14_KI270722v1_random\n",
        "194050\n",
        "chr14_GL000194v1_random\n",
        "191469\n",
        "chr14_KI270723v1_random\n",
        "38115\n",
        "chr14_KI270724v1_random\n",
        "39555\n",
        "chr14_KI270725v1_random\n",
        "172810\n",
        "chr14_KI270726v1_random\n",
        "43739\n",
        "chr15"
       ]
      },
      {
       "output_type": "stream",
       "stream": "stdout",
       "text": [
        "\n",
        "101991189\n",
        "chr15_KI270727v1_random\n",
        "448248\n",
        "chr16"
       ]
      },
      {
       "output_type": "stream",
       "stream": "stdout",
       "text": [
        "\n",
        "90338345\n",
        "chr16_KI270728v1_random"
       ]
      },
      {
       "output_type": "stream",
       "stream": "stdout",
       "text": [
        "\n",
        "1872759\n",
        "chr17"
       ]
      },
      {
       "output_type": "stream",
       "stream": "stdout",
       "text": [
        "\n",
        "83257441\n",
        "chr17_GL000205v2_random\n",
        "185591\n",
        "chr17_KI270729v1_random\n",
        "280839\n",
        "chr17_KI270730v1_random\n",
        "112551\n",
        "chr18"
       ]
      },
      {
       "output_type": "stream",
       "stream": "stdout",
       "text": [
        "\n",
        "80373285\n",
        "chr19"
       ]
      },
      {
       "output_type": "stream",
       "stream": "stdout",
       "text": [
        "\n",
        "58617616\n",
        "chr1_KI270706v1_random\n",
        "175055\n",
        "chr1_KI270707v1_random\n",
        "32032\n",
        "chr1_KI270708v1_random\n",
        "127682\n",
        "chr1_KI270709v1_random\n",
        "66860\n",
        "chr1_KI270710v1_random\n",
        "40176\n",
        "chr1_KI270711v1_random\n",
        "42210\n",
        "chr1_KI270712v1_random\n",
        "176043\n",
        "chr1_KI270713v1_random\n",
        "40745\n",
        "chr1_KI270714v1_random\n",
        "41717\n",
        "chr2"
       ]
      },
      {
       "output_type": "stream",
       "stream": "stdout",
       "text": [
        "\n",
        "242193529\n",
        "chr20"
       ]
      },
      {
       "output_type": "stream",
       "stream": "stdout",
       "text": [
        "\n",
        "64444167\n",
        "chr21"
       ]
      },
      {
       "output_type": "stream",
       "stream": "stdout",
       "text": [
        "\n",
        "46709983\n",
        "chr22"
       ]
      },
      {
       "ename": "KeyboardInterrupt",
       "evalue": "",
       "output_type": "pyerr",
       "traceback": [
        "\u001b[1;31m---------------------------------------------------------------------------\u001b[0m\n\u001b[1;31mKeyboardInterrupt\u001b[0m                         Traceback (most recent call last)",
        "\u001b[1;32m<ipython-input-5-22dedd9d2a12>\u001b[0m in \u001b[0;36m<module>\u001b[1;34m()\u001b[0m\n\u001b[0;32m      1\u001b[0m \u001b[0mrefwalker\u001b[0m \u001b[1;33m=\u001b[0m \u001b[0mht\u001b[0m\u001b[1;33m.\u001b[0m\u001b[0mFastaReader\u001b[0m\u001b[1;33m(\u001b[0m\u001b[1;34m\"/data/projects_gibbons/home/neffra/references/hg38.fa\"\u001b[0m\u001b[1;33m)\u001b[0m\u001b[1;33m\u001b[0m\u001b[0m\n\u001b[1;32m----> 2\u001b[1;33m \u001b[1;32mfor\u001b[0m \u001b[0mseq\u001b[0m \u001b[1;32min\u001b[0m \u001b[0mrefwalker\u001b[0m\u001b[1;33m:\u001b[0m\u001b[1;33m\u001b[0m\u001b[0m\n\u001b[0m\u001b[0;32m      3\u001b[0m     \u001b[1;32mprint\u001b[0m \u001b[0mseq\u001b[0m\u001b[1;33m.\u001b[0m\u001b[0mname\u001b[0m\u001b[1;33m\u001b[0m\u001b[0m\n\u001b[0;32m      4\u001b[0m     \u001b[1;32mprint\u001b[0m \u001b[0mlen\u001b[0m\u001b[1;33m(\u001b[0m\u001b[0mseq\u001b[0m\u001b[1;33m)\u001b[0m\u001b[1;33m\u001b[0m\u001b[0m\n",
        "\u001b[1;32m/data/projects_gibbons/home/neffra/anaconda2/lib/python2.7/site-packages/HTSeq/__init__.pyc\u001b[0m in \u001b[0;36m__iter__\u001b[1;34m(self)\u001b[0m\n\u001b[0;32m    282\u001b[0m       \u001b[0mseq\u001b[0m \u001b[1;33m=\u001b[0m \u001b[0mNone\u001b[0m\u001b[1;33m\u001b[0m\u001b[0m\n\u001b[0;32m    283\u001b[0m       \u001b[1;32mfor\u001b[0m \u001b[0mline\u001b[0m \u001b[1;32min\u001b[0m \u001b[0mFileOrSequence\u001b[0m\u001b[1;33m.\u001b[0m\u001b[0m__iter__\u001b[0m\u001b[1;33m(\u001b[0m \u001b[0mself\u001b[0m \u001b[1;33m)\u001b[0m\u001b[1;33m:\u001b[0m\u001b[1;33m\u001b[0m\u001b[0m\n\u001b[1;32m--> 284\u001b[1;33m          \u001b[1;32mif\u001b[0m \u001b[0mline\u001b[0m\u001b[1;33m.\u001b[0m\u001b[0mstartswith\u001b[0m\u001b[1;33m(\u001b[0m \u001b[1;34m\">\"\u001b[0m \u001b[1;33m)\u001b[0m\u001b[1;33m:\u001b[0m\u001b[1;33m\u001b[0m\u001b[0m\n\u001b[0m\u001b[0;32m    285\u001b[0m             \u001b[1;32mif\u001b[0m \u001b[0mseq\u001b[0m\u001b[1;33m:\u001b[0m\u001b[1;33m\u001b[0m\u001b[0m\n\u001b[0;32m    286\u001b[0m                \u001b[0ms\u001b[0m \u001b[1;33m=\u001b[0m \u001b[0mSequence\u001b[0m\u001b[1;33m(\u001b[0m \u001b[0mseq\u001b[0m\u001b[1;33m,\u001b[0m \u001b[0mname\u001b[0m \u001b[1;33m)\u001b[0m\u001b[1;33m\u001b[0m\u001b[0m\n",
        "\u001b[1;31mKeyboardInterrupt\u001b[0m: "
       ]
      },
      {
       "output_type": "stream",
       "stream": "stdout",
       "text": [
        "\n",
        "50818468\n",
        "chr22_KI270731v1_random\n",
        "150754\n",
        "chr22_KI270732v1_random\n",
        "41543\n",
        "chr22_KI270733v1_random\n",
        "179772\n",
        "chr22_KI270734v1_random\n",
        "165050\n",
        "chr22_KI270735v1_random\n",
        "42811\n",
        "chr22_KI270736v1_random\n",
        "181920\n",
        "chr22_KI270737v1_random\n",
        "103838\n",
        "chr22_KI270738v1_random\n",
        "99375\n",
        "chr22_KI270739v1_random\n",
        "73985\n",
        "chr2_KI270715v1_random\n",
        "161471\n",
        "chr2_KI270716v1_random\n",
        "153799\n"
       ]
      }
     ],
     "prompt_number": 5
    }
   ],
   "metadata": {}
  }
 ]
}