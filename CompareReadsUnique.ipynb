{
 "metadata": {
  "name": ""
 },
 "nbformat": 3,
 "nbformat_minor": 0,
 "worksheets": [
  {
   "cells": [
    {
     "cell_type": "code",
     "collapsed": false,
     "input": [
      "# sets up the environment - use everytime\n",
      "%matplotlib inline\n",
      "%run ipy_setup.py\n",
      "rcParams['figure.figsize'] = (30, 10)\n",
      "rcParams['patch.edgecolor'] = 'blue'\n",
      "rcParams['figure.dpi'] = 300\n",
      "rcParams['font.size'] = 14\n",
      "rcParams['font.family'] = 'sans-serif'"
     ],
     "language": "python",
     "metadata": {},
     "outputs": [],
     "prompt_number": 1
    },
    {
     "cell_type": "code",
     "collapsed": false,
     "input": [
      "def weighted_moving_average(x,weights,width=5):\n",
      "    y = np.zeros(len(x))\n",
      "    pbar = ProgressBar(len(x))\n",
      "    for pos in range(0, len(x)):\n",
      "        pbar.animate()\n",
      "        #We're going to weight with values +/- the width\n",
      "        # make sure not to wrap around (which would be bad)\n",
      "        if pos-width < 0:\n",
      "            start = 0\n",
      "        else:\n",
      "            start = pos-width\n",
      "        window = x[start:pos+width] \n",
      "        weights_window = [abs(i) for i in weights[start:pos+width]]\n",
      "        if sum(weights_window) == 0: # can't be normalized\n",
      "            avg = np.mean(window)\n",
      "        else:\n",
      "            avg = np.average(window, weights=weights_window)\n",
      "        y[pos] = avg\n",
      "    return y"
     ],
     "language": "python",
     "metadata": {},
     "outputs": [],
     "prompt_number": 2
    },
    {
     "cell_type": "code",
     "collapsed": true,
     "input": [
      "# sets up the parallel environment - use everytime\n",
      "%run ipy_parallel.py"
     ],
     "language": "python",
     "metadata": {},
     "outputs": [
      {
       "ename": "IOError",
       "evalue": "[Errno 2] No such file or directory: u'/data/projects_gibbons/home/neffra/.ipython/profile_default/security/ipcontroller-client.json'",
       "output_type": "pyerr",
       "traceback": [
        "\u001b[1;31m---------------------------------------------------------------------------\u001b[0m\n\u001b[1;31mIOError\u001b[0m                                   Traceback (most recent call last)",
        "\u001b[1;32m/data/projects_gibbons/home/neffra/anaconda2/lib/python2.7/site-packages/IPython/utils/py3compat.pyc\u001b[0m in \u001b[0;36mexecfile\u001b[1;34m(fname, *where)\u001b[0m\n\u001b[0;32m    202\u001b[0m             \u001b[1;32melse\u001b[0m\u001b[1;33m:\u001b[0m\u001b[1;33m\u001b[0m\u001b[0m\n\u001b[0;32m    203\u001b[0m                 \u001b[0mfilename\u001b[0m \u001b[1;33m=\u001b[0m \u001b[0mfname\u001b[0m\u001b[1;33m\u001b[0m\u001b[0m\n\u001b[1;32m--> 204\u001b[1;33m             \u001b[0m__builtin__\u001b[0m\u001b[1;33m.\u001b[0m\u001b[0mexecfile\u001b[0m\u001b[1;33m(\u001b[0m\u001b[0mfilename\u001b[0m\u001b[1;33m,\u001b[0m \u001b[1;33m*\u001b[0m\u001b[0mwhere\u001b[0m\u001b[1;33m)\u001b[0m\u001b[1;33m\u001b[0m\u001b[0m\n\u001b[0m",
        "\u001b[1;32m/data/projects_gibbons/home/neffra/ipython_notebooks/ipy_parallel.py\u001b[0m in \u001b[0;36m<module>\u001b[1;34m()\u001b[0m\n\u001b[0;32m      5\u001b[0m \u001b[1;32mfrom\u001b[0m \u001b[0mIPython\u001b[0m\u001b[1;33m.\u001b[0m\u001b[0mparallel\u001b[0m \u001b[1;32mimport\u001b[0m \u001b[1;33m*\u001b[0m\u001b[1;33m\u001b[0m\u001b[0m\n\u001b[0;32m      6\u001b[0m \u001b[1;33m\u001b[0m\u001b[0m\n\u001b[1;32m----> 7\u001b[1;33m \u001b[0mclient\u001b[0m \u001b[1;33m=\u001b[0m \u001b[0mClient\u001b[0m\u001b[1;33m(\u001b[0m\u001b[0mprofile\u001b[0m\u001b[1;33m=\u001b[0m\u001b[0mprofile\u001b[0m\u001b[1;33m)\u001b[0m\u001b[1;33m\u001b[0m\u001b[0m\n\u001b[0m\u001b[0;32m      8\u001b[0m \u001b[1;33m\u001b[0m\u001b[0m\n\u001b[0;32m      9\u001b[0m \u001b[0mbalanced\u001b[0m       \u001b[1;33m=\u001b[0m \u001b[0mclient\u001b[0m\u001b[1;33m.\u001b[0m\u001b[0mload_balanced_view\u001b[0m\u001b[1;33m(\u001b[0m\u001b[1;33m)\u001b[0m\u001b[1;33m\u001b[0m\u001b[0m\n",
        "\u001b[1;32m/data/projects_gibbons/home/neffra/anaconda2/lib/python2.7/site-packages/IPython/parallel/client/client.pyc\u001b[0m in \u001b[0;36m__init__\u001b[1;34m(self, url_file, profile, profile_dir, ipython_dir, context, debug, sshserver, sshkey, password, paramiko, timeout, cluster_id, **extra_args)\u001b[0m\n\u001b[0;32m    407\u001b[0m             )\n\u001b[0;32m    408\u001b[0m \u001b[1;33m\u001b[0m\u001b[0m\n\u001b[1;32m--> 409\u001b[1;33m         \u001b[1;32mwith\u001b[0m \u001b[0mopen\u001b[0m\u001b[1;33m(\u001b[0m\u001b[0murl_file\u001b[0m\u001b[1;33m)\u001b[0m \u001b[1;32mas\u001b[0m \u001b[0mf\u001b[0m\u001b[1;33m:\u001b[0m\u001b[1;33m\u001b[0m\u001b[0m\n\u001b[0m\u001b[0;32m    410\u001b[0m             \u001b[0mcfg\u001b[0m \u001b[1;33m=\u001b[0m \u001b[0mjson\u001b[0m\u001b[1;33m.\u001b[0m\u001b[0mload\u001b[0m\u001b[1;33m(\u001b[0m\u001b[0mf\u001b[0m\u001b[1;33m)\u001b[0m\u001b[1;33m\u001b[0m\u001b[0m\n\u001b[0;32m    411\u001b[0m \u001b[1;33m\u001b[0m\u001b[0m\n",
        "\u001b[1;31mIOError\u001b[0m: [Errno 2] No such file or directory: u'/data/projects_gibbons/home/neffra/.ipython/profile_default/security/ipcontroller-client.json'"
       ]
      }
     ],
     "prompt_number": 6
    },
    {
     "cell_type": "code",
     "collapsed": false,
     "input": [
      "acceptable_keys = ['G','C','A','T','N','0']\n",
      "'C' in acceptable_keys"
     ],
     "language": "python",
     "metadata": {},
     "outputs": [
      {
       "metadata": {},
       "output_type": "pyout",
       "prompt_number": 47,
       "text": [
        "True"
       ]
      }
     ],
     "prompt_number": 47
    },
    {
     "cell_type": "code",
     "collapsed": false,
     "input": [
      "def hist_by_chromosome(chrom, pos):\n",
      "    xs = []\n",
      "    split_vals = []\n",
      "    shade_vals =[]\n",
      "    label_pos = []\n",
      "    label_names = []\n",
      "    y1s = []\n",
      "    y2s = []\n",
      "    cs = []\n",
      "    last_x = 0\n",
      "    names=[\"chr1\",\"chr2\",\"chr3\",\"chr4\",\"chr5\",\"chr6\",\"chr7\",\"chr8\",\"chr9\",\"chr10\",\"chr11\",\"chr12\",\"chr13\",\"chr14\",\n",
      "           \"chr15\",\"chr16\",\"chr17\",\"chr18\",\"chr19\",\"chr20\",\"chr21\",\"chr22\",\"chrX\",\"chrY\"]\n",
      "    \n",
      "    xy = pd.DataFrame(zip(chrom, pos), columns=['chrom', 'pos'])\n",
      "    \n",
      "    for name in names:\n",
      "        group = xy[xy['chrom']==name]\n",
      "        xs.extend(group['pos'] + last_x)\n",
      "        \n",
      "        # clean up\n",
      "        final_val = max(group['pos'] + last_x)\n",
      "        split_vals.append(final_val)\n",
      "        label_pos.append((last_x+final_val)/2)\n",
      "        label_names.append(name)\n",
      "        last_x = final_val\n",
      "    return xs, split_vals, label_names, label_pos"
     ],
     "language": "python",
     "metadata": {},
     "outputs": [],
     "prompt_number": 3
    },
    {
     "cell_type": "code",
     "collapsed": false,
     "input": [
      "def do_hist(xs, split_vals, label_names, label_pos, y_label, title, ylim=100, ymin=0):\n",
      "    f = plt.figure()\n",
      "    ax = f.add_axes((0.1, 0.09, 0.88, 0.85))\n",
      "    plt.hist(xs, bins=int(max(xs)/5000000), log=True)\n",
      "    plt.axis('tight')\n",
      "    ax.vlines(split_vals,ymin,ylim,alpha=0.5)\n",
      "    plt.xticks(label_pos, label_names, rotation=-90, size=16)\n",
      "    plt.ylabel(y_label)\n",
      "    plt.ylim([ymin,ylim])\n",
      "    plt.title(title)\n",
      "    plt.show()"
     ],
     "language": "python",
     "metadata": {},
     "outputs": [],
     "prompt_number": 4
    },
    {
     "cell_type": "code",
     "collapsed": false,
     "input": [
      "#let's read in all of the data\n"
     ],
     "language": "python",
     "metadata": {},
     "outputs": []
    }
   ],
   "metadata": {}
  }
 ]
}